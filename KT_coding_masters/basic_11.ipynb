{
 "cells": [
  {
   "cell_type": "markdown",
   "metadata": {},
   "source": [
    "# 림보게임\n",
    "문제설명\n",
    "건혁이는 림보게임을 하려고 합니다. 총 3단계의 높이로 진행되는데 기회는 각각 한번 뿐입니다. 키가 180cm인 건혁이는 모든 것을 잘 하지만 유연성은 좋지 않습니다. 그래서 허리를 최대로 젖혀 걸었을 때의 키가 160cm가 됩니다. N 단계의 높이가 각각 입력되면 진구가 무사히 림보를 통과할 수 있는지 판단하여 모두 통과할 수 있으면 P를 출력하고, 림보에 걸리면 I을 출력한 뒤에 처음으로 부딪힌 림보의 높이를 출력하세요. 단, 림보의 높이와 건혁이의 키가 같으면 통과할 수 없습니다.\n",
    "\n",
    "입출력 예\n",
    "입력 #1\n",
    "\n",
    "5\n",
    "180 170 162 163 190\n",
    "\n",
    "입력 #2\n",
    "\n",
    "3\n",
    "180 100 270\n",
    "\n",
    "입력값 설명\n",
    "\n",
    "첫째 줄에 림보의 개수 N이 입력됩니다. (1 ≤ N ≤ 10) 둘째 줄부터 공백을 기준으로 림보의 높이 A, B, C가 차례대로 입력됩니다. (1 ≤ A, B, C ≤ 300)\n",
    "\n",
    "출력 #1\n",
    "\n",
    "P\n",
    "\n",
    "출력 #2\n",
    "\n",
    "I 100\n",
    "\n",
    "출력값 설명\n",
    "\n",
    "건혁이가 림보를 통과할 수 있는지 여부를 출력합니다. 통과할 수 있다면 P를 출력하고, 통과할 수 없다면 I와 맨 처음으로 실패하는 높이를 공백을 기준으로 구분하여 함께 출력합니다."
   ]
  },
  {
   "cell_type": "code",
   "execution_count": 1,
   "metadata": {},
   "outputs": [
    {
     "name": "stdout",
     "output_type": "stream",
     "text": [
      "P\n"
     ]
    }
   ],
   "source": [
    "# 건혁이가 통과 가능한 높이 : 160 초과 , 즉  160 이하의 높이는 넘을 수 없고  처음 걸린 림보 높이 반환 \n",
    "\n",
    "n = int(input())\n",
    "\n",
    "limbo_list = list(map(int,input().split()))\n",
    "flag = True\n",
    "for l in limbo_list:\n",
    "    if l <=160:\n",
    "        print('I', l)\n",
    "        flag = False\n",
    "        break\n",
    "if flag:\n",
    "    print('P')\n"
   ]
  }
 ],
 "metadata": {
  "kernelspec": {
   "display_name": "base",
   "language": "python",
   "name": "python3"
  },
  "language_info": {
   "codemirror_mode": {
    "name": "ipython",
    "version": 3
   },
   "file_extension": ".py",
   "mimetype": "text/x-python",
   "name": "python",
   "nbconvert_exporter": "python",
   "pygments_lexer": "ipython3",
   "version": "3.12.4"
  }
 },
 "nbformat": 4,
 "nbformat_minor": 2
}
