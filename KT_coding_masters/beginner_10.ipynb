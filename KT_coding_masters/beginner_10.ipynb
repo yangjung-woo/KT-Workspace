{
 "cells": [
  {
   "cell_type": "markdown",
   "metadata": {},
   "source": [
    "# 두더지 게임\n",
    "문제설명\n",
    "월미도 게임랜드에는 두더지 게임 기계가 있습니다. 기계는 8 X 8 칸의 판으로 이루어져 있고, 모양은 이러합니다.\n",
    "\n",
    "0 1 0 1 0 1 0 1\n",
    "1 0 1 0 1 0 1 0\n",
    "0 1 0 1 0 1 0 1\n",
    "1 0 1 0 1 0 1 0\n",
    "0 1 0 1 0 1 0 1\n",
    "1 0 1 0 1 0 1 0\n",
    "0 1 0 1 0 1 0 1\n",
    "1 0 1 0 1 0 1 0\n",
    "\n",
    "두더지는 0에 해당하는 위치에서만 올라올 수 있습니다. 1에 해당하는 칸에서는 두더지가 존재한다 해도 구멍이 막혀있어 올라올 수 없습니다. \n",
    "기계 아래 어느 칸에 두더지가 있는지에 대한 정보가 주어질 때, 두더지가 올라올 수 있는 칸의 개수를 알아내는 프로그램을 작성하세요.\n",
    "\n",
    "입출력 예\n",
    "입력 #1\n",
    "\n",
    "TFFTTFTT\n",
    "FTFTFTTF\n",
    "TTTFTFTT\n",
    "TTTTFFTT\n",
    "TFTTFTFT\n",
    "TTTFFTTF\n",
    "TFTFTFTT\n",
    "TFTFTTFT\n",
    "\n",
    "입력 #2\n",
    "\n",
    "TFFTTFTT\n",
    "FTFTFTTF\n",
    "TTTFFTTF\n",
    "TFTFTFTT\n",
    "TFTFTTFT\n",
    "TTTFFTTF\n",
    "TFFTTFTT\n",
    "FTFTFTTF\n",
    "\n",
    "입력값 설명\n",
    "\n",
    "총 8개의 줄에 걸쳐서 길이가 8이고 알파벳 대문자 T와 F로만 이루어진 문자열이 주어집니다. \n",
    "i번째 줄의 j번째 글자는 i번째 줄 j번째 칸의 기계 아래의 상태를 의미합니다. \n",
    "\n",
    "이 문자가 T라면 기계 아래에 아무것도 없는 칸을 의미하고, F라면 기계 아래에 두더지가 있는 칸임을 의미합니다. \n",
    "\n",
    "출력 #1\n",
    "\n",
    "9\n",
    "\n",
    "출력 #2\n",
    "\n",
    "11\n",
    "\n",
    "출력값 설명\n",
    "\n",
    "두더지가 올라올 수 있는 칸의 개수를 출력합니다."
   ]
  },
  {
   "cell_type": "code",
   "execution_count": 1,
   "metadata": {},
   "outputs": [
    {
     "ename": "TypeError",
     "evalue": "'int' object is not iterable",
     "output_type": "error",
     "traceback": [
      "\u001b[1;31m---------------------------------------------------------------------------\u001b[0m",
      "\u001b[1;31mTypeError\u001b[0m                                 Traceback (most recent call last)",
      "Cell \u001b[1;32mIn[1], line 16\u001b[0m\n\u001b[0;32m     13\u001b[0m \u001b[38;5;28;01mfor\u001b[39;00m i \u001b[38;5;129;01min\u001b[39;00m \u001b[38;5;28mrange\u001b[39m(\u001b[38;5;241m8\u001b[39m):\n\u001b[0;32m     14\u001b[0m     in_map \u001b[38;5;241m=\u001b[39m \u001b[38;5;28mlist\u001b[39m(\u001b[38;5;28minput\u001b[39m())\n\u001b[1;32m---> 16\u001b[0m     \u001b[38;5;28;01mfor\u001b[39;00m j \u001b[38;5;129;01min\u001b[39;00m \u001b[38;5;28mlen\u001b[39m(in_map):\n\u001b[0;32m     17\u001b[0m         \u001b[38;5;28;01mif\u001b[39;00m in_map[j] \u001b[38;5;241m==\u001b[39m\u001b[38;5;124m'\u001b[39m\u001b[38;5;124mF\u001b[39m\u001b[38;5;124m'\u001b[39m \u001b[38;5;129;01mand\u001b[39;00m \u001b[38;5;28mmap\u001b[39m[i][j]\u001b[38;5;241m==\u001b[39m \u001b[38;5;241m0\u001b[39m:\n\u001b[0;32m     18\u001b[0m             cnt\u001b[38;5;241m+\u001b[39m\u001b[38;5;241m=\u001b[39m \u001b[38;5;241m1\u001b[39m\n",
      "\u001b[1;31mTypeError\u001b[0m: 'int' object is not iterable"
     ]
    }
   ],
   "source": [
    "map = [\n",
    "       [0,1,0,1,0,1,0,1],\n",
    "       [1,0,1,0,1,0,1,0],\n",
    "       [0,1,0,1,0,1,0,1],\n",
    "       [1,0,1,0,1,0,1,0],\n",
    "       [0,1,0,1,0,1,0,1],\n",
    "       [1,0,1,0,1,0,1,0],\n",
    "       [0,1,0,1,0,1,0,1],\n",
    "       [1,0,1,0,1,0,1,0],\n",
    "       ]\n",
    "\n",
    "cnt =0 \n",
    "for i in range(8):\n",
    "    in_map = list(input())\n",
    "    \n",
    "    for j in range(len(in_map)):\n",
    "        if in_map[j] =='F' and map[i][j]== 0:\n",
    "            cnt+= 1\n",
    "\n",
    "print(cnt)\n",
    "    "
   ]
  }
 ],
 "metadata": {
  "kernelspec": {
   "display_name": "base",
   "language": "python",
   "name": "python3"
  },
  "language_info": {
   "codemirror_mode": {
    "name": "ipython",
    "version": 3
   },
   "file_extension": ".py",
   "mimetype": "text/x-python",
   "name": "python",
   "nbconvert_exporter": "python",
   "pygments_lexer": "ipython3",
   "version": "3.12.4"
  }
 },
 "nbformat": 4,
 "nbformat_minor": 2
}
