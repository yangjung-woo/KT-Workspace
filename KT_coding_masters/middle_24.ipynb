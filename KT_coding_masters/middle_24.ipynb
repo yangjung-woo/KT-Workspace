{
 "cells": [
  {
   "cell_type": "markdown",
   "metadata": {},
   "source": [
    "# 도어락\n",
    "문제설명\n",
    "재승이의 집은 3행 3열의 버튼이 있는 도어락이 설치되어 있습니다. 재승이는 완벽하며 매사에 최선을 다하기 때문에, 비밀번호를 입력할 때 절대 틀리지 않으며 버튼도 최대한 빠르게 누릅니다. \n",
    "\n",
    "재승이가 버튼을 최대한 빠르게 누를 때, 누르려는 버튼과 방금 누른 버튼의 상대적 위치에 따라 걸리는 시간은 다음과 같습니다.\n",
    "\n",
    "- 같은 버튼인 경우 1 ms\n",
    "- 한 변 또는 모서리를 공유하는 경우 2 ms\n",
    "- 그 밖의 경우 3 ms\n",
    "\n",
    "버튼을 누르면 ‘삑’ 하는 버튼 입력음이 납니다. 착한 친구 승재는 “내 계산 결과 네 비밀번호의 경우의 수는 X가지밖에 안 돼. 더 강력한 비밀번호로 바꾸지 않을래?”라고 조언하려 합니다.\n",
    "\n",
    "승재는 타고난 리듬감으로 재승이가 각 버튼을 누르는데 걸린 시간을 완벽하게 기록했습니다. 하지만 경우의 수를 어떻게 계산해야 할지 몰라 당황하고 있습니다. 승재를 도와주세요.\n",
    "\n",
    "입출력 예\n",
    "입력 #1\n",
    "\n",
    "5\n",
    "1 1 1 1\n",
    "\n",
    "입력 #2\n",
    "\n",
    "2\n",
    "2\n",
    "\n",
    "입력값 설명\n",
    "\n",
    "첫번째 줄에 비밀번호의 길이 N이 주어집니다. (2 ≤ N ≤ 200)\n",
    "\n",
    "두번째 줄에 N-1개의 수가 공백을 구분으로 주어집니다. 앞에서부터 순서대로 2번 버튼을 누르는데 걸린 시간, 3번 버튼을 누르는데 걸린 시간, …, N번 버튼을 누르는데 걸린 시간입니다.\n",
    "\n",
    "출력 #1\n",
    "\n",
    "9\n",
    "\n",
    "출력 #2\n",
    "\n",
    "40\n",
    "\n",
    "출력값 설명\n",
    "\n",
    "재승이의 비밀번호의 경우의 수를 1,000,000,007 으로 나누어 출력합니다."
   ]
  },
  {
   "cell_type": "markdown",
   "metadata": {},
   "source": [
    "# 문제접근: DP\n",
    "- 비밀번호 모든 경우의 수를 구하기 \n",
    "\n",
    "# 5 > 비밀번호 길이 \n",
    "# 1 1 1 1    >   2 3 4 5 > 1 1 1 1초   모두 같은 "
   ]
  },
  {
   "cell_type": "code",
   "execution_count": 4,
   "metadata": {},
   "outputs": [
    {
     "name": "stdout",
     "output_type": "stream",
     "text": [
      "40\n"
     ]
    }
   ],
   "source": [
    "def button_position(num):\n",
    "    # 버튼의 위치를 (행, 열)로 반환\n",
    "    \n",
    "    # ex 9 >> (2,2)\n",
    "    return (num - 1) // 3, (num - 1) % 3\n",
    "\n",
    "def time_to_press(prev, current):\n",
    "    if prev == current:\n",
    "        return 1\n",
    "    px, py = button_position(prev)\n",
    "    cx, cy = button_position(current)\n",
    "    if abs(px - cx) <= 1 and abs(py - cy) <= 1: # 같은 행 ,또는 대각선 안에 있는경우 \n",
    "        return 2\n",
    "    return 3\n",
    "\n",
    "def count_passwords(n, times):\n",
    "    MOD = 1000000007\n",
    "    # dp[i][j]: i번째 버튼을 누를 때 j번 버튼을 누르는 경우의 수\n",
    "    dp = [[0] * 10 for _ in range(n + 1)]\n",
    "    for j in range(1, 10):  # 첫 버튼을 누를 때\n",
    "        dp[1][j] = 1\n",
    "\n",
    "    for i in range(2, n + 1):  # 2번째 버튼부터\n",
    "        time = times[i - 2]\n",
    "        for current in range(1, 10):  # 현재 누르는 버튼\n",
    "            for previous in range(1, 10):  # 이전에 누른 버튼\n",
    "                if time_to_press(previous, current) == time:\n",
    "                    dp[i][current] = (dp[i][current] + dp[i - 1][previous]) % MOD\n",
    "    \n",
    "    # n번째 버튼을 누를 때 가능한 모든 경우의 수를 합산\n",
    "    return sum(dp[n]) % MOD\n",
    "\n",
    "# 입력 처리\n",
    "n = int(input())\n",
    "times = list(map(int, input().split()))\n",
    "\n",
    "# 결과 출력\n",
    "print(count_passwords(n, times))"
   ]
  }
 ],
 "metadata": {
  "kernelspec": {
   "display_name": "base",
   "language": "python",
   "name": "python3"
  },
  "language_info": {
   "codemirror_mode": {
    "name": "ipython",
    "version": 3
   },
   "file_extension": ".py",
   "mimetype": "text/x-python",
   "name": "python",
   "nbconvert_exporter": "python",
   "pygments_lexer": "ipython3",
   "version": "3.12.4"
  }
 },
 "nbformat": 4,
 "nbformat_minor": 2
}
