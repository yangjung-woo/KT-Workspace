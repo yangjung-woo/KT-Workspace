{
 "cells": [
  {
   "cell_type": "markdown",
   "metadata": {},
   "source": [
    "# 우리반 아이큐왕은\n",
    "\n",
    "문제설명\n",
    "신화중학교 3학년 2반 학생들은 며칠 전 IQ검사를 치루었고, 드디어 오늘 결과가 나왔습니다. 학생들은 반에서 IQ가 높은 학생이 누구인지 궁금해졌습니다. 학생들의 이름과 IQ가 입력될 때, IQ가 높은 순서대로 상위 3명의 이름을 출력하는 프로그램을 만드세요. IQ가 같을 경우에는 먼저 입력된 학생의 이름을 출력합니다.\n",
    "\n",
    "입출력 예\n",
    "입력 #1\n",
    "\n",
    "4\n",
    "jung 51\n",
    "dong 160\n",
    "back 120\n",
    "pang 89\n",
    "\n",
    "입력 #2\n",
    "\n",
    "7\n",
    "jang 180\n",
    "nana 125\n",
    "min 125\n",
    "hani 142\n",
    "kwan 170\n",
    "hyun 97\n",
    "jack 86\n",
    "\n",
    "입력값 설명\n",
    "\n",
    "첫째 줄에 3학년 2반의 학생 수가 자연수 N(3 ≤ N ≤ 20)으로 입력됩니다. 둘째 줄부터 N + 1번째 줄까지 각각의 학생의 이름이 알파벳 소문자로 공백없이 주어지고, IQ가 숫자로 주어집니다. 학생의 이름은 10글자 미만의 알파벳으로 구성됩니다. (IQ는 50보다 크거나 같고 200보다 작거나 같은 자연수입니다.)\n",
    "\n",
    "출력 #1\n",
    "\n",
    "dong\n",
    "back\n",
    "pang\n",
    "\n",
    "출력 #2\n",
    "\n",
    "jang\n",
    "kwan\n",
    "hani\n",
    "\n",
    "출력값 설명\n",
    "\n",
    "IQ가 높은 순서대로 상위 3명의 이름을 3줄에 걸쳐 출력합니다. IQ가 같은 경우에는 먼저 입력된 학생의 이름을 먼저 출력합니다."
   ]
  },
  {
   "cell_type": "code",
   "execution_count": 5,
   "metadata": {},
   "outputs": [
    {
     "ename": "ValueError",
     "evalue": "invalid literal for int() with base 10: ''",
     "output_type": "error",
     "traceback": [
      "\u001b[1;31m---------------------------------------------------------------------------\u001b[0m",
      "\u001b[1;31mValueError\u001b[0m                                Traceback (most recent call last)",
      "Cell \u001b[1;32mIn[5], line 1\u001b[0m\n\u001b[1;32m----> 1\u001b[0m n  \u001b[38;5;241m=\u001b[39m \u001b[38;5;28mint\u001b[39m(\u001b[38;5;28minput\u001b[39m())\n\u001b[0;32m      2\u001b[0m \u001b[38;5;66;03m#dic = {}\u001b[39;00m\n\u001b[0;32m      3\u001b[0m l \u001b[38;5;241m=\u001b[39m []\n",
      "\u001b[1;31mValueError\u001b[0m: invalid literal for int() with base 10: ''"
     ]
    }
   ],
   "source": [
    "n  = int(input())\n",
    "#dic = {}\n",
    "l = []\n",
    "for i in range(n):\n",
    "    name , iq = input().split()\n",
    "    l.append((name,int(iq)))\n",
    "    \n",
    "#l = sorted(l , key = lambda x: x[1] , reverse=True) # value 값 기준 정렬  딕셔너리엔 순서가 없음 \n",
    "\n",
    "l.sort( key = lambda x: x[1] , reverse=True )\n",
    "\n",
    "cnt = 0\n",
    "for n , i in l:\n",
    "    if cnt >= 3:\n",
    "        break\n",
    "    print(n)\n",
    "    cnt +=1 \n",
    "    \n",
    "print(l)\n",
    "    \n"
   ]
  }
 ],
 "metadata": {
  "kernelspec": {
   "display_name": "base",
   "language": "python",
   "name": "python3"
  },
  "language_info": {
   "codemirror_mode": {
    "name": "ipython",
    "version": 3
   },
   "file_extension": ".py",
   "mimetype": "text/x-python",
   "name": "python",
   "nbconvert_exporter": "python",
   "pygments_lexer": "ipython3",
   "version": "3.12.4"
  }
 },
 "nbformat": 4,
 "nbformat_minor": 2
}
