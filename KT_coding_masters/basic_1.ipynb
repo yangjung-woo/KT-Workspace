{
 "cells": [
  {
   "cell_type": "markdown",
   "metadata": {},
   "source": [
    "# 문제설명\n",
    "\n",
    "A 회사 총무부서가 분주합니다. 중요한 파일이 모두 들어있는 컴퓨터의 비밀번호를 까먹었기 때문입니다. \n",
    "\n",
    "다행히 책상에는 전임자가 놓고간 힌트가 담긴 쪽지가 놓여있습니다. 쪽지의 내용은 이러합니다. \n",
    "\n",
    "'비밀번호는 쉴새없이 변하며, 컴퓨터 화면에는 매 번 일련의 문자들이 주어집니다. \n",
    "\n",
    "단 컴퓨터 화면에서 알파벳 c까지의 알파벳 문자열이 비밀번호입니다.' \n",
    "\n",
    "머리가 좋은 김대리는 바로 이해를 하고 암호를 풀었습니다. \n",
    "\n",
    "이때 김대리가 사용한 방법을 프로그램으로 작성하세요."
   ]
  },
  {
   "cell_type": "markdown",
   "metadata": {},
   "source": [
    "입출력 예\n",
    "입력 #1\n",
    "\n",
    "s a d k f a s c a s d\n",
    "\n",
    "입력 #2\n",
    "\n",
    "s a p o a c a s o\n",
    "\n",
    "입력값 설명\n",
    "\n",
    "알파벳 소문자들이 공백을 두고 한개씩 계속 입력됩니다. 문자의 개수는 20개 이하입니다.\n",
    "\n",
    "출력 #1\n",
    "\n",
    "s a d k f a s c\n",
    "\n",
    "출력 #2\n",
    "\n",
    "s a p o a c\n",
    "\n",
    "출력값 설명\n",
    "\n",
    "알파벳 c를 입력할때까지 입력한 알파벳들을 공백을 두고 출력합니다. (c도 포함하기 때문에, 비밀번호의 마지막 글자는 c가 됩니다.) 맨 처음부터 c가 입력되는 경우는 없다고 가정합니다."
   ]
  },
  {
   "cell_type": "code",
   "execution_count": 4,
   "metadata": {},
   "outputs": [
    {
     "name": "stdout",
     "output_type": "stream",
     "text": [
      "s a d k f a s c "
     ]
    }
   ],
   "source": [
    "a_list = input().split()\n",
    "\n",
    "for a in a_list:\n",
    "    print(a , end =' ')\n",
    "    if a == 'c':\n",
    "        break\n"
   ]
  },
  {
   "cell_type": "code",
   "execution_count": null,
   "metadata": {},
   "outputs": [],
   "source": []
  }
 ],
 "metadata": {
  "kernelspec": {
   "display_name": "base",
   "language": "python",
   "name": "python3"
  },
  "language_info": {
   "codemirror_mode": {
    "name": "ipython",
    "version": 3
   },
   "file_extension": ".py",
   "mimetype": "text/x-python",
   "name": "python",
   "nbconvert_exporter": "python",
   "pygments_lexer": "ipython3",
   "version": "3.12.4"
  }
 },
 "nbformat": 4,
 "nbformat_minor": 2
}
