{
 "cells": [
  {
   "cell_type": "markdown",
   "metadata": {},
   "source": [
    "# 아까운 쿠폰\n",
    "\n",
    "문제설명\n",
    "피자집 사장인 현석이는 대한민국 화폐 단위와 같은 쿠폰을 만들어 손님들이 현금으로 결제할 때 거스름돈 대신 쿠폰으로 거슬러 줍니다. 하지만 최근 쿠폰이 모자라진 현석이는 손님들에게 거슬러 주는 쿠폰의 개수를 가능한 적게 하려고 합니다. 현석이가 거슬러주어야 하는 금액이 주어지면, 그 금액에 맞추어 거슬러줄 때 쿠폰이 최소 몇 장 필요한지 출력하는 프로그램을 작성하세요. (쿠폰은 대한민국 화폐 단위와 동일하게 10원, 50원, 100원, 500원, 1000원, 5000원, 10000원, 50000원짜리가 있습니다.)\n",
    "\n",
    "입출력 예\n",
    "입력 #1\n",
    "\n",
    "5630\n",
    "\n",
    "입력 #2\n",
    "\n",
    "102830\n",
    "\n",
    "입력값 설명\n",
    "\n",
    "현석이가 거슬러주어야 하는 금액 N이 입력됩니다. (10 ≤ N ≤ 1,000,000) N은 10의 배수임을 보장합니다.\n",
    "\n",
    "출력 #1\n",
    "\n",
    "6\n",
    "\n",
    "출력 #2\n",
    "\n",
    "11\n",
    "\n",
    "출력값 설명\n",
    "\n",
    "필요한 쿠폰 개수의 최솟값을 출력합니다."
   ]
  },
  {
   "cell_type": "code",
   "execution_count": 1,
   "metadata": {},
   "outputs": [
    {
     "name": "stdout",
     "output_type": "stream",
     "text": [
      "6\n"
     ]
    }
   ],
   "source": [
    "# 가능한 큰 금액의 쿠폰 우선으로 주면 개수를 줄일 수 있다 \n",
    "\n",
    "m = int(input())\n",
    "cnt =0\n",
    "while m!= 0: # m 이 10의 배수임을 보장함\n",
    "    if m >= 50000 :\n",
    "        cnt += m//50000\n",
    "        m = m % 50000\n",
    "        \n",
    "    elif m >=10000:\n",
    "        cnt += m//10000\n",
    "        m = m % 10000\n",
    "        \n",
    "    elif m >= 5000:\n",
    "        cnt += m//5000\n",
    "        m = m % 5000\n",
    "        \n",
    "    elif m >=1000:\n",
    "        cnt += m//1000\n",
    "        m = m % 1000\n",
    "        \n",
    "    elif m >= 500:\n",
    "        cnt += m//500\n",
    "        m = m % 500\n",
    "        \n",
    "    elif m >= 100:\n",
    "        cnt += m//100\n",
    "        m = m % 100\n",
    "        \n",
    "    elif m >= 50:\n",
    "        cnt += m//50\n",
    "        m = m % 50\n",
    "        \n",
    "    else:\n",
    "        cnt += m//10\n",
    "        m = m % 10\n",
    "\n",
    "print(cnt)\n",
    "    "
   ]
  }
 ],
 "metadata": {
  "kernelspec": {
   "display_name": "base",
   "language": "python",
   "name": "python3"
  },
  "language_info": {
   "codemirror_mode": {
    "name": "ipython",
    "version": 3
   },
   "file_extension": ".py",
   "mimetype": "text/x-python",
   "name": "python",
   "nbconvert_exporter": "python",
   "pygments_lexer": "ipython3",
   "version": "3.12.4"
  }
 },
 "nbformat": 4,
 "nbformat_minor": 2
}
