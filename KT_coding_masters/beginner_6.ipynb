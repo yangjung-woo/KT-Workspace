{
 "cells": [
  {
   "cell_type": "markdown",
   "metadata": {},
   "source": [
    "# 무향 그래프 1\n",
    "\n",
    "문제설명\n",
    "그래프 중에서 모든 간선이 특별한 방향성을 가지지 않는 그래프를 무향 그래프라고 합니다. 무향 그래프가 주어졌을 때 각 정점이 연결되어 있는 상황을 출력하는 프로그램을 작성하세요. 이때, 초기에는 자기 자신과는 연결되어 있지 않고 자기 자신과 연결된 간선이 들어왔을 때만 연결된 것으로 가정합니다.\n",
    "\n",
    "입출력 예\n",
    "입력 #1\n",
    "\n",
    "3 3\n",
    "1 2\n",
    "1 3\n",
    "2 3\n",
    "\n",
    "입력 #2\n",
    "\n",
    "6 8\n",
    "1 2\n",
    "1 4\n",
    "1 5\n",
    "2 3\n",
    "2 6\n",
    "3 4\n",
    "4 5\n",
    "5 6\n",
    "\n",
    "입력값 설명\n",
    "\n",
    "첫 번째 줄에는 정점의 개수 N과 간선의 개수 M이 주어집니다. (1 ≤ N, M ≤ 1,000) 둘째 줄부터는 M개의 줄에 걸쳐 연결 할 두 노드가 공백을 구분으로 주어집니다.\n",
    "\n",
    "출력 #1\n",
    "\n",
    "0 1 1\n",
    "1 0 1\n",
    "1 1 0\n",
    "\n",
    "출력 #2\n",
    "\n",
    "0 1 0 1 1 0\n",
    "1 0 1 0 0 1\n",
    "0 1 0 1 0 0\n",
    "1 0 1 0 1 0\n",
    "1 0 0 1 0 1\n",
    "0 1 0 0 1 0\n",
    "\n",
    "출력값 설명\n",
    "\n",
    "그래프에서 각 간선이 연결된 형태를 N * N의 인접 행렬 형태로 출력합니다."
   ]
  },
  {
   "cell_type": "code",
   "execution_count": 5,
   "metadata": {},
   "outputs": [
    {
     "name": "stdout",
     "output_type": "stream",
     "text": [
      "0 1 1 \n",
      "1 0 1 \n",
      "1 1 0 \n"
     ]
    }
   ],
   "source": [
    "# 그래프 기초 , 간선 연결을 구현 \n",
    "\n",
    "n , m = map(int,input().split())\n",
    "\n",
    "graph = [[0]*n for _ in range(n)] # N xN 그래프 생성\n",
    "\n",
    "for i in range(m):\n",
    "    a , b = map(int,input().split())\n",
    "    graph[a-1][b-1] =1  # 그래프 연결 표시 \n",
    "    graph[b-1][a-1] =1     \n",
    "\n",
    "# 출력 형식 준수\n",
    "for row_list in graph:\n",
    "    for r in row_list:\n",
    "        print(r, end=' ')\n",
    "    print()\n",
    "     \n"
   ]
  }
 ],
 "metadata": {
  "kernelspec": {
   "display_name": "base",
   "language": "python",
   "name": "python3"
  },
  "language_info": {
   "codemirror_mode": {
    "name": "ipython",
    "version": 3
   },
   "file_extension": ".py",
   "mimetype": "text/x-python",
   "name": "python",
   "nbconvert_exporter": "python",
   "pygments_lexer": "ipython3",
   "version": "3.12.4"
  }
 },
 "nbformat": 4,
 "nbformat_minor": 2
}
