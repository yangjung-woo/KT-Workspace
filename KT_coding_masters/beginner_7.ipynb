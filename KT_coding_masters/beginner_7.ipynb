{
 "cells": [
  {
   "cell_type": "markdown",
   "metadata": {},
   "source": [
    "# 누적 합\n",
    "문제설명\n",
    "누적 합 트리란 각 원소가 2개씩 누적되어 합해지는 형태를 가진 트리를 의미합니다. 승훈이는 이진 트리 자료구조를 공부하다가 누적 합을 가지는 이진 트리를 만들어보고 싶다는 생각을 했습니다. 하지만 자료구조를 3번이나 재수강 했지만 모두 C+을 받은 승훈이는 스스로 이러한 프로그램을 작성할 능력이 없습니다. 그러므로 우리가 승훈이를 대신하여 주어진 원소로 누적 합 이진 트리를 만드는 프로그램을 작성해봅시다.\n",
    "\n",
    "입출력 예\n",
    "입력 #1\n",
    "\n",
    "6\n",
    "1 9 3 8 4 5\n",
    "\n",
    "입력 #2\n",
    "\n",
    "9\n",
    "4 5 3 8 4 2 1 1 1\n",
    "\n",
    "입력값 설명\n",
    "\n",
    "첫 번째 줄에는 원소의 갯수 N(1 ≤ N ≤ 4,095)이 주어집니다. 두 번째 줄에는 각 원소의 값 K(1 ≤ K ≤ 1,000)이 공백을 구분으로 주어집니다.\n",
    "\n",
    "출력 #1\n",
    "\n",
    "30\n",
    "21 9\n",
    "10 11 9 0\n",
    "1 9 3 8 4 5 0 0\n",
    "\n",
    "출력 #2\n",
    "\n",
    "29\n",
    "28 1\n",
    "20 8 1 0\n",
    "9 11 6 2 1 0 0 0\n",
    "4 5 3 8 4 2 1 1 1 0 0 0 0 0 0 0\n",
    "\n",
    "출력값 설명\n",
    "\n",
    "누적 합을 가지는 이진 트리의 모든 원소를 최상단 원소부터 2의 거듭제곱 개수로 차례대로 출력합니다. 이 때 출력되는 이진 트리는 완전이진트리 형태입니다. 특정 위치의 원소가 없는 경우 그 값은 0이라고 간주합니다."
   ]
  },
  {
   "cell_type": "code",
   "execution_count": 11,
   "metadata": {},
   "outputs": [
    {
     "name": "stdout",
     "output_type": "stream",
     "text": [
      "30\n",
      "21 9\n",
      "10 11 9 0\n",
      "1 9 3 8 4 5 0 0\n"
     ]
    }
   ],
   "source": [
    "# 누적합으로 이진트리를 구현하시오 \n",
    "#  각 레벨별 노드 수 1 2 4 8 16 32 \n",
    "#  노드수가 부족시 0으로 채움 \n",
    "\n",
    "n = int(input())\n",
    "nums_list = list(map(int,input().split()))\n",
    "\n",
    "# step 1. 채워야하는 0의 수 구하기\n",
    "i = 0\n",
    "add_count = 0\n",
    "while True: # 이진 탐색 O(log N)\n",
    "    \n",
    "    if 2 **i < n and n <=2 **(i+1):\n",
    "        add_count = 2**(i+1) - n \n",
    "        break\n",
    "    i +=1\n",
    "\n",
    "# 원소의 개수를 맞추기 위해 0을 한번에 추가\n",
    "nums_list.extend([0] * add_count)\n",
    "\n",
    "result = []\n",
    "\n",
    "while len(nums_list)> 1: # 시간복잡도 O(N) * O(log N)\n",
    "    result.append(list(nums_list))\n",
    "    next_list = []\n",
    "    for i in range(0,len(nums_list),2):\n",
    "        next_list.append(nums_list[i] + nums_list[i+1])\n",
    "    nums_list = next_list\n",
    "result.append(nums_list)\n",
    "\n",
    "# 이 코드의 시간 복잡도는 **𝑂(𝑁log𝑁)**입니다.\n",
    "\n",
    "# 출력 형식 맞추기 \n",
    "for row_list in result[::-1]:  # 위에서부터 출력하기 위해 리스트 역순으로 순회\n",
    "    print(' '.join(map(str, row_list)))"
   ]
  },
  {
   "cell_type": "markdown",
   "metadata": {},
   "source": [
    "# 시간초과 발생\n",
    "- 0을 일일이 추가하는 과정에서 너무 많은 시간이 소요됨 \n",
    "\n",
    "- 처음 입력에서 절반으로 나눈후 각각 합을 구하면 되지않나?\n",
    "\n",
    "- 재귀함수 생성\n"
   ]
  },
  {
   "cell_type": "code",
   "execution_count": 10,
   "metadata": {},
   "outputs": [
    {
     "ename": "KeyboardInterrupt",
     "evalue": "",
     "output_type": "error",
     "traceback": [
      "\u001b[1;31m---------------------------------------------------------------------------\u001b[0m",
      "\u001b[1;31mKeyboardInterrupt\u001b[0m                         Traceback (most recent call last)",
      "Cell \u001b[1;32mIn[10], line 36\u001b[0m\n\u001b[0;32m     33\u001b[0m     \u001b[38;5;28;01mreturn\u001b[39;00m result\n\u001b[0;32m     35\u001b[0m \u001b[38;5;66;03m# step 3. 누적합 계산 및 결과 저장\u001b[39;00m\n\u001b[1;32m---> 36\u001b[0m result \u001b[38;5;241m=\u001b[39m calculate_sums(nums_list)\n\u001b[0;32m     38\u001b[0m \u001b[38;5;66;03m# step 4. 출력 형식 맞추기\u001b[39;00m\n\u001b[0;32m     39\u001b[0m \u001b[38;5;28;01mfor\u001b[39;00m row_list \u001b[38;5;129;01min\u001b[39;00m result[::\u001b[38;5;241m-\u001b[39m\u001b[38;5;241m1\u001b[39m]:  \u001b[38;5;66;03m# 위에서부터 출력하기 위해 리스트 역순으로 순회\u001b[39;00m\n",
      "Cell \u001b[1;32mIn[10], line 30\u001b[0m, in \u001b[0;36mcalculate_sums\u001b[1;34m(nums_list)\u001b[0m\n\u001b[0;32m     26\u001b[0m         \u001b[38;5;28;01mbreak\u001b[39;00m\n\u001b[0;32m     27\u001b[0m     mid \u001b[38;5;241m=\u001b[39m \u001b[38;5;28mlen\u001b[39m(nums_list) \u001b[38;5;241m/\u001b[39m\u001b[38;5;241m/\u001b[39m \u001b[38;5;241m2\u001b[39m  \u001b[38;5;66;03m# 리스트의 중간점\u001b[39;00m\n\u001b[0;32m     28\u001b[0m     next_level \u001b[38;5;241m=\u001b[39m [\n\u001b[0;32m     29\u001b[0m         \u001b[38;5;28msum\u001b[39m(nums_list[:mid]),  \u001b[38;5;66;03m# 왼쪽 절반의 합\u001b[39;00m\n\u001b[1;32m---> 30\u001b[0m         \u001b[38;5;28msum\u001b[39m(nums_list[mid:])   \u001b[38;5;66;03m# 오른쪽 절반의 합\u001b[39;00m\n\u001b[0;32m     31\u001b[0m     ]\n\u001b[0;32m     32\u001b[0m     nums_list \u001b[38;5;241m=\u001b[39m next_level  \u001b[38;5;66;03m# 다음 레벨로 업데이트\u001b[39;00m\n\u001b[0;32m     33\u001b[0m \u001b[38;5;28;01mreturn\u001b[39;00m result\n",
      "\u001b[1;31mKeyboardInterrupt\u001b[0m: "
     ]
    }
   ],
   "source": [
    "# 입력 처리\n",
    "n = int(input())  # 원소의 개수 N\n",
    "nums_list = list(map(int, input().split()))  # N개의 원소 값 리스트\n",
    "\n",
    "# step 1. 채워야 하는 0의 수 구하기\n",
    "i = 0\n",
    "add_count = 0\n",
    "while True:\n",
    "    if 2 ** i < n and n <= 2 ** (i + 1):\n",
    "        add_count = 2 ** (i + 1) - n  # 완전 이진 트리를 위한 0의 개수\n",
    "        break\n",
    "    i += 1\n",
    "\n",
    "# 원소의 개수를 맞추기 위해 0을 한 번에 추가\n",
    "nums_list.extend([0] * add_count)\n",
    "\n",
    "# 결과를 저장할 리스트\n",
    "result = []\n",
    "\n",
    "# step 2. 누적합 계산하는 함수\n",
    "result.append(sum(nums_list))\n",
    "step = len(next_list) / 2 \n",
    "\n"
   ]
  }
 ],
 "metadata": {
  "kernelspec": {
   "display_name": "base",
   "language": "python",
   "name": "python3"
  },
  "language_info": {
   "codemirror_mode": {
    "name": "ipython",
    "version": 3
   },
   "file_extension": ".py",
   "mimetype": "text/x-python",
   "name": "python",
   "nbconvert_exporter": "python",
   "pygments_lexer": "ipython3",
   "version": "3.12.4"
  }
 },
 "nbformat": 4,
 "nbformat_minor": 2
}
