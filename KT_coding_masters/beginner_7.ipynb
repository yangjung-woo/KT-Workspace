{
 "cells": [
  {
   "cell_type": "markdown",
   "metadata": {},
   "source": [
    "# 누적 합\n",
    "문제설명\n",
    "누적 합 트리란 각 원소가 2개씩 누적되어 합해지는 형태를 가진 트리를 의미합니다. 승훈이는 이진 트리 자료구조를 공부하다가 누적 합을 가지는 이진 트리를 만들어보고 싶다는 생각을 했습니다. 하지만 자료구조를 3번이나 재수강 했지만 모두 C+을 받은 승훈이는 스스로 이러한 프로그램을 작성할 능력이 없습니다. 그러므로 우리가 승훈이를 대신하여 주어진 원소로 누적 합 이진 트리를 만드는 프로그램을 작성해봅시다.\n",
    "\n",
    "입출력 예\n",
    "입력 #1\n",
    "\n",
    "6\n",
    "1 9 3 8 4 5\n",
    "\n",
    "입력 #2\n",
    "\n",
    "9\n",
    "4 5 3 8 4 2 1 1 1\n",
    "\n",
    "입력값 설명\n",
    "\n",
    "첫 번째 줄에는 원소의 갯수 N(1 ≤ N ≤ 4,095)이 주어집니다. 두 번째 줄에는 각 원소의 값 K(1 ≤ K ≤ 1,000)이 공백을 구분으로 주어집니다.\n",
    "\n",
    "출력 #1\n",
    "\n",
    "30\n",
    "21 9\n",
    "10 11 9 0\n",
    "1 9 3 8 4 5 0 0\n",
    "\n",
    "출력 #2\n",
    "\n",
    "29\n",
    "28 1\n",
    "20 8 1 0\n",
    "9 11 6 2 1 0 0 0\n",
    "4 5 3 8 4 2 1 1 1 0 0 0 0 0 0 0\n",
    "\n",
    "출력값 설명\n",
    "\n",
    "누적 합을 가지는 이진 트리의 모든 원소를 최상단 원소부터 2의 거듭제곱 개수로 차례대로 출력합니다. 이 때 출력되는 이진 트리는 완전이진트리 형태입니다. 특정 위치의 원소가 없는 경우 그 값은 0이라고 간주합니다."
   ]
  },
  {
   "cell_type": "code",
   "execution_count": 4,
   "metadata": {},
   "outputs": [
    {
     "name": "stdout",
     "output_type": "stream",
     "text": [
      "30\n",
      "21 9\n",
      "10 11 9 0\n",
      "1 9 3 8 4 5 0 0\n"
     ]
    }
   ],
   "source": [
    "# 누적합으로 이진트리를 구현하시오 \n",
    "#  각 레벨별 노드 수 1 2 4 8 16 32 \n",
    "#  노드수가 부족시 0으로 채움 \n",
    "\n",
    "n = int(input())\n",
    "nums_list = list(map(int,input().split()))\n",
    "\n",
    "# step 1. 채워야하는 0의 수 구하기\n",
    "i = 0\n",
    "add_count = 0\n",
    "while True: # 이진 탐색 O(log N)\n",
    "    \n",
    "    if 2 **i < n and n <=2 **(i+1):\n",
    "        add_count = 2**(i+1) - n \n",
    "        break\n",
    "    i +=1\n",
    "\n",
    "# 원소의 개수를 맞추기 위해 0을 한번에 추가\n",
    "nums_list.extend([0] * add_count)\n",
    "\n",
    "result = []\n",
    "\n",
    "while len(nums_list)> 1: # 시간복잡도 O(N) * O(log N)\n",
    "    result.append(list(nums_list))\n",
    "    next_list = []\n",
    "    for i in range(0,len(nums_list),2):\n",
    "        next_list.append(nums_list[i] + nums_list[i+1])\n",
    "    nums_list = next_list\n",
    "result.append(nums_list)\n",
    "\n",
    "# 이 코드의 시간 복잡도는 **𝑂(𝑁log𝑁)**입니다.\n",
    "\n",
    "# 출력 형식 맞추기 \n",
    "for row_list in result[::-1]:  # 위에서부터 출력하기 위해 리스트 역순으로 순회\n",
    "    print(' '.join(map(str, row_list)))"
   ]
  },
  {
   "cell_type": "markdown",
   "metadata": {},
   "source": []
  },
  {
   "cell_type": "code",
   "execution_count": 1,
   "metadata": {},
   "outputs": [],
   "source": [
    "import sys\n",
    "import math"
   ]
  },
  {
   "cell_type": "code",
   "execution_count": 3,
   "metadata": {},
   "outputs": [
    {
     "name": "stdout",
     "output_type": "stream",
     "text": [
      "30 \n",
      "21 9 \n",
      "10 11 9 0 \n",
      "1 9 3 8 4 5 0 0 \n"
     ]
    }
   ],
   "source": [
    "import math\n",
    "\n",
    "n =  int(input())\n",
    "num_list =list(input().split())\n",
    "stringarr = []\n",
    "\n",
    "# 채워야하는 0의 개수를 확인 \n",
    "t = 1\n",
    "while t < n:\n",
    "    t *= 2\n",
    "for i in range(len(num_list), t):  # 부족한 개수만큼 0 채우기 \n",
    "    num_list.append('0')\n",
    "    \n",
    "\n",
    "stringarr.append(' '.join(num_list))\n",
    "\n",
    "for level in range(int(math.log2(t))):  # 트리의 레벨은  log2(N)\n",
    "    temp = []\n",
    "    for i in range(len(num_list)//2): # 0 1 / 2 3 / 4 5 / 두쌍씩 더하기 \n",
    "        temp.append(str(int(num_list[2 * i]) + int(num_list[2 * i + 1])))\n",
    "    \n",
    "    stringarr.insert(0, ' '.join(temp)) # 가장 앞단에 temp 2개씩 합 결과를 추가 \n",
    "    num_list = temp\n",
    "\n",
    "for row in stringarr:\n",
    "    print(row + ' ')"
   ]
  },
  {
   "cell_type": "markdown",
   "metadata": {},
   "source": [
    "# 시간초과 발생\n",
    "- 0을 일일이 추가하는 과정에서 너무 많은 시간이 소요됨 \n",
    "\n",
    "- 처음 입력에서 절반으로 나눈후 각각 합을 구하면 되지않나?\n",
    "\n",
    "- 1. sum(전체) \n",
    "- 2. 절반 나눈\n",
    "- 2. sum()\n",
    "\n",
    "- 재귀함수 생성 (nums)\n",
    "- 1. print sum()\n",
    "\n",
    "- 1-1. len(nums) ==1 이면 종료 ()\n",
    "\n",
    "- 1-2. 재귀문(nums[:len(전체)//2]) , 재귀문(nums[len(전체)//2:])호출\n",
    "\n",
    "\n",
    "\n",
    "- \n"
   ]
  },
  {
   "cell_type": "code",
   "execution_count": 1,
   "metadata": {},
   "outputs": [
    {
     "name": "stdout",
     "output_type": "stream",
     "text": [
      "30 \n",
      "21 \n",
      "9 10 \n",
      "11 9 0 1 \n"
     ]
    }
   ],
   "source": [
    "def create_cumulative_sum_tree(elements):\n",
    "    # 완전 이진 트리를 위한 크기 계산\n",
    "    tree_size = 1\n",
    "    while tree_size < len(elements):\n",
    "        tree_size *= 2\n",
    "    tree_size = tree_size * 2 - 1\n",
    "\n",
    "    # 트리 초기화\n",
    "    tree = [0] * tree_size\n",
    "    \n",
    "    # 원소 삽입\n",
    "    for i, element in enumerate(elements):\n",
    "        tree[tree_size // 2 + i] = element\n",
    "    \n",
    "    # 누적 합 계산\n",
    "    for i in range(tree_size // 2 - 1, -1, -1):\n",
    "        left_child = 2 * i + 1\n",
    "        right_child = 2 * i + 2\n",
    "        tree[i] = tree[left_child] + tree[right_child]\n",
    "    \n",
    "    return tree\n",
    "\n",
    "def print_tree(tree):\n",
    "    level = 0\n",
    "    nodes_in_level = 1\n",
    "    for i, node in enumerate(tree):\n",
    "        print(node, end=\" \")\n",
    "        if i == nodes_in_level - 1:\n",
    "            print()  # 줄 바꿈\n",
    "            level += 1\n",
    "            nodes_in_level = 2 ** level\n",
    "            if nodes_in_level > len(tree):\n",
    "                break\n",
    "\n",
    "# 입력 처리\n",
    "n = int(input())\n",
    "elements = list(map(int, input().split()))\n",
    "\n",
    "# 트리 생성 및 출력\n",
    "result_tree = create_cumulative_sum_tree(elements)\n",
    "print_tree(result_tree)"
   ]
  },
  {
   "cell_type": "code",
   "execution_count": 4,
   "metadata": {},
   "outputs": [
    {
     "name": "stdout",
     "output_type": "stream",
     "text": [
      "28\n",
      "10 18\n",
      "3 7 11 7\n",
      "1 2 3 4 5 6 7 0\n"
     ]
    }
   ],
   "source": [
    "import math\n",
    "\n",
    "def build_accumulated_sum_tree(arr):\n",
    "    # 주어진 배열의 크기를 2의 거듭제곱으로 맞춰야 함\n",
    "    n = len(arr)\n",
    "    next_pow2 = 2 ** math.ceil(math.log2(n))  # 2의 거듭제곱으로 만들 크기\n",
    "    arr += [0] * (next_pow2 - n)  # 부족한 부분을 0으로 채움\n",
    "    \n",
    "    tree = [arr]  # 초기 배열은 트리의 마지막 레벨\n",
    "    \n",
    "    # 누적 합 트리 만들기 (아래에서 위로)\n",
    "    while len(tree[-1]) > 1:\n",
    "        level = []\n",
    "        prev_level = tree[-1]\n",
    "        for i in range(0, len(prev_level), 2):\n",
    "            level.append(prev_level[i] + prev_level[i+1])\n",
    "        tree.append(level)\n",
    "    \n",
    "    # 트리의 각 레벨을 위에서부터 출력\n",
    "    for level in reversed(tree):\n",
    "        print(' '.join(map(str, level)))\n",
    "\n",
    "# 입력 받기\n",
    "n = int(input())  # 원소의 개수\n",
    "arr = list(map(int, input().split()))  # 원소들\n",
    "\n",
    "# 누적 합 트리 생성 및 출력\n",
    "build_accumulated_sum_tree(arr)"
   ]
  }
 ],
 "metadata": {
  "kernelspec": {
   "display_name": "base",
   "language": "python",
   "name": "python3"
  },
  "language_info": {
   "codemirror_mode": {
    "name": "ipython",
    "version": 3
   },
   "file_extension": ".py",
   "mimetype": "text/x-python",
   "name": "python",
   "nbconvert_exporter": "python",
   "pygments_lexer": "ipython3",
   "version": "3.12.4"
  }
 },
 "nbformat": 4,
 "nbformat_minor": 2
}
