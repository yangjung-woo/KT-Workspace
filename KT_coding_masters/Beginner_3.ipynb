{
 "cells": [
  {
   "cell_type": "markdown",
   "metadata": {},
   "source": [
    "# 정렬된 많은 원소 사이에서 특정 원소 찾기\n",
    "\n",
    "문제설명\n",
    "N개의 서로 다른 정수가 정렬된 상태로 입력이 될 때 특정한 원소 A가 몇 번째에 위치해 있는지 알려주는 프로그램을 작성하세요. 단 특정한 원소 A를 찾을 수 없을 때는 -1을 출력합니다.\n",
    "\n",
    "입출력 예\n",
    "입력 #1\n",
    "\n",
    "10 7\n",
    "\n",
    "1 2 3 4 5 6 7 8 9 10\n",
    "\n",
    "입력 #2\n",
    "\n",
    "5 9\n",
    "\n",
    "1 3 5 7 9\n",
    "\n",
    "입력값 설명\n",
    "\n",
    "첫째 줄에 정수의 개수 N과 특정한 원소 A가 공백으로 구분되어 입력됩니다. (1 ≤ N ≤ 1,000,000, 1≤ A ≤ 10,000,000) 이후에 N개의 서로다른 정수 K가 공백을 기준으로 입력됩니다. (1 ≤ K ≤ 10,000,000)\n",
    "\n",
    "출력 #1\n",
    "\n",
    "7\n",
    "\n",
    "출력 #2\n",
    "\n",
    "5\n",
    "\n",
    "출력값 설명\n",
    "\n",
    "특정한 원소 A가 몇 번째에 위치해 있는지 출력합니다. 단 특정한 원소 A를 찾을 수 없을 때는 -1을 출력합니다."
   ]
  },
  {
   "cell_type": "code",
   "execution_count": 3,
   "metadata": {},
   "outputs": [
    {
     "name": "stdout",
     "output_type": "stream",
     "text": [
      "-1\n"
     ]
    }
   ],
   "source": [
    "# list의 index 함수 시간복잡도 : n \n",
    "n, target = map(int, input().split())\n",
    "\n",
    "\n",
    "nums = list(map(int, input().split()))\n",
    "\n",
    "if target not in nums:\n",
    "    print(-1)\n",
    "    exit \n",
    "\n",
    "else:  # 시간복잡도  O(10**8) 아슬아슬하게 safe   / len(nums) <10**8\n",
    "    print(nums.index(target)+1) \n",
    "\n",
    "\n"
   ]
  }
 ],
 "metadata": {
  "kernelspec": {
   "display_name": "base",
   "language": "python",
   "name": "python3"
  },
  "language_info": {
   "codemirror_mode": {
    "name": "ipython",
    "version": 3
   },
   "file_extension": ".py",
   "mimetype": "text/x-python",
   "name": "python",
   "nbconvert_exporter": "python",
   "pygments_lexer": "ipython3",
   "version": "3.12.4"
  }
 },
 "nbformat": 4,
 "nbformat_minor": 2
}
