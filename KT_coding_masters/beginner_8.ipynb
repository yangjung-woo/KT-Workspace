{
 "cells": [
  {
   "cell_type": "markdown",
   "metadata": {},
   "source": [
    "# 중앙 값\n",
    "문제설명\n",
    "중앙값은 전체 데이터를 오름차순으로 정렬했을 때 가운데에 있는 수치 값입니다.\n",
    "중앙값은 극단적인 값이 있을 때 평균보다 데이터의 대표값으로 더 유용합니다. \n",
    "예를 들어 직원이 100명인 회사에서 직원들 연봉 평균은 5천만원인데 사장의 연봉이 100억인 경우 중앙값이 평균보다 회사의 연봉을 나타내는 대표값으로 더 적합합니다.\n",
    "\n",
    "5개의 정수에 대해서 중앙값을 찾아내는 프로그램을 작성하세요.\n",
    "\n",
    "입출력 예\n",
    "입력 #1\n",
    "\n",
    "101 2 100 1 102\n",
    "\n",
    "입력 #2\n",
    "\n",
    "7 18 38 5 40\n",
    "\n",
    "입력값 설명\n",
    "\n",
    "첫째 줄에 5개의 정수 K가 공백을 기준으로 입력됩니다. (1 ≤ K ≤ 10,000)\n",
    "이 때 입력되는 5개의 정수는 모두 서로 다른 값을 가집니다.\n",
    "\n",
    "출력 #1\n",
    "\n",
    "100\n",
    "\n",
    "출력 #2\n",
    "\n",
    "18\n",
    "\n",
    "출력값 설명\n",
    "\n",
    "5개의 정수 중에서 중앙값을 출력합니다."
   ]
  },
  {
   "cell_type": "code",
   "execution_count": 3,
   "metadata": {},
   "outputs": [
    {
     "name": "stdout",
     "output_type": "stream",
     "text": [
      "8\n"
     ]
    }
   ],
   "source": [
    "nums = list(map(int,input().split()))\n",
    "\n",
    "nums.sort()\n",
    "\n",
    "print(nums[len(nums)//2]) # 입력 5개 서로 다른 정수이므로 홀수 짝수인 상황 고려 x \n"
   ]
  }
 ],
 "metadata": {
  "kernelspec": {
   "display_name": "base",
   "language": "python",
   "name": "python3"
  },
  "language_info": {
   "codemirror_mode": {
    "name": "ipython",
    "version": 3
   },
   "file_extension": ".py",
   "mimetype": "text/x-python",
   "name": "python",
   "nbconvert_exporter": "python",
   "pygments_lexer": "ipython3",
   "version": "3.12.4"
  }
 },
 "nbformat": 4,
 "nbformat_minor": 2
}
