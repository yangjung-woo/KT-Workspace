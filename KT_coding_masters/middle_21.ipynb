{
 "cells": [
  {
   "cell_type": "markdown",
   "metadata": {},
   "source": [
    "순환소수\n",
    "문제설명\n",
    "모든 유리수는 유한소수나 순환소수로 표현 가능합니다. \n",
    "\n",
    "어떤 유리수가 입력되면 해당 유리수를 유한소수나 순환소수 형식으로 출력하는 프로그램을 작성해봅시다.\n",
    "\n",
    "만약 주어진 유리수가 유한소수가 되는 경우, 해당 소수를 정확히 표현해야 합니다. 단, 끝에 불필요한 0이 존재해서는 안 됩니다. \n",
    "\n",
    "만약 주어진 유리수가 순환소수가 되는 경우, 순환마디는 중괄호로 묶어서 표현하고 그 순환마디의 길이는 최소가 되어야 합니다. 또한, 순환마디의 시작지점은 가능한 가장 빠른 자릿수여야 합니다. \n",
    "\n",
    "입출력 예\n",
    "입력 #1\n",
    "\n",
    "1 6\n",
    "\n",
    "입력 #2\n",
    "\n",
    "3 5\n",
    "\n",
    "입력값 설명\n",
    "\n",
    "첫 번째 줄에 분자를 의미하는 p와 분모를 의미하는 q가 주어집니다. (1 ≤ p < q ≤ 10,000)\n",
    "\n",
    "출력 #1\n",
    "\n",
    "0.1{6}\n",
    "\n",
    "출력 #2\n",
    "\n",
    "0.6\n",
    "\n",
    "출력값 설명\n",
    "\n",
    "문제에서 주어진 형식으로 주어진 유리수를 유한소수 또는 순환소수 형식으로 출력합니다. \n",
    "실수 오차는 허용하지 않음에 유의합니다."
   ]
  },
  {
   "cell_type": "code",
   "execution_count": 1,
   "metadata": {},
   "outputs": [
    {
     "name": "stdout",
     "output_type": "stream",
     "text": [
      "0.1{6}\n",
      "0.6\n"
     ]
    }
   ],
   "source": [
    "def fraction_to_decimal(p, q):\n",
    "    # 정수 부분 처리\n",
    "    integer_part = p // q\n",
    "    remainder = p % q\n",
    "    \n",
    "    if remainder == 0:        # 유리수가 유한소수인 경우 \n",
    "        return str(integer_part)\n",
    "    \n",
    "    # 소수 부분 계산\n",
    "    decimal_part = []\n",
    "    remainder_map = {} #딕셔너리에 저장 \n",
    "    idx = 0\n",
    "    repeat_start_idx = -1\n",
    "    \n",
    "    # 나머지가 0이 되면 유한소수\n",
    "    while remainder != 0:\n",
    "        if remainder in remainder_map: # 반복되는 소수점이 보인다면 종료 \n",
    "            repeat_start_idx = remainder_map[remainder]\n",
    "            break\n",
    "        # 나머지를 기록\n",
    "        remainder_map[remainder] = idx\n",
    "        remainder *= 10\n",
    "        decimal_part.append(str(remainder // q))\n",
    "        remainder %= q\n",
    "        idx += 1\n",
    "    \n",
    "    # 소수 부분 문자열 구성\n",
    "    if repeat_start_idx == -1:\n",
    "        # 유한소수인 경우\n",
    "        result = f\"{integer_part}.\" + ''.join(decimal_part)\n",
    "    else:\n",
    "        # 순환소수인 경우\n",
    "        non_repeat_part = ''.join(decimal_part[:repeat_start_idx])\n",
    "        repeat_part = ''.join(decimal_part[repeat_start_idx:])\n",
    "        result = f\"{integer_part}.{non_repeat_part}{{{repeat_part}}}\"\n",
    "    \n",
    "    return result\n",
    "\n",
    "# 입력\n",
    "p, q = map(int,input().split())\n",
    "\n",
    "# 출력\n",
    "print(fraction_to_decimal(p, q))  \n"
   ]
  }
 ],
 "metadata": {
  "kernelspec": {
   "display_name": "base",
   "language": "python",
   "name": "python3"
  },
  "language_info": {
   "codemirror_mode": {
    "name": "ipython",
    "version": 3
   },
   "file_extension": ".py",
   "mimetype": "text/x-python",
   "name": "python",
   "nbconvert_exporter": "python",
   "pygments_lexer": "ipython3",
   "version": "3.12.4"
  }
 },
 "nbformat": 4,
 "nbformat_minor": 2
}
