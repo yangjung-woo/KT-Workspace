{
 "cells": [
  {
   "cell_type": "markdown",
   "metadata": {},
   "source": [
    "# 효율적인 화폐 구성\n",
    "\n",
    "문제설명\n",
    "어떤 나라에는 가치가 서로 다른 N가지 동전이 있습니다. \n",
    "이 동전들을 이용해서 가치의 합이 M이 되게 하는 동전 개수의 최솟값을 구하는 프로그램을 작성하세요.  \n",
    "\n",
    "예를 들어 가치가 2, 3인 단위의 동전이 있을 때는 가치 15를 만들기 위해 가치 3짜리 동전 5개를 사용하는 것이 동전의 개수가 가장 최소가 됩니다. \n",
    "\n",
    "입출력 예\n",
    "입력 #1\n",
    "\n",
    "2 15\n",
    "2\n",
    "3\n",
    "\n",
    "입력 #2\n",
    "\n",
    "3 10\n",
    "1\n",
    "2\n",
    "3\n",
    "\n",
    "입력값 설명\n",
    "\n",
    "첫째 줄에 서로 다른 가치의 동전의 종류 수를 나타내는 정수 N과, 만들려는 가치의 합을 의미하는 정수 M이 공백으로 구분되어 주어집니다. (1 ≤ N ≤ 100, 1 ≤ M ≤ 10,000)\n",
    "이후의 N개의 줄에는 각 화폐의 가치가 주어집니다. 화폐의 가치는 10,000보다 작거나 같은 자연수입니다.\n",
    "\n",
    "출력 #1\n",
    "\n",
    "5\n",
    "\n",
    "출력 #2\n",
    "\n",
    "4\n",
    "\n",
    "출력값 설명\n",
    "\n",
    "첫째 줄에 가치 M을 만드는 최소 동전의 개수를 출력합니다.\n",
    "만약 가치 M을 만드는 것이 불가능하다면 -1을 출력합니다."
   ]
  },
  {
   "cell_type": "markdown",
   "metadata": {},
   "source": [
    "# 문제 접근 \n",
    "동전을 가장 큰 단위부터 거슬러주면 가장 적은 동전이 나올것\n",
    "\n",
    "\n",
    "1. 동전을 내림차순으로 정렬\n",
    "2. 반복문 : 거스름 단위보다 큰 금액이면 교환 가능, m -= c , cnt +=1\n"
   ]
  },
  {
   "cell_type": "code",
   "execution_count": 13,
   "metadata": {},
   "outputs": [
    {
     "name": "stdout",
     "output_type": "stream",
     "text": [
      "10\n"
     ]
    }
   ],
   "source": [
    "n , m = map(int,(input().split()))\n",
    "coins = []\n",
    "for i in range(n): \n",
    "    coins.append(int(input()))\n",
    "    \n",
    "coins.sort(reverse=True) # 내림차순 정렬 \n",
    "\n",
    "cnt =0 \n",
    "for c in coins:\n",
    "    while m - c >=0:\n",
    "        m = m - c\n",
    "        cnt += 1\n",
    "\n",
    "if m ==0:\n",
    "    print(cnt)\n",
    "else:\n",
    "    print(-1) # 거스름돈을 못만들면 -1출력 "
   ]
  }
 ],
 "metadata": {
  "kernelspec": {
   "display_name": "base",
   "language": "python",
   "name": "python3"
  },
  "language_info": {
   "codemirror_mode": {
    "name": "ipython",
    "version": 3
   },
   "file_extension": ".py",
   "mimetype": "text/x-python",
   "name": "python",
   "nbconvert_exporter": "python",
   "pygments_lexer": "ipython3",
   "version": "3.12.4"
  }
 },
 "nbformat": 4,
 "nbformat_minor": 2
}
