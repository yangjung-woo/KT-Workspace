{
 "cells": [
  {
   "cell_type": "markdown",
   "metadata": {},
   "source": [
    "# 타격왕 정우성\n",
    "\n",
    "문제설명\n",
    "프로야구 최고령 선수 정우성은 올해 통산 타율 신기록에 도전합니다. 시즌은 현재 진행중이고, 그의 타율은 역대 최고 타율 기록과 동률입니다. 정우성 선수가 앞으로의 타석에서 충분히 많은 안타를 치면 타율이 올라 신기록을 세울 수 있고, 그렇지 못하면 신기록을 세우지 못할 수도 있습니다.\n",
    "\n",
    "정우성 선수는 신비한 마법을 통해 이제 타석에 나가기만 하면 반드시 안타를 칩니다. 대신 마법의 저주로 타석에 최대 1,000,000,000번까지만 나갈 수 있습니다. 정우성 선수가 현재까지 타석에 들어선 횟수와 안타를 친 횟수가 주어지면, 앞으로 타석에 몇 번 나가야 타율이 오르는지 출력하는 프로그램을 작성하세요. 단, 타율은 통상적으로 야구 경기에서 생각하는 할, 푼 까지만 계산하고 리 단위는 버립니다. 예를 들어 타율이 0.325, 즉 3할 2푼 5리일 경우 3할 2푼으로 생각합니다.\n",
    "\n",
    "입출력 예\n",
    "입력 #1\n",
    "\n",
    "500 200\n",
    "\n",
    "입력 #2\n",
    "\n",
    "50 8\n",
    "\n",
    "입력값 설명\n",
    "\n",
    "첫째 줄에 정우성 선수가 지금까지 타석에 들어선 횟수 X(1 ≤ X ≤ 1,000,000,000)와 안타를 친 횟수 Y(0 ≤ Y ≤ X)가 공백을 구분으로 주어집니다.\n",
    "\n",
    "출력 #1\n",
    "\n",
    "9\n",
    "\n",
    "출력 #2\n",
    "\n",
    "1\n",
    "\n",
    "출력값 설명\n",
    "\n",
    "정우성 선수가 앞으로 타석에 몇 번 나가야 타율이 오르는지 출력합니다. 만약 1,000,000,000번 나가도 타율이 오르지 않는다면 -1을 출력합니다."
   ]
  },
  {
   "cell_type": "markdown",
   "metadata": {},
   "source": [
    "# 문제접근 \n",
    "\n",
    "완전 탐색을 수행할 경우 O(N) , N <= 10**9  시간초과가 발생할 수 있음 \n",
    "\n",
    ">> O(logN) 이분탐색 으로 접근 \n",
    "\n",
    "floor 는 소수점을 전부 버리고 정수를 반환함 \n",
    "floor(N *100) / 100 을 하면 소수점 2째 자리이하 모두 버리기 가능\n",
    "\n",
    "  \n"
   ]
  },
  {
   "cell_type": "code",
   "execution_count": 4,
   "metadata": {},
   "outputs": [
    {
     "name": "stdout",
     "output_type": "stream",
     "text": [
      "9\n"
     ]
    }
   ],
   "source": [
    "# 완전탐색 , 하지만 시간초과가 예상됨 \n",
    "import math\n",
    "total , hit = map(int,input().split())\n",
    "    \n",
    "    \n",
    "ret = -1    \n",
    "before = math.floor( (hit/total)*100)/100\n",
    "\n",
    "for i in range(1,10**9+1):\n",
    "    new = math.floor(((hit+i)/(total+i))*100)/100\n",
    "    if  new != before:\n",
    "        ret = i\n",
    "        break \n",
    "\n",
    "print(ret)"
   ]
  },
  {
   "cell_type": "markdown",
   "metadata": {},
   "source": [
    "\n",
    "\n",
    "1. 반복문( l < h ):\n",
    "\n",
    "    mid = l + h //2\n",
    "\n",
    "    1-1. 신규 타율 계산 :  math.floor( (hit+mid)/(total+mid)*100)\n",
    "\n",
    "\n",
    "    if 타율에 변동이 있음:  new> now:\n",
    "\n",
    "        h = mid , # 이분탐색\n",
    "\n",
    "    else: 변동이 없음 \n",
    "\n",
    "        lower += mid +1 \n",
    "\n",
    "\n",
    "2.  최종 확인 후 결과가 맞으면 반환 \n"
   ]
  },
  {
   "cell_type": "code",
   "execution_count": 12,
   "metadata": {},
   "outputs": [
    {
     "name": "stdout",
     "output_type": "stream",
     "text": [
      "9\n"
     ]
    }
   ],
   "source": [
    "import math\n",
    "\n",
    "def find_min_at_bats(total, hit):\n",
    "    # 현재 타율 계산 (소수점 셋째 자리에서 버림)\n",
    "    before  = math.floor(hit / total *100)\n",
    "    # 최대 최소 구간 설정 \n",
    "    low , high = 0, 10**9\n",
    "    ret = -1\n",
    "    # 이분 탐색\n",
    "    while low <high:\n",
    "        # 중간 지점\n",
    "        mid = (low + high) // 2 \n",
    "        # 새로운 타율 계산 (소수점 셋째 자리에서 버림)\n",
    "        new = math.floor((hit+mid) / (total+mid) *100)\n",
    "        \n",
    "        if new > before:  # 타율이 오르면\n",
    "            high = mid# 범위를 줄여서 더 작은 타석을 찾음\n",
    "        else:\n",
    "            low = mid +1# 타율이 오르지 않으면 더 많은 타석을 찾음\n",
    "\n",
    "    # 최종적으로 타율이 오르는지 확인\n",
    "    if  math.floor((hit+low) / (total+low) *100) > before:\n",
    "        ret = low\n",
    "    return ret\n",
    "\n",
    "\n",
    "# 입력 받기\n",
    "total, hit = map(int, input().split())\n",
    "\n",
    "# 최소 타석 수 출력\n",
    "print(find_min_at_bats(total, hit))"
   ]
  }
 ],
 "metadata": {
  "kernelspec": {
   "display_name": "base",
   "language": "python",
   "name": "python3"
  },
  "language_info": {
   "codemirror_mode": {
    "name": "ipython",
    "version": 3
   },
   "file_extension": ".py",
   "mimetype": "text/x-python",
   "name": "python",
   "nbconvert_exporter": "python",
   "pygments_lexer": "ipython3",
   "version": "3.12.4"
  }
 },
 "nbformat": 4,
 "nbformat_minor": 2
}
