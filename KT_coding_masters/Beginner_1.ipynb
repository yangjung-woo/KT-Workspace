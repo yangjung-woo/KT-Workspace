{
 "cells": [
  {
   "cell_type": "markdown",
   "metadata": {},
   "source": [
    "# 분리수거장\n",
    "# 문제설명\n",
    "두정동에는 N개의 아파트 단지가 일직선상에 존재합니다. 각 아파트 단지에는 1번부터 N번까지 번호가 붙어있습니다. 두정동 동사무소에서는 아파트 단지 중 한 곳에 분리수거장을 지으려고 합니다. 분리수거장으로부터 각 주민들까지의 거리의 합이 최소가 되도록 하려면 어떤 아파트 단지에 분리수거장을 지어야 하는지 구하세요. 분리수거장으로부터 어떤 주민까지의 거리는 분리수거장이 있는 아파트 단지의 위치와 해당 주민이 거주하는 아파트 단지의 위치의 차로 계산됩니다. 단, 조건을 만족하는 아파트 단지가 여러개일 경우, 더 작은 번호의 아파트 단지에 분리수거장을 짓습니다."
   ]
  },
  {
   "cell_type": "markdown",
   "metadata": {},
   "source": [
    "\n",
    "## 문제 접근 \n",
    "\n",
    "N(1 ≤ N ≤ 100) 이므로 완전탐색을 구현시 O(N**2)을 해도 시간 초과가 나오지 않음\n",
    "완전탐색으로 문제 풀이 \n",
    "\n",
    "dict 내 모든 거리차를 합하고 가장 최소값을 갖는 아파트번호 반환 \n"
   ]
  },
  {
   "cell_type": "code",
   "execution_count": 16,
   "metadata": {},
   "outputs": [
    {
     "name": "stdout",
     "output_type": "stream",
     "text": [
      "2\n"
     ]
    }
   ],
   "source": [
    "N = int(input())\n",
    "dic = {}\n",
    "for i in range(1,N+1):\n",
    "    x, y = map(int, input().split())\n",
    "    dic[i] = [x,y]\n",
    "    \n",
    "diff_total = []\n",
    "# 브루트포스 모든 값 비교\n",
    "for i in range(1,len(dic)+1):\n",
    "    s =0\n",
    "    for j in range(1,len(dic)+1):\n",
    "        x_dif =  abs(dic[i][0] - dic[j][0])\n",
    "        y_dif =  abs(dic[i][1] - dic[j][1])\n",
    "        distance = (x_dif +y_dif)\n",
    "        s = s + distance\n",
    "    diff_total.append(s)\n",
    "    \n",
    "total = list(enumerate(diff_total, start= 1))\n",
    "\n",
    "result = min(total, key=lambda x: (x[1], x[0]))[0]\n",
    "\n",
    "print(result)\n",
    "\n"
   ]
  },
  {
   "cell_type": "code",
   "execution_count": null,
   "metadata": {},
   "outputs": [],
   "source": []
  }
 ],
 "metadata": {
  "kernelspec": {
   "display_name": "base",
   "language": "python",
   "name": "python3"
  },
  "language_info": {
   "codemirror_mode": {
    "name": "ipython",
    "version": 3
   },
   "file_extension": ".py",
   "mimetype": "text/x-python",
   "name": "python",
   "nbconvert_exporter": "python",
   "pygments_lexer": "ipython3",
   "version": "3.12.4"
  }
 },
 "nbformat": 4,
 "nbformat_minor": 2
}
