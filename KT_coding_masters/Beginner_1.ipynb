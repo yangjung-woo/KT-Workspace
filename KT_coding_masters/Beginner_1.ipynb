{
 "cells": [
  {
   "cell_type": "markdown",
   "metadata": {},
   "source": [
    "# 분리수거장\n",
    "# 문제설명\n",
    "두정동에는 N개의 아파트 단지가 일직선상에 존재합니다. 각 아파트 단지에는 1번부터 N번까지 번호가 붙어있습니다. 두정동 동사무소에서는 아파트 단지 중 한 곳에 분리수거장을 지으려고 합니다. 분리수거장으로부터 각 주민들까지의 거리의 합이 최소가 되도록 하려면 어떤 아파트 단지에 분리수거장을 지어야 하는지 구하세요. 분리수거장으로부터 어떤 주민까지의 거리는 분리수거장이 있는 아파트 단지의 위치와 해당 주민이 거주하는 아파트 단지의 위치의 차로 계산됩니다. 단, 조건을 만족하는 아파트 단지가 여러개일 경우, 더 작은 번호의 아파트 단지에 분리수거장을 짓습니다."
   ]
  },
  {
   "cell_type": "markdown",
   "metadata": {},
   "source": [
    "**어떤 주민까지의 거리는 분리수거장이 있는 아파트 단지의 위치와 해당 주민이 거주하는 아파트 단지의 위치의 차로 계산됩니다**"
   ]
  },
  {
   "cell_type": "markdown",
   "metadata": {},
   "source": [
    "\n",
    "## 문제 접근 \n",
    "\n",
    "N(1 ≤ N ≤ 100) 이므로 완전탐색을 구현시 O(N**2)을 해도 시간 초과가 나오지 않음\n",
    "완전탐색으로 문제 풀이 \n",
    "\n",
    "dict 내 모든 거리차를 합하고 인구수를 곱해서 반영\n",
    "\n"
   ]
  },
  {
   "cell_type": "code",
   "execution_count": 28,
   "metadata": {},
   "outputs": [],
   "source": [
    "N = int(input())\n",
    "dic = {}\n",
    "for i in range(1,N+1):\n",
    "    point, humans = map(int, input().split())\n",
    "    dic[i] = [point,humans]\n",
    "\n",
    "total = []\n",
    "for i in range(1,N+1):\n",
    "    s=0\n",
    "    for j in range(1,N+1):\n",
    "        diff = abs(dic[i][0] - dic[j][0])* dic[j][1]\n",
    "        s += diff\n",
    "    total.append(s)\n",
    "n_total = enumerate(total ,start=1)\n",
    "# (거리 * 사람수 총합 )이 가장 작은 것을 고르되 최소값이 동일하면 아파트 번호가 작은 것 반환 \n",
    "result = min(n_total, key=lambda x: (x[1], x[0]))[0]\n",
    "print(result)"
   ]
  },
  {
   "cell_type": "code",
   "execution_count": 26,
   "metadata": {},
   "outputs": [
    {
     "name": "stdout",
     "output_type": "stream",
     "text": [
      "7\n"
     ]
    }
   ],
   "source": [
    "import math\n",
    "\n",
    "def euclidean_distance(p1, p2):\n",
    "    return math.sqrt((p1[0] - p2[0])**2 + (p1[1] - p2[1])**2)\n",
    "\n",
    "def find_recycling_center_euclidean(points):\n",
    "    min_total_distance = float('inf')  # 최소 거리 합을 매우 큰 값으로 초기화\n",
    "    best_index = -1  # 최적의 아파트 단지 번호\n",
    "\n",
    "    # 각 아파트 단지를 후보로 설정\n",
    "    for i in range(len(points)):\n",
    "        total_distance = 0\n",
    "        # 해당 아파트 단지에서 다른 모든 아파트 단지까지의 거리 계산\n",
    "        for j in range(len(points)):\n",
    "            if i != j:  # 자기 자신과의 거리는 계산하지 않음\n",
    "                total_distance += euclidean_distance(points[i], points[j])\n",
    "        \n",
    "        # 거리 합이 최소인 아파트 단지를 찾음\n",
    "        if total_distance < min_total_distance:\n",
    "            min_total_distance = total_distance\n",
    "            best_index = i + 1  # 1번부터 시작하는 아파트 단지 번호\n",
    "\n",
    "    return best_index\n",
    "\n",
    "# 주어진 아파트 좌표\n",
    "apartments = [\n",
    "    (475, 170),\n",
    "    (28, 95),\n",
    "    (506, 8361),\n",
    "    (51, 3988),\n",
    "    (2, 977),\n",
    "    (607, 793),\n",
    "    (49, 847)\n",
    "]\n",
    "\n",
    "# 유클리디언 거리로 분리수거장을 배치할 아파트 단지 번호 출력\n",
    "result = find_recycling_center_euclidean(apartments)\n",
    "print(result)"
   ]
  },
  {
   "cell_type": "code",
   "execution_count": 27,
   "metadata": {},
   "outputs": [
    {
     "name": "stdout",
     "output_type": "stream",
     "text": [
      "None\n"
     ]
    }
   ],
   "source": []
  },
  {
   "cell_type": "code",
   "execution_count": null,
   "metadata": {},
   "outputs": [],
   "source": []
  },
  {
   "cell_type": "markdown",
   "metadata": {},
   "source": [
    "def find_recycling_center(points):\n",
    "    # X좌표와 Y좌표 각각 정렬\n",
    "    x_coords = sorted([x for x, y in points])\n",
    "    y_coords = sorted([y for x, y in points])\n",
    "\n",
    "    # 중간값 구하기\n",
    "    n = len(points)\n",
    "    median_x = x_coords[(n - 1) // 2]\n",
    "    median_y = y_coords[(n - 1) // 2]\n",
    "\n",
    "    # 중간값에 해당하는 아파트 단지 찾기 (처음으로 일치하는 좌표 반환)\n",
    "    for i, (x, y) in enumerate(points):\n",
    "        if x == median_x and y == median_y:\n",
    "            return i + 1  # 1번부터 시작하므로 인덱스에 +1\n",
    "\n",
    "# 주어진 아파트 좌표\n",
    "apartments = [\n",
    "    (475, 170),\n",
    "    (28, 95),\n",
    "    (506, 8361),\n",
    "    (51, 3988),\n",
    "    (2, 977),\n",
    "    (607, 793),\n",
    "    (49, 847)\n",
    "]\n",
    "\n",
    "# 분리수거장을 배치할 아파트 단지 번호 출력\n",
    "result = find_recycling_center(apartments)\n",
    "print(result)"
   ]
  }
 ],
 "metadata": {
  "kernelspec": {
   "display_name": "base",
   "language": "python",
   "name": "python3"
  },
  "language_info": {
   "codemirror_mode": {
    "name": "ipython",
    "version": 3
   },
   "file_extension": ".py",
   "mimetype": "text/x-python",
   "name": "python",
   "nbconvert_exporter": "python",
   "pygments_lexer": "ipython3",
   "version": "3.12.4"
  }
 },
 "nbformat": 4,
 "nbformat_minor": 2
}
