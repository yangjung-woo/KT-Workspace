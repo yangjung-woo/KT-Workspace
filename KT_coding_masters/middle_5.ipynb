{
 "cells": [
  {
   "cell_type": "markdown",
   "metadata": {},
   "source": [
    "# 숫자 맞추기\n",
    "\n",
    "문제설명\n",
    "토요일 오후에 심심한 동빈이는 혼자 숫자 맞추기 게임을 하는 중입니다. 숫자 맞추기 게임이란, 시작 숫자에서 1을 더하거나, 1을 빼거나, 2를 곱하는 과정을 반복하여 목표 숫자에 가장 빠른 방법으로 도달하도록 하는 게임입니다.\n",
    "\n",
    "예를 들어 목표 숫자를 8로 잡고, 시작 숫자를 6으로 정했다면 6에 1을 두 번 더하는 방법으로 목표에 도달하는 것이 가장 빠른 방법입니다. 이때 목표에 도달하기 위한 최소 횟수는 2번입니다.\n",
    "\n",
    "목표 숫자와 시작 숫자가 주어졌을 때 동빈이가 숫자 맞추기 게임을 가장 빨리 끝낼 수 있는 횟수를 구하는 프로그램을 작성하세요.\n",
    "\n",
    "추가적인 예시로 목표 숫자가 500이고, 시작 숫자가 30이라면 (30, 31, 62, 124, 125, 250, 500)의 순서대로 6번만에 도달할 수 있습니다.\n",
    "\n",
    "입출력 예\n",
    "입력 #1\n",
    "\n",
    "8 6\n",
    "\n",
    "입력 #2\n",
    "\n",
    "500 30\n",
    "\n",
    "입력값 설명\n",
    "\n",
    "첫째 줄에 목표 숫자 N(0 ≤ N ≤ 100,000)과 시작 숫자 K(0 ≤ K ≤ 100,000)가 주어집니다. 입력으로 주어지는 수는 모두 정수입니다.\n",
    "\n",
    "출력 #1\n",
    "\n",
    "2\n",
    "\n",
    "출력 #2\n",
    "\n",
    "6\n",
    "\n",
    "출력값 설명\n",
    "\n",
    "목표 숫자에 도달할 수 있는 최소 횟수를 출력하세요."
   ]
  },
  {
   "cell_type": "markdown",
   "metadata": {},
   "source": [
    "# 문제접근 \n",
    "- DP ?   X ==> 이 문제는 BFS 너비우선 탐색이 정답 \n",
    "\n",
    "이 문제는 최단 경로 탐색 유형에 가깝기 때문에, **동적 계획법(DP)**보다는 **BFS(너비 우선 탐색)**를 활용하는 것이 더 적합합니다. BFS는 최단 경로 문제에서 자주 사용되며, 각 상태에서 가능한 모든 경우(1을 더하거나, 1을 빼거나, 2를 곱하는 경우)를 차례로 탐색하는 방식입니다.\n",
    "\n",
    "DP는 일반적으로 부분 문제를 저장하고 이를 재활용하는 방식으로 문제를 해결하지만, 이 문제에서는 중복된 상태가 많이 발생할 가능성이 적기 때문에 상태를 방문하는 순서대로 탐색하는 BFS가 더 효율적입니다."
   ]
  },
  {
   "cell_type": "markdown",
   "metadata": {},
   "source": [
    "# BFS 의 순서\n",
    "\n",
    "0. 방문을 표기할 visited = [False]* N  , 처음위치 visited[init] = True \n",
    "\n",
    "1. 현재 노드를 방문예정 Queue에 추가한다 \n",
    "2. 반복문 (while queue:)\n",
    "    2-1. 큐에서 가장 앞단을 pop   , 탈출 분기점 일시 탈출\n",
    "    2-2. 인접한 노드들을 탐색  \n",
    "        for i in 인접한 노드들 중에서\n",
    "            if 아직 방문하지 않았고 조건 만족하면 \n",
    "                visited[i] = True \n",
    "                queue.append(i) \n",
    "    \n",
    "    "
   ]
  },
  {
   "cell_type": "code",
   "execution_count": 1,
   "metadata": {},
   "outputs": [
    {
     "name": "stdout",
     "output_type": "stream",
     "text": [
      "2\n"
     ]
    }
   ],
   "source": [
    "from collections import deque\n",
    "\n",
    "def BFS_Search(target,start):\n",
    "    visited = [False] * 100001\n",
    "    visited[start] = True\n",
    "    # queue 에 방문할 노드와 sept 수를 저장 >> 튜플 형태로 저장 / list도 ㄱㅊ\n",
    "    queue = deque([(start , 0)])\n",
    "\n",
    "    while queue:\n",
    "        now_node , steps = queue.popleft()\n",
    "        \n",
    "        if now_node == target:\n",
    "            return steps\n",
    "        \n",
    "        for i in (now_node+1 , now_node-1 , now_node*2):\n",
    "            if (0 <=i <=100000) and  (visited[i] == False): # 조건문 and 앞뒤 순서 바꿀시 차이 있음 \n",
    "                visited[i] = True\n",
    "                queue.append((i,steps+1))\n",
    "\n",
    "N, K = map(int, input().split())\n",
    "print(BFS_Search(N, K))\n",
    "\n"
   ]
  },
  {
   "cell_type": "code",
   "execution_count": 1,
   "metadata": {},
   "outputs": [
    {
     "name": "stdout",
     "output_type": "stream",
     "text": [
      "69\n"
     ]
    }
   ],
   "source": [
    "from collections import deque\n",
    "\n",
    "def min_operations(N, K):\n",
    "    # 방문 여부를 체크하는 배열\n",
    "    visited = [False] * 100001\n",
    "    queue = deque([(K, 0)])  # (현재 숫자, 현재까지의 횟수)\n",
    "    visited[K] = True\n",
    "\n",
    "    while queue:\n",
    "        current, steps = queue.popleft()\n",
    "\n",
    "        # 목표 숫자에 도달하면 횟수 반환\n",
    "        if current == N:\n",
    "            return steps\n",
    "\n",
    "        # 세 가지 경우에 대해 탐색\n",
    "        for next_num in (current + 1, current - 1, current * 2): # 인접한 노드 탐색  +1 , -1 , *2 \n",
    "            if 0 <= next_num <= 100000 and not visited[next_num]: # 방문하지 않은 노드라면 \n",
    "                visited[next_num] = True # 방문 하고 , queue에 추가 \n",
    "                queue.append((next_num, steps + 1))\n",
    "\n",
    "# 입력 예시\n",
    "N, K = map(int, input().split())\n",
    "print(min_operations(N, K))"
   ]
  }
 ],
 "metadata": {
  "kernelspec": {
   "display_name": "base",
   "language": "python",
   "name": "python3"
  },
  "language_info": {
   "codemirror_mode": {
    "name": "ipython",
    "version": 3
   },
   "file_extension": ".py",
   "mimetype": "text/x-python",
   "name": "python",
   "nbconvert_exporter": "python",
   "pygments_lexer": "ipython3",
   "version": "3.12.4"
  }
 },
 "nbformat": 4,
 "nbformat_minor": 2
}
