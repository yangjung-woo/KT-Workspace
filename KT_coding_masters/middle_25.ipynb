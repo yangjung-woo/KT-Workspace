{
 "cells": [
  {
   "cell_type": "markdown",
   "metadata": {},
   "source": [
    "# 이동하기\n",
    "문제설명\n",
    "무한히 넓은 좌표평면이 있습니다.\n",
    "\n",
    "한 번의 이동으로 상하좌우 중 한 방향으로 1 만큼 움직일 수 있습니다. 예를 들어 현재 좌표가 (0, 0)이라면, 한 번의 이동으로 갈 수 있는 좌표는 (0, 1), (0, -1), (1, 0), (-1, 0) 의 네 곳입니다.\n",
    "\n",
    "당신은 (x1, y1)에서 출발해 정확히 N번 이동하여 (x2, y2)에서 멈추려 합니다. 특히, 출발점을 포함해 이동 중 같은 좌표를 두 번 이상 방문해선 안됩니다. 그런 경로의 개수를 알려주세요.\n",
    "\n",
    "입출력 예\n",
    "입력 #1\n",
    "\n",
    "8\n",
    "0 0\n",
    "3 3\n",
    "\n",
    "입력 #2\n",
    "\n",
    "2\n",
    "-1 -1\n",
    "-1 -1\n",
    "\n",
    "입력값 설명\n",
    "\n",
    "첫 번째 줄에 N이 주어집니다. (1 ≤ N ≤ 10)\n",
    "\n",
    "두 번째 줄에 x1과 y1이 공백을 구분으로 주어집니다. (-100 ≤ x1, y1 ≤ 100)\n",
    "\n",
    "세 번째 줄에 x2와 y2가 공백을 구분으로 주어집니다. (-100 ≤ x2, y2 ≤ 100)\n",
    "\n",
    "출력 #1\n",
    "\n",
    "120\n",
    "\n",
    "출력 #2\n",
    "\n",
    "0\n",
    "\n",
    "출력값 설명\n",
    "\n",
    "지문의 조건을 만족하는 경로의 개수를 출력합니다."
   ]
  },
  {
   "cell_type": "markdown",
   "metadata": {},
   "source": [
    "# 문제접근 DFS 깊이우선 탐색으로 상하좌우 모든 맵을 탐색"
   ]
  },
  {
   "cell_type": "code",
   "execution_count": 1,
   "metadata": {},
   "outputs": [
    {
     "ename": "ValueError",
     "evalue": "invalid literal for int() with base 10: ''",
     "output_type": "error",
     "traceback": [
      "\u001b[1;31m---------------------------------------------------------------------------\u001b[0m",
      "\u001b[1;31mValueError\u001b[0m                                Traceback (most recent call last)",
      "Cell \u001b[1;32mIn[1], line 23\u001b[0m\n\u001b[0;32m     20\u001b[0m     \u001b[38;5;28;01mreturn\u001b[39;00m dfs(x1, y1, N, x2, y2, visited)\n\u001b[0;32m     22\u001b[0m \u001b[38;5;66;03m# 입력 처리\u001b[39;00m\n\u001b[1;32m---> 23\u001b[0m N \u001b[38;5;241m=\u001b[39m \u001b[38;5;28mint\u001b[39m(\u001b[38;5;28minput\u001b[39m())  \u001b[38;5;66;03m# 이동 횟수\u001b[39;00m\n\u001b[0;32m     24\u001b[0m x1, y1 \u001b[38;5;241m=\u001b[39m \u001b[38;5;28mmap\u001b[39m(\u001b[38;5;28mint\u001b[39m, \u001b[38;5;28minput\u001b[39m()\u001b[38;5;241m.\u001b[39msplit())  \u001b[38;5;66;03m# 시작 좌표\u001b[39;00m\n\u001b[0;32m     25\u001b[0m x2, y2 \u001b[38;5;241m=\u001b[39m \u001b[38;5;28mmap\u001b[39m(\u001b[38;5;28mint\u001b[39m, \u001b[38;5;28minput\u001b[39m()\u001b[38;5;241m.\u001b[39msplit())  \u001b[38;5;66;03m# 목표 좌표\u001b[39;00m\n",
      "\u001b[1;31mValueError\u001b[0m: invalid literal for int() with base 10: ''"
     ]
    }
   ],
   "source": [
    "# 문제접근 DFS 깊이우선 탐색으로 상하좌우 모든 맵을 탐색\n",
    "def dfs(x, y, moves_left, target_x, target_y, visited):\n",
    "    # 이동을 정확히 N번 했을 때 (x2, y2)에 도착하면 1을 반환\n",
    "    if moves_left == 0:\n",
    "        return 1 if (x, y) == (target_x, target_y) else 0\n",
    "    \n",
    "    count = 0\n",
    "    directions = [(0, 1), (0, -1), (1, 0), (-1, 0)]  # 상, 하, 좌, 우 방향\n",
    "    for dx, dy in directions:\n",
    "        nx, ny = x + dx, y + dy\n",
    "        if (nx, ny) not in visited:\n",
    "            visited.add((nx, ny))  # 방문 기록\n",
    "            count += dfs(nx, ny, moves_left - 1, target_x, target_y, visited)\n",
    "            visited.remove((nx, ny))  # 되돌아가면서 방문 기록 삭제\n",
    "    \n",
    "    return count\n",
    "\n",
    "def count_paths(N, x1, y1, x2, y2):\n",
    "    visited = set()\n",
    "    visited.add((x1, y1))\n",
    "    return dfs(x1, y1, N, x2, y2, visited)\n",
    "\n",
    "# 입력 처리\n",
    "N = int(input())  # 이동 횟수\n",
    "x1, y1 = map(int, input().split())  # 시작 좌표\n",
    "x2, y2 = map(int, input().split())  # 목표 좌표\n",
    "\n",
    "# 결과 출력\n",
    "print(count_paths(N, x1, y1, x2, y2))"
   ]
  },
  {
   "cell_type": "code",
   "execution_count": null,
   "metadata": {},
   "outputs": [],
   "source": []
  }
 ],
 "metadata": {
  "kernelspec": {
   "display_name": "base",
   "language": "python",
   "name": "python3"
  },
  "language_info": {
   "codemirror_mode": {
    "name": "ipython",
    "version": 3
   },
   "file_extension": ".py",
   "mimetype": "text/x-python",
   "name": "python",
   "nbconvert_exporter": "python",
   "pygments_lexer": "ipython3",
   "version": "3.12.4"
  }
 },
 "nbformat": 4,
 "nbformat_minor": 2
}
