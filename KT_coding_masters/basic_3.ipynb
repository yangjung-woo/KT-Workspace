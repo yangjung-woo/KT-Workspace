{
 "cells": [
  {
   "cell_type": "markdown",
   "metadata": {},
   "source": [
    "# 8진수와 16진수\n",
    "## 문제설명\n",
    "중학생이 된 수진이는 수학시간에 어떤 음이아닌 정수 N을 b진수로 표현하는 방법을 배웠습니다. \n",
    "\n",
    "어떤 수를 b진수로 변환하려면 그 수를 0이 될 때까지 b로 나누고, 그 나머지를 거꾸로 읽어 올라가면 됩니다. \n",
    "\n",
    "예를 들어 99를 8진수로 변환하는 과정은 다음과 같습니다.\n",
    "\n",
    " 99를 8로 나눈 몫은 12이고 나머지는 3입니다.\n",
    "  12를 8로 나눈 몫은 1이고 나머지는 4입니다. \n",
    "  1을 8로 나눈 몫은 0이고 나머지는 1입니다. \n",
    "  나머지를 거꾸로 읽어 올라가면 143이므로 99를 8진수로 표현하면 143입니다.\n",
    "  \n",
    "한편, 28을 16진수로 변환하는 과정은 다음과 같습니다. \n",
    "이때 나머지가 10~15 인 경우 편의상 A~F로 나타냅니다. \n",
    "즉, 나머지가 10이면 A, 11이면 B, 12이면 C로 대신 표현합니다.\n",
    "28을 16으로 나누면 몫이 1이고 나머지는 12입니다. 즉 C입니다. \n",
    "1을 16으로 나누면 몫이 0이고 나머지는 1입니다. \n",
    "나머지를 거꾸로 읽어 올라가면 1C이므로 28을 16진수로 표현하면 1C입니다. \n",
    "\n",
    "수진이는 N을 8진수와 16진수로 표현해봤는데 본인이 맞게 표현했는지 궁금해졌습니다. \n",
    "    \n",
    "수진이를 위해 10진수 N을 입력 받아 그 수의 8진수와 16진수 표현을 모두 출력하는 프로그램을 작성하세요.\n",
    "\n",
    "입출력 예\n",
    "입력 #1\n",
    "\n",
    "28\n",
    "\n",
    "입력 #2\n",
    "\n",
    "99\n",
    "\n",
    "입력값 설명\n",
    "\n",
    "10진수 정수 N이 입력됩니다. (0 ≤ N ≤ 1,000,000)\n",
    "\n",
    "출력 #1\n",
    "\n",
    "34 1C\n",
    "\n",
    "출력 #2\n",
    "\n",
    "143 63\n",
    "\n",
    "출력값 설명\n",
    "\n",
    "10진수 정수 N에 대해서 공백을 기준으로 8진수로 변환한 숫자와 16진수로 변환한 숫자를 출력합니다. 이 때 알파벳은 대문자로 출력합니다."
   ]
  },
  {
   "cell_type": "code",
   "execution_count": 8,
   "metadata": {},
   "outputs": [
    {
     "name": "stdout",
     "output_type": "stream",
     "text": [
      "143 63\n"
     ]
    }
   ],
   "source": [
    "orign_A = int(input())\n",
    "\n",
    "stack_8 = []\n",
    "stack_16 = []\n",
    "\n",
    "answer_8 = ''\n",
    "answer_16 = ''\n",
    "A = orign_A\n",
    "# 8진수 표현\n",
    "while A >0:\n",
    "    stack_8.append(A%8)\n",
    "    A = A // 8\n",
    "\n",
    "for i in reversed(stack_8):\n",
    "    answer_8 += str(i)\n",
    "\n",
    "B = orign_A\n",
    "while B >0:\n",
    "    \n",
    "    if B% 16 == 10:\n",
    "        insert_16 = 'A'\n",
    "    elif B%16 ==11:\n",
    "        insert_16 = 'B'\n",
    "    elif B%16 ==12:\n",
    "        insert_16 = 'C'\n",
    "    elif B%16 ==13:\n",
    "        insert_16 = 'D'\n",
    "    elif B%16 ==14:\n",
    "        insert_16 = 'E'\n",
    "    elif B%16 ==15:\n",
    "        insert_16 = 'F'\n",
    "    else:\n",
    "        insert_16 = str(B%16)\n",
    "\n",
    "    stack_16.append(insert_16)\n",
    "    B = B // 16\n",
    "    \n",
    "for i in reversed(stack_16):\n",
    "    answer_16 += str(i)\n",
    "\n",
    "print(answer_8 , answer_16)"
   ]
  }
 ],
 "metadata": {
  "kernelspec": {
   "display_name": "base",
   "language": "python",
   "name": "python3"
  },
  "language_info": {
   "codemirror_mode": {
    "name": "ipython",
    "version": 3
   },
   "file_extension": ".py",
   "mimetype": "text/x-python",
   "name": "python",
   "nbconvert_exporter": "python",
   "pygments_lexer": "ipython3",
   "version": "3.12.4"
  }
 },
 "nbformat": 4,
 "nbformat_minor": 2
}
