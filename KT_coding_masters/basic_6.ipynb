{
 "cells": [
  {
   "cell_type": "markdown",
   "metadata": {},
   "source": [
    "# 가장 큰 나머지\n",
    "\n",
    "문제설명\n",
    "어떤 정수를 다른 어떤 정수로 나누면 나머지 수가 발생합니다. 또, 어떤 수로 나누느냐에 따라 다른 나머지가 발생할 수 있습니다. 예를 들어 23을 5로 나누면 나머지가 3이지만, 7로 나누면 나머지는 2입니다. 100 이상의 정수 N이 주어지면 N을 각각 5와 7로 나누었을 때의 나머지 중 더 큰 나머지를 출력하는 프로그램을 작성하세요.\n",
    "\n",
    "입출력 예\n",
    "입력 #1\n",
    "\n",
    "37\n",
    "\n",
    "입력 #2\n",
    "\n",
    "9995\n",
    "\n",
    "입력값 설명\n",
    "\n",
    "첫째 줄에 정수 N이 주어집니다. (100 ≤ N ≤ 10,000)\n",
    "\n",
    "출력 #1\n",
    "\n",
    "2\n",
    "\n",
    "출력 #2\n",
    "\n",
    "6\n",
    "\n",
    "출력값 설명\n",
    "\n",
    "N을 5와 7로 나누었을 때의 나머지 중에서 더 큰 값을 출력합니다. 만약 같더라도 하나만 출력합니다."
   ]
  },
  {
   "cell_type": "code",
   "execution_count": 2,
   "metadata": {},
   "outputs": [
    {
     "name": "stdout",
     "output_type": "stream",
     "text": [
      "6\n"
     ]
    }
   ],
   "source": [
    "a = int(input())\n",
    "\n",
    "if a%5 >= a&7:\n",
    "    print(a%5)\n",
    "else:\n",
    "    print(a%7)"
   ]
  }
 ],
 "metadata": {
  "kernelspec": {
   "display_name": "base",
   "language": "python",
   "name": "python3"
  },
  "language_info": {
   "codemirror_mode": {
    "name": "ipython",
    "version": 3
   },
   "file_extension": ".py",
   "mimetype": "text/x-python",
   "name": "python",
   "nbconvert_exporter": "python",
   "pygments_lexer": "ipython3",
   "version": "3.12.4"
  }
 },
 "nbformat": 4,
 "nbformat_minor": 2
}
