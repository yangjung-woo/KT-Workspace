{
 "cells": [
  {
   "cell_type": "markdown",
   "metadata": {},
   "source": [
    "# 문서 통계\n",
    "\n",
    "문제설명\n",
    "많은 워드프로세서들은 문서에 대한 통계를 제공합니다. 한 줄 분량의 문서가 주어졌을 때, 이 문서에 대한 통계를 출력하는 프로그램을 작성해 주세요.\n",
    "\n",
    "입출력 예\n",
    "입력 #1\n",
    "\n",
    "Coding Masters\n",
    "\n",
    "입력 #2\n",
    "\n",
    "A(공백)B(공백)(공백)C(공백)D(공백)(공백)(공백)E\n",
    "\n",
    "입력값 설명\n",
    "\n",
    "문서의 내용이 주어집니다. 문서는 100자 이내의 문자열이며, 알파벳 대문자와 소문자, 공백으로만 이루어져 있습니다.\n",
    "문자열의 맨 처음과 맨 마지막 글자는 공백 문자가 아닙니다.\n",
    "\n",
    "출력 #1\n",
    "\n",
    "14\n",
    "13\n",
    "2\n",
    "\n",
    "출력 #2\n",
    "\n",
    "12\n",
    "5\n",
    "5\n",
    "\n",
    "출력값 설명\n",
    "\n",
    "첫째 줄에 공백을 포함한 글자 수를 출력합니다.\n",
    "둘째 줄에 공백을 제외한 글자 수를 출력합니다.\n",
    "셋째 줄에 단어의 수를 출력합니다."
   ]
  },
  {
   "cell_type": "markdown",
   "metadata": {},
   "source": [
    "# 문제접근 , 문자열을 다루기\n",
    "\n",
    "출력 \n",
    "1. 공백을 포함한 글자 수  = len()\n",
    "2. 공백을 제외한 글자 수 = len - ''.count\n",
    "3. 단어 수    = .split "
   ]
  },
  {
   "cell_type": "code",
   "execution_count": 2,
   "metadata": {},
   "outputs": [
    {
     "name": "stdout",
     "output_type": "stream",
     "text": [
      "12\n",
      "5\n",
      "5\n"
     ]
    }
   ],
   "source": [
    "s = input()\n",
    "\n",
    "print(len(s)) #1. 공백을 포함한 글자 수  = len()\n",
    "cnt = 0\n",
    "for i in s:\n",
    "    if i ==' ':\n",
    "        cnt+=1\n",
    "\n",
    "print(len(s) - cnt) # 2. 공백을 제외한 글자 수 = len - ''.count \n",
    "print(len(s.split())) # 3. 단어 수    = .split "
   ]
  }
 ],
 "metadata": {
  "kernelspec": {
   "display_name": "base",
   "language": "python",
   "name": "python3"
  },
  "language_info": {
   "codemirror_mode": {
    "name": "ipython",
    "version": 3
   },
   "file_extension": ".py",
   "mimetype": "text/x-python",
   "name": "python",
   "nbconvert_exporter": "python",
   "pygments_lexer": "ipython3",
   "version": "3.12.4"
  }
 },
 "nbformat": 4,
 "nbformat_minor": 2
}
