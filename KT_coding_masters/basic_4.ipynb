{
 "cells": [
  {
   "cell_type": "markdown",
   "metadata": {},
   "source": [
    "# 아스키 코드\n",
    "문제설명\n",
    "아스키(ASCII, American Standard Code for Information Interchange)는 문자 인코딩의 한 종류입니다. 아스키에서 128개의 문자는 각각 0 이상 128 미만의 정수에 대응됩니다. 10진수 정수 A를 입력받고, 아스키 표에 따라 정수 A를 문자로 변환하여 출력하는 프로그램을 작성하세요.\n",
    "\n",
    "입출력 예\n",
    "입력 #1\n",
    "\n",
    "65\n",
    "\n",
    "입력 #2\n",
    "\n",
    "66\n",
    "\n",
    "입력값 설명\n",
    "\n",
    "10진수 정수 A가 입력됩니다. (65 ≤ A ≤ 90)\n",
    "\n",
    "출력 #1\n",
    "\n",
    "A\n",
    "\n",
    "출력 #2\n",
    "\n",
    "B\n",
    "\n",
    "출력값 설명\n",
    "\n",
    "첫째 줄에 정답을 출력합니다."
   ]
  },
  {
   "cell_type": "code",
   "execution_count": 4,
   "metadata": {},
   "outputs": [
    {
     "name": "stdout",
     "output_type": "stream",
     "text": [
      "A\n"
     ]
    }
   ],
   "source": [
    "N = int(input())\n",
    "\n",
    "\n",
    "print(chr(N))  \n",
    "## 정수 >> 아스키 문자로 변환 : chr()\n",
    "## 아스키 문자 > 정수로 변환 : ord()"
   ]
  }
 ],
 "metadata": {
  "kernelspec": {
   "display_name": "base",
   "language": "python",
   "name": "python3"
  },
  "language_info": {
   "codemirror_mode": {
    "name": "ipython",
    "version": 3
   },
   "file_extension": ".py",
   "mimetype": "text/x-python",
   "name": "python",
   "nbconvert_exporter": "python",
   "pygments_lexer": "ipython3",
   "version": "3.12.4"
  }
 },
 "nbformat": 4,
 "nbformat_minor": 2
}
