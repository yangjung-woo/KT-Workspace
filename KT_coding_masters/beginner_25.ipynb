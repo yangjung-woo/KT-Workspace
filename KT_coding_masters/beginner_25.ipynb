{
 "cells": [
  {
   "cell_type": "markdown",
   "metadata": {},
   "source": [
    "# 파스칼 피라미드\n",
    "문제설명\n",
    "파스칼 피라미드는 파스칼의 삼각형을 3차원으로 확장한 개념으로 정수가 나열된 사면체의 모양을 하고 있습니다. 논의를 간단하게 하기 위해 밑면이 직각이등변삼각형인 삼각뿔 모양이라고 가정하겠습니다. 파스칼 피라미드를 만드는 방법은 다음과 같습니다.\n",
    "\n",
    "1. 먼저 삼각뿔 맨꼭대기(1층)에 1행 1열에 1을 써넣습니다. \n",
    "2. 그 아래층의 i행 j열에는 바로 윗층 i행 j열, i-1행 j열, i행 j-1열의 요소들을 더한 값을 써넣습니다. 만약 윗층에 해당 요소가 없다면 0으로 간주합니다. \n",
    "\n",
    "파스칼 피라미드의 각 층을 분리해서 4층까지 표현하면 다음과 같습니다. \n",
    "\n",
    "<1층>\n",
    "\n",
    "1\n",
    "\n",
    "<2층>\n",
    "\n",
    "1 1\n",
    "\n",
    "1\n",
    "\n",
    "<3층>\n",
    "\n",
    "1 2 1\n",
    "\n",
    "2 2\n",
    "\n",
    "1\n",
    "\n",
    "<4층>\n",
    "\n",
    "1 3 3 1\n",
    "\n",
    "3 6 3\n",
    "\n",
    "3 3\n",
    "\n",
    "1\n",
    "\n",
    "정수 n이 입력될 때, 파스칼 피라미드 n층을 출력하는 프로그램을 작성해봅시다.\n",
    "\n",
    "입출력 예\n",
    "입력 #1\n",
    "\n",
    "3\n",
    "\n",
    "입력 #2\n",
    "\n",
    "4\n",
    "\n",
    "입력값 설명\n",
    "\n",
    "정수 n이 입력됩니다. (1 ≤ n ≤ 15)\n",
    "\n",
    "출력 #1\n",
    "\n",
    "1 2 1\n",
    "2 2\n",
    "1\n",
    "\n",
    "출력 #2\n",
    "\n",
    "1 3 3 1\n",
    "3 6 3\n",
    "3 3\n",
    "1\n",
    "\n",
    "출력값 설명\n",
    "\n",
    "문제 예시와 같이 n줄에 걸쳐서 파스칼 피라미드의 n층을 출력합니다."
   ]
  },
  {
   "cell_type": "markdown",
   "metadata": {},
   "source": [
    "# 문제접근\n",
    "- 그 아래층의 i행 j열에는 바로 윗층 i행 j열, i-1행 j열, i행 j-1열의 요소들을 더한 값을 써넣습니다. 만약 윗층에 해당 요소가 없다면 0으로 간주합니다. \n",
    "\n",
    "- piramid[0] = 1\n",
    "- piramid[1] = 1 1 \n",
    "- piramid[2] = "
   ]
  },
  {
   "cell_type": "code",
   "execution_count": null,
   "metadata": {},
   "outputs": [],
   "source": []
  },
  {
   "cell_type": "code",
   "execution_count": 3,
   "metadata": {},
   "outputs": [
    {
     "name": "stdout",
     "output_type": "stream",
     "text": [
      "1 7 21 35 35 21 7 1\n",
      "7 42 105 140 105 42 7\n",
      "21 105 210 210 105 21\n",
      "35 140 210 140 35\n",
      "35 105 105 35\n",
      "21 42 21\n",
      "7 7\n",
      "1\n"
     ]
    }
   ],
   "source": [
    "from math import comb\n",
    "\n",
    "def generate_pascals_pyramid_layer(n):\n",
    "    # n층의 파스칼 피라미드 값을 저장할 리스트\n",
    "    pyramid_layer = []\n",
    "\n",
    "    # 주어진 n에 대해 파스칼 피라미드의 n층을 계산\n",
    "    for y in range(n + 1):\n",
    "        row = []\n",
    "        for z in range(n + 1 - y):\n",
    "            # 각 좌표에 대해 조합(combination) 값을 계산\n",
    "            value = comb(n, y) * comb(n - y, z)\n",
    "            row.append(value)\n",
    "        pyramid_layer.append(row)\n",
    "    \n",
    "    return pyramid_layer\n",
    "\n",
    "def print_pascals_pyramid_layer(layer):\n",
    "    # 파스칼 피라미드의 n층을 출력\n",
    "    for row in layer:\n",
    "        print(' '.join(map(str, row)) , end='\\n')\n",
    "\n",
    "# 입력 예시 1\n",
    "n = int(input())  # n을 입력받음\n",
    "\n",
    "# n층의 파스칼 피라미드를 생성하고 출력\n",
    "layer = generate_pascals_pyramid_layer(n-1)\n",
    "print_pascals_pyramid_layer(layer)"
   ]
  }
 ],
 "metadata": {
  "kernelspec": {
   "display_name": "base",
   "language": "python",
   "name": "python3"
  },
  "language_info": {
   "codemirror_mode": {
    "name": "ipython",
    "version": 3
   },
   "file_extension": ".py",
   "mimetype": "text/x-python",
   "name": "python",
   "nbconvert_exporter": "python",
   "pygments_lexer": "ipython3",
   "version": "3.12.4"
  }
 },
 "nbformat": 4,
 "nbformat_minor": 2
}
