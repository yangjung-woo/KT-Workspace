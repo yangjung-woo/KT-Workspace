{
 "cells": [
  {
   "cell_type": "markdown",
   "metadata": {},
   "source": [
    "# 기억상실\n",
    "문제설명\n",
    "민규는 가벼운 기억상실증을 앓고 있습니다. 오늘 무엇인가를 외우면 잠을 자면서 일부를 잊는 증세를 보입니다. 영어시험을 준비하는 민규는 단어 N개를 모두 외워야 합니다. 민규는 하루에 A개의 단어를 외울 수 있습니다. 하지만, 밤에 잠을 자면서 B개를 까먹습니다. N개를 모두 외우는 날에 민규는 목적을 달성합니다. 또한 모두 외우는 날에는 밤에 단어를 까먹는 것을 생각하지 않고 N개의 단어를 모두 외웠다고 간주합니다. 민규가 외워야 하는 N개의 단어가 주어졌을 때, 단어를 모두 외우려면 며칠이 걸리는지 구하는 프로그램을 작성하세요.\n",
    "\n",
    "입출력 예\n",
    "입력 #1\n",
    "\n",
    "2 1 5\n",
    "\n",
    "입력 #2\n",
    "\n",
    "3 2 6\n",
    "\n",
    "입력값 설명\n",
    "\n",
    "첫째 줄에 세 정수 A, B, N이 공백으로 구분되어서 주어집니다. (1 ≤ B < A ≤ N ≤ 1,000,000,000)\n",
    "\n",
    "출력 #1\n",
    "\n",
    "4\n",
    "\n",
    "출력 #2\n",
    "\n",
    "4\n",
    "\n",
    "출력값 설명\n",
    "\n",
    "첫째 줄에 민규가 N개의 단어를 모두 외우는데 며칠이 걸리는지 출력합니다."
   ]
  },
  {
   "cell_type": "code",
   "execution_count": 1,
   "metadata": {},
   "outputs": [
    {
     "name": "stdout",
     "output_type": "stream",
     "text": [
      "4\n"
     ]
    }
   ],
   "source": [
    "# n 의 최대값이 10*10 이라서 단순 반복문의 경우 O(N)의 경우 시간초과가 발생할 것 같음 \n",
    "# 계산공식이 있지 않을까?\n",
    "\n",
    "# 1. 마지막 날에 단어를 다 외우게 되면 잊는 것은 고려하지 않아도 됨 \n",
    "# 2. 마지막 날을 제외하고 이틀간 외우는 단어 수는  A -B개 \n",
    "# 예제 1) 2 1 5   >>  마지막날 제외 (5-2=3)3개 단어를 외우는데 걸리는 일  : 3 / (A-B=1)1 =3 \n",
    "# 예제 2) 3 2 6   >>  (6 - 3) 3개 외우는데 걸리는일 : 3/ (3-2=1)1 = 3  \n",
    "# 3 + 1일  \n",
    "\n",
    "a , b , n = map(int, input().split())\n",
    "\n",
    "now = 0\n",
    "day_count = 0\n",
    "while True:\n",
    "    now += a\n",
    "    day_count +=1\n",
    "    if now >= n:\n",
    "        break\n",
    "    else:\n",
    "        now -= b\n",
    "print(day_count)       \n",
    "\n",
    "\n"
   ]
  }
 ],
 "metadata": {
  "kernelspec": {
   "display_name": "base",
   "language": "python",
   "name": "python3"
  },
  "language_info": {
   "codemirror_mode": {
    "name": "ipython",
    "version": 3
   },
   "file_extension": ".py",
   "mimetype": "text/x-python",
   "name": "python",
   "nbconvert_exporter": "python",
   "pygments_lexer": "ipython3",
   "version": "3.12.4"
  }
 },
 "nbformat": 4,
 "nbformat_minor": 2
}
