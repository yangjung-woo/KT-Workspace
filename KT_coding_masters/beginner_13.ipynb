{
 "cells": [
  {
   "cell_type": "markdown",
   "metadata": {},
   "source": [
    "# 배수 만들기\n",
    "문제설명\n",
    "N개의 한 자리 정수들이 주어졌을 때 이 정수들을 서로 이어붙여 만들 수 있는 가장 큰 300의 배수를 구하는 프로그램을 작성하세요. \n",
    "\n",
    "이 때, 주어진 모든 정수를 사용해야 합니다. \n",
    "예를 들어 3, 6, 9, 0, 5, 0, 7, 6이 주어졌을 때 만들 수 있는 가장 큰 300의 배수는 97665300입니다.\n",
    "\n",
    "0 또한 300의 배수임에 유의합니다.\n",
    "\n",
    "입출력 예\n",
    "입력 #1\n",
    "\n",
    "4\n",
    "2 4 0 0\n",
    "\n",
    "입력 #2\n",
    "\n",
    "4\n",
    "3 6 0 3\n",
    "\n",
    "입력값 설명\n",
    "\n",
    "첫째 줄에 정수의 개수 N이 주어집니다. (1 ≤ N ≤ 100)\n",
    "둘째 줄에는 N개의 정수가 공백으로 구분되어 주어집니다. \n",
    "각 정수 K에 대하여 0 ≤ K ≤ 9가 성립합니다. \n",
    "\n",
    "출력 #1\n",
    "\n",
    "4200\n",
    "\n",
    "출력 #2\n",
    "\n",
    "-1\n",
    "\n",
    "출력값 설명\n",
    "\n",
    "주어진 정수를 모두 이어붙여 만들 수 있는 가장 큰 300의 배수를 출력합니다. \n",
    "이 때 만들어지는 수가 0이 아닌데 0으로 시작해서는 안 됩니다. 답이 0이라면 하나의 0만을 출력해야 합니다.\n",
    "즉, 300을 출력할 때, 0300과 같은 형식으로 출력해서는 안 됩니다. \n",
    "\n",
    "만약 300의 배수를 만들 수 없다면 -1을 출력합니다."
   ]
  },
  {
   "cell_type": "code",
   "execution_count": null,
   "metadata": {},
   "outputs": [],
   "source": [
    "# 문제접근 완전탐색 \n",
    "\n",
    "# 예외 상황 \n",
    "\n",
    "# 1. 0 만 있는 경우 0출력\n",
    "# 2. 리스트 내 0이 2개이상 없는 경우 \n",
    "# 3. 3의 배수의 성질: 모든 자리의 합이 3의 배수여야 함 , 즉 모든 자리수 합 이 3의배수가 아니면 \n",
    "\n",
    "# 증명 \n",
    "# 10 mod 3 = 1 임 \n",
    "# a * 10**n mod 3  == a* 1 mod 3  임 즉  (a1+a2....) mod 3 ==0 이 되야 하므로  모든 자리수의 합이  3의 배수가 되야 함"
   ]
  },
  {
   "cell_type": "code",
   "execution_count": 11,
   "metadata": {},
   "outputs": [
    {
     "name": "stdout",
     "output_type": "stream",
     "text": [
      "0\n"
     ]
    }
   ],
   "source": [
    "n = int(input())\n",
    "\n",
    "l = list(map(int, input().split()))\n",
    "\n",
    "l.sort(reverse=True)\n",
    "\n",
    "result = ''.join(map(str,l))\n",
    "\n",
    "if int(result) == 0:\n",
    "    print(0)\n",
    "else: # result가 0은 아닌 상황\n",
    "    \n",
    "    if result.count('0')>=2 and sum(l)%3 ==0:\n",
    "        print(result)\n",
    "    else:\n",
    "        print(-1)\n",
    "    \n",
    "    \n",
    "\n",
    "    "
   ]
  }
 ],
 "metadata": {
  "kernelspec": {
   "display_name": "base",
   "language": "python",
   "name": "python3"
  },
  "language_info": {
   "codemirror_mode": {
    "name": "ipython",
    "version": 3
   },
   "file_extension": ".py",
   "mimetype": "text/x-python",
   "name": "python",
   "nbconvert_exporter": "python",
   "pygments_lexer": "ipython3",
   "version": "3.12.4"
  }
 },
 "nbformat": 4,
 "nbformat_minor": 2
}
