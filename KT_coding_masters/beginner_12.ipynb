{
 "cells": [
  {
   "cell_type": "markdown",
   "metadata": {},
   "source": [
    "# 조합\n",
    "문제설명\n",
    "정수 A와 B가 입력될 때 A개의 원소에서 B개의 원소를 뽑는 조합에 대한 총 경우의 수를 출력하는 프로그램을 작성하세요.\n",
    "\n",
    "입출력 예\n",
    "입력 #1\n",
    "\n",
    "10 5\n",
    "\n",
    "입력 #2\n",
    "\n",
    "7 2\n",
    "\n",
    "입력값 설명\n",
    "\n",
    "첫 번째 줄에 정수 A와 B가 공백을 기준으로 입력됩니다. (1 ≤ B ≤ A ≤ 30)\n",
    "\n",
    "출력 #1\n",
    "\n",
    "252\n",
    "\n",
    "출력 #2\n",
    "\n",
    "21\n",
    "\n",
    "출력값 설명\n",
    "\n",
    "A개의 원소에서 B개의 원소를 뽑는 조합에 대한 총 경우의 수를 출력합니다."
   ]
  },
  {
   "cell_type": "code",
   "execution_count": 4,
   "metadata": {},
   "outputs": [
    {
     "name": "stdout",
     "output_type": "stream",
     "text": [
      "21\n"
     ]
    }
   ],
   "source": [
    "a , b = map(int,input().split())\n",
    "son = 1\n",
    "mom = 1\n",
    "\n",
    "if a == b:\n",
    "    print(1)\n",
    "else:\n",
    "    for j in range(1,b+1):\n",
    "        son = son *a\n",
    "        a -= 1\n",
    "        mom *= j\n",
    "    \n",
    "    print( int(son / mom))"
   ]
  }
 ],
 "metadata": {
  "kernelspec": {
   "display_name": "base",
   "language": "python",
   "name": "python3"
  },
  "language_info": {
   "codemirror_mode": {
    "name": "ipython",
    "version": 3
   },
   "file_extension": ".py",
   "mimetype": "text/x-python",
   "name": "python",
   "nbconvert_exporter": "python",
   "pygments_lexer": "ipython3",
   "version": "3.12.4"
  }
 },
 "nbformat": 4,
 "nbformat_minor": 2
}
