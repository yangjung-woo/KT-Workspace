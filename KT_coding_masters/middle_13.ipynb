{
 "cells": [
  {
   "cell_type": "markdown",
   "metadata": {},
   "source": [
    "# 선분\n",
    "문제설명\n",
    "원의 테두리에 여러 개의 점이 있습니다. 각 점에서 다른 점으로 이어지는 선분을 하나씩 그리는데, 선분끼리 교차되지 않도록 합니다. \n",
    "점의 개수가 주어질 때, 그릴 수 있는 선분의 최대 개수를 출력하세요. \n",
    "\n",
    "입출력 예\n",
    "입력 #1\n",
    "\n",
    "4\n",
    "\n",
    "입력 #2\n",
    "\n",
    "6\n",
    "\n",
    "입력값 설명\n",
    "\n",
    "첫째 줄에 점의 개수 N이 2 이상 50 이하의 자연수로 주어집니다.\n",
    "\n",
    "출력 #1\n",
    "\n",
    "5\n",
    "\n",
    "출력 #2\n",
    "\n",
    "9\n",
    "\n",
    "출력값 설명\n",
    "\n",
    "첫째 줄에 그릴 수 있는 선분의 개수를 출력합니다."
   ]
  },
  {
   "cell_type": "markdown",
   "metadata": {},
   "source": [
    "# 문제 접근 \n",
    "\n",
    "원 안에 최대 선분갯수를 구하라 \n",
    "\n",
    "이전 단계에서 점 하나 추가한 후 인접한 두 점을 이어주면 최대 선분 개수임 \n",
    "\n",
    "점화식: \n",
    " Dp[n] = dp[n-1] +2 "
   ]
  },
  {
   "cell_type": "code",
   "execution_count": 2,
   "metadata": {},
   "outputs": [
    {
     "name": "stdout",
     "output_type": "stream",
     "text": [
      "9\n"
     ]
    }
   ],
   "source": [
    "# 이전 단계에서 점 하나 추가한 후 인접한 두 점을 이어주면 최대 선분 개수임 \n",
    "\n",
    "#점화식:  Dp[n] = dp[n-1] +2 \n",
    "n = int(input())\n",
    "\n",
    "dp = [0]* (n+1)\n",
    "dp[2] = 1\n",
    "\n",
    "for i in range(3,n+1):\n",
    "    dp[i] = dp[i-1] +2 \n",
    "    \n",
    "print(dp[n])\n",
    " "
   ]
  }
 ],
 "metadata": {
  "kernelspec": {
   "display_name": "base",
   "language": "python",
   "name": "python3"
  },
  "language_info": {
   "codemirror_mode": {
    "name": "ipython",
    "version": 3
   },
   "file_extension": ".py",
   "mimetype": "text/x-python",
   "name": "python",
   "nbconvert_exporter": "python",
   "pygments_lexer": "ipython3",
   "version": "3.12.4"
  }
 },
 "nbformat": 4,
 "nbformat_minor": 2
}
