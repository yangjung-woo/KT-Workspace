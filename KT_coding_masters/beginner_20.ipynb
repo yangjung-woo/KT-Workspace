{
 "cells": [
  {
   "cell_type": "markdown",
   "metadata": {},
   "source": [
    "# 신입사원 채용\n",
    "\n",
    "## 문제설명\n",
    "유한그룹 신입사원 공채모집의 서류심사와 면접심사가 모두 끝났습니다. \n",
    "인사과 직원들은 점수가 높은 사람들을 뽑아 채용하려고 합니다. \n",
    "심사기준은 서류심사와 면접심사에 대해서 두 부분 모두 점수가 높은 사람부터 등수를 매기는 것입니다. \n",
    "하지만 두 사람의 우열을 가릴 수 없는 경우에는 두 사람이 같은 등수라고 판단합니다. \n",
    "\n",
    "먼저 A의 서류점수와 면접점수가 각각 70점, 50점이고 B의 서류점수와 면접점수가 각각 83점, 60점이라면, 서류점수와 면접점수가 둘 다 A보다 B가 높기 때문에 B가 더 높은 등수여야 합니다. \n",
    "\n",
    "또, A의 서류점수와 면접점수가 각각 53점, 62점이고 B의 서류점수와 면접점수가 각각 53점, 36점이라면, 서류점수는 동일하지만 면접점수가 A가 B보다 더 높기 때문에 A가 더 높은 등수여야 합니다.\n",
    "물론 면접점수만 같고 서류점수만 다른 경우에도 동일한 방식으로 등수가 매겨집니다.  \n",
    "\n",
    "한편, A의 서류점수와 면접점수가 각각 37점, 96점이고 B의 서류점수와 면접점수가 각각 72점, 28점이라면, 어느 한 쪽이 더 높다고 할 수 없으므로 이 둘은 같은 등수여야 합니다. \n",
    "\n",
    "마지막으로, A의 서류점수와 면접점수가 각각 68점, 73점, B의 서류점수와 면접점수가 각각 56점, 64점, C의 서류점수와 면접점수가 각각 71점, 56점이라고 해봅시다. \n",
    "A와 B만 보았을 때는 서로의 우열을 가릴 수 있지만, A와 C는 서로의 우열을 가릴 수 없고, B와 C도 서로의 우열을 가릴 수 없습니다.\n",
    "이러한 경우에는 A, B, C 모두 같은 등수로 판정되어야 합니다. \n",
    " \n",
    "N명의 지원자들의 서류점수와 면접점수가 주어졌을 때, 지원자들의 등수를 차례대로 출력하는 프로그램을 작성해주세요. \n",
    "\n",
    "### 입출력 예\n",
    "입력 #1\n",
    "\n",
    "2\n",
    "\n",
    "62 53\n",
    "\n",
    "36 53\n",
    "\n",
    "입력 #2\n",
    "\n",
    "5\n",
    "\n",
    "68 73\n",
    "\n",
    "56 64\n",
    "\n",
    "71 56\n",
    "\n",
    "15 23\n",
    "\n",
    "18 22\n",
    "\n",
    "입력값 설명\n",
    "\n",
    "첫번째 줄에는 지원자의 수 N이 주어집니다. \n",
    "그리고 이어지는 N개의 줄에는 각 지원자의 서류 점수와 면접 점수를 나타내는 자연수 x와 y가 공백을 구분으로 하여 각각 주어집니다. \n",
    "(2 ≤ N ≤ 50, 10 ≤ x, y ≤ 200)\n",
    "\n",
    "출력 #1\n",
    "\n",
    "1 2\n",
    "\n",
    "출력 #2\n",
    "\n",
    "1 1 1 4 4\n",
    "\n",
    "출력값 설명\n",
    "\n",
    "첫번째 줄에 각 지원자들의 등수를 공백을 두고 입력받은 순서대로 출력합니다."
   ]
  },
  {
   "cell_type": "code",
   "execution_count": 5,
   "metadata": {},
   "outputs": [
    {
     "name": "stdout",
     "output_type": "stream",
     "text": [
      "1 1 1 1 1\n"
     ]
    }
   ],
   "source": [
    "def rank_candidates(scores):\n",
    "    n = len(scores)\n",
    "    ranks = [1] * n  # 모든 지원자의 기본 등수를 1로 초기화\n",
    "    \n",
    "    # 각 지원자에 대해 다른 지원자와 비교하여 등수를 계산\n",
    "    for i in range(n):\n",
    "        for j in range(n):\n",
    "            if i != j:\n",
    "                ## 어떻게 접근할까??\n",
    "                # 두 점수를 모두 다른 지원자보다 낮으면 등수를 1씩 증가시킴\n",
    "                if scores[i][0] < scores[j][0] and scores[i][1] < scores[j][1]:\n",
    "                    ranks[i] += 1\n",
    "                elif (scores[i][0] > scores[j][0] and scores[i][1] < scores[j][1]) or (scores[i][0] < scores[j][0] and scores[i][1] > scores[j][1]):\n",
    "                    ranks[i] = ranks[j] = min(ranks[i], ranks[j])\n",
    "    \n",
    "    return ranks\n",
    "\n",
    "# 입력 받기\n",
    "n = int(input())  # 지원자 수\n",
    "scores = [tuple(map(int, input().split())) for _ in range(n)]\n",
    "\n",
    "# 등수 계산\n",
    "result = rank_candidates(scores)\n",
    "\n",
    "# 결과 출력\n",
    "print(\" \".join(map(str, result)))"
   ]
  },
  {
   "cell_type": "markdown",
   "metadata": {},
   "source": []
  },
  {
   "cell_type": "code",
   "execution_count": 3,
   "metadata": {},
   "outputs": [
    {
     "ename": "IndexError",
     "evalue": "list index out of range",
     "output_type": "error",
     "traceback": [
      "\u001b[1;31m---------------------------------------------------------------------------\u001b[0m",
      "\u001b[1;31mIndexError\u001b[0m                                Traceback (most recent call last)",
      "Cell \u001b[1;32mIn[3], line 27\u001b[0m\n\u001b[0;32m     24\u001b[0m     \u001b[38;5;28mprint\u001b[39m(\u001b[38;5;124m'\u001b[39m\u001b[38;5;124m \u001b[39m\u001b[38;5;124m'\u001b[39m\u001b[38;5;241m.\u001b[39mjoin(\u001b[38;5;28mmap\u001b[39m(\u001b[38;5;28mstr\u001b[39m, result)))\n\u001b[0;32m     26\u001b[0m \u001b[38;5;28;01mif\u001b[39;00m \u001b[38;5;18m__name__\u001b[39m \u001b[38;5;241m==\u001b[39m \u001b[38;5;124m\"\u001b[39m\u001b[38;5;124m__main__\u001b[39m\u001b[38;5;124m\"\u001b[39m:\n\u001b[1;32m---> 27\u001b[0m     main()\n",
      "Cell \u001b[1;32mIn[3], line 21\u001b[0m, in \u001b[0;36mmain\u001b[1;34m()\u001b[0m\n\u001b[0;32m     19\u001b[0m n \u001b[38;5;241m=\u001b[39m \u001b[38;5;28mint\u001b[39m(\u001b[38;5;28minput\u001b[39m())\n\u001b[0;32m     20\u001b[0m input_data \u001b[38;5;241m=\u001b[39m \u001b[38;5;28mlist\u001b[39m(\u001b[38;5;28mmap\u001b[39m(\u001b[38;5;28mint\u001b[39m, \u001b[38;5;28minput\u001b[39m()\u001b[38;5;241m.\u001b[39msplit()))\n\u001b[1;32m---> 21\u001b[0m applicants \u001b[38;5;241m=\u001b[39m [(input_data[i], input_data[i\u001b[38;5;241m+\u001b[39m\u001b[38;5;241m1\u001b[39m]) \u001b[38;5;28;01mfor\u001b[39;00m i \u001b[38;5;129;01min\u001b[39;00m \u001b[38;5;28mrange\u001b[39m(\u001b[38;5;241m1\u001b[39m, \u001b[38;5;28mlen\u001b[39m(input_data), \u001b[38;5;241m2\u001b[39m)]\n\u001b[0;32m     23\u001b[0m result \u001b[38;5;241m=\u001b[39m calculate_rankings(applicants)\n\u001b[0;32m     24\u001b[0m \u001b[38;5;28mprint\u001b[39m(\u001b[38;5;124m'\u001b[39m\u001b[38;5;124m \u001b[39m\u001b[38;5;124m'\u001b[39m\u001b[38;5;241m.\u001b[39mjoin(\u001b[38;5;28mmap\u001b[39m(\u001b[38;5;28mstr\u001b[39m, result)))\n",
      "\u001b[1;31mIndexError\u001b[0m: list index out of range"
     ]
    }
   ],
   "source": [
    "def calculate_rankings(applicants):\n",
    "    n = len(applicants)\n",
    "    rankings = [1] * n\n",
    "    \n",
    "    for i in range(n):\n",
    "        for j in range(n):\n",
    "            if i != j:\n",
    "                if applicants[i][0] < applicants[j][0] and applicants[i][1] < applicants[j][1]:\n",
    "                    rankings[i] += 1\n",
    "                elif (applicants[i][0] > applicants[j][0] and applicants[i][1] < applicants[j][1]) or (applicants[i][0] < applicants[j][0] and applicants[i][1] > applicants[j][1]):\n",
    "                    rankings[i] = rankings[j] = min(rankings[i], rankings[j])\n",
    "    \n",
    "    # 연속적인 등수로 조정\n",
    "    unique_ranks = sorted(set(rankings))\n",
    "    rank_mapping = {r: i + 1 for i, r in enumerate(unique_ranks)}\n",
    "    return [rank_mapping[r] for r in rankings]\n",
    "\n",
    "def main():\n",
    "    n = int(input())\n",
    "    input_data = list(map(int, input().split()))\n",
    "    applicants = [(input_data[i], input_data[i+1]) for i in range(1, len(input_data), 2)]\n",
    "    \n",
    "    result = calculate_rankings(applicants)\n",
    "    print(' '.join(map(str, result)))\n",
    "\n",
    "if __name__ == \"__main__\":\n",
    "    main()"
   ]
  }
 ],
 "metadata": {
  "kernelspec": {
   "display_name": "base",
   "language": "python",
   "name": "python3"
  },
  "language_info": {
   "codemirror_mode": {
    "name": "ipython",
    "version": 3
   },
   "file_extension": ".py",
   "mimetype": "text/x-python",
   "name": "python",
   "nbconvert_exporter": "python",
   "pygments_lexer": "ipython3",
   "version": "3.12.4"
  }
 },
 "nbformat": 4,
 "nbformat_minor": 2
}
