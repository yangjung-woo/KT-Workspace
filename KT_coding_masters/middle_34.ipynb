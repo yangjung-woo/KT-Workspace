{
 "cells": [
  {
   "cell_type": "markdown",
   "metadata": {},
   "source": [
    "사과 게임\n",
    "문제설명\n",
    "사과 게임은 1부터 9까지의 수가 쓰여있는 N x M크기의 격자에서, 직사각형 모양의 구역을 드래그 해 안에 있는 수의 합이 10이 되도록 하는 게임입니다. 격자가 주어질 때, 안에 있는 수의 합이 10이 되도록하는 직사각형의 개수를 출력하는 프로그램을 작성해 주세요.\n",
    "\n",
    "입출력 예\n",
    "입력 #1\n",
    "\n",
    "2 3\n",
    "8 2 9\n",
    "2 2 6\n",
    "\n",
    "입력 #2\n",
    "\n",
    "1 1\n",
    "9\n",
    "\n",
    "입력값 설명\n",
    "\n",
    "첫째 줄에 N과 M이 공백으로 구분되어 주어집니다. (1 ≤ N, M ≤ 10)\n",
    "이어서 N개의 줄에, 격자에 쓰인 수가 공백으로 구분되어 주어집니다.\n",
    "\n",
    "출력 #1\n",
    "\n",
    "3\n",
    "\n",
    "출력 #2\n",
    "\n",
    "0\n",
    "\n",
    "출력값 설명\n",
    "\n",
    "안에 있는 수의 합이 10이 되도록 하는 서로 다른 직사각형의 개수를 출력합니다."
   ]
  },
  {
   "cell_type": "code",
   "execution_count": null,
   "metadata": {},
   "outputs": [],
   "source": [
    "# 문제접근 : N,M 최대 10이기에  시간복잡도 O(N**8) 까지는 문제가 발생하지 않을것  \n",
    "\n",
    "# 입력 받기\n",
    "N, M = map(int, input().split())\n",
    "grid = [list(map(int, input().split())) for _ in range(N)]\n",
    "\n",
    "# 직사각형의 합이 10이 되는 경우의 수를 찾기 위한 변수\n",
    "count = 0\n",
    "\n",
    "# 모든 시작점과 끝점을 탐색하여 직사각형을 선택\n",
    "for x1 in range(N):\n",
    "    for y1 in range(M):\n",
    "        for x2 in range(x1, N):\n",
    "            for y2 in range(y1, M):\n",
    "                # 직사각형 내부의 합을 구함\n",
    "                total_sum = 0\n",
    "                for i in range(x1, x2 + 1):\n",
    "                    for j in range(y1, y2 + 1):\n",
    "                        total_sum += grid[i][j]\n",
    "                # 합이 10인 경우 카운트 증가\n",
    "                if total_sum == 10:\n",
    "                    count += 1\n",
    "\n",
    "# 결과 출력\n",
    "print(count)"
   ]
  }
 ],
 "metadata": {
  "language_info": {
   "name": "python"
  }
 },
 "nbformat": 4,
 "nbformat_minor": 2
}
