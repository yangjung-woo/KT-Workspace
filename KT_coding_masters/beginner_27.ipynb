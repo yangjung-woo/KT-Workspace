{
 "cells": [
  {
   "cell_type": "markdown",
   "metadata": {},
   "source": [
    "# 분수를 소수로\n",
    "문제설명\n",
    "우리가 사용하는 컴퓨터는 실수를 표현할 때 주로 부동소수점 방식을 활용하여 실수를 표현합니다. 이 방법은 일정한 데이터 용량 안에 넓은 범위의 실수를 표현할 수 있어서 널리 쓰이는 방식입니다. 하지만 부동소수점 방식은 실수를 정확한 실수값이 아닌 근삿값으로 저장한다는 단점이 있습니다. 실제로 파이썬에서 실수 0.1을 단순히 100자리까지 출력하면 다음과 같은 결과를 얻습니다. \n",
    "0.1000000000000000055511151231257827021181583404541015625000000000000000000000000000000000000000000000\n",
    "\n",
    "프로그래밍을 공부하고 있던 가영이는 무리수가 아닌 유리수까지도 실수 자료형으로는 근삿값으로 표현할 수 밖에 없다는 사실에 분노했습니다. 가영이를 위해 유리수와 알고 싶은 자릿수가 주어지면 이를 정확한 소수로 표현해주는 프로그램을 작성해봅시다. \n",
    "\n",
    "입출력 예\n",
    "입력 #1\n",
    "\n",
    "10555 33000\n",
    "\n",
    "3\n",
    "\n",
    "입력 #2\n",
    "\n",
    "10555 33000\n",
    "\n",
    "100\n",
    "\n",
    "입력값 설명\n",
    "\n",
    "첫 번째 줄에 분자를 의미하는 p와 분모를 의미하는 q가 주어집니다. (1 ≤ p < q ≤ 10¹²)\n",
    "\n",
    "두 번째 줄에 소수점 이하로 출력해야 할 자릿수 n이 주어집니다. (1 ≤ n ≤ 10,000)\n",
    "\n",
    "출력 #1\n",
    "\n",
    "0.32\n",
    "\n",
    "출력 #2\n",
    "\n",
    "0.319848485\n",
    "\n",
    "출력값 설명\n",
    "\n",
    "첫 번째 줄에 주어진 유리수를 소수로 고쳐서 출력하되, n+1번째 자리에서 반올림하여 정확히 소수점 이하 n자리를 출력합니다. \n",
    "\n",
    "실수 오차를 허용하지 않음에 주의합니다."
   ]
  },
  {
   "cell_type": "code",
   "execution_count": 5,
   "metadata": {},
   "outputs": [
    {
     "name": "stdout",
     "output_type": "stream",
     "text": [
      "319.85\n"
     ]
    }
   ],
   "source": [
    "a , b = map(int, input().split())\n",
    "n = int(input())\n",
    "\n",
    "# 반올림 round(숫자, 자리 )\n",
    "\n",
    "print( round((a / b), n))\n"
   ]
  },
  {
   "cell_type": "code",
   "execution_count": 4,
   "metadata": {},
   "outputs": [
    {
     "name": "stdout",
     "output_type": "stream",
     "text": [
      "0.3110\n",
      "0.3198484848484848484848484848484848484848484848484848484848484848484848484848484848484848484848484848\n"
     ]
    }
   ],
   "source": [
    "def fraction_to_decimal(p, q, n):\n",
    "    # 몫 구하기 (소수점 앞부분)\n",
    "    integer_part = p // q\n",
    "    result = str(integer_part) + \".\"\n",
    "\n",
    "    # 소수점 이하 자릿수를 구하기 위해 나머지 연산\n",
    "    remainder = p % q\n",
    "\n",
    "    # 소수점 이하 n 자릿수 계산\n",
    "    decimal_part = []\n",
    "    for _ in range(n + 1):  # n+1 자리까지 계산 (반올림 고려)\n",
    "        remainder *= 10\n",
    "        decimal_digit = remainder // q\n",
    "        decimal_part.append(decimal_digit)\n",
    "        remainder = remainder % q\n",
    "\n",
    "    # n+1번째 자릿수로 반올림\n",
    "    if decimal_part[n] >= 5:\n",
    "        decimal_part[n-1] += 1\n",
    "\n",
    "    # 반올림된 결과에서 n번째 자릿수까지 잘라내기\n",
    "    decimal_part = decimal_part[:n]\n",
    "\n",
    "    # 리스트를 문자열로 변환\n",
    "    decimal_str = ''.join(map(str, decimal_part))\n",
    "    \n",
    "    # 최종 결과 출력\n",
    "    print(result + decimal_str)\n",
    "\n",
    "# 입력 예시 1\n",
    "fraction_to_decimal(10555, 33000, 3)  # 0.32\n",
    "\n",
    "# 입력 예시 2\n",
    "fraction_to_decimal(10555, 33000, 100)  # 0.319848485"
   ]
  }
 ],
 "metadata": {
  "kernelspec": {
   "display_name": "base",
   "language": "python",
   "name": "python3"
  },
  "language_info": {
   "codemirror_mode": {
    "name": "ipython",
    "version": 3
   },
   "file_extension": ".py",
   "mimetype": "text/x-python",
   "name": "python",
   "nbconvert_exporter": "python",
   "pygments_lexer": "ipython3",
   "version": "3.12.4"
  }
 },
 "nbformat": 4,
 "nbformat_minor": 2
}
