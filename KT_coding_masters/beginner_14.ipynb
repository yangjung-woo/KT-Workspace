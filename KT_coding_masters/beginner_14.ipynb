{
 "cells": [
  {
   "cell_type": "markdown",
   "metadata": {},
   "source": [
    "# N을 보는 시각\n",
    "문제설명\n",
    "또리에게는 시:분:초를 출력하는 디지털시계가 있습니다. 매일매일은 00:00:00부터 23:59:59까지의 초로 표현됩니다.\n",
    "방학이 되어 지루해진 또리는 하루 종일 디지털시계를 쳐다보면서 숫자 N이 몇 번 등장하는지 세어보기로 했습니다. 숫자를 모두 세어본 또리는 문득 본인이 맞게 세었는지 궁금해졌습니다.\n",
    "또리를 위해 하루 동안 숫자 N을 볼 수 있는 시간은 몇 초인지 구하는 프로그램을 작성하세요.\n",
    "\n",
    "예를 들어 N = 3일 때는 00:00:00부터 23:59:59까지 3이라는 숫자가 포함된 시간이 총 43875초 이므로 43875를 출력하면 됩니다.\n",
    "\n",
    "입출력 예\n",
    "입력 #1\n",
    "\n",
    "1\n",
    "\n",
    "입력 #2\n",
    "\n",
    "3\n",
    "\n",
    "입력값 설명\n",
    "\n",
    "첫째 줄에 정수 N이 주어집니다. (1 ≤ N ≤ 9)\n",
    "\n",
    "출력 #1\n",
    "\n",
    "62100\n",
    "\n",
    "출력 #2\n",
    "\n",
    "43875\n",
    "\n",
    "출력값 설명\n",
    "\n",
    "하루 동안 숫자 N을 볼 수 있는 시간은 몇 초인지 출력합니다."
   ]
  },
  {
   "cell_type": "code",
   "execution_count": 5,
   "metadata": {},
   "outputs": [
    {
     "name": "stdout",
     "output_type": "stream",
     "text": [
      "86400\n",
      "43875\n"
     ]
    }
   ],
   "source": [
    "# print(60*60*24) # 86100\n",
    "# 시간복잡도 문제 없을듯 , 완전 구현으로 해결\n",
    "\n",
    "n = int(input())\n",
    "cnt = 0\n",
    "for h in range(24):\n",
    "    for m in range(60):\n",
    "        for s in range(60):\n",
    "            now_time = ':'.join([str(h),str(m),str(s)])\n",
    "            if str(n) in now_time:\n",
    "                cnt += 1\n",
    "print(cnt)\n",
    "\n"
   ]
  }
 ],
 "metadata": {
  "kernelspec": {
   "display_name": "base",
   "language": "python",
   "name": "python3"
  },
  "language_info": {
   "codemirror_mode": {
    "name": "ipython",
    "version": 3
   },
   "file_extension": ".py",
   "mimetype": "text/x-python",
   "name": "python",
   "nbconvert_exporter": "python",
   "pygments_lexer": "ipython3",
   "version": "3.12.4"
  }
 },
 "nbformat": 4,
 "nbformat_minor": 2
}
