{
 "cells": [
  {
   "cell_type": "markdown",
   "metadata": {},
   "source": [
    "# 설거지 담당\n",
    "\n",
    "문제설명\n",
    "동빈이는 집에서 월요일, 수요일, 금요일, 일요일의 설거지 담당입니다. 이 때 월요일부터 일요일까지의 요일을 차례대로 1번부터 7번까지 번호를 붙일 수 있습니다.\n",
    "\n",
    "요일의 번호가 주어졌을 때 설거지를 해야 하는 날이면 RUN을 출력하고, 설거지를 하지 않아도 되는 날이면 STAY를 출력하는 프로그램을 작성하세요.\n",
    "\n",
    "입출력 예\n",
    "입력 #1\n",
    "\n",
    "1\n",
    "\n",
    "입력 #2\n",
    "\n",
    "2\n",
    "\n",
    "입력값 설명\n",
    "\n",
    "첫째 줄에 요일의 번호 N이 주어집니다. (1 ≤ N ≤ 7)\n",
    "\n",
    "출력 #1\n",
    "\n",
    "RUN\n",
    "\n",
    "출력 #2\n",
    "\n",
    "STAY\n",
    "\n",
    "출력값 설명\n",
    "\n",
    "설거지를 해야 하는 날이면 RUN을 출력하고, 설거지를 하지 않아도 되는 날이면 STAY를 출력합니다."
   ]
  },
  {
   "cell_type": "code",
   "execution_count": null,
   "metadata": {},
   "outputs": [],
   "source": [
    "# 월 수 금 일  = 1 3 5 7 \n",
    "\n",
    "do_work = [1,3,5,7]\n",
    "n = int(input())\n",
    "\n",
    "if n in do_work:\n",
    "    print('RUN')\n",
    "else:\n",
    "    print('STAY')\n",
    "\n"
   ]
  }
 ],
 "metadata": {
  "language_info": {
   "name": "python"
  }
 },
 "nbformat": 4,
 "nbformat_minor": 2
}
