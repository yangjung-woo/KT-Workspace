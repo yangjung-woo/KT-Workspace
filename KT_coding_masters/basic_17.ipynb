{
 "cells": [
  {
   "cell_type": "markdown",
   "metadata": {},
   "source": [
    "# 16배 나누어 출력하기\n",
    "문제설명\n",
    "정수 A가 입력될 때 A를 16으로 나눈 몫을 출력하는 프로그램을 작성하세요.\n",
    "\n",
    "입출력 예\n",
    "입력 #1\n",
    "\n",
    "7\n",
    "\n",
    "입력 #2\n",
    "\n",
    "100000000\n",
    "\n",
    "입력값 설명\n",
    "\n",
    "첫째 줄에 정수 A가 입력됩니다. (0 ≤ A ≤ 100,000,000)\n",
    "\n",
    "출력 #1\n",
    "\n",
    "0\n",
    "\n",
    "출력 #2\n",
    "\n",
    "6250000\n",
    "\n",
    "출력값 설명\n",
    "\n",
    "첫째 줄에 정수 A를 16으로 나눈 몫을 출력합니다."
   ]
  },
  {
   "cell_type": "code",
   "execution_count": null,
   "metadata": {},
   "outputs": [],
   "source": [
    "n = int(input())\n",
    "\n",
    "print(n//16)"
   ]
  }
 ],
 "metadata": {
  "language_info": {
   "name": "python"
  }
 },
 "nbformat": 4,
 "nbformat_minor": 2
}
