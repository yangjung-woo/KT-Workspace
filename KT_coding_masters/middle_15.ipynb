{
 "cells": [
  {
   "cell_type": "markdown",
   "metadata": {},
   "source": [
    "# 카페 사장 철수\n",
    "\n",
    "문제설명\n",
    "철수는 카페 사장입니다. 철수가 운영하는 카페는 최대 N명까지 동시에 수용할 수 있습니다.\n",
    "\n",
    "오늘 하루동안 M명의 손님이 철수의 카페를 방문하려고 합니다. 어떤 손님이 카페에 입장하려고 할 때 이미 카페의 수용 인원이 가득 찬 경우, 해당 손님은 카페를 이용하지 않고 발을 돌립니다. 단, 어떤 손님이 카페에서 나가는 것과 동시에 다른 손님이 카페에 입장할 수 있습니다.\n",
    "\n",
    "손님들의 카페 방문 계획 주어질 때 00:00:00부터 23:59:59까지 하루동안 철수의 카페를 이용하는 손님이 몇 명인지 구하는 프로그램을 작성해주세요.\n",
    "\n",
    "입출력 예\n",
    "입력 #1\n",
    "\n",
    "2 4\n",
    "10:00:30 23:59:59\n",
    "09:30:22 17:50:30\n",
    "09:30:10 21:39:15\n",
    "22:10:00 23:02:13\n",
    "\n",
    "입력 #2\n",
    "\n",
    "3 5\n",
    "00:00:00 23:59:59\n",
    "10:00:30 23:59:59\n",
    "09:30:22 09:50:30\n",
    "21:30:10 21:39:15\n",
    "16:10:00 17:02:13\n",
    "\n",
    "입력값 설명\n",
    "\n",
    "첫째 줄에 카페의 최대 수용 인원 N과 카페를 방문하려는 손님의 수 M이 공백으로 구분되어 주어집니다. (1 ≤ N ≤ 10, 1 ≤ M ≤ 100)\n",
    "\n",
    "둘째 줄부터 M개의 줄에 걸쳐 손님들의 카페 방문 시각 S와 퇴장 시각 E가 공백으로 구분되어 주어집니다. S와 E는 “HH:MM:SS” 형태의 문자열로 표현됩니다. HH는 시, MM은 분, SS는 초를 의미합니다. 단, S < E이며 서로 다른 두 손님이 동일한 시각에 카페를 방문하는 경우는 존재하지 않습니다. (0 ≤ HH < 24, 0 ≤ MM < 60, 0 ≤ SS < 60)\n",
    "\n",
    "출력 #1\n",
    "\n",
    "3\n",
    "\n",
    "출력 #2\n",
    "\n",
    "5\n",
    "\n",
    "출력값 설명\n",
    "\n",
    "첫째 줄에 하루동안 철수의 카페를 이용하는 손님의 수를 출력합니다."
   ]
  },
  {
   "cell_type": "markdown",
   "metadata": {},
   "source": [
    "# 문제접근 : 시간을 초 단위로 변환:\n",
    "\n",
    "각 손님의 입장 및 퇴장 시간을 비교할 수 있도록 시간 데이터를 초 단위로 변환합니다.\n",
    "이벤트 처리:\n",
    "\n",
    "손님의 입장은 카페 내 손님 수를 증가시키고, 퇴장은 손님 수를 감소시키는 이벤트로 처리합니다.\n",
    "각 손님의 입장/퇴장 시각을 관리하여 카페가 가득 찬 상황에서 입장하려는 손님을 필터링합니다.\n",
    "카페 내 손님 수 관리:\n",
    "\n",
    "카페 내 손님 수가 최대 수용 인원을 초과하지 않는지 확인하며, 방문한 손님 수를 카운트합니다."
   ]
  },
  {
   "cell_type": "code",
   "execution_count": 1,
   "metadata": {},
   "outputs": [
    {
     "ename": "ValueError",
     "evalue": "not enough values to unpack (expected 2, got 1)",
     "output_type": "error",
     "traceback": [
      "\u001b[1;31m---------------------------------------------------------------------------\u001b[0m",
      "\u001b[1;31mValueError\u001b[0m                                Traceback (most recent call last)",
      "Cell \u001b[1;32mIn[1], line 37\u001b[0m\n\u001b[0;32m     34\u001b[0m N, M \u001b[38;5;241m=\u001b[39m \u001b[38;5;28mmap\u001b[39m(\u001b[38;5;28mint\u001b[39m, \u001b[38;5;28minput\u001b[39m()\u001b[38;5;241m.\u001b[39msplit())   \n\u001b[0;32m     35\u001b[0m times \u001b[38;5;241m=\u001b[39m [\u001b[38;5;28minput\u001b[39m()\u001b[38;5;241m.\u001b[39msplit() \u001b[38;5;28;01mfor\u001b[39;00m _ \u001b[38;5;129;01min\u001b[39;00m \u001b[38;5;28mrange\u001b[39m(M)]  \n\u001b[1;32m---> 37\u001b[0m result \u001b[38;5;241m=\u001b[39m count_customers(N, M, times) \n\u001b[0;32m     38\u001b[0m \u001b[38;5;28mprint\u001b[39m(result)\n",
      "Cell \u001b[1;32mIn[1], line 12\u001b[0m, in \u001b[0;36mcount_customers\u001b[1;34m(N, M, times)\u001b[0m\n\u001b[0;32m      9\u001b[0m \u001b[38;5;28;01mdef\u001b[39;00m \u001b[38;5;21mcount_customers\u001b[39m(N, M, times): \n\u001b[0;32m     10\u001b[0m     events \u001b[38;5;241m=\u001b[39m [] \n\u001b[1;32m---> 12\u001b[0m     \u001b[38;5;28;01mfor\u001b[39;00m entry, exit \u001b[38;5;129;01min\u001b[39;00m times: \u001b[38;5;66;03m# EVENT 리스트에 입장시간(초) , 퇴장시간(초)을 저장 \u001b[39;00m\n\u001b[0;32m     13\u001b[0m         events\u001b[38;5;241m.\u001b[39mappend((convert_to_seconds(entry), (convert_to_seconds(exit)))) \n\u001b[0;32m     15\u001b[0m     events\u001b[38;5;241m.\u001b[39msort() \u001b[38;5;66;03m# 정렬 ? 입장시간 기준 오름차순 \u001b[39;00m\n",
      "\u001b[1;31mValueError\u001b[0m: not enough values to unpack (expected 2, got 1)"
     ]
    }
   ],
   "source": [
    "# 정답 최소 힙을 사용 \n",
    "import heapq \n",
    " \n",
    "def convert_to_seconds(time_str): # 시간을 초로 변환 \n",
    "    \n",
    "    h, m, s = map(int, time_str.split(':')) \n",
    "    return h * 3600 + m * 60 + s \n",
    " \n",
    "def count_customers(N, M, times): \n",
    "    events = [] \n",
    "     \n",
    "    for entry, exit in times: # EVENT 리스트에 입장시간(초) , 퇴장시간(초)을 저장 \n",
    "        events.append((convert_to_seconds(entry), (convert_to_seconds(exit)) )) \n",
    "     \n",
    "    events.sort() # 정렬 ? 입장시간 기준 오름차순 \n",
    " \n",
    "    current_customers = 0 \n",
    "    total_customers = 0 \n",
    "    time_heap=[] \n",
    " \n",
    "    for enter, exit in events: \n",
    "        while time_heap and time_heap[0]<=enter: \n",
    "            heapq.heappop(time_heap) \n",
    "            current_customers -= 1 \n",
    "             \n",
    "        if current_customers < N:  # 입장할 수 있는 상황 \n",
    "            current_customers += 1 \n",
    "            total_customers += 1 \n",
    "            heapq.heappush(time_heap, exit) \n",
    "            # print(f\"Time: {times}, Action: enter, Current customers: {current_customers}, Total customers: {total_customers}\") \n",
    "        \n",
    "    return total_customers \n",
    " \n",
    "N, M = map(int, input().split())   \n",
    "times = [input().split() for _ in range(M)]  \n",
    " \n",
    "result = count_customers(N, M, times) \n",
    "print(result)"
   ]
  },
  {
   "cell_type": "code",
   "execution_count": 3,
   "metadata": {},
   "outputs": [
    {
     "name": "stdout",
     "output_type": "stream",
     "text": [
      "3\n"
     ]
    }
   ],
   "source": [
    "import heapq\n",
    "\n",
    "def convert_second(time_str): # 시간을 입력 받으면 초로 변환해줌 \n",
    "    h,m,s = map(int, time_str.split(':'))\n",
    "    return h*3600 + m*60 + s\n",
    "\n",
    "def count_customer(N,M,times):\n",
    "    events = []\n",
    "    for enter ,exit in times: # EVENT 리스트에 입장시간, 퇴장시간을 저장 \n",
    "        events.append((convert_second(enter), convert_second(exit)))\n",
    "    events.sort(key= lambda x : [x[0],x[1]])# 입장시간을 기준으로 정렬함\n",
    "    \n",
    "    #current_customer = 0 # 현재 입장한 손님 수 heap의 len으로 하면 되지 않나?\n",
    "    total_customer = 0\n",
    "    time_heap =[]# 현재 입장해 있는 사람의 퇴장시간만 저장할거야 \n",
    "    \n",
    "    for enter ,exit in events:\n",
    "        while time_heap and time_heap[0] <= enter: # 퇴장시간이 다음 enter보다 작음 >>나가 \n",
    "            heapq.heappop(time_heap)# 힙에서 제거\n",
    "        if len(time_heap) < N: # 입장 가능한 상황\n",
    "            total_customer += 1 \n",
    "            heapq.heappush(time_heap,exit)\n",
    "    \n",
    "    return total_customer\n",
    "       \n",
    "N, M = map(int, input().split())   \n",
    "times = [input().split() for _ in range(M)]  \n",
    " \n",
    "result = count_customer(N, M, times) \n",
    "print(result)     \n",
    "\n"
   ]
  }
 ],
 "metadata": {
  "kernelspec": {
   "display_name": "base",
   "language": "python",
   "name": "python3"
  },
  "language_info": {
   "codemirror_mode": {
    "name": "ipython",
    "version": 3
   },
   "file_extension": ".py",
   "mimetype": "text/x-python",
   "name": "python",
   "nbconvert_exporter": "python",
   "pygments_lexer": "ipython3",
   "version": "3.12.4"
  }
 },
 "nbformat": 4,
 "nbformat_minor": 2
}
