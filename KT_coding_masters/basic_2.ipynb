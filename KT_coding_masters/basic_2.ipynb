{
 "cells": [
  {
   "cell_type": "markdown",
   "metadata": {},
   "source": [
    "# 등차수열\n",
    "\n",
    "# 문제설명\n",
    "종구는 고등학생이 되어 수열의 개념을 배우게 되었습니다. 등차수열은 연속하는 두 항의 차이가 모두 일정한 수열을 의미합니다. 다만 종구는 아직 등차수열의 개념이 익숙하지 않아서 자신의 연산이 정확한지 검증해주는 프로그램이 있으면 좋겠다고 생각했습니다. 종구를 위해서 첫째 항 A, 두 항의 차이 B, 몇 번째 항인지 나타내는 N이 입력 되었을 때 N번째의 항을 출력하는 프로그램을 작성하세요.\n",
    "\n",
    "입출력 예\n",
    "입력 #1\n",
    "\n",
    "3 5 7\n",
    "\n",
    "입력 #2\n",
    "\n",
    "1 2 2\n",
    "\n",
    "입력값 설명\n",
    "\n",
    "첫째 줄에 첫째 항을 의미하는 정수 A, 두 항의 차이를 의미하는 정수 B, 몇 번째 항인지 나타내는 자연수 N이 공백으로 구분되어 입력됩니다. (0 ≤ A, B ≤ 100, 1 ≤ N ≤ 100)\n",
    "\n",
    "출력 #1\n",
    "\n",
    "33\n",
    "\n",
    "출력 #2\n",
    "\n",
    "3\n",
    "\n",
    "출력값 설명\n",
    "\n",
    "첫째 줄에 등차수열의 N번째 항을 출력합니다."
   ]
  },
  {
   "cell_type": "code",
   "execution_count": 2,
   "metadata": {},
   "outputs": [
    {
     "name": "stdout",
     "output_type": "stream",
     "text": [
      "3\n"
     ]
    }
   ],
   "source": [
    "A, B, N = map(int,input().split())\n",
    "\n",
    "print( A + B*(N-1))"
   ]
  }
 ],
 "metadata": {
  "kernelspec": {
   "display_name": "base",
   "language": "python",
   "name": "python3"
  },
  "language_info": {
   "codemirror_mode": {
    "name": "ipython",
    "version": 3
   },
   "file_extension": ".py",
   "mimetype": "text/x-python",
   "name": "python",
   "nbconvert_exporter": "python",
   "pygments_lexer": "ipython3",
   "version": "3.12.4"
  }
 },
 "nbformat": 4,
 "nbformat_minor": 2
}
