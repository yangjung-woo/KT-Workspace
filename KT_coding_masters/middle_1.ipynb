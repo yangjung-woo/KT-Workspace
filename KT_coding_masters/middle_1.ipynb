{
 "cells": [
  {
   "cell_type": "markdown",
   "metadata": {},
   "source": [
    "# 태국 택시\n",
    "\n",
    "문제설명\n",
    "태국의 한 도시로 출장을 온 민혁이는 택시를 타고 모든 마을을 방문하려 합니다. 이 도시의 택시 체계는 특이합니다. 각 택시는 어떤 두 마을 사이만 운행하므로, 어떤 택시를 타고 하나의 마을에서 출발해 다른 마을에 도착했다면 다른 택시로 갈아타야 합니다. 타고 싶은 택시들은 모두 전날에 선불로 요금을 내고 예약해야 합니다. 예약한 택시는 몇 번을 타더라도 추가비용 없이 자유롭게 이용할 수 있습니다.\n",
    "\n",
    "도시에 N개의 마을과 M대의 택시가 있을 때, 택시만으로 모든 마을을 방문하려면 택시 예약에 적어도 얼마가 드는지 출력하는 프로그램을 작성하세요. \n",
    "\n",
    "입출력 예\n",
    "입력 #1\n",
    "\n",
    "3 2\n",
    "\n",
    "1 2 7\n",
    "\n",
    "1 3 5\n",
    "\n",
    "입력 #2\n",
    "\n",
    "4 5\n",
    "\n",
    "1 3 10\n",
    "\n",
    "2 3 20\n",
    "\n",
    "4 1 30\n",
    "\n",
    "3 4 40\n",
    "\n",
    "2 4 50\n",
    "\n",
    "입력값 설명\n",
    "\n",
    "첫째 줄에 마을의 수 N(2 ≤ N ≤ 100)과 택시의 수 M(1 ≤ M ≤ 1,000)이 주어집니다.\n",
    "이후 M개의 줄에 걸쳐 각 줄에 a, b, c가 공백을 구분으로 입력됩니다. 도시 a와 도시 b를 양방향으로 연결하는 예약비용이 c인 택시를 의미합니다. (a ≠ b, 1 ≤ a, b ≤ N, 1 ≤ c ≤ 100) \n",
    "입력에서 주어진 도시를 정점으로, 택시 노선을 간선으로 가정하면 연결 그래프임을 보장합니다.\n",
    "\n",
    "출력 #1\n",
    "\n",
    "12\n",
    "\n",
    "출력 #2\n",
    "\n",
    "60\n",
    "\n",
    "출력값 설명\n",
    "\n",
    "택시만으로 모든 마을을 방문하려면 택시 예약에 적어도 얼마가 드는지 출력합니다."
   ]
  },
  {
   "cell_type": "markdown",
   "metadata": {},
   "source": [
    "# 이 문제는 최소신장트리(MST)\n",
    "\n",
    "- Spanning Tree 중에서 사용된 간선들의 가중치 합이 최소인 트리\n",
    "\n",
    "- MST = Minimum Spanning Tree = 최소 신장 트리\n",
    "각 간선의 가중치가 동일하지 않을 때 단순히 가장 적은 간선을 사용한다고 해서 최소 비용이 얻어지는 것은 아니다.\n",
    "MST는 간선에 가중치를 고려하여 최소 비용의 Spanning Tree를 선택하는 것을 말한다.\n",
    "즉, 네트워크(가중치를 간선에 할당한 그래프)에 있는 모든 정점들을 가장 적은 수의 간선과 비용으로 연결하는 것이다."
   ]
  },
  {
   "cell_type": "markdown",
   "metadata": {},
   "source": [
    "# 문제 해결 절차:\n",
    "1. 간선(택시 노선)을 비용을 기준으로 오름차순 정렬합니다.\n",
    "2. 각 도시(정점)을 독립된 집합으로 초기화하고, 크루스칼 알고리즘으로 최소 스패닝 트리를 만듭니다.\n",
    "3. 두 도시가 다른 집합에 속하면 해당 간선을 선택하고, 두 집합을 합칩니다.\n",
    "4. 모든 마을을 연결하는 최소 비용을 구합니다."
   ]
  },
  {
   "cell_type": "markdown",
   "metadata": {},
   "source": [
    "+ 크루스칼 알고리즘이란 ? :\n",
    "1. 간선을 크기의 오름차순으로 정렬하고 제일 낮은 비용의 간선을 선택\n",
    "2. 현재 선택한 간선이 정점 u -> v 를 연결하는 간선이라고 할 때 \n",
    " if 만약 u와 v 가 같은 그룹이면\n",
    "   2-1. 아무것도 하지 않음 \n",
    " else:  u와 v가 다른 그룹이라면\n",
    "   2-2 같은 그룹으로 만듬 , 현재 선택한 간선을 신장 트리에 추가\n",
    "3. 최소 신장 트리에 V-1개의 간선을 추가시켰다면 과정을 종료 \n",
    "   while  len(신장트리) <= V-1: 반복 \n",
    "   다음으로 비용이 작은 간선을 선택 \n",
    "\n",
    "\n",
    "# 생각할 점 Flood Fill을 사용하면 O(NlogE +VE) 높은 시간복잡도임\n",
    "\n",
    "-> Union Find 방식을 사용하면 O(ElogE) 더 줄일 수 있음\n",
    "https://www.youtube.com/watch?v=4wA3bncb64E 출처: 바킹독"
   ]
  },
  {
   "cell_type": "code",
   "execution_count": 5,
   "metadata": {},
   "outputs": [
    {
     "data": {
      "text/plain": [
       "12"
      ]
     },
     "execution_count": 5,
     "metadata": {},
     "output_type": "execute_result"
    }
   ],
   "source": [
    "# MST 최소신장 트리를 찾는 문제\n",
    "# 1 Union Find 우선 만들고 생각해 \n",
    "\n",
    "def find(parent,x):\n",
    "    if parent[x] != x:\n",
    "        parent[x] = find(parent,parent[x])\n",
    "    return parent[x]\n",
    "\n",
    "def union(parent , rank , x,y):\n",
    "    Rootx = find(parent,x)\n",
    "    Rooty = find(parent,y)\n",
    "    \n",
    "    if Rootx != Rooty: # 둘의 랭크를 비교 작은놈은 큰놈 밑으로 들어감\n",
    "        if rank[Rooty] < rank[Rootx]:\n",
    "            parent[Rooty] = Rootx\n",
    "        elif  rank[Rooty] > rank[Rootx]:\n",
    "            parent[Rootx] = Rooty\n",
    "        else:\n",
    "            parent[Rooty] = Rootx\n",
    "            rank[Rootx] +=1\n",
    "            \n",
    "def minimum_taxi_cost(N,M,taxi_routes):\n",
    "    min_cost = 0\n",
    "    taxi_routes.sort(key =lambda x:x[2])# cost기준 정렬\n",
    "    parent = [i for i in range(N+1)]\n",
    "    rank = [0]*(N+1)\n",
    "    \n",
    "    for a, b , cost in taxi_routes:\n",
    "        if find(parent,a) != find(parent,b):\n",
    "            union(parent , rank, a,b)\n",
    "            min_cost += cost\n",
    "    return min_cost\n",
    "\n",
    "N,M = map(int, input().split())\n",
    "taxi_routes =[]\n",
    "for _ in range(M):\n",
    "    taxi_routes.append(list(map(int, input().split())))  \n",
    "\n",
    "print(minimum_taxi_cost(N,M,taxi_routes))\n"
   ]
  },
  {
   "cell_type": "code",
   "execution_count": 6,
   "metadata": {},
   "outputs": [
    {
     "name": "stdout",
     "output_type": "stream",
     "text": [
      "12\n"
     ]
    }
   ],
   "source": [
    "def find(parent, x):\n",
    "    if parent[x] != x:\n",
    "        parent[x] = find(parent,parent[x])\n",
    "    return parent[x]\n",
    "     \n",
    "def union(parent, rank, x, y):\n",
    "    \n",
    "    RootX = find(parent,x)\n",
    "    # RX = find(parent, x)\n",
    "    RootY = find(parent,y)\n",
    "    # RY = find(patent, y)\n",
    "    \n",
    "    if RootX != RootY: \n",
    "        # TX와 RY는 다르고 \n",
    "        if rank[RootY]< rank[RootX]:\n",
    "            parent[RootY] = RootX \n",
    "            # 더 높은 등급으로  parent[RX or RY] = RY or RX \n",
    "        elif rank[RootY]> rank[RootX]:\n",
    "            parent[RootX] = RootY\n",
    "            # 같은 경우에는 parent[RootY] = Rootx \n",
    "        else:\n",
    "            parent[RootY] = RootX\n",
    "            rank[RootX] +=1\n",
    "            # Rank[RootX]+= 1 \n",
    "\n",
    "def minimum_taxi_cost(N, M, taxi_routes):\n",
    "    # 모든 마을이 연결되기 위해 최소 비용을 계산하는 변수\n",
    "    min_cost = 0\n",
    "    \n",
    "    # 간선(택시 노선)을 비용 기준으로 정렬  0: 시작점 , 1은 도착점 , 2는 비용 \n",
    "    taxi_routes.sort(key= lambda x:x[2])\n",
    "    \n",
    "    # 각 마을에 대해 초기 집합 설정\n",
    "    parent = [i for i in range(N+1)]   # 모든 노드들을 표현함 \n",
    "    rank = [0]* (N+1)    # 모든 랭크는 0으로 초기화 \n",
    "    \n",
    "    # 크루스칼 알고리즘 수행\n",
    "    for a , b , cost in taxi_routes:\n",
    "        # for 모든 택시루트에 대해\n",
    "        if find(parent,a) != find(parent,b):\n",
    "            # find(a),b\n",
    "            union(parent,rank,a,b)\n",
    "            # 유니온 \n",
    "            min_cost += cost\n",
    "            # 최소값 갱신 \n",
    "    return min_cost\n",
    "\n",
    "# 입력 받기\n",
    "N, M = map(int, input().split())\n",
    "taxi_routes = [list(map(int, input().split())) for _ in range(M)]\n",
    "\n",
    "# 결과 출력\n",
    "print(minimum_taxi_cost(N, M, taxi_routes))"
   ]
  },
  {
   "cell_type": "markdown",
   "metadata": {},
   "source": []
  },
  {
   "cell_type": "markdown",
   "metadata": {},
   "source": [
    "# 접근방식 : 다익스트라 / 땡 \n"
   ]
  },
  {
   "cell_type": "code",
   "execution_count": null,
   "metadata": {},
   "outputs": [],
   "source": [
    "n, m = map(int, input().split())\n",
    "k = int(input())                 # 시작할 노드\n",
    "INF = 1e8\n",
    "\n",
    "graph = [[] for _ in range(n+1)] # 1번 노드부터 시작하므로 하나더 추가\n",
    "\n",
    "visited = [False] * (n+1)\n",
    "distance = [INF] * (n+1)\n",
    "\n",
    "for _ in range(m):\n",
    "  u, v, w = map(int, input().split()) # u: 출발노드, v: 도착노드, w: 연결된 간선의 가중치 \n",
    "  graph[u].append((v, w))             # 거리 정보와 도착노드를 같이 입력합니다.\n",
    "\n",
    "def get_smallest_node():\n",
    "  min_val = INF\n",
    "  index = 0\n",
    "  for i in range(1, n+1):\n",
    "    if distance[i] < min_val and not visited[i]: \n",
    "      min_val = distance[i]\n",
    "      index = i\n",
    "  return index\n",
    "\n",
    "def dijkstra(start):\n",
    "  distance[start] = 0 # 시작 노드는 0으로 초기화\n",
    "  visited[start] = True\n",
    "\n",
    "  for i in graph[start]:\n",
    "    distance[i[0]] = i[1] # 시작 노드와 연결된 노도들의 거리 입력\n",
    "  \n",
    "  for _ in range(n-1): \n",
    "    now = get_smallest_node() # 거리가 구해진 노드 중 가장 짧은 거리인 것을 선택\n",
    "    visited[now] = True       # 방문 처리\n",
    "\n",
    "    for j in graph[now]:\n",
    "      if distance[now] + j[1] < distance[j[0]]: # 기존에 입력된 값보다 더 작은 거리가 나온다면,\n",
    "        distance[j[0]]= distance[now] + j[1]    # 값을 갱신한다.\n",
    "\n",
    "dijkstra(k)\n",
    "print(distance)"
   ]
  },
  {
   "cell_type": "markdown",
   "metadata": {},
   "source": [
    "유사한 문제 Boj 1197: 최소 스패닝 트리"
   ]
  },
  {
   "cell_type": "markdown",
   "metadata": {},
   "source": [
    "# 프림 알고리즘 \n",
    "\n"
   ]
  }
 ],
 "metadata": {
  "kernelspec": {
   "display_name": "base",
   "language": "python",
   "name": "python3"
  },
  "language_info": {
   "codemirror_mode": {
    "name": "ipython",
    "version": 3
   },
   "file_extension": ".py",
   "mimetype": "text/x-python",
   "name": "python",
   "nbconvert_exporter": "python",
   "pygments_lexer": "ipython3",
   "version": "3.12.4"
  }
 },
 "nbformat": 4,
 "nbformat_minor": 2
}
