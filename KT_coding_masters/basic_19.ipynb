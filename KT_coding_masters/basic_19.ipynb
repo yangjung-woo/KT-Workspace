{
 "cells": [
  {
   "cell_type": "markdown",
   "metadata": {},
   "source": [
    "# 최대공약수\n",
    "문제설명\n",
    "최대공약수란 어떤 두 개 이상의 자연수들이 있을 때, 두 수의 공통된 약수 중 가장 큰 수를 말합니다. 서로 다른 두 자연수 N, M이 주어졌을 때, 두 수의 최대공약수를 출력하는 프로그램을 만드세요.\n",
    "\n",
    "입출력 예\n",
    "입력 #1\n",
    "\n",
    "124 512\n",
    "\n",
    "입력 #2\n",
    "\n",
    "14 18\n",
    "\n",
    "입력값 설명\n",
    "\n",
    "첫째 줄에 서로 다른 두 자연수 N ,M이 공백을 두고 주어집니다. (1 ≤ N ≤ 100,000) (1 ≤ M ≤ 100,000)\n",
    "\n",
    "출력 #1\n",
    "\n",
    "4\n",
    "\n",
    "출력 #2\n",
    "\n",
    "2\n",
    "\n",
    "출력값 설명\n",
    "\n",
    "두 자연수 N, M의 최대공약수를 출력합니다."
   ]
  },
  {
   "cell_type": "code",
   "execution_count": null,
   "metadata": {},
   "outputs": [],
   "source": [
    "import math \n",
    "\n",
    "a,b = map(int,input().split())\n",
    "print(math.gcd(a,b))\n"
   ]
  },
  {
   "cell_type": "code",
   "execution_count": 5,
   "metadata": {},
   "outputs": [
    {
     "name": "stdout",
     "output_type": "stream",
     "text": [
      "8 8\n",
      "8\n"
     ]
    }
   ],
   "source": [
    "a,b = map(int,input().split())\n",
    "if b < a:\n",
    "    a , b = b , a   # 반드시 a < b 를 만족\n",
    "\n",
    "max = -1\n",
    "for i in range(1,a+1):\n",
    "    if a% i ==0 and b % i ==0:\n",
    "        max = i\n",
    "print(max)"
   ]
  }
 ],
 "metadata": {
  "kernelspec": {
   "display_name": "base",
   "language": "python",
   "name": "python3"
  },
  "language_info": {
   "codemirror_mode": {
    "name": "ipython",
    "version": 3
   },
   "file_extension": ".py",
   "mimetype": "text/x-python",
   "name": "python",
   "nbconvert_exporter": "python",
   "pygments_lexer": "ipython3",
   "version": "3.12.4"
  }
 },
 "nbformat": 4,
 "nbformat_minor": 2
}
