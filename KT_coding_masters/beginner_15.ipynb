{
 "cells": [
  {
   "cell_type": "markdown",
   "metadata": {},
   "source": [
    "# 기둥 세우기\n",
    "문제설명\n",
    "오래된 궁전이 세월의 무게를 이기지 못하고 무너지려고 합니다. 관리당국에서는 궁전 곳곳에 기둥을 세우는 보수 공사를 하려고 합니다. 직사각형 형태의 궁전을 형성하는 모든 가로, 세로 줄에 대해서 적어도 기둥이 하나씩은 존재하도록 만들고자 할 때 세워야 하는 기둥의 최솟값을 출력하세요.\n",
    "\n",
    "입출력 예\n",
    "입력 #1\n",
    "\n",
    "3 3\n",
    "\n",
    "1 1 1\n",
    "\n",
    "1 1 1\n",
    "\n",
    "1 1 1\n",
    "\n",
    "입력 #2\n",
    "\n",
    "4 3\n",
    "\n",
    "0 1 1\n",
    "\n",
    "1 0 0\n",
    "\n",
    "0 1 0\n",
    "\n",
    "1 0 1\n",
    "\n",
    "입력값 설명\n",
    "\n",
    "첫째 줄에 궁전의 세로 크기 N과 가로 크기 M이 주어집니다. N과 M은 50보다 작거나 같은 자연수입니다. \n",
    "둘째 줄부터 N개의 줄에는 궁전의 상태가 주어집니다. 궁전의 상태는 1은 빈칸, 0은 기둥이 있는 칸입니다.\n",
    "\n",
    "출력 #1\n",
    "\n",
    "3\n",
    "\n",
    "출력 #2\n",
    "\n",
    "0\n",
    "\n",
    "출력값 설명\n",
    "\n",
    "세워야 하는 기둥의 최솟값을 출력합니다."
   ]
  },
  {
   "cell_type": "markdown",
   "metadata": {},
   "source": [
    "# 접근방식\n",
    "1. N, M 입력 , NxM 맵 받음\n",
    "2. 각 행에 대한 기둥여부 저장할 리스트\n",
    "3. 각 행에 대한 기둥여부 저장할 리스트\n",
    "\n",
    "\n",
    "기둥을 세워야 하는 최소 개수: 기둥을 추가해야 하는 최소 개수는 기둥이 없는 행과 기둥이 없는 열 중에서 더 큰 값이 됩니다. 왜냐하면, 한 기둥으로 한 행과 한 열을 동시에 커버할 수 있기 때문입니다.\n",
    "\n",
    "따라서 [rows의 빈공간 , column의 빈공간] 중 최대값을 반환 "
   ]
  },
  {
   "cell_type": "code",
   "execution_count": 1,
   "metadata": {},
   "outputs": [
    {
     "name": "stdout",
     "output_type": "stream",
     "text": [
      "[0, 1, 1]\n",
      "[1, 1, 0]\n"
     ]
    }
   ],
   "source": [
    "# 빈공간 =1\n",
    "# 기둥 있다면 = 0 \n",
    "# 입력 받기\n",
    "N, M = map(int, input().split())\n",
    "map = [list(map(int, input().split())) for _ in range(N)]\n",
    "\n",
    "# 전부 빈공간 표시 \n",
    "rows = [1]* N\n",
    "colums = [1]*M\n",
    "\n",
    "for i in range(N):\n",
    "    for j in range(M):\n",
    "        if map[i][j] == 0: # 기둥이 있다면 \n",
    "            rows[i] = 0  # 해당 위치에 기둥이 있음을 표현 \n",
    "            colums[j] = 0\n",
    "            \n",
    "#print(rows)\n",
    "#print(colums)\n",
    "\n",
    "\n",
    "# 기둥이 없는 행과 열의 개수\n",
    "\n",
    "row_count = rows.count(1)\n",
    "col_count = colums.count(1)\n",
    "\n",
    "# 세워야 하는 기둥의 최솟값\n",
    "#  한 기둥으로 한 행과 한 열을 동시에 커버할 수 있기 때문 .\n",
    "print(max(row_count, col_count))"
   ]
  },
  {
   "cell_type": "code",
   "execution_count": null,
   "metadata": {},
   "outputs": [],
   "source": [
    "# 입력 받기\n",
    "N, M = map(int, input().split())\n",
    "palace = [list(map(int, input().split())) for _ in range(N)]\n",
    "\n",
    "# 각 행과 열에 기둥이 있는지 확인\n",
    "row_has_pillar = [0] * N  # 각 행에 기둥이 있는지 여부\n",
    "col_has_pillar = [0] * M  # 각 열에 기둥이 있는지 여부\n",
    "\n",
    "# 궁전 상태 확인\n",
    "for i in range(N):\n",
    "    for j in range(M):\n",
    "        if palace[i][j] == 0:\n",
    "            row_has_pillar[i] = 1\n",
    "            col_has_pillar[j] = 1\n",
    "\n",
    "# 기둥이 없는 행과 열의 개수\n",
    "row_count = row_has_pillar.count(0)\n",
    "col_count = col_has_pillar.count(0)\n",
    "\n",
    "# 세워야 하는 기둥의 최솟값\n",
    "print(max(row_count, col_count))"
   ]
  }
 ],
 "metadata": {
  "kernelspec": {
   "display_name": "base",
   "language": "python",
   "name": "python3"
  },
  "language_info": {
   "codemirror_mode": {
    "name": "ipython",
    "version": 3
   },
   "file_extension": ".py",
   "mimetype": "text/x-python",
   "name": "python",
   "nbconvert_exporter": "python",
   "pygments_lexer": "ipython3",
   "version": "3.12.4"
  }
 },
 "nbformat": 4,
 "nbformat_minor": 2
}
