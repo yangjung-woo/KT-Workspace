{
 "cells": [
  {
   "cell_type": "markdown",
   "metadata": {},
   "source": [
    "# 계단\n",
    "문제설명\n",
    "민수와 진희는 계단을 내려가다가 재밌는 생각이 떠올라 게임을 하려고 합니다. 게임의 규칙은 간단합니다. 진희는 가만히 있고, 민수는 진희와 다른 위치에서 시작합니다. 민수는 계단을 세 칸 위로 올라가거나 한 칸 아래로 내려갈 수 있습니다. 다른 방법으로 움직이는 경우는 없습니다. 민수가 최소한의 횟수로 움직여 진희와 같은 계단에 도착하는 프로그램을 만드세요.\n",
    "\n",
    "입출력 예\n",
    "입력 #1\n",
    "\n",
    "3 40\n",
    "\n",
    "입력 #2\n",
    "\n",
    "23 145\n",
    "\n",
    "입력값 설명\n",
    "\n",
    "첫 번째 줄에 민수가 서있는 계단의 좌표 N과, 진희가 있는 좌표 K가 주어집니다. K는 N보다 크며, N과 K는 각각 1 이상 100,000 이하의 자연수입니다.\n",
    "\n",
    "출력 #1\n",
    "\n",
    "15\n",
    "\n",
    "출력 #2\n",
    "\n",
    "42\n",
    "\n",
    "출력값 설명\n",
    "\n",
    "민수가 진희와 같은 계단에 서있게 되도록 움직이는 최소 횟수를 출력합니다."
   ]
  },
  {
   "cell_type": "code",
   "execution_count": 2,
   "metadata": {},
   "outputs": [
    {
     "name": "stdout",
     "output_type": "stream",
     "text": [
      "42\n"
     ]
    }
   ],
   "source": [
    "# dp로 접근 할 까?\n",
    "\n",
    "# 3 더하기 1 빼기 반복 , 최단횟수 \n",
    "\n",
    "a, b = map(int,input().split())\n",
    "\n",
    "cnt = 0\n",
    "while a < b:\n",
    "    \n",
    "    a += 3\n",
    "    cnt +=1\n",
    "    \n",
    "    if a >= b:\n",
    "        down_step = a- b\n",
    "        \n",
    "        cnt += down_step\n",
    "        break\n",
    "    \n",
    "print(cnt)    \n"
   ]
  }
 ],
 "metadata": {
  "kernelspec": {
   "display_name": "base",
   "language": "python",
   "name": "python3"
  },
  "language_info": {
   "codemirror_mode": {
    "name": "ipython",
    "version": 3
   },
   "file_extension": ".py",
   "mimetype": "text/x-python",
   "name": "python",
   "nbconvert_exporter": "python",
   "pygments_lexer": "ipython3",
   "version": "3.12.4"
  }
 },
 "nbformat": 4,
 "nbformat_minor": 2
}
