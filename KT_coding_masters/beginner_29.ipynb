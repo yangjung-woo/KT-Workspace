{
 "cells": [
  {
   "cell_type": "markdown",
   "metadata": {},
   "source": [
    "# 피보나치 피보나치 수열\n",
    "문제설명\n",
    "피보나치 수열이란 첫재 항과 둘째 항이 1이고, 그 뒤의 모든 항은 바로 앞의 두 항의 합인 수열입니다.\n",
    "피보나치 피보나치 수열이란, 피보나치 수열의 각 항을 그 수만큼 반복해서 만든 수열을 말합니다.\n",
    "예를 들어, 피보나치 피보나치 수열의 첫 10항은 다음과 같습니다.\n",
    "1, 1, 2, 2, 3, 3, 3, 5, 5, 5, ...\n",
    "\n",
    "a와 b가 주어졌을 때, 피보나치 피보나치 수열의 a항부터 b항까지의 합을 출력하는 프로그램을 작성해 주세요.\n",
    "\n",
    "입출력 예\n",
    "입력 #1\n",
    "\n",
    "2 5\n",
    "\n",
    "입력 #2\n",
    "\n",
    "1 10\n",
    "\n",
    "입력값 설명\n",
    "\n",
    "첫째 줄에 a와 b가 공백으로 구분되어 주어집니다. (1 ≤ a, b ≤ 100)\n",
    "\n",
    "출력 #1\n",
    "\n",
    "8\n",
    "\n",
    "출력 #2\n",
    "\n",
    "30\n",
    "\n",
    "출력값 설명\n",
    "\n",
    "피보나치 피보나치 수열의 a항부터 b항까지의 합을 출력합니다."
   ]
  },
  {
   "cell_type": "code",
   "execution_count": 14,
   "metadata": {},
   "outputs": [
    {
     "name": "stdout",
     "output_type": "stream",
     "text": [
      "[0, 1, 1, 2, 2, 3, 3, 3, 5, 5, 5, 5, 5]\n",
      "30\n"
     ]
    }
   ],
   "source": [
    "# dp를 사용할 수 있는 예시 \n",
    "a,b = map(int, input().split())\n",
    "\n",
    "dp= [0,1,1]  # dp[1] =1 , dp[2] =1 , dp[3] =2 ,dp[4]= 3   dp[5] = 5 \n",
    "dp.extend([0] * b)\n",
    "\n",
    "for i in range(3,b+1):\n",
    "    dp[i] = dp[i-1] +dp[i-2]\n",
    "\n",
    "# print( dp[a:b+1])  # 일반적인 피보나치 수열 dp해결\n",
    "\n",
    "#단 우리는 피보나치 피보나치 수열 문제 \n",
    "\n",
    "\n",
    "ffibo = [0,1,1]\n",
    "i = 3\n",
    "while len(ffibo) < b+1:\n",
    "    for _ in range(dp[i]):\n",
    "        ffibo.append(dp[i])\n",
    "        \n",
    "    i+=1 \n",
    "\n",
    "    \n",
    "print (sum(ffibo[a:b+1]))"
   ]
  }
 ],
 "metadata": {
  "kernelspec": {
   "display_name": "base",
   "language": "python",
   "name": "python3"
  },
  "language_info": {
   "codemirror_mode": {
    "name": "ipython",
    "version": 3
   },
   "file_extension": ".py",
   "mimetype": "text/x-python",
   "name": "python",
   "nbconvert_exporter": "python",
   "pygments_lexer": "ipython3",
   "version": "3.12.4"
  }
 },
 "nbformat": 4,
 "nbformat_minor": 2
}
