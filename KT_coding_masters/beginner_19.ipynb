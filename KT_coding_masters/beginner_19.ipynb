{
 "cells": [
  {
   "cell_type": "markdown",
   "metadata": {},
   "source": [
    "# 주사위의 합\n",
    "문제설명\n",
    "주사위 2개를 굴려 합이 N이 나오는 경우의 수를 구하는 프로그램을 작성하세요. 반드시 주사위 2개를 함께 굴리며, 예를 들어 N = 5일 때는 (1, 4), (2, 3), (3, 2), (4, 1)의 네 가지 경우의 수가 존재합니다.\n",
    "\n",
    "입출력 예\n",
    "입력 #1\n",
    "\n",
    "5\n",
    "\n",
    "입력 #2\n",
    "\n",
    "7\n",
    "\n",
    "입력값 설명\n",
    "\n",
    "정수 N이 입력됩니다. (2 ≤ N ≤ 12)\n",
    "\n",
    "출력 #1\n",
    "\n",
    "1 4\n",
    "2 3\n",
    "3 2\n",
    "4 1\n",
    "\n",
    "출력 #2\n",
    "\n",
    "1 6\n",
    "2 5\n",
    "3 4\n",
    "4 3\n",
    "5 2\n",
    "6 1\n",
    "\n",
    "출력값 설명\n",
    "\n",
    "주사위 2개를 굴려 합이 N이 나오는 각각의 경우를 출력합니다. 출력할 때는 첫 번째 주사위의 눈금이 오름차순으로 출력될 수 있도록 합니다."
   ]
  },
  {
   "cell_type": "code",
   "execution_count": 10,
   "metadata": {},
   "outputs": [
    {
     "name": "stdout",
     "output_type": "stream",
     "text": [
      "6 6\n"
     ]
    }
   ],
   "source": [
    "n = int(input())\n",
    "\n",
    "l = []\n",
    "for i in range(1,6+1):\n",
    "    \n",
    "    if n - i <=6 and n-i >=1:\n",
    "        l.append((i, n-i))\n",
    "\n",
    "for (j1,j2) in l:\n",
    "    print(j1,j2)"
   ]
  }
 ],
 "metadata": {
  "kernelspec": {
   "display_name": "base",
   "language": "python",
   "name": "python3"
  },
  "language_info": {
   "codemirror_mode": {
    "name": "ipython",
    "version": 3
   },
   "file_extension": ".py",
   "mimetype": "text/x-python",
   "name": "python",
   "nbconvert_exporter": "python",
   "pygments_lexer": "ipython3",
   "version": "3.12.4"
  }
 },
 "nbformat": 4,
 "nbformat_minor": 2
}
