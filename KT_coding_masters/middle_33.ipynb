{
 "cells": [
  {
   "cell_type": "markdown",
   "metadata": {},
   "source": [
    "# 밑장 빼기\n",
    "\n",
    "문제설명\n",
    "준하는 영화 타짜를 감명깊게 봤습니다. 영화에 나오는 손기술을 연습하던 준하는 카드더미에서 맨 윗장 뿐만이 아니라, 맨 아래에 있는 카드를 대신 내려놓는 기술을 쓸 수 있게 되었습니다!\n",
    "1부터 N까지 수가 쓰여져 있는 N장의 카드 더미가 주어집니다. 이 카드 더미에서 맨 위 또는 맨 아래에 있는 카드를 내려놓는 것을 반복해서, 1부터 N까지 차례대로 내려놓을 수 있는지 알려주는 프로그램을 작성해 주세요.\n",
    "\n",
    "입출력 예\n",
    "입력 #1\n",
    "\n",
    "5\n",
    "\n",
    "1 4 5 3 2\n",
    "\n",
    "입력 #2\n",
    "\n",
    "5\n",
    "\n",
    "1 4 3 5 2\n",
    "\n",
    "입력값 설명\n",
    "\n",
    "첫째 줄에 N이 주어집니다. (1 ≤ N ≤ 1,000)\n",
    "둘째 줄에, 카드 더미에 있는 카드에 쓰인 수가 순서대로 주어집니다. (1 ≤ 카드에 쓰인 수 ≤ N)\n",
    "\n",
    "출력 #1\n",
    "\n",
    "YES\n",
    "\n",
    "출력 #2\n",
    "\n",
    "NO\n",
    "\n",
    "출력값 설명\n",
    "\n",
    "카드 더미에서 맨 위 또는 맨 아래에 있는 카드를 내려놓는 것을 반복해서, 1이 쓰여있는 카드부터 N이 쓰여 있는 카드까지 차례대로 내려놓을 수 있으면 YES, 그렇지 않으면 NO를 출력합니다."
   ]
  },
  {
   "cell_type": "markdown",
   "metadata": {},
   "source": [
    "# 접근 방식\n",
    "-deque를 사용하면 될듯하다 , 선입 선출, 후입 선출에서 가능한 pop으로 오름차순 정렬이 가능하다면 \n",
    "\n",
    "- 결과는 stack 에 저장 , 스택의 최상단 과 내리려는 카드의 차이가 단 1일 때 진행  \n",
    "\n",
    "\n"
   ]
  },
  {
   "cell_type": "code",
   "execution_count": 8,
   "metadata": {},
   "outputs": [
    {
     "name": "stdout",
     "output_type": "stream",
     "text": [
      "2\n",
      "[0, 1, 2]\n",
      "NO\n"
     ]
    }
   ],
   "source": [
    "from collections import deque \n",
    "\n",
    "n = int(input())\n",
    "\n",
    "dq = deque(map(int,input().split()))\n",
    "stack = [0]\n",
    "#print(dq[-1])\n",
    "\n",
    "answer = 'YES'\n",
    "while dq:\n",
    "    # dp에서 꺼낼 수 없는 상황일시 탈출\n",
    "    if dq[0] != stack[-1]+1 and dq[-1] != stack[-1]+1:\n",
    "        answer = 'NO'\n",
    "        break\n",
    "    else:\n",
    "        if dq[0] == stack[-1]+1:\n",
    "            a = dq.popleft()\n",
    "            stack.append(a)\n",
    "        elif dq[-1] == stack[-1]+1:\n",
    "            a = dq.pop()\n",
    "            stack.append(a)\n",
    "\n",
    "#print(stack)\n",
    "print(answer)\n",
    "            "
   ]
  }
 ],
 "metadata": {
  "kernelspec": {
   "display_name": "base",
   "language": "python",
   "name": "python3"
  },
  "language_info": {
   "codemirror_mode": {
    "name": "ipython",
    "version": 3
   },
   "file_extension": ".py",
   "mimetype": "text/x-python",
   "name": "python",
   "nbconvert_exporter": "python",
   "pygments_lexer": "ipython3",
   "version": "3.12.4"
  }
 },
 "nbformat": 4,
 "nbformat_minor": 2
}
