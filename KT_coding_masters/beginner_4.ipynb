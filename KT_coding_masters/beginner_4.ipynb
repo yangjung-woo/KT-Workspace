{
 "cells": [
  {
   "cell_type": "markdown",
   "metadata": {},
   "source": [
    "# 바닥 공사 1\n",
    "문제설명\n",
    "가로의 길이가 N, 세로의 길이가 2인 직사각형 형태의 복도가 있습니다. 태혁이는 이 복도의 바닥을 1 X 2의 타일와 2 X 1의 타일을 이용해 채우고자 합니다. 단, 타일을 겹쳐 놓거나 타일을 작게 쪼갤 수 없습니다. 바닥을 타일로 가득 채우는 방법의 수를 출력하는 프로그램을 작성하세요. 예를 들어 가로의 길이가 3, 세로의 길이가 2인 경우 바닥을 채우는 방법은 총 3가지이므로 3을 출력해야 합니다. <<그림>>\n",
    "\n",
    "입출력 예\n",
    "입력 #1\n",
    "\n",
    "3\n",
    "\n",
    "입력 #2\n",
    "\n",
    "5\n",
    "\n",
    "입력값 설명\n",
    "\n",
    "복도의 가로 길이를 뜻하는 정수 N이 주어집니다. (1 ≤ N ≤ 1,000)\n",
    "\n",
    "출력 #1\n",
    "\n",
    "3\n",
    "\n",
    "출력 #2\n",
    "\n",
    "8\n",
    "\n",
    "출력값 설명\n",
    "\n",
    "가로의 길이가 N, 세로의 길이가 2인 바닥을 채우는 방법의 수를 796,796으로 나눈 나머지를 출력하세요."
   ]
  },
  {
   "cell_type": "markdown",
   "metadata": {},
   "source": [
    "## 나의 풀이 \n",
    "- n 의 최대값이 주어지지 않았음 => 시간복잡도를 나중에 고려 \n",
    "\n",
    "- 세로의 길이는 2로 고정 \n",
    "- 1x2 타일과 2x1 타일 두가지 종류 \n",
    "- 모든 타일을 2x1 로 도배하는 경우는 반드시 존재 \n",
    "\n",
    "# DP 로 문제접근\n",
    "\n",
    "- dp[i] 를 구하는 방법 \n",
    "dp[i]가 되는 경우의 수 모두 계산\n",
    "\n",
    "- dp[i-1] 에서 1 x 2 타일 추가 단 1가지  dp[i-1] *1 \n",
    "- dp[i-2] 에서 2 x 1 타일 2개 추가 단 1가지  dp[i-2]\n",
    "- 즉 dp[i] = dp[i-1] + dp[i-2]\n"
   ]
  },
  {
   "cell_type": "code",
   "execution_count": 11,
   "metadata": {},
   "outputs": [
    {
     "name": "stdout",
     "output_type": "stream",
     "text": [
      "8\n"
     ]
    }
   ],
   "source": [
    "n = int(input())\n",
    "\n",
    "dp = [0 for _ in range(n+1)]\n",
    "\n",
    "dp[1] = 1\n",
    "dp[2] = 2\n",
    "\n",
    "for i in range(3,n+1):\n",
    "    dp[i] = dp[i-1]+dp[i-2]\n",
    "\n",
    "print(dp[n] % 796796) \n",
    "\n",
    "\n"
   ]
  },
  {
   "cell_type": "code",
   "execution_count": null,
   "metadata": {},
   "outputs": [],
   "source": []
  }
 ],
 "metadata": {
  "kernelspec": {
   "display_name": "base",
   "language": "python",
   "name": "python3"
  },
  "language_info": {
   "codemirror_mode": {
    "name": "ipython",
    "version": 3
   },
   "file_extension": ".py",
   "mimetype": "text/x-python",
   "name": "python",
   "nbconvert_exporter": "python",
   "pygments_lexer": "ipython3",
   "version": "3.12.4"
  }
 },
 "nbformat": 4,
 "nbformat_minor": 2
}
