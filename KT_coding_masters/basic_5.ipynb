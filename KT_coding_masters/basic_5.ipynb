{
 "cells": [
  {
   "cell_type": "markdown",
   "metadata": {},
   "source": [
    "#아이디 만들기\n",
    "\n",
    "문제설명\n",
    "외로운 현우는 미소녀 연애 시뮬레이션 게임을 하려고 합니다. 다운로드를 끝내고 게임에 접속하니 아이디를 만들라는 창이 등장했습니다. 아이디는 영어로만 쓸 수 있고, 20글자를 넘어가면 안 됩니다. 현우가 정한 아이디의 생성 가능여부를 출력하세요.\n",
    "\n",
    "입출력 예\n",
    "입력 #1\n",
    "\n",
    "abcdefghijklmnopqrstuvwxyz\n",
    "\n",
    "입력 #2\n",
    "\n",
    "ABC\n",
    "\n",
    "입력값 설명\n",
    "\n",
    "첫째 줄에 영어 소문자와 대문자로만 이루어진 아이디가 주어집니다. 입력되는 아이디의 길이는 100자를 넘어가지 않습니다.\n",
    "\n",
    "출력 #1\n",
    "\n",
    "I\n",
    "\n",
    "출력 #2\n",
    "\n",
    "P\n",
    "\n",
    "출력값 설명\n",
    "\n",
    "첫째 줄에 아이디의 생성여부를 출력합니다. 사용할 수 있는 아이디라면 P라고 출력하고, 사용할 수 없다면 I라고 출력합니다."
   ]
  },
  {
   "cell_type": "code",
   "execution_count": 1,
   "metadata": {},
   "outputs": [
    {
     "name": "stdout",
     "output_type": "stream",
     "text": [
      "P\n"
     ]
    }
   ],
   "source": [
    "id_input = input()\n",
    "\n",
    "if len(id_input) >20:\n",
    "    print('I')\n",
    "else:\n",
    "    print('P')"
   ]
  }
 ],
 "metadata": {
  "kernelspec": {
   "display_name": "base",
   "language": "python",
   "name": "python3"
  },
  "language_info": {
   "codemirror_mode": {
    "name": "ipython",
    "version": 3
   },
   "file_extension": ".py",
   "mimetype": "text/x-python",
   "name": "python",
   "nbconvert_exporter": "python",
   "pygments_lexer": "ipython3",
   "version": "3.12.4"
  }
 },
 "nbformat": 4,
 "nbformat_minor": 2
}
