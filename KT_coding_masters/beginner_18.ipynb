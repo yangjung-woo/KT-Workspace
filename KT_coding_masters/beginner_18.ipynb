{
 "cells": [
  {
   "cell_type": "markdown",
   "metadata": {},
   "source": [
    "# 구름 별\n",
    "문제설명\n",
    "별찍기 문제는 프로그래밍 기초 예제로 자주 등장합니다. 그런데 이번에는 별을 구름 모양으로 출력하라는 과제를 받았습니다.\n",
    "\n",
    "양의 정수 N이 입력될 때 크기가 N인 구름 별을 출력하는 프로그램을 작성하세요. 구름 별의 모양은 다음과 같습니다.\n",
    "\n",
    "크기가 2인 구름 별의 모양입니다.\n",
    "**\n",
    " **\n",
    "\n",
    "다음은 크기가 3인 구름 별의 모양입니다.\n",
    "**\n",
    " **\n",
    "  **\n",
    "\n",
    "입출력 예\n",
    "입력 #1\n",
    "\n",
    "2\n",
    "\n",
    "입력 #2\n",
    "\n",
    "3\n",
    "\n",
    "입력값 설명\n",
    "\n",
    "양의 정수 N이 입력됩니다. (1 ≤ N ≤ 20)\n",
    "\n",
    "출력 #1\n",
    "\n",
    "**\n",
    " **\n",
    "\n",
    "출력 #2\n",
    "\n",
    "**\n",
    " **\n",
    "  **\n",
    "\n",
    "출력값 설명\n",
    "\n",
    "크기가 N인 구름 별을 출력합니다."
   ]
  },
  {
   "cell_type": "code",
   "execution_count": 2,
   "metadata": {},
   "outputs": [
    {
     "name": "stdout",
     "output_type": "stream",
     "text": [
      "**\n",
      " **\n",
      "  **\n",
      "   **\n",
      "    **\n"
     ]
    }
   ],
   "source": [
    "n = int(input())\n",
    "\n",
    "for i in range(n):\n",
    "    print(' '*i +'*'*2)"
   ]
  }
 ],
 "metadata": {
  "kernelspec": {
   "display_name": "base",
   "language": "python",
   "name": "python3"
  },
  "language_info": {
   "codemirror_mode": {
    "name": "ipython",
    "version": 3
   },
   "file_extension": ".py",
   "mimetype": "text/x-python",
   "name": "python",
   "nbconvert_exporter": "python",
   "pygments_lexer": "ipython3",
   "version": "3.12.4"
  }
 },
 "nbformat": 4,
 "nbformat_minor": 2
}
