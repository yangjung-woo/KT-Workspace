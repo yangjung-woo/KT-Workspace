{
 "cells": [
  {
   "cell_type": "markdown",
   "metadata": {},
   "source": []
  },
  {
   "cell_type": "markdown",
   "metadata": {},
   "source": [
    "# 내 이름이 적힌 번호 찾기\n",
    "\n",
    "## 문제설명\n",
    "영덕이는 영어학원에 다니고 있습니다. 선생님은 매일 학생들의 이름을 무작위로 나열한 비밀 목록을 만들고, 이름이 i번째로 나열된 학생에게 i번째 문제의 정답을 발표시킵니다. 발표할 때 매번 틀린 답을 하는 영덕이는 자신에게 크게 실망했습니다. 그래서 오늘, 영덕이는 비밀 목록을 몰래 보고 몇 번째 문제의 정답을 발표해야 할지 미리 알아내려 합니다. 영덕이의 영어 이름을 포함한 N명의 이름이 적힌 목록이 주어집니다. 이때 영덕이의 영어 이름이 목록에서 몇 번째인지 출력하는 프로그램을 작성하세요.\n",
    "\n",
    "입출력 예\n",
    "입력 #1\n",
    "\n",
    "5 BENJAMIN\n",
    "GENNADY LINGYU ALEX BENJAMIN MIFAFA\n",
    "\n",
    "입력 #2\n",
    "\n",
    "10 G\n",
    "A B C D E F G H I J\n",
    "\n",
    "입력값 설명\n",
    "\n",
    "첫째 줄에 목록에 적힌 이름의 수 N과 영덕이의 영어 이름이 공백을 구분으로 주어집니다. (1 ≤ N ≤ 100) 둘째 줄에 목록에 적힌 N개의 이름이 공백을 구분으로 주어집니다. 모든 이름은 길이가 1 이상 100 이하이며 영어 대문자 알파벳으로만 이루어져 있습니다. 목록에 영덕이의 영어 이름은 반드시 있으며 동명이인이 없음을 보장합니다.\n",
    "\n",
    "출력 #1\n",
    "\n",
    "4\n",
    "\n",
    "출력 #2\n",
    "\n",
    "7\n",
    "\n",
    "출력값 설명\n",
    "\n",
    "영덕이의 영어 이름이 몇 번째에 등장했는지 출력하세요."
   ]
  },
  {
   "cell_type": "code",
   "execution_count": 1,
   "metadata": {},
   "outputs": [
    {
     "name": "stdout",
     "output_type": "stream",
     "text": [
      "2\n"
     ]
    }
   ],
   "source": [
    "# 몇번째에 이름이 있는지 반환하는 문제\n",
    "\n",
    "n , name = input().split()\n",
    "\n",
    "name_list = list(input().split())\n",
    "\n",
    "print(name_list.index(name) + 1)"
   ]
  }
 ],
 "metadata": {
  "kernelspec": {
   "display_name": "base",
   "language": "python",
   "name": "python3"
  },
  "language_info": {
   "codemirror_mode": {
    "name": "ipython",
    "version": 3
   },
   "file_extension": ".py",
   "mimetype": "text/x-python",
   "name": "python",
   "nbconvert_exporter": "python",
   "pygments_lexer": "ipython3",
   "version": "3.12.4"
  }
 },
 "nbformat": 4,
 "nbformat_minor": 2
}
