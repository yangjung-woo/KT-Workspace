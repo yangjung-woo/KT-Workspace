{
 "cells": [
  {
   "cell_type": "markdown",
   "metadata": {},
   "source": [
    "# 몇 번씩 나올까\n",
    "문제설명\n",
    "1부터 N까지의 숫자를 일렬로 늘어놓았을 때, 0부터 9까지의 숫자가 각각 몇 번씩 나오는지 알아내는 프로그램을 만드세요.\n",
    "\n",
    "입출력 예\n",
    "입력 #1\n",
    "\n",
    "12\n",
    "\n",
    "입력 #2\n",
    "\n",
    "321\n",
    "\n",
    "입력값 설명\n",
    "\n",
    "첫째 줄에 N이 주어집니다. N은 100,000보다 작거나 같은 자연수입니다.\n",
    "\n",
    "출력 #1\n",
    "\n",
    "1 5 2 1 1 1 1 1 1 1\n",
    "\n",
    "출력 #2\n",
    "\n",
    "62 173 164 84 62 62 62 62 62 62\n",
    "\n",
    "출력값 설명\n",
    "\n",
    "첫째 줄에 0부터 9까지의 숫자가 각각 몇 번씩 나오는지 공백을 두고 출력합니다."
   ]
  },
  {
   "cell_type": "code",
   "execution_count": 2,
   "metadata": {},
   "outputs": [
    {
     "name": "stdout",
     "output_type": "stream",
     "text": [
      "['1', '2', '3', '4', '5', '6', '7', '8', '9', '1', '0', '1', '1', '1', '2']\n",
      "1 5 2 1 1 1 1 1 1 1\n"
     ]
    }
   ],
   "source": [
    "\n",
    "n = int(input())\n",
    "total = []\n",
    "for i in range(1,n+1):\n",
    "    if i <10:\n",
    "        total.append(str(i))\n",
    "    else:\n",
    "        two_length = list(str(i))\n",
    "        for j in two_length:\n",
    "            total.append(str(j))\n",
    "            \n",
    "\n",
    "print(total.count('0'),total.count('1'),total.count('2'),total.count('3'),total.count('4'),total.count('5'),total.count('6'),total.count('7'),total.count('8'),total.count('9'))"
   ]
  }
 ],
 "metadata": {
  "kernelspec": {
   "display_name": "base",
   "language": "python",
   "name": "python3"
  },
  "language_info": {
   "codemirror_mode": {
    "name": "ipython",
    "version": 3
   },
   "file_extension": ".py",
   "mimetype": "text/x-python",
   "name": "python",
   "nbconvert_exporter": "python",
   "pygments_lexer": "ipython3",
   "version": "3.12.4"
  }
 },
 "nbformat": 4,
 "nbformat_minor": 2
}
