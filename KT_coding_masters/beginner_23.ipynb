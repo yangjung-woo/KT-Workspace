{
 "cells": [
  {
   "cell_type": "markdown",
   "metadata": {},
   "source": [
    "# 가우스와 정다각형\n",
    "문제설명\n",
    "수학자 가우스는 1796년에 다음과 같은 사실을 보였습니다. \n",
    "\n",
    "- 어떤 정다각형이 작도가능할 필요충분조건은, 그 변의 개수가 서로 다른 페르마 소수의 곱과 2의 거듭제곱을 곱한 형태로 나타나지는 것이다.\n",
    "\n",
    "페르마 소수란 음이 아닌 정수 n에 대하여 F_n = 2^(2^n)+1 꼴로 나타내어지는 소수를 말하고, 지금까지 알려진 페르마 소수는 다음과 같습니다. (적어도 10¹? 이하의 자연수 중에 페르마 소수는 다음 5개 밖에 없음이 증명되어 있습니다.)\n",
    "\n",
    "- F_0 = 2¹ + 1 = 3\n",
    "- F_1 = 2² + 1 = 5\n",
    "- F_2 = 2⁴ + 1 = 17\n",
    "- F_3 = 2? + 1 = 257\n",
    "- F_4 = 2¹? + 1 = 65537\n",
    "\n",
    "이 때 작도 가능한 정다각형의 예시를 들면 다음과 같습니다. \n",
    "\n",
    "- 정4각형, 정8각형, 정16각형, … (1도 서로 다른 페르마 소수의 곱으로 생각합니다.)\n",
    "- 정3각형, 정5각형, 정17각형, 정257각형, 정65537각형\n",
    "- 정15각형(3×5), 정4369각형(17×257), 정3342387각형(3×17×65537)\n",
    "- 정80각형(5×2⁴), 정204각형(3×17×2²), 정6291552각형(3×65537×2?)\n",
    "\n",
    "어떤 정수 k가 주어질 때, 정k각형이 작도 가능한 정다각형인지 판별하는 프로그램을 작성해봅시다.\n",
    "\n",
    "입출력 예\n",
    "입력 #1\n",
    "\n",
    "17\n",
    "\n",
    "입력 #2\n",
    "\n",
    "19\n",
    "\n",
    "입력값 설명\n",
    "\n",
    "문제에서 설명한 정수 k가 주어집니다. (3 ≤ k ≤ 10¹?)\n",
    "\n",
    "출력 #1\n",
    "\n",
    "YES\n",
    "\n",
    "출력 #2\n",
    "\n",
    "NO\n",
    "\n",
    "출력값 설명\n",
    "\n",
    "정k각형이 작도 가능한 정다각형이라면 “YES”를, 아니라면 “NO”를 큰따옴표를 제외하고 출력합니다."
   ]
  },
  {
   "cell_type": "markdown",
   "metadata": {},
   "source": [
    "# 문제접근\n",
    "- 어떤 정다각형이 작도가능할 필요충분조건은, 그 변의 개수가 서로 다른 페르마 소수의 곱과 2의 거듭제곱을 곱한 형태로 나타나지는 것이다.\n",
    "\n",
    "즉 정 k각형이 페르마소수의 곱으로 표현되면(페르마 소수로 나누어 떨어지면) 작도 가능한 정다각형 \n",
    "\n"
   ]
  },
  {
   "cell_type": "code",
   "execution_count": 2,
   "metadata": {},
   "outputs": [
    {
     "name": "stdout",
     "output_type": "stream",
     "text": [
      "NO\n"
     ]
    }
   ],
   "source": [
    "#- 어떤 정다각형이 작도가능할 필요충분조건은, \n",
    "# 그 변의 개수가 서로 다른 페르마 소수의 곱과 2의 거듭제곱을 곱한 형태로 나타나지는 것이다.\n",
    "# \n",
    "Ferma_list = [3,5,17,257,65537]\n",
    "n = int(input())\n",
    "answer = 'NO'\n",
    "\n",
    "for f in Ferma_list:\n",
    "    if n % f ==0:\n",
    "        answer = \"YES\"\n",
    "        \n",
    "print(answer)"
   ]
  },
  {
   "cell_type": "markdown",
   "metadata": {},
   "source": [
    "# 실패 \n",
    "- 내가 몰랐던 테스트케이스? \n",
    "- 서로 다른 페르마 소수의 곱  과 2의 거듭제곱을 곱한 형태 \n",
    "\n",
    "다른접근\n",
    "1. 2의 거듭제곱을 제거하고 \n",
    "2 페르마 리스트에 있는지 확인\n"
   ]
  },
  {
   "cell_type": "code",
   "execution_count": 6,
   "metadata": {},
   "outputs": [
    {
     "name": "stdout",
     "output_type": "stream",
     "text": [
      "NO\n"
     ]
    }
   ],
   "source": [
    "#- 어떤 정다각형이 작도가능할 필요충분조건은, \n",
    "# 그 변의 개수가 서로 다른 페르마 소수의 곱과 2의 거듭제곱을 곱한 형태로 나타나지는 것이다.\n",
    "# \n",
    "Ferma_list = [3,5,17,257,65537]\n",
    "n = int(input())\n",
    "answer = 'NO'\n",
    "\n",
    "if n <3:\n",
    "    print(answer)\n",
    "else:\n",
    "    while n %2 ==0: # 2의 거듭제곱 전부 제거\n",
    "        n = n//2\n",
    "\n",
    "    # 서로 다른 페르마 소수의 곱\n",
    "    for f in Ferma_list:\n",
    "        if n % f ==0:\n",
    "            n = n // f\n",
    "            Ferma_list.remove(f)\n",
    "            # break \n",
    "            # 페르마 소수를 2개 이상 곱으로 표현할 수 있음  \n",
    "    if n in Ferma_list:\n",
    "        answer ='YES'\n",
    "        \n",
    "    print(answer)"
   ]
  },
  {
   "cell_type": "markdown",
   "metadata": {},
   "source": [
    "# 개선안 \n",
    "- 정디긱형은 반드시 3 이상이여야 함 \n",
    "- "
   ]
  },
  {
   "cell_type": "code",
   "execution_count": null,
   "metadata": {},
   "outputs": [],
   "source": [
    "Fermat_list = [3, 5, 17, 257, 65537]\n",
    "n = int(input())\n",
    "answer = 'NO'\n",
    "\n",
    "if n < 3:\n",
    "    print(answer)\n",
    "else:\n",
    "    while n % 2 == 0:  # 2의 거듭제곱 전부 제거\n",
    "        n = n // 2\n",
    "\n",
    "    used_fermat = set()\n",
    "    for f in Fermat_list:\n",
    "        while n % f == 0: # 페르마 소수를 2개 이상 곱으로 표현할 수 있음 \n",
    "            if f in used_fermat:\n",
    "                print(answer)\n",
    "                exit()\n",
    "            used_fermat.add(f)\n",
    "            n = n // f\n",
    "\n",
    "    if n == 1:\n",
    "        answer = 'YES'\n",
    "\n",
    "    print(answer)"
   ]
  }
 ],
 "metadata": {
  "kernelspec": {
   "display_name": "base",
   "language": "python",
   "name": "python3"
  },
  "language_info": {
   "codemirror_mode": {
    "name": "ipython",
    "version": 3
   },
   "file_extension": ".py",
   "mimetype": "text/x-python",
   "name": "python",
   "nbconvert_exporter": "python",
   "pygments_lexer": "ipython3",
   "version": "3.12.4"
  }
 },
 "nbformat": 4,
 "nbformat_minor": 2
}
