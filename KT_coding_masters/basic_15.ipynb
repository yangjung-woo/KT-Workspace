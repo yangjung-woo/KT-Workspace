{
 "cells": [
  {
   "cell_type": "markdown",
   "metadata": {},
   "source": [
    "# You\n",
    "## 문제설명\n",
    "또리는 챗봇을 만들었습니다. 챗봇은 메신저에서 유저와 소통하는 봇을 말합니다. 그런데 또리가 챗봇을 만드는 도중 중간에 실수가 있었는지 작동이 이상합니다. 챗봇은 You라고 입력하면 Me, 그 외의 모든 경우의 입력에는 No 라고 답합니다. 챗봇에 입력한 문자열 A가 입력되었을 때 챗봇이 답한 문자열을 출력하는 프로그램을 만들어주세요.\n",
    "\n",
    "입출력 예\n",
    "입력 #1\n",
    "\n",
    "Are you?\n",
    "\n",
    "입력 #2\n",
    "\n",
    "You\n",
    "\n",
    "입력값 설명\n",
    "\n",
    "문자열 A가 한 줄에 걸쳐 입력됩니다. (1 ≤ 문자열의 길이 ≤ 1,000)\n",
    "\n",
    "출력 #1\n",
    "\n",
    "No\n",
    "\n",
    "출력 #2\n",
    "\n",
    "Me\n",
    "\n",
    "출력값 설명\n",
    "\n",
    "문자열 A가 'You'이면 'Me'라고 출력하고, 그렇지 않으면 'No'라고 출력합니다."
   ]
  },
  {
   "cell_type": "code",
   "execution_count": null,
   "metadata": {},
   "outputs": [],
   "source": [
    "command = input()\n",
    "\n",
    "if command == 'You':\n",
    "    print('Me')\n",
    "else:\n",
    "    print('No')"
   ]
  }
 ],
 "metadata": {
  "language_info": {
   "name": "python"
  }
 },
 "nbformat": 4,
 "nbformat_minor": 2
}
