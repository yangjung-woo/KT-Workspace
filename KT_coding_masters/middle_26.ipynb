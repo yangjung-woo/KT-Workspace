{
 "cells": [
  {
   "cell_type": "markdown",
   "metadata": {},
   "source": [
    "문자열 복사\n",
    "문제설명\n",
    "문자열 복사 사태가 벌어졌습니다. 따라서 현재 모든 사람들이 문자열 복사를 할 수 있게 되었습니다.\n",
    "문자열 복사의 과정은 다음과 같습니다. 먼저, 길이가 N인 원본 문자열에 대해, 1 ≤ k ≤ N인 정수 k를 고릅니다. 그 뒤, 해당 문자열에서 k개의 연속되는 문자들을 골라 복사하여 각 문자 위치 바로 뒤에 붙여넣습니다. 예를 들어, 원본 문자열이 string 일 때 3개의 연속되는 문자 tri 를 골라 복사하면 sttrriing이 됩니다.\n",
    "민겸이는 문자열 복사를 이용하여 특정한 문자열을 만들려고 합니다. 민겸이는 현재 세 글자의 문자열을 가지고 있습니다. 민겸이가 문자열 복사를 최소 몇 번 해야 목표 문자열을 만들 수 있을지 구하세요.\n",
    "\n",
    "입출력 예\n",
    "입력 #1\n",
    "\n",
    "NOS\n",
    "NNOOOSS\n",
    "\n",
    "입력 #2\n",
    "\n",
    "PPS\n",
    "PPPPPSSSSS\n",
    "\n",
    "입력값 설명\n",
    "\n",
    "입력은 두 줄로 주어집니다. 첫 번째 줄에 민겸이가 원래 가지고 있는 문자열 S1이 주어집니다. 두 번째 줄에 민겸이가 만들려고 하는 문자열 S2가 주어집니다. S1의 길이는 3이며, S2의 길이는 100 이하입니다. 두 문자열은 모두 영어 대문자로만 되어 있습니다.\n",
    "\n",
    "출력 #1\n",
    "\n",
    "2\n",
    "\n",
    "출력 #2\n",
    "\n",
    "3\n",
    "\n",
    "출력값 설명\n",
    "\n",
    "민겸이가 문자열 복사를 최소 몇 번 해야 목표 문자열을 만들 수 있는지 출력합니다. 만드는 게 가능한 입력만 주어집니다."
   ]
  },
  {
   "cell_type": "code",
   "execution_count": 3,
   "metadata": {},
   "outputs": [
    {
     "name": "stdout",
     "output_type": "stream",
     "text": [
      "inf\n"
     ]
    }
   ],
   "source": [
    "def min_copy_operations(S1, S2):\n",
    "    N = len(S2)\n",
    "    dp = [float('inf')] * (N + 1)\n",
    "    dp[0] = 0  # S1의 처음 3글자는 이미 주어져 있음\n",
    "\n",
    "    # dp[i]는 S2의 처음 i글자를 만드는데 필요한 최소 복사 횟수\n",
    "    for i in range(3, N + 1):\n",
    "        for k in range(1, i + 1):\n",
    "            # S1을 S2의 [i-k:i]와 비교해서 복사 가능한지 확인\n",
    "            if S1[-k:] == S2[i-k:i]:\n",
    "                dp[i] = min(dp[i], dp[i-k] + 1)\n",
    "\n",
    "    return dp[N]\n",
    "\n",
    "# 입력\n",
    "s1=  input()\n",
    "s2 = input()\n",
    "\n",
    "print(min_copy_operations(s1, s2)) "
   ]
  }
 ],
 "metadata": {
  "kernelspec": {
   "display_name": "base",
   "language": "python",
   "name": "python3"
  },
  "language_info": {
   "codemirror_mode": {
    "name": "ipython",
    "version": 3
   },
   "file_extension": ".py",
   "mimetype": "text/x-python",
   "name": "python",
   "nbconvert_exporter": "python",
   "pygments_lexer": "ipython3",
   "version": "3.12.4"
  }
 },
 "nbformat": 4,
 "nbformat_minor": 2
}
