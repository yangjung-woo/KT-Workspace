{
 "cells": [
  {
   "cell_type": "markdown",
   "metadata": {},
   "source": [
    "# 약육강식\n",
    "\n",
    "문제설명\n",
    "은진이네 수족관에는 여러 마리의 상어가 일렬로 늘어서 있습니다. 또한 상어마다 크기가 정해져 있습니다. 뒤에 있는 상어가 앞에 있는 상어보다 크기가 크다면 뒤에 있는 상어가 앞에 있는 상어를 삼킬 수 있습니다.\n",
    "\n",
    "예를 들어 상어의 크기가 순서대로 (3, 5, 1, 2, 3, 8)이라면 크기가 3인 상어를 5인 상어가 먹고, 5인 상어를 8인 상어가 먹을 수 있습니다. 이 때 연속적으로 먹히는 관계에 포함되는 상어는 총 3마리가 됩니다.\n",
    "\n",
    "반면에 크기가 1인 상어를 2인 상어가 먹고, 크기가 2인 상어를 3인 상어가 먹고, 크기가 3인 상어를 8인 상어가 먹는다면 연속적으로 먹히는 관계에 포함되는 상어는 총 4마리가 됩니다.\n",
    "\n",
    "상어들의 크기가 주어졌을 때 연속적으로 먹히는 관계를 가진 상어들의 최대 마리 수를 구하는 프로그램을 작성하세요.\n",
    "\n",
    "입출력 예\n",
    "입력 #1\n",
    "\n",
    "6\n",
    "\n",
    "3 5 1 2 3 8\n",
    "\n",
    "입력 #2\n",
    "\n",
    "10\n",
    "\n",
    "1 2 3 4 5 6 7 10 8 8\n",
    "\n",
    "입력값 설명\n",
    "\n",
    "첫 번째 줄은 상어의 마리 수 N이 입력됩니다. (1 ≤ N ≤ 100)\n",
    "두 번째 줄에는 각 상어의 크기가 1 이상 100 이하의 정수로 공백을 기준으로 순서대로 입력됩니다.\n",
    "\n",
    "출력 #1\n",
    "\n",
    "4\n",
    "\n",
    "출력 #2\n",
    "\n",
    "8\n",
    "\n",
    "출력값 설명\n",
    "\n",
    "은진이네 수족관에서 연속적으로 먹히는 관계를 가진 상어들의 최대 마리 수를 출력합니다."
   ]
  },
  {
   "cell_type": "markdown",
   "metadata": {},
   "source": [
    "# 문제접근 : 스택  X 땡 \n",
    "\n",
    "리스트 순회 O(N), \n",
    "\n",
    "조건: 스택의 top 보다 큰 값이면 stack.append \n",
    "\n",
    "작다면 결과 에 stack 추가 , stack 초기화하고 현재 값 추가 \n",
    "\n",
    "result 중 가장 긴 스택 길이를 반환 \n"
   ]
  },
  {
   "cell_type": "code",
   "execution_count": 17,
   "metadata": {},
   "outputs": [
    {
     "name": "stdout",
     "output_type": "stream",
     "text": [
      "5\n"
     ]
    }
   ],
   "source": [
    "n = int(input())\n",
    "\n",
    "l = list(map(int, input().split()))\n",
    "\n",
    "stack = []\n",
    "result = []\n",
    "for i in range(n):\n",
    "\n",
    "    if len(stack)==0: # 빈 스택이면 추가\n",
    "        stack.append(l[i]) \n",
    "    else: # 스택의 마지막 요소 비교\n",
    "        if stack[-1] < l[i]: # 뒷 상어가 먹을 수 있음\n",
    "            stack.append(l[i])\n",
    "        else: # 먹을 수 없음 \n",
    "            result.append(len(stack)) # 결과에 추가하고\n",
    "            stack =[l[i]] # 스택 초기화 하고 다시 시작 \n",
    "            \n",
    "    if i == n-1: # 마지막 단계\n",
    "        result.append(len(stack))\n",
    "\n",
    "print(max(result))\n",
    "            \n",
    "        "
   ]
  },
  {
   "cell_type": "markdown",
   "metadata": {},
   "source": [
    "# 이 문제는 최장 증가 수열을 찾는 문제\n",
    "DP =[1] * N 모든 상어 수열의 최소길이는 1 자기자신\n",
    "\n",
    "\n",
    "반복문  list 에서   i 선택\n",
    "\n",
    "i 보다  0~j~ i-1 앞을 탐색해서  list[j] < list[i] 이면 \n",
    "dp = max(dp[i] , dp[j]+1 )   dp 최대값으로 갱신 \n",
    "\n",
    "결과는 max(dp) 로 반환 \n",
    "\n"
   ]
  },
  {
   "cell_type": "code",
   "execution_count": null,
   "metadata": {},
   "outputs": [],
   "source": [
    "n = int(input())\n",
    "\n",
    "shark_list = list(map(int,input().split()))\n",
    "\n",
    "dp =[1] * n\n",
    "\n",
    "for i in range(n): # shark_list 순회\n",
    "    for j in range(i):  # j 는 shark_list i 보다 앞에있는 상어들 탐색 \n",
    "        if shark_list[i] > shark_list[j]: # 앞단에 먹을수 있는 상어가 있다면 갱신 \n",
    "            dp[i] = max(dp[i], dp[j]+1)\n",
    "            \n",
    "print(max(dp))\n",
    "    "
   ]
  },
  {
   "cell_type": "code",
   "execution_count": 18,
   "metadata": {},
   "outputs": [
    {
     "name": "stdout",
     "output_type": "stream",
     "text": [
      "4\n"
     ]
    }
   ],
   "source": [
    "n = int(input())\n",
    "\n",
    "arr = list(map(int, input().split()))\n",
    "\n",
    "dp = [1 for i in range(n)] # \n",
    "\n",
    "for i in range(n):\n",
    "    for j in range(i):\n",
    "        if arr[i] > arr[j]:\n",
    "            dp[i] = max(dp[i], dp[j]+1)\n",
    "\n",
    "print(max(dp))"
   ]
  }
 ],
 "metadata": {
  "kernelspec": {
   "display_name": "base",
   "language": "python",
   "name": "python3"
  },
  "language_info": {
   "codemirror_mode": {
    "name": "ipython",
    "version": 3
   },
   "file_extension": ".py",
   "mimetype": "text/x-python",
   "name": "python",
   "nbconvert_exporter": "python",
   "pygments_lexer": "ipython3",
   "version": "3.12.4"
  }
 },
 "nbformat": 4,
 "nbformat_minor": 2
}
