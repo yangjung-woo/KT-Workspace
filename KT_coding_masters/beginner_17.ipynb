{
 "cells": [
  {
   "cell_type": "markdown",
   "metadata": {},
   "source": [
    "# 이별 30분 전\n",
    "문제설명\n",
    "방금 실연을 겪게 된 호준이는 간절하게 이별 30분 전으로 돌아가고 싶습니다. 때마침 등장한 시간의 마법사 동빈이는 호준이를 현재 시각의 30분 전으로 되돌려주고자 합니다. 따라서 현재 시각이 주어졌을 때 30분 전의 시각을 출력하는 프로그램을 작성하세요.\n",
    "\n",
    "시각은 시간과 분이 공백을 기준으로 차례대로 입력됩니다. 따라서 단순히 입력된 시각을 기준으로 30분 전의 시간과 분을 출력하면 됩니다.\n",
    "\n",
    "입출력 예\n",
    "입력 #1\n",
    "\n",
    "0 20\n",
    "\n",
    "입력 #2\n",
    "\n",
    "7 40\n",
    "\n",
    "입력값 설명\n",
    "\n",
    "시간 H와 분 M이 입력됩니다. (0 ≤ H ≤ 23) (0 ≤ M ≤ 59)\n",
    "\n",
    "출력 #1\n",
    "\n",
    "23 50\n",
    "\n",
    "출력 #2\n",
    "\n",
    "7 10\n",
    "\n",
    "출력값 설명\n",
    "\n",
    "입력된 시각의 30분 전의 시각을 출력합니다."
   ]
  },
  {
   "cell_type": "code",
   "execution_count": 3,
   "metadata": {},
   "outputs": [
    {
     "name": "stdout",
     "output_type": "stream",
     "text": [
      "23 50\n"
     ]
    }
   ],
   "source": [
    "h , m = map(int,input().split())\n",
    "\n",
    "if m < 30:\n",
    "    h = h-1\n",
    "    m = 60 + m - 30\n",
    "else:\n",
    "    m = m-30\n",
    "\n",
    "if h == -1:\n",
    "    h = h +24\n",
    "    \n",
    "print(h , m)"
   ]
  }
 ],
 "metadata": {
  "kernelspec": {
   "display_name": "base",
   "language": "python",
   "name": "python3"
  },
  "language_info": {
   "codemirror_mode": {
    "name": "ipython",
    "version": 3
   },
   "file_extension": ".py",
   "mimetype": "text/x-python",
   "name": "python",
   "nbconvert_exporter": "python",
   "pygments_lexer": "ipython3",
   "version": "3.12.4"
  }
 },
 "nbformat": 4,
 "nbformat_minor": 2
}
