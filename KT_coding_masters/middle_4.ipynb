{
 "cells": [
  {
   "cell_type": "markdown",
   "metadata": {},
   "source": [
    "# 먹보 수민이\n",
    "문제설명\n",
    "수민이는 저녁 약속을 위해 차를 타고 식당을 가던 중, 차가 고장나서 남은 거리를 일직선으로 걸어가기로 했습니다. 수민이의 몸은 굉장히 특이하기 때문에 1km 걸을때마다 포만감이 1씩 떨어집니다. 포만감이 0이 되면 그는 더 이상 움직일 수 없습니다. 다행히도 식당까지 걸어가는 길에 편의점들이 많이 있어 필요하면 들려서 포만감을 올릴 수 있습니다. 그는 대식가이기 때문에 필요하면 얼마든지 많이 먹을 수 있어 포만감을 올리는데 제한이 없습니다.\n",
    "\n",
    "수민이는 식당에 최대한 빨리 가야 하기 때문에 중간에 편의점에 들르는 횟수는 최소화하려고 합니다. 편의점의 위치, 각 편의점에서 얻을 수 있는 포만감이 주어질 때, 편의점에 들르는 횟수를 구하는 프로그램을 만드세요.\n",
    "\n"
   ]
  },
  {
   "cell_type": "markdown",
   "metadata": {},
   "source": [
    "\n",
    "\n",
    "# 입출력 예\n",
    "입력 #1\n",
    "\n",
    "5\n",
    "\n",
    "4 39\n",
    "43 51\n",
    "49 18\n",
    "89 39\n",
    "116 75\n",
    "178 7\n",
    "\n",
    "입력 #2\n",
    "\n",
    "13\n",
    "8 88\n",
    "52 18\n",
    "73 73\n",
    "143 100\n",
    "237 1\n",
    "397 84\n",
    "462 93\n",
    "473 92\n",
    "572 64\n",
    "605 25\n",
    "622 29\n",
    "770 27\n",
    "924 12\n",
    "999 23\n",
    "\n",
    "입력값 설명\n",
    "\n",
    "첫째 줄에 편의점의 개수 N(1≤ N ≤ 100)가 입력되고 두 번째 줄부터 N+1번째 줄 까지 편의점의 정보가 주어집니다.\n",
    "편의점의 정보는 두 정수 a, b로 이루어져 있는데, a(1 ≤ a ≤ 1,000)는 수민이가 출발한 위치에서 편의점까지의 거리, 그리고 b(1 ≤ b ≤ 100)는 그 편의점에서 얻을 수 있는 포만감을 의미합니다. a, b는 공백을 두고 주어집니다.\n",
    "N + 2번째 줄에는 두 정수 L과 P가 공백을 두고 주어지는데, L(1 ≤ L ≤ 1,500)은 수민이의 위치에서 목표지점인 식당까지의 거리, P(1≤ P ≤ 100)는 초기 수민이의 포만감입니다.\n",
    "\n",
    "출력 #1\n",
    "\n",
    "4\n",
    "\n",
    "출력 #2\n",
    "\n",
    "-1\n",
    "\n",
    "출력값 설명\n",
    "\n",
    "첫째 줄에 수민이가 편의점에 들르는 횟수의 최솟값을 출력합니다. 만약 수민이가 식당에 도착할 수 없다면 -1을 출력합니다."
   ]
  },
  {
   "cell_type": "markdown",
   "metadata": {},
   "source": [
    "# 문제 접근 방식 : 우선순위 큐 \n",
    "\n",
    "이 문제는 우선순위 큐(힙) 자료구조를 사용하여 해결하는 것이 적합합니다. 문제의 핵심은 수민이가 식당까지 가는 도중, 포만감을 효율적으로 관리하면서 편의점에 들르는 횟수를 최소화하는 것이므로, 다음과 같은 접근 방식을 사용할 수 있습니다.\n",
    "\n",
    "## 문제 해결을 위한 아이디어:\n",
    "수민이가 포만감이 다 떨어지기 전에, 현재 위치에서 가장 멀리 갈 수 있는 거리까지 가는 것이 목표입니다.\n",
    "만약 도중에 포만감이 부족해진다면, 지나온 편의점 중에서 가장 많은 포만감을 제공하는 곳을 선택해서 포만감을 보충해야 합니다.\n",
    "우선순위 큐를 사용하여 지나온 편의점들 중에서 가장 포만감을 많이 제공하는 편의점을 빠르게 선택할 수 있습니다.\n",
    "\n",
    "## 구체적인 알고리즘:\n",
    "현재 위치와 포만감으로 식당까지 이동할 수 있는 만큼 이동합니다.\n",
    "이동 도중, 지나친 편의점의 정보를 우선순위 큐에 저장합니다. 이때, 포만감을 최대화해야 하므로 포만감이 큰 편의점부터 선택할 수 있도록 우선순위 큐는 최대 힙(max-heap)을 사용합니다.\n",
    "만약 포만감이 부족해서 더 이상 갈 수 없을 때, 큐에서 포만감이 가장 큰 편의점을 선택하여 포만감을 보충합니다.\n",
    "이 과정을 반복하여 식당까지 도착할 수 있으면 들른 편의점 횟수를 출력하고, 도중에 더 이상 갈 수 없으면 -1을 출력합니다.\n",
    "\n",
    "## 자료구조:\n",
    "우선순위 큐(최대 힙): 지나온 편의점들 중 가장 많은 포만감을 제공하는 편의점을 빠르게 찾기 위해 사용합니다.\n",
    "그리디 알고리즘: 최대한 멀리 가되, 포만감이 부족할 때만 보충하는 방식으로 최적의 해를 찾습니다."
   ]
  },
  {
   "cell_type": "code",
   "execution_count": 1,
   "metadata": {},
   "outputs": [
    {
     "name": "stdout",
     "output_type": "stream",
     "text": [
      "2\n"
     ]
    }
   ],
   "source": [
    "import heapq\n",
    "\n",
    "def min_stops_to_restaurant(convenience_stores, L, P):\n",
    "    # 편의점 위치를 거리 순으로 정렬\n",
    "    convenience_stores.sort()\n",
    "\n",
    "    # 최대 힙을 구현하기 위해 음수 값 사용\n",
    "    max_heap = []\n",
    "    stops = 0\n",
    "    current_position = 0\n",
    "    fuel = P\n",
    "    idx = 0\n",
    "    n = len(convenience_stores)\n",
    "    \n",
    "    while current_position + fuel < L:\n",
    "        # 현재 위치에서 갈 수 있는 편의점 모두 확인\n",
    "        while idx < n and convenience_stores[idx][0] <= current_position + fuel:\n",
    "            # 우선순위 큐에 편의점의 포만감(연료)을 음수로 삽입\n",
    "            heapq.heappush(max_heap, -convenience_stores[idx][1])\n",
    "            idx += 1\n",
    "        \n",
    "        # 더 이상 갈 수 있는 편의점이 없고, 도착하지 못하면 -1 반환\n",
    "        if not max_heap:\n",
    "            return -1\n",
    "        \n",
    "        # 가장 큰 포만감(연료)을 얻을 수 있는 편의점에서 보충\n",
    "        fuel += -heapq.heappop(max_heap)\n",
    "        stops += 1\n",
    "        current_position += fuel\n",
    "    \n",
    "    return stops\n",
    "\n",
    "# 입력 예시 1\n",
    "N = int(input())\n",
    "\n",
    "convenience_stores = []\n",
    "for i in range(N):\n",
    "    convenience_stores.append(list(map(int, input().split())))\n",
    "\n",
    "L , P = map(int, input().split())\n",
    "print(min_stops_to_restaurant(convenience_stores, L, P))  # 출력: 4\n",
    "\n"
   ]
  }
 ],
 "metadata": {
  "kernelspec": {
   "display_name": "base",
   "language": "python",
   "name": "python3"
  },
  "language_info": {
   "codemirror_mode": {
    "name": "ipython",
    "version": 3
   },
   "file_extension": ".py",
   "mimetype": "text/x-python",
   "name": "python",
   "nbconvert_exporter": "python",
   "pygments_lexer": "ipython3",
   "version": "3.12.4"
  }
 },
 "nbformat": 4,
 "nbformat_minor": 2
}
