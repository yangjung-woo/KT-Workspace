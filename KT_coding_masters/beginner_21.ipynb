{
 "cells": [
  {
   "cell_type": "markdown",
   "metadata": {},
   "source": [
    "# 커트라인 정하기\n",
    "\n",
    "문제설명\n",
    "민겸이는 학생들을 가르치는 교사입니다. 민겸이는 N명의 학생들을 일렬로 세워 쪽지 시험을 보게 했습니다. 쪽지 시험에서 P점 이상을 받은 학생들은 시험에 합격합니다. 또한 P점 미만의 학생들 중에서도 좌우로 인접한 P점 이상의 점수를 받은 학생이 한 명 이상이면 그 학생도 합격시키려고 합니다. 민겸이가 합격시키고자 하는 학생의 수의 최댓값은 K입니다. K명 이하의 학생이 합격하도록 하면서 가능한 한 많은 학생들이 시험에 합격할 수 있는 P의 최댓값을 구하세요. 이때, 시험에 합격하는 학생이 없을 수도 있습니다.\n",
    "\n",
    "입출력 예\n",
    "입력 #1\n",
    "\n",
    "5 3\n",
    "50 30 40 50 70\n",
    "\n",
    "입력 #2\n",
    "\n",
    "5 4\n",
    "80 60 100 75 70\n",
    "\n",
    "입력값 설명\n",
    "\n",
    "입력의 첫 번째 줄에는 학생의 수 N, 합격시킬 학생의 수 K가 공백으로 구분되어 주어집니다. (1 ≤ K ≤ N ≤ 10)\n",
    "입력의 두 번째 줄에는 1번째, 2번째, …, N번째 학생의 점수가 1 이상 100 이하의 정수로 공백으로 구분되어 주어집니다.\n",
    "\n",
    "출력 #1\n",
    "\n",
    "70\n",
    "\n",
    "출력 #2\n",
    "\n",
    "80\n",
    "\n",
    "출력값 설명\n",
    "\n",
    "최대 K명의 학생을 합격시키는 합격 점수 커트라인의 최댓값을 출력하세요. 조건을 만족시키는 커트라인을 정할 수 없는 경우에는 학생들의 최저 점수에서 1을 뺀 수를 출력하세요. "
   ]
  },
  {
   "cell_type": "markdown",
   "metadata": {},
   "source": [
    "# 문제 접근 \n",
    "\n",
    "리스트 내 점수들 중에서 하나 선택 , \n",
    "해당 점수를 커트라인으로 지정시 합격자 수를 결과 리스트에 저장 \n",
    "\n",
    " 리스트 내 값은 0으로 초기화 \n",
    " n 을 리스트 내 모든 값들과 비교 ,  비교값이 i >=n 이면 +1 \n",
    "\n",
    " 인접값 중에 커트라인 점수 이상이 있으면 합격 \n",
    "  i) 처음과   result +=1\n",
    "  2) 중간\n",
    "  3) 마지막\n",
    "\n",
    "\n",
    "result <= K 를 만족하는 값 반환 \n",
    "\n",
    "만약 조건을 만족하지 못하면 최소값 -1 점 출력 "
   ]
  },
  {
   "cell_type": "code",
   "execution_count": 4,
   "metadata": {},
   "outputs": [
    {
     "name": "stdout",
     "output_type": "stream",
     "text": [
      "[5, 5, 5, 5, 2]\n",
      "29\n"
     ]
    }
   ],
   "source": [
    "n , k  = map(int,input().split())\n",
    "\n",
    "nums = list(map(int,input().split()))\n",
    "\n",
    "result = [0]*n \n",
    "for i in range(n): # nums[i] 를 커트라인으로 지정시 \n",
    "    for j in range(n):\n",
    "        if nums[i] <= nums[j]:\n",
    "            result[i] += 1\n",
    "\n",
    "# print(result)\n",
    "\n",
    "# 합격점수를 넘기진 못했으나 인접한 점수들을 합격처리 \n",
    "for i in range(n): # nums[i] 를 커트라인으로 지정시 \n",
    "    for j in range(n):\n",
    "        \n",
    "        \n",
    "        if nums[i] >  nums[j]:\n",
    "            if j ==0:\n",
    "                if (nums[j+1]>=nums[i]):\n",
    "                    result[i] += 1\n",
    "                \n",
    "            elif j < n-1:\n",
    "                if (nums[j-1] >= nums[i] or nums[j+1]>=nums[i]):\n",
    "                    result[i] += 1\n",
    "            \n",
    "            else:\n",
    "                if (nums[j-1] >= nums[i]):\n",
    "                    result[i] += 1\n",
    "                \n",
    "print(result)\n",
    "\n",
    "max_value = -99\n",
    "max_index = -1\n",
    "for i in range(n):\n",
    "    if result[i] <= k and result[i] >max_value:\n",
    "        max_value = result[i]\n",
    "        max_index = i \n",
    "\n",
    "if max_value != -99 and max_index > -1:\n",
    "    print(nums[max_index])\n",
    "else:\n",
    "    print(min(nums)-1)\n",
    "        "
   ]
  }
 ],
 "metadata": {
  "kernelspec": {
   "display_name": "base",
   "language": "python",
   "name": "python3"
  },
  "language_info": {
   "codemirror_mode": {
    "name": "ipython",
    "version": 3
   },
   "file_extension": ".py",
   "mimetype": "text/x-python",
   "name": "python",
   "nbconvert_exporter": "python",
   "pygments_lexer": "ipython3",
   "version": "3.12.4"
  }
 },
 "nbformat": 4,
 "nbformat_minor": 2
}
