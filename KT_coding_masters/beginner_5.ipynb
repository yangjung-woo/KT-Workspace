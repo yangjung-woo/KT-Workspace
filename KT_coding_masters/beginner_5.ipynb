{
 "cells": [
  {
   "cell_type": "markdown",
   "metadata": {},
   "source": [
    "# 사전 만들기\n",
    "\n",
    "문제설명\n",
    "세아는 영어를 너무 좋아한 나머지 자기만의 영어사전을 만들려고 합니다. 머릿속에 떠오른 영어단어를 다음과 같은 기준에 따라 정리하려고 합니다. 우선, 길이가 짧은 단어부터 순서대로 나열합니다. 만약 단어의 길이가 같다면 사전순대로 정리합니다. 세아가 사전을 만드는 프로그램을 작성하세요.\n",
    "\n",
    "입출력 예\n",
    "입력 #1\n",
    "\n",
    "3\n",
    "apple\n",
    "banana\n",
    "coconut\n",
    "\n",
    "입력 #2\n",
    "\n",
    "6\n",
    "monk\n",
    "apply\n",
    "angel\n",
    "elephant\n",
    "apply\n",
    "encyclopedia\n",
    "\n",
    "입력값 설명\n",
    "\n",
    "첫째 줄에 영단어의 개수 N이 주어집니다. (1 ≤ N ≤ 1,000) 둘째 줄부터 N개의 줄에 걸쳐 알파벳 소문자로 이루어진 단어가 한 줄에 하나씩 주어집니다. 주어지는 문자열의 길이는 50을 넘지 않습니다.\n",
    "\n",
    "출력 #1\n",
    "\n",
    "apple\n",
    "banana\n",
    "coconut\n",
    "\n",
    "출력 #2\n",
    "\n",
    "monk\n",
    "angel\n",
    "apply\n",
    "elephant\n",
    "encyclopedia\n",
    "\n",
    "출력값 설명\n",
    "\n",
    "기준에 따라 정렬하여 단어들을 출력합니다. 단, 같은 단어가 여러 번 입력된 경우에는 한 번씩만 출력합니다."
   ]
  },
  {
   "cell_type": "code",
   "execution_count": 6,
   "metadata": {},
   "outputs": [
    {
     "ename": "TypeError",
     "evalue": "unsupported operand type(s) for -: 'list' and 'set'",
     "output_type": "error",
     "traceback": [
      "\u001b[1;31m---------------------------------------------------------------------------\u001b[0m",
      "\u001b[1;31mTypeError\u001b[0m                                 Traceback (most recent call last)",
      "Cell \u001b[1;32mIn[6], line 13\u001b[0m\n\u001b[0;32m      9\u001b[0m result \u001b[38;5;241m=\u001b[39m \u001b[38;5;28msorted\u001b[39m(l ,  key\u001b[38;5;241m=\u001b[39m \u001b[38;5;28;01mlambda\u001b[39;00m x:(x[\u001b[38;5;241m1\u001b[39m],x[\u001b[38;5;241m0\u001b[39m]))\n\u001b[0;32m     11\u001b[0m \u001b[38;5;66;03m# 동일한 단어가 들어갔을 경우 문제 발생 >> set 형으로 변환(중복제거)\u001b[39;00m\n\u001b[1;32m---> 13\u001b[0m result \u001b[38;5;241m-\u001b[39m \u001b[38;5;28mset\u001b[39m(result)\n\u001b[0;32m     16\u001b[0m \u001b[38;5;28;01mfor\u001b[39;00m w,length \u001b[38;5;129;01min\u001b[39;00m  result:\n\u001b[0;32m     17\u001b[0m     \u001b[38;5;28mprint\u001b[39m(w)\n",
      "\u001b[1;31mTypeError\u001b[0m: unsupported operand type(s) for -: 'list' and 'set'"
     ]
    }
   ],
   "source": [
    "n = int(input())\n",
    "l = []\n",
    "for i in range(n):\n",
    "    word = input()\n",
    "    if (word,len(word)) not in l: # 동일한 단어가 들어갔을 경우 문제 발생 , 중복되는 단어는 넣지 않음\n",
    "        l.append((word,len(word)))\n",
    "    else:\n",
    "        pass\n",
    "    \n",
    "# 입력한 튜플들을 1. 문자열 길이 :x[1], 2. 문자열 x[0] 순으로 정렬\n",
    "result = sorted(l ,  key= lambda x:(x[1],x[0]))\n",
    "\n",
    "for w,length in  result:\n",
    "    print(w)"
   ]
  }
 ],
 "metadata": {
  "kernelspec": {
   "display_name": "base",
   "language": "python",
   "name": "python3"
  },
  "language_info": {
   "codemirror_mode": {
    "name": "ipython",
    "version": 3
   },
   "file_extension": ".py",
   "mimetype": "text/x-python",
   "name": "python",
   "nbconvert_exporter": "python",
   "pygments_lexer": "ipython3",
   "version": "3.12.4"
  }
 },
 "nbformat": 4,
 "nbformat_minor": 2
}
