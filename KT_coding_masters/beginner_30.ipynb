{
 "cells": [
  {
   "cell_type": "markdown",
   "metadata": {},
   "source": [
    "# 직각 삼각형\n",
    "문제설명\n",
    "삼각형의 세 변의 길이가 주어집니다. 이 삼각형이 직각삼각형인지 판별하는 프로그램을 작성해 주세요.\n",
    "\n",
    "입출력 예\n",
    "입력 #1\n",
    "\n",
    "3 4 5\n",
    "\n",
    "입력 #2\n",
    "\n",
    "5 6 7\n",
    "\n",
    "입력값 설명\n",
    "\n",
    "첫째 줄에 삼각형의 세 변의 길이 A, B, C가 공백으로 구분되어 주어집니다. (1 ≤ A, B, C ≤ 1,000)\n",
    "\n",
    "출력 #1\n",
    "\n",
    "YES\n",
    "\n",
    "출력 #2\n",
    "\n",
    "NO\n",
    "\n",
    "출력값 설명\n",
    "\n",
    "해당 삼각형이 직각삼각형이면 YES, 그렇지 않으면 NO를 출력합니다."
   ]
  },
  {
   "cell_type": "code",
   "execution_count": null,
   "metadata": {},
   "outputs": [],
   "source": [
    "# 피타고라스 정리 \n",
    "\n",
    "nums = list(map(int,input().split()))\n",
    "\n",
    "nums.sort() #오름차순 정렬 \n",
    "\n",
    "if nums[0]**2 + nums[1]**2 == nums[2]**2:\n",
    "    print('YES')\n",
    "else:\n",
    "    print('NO')\n",
    "\n"
   ]
  }
 ],
 "metadata": {
  "language_info": {
   "name": "python"
  }
 },
 "nbformat": 4,
 "nbformat_minor": 2
}
