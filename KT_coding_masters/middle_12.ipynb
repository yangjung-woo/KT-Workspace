{
 "cells": [
  {
   "cell_type": "markdown",
   "metadata": {},
   "source": [
    "# 사탕 꺼내기\n",
    "문제설명\n",
    "원형으로 길게 생긴 사탕 케이스 안에는 1번부터 순차적으로 번호가 적힌 사탕들이 들어가 있습니다. 케이스의 폭은 사탕 하나의 크기와 같아서 안에 있는 사탕을 꺼내려면 원형으로 길게 생긴 사탕 케이스를 왼쪽 혹은 오른쪽으로 회전시키면서 사탕을 꺼내야 합니다. 또한 사탕을 꺼낼 때에는 케이스에서 오직 첫 번째 위치의 사탕만을 꺼낼 수 있습니다.\n",
    "\n",
    "예를 들어 케이스 안에 각각 1 2 3 4 5번의 사탕이 있는 경우, 이 때 3번 사탕을 꺼낼 수 있는 방법은 다음과 같은 경우들을 예시로 들 수 있을 것입니다.\n",
    "\n",
    "1. 사탕들을 우회전 시켜서 5번 사탕을 왼쪽 끝으로 가도록 보내고, 한 번 더 우회전 시켜서 이번에는 4번 사탕이 왼쪽 끝으로 가도록 보내고, 마지막으로 한 번 더 우회전 시켜서 비로소 3번 사탕이 왼쪽 끝에 도달할 수 있도록 하여 꺼냅니다.\n",
    "2. 위 예시와는 반대로 두 번의 좌회선 이후에 3번 사탕을 꺼냅니다.\n",
    "\n",
    "위 두 가지 예시는 모두 3번 사탕을 꺼내도록 해주지만, 첫 번째 예시는 3번의 회전이 필요하며 두 번째 예시는 2번의 회전이 필요하다는 차이가 있습니다.\n",
    "\n",
    "입구에서 사탕을 꺼낼 수 있는 사탕 케이스가 있고, 1번부터 N번까지 차례대로 들어가 있는 형태의 사탕의 개수 N과, 꺼내고자 하는 사탕의 개수와 번호가 주어졌을 때 좌회전 혹은 우회전을 사용하여 사탕의 위치를 최소 몇 번 회전시켜야 원하는 사탕들을 꺼낼 수 있는지 알아내세요. 첫 번째 위치의 사탕을 꺼내는 과정 자체는 개수에 포함하지 않으며, 사탕을 꺼낸 후에 남은 사탕은 왼쪽으로 굴러옵니다.\n",
    "\n",
    "예를 들어 사탕의 개수가 5개고, 꺼내고자 하는 사탕이 차례대로 1번, 3번, 4번이라면 초기 상태인 (1, 2, 3, 4, 5)의 사탕 케이스에서 (사탕 뽑기) - (좌회전) - (사탕 뽑기) - (사탕 뽑기)로 원하는 사탕을 모두 뽑아낼 수 있으므로 한 번의 회전만이 필요한 것입니다.\n",
    "\n",
    "입출력 예\n",
    "입력 #1\n",
    "\n",
    "5 3\n",
    "1 3 4\n",
    "\n",
    "입력 #2\n",
    "\n",
    "5 5\n",
    "1 3 2 5 4\n",
    "\n",
    "입력값 설명\n",
    "\n",
    "첫째 줄에 케이스 안에 있는 사탕의 개수 N과 꺼내려고 하는 사탕의 개수 M이 공백을 두고 주어집니다. \n",
    "N은 50보다 작거나 같은 자연수이고, M은 N보다 작거나 같은 자연수입니다. \n",
    "둘째 줄에는 꺼내려고 하는 사탕의 번호가 공백을 두고 순서대로 주어집니다. 번호는 1보다 크거나 같고, N보다 작거나 같은 자연수입니다.\n",
    "\n",
    "출력 #1\n",
    "\n",
    "1\n",
    "\n",
    "출력 #2\n",
    "\n",
    "3\n",
    "\n",
    "출력값 설명\n",
    "\n",
    "사탕의 위치를 움직여야 하는 횟수의 최솟값을 출력합니다."
   ]
  },
  {
   "cell_type": "markdown",
   "metadata": {},
   "source": [
    "# 문제접근 : 이 문제는 원형 deque 자료구조를 활용\n",
    "\n",
    "\n",
    "[1,2,3,4,5]\n",
    "deque.rotate(3)\n",
    "\n",
    "[5,4,3,1,2]\n",
    "\n",
    "1. deque에 사탕들을 저장 \n",
    "2. for candy in candies:\n",
    "    # 원하는 사탕의 위치를 찾음 \n",
    "\n",
    "    좌회전 수와 우회전 수를 비교해서  적게 회전해도 되는 횟수를 반환 \n",
    "\n",
    "    데큐에서 회전 및 사탕 추출 반영 \n",
    "    \n",
    "    "
   ]
  },
  {
   "cell_type": "code",
   "execution_count": 2,
   "metadata": {},
   "outputs": [
    {
     "name": "stdout",
     "output_type": "stream",
     "text": [
      "3\n"
     ]
    }
   ],
   "source": [
    "from collections import deque\n",
    "\n",
    "n,m = map(int,input().split())\n",
    "candy_list = deque(range(1,n+1))\n",
    "pop_candies = list(map(int,input().split()))\n",
    "total_lotation = 0\n",
    "\n",
    "for P_candy in pop_candies:\n",
    "    idx = candy_list.index(P_candy)\n",
    "    \n",
    "    left_rotate = idx # idx 번호 만큼 좌회전 하면 추출할 수 있음 \n",
    "    right_rotate = len(candy_list) - idx  # 전체 사탕길이 -  idx \n",
    "    # 더 적은횟수로 회전한 결과를 더함\n",
    "    total_lotation += min(left_rotate,right_rotate)\n",
    "    # 사탕 추출 반영\n",
    "    candy_list.rotate(-idx)\n",
    "    candy_list.popleft()\n",
    "    \n",
    "print(total_lotation)\n",
    "    \n"
   ]
  },
  {
   "cell_type": "code",
   "execution_count": null,
   "metadata": {},
   "outputs": [],
   "source": [
    "from collections import deque\n",
    "\n",
    "def min_rotation_count(n, m, candies):\n",
    "    case = deque(range(1, n+1))  # 1부터 N까지의 사탕을 deque로 저장\n",
    "    total_rotations = 0  # 총 회전 횟수\n",
    "\n",
    "    for candy in candies:\n",
    "        # candy의 위치를 찾는다.\n",
    "        idx = case.index(candy)\n",
    "        \n",
    "        # 왼쪽으로 돌릴 때와 오른쪽으로 돌릴 때의 회전 수 비교\n",
    "        left_rotations = idx\n",
    "        right_rotations = len(case) - idx\n",
    "\n",
    "        # 더 적은 횟수로 회전 가능한 방향으로 회전\n",
    "        total_rotations += min(left_rotations, right_rotations)\n",
    "        \n",
    "        # 실제 deque를 해당 방향으로 회전\n",
    "        case.rotate(-left_rotations)  # 왼쪽으로 회전\n",
    "        case.popleft()  # 사탕을 꺼냄\n",
    "\n",
    "    return total_rotations\n",
    "\n",
    "# 입력\n",
    "n, m = map(int, input().split())\n",
    "candies = list(map(int, input().split()))\n",
    "\n",
    "# 결과 출력\n",
    "print(min_rotation_count(n, m, candies))"
   ]
  }
 ],
 "metadata": {
  "kernelspec": {
   "display_name": "base",
   "language": "python",
   "name": "python3"
  },
  "language_info": {
   "codemirror_mode": {
    "name": "ipython",
    "version": 3
   },
   "file_extension": ".py",
   "mimetype": "text/x-python",
   "name": "python",
   "nbconvert_exporter": "python",
   "pygments_lexer": "ipython3",
   "version": "3.12.4"
  }
 },
 "nbformat": 4,
 "nbformat_minor": 2
}
