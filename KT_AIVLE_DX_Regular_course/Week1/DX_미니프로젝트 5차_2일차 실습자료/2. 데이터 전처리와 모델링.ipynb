{
 "cells": [
  {
   "cell_type": "markdown",
   "metadata": {
    "id": "H6LUHxPKGLQS"
   },
   "source": [
    "### ■ 유통 판매량 예측 및 재고 최적화\n",
    "# 단계 2: 데이터 전처리와 모델링"
   ]
  },
  {
   "cell_type": "markdown",
   "metadata": {
    "id": "8SrCEOo4GLQU"
   },
   "source": [
    "<img src = \"https://github.com/Jangrae/img/blob/master/store.png?raw=true\" width=800, align=\"left\"/>"
   ]
  },
  {
   "cell_type": "markdown",
   "metadata": {
    "id": "mJlY5pHkC2AM",
    "tags": []
   },
   "source": [
    "# 수행 과제\n",
    "\n",
    "다음과 같은 과정으로 프로젝트를 진행합니다.\n",
    "\n",
    "#### 1. 환경 설정\n",
    "- 이후 진행에 필요한 환경 설정을 수행합니다.\n",
    "\n",
    "#### 2. 데이터 셋 구성하기 #1\n",
    "- 44번 매장의 대표 상품(3, 7, 12) 데이터만을 대상으로 합니다.\n",
    "- 상품별로 데이터셋을 구성해야 함수를 만들어 사용합니다.\n",
    "\n",
    "#### 3. 1차 모델링\n",
    "- Linear Regression 알고리즘을 사용해 모델링합니다.\n",
    "- 모델의 검증 성능을 평가하고 기록합니다.\n",
    "\n",
    "#### 4. 데이터 셋 구성하기 #2\n",
    "- 모델의 성능을 높이기 위해 의미있는 변수를 추가합니다.\n",
    "- 상품별로 데이터셋을 구성하는 함수를 만들어 사용합니다.\n",
    "\n",
    "#### 5. 2차 모델링\n",
    "- Linear Regression 알고리즘으로 다시 모델링합니다.\n",
    "- 모델 성능을 높이기 위해 적절한 변수를 추가합니다.\n",
    "- 데이터 셋에 변화를 주면서 변화되는 성능을 기록하고 비교합니다.\n",
    "\n",
    "#### 6. 3차 모델링\n",
    "- Random Forest, LightGBM 알고리즘으로 모델링하고 성능을 기록합니다.\n",
    "- 하이퍼파라미터 튜닝은 하지 않습니다(모든 파라미터 기본값 사용).\n",
    "- 우선 Linear Regression 모델보다 성능이 좋은지 비교하는 데 의미를 둡니다.\n",
    "\n",
    "#### 7. 데이터 저장\n",
    "- 이후 실습을 위해 최종 구성된 데이터프레임을 파일로 저장합니다."
   ]
  },
  {
   "cell_type": "markdown",
   "metadata": {
    "id": "NCptKiLOAn7l"
   },
   "source": [
    "# 1. 환경 설정\n",
    "\n",
    "- 이후 진행에 필요한 환경 설정을 수행합니다."
   ]
  },
  {
   "cell_type": "markdown",
   "metadata": {
    "id": "6qsy44YpolGu"
   },
   "source": [
    "## (1) 경로 설정\n",
    "\n",
    "- 프로젝트 수행 환경에 맞게 파일 경로를 설정합니다."
   ]
  },
  {
   "cell_type": "markdown",
   "metadata": {
    "id": "gklxNfgNpkls"
   },
   "source": [
    "### 1) 로컬 수행(Anaconda)\n",
    "- project 폴더에 필요한 파일들을 넣고, 본 파일을 열었다면, 별도 경로 지정이 필요하지 않습니다."
   ]
  },
  {
   "cell_type": "code",
   "execution_count": null,
   "metadata": {
    "id": "PNI6X2yxpkls",
    "tags": []
   },
   "outputs": [],
   "source": [
    "# 기본 경로\n",
    "path = ''"
   ]
  },
  {
   "cell_type": "markdown",
   "metadata": {
    "id": "rbGjNIkJTGkR"
   },
   "source": [
    "### 2) 구글 콜랩 수행\n",
    "\n",
    "- 구글 콜랩을 사용중이면 구글 드라이브를 연결합니다."
   ]
  },
  {
   "cell_type": "code",
   "execution_count": null,
   "metadata": {
    "id": "9cCiylt1TGkj",
    "tags": []
   },
   "outputs": [],
   "source": [
    "# 구글 드라이브 연결, 패스 지정\n",
    "import sys\n",
    "if 'google.colab' in sys.modules:\n",
    "    from google.colab import drive\n",
    "    drive.mount('/content/drive')\n",
    "    path = '/content/drive/MyDrive/project/'"
   ]
  },
  {
   "cell_type": "markdown",
   "metadata": {
    "id": "szLW_muKtxqT"
   },
   "source": [
    "## (2) 라이브러리 불러오기\n",
    "\n",
    "- 이후 사용할 라이브러리를 모두 불러옵니다."
   ]
  },
  {
   "cell_type": "code",
   "execution_count": null,
   "metadata": {
    "id": "Aj4I06BetxqU",
    "tags": []
   },
   "outputs": [],
   "source": [
    "# 라이브러리 불러오기\n",
    "import pandas as pd\n",
    "import numpy as np\n",
    "import matplotlib.pyplot as plt\n",
    "import seaborn as sns\n",
    "\n",
    "import joblib\n",
    "\n",
    "from sklearn.metrics import *\n",
    "from sklearn.model_selection import train_test_split\n",
    "from sklearn.linear_model import LinearRegression\n",
    "from sklearn.ensemble import RandomForestRegressor\n",
    "from lightgbm import LGBMRegressor\n",
    "\n",
    "import warnings\n",
    "warnings.filterwarnings('ignore')\n",
    "%config InlineBackend.figure_format = 'retina'"
   ]
  },
  {
   "cell_type": "markdown",
   "metadata": {},
   "source": [
    "- 시각화에 사용할 폰트 크기를 설정합니다."
   ]
  },
  {
   "cell_type": "code",
   "execution_count": null,
   "metadata": {},
   "outputs": [],
   "source": [
    "# 시각화 폰트 사이즈 설정\n",
    "plt.rc('font', size=7)\n",
    "plt.rc('xtick', labelsize=7)\n",
    "plt.rc('ytick', labelsize=7)\n",
    "plt.rc('axes', titlesize=8)\n",
    "plt.rc('axes', labelsize=8)\n",
    "plt.rc('legend', fontsize=8)\n",
    "plt.rc('axes', linewidth=0.3)  # 축 테두리 굵기 설정"
   ]
  },
  {
   "cell_type": "markdown",
   "metadata": {
    "id": "xlxki4ruGLQc"
   },
   "source": [
    "- 모델이 예측한 결과를 시각화할 때 다음 함수를 활용합니다."
   ]
  },
  {
   "cell_type": "code",
   "execution_count": null,
   "metadata": {
    "id": "OFHS8AfNGLQd",
    "tags": []
   },
   "outputs": [],
   "source": [
    "# 함수 만들기\n",
    "def plot_model_result(y_train, y_val, y_pred, title=None):\n",
    "    y_train = pd.Series(y_train)\n",
    "    y_val = pd.Series(y_val)\n",
    "    y_val.index = range(len(y_train), len(y_train) + len(y_val))\n",
    "    y_pred = pd.Series(y_pred.reshape(-1,), index=y_val.index)\n",
    "\n",
    "    # 시각화\n",
    "    plt.figure(figsize=(12, 5))\n",
    "    plt.subplot(2, 1, 1)\n",
    "    plt.plot(y_train, label='y_train', color='tab:blue', linewidth=0.8)\n",
    "    plt.plot(y_val, label='y_val', color='tab:green', linewidth=0.8)\n",
    "    plt.plot(y_pred, label='y_pred', color='tab:orange', linewidth=0.8)\n",
    "    plt.title(f'{title}', size=15, pad=20)\n",
    "    plt.legend()\n",
    "\n",
    "    plt.subplot(2, 1, 2)\n",
    "    plt.plot(y_val, label = 'y_val', color='tab:green',  marker='o', markersize=2, linewidth=0.8)\n",
    "    plt.plot(y_pred, label = 'y_pred', color='tab:orange',  marker='o', markersize=2, linewidth=0.8)\n",
    "    plt.legend()\n",
    "    plt.tight_layout()\n",
    "    plt.show()"
   ]
  },
  {
   "cell_type": "markdown",
   "metadata": {
    "id": "dPfPWkG1txqV"
   },
   "source": [
    "## (3) 데이터 불러오기\n",
    "\n",
    "- 이후 분석 대상이 되는 파일을 불러오고 기본 정보를 확인합니다."
   ]
  },
  {
   "cell_type": "markdown",
   "metadata": {
    "id": "fmgUEGOipvG5"
   },
   "source": [
    "### 1) 데이터 불러오기\n",
    "\n",
    "- 분석 대상 데이터를 불러옵니다.\n",
    "- 데이터프레임 이름은 다음과 같이 통일합니다.\n",
    "    - sales: 판매 정보\n",
    "    - orders: 고객 방문수\n",
    "    - oil_price: 휘발유 가격\n",
    "    - stores: 매장 정보\n",
    "    - products: 상품 정보\n",
    "- 날짜 데이터를 갖는 date 변수는 편의를 위해 datetime 형으로 변경합니다."
   ]
  },
  {
   "cell_type": "code",
   "execution_count": null,
   "metadata": {
    "id": "ZpMoNMpcQoQ5",
    "tags": []
   },
   "outputs": [],
   "source": [
    "# 데이터 불러오기\n",
    "sales = pd.read_csv(path + 'sales_train.csv')\n",
    "orders = pd.read_csv(path + 'orders_train.csv')\n",
    "oil_price = pd.read_csv(path + 'oil_price_train.csv')\n",
    "stores = pd.read_csv(path + 'stores.csv')\n",
    "products = pd.read_csv(path + 'products.csv')"
   ]
  },
  {
   "cell_type": "code",
   "execution_count": null,
   "metadata": {
    "id": "tljzr_jXjc9G"
   },
   "outputs": [],
   "source": [
    "# datetime 형으로 변환\n",
    "sales['date'] = pd.to_datetime(sales['date'] )\n",
    "oil_price['date'] = pd.to_datetime(oil_price['date'] )\n",
    "orders['date'] = pd.to_datetime(orders['date'] )"
   ]
  },
  {
   "cell_type": "markdown",
   "metadata": {
    "id": "aI7qJqz3pr3m"
   },
   "source": [
    "### 2) 기본 정보 확인\n",
    "\n",
    "- 각 데이터의 기본 정보를 확인합니다."
   ]
  },
  {
   "cell_type": "code",
   "execution_count": null,
   "metadata": {
    "colab": {
     "base_uri": "https://localhost:8080/",
     "height": 206
    },
    "executionInfo": {
     "elapsed": 16,
     "status": "ok",
     "timestamp": 1714102771790,
     "user": {
      "displayName": "Jangrae Lee",
      "userId": "08475661575434032088"
     },
     "user_tz": -540
    },
    "id": "Xb92_ssRvttf",
    "outputId": "e1c93c5a-38ff-4f55-ccd3-828d5269910d",
    "tags": []
   },
   "outputs": [],
   "source": [
    "\n"
   ]
  },
  {
   "cell_type": "code",
   "execution_count": null,
   "metadata": {
    "colab": {
     "base_uri": "https://localhost:8080/",
     "height": 206
    },
    "executionInfo": {
     "elapsed": 15,
     "status": "ok",
     "timestamp": 1714102771790,
     "user": {
      "displayName": "Jangrae Lee",
      "userId": "08475661575434032088"
     },
     "user_tz": -540
    },
    "id": "d7g4VEKzGLQZ",
    "outputId": "3099f2c1-086e-42e7-ad08-c64d107ebba7",
    "tags": []
   },
   "outputs": [],
   "source": [
    "\n"
   ]
  },
  {
   "cell_type": "code",
   "execution_count": null,
   "metadata": {
    "colab": {
     "base_uri": "https://localhost:8080/",
     "height": 206
    },
    "executionInfo": {
     "elapsed": 14,
     "status": "ok",
     "timestamp": 1714102771790,
     "user": {
      "displayName": "Jangrae Lee",
      "userId": "08475661575434032088"
     },
     "user_tz": -540
    },
    "id": "LZbK10YoGLQZ",
    "outputId": "15b30517-d851-40c5-c8a9-efde29c29a8f",
    "tags": []
   },
   "outputs": [],
   "source": [
    "\n"
   ]
  },
  {
   "cell_type": "code",
   "execution_count": null,
   "metadata": {
    "colab": {
     "base_uri": "https://localhost:8080/",
     "height": 206
    },
    "executionInfo": {
     "elapsed": 13,
     "status": "ok",
     "timestamp": 1714102771790,
     "user": {
      "displayName": "Jangrae Lee",
      "userId": "08475661575434032088"
     },
     "user_tz": -540
    },
    "id": "-BEFqYqKvlR1",
    "outputId": "6aedcec5-3122-469d-b224-9fafb81f9ad2",
    "tags": []
   },
   "outputs": [],
   "source": [
    "\n"
   ]
  },
  {
   "cell_type": "code",
   "execution_count": null,
   "metadata": {
    "colab": {
     "base_uri": "https://localhost:8080/",
     "height": 206
    },
    "executionInfo": {
     "elapsed": 12,
     "status": "ok",
     "timestamp": 1714102771790,
     "user": {
      "displayName": "Jangrae Lee",
      "userId": "08475661575434032088"
     },
     "user_tz": -540
    },
    "id": "XZud1wyOGLQa",
    "outputId": "0b83d262-a18d-4abe-e9ca-5e6bfd7de21f",
    "tags": []
   },
   "outputs": [],
   "source": [
    "\n"
   ]
  },
  {
   "cell_type": "markdown",
   "metadata": {
    "id": "wcSokv_rvG-R"
   },
   "source": [
    "# 2. 데이터 셋 구성하기 #1\n",
    "\n",
    "- 44번 매장의 데이터만을 대상으로 합니다.\n",
    "- 대표 상품(3, 7, 12) 데이터만을 대상으로 합니다.\n",
    "\n",
    "- 우선 다음과 같은 변수만을 갖는 기본 데이터 셋을 구성합니다.\n",
    "    - date: 날짜\n",
    "    - qty: 판매량\n",
    "    - count: 고객 방문수\n",
    "    - weekday: 요일(Monday ~ Sunday)\n",
    "    - month: 월(1 ~ 12)\n",
    "    - wti_price: 최근 14일 동안의 휘발유 가격 평균\n",
    "    - target: 예측해야 하는 판매량\n",
    "- 참고: 요일과 월은 다음 형태로 얻을 수 있습니다.\n",
    "\n",
    "~~~\n",
    "df['요일'] = df['날짜'].dt.day_name()\n",
    "df['월'] = df['날짜'].dt.month\n",
    "~~~\n",
    "\n",
    "- 참고: 최근 14일 간의 가격 평균은 다음 형태로 얻을 수 있습니다.\n",
    "\n",
    "~~~\n",
    "df['가격'].rolling(14, min_periods=1).mean()\n",
    "~~~\n",
    "- target 즉, 예측해야 하는 판매량은 상품의 leadtime 이후의 판매량입니다.\n",
    "- 예를 들어 5월 2일, 상품 leadtIme이 2이면 5월 4일 판매량이 예측해야 하는 판매량입니다."
   ]
  },
  {
   "cell_type": "markdown",
   "metadata": {
    "id": "xtBo131143W8"
   },
   "source": [
    "## (1) 함수 만들기\n",
    "\n",
    "- 매장번호, 상품번호를 매개변수로 받아 위 처리 결과를 반환하는 함수를 만듭니다.\n",
    "    - 함수 이름: make_dataset\n",
    "    - 입력: 매장번호(store_id), 상품번호(product_id)\n",
    "- 사용예: data05 = make_dataset(44, 5)"
   ]
  },
  {
   "cell_type": "code",
   "execution_count": null,
   "metadata": {
    "id": "NUt14WiBQSLa",
    "tags": []
   },
   "outputs": [],
   "source": [
    "# 함수 만들기\n",
    "def make_dataset(store_id, product_id):\n",
    "    # 데이터 준비\n",
    "    leadtime = products.loc[products['product_id']==product_id, 'leadtime'].values[0]\n",
    "    temp1 = sales.loc[(sales['store_id']==store_id) & (sales['product_id']==product_id), ['date', 'qty']]\n",
    "    temp2 = orders.loc[orders['store_id']==store_id, ['date', 'count']]\n",
    "    temp3 = pd.merge(temp1, temp2, on='date', how='left')\n",
    "\n",
    "    # 날짜 요소 추출\n",
    "    temp3['weekday'] = temp3['date'].dt.day_name()\n",
    "    temp3['month'] = temp3['date'].dt.month\n",
    "\n",
    "    # Oil Price\n",
    "    temp3 = pd.merge(temp3, oil_price, on='date', how='left')\n",
    "    temp3['wti_price'] = temp3['wti_price'].rolling(14, min_periods=1).mean()\n",
    "\n",
    "    # Target 추가\n",
    "    temp3['target'] = temp3['qty'].shift(-leadtime)\n",
    "\n",
    "    # 결측치 처리\n",
    "    temp3.interpolate(method='linear', inplace=True)\n",
    "    temp3.bfill(inplace=True)\n",
    "\n",
    "    # 결과 반환\n",
    "    return temp3"
   ]
  },
  {
   "cell_type": "markdown",
   "metadata": {
    "id": "eTUyaUHSiHpl"
   },
   "source": [
    "## (2) 데이터 셋 구성\n",
    "\n",
    "- 위 함수를 사용해 상품별로 데이터셋을 각각 구성합니다.\n",
    "- 데이터프레임 이름은 data03, data07, data12로 합니다."
   ]
  },
  {
   "cell_type": "code",
   "execution_count": null,
   "metadata": {
    "colab": {
     "base_uri": "https://localhost:8080/",
     "height": 206
    },
    "executionInfo": {
     "elapsed": 3,
     "status": "ok",
     "timestamp": 1714102775424,
     "user": {
      "displayName": "Jangrae Lee",
      "userId": "08475661575434032088"
     },
     "user_tz": -540
    },
    "id": "yYb9pSwWQSI1",
    "outputId": "0c5cc358-c917-4bc8-d988-2675d24efe5d",
    "tags": []
   },
   "outputs": [],
   "source": [
    "# 상품별 데이터 셋\n",
    "data03 = make_dataset(44, 3)\n",
    "data07 = make_dataset(44, 7)\n",
    "data12 = make_dataset(44, 12)"
   ]
  },
  {
   "cell_type": "code",
   "execution_count": null,
   "metadata": {
    "colab": {
     "base_uri": "https://localhost:8080/",
     "height": 206
    },
    "executionInfo": {
     "elapsed": 3,
     "status": "ok",
     "timestamp": 1714102775424,
     "user": {
      "displayName": "Jangrae Lee",
      "userId": "08475661575434032088"
     },
     "user_tz": -540
    },
    "id": "yYb9pSwWQSI1",
    "outputId": "0c5cc358-c917-4bc8-d988-2675d24efe5d",
    "tags": []
   },
   "outputs": [],
   "source": [
    "# 확인\n",
    "display(data03.head())\n",
    "display(data07.head())\n",
    "display(data12.head())"
   ]
  },
  {
   "cell_type": "markdown",
   "metadata": {
    "id": "7g8b9fpRkiwq"
   },
   "source": [
    "# 3. 1차 모델링: 기준 모델\n",
    "\n",
    "- Linear Regression 알고리즘을 사용해 모델링한 후 성능을 검증합니다.\n",
    "- 검증용 데이터는 학습용 데이터에서 최근 120일간의 데이터를 사용합니다.\n",
    "- 모델링 과정에서 변수 이름은 x_train, x_val, y_train, y_val, y_pred을 사용합니다."
   ]
  },
  {
   "cell_type": "markdown",
   "metadata": {},
   "source": [
    "## (1) 함수 만들기\n",
    "\n",
    "- 데이터를 받아 전처리 후 x_train, x_val, y_train, y_val를 반환하는 함수를 만듭니다.\n",
    "    - 함수 이름: preproc\n",
    "    - 입력: 데이터(data)\n",
    "    - 처리: x와 y 분리, x 가변수화, 학습용/검증용 분리\n",
    "\n",
    "- 사용예: x_train, x_val, y_train, y_val = preproc(data05)"
   ]
  },
  {
   "cell_type": "code",
   "execution_count": null,
   "metadata": {
    "id": "fr4hk0P9ySPx",
    "tags": []
   },
   "outputs": [],
   "source": [
    "# 함수 만들기\n",
    "def preproc(data):\n",
    "    # x, y 분리\n",
    "\n",
    "\n",
    "    # 가변수화\n",
    "\n",
    "\n",
    "    # 학습용, 검증용 분리\n",
    "\n",
    "\n",
    "    # 결과 반환\n",
    "    return x_train, x_val, y_train, y_val"
   ]
  },
  {
   "cell_type": "markdown",
   "metadata": {
    "id": "Er_ofmYI4Uzt"
   },
   "source": [
    "## (2) 상품 3 모델링\n",
    "\n",
    "- 모델 이름은 model03_lin로 합니다."
   ]
  },
  {
   "cell_type": "code",
   "execution_count": null,
   "metadata": {
    "id": "apgvdA_JGLQi",
    "outputId": "a5e7fdc1-de18-4b6f-edf9-b21b0f165bb3",
    "tags": []
   },
   "outputs": [],
   "source": [
    "x_train, x_val, y_train, y_val = preproc(data03)\n",
    "\n"
   ]
  },
  {
   "cell_type": "markdown",
   "metadata": {
    "id": "Er_ofmYI4Uzt"
   },
   "source": [
    "## (3) 상품 7 모델링\n",
    "\n",
    "- 모델 이름은 model07_lin로 합니다."
   ]
  },
  {
   "cell_type": "code",
   "execution_count": null,
   "metadata": {
    "id": "apgvdA_JGLQi",
    "outputId": "a5e7fdc1-de18-4b6f-edf9-b21b0f165bb3",
    "tags": []
   },
   "outputs": [],
   "source": [
    "x_train, x_val, y_train, y_val = preproc(data07)\n",
    "\n"
   ]
  },
  {
   "cell_type": "markdown",
   "metadata": {
    "id": "GKfAn6QO4VEo"
   },
   "source": [
    "## (4) 상품 12 모델링\n",
    "\n",
    "- 모델 이름은 model12_lin로 합니다."
   ]
  },
  {
   "cell_type": "code",
   "execution_count": null,
   "metadata": {
    "id": "ql4jf276GLQj",
    "outputId": "30909cc2-c40d-46ab-ee8f-6d383f0b9c0c",
    "tags": []
   },
   "outputs": [],
   "source": [
    "x_train, x_val, y_train, y_val = preproc(data12)\n",
    "\n"
   ]
  },
  {
   "cell_type": "markdown",
   "metadata": {
    "id": "blcqn0OcGLQj"
   },
   "source": [
    "# 4. 데이터 셋 구성하기 #2\n",
    "\n",
    "- 모델의 성능을 높이기 위해 의미있는 변수를 추가합니다.\n",
    "- 예를 들면 다음과 같은 변수들을 갖는 데이터 셋을 구성할 수 있습니다.\n",
    "    - date: 날짜\n",
    "    - qty: 판매량\n",
    "    - count: 고객 방문수\n",
    "    - weekday: 요일\n",
    "    - month: 월\n",
    "    - wti_price: 유가\n",
    "    - category_qty: 동일 카테고리 판매량 합계\n",
    "    - city_custcount: 동일 지역 방문객 수\n",
    "    - qty_lag_1: 1일 전 판매량\n",
    "    - qty_lag_7_mean: 최근 7일간 판매량 평균\n",
    "    - 기타 등등...\n",
    "    - target: 예측해야 하는 판매량"
   ]
  },
  {
   "cell_type": "markdown",
   "metadata": {},
   "source": [
    "## (1) 함수 다시 만들기\n",
    "\n",
    "- 적절한 변수를 추가하도록 위 make_dataset 함수를 수정합니다.\r",
    "    - 함수 이름: make_dataset\r",
    "    - 입력: 매장번호(store_id), 상품번호(product_id)"
   ]
  },
  {
   "cell_type": "code",
   "execution_count": null,
   "metadata": {
    "id": "DXasd0nMGLQk",
    "tags": []
   },
   "outputs": [],
   "source": [
    "# 함수 만들기(수정 필요)\n",
    "def make_dataset(store_id, product_id):\n",
    "    # 데이터 준비\n",
    "    leadtime = products.loc[products['product_id']==product_id, 'leadtime'].values[0]\n",
    "    temp1 = sales.loc[(sales['store_id']==store_id) & (sales['product_id']==product_id), ['date', 'qty']]\n",
    "    temp2 = orders.loc[orders['store_id']==store_id, ['date', 'count']]\n",
    "    temp3 = pd.merge(temp1, temp2, on='date', how='left')\n",
    "\n",
    "    # 날짜 요소 추출\n",
    "    temp3['weekday'] = temp3['date'].dt.day_name()\n",
    "    temp3['month'] = temp3['date'].dt.month\n",
    "\n",
    "    # Oil Price\n",
    "    temp3 = pd.merge(temp3, oil_price, on='date', how='left')\n",
    "    temp3['wti_price'] = temp3['wti_price'].rolling(14, min_periods=1).mean()\n",
    "\n",
    "    # Target 추가\n",
    "    temp3['target'] = temp3['qty'].shift(-leadtime)\n",
    "\n",
    "    # 결측치 처리\n",
    "    temp3.interpolate(method='linear', inplace=True)\n",
    "    temp3.fillna(method='bfill', inplace=True)\n",
    "\n",
    "    # 결과 반환\n",
    "    return temp3"
   ]
  },
  {
   "cell_type": "markdown",
   "metadata": {
    "id": "eTUyaUHSiHpl"
   },
   "source": [
    "## (2) 데이터 셋 구성\n",
    "\n",
    "- 상품별 데이터 셋을 다시 구성합니다.\n",
    "- 데이터프레임 이름은 data03, data07, data12로 합니다."
   ]
  },
  {
   "cell_type": "code",
   "execution_count": null,
   "metadata": {
    "colab": {
     "base_uri": "https://localhost:8080/",
     "height": 206
    },
    "executionInfo": {
     "elapsed": 3,
     "status": "ok",
     "timestamp": 1714102775424,
     "user": {
      "displayName": "Jangrae Lee",
      "userId": "08475661575434032088"
     },
     "user_tz": -540
    },
    "id": "yYb9pSwWQSI1",
    "outputId": "0c5cc358-c917-4bc8-d988-2675d24efe5d",
    "tags": []
   },
   "outputs": [],
   "source": [
    "\n"
   ]
  },
  {
   "cell_type": "markdown",
   "metadata": {
    "id": "nO4KM89AGLQl"
   },
   "source": [
    "# 5. 2차 모델링: 모델 성능 변화 확인\n",
    "\n",
    "- Linear Regression 알고리즘으로 다시 모델링합니다.\n",
    "- 적절한 변수를 추가하도록 위 make_dataset 함수를 반복해 수정합니다.\n",
    "- 반복하는 과정에서 변화되는 성능을 기록하고 비교합니다."
   ]
  },
  {
   "cell_type": "markdown",
   "metadata": {
    "id": "wI52RRrFGLQl"
   },
   "source": [
    "## (1) 상품 3 모델링\n",
    "\n",
    "- 모델 이름은 model03_lin로 합니다."
   ]
  },
  {
   "cell_type": "code",
   "execution_count": null,
   "metadata": {
    "id": "Tr_aqJ1xGLQm",
    "outputId": "bb7ee524-14c6-4bf0-c500-1b385fa8bc1a",
    "tags": []
   },
   "outputs": [],
   "source": [
    "\n"
   ]
  },
  {
   "cell_type": "markdown",
   "metadata": {
    "id": "s8PK4P5jGLQm"
   },
   "source": [
    "## (2) 상품 7 모델링\n",
    "\n",
    "- 모델 이름은 model07_lin로 합니다."
   ]
  },
  {
   "cell_type": "code",
   "execution_count": null,
   "metadata": {
    "id": "U36NJbJLGLQm",
    "outputId": "b50ffd1c-c42d-40a7-efaa-77dd839db391",
    "tags": []
   },
   "outputs": [],
   "source": [
    "\n"
   ]
  },
  {
   "cell_type": "markdown",
   "metadata": {
    "id": "IMiIhKVpGLQn",
    "tags": []
   },
   "source": [
    "## (3) 상품 12 모델링\n",
    "\n",
    "- 모델 이름은 model12_lin로 합니다."
   ]
  },
  {
   "cell_type": "code",
   "execution_count": null,
   "metadata": {
    "id": "vcolY5FxGLQn",
    "outputId": "00fd1ea6-5712-4bf4-fd6d-a9982c97a1c5",
    "tags": []
   },
   "outputs": [],
   "source": [
    "\n"
   ]
  },
  {
   "cell_type": "markdown",
   "metadata": {
    "id": "ZN_faOzz_YNo"
   },
   "source": [
    "# 6. 3차 모델링: 초기 모델 생성\n",
    "\n",
    "- Random Forest, LightGBM 알고리즘으로 모델링하고 성능을 기록합니다.\n",
    "- 하이퍼파라미터 튜닝은 하지 않습니다(모든 파라미터 기본값 사용).\n",
    "- 우선 Linear Regression 모델보다 성능이 좋은지 비교하는 데 의미를 둡니다."
   ]
  },
  {
   "cell_type": "markdown",
   "metadata": {
    "id": "-2unIvUwpH0K"
   },
   "source": [
    "## (1) Random Forest 모델"
   ]
  },
  {
   "cell_type": "markdown",
   "metadata": {
    "id": "V3rdaRw7OLvV"
   },
   "source": [
    "### 1) 상품 3 모델링\n",
    "\n",
    "- 모델 이름은 model03_rdf로 합니다."
   ]
  },
  {
   "cell_type": "code",
   "execution_count": null,
   "metadata": {
    "id": "bV0MAkbbGLQp",
    "outputId": "ab89b53a-7bb1-4309-8c51-5f0986b937ff",
    "tags": []
   },
   "outputs": [],
   "source": [
    "\n"
   ]
  },
  {
   "cell_type": "markdown",
   "metadata": {
    "id": "R3R0u4WVOLvc"
   },
   "source": [
    "### 2) 상품 7 모델링\n",
    "\n",
    "- 모델 이름은 model07_rdf로 합니다."
   ]
  },
  {
   "cell_type": "code",
   "execution_count": null,
   "metadata": {
    "id": "gHphLr1hGLQp",
    "outputId": "866307c9-7b2a-4f7e-d5af-851f324c345d",
    "tags": []
   },
   "outputs": [],
   "source": [
    "\n"
   ]
  },
  {
   "cell_type": "markdown",
   "metadata": {
    "id": "TEK-0JLVOLvc"
   },
   "source": [
    "### 3) 상품 12 모델링\n",
    "\n",
    "- 모델 이름은 model12_rdf로 합니다."
   ]
  },
  {
   "cell_type": "code",
   "execution_count": null,
   "metadata": {
    "id": "-StS1ghMGLQq",
    "outputId": "a5d634f1-1f52-4228-86b7-f406bb9e191e",
    "tags": []
   },
   "outputs": [],
   "source": [
    "\n"
   ]
  },
  {
   "cell_type": "markdown",
   "metadata": {
    "id": "HMNQszBfGLQr"
   },
   "source": [
    "## (2) LightGBM 모델"
   ]
  },
  {
   "cell_type": "markdown",
   "metadata": {
    "id": "piBIMVqFGLQr"
   },
   "source": [
    "### 1) 상품 3 모델링\n",
    "\n",
    "- 모델 이름은 model03_lgb로 합니다."
   ]
  },
  {
   "cell_type": "code",
   "execution_count": null,
   "metadata": {
    "id": "fS78xPnPGLQr",
    "outputId": "f01069d6-f160-48d5-f697-6c58785b3e1f",
    "tags": []
   },
   "outputs": [],
   "source": [
    "\n"
   ]
  },
  {
   "cell_type": "markdown",
   "metadata": {
    "id": "EFgeziviGLQs"
   },
   "source": [
    "### 2) 상품 7 모델링\n",
    "\n",
    "- 모델 이름은 model07_lgb로 합니다."
   ]
  },
  {
   "cell_type": "code",
   "execution_count": null,
   "metadata": {
    "id": "InH2NHymGLQs",
    "outputId": "137c8c63-6919-4e2a-c012-62a35ae40a67",
    "tags": []
   },
   "outputs": [],
   "source": [
    "\n"
   ]
  },
  {
   "cell_type": "markdown",
   "metadata": {
    "id": "jEAuJH2TGLQt"
   },
   "source": [
    "### 3) 상품 12 모델링\n",
    "\n",
    "- 모델 이름은 model12_lgb로 합니다."
   ]
  },
  {
   "cell_type": "code",
   "execution_count": null,
   "metadata": {
    "id": "sn6GwdVoGLQt",
    "outputId": "f0cfe771-1fcd-41e8-ef19-10fd5f966e8f",
    "tags": []
   },
   "outputs": [],
   "source": [
    "\n"
   ]
  },
  {
   "cell_type": "markdown",
   "metadata": {
    "id": "DFVvSdhGQ4N_"
   },
   "source": [
    "# 7. 데이터프레임 저장\n",
    "\n",
    "- 이후 실습을 위해 최종 구성된 데이터프레임을 파일로 저장합니다.\n",
    "- joblib룰 사용해 저장할 때는 일반적으로 pkl 확장자를 붙입니다.\n",
    "- 다음과 같은 형태의 구문으로 저장합니다.\n",
    "~~~\n",
    "joblib.dump(mydata, path + 'mydata.pkl')\n",
    "~~~\n",
    "- 파일 이름은 다음과 같이 통일합니다.\n",
    "    - data03.pkl: 3번 상품 데이터 셋\n",
    "    - data07.pkl: 7번 상품 데이터 셋\n",
    "    - data12.pkl: 12번 상품 데이터 셋"
   ]
  },
  {
   "cell_type": "code",
   "execution_count": null,
   "metadata": {
    "id": "rsPMYAnPBo4k",
    "outputId": "c8b998d9-7f5a-4b9e-a58c-a86c8a1eecf0",
    "tags": []
   },
   "outputs": [],
   "source": [
    "# 파일 저장\n",
    "joblib.dump(data03, path + 'data03.pkl')\n",
    "joblib.dump(data07, path + 'data07.pkl')\n",
    "joblib.dump(data12, path + 'data12.pkl')"
   ]
  }
 ],
 "metadata": {
  "colab": {
   "provenance": []
  },
  "kernelspec": {
   "display_name": "Python 3",
   "language": "python",
   "name": "python3"
  },
  "language_info": {
   "codemirror_mode": {
    "name": "ipython",
    "version": 3
   },
   "file_extension": ".py",
   "mimetype": "text/x-python",
   "name": "python",
   "nbconvert_exporter": "python",
   "pygments_lexer": "ipython3",
   "version": "3.12.4"
  }
 },
 "nbformat": 4,
 "nbformat_minor": 4
}
