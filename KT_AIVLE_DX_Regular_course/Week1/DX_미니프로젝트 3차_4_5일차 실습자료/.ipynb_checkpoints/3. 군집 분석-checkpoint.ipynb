{
 "cells": [
  {
   "cell_type": "markdown",
   "id": "90f3101f-8248-4e8c-bdbf-e113fe6ebbd0",
   "metadata": {
    "id": "90f3101f-8248-4e8c-bdbf-e113fe6ebbd0"
   },
   "source": [
    "# <span style=\"background-color:#fff5b1\"><span style=\"color:black\"><B>보험사 마케팅 활용을 위한 고객 군집화 모델링(참조)"
   ]
  },
  {
   "cell_type": "markdown",
   "id": "4c1174fc-1885-4f4e-bbb4-e9bf68f8fc6a",
   "metadata": {
    "id": "4c1174fc-1885-4f4e-bbb4-e9bf68f8fc6a"
   },
   "source": [
    "## **Mission 3. 분석 모델 개발**"
   ]
  },
  {
   "cell_type": "markdown",
   "id": "33589b19-a27e-4ed0-b1e5-8539ce9fe8c0",
   "metadata": {
    "id": "33589b19-a27e-4ed0-b1e5-8539ce9fe8c0",
    "tags": []
   },
   "source": [
    "### [미션 이해하기]\n",
    "* 여러분들은 파인애플 보험사의 직원입니다. 파인애플 보험사는 효과적인 마케팅 전략을 완성시키기 위해 데이터 기반 마케팅을 시작했습니다.\n",
    "  <br>고객의 행동,성향, 니즈 등의 고객 데이터를 마케팅 전략에 반영하여 고객별로 적절한 마케팅 Action을 주는 미션을 받았습니다.\n",
    "* 고객별로 특징을 적절하게 반영할 수 있는 마케팅 방안은 고객을 segment 하는 것 인데, 어떤 방법으로 고객을 묶을 수 있을까요?\n",
    "  <br>바로, <font color=\"1E90FF\"><b>군집분석을 기반으로 한 고객 segment를 개발 하는 것입니다.</font>\n"
   ]
  },
  {
   "cell_type": "markdown",
   "id": "e6ca9599-a9a1-45f7-bab0-35073378cad4",
   "metadata": {
    "id": "e6ca9599-a9a1-45f7-bab0-35073378cad4"
   },
   "source": [
    "<b>[2일차] mission 3 목표<b>: 전처리 한 데이터를 활용하여 군집분석 하고, 데이터 탐색 기반 프로파일링을 통해 군집별 특징 정의 해보기"
   ]
  },
  {
   "cell_type": "markdown",
   "id": "9509146a-6c7c-4e06-9e1e-7fc9a93c8200",
   "metadata": {
    "id": "9509146a-6c7c-4e06-9e1e-7fc9a93c8200"
   },
   "source": [
    "#### <b>[실습프로세스]<b>\n",
    "\n",
    "1. k-means 군집분석\n",
    "2. 프로파일링"
   ]
  },
  {
   "cell_type": "markdown",
   "id": "3310b100-8526-4122-b00f-98195133395b",
   "metadata": {
    "id": "3310b100-8526-4122-b00f-98195133395b",
    "tags": []
   },
   "source": [
    "---------------------------------------------------------------------------------------------\n",
    "# **1. k-means 모델(군집 분석)**"
   ]
  },
  {
   "cell_type": "markdown",
   "id": "c24c4c20-98c7-46f5-b795-add4bc8912fb",
   "metadata": {
    "id": "c24c4c20-98c7-46f5-b795-add4bc8912fb"
   },
   "source": [
    "**k-means 모델이란?**\n",
    " > **비지도학습의 대표적인 군집분석을 위한 모델로 주어진 데이터를 K개의 클러스터로 묶는 알고리즘**\n",
    " > * K 군집의 초기 중심에서 시작해서 중심을 바꾸는 단계를 사용하여 데이터를 가장 가까운 군집으로 포함시켜 분류하는 모델\n",
    " > * 장점: 단순 알고리즘 및 빠른 연산 속도\n",
    " > * 단점: 이상치, 노이즈에 민감하고 초기 군집 수 결정 단계가 필요함"
   ]
  },
  {
   "cell_type": "markdown",
   "id": "21c7e59d-5751-4cdf-9922-3cf445d1b0f8",
   "metadata": {
    "id": "21c7e59d-5751-4cdf-9922-3cf445d1b0f8"
   },
   "source": [
    "## **(1) 데이터 불러오기**"
   ]
  },
  {
   "cell_type": "code",
   "execution_count": null,
   "id": "310503f1-a0d6-47d6-ba74-617e5f113ecc",
   "metadata": {
    "id": "310503f1-a0d6-47d6-ba74-617e5f113ecc"
   },
   "outputs": [],
   "source": [
    "# 필요 라이브러리 로딩\n",
    "\n",
    "import numpy as np\n",
    "import pandas as pd\n",
    "import matplotlib.pyplot as plt\n",
    "import seaborn as sns\n",
    "import os\n",
    "\n",
    "# mosaic\n",
    "from statsmodels.graphics.mosaicplot import mosaic\n",
    "\n",
    "import warnings\n",
    "warnings.filterwarnings(action='ignore')"
   ]
  },
  {
   "cell_type": "code",
   "execution_count": null,
   "id": "c3ec2301",
   "metadata": {
    "id": "c3ec2301"
   },
   "outputs": [],
   "source": [
    "# 한글 세팅\n",
    "\n",
    "plt.rc(\"font\", family = \"Malgun Gothic\")\n",
    "sns.set(font=\"Malgun Gothic\",\n",
    "rc={\"axes.unicode_minus\":False}, style='white')\n",
    "\n",
    "# 지수표현(소수점 2자리까지 나타내기)\n",
    "pd.options.display.float_format = '{:.2f}'.format"
   ]
  },
  {
   "cell_type": "code",
   "execution_count": null,
   "id": "37852c14-3ef4-45ba-8557-dc99471d5744",
   "metadata": {
    "id": "37852c14-3ef4-45ba-8557-dc99471d5744"
   },
   "outputs": [],
   "source": [
    "# [문제 1] 스케일링 한 데이터 불러오기\n",
    "# 1. data 변수에 'data_sc.csv' 파일을 불러와서 할당\n",
    "# 2. data 변수 호출해서 상위 5개 확인해보기\n",
    "\n"
   ]
  },
  {
   "cell_type": "markdown",
   "id": "45a0357c-8311-4fd9-a3b4-47c7766f4037",
   "metadata": {
    "id": "45a0357c-8311-4fd9-a3b4-47c7766f4037"
   },
   "source": [
    "## **(2) 군집분석**"
   ]
  },
  {
   "cell_type": "markdown",
   "id": "ca85a752-317d-4c33-9e78-70c9f1660954",
   "metadata": {
    "id": "ca85a752-317d-4c33-9e78-70c9f1660954"
   },
   "source": [
    "<b>군집분석을 위해 최적의 그룹 k 값을 찾아보고 최적의 군집 수를 결정해 보자"
   ]
  },
  {
   "cell_type": "markdown",
   "id": "083ac050-70b7-45ec-a12e-e044efc38eff",
   "metadata": {
    "id": "083ac050-70b7-45ec-a12e-e044efc38eff"
   },
   "source": [
    "### <b>**1) 기본 셋팅**\n",
    "* yellowbrick을 임포트 해서 군집분석 해보기"
   ]
  },
  {
   "cell_type": "markdown",
   "id": "90cd7639",
   "metadata": {
    "id": "90cd7639"
   },
   "source": [
    "* yellowBrick : Scikit-Learn API를 확장하여 모델 선택 및 하이퍼 매개 변수 튜닝을 더 쉽게 만들어 주는 라이브러리\n",
    "<br>--> 오즈의 마법사의 소설에서 노란 벽돌의 길이 주인공이 에메랄드 시티의 목적지에 도달하기 위해 반드시 가야하는 길로 묘사되었는데 이게 yellowbrick 이다."
   ]
  },
  {
   "cell_type": "code",
   "execution_count": null,
   "id": "6d1e3b57-ee3f-4a67-a95c-6088ec42f113",
   "metadata": {
    "id": "6d1e3b57-ee3f-4a67-a95c-6088ec42f113"
   },
   "outputs": [],
   "source": [
    "#[같이 하기] yellowbrick이 없는 경우 pip로 설치해 주기(!pip install yellowbrick)\n",
    "\n",
    "!pip install yellowbrick"
   ]
  },
  {
   "cell_type": "code",
   "execution_count": null,
   "id": "e239122c-feb8-426b-b89c-9e9bbeb82adf",
   "metadata": {
    "id": "e239122c-feb8-426b-b89c-9e9bbeb82adf"
   },
   "outputs": [],
   "source": [
    "# [같이 하기] k-means, yellowbrick의 KElbowVisualizer 불러오기\n",
    "\n",
    "from sklearn.cluster import KMeans\n",
    "from yellowbrick.cluster import KElbowVisualizer"
   ]
  },
  {
   "cell_type": "markdown",
   "id": "89cc90a9-3827-4d36-a18a-9a49a9131fe9",
   "metadata": {
    "id": "89cc90a9-3827-4d36-a18a-9a49a9131fe9",
    "tags": []
   },
   "source": [
    "### <b>**2) 직접 하나하나 해보기**\n",
    "* 몇 개의 그룹으로 군집화를 할지 k 값을 바꿔 가면서 '최적의 k 값'을 찾아보는 것을 해보자."
   ]
  },
  {
   "cell_type": "code",
   "execution_count": null,
   "id": "afbbbf45-4715-4a84-95e9-f7a0ac827ae6",
   "metadata": {
    "id": "afbbbf45-4715-4a84-95e9-f7a0ac827ae6"
   },
   "outputs": [],
   "source": [
    "# [같이 하기] 군집화할 그룹(k) 결정하기\n",
    "\n",
    "# 우리는 먼저 몇개의 그룹으로 군집화 할지 3~10까지 수 중에서 결정하려고2024 3부터 2씩 올려서 클러스터링을 해보려고 한다.\n",
    "# 그러면 3개의 그룹부터 시작해 보자.\n",
    "\n",
    "\n",
    "# 1.몇개의 그룹(k)으로 군집화 할지 임의로 정해보기(k에 할당)\n",
    "k=3\n",
    "\n",
    "# 2. 모델 만들기 (그룹수 : n_clusters 파라미터 사용)\n",
    "# 동일값을 위해 random_state=2024, n_init=10으로 설정값을 같이 해본다.\n",
    "# [참고]n_init 지정 : warning을 없애기 위해 지정해준다.\n",
    "\n",
    "model_1 = KMeans(n_clusters=k, random_state=2024,n_init=10)\n",
    "\n",
    "#3. 스케일링 된 데이터에 학습\n",
    "\n",
    "model_1.fit(data)\n"
   ]
  },
  {
   "cell_type": "code",
   "execution_count": null,
   "id": "35bde289",
   "metadata": {
    "id": "35bde289"
   },
   "outputs": [],
   "source": [
    "# [같이 하기] 모델이 찾은 3개의 센트로이드를 확인해보자.\n",
    "# 센트로이드는 하나의 클러스터(k) 내 데이터의 중심이 되는 점이다.\n",
    "\n",
    "model_1.cluster_centers_"
   ]
  },
  {
   "cell_type": "markdown",
   "id": "bb94c2cd",
   "metadata": {
    "id": "bb94c2cd"
   },
   "source": [
    "- Kmeans객체는 각 군집을 구성하는 단어 피처가 군집의 중심(Centroid)을 기준으로 얼마나 가깝게 위치해 있는지 cluster_centers_라는 속성으로 제공합니다.\n",
    "- 3개의 클러스터에 각 군집 중심점의 좌표를 확인할 수 있습니다.\n",
    "- cluster_centers_는 배열 값으로 제공되며, 행은 개별 군집을, 열은 개별 피처를 의미합니다.\n",
    "- 각 배열 내의 값은 개별 군집 내의 상대 위치를 숫자 값으로 표현한 일종의 좌표 값입니다. 예를 들어 cluster_centers[0,1]은 0번 군집에서 두 번째 피처의 위치 값입니다."
   ]
  },
  {
   "cell_type": "code",
   "execution_count": null,
   "id": "f3ae0338-4aee-47d2-bb8a-39cecdb37c70",
   "metadata": {
    "id": "f3ae0338-4aee-47d2-bb8a-39cecdb37c70",
    "tags": []
   },
   "outputs": [],
   "source": [
    "# [같이 하기] 3가지 성능지표를 통해서 확인해보기\n",
    "\n",
    "# 1. inertia(이너셔) : 각 데이터와 센트로이드(중심) 사이의 평균 제곱거리로 도출한 모델 (model.inertia_로 쓴다)\n",
    "# 2. score 매서드: 이너셔의 음수값을 반환( model.score(df))\n",
    "\n",
    "print(model_1.inertia_)\n",
    "print(model_1.score(data))"
   ]
  },
  {
   "cell_type": "markdown",
   "id": "f6c5afb4",
   "metadata": {
    "id": "f6c5afb4"
   },
   "source": [
    "- KMeans 클래스는 n_init번 실행하여 이너셔가 가장 낮은 모델을 리턴합니다.\n",
    "- 하지만 마냥 이니셔가 낮다고 좋은 모델일까요?\n",
    "- k가 늘어날 수록 이너셔는 점점 작아지기 때문에 이너셔가 그다지 좋은 성능 지표가 아니라는 걸 알 수 있습니다.\n",
    "- 어차피 클러스터가 늘어날 수록 각각의 데이터는 가까운 센트로이드에 가까워지기 때문에 이너셔가 작아지는 건 당연한 결과입니다.\n",
    "- 그걸 파악하기 위해서 한번 k값에 따라 이니셔가 어떻게 변하는지 확인해 보시죠."
   ]
  },
  {
   "cell_type": "markdown",
   "id": "0a06856b-bbfe-4e96-a61a-e40ee7d4ffe7",
   "metadata": {
    "id": "0a06856b-bbfe-4e96-a61a-e40ee7d4ffe7",
    "tags": []
   },
   "source": [
    "<b> k=3을 같이 해봤으니 이제 여러분들이 한번 그룹수(k)를 바꿔가면서 판단을 해보실 차례입니다!\n",
    "<br>2씩 늘려가면서 k값을 5,7,9개의 그룹으로 나눠서 모델 학습 시키고 성능지표를 확인해 보세요!"
   ]
  },
  {
   "cell_type": "code",
   "execution_count": null,
   "id": "5b5e9242-3870-48e2-b292-86f1d50d58d2",
   "metadata": {
    "id": "5b5e9242-3870-48e2-b292-86f1d50d58d2"
   },
   "outputs": [],
   "source": [
    "#[문제 3] 군집화할 그룹(k)을 5개로 해보자.\n",
    "\n",
    "# 1.몇개의 그룹(k)으로 군집화 할지 임의로 정해보기(k1에 할당)\n",
    "k1=\n",
    "\n",
    "# 2. 모델 만들기 (그룹수 : n_clusters 파라미터 사용) (model_2 에 할당)\n",
    "# 동일값을 위해 random_state=2024, n_init=10으로 설정값을 같이 해본다.\n",
    "# [참고]n_init 지정 : warning을 없애기 위해 지정해준다.\n",
    "\n",
    "model_2 =\n",
    "\n",
    "#3. 스케일링 된 데이터에 학습\n",
    "\n",
    "\n",
    "\n",
    "#4. 학습한 결과 inertia,score 로 확인 해보기\n",
    "\n"
   ]
  },
  {
   "cell_type": "code",
   "execution_count": null,
   "id": "80e8e19f-1cc2-4ad7-a98f-b993e40e84bb",
   "metadata": {
    "id": "80e8e19f-1cc2-4ad7-a98f-b993e40e84bb"
   },
   "outputs": [],
   "source": [
    "#[문제 4] 군집화할 그룹(k)을 7개로 해보자.\n",
    "\n",
    "# 1.몇개의 그룹(k)으로 군집화 할지 임의로 정해보기(k2에 할당)\n",
    "\n",
    "k2=\n",
    "\n",
    "# 2. 모델 만들기 (그룹수 : n_clusters 파라미터 사용) (model_3 에 할당)\n",
    "# 동일값을 위해 random_state=2024, n_init=10으로 설정값을 같이 해본다.\n",
    "# [참고]n_init 지정 : warning을 없애기 위해 지정해준다.\n",
    "\n",
    "model_3 =\n",
    "\n",
    "#3. 스케일링 된 데이터에 학습\n",
    "\n",
    "\n",
    "\n",
    "#4. 학습한 결과 inertia,score 로 확인 해보기\n",
    "\n"
   ]
  },
  {
   "cell_type": "code",
   "execution_count": null,
   "id": "2fd146d6-7d79-4719-9fd5-7eafbe9804dd",
   "metadata": {
    "id": "2fd146d6-7d79-4719-9fd5-7eafbe9804dd"
   },
   "outputs": [],
   "source": [
    "#[문제 5] 군집화할 그룹(k)을 9개로 해보자.\n",
    "\n",
    "# 1.몇개의 그룹(k)으로 군집화 할지 임의로 정해보기(k3에 할당)\n",
    "\n",
    "k3=\n",
    "\n",
    "# 2. 모델 만들기 (그룹수 : n_clusters 파라미터 사용) (model_4 에 할당)\n",
    "# 동일값을 위해 random_state=2024, n_init=10으로 설정값을 같이 해본다.\n",
    "# [참고]n_init 지정 : warning을 없애기 위해 지정해준다.\n",
    "\n",
    "model_4 =\n",
    "\n",
    "#3. 스케일링 된 데이터에 학습\n",
    "\n",
    "\n",
    "\n",
    "#4. 학습한 결과 inertia,score 로 확인 해보기\n",
    "\n",
    "\n"
   ]
  },
  {
   "cell_type": "markdown",
   "id": "f24abbf3",
   "metadata": {
    "id": "f24abbf3"
   },
   "source": [
    "-----------"
   ]
  },
  {
   "cell_type": "markdown",
   "id": "805baaa7",
   "metadata": {
    "id": "805baaa7"
   },
   "source": [
    "* <b>for 문을 활용해서 그래프로도 확인을 해볼까요?"
   ]
  },
  {
   "cell_type": "code",
   "execution_count": null,
   "id": "82b9222d",
   "metadata": {
    "id": "82b9222d"
   },
   "outputs": [],
   "source": [
    "#[문제 6] for 문을 활용해서 2~20까지 k값을 넣어서 성능지표 확인하기\n",
    "\n",
    "ks=          # k값 범위 지정(range(3,20)) 후 ks 변수에 할당\n",
    "inertias =   # 이너셔 결과를 저장하기 위한 빈 리스트 생성 (변수명 inertias)\n",
    "\n",
    "for   in   : # for문 활용\n",
    "    model =             # k-means 모델 만들기(그룹수 : n_clusters 파라미터 사용,n_init=10)\n",
    "                        # 모델 학습 & 학습에 소요되는 시간 측정(%time 활용)\n",
    "                        # 이너셔 결과를 inertias 리스트에 계속 저장(append 활용)\n",
    "    print('n_cluster:{}, inertia:{}'.format(k, model.inertia_))\n",
    "    print('---------') # n_cluster, inertia 결과 출력\n",
    "\n",
    "\n",
    "plt.Figure(figsize=(15,6))\n",
    "plt.plot(ks,inertias,'-o') # '-o'는 실선과 원을 같이 시각화\n",
    "plt.xlabel('k')\n",
    "plt.ylabel('inertia')\n",
    "plt.xticks(ks)\n",
    "plt.grid()\n",
    "plt.show()"
   ]
  },
  {
   "cell_type": "markdown",
   "id": "ee9d3786",
   "metadata": {
    "id": "ee9d3786"
   },
   "source": [
    "여기서는 확실하게 어떤 k 값이 좋은지 파악하기가 힘들긴 하네요"
   ]
  },
  {
   "cell_type": "markdown",
   "id": "b9617bab-45c4-4138-94a9-a148a1d5b722",
   "metadata": {
    "id": "b9617bab-45c4-4138-94a9-a148a1d5b722"
   },
   "source": [
    "### <b>**3) [참조]Elbow Method 활용해서 k 값 구하기**\n",
    "* yellowbrick의 k-Elbow Mehod를 활용해서 최적의 k 값을 구하기(k값 결정하기 쉽게 도와주는 함수)"
   ]
  },
  {
   "cell_type": "code",
   "execution_count": null,
   "id": "d69955eb-1eea-4a9f-9fd1-f312b742b710",
   "metadata": {
    "id": "d69955eb-1eea-4a9f-9fd1-f312b742b710"
   },
   "outputs": [],
   "source": [
    "#[문제 7] Elbow Method를 통해 최적의 군집 수 도출을 해보자.\n",
    "\n",
    "# 1. 모델 선언하기(random_state=2024, n_init = 10 으로 설정)(model_E로 할당)\n",
    "\n",
    "model_E = KMeans(random_state=2024,n_init=10)\n",
    "\n",
    "# 2. KElbowVisualizer 에 k-means 모델과 k값 넣어서 만들기(Elbow_M 에 할당)\n",
    "# k값은 k=(2,21)사이의 값중에서 찾는 것으로 넣으면 된다.\n",
    "\n",
    "Elbow_M = KElbowVisualizer(model_E,k=(2,21))\n",
    "\n",
    "# 3. Elbow 모델 학습하기(fit)\n",
    "\n",
    "Elbow_M.fit(data)\n",
    "\n",
    "# 4. Elbow 모델 확인하기(show()활용)\n",
    "\n",
    "Elbow_M.show()"
   ]
  },
  {
   "cell_type": "markdown",
   "id": "4e309992",
   "metadata": {
    "id": "4e309992"
   },
   "source": [
    "- 위 그림에서 보듯이\n",
    "k=6까지는 빠르게 이너셔가 감소하는걸 확인할 수 있습니다. 이 지점을 Elbow라 칭하는데,\n",
    "- 보통 이 지점을 넘어서면 이너셔가 줄어드는 속도가 매우 줄어들기 때문에\n",
    "- 6를 넘어선 클러스터의 개수는 크게 도움이 되지 않습니다. 따라서 보통 이 Elbow를 최적의 클러스터 개수로 고르게 됩니다.\n",
    "\n",
    "- (참고) 그러나 방금과 같은 방법은 조금은 엉성하게 느껴지기도 합니다. 더 정확한 방법은 실루엣 점수(silghouette score)입니다.\n",
    " sklearn의 silhouette_score() 함수를 사용합니다.\n",
    "\n",
    " - from sklearn.metrics import silhouette_score\n",
    "- silhouette_score(X, kmeans.labels_)\n",
    "\n",
    "https://box-world.tistory.com/62"
   ]
  },
  {
   "cell_type": "markdown",
   "id": "cc94fd69-9fa2-4868-9d7e-2f252c459758",
   "metadata": {
    "id": "cc94fd69-9fa2-4868-9d7e-2f252c459758"
   },
   "source": [
    "### <b>**4) 최적의 k 값으로 모델링**\n",
    "* Elbow Method를 통해 나온 최적의 k값으로 모델링을 해보자."
   ]
  },
  {
   "cell_type": "code",
   "execution_count": null,
   "id": "81a80def-05ea-4077-bb3b-608612580ea8",
   "metadata": {
    "id": "81a80def-05ea-4077-bb3b-608612580ea8"
   },
   "outputs": [],
   "source": [
    "# [문제 8] 원본 데이터('customers_seg.csv') 불러오기\n",
    "\n",
    "# 1. scale이 안된 원본 data에 clust를 맵핑 시키기 위해 원본 데이터('customers_seg.csv')도 불러옵시다\n",
    "# data0 라는 변수에 할당하기\n",
    "data0 =\n",
    "\n",
    "# 2. 'CID'는 활용하지 않을 예정으로 삭제합니다.\n",
    "\n",
    "\n",
    "# 3. 데이터 상위 5개 확인하기\n"
   ]
  },
  {
   "cell_type": "code",
   "execution_count": null,
   "id": "0740e020-d1e0-4b17-87b3-994273276908",
   "metadata": {
    "id": "0740e020-d1e0-4b17-87b3-994273276908"
   },
   "outputs": [],
   "source": [
    "# [문제 9] 최적의 k 값으로 k-means 모델을 구성해보자.\n",
    "\n",
    "#1.최적의 k 값으로 군집 수 선택 (k4에 할당)\n",
    "k4=\n",
    "\n",
    "# 2. 모델 만들기 (그룹수 : n_clusters 파라미터 사용) (model_B 에 할당)\n",
    "# 동일값을 위해 random_state=2024, n_init=10으로 설정값을 같이 해본다.\n",
    "# [참고]n_init의 기본 값이 10 이나 warning을 없애기 위해 지정해준다.\n",
    "\n",
    "model_B =\n",
    "\n",
    "#3. 스케일링 된 데이터에 학습\n",
    "\n",
    "\n",
    "\n",
    "#4. 클러스터링 된 결과 각 데이터가 몇번째 그룹에 속하는지 확인 및 저장(.predict)\n",
    "\n",
    "cluster ="
   ]
  },
  {
   "cell_type": "code",
   "execution_count": null,
   "id": "1415cdd5-7840-47b2-923a-9d2dffb1c067",
   "metadata": {
    "id": "1415cdd5-7840-47b2-923a-9d2dffb1c067"
   },
   "outputs": [],
   "source": [
    "# [문제 10] 예측결과와 원본 데이터 합치기\n",
    "\n",
    "#1. 예측 결과를 데이터프레임으로 만들고\n",
    "\n",
    "cluster = pd.DataFrame(cluster, columns = ['cluster'])\n",
    "\n",
    "\n",
    "#2. 원본 데이터와 합쳐서, result로 저장\n",
    "\n",
    "result = pd.concat( )\n",
    "\n",
    "#3. 예측 결과는 카테고리 타입으로 변경\n",
    "result['cluster'] = pd.Categorical(result['cluster'] )\n",
    "result.head()\n",
    "\n",
    "#4. 결과 저장\n",
    "result.\n"
   ]
  },
  {
   "cell_type": "markdown",
   "id": "f11f1c33-96b8-4088-b7a2-016f7c0f9252",
   "metadata": {
    "id": "f11f1c33-96b8-4088-b7a2-016f7c0f9252"
   },
   "source": [
    "<b> 각 고객별로 군집 된 번호가 데이터 프레임에 생성한 것을 볼 수 있습니다! 다 왔습니다!\n",
    "\n",
    "* 이제부터 조별 과제를 수행합니다.\n",
    "    * 조 내에서 최적의 K값으로 군집을 수행한 결과(result)를 하나 선정해서\n",
    "    * 모든 조원들이 동일한 데이터를 로딩하고\n",
    "    * 프로파일링을 시작합니다.\n"
   ]
  },
  {
   "cell_type": "markdown",
   "id": "a00a6542-d91a-43a7-afc6-804f648bbf07",
   "metadata": {
    "id": "a00a6542-d91a-43a7-afc6-804f648bbf07"
   },
   "source": [
    "---------------------------------------------------------------------------------------------\n",
    "# **2. 프로파일링**"
   ]
  },
  {
   "cell_type": "markdown",
   "id": "fbc1fc17-c7d5-4b04-801b-f21c44731a05",
   "metadata": {
    "id": "fbc1fc17-c7d5-4b04-801b-f21c44731a05"
   },
   "source": [
    "<b>프로파일링 이란?\n",
    "> <b>군집의 구조와 내용을 분석하고 도메인 및 현업업무의 '추론'을 바탕으로 분석의 결과를 적용 가능하도록 하는 과정. 데이터를 통해서 군집별 특성을 파악하는 것에 목적은 두는 기법"
   ]
  },
  {
   "cell_type": "markdown",
   "id": "3a35df1b",
   "metadata": {
    "id": "3a35df1b"
   },
   "source": [
    "<font color=\"1E90FF\"><b>★ 프로파일링을 위해 군집간의 차이를 도메인 및 업무 관점으로 해석해야한다.</font>\n",
    "\n",
    "* 우리는 총 20개의 컬럼을 clust 별로 업무관점으로 해석하고 정리가 필요하다.\n",
    "  <br>* 범주형/수치형 데이터 별로도 특징과 해석방법이 조금 다르다\n",
    "  <br>* 개인별로 약 6개의 변수에 대한 군집간 차이 분석(하나의 변수당 2명이상이 분석 수행)\n",
    "\n",
    "* 도메인 지식을 총 동원 해서 각 컬럼의 clust 별 인사이트를 도출 해 보자!"
   ]
  },
  {
   "cell_type": "markdown",
   "id": "b6f410f9",
   "metadata": {
    "id": "b6f410f9"
   },
   "source": [
    "## **(1) 컬럼 확인해보기**"
   ]
  },
  {
   "cell_type": "code",
   "execution_count": null,
   "id": "c36c10ae",
   "metadata": {
    "id": "c36c10ae"
   },
   "outputs": [],
   "source": [
    "#[문제 12] result에 대해 info를 통해서 범주형/수치형 데이터 확인해보고 어떤 컬럼들이 있었는지 확인\n",
    "# 1. 데이터 불러오기(조에서 하나의 결과를 선정해서 공유)\n",
    "\n",
    "\n",
    "# 2. info로 확인하기\n"
   ]
  },
  {
   "cell_type": "markdown",
   "id": "868be271",
   "metadata": {
    "id": "868be271"
   },
   "source": [
    "<b>cluster 컬럼을 제외하고 그 다음 컬럼인 age 부터 차례대로 군집간의 차이를 업무관점으로 해석해 보기!\n",
    "\n",
    "[tip]\n",
    "* 범주형으로 되어있는 컬럼과 수치형으로 되어있는 컬럼이 해석하는 방법이 다르다.\n",
    "* 컬럼이 어떤 컬럼인지 확인해보고 특징들을 파악해보자."
   ]
  },
  {
   "cell_type": "markdown",
   "id": "f575281c",
   "metadata": {
    "id": "f575281c"
   },
   "source": [
    "----------"
   ]
  },
  {
   "cell_type": "markdown",
   "id": "45b776d6-e18f-4bb7-a2ba-ffd6c651f685",
   "metadata": {
    "id": "45b776d6-e18f-4bb7-a2ba-ffd6c651f685"
   },
   "source": [
    "### **1) AGE**"
   ]
  },
  {
   "cell_type": "code",
   "execution_count": null,
   "id": "dbb046aa-cd9b-48a2-aee5-68493fd2303a",
   "metadata": {
    "id": "dbb046aa-cd9b-48a2-aee5-68493fd2303a"
   },
   "outputs": [],
   "source": [
    "# [같이 하기] 'Age' 열에 대해 crosstab을 활용해서 clust별 범주별 합계를 확인 해보자.\n",
    "# crosstab의 margins='True'을 활용하면 행 합, 열 합을 추가할 수 있다.\n",
    "# pro_df 변수에 할당해서 확인해보자.\n",
    "\n",
    "feature = 'AGE'\n",
    "\n",
    "pro_df1 = pd.crosstab([result[feature]], result['cluster'], margins=True)\n",
    "\n",
    "# 비율로도 한번 확인 해보자.\n",
    "\n",
    "pro_df2 = pd.crosstab([result[feature]], result['cluster'], margins=True, normalize='columns')\n",
    "pro_df2 = pro_df2.round(3)\n",
    "\n",
    "# 합치기, concat\n",
    "pro_df = pd.concat([pro_df1, pro_df2], axis=1)\n",
    "\n",
    "# pro_df 확인\n",
    "display(pro_df)\n",
    "\n",
    "# 시각화를 해 봅시다.\n",
    "mosaic(result.sort_values('cluster'), [ 'cluster', feature])\n",
    "plt.show()"
   ]
  },
  {
   "cell_type": "markdown",
   "id": "e75a3efa",
   "metadata": {
    "id": "e75a3efa"
   },
   "source": [
    "<b>**'age' 변수에 대한 클러스터별 특징을 파악해보고 아래 주석에 적어보자!**\n",
    "( 바로 ppt에 작성을 해도 상관없다)"
   ]
  },
  {
   "cell_type": "code",
   "execution_count": null,
   "id": "08818c69",
   "metadata": {
    "id": "08818c69"
   },
   "outputs": [],
   "source": [
    "#[같이 하기]\n",
    "\n"
   ]
  },
  {
   "cell_type": "markdown",
   "id": "71f67544-e083-4a4f-bad0-6c82e2496872",
   "metadata": {
    "id": "71f67544-e083-4a4f-bad0-6c82e2496872"
   },
   "source": [
    "### **2) 등록(계/피)**"
   ]
  },
  {
   "cell_type": "code",
   "execution_count": null,
   "id": "0102d309-7d4b-4c93-b007-2642cb4d6a9e",
   "metadata": {
    "id": "0102d309-7d4b-4c93-b007-2642cb4d6a9e"
   },
   "outputs": [],
   "source": [
    "# [문제 13] '등록(계/피)' 열에 대해 crosstab을 활용해서 clust별 범주별 합계를 확인 해보자.\n",
    "\n"
   ]
  },
  {
   "cell_type": "markdown",
   "id": "1cc1cee2",
   "metadata": {
    "id": "1cc1cee2"
   },
   "source": [
    "<b>**'등록(계/피)' 변수에 대한 클러스터별 특징을 파악해보고 아래 주석에 적어보자!**\n",
    "( 바로 ppt에 작성을 해도 상관없다)"
   ]
  },
  {
   "cell_type": "code",
   "execution_count": null,
   "id": "fa1f4c68",
   "metadata": {
    "id": "fa1f4c68"
   },
   "outputs": [],
   "source": []
  },
  {
   "cell_type": "markdown",
   "id": "6802cd20-3358-4d4e-af7b-bd49fc74b6ed",
   "metadata": {
    "id": "6802cd20-3358-4d4e-af7b-bd49fc74b6ed"
   },
   "source": [
    "### **3) 성별**"
   ]
  },
  {
   "cell_type": "code",
   "execution_count": null,
   "id": "9e584810-6c8b-466b-97a9-c0168b8380d8",
   "metadata": {
    "id": "9e584810-6c8b-466b-97a9-c0168b8380d8"
   },
   "outputs": [],
   "source": [
    "# [문제 15] '성별' 열에 대해 crosstab을 활용해서 clust별 범주별 합계를 확인 해보자.\n",
    "\n"
   ]
  },
  {
   "cell_type": "markdown",
   "id": "dda23558",
   "metadata": {
    "id": "dda23558"
   },
   "source": [
    "<b>**'성별' 변수에 대한 클러스터별 특징을 파악해보고 아래 주석에 적어보자!**\n",
    "( 바로 ppt에 작성을 해도 상관없다)"
   ]
  },
  {
   "cell_type": "code",
   "execution_count": null,
   "id": "33d2c97d",
   "metadata": {
    "id": "33d2c97d"
   },
   "outputs": [],
   "source": []
  },
  {
   "cell_type": "markdown",
   "id": "06718f52-2368-46bc-93e5-135beedba1b7",
   "metadata": {
    "id": "06718f52-2368-46bc-93e5-135beedba1b7"
   },
   "source": [
    "### **4) willingness to pay/stay(수치)**"
   ]
  },
  {
   "cell_type": "code",
   "execution_count": null,
   "id": "32eee39c-41ee-480c-8c46-7791a2ccdbb3",
   "metadata": {
    "id": "32eee39c-41ee-480c-8c46-7791a2ccdbb3"
   },
   "outputs": [],
   "source": [
    "# [같이 하기] WTP의 경우 '보험 유지 기대 확률'로 각 clust 별 min,max,mean,median 통계 값으로 확인해보자.\n",
    "# groupby 와 agg() 메소드를 활용하여 도출해 보자.\n",
    "\n",
    "feature = 'Willingness to pay/Stay'\n",
    "display(result[['cluster',feature]].groupby(['cluster']).agg(['max','min','mean','median']))\n",
    "\n",
    "# 시각화를 해 봅시다.\n",
    "sns.barplot(x='cluster', y=feature, data=result, palette='cool')\n",
    "plt.show()\n"
   ]
  },
  {
   "cell_type": "markdown",
   "id": "5b288ceb",
   "metadata": {
    "id": "5b288ceb"
   },
   "source": [
    "<b>**'WTP' 변수에 대한 클러스터별 특징을 파악해보고 아래 주석에 적어보자!**\n",
    "( 바로 ppt에 작성을 해도 상관없다)"
   ]
  },
  {
   "cell_type": "code",
   "execution_count": null,
   "id": "f5972b2c",
   "metadata": {
    "id": "f5972b2c"
   },
   "outputs": [],
   "source": [
    "# [같이 하기]\n"
   ]
  },
  {
   "cell_type": "markdown",
   "id": "32880871-e132-4b05-8dd2-cba31997fe06",
   "metadata": {
    "id": "32880871-e132-4b05-8dd2-cba31997fe06"
   },
   "source": [
    "### **5) 상품 타입**"
   ]
  },
  {
   "cell_type": "code",
   "execution_count": null,
   "id": "dfdeded9-5e55-4c82-a311-4887ac790046",
   "metadata": {
    "id": "dfdeded9-5e55-4c82-a311-4887ac790046"
   },
   "outputs": [],
   "source": [
    "# [문제 17] '상품타입' 열에 대해 crosstab을 활용해서 clust별 범주별 합계를 확인 해보자.\n",
    "\n"
   ]
  },
  {
   "cell_type": "markdown",
   "id": "e222c5a9",
   "metadata": {
    "id": "e222c5a9"
   },
   "source": [
    "<b>**'상품타입' 변수에 대한 클러스터별 특징을 파악해보고 아래 주석에 적어보자!**\n",
    "( 바로 ppt에 작성을 해도 상관없다)"
   ]
  },
  {
   "cell_type": "code",
   "execution_count": null,
   "id": "1adcefba",
   "metadata": {
    "id": "1adcefba"
   },
   "outputs": [],
   "source": []
  },
  {
   "cell_type": "markdown",
   "id": "d5ce24de-1eb3-4391-9099-62d8e9c6a52a",
   "metadata": {
    "id": "d5ce24de-1eb3-4391-9099-62d8e9c6a52a"
   },
   "source": [
    "### **6) 교육수준**"
   ]
  },
  {
   "cell_type": "code",
   "execution_count": null,
   "id": "54d15c80-4d90-4e3b-b755-4fc20d22802b",
   "metadata": {
    "id": "54d15c80-4d90-4e3b-b755-4fc20d22802b"
   },
   "outputs": [],
   "source": [
    "# [문제 19] '교육수준' 열에 대해 crosstab을 활용해서 clust별 범주별 합계를 확인 해보자.\n",
    "\n"
   ]
  },
  {
   "cell_type": "markdown",
   "id": "00fa463a",
   "metadata": {
    "id": "00fa463a"
   },
   "source": [
    "<b>**'교육수준' 변수에 대한 클러스터별 특징을 파악해보고 아래 주석에 적어보자!**\n",
    "( 바로 ppt에 작성을 해도 상관없다)"
   ]
  },
  {
   "cell_type": "code",
   "execution_count": null,
   "id": "60e52800",
   "metadata": {
    "id": "60e52800"
   },
   "outputs": [],
   "source": []
  },
  {
   "cell_type": "markdown",
   "id": "532caaf2-49a1-4ff8-8a88-e2b9ce137a9d",
   "metadata": {
    "id": "532caaf2-49a1-4ff8-8a88-e2b9ce137a9d"
   },
   "source": [
    "### **7) 고용상태**"
   ]
  },
  {
   "cell_type": "code",
   "execution_count": null,
   "id": "abf87985-16c2-4e0b-af6e-15dea77c9ffb",
   "metadata": {
    "id": "abf87985-16c2-4e0b-af6e-15dea77c9ffb"
   },
   "outputs": [],
   "source": [
    "# [문제 21] '고용상태' 열에 대해 crosstab을 활용해서 clust별 범주별 합계를 확인 해보자.\n",
    "\n"
   ]
  },
  {
   "cell_type": "markdown",
   "id": "cef06b07",
   "metadata": {
    "id": "cef06b07"
   },
   "source": [
    "<b>**'고용상태' 변수에 대한 클러스터별 특징을 파악해보고 아래 주석에 적어보자!**\n",
    "( 바로 ppt에 작성을 해도 상관없다)"
   ]
  },
  {
   "cell_type": "code",
   "execution_count": null,
   "id": "aff7c0cb",
   "metadata": {
    "id": "aff7c0cb"
   },
   "outputs": [],
   "source": []
  },
  {
   "cell_type": "markdown",
   "id": "9c9afe78-2077-48d2-8a99-f47a60e8a2d2",
   "metadata": {
    "id": "9c9afe78-2077-48d2-8a99-f47a60e8a2d2"
   },
   "source": [
    "### **8) 소득(수치)**"
   ]
  },
  {
   "cell_type": "code",
   "execution_count": null,
   "id": "db5b7186-4e22-46f8-8883-41bbd5c14c1c",
   "metadata": {
    "id": "db5b7186-4e22-46f8-8883-41bbd5c14c1c"
   },
   "outputs": [],
   "source": [
    "# [문제 23] '소득'은 수치형으로 각 clust 별 min,max,mean,median 통계 값으로 확인해보자.\n",
    "# groupby 와 agg() 메소드를 활용하여 도출해 보자.\n",
    "\n"
   ]
  },
  {
   "cell_type": "markdown",
   "id": "f2128b0c",
   "metadata": {
    "id": "f2128b0c"
   },
   "source": [
    "<b>**'소득' 변수에 대한 클러스터별 특징을 파악해보고 아래 주석에 적어보자!**\n",
    "( 바로 ppt에 작성을 해도 상관없다)"
   ]
  },
  {
   "cell_type": "code",
   "execution_count": null,
   "id": "7454154b",
   "metadata": {
    "id": "7454154b"
   },
   "outputs": [],
   "source": []
  },
  {
   "cell_type": "markdown",
   "id": "a245baee-aefc-4dbd-bdd3-bb53414dbbd9",
   "metadata": {
    "id": "a245baee-aefc-4dbd-bdd3-bb53414dbbd9"
   },
   "source": [
    "### **9) 결혼여부**"
   ]
  },
  {
   "cell_type": "code",
   "execution_count": null,
   "id": "11684db0-56e6-4f7d-a9ea-8191fd901b30",
   "metadata": {
    "id": "11684db0-56e6-4f7d-a9ea-8191fd901b30"
   },
   "outputs": [],
   "source": [
    "# [문제 25] '결혼여부' 열에 대해 crosstab을 활용해서 clust별 범주별 합계를 확인 해보자.\n",
    "\n"
   ]
  },
  {
   "cell_type": "markdown",
   "id": "53f2060c",
   "metadata": {
    "id": "53f2060c"
   },
   "source": [
    "<b>**'결혼여부' 변수에 대한 클러스터별 특징을 파악해보고 아래 주석에 적어보자!**\n",
    "( 바로 ppt에 작성을 해도 상관없다)"
   ]
  },
  {
   "cell_type": "code",
   "execution_count": null,
   "id": "d1974ce4",
   "metadata": {
    "id": "d1974ce4"
   },
   "outputs": [],
   "source": []
  },
  {
   "cell_type": "markdown",
   "id": "1ee5b45d-ec43-4d71-9b9e-ef9c202c1b84",
   "metadata": {
    "id": "1ee5b45d-ec43-4d71-9b9e-ef9c202c1b84"
   },
   "source": [
    "### **10) 월 납입액(수치)**"
   ]
  },
  {
   "cell_type": "code",
   "execution_count": null,
   "id": "88acb42b-e042-49db-83b4-f090d6a8f7bc",
   "metadata": {
    "id": "88acb42b-e042-49db-83b4-f090d6a8f7bc"
   },
   "outputs": [],
   "source": [
    "# [문제 27] '월 납입액'은 수치형으로 각 clust 별 min,max,mean,median 통계 값으로 확인해보자.\n",
    "# groupby 와 agg() 메소드를 활용하여 도출해 보자.\n",
    "\n"
   ]
  },
  {
   "cell_type": "markdown",
   "id": "78068345",
   "metadata": {
    "id": "78068345"
   },
   "source": [
    "<b>**'월 납입액' 변수에 대한 클러스터별 특징을 파악해보고 아래 주석에 적어보자!**\n",
    "( 바로 ppt에 작성을 해도 상관없다)"
   ]
  },
  {
   "cell_type": "code",
   "execution_count": null,
   "id": "76cf74d2",
   "metadata": {
    "id": "76cf74d2"
   },
   "outputs": [],
   "source": []
  },
  {
   "cell_type": "markdown",
   "id": "d509a0fb-edd1-4329-8797-3a0ff9aec578",
   "metadata": {
    "id": "d509a0fb-edd1-4329-8797-3a0ff9aec578"
   },
   "source": [
    "### **11) VOC**"
   ]
  },
  {
   "cell_type": "code",
   "execution_count": null,
   "id": "84157740-689a-41fa-86b0-0aa3ad9833eb",
   "metadata": {
    "id": "84157740-689a-41fa-86b0-0aa3ad9833eb"
   },
   "outputs": [],
   "source": [
    "# [문제 29] 'VOC' 열에 대해 crosstab을 활용해서 clust별 범주별 합계를 확인 해보자.\n",
    "\n"
   ]
  },
  {
   "cell_type": "markdown",
   "id": "bd165817",
   "metadata": {
    "id": "bd165817"
   },
   "source": [
    "<b>**'VOC' 변수에 대한 클러스터별 특징을 파악해보고 아래 주석에 적어보자!**\n",
    "( 바로 ppt에 작성을 해도 상관없다)"
   ]
  },
  {
   "cell_type": "code",
   "execution_count": null,
   "id": "1c2b482f",
   "metadata": {
    "id": "1c2b482f"
   },
   "outputs": [],
   "source": []
  },
  {
   "cell_type": "markdown",
   "id": "991f5f39-4fd8-438a-b992-934800dbe4ed",
   "metadata": {
    "id": "991f5f39-4fd8-438a-b992-934800dbe4ed"
   },
   "source": [
    "### **12) 타 상품 보유 현황**"
   ]
  },
  {
   "cell_type": "code",
   "execution_count": null,
   "id": "28e49d4b-8645-4000-9059-51c69234e79d",
   "metadata": {
    "id": "28e49d4b-8645-4000-9059-51c69234e79d"
   },
   "outputs": [],
   "source": [
    "# [문제 31] '타 상품 보유 현황' 열에 대해 crosstab을 활용해서 clust별 범주별 합계를 확인 해보자.\n"
   ]
  },
  {
   "cell_type": "markdown",
   "id": "ffa64474",
   "metadata": {
    "id": "ffa64474"
   },
   "source": [
    "<b>**'타 상품 보유 현황\t' 변수에 대한 클러스터별 특징을 파악해보고 아래 주석에 적어보자!**\n",
    "( 바로 ppt에 작성을 해도 상관없다)"
   ]
  },
  {
   "cell_type": "code",
   "execution_count": null,
   "id": "c4ce5f4e",
   "metadata": {
    "id": "c4ce5f4e"
   },
   "outputs": [],
   "source": []
  },
  {
   "cell_type": "markdown",
   "id": "45a81e45-e9cb-4786-8486-0ee6ef6c18c6",
   "metadata": {
    "id": "45a81e45-e9cb-4786-8486-0ee6ef6c18c6"
   },
   "source": [
    "### **13) 갱신 인센티브**"
   ]
  },
  {
   "cell_type": "code",
   "execution_count": null,
   "id": "6e9ab842-6299-4a30-ad3d-2cd60901c9f1",
   "metadata": {
    "id": "6e9ab842-6299-4a30-ad3d-2cd60901c9f1"
   },
   "outputs": [],
   "source": [
    "# [문제 33] '갱신인센티브' 열에 대해 crosstab을 활용해서 clust별 범주별 합계를 확인 해보자.\n",
    "\n"
   ]
  },
  {
   "cell_type": "markdown",
   "id": "6bbf3acf-e2e3-40a2-b328-af7fce4a397a",
   "metadata": {
    "id": "6bbf3acf-e2e3-40a2-b328-af7fce4a397a"
   },
   "source": [
    "<b>**'갱신인센티브\t' 변수에 대한 클러스터별 특징을 파악해보고 아래 주석에 적어보자!**\n",
    "( 바로 ppt에 작성을 해도 상관없다)"
   ]
  },
  {
   "cell_type": "code",
   "execution_count": null,
   "id": "31379397",
   "metadata": {
    "id": "31379397"
   },
   "outputs": [],
   "source": []
  },
  {
   "cell_type": "markdown",
   "id": "4dc3fd6b-ab07-4a57-b2d5-194c329e579d",
   "metadata": {
    "id": "4dc3fd6b-ab07-4a57-b2d5-194c329e579d"
   },
   "source": [
    "### **14) 총 지불 금액(수치)**"
   ]
  },
  {
   "cell_type": "code",
   "execution_count": null,
   "id": "9a16ee05-4f5c-497f-b2d6-26cc6cee44a6",
   "metadata": {
    "id": "9a16ee05-4f5c-497f-b2d6-26cc6cee44a6"
   },
   "outputs": [],
   "source": []
  },
  {
   "cell_type": "markdown",
   "id": "a8e84e16",
   "metadata": {
    "id": "a8e84e16"
   },
   "source": [
    "<b>**'총지불금액' 변수에 대한 클러스터별 특징을 파악해보고 아래 주석에 적어보자!**\n",
    "( 바로 ppt에 작성을 해도 상관없다)"
   ]
  },
  {
   "cell_type": "code",
   "execution_count": null,
   "id": "4116f0c1",
   "metadata": {
    "id": "4116f0c1"
   },
   "outputs": [],
   "source": []
  },
  {
   "cell_type": "markdown",
   "id": "55ad9c65-1ae7-439e-ba42-cfa141f8d181",
   "metadata": {
    "id": "55ad9c65-1ae7-439e-ba42-cfa141f8d181"
   },
   "source": [
    "### **15) 자동차**"
   ]
  },
  {
   "cell_type": "code",
   "execution_count": null,
   "id": "f53e5c92-5fba-4e39-859b-bc2b438bf02b",
   "metadata": {
    "id": "f53e5c92-5fba-4e39-859b-bc2b438bf02b"
   },
   "outputs": [],
   "source": [
    "# [문제 37] '자동차' 열에 대해 crosstab을 활용해서 clust별 범주별 합계를 확인 해보자.\n",
    "\n"
   ]
  },
  {
   "cell_type": "markdown",
   "id": "7137a0f8",
   "metadata": {
    "id": "7137a0f8"
   },
   "source": [
    "<b>**'자동차' 변수에 대한 클러스터별 특징을 파악해보고 아래 주석에 적어보자!**\n",
    "( 바로 ppt에 작성을 해도 상관없다)"
   ]
  },
  {
   "cell_type": "code",
   "execution_count": null,
   "id": "8a2ed522",
   "metadata": {
    "id": "8a2ed522"
   },
   "outputs": [],
   "source": []
  },
  {
   "cell_type": "markdown",
   "id": "320f4f71-f004-4cdd-b451-82bfa24ae6f2",
   "metadata": {
    "id": "320f4f71-f004-4cdd-b451-82bfa24ae6f2"
   },
   "source": [
    " ### **16) 거주지 사이즈**"
   ]
  },
  {
   "cell_type": "code",
   "execution_count": null,
   "id": "dff26d04-81b3-4a71-988d-472b6cf2fbfc",
   "metadata": {
    "id": "dff26d04-81b3-4a71-988d-472b6cf2fbfc"
   },
   "outputs": [],
   "source": [
    "# [문제 39] '거주지사이즈' 열에 대해 crosstab을 활용해서 clust별 범주별 합계를 확인 해보자.\n",
    "\n"
   ]
  },
  {
   "cell_type": "markdown",
   "id": "4255066b",
   "metadata": {
    "id": "4255066b"
   },
   "source": [
    "<b>**'거주지사이즈' 변수에 대한 클러스터별 특징을 파악해보고 아래 주석에 적어보자!**\n",
    "( 바로 ppt에 작성을 해도 상관없다)"
   ]
  },
  {
   "cell_type": "code",
   "execution_count": null,
   "id": "97a19706",
   "metadata": {
    "id": "97a19706"
   },
   "outputs": [],
   "source": []
  },
  {
   "cell_type": "markdown",
   "id": "36449b0b-3063-47f0-9919-4e1117062b41",
   "metadata": {
    "id": "36449b0b-3063-47f0-9919-4e1117062b41"
   },
   "source": [
    "### **17) 갱신**"
   ]
  },
  {
   "cell_type": "code",
   "execution_count": null,
   "id": "1b3b026e-b3fd-4536-aaa2-3c4eaf597ffd",
   "metadata": {
    "id": "1b3b026e-b3fd-4536-aaa2-3c4eaf597ffd"
   },
   "outputs": [],
   "source": [
    "# [문제 41] '갱신' 열에 대해 crosstab을 활용해서 clust별 범주별 합계를 확인 해보자.\n",
    "\n"
   ]
  },
  {
   "cell_type": "markdown",
   "id": "c2e977f4",
   "metadata": {
    "id": "c2e977f4"
   },
   "source": [
    "<b>**'갱신' 변수에 대한 클러스터별 특징을 파악해보고 아래 주석에 적어보자!**\n",
    "( 바로 ppt에 작성을 해도 상관없다)"
   ]
  },
  {
   "cell_type": "code",
   "execution_count": null,
   "id": "20e65632",
   "metadata": {
    "id": "20e65632"
   },
   "outputs": [],
   "source": []
  },
  {
   "cell_type": "markdown",
   "id": "8c69a895-68ea-448d-84cc-a434a68da4db",
   "metadata": {
    "id": "8c69a895-68ea-448d-84cc-a434a68da4db"
   },
   "source": [
    "### **18) 지역**"
   ]
  },
  {
   "cell_type": "code",
   "execution_count": null,
   "id": "5409ea49-6ba2-42e3-88d9-658e25a8699c",
   "metadata": {
    "id": "5409ea49-6ba2-42e3-88d9-658e25a8699c"
   },
   "outputs": [],
   "source": [
    "# [문제 43] '지역' 열에 대해 crosstab을 활용해서 clust별 범주별 합계를 확인 해보자.\n",
    "\n"
   ]
  },
  {
   "cell_type": "markdown",
   "id": "6ff6f6ec",
   "metadata": {
    "id": "6ff6f6ec"
   },
   "source": [
    "<b>**'지역' 변수에 대한 클러스터별 특징을 파악해보고 아래 주석에 적어보자!**\n",
    "( 바로 ppt에 작성을 해도 상관없다)"
   ]
  },
  {
   "cell_type": "code",
   "execution_count": null,
   "id": "423fef02",
   "metadata": {
    "id": "423fef02"
   },
   "outputs": [],
   "source": []
  },
  {
   "cell_type": "markdown",
   "id": "a7c5bc8e-3eab-4373-bbd9-f9cfea1e2d74",
   "metadata": {
    "id": "a7c5bc8e-3eab-4373-bbd9-f9cfea1e2d74"
   },
   "source": [
    "### **19) 온라인방문빈도**"
   ]
  },
  {
   "cell_type": "code",
   "execution_count": null,
   "id": "c77e2e07-d73e-454e-8b19-20c00ebb5f20",
   "metadata": {
    "id": "c77e2e07-d73e-454e-8b19-20c00ebb5f20"
   },
   "outputs": [],
   "source": [
    "# [문제 45] '온라인방문빈도' 열에 대해 crosstab을 활용해서 clust별 범주별 합계를 확인 해보자.\n",
    "\n"
   ]
  },
  {
   "cell_type": "markdown",
   "id": "a516c5bd",
   "metadata": {
    "id": "a516c5bd"
   },
   "source": [
    "<b>**'온라인방문빈도' 변수에 대한 클러스터별 특징을 파악해보고 아래 주석에 적어보자!**\n",
    "( 바로 ppt에 작성을 해도 상관없다)"
   ]
  },
  {
   "cell_type": "code",
   "execution_count": null,
   "id": "7773a3d8",
   "metadata": {
    "id": "7773a3d8"
   },
   "outputs": [],
   "source": []
  },
  {
   "cell_type": "markdown",
   "id": "599ec32e-cc03-422d-998b-d0be50f94063",
   "metadata": {
    "id": "599ec32e-cc03-422d-998b-d0be50f94063"
   },
   "source": [
    "### **20) 판매채널**"
   ]
  },
  {
   "cell_type": "code",
   "execution_count": null,
   "id": "c48587ae-c76f-4840-96d0-9aff57c7a061",
   "metadata": {
    "id": "c48587ae-c76f-4840-96d0-9aff57c7a061"
   },
   "outputs": [],
   "source": [
    "# [문제 47] '판매채널' 열에 대해 crosstab을 활용해서 clust별 범주별 합계를 확인 해보자.\n",
    "\n"
   ]
  },
  {
   "cell_type": "markdown",
   "id": "d145c8c2",
   "metadata": {
    "id": "d145c8c2"
   },
   "source": [
    "<b>**'판매채널' 변수에 대한 클러스터별 특징을 파악해보고 아래 주석에 적어보자!**\n",
    "( 바로 ppt에 작성을 해도 상관없다)"
   ]
  },
  {
   "cell_type": "code",
   "execution_count": null,
   "id": "4250a5b0",
   "metadata": {
    "id": "4250a5b0"
   },
   "outputs": [],
   "source": []
  },
  {
   "cell_type": "markdown",
   "id": "70963f64-aedd-4a85-8ad8-13278aded787",
   "metadata": {
    "id": "70963f64-aedd-4a85-8ad8-13278aded787"
   },
   "source": [
    "---------------------------------------------------------------------------------------------\n",
    "## **(2) 결과 정리**"
   ]
  },
  {
   "cell_type": "markdown",
   "id": "8a3cd4fc-ad60-456f-bf96-70625d40981c",
   "metadata": {
    "id": "8a3cd4fc-ad60-456f-bf96-70625d40981c"
   },
   "source": [
    "<font color=\"1E90FF\"><b>★ 20가지 피쳐값에 대해 군집별로 분석해 보았고 인사이트도 도출해 보았다. 한번 ppt에 정리해보자!</font>"
   ]
  },
  {
   "cell_type": "markdown",
   "id": "117273bf",
   "metadata": {
    "id": "117273bf"
   },
   "source": [
    "## **[Mission 3-분석모델 개발]**\n",
    "\n",
    "* k-means 활용해 군집화 분석 모델 개발 완료\n",
    "* 프로파일링 기법을 통해 각 피쳐의 군집별 특성에 대해 파악하고 정의 해봄\n",
    "* 정의 한 것을 가지고 고객 군집별 마케팅 전략 수립"
   ]
  },
  {
   "cell_type": "markdown",
   "id": "4fa47a2c",
   "metadata": {
    "id": "4fa47a2c"
   },
   "source": [
    "<font color=\"1E90FF\"><b>→ 여러분들은 어떻게 군집에 대해 정의를 내리고 마케팅 방안을 수립하였나요?<br><b>서로의 군집에 대해서 이야기해 보고 발표해 봅시다.<b><br>\n",
    "    "
   ]
  },
  {
   "cell_type": "markdown",
   "id": "5f80e5cb",
   "metadata": {
    "id": "5f80e5cb"
   },
   "source": [
    "# <b>Mission 3 완료!\n",
    "수고하셨습니다!"
   ]
  }
 ],
 "metadata": {
  "colab": {
   "provenance": [],
   "toc_visible": true
  },
  "kernelspec": {
   "display_name": "Python 3 (ipykernel)",
   "language": "python",
   "name": "python3"
  },
  "language_info": {
   "codemirror_mode": {
    "name": "ipython",
    "version": 3
   },
   "file_extension": ".py",
   "mimetype": "text/x-python",
   "name": "python",
   "nbconvert_exporter": "python",
   "pygments_lexer": "ipython3",
   "version": "3.12.4"
  }
 },
 "nbformat": 4,
 "nbformat_minor": 5
}
