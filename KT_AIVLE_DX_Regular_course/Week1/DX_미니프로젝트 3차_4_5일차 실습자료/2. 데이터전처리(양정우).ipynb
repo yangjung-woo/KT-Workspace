{
 "cells": [
  {
   "cell_type": "markdown",
   "id": "90f3101f-8248-4e8c-bdbf-e113fe6ebbd0",
   "metadata": {
    "id": "90f3101f-8248-4e8c-bdbf-e113fe6ebbd0"
   },
   "source": [
    "# <span style=\"background-color:#fff5b1\"><span style=\"color:black\"><B>보험사 마케팅 활용을 위한 고객 군집화 모델링(참조)"
   ]
  },
  {
   "cell_type": "markdown",
   "id": "4c1174fc-1885-4f4e-bbb4-e9bf68f8fc6a",
   "metadata": {
    "id": "4c1174fc-1885-4f4e-bbb4-e9bf68f8fc6a"
   },
   "source": [
    "## **Mission 2. 데이터 전처리**"
   ]
  },
  {
   "cell_type": "markdown",
   "id": "33589b19-a27e-4ed0-b1e5-8539ce9fe8c0",
   "metadata": {
    "id": "33589b19-a27e-4ed0-b1e5-8539ce9fe8c0",
    "tags": []
   },
   "source": [
    "### [미션 이해하기]\n",
    "* 여러분들은 파인애플 보험사의 직원입니다. 파인애플 보험사는 효과적인 마케팅 전략을 완성시키기 위해 데이터 기반 마케팅을 시작했습니다.\n",
    "  <br>고객의 행동,성향, 니즈 등의 고객 데이터를 마케팅 전략에 반영하여 고객별로 적절한 마케팅 Action을 주는 미션을 받았습니다.\n",
    "* 고객별로 특징을 적절하게 반영할 수 있는 마케팅 방안은 고객을 segment 하는 것 인데, 어떤 방법으로 고객을 묶을 수 있을까요?\n",
    "  <br>바로, <font color=\"1E90FF\"><b>군집분석을 기반으로 한 고객 segment를 개발 하는 것입니다.</font>\n"
   ]
  },
  {
   "cell_type": "markdown",
   "id": "e6ca9599-a9a1-45f7-bab0-35073378cad4",
   "metadata": {
    "id": "e6ca9599-a9a1-45f7-bab0-35073378cad4"
   },
   "source": [
    "<b>[1일차] mission 2 목표<b>: 군집분석을 기반으로 하는 고객 segment 적용 전 주요 데이터 전처리를 수행해보기"
   ]
  },
  {
   "cell_type": "markdown",
   "id": "9509146a-6c7c-4e06-9e1e-7fc9a93c8200",
   "metadata": {
    "id": "9509146a-6c7c-4e06-9e1e-7fc9a93c8200"
   },
   "source": [
    "#### <b>[실습프로세스]<b>\n",
    "\n",
    "1. 범주 인코딩\n",
    "    * 각 범주별 0, 1로 인코딩 하기\n",
    "2. 스케일링\n"
   ]
  },
  {
   "cell_type": "markdown",
   "id": "3310b100-8526-4122-b00f-98195133395b",
   "metadata": {
    "id": "3310b100-8526-4122-b00f-98195133395b",
    "tags": []
   },
   "source": [
    "---------------------------------------------------------------------------------------------\n",
    "# **1. 범주 인코딩**\n",
    "* 범주형 변수 값(텍스트) 을 수치형 값(숫자)으로 변환하는 방법을 사용하여 알고리즘이 인식할 수 있도록 변환해 봅시다.\n",
    "* 범주 인코딩 방법은 Label-encoding 과 one-hot-encoding 등이 있습니다.\n",
    "    * Label-encoding : 0, 1, 2, 3, ...(정수 인코딩)\n",
    "    * one-hot-encoding : 가변수화\n",
    "* 우리는 어떻게 범주 인코딩을 할 수 있을까요?"
   ]
  },
  {
   "cell_type": "markdown",
   "id": "cf560e87-8a2e-4a8b-8fef-75c2d3886e7e",
   "metadata": {
    "id": "cf560e87-8a2e-4a8b-8fef-75c2d3886e7e"
   },
   "source": [
    "## **(1) 데이터 불러오기**\n"
   ]
  },
  {
   "cell_type": "code",
   "execution_count": 8,
   "id": "bbaf7c28-3a99-4d31-877c-76b8422179b3",
   "metadata": {
    "id": "bbaf7c28-3a99-4d31-877c-76b8422179b3",
    "tags": []
   },
   "outputs": [],
   "source": [
    "#[문제 1] 필요 라이브러리 로딩\n",
    "# numpy, pandas, matplotlib, seaborn, os 를 임포트 하기\n",
    "import numpy as np\n",
    "import pandas as pd\n",
    "import matplotlib.pyplot as plt\n",
    "import seaborn as sns\n",
    "import os\n"
   ]
  },
  {
   "cell_type": "code",
   "execution_count": 9,
   "id": "ed466f55",
   "metadata": {
    "id": "ed466f55"
   },
   "outputs": [],
   "source": [
    "# 한글 세팅\n",
    "\n",
    "plt.rc(\"font\", family = \"Malgun Gothic\")\n",
    "sns.set(font=\"Malgun Gothic\",\n",
    "rc={\"axes.unicode_minus\":False}, style='white')"
   ]
  },
  {
   "cell_type": "code",
   "execution_count": 10,
   "id": "7964dd43-8e25-4f87-8e88-6b3152783780",
   "metadata": {
    "id": "7964dd43-8e25-4f87-8e88-6b3152783780"
   },
   "outputs": [],
   "source": [
    "# [문제 2] 데이터 불러오기\n",
    "# data 변수에 'customers_seg.csv' 파일을 불러오기\n",
    "data = pd.read_csv('customers_seg.csv')\n",
    "\n"
   ]
  },
  {
   "cell_type": "code",
   "execution_count": 11,
   "id": "mULwZWHxP_Wj",
   "metadata": {
    "id": "mULwZWHxP_Wj"
   },
   "outputs": [
    {
     "data": {
      "text/html": [
       "<div>\n",
       "<style scoped>\n",
       "    .dataframe tbody tr th:only-of-type {\n",
       "        vertical-align: middle;\n",
       "    }\n",
       "\n",
       "    .dataframe tbody tr th {\n",
       "        vertical-align: top;\n",
       "    }\n",
       "\n",
       "    .dataframe thead th {\n",
       "        text-align: right;\n",
       "    }\n",
       "</style>\n",
       "<table border=\"1\" class=\"dataframe\">\n",
       "  <thead>\n",
       "    <tr style=\"text-align: right;\">\n",
       "      <th></th>\n",
       "      <th>CID</th>\n",
       "      <th>AGE</th>\n",
       "      <th>등록(계/피)</th>\n",
       "      <th>고용상태</th>\n",
       "      <th>성별</th>\n",
       "      <th>Willingness to pay/Stay</th>\n",
       "      <th>갱신</th>\n",
       "      <th>상품타입</th>\n",
       "      <th>교육수준</th>\n",
       "      <th>소득</th>\n",
       "      <th>...</th>\n",
       "      <th>결혼여부</th>\n",
       "      <th>월 납입액</th>\n",
       "      <th>VOC</th>\n",
       "      <th>타 상품 보유 현황</th>\n",
       "      <th>온라인방문빈도</th>\n",
       "      <th>갱신인센티브</th>\n",
       "      <th>판매채널</th>\n",
       "      <th>총지불금액</th>\n",
       "      <th>자동차</th>\n",
       "      <th>거주지사이즈</th>\n",
       "    </tr>\n",
       "  </thead>\n",
       "  <tbody>\n",
       "    <tr>\n",
       "      <th>0</th>\n",
       "      <td>1</td>\n",
       "      <td>3</td>\n",
       "      <td>피보험자</td>\n",
       "      <td>무직</td>\n",
       "      <td>1</td>\n",
       "      <td>2.616381</td>\n",
       "      <td>0</td>\n",
       "      <td>기본</td>\n",
       "      <td>대학졸업</td>\n",
       "      <td>0</td>\n",
       "      <td>...</td>\n",
       "      <td>미혼</td>\n",
       "      <td>80</td>\n",
       "      <td>0</td>\n",
       "      <td>1</td>\n",
       "      <td>자주방문</td>\n",
       "      <td>없음</td>\n",
       "      <td>자사영업</td>\n",
       "      <td>631000</td>\n",
       "      <td>일반세단</td>\n",
       "      <td>소</td>\n",
       "    </tr>\n",
       "    <tr>\n",
       "      <th>1</th>\n",
       "      <td>2</td>\n",
       "      <td>1</td>\n",
       "      <td>계약자</td>\n",
       "      <td>고용</td>\n",
       "      <td>0</td>\n",
       "      <td>6.352530</td>\n",
       "      <td>0</td>\n",
       "      <td>기본</td>\n",
       "      <td>고졸이하</td>\n",
       "      <td>102887400</td>\n",
       "      <td>...</td>\n",
       "      <td>미혼</td>\n",
       "      <td>80</td>\n",
       "      <td>1</td>\n",
       "      <td>4이상</td>\n",
       "      <td>비방문</td>\n",
       "      <td>포인트</td>\n",
       "      <td>인터넷</td>\n",
       "      <td>54000</td>\n",
       "      <td>일반세단</td>\n",
       "      <td>중</td>\n",
       "    </tr>\n",
       "    <tr>\n",
       "      <th>2</th>\n",
       "      <td>3</td>\n",
       "      <td>2</td>\n",
       "      <td>계약자</td>\n",
       "      <td>휴직</td>\n",
       "      <td>0</td>\n",
       "      <td>4.974354</td>\n",
       "      <td>0</td>\n",
       "      <td>기본</td>\n",
       "      <td>대학졸업</td>\n",
       "      <td>22159500</td>\n",
       "      <td>...</td>\n",
       "      <td>기혼</td>\n",
       "      <td>60</td>\n",
       "      <td>0</td>\n",
       "      <td>4이상</td>\n",
       "      <td>비방문</td>\n",
       "      <td>할인</td>\n",
       "      <td>자사영업</td>\n",
       "      <td>362000</td>\n",
       "      <td>일반세단</td>\n",
       "      <td>중</td>\n",
       "    </tr>\n",
       "    <tr>\n",
       "      <th>3</th>\n",
       "      <td>4</td>\n",
       "      <td>5</td>\n",
       "      <td>계약자</td>\n",
       "      <td>고용</td>\n",
       "      <td>1</td>\n",
       "      <td>13.480284</td>\n",
       "      <td>0</td>\n",
       "      <td>고급</td>\n",
       "      <td>고졸이하</td>\n",
       "      <td>51562500</td>\n",
       "      <td>...</td>\n",
       "      <td>기혼</td>\n",
       "      <td>110</td>\n",
       "      <td>0</td>\n",
       "      <td>2</td>\n",
       "      <td>비방문</td>\n",
       "      <td>할인</td>\n",
       "      <td>자사영업</td>\n",
       "      <td>1264000</td>\n",
       "      <td>컴팩트카</td>\n",
       "      <td>대</td>\n",
       "    </tr>\n",
       "    <tr>\n",
       "      <th>4</th>\n",
       "      <td>5</td>\n",
       "      <td>4</td>\n",
       "      <td>계약자</td>\n",
       "      <td>고용</td>\n",
       "      <td>0</td>\n",
       "      <td>9.776436</td>\n",
       "      <td>0</td>\n",
       "      <td>기본</td>\n",
       "      <td>석사</td>\n",
       "      <td>26820200</td>\n",
       "      <td>...</td>\n",
       "      <td>기혼</td>\n",
       "      <td>120</td>\n",
       "      <td>0</td>\n",
       "      <td>3</td>\n",
       "      <td>비방문</td>\n",
       "      <td>없음</td>\n",
       "      <td>대리점</td>\n",
       "      <td>947000</td>\n",
       "      <td>SUV</td>\n",
       "      <td>중</td>\n",
       "    </tr>\n",
       "  </tbody>\n",
       "</table>\n",
       "<p>5 rows × 21 columns</p>\n",
       "</div>"
      ],
      "text/plain": [
       "   CID  AGE 등록(계/피) 고용상태  성별  Willingness to pay/Stay  갱신 상품타입  교육수준  \\\n",
       "0    1    3    피보험자   무직   1                 2.616381   0   기본  대학졸업   \n",
       "1    2    1     계약자   고용   0                 6.352530   0   기본  고졸이하   \n",
       "2    3    2     계약자   휴직   0                 4.974354   0   기본  대학졸업   \n",
       "3    4    5     계약자   고용   1                13.480284   0   고급  고졸이하   \n",
       "4    5    4     계약자   고용   0                 9.776436   0   기본    석사   \n",
       "\n",
       "          소득  ... 결혼여부 월 납입액  VOC  타 상품 보유 현황 온라인방문빈도 갱신인센티브  판매채널    총지불금액  \\\n",
       "0          0  ...   미혼    80    0           1    자주방문     없음  자사영업   631000   \n",
       "1  102887400  ...   미혼    80    1         4이상     비방문    포인트   인터넷    54000   \n",
       "2   22159500  ...   기혼    60    0         4이상     비방문     할인  자사영업   362000   \n",
       "3   51562500  ...   기혼   110    0           2     비방문     할인  자사영업  1264000   \n",
       "4   26820200  ...   기혼   120    0           3     비방문     없음   대리점   947000   \n",
       "\n",
       "    자동차 거주지사이즈  \n",
       "0  일반세단      소  \n",
       "1  일반세단      중  \n",
       "2  일반세단      중  \n",
       "3  컴팩트카      대  \n",
       "4   SUV      중  \n",
       "\n",
       "[5 rows x 21 columns]"
      ]
     },
     "execution_count": 11,
     "metadata": {},
     "output_type": "execute_result"
    }
   ],
   "source": [
    "# [문제 3] 데이터 상위 5개 조회\n",
    "data.head()\n"
   ]
  },
  {
   "cell_type": "markdown",
   "id": "b5431b27-49c9-497f-8bcc-db5d0b61989e",
   "metadata": {
    "id": "b5431b27-49c9-497f-8bcc-db5d0b61989e"
   },
   "source": [
    "## **(2) 활용할 변수 선정하기**"
   ]
  },
  {
   "cell_type": "code",
   "execution_count": 13,
   "id": "f6d45026-eba8-4563-9383-a7774e381db6",
   "metadata": {
    "id": "f6d45026-eba8-4563-9383-a7774e381db6"
   },
   "outputs": [
    {
     "data": {
      "text/plain": [
       "Index(['CID', 'AGE', '등록(계/피)', '고용상태', '성별', 'Willingness to pay/Stay', '갱신',\n",
       "       '상품타입', '교육수준', '소득', '지역', '결혼여부', '월 납입액', 'VOC', '타 상품 보유 현황',\n",
       "       '온라인방문빈도', '갱신인센티브', '판매채널', '총지불금액', '자동차', '거주지사이즈'],\n",
       "      dtype='object')"
      ]
     },
     "execution_count": 13,
     "metadata": {},
     "output_type": "execute_result"
    }
   ],
   "source": [
    "# [문제 4] 데이터 셋의 모든 컬럼명(변수명)을 확인해보자.(columns로 확인)\n",
    "\n",
    "data.columns"
   ]
  },
  {
   "cell_type": "code",
   "execution_count": 14,
   "id": "c32b7bd3-9a6a-4ee3-8893-3189e3b3ea7f",
   "metadata": {
    "id": "c32b7bd3-9a6a-4ee3-8893-3189e3b3ea7f"
   },
   "outputs": [
    {
     "data": {
      "text/html": [
       "<div>\n",
       "<style scoped>\n",
       "    .dataframe tbody tr th:only-of-type {\n",
       "        vertical-align: middle;\n",
       "    }\n",
       "\n",
       "    .dataframe tbody tr th {\n",
       "        vertical-align: top;\n",
       "    }\n",
       "\n",
       "    .dataframe thead th {\n",
       "        text-align: right;\n",
       "    }\n",
       "</style>\n",
       "<table border=\"1\" class=\"dataframe\">\n",
       "  <thead>\n",
       "    <tr style=\"text-align: right;\">\n",
       "      <th></th>\n",
       "      <th>AGE</th>\n",
       "      <th>고용상태</th>\n",
       "      <th>교육수준</th>\n",
       "      <th>상품타입</th>\n",
       "      <th>거주지사이즈</th>\n",
       "      <th>자동차</th>\n",
       "      <th>Willingness to pay/Stay</th>\n",
       "      <th>소득</th>\n",
       "      <th>월 납입액</th>\n",
       "      <th>타 상품 보유 현황</th>\n",
       "      <th>총지불금액</th>\n",
       "    </tr>\n",
       "  </thead>\n",
       "  <tbody>\n",
       "    <tr>\n",
       "      <th>0</th>\n",
       "      <td>3</td>\n",
       "      <td>무직</td>\n",
       "      <td>대학졸업</td>\n",
       "      <td>기본</td>\n",
       "      <td>소</td>\n",
       "      <td>일반세단</td>\n",
       "      <td>2.616381</td>\n",
       "      <td>0</td>\n",
       "      <td>80</td>\n",
       "      <td>1</td>\n",
       "      <td>631000</td>\n",
       "    </tr>\n",
       "    <tr>\n",
       "      <th>1</th>\n",
       "      <td>1</td>\n",
       "      <td>고용</td>\n",
       "      <td>고졸이하</td>\n",
       "      <td>기본</td>\n",
       "      <td>중</td>\n",
       "      <td>일반세단</td>\n",
       "      <td>6.352530</td>\n",
       "      <td>102887400</td>\n",
       "      <td>80</td>\n",
       "      <td>4이상</td>\n",
       "      <td>54000</td>\n",
       "    </tr>\n",
       "    <tr>\n",
       "      <th>2</th>\n",
       "      <td>2</td>\n",
       "      <td>휴직</td>\n",
       "      <td>대학졸업</td>\n",
       "      <td>기본</td>\n",
       "      <td>중</td>\n",
       "      <td>일반세단</td>\n",
       "      <td>4.974354</td>\n",
       "      <td>22159500</td>\n",
       "      <td>60</td>\n",
       "      <td>4이상</td>\n",
       "      <td>362000</td>\n",
       "    </tr>\n",
       "    <tr>\n",
       "      <th>3</th>\n",
       "      <td>5</td>\n",
       "      <td>고용</td>\n",
       "      <td>고졸이하</td>\n",
       "      <td>고급</td>\n",
       "      <td>대</td>\n",
       "      <td>컴팩트카</td>\n",
       "      <td>13.480284</td>\n",
       "      <td>51562500</td>\n",
       "      <td>110</td>\n",
       "      <td>2</td>\n",
       "      <td>1264000</td>\n",
       "    </tr>\n",
       "    <tr>\n",
       "      <th>4</th>\n",
       "      <td>4</td>\n",
       "      <td>고용</td>\n",
       "      <td>석사</td>\n",
       "      <td>기본</td>\n",
       "      <td>중</td>\n",
       "      <td>SUV</td>\n",
       "      <td>9.776436</td>\n",
       "      <td>26820200</td>\n",
       "      <td>120</td>\n",
       "      <td>3</td>\n",
       "      <td>947000</td>\n",
       "    </tr>\n",
       "  </tbody>\n",
       "</table>\n",
       "</div>"
      ],
      "text/plain": [
       "   AGE 고용상태  교육수준 상품타입 거주지사이즈   자동차  Willingness to pay/Stay         소득  \\\n",
       "0    3   무직  대학졸업   기본      소  일반세단                 2.616381          0   \n",
       "1    1   고용  고졸이하   기본      중  일반세단                 6.352530  102887400   \n",
       "2    2   휴직  대학졸업   기본      중  일반세단                 4.974354   22159500   \n",
       "3    5   고용  고졸이하   고급      대  컴팩트카                13.480284   51562500   \n",
       "4    4   고용    석사   기본      중   SUV                 9.776436   26820200   \n",
       "\n",
       "   월 납입액 타 상품 보유 현황    총지불금액  \n",
       "0     80          1   631000  \n",
       "1     80        4이상    54000  \n",
       "2     60        4이상   362000  \n",
       "3    110          2  1264000  \n",
       "4    120          3   947000  "
      ]
     },
     "execution_count": 14,
     "metadata": {},
     "output_type": "execute_result"
    }
   ],
   "source": [
    "# [문제 5] mission 1에서 선정한 11개의 변수만 가지고 있는 데이터 프레임 생성하기\n",
    "\n",
    "# 1. data를 data_choice 변수에 copy 해놓기\n",
    "data_choice = data.copy()\n",
    "\n",
    "\n",
    "# 2. col 에 선정한 11개 변수를 리스트로 할당해보자.\n",
    "#[참고] 11개 변수: 'AGE', '고용상태', 'Willingness to pay/Stay', '상품타입',\n",
    "# '교육수준', '소득', '월 납입액','타 상품 보유 현황', '총지불금액', '거주지사이즈','자동차'\n",
    "columns = ['AGE','고용상태','교육수준','상품타입','거주지사이즈','자동차','Willingness to pay/Stay','소득','월 납입액','타 상품 보유 현황','총지불금액']\n",
    "# 3.data_choice 변수에 col 할당 후 data_choice 데이터를 확인해보자.\n",
    "\n",
    "data_choice = data_choice[columns]\n",
    "data_choice.head()\n"
   ]
  },
  {
   "cell_type": "markdown",
   "id": "302aa262-0b5e-4653-a3fe-37ae26717f28",
   "metadata": {
    "id": "302aa262-0b5e-4653-a3fe-37ae26717f28"
   },
   "source": [
    "## **(3) 범주 인코딩**"
   ]
  },
  {
   "cell_type": "markdown",
   "id": "67977182-b105-4829-8a03-6cd1856a36fe",
   "metadata": {
    "id": "67977182-b105-4829-8a03-6cd1856a36fe"
   },
   "source": [
    "**[명목형(텍스트) 컬럼 처리하기]**\n",
    "   * 순서의 의미가 없는 컬럼은 인코딩 시 주의! 변수의 의미를 고려하여 처리가 필요하다.\n",
    "   * Mission 1에서 변수마다 탐색적 분석을 통해 의미를 찾아본 것을 활용해야한다.\n",
    "   * 우리는 1 또는 0으로 이산화(두개의 범주로 구분)를 해보려고 한다."
   ]
  },
  {
   "cell_type": "code",
   "execution_count": 17,
   "id": "44603684-768b-4966-9c37-08d9e52b0620",
   "metadata": {
    "id": "44603684-768b-4966-9c37-08d9e52b0620"
   },
   "outputs": [
    {
     "name": "stdout",
     "output_type": "stream",
     "text": [
      "<class 'pandas.core.frame.DataFrame'>\n",
      "RangeIndex: 12000 entries, 0 to 11999\n",
      "Data columns (total 11 columns):\n",
      " #   Column                   Non-Null Count  Dtype  \n",
      "---  ------                   --------------  -----  \n",
      " 0   AGE                      12000 non-null  int64  \n",
      " 1   고용상태                     12000 non-null  object \n",
      " 2   교육수준                     12000 non-null  object \n",
      " 3   상품타입                     12000 non-null  object \n",
      " 4   거주지사이즈                   12000 non-null  object \n",
      " 5   자동차                      12000 non-null  object \n",
      " 6   Willingness to pay/Stay  12000 non-null  float64\n",
      " 7   소득                       12000 non-null  int64  \n",
      " 8   월 납입액                    12000 non-null  int64  \n",
      " 9   타 상품 보유 현황               12000 non-null  object \n",
      " 10  총지불금액                    12000 non-null  int64  \n",
      "dtypes: float64(1), int64(4), object(6)\n",
      "memory usage: 1.0+ MB\n"
     ]
    }
   ],
   "source": [
    "# [문제 6] 범주형 변수가 무엇이 있는지 확인해보자(info 활용)\n",
    "data_choice.info()\n"
   ]
  },
  {
   "cell_type": "markdown",
   "id": "2b12ab1f",
   "metadata": {
    "id": "2b12ab1f"
   },
   "source": [
    "**-> 범주형 변수는 '고용상태', '상품타입', '교육수준', '타 상품 보유 현황'. '거주지 사이즈','자동차'로 총 6개가 있다.**"
   ]
  },
  {
   "cell_type": "markdown",
   "id": "8ba0cb03",
   "metadata": {
    "id": "8ba0cb03"
   },
   "source": [
    "---------------------------"
   ]
  },
  {
   "cell_type": "markdown",
   "id": "2e02c06a",
   "metadata": {
    "id": "2e02c06a"
   },
   "source": [
    "**[Hint]**\n",
    "- **<b>'고용상태', '상품 타입', '교육수준','거주지 사이즈','자동차'</b>** 는 다중범주로 순서에 의미가 없어 변수의 의미를 고려해서  <font color=\"1E90FF\"><b>0과 1로 이산화로 범주 인코딩</font>\n",
    "- **'타 상품 보유 현황'** 의 경우 숫자로 되어있는 범주에 <font color=\"1E90FF\"><b>'4이상'의 범주의 '이상'이라는 문자열 제거</font>"
   ]
  },
  {
   "cell_type": "markdown",
   "id": "ca6c9260",
   "metadata": {
    "id": "ca6c9260"
   },
   "source": [
    "---------------"
   ]
  },
  {
   "cell_type": "markdown",
   "id": "6a2f4a5f-8523-448a-a7d3-08cc7191c5ef",
   "metadata": {
    "id": "6a2f4a5f-8523-448a-a7d3-08cc7191c5ef"
   },
   "source": [
    "### **1) 고용상태**\n",
    "<font color=\"1E90FF\"><b>★ 다중범주로 순서에 의미가 없기에 변수의 의미를 고려해서 인코딩 해보자.</font>\n",
    "\n",
    "* 1-> 직업을 가지고 있으면서 소득이 발생하는 범주\n",
    "* 0-> 직업이 없거나, 소득이 발생하지 않는 범주\n",
    "* 특이하게 false 값 도 존재 하기 때문에 확인 필요"
   ]
  },
  {
   "cell_type": "code",
   "execution_count": 23,
   "id": "d809628c-6212-4ffa-b4c8-2eca32f055ec",
   "metadata": {
    "id": "d809628c-6212-4ffa-b4c8-2eca32f055ec"
   },
   "outputs": [
    {
     "data": {
      "text/plain": [
       "고용상태\n",
       "고용       7518\n",
       "무직       3028\n",
       "휴직       1094\n",
       "FALSE     360\n",
       "Name: count, dtype: int64"
      ]
     },
     "execution_count": 23,
     "metadata": {},
     "output_type": "execute_result"
    }
   ],
   "source": [
    "# [문제 7] '고용상태' 범주 종류 확인(.unique() 혹은 .value_counts())\n",
    "data_choice['고용상태'].value_counts()"
   ]
  },
  {
   "cell_type": "code",
   "execution_count": 24,
   "id": "b4d2b6ef-a009-48bf-82fb-ee5f8948e351",
   "metadata": {
    "id": "b4d2b6ef-a009-48bf-82fb-ee5f8948e351"
   },
   "outputs": [],
   "source": [
    "# [같이 하기]'고용상태' 범주를 인코딩 해보기\n",
    "# np.where 을 이용해서 조건에 따른 값으로 변환하기\n",
    "# 고용상태가 '고용' 이면 1, 아니면 0\n",
    "\n",
    "data_choice['고용상태'] = np.where(data_choice['고용상태'] == '고용', 1, 0)"
   ]
  },
  {
   "cell_type": "code",
   "execution_count": 25,
   "id": "1d547be1-3b5e-4c4b-b1a6-b78ddb31b060",
   "metadata": {
    "id": "1d547be1-3b5e-4c4b-b1a6-b78ddb31b060"
   },
   "outputs": [
    {
     "data": {
      "text/html": [
       "<div>\n",
       "<style scoped>\n",
       "    .dataframe tbody tr th:only-of-type {\n",
       "        vertical-align: middle;\n",
       "    }\n",
       "\n",
       "    .dataframe tbody tr th {\n",
       "        vertical-align: top;\n",
       "    }\n",
       "\n",
       "    .dataframe thead th {\n",
       "        text-align: right;\n",
       "    }\n",
       "</style>\n",
       "<table border=\"1\" class=\"dataframe\">\n",
       "  <thead>\n",
       "    <tr style=\"text-align: right;\">\n",
       "      <th></th>\n",
       "      <th>AGE</th>\n",
       "      <th>고용상태</th>\n",
       "      <th>교육수준</th>\n",
       "      <th>상품타입</th>\n",
       "      <th>거주지사이즈</th>\n",
       "      <th>자동차</th>\n",
       "      <th>Willingness to pay/Stay</th>\n",
       "      <th>소득</th>\n",
       "      <th>월 납입액</th>\n",
       "      <th>타 상품 보유 현황</th>\n",
       "      <th>총지불금액</th>\n",
       "    </tr>\n",
       "  </thead>\n",
       "  <tbody>\n",
       "    <tr>\n",
       "      <th>0</th>\n",
       "      <td>3</td>\n",
       "      <td>0</td>\n",
       "      <td>대학졸업</td>\n",
       "      <td>기본</td>\n",
       "      <td>소</td>\n",
       "      <td>일반세단</td>\n",
       "      <td>2.616381</td>\n",
       "      <td>0</td>\n",
       "      <td>80</td>\n",
       "      <td>1</td>\n",
       "      <td>631000</td>\n",
       "    </tr>\n",
       "    <tr>\n",
       "      <th>1</th>\n",
       "      <td>1</td>\n",
       "      <td>1</td>\n",
       "      <td>고졸이하</td>\n",
       "      <td>기본</td>\n",
       "      <td>중</td>\n",
       "      <td>일반세단</td>\n",
       "      <td>6.352530</td>\n",
       "      <td>102887400</td>\n",
       "      <td>80</td>\n",
       "      <td>4이상</td>\n",
       "      <td>54000</td>\n",
       "    </tr>\n",
       "    <tr>\n",
       "      <th>2</th>\n",
       "      <td>2</td>\n",
       "      <td>0</td>\n",
       "      <td>대학졸업</td>\n",
       "      <td>기본</td>\n",
       "      <td>중</td>\n",
       "      <td>일반세단</td>\n",
       "      <td>4.974354</td>\n",
       "      <td>22159500</td>\n",
       "      <td>60</td>\n",
       "      <td>4이상</td>\n",
       "      <td>362000</td>\n",
       "    </tr>\n",
       "    <tr>\n",
       "      <th>3</th>\n",
       "      <td>5</td>\n",
       "      <td>1</td>\n",
       "      <td>고졸이하</td>\n",
       "      <td>고급</td>\n",
       "      <td>대</td>\n",
       "      <td>컴팩트카</td>\n",
       "      <td>13.480284</td>\n",
       "      <td>51562500</td>\n",
       "      <td>110</td>\n",
       "      <td>2</td>\n",
       "      <td>1264000</td>\n",
       "    </tr>\n",
       "    <tr>\n",
       "      <th>4</th>\n",
       "      <td>4</td>\n",
       "      <td>1</td>\n",
       "      <td>석사</td>\n",
       "      <td>기본</td>\n",
       "      <td>중</td>\n",
       "      <td>SUV</td>\n",
       "      <td>9.776436</td>\n",
       "      <td>26820200</td>\n",
       "      <td>120</td>\n",
       "      <td>3</td>\n",
       "      <td>947000</td>\n",
       "    </tr>\n",
       "  </tbody>\n",
       "</table>\n",
       "</div>"
      ],
      "text/plain": [
       "   AGE  고용상태  교육수준 상품타입 거주지사이즈   자동차  Willingness to pay/Stay         소득  \\\n",
       "0    3     0  대학졸업   기본      소  일반세단                 2.616381          0   \n",
       "1    1     1  고졸이하   기본      중  일반세단                 6.352530  102887400   \n",
       "2    2     0  대학졸업   기본      중  일반세단                 4.974354   22159500   \n",
       "3    5     1  고졸이하   고급      대  컴팩트카                13.480284   51562500   \n",
       "4    4     1    석사   기본      중   SUV                 9.776436   26820200   \n",
       "\n",
       "   월 납입액 타 상품 보유 현황    총지불금액  \n",
       "0     80          1   631000  \n",
       "1     80        4이상    54000  \n",
       "2     60        4이상   362000  \n",
       "3    110          2  1264000  \n",
       "4    120          3   947000  "
      ]
     },
     "execution_count": 25,
     "metadata": {},
     "output_type": "execute_result"
    }
   ],
   "source": [
    "#[같이 하기] '고용상태'가 변환된 것을 확인해보기\n",
    "\n",
    "data_choice.head()"
   ]
  },
  {
   "cell_type": "markdown",
   "id": "cf48fca4",
   "metadata": {
    "id": "cf48fca4"
   },
   "source": [
    "<b> why? Labelencoding 과 one-hot-encoding을 안하는가?\n",
    "   > Label encoding을 하면 범주 수에 따라서 0~n 까지 나눠지기 때문에 이진의 의미를 할 수가 없다. (ex.고용상태 기준 --> false 0, 고용1, 무직2, 휴직3)\n",
    "    <br> 연속적수치값으로 변환하는데 수치적 의미가 차이가 없고 3개 이상 범주는 주의해서 사용해야한다.\n",
    "    <br> one-hot-encoding은 범주형 변수를 k개 변수로 변환하는데 범주수 만큼 열이 확대가 되어서...컨트롤하고 분석하기가 힘들다\n",
    "    <br>가끔 이런 단순한 방법이 더 좋을 때도 있다( 간단하게 분석하는 경우...)"
   ]
  },
  {
   "cell_type": "markdown",
   "id": "a4646c29-bd0f-409e-9ccd-ac13d8c68e93",
   "metadata": {
    "id": "a4646c29-bd0f-409e-9ccd-ac13d8c68e93"
   },
   "source": [
    "### **2) 상품타입**\n",
    "<font color=\"1E90FF\"><b>★ 다중범주로 순서에 의미가 없기에 변수의 의미를 고려해서 인코딩 해보자.</font>\n",
    "\n",
    "* 1-> 약 9%를 가지고 있는 고급형\n",
    "* 0-> 약 91%를 가지고 있는 기본, 중급형\n",
    "* 고급형을 가지고 있는 집단과, 그 외 집단으로 분류"
   ]
  },
  {
   "cell_type": "code",
   "execution_count": 28,
   "id": "6c50c3f9-deb9-42e3-992c-a5039d2eede8",
   "metadata": {
    "id": "6c50c3f9-deb9-42e3-992c-a5039d2eede8"
   },
   "outputs": [
    {
     "data": {
      "text/plain": [
       "상품타입\n",
       "기본    7278\n",
       "중급    3647\n",
       "고급    1075\n",
       "Name: count, dtype: int64"
      ]
     },
     "execution_count": 28,
     "metadata": {},
     "output_type": "execute_result"
    }
   ],
   "source": [
    "# [문제 8] '상품타입' 범주와 비율 확인\n",
    "data_choice['상품타입'].value_counts()"
   ]
  },
  {
   "cell_type": "code",
   "execution_count": 29,
   "id": "ccb27156-48ec-4de8-bb50-2f16560b33c8",
   "metadata": {
    "id": "ccb27156-48ec-4de8-bb50-2f16560b33c8"
   },
   "outputs": [],
   "source": [
    "# [문제 9]'상품타입'범주를 인코딩 해보기\n",
    "# '상품타입'이 '고급' 1, 아니면 0\n",
    "\n",
    "data_choice['상품타입'] = np.where(data_choice['상품타입'] == '고급', 1, 0)"
   ]
  },
  {
   "cell_type": "code",
   "execution_count": 30,
   "id": "8bba0be5-2178-4f02-a052-7f13af4c15ef",
   "metadata": {
    "id": "8bba0be5-2178-4f02-a052-7f13af4c15ef"
   },
   "outputs": [
    {
     "data": {
      "text/html": [
       "<div>\n",
       "<style scoped>\n",
       "    .dataframe tbody tr th:only-of-type {\n",
       "        vertical-align: middle;\n",
       "    }\n",
       "\n",
       "    .dataframe tbody tr th {\n",
       "        vertical-align: top;\n",
       "    }\n",
       "\n",
       "    .dataframe thead th {\n",
       "        text-align: right;\n",
       "    }\n",
       "</style>\n",
       "<table border=\"1\" class=\"dataframe\">\n",
       "  <thead>\n",
       "    <tr style=\"text-align: right;\">\n",
       "      <th></th>\n",
       "      <th>AGE</th>\n",
       "      <th>고용상태</th>\n",
       "      <th>교육수준</th>\n",
       "      <th>상품타입</th>\n",
       "      <th>거주지사이즈</th>\n",
       "      <th>자동차</th>\n",
       "      <th>Willingness to pay/Stay</th>\n",
       "      <th>소득</th>\n",
       "      <th>월 납입액</th>\n",
       "      <th>타 상품 보유 현황</th>\n",
       "      <th>총지불금액</th>\n",
       "    </tr>\n",
       "  </thead>\n",
       "  <tbody>\n",
       "    <tr>\n",
       "      <th>0</th>\n",
       "      <td>3</td>\n",
       "      <td>0</td>\n",
       "      <td>대학졸업</td>\n",
       "      <td>0</td>\n",
       "      <td>소</td>\n",
       "      <td>일반세단</td>\n",
       "      <td>2.616381</td>\n",
       "      <td>0</td>\n",
       "      <td>80</td>\n",
       "      <td>1</td>\n",
       "      <td>631000</td>\n",
       "    </tr>\n",
       "    <tr>\n",
       "      <th>1</th>\n",
       "      <td>1</td>\n",
       "      <td>1</td>\n",
       "      <td>고졸이하</td>\n",
       "      <td>0</td>\n",
       "      <td>중</td>\n",
       "      <td>일반세단</td>\n",
       "      <td>6.352530</td>\n",
       "      <td>102887400</td>\n",
       "      <td>80</td>\n",
       "      <td>4이상</td>\n",
       "      <td>54000</td>\n",
       "    </tr>\n",
       "    <tr>\n",
       "      <th>2</th>\n",
       "      <td>2</td>\n",
       "      <td>0</td>\n",
       "      <td>대학졸업</td>\n",
       "      <td>0</td>\n",
       "      <td>중</td>\n",
       "      <td>일반세단</td>\n",
       "      <td>4.974354</td>\n",
       "      <td>22159500</td>\n",
       "      <td>60</td>\n",
       "      <td>4이상</td>\n",
       "      <td>362000</td>\n",
       "    </tr>\n",
       "    <tr>\n",
       "      <th>3</th>\n",
       "      <td>5</td>\n",
       "      <td>1</td>\n",
       "      <td>고졸이하</td>\n",
       "      <td>1</td>\n",
       "      <td>대</td>\n",
       "      <td>컴팩트카</td>\n",
       "      <td>13.480284</td>\n",
       "      <td>51562500</td>\n",
       "      <td>110</td>\n",
       "      <td>2</td>\n",
       "      <td>1264000</td>\n",
       "    </tr>\n",
       "    <tr>\n",
       "      <th>4</th>\n",
       "      <td>4</td>\n",
       "      <td>1</td>\n",
       "      <td>석사</td>\n",
       "      <td>0</td>\n",
       "      <td>중</td>\n",
       "      <td>SUV</td>\n",
       "      <td>9.776436</td>\n",
       "      <td>26820200</td>\n",
       "      <td>120</td>\n",
       "      <td>3</td>\n",
       "      <td>947000</td>\n",
       "    </tr>\n",
       "  </tbody>\n",
       "</table>\n",
       "</div>"
      ],
      "text/plain": [
       "   AGE  고용상태  교육수준  상품타입 거주지사이즈   자동차  Willingness to pay/Stay         소득  \\\n",
       "0    3     0  대학졸업     0      소  일반세단                 2.616381          0   \n",
       "1    1     1  고졸이하     0      중  일반세단                 6.352530  102887400   \n",
       "2    2     0  대학졸업     0      중  일반세단                 4.974354   22159500   \n",
       "3    5     1  고졸이하     1      대  컴팩트카                13.480284   51562500   \n",
       "4    4     1    석사     0      중   SUV                 9.776436   26820200   \n",
       "\n",
       "   월 납입액 타 상품 보유 현황    총지불금액  \n",
       "0     80          1   631000  \n",
       "1     80        4이상    54000  \n",
       "2     60        4이상   362000  \n",
       "3    110          2  1264000  \n",
       "4    120          3   947000  "
      ]
     },
     "execution_count": 30,
     "metadata": {},
     "output_type": "execute_result"
    }
   ],
   "source": [
    "#[문제 10] '상품타입'이 변환된 것을 확인해보기\n",
    "data_choice.head()\n"
   ]
  },
  {
   "cell_type": "markdown",
   "id": "ab284f11-d180-4605-832f-c11529358488",
   "metadata": {
    "id": "ab284f11-d180-4605-832f-c11529358488"
   },
   "source": [
    "### **3) 교육수준**\n",
    "<font color=\"1E90FF\"><b>★ 다중범주로 순서에 의미가 없기에 변수의 의미를 고려해서 인코딩 해보자.</font>\n",
    "* 1-> 약 12%를 가지고 있는 석/박사\n",
    "* 0-> 약 88%의 비중을 가지고 있는 고졸이하, 대학졸업자\n",
    "* 교육수준이 높은 집단과, 그 외 집단으로 분류할 수 있을 것 같음"
   ]
  },
  {
   "cell_type": "code",
   "execution_count": 32,
   "id": "fce6f40f-0478-477b-8789-da2333dd9606",
   "metadata": {
    "id": "fce6f40f-0478-477b-8789-da2333dd9606"
   },
   "outputs": [
    {
     "data": {
      "text/plain": [
       "교육수준\n",
       "대학졸업    7105\n",
       "고졸이하    3477\n",
       "석사       979\n",
       "박사       439\n",
       "Name: count, dtype: int64"
      ]
     },
     "execution_count": 32,
     "metadata": {},
     "output_type": "execute_result"
    }
   ],
   "source": [
    "#[문제 11] '교육수준' 범주와 비율 확인\n",
    "target = '교육수준' \n",
    "data_choice[target].value_counts()\n"
   ]
  },
  {
   "cell_type": "code",
   "execution_count": 33,
   "id": "74940c0d-6768-4929-b0c0-3616579b58df",
   "metadata": {
    "id": "74940c0d-6768-4929-b0c0-3616579b58df"
   },
   "outputs": [],
   "source": [
    "#[문제 12]'교육수준' 범주를 인코딩 해보기\n",
    "# '교육수준'이 '석사' 혹은 '박사'이면 1, 아니면 0\n",
    "\n",
    "data_choice[target] = np.where( data_choice[target].isin(['석사','박사']), 1, 0)"
   ]
  },
  {
   "cell_type": "code",
   "execution_count": 34,
   "id": "93043662-bffb-4f68-84a9-ae970e23afd5",
   "metadata": {
    "id": "93043662-bffb-4f68-84a9-ae970e23afd5"
   },
   "outputs": [
    {
     "data": {
      "text/plain": [
       "교육수준\n",
       "0    10582\n",
       "1     1418\n",
       "Name: count, dtype: int64"
      ]
     },
     "execution_count": 34,
     "metadata": {},
     "output_type": "execute_result"
    }
   ],
   "source": [
    "#[문제 13] '교육수준'이 변환된 것을 확인해보기\n",
    "\n",
    "data_choice[target].value_counts()"
   ]
  },
  {
   "cell_type": "markdown",
   "id": "f211c197-64ad-46ac-86ac-77e7ac6c6cfc",
   "metadata": {
    "id": "f211c197-64ad-46ac-86ac-77e7ac6c6cfc"
   },
   "source": [
    "### **4) 타 상품 보유 현황**\n",
    "<font color=\"1E90FF\"><b>★ 범주의 1-4까지가 의미를 가지는 범주를 인코딩 해보자.</font>\n",
    "* 4 이상의 타상품 보유하는 경우 유의미한 데이터로 가질 수 있어 순서의 의미를 살려서 인코딩 진행"
   ]
  },
  {
   "cell_type": "code",
   "execution_count": 36,
   "id": "b15ffb81-e1c3-4862-b924-bb32dcb1975e",
   "metadata": {
    "id": "b15ffb81-e1c3-4862-b924-bb32dcb1975e"
   },
   "outputs": [
    {
     "data": {
      "text/plain": [
       "타 상품 보유 현황\n",
       "1      4283\n",
       "4이상    3155\n",
       "2      3017\n",
       "3      1545\n",
       "Name: count, dtype: int64"
      ]
     },
     "execution_count": 36,
     "metadata": {},
     "output_type": "execute_result"
    }
   ],
   "source": [
    "#[문제 14] '타 상품 보유 현황' 범주와 비율 확인\n",
    "\n",
    "target = '타 상품 보유 현황'\n",
    "data_choice[target].value_counts()"
   ]
  },
  {
   "cell_type": "code",
   "execution_count": 37,
   "id": "a177cb08-72ef-4c3b-b31a-1e68d4fb36c1",
   "metadata": {
    "id": "a177cb08-72ef-4c3b-b31a-1e68d4fb36c1"
   },
   "outputs": [],
   "source": [
    "# [문제 15] 문자열 제거 하기\n",
    "# '타 상품 보유 현황'은 숫자형 이지만, 4이상의 '이상'이라는 문자열을 제거해서 정리가 필요\n",
    "# np.where를 이용해서 '이상'을 제거해 봅시다.\n",
    "data_choice[target] = np.where(data_choice[target].str.contains('이상'),  # '이상' 이라는 문자를 포함하면\n",
    "                               data_choice[target].str.replace('이상', ''),  # 제거 \n",
    "                               data_choice[target])\n",
    "data_choice[target] = data_choice[target].astype(int)\n"
   ]
  },
  {
   "cell_type": "code",
   "execution_count": 38,
   "id": "87edc85d-4779-452a-b473-c653fa88e72c",
   "metadata": {
    "id": "87edc85d-4779-452a-b473-c653fa88e72c"
   },
   "outputs": [
    {
     "data": {
      "text/plain": [
       "타 상품 보유 현황\n",
       "1    4283\n",
       "4    3155\n",
       "2    3017\n",
       "3    1545\n",
       "Name: count, dtype: int64"
      ]
     },
     "execution_count": 38,
     "metadata": {},
     "output_type": "execute_result"
    }
   ],
   "source": [
    "#[문제 16]'타 상품 보유 현황'이 변환된 것을 확인해보기\n",
    "data_choice[target].value_counts()\n"
   ]
  },
  {
   "cell_type": "markdown",
   "id": "1bd585c8-5e61-45d0-8170-2ba5be1976e2",
   "metadata": {
    "id": "1bd585c8-5e61-45d0-8170-2ba5be1976e2"
   },
   "source": [
    "### **5) 거주지 사이즈**\n",
    "<font color=\"1E90FF\"><b>★ 다중범주로 순서에 의미가 없기에 변수의 의미를 고려해서 인코딩 해보자.</font>\n",
    "* 1-> 약 10%를 가지고 있는 거주지 대\n",
    "* 0-> 약 90%를 가지고 있는 중,소\n",
    "* 거주지의 사이즈가 대로 가지고 있는 집단과, 그 외 집단으로 분류할 수 있을 것 같음"
   ]
  },
  {
   "cell_type": "code",
   "execution_count": 40,
   "id": "005f3ce6-127a-48ba-8eea-31f52af0eafe",
   "metadata": {
    "id": "005f3ce6-127a-48ba-8eea-31f52af0eafe"
   },
   "outputs": [
    {
     "data": {
      "text/plain": [
       "거주지사이즈\n",
       "중    8423\n",
       "소    2332\n",
       "대    1245\n",
       "Name: count, dtype: int64"
      ]
     },
     "execution_count": 40,
     "metadata": {},
     "output_type": "execute_result"
    }
   ],
   "source": [
    "#[문제 17] '거주지사이즈' 범주와 비율 확인\n",
    "\n",
    "target = '거주지사이즈'\n",
    "data_choice[target].value_counts()"
   ]
  },
  {
   "cell_type": "code",
   "execution_count": 41,
   "id": "da87fc82-2a1a-4fea-9c4e-6b269a5681a0",
   "metadata": {
    "id": "da87fc82-2a1a-4fea-9c4e-6b269a5681a0"
   },
   "outputs": [],
   "source": [
    "#[문제 18]'거주지사이즈' 범주를 인코딩 해보기\n",
    "# '대'를 1, 나머지를 0\n",
    "\n",
    "data_choice[target] = np.where( data_choice[target] == '대', 1, 0)"
   ]
  },
  {
   "cell_type": "code",
   "execution_count": 42,
   "id": "bd1e1c37-4e53-45aa-8e75-ad5f6ab03b04",
   "metadata": {
    "id": "bd1e1c37-4e53-45aa-8e75-ad5f6ab03b04"
   },
   "outputs": [
    {
     "data": {
      "text/plain": [
       "거주지사이즈\n",
       "0    10755\n",
       "1     1245\n",
       "Name: count, dtype: int64"
      ]
     },
     "execution_count": 42,
     "metadata": {},
     "output_type": "execute_result"
    }
   ],
   "source": [
    "#[문제 19]'거주지사이즈'가 변환된 것을 확인해보기\n",
    "data_choice[target].value_counts()\n"
   ]
  },
  {
   "cell_type": "markdown",
   "id": "8f7be545-2de1-4395-8ded-4ed41899e742",
   "metadata": {
    "id": "8f7be545-2de1-4395-8ded-4ed41899e742"
   },
   "source": [
    "### **6) 자동차**\n",
    "<font color=\"1E90FF\"><b>★ 다중범주로 순서에 의미가 없기에 변수의 의미를 고려해서 인코딩 해보자.</font>\n",
    "* 1-> 약 9%를 가지고 있는 고급차/스포츠카\n",
    "* 0-> 약 91%를 가지고 있는 그외(일반세단, 컴팩트카,suv)\n",
    "* 고급형(고급차.스포츠카)와 그 외의 집단으로 분류할 수 있을 것 같음(소득에 연관)"
   ]
  },
  {
   "cell_type": "code",
   "execution_count": 44,
   "id": "e8aa69ae-e182-4f8b-98a1-a5194b1e84c0",
   "metadata": {
    "id": "e8aa69ae-e182-4f8b-98a1-a5194b1e84c0"
   },
   "outputs": [
    {
     "data": {
      "text/plain": [
       "자동차\n",
       "일반세단    6074\n",
       "컴팩트카    2484\n",
       "SUV     2336\n",
       "스포츠카     652\n",
       "고급차      454\n",
       "Name: count, dtype: int64"
      ]
     },
     "execution_count": 44,
     "metadata": {},
     "output_type": "execute_result"
    }
   ],
   "source": [
    "#[문제 20] '자동차' 범주와 비율 확인\n",
    "\n",
    "target = '자동차'\n",
    "data_choice[target].value_counts()"
   ]
  },
  {
   "cell_type": "code",
   "execution_count": 45,
   "id": "b32e1233-1750-4fa1-a107-06d217590032",
   "metadata": {
    "id": "b32e1233-1750-4fa1-a107-06d217590032"
   },
   "outputs": [],
   "source": [
    "#[문제 21]'자동차' 범주를 인코딩 해보기\n",
    "# 고급차,스포츠카를 1로. 나머지는 0\n",
    "\n",
    "data_choice[target] = np.where( data_choice[target].isin(['고급차','스포츠카']), 1, 0)"
   ]
  },
  {
   "cell_type": "code",
   "execution_count": 46,
   "id": "e342001e-cecb-4fa7-9474-baf0b718a86e",
   "metadata": {
    "id": "e342001e-cecb-4fa7-9474-baf0b718a86e"
   },
   "outputs": [
    {
     "data": {
      "text/plain": [
       "자동차\n",
       "0    10894\n",
       "1     1106\n",
       "Name: count, dtype: int64"
      ]
     },
     "execution_count": 46,
     "metadata": {},
     "output_type": "execute_result"
    }
   ],
   "source": [
    "#[문제 22] '자동차'가 변환된 것을 확인해보기\n",
    "data_choice[target].value_counts()\n"
   ]
  },
  {
   "cell_type": "markdown",
   "id": "795fcbad-3606-48dd-a890-51dea15b4b93",
   "metadata": {
    "id": "795fcbad-3606-48dd-a890-51dea15b4b93"
   },
   "source": [
    "<font color=\"1E90FF\"><b> 범주형(Object) -> 수치형으로 변경 완료!</span>"
   ]
  },
  {
   "cell_type": "markdown",
   "id": "0a66cd75-2845-4d06-ad41-e0eee31490a7",
   "metadata": {
    "id": "0a66cd75-2845-4d06-ad41-e0eee31490a7"
   },
   "source": [
    "# **2. 스케일링**\n",
    "* 컬럼별 수치의 단위가 다른 것을 확인 하였고, 컬럼별 범위를 조정하는 것이 필요한 상황이다.\n",
    "* 범위를 일원화 시키기 위해서는 스케일링이 필요로 하다.\n",
    "    * 종류는 'min-max scaling' 과 'standard scaling' 이 있는데 우리는 'standard scaling'을 통해서 변환 해보자."
   ]
  },
  {
   "cell_type": "markdown",
   "id": "6c8bfbc0",
   "metadata": {
    "id": "6c8bfbc0"
   },
   "source": [
    "우리는 describe를 통해 알 수 있었던 것이 컬럼별 수치의 단위가 다른 것을 확인 할 수 있었다. <br>(ex. 총지불금액은 원단위, 어느것은 소수점...)\n",
    "<br>\n",
    "해서 컬럼별 단위 변환이 필요하다. 즉, 스케일링이 필요하다!\n",
    "why..? 군집분석 알고리즘 적용을 위해서 필요하다.\n",
    "<br>해서 모든 데이터 포인트가 동일한 정도의 스케일(중요도)를 반영 시켜야 한다.\n"
   ]
  },
  {
   "cell_type": "code",
   "execution_count": 50,
   "id": "8c0e7c07-6c57-409e-8eb0-db7e94ec170d",
   "metadata": {
    "id": "8c0e7c07-6c57-409e-8eb0-db7e94ec170d"
   },
   "outputs": [],
   "source": [
    "#[문제 40] standard-scaling을 해보자.\n",
    "\n",
    "# 1. standard-scaler import!(sklearn의 processing 활용)\n",
    "from sklearn.preprocessing import StandardScaler\n",
    "\n",
    "\n",
    "# 2. scaler라는 변수에 StandardScaler 넣어주기\n",
    "scaler = StandardScaler()\n",
    "# \n",
    "\n",
    "# 스케일링이 필요한 변수 \n",
    "# (주의) 범주의미를 갖지만 0 1 2 3 4   순서의 의미를 갖는 변수들은 스케일링을 해줘야 한다 \n",
    "#scale_cols = ['Willingness to pay/Stay','소득','월 납입액' ,'총지불금액']\n",
    "columns = ['AGE','고용상태','교육수준','상품타입','거주지사이즈','자동차','Willingness to pay/Stay','소득','월 납입액','타 상품 보유 현황','총지불금액']\n",
    "\n",
    "# 3. 'data_choice'을  fit_transform 하여 'data_sc'로 저장\n",
    "# 단, 데이터프레임을 스케일링하면, 결과가 넘파이 어레이로 나온다.\n",
    "# 그래서 데이터프레임으로 다시 변환할 필요가 있다.(이때 칼럼 이름 필요)\n",
    "\n",
    "# scale_cols에 해당하는 변수들만 스케일링\n",
    "scaled_data = scaler.fit_transform(data_choice)\n",
    "\n",
    "# 스케일링된 데이터프레임을 scale_cols 컬럼명으로 생성\n",
    "scaled_df = pd.DataFrame(scaled_data, columns=columns)\n",
    "\n",
    "# 스케일링된 컬럼들을 data_choice의 나머지 컬럼들과 병합\n",
    "data_sc = data_choice.copy()  # 원본 데이터프레임 복사\n",
    "data_sc = scaled_df  # 스케일링된 컬럼만 교체\n"
   ]
  },
  {
   "cell_type": "code",
   "execution_count": 51,
   "id": "9dc0ddc1-2e26-4145-b44a-cbb1388354c5",
   "metadata": {
    "id": "9dc0ddc1-2e26-4145-b44a-cbb1388354c5"
   },
   "outputs": [
    {
     "data": {
      "text/html": [
       "<div>\n",
       "<style scoped>\n",
       "    .dataframe tbody tr th:only-of-type {\n",
       "        vertical-align: middle;\n",
       "    }\n",
       "\n",
       "    .dataframe tbody tr th {\n",
       "        vertical-align: top;\n",
       "    }\n",
       "\n",
       "    .dataframe thead th {\n",
       "        text-align: right;\n",
       "    }\n",
       "</style>\n",
       "<table border=\"1\" class=\"dataframe\">\n",
       "  <thead>\n",
       "    <tr style=\"text-align: right;\">\n",
       "      <th></th>\n",
       "      <th>AGE</th>\n",
       "      <th>고용상태</th>\n",
       "      <th>교육수준</th>\n",
       "      <th>상품타입</th>\n",
       "      <th>거주지사이즈</th>\n",
       "      <th>자동차</th>\n",
       "      <th>Willingness to pay/Stay</th>\n",
       "      <th>소득</th>\n",
       "      <th>월 납입액</th>\n",
       "      <th>타 상품 보유 현황</th>\n",
       "      <th>총지불금액</th>\n",
       "    </tr>\n",
       "  </thead>\n",
       "  <tbody>\n",
       "    <tr>\n",
       "      <th>0</th>\n",
       "      <td>-0.070427</td>\n",
       "      <td>-1.295136</td>\n",
       "      <td>-0.366062</td>\n",
       "      <td>-0.313685</td>\n",
       "      <td>-0.340235</td>\n",
       "      <td>-0.318628</td>\n",
       "      <td>-0.810943</td>\n",
       "      <td>-1.242413</td>\n",
       "      <td>-0.472671</td>\n",
       "      <td>-1.078127</td>\n",
       "      <td>0.265939</td>\n",
       "    </tr>\n",
       "    <tr>\n",
       "      <th>1</th>\n",
       "      <td>-1.853401</td>\n",
       "      <td>0.772120</td>\n",
       "      <td>-0.366062</td>\n",
       "      <td>-0.313685</td>\n",
       "      <td>-0.340235</td>\n",
       "      <td>-0.318628</td>\n",
       "      <td>-0.325638</td>\n",
       "      <td>1.511484</td>\n",
       "      <td>-0.472671</td>\n",
       "      <td>1.414331</td>\n",
       "      <td>-1.342270</td>\n",
       "    </tr>\n",
       "    <tr>\n",
       "      <th>2</th>\n",
       "      <td>-0.961914</td>\n",
       "      <td>-1.295136</td>\n",
       "      <td>-0.366062</td>\n",
       "      <td>-0.313685</td>\n",
       "      <td>-0.340235</td>\n",
       "      <td>-0.318628</td>\n",
       "      <td>-0.504656</td>\n",
       "      <td>-0.649289</td>\n",
       "      <td>-0.943792</td>\n",
       "      <td>1.414331</td>\n",
       "      <td>-0.483815</td>\n",
       "    </tr>\n",
       "    <tr>\n",
       "      <th>3</th>\n",
       "      <td>1.712546</td>\n",
       "      <td>0.772120</td>\n",
       "      <td>-0.366062</td>\n",
       "      <td>3.187913</td>\n",
       "      <td>2.939142</td>\n",
       "      <td>-0.318628</td>\n",
       "      <td>0.600217</td>\n",
       "      <td>0.137715</td>\n",
       "      <td>0.234009</td>\n",
       "      <td>-0.247307</td>\n",
       "      <td>2.030230</td>\n",
       "    </tr>\n",
       "    <tr>\n",
       "      <th>4</th>\n",
       "      <td>0.821059</td>\n",
       "      <td>0.772120</td>\n",
       "      <td>2.731780</td>\n",
       "      <td>-0.313685</td>\n",
       "      <td>-0.340235</td>\n",
       "      <td>-0.318628</td>\n",
       "      <td>0.119108</td>\n",
       "      <td>-0.524540</td>\n",
       "      <td>0.469570</td>\n",
       "      <td>0.583512</td>\n",
       "      <td>1.146690</td>\n",
       "    </tr>\n",
       "    <tr>\n",
       "      <th>...</th>\n",
       "      <td>...</td>\n",
       "      <td>...</td>\n",
       "      <td>...</td>\n",
       "      <td>...</td>\n",
       "      <td>...</td>\n",
       "      <td>...</td>\n",
       "      <td>...</td>\n",
       "      <td>...</td>\n",
       "      <td>...</td>\n",
       "      <td>...</td>\n",
       "      <td>...</td>\n",
       "    </tr>\n",
       "    <tr>\n",
       "      <th>11995</th>\n",
       "      <td>-1.853401</td>\n",
       "      <td>0.772120</td>\n",
       "      <td>-0.366062</td>\n",
       "      <td>-0.313685</td>\n",
       "      <td>-0.340235</td>\n",
       "      <td>-0.318628</td>\n",
       "      <td>2.224522</td>\n",
       "      <td>1.071545</td>\n",
       "      <td>-0.708232</td>\n",
       "      <td>-0.247307</td>\n",
       "      <td>-0.809917</td>\n",
       "    </tr>\n",
       "    <tr>\n",
       "      <th>11996</th>\n",
       "      <td>-0.070427</td>\n",
       "      <td>0.772120</td>\n",
       "      <td>-0.366062</td>\n",
       "      <td>-0.313685</td>\n",
       "      <td>-0.340235</td>\n",
       "      <td>-0.318628</td>\n",
       "      <td>-0.703830</td>\n",
       "      <td>-0.547511</td>\n",
       "      <td>-0.472671</td>\n",
       "      <td>-1.078127</td>\n",
       "      <td>-0.188373</td>\n",
       "    </tr>\n",
       "    <tr>\n",
       "      <th>11997</th>\n",
       "      <td>-0.070427</td>\n",
       "      <td>-1.295136</td>\n",
       "      <td>-0.366062</td>\n",
       "      <td>-0.313685</td>\n",
       "      <td>-0.340235</td>\n",
       "      <td>-0.318628</td>\n",
       "      <td>0.025735</td>\n",
       "      <td>-1.242413</td>\n",
       "      <td>-0.237111</td>\n",
       "      <td>-0.247307</td>\n",
       "      <td>1.230306</td>\n",
       "    </tr>\n",
       "    <tr>\n",
       "      <th>11998</th>\n",
       "      <td>0.821059</td>\n",
       "      <td>0.772120</td>\n",
       "      <td>-0.366062</td>\n",
       "      <td>-0.313685</td>\n",
       "      <td>2.939142</td>\n",
       "      <td>-0.318628</td>\n",
       "      <td>-0.066542</td>\n",
       "      <td>-0.536698</td>\n",
       "      <td>-0.001551</td>\n",
       "      <td>0.583512</td>\n",
       "      <td>0.887482</td>\n",
       "    </tr>\n",
       "    <tr>\n",
       "      <th>11999</th>\n",
       "      <td>-0.070427</td>\n",
       "      <td>-1.295136</td>\n",
       "      <td>-0.366062</td>\n",
       "      <td>-0.313685</td>\n",
       "      <td>-0.340235</td>\n",
       "      <td>-0.318628</td>\n",
       "      <td>-0.774479</td>\n",
       "      <td>-1.242413</td>\n",
       "      <td>-0.472671</td>\n",
       "      <td>-1.078127</td>\n",
       "      <td>-0.221820</td>\n",
       "    </tr>\n",
       "  </tbody>\n",
       "</table>\n",
       "<p>12000 rows × 11 columns</p>\n",
       "</div>"
      ],
      "text/plain": [
       "            AGE      고용상태      교육수준      상품타입    거주지사이즈       자동차  \\\n",
       "0     -0.070427 -1.295136 -0.366062 -0.313685 -0.340235 -0.318628   \n",
       "1     -1.853401  0.772120 -0.366062 -0.313685 -0.340235 -0.318628   \n",
       "2     -0.961914 -1.295136 -0.366062 -0.313685 -0.340235 -0.318628   \n",
       "3      1.712546  0.772120 -0.366062  3.187913  2.939142 -0.318628   \n",
       "4      0.821059  0.772120  2.731780 -0.313685 -0.340235 -0.318628   \n",
       "...         ...       ...       ...       ...       ...       ...   \n",
       "11995 -1.853401  0.772120 -0.366062 -0.313685 -0.340235 -0.318628   \n",
       "11996 -0.070427  0.772120 -0.366062 -0.313685 -0.340235 -0.318628   \n",
       "11997 -0.070427 -1.295136 -0.366062 -0.313685 -0.340235 -0.318628   \n",
       "11998  0.821059  0.772120 -0.366062 -0.313685  2.939142 -0.318628   \n",
       "11999 -0.070427 -1.295136 -0.366062 -0.313685 -0.340235 -0.318628   \n",
       "\n",
       "       Willingness to pay/Stay        소득     월 납입액  타 상품 보유 현황     총지불금액  \n",
       "0                    -0.810943 -1.242413 -0.472671   -1.078127  0.265939  \n",
       "1                    -0.325638  1.511484 -0.472671    1.414331 -1.342270  \n",
       "2                    -0.504656 -0.649289 -0.943792    1.414331 -0.483815  \n",
       "3                     0.600217  0.137715  0.234009   -0.247307  2.030230  \n",
       "4                     0.119108 -0.524540  0.469570    0.583512  1.146690  \n",
       "...                        ...       ...       ...         ...       ...  \n",
       "11995                 2.224522  1.071545 -0.708232   -0.247307 -0.809917  \n",
       "11996                -0.703830 -0.547511 -0.472671   -1.078127 -0.188373  \n",
       "11997                 0.025735 -1.242413 -0.237111   -0.247307  1.230306  \n",
       "11998                -0.066542 -0.536698 -0.001551    0.583512  0.887482  \n",
       "11999                -0.774479 -1.242413 -0.472671   -1.078127 -0.221820  \n",
       "\n",
       "[12000 rows x 11 columns]"
      ]
     },
     "execution_count": 51,
     "metadata": {},
     "output_type": "execute_result"
    }
   ],
   "source": [
    "# [문제 41] 스케일링이 잘 되었는지 'data_sc' 데이터를 확인해보자\n",
    "\n",
    "data_sc"
   ]
  },
  {
   "cell_type": "code",
   "execution_count": 52,
   "id": "765ef4e2-a927-4559-ae85-329ce569ab25",
   "metadata": {
    "id": "765ef4e2-a927-4559-ae85-329ce569ab25",
    "tags": []
   },
   "outputs": [],
   "source": [
    "#[문제 42] 데이터 내보내기\n",
    "# 2일차에 모델링에 활용하기 위해 내보내기를 해보자.\n",
    "# data_sc 를 data_sc.csv 파일로 저장(to_csv 활용)\n",
    "# index=False 파라미터를 설정해 줘야지 unnamed:0번 추가 인덱스가 안생기기에 꼭! 넣어서 저장!\n",
    "data_sc.to_csv('data_sc.csv', index=False)\n"
   ]
  },
  {
   "cell_type": "code",
   "execution_count": 53,
   "id": "babe22a5-36e3-4f06-96d6-9c3679701161",
   "metadata": {
    "id": "babe22a5-36e3-4f06-96d6-9c3679701161"
   },
   "outputs": [
    {
     "data": {
      "text/html": [
       "<div>\n",
       "<style scoped>\n",
       "    .dataframe tbody tr th:only-of-type {\n",
       "        vertical-align: middle;\n",
       "    }\n",
       "\n",
       "    .dataframe tbody tr th {\n",
       "        vertical-align: top;\n",
       "    }\n",
       "\n",
       "    .dataframe thead th {\n",
       "        text-align: right;\n",
       "    }\n",
       "</style>\n",
       "<table border=\"1\" class=\"dataframe\">\n",
       "  <thead>\n",
       "    <tr style=\"text-align: right;\">\n",
       "      <th></th>\n",
       "      <th>AGE</th>\n",
       "      <th>고용상태</th>\n",
       "      <th>교육수준</th>\n",
       "      <th>상품타입</th>\n",
       "      <th>거주지사이즈</th>\n",
       "      <th>자동차</th>\n",
       "      <th>Willingness to pay/Stay</th>\n",
       "      <th>소득</th>\n",
       "      <th>월 납입액</th>\n",
       "      <th>타 상품 보유 현황</th>\n",
       "      <th>총지불금액</th>\n",
       "    </tr>\n",
       "  </thead>\n",
       "  <tbody>\n",
       "    <tr>\n",
       "      <th>0</th>\n",
       "      <td>-0.070427</td>\n",
       "      <td>-1.295136</td>\n",
       "      <td>-0.366062</td>\n",
       "      <td>-0.313685</td>\n",
       "      <td>-0.340235</td>\n",
       "      <td>-0.318628</td>\n",
       "      <td>-0.810943</td>\n",
       "      <td>-1.242413</td>\n",
       "      <td>-0.472671</td>\n",
       "      <td>-1.078127</td>\n",
       "      <td>0.265939</td>\n",
       "    </tr>\n",
       "    <tr>\n",
       "      <th>1</th>\n",
       "      <td>-1.853401</td>\n",
       "      <td>0.772120</td>\n",
       "      <td>-0.366062</td>\n",
       "      <td>-0.313685</td>\n",
       "      <td>-0.340235</td>\n",
       "      <td>-0.318628</td>\n",
       "      <td>-0.325638</td>\n",
       "      <td>1.511484</td>\n",
       "      <td>-0.472671</td>\n",
       "      <td>1.414331</td>\n",
       "      <td>-1.342270</td>\n",
       "    </tr>\n",
       "    <tr>\n",
       "      <th>2</th>\n",
       "      <td>-0.961914</td>\n",
       "      <td>-1.295136</td>\n",
       "      <td>-0.366062</td>\n",
       "      <td>-0.313685</td>\n",
       "      <td>-0.340235</td>\n",
       "      <td>-0.318628</td>\n",
       "      <td>-0.504656</td>\n",
       "      <td>-0.649289</td>\n",
       "      <td>-0.943792</td>\n",
       "      <td>1.414331</td>\n",
       "      <td>-0.483815</td>\n",
       "    </tr>\n",
       "    <tr>\n",
       "      <th>3</th>\n",
       "      <td>1.712546</td>\n",
       "      <td>0.772120</td>\n",
       "      <td>-0.366062</td>\n",
       "      <td>3.187913</td>\n",
       "      <td>2.939142</td>\n",
       "      <td>-0.318628</td>\n",
       "      <td>0.600217</td>\n",
       "      <td>0.137715</td>\n",
       "      <td>0.234009</td>\n",
       "      <td>-0.247307</td>\n",
       "      <td>2.030230</td>\n",
       "    </tr>\n",
       "    <tr>\n",
       "      <th>4</th>\n",
       "      <td>0.821059</td>\n",
       "      <td>0.772120</td>\n",
       "      <td>2.731780</td>\n",
       "      <td>-0.313685</td>\n",
       "      <td>-0.340235</td>\n",
       "      <td>-0.318628</td>\n",
       "      <td>0.119108</td>\n",
       "      <td>-0.524540</td>\n",
       "      <td>0.469570</td>\n",
       "      <td>0.583512</td>\n",
       "      <td>1.146690</td>\n",
       "    </tr>\n",
       "    <tr>\n",
       "      <th>...</th>\n",
       "      <td>...</td>\n",
       "      <td>...</td>\n",
       "      <td>...</td>\n",
       "      <td>...</td>\n",
       "      <td>...</td>\n",
       "      <td>...</td>\n",
       "      <td>...</td>\n",
       "      <td>...</td>\n",
       "      <td>...</td>\n",
       "      <td>...</td>\n",
       "      <td>...</td>\n",
       "    </tr>\n",
       "    <tr>\n",
       "      <th>11995</th>\n",
       "      <td>-1.853401</td>\n",
       "      <td>0.772120</td>\n",
       "      <td>-0.366062</td>\n",
       "      <td>-0.313685</td>\n",
       "      <td>-0.340235</td>\n",
       "      <td>-0.318628</td>\n",
       "      <td>2.224522</td>\n",
       "      <td>1.071545</td>\n",
       "      <td>-0.708232</td>\n",
       "      <td>-0.247307</td>\n",
       "      <td>-0.809917</td>\n",
       "    </tr>\n",
       "    <tr>\n",
       "      <th>11996</th>\n",
       "      <td>-0.070427</td>\n",
       "      <td>0.772120</td>\n",
       "      <td>-0.366062</td>\n",
       "      <td>-0.313685</td>\n",
       "      <td>-0.340235</td>\n",
       "      <td>-0.318628</td>\n",
       "      <td>-0.703830</td>\n",
       "      <td>-0.547511</td>\n",
       "      <td>-0.472671</td>\n",
       "      <td>-1.078127</td>\n",
       "      <td>-0.188373</td>\n",
       "    </tr>\n",
       "    <tr>\n",
       "      <th>11997</th>\n",
       "      <td>-0.070427</td>\n",
       "      <td>-1.295136</td>\n",
       "      <td>-0.366062</td>\n",
       "      <td>-0.313685</td>\n",
       "      <td>-0.340235</td>\n",
       "      <td>-0.318628</td>\n",
       "      <td>0.025735</td>\n",
       "      <td>-1.242413</td>\n",
       "      <td>-0.237111</td>\n",
       "      <td>-0.247307</td>\n",
       "      <td>1.230306</td>\n",
       "    </tr>\n",
       "    <tr>\n",
       "      <th>11998</th>\n",
       "      <td>0.821059</td>\n",
       "      <td>0.772120</td>\n",
       "      <td>-0.366062</td>\n",
       "      <td>-0.313685</td>\n",
       "      <td>2.939142</td>\n",
       "      <td>-0.318628</td>\n",
       "      <td>-0.066542</td>\n",
       "      <td>-0.536698</td>\n",
       "      <td>-0.001551</td>\n",
       "      <td>0.583512</td>\n",
       "      <td>0.887482</td>\n",
       "    </tr>\n",
       "    <tr>\n",
       "      <th>11999</th>\n",
       "      <td>-0.070427</td>\n",
       "      <td>-1.295136</td>\n",
       "      <td>-0.366062</td>\n",
       "      <td>-0.313685</td>\n",
       "      <td>-0.340235</td>\n",
       "      <td>-0.318628</td>\n",
       "      <td>-0.774479</td>\n",
       "      <td>-1.242413</td>\n",
       "      <td>-0.472671</td>\n",
       "      <td>-1.078127</td>\n",
       "      <td>-0.221820</td>\n",
       "    </tr>\n",
       "  </tbody>\n",
       "</table>\n",
       "<p>12000 rows × 11 columns</p>\n",
       "</div>"
      ],
      "text/plain": [
       "            AGE      고용상태      교육수준      상품타입    거주지사이즈       자동차  \\\n",
       "0     -0.070427 -1.295136 -0.366062 -0.313685 -0.340235 -0.318628   \n",
       "1     -1.853401  0.772120 -0.366062 -0.313685 -0.340235 -0.318628   \n",
       "2     -0.961914 -1.295136 -0.366062 -0.313685 -0.340235 -0.318628   \n",
       "3      1.712546  0.772120 -0.366062  3.187913  2.939142 -0.318628   \n",
       "4      0.821059  0.772120  2.731780 -0.313685 -0.340235 -0.318628   \n",
       "...         ...       ...       ...       ...       ...       ...   \n",
       "11995 -1.853401  0.772120 -0.366062 -0.313685 -0.340235 -0.318628   \n",
       "11996 -0.070427  0.772120 -0.366062 -0.313685 -0.340235 -0.318628   \n",
       "11997 -0.070427 -1.295136 -0.366062 -0.313685 -0.340235 -0.318628   \n",
       "11998  0.821059  0.772120 -0.366062 -0.313685  2.939142 -0.318628   \n",
       "11999 -0.070427 -1.295136 -0.366062 -0.313685 -0.340235 -0.318628   \n",
       "\n",
       "       Willingness to pay/Stay        소득     월 납입액  타 상품 보유 현황     총지불금액  \n",
       "0                    -0.810943 -1.242413 -0.472671   -1.078127  0.265939  \n",
       "1                    -0.325638  1.511484 -0.472671    1.414331 -1.342270  \n",
       "2                    -0.504656 -0.649289 -0.943792    1.414331 -0.483815  \n",
       "3                     0.600217  0.137715  0.234009   -0.247307  2.030230  \n",
       "4                     0.119108 -0.524540  0.469570    0.583512  1.146690  \n",
       "...                        ...       ...       ...         ...       ...  \n",
       "11995                 2.224522  1.071545 -0.708232   -0.247307 -0.809917  \n",
       "11996                -0.703830 -0.547511 -0.472671   -1.078127 -0.188373  \n",
       "11997                 0.025735 -1.242413 -0.237111   -0.247307  1.230306  \n",
       "11998                -0.066542 -0.536698 -0.001551    0.583512  0.887482  \n",
       "11999                -0.774479 -1.242413 -0.472671   -1.078127 -0.221820  \n",
       "\n",
       "[12000 rows x 11 columns]"
      ]
     },
     "execution_count": 53,
     "metadata": {},
     "output_type": "execute_result"
    }
   ],
   "source": [
    "#[문제 43] 데이터가 잘 들어갔는지 read_csv 활용해서 'data_sc.csv' 확인\n",
    "df = pd.read_csv('data_sc.csv')\n",
    "df"
   ]
  },
  {
   "cell_type": "markdown",
   "id": "e12d1c8c-45ef-4646-80f7-1dbc03d71164",
   "metadata": {
    "id": "e12d1c8c-45ef-4646-80f7-1dbc03d71164"
   },
   "source": [
    "# **3. Mission 2-데이터 전처리 결론**\n",
    "\n",
    "* 군집화 모델링을 하기 위해 범주형,수치형별 데이터 전처리가 필요했고 전처리 진행 완료\n",
    "* 범주형은 수치형으로 변환을 하기 위해 인코딩 과정을 진행\n",
    "* 단위가 각각 다른 수치형을 스케일링을 통해 모델 적용을 위한 기본 셋팅으로 변환"
   ]
  },
  {
   "cell_type": "markdown",
   "id": "5e28ca34-99a3-41e9-be63-de8551eef4ac",
   "metadata": {
    "id": "5e28ca34-99a3-41e9-be63-de8551eef4ac"
   },
   "source": [
    "<font color=\"1E90FF\"><b>→ 모델을 돌리기 전 데이터에 대한 이해도를 바탕으로 데이터의 전처리 진행(이상치처리,스케일링)<b><br>  "
   ]
  },
  {
   "cell_type": "markdown",
   "id": "81804b2b",
   "metadata": {
    "id": "81804b2b"
   },
   "source": [
    "# <b>Mission 2 완료!\n",
    "수고하셨습니다!"
   ]
  },
  {
   "cell_type": "markdown",
   "id": "87ac6ee1",
   "metadata": {
    "id": "87ac6ee1"
   },
   "source": []
  }
 ],
 "metadata": {
  "colab": {
   "provenance": [],
   "toc_visible": true
  },
  "kernelspec": {
   "display_name": "Python 3 (ipykernel)",
   "language": "python",
   "name": "python3"
  },
  "language_info": {
   "codemirror_mode": {
    "name": "ipython",
    "version": 3
   },
   "file_extension": ".py",
   "mimetype": "text/x-python",
   "name": "python",
   "nbconvert_exporter": "python",
   "pygments_lexer": "ipython3",
   "version": "3.12.4"
  }
 },
 "nbformat": 4,
 "nbformat_minor": 5
}
