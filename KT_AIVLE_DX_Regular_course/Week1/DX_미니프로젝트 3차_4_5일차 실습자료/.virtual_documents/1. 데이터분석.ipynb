

















# [같이 하기] 필요 라이브러리 로딩
# numpy, pandas, matplotlib, seaborn, os 를 임포트 하기

import numpy as np
import pandas as pd
import matplotlib.pyplot as plt
import seaborn as sns
import os


# 한글 세팅

plt.rc("font", family = "Malgun Gothic")
sns.set(font="Malgun Gothic",
rc={"axes.unicode_minus":False}, style='white')


# [같이 하기] 데이터 불러오기
# 1. data 변수에 'customers_seg.csv' 파일을 불러오기
# 2. data 변수 호출해서 상위 5개 확인해보기

data = pd.read_csv('customers_seg.csv')
data.head()





# [문제1] 데이터 셋의 상위 5개 행을 확인해보자.

data.head()


# [문제2] 데이터 셋의 하위 5개 행을 확인해보자.

data.tail()


# [문제3] data 데이터프레임의 행, 열의 개수 확인해보자.(shape)

data.shape # 12000명 고객 , 21개의 컬럼 


#[문제4] data 데이터프레임의 컬럼명, 데이터 개수, 데이터 타입 정보를 확인 해보자.
print(data.columns)
print(data.shape[0])
print(data.dtypes)


# [문제5] 데이터 셋 수치형 데이터 기초통계 정보를 확인해보자

data.info()


# [문제6] 데이터 셋의 모든 컬럼명(변수명)을 확인해보자.
data.columns















#[문제 7] 분석가 선정 컬럼들이 수치형인지 문자/범주형인지 알아보자! (info 활용)
anal_columns = ['AGE','고용상태','교육수준','상품타입','거주지사이즈','자동차']
data[anal_columns].info()









def my_count_plot(target):
    sns.countplot(x=target,data=data)
    plt.title(target)
    plt.grid()
    plt.show()
    print(data[target].value_counts(normalize = True).sort_index())


#[같이 하기] AGE 변수는 범주형이다. 이에 대해 범주별 비율을 탐색해보자.(.value_counts())
#  (1: 20대, 2: 30대, 3: 40대, 4: 50대, 5: 60대, 6: 70대)
# 결과를 인덱스 기준으로 정렬해서 조회 (.sort_index())

data['AGE'].value_counts(normalize = True).sort_index()





# 연령대를 보았을 때 약 40% 정도가 40대 임을 알 수 있다. 약 4~50대가 65% 정도이다.


#[같이 하기] age에 대해 countplot 으로 시각화를 해보자!
# 1. sns.countplot(x=' ', data= )으로 시각화. 색상은 원하는 색상으로!
# 2. title=('age'), grid 도 넣어서 이쁘게 만들어보자.

sns.countplot(x='AGE',data=data)
plt.title('age')
plt.grid()
plt.show()





#[문제 8] '고용상태' 변수에 대해 범주별 빈도수를 탐색해보자.

target  = '고용상태'
sns.countplot(x=target,data=data)
plt.title(target)
plt.grid()
plt.show()


#[문제 9] 위 결과에 대해 비율로 계산해보자.
data[target].value_counts(normalize = True).sort_index()



#[문제 10] FALSE 값이 있잖어? 이게 뭐지?
# False를 무엇으로 해석해야 할까?

# (양정우의 의견)false는 계약직이 아닐까? 특히 계약 만료가 얼마 안남은 사람 









#[문제 11] '고용상태'에 대해 countplot 으로 시각화를 해보자!
target = '고용상태'
my_count_plot(target)





#[문제 12] '교육수준' 변수에 대해 범주별 빈도수를 탐색해보자.

#[문제 13] 위 결과에 대해 비율로 계산해보자.

#[문제 14] '교육수준'에 대해 countplot 으로 시각화를 해보자!
target = '교육수준'
my_count_plot(target)





# 대체로 대졸자 비율이 높음 , 석사와 박사 합쳐보면 10% 비율을 차지함 





#[문제 15] '상품타입'변수에 대해 범주별 비율을 탐색해보자.
#[문제 16] '상품타입'에 대해 countplot 으로 시각화를 해보자!
target = '상품타입'
my_count_plot(target)






# 기본 , 중급 보험을 가입한 고객이 대부분 , 고급 상품타입을 선택한 비중이 적은것을 보아 충성고객일 거같음
# 마케팅 전략은 기본, 중급 고객들을 대상으로 연관 등급 상품을 더 가입하도록 독려 





#[문제 17]'거주지사이즈'변수에 대해 범주별 비율을 탐색해보자.
#[문제 18] '거주지사이즈'에 대해 countplot 으로 시각화를 해보자!
target = '거주지사이즈'
my_count_plot(target)






# '중' 거주지 비중이 많음 , 
# 소 , 중 ,대  거주지사이즈를 구분한 기준이 뭔지 알 필요가 있음 ( N평 이하 , N 평 이상)





#[문제 19]'자동차'변수에 대해 범주별 비율을 탐색해보자.
#[문제 20]'자동차'에 대해 countplot 으로 시각화를 해보자!
target = '자동차'
my_count_plot(target)






# 일반 세단 , 컴팩트카 , SUV 자동차의 비중이 많음

# 고급차 , 스포츠카를 구매한 비율은  8% 

# (양정우의 의견) 고급차 스포츠카를 구매한 사람은 특별히 자동차 관련 보험을 가입했을 거 같음 
# (확인할 것)  스포츠카 + 고급차 를 구매한 고객이 (1) 챠량용 보험을 가입했는가? (2) 가입했다면 그 등급은 어떤가?
# (마케팅전략)  1. 가장 높은 차량 캐어 보험상품을 가입하도록 독려 

 






#[문제 21] 도메인 내 주요 항목 컬럼들이 수치형인지 문자형인지 알아보자! (info 활용)
major_columns = ['Willingness to pay/Stay','소득','월 납입액','타 상품 보유 현황','총지불금액']
data[major_columns].info()





def my_hist_plot(target ,b= 30):
    plt.figure(figsize=(12,8))
    sns.histplot(data[target],bins=b,kde=True)
    plt.grid()
    plt.show()
    print(data[[target]].describe().T)


#[같이 하기] 히스토그램으로 'Willingness to pay/Stay(WTP)'에 대한 그래프를 그려보자.

# 1. figsize(12,8) 셋팅하기

plt.figure(figsize=(12,8))

# 2. histplot 그리기
# bins = 30, kde = True로 설정해서 그래프를 그려보자.

sns.histplot(data['Willingness to pay/Stay'],bins=30,kde=True)
plt.grid()
plt.show()





#[같이 하기] WTP의 평균값을 확인해보자(describe 사용)
feature = 'Willingness to pay/Stay'
data[[feature]].describe().T





# 대부분의 고객의 경우 보험유지기대지표(WTP)의 값이 낮게 나옴(0~10정도 사이가 대부분)
# 평균값을 확인해보니 8 정도로 낮은 것으로 알 수 있음.





feature ='소득'
data[[feature]].describe().T


#[문제 22] 히스토그램으로 '소득'에 대한 그래프를 그려보자.
# bins = 30, kde = True로 설정해서 한번 보자
target = '소득'
my_hist_plot(target)






# 소득 격차가 분포는 소득이 0~7000만원 인 고객이 전체 75%를 차지하고 있음 , 
# 특히 소득이 0인 사람이 많은데  아마 가족 연동 보험 자녀들(피보험인) 이라 소득이 없는걸로 추정됨 





#[문제 23] 히스토그램으로 '월 납입액'에 대한 그래프를 그려보자.
#[문제 24] '월 납입액'의 평균값을 확인해보자(describe 사용)
# bins = 30, kde = True로 설정해서 한번 보자

target = '월 납입액'

my_hist_plot(target)










# 평균 월 납입액은 100만원 이하에 많이 분포해 있음 
# 350만원 << 고급 보험  + 스포츠카, 고급차 보유 인 고객일 것 같음 





target ='타 상품 보유 현황'
my_count_plot(target)


#[문제 25] '타상품 보유' 변수에 대해 범주별 비율을 확인하자.
pd.crosstab(data['타 상품 보유 현황'], data['자동차'] , normalize='columns')
# 


pd.crosstab(data['타 상품 보유 현황'], data['고용상태'] , normalize='columns')


pd.crosstab(data['타 상품 보유 현황'], data['교육수준'] , normalize='columns')


pd.crosstab(data['타 상품 보유 현황'], data['거주지사이즈'] , normalize='columns')





# 타 상품 보유 비율은 1개 > 4개 = 2개 > 3개 순이다 
# 왜 3개를 보유한 고객이 수가 가장 적을까? > 보험 패키지의 구성때문인 것 같음 , 강하게 연관된 보험상품이 1개~ 2개 , 4개로 구성되어았음 





#[문제 26] 히스토그램으로 '총지불금액'에 대한 그래프를 그려보자.
# bins = 30, kde = True로 설정해서 한번 보자
target = '총지불금액'
my_hist_plot(target)



#[문제 27] '총지불금액'의 평균값을 확인해보자(describe 사용)







# 총 지불금액 평균은 50만원 , 최대 357만원 














import matplotlib.pyplot as plt
import seaborn as sns
import scipy.stats as spst
from statsmodels.graphics.mosaicplot import mosaic      #mosaic plot!


def categorical_numerical(df, feature, target) : # 범주형 , 숫자형 변수간 검정  (t-test, Anova) / 막대그래프 시각화 / 
    
    '''
    df = 데이터프레임
    feature = 구분 데이터프레임의 컬럼명
    target  = 목표 데이터프레임의 컬럼명
    '''
    
    sns.barplot(x = feature, y = target, data = df)
    plt.rcParams['font.family'] = 'Malgun Gothic'
    
    plt.grid()
    plt.tight_layout()
    plt.xticks(rotation=45)  # 45도 회전
    plt.show()

    '''
    an_list = []
    for i in range(df[feature].nunique()) :
        an_list.append(df.loc[df[feature] == i, target])# i가 0, 1, 2,...로 증가하는데, 이 인덱스가 feature의 실제 고유값과 일치하지 않을 수 있음
    '''
    #feature 컬럼의 실제 고유값을 사용하여 그룹을 생성
    unique_vals = df[feature].unique()
    an_list = [df.loc[df[feature] == val, target].dropna() for val in unique_vals]  # 결측치 처리 추가

    if len(an_list) == 2:
    # t-test
        t_stat, p_value = spst.ttest_ind(an_list[0], an_list[1])
        print(f"T-test 결과: t-statistic = {t_stat}, p-value = {p_value}")

    elif len(an_list) > 2:
    # ANOVA
        f_stat, p_value = spst.f_oneway(*an_list)
        print(f"ANOVA 결과: F-statistic = {f_stat}, p-value = {p_value}")

    else:
        print("비교할 그룹이 부족합니다.")
        
def categorical_categorical(df , feature , target): # 범주형 --> 범주형 간 검정 (카이제곱검정) / 모자이크플롯
    '''
    df = 데이터프레임
    feature = 구분 데이터프레임의 컬럼명
    target  = 목표 데이터프레임의 컬럼명
    '''
    mosaic(df, [ feature,target])
    #plt.axhline(1- df[target].mean(), color = 'r')
    plt.rcParams['font.family'] = 'Malgun Gothic'
    plt.grid()
    plt.tight_layout()
    plt.xticks(rotation=45)  # 45도 회전
    plt.show()
    
    # 먼저 집계
    table = pd.crosstab(df[target], df[feature])
    print('교차표\n', table)
    print('=' * 100)

    # 카이제곱검정
    result = spst.chi2_contingency(table)
    print('카이제곱통계량', result[0])
    print('p-value', result[1])
    print('자유도', result[2])
    # print('기대빈도\n',result[3])
    
    
    
def numerical_numerical(df, feature , target): # 숫자형 , 숫자형 
    # 산점도 + 회귀분석 선 표기
    
    '''
    df = 데이터프레임
    feature = 구분 데이터프레임의 컬럼명
    target  = 목표 데이터프레임의 컬럼명
    '''
    sns.regplot(x=feature, y = target, data = df)
    plt.rcParams['font.family'] = 'Malgun Gothic'
    plt.grid()
    plt.tight_layout()
    plt.xticks(rotation=45)  # 45도 회전
    plt.show()
    print('='*100)
    result = spst.pearsonr(df[feature], df[target])
    print(f'상관계수 : {result[0]}, p-value : {result[1]}')


def numerical_numerical_hitmap(df):
    '''
    df = 데이터프레임
    '''
    # 숫자형으로 구성된 데이터들 한해서만 상관분석 수행 
    temp = df.select_dtypes(include=['number'])
    plt.figure(figsize = (8, 8))
    # 한글 폰트 설정: 맑은 고딕
    plt.rcParams['font.family'] = 'Malgun Gothic'
    # 유니코드 마이너스 사용 설정
    plt.rcParams['axes.unicode_minus'] = False
    sns.heatmap(temp.corr(),
            annot = True,            # 숫자(상관계수) 표기 여부
            fmt = '.2f',             # 숫자 포멧 : 소수점 3자리까지 표기
            cmap = 'RdYlBu_r',       # 칼라맵
            vmin = -1, vmax = 1)     # 값의 최소, 최대값
    plt.show()





data.info()





# 모든 연속형 변수들 간의 상관관계 확인 
numerical_numerical_hitmap(data[['Willingness to pay/Stay','소득','월 납입액','총지불금액' ]])









# 
target = 'Willingness to pay/Stay'
feature = '고용상태'
categorical_numerical(data, feature , target)


# 고용 상태는 보험유지 기대 확률에 유의미한 영향을 주지 않음  (자유도 대비 F-score 3~5배 이상 )



feature = '상품타입'
target = 'Willingness to pay/Stay'
categorical_numerical(data, feature , target)


# 상품 타입 이 보험 유지에 큰 영향을 줌 (자유도 대비 F-score 3~5배 이상 )
# 고급 , 중급 , 기본 순으로 보험을 유지할 확률이 높음 
# (제안) 고급 보험상품을 가입한 고객은  잡아놓은 물고기라고 생각함 , 기본 등급 보험상품 고객의 이탈을 막던지, 중급 이상의 삼품을 구매하도록 전략을 세울수 있을듯 




feature = '자동차'
target = 'Willingness to pay/Stay'
categorical_numerical(data, feature , target)


# 상품 타입 이 보험 유지에 큰 영향을 줌 (자유도 대비 F-score 3~5배 이상 )
# 고급 , 중급 , 기본 순으로 보험을 유지할 확률이 높음 
# (제안) 고급 보험상품을 가입한 고객은  잡아놓은 물고기라고 생각함 , 기본 등급 보험상품 고객의 이탈을 막던지, 중급 이상의 삼품을 구매하도록 전략을 세울수 있을듯 


# 거주지 사이즈   -  보험 유지 확률 
# 
feature = '거주지사이즈'
target = 'Willingness to pay/Stay'
categorical_numerical(data, feature , target)


# 거주지 사이즈는 보험 유지 확률에 유의미한 영향을 주지 않음 (자유도 대비 F-score 3~5배 이하 )
# 거주지사이즈 - 보험유지확률 연관성 x 



feature = '교육수준'
target = 'Willingness to pay/Stay'
categorical_numerical(data, feature , target)


# 교육수준은 보험 유지 확률에 유의미한 영향을 주지 않음 (자유도 대비 F-score 3~5배 이하 )



feature = '타 상품 보유 현황'
target = 'Willingness to pay/Stay'
categorical_numerical(data, feature , target)


# 타 상품 2개 이상 보유한 고객일 수록 보험을 유지할 확률이 높음  (유의미함)
# (제안) 보험 2개 이상 가입한 고객이면 > 잡아놓은 물고기  
# 보험 1개만 가입한 고객 대상으로 홍보 , 마케팅을 하면 될것 > 2개 이상 보험상품 구매하도록 




feature = 'AGE'
target = 'Willingness to pay/Stay'
categorical_numerical(data, feature , target)








# 1. 자동차 고급 - 타 상품 보유 현황 , 상품 타입   3가지 변수간 연관성이 있을거 같음 (추측)

feature = '자동차'
target ='타 상품 보유 현황'
categorical_categorical(data,feature , target)




# 자유도 대비 카이제곱 통계량이 5배 이상이 아님 (유의미하지 않음 )



feature = '자동차'
target ='상품타입'
categorical_categorical(data,feature , target)






