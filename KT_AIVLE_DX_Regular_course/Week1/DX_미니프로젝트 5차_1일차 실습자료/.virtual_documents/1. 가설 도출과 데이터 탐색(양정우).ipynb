

















# 기본 경로
path = ''





# # 구글 드라이브 연결, 패스 지정
# import sys
# if 'google.colab' in sys.modules:
#     from google.colab import drive
#     drive.mount('/content/drive')
#     path = '/content/drive/MyDrive/project/'





# 라이브러리 불러오기
import pandas as pd
import numpy as np
import matplotlib.pyplot as plt
import seaborn as sns
import statsmodels.api as sm

import warnings
warnings.filterwarnings('ignore')
%config InlineBackend.figure_format = 'retina'





# 시각화 폰트 사이즈 설정
plt.rc('font', size=7)
plt.rc('xtick', labelsize=7)
plt.rc('ytick', labelsize=7)
plt.rc('axes', titlesize=8)
plt.rc('axes', labelsize=8)
plt.rc('legend', fontsize=8)
plt.rc('axes', linewidth=0.3) 








# 데이터 불러오기
sales = pd.read_csv(path + 'sales_train.csv')
orders = pd.read_csv(path + 'orders_train.csv')
oil_price = pd.read_csv(path + 'oil_price_train.csv')
stores = pd.read_csv(path + 'stores.csv')
products = pd.read_csv(path + 'products.csv')


# datetime 형으로 변환
sales['date'] = pd.to_datetime(sales['date'] )
oil_price['date'] = pd.to_datetime(oil_price['date'] )
orders['date'] = pd.to_datetime(orders['date'] )





sales.head() # 2014-01-02 00:00:00 ~ 2017-02-28 00:00:00	


orders.head() # 2014-01-02 00:00:00 ~ 2017-02-28 00:00:00


oil_price.head() # 2014-01-02 00:00:00 ~ 2017-02-28 00:00:00	



stores.head() # date 시계열 정보는 없음 대신 매장 정보를 알 수 있음

# target 매장 id: 44        도시:Saint Paul     주: Minnesota       store_ type:1  


products.head() # 상품 정보 ,   

# target   (서브 카테고리를 기준으로 분석해볼까? )
# product_id  product_code  subcategory      category         leadtime  price
# 3           DB001         Beverage         Drink            2         8
# 7           HC001         Cleaning         Household Goods  2         15
# 12          GA001         Milk             Food             2         6

# (추가)
# 27          HH001         Home Appliances  Household Goods  2         150  (가전제품 )











sales.isna().sum()


orders.isna().sum()


oil_price.isna().sum() # oil_price 에 결측치가 있음


stores.isna().sum() 


products.isna().sum()





sales['product_id'].value_counts() # 기간동안 판매량은 종류별로 전부 고르게 분포함


orders








# 함수 만들기
def monthly_sales_qty(store_id, product_id, sdate, edate):
    temp = sales.loc[(sales['store_id']==store_id) & (sales['product_id']==product_id) & (sales['date'].between(sdate, edate))]
    # 매장, 상품번호 , 기간 동안 월별 판매량을 시각화 
    temp['month'] = temp['date'].dt.month
    monthly = temp.groupby(by='month', as_index=False)[['qty']].sum()

    # 추가한 내용
    title = products.loc[(products['product_id']==product_id)]['subcategory'].values[0]
    
    plt.figure(figsize=(12, 3))
    plt.bar(x=monthly['month'], height=monthly['qty'] / 1000)
    # 추가한 내용
    plt.title(f'{title} Qty per Month')
    
    plt.xlabel('Month')
    plt.ylabel('Qty(Thousand)')
    plt.xticks(range(1, 13), range(1, 13))
    plt.show()





# 상품별 2014년~2016년 월별 판매량
main_product = [3, 7, 12]  # 
for p in main_product:
    monthly_sales_qty(44, p, '2014-01-01', '2016-12-31')


# (추가 학습)
monthly_sales_qty(44, 27, '2014-01-01', '2016-12-31')# 27은 가전제품





# 상품별 2016년 월별 판매량
main_product = [3, 7, 12]
for p in main_product:
    monthly_sales_qty(44, p, '2016-01-01', '2016-12-31')





# 일별 매장별 고객 갱문 수는 orders 데이터에 저장되어있음 orders[count] 
def monthly_customer_visits(store_id , sdate, edate):
    temp = orders.loc[(orders['store_id']==store_id)& (orders['date'].between(sdate,edate))]
    temp['month'] = temp['date'].dt.month
    monthly = temp.groupby(by='month', as_index=False)['count'].sum() 

    # 그래프 시각화
    plt.figure(figsize=(12, 3))
    plt.title(f'Monthly visit customer Counts at Store:{store_id}')
    plt.bar(x=monthly['month'], height=monthly['count']/1000)
    plt.xlabel('Month')
    plt.ylabel('Qty(Thousand)')
    plt.xticks(range(1, 13), range(1, 13))
    plt.show()
    






store_id = 44
monthly_customer_visits(store_id,'2014-01-01', '2016-12-31')






store_id = 44
monthly_customer_visits(store_id,'2016-01-01', '2016-12-31')

# 12월에 항상 방문 고객이 많음 > why? 








# 대상 상품의 판매량은 qty , sales 데이터 프레임에 있음
def product_sales_trend(store_id, product_id, sdate,edate):
    temp = sales.loc[(sales['store_id']==store_id) 
    & (sales['product_id']==product_id)
    & (sales['date'].between(sdate,edate))]

    #대상 상품 분류 
    target = products.loc[products['product_id']==product_id]['subcategory'].values[0]
    # 그래프 시각화 
    plt.plot('date','qty',data=temp,linewidth=0.8)
    
    plt.title(f'{target}\'s qty per date')
    plt.tight_layout()
    plt.show






target_store = 44
target_products = [3,7,12]

for t in target_products:
    product_sales_trend(target_store,t,'2014-01-01', '2016-12-31')






target_store = 44
target_products = [3,7,12]

for t in target_products:
    product_sales_trend(target_store,t,'2016-01-01', '2016-12-31')






# 대상 상품의 판매량은 qty , sales 데이터 프레임에 있음
# 고객 방문수는 count orders 데이터프레임에 있음 
def product_customer_trend(store_id, product_id, sdate,edate):
    #상품 판매량 추이
    temp1 = sales.loc[(sales['store_id']==store_id)&
    (sales['product_id']==product_id)&
    (sales['date'].between(sdate,edate))]
    
    # 고객 방문 수 추이   # orders 데이터프레임에 count 컬럼에 존재 
    temp2 = orders.loc[(orders['store_id']==store_id)&
    (orders['date'].between(sdate,edate))]

    # 타겟 상품 분류
    target = products.loc[products['product_id'] ==product_id]['subcategory'].values[0]
    
    # 그래프 시각화
    plt.subplot(2, 1, 1)
    plt.plot('date', 'qty', data=temp1, linewidth=0.8)
    plt.title(f'{target}\'s Qty per date ', size=12, pad=10)
    plt.subplot(2, 1, 2)
    plt.plot('date', 'count', data=temp2, linewidth=0.8)
    plt.title('Customer visit Count per date' , size=12, pad=10)
    plt.tight_layout()
    plt.show()






target_store = 44
target_products = [3,7,12]

for t in target_products:
    product_customer_trend(target_store,t,'2014-01-01', '2016-12-31')







target_store = 44
target_products = [3,7,12]

for t in target_products:
    product_customer_trend(target_store,t,'2016-01-01', '2016-12-31')






# oil_price데이터셋에  wti_price 이 있음  
def product_oil_trend(store_id , product_id ,sdate,edate):
    #상품 판매량 추이
    temp1 = sales.loc[(sales['store_id']==store_id)&
    (sales['product_id']==product_id)&
    (sales['date'].between(sdate,edate))]

    # 기름값 판매량 추이  # oil_price > wti_price
    temp2 = oil_price.loc[oil_price['date'].between(sdate,edate)]

    # 타겟 상품 분류
    target = products.loc[products['product_id'] ==product_id]['subcategory'].values[0]
    
    # 그래프 시각화
    plt.subplot(2, 1, 1)
    plt.plot('date', 'qty', data=temp1, linewidth=0.8)
    plt.title(f'{target}\'s Qty per date ', size=12, pad=10)
    plt.subplot(2, 1, 2)
    plt.plot('date', 'wti_price', data=temp2, linewidth=0.8)
    plt.title('Oil_price per date' , size=12, pad=10)
    plt.tight_layout()
    plt.show()
    
    






target_store = 44
target_products = [3,7,12]

for t in target_products:
    product_oil_trend(target_store,t,'2014-01-01', '2016-12-31')






target_store = 44
target_products = [3,7,12]

for t in target_products:
    product_oil_trend(target_store,t,'2016-01-01', '2016-12-31')







products



def category_product_sales_trend(store_id,product_id,sdate,edate):
    #대상 상품 판매량 추이
    temp1 = sales.loc[(sales['store_id']==store_id)&
    (sales['product_id']==product_id)&
    (sales['date'].between(sdate,edate))]

    
    
    # product 에서  product_id 에 해당하는 category 추출
    category_name =  products.loc[products['product_id'] ==product_id]['category'].values[0]
    #print(category_name)
    # 연관 상품의 판매량 추이 
    category_chain = products.loc[products['category']==category_name]['product_id'].values
    #print(category_chain)

    
    # 연관상품 판매량 집계 
    related_sales = sales.loc[(sales['store_id'] == store_id) &
                          (sales['product_id'].isin(category_chain)) &
                          (sales['date'].between(sdate, edate))]
    #print(related_sales)
    temp2 = related_sales.groupby('date')['qty'].sum().reset_index()
    print(temp2)
    # 대상 상품과 연관된 상품의 중분류 
    target = products.loc[products['product_id'] ==product_id]['subcategory'].values[0]
    
    # 그래프 시각화
    plt.subplot(2, 1, 1)
    plt.plot('date', 'qty', data=temp1, linewidth=0.8)
    plt.title(f'{target}\'s Qty per date ', size=12, pad=10)
    plt.subplot(2, 1, 2)
    plt.plot('date', 'qty', data=temp2, linewidth=0.8)
    plt.title(f'{target} relate products Qty per date ' , size=12, pad=10)
    plt.tight_layout()
    plt.show()






target_store = 44
target_products = [3,7,12]

for t in target_products:
    category_product_sales_trend(target_store,t,'2014-01-01', '2016-12-31')





target_store = 44
target_products = [3,7,12]

for t in target_products:
    category_product_sales_trend(target_store,t,'2016-01-01', '2016-12-31')



# (추가) 해당 상품이 얼마나 비중을 차지하는지 알고싶음  (안 하셔도 됩니다 )
def category_product_sales_trend_percents(store_id, product_id, sdate, edate):
    # 대상 상품 판매량 추이
    temp1 = sales.loc[(sales['store_id'] == store_id) &
                      (sales['product_id'] == product_id) &
                      (sales['date'].between(sdate, edate))]

    # category 추출
    category_name = products.loc[products['product_id'] == product_id]['category'].values[0]
    
    # 연관 상품의 판매량 추이
    category_chain = products.loc[products['category'] == category_name]['product_id'].values
    
    # 연관상품 판매량 집계
    related_sales = sales.loc[(sales['store_id'] == store_id) &
                              (sales['product_id'].isin(category_chain)) &
                              (sales['date'].between(sdate, edate))]
    temp2 = related_sales.groupby('date')['qty'].sum().reset_index()

    # 대상 상품과 연관된 상품의 중분류
    target = products.loc[products['product_id'] == product_id]['subcategory'].values[0]

    # 대분류 category에서 대상 상품의 비중 계산
    total_qty_target = temp1['qty'].sum()
    total_qty_category = temp2['qty'].sum()
    
    if total_qty_category > 0:
        proportion = total_qty_target / total_qty_category * 100
    else:
        proportion = 0  # 0으로 나눔 방지
    print(f"{product_id}의 판매량이 {category_name}에서 차지하는 비중: {proportion:.2f}%")


target_store = 44
target_products = [3,7,12]

for t in target_products:
    category_product_sales_trend_percents(target_store,t,'2014-01-01', '2016-12-31')






def product_sales_diff_trend(store_id , product_id ,sdate,edate):
    #대상 상품 판매량 추이
    temp = sales.loc[(sales['store_id']==store_id)&
    (sales['product_id']==product_id)&
    (sales['date'].between(sdate,edate))]

    # 상품 판매 변화량 측정할 열 생성 
    temp['Qty_diff'] = temp['qty'].diff()

    # 대상 상품과 연관된 상품의 중분류 
    target = products.loc[products['product_id'] ==product_id]['subcategory'].values[0]
    
    # 그래프 시각화
    plt.figure(figsize=(6, 3))
    plt.plot('date', 'Qty_diff', data=temp, linewidth=0.8)
    plt.title(f'{target}\'s Qty_diff per date ', size=12, pad=10)
    plt.tight_layout()
    plt.show()





target_store = 44
target_products = [3,7,12]

for t in target_products:
    product_sales_diff_trend(target_store,t,'2014-01-01', '2016-12-31')







target_store = 44
target_products = [3,7,12]

for t in target_products:
    product_sales_diff_trend(target_store,t,'2016-01-01', '2016-12-31')




# (추가) 한달내 주기가 있나?
target_store = 44
target_products = [3,7,12]

for t in target_products:
    product_sales_diff_trend(target_store,t,'2016-01-01', '2016-01-31')

# (의견) 음료, 청소, 우유 등은 7주기로 상품 판매량이 변동함 






def weekly_sales_diff_trend( store_id, product_id, sdate, edate):
    #대상 상품 판매량 추이
    temp = sales.loc[(sales['store_id']==store_id)&
    (sales['product_id']==product_id)&
    (sales['date'].between(sdate,edate))]

    # 상품 판매 변화량 측정할 열 생성 
    temp['Qty_diff'] = temp['qty'].diff()

    # 요일별로 집계할 수 있도록 요일 열 추가
    temp['Weekday'] = temp['date'].dt.weekday
    

    # 대상 상품과 연관된 상품의 중분류 
    target = products.loc[products['product_id'] ==product_id]['subcategory'].values[0]
    
    # 그래프 시각화
    plt.subplot(2, 1, 1)
    sns.barplot(x='Weekday', y='qty', data=temp)
    plt.title(f'{target}\'s Qty per Weekday ', size=12, pad=10)
    plt.subplot(2, 1, 2)
    sns.barplot(x='Weekday', y='Qty_diff', data=temp)
    plt.title(f'{target} relate products Qty_diff per date ' , size=12, pad=10)
    plt.tight_layout()
    plt.show()





target_store = 44
target_products = [3,7,12]

for t in target_products:
    weekly_sales_diff_trend(target_store,t,'2016-01-01', '2016-12-31')

# 결론 3 7 12 상품은 주말 특ㅎarget_store = 44
target_products = [3,7,12]

for t in target_products:
    weekly_sales_diff_trend(target_store,t,'2016-01-01', '2016-12-31')

# 결론 3 7 12 상품은 주말 (특히 일요일)에 판매량이 증가함








# 함수 만들기
def decomp_plot(store_id, product_id, sdate, edate, period):
    # 시계열 데이터 분해
    temp = sales.loc[(sales['store_id']==store_id) & (sales['product_id']==product_id) & (sales['date'].between(sdate, edate))]
    temp.reset_index(drop=True, inplace=True)
    decomp = sm.tsa.seasonal_decompose(temp['qty'], model='additive', period=period)

    # 시계열 분해 결과를 받아서 데이터프레임으로 저장
    result = pd.DataFrame({'observed':decomp.observed,
                          'trend':decomp.trend,
                          'seasonal':decomp.seasonal,
                          'residual':decomp.resid})

    # 4개의 그래프로 나눠서 그리기
    plt.figure(figsize=(12, 6))
    plt.suptitle('Time Series Decomposition', size=15)
   
    # observed
    plt.subplot(4, 1, 1)
    plt.plot(result['observed'], linewidth=0.8)
    plt.setp(plt.gca().get_xticklabels(), visible=False)
    plt.title(f'Product: {product_id}, Period: {sdate} ~ {edate}', size=9)
    plt.ylabel('observed')
    # trend
    plt.subplot(4, 1, 2)
    plt.plot(result['trend'], linewidth=0.8)
    plt.setp(plt.gca().get_xticklabels(), visible=False)
    plt.ylabel('trend')
    # seasonal
    plt.subplot(4, 1, 3)
    plt.plot(result['seasonal'], linewidth=0.8)
    plt.setp(plt.gca().get_xticklabels(), visible=False)
    plt.ylabel('seasonal')
    # residual
    plt.subplot(4, 1, 4)
    plt.plot(result['residual'], linewidth=0.8)
    plt.ylabel('residual')
    plt.tight_layout()
    plt.show()





# 2016년 시계열 데이터를 분해
main_product = [3, 7, 12]
for p in main_product:
    decomp_plot(44, p, '2016-01-01', '2016-12-31', 7)





# 모듈 불러오기
from statsmodels.graphics.tsaplots import plot_acf

# 함수 만들기
def auto_correlation(store_id, product_id, sdate, edate):
    temp = sales.loc[(sales['store_id']==store_id) & (sales['product_id']==product_id) & (sales['date'].between(sdate, edate)), ['qty']]
    fig, ax = plt.subplots(figsize=(12, 3))
    plot_acf(temp['qty'], lags=50, alpha=0.05, ax=ax)
    plt.title('Auto Correlation', size=15, pad=30)
    plt.suptitle(f'Product: {product_id}, Period: {sdate} ~ {edate}', size=9)
    plt.show()





# 2016년 자기상관 분석
main_product = [3, 7, 12]
for p in main_product:
    auto_correlation(44, p, '2016-01-01', '2016-12-31')





# 1. 3 7 12 상품은 일정한 주기성을 띄고있다
# >> 비즈니스 전략을 생각해보자 












