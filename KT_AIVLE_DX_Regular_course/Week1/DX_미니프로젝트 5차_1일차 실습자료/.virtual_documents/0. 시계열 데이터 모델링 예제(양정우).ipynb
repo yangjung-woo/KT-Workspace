











# 라이브러리 불러오기
import numpy as np
import pandas as pd
import matplotlib.pyplot as plt
import seaborn as sns
import warnings

warnings.filterwarnings(action='ignore')
%config InlineBackend.figure_format = 'retina'


# 시각화 폰트 사이즈 설정
plt.rc('font', size=7)
plt.rc('xtick', labelsize=7)
plt.rc('ytick', labelsize=7)
plt.rc('axes', titlesize=8)
plt.rc('axes', labelsize=8)
plt.rc('legend', fontsize=8)
plt.rc('axes', linewidth=0.3)


# 데이터 불러오기
path = 'https://bit.ly/BikeFile'
bike= pd.read_csv(path)

# 확인
bike.head()





# 확인
bike.info()


# datetime 변환
bike['DateTime'] = pd.to_datetime(bike['DateTime'])

# 확인
bike.info()





# 평가용 데이터 분리
data_test = bike.loc[bike['DateTime'] >= '2018-11-01', :].copy()
data = bike.loc[bike['DateTime'] < '2018-11-01', :].copy()

# 확인
print('Train Data:', data.shape)
print('Test Data:', data_test.shape)











# 상위 데이터
data.head()





# 하위 데이터
data.tail()


# 날짜, 시간 범위 확인
print(data['DateTime'].min(), '~', data['DateTime'].max())


# 기술 통계
data.describe()








# Seasons
print(data['Seasons'].value_counts())
print('-' * 25)
print(data['Seasons'].value_counts(normalize=True))


# Season 비율 시각화
plt.figure(figsize=(6, 3))
sns.countplot(x=data['Seasons'])
plt.title('Seasons', size=12, pad=10)
plt.show()





# Holiday
print(data['Holiday'].value_counts())
print('-' * 25)
print(data['Holiday'].value_counts(normalize=True))


# Holiday 비율 시각화
plt.figure(figsize=(6, 3))
sns.countplot(x=data['Holiday'])
plt.title('Holiday', size=12, pad=10)
plt.show()





# 함수 만들기
def show_trend(col, start, end='9999-12-31'):
    temp = data.loc[data['DateTime'].between(start, end)]
    plt.figure(figsize=(10, 2))
    plt.plot('DateTime', col, data=temp, linewidth=0.8)
    plt.title(col, size=12, pad=10)
    plt.tight_layout()
    plt.show()





# 수요량
show_trend('Count', '2017-12-01 00:00:00')
show_trend('Count', '2017-12-01 00:00:00', '2017-12-14 23:00:00')





# 기온
show_trend('Temperature', '2017-12-01 00:00:00')
show_trend('Temperature', '2017-12-01 00:00:00', '2017-12-14 23:00:00')





# 습도
show_trend('Humidity', '2017-12-01 00:00:00')
show_trend('Humidity', '2017-12-01 00:00:00', '2017-12-14 23:00:00')





# 풍속
show_trend('WindSpeed', '2017-12-01 00:00:00')
show_trend('WindSpeed', '2017-12-01 00:00:00', '2017-12-14 23:00:00')








# 함수 만들기
def show_trend_count(col, start, end='9999-12-31'):
    temp = data.loc[data['DateTime'].between(start, end)]
    plt.figure(figsize=(10, 4))
    plt.subplot(2, 1, 1)
    plt.plot('DateTime', 'Count', data=temp, linewidth=0.8)
    plt.title('Count', size=12, pad=10)
    plt.subplot(2, 1, 2)
    plt.plot('DateTime', col, data=temp, linewidth=0.8)
    plt.title(col, size=12, pad=10)
    plt.tight_layout()
    plt.show()





# 기온 & 수요량
show_trend_count('Temperature', '2017-12-01 00:00:00', '2017-12-14 23:00:00')





# 습도 & 수요량
show_trend_count('Humidity', '2017-12-01 00:00:00', '2017-12-14 23:00:00')





# 풍속 & 수요량
show_trend_count('WindSpeed', '2017-12-01 00:00:00', '2017-12-14 23:00:00')





# 변화량
nums = [10, 12, 16, 23, 20, 15, 16, 21, 20, 25, 18]
nums_diff = pd.Series(nums).diff()
print(nums_diff)

# 시각화
plt.figure(figsize=(6, 3))
plt.plot(nums_diff, marker='o', linewidth=0.8)
plt.axhline(0, color='r', linestyle='--', linewidth=0.8)
plt.title('Difference', size=12, pad=10)
plt.show()





# 수요량 변화량(2주간)
temp = data[:24 * 14]
temp['CountDiff'] = temp['Count'].diff()

# 시각화
plt.figure(figsize=(12, 3))
plt.subplot(1, 2, 1)
plt.plot(temp['CountDiff'], linewidth=0.8)
plt.title('CountDiff', size=12, pad=10)
plt.subplot(1, 2, 2)
plt.hist(temp['CountDiff'], bins=30, alpha=0.7, ec='k')
plt.title('CountDiff', size=12, pad=10)
plt.show()





# 요일 추가
temp['Weekday'] = temp['DateTime'].dt.weekday

# 시각화
plt.figure(figsize=(12, 3))
plt.subplot(1, 2, 1)
sns.barplot(x='Weekday', y='Count', data=temp)
plt.title('Count', size=12, pad=10)
plt.subplot(1, 2, 2)
sns.barplot(x='Weekday', y='CountDiff', data=temp)
plt.title('CountDiff', size=12, pad=10)
plt.show()





# 시간대 추가
temp['Hour'] = temp['DateTime'].dt.hour

plt.figure(figsize=(12, 3))
plt.subplot(1, 2, 1)
sns.barplot(x='Hour', y='Count', data=temp)
plt.title('Count', size=12, pad=10)
plt.subplot(1, 2, 2)
sns.barplot(x='Hour', y='CountDiff', data=temp)
plt.title('CountDiff', size=12, pad=10)
plt.show()





data[['Count']]


# 데이터프레임 만들기
temp = data[['Count']]

# 지연 속성 50개 추가
for x in range(1, 51):
    temp[f'Count_Lag_{x}'] = temp['Count'].shift(x)
temp.dropna(inplace=True)

# 상관계수
tmp = temp.corr()[['Count']][0:]
display(tmp.T)

# 시각화
plt.figure(figsize=(12, 3))
plt.bar(x=range(51), height=tmp['Count'])
plt.title('Autocorrelation(Count)', size=12, pad=10)
plt.show()

# 시계열 데이터의 자기상관관계가 높다 > 시간에 따라 예측을 할 수 있다 


temp





# 모듈 불러오기
from statsmodels.graphics.tsaplots import plot_acf

# 자기상관 분석 시각화
fig, ax = plt.subplots(figsize=(12, 3))
plot_acf(data['Count'], lags=50, alpha=0.05, ax=ax)
plt.show()





# 데이터프레임 만들기
temp = data[['Count']]

# 지연 속성 추가
for x in range(1, 51):
    temp[f'Temp_Lag_{x}'] = data['Temperature'].shift(x) # 교차 상관계수 
temp.dropna(inplace=True)

# 상관계수
tmp = temp.corr()['Count'][1:]

# 시각화
plt.figure(figsize=(12, 3))
plt.bar(x=range(50), height=tmp)
plt.title('Cross-Correlation(Count, Temperature)', size=12, pad=10)
plt.show()





# 모듈 불러오기
from statsmodels.tsa.stattools import ccf

# 교차 상관 계수 계산
ccf_values = ccf(data['Count'], data['Temperature'])[:50]

# 시각화
plt.figure(figsize=(12, 3))
plt.bar(range(50), ccf_values)
plt.title('Cross-Correlation(Count, Temperature)', size=12, pad=10)
plt.show()





# 온도 & 수요량
plt.figure(figsize=(6, 3))
sns.scatterplot(x='Temperature', y='Count', data=data)
plt.title('Bike Demand vs. Temperature', size=12, pad=10)
plt.xlabel('Temperature (°C)')
plt.ylabel('Bike Demand (Count)')
plt.show()


# 계절 & 수요량
plt.figure(figsize=(6, 3))
sns.boxplot(x='Seasons', y='Count', data=data)
plt.title('Bike Demand by Season', size=12, pad=10)
plt.xlabel('Season')
plt.ylabel('Bike Demand (Count)')
plt.show()





# 모듈 불러오기
import statsmodels.api as sm

# 시계열 데이터 분해
temp = data.loc[data['DateTime'].between('2017-12-01 00:00:00', '2017-12-31 23:00:00')]
decomp = sm.tsa.seasonal_decompose(temp['Count'], model='additive', period=24)

# 시계열 분해 결과를 받아서 데이터프레임으로 저장
result = pd.DataFrame({'observed':decomp.observed,
                       'trend':decomp.trend,
                       'seasonal':decomp.seasonal,
                       'residual':decomp.resid})





# Observed
plt.figure(figsize=(10, 2))
plt.plot(result['observed'], linewidth=0.8)
plt.title('Time Series Decomposition', size=12, pad=10)
plt.ylabel('Observed')
plt.show()





# Trend
plt.figure(figsize=(10, 2))
plt.plot(result['trend'], linewidth=0.8)
plt.title('Time Series Decomposition', size=12, pad=10)
plt.ylabel('Trend')
plt.show()








# Seasonality
plt.figure(figsize=(10, 2))
plt.plot(result['seasonal'], linewidth=0.8)
plt.title('Time Series Decomposition', size=12, pad=10)
plt.ylabel('Seasonal')
plt.show()








# Residual
plt.figure(figsize=(10, 2))
plt.plot(result['residual'], linewidth=0.8)
plt.title('Time Series Decomposition', size=12, pad=10)
plt.ylabel('Residual')
plt.show()








# Target 추가
data['Target'] = data['Count'].shift(-2) # 중요 미래 2일의 데이터를 예측할 것이기에 shift(-2) 를 타겟으로

# Hour, Weekday 추가
data['Hour'] = data['DateTime'].dt.hour
data['Weekday'] = data['DateTime'].dt.day_name()

# Count 지연 속성 추가
data['Count_Lag_1'] = data['Count'].shift(1)
data['Count_Lag_2'] = data['Count'].shift(2)
data['Count_Lag_3'] = data['Count'].shift(3)

# Temperature 지연 속성 추가
data['Temperature_Lag_1'] = data['Temperature'].shift(1)
data['Temperature_Lag_2'] = data['Temperature'].shift(2)

# WindSpeed 지연 속성 추가
data['WindSpeed_Lag_1'] = data['WindSpeed'].shift(1)

# 최근 2일간 수요량 평균
data['Count_Mean_2'] = data['Count'].rolling(2, min_periods=1).mean()

# 최근 3일간 수요량 평균
data['Count_Mean_3'] = data['Count'].rolling(3, min_periods=1).mean()

# 최근 7일간 수요량 평균
data['Count_Mean_7'] = data['Count'].rolling(7, min_periods=1).mean()

# NaN 값이 생성된 행 제거
data.dropna(inplace=True)

# 확인
data.head(10)





# x, y 분리
x = data.drop(['DateTime', 'Target'], axis=1)
y = data.loc[:, 'Target']

# 가변수화  (주의) 계절별로 학습을 할때  학습용 검증용으로 분할하게 되면 봄여름가을 데이터를 학습용으로 , 겨울 데이터를 검증용으로 사용할 것임 

# 해결방법 : pd.Categorical(x['Seasons'], categories=seasons)  <  가변수화 할때 4개의 계절이 보존된다
seasons = ['Spring', 'Summer', 'Autumn','Winter']
weekday = ['Monday', 'Tuesday', 'Wednesday', 'Thursday', 'Friday', 'Saturday', 'Sunday']
holiday = ['No Holiday', 'Holiday']
x['Seasons'] = pd.Categorical(x['Seasons'], categories=seasons)
x['Weekday'] = pd.Categorical(x['Weekday'], categories=weekday)
x['Holiday'] = pd.Categorical(x['Holiday'], categories=holiday)
x = pd.get_dummies(x, drop_first=True, dtype=int)

# 확인
x.head()





# 불러오기
from sklearn.model_selection import train_test_split
from sklearn.ensemble import RandomForestRegressor
from sklearn.metrics import root_mean_squared_error, r2_score

# 학습용, 검증용 분리
x_train, x_val, y_train, y_val = train_test_split(x, y, test_size=24*30, shuffle=False, random_state=1)
# 중요! 시계열 데이터는 학습할때 shuffle=False 섞으면 안됌
# test_size=24*30 ?  24시간 x 30  >> 즉 1달치 데이터를 검증용으로 사용할 것이다 
# 선언하기
model = RandomForestRegressor(random_state=1)

# 학습하기
model.fit(x_train, y_train)

# 예측하기
y_val_pred = model.predict(x_val)

# 평가하기
print('RMSE:',  root_mean_squared_error(y_val, y_val_pred))
print('R2:',  r2_score(y_val, y_val_pred))





# 함수 만들기
def plot_model_result(y_train, y_val, y_pred):
    y_train = pd.Series(y_train)
    y_val = pd.Series(y_val)
    y_val.index = range(len(y_train), len(y_train) + len(y_val))
    y_pred = pd.Series(y_pred.reshape(-1,), index=y_val.index)

    # 전체 시각화
    plt.figure(figsize=(10, 4))
    plt.subplot(2,1,1)
    plt.plot(y_train, label='Train', color='tab:blue', linewidth=0.8)
    plt.plot(y_val, label='Test', color='tab:green', linewidth=0.8)
    plt.plot(y_pred, label='Pred', color='tab:orange', linewidth=0.8)
    plt.legend()
    plt.subplot(2,1,2)
    plt.plot(y_val, label = 'Test', color='tab:green', linewidth=0.8)
    plt.plot(y_pred, label = 'Pred', color='tab:orange', linewidth=0.8)
    plt.legend()
    plt.tight_layout()
    plt.show()


# 예측 결과 시각화
plot_model_result(y_train, y_val, y_val_pred)





# Target 추가 > 평가용 데이터 역시 시계열로 변환해주는데 이를 만드는 함수를 만들면 평가도 편해짐 
data_test['Target'] = data_test['Count'].shift(-2)
data_test.dropna(inplace=True)

# Hour, Weekday 추가
data_test['Hour'] = data_test['DateTime'].dt.hour
data_test['Weekday'] = data_test['DateTime'].dt.day_name()

# Count 지연 속성 추가
data_test['Count_Lag_1'] = data_test['Count'].shift(1)
data_test['Count_Lag_2'] = data_test['Count'].shift(2)
data_test['Count_Lag_3'] = data_test['Count'].shift(3)

# Temperature 지연 속성 추가
data_test['Temperature_Lag_1'] = data_test['Temperature'].shift(1)
data_test['Temperature_Lag_2'] = data_test['Temperature'].shift(2)

# WindSpeed 지연 속성 추가
data_test['WindSpeed_Lag_1'] = data_test['WindSpeed'].shift(1)

# 최근 2일간 수요량 평균
data_test['Count_Mean_2'] = data_test['Count'].rolling(2, min_periods=1).mean()

# 최근 3일간 수요량 평균
data_test['Count_Mean_3'] = data_test['Count'].rolling(3, min_periods=1).mean()

# 최근 7일간 수요량 평균
data_test['Count_Mean_7'] = data_test['Count'].rolling(7, min_periods=1).mean()

# NaN 값이 생성된 행 제거
data_test.dropna(inplace=True)


# x, y 분리
x_test = data_test.drop(['DateTime', 'Target'], axis=1)
y_test = data_test.loc[:, 'Target']

# 가변수화
seasons = ['Spring', 'Summer', 'Autumn','Winter']
weekday = ['Monday', 'Tuesday', 'Wednesday', 'Thursday', 'Friday', 'Saturday', 'Sunday']
holiday = ['No Holiday', 'Holiday']
x_test['Seasons'] = pd.Categorical(x_test['Seasons'], categories=seasons)
x_test['Weekday'] = pd.Categorical(x_test['Weekday'], categories=weekday)
x_test['Holiday'] = pd.Categorical(x_test['Holiday'], categories=holiday)
x_test= pd.get_dummies(x_test, drop_first=True, dtype=int)





# 예측하기
y_test_pred = model.predict(x_test)

# 평가하기
print('RMSE:', root_mean_squared_error(y_test, y_test_pred))
print('R2:',  r2_score(y_test, y_test_pred))





# 예측 결과 시각화
plot_model_result(pd.concat([y_train, y_val]), y_test, y_test_pred)



