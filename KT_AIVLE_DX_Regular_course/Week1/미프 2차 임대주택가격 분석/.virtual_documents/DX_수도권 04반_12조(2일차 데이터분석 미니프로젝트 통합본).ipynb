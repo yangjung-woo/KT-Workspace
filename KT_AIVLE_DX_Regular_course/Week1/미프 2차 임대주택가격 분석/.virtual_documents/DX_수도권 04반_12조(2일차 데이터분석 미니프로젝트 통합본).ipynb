

















import pandas as pd
import numpy as np
import matplotlib.pyplot as plt
import seaborn as sns
import scipy.stats as spst
from statsmodels.graphics.mosaicplot import mosaic      #mosaic plot!
import joblib


def categorical_numerical(df, feature, target) : # 범주형 , 숫자형 변수간 검정  (t-test, Anova) / 막대그래프 시각화 / 
    
    '''
    df = 데이터프레임
    feature = 구분 데이터프레임의 컬럼명
    target  = 목표 데이터프레임의 컬럼명
    '''
    
    sns.barplot(x = feature, y = target, data = df)
    plt.rcParams['font.family'] = 'Malgun Gothic'
    
    plt.grid()
    plt.tight_layout()
    plt.xticks(rotation=45)  # 45도 회전
    plt.show()

    '''
    an_list = []
    for i in range(df[feature].nunique()) :
        an_list.append(df.loc[df[feature] == i, target])# i가 0, 1, 2,...로 증가하는데, 이 인덱스가 feature의 실제 고유값과 일치하지 않을 수 있음
    '''
    #feature 컬럼의 실제 고유값을 사용하여 그룹을 생성
    unique_vals = df[feature].unique()
    an_list = [df.loc[df[feature] == val, target].dropna() for val in unique_vals]  # 결측치 처리 추가

    if len(an_list) == 2:
    # t-test
        t_stat, p_value = spst.ttest_ind(an_list[0], an_list[1])
        print(f"T-test 결과: t-statistic = {t_stat}, p-value = {p_value}")

    elif len(an_list) > 2:
    # ANOVA
        f_stat, p_value = spst.f_oneway(*an_list)
        print(f"ANOVA 결과: F-statistic = {f_stat}, p-value = {p_value}")

    else:
        print("비교할 그룹이 부족합니다.")
        
def categorical_categorical(df , feature , target): # 범주형 --> 범주형 간 검정 (카이제곱검정) / 모자이크플롯
    '''
    df = 데이터프레임
    feature = 구분 데이터프레임의 컬럼명
    target  = 목표 데이터프레임의 컬럼명
    '''
    mosaic(df, [ feature,target])
    #plt.axhline(1- df[target].mean(), color = 'r')
    plt.rcParams['font.family'] = 'Malgun Gothic'
    plt.grid()
    plt.tight_layout()
    plt.xticks(rotation=45)  # 45도 회전
    plt.show()
    
    # 먼저 집계
    table = pd.crosstab(df[target], df[feature])
    print('교차표\n', table)
    print('=' * 100)

    # 카이제곱검정
    result = spst.chi2_contingency(table)
    print('카이제곱통계량', result[0])
    print('p-value', result[1])
    print('자유도', result[2])
    # print('기대빈도\n',result[3])
    
    
    
def numerical_numerical(df, feature , target): # 숫자형 , 숫자형 
    # 산점도 + 회귀분석 선 표기
    
    '''
    df = 데이터프레임
    feature = 구분 데이터프레임의 컬럼명
    target  = 목표 데이터프레임의 컬럼명
    '''
    sns.regplot(x=feature, y = target, data = df)
    plt.rcParams['font.family'] = 'Malgun Gothic'
    plt.grid()
    plt.tight_layout()
    plt.xticks(rotation=45)  # 45도 회전
    plt.show()
    print('='*100)
    result = spst.pearsonr(df[feature], df[target])
    print(f'상관계수 : {result[0]}, p-value : {result[1]}')


def numerical_numerical_hitmap(df):
    '''
    df = 데이터프레임
    '''
    # 숫자형으로 구성된 데이터들 한해서만 상관분석 수행 
    temp = df.select_dtypes(include=['number'])
    plt.figure(figsize = (8, 8))
    # 한글 폰트 설정: 맑은 고딕
    plt.rcParams['font.family'] = 'Malgun Gothic'
    # 유니코드 마이너스 사용 설정
    plt.rcParams['axes.unicode_minus'] = False
    sns.heatmap(temp.corr(),
            annot = True,            # 숫자(상관계수) 표기 여부
            fmt = '.2f',             # 숫자 포멧 : 소수점 3자리까지 표기
            cmap = 'RdYlBu_r',       # 칼라맵
            vmin = -1, vmax = 1)     # 값의 최소, 최대값
    plt.show()





import matplotlib.font_manager as fm

# 설치된 폰트
font_list = [font.name for font in fm.fontManager.ttflist]

# 맑은고딕이 있는지 확인
'Malgun Gothic' in font_list


plt.rcParams['font.family'] = 'Malgun Gothic'








path = ''








base_data = joblib.load(path+'base_data.pkl')
complex_data_total = joblib.load(path+'complex_data_total.pkl')


base_data.head()


base_data.columns


complex_data_total.head()



complex_data_total.columns


base_data['난방방식'] = base_data['난방방식'].fillna('기타').astype(str)
 
# 사전 정의
mapping = {'개별가스난방' : '개별난방',
          '개별유류난방' : '개별난방',
          '중앙가스난방' : '중앙난방',
          '중앙난방' : '중앙난방',
          '중앙유류난방' : '중앙난방',
          '지역가스난방' : '지역난방',
          '지역난방' : '지역난방',
          '지역유류난방' : '지역난방',
          '기타' : '기타'}
 
# 난방방식 통합(지역난방, 중앙난방, 개별난방)
for i in range(len(base_data)):
    current = base_data.loc[i, '난방방식']
    if current in mapping:
        base_data.loc[i, '난방방식'] =  mapping[current]
 
# 확인
base_data.head()


temp = complex_data_total[['단지코드','지역주간대중교통이용횟수','total_fee','price_per_area']]

merge_data = pd.merge(base_data, temp, on='단지코드', how='left')
















merge_data.describe().T


merge_data.isna().sum()








# 대상 총세대수, 실차량수, 임대로, 임대보증금, 총면적
plt.figure(figsize= (9,4))
plt.subplot(1,2,1)
plt.hist(merge_data.총세대수, bins = 10, edgecolor = 'gray') 
plt.xlabel('총세대수 분포')
plt.subplot(1,2,2)
plt.boxplot(base_data.총세대수) 
plt.tight_layout()
plt.show()


plt.figure(figsize= (9,4))
plt.subplot(1,2,1)
plt.hist(merge_data.실차량수, bins = 10, edgecolor = 'gray') 
plt.xlabel('실차량수 분포')
plt.subplot(1,2,2)
plt.boxplot(base_data.실차량수) 
plt.tight_layout()
plt.show()


plt.figure(figsize= (9,4))
plt.subplot(1,2,1)
plt.hist(merge_data.임대료, bins = 10, edgecolor = 'gray') 
plt.xlabel('임대료 분포')
plt.subplot(1,2,2)
plt.boxplot(base_data.임대료) 
plt.tight_layout()
plt.show()


plt.figure(figsize= (9,4))
plt.subplot(1,2,1)
plt.hist(merge_data.임대보증금, bins = 10, edgecolor = 'gray') 
plt.xlabel('임대보증금 분포')
plt.subplot(1,2,2)
plt.boxplot(base_data.임대보증금) 
plt.tight_layout()
plt.show()


plt.figure(figsize= (9,4))
plt.subplot(1,2,1)
plt.hist(merge_data.총면적, bins = 10, edgecolor = 'gray') 
plt.xlabel('총면적 분포')
plt.subplot(1,2,2)
plt.boxplot(base_data.총면적) 
plt.tight_layout()
plt.show()


# pd.melt  데이터프레임의 열 요소를 행으로 추갛 
# # 대상 총세대수, 실차량수, 임대로, 임대보증금, 총면적 목표 변수들 

data_melted = pd.melt(merge_data, id_vars=['건물형태','난방방식','승강기설치여부'], value_vars=['총세대수'])

# 데이터 확인
print(data_melted)

# sns.barplot을 이용한 시각화
plt.figure(figsize=(10, 6))
sns.barplot(data=data_melted, x='건물형태', y='value')
plt.title('건물 형태별 총 세대수 구분 (건물 형태별)')
plt.xlabel('건물형태')
plt.ylabel('총 세대수 ')
plt.show()


data_melted = pd.melt(merge_data, id_vars=['건물형태','난방방식','승강기설치여부'], value_vars=['임대료'])

# sns.barplot을 이용한 시각화
plt.figure(figsize=(10, 6))
sns.barplot(data=data_melted, x='건물형태', y='value')
plt.title('건물 형태별 임대료 구분 (건물 형태별)')
plt.xlabel('건물형태')
plt.ylabel('임대료')
plt.show()


data_melted = pd.melt(merge_data, id_vars=['건물형태','난방방식','승강기설치여부'], value_vars=['임대료'])

# sns.barplot을 이용한 시각화
plt.figure(figsize=(10, 6))
sns.barplot(data=data_melted, x='난방방식', y='value')
plt.title('난방방식 별 임대료 구분 (건물 형태별)')
plt.xlabel('건물형태')
plt.ylabel('임대료')
plt.show()











numerical_numerical_hitmap(merge_data)


base_data.info()


# 숫자형 변수
# -  총세대수, 준공연도, 실차량수, 총면적 , 전용면적~10~.., 임대보증금, 임대료

# 범주형 변수 
# 지역 , 건물형태, 난방방식, 승강기설치여부 











target = '실차량수'


numerical_numerical(merge_data ,'총세대수',target)


numerical_numerical(merge_data ,'준공연도',target)


numerical_numerical(merge_data ,'총면적',target)


numerical_numerical(merge_data ,'임대보증금',target)


numerical_numerical(merge_data ,'임대료',target)








# 범주형 변수 
# 지역 , 건물형태, 난방방식, 승강기설치여부 
f_data = merge_data.copy()
print(f_data.isna().sum())
#사전 전처리 필요 



# 지역 --> 실차량수 
categorical_numerical(f_data , '지역',target)


f_data01 = f_data.dropna()
categorical_numerical(f_data01 , '건물형태',target)
print(f_data.head())


f_data02 = f_data.copy()
f_data03 = f_data02[f_data02['난방방식'] != '기타']
feature = '난방방식'
# target ='실차량수'
#categorical_numerical(f_data02 , '난방방식',target)
plt.figure(figsize=(15,9))
plt.subplot(2,2,1)
sns.barplot(x = feature, y = '실차량수', data = f_data03)
plt.rcParams['font.family'] = 'Malgun Gothic'
plt.grid()
plt.tight_layout()
plt.xticks(rotation=45)  # 45도 회전

unique_vals = f_data03[feature].unique()
an_list = [f_data03.loc[f_data03[feature] == val, '실차량수'].dropna() for val in unique_vals]  # 결측치 처리 추가

if len(an_list) == 2:
# t-test
    t_stat, p_value = spst.ttest_ind(an_list[0], an_list[1])
    print(f"T-test 결과: t-statistic = {t_stat}, p-value = {p_value}")

elif len(an_list) > 2:
# ANOVA
    f_stat, p_value = spst.f_oneway(*an_list)
    print(f"ANOVA 결과: F-statistic = {f_stat}, p-value = {p_value}")

else:
    print("비교할 그룹이 부족합니다.")

#categorical_numerical(f_data02 , '난방방식','임대료')
plt.subplot(2,2,2)
sns.barplot(x = feature, y = '임대료', data = f_data03)
plt.rcParams['font.family'] = 'Malgun Gothic'
plt.grid()
plt.tight_layout()
plt.xticks(rotation=45)  # 45도 회전

unique_vals = f_data03[feature].unique()
an_list = [f_data03.loc[f_data03[feature] == val, '임대료'].dropna() for val in unique_vals]  # 결측치 처리 추가

if len(an_list) == 2:
# t-test
    t_stat, p_value = spst.ttest_ind(an_list[0], an_list[1])
    print(f"T-test 결과: t-statistic = {t_stat}, p-value = {p_value}")

elif len(an_list) > 2:
# ANOVA
    f_stat, p_value = spst.f_oneway(*an_list)
    print(f"ANOVA 결과: F-statistic = {f_stat}, p-value = {p_value}")

else:
    print("비교할 그룹이 부족합니다.")

#categorical_numerical(f_data02 , '난방방식','임대보증금')
plt.subplot(2,2,3)
sns.barplot(x = feature, y = '임대보증금', data = f_data03)
plt.rcParams['font.family'] = 'Malgun Gothic'
plt.subplot(2,2,3)
plt.grid()
plt.tight_layout()
plt.xticks(rotation=45)  # 45도 회전

unique_vals = f_data03[feature].unique()
an_list = [f_data03.loc[f_data03[feature] == val, '임대보증금'].dropna() for val in unique_vals]  # 결측치 처리 추가

if len(an_list) == 2:
# t-test
    t_stat, p_value = spst.ttest_ind(an_list[0], an_list[1])
    print(f"T-test 결과: t-statistic = {t_stat}, p-value = {p_value}")

elif len(an_list) > 2:
# ANOVA
    f_stat, p_value = spst.f_oneway(*an_list)
    print(f"ANOVA 결과: F-statistic = {f_stat}, p-value = {p_value}")

else:
    print("비교할 그룹이 부족합니다.")
#categorical_numerical(f_data02 , '난방방식','총세대수')
plt.subplot(2,2,4)
sns.barplot(x = feature, y = '총세대수', data = f_data03)
plt.rcParams['font.family'] = 'Malgun Gothic'
plt.grid()
plt.tight_layout()
plt.xticks(rotation=45)  # 45도 회전

unique_vals = f_data03[feature].unique()
an_list = [f_data03.loc[f_data03[feature] == val, '총세대수'].dropna() for val in unique_vals]  # 결측치 처리 추가

if len(an_list) == 2:
# t-test
    t_stat, p_value = spst.ttest_ind(an_list[0], an_list[1])
    print(f"T-test 결과: t-statistic = {t_stat}, p-value = {p_value}")

elif len(an_list) > 2:
# ANOVA
    f_stat, p_value = spst.f_oneway(*an_list)
    print(f"ANOVA 결과: F-statistic = {f_stat}, p-value = {p_value}")

else:
    print("비교할 그룹이 부족합니다.")

plt.show()



sns.barplot(x = '난방방식', y = '준공연도', data = f_data03)
plt.rcParams['font.family'] = 'Malgun Gothic'
    
plt.grid()
plt.tight_layout()
plt.xticks(rotation=45)  # 45도 회전
plt.ylim(1990,2010)
plt.show()




sns.barplot(x = '난방방식', y = '실차량수', data = f_data03)
plt.rcParams['font.family'] = 'Malgun Gothic'
    
plt.grid()
plt.tight_layout()
plt.xticks(rotation=45)  # 45도 회전
plt.show()



f_data03 = f_data.dropna()
categorical_numerical(f_data03 , '승강기설치여부',target)


f_data.columns


f_data04 = f_data.dropna()
categorical_numerical(f_data04 , '지역','실차량수')
#categorical_numerical(f_data04 , '지역','임대료')
#categorical_numerical(f_data04 , '지역','임대보증금')
#categorical_numerical(f_data04 , '지역','총면적')



categorical_numerical(f_data04 , '지역','실차량수')





























merge_data.describe().T


# 실 차량수 --> 지역주간대중교토이용횟수 (숫자형 ->> 숫자형)
numerical_numerical(merge_data, '지역주간대중교통이용횟수','실차량수')


# 부자들은 차 소유가 많을것
# price_per_area -->> 실차량수 
# 전처리 필요
# inf 값을 NaN으로 바꾸고 NaN 값이 있는 행을 제거
temp = merge_data.replace([np.inf, -np.inf], np.nan).dropna(subset=['price_per_area'])

#merge_data['price_per_area'].value_counts
numerical_numerical(temp, 'price_per_area','실차량수')








complex_data_total = joblib.load('complex_data_result.pkl')
complex_data = joblib.load('complex_data_00.pkl')
detail_data = joblib.load('detail_data_00.pkl')


complex_data_total.head()


complex_data.head()


detail_data.head()


# 지역 확인
complex_data_total['지역'].unique()

# 지역별 집계
complex_data_total = complex_data_total.groupby(by='지역')[['총세대수', '실차량수']].sum()

# 한국교통안전공단_전국 지역별 대중교통 이용 및 환승실태
k_pm = pd.read_csv('한국교통안전공단_전국 지역별 대중교통 이용 및 환승실태_20231231.csv', encoding='cp949', index_col='구분1')
k_pm.head()


# 1주간 대중교통 이용횟수를 이용량으로 가정하고 해당 행만 추출
k_pm_use = k_pm[:1].copy()
k_pm_use = k_pm_use.astype('float')


# '서울', '부산울산', '대구경북', '경기', '광주전남', '강원', '충북', '대전충남', '경남', '제주', '전북', '세종'
k_pm_use['부산울산'] = (k_pm_use['부산'] + k_pm_use['울산']) / 2 
k_pm_use['대구경북'] = (k_pm_use['대구'] + k_pm_use['경북']) / 2 
k_pm_use['광주전남'] = (k_pm_use['광주'] + k_pm_use['전남']) / 2 
k_pm_use['대전충남'] = (k_pm_use['대전'] + k_pm_use['충남']) / 2 

kpm_df = k_pm_use[['서울', '부산울산', '대구경북', '경기', '광주전남', '강원', '충북', '대전충남', '경남', '제주', '전북', '세종']].copy().transpose()
kpm_df = kpm_df.reset_index().rename(columns = {'index':'지역', '1주간대중교통이용횟수(회)': '지역주간대중교통이용횟수'})
kpm_df


complex_data04 = pd.merge(complex_data_total, kpm_df, how='left', on='지역')[['지역', '지역주간대중교통이용횟수']]
complex_data04.head()


# 기존데이터셋과 합치기
complex_data05 = pd.merge(complex_data_total, complex_data04, how='left', on='지역')

# 확인
complex_data05


numerical_numerical(complex_data05,'지역주간대중교통이용횟수','실차량수')





# 가장 최신(2022년)의 거주기간 평균 
# 수도권: 6.6 | 광역시 등: 7.8 | 도단위: 10
resident = pd.DataFrame(index = ['서울', '부산울산', '대구경북', '경기', '광주전남', '강원', '충북', '대전충남', '경남', '제주', '전북', '세종'],
             data = [6.6, 7.8, 9.9, 10, 9.9, 10, 10, 9.9, 10, 10, 10, 7.8])
 
resident = resident.reset_index()
resident.columns = ['지역', '평균거주기간']
 
# complex_data와 resident merge
temp01 = pd.merge(complex_data, resident, how='left', on='지역')
temp01['세대별입주금액'] = (detail_data['임대보증금'] + detail_data['임대료'] * 12) * temp01['평균거주기간']
 
# 확인
temp01.head()


numerical_numerical(temp01,'세대별입주금액','실차량수')





# 난방방식의 결측치는 '기타'로 처리
complex_data['난방방식'] = complex_data['난방방식'].fillna('기타').astype(str)
 
# 사전 정의
mapping = {'개별가스난방' : '개별난방',
          '개별유류난방' : '개별난방',
          '중앙가스난방' : '중앙난방',
          '중앙난방' : '중앙난방',
          '중앙유류난방' : '중앙난방',
          '지역가스난방' : '지역난방',
          '지역난방' : '지역난방',
          '지역유류난방' : '지역난방',
          '기타' : '기타'}
 
# 난방방식 통합(지역난방, 중앙난방, 개별난방)
for i in range(len(complex_data)):
    current = complex_data.loc[i, '난방방식']
    if current in mapping:
        complex_data.loc[i, '난방방식'] =  mapping[current]
 
# 확인
complex_data.head()


# 시각화
f_data02 = complex_data.copy()
f_data03 = f_data02[f_data02['난방방식'] != '기타']
feature = '난방방식'
# target ='실차량수'
#categorical_numerical(f_data02 , '난방방식',target)
plt.figure(figsize=(15,9))
sns.barplot(x = feature, y = '실차량수', data = f_data03)
plt.rcParams['font.family'] = 'Malgun Gothic'
plt.grid()
plt.tight_layout()
plt.xticks(rotation=45)  # 45도 회전

unique_vals = f_data03[feature].unique()
an_list = [f_data03.loc[f_data03[feature] == val, '실차량수'].dropna() for val in unique_vals]  # 결측치 처리 추가

if len(an_list) == 2:
# t-test
    t_stat, p_value = spst.ttest_ind(an_list[0], an_list[1])
    print(f"T-test 결과: t-statistic = {t_stat}, p-value = {p_value}")

elif len(an_list) > 2:
# ANOVA
    f_stat, p_value = spst.f_oneway(*an_list)
    print(f"ANOVA 결과: F-statistic = {f_stat}, p-value = {p_value}")

else:
    print("비교할 그룹이 부족합니다.")

plt.show()





complex_data[['총세대수']].describe().T

bin = [0, 500, 1000, np.inf] # 0이상~500미만, 500이상~1000미만
label = ['소형단지', '중형단지', '대단지']

complex_data['단지구분'] = pd.cut(complex_data['총세대수'], bins=bin, labels=label)

# 확인
display(complex_data.head())
display(complex_data['단지구분'].value_counts())


categorical_numerical(complex_data, '단지구분','실차량수')








base_data['total_fee'] = base_data['임대보증금'] + base_data['임대료']

# 확인
#base_data.head()

numerical_numerical(base_data , 'total_fee','실차량수') # 입대료 + 보증금





base_data.head()


base_data['price_per_area'] = base_data['총면적'] / base_data['total_fee']

# 이상치 제거 
# inf 또는 nan 값이 있는 행들을 제거
base_data = base_data[~base_data['price_per_area'].isin([np.inf, -np.inf])]  # inf 값 제거
base_data = base_data.dropna(subset=['price_per_area'])  # nan 값 제거
# 확인
# base_data.head()

numerical_numerical(base_data , 'price_per_area','실차량수') # 입대료 + 보증금



