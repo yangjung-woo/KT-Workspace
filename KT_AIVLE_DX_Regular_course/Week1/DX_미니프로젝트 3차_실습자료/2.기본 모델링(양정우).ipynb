{
 "cells": [
  {
   "cell_type": "markdown",
   "metadata": {
    "id": "NbI_RoQ9AP5r"
   },
   "source": [
    "#**스마트폰 센서 데이터 기반 모션 분류**\n",
    "# 단계2 : 기본 모델링\n"
   ]
  },
  {
   "cell_type": "markdown",
   "metadata": {
    "id": "D67PlTu4JGAY"
   },
   "source": [
    "## 0.미션"
   ]
  },
  {
   "cell_type": "markdown",
   "metadata": {
    "id": "KxwkCwUz4sv0"
   },
   "source": [
    "* 데이터 전처리\n",
    "    * 가변수화, 데이터 분할, NaN 확인 및 조치, 스케일링 등 필요한 전처리 수행\n",
    "* 다양한 알고리즘으로 분류 모델 생성\n",
    "    * 최소 4개 이상의 알고리즘을 적용하여 모델링 수행\n",
    "    * 성능 비교\n",
    "        * 각 모델의 성능을 관리하는 별도의 엑셀파일을 만들어 봅시다.\n",
    "        * 성능 가이드 : Accuracy 0.900 ~"
   ]
  },
  {
   "cell_type": "markdown",
   "metadata": {
    "id": "NCptKiLOAn7l"
   },
   "source": [
    "## 1.환경설정"
   ]
  },
  {
   "cell_type": "markdown",
   "metadata": {
    "id": "V1FK1b5HxOc3"
   },
   "source": [
    "* 세부 요구사항\n",
    "    - 경로 설정 : 로컬 수행(Ananconda)\n",
    "        * 제공된 압축파일을 다운받아 압축을 풀고\n",
    "        * anaconda의 root directory(보통 C:/Users/< ID > 에 project3_1 폴더를 만들고, 복사해 넣습니다.\n",
    "    - 기본적으로 필요한 라이브러리를 import 하도록 코드가 작성되어 있습니다.\n",
    "        * 필요하다고 판단되는 라이브러리를 추가하세요.\n"
   ]
  },
  {
   "cell_type": "markdown",
   "metadata": {
    "id": "3dm30YEUpZ8Q"
   },
   "source": [
    "### (1) 라이브러리 로딩"
   ]
  },
  {
   "cell_type": "code",
   "execution_count": 138,
   "metadata": {
    "id": "3rsQerEaELwI"
   },
   "outputs": [],
   "source": [
    "import pandas as pd\n",
    "import numpy as np\n",
    "import matplotlib.pyplot as plt\n",
    "import seaborn as sns\n",
    "from tqdm.auto import tqdm\n",
    "import warnings\n",
    "warnings.filterwarnings('ignore')\n",
    "\n",
    "import joblib\n",
    "\n",
    "# 필요한 라이브러리, 함수 로딩 ------------------\n",
    "from sklearn.tree import DecisionTreeClassifier\n",
    "from sklearn.neighbors import KNeighborsClassifier\n",
    "from sklearn.linear_model import LogisticRegression\n",
    "from sklearn.svm import SVC\n",
    "from sklearn.model_selection import GridSearchCV\n",
    "from sklearn.preprocessing import MinMaxScaler\n",
    "from xgboost import XGBClassifier\n",
    "from lightgbm import LGBMClassifier\n",
    "from sklearn.metrics import *\n",
    "# 하이퍼 파라미터 튜닝은 _val로 진행\n",
    "# 모델 성능 비교는 data_test로 진행\n",
    "# 변수를 삭제?  > 타당한 근거가 있어야 함  ex) Tree계열 알고리즘은 변수가 많아도 안정적인 성능\n",
    "#                                               LGBM ,로지스틱 회귀 , KNN은 변수가 많아지거나 이상한 변수가 추가되면 성능하락\n",
    "#                                               옵션(주성분 분석)\n"
   ]
  },
  {
   "cell_type": "markdown",
   "metadata": {
    "id": "XZ6nyqZkpZ8S"
   },
   "source": [
    "* 제공 함수 생성\n",
    "    * 변수 중요도를 시각화할 수 있는 함수를 제공합니다.\n",
    "    * 입력 :\n",
    "        * importance : 트리모델의 변수 중요도(예: model.feature_importances_)\n",
    "        * names : 변수 이름 목록(예 : x_train.columns\n",
    "        * result_only  : 변수 중요도 순으로 데이터프레임만 return할지, 그래프도 포함할지 결정. False이면 결과 데이터프레임 + 그래프\n",
    "        * topn : 중요도 상위 n개만 표시. all 이면 전체.\n",
    "    * 출력 :\n",
    "        * 중요도 그래프 : 중요도 내림차순으로 정렬\n",
    "        * 중요도 데이터프레임 : 중요도 내림차순으로 정렬"
   ]
  },
  {
   "cell_type": "code",
   "execution_count": 140,
   "metadata": {
    "id": "EyMZDIT-aDHZ"
   },
   "outputs": [],
   "source": [
    "# 변수의 특성 중요도 계산하기\n",
    "def plot_feature_importance(importance, names, result_only = False, topn = 'all'):\n",
    "    feature_importance = np.array(importance)\n",
    "    feature_name = np.array(names)\n",
    "    \n",
    "    data={'feature_name':feature_name,'feature_importance':feature_importance}\n",
    "    fi_temp = pd.DataFrame(data)\n",
    "\n",
    "    #변수의 특성 중요도 순으로 정렬하기\n",
    "    fi_temp.sort_values(by=['feature_importance'], ascending=False,inplace=True)\n",
    "    fi_temp.reset_index(drop=True, inplace = True)\n",
    "\n",
    "    if topn == 'all' :\n",
    "        fi_df = fi_temp.copy()\n",
    "    else :\n",
    "        fi_df = fi_temp.iloc[:topn]\n",
    "\n",
    "    #변수의 특성 중요도 그래프로 그리기\n",
    "    if result_only == False :\n",
    "        plt.figure(figsize=(10,20))\n",
    "        sns.barplot(x='feature_importance', y='feature_name', data = fi_df)\n",
    "\n",
    "        plt.xlabel('importance')\n",
    "        plt.ylabel('feature name')\n",
    "        plt.grid()\n",
    "\n",
    "    return fi_df"
   ]
  },
  {
   "cell_type": "markdown",
   "metadata": {
    "id": "bA-eHXdwBDCz"
   },
   "source": [
    "### (2) 데이터 불러오기"
   ]
  },
  {
   "cell_type": "markdown",
   "metadata": {
    "id": "HwIACQyupklv"
   },
   "source": [
    "* 주어진 데이터셋\n",
    "    * data01_train.csv : 학습 및 검증용\n",
    "    * data01_test.csv : 테스트용\n",
    "\n",
    "* 세부 요구사항\n",
    "    * 칼럼 삭제 : data01_train.csv와 data01_test.csv 에서 'subject' 칼럼은 불필요하므로 삭제합니다."
   ]
  },
  {
   "cell_type": "markdown",
   "metadata": {
    "id": "fmgUEGOipvG5"
   },
   "source": [
    "#### 1) 데이터로딩"
   ]
  },
  {
   "cell_type": "code",
   "execution_count": 142,
   "metadata": {
    "id": "FT_JFnclfcQ4"
   },
   "outputs": [],
   "source": [
    "data_train = pd.read_csv('data01_train.csv')"
   ]
  },
  {
   "cell_type": "code",
   "execution_count": 143,
   "metadata": {
    "id": "ZpMoNMpcQoQ5"
   },
   "outputs": [],
   "source": [
    "data_test = pd.read_csv('data01_test.csv')"
   ]
  },
  {
   "cell_type": "code",
   "execution_count": 144,
   "metadata": {
    "id": "uTi4ZuDWDlem"
   },
   "outputs": [],
   "source": [
    "drop_cols = 'subject'\n",
    "data_test.drop(columns = drop_cols ,inplace =True)\n",
    "data_train.drop(columns = drop_cols, inplace = True)"
   ]
  },
  {
   "cell_type": "markdown",
   "metadata": {
    "id": "aI7qJqz3pr3m"
   },
   "source": [
    "#### 2) 기본 정보 조회"
   ]
  },
  {
   "cell_type": "code",
   "execution_count": 149,
   "metadata": {
    "id": "yFVSAGNhpr3m"
   },
   "outputs": [
    {
     "name": "stdout",
     "output_type": "stream",
     "text": [
      "(5881, 562)\n",
      "(1471, 562)\n"
     ]
    }
   ],
   "source": [
    "print(data_train.shape)\n",
    "print(data_test.shape)"
   ]
  },
  {
   "cell_type": "code",
   "execution_count": 151,
   "metadata": {
    "id": "xJnnr8K-pr3m"
   },
   "outputs": [
    {
     "name": "stdout",
     "output_type": "stream",
     "text": [
      "<class 'pandas.core.frame.DataFrame'>\n",
      "RangeIndex: 1471 entries, 0 to 1470\n",
      "Columns: 562 entries, tBodyAcc-mean()-X to Activity\n",
      "dtypes: float64(561), object(1)\n",
      "memory usage: 6.3+ MB\n"
     ]
    }
   ],
   "source": [
    "data_test.info() "
   ]
  },
  {
   "cell_type": "code",
   "execution_count": 153,
   "metadata": {
    "id": "ajJ1qJkhpr3n"
   },
   "outputs": [
    {
     "name": "stdout",
     "output_type": "stream",
     "text": [
      "train 데이터 범주의 종류: \n",
      " ['STANDING' 'LAYING' 'WALKING' 'WALKING_DOWNSTAIRS' 'WALKING_UPSTAIRS'\n",
      " 'SITTING']\n",
      "test 데이터 범주의 종류: \n",
      " ['STANDING' 'LAYING' 'WALKING' 'WALKING_DOWNSTAIRS' 'WALKING_UPSTAIRS'\n",
      " 'SITTING']\n"
     ]
    }
   ],
   "source": [
    "# Acrivity 범주의 종류 확인\n",
    "categories_train = data_train['Activity'].unique()\n",
    "categories_test = data_test['Activity'].unique()\n",
    "print(\"train 데이터 범주의 종류: \\n\", categories_train)\n",
    "print(\"test 데이터 범주의 종류: \\n\", categories_train)"
   ]
  },
  {
   "cell_type": "code",
   "execution_count": 155,
   "metadata": {},
   "outputs": [
    {
     "name": "stdout",
     "output_type": "stream",
     "text": [
      "train 데이터 범주별 빈도수: \n",
      " Activity\n",
      "LAYING                1115\n",
      "STANDING              1087\n",
      "SITTING               1032\n",
      "WALKING                998\n",
      "WALKING_UPSTAIRS       858\n",
      "WALKING_DOWNSTAIRS     791\n",
      "Name: count, dtype: int64\n",
      "test 데이터 범주별 빈도수: \n",
      " Activity\n",
      "LAYING                292\n",
      "STANDING              287\n",
      "SITTING               254\n",
      "WALKING               228\n",
      "WALKING_UPSTAIRS      215\n",
      "WALKING_DOWNSTAIRS    195\n",
      "Name: count, dtype: int64\n"
     ]
    }
   ],
   "source": [
    "# 범주별 빈도수 확인\n",
    "activity_count_train = data_train['Activity'].value_counts()\n",
    "activity_count_test = data_test['Activity'].value_counts()\n",
    "print(\"train 데이터 범주별 빈도수: \\n\", activity_count_train)\n",
    "print(\"test 데이터 범주별 빈도수: \\n\", activity_count_test)"
   ]
  },
  {
   "cell_type": "code",
   "execution_count": 157,
   "metadata": {
    "id": "Jn78I6JFpr3n"
   },
   "outputs": [
    {
     "name": "stdout",
     "output_type": "stream",
     "text": [
      "train 데이터 범주별 비율(%) \n",
      " Activity\n",
      "LAYING                0.189594\n",
      "STANDING              0.184833\n",
      "SITTING               0.175480\n",
      "WALKING               0.169699\n",
      "WALKING_UPSTAIRS      0.145894\n",
      "WALKING_DOWNSTAIRS    0.134501\n",
      "Name: proportion, dtype: float64\n",
      "test 데이터 범주별 비율(%) \n",
      " Activity\n",
      "LAYING                0.198504\n",
      "STANDING              0.195105\n",
      "SITTING               0.172672\n",
      "WALKING               0.154997\n",
      "WALKING_UPSTAIRS      0.146159\n",
      "WALKING_DOWNSTAIRS    0.132563\n",
      "Name: proportion, dtype: float64\n"
     ]
    }
   ],
   "source": [
    "# 범주별 비율 계산\n",
    "activity_ratio_train = data_train['Activity'].value_counts(normalize=True)\n",
    "activity_ratio_test = data_test['Activity'].value_counts(normalize=True)\n",
    "print(\"train 데이터 범주별 비율(%) \\n\", activity_ratio_train)\n",
    "print(\"test 데이터 범주별 비율(%) \\n\", activity_ratio_test)"
   ]
  },
  {
   "cell_type": "markdown",
   "metadata": {
    "id": "6U3UzQGZAS1o"
   },
   "source": [
    "## **2. 데이터 전처리**\n",
    "\n",
    "* 가변수화, 데이터 분할, NaN 확인 및 조치, 스케일링 등 필요한 전처리를 수행한다.\n"
   ]
  },
  {
   "cell_type": "markdown",
   "metadata": {
    "id": "ZecsiT_DAS1p"
   },
   "source": [
    "### (1) 데이터 분할1 : x, y"
   ]
  },
  {
   "cell_type": "markdown",
   "metadata": {
    "id": "H-DxzcJiJS4W"
   },
   "source": [
    "* 세부 요구사항\n",
    "    - x, y로 분할합니다."
   ]
  },
  {
   "cell_type": "code",
   "execution_count": 162,
   "metadata": {
    "id": "qVqd1JJ6Ajaj"
   },
   "outputs": [],
   "source": [
    "target = 'Activity'\n",
    "x = data_train.drop(columns= target)\n",
    "y = data_train.loc[:,target]\n"
   ]
  },
  {
   "cell_type": "markdown",
   "metadata": {
    "id": "MpZfnAa4BefE"
   },
   "source": [
    "### (2) 데이터분할2 : train, validation"
   ]
  },
  {
   "cell_type": "markdown",
   "metadata": {
    "id": "YOYncknxWg0E"
   },
   "source": [
    "* 세부 요구사항\n",
    "    - train : val = 8 : 2 혹은 7 : 3\n",
    "    - random_state 옵션을 사용하여 다른 모델과 비교를 위해 성능이 재현되도록 합니다."
   ]
  },
  {
   "cell_type": "code",
   "execution_count": 166,
   "metadata": {
    "id": "1AoCDDpdBeCT"
   },
   "outputs": [],
   "source": [
    "from sklearn.model_selection import train_test_split\n",
    "\n",
    "x_train , x_val , y_train , y_val = train_test_split(x,y,random_state=42,test_size=0.2)"
   ]
  },
  {
   "cell_type": "markdown",
   "metadata": {
    "id": "A8hxVzM3Agvw"
   },
   "source": [
    "### (3) 스케일링\n"
   ]
  },
  {
   "cell_type": "markdown",
   "metadata": {
    "id": "8OHAQJ9HJZP8"
   },
   "source": [
    "* 세부 요구사항\n",
    "    - 스케일링을 필요로 하는 알고리즘 사용을 위해서 코드 수행\n",
    "    - min-max 방식 혹은 standard 방식 중 한가지 사용."
   ]
  },
  {
   "cell_type": "code",
   "execution_count": 170,
   "metadata": {
    "id": "egLANGC5BMmk"
   },
   "outputs": [],
   "source": [
    "from sklearn.preprocessing import MinMaxScaler\n",
    "scaler = MinMaxScaler()\n",
    "x_train = scaler.fit_transform(x_train) # 학습용 데이터는 fit 학습을 수행하고 변환하지만\n",
    "x_val= scaler.transform(x_val)# 검증용 데이터는 fit 을 수행해선 안됀다 > 평가용 데이터 역시 fit을 해선 안됀다 \n"
   ]
  },
  {
   "cell_type": "markdown",
   "metadata": {},
   "source": [
    "### (4) (옵션)  Activity 라벨링 \n"
   ]
  },
  {
   "cell_type": "markdown",
   "metadata": {},
   "source": [
    "* 세부 요구사항\n",
    "    - 데이터 라벨링을 필요로 하는 알고리즘(lightGBM, 또는 향후 딥러닝을) 알고리즘을 위해서 코드 수행\n",
    "    - Activity 의 6가지 범주를 0~5사이 범주로 대체 "
   ]
  },
  {
   "cell_type": "code",
   "execution_count": 174,
   "metadata": {},
   "outputs": [],
   "source": [
    "# 사전작업  y label은 연속형 변수로 라벨링해야합니다\n",
    "# 방법1. # 레이블 인코딩\n",
    "# from sklearn.preprocessing import LabelEncoder\n",
    "# label_encoder = LabelEncoder()\n",
    "# y_train_encoded = label_encoder.fit_transform(y_train)\n",
    "# y_val_encoded = label_encoder.fit_transform(y_val)\n",
    "\n",
    "#방법 2  대체 \n",
    "activity_mapping = {\n",
    "    'LAYING': 0,\n",
    "    'STANDING': 1,\n",
    "    'SITTING': 2,\n",
    "    'WALKING': 3,\n",
    "    'WALKING_UPSTAIRS': 4,\n",
    "    'WALKING_DOWNSTAIRS': 5\n",
    "}\n",
    "y_train = y_train.map(activity_mapping)\n",
    "y_val = y_val.map(activity_mapping)"
   ]
  },
  {
   "cell_type": "markdown",
   "metadata": {
    "id": "RfSZ5O4sBQf3"
   },
   "source": [
    "## **3. 기본 모델링**\n",
    "\n"
   ]
  },
  {
   "cell_type": "markdown",
   "metadata": {
    "id": "WAOal2RuWzNk"
   },
   "source": [
    "* 세부 요구사항\n",
    "    - 최소 5개 이상의 알고리즘을 적용하여 모델링을 수행한다.\n",
    "    - 각 알고리즘 별로 다음 중 몇가지를 시도하며 성능을 비교한다."
   ]
  },
  {
   "cell_type": "markdown",
   "metadata": {
    "id": "6JKfabsMB-CK"
   },
   "source": [
    "### (1) 모델1 : KNN 근접이웃"
   ]
  },
  {
   "cell_type": "code",
   "execution_count": 40,
   "metadata": {
    "id": "vWo348sDOjOc"
   },
   "outputs": [
    {
     "name": "stdout",
     "output_type": "stream",
     "text": [
      "최적의 파라미터: {'metric': 'manhattan', 'n_neighbors': 3, 'weights': 'distance'}\n",
      "[[231   0   0   0   0   0]\n",
      " [  0 220   6   0   0   0]\n",
      " [  1  14 185   0   0   0]\n",
      " [  0   0   0 198   0   0]\n",
      " [  0   0   0   0 176   1]\n",
      " [  0   0   0   0   0 145]]\n",
      "Classification Report  \n",
      "               precision    recall  f1-score   support\n",
      "\n",
      "           0       1.00      1.00      1.00       231\n",
      "           1       0.94      0.97      0.96       226\n",
      "           2       0.97      0.93      0.95       200\n",
      "           3       1.00      1.00      1.00       198\n",
      "           4       1.00      0.99      1.00       177\n",
      "           5       0.99      1.00      1.00       145\n",
      "\n",
      "    accuracy                           0.98      1177\n",
      "   macro avg       0.98      0.98      0.98      1177\n",
      "weighted avg       0.98      0.98      0.98      1177\n",
      "\n"
     ]
    }
   ],
   "source": [
    "# KNN 근접 이웃 방식 \n",
    "# 찾아야하는 param : n_neighbors(초기 n값 ) =? , weights(가중치 방식) = ?  , metric(거리계산 방식) =?  \n",
    "param_grid = {\n",
    "    'n_neighbors': range(1,10,2),  #홀수를 자주 사용하는 이유는 다수결 투표에서 동률을 피하기 위해서\n",
    "    'weights': ['uniform', 'distance'],  # 가중치 방식\n",
    "    'metric': ['euclidean', 'manhattan', 'minkowski']  # 거리 계산 방식\n",
    "}\n",
    "# 모델 생성 \n",
    "knn = KNeighborsClassifier()\n",
    "\n",
    "# GridSearchCV를 사용한 하이퍼파라미터 튜닝\n",
    "grid_search = GridSearchCV(knn, param_grid, cv=5, scoring='accuracy') # n_jobs = -1 : 모든 CPU가동 병렬처리> 속도향상 하지만 유료 서비스에선 비용발생 \n",
    "grid_search.fit(x_train, y_train) # x는 반드시 스케일링 \n",
    "\n",
    "# 최적의 하이퍼파라미터 출력\n",
    "print(f'최적의 파라미터: {grid_search.best_params_}')\n",
    "\n",
    "\n",
    "# 최적의 하이퍼파라미터로 학습된 모델을 사용하여 예측\n",
    "best_knn = grid_search.best_estimator_\n",
    "y_pred = best_knn.predict(x_val)\n",
    "\n",
    "# 정확도 평가\n",
    "print(confusion_matrix(y_val, y_pred))\n",
    "print('Classification Report  \\n' , classification_report(y_val, y_pred)) #"
   ]
  },
  {
   "cell_type": "code",
   "execution_count": 41,
   "metadata": {
    "id": "88X3NHnaOjLf"
   },
   "outputs": [],
   "source": [
    "# 최적의 파라미터는 {'metric': 'manhattan', 'n_neighbors': 3, 'weights': 'distance'}"
   ]
  },
  {
   "cell_type": "code",
   "execution_count": 42,
   "metadata": {
    "id": "gmXup5dhOjIz"
   },
   "outputs": [],
   "source": [
    "# 시간 제약 {'metric': 'euclidean', 'n_neighbors': 1}"
   ]
  },
  {
   "cell_type": "code",
   "execution_count": null,
   "metadata": {
    "id": "rjDpm-EOOjFw"
   },
   "outputs": [],
   "source": []
  },
  {
   "cell_type": "markdown",
   "metadata": {
    "id": "lD_JXCalOmx1"
   },
   "source": [
    "### (2) 모델2: SVM 서포트 벡터 머신"
   ]
  },
  {
   "cell_type": "code",
   "execution_count": 44,
   "metadata": {
    "id": "JNwgHB79Omx1"
   },
   "outputs": [
    {
     "name": "stdout",
     "output_type": "stream",
     "text": [
      "최적의 파라미터: {'C': 10, 'gamma': 0.1, 'kernel': 'rbf'}\n",
      "[[231   0   0   0   0   0]\n",
      " [  0 220   6   0   0   0]\n",
      " [  1  14 185   0   0   0]\n",
      " [  0   0   0 198   0   0]\n",
      " [  0   0   0   0 176   1]\n",
      " [  0   0   0   0   0 145]]\n",
      "Classification Report  \n",
      "               precision    recall  f1-score   support\n",
      "\n",
      "           0       1.00      1.00      1.00       231\n",
      "           1       0.94      0.97      0.96       226\n",
      "           2       0.97      0.93      0.95       200\n",
      "           3       1.00      1.00      1.00       198\n",
      "           4       1.00      0.99      1.00       177\n",
      "           5       0.99      1.00      1.00       145\n",
      "\n",
      "    accuracy                           0.98      1177\n",
      "   macro avg       0.98      0.98      0.98      1177\n",
      "weighted avg       0.98      0.98      0.98      1177\n",
      "\n"
     ]
    }
   ],
   "source": [
    "# 서포트 벡터 머신\n",
    "param_grid = {\n",
    "    #'C': [0.1, 1, 10, 100],  # 규제 강도, 작은 값은 과적합을 방지하고 큰 값은 과적합을 허용\n",
    "    #'kernel': ['linear', 'rbf', 'poly'],  # 커널 함수 (linear, RBF, polynomial)\n",
    "    #'gamma': ['scale', 'auto', 0.1, 1, 10],  # RBF 커널에서 중요한 파라미터, 다른 커널에서는 무시됨\n",
    "    'C' : [10],\n",
    "    'kernel' : ['rbf'],\n",
    "    'gamma': [0.1]  # RBF 커널에서 중요한 파라미터, 다른 커널에서는 무시됨\n",
    "}\n",
    "# 모델 생성 \n",
    "svm = SVC()\n",
    "\n",
    "# GridSearchCV를 사용한 하이퍼파라미터 튜닝\n",
    "grid_search = GridSearchCV(svm, param_grid, cv=5, scoring='accuracy', n_jobs=1)\n",
    "grid_search.fit(x_train, y_train)\n",
    "\n",
    "# 최적의 하이퍼파라미터 출력\n",
    "print(f'최적의 파라미터: {grid_search.best_params_}')\n",
    "\n",
    "# 최적의 하이퍼파라미터로 학습된 모델을 사용하여 예측\n",
    "best_svm  = grid_search.best_estimator_\n",
    "y_pred = best_knn.predict(x_val)\n",
    "\n",
    "# 정확도 평가\n",
    "print(confusion_matrix(y_val, y_pred))\n",
    "print('Classification Report  \\n' , classification_report(y_val, y_pred ))"
   ]
  },
  {
   "cell_type": "code",
   "execution_count": 45,
   "metadata": {
    "id": "ULrnJKXZOmx1"
   },
   "outputs": [],
   "source": [
    "# 최적의 파라미터: {'C': 10 , 'kernel': 'rbf' , gammma : 0.1 }"
   ]
  },
  {
   "cell_type": "code",
   "execution_count": null,
   "metadata": {
    "id": "d5yS0MTTOmx1"
   },
   "outputs": [],
   "source": []
  },
  {
   "cell_type": "code",
   "execution_count": null,
   "metadata": {
    "id": "OIA46BxCOmx1"
   },
   "outputs": [],
   "source": []
  },
  {
   "cell_type": "markdown",
   "metadata": {
    "id": "iuUUwpFXOoo_"
   },
   "source": [
    "### (3) 모델3:  로지스틱 회귀 (분류모델)"
   ]
  },
  {
   "cell_type": "code",
   "execution_count": 47,
   "metadata": {
    "id": "YUXUQC9NOopA"
   },
   "outputs": [
    {
     "name": "stdout",
     "output_type": "stream",
     "text": [
      "최적의 파라미터: {'C': 10, 'penalty': 'l2', 'solver': 'newton-cg'}\n",
      "[[231   0   0   0   0   0]\n",
      " [  0 220   6   0   0   0]\n",
      " [  1  14 185   0   0   0]\n",
      " [  0   0   0 198   0   0]\n",
      " [  0   0   0   0 176   1]\n",
      " [  0   0   0   0   0 145]]\n",
      "Classification Report  \n",
      "               precision    recall  f1-score   support\n",
      "\n",
      "           0       1.00      1.00      1.00       231\n",
      "           1       0.94      0.97      0.96       226\n",
      "           2       0.97      0.93      0.95       200\n",
      "           3       1.00      1.00      1.00       198\n",
      "           4       1.00      0.99      1.00       177\n",
      "           5       0.99      1.00      1.00       145\n",
      "\n",
      "    accuracy                           0.98      1177\n",
      "   macro avg       0.98      0.98      0.98      1177\n",
      "weighted avg       0.98      0.98      0.98      1177\n",
      "\n"
     ]
    }
   ],
   "source": [
    "# 파라미터 \n",
    "param_grid = {\n",
    "    #'C': [0.01, 0.1, 1, 10, 100], # 규제강도\n",
    "    #'penalty': ['l1', 'l2', 'elasticnet', 'none'], # 규제 유형 라쏘 ,릿지 , 엘라스틱 , none \n",
    "    # 'solver': ['liblinear', 'saga', 'lbfgs', 'newton-cg'], # 최적화 알고리즘\n",
    "    # 'max_iter': [100, 200, 500, 1000]  # 반복 횟수도 조정 가능\n",
    "    'C' : [10],\n",
    "    'penalty' :['l2'],\n",
    "    'solver':['newton-cg']\n",
    "    \n",
    "}\n",
    "\n",
    "model = LogisticRegression(max_iter = 100)\n",
    "\n",
    "# GridSearchCV를 사용한 하이퍼파라미터 튜닝\n",
    "grid_search = GridSearchCV(model, param_grid, cv=5, scoring='accuracy', n_jobs=1)\n",
    "grid_search.fit(x_train, y_train) # scaling 된 데이터로 학습해도 되지만 성능 비교를 위해 scaling되지 않은 데이터 부터 학습 \n",
    "\n",
    "# 최적의 하이퍼파라미터 출력\n",
    "print(f'최적의 파라미터: {grid_search.best_params_}')\n",
    "\n",
    "# 최적의 하이퍼파라미터로 학습된 모델을 사용하여 예측\n",
    "best_log = grid_search.best_estimator_\n",
    "y_pred = best_knn.predict(x_val)\n",
    "\n",
    "# 정확도 평가\n",
    "print(confusion_matrix(y_val, y_pred))\n",
    "print('Classification Report  \\n' , classification_report(y_val, y_pred ))\n"
   ]
  },
  {
   "cell_type": "code",
   "execution_count": 48,
   "metadata": {
    "id": "zOvrawapOopA"
   },
   "outputs": [],
   "source": [
    " # 최적의 파라미터 : {'C': 10, 'penalty': 'l2', 'solver': 'newton-cg'}"
   ]
  },
  {
   "cell_type": "code",
   "execution_count": null,
   "metadata": {
    "id": "pVqczc1NOopA"
   },
   "outputs": [],
   "source": []
  },
  {
   "cell_type": "code",
   "execution_count": null,
   "metadata": {
    "id": "b9Z2lRsWOopA"
   },
   "outputs": [],
   "source": []
  },
  {
   "cell_type": "markdown",
   "metadata": {
    "id": "qwGPQ7NJOrEv"
   },
   "source": [
    "### (4) 모델4: XGBoost"
   ]
  },
  {
   "cell_type": "code",
   "execution_count": 50,
   "metadata": {},
   "outputs": [
    {
     "data": {
      "text/plain": [
       "Activity\n",
       "0    884\n",
       "1    861\n",
       "2    832\n",
       "3    800\n",
       "4    681\n",
       "5    646\n",
       "Name: count, dtype: int64"
      ]
     },
     "execution_count": 50,
     "metadata": {},
     "output_type": "execute_result"
    }
   ],
   "source": [
    "y_train.value_counts()"
   ]
  },
  {
   "cell_type": "code",
   "execution_count": 51,
   "metadata": {},
   "outputs": [
    {
     "name": "stdout",
     "output_type": "stream",
     "text": [
      "Best Parameters: {'colsample_bytree': 1.0, 'learning_rate': 0.3, 'max_depth': 3, 'n_estimators': 200, 'subsample': 0.8}\n",
      "[[231   0   0   0   0   0]\n",
      " [  0 221   5   0   0   0]\n",
      " [  0   1 199   0   0   0]\n",
      " [  0   0   0 197   1   0]\n",
      " [  0   0   0   0 177   0]\n",
      " [  0   0   0   0   0 145]]\n",
      "Classification Report  \n",
      "               precision    recall  f1-score   support\n",
      "\n",
      "           0       1.00      1.00      1.00       231\n",
      "           1       1.00      0.98      0.99       226\n",
      "           2       0.98      0.99      0.99       200\n",
      "           3       1.00      0.99      1.00       198\n",
      "           4       0.99      1.00      1.00       177\n",
      "           5       1.00      1.00      1.00       145\n",
      "\n",
      "    accuracy                           0.99      1177\n",
      "   macro avg       0.99      0.99      0.99      1177\n",
      "weighted avg       0.99      0.99      0.99      1177\n",
      "\n"
     ]
    }
   ],
   "source": [
    "# 그라디언트 부스팅 XGB\n",
    "\n",
    "xgb = XGBClassifier()\n",
    "\n",
    "# 하이퍼파라미터 그리드 설정\n",
    "param_grid = {\n",
    "    #'n_estimators': [100, 200, 300],  # 트리 개수\n",
    "    #'learning_rate': [0.01, 0.1, 0.3],  # 학습률\n",
    "    #'max_depth': [3, 5, 7],  # 트리의 깊이\n",
    "    #'subsample': [0.7, 0.8, 1.0],  # 데이터를 샘플링할 비율\n",
    "    #'colsample_bytree': [0.7, 0.8, 1.0]  # 트리에서 사용할 특성 비율\n",
    "    'n_estimators':[200],\n",
    "    'max_depth':[3],\n",
    "    'learning_rate': [0.3],\n",
    "    'subsample': [0.8],\n",
    "    'colsample_bytree': [1.0] \n",
    "    \n",
    "}\n",
    "\n",
    "# GridSearchCV를 사용한 하이퍼파라미터 튜닝\n",
    "grid_search = GridSearchCV(xgb, param_grid, cv=5, scoring='accuracy', n_jobs=-1)\n",
    "grid_search.fit(x_train, y_train) # 범주형(y train) 데이터를 0~5로 라벨링 \n",
    "\n",
    "# 최적의 하이퍼파라미터 출력\n",
    "print(f'Best Parameters: {grid_search.best_params_}')\n",
    "# 최적의 하이퍼파라미터로 학습된 모델을 사용하여 예측\n",
    "best_xgb = grid_search.best_estimator_\n",
    "y_pred = best_xgb.predict(x_val)\n",
    "\n",
    "# 정확도 평가\n",
    "print(confusion_matrix(y_val, y_pred))\n",
    "print('Classification Report  \\n' , classification_report(y_val, y_pred ))"
   ]
  },
  {
   "cell_type": "code",
   "execution_count": 52,
   "metadata": {
    "id": "OmCto1aPOrEw"
   },
   "outputs": [],
   "source": [
    "# Best Parameters: {'colsample_bytree': 0.8, 'learning_rate': 0.3, 'max_depth': 3, 'n_estimators': 200, 'subsample': 1.0}"
   ]
  },
  {
   "cell_type": "code",
   "execution_count": null,
   "metadata": {
    "id": "OdSoScEFOrEw"
   },
   "outputs": [],
   "source": []
  },
  {
   "cell_type": "code",
   "execution_count": null,
   "metadata": {
    "id": "5qesQaCcOrEw"
   },
   "outputs": [],
   "source": []
  },
  {
   "cell_type": "markdown",
   "metadata": {
    "id": "6wLbrHXvOs3G"
   },
   "source": [
    "### (5) 모델5 : lightGBM (이찬울님 의견)"
   ]
  },
  {
   "cell_type": "code",
   "execution_count": 54,
   "metadata": {
    "id": "LlTAkxTaOs3H"
   },
   "outputs": [
    {
     "ename": "AttributeError",
     "evalue": "'numpy.ndarray' object has no attribute 'info'",
     "output_type": "error",
     "traceback": [
      "\u001b[1;31m---------------------------------------------------------------------------\u001b[0m",
      "\u001b[1;31mAttributeError\u001b[0m                            Traceback (most recent call last)",
      "Cell \u001b[1;32mIn[54], line 2\u001b[0m\n\u001b[0;32m      1\u001b[0m \u001b[38;5;66;03m# 사전 학습용 데이터 가변수화\u001b[39;00m\n\u001b[1;32m----> 2\u001b[0m x_train\u001b[38;5;241m.\u001b[39minfo()\n",
      "\u001b[1;31mAttributeError\u001b[0m: 'numpy.ndarray' object has no attribute 'info'"
     ]
    }
   ],
   "source": [
    "# 사전 학습용 데이터 가변수화\n",
    "#x_train.info() # x 는 전부 int() 연속형 데이터들이므로 가변수화를 하지 않아도 됩니다 \n",
    "# "
   ]
  },
  {
   "cell_type": "code",
   "execution_count": 122,
   "metadata": {},
   "outputs": [
    {
     "name": "stdout",
     "output_type": "stream",
     "text": [
      "============검증 결과==================\n",
      "[[231   0   0   0   0   0]\n",
      " [  0 222   4   0   0   0]\n",
      " [  0   1 199   0   0   0]\n",
      " [  0   0   0 197   1   0]\n",
      " [  0   0   0   0 177   0]\n",
      " [  0   0   0   0   0 145]]\n",
      "Classification Report  \n",
      "               precision    recall  f1-score   support\n",
      "\n",
      "           0       1.00      1.00      1.00       231\n",
      "           1       1.00      0.98      0.99       226\n",
      "           2       0.98      0.99      0.99       200\n",
      "           3       1.00      0.99      1.00       198\n",
      "           4       0.99      1.00      1.00       177\n",
      "           5       1.00      1.00      1.00       145\n",
      "\n",
      "    accuracy                           0.99      1177\n",
      "   macro avg       1.00      1.00      1.00      1177\n",
      "weighted avg       0.99      0.99      0.99      1177\n",
      "\n",
      "============평가 결과==================\n",
      "[[291   0   0   0   0   1]\n",
      " [  0 281   6   0   0   0]\n",
      " [  0   5 249   0   0   0]\n",
      " [  0   0   0 227   1   0]\n",
      " [  0   0   0   0 215   0]\n",
      " [  0   0   0   1   0 194]]\n",
      "Classification Report  \n",
      "               precision    recall  f1-score   support\n",
      "\n",
      "           0       1.00      1.00      1.00       292\n",
      "           1       0.98      0.98      0.98       287\n",
      "           2       0.98      0.98      0.98       254\n",
      "           3       1.00      1.00      1.00       228\n",
      "           4       1.00      1.00      1.00       215\n",
      "           5       0.99      0.99      0.99       195\n",
      "\n",
      "    accuracy                           0.99      1471\n",
      "   macro avg       0.99      0.99      0.99      1471\n",
      "weighted avg       0.99      0.99      0.99      1471\n",
      "\n"
     ]
    }
   ],
   "source": [
    "best_lgbm = LGBMClassifier(n_estimators=260 ,learning_rate = 0.422,verbose =-1)# 최적의 파리미터는 이미 생성했습니다 \n",
    "best_lgbm.fit(x_train,y_train)\n",
    "\n",
    "y_pred = best_lgbm.predict(x_val)\n",
    "\n",
    "# 정확도 평가(검증용)\n",
    "print('============검증 결과==================')\n",
    "print(confusion_matrix(y_val, y_pred))\n",
    "print('Classification Report  \\n' , classification_report(y_val, y_pred ))\n",
    "\n",
    "y_pred = model_lgbm.predict(x_test)\n",
    "\n",
    "# 정확도 평가(평가용)\n",
    "print('============평가 결과==================')\n",
    "print(confusion_matrix(y_test, y_pred))\n",
    "print('Classification Report  \\n' , classification_report(y_test, y_pred ))"
   ]
  },
  {
   "cell_type": "code",
   "execution_count": null,
   "metadata": {
    "id": "wpjywfdIOs3H"
   },
   "outputs": [],
   "source": [
    "# LightGBM을 하려면 컬럼명도 전부 바꿔줘야 해서 일단 skip\n",
    "# lgbm = LGBMClassifier()\n",
    "\n",
    "# # 하이퍼파라미터 그리드 설정\n",
    "# param_grid = {\n",
    "#     #'num_leaves': [31, 50, 100],  # 트리의 리프 개수\n",
    "#     #'learning_rate': [0.01, 0.05, 0.1],  # 학습률\n",
    "#     'n_estimators': [100, 200, 300],  # 트리 개수\n",
    "#     #'max_depth': [-1, 5, 10],  # 트리의 최대 깊이 (-1은 제한 없음)\n",
    "#     #'subsample': [0.7, 0.8, 1.0],  # 데이터를 샘플링할 비율\n",
    "#     #'colsample_bytree': [0.7, 0.8, 1.0]  # 트리에서 사용할 특성 비율\n",
    "# }\n",
    "\n",
    "# # GridSearchCV를 사용한 하이퍼파라미터 튜닝\n",
    "# grid_search = GridSearchCV(lgbm, param_grid, cv=5, scoring='accuracy', n_jobs=-1)\n",
    "# grid_search.fit(x_train, y_train_encoded)\n",
    "\n",
    "# # 최적의 하이퍼파라미터 출력\n",
    "# print(f'Best Parameters: {grid_search.best_params_}')\n",
    "\n",
    "# # 최적의 하이퍼파라미터로 학습된 모델을 사용하여 예측\n",
    "# best_lgbm = grid_search.best_estimator_\n",
    "# y_pred = best_lgbm.predict(x_val)\n",
    "\n",
    "# # 정확도 평가\n",
    "# print(confusion_matrix(y_val_encoded, y_pred))\n",
    "# print('Classification Report  \\n' , classification_report(y_val_encoded, y_pred ))"
   ]
  },
  {
   "cell_type": "code",
   "execution_count": null,
   "metadata": {
    "id": "5FSyR8sQOs3H"
   },
   "outputs": [],
   "source": []
  },
  {
   "cell_type": "code",
   "execution_count": null,
   "metadata": {
    "id": "QCVRGIRnOs3H"
   },
   "outputs": [],
   "source": []
  },
  {
   "cell_type": "markdown",
   "metadata": {
    "id": "ylF4bRNod74K"
   },
   "source": [
    "## 4.성능비교"
   ]
  },
  {
   "cell_type": "markdown",
   "metadata": {
    "id": "WYntDXEBZD1Y"
   },
   "source": [
    "* 세부 요구사항\n",
    "    - 각 모델에 대해서 test 데이터로 성능 측정후 비교\n",
    "    "
   ]
  },
  {
   "cell_type": "code",
   "execution_count": 55,
   "metadata": {},
   "outputs": [
    {
     "data": {
      "text/html": [
       "<div>\n",
       "<style scoped>\n",
       "    .dataframe tbody tr th:only-of-type {\n",
       "        vertical-align: middle;\n",
       "    }\n",
       "\n",
       "    .dataframe tbody tr th {\n",
       "        vertical-align: top;\n",
       "    }\n",
       "\n",
       "    .dataframe thead th {\n",
       "        text-align: right;\n",
       "    }\n",
       "</style>\n",
       "<table border=\"1\" class=\"dataframe\">\n",
       "  <thead>\n",
       "    <tr style=\"text-align: right;\">\n",
       "      <th></th>\n",
       "      <th>tBodyAcc-mean()-X</th>\n",
       "      <th>tBodyAcc-mean()-Y</th>\n",
       "      <th>tBodyAcc-mean()-Z</th>\n",
       "      <th>tBodyAcc-std()-X</th>\n",
       "      <th>tBodyAcc-std()-Y</th>\n",
       "      <th>tBodyAcc-std()-Z</th>\n",
       "      <th>tBodyAcc-mad()-X</th>\n",
       "      <th>tBodyAcc-mad()-Y</th>\n",
       "      <th>tBodyAcc-mad()-Z</th>\n",
       "      <th>tBodyAcc-max()-X</th>\n",
       "      <th>...</th>\n",
       "      <th>fBodyBodyGyroJerkMag-skewness()</th>\n",
       "      <th>fBodyBodyGyroJerkMag-kurtosis()</th>\n",
       "      <th>angle(tBodyAccMean,gravity)</th>\n",
       "      <th>angle(tBodyAccJerkMean),gravityMean)</th>\n",
       "      <th>angle(tBodyGyroMean,gravityMean)</th>\n",
       "      <th>angle(tBodyGyroJerkMean,gravityMean)</th>\n",
       "      <th>angle(X,gravityMean)</th>\n",
       "      <th>angle(Y,gravityMean)</th>\n",
       "      <th>angle(Z,gravityMean)</th>\n",
       "      <th>Activity</th>\n",
       "    </tr>\n",
       "  </thead>\n",
       "  <tbody>\n",
       "    <tr>\n",
       "      <th>0</th>\n",
       "      <td>0.284379</td>\n",
       "      <td>-0.021981</td>\n",
       "      <td>-0.116683</td>\n",
       "      <td>-0.992490</td>\n",
       "      <td>-0.979640</td>\n",
       "      <td>-0.963321</td>\n",
       "      <td>-0.992563</td>\n",
       "      <td>-0.977304</td>\n",
       "      <td>-0.958142</td>\n",
       "      <td>-0.938850</td>\n",
       "      <td>...</td>\n",
       "      <td>-0.509523</td>\n",
       "      <td>-0.850065</td>\n",
       "      <td>-0.018043</td>\n",
       "      <td>0.092304</td>\n",
       "      <td>0.074220</td>\n",
       "      <td>-0.714534</td>\n",
       "      <td>-0.671943</td>\n",
       "      <td>-0.018351</td>\n",
       "      <td>-0.185733</td>\n",
       "      <td>SITTING</td>\n",
       "    </tr>\n",
       "    <tr>\n",
       "      <th>1</th>\n",
       "      <td>0.277440</td>\n",
       "      <td>-0.028086</td>\n",
       "      <td>-0.118412</td>\n",
       "      <td>-0.996620</td>\n",
       "      <td>-0.927676</td>\n",
       "      <td>-0.972294</td>\n",
       "      <td>-0.997346</td>\n",
       "      <td>-0.931405</td>\n",
       "      <td>-0.971788</td>\n",
       "      <td>-0.939837</td>\n",
       "      <td>...</td>\n",
       "      <td>-0.210792</td>\n",
       "      <td>-0.613367</td>\n",
       "      <td>-0.022456</td>\n",
       "      <td>-0.155414</td>\n",
       "      <td>0.247498</td>\n",
       "      <td>-0.112257</td>\n",
       "      <td>-0.826816</td>\n",
       "      <td>0.184489</td>\n",
       "      <td>-0.068699</td>\n",
       "      <td>STANDING</td>\n",
       "    </tr>\n",
       "    <tr>\n",
       "      <th>2</th>\n",
       "      <td>0.305833</td>\n",
       "      <td>-0.041023</td>\n",
       "      <td>-0.087303</td>\n",
       "      <td>0.006880</td>\n",
       "      <td>0.182800</td>\n",
       "      <td>-0.237984</td>\n",
       "      <td>0.005642</td>\n",
       "      <td>0.028616</td>\n",
       "      <td>-0.236474</td>\n",
       "      <td>0.016311</td>\n",
       "      <td>...</td>\n",
       "      <td>0.579587</td>\n",
       "      <td>0.394388</td>\n",
       "      <td>-0.362616</td>\n",
       "      <td>0.171069</td>\n",
       "      <td>0.576349</td>\n",
       "      <td>-0.688314</td>\n",
       "      <td>-0.743234</td>\n",
       "      <td>0.272186</td>\n",
       "      <td>0.053101</td>\n",
       "      <td>WALKING</td>\n",
       "    </tr>\n",
       "    <tr>\n",
       "      <th>3</th>\n",
       "      <td>0.276053</td>\n",
       "      <td>-0.016487</td>\n",
       "      <td>-0.108381</td>\n",
       "      <td>-0.995379</td>\n",
       "      <td>-0.983978</td>\n",
       "      <td>-0.975854</td>\n",
       "      <td>-0.995877</td>\n",
       "      <td>-0.985280</td>\n",
       "      <td>-0.974907</td>\n",
       "      <td>-0.941425</td>\n",
       "      <td>...</td>\n",
       "      <td>-0.566291</td>\n",
       "      <td>-0.841455</td>\n",
       "      <td>0.289548</td>\n",
       "      <td>0.079801</td>\n",
       "      <td>-0.020033</td>\n",
       "      <td>0.291898</td>\n",
       "      <td>-0.639435</td>\n",
       "      <td>-0.111998</td>\n",
       "      <td>-0.123298</td>\n",
       "      <td>SITTING</td>\n",
       "    </tr>\n",
       "    <tr>\n",
       "      <th>4</th>\n",
       "      <td>0.271998</td>\n",
       "      <td>0.016904</td>\n",
       "      <td>-0.078856</td>\n",
       "      <td>-0.973468</td>\n",
       "      <td>-0.702462</td>\n",
       "      <td>-0.869450</td>\n",
       "      <td>-0.979810</td>\n",
       "      <td>-0.711601</td>\n",
       "      <td>-0.856807</td>\n",
       "      <td>-0.920760</td>\n",
       "      <td>...</td>\n",
       "      <td>0.447577</td>\n",
       "      <td>0.214219</td>\n",
       "      <td>0.010111</td>\n",
       "      <td>0.114179</td>\n",
       "      <td>-0.830776</td>\n",
       "      <td>-0.325098</td>\n",
       "      <td>-0.840817</td>\n",
       "      <td>0.116237</td>\n",
       "      <td>-0.096615</td>\n",
       "      <td>STANDING</td>\n",
       "    </tr>\n",
       "  </tbody>\n",
       "</table>\n",
       "<p>5 rows × 562 columns</p>\n",
       "</div>"
      ],
      "text/plain": [
       "   tBodyAcc-mean()-X  tBodyAcc-mean()-Y  tBodyAcc-mean()-Z  tBodyAcc-std()-X  \\\n",
       "0           0.284379          -0.021981          -0.116683         -0.992490   \n",
       "1           0.277440          -0.028086          -0.118412         -0.996620   \n",
       "2           0.305833          -0.041023          -0.087303          0.006880   \n",
       "3           0.276053          -0.016487          -0.108381         -0.995379   \n",
       "4           0.271998           0.016904          -0.078856         -0.973468   \n",
       "\n",
       "   tBodyAcc-std()-Y  tBodyAcc-std()-Z  tBodyAcc-mad()-X  tBodyAcc-mad()-Y  \\\n",
       "0         -0.979640         -0.963321         -0.992563         -0.977304   \n",
       "1         -0.927676         -0.972294         -0.997346         -0.931405   \n",
       "2          0.182800         -0.237984          0.005642          0.028616   \n",
       "3         -0.983978         -0.975854         -0.995877         -0.985280   \n",
       "4         -0.702462         -0.869450         -0.979810         -0.711601   \n",
       "\n",
       "   tBodyAcc-mad()-Z  tBodyAcc-max()-X  ...  fBodyBodyGyroJerkMag-skewness()  \\\n",
       "0         -0.958142         -0.938850  ...                        -0.509523   \n",
       "1         -0.971788         -0.939837  ...                        -0.210792   \n",
       "2         -0.236474          0.016311  ...                         0.579587   \n",
       "3         -0.974907         -0.941425  ...                        -0.566291   \n",
       "4         -0.856807         -0.920760  ...                         0.447577   \n",
       "\n",
       "   fBodyBodyGyroJerkMag-kurtosis()  angle(tBodyAccMean,gravity)  \\\n",
       "0                        -0.850065                    -0.018043   \n",
       "1                        -0.613367                    -0.022456   \n",
       "2                         0.394388                    -0.362616   \n",
       "3                        -0.841455                     0.289548   \n",
       "4                         0.214219                     0.010111   \n",
       "\n",
       "   angle(tBodyAccJerkMean),gravityMean)  angle(tBodyGyroMean,gravityMean)  \\\n",
       "0                              0.092304                          0.074220   \n",
       "1                             -0.155414                          0.247498   \n",
       "2                              0.171069                          0.576349   \n",
       "3                              0.079801                         -0.020033   \n",
       "4                              0.114179                         -0.830776   \n",
       "\n",
       "   angle(tBodyGyroJerkMean,gravityMean)  angle(X,gravityMean)  \\\n",
       "0                             -0.714534             -0.671943   \n",
       "1                             -0.112257             -0.826816   \n",
       "2                             -0.688314             -0.743234   \n",
       "3                              0.291898             -0.639435   \n",
       "4                             -0.325098             -0.840817   \n",
       "\n",
       "   angle(Y,gravityMean)  angle(Z,gravityMean)  Activity  \n",
       "0             -0.018351             -0.185733   SITTING  \n",
       "1              0.184489             -0.068699  STANDING  \n",
       "2              0.272186              0.053101   WALKING  \n",
       "3             -0.111998             -0.123298   SITTING  \n",
       "4              0.116237             -0.096615  STANDING  \n",
       "\n",
       "[5 rows x 562 columns]"
      ]
     },
     "execution_count": 55,
     "metadata": {},
     "output_type": "execute_result"
    }
   ],
   "source": [
    "data_test.head()"
   ]
  },
  {
   "cell_type": "code",
   "execution_count": 124,
   "metadata": {
    "id": "Or-oKcN6ayH8"
   },
   "outputs": [
    {
     "name": "stdout",
     "output_type": "stream",
     "text": [
      "=============KNN classification_report =============\n",
      "              precision    recall  f1-score   support\n",
      "\n",
      "           0       1.00      1.00      1.00       292\n",
      "           1       0.94      0.97      0.95       287\n",
      "           2       0.96      0.93      0.94       254\n",
      "           3       1.00      1.00      1.00       228\n",
      "           4       0.99      1.00      0.99       215\n",
      "           5       1.00      0.99      0.99       195\n",
      "\n",
      "    accuracy                           0.98      1471\n",
      "   macro avg       0.98      0.98      0.98      1471\n",
      "weighted avg       0.98      0.98      0.98      1471\n",
      "\n",
      "V=====Confusion Matrix=====V\n",
      "[[292   0   0   0   0   0]\n",
      " [  0 277  10   0   0   0]\n",
      " [  0  19 235   0   0   0]\n",
      " [  0   0   0 228   0   0]\n",
      " [  0   0   0   1 214   0]\n",
      " [  0   0   0   0   2 193]]\n",
      "\n",
      "\n",
      "=============SVM classification_report =============\n",
      "              precision    recall  f1-score   support\n",
      "\n",
      "           0       1.00      1.00      1.00       292\n",
      "           1       0.98      0.98      0.98       287\n",
      "           2       0.97      0.98      0.98       254\n",
      "           3       1.00      1.00      1.00       228\n",
      "           4       1.00      1.00      1.00       215\n",
      "           5       1.00      1.00      1.00       195\n",
      "\n",
      "    accuracy                           0.99      1471\n",
      "   macro avg       0.99      0.99      0.99      1471\n",
      "weighted avg       0.99      0.99      0.99      1471\n",
      "\n",
      "V=====Confusion Matrix=====V\n",
      "[[292   0   0   0   0   0]\n",
      " [  0 280   7   0   0   0]\n",
      " [  0   5 249   0   0   0]\n",
      " [  0   0   0 228   0   0]\n",
      " [  0   0   0   0 215   0]\n",
      " [  0   0   0   0   0 195]]\n",
      "\n",
      "\n",
      "=============Logistic Regression classification_report =============\n",
      "              precision    recall  f1-score   support\n",
      "\n",
      "           0       1.00      0.99      1.00       292\n",
      "           1       0.96      0.95      0.95       287\n",
      "           2       0.95      0.96      0.95       254\n",
      "           3       1.00      1.00      1.00       228\n",
      "           4       0.99      1.00      0.99       215\n",
      "           5       0.99      1.00      0.99       195\n",
      "\n",
      "    accuracy                           0.98      1471\n",
      "   macro avg       0.98      0.98      0.98      1471\n",
      "weighted avg       0.98      0.98      0.98      1471\n",
      "\n",
      "V=====Confusion Matrix=====V\n",
      "[[290   0   0   0   0   2]\n",
      " [  0 272  14   0   1   0]\n",
      " [  0  11 243   0   0   0]\n",
      " [  0   0   0 227   1   0]\n",
      " [  0   0   0   1 214   0]\n",
      " [  0   0   0   0   0 195]]\n",
      "\n",
      "\n",
      "=============XGBoost classification_report =============\n",
      "              precision    recall  f1-score   support\n",
      "\n",
      "           0       1.00      0.99      0.99       292\n",
      "           1       0.98      0.98      0.98       287\n",
      "           2       0.97      0.98      0.98       254\n",
      "           3       1.00      0.98      0.99       228\n",
      "           4       0.98      1.00      0.99       215\n",
      "           5       1.00      0.99      1.00       195\n",
      "\n",
      "    accuracy                           0.99      1471\n",
      "   macro avg       0.99      0.99      0.99      1471\n",
      "weighted avg       0.99      0.99      0.99      1471\n",
      "\n",
      "V=====Confusion Matrix=====V\n",
      "[[289   0   3   0   0   0]\n",
      " [  0 282   4   0   1   0]\n",
      " [  0   5 249   0   0   0]\n",
      " [  0   0   0 224   4   0]\n",
      " [  0   0   0   0 215   0]\n",
      " [  0   0   0   1   0 194]]\n",
      "\n",
      "\n",
      "=============lightGBM classification_report =============\n",
      "              precision    recall  f1-score   support\n",
      "\n",
      "           0       1.00      1.00      1.00       292\n",
      "           1       0.98      0.98      0.98       287\n",
      "           2       0.98      0.98      0.98       254\n",
      "           3       1.00      1.00      1.00       228\n",
      "           4       1.00      1.00      1.00       215\n",
      "           5       0.99      0.99      0.99       195\n",
      "\n",
      "    accuracy                           0.99      1471\n",
      "   macro avg       0.99      0.99      0.99      1471\n",
      "weighted avg       0.99      0.99      0.99      1471\n",
      "\n",
      "V=====Confusion Matrix=====V\n",
      "[[291   0   0   0   0   1]\n",
      " [  0 281   6   0   0   0]\n",
      " [  0   5 249   0   0   0]\n",
      " [  0   0   0 227   1   0]\n",
      " [  0   0   0   0 215   0]\n",
      " [  0   0   0   1   0 194]]\n",
      "\n",
      "\n"
     ]
    }
   ],
   "source": [
    "# data_test에서 x_test와 y_test를 분할합니다.\n",
    "\n",
    "target = 'Activity'\n",
    "x_test = data_test.drop(columns=target)  \n",
    "y_test = data_test.loc[:,target]\n",
    "# (1)y_test 라벨링 \n",
    "activity_mapping = {\n",
    "    'LAYING': 0,\n",
    "    'STANDING': 1,\n",
    "    'SITTING': 2,\n",
    "    'WALKING': 3,\n",
    "    'WALKING_UPSTAIRS': 4,\n",
    "    'WALKING_DOWNSTAIRS': 5\n",
    "}\n",
    "y_test = y_test.map(activity_mapping) # target label 0~5 변환\n",
    "\n",
    "# (2) x_test 학습용 데이터도 minmax 스케일링을 해줬기 때문에 test도 같은 환경(minmax ) 스케일링 \n",
    "# scaler.fit(x_train) 학습이 \n",
    "x_test = scaler.transform(x_test)#  평가용 데이터 역시 fit을 해선 안됀다 \n",
    "\n",
    "\n",
    "# 각 모델의 성능 평가\n",
    "models = {\n",
    "    \"KNN\": best_knn,\n",
    "    \"SVM\": best_svm,\n",
    "    \"Logistic Regression\": best_log,\n",
    "    \"XGBoost\": best_xgb,\n",
    "    \"lightGBM\": best_lgbm\n",
    "}\n",
    "\n",
    "for model_name, model in models.items():\n",
    "    # 예측 수행\n",
    "    y_pred = model.predict(x_test)\n",
    "    \n",
    "    # 성능 평가\n",
    "    print(f\"============={model_name} classification_report =============\")\n",
    "    print(classification_report(y_test, y_pred))\n",
    "    \n",
    "    # 혼동 행렬 출력\n",
    "    cm = confusion_matrix(y_test, y_pred)\n",
    "    print(\"V=====Confusion Matrix=====V\")\n",
    "    print(cm)\n",
    "    print(\"\\n\")"
   ]
  },
  {
   "cell_type": "markdown",
   "metadata": {
    "id": "G_K0EnpidgYe"
   },
   "source": [
    "## ** 요약**\n"
   ]
  },
  {
   "cell_type": "markdown",
   "metadata": {},
   "source": [
    "- (양정우님) [Accuracy Score]\n",
    "1. KNN  : 98%\n",
    "   - 최적의 파라미터: {'metric': 'manhattan', 'n_neighbors': 3, 'weights': 'distance'}\n",
    "2. SVM  : 99%\n",
    "   - 최적의 파라미터: {'C': 10 , 'kernel': 'rbf' , gammma : 0.1 }\n",
    "3. Logistic Regress : 98%\n",
    "   - 최적의 파라미터: {'C': 10, 'penalty': 'l2', 'solver': 'newton-cg' , max_iter = 100}\n",
    "4. XGBoost  :99%\n",
    "   - 최적의 파라미터: {'colsample_bytree': 0.8, 'learning_rate': 0.3, 'max_depth': 3, 'n_estimators': 200, 'subsample': 1.0}"
   ]
  },
  {
   "cell_type": "markdown",
   "metadata": {},
   "source": [
    "- (박슬기님)[Accuracy Score]\n",
    "1. Logistic Regression => 98%\n",
    "model_lr = LogisticRegression(\n",
    "    solver='liblinear',\n",
    "    penalty='l2',\n",
    "    max_iter=500,\n",
    "    l1_ratio=0.6842105263157894,\n",
    "    C=11.288378916846883\n",
    ")\n",
    "\n",
    "2. KNN => 97%\n",
    "model_knn = KNeighborsClassifier(\n",
    "    weights='distance',\n",
    "    n_neighbors=5,\n",
    "    metric='manhattan'\n",
    ")\n",
    "\n",
    "3. Random Forest => 97%\n",
    "model_rf = RandomForestClassifier(\n",
    "    n_estimators=100,\n",
    "    max_depth=20,\n",
    "    max_features='sqrt',\n",
    "    random_state=1)\n",
    "\n",
    "4. Decision Tree => 97%\n",
    "model_dt = DecisionTreeClassifier( \n",
    "    criterion='entropy',\n",
    "    max_depth=30,\n",
    "    min_samples_split=6,\n",
    "    min_samples_leaf=3,\n",
    "    random_state=1\n",
    ")"
   ]
  },
  {
   "cell_type": "markdown",
   "metadata": {},
   "source": [
    "- (김상아님)[Accuracy Score]\n",
    "1. Logistic Regression 98%\n",
    "model = LogisticRegression() # no params\n",
    "2. DecisionTree 92%\n",
    "max_depth=10\n",
    "3. Random Forest 93%\n",
    "max_depth = 5 "
   ]
  },
  {
   "cell_type": "markdown",
   "metadata": {},
   "source": [
    "- (이찬울님) [Accuracy Score]\n",
    "1. KNN => 96%\n",
    "KNeighborsClassifier(n_neighbors=4)\n",
    "\n",
    "\n",
    "2. DecisionTree => 94%\n",
    "DecisionTreeClassifier(max_depth=8)\n",
    "\n",
    "3.  lightGBM : 98% \n",
    "    param = {'n_estimators' : 260 ,'learning_rate':0.422 }"
   ]
  },
  {
   "cell_type": "markdown",
   "metadata": {},
   "source": [
    "(윤성호님)[Accuracy Score]\n",
    "  \n",
    "1. SVM 98% model10 = SVC(kernel='linear', C=3)\n",
    "\n",
    "2. Logistic:  97%\n",
    "\n",
    "3. RandomForestClassifier(max_depth=5, n_estimators=100, random_state=1) : 94%\n",
    "\n",
    "4. knn 93%\n",
    "\n",
    "5. decison tree\tmodel9 = DecisionTreeClassifier(max_depth=5)"
   ]
  },
  {
   "cell_type": "markdown",
   "metadata": {},
   "source": [
    "(박소언님)[Accuracy Score]\n",
    "1. KNN : 96%\n",
    "n_neighbors = 5\n",
    "metric = ‘manhattan’\n",
    "\n",
    "2. Logistic Regression : 97%\n",
    "\n",
    "3. SVM : 98%\n",
    "- kernel = ‘linear’\n",
    "- C  =  5\n",
    "\n",
    "4. Random Forest : 97%\n",
    "- max_depth 16"
   ]
  },
  {
   "cell_type": "markdown",
   "metadata": {},
   "source": [
    "(진대규님) : 데이터 분할로 인해서 재 학습의 필요 \n",
    "1. KNN = 92%  n_neighbors=5\n",
    "2. Decision Tree = 86%  max_depth=5\n",
    "3. Logistic Regression = 97%\n",
    "4. SVM = 98%  kernel='linear', C=1\n",
    "5. Random Forest = 91%  max_depth=5"
   ]
  },
  {
   "cell_type": "markdown",
   "metadata": {},
   "source": [
    "## 결론 "
   ]
  },
  {
   "cell_type": "markdown",
   "metadata": {},
   "source": [
    "DX_4반_11조 선정 모델 + 파라미터 (중간 점검) \n",
    "\n",
    "1. 로지스틱 회귀 모형  97~98%\n",
    "    params =  {'C': 10, 'penalty': 'l2', 'solver': 'newton-cg' , max_iter = 100}\n",
    "2. SVM 서포트 벡터 머신 98~ 99%\n",
    "    params =  {'C': 3 , 'kernel': 'linear'}\n",
    "3. KNN  : 98%\n",
    "    params =: {'metric': 'manhattan', 'n_neighbors': 3, 'weights': 'distance'}\n",
    "4. lightGBM : 99% \n",
    "    param = {'n_estimators' : 260 ,'learning_rate':0.422 }\n"
   ]
  },
  {
   "cell_type": "code",
   "execution_count": null,
   "metadata": {
    "id": "XoVmpJDbOzwG"
   },
   "outputs": [],
   "source": [
    "# SVM , Logistic Regress , XGBoost는 모든 파라미터를 탐색하지 못했으므로 최적의 파라미터를 찾지 못함\n",
    "# 오늘 미니프로젝트 이후 다시 모델생성할 예정 "
   ]
  },
  {
   "cell_type": "markdown",
   "metadata": {
    "id": "utBIUTcHItOM"
   },
   "source": [
    "## 5.모델 저장\n",
    "* 각 알고리즘 별 최적의 성능 모델 저장\n",
    "    * 단, 전체 변수를 이용해 생성한 모델만 저장합니다.(joblib.dump)\n",
    "    * 튜닝 모델은, model.best_estimator_ 로 저장합니다."
   ]
  },
  {
   "cell_type": "markdown",
   "metadata": {},
   "source": [
    "    \"KNN\": best_knn,\n",
    "    \"SVM\": best_svm,\n",
    "    \"Logistic Regression\": best_log,\n",
    "    \"XGBoost\": best_xgb,\n",
    "    \"lightGBM\": best_lgbm"
   ]
  },
  {
   "cell_type": "code",
   "execution_count": 177,
   "metadata": {},
   "outputs": [
    {
     "data": {
      "text/html": [
       "<style>#sk-container-id-2 {\n",
       "  /* Definition of color scheme common for light and dark mode */\n",
       "  --sklearn-color-text: black;\n",
       "  --sklearn-color-line: gray;\n",
       "  /* Definition of color scheme for unfitted estimators */\n",
       "  --sklearn-color-unfitted-level-0: #fff5e6;\n",
       "  --sklearn-color-unfitted-level-1: #f6e4d2;\n",
       "  --sklearn-color-unfitted-level-2: #ffe0b3;\n",
       "  --sklearn-color-unfitted-level-3: chocolate;\n",
       "  /* Definition of color scheme for fitted estimators */\n",
       "  --sklearn-color-fitted-level-0: #f0f8ff;\n",
       "  --sklearn-color-fitted-level-1: #d4ebff;\n",
       "  --sklearn-color-fitted-level-2: #b3dbfd;\n",
       "  --sklearn-color-fitted-level-3: cornflowerblue;\n",
       "\n",
       "  /* Specific color for light theme */\n",
       "  --sklearn-color-text-on-default-background: var(--sg-text-color, var(--theme-code-foreground, var(--jp-content-font-color1, black)));\n",
       "  --sklearn-color-background: var(--sg-background-color, var(--theme-background, var(--jp-layout-color0, white)));\n",
       "  --sklearn-color-border-box: var(--sg-text-color, var(--theme-code-foreground, var(--jp-content-font-color1, black)));\n",
       "  --sklearn-color-icon: #696969;\n",
       "\n",
       "  @media (prefers-color-scheme: dark) {\n",
       "    /* Redefinition of color scheme for dark theme */\n",
       "    --sklearn-color-text-on-default-background: var(--sg-text-color, var(--theme-code-foreground, var(--jp-content-font-color1, white)));\n",
       "    --sklearn-color-background: var(--sg-background-color, var(--theme-background, var(--jp-layout-color0, #111)));\n",
       "    --sklearn-color-border-box: var(--sg-text-color, var(--theme-code-foreground, var(--jp-content-font-color1, white)));\n",
       "    --sklearn-color-icon: #878787;\n",
       "  }\n",
       "}\n",
       "\n",
       "#sk-container-id-2 {\n",
       "  color: var(--sklearn-color-text);\n",
       "}\n",
       "\n",
       "#sk-container-id-2 pre {\n",
       "  padding: 0;\n",
       "}\n",
       "\n",
       "#sk-container-id-2 input.sk-hidden--visually {\n",
       "  border: 0;\n",
       "  clip: rect(1px 1px 1px 1px);\n",
       "  clip: rect(1px, 1px, 1px, 1px);\n",
       "  height: 1px;\n",
       "  margin: -1px;\n",
       "  overflow: hidden;\n",
       "  padding: 0;\n",
       "  position: absolute;\n",
       "  width: 1px;\n",
       "}\n",
       "\n",
       "#sk-container-id-2 div.sk-dashed-wrapped {\n",
       "  border: 1px dashed var(--sklearn-color-line);\n",
       "  margin: 0 0.4em 0.5em 0.4em;\n",
       "  box-sizing: border-box;\n",
       "  padding-bottom: 0.4em;\n",
       "  background-color: var(--sklearn-color-background);\n",
       "}\n",
       "\n",
       "#sk-container-id-2 div.sk-container {\n",
       "  /* jupyter's `normalize.less` sets `[hidden] { display: none; }`\n",
       "     but bootstrap.min.css set `[hidden] { display: none !important; }`\n",
       "     so we also need the `!important` here to be able to override the\n",
       "     default hidden behavior on the sphinx rendered scikit-learn.org.\n",
       "     See: https://github.com/scikit-learn/scikit-learn/issues/21755 */\n",
       "  display: inline-block !important;\n",
       "  position: relative;\n",
       "}\n",
       "\n",
       "#sk-container-id-2 div.sk-text-repr-fallback {\n",
       "  display: none;\n",
       "}\n",
       "\n",
       "div.sk-parallel-item,\n",
       "div.sk-serial,\n",
       "div.sk-item {\n",
       "  /* draw centered vertical line to link estimators */\n",
       "  background-image: linear-gradient(var(--sklearn-color-text-on-default-background), var(--sklearn-color-text-on-default-background));\n",
       "  background-size: 2px 100%;\n",
       "  background-repeat: no-repeat;\n",
       "  background-position: center center;\n",
       "}\n",
       "\n",
       "/* Parallel-specific style estimator block */\n",
       "\n",
       "#sk-container-id-2 div.sk-parallel-item::after {\n",
       "  content: \"\";\n",
       "  width: 100%;\n",
       "  border-bottom: 2px solid var(--sklearn-color-text-on-default-background);\n",
       "  flex-grow: 1;\n",
       "}\n",
       "\n",
       "#sk-container-id-2 div.sk-parallel {\n",
       "  display: flex;\n",
       "  align-items: stretch;\n",
       "  justify-content: center;\n",
       "  background-color: var(--sklearn-color-background);\n",
       "  position: relative;\n",
       "}\n",
       "\n",
       "#sk-container-id-2 div.sk-parallel-item {\n",
       "  display: flex;\n",
       "  flex-direction: column;\n",
       "}\n",
       "\n",
       "#sk-container-id-2 div.sk-parallel-item:first-child::after {\n",
       "  align-self: flex-end;\n",
       "  width: 50%;\n",
       "}\n",
       "\n",
       "#sk-container-id-2 div.sk-parallel-item:last-child::after {\n",
       "  align-self: flex-start;\n",
       "  width: 50%;\n",
       "}\n",
       "\n",
       "#sk-container-id-2 div.sk-parallel-item:only-child::after {\n",
       "  width: 0;\n",
       "}\n",
       "\n",
       "/* Serial-specific style estimator block */\n",
       "\n",
       "#sk-container-id-2 div.sk-serial {\n",
       "  display: flex;\n",
       "  flex-direction: column;\n",
       "  align-items: center;\n",
       "  background-color: var(--sklearn-color-background);\n",
       "  padding-right: 1em;\n",
       "  padding-left: 1em;\n",
       "}\n",
       "\n",
       "\n",
       "/* Toggleable style: style used for estimator/Pipeline/ColumnTransformer box that is\n",
       "clickable and can be expanded/collapsed.\n",
       "- Pipeline and ColumnTransformer use this feature and define the default style\n",
       "- Estimators will overwrite some part of the style using the `sk-estimator` class\n",
       "*/\n",
       "\n",
       "/* Pipeline and ColumnTransformer style (default) */\n",
       "\n",
       "#sk-container-id-2 div.sk-toggleable {\n",
       "  /* Default theme specific background. It is overwritten whether we have a\n",
       "  specific estimator or a Pipeline/ColumnTransformer */\n",
       "  background-color: var(--sklearn-color-background);\n",
       "}\n",
       "\n",
       "/* Toggleable label */\n",
       "#sk-container-id-2 label.sk-toggleable__label {\n",
       "  cursor: pointer;\n",
       "  display: block;\n",
       "  width: 100%;\n",
       "  margin-bottom: 0;\n",
       "  padding: 0.5em;\n",
       "  box-sizing: border-box;\n",
       "  text-align: center;\n",
       "}\n",
       "\n",
       "#sk-container-id-2 label.sk-toggleable__label-arrow:before {\n",
       "  /* Arrow on the left of the label */\n",
       "  content: \"▸\";\n",
       "  float: left;\n",
       "  margin-right: 0.25em;\n",
       "  color: var(--sklearn-color-icon);\n",
       "}\n",
       "\n",
       "#sk-container-id-2 label.sk-toggleable__label-arrow:hover:before {\n",
       "  color: var(--sklearn-color-text);\n",
       "}\n",
       "\n",
       "/* Toggleable content - dropdown */\n",
       "\n",
       "#sk-container-id-2 div.sk-toggleable__content {\n",
       "  max-height: 0;\n",
       "  max-width: 0;\n",
       "  overflow: hidden;\n",
       "  text-align: left;\n",
       "  /* unfitted */\n",
       "  background-color: var(--sklearn-color-unfitted-level-0);\n",
       "}\n",
       "\n",
       "#sk-container-id-2 div.sk-toggleable__content.fitted {\n",
       "  /* fitted */\n",
       "  background-color: var(--sklearn-color-fitted-level-0);\n",
       "}\n",
       "\n",
       "#sk-container-id-2 div.sk-toggleable__content pre {\n",
       "  margin: 0.2em;\n",
       "  border-radius: 0.25em;\n",
       "  color: var(--sklearn-color-text);\n",
       "  /* unfitted */\n",
       "  background-color: var(--sklearn-color-unfitted-level-0);\n",
       "}\n",
       "\n",
       "#sk-container-id-2 div.sk-toggleable__content.fitted pre {\n",
       "  /* unfitted */\n",
       "  background-color: var(--sklearn-color-fitted-level-0);\n",
       "}\n",
       "\n",
       "#sk-container-id-2 input.sk-toggleable__control:checked~div.sk-toggleable__content {\n",
       "  /* Expand drop-down */\n",
       "  max-height: 200px;\n",
       "  max-width: 100%;\n",
       "  overflow: auto;\n",
       "}\n",
       "\n",
       "#sk-container-id-2 input.sk-toggleable__control:checked~label.sk-toggleable__label-arrow:before {\n",
       "  content: \"▾\";\n",
       "}\n",
       "\n",
       "/* Pipeline/ColumnTransformer-specific style */\n",
       "\n",
       "#sk-container-id-2 div.sk-label input.sk-toggleable__control:checked~label.sk-toggleable__label {\n",
       "  color: var(--sklearn-color-text);\n",
       "  background-color: var(--sklearn-color-unfitted-level-2);\n",
       "}\n",
       "\n",
       "#sk-container-id-2 div.sk-label.fitted input.sk-toggleable__control:checked~label.sk-toggleable__label {\n",
       "  background-color: var(--sklearn-color-fitted-level-2);\n",
       "}\n",
       "\n",
       "/* Estimator-specific style */\n",
       "\n",
       "/* Colorize estimator box */\n",
       "#sk-container-id-2 div.sk-estimator input.sk-toggleable__control:checked~label.sk-toggleable__label {\n",
       "  /* unfitted */\n",
       "  background-color: var(--sklearn-color-unfitted-level-2);\n",
       "}\n",
       "\n",
       "#sk-container-id-2 div.sk-estimator.fitted input.sk-toggleable__control:checked~label.sk-toggleable__label {\n",
       "  /* fitted */\n",
       "  background-color: var(--sklearn-color-fitted-level-2);\n",
       "}\n",
       "\n",
       "#sk-container-id-2 div.sk-label label.sk-toggleable__label,\n",
       "#sk-container-id-2 div.sk-label label {\n",
       "  /* The background is the default theme color */\n",
       "  color: var(--sklearn-color-text-on-default-background);\n",
       "}\n",
       "\n",
       "/* On hover, darken the color of the background */\n",
       "#sk-container-id-2 div.sk-label:hover label.sk-toggleable__label {\n",
       "  color: var(--sklearn-color-text);\n",
       "  background-color: var(--sklearn-color-unfitted-level-2);\n",
       "}\n",
       "\n",
       "/* Label box, darken color on hover, fitted */\n",
       "#sk-container-id-2 div.sk-label.fitted:hover label.sk-toggleable__label.fitted {\n",
       "  color: var(--sklearn-color-text);\n",
       "  background-color: var(--sklearn-color-fitted-level-2);\n",
       "}\n",
       "\n",
       "/* Estimator label */\n",
       "\n",
       "#sk-container-id-2 div.sk-label label {\n",
       "  font-family: monospace;\n",
       "  font-weight: bold;\n",
       "  display: inline-block;\n",
       "  line-height: 1.2em;\n",
       "}\n",
       "\n",
       "#sk-container-id-2 div.sk-label-container {\n",
       "  text-align: center;\n",
       "}\n",
       "\n",
       "/* Estimator-specific */\n",
       "#sk-container-id-2 div.sk-estimator {\n",
       "  font-family: monospace;\n",
       "  border: 1px dotted var(--sklearn-color-border-box);\n",
       "  border-radius: 0.25em;\n",
       "  box-sizing: border-box;\n",
       "  margin-bottom: 0.5em;\n",
       "  /* unfitted */\n",
       "  background-color: var(--sklearn-color-unfitted-level-0);\n",
       "}\n",
       "\n",
       "#sk-container-id-2 div.sk-estimator.fitted {\n",
       "  /* fitted */\n",
       "  background-color: var(--sklearn-color-fitted-level-0);\n",
       "}\n",
       "\n",
       "/* on hover */\n",
       "#sk-container-id-2 div.sk-estimator:hover {\n",
       "  /* unfitted */\n",
       "  background-color: var(--sklearn-color-unfitted-level-2);\n",
       "}\n",
       "\n",
       "#sk-container-id-2 div.sk-estimator.fitted:hover {\n",
       "  /* fitted */\n",
       "  background-color: var(--sklearn-color-fitted-level-2);\n",
       "}\n",
       "\n",
       "/* Specification for estimator info (e.g. \"i\" and \"?\") */\n",
       "\n",
       "/* Common style for \"i\" and \"?\" */\n",
       "\n",
       ".sk-estimator-doc-link,\n",
       "a:link.sk-estimator-doc-link,\n",
       "a:visited.sk-estimator-doc-link {\n",
       "  float: right;\n",
       "  font-size: smaller;\n",
       "  line-height: 1em;\n",
       "  font-family: monospace;\n",
       "  background-color: var(--sklearn-color-background);\n",
       "  border-radius: 1em;\n",
       "  height: 1em;\n",
       "  width: 1em;\n",
       "  text-decoration: none !important;\n",
       "  margin-left: 1ex;\n",
       "  /* unfitted */\n",
       "  border: var(--sklearn-color-unfitted-level-1) 1pt solid;\n",
       "  color: var(--sklearn-color-unfitted-level-1);\n",
       "}\n",
       "\n",
       ".sk-estimator-doc-link.fitted,\n",
       "a:link.sk-estimator-doc-link.fitted,\n",
       "a:visited.sk-estimator-doc-link.fitted {\n",
       "  /* fitted */\n",
       "  border: var(--sklearn-color-fitted-level-1) 1pt solid;\n",
       "  color: var(--sklearn-color-fitted-level-1);\n",
       "}\n",
       "\n",
       "/* On hover */\n",
       "div.sk-estimator:hover .sk-estimator-doc-link:hover,\n",
       ".sk-estimator-doc-link:hover,\n",
       "div.sk-label-container:hover .sk-estimator-doc-link:hover,\n",
       ".sk-estimator-doc-link:hover {\n",
       "  /* unfitted */\n",
       "  background-color: var(--sklearn-color-unfitted-level-3);\n",
       "  color: var(--sklearn-color-background);\n",
       "  text-decoration: none;\n",
       "}\n",
       "\n",
       "div.sk-estimator.fitted:hover .sk-estimator-doc-link.fitted:hover,\n",
       ".sk-estimator-doc-link.fitted:hover,\n",
       "div.sk-label-container:hover .sk-estimator-doc-link.fitted:hover,\n",
       ".sk-estimator-doc-link.fitted:hover {\n",
       "  /* fitted */\n",
       "  background-color: var(--sklearn-color-fitted-level-3);\n",
       "  color: var(--sklearn-color-background);\n",
       "  text-decoration: none;\n",
       "}\n",
       "\n",
       "/* Span, style for the box shown on hovering the info icon */\n",
       ".sk-estimator-doc-link span {\n",
       "  display: none;\n",
       "  z-index: 9999;\n",
       "  position: relative;\n",
       "  font-weight: normal;\n",
       "  right: .2ex;\n",
       "  padding: .5ex;\n",
       "  margin: .5ex;\n",
       "  width: min-content;\n",
       "  min-width: 20ex;\n",
       "  max-width: 50ex;\n",
       "  color: var(--sklearn-color-text);\n",
       "  box-shadow: 2pt 2pt 4pt #999;\n",
       "  /* unfitted */\n",
       "  background: var(--sklearn-color-unfitted-level-0);\n",
       "  border: .5pt solid var(--sklearn-color-unfitted-level-3);\n",
       "}\n",
       "\n",
       ".sk-estimator-doc-link.fitted span {\n",
       "  /* fitted */\n",
       "  background: var(--sklearn-color-fitted-level-0);\n",
       "  border: var(--sklearn-color-fitted-level-3);\n",
       "}\n",
       "\n",
       ".sk-estimator-doc-link:hover span {\n",
       "  display: block;\n",
       "}\n",
       "\n",
       "/* \"?\"-specific style due to the `<a>` HTML tag */\n",
       "\n",
       "#sk-container-id-2 a.estimator_doc_link {\n",
       "  float: right;\n",
       "  font-size: 1rem;\n",
       "  line-height: 1em;\n",
       "  font-family: monospace;\n",
       "  background-color: var(--sklearn-color-background);\n",
       "  border-radius: 1rem;\n",
       "  height: 1rem;\n",
       "  width: 1rem;\n",
       "  text-decoration: none;\n",
       "  /* unfitted */\n",
       "  color: var(--sklearn-color-unfitted-level-1);\n",
       "  border: var(--sklearn-color-unfitted-level-1) 1pt solid;\n",
       "}\n",
       "\n",
       "#sk-container-id-2 a.estimator_doc_link.fitted {\n",
       "  /* fitted */\n",
       "  border: var(--sklearn-color-fitted-level-1) 1pt solid;\n",
       "  color: var(--sklearn-color-fitted-level-1);\n",
       "}\n",
       "\n",
       "/* On hover */\n",
       "#sk-container-id-2 a.estimator_doc_link:hover {\n",
       "  /* unfitted */\n",
       "  background-color: var(--sklearn-color-unfitted-level-3);\n",
       "  color: var(--sklearn-color-background);\n",
       "  text-decoration: none;\n",
       "}\n",
       "\n",
       "#sk-container-id-2 a.estimator_doc_link.fitted:hover {\n",
       "  /* fitted */\n",
       "  background-color: var(--sklearn-color-fitted-level-3);\n",
       "}\n",
       "</style><div id=\"sk-container-id-2\" class=\"sk-top-container\"><div class=\"sk-text-repr-fallback\"><pre>LGBMClassifier(learning_rate=0.422, n_estimators=260)</pre><b>In a Jupyter environment, please rerun this cell to show the HTML representation or trust the notebook. <br />On GitHub, the HTML representation is unable to render, please try loading this page with nbviewer.org.</b></div><div class=\"sk-container\" hidden><div class=\"sk-item\"><div class=\"sk-estimator fitted sk-toggleable\"><input class=\"sk-toggleable__control sk-hidden--visually\" id=\"sk-estimator-id-2\" type=\"checkbox\" checked><label for=\"sk-estimator-id-2\" class=\"sk-toggleable__label fitted sk-toggleable__label-arrow fitted\">&nbsp;LGBMClassifier<span class=\"sk-estimator-doc-link fitted\">i<span>Fitted</span></span></label><div class=\"sk-toggleable__content fitted\"><pre>LGBMClassifier(learning_rate=0.422, n_estimators=260)</pre></div> </div></div></div></div>"
      ],
      "text/plain": [
       "LGBMClassifier(learning_rate=0.422, n_estimators=260)"
      ]
     },
     "execution_count": 177,
     "metadata": {},
     "output_type": "execute_result"
    }
   ],
   "source": [
    "# 하이퍼파라미터들을 사용해서 모델 생성 & 학습 \n",
    "\n",
    "# 1. LogisticRegression\n",
    "model_log = LogisticRegression(C=10, penalty = 'l2', solver= 'newton-cg' , max_iter = 100)\n",
    "model_log.fit(x_train, y_train)\n",
    "# 2. Support Vector Machine (서포트 벡터 머신)\n",
    "model_svm = SVC(C=3, kernel='linear')\n",
    "model_svm.fit(x_train, y_train)\n",
    "# 3. K-Nearest Neighbors (KNN)\n",
    "model_knn = KNeighborsClassifier(metric='manhattan', n_neighbors=3, weights='distance')\n",
    "model_knn.fit(x_train, y_train)\n",
    "# 4. LightGBM (Light Gradient Boosting Machine)\n",
    "model_lgbm = LGBMClassifier(n_estimators=260, learning_rate=0.422)\n",
    "model_lgbm.fit(x_train, y_train)"
   ]
  },
  {
   "cell_type": "code",
   "execution_count": 178,
   "metadata": {
    "id": "fOz-YSqoIyxO"
   },
   "outputs": [
    {
     "data": {
      "text/plain": [
       "['best_lgbm_model.pkl']"
      ]
     },
     "execution_count": 178,
     "metadata": {},
     "output_type": "execute_result"
    }
   ],
   "source": [
    "joblib.dump(best_svm, 'best_svm_model.pkl')\n",
    "joblib.dump(best_log, 'best_log_model.pkl')\n",
    "joblib.dump(best_knn, 'best_knn_model.pkl')\n",
    "joblib.dump(best_lgbm, 'best_lgbm_model.pkl')\n"
   ]
  },
  {
   "cell_type": "code",
   "execution_count": 187,
   "metadata": {
    "id": "x30dIxfGSFM1"
   },
   "outputs": [
    {
     "name": "stdout",
     "output_type": "stream",
     "text": [
      "============평가 결과==================\n",
      "[[291   0   0   0   0   1]\n",
      " [  0 281   6   0   0   0]\n",
      " [  0   5 249   0   0   0]\n",
      " [  0   0   0 227   1   0]\n",
      " [  0   0   0   0 215   0]\n",
      " [  0   0   0   1   0 194]]\n",
      "Classification Report  \n",
      "               precision    recall  f1-score   support\n",
      "\n",
      "           0       1.00      1.00      1.00       292\n",
      "           1       0.98      0.98      0.98       287\n",
      "           2       0.98      0.98      0.98       254\n",
      "           3       1.00      1.00      1.00       228\n",
      "           4       1.00      1.00      1.00       215\n",
      "           5       0.99      0.99      0.99       195\n",
      "\n",
      "    accuracy                           0.99      1471\n",
      "   macro avg       0.99      0.99      0.99      1471\n",
      "weighted avg       0.99      0.99      0.99      1471\n",
      "\n"
     ]
    }
   ],
   "source": [
    "# 모델 불러오기 \n",
    "model = joblib.load('best_lgbm_model.pkl')\n",
    "y_pred = model.predict(x_test)\n",
    "\n",
    "print('============평가 결과==================')\n",
    "print(confusion_matrix(y_test, y_pred))\n",
    "print('Classification Report  \\n' , classification_report(y_test, y_pred ))"
   ]
  },
  {
   "cell_type": "code",
   "execution_count": null,
   "metadata": {},
   "outputs": [],
   "source": []
  }
 ],
 "metadata": {
  "colab": {
   "provenance": [],
   "toc_visible": true
  },
  "kernelspec": {
   "display_name": "Python 3 (ipykernel)",
   "language": "python",
   "name": "python3"
  },
  "language_info": {
   "codemirror_mode": {
    "name": "ipython",
    "version": 3
   },
   "file_extension": ".py",
   "mimetype": "text/x-python",
   "name": "python",
   "nbconvert_exporter": "python",
   "pygments_lexer": "ipython3",
   "version": "3.12.4"
  }
 },
 "nbformat": 4,
 "nbformat_minor": 4
}
