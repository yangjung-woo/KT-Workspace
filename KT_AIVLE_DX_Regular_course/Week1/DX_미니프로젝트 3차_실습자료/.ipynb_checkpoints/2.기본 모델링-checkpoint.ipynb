{
 "cells": [
  {
   "cell_type": "markdown",
   "metadata": {
    "id": "NbI_RoQ9AP5r"
   },
   "source": [
    "#**스마트폰 센서 데이터 기반 모션 분류**\n",
    "# 단계2 : 기본 모델링\n"
   ]
  },
  {
   "cell_type": "markdown",
   "metadata": {
    "id": "D67PlTu4JGAY"
   },
   "source": [
    "## 0.미션"
   ]
  },
  {
   "cell_type": "markdown",
   "metadata": {
    "id": "KxwkCwUz4sv0"
   },
   "source": [
    "* 데이터 전처리\n",
    "    * 가변수화, 데이터 분할, NaN 확인 및 조치, 스케일링 등 필요한 전처리 수행\n",
    "* 다양한 알고리즘으로 분류 모델 생성\n",
    "    * 최소 4개 이상의 알고리즘을 적용하여 모델링 수행\n",
    "    * 성능 비교\n",
    "        * 각 모델의 성능을 관리하는 별도의 엑셀파일을 만들어 봅시다.\n",
    "        * 성능 가이드 : Accuracy 0.900 ~"
   ]
  },
  {
   "cell_type": "markdown",
   "metadata": {
    "id": "NCptKiLOAn7l"
   },
   "source": [
    "## 1.환경설정"
   ]
  },
  {
   "cell_type": "markdown",
   "metadata": {
    "id": "V1FK1b5HxOc3"
   },
   "source": [
    "* 세부 요구사항\n",
    "    - 경로 설정 : 로컬 수행(Ananconda)\n",
    "        * 제공된 압축파일을 다운받아 압축을 풀고\n",
    "        * anaconda의 root directory(보통 C:/Users/< ID > 에 project3_1 폴더를 만들고, 복사해 넣습니다.\n",
    "    - 기본적으로 필요한 라이브러리를 import 하도록 코드가 작성되어 있습니다.\n",
    "        * 필요하다고 판단되는 라이브러리를 추가하세요.\n"
   ]
  },
  {
   "cell_type": "markdown",
   "metadata": {
    "id": "3dm30YEUpZ8Q"
   },
   "source": [
    "### (1) 라이브러리 로딩"
   ]
  },
  {
   "cell_type": "code",
   "execution_count": 20,
   "metadata": {
    "id": "3rsQerEaELwI"
   },
   "outputs": [],
   "source": [
    "import pandas as pd\n",
    "import numpy as np\n",
    "import matplotlib.pyplot as plt\n",
    "import seaborn as sns\n",
    "from tqdm.auto import tqdm\n",
    "import warnings\n",
    "warnings.filterwarnings('ignore')\n",
    "\n",
    "import joblib\n",
    "\n",
    "# 필요한 라이브러리, 함수 로딩 ------------------\n",
    "\n",
    "\n"
   ]
  },
  {
   "cell_type": "markdown",
   "metadata": {
    "id": "XZ6nyqZkpZ8S"
   },
   "source": [
    "* 제공 함수 생성\n",
    "    * 변수 중요도를 시각화할 수 있는 함수를 제공합니다.\n",
    "    * 입력 :\n",
    "        * importance : 트리모델의 변수 중요도(예: model.feature_importances_)\n",
    "        * names : 변수 이름 목록(예 : x_train.columns\n",
    "        * result_only  : 변수 중요도 순으로 데이터프레임만 return할지, 그래프도 포함할지 결정. False이면 결과 데이터프레임 + 그래프\n",
    "        * topn : 중요도 상위 n개만 표시. all 이면 전체.\n",
    "    * 출력 :\n",
    "        * 중요도 그래프 : 중요도 내림차순으로 정렬\n",
    "        * 중요도 데이터프레임 : 중요도 내림차순으로 정렬"
   ]
  },
  {
   "cell_type": "code",
   "execution_count": 23,
   "metadata": {
    "id": "EyMZDIT-aDHZ"
   },
   "outputs": [],
   "source": [
    "# 변수의 특성 중요도 계산하기\n",
    "def plot_feature_importance(importance, names, result_only = False, topn = 'all'):\n",
    "    feature_importance = np.array(importance)\n",
    "    feature_name = np.array(names)\n",
    "\n",
    "    data={'feature_name':feature_name,'feature_importance':feature_importance}\n",
    "    fi_temp = pd.DataFrame(data)\n",
    "\n",
    "    #변수의 특성 중요도 순으로 정렬하기\n",
    "    fi_temp.sort_values(by=['feature_importance'], ascending=False,inplace=True)\n",
    "    fi_temp.reset_index(drop=True, inplace = True)\n",
    "\n",
    "    if topn == 'all' :\n",
    "        fi_df = fi_temp.copy()\n",
    "    else :\n",
    "        fi_df = fi_temp.iloc[:topn]\n",
    "\n",
    "    #변수의 특성 중요도 그래프로 그리기\n",
    "    if result_only == False :\n",
    "        plt.figure(figsize=(10,20))\n",
    "        sns.barplot(x='feature_importance', y='feature_name', data = fi_df)\n",
    "\n",
    "        plt.xlabel('importance')\n",
    "        plt.ylabel('feature name')\n",
    "        plt.grid()\n",
    "\n",
    "    return fi_df"
   ]
  },
  {
   "cell_type": "markdown",
   "metadata": {
    "id": "bA-eHXdwBDCz"
   },
   "source": [
    "### (2) 데이터 불러오기"
   ]
  },
  {
   "cell_type": "markdown",
   "metadata": {
    "id": "HwIACQyupklv"
   },
   "source": [
    "* 주어진 데이터셋\n",
    "    * data01_train.csv : 학습 및 검증용\n",
    "    * data01_test.csv : 테스트용\n",
    "\n",
    "* 세부 요구사항\n",
    "    * 칼럼 삭제 : data01_train.csv와 data01_test.csv 에서 'subject' 칼럼은 불필요하므로 삭제합니다."
   ]
  },
  {
   "cell_type": "markdown",
   "metadata": {
    "id": "fmgUEGOipvG5"
   },
   "source": [
    "#### 1) 데이터로딩"
   ]
  },
  {
   "cell_type": "code",
   "execution_count": 25,
   "metadata": {
    "id": "FT_JFnclfcQ4"
   },
   "outputs": [],
   "source": [
    "data_train = pd.read_csv('data01_train.csv')"
   ]
  },
  {
   "cell_type": "code",
   "execution_count": 27,
   "metadata": {
    "id": "ZpMoNMpcQoQ5"
   },
   "outputs": [],
   "source": [
    "data_test = pd.read_csv('data01_test.csv')"
   ]
  },
  {
   "cell_type": "code",
   "execution_count": 29,
   "metadata": {
    "id": "uTi4ZuDWDlem"
   },
   "outputs": [],
   "source": [
    "drop_cols = 'subject'\n",
    "data_test.drop(columns = drop_cols ,inplace =True)\n",
    "data_train.drop(columns = drop_cols, inplace = True)"
   ]
  },
  {
   "cell_type": "markdown",
   "metadata": {
    "id": "aI7qJqz3pr3m"
   },
   "source": [
    "#### 2) 기본 정보 조회"
   ]
  },
  {
   "cell_type": "code",
   "execution_count": 32,
   "metadata": {
    "id": "yFVSAGNhpr3m"
   },
   "outputs": [
    {
     "name": "stdout",
     "output_type": "stream",
     "text": [
      "(5881, 562)\n",
      "(1471, 562)\n"
     ]
    }
   ],
   "source": [
    "print(data_train.shape)\n",
    "print(data_test.shape)"
   ]
  },
  {
   "cell_type": "code",
   "execution_count": 34,
   "metadata": {
    "id": "xJnnr8K-pr3m"
   },
   "outputs": [
    {
     "name": "stdout",
     "output_type": "stream",
     "text": [
      "<class 'pandas.core.frame.DataFrame'>\n",
      "RangeIndex: 1471 entries, 0 to 1470\n",
      "Columns: 562 entries, tBodyAcc-mean()-X to Activity\n",
      "dtypes: float64(561), object(1)\n",
      "memory usage: 6.3+ MB\n"
     ]
    }
   ],
   "source": [
    "data_test.info() "
   ]
  },
  {
   "cell_type": "code",
   "execution_count": 36,
   "metadata": {
    "id": "ajJ1qJkhpr3n"
   },
   "outputs": [
    {
     "name": "stdout",
     "output_type": "stream",
     "text": [
      "train 데이터 범주의 종류: \n",
      " ['STANDING' 'LAYING' 'WALKING' 'WALKING_DOWNSTAIRS' 'WALKING_UPSTAIRS'\n",
      " 'SITTING']\n",
      "test 데이터 범주의 종류: \n",
      " ['STANDING' 'LAYING' 'WALKING' 'WALKING_DOWNSTAIRS' 'WALKING_UPSTAIRS'\n",
      " 'SITTING']\n"
     ]
    }
   ],
   "source": [
    "# Acrivity 범주의 종류 확인\n",
    "categories_train = data_train['Activity'].unique()\n",
    "categories_test = data_test['Activity'].unique()\n",
    "print(\"train 데이터 범주의 종류: \\n\", categories_train)\n",
    "print(\"test 데이터 범주의 종류: \\n\", categories_train)"
   ]
  },
  {
   "cell_type": "code",
   "execution_count": 38,
   "metadata": {},
   "outputs": [
    {
     "name": "stdout",
     "output_type": "stream",
     "text": [
      "train 데이터 범주별 빈도수: \n",
      " Activity\n",
      "LAYING                1115\n",
      "STANDING              1087\n",
      "SITTING               1032\n",
      "WALKING                998\n",
      "WALKING_UPSTAIRS       858\n",
      "WALKING_DOWNSTAIRS     791\n",
      "Name: count, dtype: int64\n",
      "test 데이터 범주별 빈도수: \n",
      " Activity\n",
      "LAYING                292\n",
      "STANDING              287\n",
      "SITTING               254\n",
      "WALKING               228\n",
      "WALKING_UPSTAIRS      215\n",
      "WALKING_DOWNSTAIRS    195\n",
      "Name: count, dtype: int64\n"
     ]
    }
   ],
   "source": [
    "# 범주별 빈도수 확인\n",
    "activity_count_train = data_train['Activity'].value_counts()\n",
    "activity_count_test = data_test['Activity'].value_counts()\n",
    "print(\"train 데이터 범주별 빈도수: \\n\", activity_count_train)\n",
    "print(\"test 데이터 범주별 빈도수: \\n\", activity_count_test)"
   ]
  },
  {
   "cell_type": "code",
   "execution_count": 40,
   "metadata": {
    "id": "Jn78I6JFpr3n"
   },
   "outputs": [
    {
     "name": "stdout",
     "output_type": "stream",
     "text": [
      "train 데이터 범주별 비율(%) \n",
      " Activity\n",
      "LAYING                0.189594\n",
      "STANDING              0.184833\n",
      "SITTING               0.175480\n",
      "WALKING               0.169699\n",
      "WALKING_UPSTAIRS      0.145894\n",
      "WALKING_DOWNSTAIRS    0.134501\n",
      "Name: proportion, dtype: float64\n",
      "test 데이터 범주별 비율(%) \n",
      " Activity\n",
      "LAYING                0.198504\n",
      "STANDING              0.195105\n",
      "SITTING               0.172672\n",
      "WALKING               0.154997\n",
      "WALKING_UPSTAIRS      0.146159\n",
      "WALKING_DOWNSTAIRS    0.132563\n",
      "Name: proportion, dtype: float64\n"
     ]
    }
   ],
   "source": [
    "# 범주별 비율 계산\n",
    "activity_ratio_train = data_train['Activity'].value_counts(normalize=True)\n",
    "activity_ratio_test = data_test['Activity'].value_counts(normalize=True)\n",
    "print(\"train 데이터 범주별 비율(%) \\n\", activity_ratio_train)\n",
    "print(\"test 데이터 범주별 비율(%) \\n\", activity_ratio_test)"
   ]
  },
  {
   "cell_type": "markdown",
   "metadata": {
    "id": "6U3UzQGZAS1o"
   },
   "source": [
    "## **2. 데이터 전처리**\n",
    "\n",
    "* 가변수화, 데이터 분할, NaN 확인 및 조치, 스케일링 등 필요한 전처리를 수행한다.\n"
   ]
  },
  {
   "cell_type": "markdown",
   "metadata": {
    "id": "ZecsiT_DAS1p"
   },
   "source": [
    "### (1) 데이터 분할1 : x, y"
   ]
  },
  {
   "cell_type": "markdown",
   "metadata": {
    "id": "H-DxzcJiJS4W"
   },
   "source": [
    "* 세부 요구사항\n",
    "    - x, y로 분할합니다."
   ]
  },
  {
   "cell_type": "code",
   "execution_count": 45,
   "metadata": {
    "id": "qVqd1JJ6Ajaj"
   },
   "outputs": [],
   "source": [
    "target = 'Activity'\n",
    "x = data_train.drop(columns= target)\n",
    "y = data_train.loc[:,target]\n"
   ]
  },
  {
   "cell_type": "markdown",
   "metadata": {
    "id": "MpZfnAa4BefE"
   },
   "source": [
    "### (2) 데이터분할2 : train, validation"
   ]
  },
  {
   "cell_type": "markdown",
   "metadata": {
    "id": "YOYncknxWg0E"
   },
   "source": [
    "* 세부 요구사항\n",
    "    - train : val = 8 : 2 혹은 7 : 3\n",
    "    - random_state 옵션을 사용하여 다른 모델과 비교를 위해 성능이 재현되도록 합니다."
   ]
  },
  {
   "cell_type": "code",
   "execution_count": 47,
   "metadata": {
    "id": "1AoCDDpdBeCT"
   },
   "outputs": [],
   "source": [
    "from sklearn.model_selection import train_test_split\n",
    "\n",
    "x_train , x_test , y_train , y_test = train_test_split(x,y,random_state=42,test_size=0.2)"
   ]
  },
  {
   "cell_type": "markdown",
   "metadata": {
    "id": "A8hxVzM3Agvw"
   },
   "source": [
    "### (3) 스케일링\n"
   ]
  },
  {
   "cell_type": "markdown",
   "metadata": {
    "id": "8OHAQJ9HJZP8"
   },
   "source": [
    "* 세부 요구사항\n",
    "    - 스케일링을 필요로 하는 알고리즘 사용을 위해서 코드 수행\n",
    "    - min-max 방식 혹은 standard 방식 중 한가지 사용."
   ]
  },
  {
   "cell_type": "code",
   "execution_count": 49,
   "metadata": {
    "id": "egLANGC5BMmk"
   },
   "outputs": [],
   "source": [
    "from sklearn.preprocessing import MinMaxScaler\n",
    "scaler = MinMaxScaler()\n",
    "x_train_s = scaler.fit_transform(x_train)\n",
    "x_test_s = scaler.transform(x_test)\n"
   ]
  },
  {
   "cell_type": "markdown",
   "metadata": {
    "id": "RfSZ5O4sBQf3"
   },
   "source": [
    "## **3. 기본 모델링**\n",
    "\n"
   ]
  },
  {
   "cell_type": "markdown",
   "metadata": {
    "id": "WAOal2RuWzNk"
   },
   "source": [
    "* 세부 요구사항\n",
    "    - 최소 5개 이상의 알고리즘을 적용하여 모델링을 수행한다.\n",
    "    - 각 알고리즘 별로 다음 중 몇가지를 시도하며 성능을 비교한다."
   ]
  },
  {
   "cell_type": "markdown",
   "metadata": {
    "id": "6JKfabsMB-CK"
   },
   "source": [
    "### (1) 모델1"
   ]
  },
  {
   "cell_type": "code",
   "execution_count": null,
   "metadata": {
    "id": "vWo348sDOjOc"
   },
   "outputs": [],
   "source": [
    "# 로지스틱 회귀"
   ]
  },
  {
   "cell_type": "code",
   "execution_count": null,
   "metadata": {
    "id": "88X3NHnaOjLf"
   },
   "outputs": [],
   "source": []
  },
  {
   "cell_type": "code",
   "execution_count": null,
   "metadata": {
    "id": "gmXup5dhOjIz"
   },
   "outputs": [],
   "source": []
  },
  {
   "cell_type": "code",
   "execution_count": null,
   "metadata": {
    "id": "rjDpm-EOOjFw"
   },
   "outputs": [],
   "source": []
  },
  {
   "cell_type": "markdown",
   "metadata": {
    "id": "lD_JXCalOmx1"
   },
   "source": [
    "### (2) 모델2"
   ]
  },
  {
   "cell_type": "code",
   "execution_count": null,
   "metadata": {
    "id": "JNwgHB79Omx1"
   },
   "outputs": [],
   "source": [
    "# 랜덤포레스트"
   ]
  },
  {
   "cell_type": "code",
   "execution_count": null,
   "metadata": {
    "id": "ULrnJKXZOmx1"
   },
   "outputs": [],
   "source": []
  },
  {
   "cell_type": "code",
   "execution_count": null,
   "metadata": {
    "id": "d5yS0MTTOmx1"
   },
   "outputs": [],
   "source": []
  },
  {
   "cell_type": "code",
   "execution_count": null,
   "metadata": {
    "id": "OIA46BxCOmx1"
   },
   "outputs": [],
   "source": []
  },
  {
   "cell_type": "markdown",
   "metadata": {
    "id": "iuUUwpFXOoo_"
   },
   "source": [
    "### (3) 모델3"
   ]
  },
  {
   "cell_type": "code",
   "execution_count": null,
   "metadata": {
    "id": "YUXUQC9NOopA"
   },
   "outputs": [],
   "source": [
    "# 서포트벡터머신"
   ]
  },
  {
   "cell_type": "code",
   "execution_count": null,
   "metadata": {
    "id": "zOvrawapOopA"
   },
   "outputs": [],
   "source": []
  },
  {
   "cell_type": "code",
   "execution_count": null,
   "metadata": {
    "id": "pVqczc1NOopA"
   },
   "outputs": [],
   "source": []
  },
  {
   "cell_type": "code",
   "execution_count": null,
   "metadata": {
    "id": "b9Z2lRsWOopA"
   },
   "outputs": [],
   "source": []
  },
  {
   "cell_type": "markdown",
   "metadata": {
    "id": "qwGPQ7NJOrEv"
   },
   "source": [
    "### (4) 모델4"
   ]
  },
  {
   "cell_type": "code",
   "execution_count": null,
   "metadata": {
    "id": "CGxxgmGfOrEw"
   },
   "outputs": [],
   "source": [
    "# 그라디언트 부스팅"
   ]
  },
  {
   "cell_type": "code",
   "execution_count": null,
   "metadata": {
    "id": "OmCto1aPOrEw"
   },
   "outputs": [],
   "source": []
  },
  {
   "cell_type": "code",
   "execution_count": null,
   "metadata": {
    "id": "OdSoScEFOrEw"
   },
   "outputs": [],
   "source": []
  },
  {
   "cell_type": "code",
   "execution_count": null,
   "metadata": {
    "id": "5qesQaCcOrEw"
   },
   "outputs": [],
   "source": []
  },
  {
   "cell_type": "markdown",
   "metadata": {
    "id": "6wLbrHXvOs3G"
   },
   "source": [
    "### (5) 모델5"
   ]
  },
  {
   "cell_type": "code",
   "execution_count": null,
   "metadata": {
    "id": "LlTAkxTaOs3H"
   },
   "outputs": [],
   "source": [
    "# Knn근접이웃법"
   ]
  },
  {
   "cell_type": "code",
   "execution_count": null,
   "metadata": {
    "id": "wpjywfdIOs3H"
   },
   "outputs": [],
   "source": []
  },
  {
   "cell_type": "code",
   "execution_count": null,
   "metadata": {
    "id": "5FSyR8sQOs3H"
   },
   "outputs": [],
   "source": []
  },
  {
   "cell_type": "code",
   "execution_count": null,
   "metadata": {
    "id": "QCVRGIRnOs3H"
   },
   "outputs": [],
   "source": []
  },
  {
   "cell_type": "markdown",
   "metadata": {
    "id": "ylF4bRNod74K"
   },
   "source": [
    "## 4.성능비교"
   ]
  },
  {
   "cell_type": "markdown",
   "metadata": {
    "id": "WYntDXEBZD1Y"
   },
   "source": [
    "* 세부 요구사항\n",
    "    - 각 모델에 대해서 test 데이터로 성능 측정후 비교\n",
    "    "
   ]
  },
  {
   "cell_type": "code",
   "execution_count": null,
   "metadata": {
    "id": "Or-oKcN6ayH8"
   },
   "outputs": [],
   "source": []
  },
  {
   "cell_type": "code",
   "execution_count": null,
   "metadata": {
    "id": "G_K0EnpidgYe"
   },
   "outputs": [],
   "source": []
  },
  {
   "cell_type": "code",
   "execution_count": null,
   "metadata": {
    "id": "XoVmpJDbOzwG"
   },
   "outputs": [],
   "source": []
  },
  {
   "cell_type": "markdown",
   "metadata": {
    "id": "utBIUTcHItOM"
   },
   "source": [
    "## 5.모델 저장\n",
    "* 각 알고리즘 별 최적의 성능 모델 저장\n",
    "    * 단, 전체 변수를 이용해 생성한 모델만 저장합니다.(joblib.dump)\n",
    "    * 튜닝 모델은, model.best_estimator_ 로 저장합니다."
   ]
  },
  {
   "cell_type": "code",
   "execution_count": null,
   "metadata": {
    "id": "fOz-YSqoIyxO"
   },
   "outputs": [],
   "source": []
  },
  {
   "cell_type": "code",
   "execution_count": null,
   "metadata": {
    "id": "x30dIxfGSFM1"
   },
   "outputs": [],
   "source": []
  }
 ],
 "metadata": {
  "colab": {
   "provenance": [],
   "toc_visible": true
  },
  "kernelspec": {
   "display_name": "Python 3 (ipykernel)",
   "language": "python",
   "name": "python3"
  },
  "language_info": {
   "codemirror_mode": {
    "name": "ipython",
    "version": 3
   },
   "file_extension": ".py",
   "mimetype": "text/x-python",
   "name": "python",
   "nbconvert_exporter": "python",
   "pygments_lexer": "ipython3",
   "version": "3.12.4"
  }
 },
 "nbformat": 4,
 "nbformat_minor": 4
}
