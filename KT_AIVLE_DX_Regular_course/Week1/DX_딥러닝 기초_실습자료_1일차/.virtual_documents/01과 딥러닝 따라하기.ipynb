








import pandas as pd
import numpy as np
import matplotlib.pyplot as plt
import seaborn as sns

from sklearn.model_selection import train_test_split
from sklearn.metrics import *
from sklearn.preprocessing import StandardScaler, MinMaxScaler











path = 'https://raw.githubusercontent.com/DA4BAM/dataset/master/advertising.csv'
adv = pd.read_csv(path)
adv.head()


target = 'Sales'
x = adv.drop(target, axis=1)
y = adv.loc[:, target]











x_train, x_val, y_train, y_val = train_test_split(x, y, test_size=.2, random_state = 20)





# 선형회귀 알고리즘을 불러 옵시다.
from sklearn.linear_model import LinearRegression





model = LinearRegression()





model.fit(x_train, y_train)





pred = model.predict(x_val)





print(f'RMSE  : {root_mean_squared_error(y_val, pred)}')
print(f'MAE   : {mean_absolute_error(y_val, pred)}')
print(f'MAPE  : {mean_absolute_percentage_error(y_val, pred)}')








scaler = MinMaxScaler()
x_train = scaler.fit_transform(x_train)
x_val = scaler.transform(x_val)





from keras.models import Sequential
from keras.layers import Dense, Input
from keras.backend import clear_session





nfeatures = x_train.shape[1] #num of columns
nfeatures


# 메모리 정리
clear_session()

# Sequential 타입 모델 선언
model = Sequential( [Input(shape =(nfeatures,)),
                     Dense(1)]  )

# 모델요약
model.summary()


# 컴파일
model.compile(optimizer='adam', loss='mse')





model.fit(x_train, y_train)





pred = model.predict(x_val)





print(f'RMSE  : {root_mean_squared_error(y_val, pred)}')
print(f'MAE   : {mean_absolute_error(y_val, pred)}')
print(f'MAPE  : {mean_absolute_percentage_error(y_val, pred)}')




















path = 'https://raw.githubusercontent.com/DA4BAM/dataset/master/Carseats.csv'
carseat = pd.read_csv(path)
carseat.head()


target = 'Sales'
x = carseat.drop(target, axis=1)
y = carseat.loc[:, target]





cat_cols = ['ShelveLoc', 'Education', 'US', 'Urban']
x = pd.get_dummies(x, columns = cat_cols, drop_first = True)





x_train, x_val, y_train, y_val = train_test_split(x, y, test_size=.2, random_state = 20)





scaler = MinMaxScaler()
x_train = scaler.fit_transform(x_train)
x_val = scaler.transform(x_val)





from keras.models import Sequential
from keras.layers import Dense, Input
from keras.backend import clear_session





nfeatures = x_train.shape[1] #num of columns
nfeatures


# 메모리 정리(필수는 아님!)


# Sequential 타입 모델 선언


# 모델요약



# 컴파일












pred =





print(f'RMSE  : {root_mean_squared_error(y_val, pred)}')
print(f'MAE   : {mean_absolute_error(y_val, pred)}')











path = 'https://raw.githubusercontent.com/DA4BAM/dataset/master/boston.csv'
boston = pd.read_csv(path)
boston.head()


target = 'medv'
x = boston.drop(target, axis=1)
y = boston.loc[:, target]








x_train, x_val, y_train, y_val = train_test_split(x, y, test_size=.2, random_state = 20)





scaler = MinMaxScaler()
x_train = scaler.fit_transform(x_train)
x_val = scaler.transform(x_val)





from keras.models import Sequential
from keras.layers import Dense, Input
from keras.backend import clear_session

































