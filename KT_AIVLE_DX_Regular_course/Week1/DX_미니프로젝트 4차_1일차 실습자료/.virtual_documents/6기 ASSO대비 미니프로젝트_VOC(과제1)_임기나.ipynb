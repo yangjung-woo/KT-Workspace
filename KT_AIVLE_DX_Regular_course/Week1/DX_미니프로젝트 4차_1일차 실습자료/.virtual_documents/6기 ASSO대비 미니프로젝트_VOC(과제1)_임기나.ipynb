








# 코드실행시 경고 메시지 무시
import warnings
warnings.filterwarnings(action='ignore')











# 여기에 답안코드를 작성하세요.
!pip install seaborn






# 여기에 답안코드를 작성하세요.

import numpy as np
import pandas as pd





# 여기에 답안코드를 작성하세요.
import matplotlib as plt
import seaborn as sns












# 여기에 답안코드를 작성하세요.

df = pd.read_csv('voc_data.csv')











# 여기에 답안코드를 작성하세요.

df.head()


# 여기에 답안코드를 작성하세요.
df.tail()






# 여기에 답안코드를 작성하세요.

df.info()





# 여기에 답안코드를 작성하세요.
df.index






# 여기에 답안코드를 작성하세요.

df.columns





# 여기에 답안코드를 작성하세요.

df.values





# 여기에 답안코드를 작성하세요.

df.describe()





# 여기에 답안코드를 작성하세요.

df.isna().sum()





# 여기에 답안코드를 작성하세요.

df['voc_trt_perd_itg_cd']





# 여기에 답안코드를 작성하세요.

df['voc_trt_perd_itg_cd'].value_counts()











# 여기에 답안코드를 작성하세요.
drop_list = ['voc_trt_perd_itg_cd','voc_trt_reslt_itg_cd','oos_cause_type_itg_cd','engt_cperd_type_itg_cd','engt_tgt_div_itg_cd','fclt_oos_yn']

df1 = df.drop(columns=drop_list)

df1.columns





# 여기에 답안코드를 작성하세요.
drop_cols = df1.columns[(df1=='_').mean()>=0.5].tolist()
df1 = df1.drop(columns=drop_cols)





# 여기에 답안코드를 작성하세요.

df1['cust_clas_itg_cd'].value_counts()['_']





# 여기에 답안코드를 작성하세요.
df2 = df1.replace('_',np.nan)






# 여기에 답안코드를 작성하세요.
df2.isna().sum()






# 여기에 답안코드를 작성하세요.
df2.dtypes






# 여기에 답안코드를 작성하세요.
mode_value = df2['cust_clas_itg_cd'].mode()[0]
df3 = df2.copy()
df3['cust_clas_itg_cd'].fillna(mode_value)





# 여기에 답안코드를 작성하세요.
age_median = pd.to_numeric(df3['age_itg_cd']).median()
df3['age_itg_cd'] = df3['age_itg_cd'].fillna(age_median).astype('int')
df4 = df3.copy()





# 여기에 답안코드를 작성하세요.

mode_value = df4['cont_sttus_itg_cd'].mode()[0]
df4['cont_sttus_itg_cd'] = df4['cont_sttus_itg_cd'].fillna(mode_value)
df5 = df4.copy()





# 여기에 답안코드를 작성하세요.

mode_value = df5['cust_dtl_ctg_itg_cd'].mode()[0]
df5['cust_dtl_ctg_itg_cd'] = df5['cust_dtl_ctg_itg_cd'].fillna(mode_value)





# 여기에 답안코드를 작성하세요.
df5[['new_date', 'opn_nfl_chg_date', 'cont_fns_pam_date']]
date_cols = ['new_date', 'opn_nfl_chg_date', 'cont_fns_pam_date']
df5.drop(columns=date_cols)





# 여기에 답안코드를 작성하세요.

df5.drop(columns='voc_mis_pbls_yn')








# 여기에 답안코드를 작성하세요.
from sklearn.preprocessing import LabelEncoder

cat_cols = df5.select_dtypes(include='object').columns.tolist()


le = LabelEncoder()
df5['cust_clas_itg_cd'] = le.fit_transform(df5['cust_clas_itg_cd'])





# 여기에 답안코드를 작성하세요.

cat_cols = df5.select_dtypes(include='object').columns.tolist()

df6 = pd.get_dummies(df5, columns=cat_cols)

df6








# 여기에 답안코드를 작성하세요.

from sklearn.model_selection import train_test_split

target = 'trm_yn_Y'
X = df6.drop(columns=target)
y = df6[target]
x_train, x_test, y_train, y_test = train_test_split(X,y,test_size=0.2,random_state=42,stratify=y)











# 여기에 답안코드를 작성하세요.

from sklearn.preprocessing import StandardScaler

standard = StandardScaler()
x_train_s = standard.fit_transform(x_train)
x_test_s = standard.transform(x_test)











# 여기에 답안코드를 작성하세요.
from sklearn.linear_model import LogisticRegression

model = LogisticRegression(C=10, max_iter=2000)
model.fit(x_train_s, y_train)





# 여기에 답안코드를 작성하세요.
from sklearn.metrics import confusion_matrix, classification_report

pred1 = model.predict(x_test_s)

print(confusion_matrix(y_test,pred1))
conf_matrix = confusion_matrix(y_test,pred1)
sns.heatmap(conf_matrix)
print(classification_report(y_test,pred1))






# 여기에 답안코드를 작성하세요.

from sklearn.tree import DecisionTreeClassifier

model = DecisionTreeClassifier(max_depth=10, random_state=42)

model.fit(x_train,y_train)





# 여기에 답안코드를 작성하세요.
from sklearn.ensemble import RandomForestClassifier

model = RandomForestClassifier(n_estimators=100, random_state=42)

model.fit(x_train, y_train)





# 여기에 답안코드를 작성하세요.
from xgboost import XGBClassifier

model =XGBClassifier(n_estimators=5)

model.fit(x_train, y_train)






# 여기에 답안코드를 작성하세요.
from lightgbm import LGBMClassifier

model  = LGBMClassifier(n_estimators=3)

model.fit(x_train, y_train)





# 이 데이터로 연습하세요.
x_data = np.array([1.6, 2.3, 3.5, 4.6]).reshape(-1,1)
y_data = np.array([3.3, 5.5, 7.2, 9.9])


# 여기에 답안코드를 작성하세요.
x_train2, x_test2, y_train2, y_test2 = train_test_split(x_data,y_data,test_size=0.2)
from sklearn.linear_model import LinearRegression

model = LinearRegression()

model.fit(x_train2,y_train2)














#!pip install keras


# !pip install tensorflow


import numpy as np

print(type(x_train))  # 예상 출력: <class 'numpy.ndarray'>
print(type(y_train))  # 예상 출력: <class 'numpy.ndarray'>

# 필요시 NumPy 배열로 변환
x_train = np.array(x_train)
y_train = np.array(y_train)

print(x_train.dtype)  # 올바른 타입: float32 또는 float64
print(y_train.dtype)  # 이진 분류에서는 int 또는 float이어야 함

# 필요시 타입 변환
x_train = x_train.astype('float32')
y_train = y_train.astype('float32')


# 여기에 답안코드를 작성하세요.
from keras.models import Sequential
from keras.layers import Dense, Input
from keras.backend import clear_session
from keras.layers import Dropout
from keras.optimizers import Adam
from tensorflow.keras.callbacks import EarlyStopping, ModelCheckpoint

nfeatures = x_train.shape[1] 

model = Sequential([Input(shape=(nfeatures,)),
                    Dense(64,activation='relu'),
                    Dropout(0.2),
                    Dense(32, activation='relu'),
                    Dropout(0.2),
                    Dense(16,activation='relu'),
                    Dropout(0.2),
                    Dense(1,activation='sigmoid')])

model.summary()

model.compile(optimizer=Adam(learning_rate=0.001),loss='binary_crossentropy',metrics=['accuracy'])

min_de = 0.001
pat = 5

es = EarlyStopping(monitor='val_loss',min_delta=min_de,patience=pat)
model_checkpoint = ModelCheckpoint('best_model.keras', monitor='val_loss', save_best_only=True)

history = model.fit(
    x_train, y_train,
    batch_size=10,
    epochs=10,
    validation_split=0.2,
    callbacks=[es, model_checkpoint]
)








# 여기에 답안코드를 작성하세요.





# 참고
# Y 레이블 One-Hot-Encoding 되지 않았으면 loss='sparse_categorical_crossentropy' 사용
# model.compile(optimizer='adam', loss='sparse_categorical_crossentropy',metrics=['acc'])
# history = model.fit(X_train, y_train, batch_size=batch_size, epochs=epochs, callbacks=[es,mc], validation_data=(X_test, y_test), verbose=1)





# 여기에 답안코드를 작성하세요.
import matplotlib.pyplot as plt
train_acc = history.history['accuracy']  
val_acc = history.history['val_accuracy']
# Epochs에 대한 x 값
epochs = range(1, len(train_acc) + 1)

plt.plot(epochs, train_acc, label='Train')
plt.plot(epochs, val_acc, label='Validation')
plt.title('Train and Validation Accuracy')
plt.xlabel('Epochs')
plt.ylabel('Accuracy')
plt.legend()

plt.show()





# 여기에 답안코드를 작성하세요.

import matplotlib.pyplot as plt 
train_loss = history.history['loss']
val_loss = history.history['val_loss']

# Epochs에 대한 x 값
epochs = range(1, len(train_loss) + 1)

# 그래프 그리기
plt.plot(epochs, train_loss, label='Train')
plt.plot(epochs, val_loss, label='Validation')

# 그래프 제목 및 레이블 추가
plt.title('Train and Validation Loss')
plt.xlabel('Epochs')
plt.ylabel('Loss')

# 범례 표시
plt.legend()

# 그래프 출력
plt.show()





# 여기에 답안코드를 작성하세요.
# 여기에 답안코드를 작성하세요.

# 모델 평가
y_pred = model.predict(x_test)

y_pred = np.where(y_pred >= .5, 1, 0)
print(pred[:5])

print(classification_report(y_test, y_pred))

