{
 "cells": [
  {
   "cell_type": "markdown",
   "metadata": {
    "id": "b3TDAdnvnSbh"
   },
   "source": [
    "<center><img src='https://raw.githubusercontent.com/Jangrae/img/master/title.png' width=500/></center>"
   ]
  },
  {
   "cell_type": "markdown",
   "metadata": {
    "id": "0ssAURTLCMZJ"
   },
   "source": [
    "<center><img src='https://raw.githubusercontent.com/Jangrae/img/master/practice.png' width=300/></center>"
   ]
  },
  {
   "cell_type": "markdown",
   "metadata": {
    "id": "e6062223"
   },
   "source": [
    "# 실습 #1: Input"
   ]
  },
  {
   "cell_type": "markdown",
   "metadata": {
    "id": "DrMB54dXNx1Q"
   },
   "source": [
    "1) 함수 hello_world를 만들어 보세요.\n",
    "\n",
    "- 이름 값을 받는 입력 매개변수 name(문자)\n",
    "- 'Hello '와 ' , welcome to Python World!' 사이에 name을 넣어 출력\n",
    "- name에 값을 지정하여 함수의 결과를 확인하세요.\n",
    "\n",
    "\n",
    "        hello_world('Ann')\n",
    "        ------------------\n",
    "        Hello Ann, welcome to Python World!"
   ]
  },
  {
   "cell_type": "code",
   "execution_count": 4,
   "metadata": {
    "id": "03258b2e"
   },
   "outputs": [
    {
     "name": "stdout",
     "output_type": "stream",
     "text": [
      "Hello Ann, welcome to Python World!\n"
     ]
    }
   ],
   "source": [
    "\n",
    "def hello_world(name):\n",
    "    return 'Hello ' + name + ', welcome to Python World!'\n",
    "\n",
    "\n",
    "print(hello_world('Ann'))\n",
    "\n"
   ]
  },
  {
   "cell_type": "markdown",
   "metadata": {
    "id": "UnSdqePHOEzC"
   },
   "source": [
    "2) 함수 say_hey를 만들어 보세요.\n",
    "\n",
    "- 횟수를 받는 입력 매개변수 count(숫자)\n",
    "- 입력받은 count만큼 'Hey! '를 출력\n",
    "- count에 값을 지정하여 함수의 결과를 확인하세요.\n",
    "\n",
    "\n",
    "        say_hey(5)\n",
    "        -----------------------\n",
    "        Hey! Hey! Hey! Hey! Hey!"
   ]
  },
  {
   "cell_type": "code",
   "execution_count": 8,
   "metadata": {
    "id": "4f8671c9"
   },
   "outputs": [
    {
     "name": "stdout",
     "output_type": "stream",
     "text": [
      "Hey! Hey! Hey! Hey! Hey! \n"
     ]
    }
   ],
   "source": [
    "\n",
    "def say_hey(count):\n",
    "    return 'Hey! '* count\n",
    "\n",
    "print(say_hey(5))\n",
    "\n"
   ]
  },
  {
   "cell_type": "markdown",
   "metadata": {
    "id": "C7NOWcmUOgnR"
   },
   "source": [
    "3) 함수 hello를 만들어 보세요.\n",
    "\n",
    "- 이름 값을 받는 입력 매개변수 name(문자), 숫자를 받는 loud(숫자) (이때, loud = 1로 선언)\n",
    "- loud = 1일 때, 'HELLO '와  '!!!' 사이에 name(대문자)을 넣어 출력\n",
    "- loud = 0이면, 'Hello '와 '.' 사이에 name(소문자)을 넣어 출력\n",
    "- name, loud에 값을 지정하여 함수의 결과를 확인하세요.\n",
    "- name에만 값을 지정하여 함수의 결과를 확인하세요.\n",
    "\n",
    "\n",
    "\n",
    "        hello(name='Kim', loud=0)\n",
    "        hello(name='Kim')\n",
    "        -----------------------\n",
    "        Hello kim.\n",
    "        HELLO KIM!!!"
   ]
  },
  {
   "cell_type": "code",
   "execution_count": 10,
   "metadata": {
    "id": "fe138102",
    "scrolled": true
   },
   "outputs": [
    {
     "name": "stdout",
     "output_type": "stream",
     "text": [
      "Hello kim.\n",
      "HELLO KIM!!!\n"
     ]
    }
   ],
   "source": [
    "\n",
    "def hello(name, loud=1):\n",
    "    if loud == 1:\n",
    "        return 'HELLO '+ name.upper()+\"!!!\"\n",
    "    elif loud ==0:\n",
    "        return 'Hello '+ name.lower()+\".\"\n",
    "    else:\n",
    "        return 0 \n",
    "\n",
    "print(hello(name='Kim', loud=0))\n",
    "print(hello(name='Kim'))\n",
    "\n"
   ]
  },
  {
   "cell_type": "markdown",
   "metadata": {
    "id": "Xr7VqAjGPxTz"
   },
   "source": [
    "4) 함수 add를 만들어 보세요.\n",
    "\n",
    "- 계산할 숫자들을 받는 입력 매개변수 a(숫자), b(숫자)\n",
    "- a와 b의 합을 변수 hap에 저장\n",
    "- '덧셈 결과는' 뒤에 hap의 값을 넣어서 출력 (덧셈 결과는 hap 형태)\n",
    "- a, b에 값을 지정하여 함수의 결과를 확인하세요.\n",
    "\n",
    "\n",
    "        add(7, 2)\n",
    "        ------------\n",
    "        덧셈 결과는 9"
   ]
  },
  {
   "cell_type": "code",
   "execution_count": 14,
   "metadata": {
    "id": "1dafbd7a"
   },
   "outputs": [
    {
     "name": "stdout",
     "output_type": "stream",
     "text": [
      "덧샘 결과는 9\n"
     ]
    }
   ],
   "source": [
    "\n",
    "def add(a,b):\n",
    "    hap = a + b\n",
    "    return '덧샘 결과는 '+ str(hap)\n",
    "\n",
    "print(add(7,2))\n",
    "\n"
   ]
  },
  {
   "cell_type": "markdown",
   "metadata": {
    "id": "bt1RhktFQAJU"
   },
   "source": [
    "5) 함수 numbers를 만들어 보세요.\n",
    "\n",
    "- 출력할 숫자들을 받는 입력 매개변수 nums(숫자)는 입력 값의 수를 정하지 않고 들어오는 대로 받음\n",
    "- 입력받은 숫자들을 출력\n",
    "- nums에 값을 지정하여 함수의 결과를 확인하새요.\n",
    "- 힌트: 입력받을 매개변수의 수를 지정하지 않고 사용하려면 *nums\n",
    "\n",
    "\n",
    "\n",
    "        numbers(2, 4, 6, 8, 10)\n",
    "        ---------------------\n",
    "        (2, 4, 6, 8, 10)"
   ]
  },
  {
   "cell_type": "code",
   "execution_count": 16,
   "metadata": {
    "id": "e291a8df"
   },
   "outputs": [
    {
     "name": "stdout",
     "output_type": "stream",
     "text": [
      "(2, 4, 6, 8, 10)\n"
     ]
    }
   ],
   "source": [
    "\n",
    "def numbers(*nums):\n",
    "    return (nums) # 튜플 반환 , () 생략해도 됩니다 \n",
    "\n",
    "print(numbers(2,4,6,8,10))\n",
    "\n"
   ]
  },
  {
   "cell_type": "markdown",
   "metadata": {
    "id": "07ahmEZaQVwP"
   },
   "source": [
    "6) 함수 average를 만들어 보세요.\n",
    "\n",
    "- 평균을 구할 수들을 받는 입력 매개변수 nums(숫자)는 입력 값의 수를 정하지 않고 들어오는 대로 받음\n",
    "- 입력받은 숫자들의 평균을 변수 avg에 저장하여 출력\n",
    "- nums에 값을 지정하여 함수의 결과를 확인하새요.\n",
    "\n",
    "\n",
    "\n",
    "        average(2, 4, 6, 8, 10)\n",
    "        ------------------------\n",
    "        6.0"
   ]
  },
  {
   "cell_type": "code",
   "execution_count": 18,
   "metadata": {
    "id": "45dc4e27"
   },
   "outputs": [
    {
     "name": "stdout",
     "output_type": "stream",
     "text": [
      "6.0\n"
     ]
    }
   ],
   "source": [
    "\n",
    "def average(*nums):\n",
    "    return sum(nums)/len(nums) # 튜플 반환 , () 생략해도 됩니다 \n",
    "\n",
    "print(average(2,4,6,8,10))\n",
    "\n",
    "\n"
   ]
  },
  {
   "cell_type": "markdown",
   "metadata": {
    "id": "237600a1"
   },
   "source": [
    "# 실습 #2: Output"
   ]
  },
  {
   "cell_type": "markdown",
   "metadata": {
    "id": "XfEBpAHmQrn8"
   },
   "source": [
    "1) 함수 calculate1을 만들어 보세요.\n",
    "\n",
    "- 입력 매개변수: 숫자1, 숫자2, 사칙연산 부호(+,-,*,/)\n",
    "- 숫자1과 숫자2 사이에 사칙연산자 부호에 해당하는 연산을 수행 후 결과를 print로 출력\n",
    "\n",
    "\n",
    "        calculate1(11, 2, '*')\n",
    "        ---------------\n",
    "        22"
   ]
  },
  {
   "cell_type": "code",
   "execution_count": 26,
   "metadata": {
    "id": "131c774c"
   },
   "outputs": [
    {
     "name": "stdout",
     "output_type": "stream",
     "text": [
      "22\n"
     ]
    }
   ],
   "source": [
    "def calculate1(a,b,opperand):\n",
    "    if opperand =='+':\n",
    "        return a+b\n",
    "    elif opperand =='-':\n",
    "        return a-b\n",
    "    elif opperand =='*':\n",
    "        return a*b\n",
    "    else:\n",
    "        return a/b\n",
    "\n",
    "print(calculate1(11,2,'*'))\n",
    "\n"
   ]
  },
  {
   "cell_type": "markdown",
   "metadata": {
    "id": "N_u9HkQ_Rv3u"
   },
   "source": [
    "2) 위에서 만든 calcuate1의 결과를 변수 c로 저장해 보세요.  \n",
    "\n",
    "- 그런 다음 c를 출력해 보세요.\n",
    "- 결과가 담기나요?"
   ]
  },
  {
   "cell_type": "code",
   "execution_count": 28,
   "metadata": {
    "id": "cpcHEjIJR-GU"
   },
   "outputs": [
    {
     "name": "stdout",
     "output_type": "stream",
     "text": [
      "22\n"
     ]
    }
   ],
   "source": [
    "def calculate1(a,b,opperand):\n",
    "    if opperand =='+':\n",
    "        c = a+b\n",
    "        return c\n",
    "    elif opperand =='-':\n",
    "        c = a-b\n",
    "        return c\n",
    "    elif opperand =='*':\n",
    "        c = a*b\n",
    "        return c\n",
    "    else:\n",
    "        c = a/b\n",
    "        return c\n",
    "\n",
    "print(calculate1(11,2,'*'))\n",
    "\n"
   ]
  },
  {
   "cell_type": "markdown",
   "metadata": {
    "id": "Tpb7ryuDSDAJ"
   },
   "source": [
    "3) 위에서 만든 calcuate1의 결과를 변수 c로 저장하기 위해서\n",
    "\n",
    "- 결과를 반환하도록 코드를 수정하세요.\n",
    "- 힌트: return\n",
    "- 이제 다시 결과를 c로 저장하고 출력하세요.\n",
    "- 결과가 담기나요?"
   ]
  },
  {
   "cell_type": "code",
   "execution_count": null,
   "metadata": {
    "id": "e5036b57",
    "scrolled": true
   },
   "outputs": [],
   "source": [
    "\n",
    "\n",
    "def calculate1(a,b,opperand):\n",
    "    if opperand =='+':\n",
    "        c = a+b\n",
    "        return c\n",
    "    elif opperand =='-':\n",
    "        c = a-b\n",
    "        return c\n",
    "    elif opperand =='*':\n",
    "        c = a*b\n",
    "        return c\n",
    "    else:\n",
    "        c = a/b\n",
    "        return c\n",
    "\n",
    "print(calculate1(11,2,'*'))\n",
    "\n"
   ]
  },
  {
   "cell_type": "markdown",
   "metadata": {
    "id": "fE5tW_kUScog"
   },
   "source": [
    "4) 함수 calculate2를 만들어 보세요.\n",
    "\n",
    "- 숫자 두개를 받아서 몫과 나머지를 계산하고 두 결과를 반환\n",
    "- 함수 실행 후 결과를 r1, r2에 저장한 후 출력하세요.\n",
    "\n",
    "\n",
    "        r1, r2 = calculate2(11, 2)\n",
    "        print(r1, r2)\n",
    "        ---------------------------\n",
    "        5  1"
   ]
  },
  {
   "cell_type": "code",
   "execution_count": 32,
   "metadata": {
    "id": "9aada59d"
   },
   "outputs": [
    {
     "name": "stdout",
     "output_type": "stream",
     "text": [
      "5 1\n"
     ]
    }
   ],
   "source": [
    "\n",
    "def calculate2(a,b):\n",
    "    return (a//b , a%b) # 결과는 튜플 ,  () 생략해도 됩니다 \n",
    "\n",
    "r1, r2 = calculate2(11,2)\n",
    "\n",
    "print(r1,r2)\n",
    "\n",
    "\n"
   ]
  },
  {
   "cell_type": "markdown",
   "metadata": {
    "id": "pXAtxJsYTVaP"
   },
   "source": [
    "5) [심화] 함수 even을 만들어 보세요.\n",
    "\n",
    "- 입력 매개변수로 리스트를 입력받아.\n",
    "- 입력받은 리스트 값들 중 짝수로만 구성된 새로운 리스트를 반환\n",
    "- 힌트: 함수 처리 코드 내 짝수를 저장할 빈 리스트 result 생성\n",
    "\n",
    "\n",
    "        even([2, 3, 6, 8, 11])\n",
    "        ------------------------\n",
    "        [2, 6, 8]"
   ]
  },
  {
   "cell_type": "code",
   "execution_count": 56,
   "metadata": {
    "id": "5ea348-2bbnu"
   },
   "outputs": [
    {
     "name": "stdout",
     "output_type": "stream",
     "text": [
      "[2, 6, 8]\n"
     ]
    }
   ],
   "source": [
    "def even(nums):\n",
    "    result = []\n",
    "    for n in nums:\n",
    "        if n %2 ==0:\n",
    "            result.append(n)\n",
    "    return result\n",
    "\n",
    "print(even([2,3,6,8,11]))\n"
   ]
  },
  {
   "cell_type": "markdown",
   "metadata": {
    "id": "1036835d"
   },
   "source": [
    "# 실습 #3: 예외처리"
   ]
  },
  {
   "cell_type": "markdown",
   "metadata": {
    "id": "XHTKqkcqiJ4g"
   },
   "source": [
    "1) 함수 divide를 만들어 보세요.  \n",
    "\n",
    "- 입력변수: num1, num2\n",
    "- 처리: num1 / num2\n",
    "- 결과: 나눈 결과를 반환\n",
    "\n",
    "- 함수를 만들고 숫자 두개를 넣고 결과를 확인해 보세요.\n"
   ]
  },
  {
   "cell_type": "code",
   "execution_count": 42,
   "metadata": {
    "id": "e72c0041"
   },
   "outputs": [
    {
     "name": "stdout",
     "output_type": "stream",
     "text": [
      "7.5\n"
     ]
    }
   ],
   "source": [
    "\n",
    "def divide(num1,num2):\n",
    "\n",
    "    return num1/num2\n",
    "\n",
    "print(divide(15,2))\n",
    "\n"
   ]
  },
  {
   "cell_type": "markdown",
   "metadata": {
    "id": "8By6VzDOiiyH"
   },
   "source": [
    "2) 위 문제에서 만약 num2에 0을 넣으면 오류가 발생합니다.\n",
    "\n",
    "- ZeroDivisionError: division by zero\n",
    "- 이를 해결하기 위해 오류 처리 코드를 넣어 보세요.\n",
    "- num2에 0이 들어오면, '0으로 나눌 수 없습니다.' 라고 출력하고,\n",
    "- num2에 다른 숫자가 들어오면, 나눈 결과를 반환하세요.\n",
    "\n",
    "\n",
    "        divide(10, 0)\n",
    "        ----------------\n",
    "        0으로 나눌 수 없습니다."
   ]
  },
  {
   "cell_type": "code",
   "execution_count": 46,
   "metadata": {
    "id": "c51d3b4f"
   },
   "outputs": [
    {
     "name": "stdout",
     "output_type": "stream",
     "text": [
      "0으로 나눌 수 없습니다.\n"
     ]
    }
   ],
   "source": [
    "\n",
    "\n",
    "def divide(num1,num2):\n",
    "    if num2 != 0:\n",
    "        return num1/num2\n",
    "    else:\n",
    "        return'0으로 나눌 수 없습니다.'\n",
    "\n",
    "print(divide(15,0))\n",
    "\n"
   ]
  },
  {
   "cell_type": "markdown",
   "metadata": {
    "id": "ZPnsCQSwjgmt"
   },
   "source": [
    "3) 위 결과에 이어서, num1, num2 모두 int 인지 확인하는 코드도 작성하세요.\n",
    "\n",
    "- 힌트: 정수인지 확인 type(num1) is int\n",
    "\n",
    "\n",
    "        divide(10, 'a')\n",
    "        ----------------------\n",
    "        입력값이 모두 숫자여야 합니다."
   ]
  },
  {
   "cell_type": "code",
   "execution_count": 54,
   "metadata": {
    "id": "c03db780"
   },
   "outputs": [
    {
     "name": "stdout",
     "output_type": "stream",
     "text": [
      "0으로 나눌 수 없습니다.\n"
     ]
    }
   ],
   "source": [
    "def divide(num1,num2):\n",
    "    if num2 != 0 and type(num1) is int and type(num2) is int:\n",
    "        return num1/num2\n",
    "    else:\n",
    "        if num2 ==0:\n",
    "            return'0으로 나눌 수 없습니다.'\n",
    "        if type(num1) is not int or type(num2) is not int:\n",
    "            return '입력값이 모두 숫자여야 합니다.'\n",
    "            \n",
    "\n",
    "print(divide(15,0))\n",
    "\n",
    "\n",
    "\n"
   ]
  },
  {
   "cell_type": "code",
   "execution_count": null,
   "metadata": {},
   "outputs": [],
   "source": []
  }
 ],
 "metadata": {
  "colab": {
   "provenance": []
  },
  "kernelspec": {
   "display_name": "Python 3 (ipykernel)",
   "language": "python",
   "name": "python3"
  },
  "language_info": {
   "codemirror_mode": {
    "name": "ipython",
    "version": 3
   },
   "file_extension": ".py",
   "mimetype": "text/x-python",
   "name": "python",
   "nbconvert_exporter": "python",
   "pygments_lexer": "ipython3",
   "version": "3.12.4"
  }
 },
 "nbformat": 4,
 "nbformat_minor": 4
}
