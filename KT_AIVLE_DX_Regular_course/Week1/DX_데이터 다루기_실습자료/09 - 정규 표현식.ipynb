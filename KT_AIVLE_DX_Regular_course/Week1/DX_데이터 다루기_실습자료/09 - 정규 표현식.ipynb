{
 "cells": [
  {
   "cell_type": "markdown",
   "metadata": {
    "id": "b3TDAdnvnSbh"
   },
   "source": [
    "<center><img src='https://raw.githubusercontent.com/Jangrae/img/master/title.png' width=500/></center>"
   ]
  },
  {
   "cell_type": "markdown",
   "metadata": {
    "id": "OJ_WuirlAEiV"
   },
   "source": [
    "# 9.정규 표현식\n",
    "\n",
    "- Python 만의 기능이 아닌, 문자열을 다루는 여러 곳에서 사용되는 공통된 표현식입니다.\n",
    "- 다소 이해하기 어려울 수 있지만, 알아두면 정말 편리한 기능입니다.\n"
   ]
  },
  {
   "cell_type": "markdown",
   "metadata": {
    "id": "mFYI7AWkBCqr"
   },
   "source": [
    "## 9.1.정규식 사용 전/후 비교\n",
    "\n",
    "- 기존의 반복문으로 처리하던 것을 정규 표현식으로 처리하면 코드가 단순해집니다.\n",
    "- 물론 정규식에 대해 알지 못하면 암호(?)같은 느낌일 것입니다.\n",
    "- 우선 다음과 같이 이름과 전화번호가 섞여 있는 문자열이 있습니다."
   ]
  },
  {
   "cell_type": "code",
   "execution_count": 38,
   "metadata": {
    "id": "xjXFjbD1OgmI"
   },
   "outputs": [],
   "source": [
    "# 이름과 전화번호가 섞여 있는 문자열\n",
    "peoples = '홍길동: 010-1234-5678 한사랑: 010-4321-8765 일지매: 010-2143-6587'"
   ]
  },
  {
   "cell_type": "markdown",
   "metadata": {
    "id": "00pMTYpiOgmI"
   },
   "source": [
    "- 위 문자열에서 전화번호 뒤 네 자리를 XXXX로 변경하려고 합니다.\n",
    "- 기존 반복문과 정규식을 사용하는 방법 중 무엇이 간결한지 비교합니다."
   ]
  },
  {
   "cell_type": "markdown",
   "metadata": {
    "id": "IfdnUSKOBN7r"
   },
   "source": [
    "**1) 기존 반복문으로 처리**\n",
    "\n",
    "- 기존 반복문으로 전화번호 뒤 네 자리를 XXXX로 변경합니다."
   ]
  },
  {
   "cell_type": "code",
   "execution_count": null,
   "metadata": {
    "id": "MLMv8O1_-PTF"
   },
   "outputs": [],
   "source": [
    "# 전화번호 뒷자리 숨기기\n",
    "phone_x = []\n",
    "for word in peoples.split(' '):\n",
    "    if len(word) == 13 and word[:3].isdigit() and word[4:8].isdigit() and word[9:13].isdigit():\n",
    "        word = word[0:8] + '-XXXX'\n",
    "        phone_x.append(word)\n",
    "    else:\n",
    "        phone_x.append(word)\n",
    "peoples_new = ' '.join(phone_x)\n",
    "print(peoples_new)"
   ]
  },
  {
   "cell_type": "markdown",
   "metadata": {
    "id": "k7_NGYjiLRDI"
   },
   "source": [
    "**2) 정규식으로 처리**\n",
    "\n",
    "- 정규식으로 전화번호 뒤 네 자리를 XXXX로 변경합니다.\n",
    "\n"
   ]
  },
  {
   "cell_type": "code",
   "execution_count": 40,
   "metadata": {
    "id": "fFmhGI0e___5"
   },
   "outputs": [
    {
     "data": {
      "text/plain": [
       "'홍길동: 010-1234-XXXX 한사랑: 010-4321-XXXX 일지매: 010-2143-XXXX'"
      ]
     },
     "execution_count": 40,
     "metadata": {},
     "output_type": "execute_result"
    }
   ],
   "source": [
    "# 전화번호 뒷자리 숨기기\n",
    "import re\n",
    "re.sub(r'(\\d{3}[-]\\d{4})[-]\\d{4}', r'\\g<1>-XXXX', peoples)"
   ]
  },
  {
   "cell_type": "markdown",
   "metadata": {
    "id": "u0z12zRsOgmJ"
   },
   "source": [
    "- 위 구문은 다음과 같이 작성할 수도 있습니다.\n",
    "- 특정 패턴을 이후에 반복해서 사용할 때 좋은 방법입니다."
   ]
  },
  {
   "cell_type": "code",
   "execution_count": 42,
   "metadata": {
    "id": "TIK96OflOgmJ"
   },
   "outputs": [
    {
     "data": {
      "text/plain": [
       "'홍길동: 010-1234-XXXX 한사랑: 010-4321-XXXX 일지매: 010-2143-XXXX'"
      ]
     },
     "execution_count": 42,
     "metadata": {},
     "output_type": "execute_result"
    }
   ],
   "source": [
    "# 전화번호 뒷자리 숨기기\n",
    "import re\n",
    "pat = re.compile(r'(\\d{3}[-]\\d{4})[-]\\d{4}')\n",
    "pat.sub(r'\\g<1>-XXXX', peoples)"
   ]
  },
  {
   "cell_type": "markdown",
   "metadata": {
    "id": "d_Hos_7yY3XM"
   },
   "source": [
    "<img src='https://raw.githubusercontent.com/jangrae/img/master/practice_01.png' width=120 align = \"left\"/>"
   ]
  },
  {
   "cell_type": "markdown",
   "metadata": {
    "id": "obix19iVY7b8"
   },
   "source": [
    "[문1] 위 코드를 참조하여 다음 코드의 의미를 파악하세요."
   ]
  },
  {
   "cell_type": "code",
   "execution_count": 44,
   "metadata": {
    "id": "PcrW7SzVM6Bd"
   },
   "outputs": [
    {
     "name": "stdout",
     "output_type": "stream",
     "text": [
      "홍길동: 800104-******* 일지매: 760405-*******\n"
     ]
    }
   ],
   "source": [
    "# 이름과 주민번호가 섞여 있는 문자열\n",
    "peoples = '홍길동: 800104-1049234 일지매: 760405-1052114'\n",
    "\n",
    "# 주민번호 뒷자리 숨기기\n",
    "rsdn_x = []\n",
    "for word in peoples.split(' '):\n",
    "    if len(word) == 14 and word[:6].isdigit() and word[7:].isdigit():\n",
    "        word = word[:6] + '-*******'\n",
    "        rsdn_x.append(word)\n",
    "    else:\n",
    "        rsdn_x.append(word)\n",
    "peoples_new = ' '.join(rsdn_x)\n",
    "print(peoples_new)"
   ]
  },
  {
   "cell_type": "markdown",
   "metadata": {
    "id": "IDs8kYixZgr7"
   },
   "source": [
    "[문2] 위 코드를 정규식을 사용하는 방법으로 재작성하세요."
   ]
  },
  {
   "cell_type": "code",
   "execution_count": 46,
   "metadata": {
    "id": "axbt6r7ZM9sw"
   },
   "outputs": [
    {
     "data": {
      "text/plain": [
       "'홍길동: 800104-******* 일지매: 760405-*******'"
      ]
     },
     "execution_count": 46,
     "metadata": {},
     "output_type": "execute_result"
    }
   ],
   "source": [
    "# 이름과 주민번호가 섞여 있는 문자열\n",
    "peoples = '홍길동: 800104-1049234 일지매: 760405-1052114'\n",
    "\n",
    "# 주민번호 뒷자리 숨기기\n",
    "import re\n",
    "pat = re.compile('(\\\\d{6})[-]\\\\d{7}')\n",
    "pat.sub('\\\\g<1>-*******', peoples)\n"
   ]
  },
  {
   "cell_type": "markdown",
   "metadata": {
    "id": "7C82U6rsCWQY"
   },
   "source": [
    "## 9.2.기본적인 정규식\n",
    "\n",
    "- 정규식을 사용하려면 re 라이브러리를 불러와야 합니다."
   ]
  },
  {
   "cell_type": "code",
   "execution_count": null,
   "metadata": {
    "id": "UvYTh5x3K7Ru"
   },
   "outputs": [],
   "source": [
    "# 모듈 불러오기\n",
    "import re"
   ]
  },
  {
   "cell_type": "markdown",
   "metadata": {
    "id": "OdzftoHuIy1S"
   },
   "source": [
    "- 다음과 같은 메서드를 사용해 특정 패턴의 문자열을 확인할 수 있습니다.\n",
    "    - match() 메서드: 문자열 처음부터 정규식과 매치 여부를 확인합니다.\n",
    "    - search() 메서드: 문자열 전체를 대상으로 정규식과 매치 여부 확인합니다.\n",
    "    - findall() 메서드: 정규식과 매치되는 모든 문자열을 리스트 형태로 반환합니다.\n",
    "    - finditer() 메서드: 정규식과 매치되는 모든 문자열을 반복 가능한 개체로 반환합니다."
   ]
  },
  {
   "cell_type": "markdown",
   "metadata": {
    "id": "caZWKMs3MS8H"
   },
   "source": [
    "### 9.2.1.특정 문자 또는 문자열 포함 여부 확인\n",
    "\n",
    "- match() 메서드는 문자열 처음부터 정규식와 매치 여부를 확인합니다."
   ]
  },
  {
   "cell_type": "code",
   "execution_count": 50,
   "metadata": {
    "id": "UA02hZl7OgmK"
   },
   "outputs": [],
   "source": [
    "# 맨 앞에 'a' 문자가 있는지 확인\n",
    "string = 'I have a Dream.'\n",
    "re.match('a', string)"
   ]
  },
  {
   "cell_type": "markdown",
   "metadata": {
    "id": "LA_mlcjQbpF2"
   },
   "source": [
    "- search() 메서드는 문자열 전체를 대상으로 정규식과 매치 여부를 확인합니다."
   ]
  },
  {
   "cell_type": "code",
   "execution_count": 53,
   "metadata": {
    "id": "v8Zp72ZCOgmK"
   },
   "outputs": [
    {
     "data": {
      "text/plain": [
       "<re.Match object; span=(3, 4), match='a'>"
      ]
     },
     "execution_count": 53,
     "metadata": {},
     "output_type": "execute_result"
    }
   ],
   "source": [
    "# 문자열에 'a' 문자가 있는지 확인\n",
    "string = 'I have a Dream.'\n",
    "re.search('a', string)"
   ]
  },
  {
   "cell_type": "markdown",
   "metadata": {
    "id": "Ux_YF8sjbyir"
   },
   "source": [
    "- 조건문을 사용해 문자열에서 특정 문자 또는 문자열이 존재하는 지 표시할 수 있습니다."
   ]
  },
  {
   "cell_type": "code",
   "execution_count": 56,
   "metadata": {
    "id": "e8W1lyqeOgmL"
   },
   "outputs": [
    {
     "name": "stdout",
     "output_type": "stream",
     "text": [
      "찾음\n"
     ]
    }
   ],
   "source": [
    "string = 'I have a Dream.'\n",
    "result = re.search('a', string)\n",
    "if result:\n",
    "    print('찾음')\n",
    "else:\n",
    "    print('못찾음')"
   ]
  },
  {
   "cell_type": "markdown",
   "metadata": {
    "id": "Z1Nj5iaNOg1u"
   },
   "source": [
    "- 매치된 결과를 다음과 같은 메서드로 확인할 수 있습니다.\n",
    "    - group():\t매치된 문자열을 반환합니다.\n",
    "    - start():\t매치된 문자열의 시작 위치를 반환합니다.\n",
    "    - end():\t매치된 문자열의 끝 위치를 반환합니다.\n",
    "    - span():\t매치된 문자열의 (시작, 끝)에 해당하는 튜플을 반환합니다."
   ]
  },
  {
   "cell_type": "code",
   "execution_count": 59,
   "metadata": {
    "id": "_MhIT2jQv8YB"
   },
   "outputs": [
    {
     "name": "stdout",
     "output_type": "stream",
     "text": [
      "a\n",
      "3\n",
      "4\n",
      "(3, 4)\n"
     ]
    }
   ],
   "source": [
    "# 'a' 문자 찾기\n",
    "string = 'I have a Dream.'\n",
    "result = re.search('a', string)\n",
    "print(result.group())\n",
    "print(result.start())\n",
    "print(result.end())\n",
    "print(result.span()) # (result.start , result.end)"
   ]
  },
  {
   "cell_type": "code",
   "execution_count": null,
   "metadata": {
    "id": "BJiT0weTP762"
   },
   "outputs": [],
   "source": [
    "# 'Dream' 문자열 찾기\n",
    "string = 'I have a Dream.'\n",
    "result = re.search('Dream', string)\n",
    "print(result.group())\n",
    "print(result.start())\n",
    "print(result.end())\n",
    "print(result.span())"
   ]
  },
  {
   "cell_type": "markdown",
   "metadata": {
    "id": "sfNhYzHmcLYw"
   },
   "source": [
    "- findall() 메서드는 정규식과 매치되는 모든 문자열을 리스트 형태로 반환합니다."
   ]
  },
  {
   "cell_type": "code",
   "execution_count": null,
   "metadata": {
    "id": "OGfma3h-LnJv"
   },
   "outputs": [],
   "source": [
    "# 'a' 문자 찾기\n",
    "string = 'I have a Dream.'\n",
    "re.findall('a', string)"
   ]
  },
  {
   "cell_type": "code",
   "execution_count": null,
   "metadata": {
    "id": "C0gAC6r9NpF_"
   },
   "outputs": [],
   "source": [
    "# 'ave' 문자열 찾기\n",
    "string = 'I have a Dream.'\n",
    "re.findall('ave', string)"
   ]
  },
  {
   "cell_type": "markdown",
   "metadata": {
    "id": "fgbzTwDTcZAM"
   },
   "source": [
    "- finditer() 메서드는 정규식과 매치되는 모든 문자열을 반복 가능한 객체로 반환합니다.\n",
    "- 반복 가능하다는 것은 반복문에 사용가능하다는 의미입니다."
   ]
  },
  {
   "cell_type": "code",
   "execution_count": null,
   "metadata": {
    "id": "hkW14ub7Lo2l"
   },
   "outputs": [],
   "source": [
    "# 반복문으로 표시\n",
    "string = 'I have a Dream.'\n",
    "result = re.finditer('a', string)\n",
    "for i in result:\n",
    "    print(i)"
   ]
  },
  {
   "cell_type": "markdown",
   "metadata": {
    "id": "YQMkwGaXMYas"
   },
   "source": [
    "### 9.2.2.나열된 문자 포함여부 확인\n",
    "\n",
    "- 대괄호([ ]) 안에 문자를 나열하여 그 문자들 포함 여부를 확인합니다."
   ]
  },
  {
   "cell_type": "code",
   "execution_count": null,
   "metadata": {
    "id": "_v5XzXw4MfzZ"
   },
   "outputs": [],
   "source": [
    "# 'a', 'h', 'm' 문자 찾기\n",
    "string = 'I have a Dream.'\n",
    "re.findall('[ahm]', string)"
   ]
  },
  {
   "cell_type": "code",
   "execution_count": null,
   "metadata": {
    "id": "dKfR1DiQNZPJ"
   },
   "outputs": [],
   "source": [
    "# 'a', 'v', 'e' 문자 찾기\n",
    "string = 'I have a Dream.'\n",
    "re.findall('[ave]', string)"
   ]
  },
  {
   "cell_type": "code",
   "execution_count": null,
   "metadata": {
    "id": "ALhJomGLOZy5"
   },
   "outputs": [],
   "source": [
    "# 같은 문자 한 번만 표시\n",
    "string = 'I have a Dream.'\n",
    "result = list(set(re.findall('[ave]', string)))\n",
    "result.sort()\n",
    "print(result)"
   ]
  },
  {
   "cell_type": "markdown",
   "metadata": {
    "id": "OFfhcRvofjvB"
   },
   "source": [
    "- ^를 사용해 나열되지 않은 문자들 포함 여부를 확인할 수 있습니다."
   ]
  },
  {
   "cell_type": "code",
   "execution_count": null,
   "metadata": {
    "id": "QKWIKqswQCXw"
   },
   "outputs": [],
   "source": [
    "# 'a', 'v', 'e' 이외의 문자 찾기\n",
    "string = 'I have a Dream.'\n",
    "result = list(set(re.findall('[^ave]', string)))\n",
    "result.sort()\n",
    "print(result)"
   ]
  },
  {
   "cell_type": "markdown",
   "metadata": {
    "id": "6SfPz8cUNwg1"
   },
   "source": [
    "### 9.2.3.범위 안의 문자 포함여부 확인\n",
    "\n",
    "- 빼기 기호(-)를 사용해 문자의 범위를 지정합니다."
   ]
  },
  {
   "cell_type": "code",
   "execution_count": null,
   "metadata": {
    "id": "-lCSbs67N4n4"
   },
   "outputs": [],
   "source": [
    "# 'a' ~ 'm' 문자 찾기\n",
    "string = 'I have a Dream.'\n",
    "re.findall('[a-m]', string)"
   ]
  },
  {
   "cell_type": "code",
   "execution_count": null,
   "metadata": {
    "id": "qeyRysB3Pn_g"
   },
   "outputs": [],
   "source": [
    "# 'a' ~ 'm' 문자 찾기(대/소문자 무시)\n",
    "string = 'I have a Dream.'\n",
    "re.findall('[a-mA-M]', string)"
   ]
  },
  {
   "cell_type": "code",
   "execution_count": null,
   "metadata": {
    "id": "ww16uScXP0PE"
   },
   "outputs": [],
   "source": [
    "# 'a' ~ 'm' 이외의 문자 찾기(대/소문자 무시)\n",
    "string = 'I have a Dream.'\n",
    "re.findall('[^a-mA-M]', string)"
   ]
  },
  {
   "cell_type": "code",
   "execution_count": null,
   "metadata": {
    "id": "ZpnW6CHLndY6"
   },
   "outputs": [],
   "source": [
    "# 숫자 찾기 #1\n",
    "string = 'I am 20 years old.'\n",
    "re.findall('[0-9]', string)"
   ]
  },
  {
   "cell_type": "code",
   "execution_count": null,
   "metadata": {
    "id": "4b3PGgY9di8G"
   },
   "outputs": [],
   "source": [
    "# 숫자 찾기 #2\n",
    "string = 'I am 20 years old.'\n",
    "re.findall('[0-9]+', string)"
   ]
  },
  {
   "cell_type": "markdown",
   "metadata": {
    "id": "W1896HcHRDar"
   },
   "source": [
    "### 9.2.4.두 문자 사이의 문자 포함여부 확인\n",
    "\n",
    "- 정규식의 Dot(.) 메타 문자는 줄바꿈 문자인 \\n을 제외한 모든 문자와 매치됩니다."
   ]
  },
  {
   "cell_type": "code",
   "execution_count": null,
   "metadata": {
    "id": "6SueMI_CRoJI"
   },
   "outputs": [],
   "source": [
    "# 'a'와 'e'문자 사이에 문자 하나를 포함하는 문자열 확인\n",
    "string = 'I have a Dream.'\n",
    "re.findall('a.e', string)"
   ]
  },
  {
   "cell_type": "code",
   "execution_count": null,
   "metadata": {
    "id": "kPKA_jh_RzrB"
   },
   "outputs": [],
   "source": [
    "# 'r'과 'm'문자 사이에 문자 하나를 포함하는 문자열 확인\n",
    "string = 'I have a Dream.'\n",
    "re.findall('r.m', string)"
   ]
  },
  {
   "cell_type": "markdown",
   "metadata": {
    "id": "gTl6FDb2TpUt"
   },
   "source": [
    "### 9.2.5.문자 반복 확인\n",
    "\n",
    "- 문자의 반복을 확인하는 여러 메타 문자가 있습니다."
   ]
  },
  {
   "cell_type": "code",
   "execution_count": null,
   "metadata": {
    "id": "oA5x2w1iTuRt"
   },
   "outputs": [],
   "source": [
    "# o가 0회 이상 반복된 경우\n",
    "string = 'cl col Coor coool pool cooool'\n",
    "re.findall('co*l', string)"
   ]
  },
  {
   "cell_type": "code",
   "execution_count": null,
   "metadata": {
    "id": "EHz_cSGFUtXA"
   },
   "outputs": [],
   "source": [
    "# o가 1회 이상 반복된 경우\n",
    "string = 'cl col Coor coool pool cooool'\n",
    "re.findall('co+l', string)"
   ]
  },
  {
   "cell_type": "code",
   "execution_count": null,
   "metadata": {
    "id": "R9PjnjXlVIBR"
   },
   "outputs": [],
   "source": [
    "# o가 1회 반복된 경우\n",
    "string = 'cl col Coor coool pool cooool'\n",
    "re.findall('co{1}l', string)"
   ]
  },
  {
   "cell_type": "code",
   "execution_count": null,
   "metadata": {
    "id": "kJLOYCQ6VU18"
   },
   "outputs": [],
   "source": [
    "# o가 1 ~ 4회 반복된 경우\n",
    "string = 'cl col Coor coool pool cooool'\n",
    "re.findall('co{1,4}l', string)"
   ]
  },
  {
   "cell_type": "code",
   "execution_count": null,
   "metadata": {
    "id": "GuDXR9mKYUet"
   },
   "outputs": [],
   "source": [
    "# o가 0 ~ 1회 반복된 경우\n",
    "string = 'cl col Coor coool pool cooool'\n",
    "re.findall('co?l', string)"
   ]
  }
 ],
 "metadata": {
  "colab": {
   "provenance": []
  },
  "kernelspec": {
   "display_name": "Python 3 (ipykernel)",
   "language": "python",
   "name": "python3"
  },
  "language_info": {
   "codemirror_mode": {
    "name": "ipython",
    "version": 3
   },
   "file_extension": ".py",
   "mimetype": "text/x-python",
   "name": "python",
   "nbconvert_exporter": "python",
   "pygments_lexer": "ipython3",
   "version": "3.12.4"
  }
 },
 "nbformat": 4,
 "nbformat_minor": 4
}
