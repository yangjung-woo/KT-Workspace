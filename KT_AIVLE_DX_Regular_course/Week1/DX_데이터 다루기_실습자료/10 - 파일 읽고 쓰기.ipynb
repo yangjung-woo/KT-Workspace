{
 "cells": [
  {
   "cell_type": "markdown",
   "id": "b59ce349",
   "metadata": {
    "id": "b59ce349"
   },
   "source": [
    "<center><img src='https://raw.githubusercontent.com/Jangrae/img/master/title.png' width=500/></center>"
   ]
  },
  {
   "cell_type": "markdown",
   "id": "6a52e981",
   "metadata": {
    "id": "6a52e981"
   },
   "source": [
    "# 10.파일 읽고 쓰기\n",
    "\n",
    "- 텍스트 파일을 읽고 쓰는 기본적인 방법을 학습합니다.\n",
    "- 좋은 글을 읽어와 멋진 워드 클라우드를 만들어봅니다\n",
    "- 파일을 다루는 상세한 기술이 필요한 경우 관련 자료를 찾아 학습하기를 권고합니다."
   ]
  },
  {
   "cell_type": "markdown",
   "id": "4a18aa3d",
   "metadata": {
    "id": "4a18aa3d"
   },
   "source": [
    "## 10.1.경로 확인\n",
    "\n",
    "- 사용자마다 파일을 저장하고 읽는 기본 경로를 ‘홈 디렉터리‘ 라고 합니다.\n",
    "- pathlib 패키지의 Path.home() 함수로 사용자 홈 디렉터리를 확인합니다."
   ]
  },
  {
   "cell_type": "code",
   "execution_count": 2,
   "id": "00345f8b",
   "metadata": {
    "id": "00345f8b"
   },
   "outputs": [
    {
     "name": "stdout",
     "output_type": "stream",
     "text": [
      "C:\\Users\\User\n"
     ]
    }
   ],
   "source": [
    "# 홈 디렉터리 확인\n",
    "from pathlib import Path\n",
    "\n",
    "print(Path.home())"
   ]
  },
  {
   "cell_type": "markdown",
   "id": "76487266",
   "metadata": {
    "id": "76487266"
   },
   "source": [
    "- pathlib 패키지의 Path.cwd() 함수로 현재 작업 디렉터리를 확인합니다."
   ]
  },
  {
   "cell_type": "code",
   "execution_count": 5,
   "id": "534d03fc",
   "metadata": {
    "id": "534d03fc"
   },
   "outputs": [
    {
     "name": "stdout",
     "output_type": "stream",
     "text": [
      "C:\\Users\\User\\Desktop\\KT Aivle\\KT_AIVLE_DX_Regular_course\\Week1\\DX_데이터 다루기_실습자료\n"
     ]
    }
   ],
   "source": [
    "# 작업 디렉터리 확인\n",
    "from pathlib import Path\n",
    "\n",
    "print(Path.cwd())"
   ]
  },
  {
   "cell_type": "markdown",
   "id": "b2b08399",
   "metadata": {
    "id": "b2b08399"
   },
   "source": [
    "- Path.cwd().glob()를 사용해 디렉터리 안의 내용을 확인합니다."
   ]
  },
  {
   "cell_type": "code",
   "execution_count": 8,
   "id": "b2625f09",
   "metadata": {
    "id": "b2625f09"
   },
   "outputs": [
    {
     "name": "stdout",
     "output_type": "stream",
     "text": [
      "C:\\Users\\User\\Desktop\\KT Aivle\\KT_AIVLE_DX_Regular_course\\Week1\\DX_데이터 다루기_실습자료\\.ipynb_checkpoints\n",
      "C:\\Users\\User\\Desktop\\KT Aivle\\KT_AIVLE_DX_Regular_course\\Week1\\DX_데이터 다루기_실습자료\\.virtual_documents\n",
      "C:\\Users\\User\\Desktop\\KT Aivle\\KT_AIVLE_DX_Regular_course\\Week1\\DX_데이터 다루기_실습자료\\01 - 연산자와 기본 자료형.ipynb\n",
      "C:\\Users\\User\\Desktop\\KT Aivle\\KT_AIVLE_DX_Regular_course\\Week1\\DX_데이터 다루기_실습자료\\02 - 문자열 자료형.ipynb\n",
      "C:\\Users\\User\\Desktop\\KT Aivle\\KT_AIVLE_DX_Regular_course\\Week1\\DX_데이터 다루기_실습자료\\03 - 리스트.ipynb\n",
      "C:\\Users\\User\\Desktop\\KT Aivle\\KT_AIVLE_DX_Regular_course\\Week1\\DX_데이터 다루기_실습자료\\04 - 튜플.ipynb\n",
      "C:\\Users\\User\\Desktop\\KT Aivle\\KT_AIVLE_DX_Regular_course\\Week1\\DX_데이터 다루기_실습자료\\05 - 집합.ipynb\n",
      "C:\\Users\\User\\Desktop\\KT Aivle\\KT_AIVLE_DX_Regular_course\\Week1\\DX_데이터 다루기_실습자료\\06 - 딕셔너리.ipynb\n",
      "C:\\Users\\User\\Desktop\\KT Aivle\\KT_AIVLE_DX_Regular_course\\Week1\\DX_데이터 다루기_실습자료\\07 - 제어문.ipynb\n",
      "C:\\Users\\User\\Desktop\\KT Aivle\\KT_AIVLE_DX_Regular_course\\Week1\\DX_데이터 다루기_실습자료\\08 - 함수.ipynb\n",
      "C:\\Users\\User\\Desktop\\KT Aivle\\KT_AIVLE_DX_Regular_course\\Week1\\DX_데이터 다루기_실습자료\\09 - 정규 표현식.ipynb\n",
      "C:\\Users\\User\\Desktop\\KT Aivle\\KT_AIVLE_DX_Regular_course\\Week1\\DX_데이터 다루기_실습자료\\10 - 파일 읽고 쓰기.ipynb\n",
      "C:\\Users\\User\\Desktop\\KT Aivle\\KT_AIVLE_DX_Regular_course\\Week1\\DX_데이터 다루기_실습자료\\11 - 엑셀 파일 다루기.ipynb\n",
      "C:\\Users\\User\\Desktop\\KT Aivle\\KT_AIVLE_DX_Regular_course\\Week1\\DX_데이터 다루기_실습자료\\12 - 이메일 보내기.ipynb\n",
      "C:\\Users\\User\\Desktop\\KT Aivle\\KT_AIVLE_DX_Regular_course\\Week1\\DX_데이터 다루기_실습자료\\Animal.xlsx\n",
      "C:\\Users\\User\\Desktop\\KT Aivle\\KT_AIVLE_DX_Regular_course\\Week1\\DX_데이터 다루기_실습자료\\Dream.txt\n",
      "C:\\Users\\User\\Desktop\\KT Aivle\\KT_AIVLE_DX_Regular_course\\Week1\\DX_데이터 다루기_실습자료\\Fruit.xlsx\n",
      "C:\\Users\\User\\Desktop\\KT Aivle\\KT_AIVLE_DX_Regular_course\\Week1\\DX_데이터 다루기_실습자료\\human.jpg\n",
      "C:\\Users\\User\\Desktop\\KT Aivle\\KT_AIVLE_DX_Regular_course\\Week1\\DX_데이터 다루기_실습자료\\LittleStar.txt\n",
      "C:\\Users\\User\\Desktop\\KT Aivle\\KT_AIVLE_DX_Regular_course\\Week1\\DX_데이터 다루기_실습자료\\Members.xlsx\n",
      "C:\\Users\\User\\Desktop\\KT Aivle\\KT_AIVLE_DX_Regular_course\\Week1\\DX_데이터 다루기_실습자료\\MyFile.txt\n",
      "C:\\Users\\User\\Desktop\\KT Aivle\\KT_AIVLE_DX_Regular_course\\Week1\\DX_데이터 다루기_실습자료\\Poem.txt\n",
      "C:\\Users\\User\\Desktop\\KT Aivle\\KT_AIVLE_DX_Regular_course\\Week1\\DX_데이터 다루기_실습자료\\실습01 - 연산자와 기본 자료형.ipynb\n",
      "C:\\Users\\User\\Desktop\\KT Aivle\\KT_AIVLE_DX_Regular_course\\Week1\\DX_데이터 다루기_실습자료\\실습02 - 문자열 자료형.ipynb\n",
      "C:\\Users\\User\\Desktop\\KT Aivle\\KT_AIVLE_DX_Regular_course\\Week1\\DX_데이터 다루기_실습자료\\실습03 - 리스트.ipynb\n",
      "C:\\Users\\User\\Desktop\\KT Aivle\\KT_AIVLE_DX_Regular_course\\Week1\\DX_데이터 다루기_실습자료\\실습04 - 딕셔너리.ipynb\n",
      "C:\\Users\\User\\Desktop\\KT Aivle\\KT_AIVLE_DX_Regular_course\\Week1\\DX_데이터 다루기_실습자료\\실습05 - 제어문.ipynb\n",
      "C:\\Users\\User\\Desktop\\KT Aivle\\KT_AIVLE_DX_Regular_course\\Week1\\DX_데이터 다루기_실습자료\\실습06 - 함수.ipynb\n",
      "C:\\Users\\User\\Desktop\\KT Aivle\\KT_AIVLE_DX_Regular_course\\Week1\\DX_데이터 다루기_실습자료\\실습07 - 파일 읽고 쓰기.ipynb\n",
      "C:\\Users\\User\\Desktop\\KT Aivle\\KT_AIVLE_DX_Regular_course\\Week1\\DX_데이터 다루기_실습자료\\실습08 - 엑셀 파일 다루기.ipynb\n",
      "C:\\Users\\User\\Desktop\\KT Aivle\\KT_AIVLE_DX_Regular_course\\Week1\\DX_데이터 다루기_실습자료\\실습09 - 이메일 보내기.ipynb\n",
      "C:\\Users\\User\\Desktop\\KT Aivle\\KT_AIVLE_DX_Regular_course\\Week1\\DX_데이터 다루기_실습자료\\연습.ipynb\n"
     ]
    }
   ],
   "source": [
    "# 디렉터리 내용 확인\n",
    "from pathlib import Path\n",
    "\n",
    "files = Path.cwd().glob('*')\n",
    "\n",
    "for f in files:\n",
    "     print(f)"
   ]
  },
  {
   "cell_type": "markdown",
   "id": "45dead4a",
   "metadata": {
    "id": "45dead4a"
   },
   "source": [
    "## 10.2.기본적인 파일 읽고 쓰기"
   ]
  },
  {
   "cell_type": "markdown",
   "id": "90f73d54",
   "metadata": {
    "id": "90f73d54"
   },
   "source": [
    "**1) 파일 쓰기**\n",
    "\n",
    "- **w** 모드로 파일을 열어 **write()** 메서드로 파일에 기록합니다.\n",
    "- 이미 같은 이름의 파일이 있다면 제거되고 새 파일이 만들어집니다.\n",
    "- 경로를 지정하지 않으면 현재 작업 디렉터리에 기록됩니다."
   ]
  },
  {
   "cell_type": "code",
   "execution_count": 12,
   "id": "a66603b1",
   "metadata": {
    "id": "a66603b1"
   },
   "outputs": [],
   "source": [
    "# 파일 열기\n",
    "f = open('MyFile.txt', 'w')\n",
    "\n",
    "# 파일 쓰기\n",
    "f.write('안녕하세요?\\n')\n",
    "\n",
    "# 파일 닫기\n",
    "f.close()"
   ]
  },
  {
   "cell_type": "markdown",
   "id": "1d703a8c",
   "metadata": {
    "id": "1d703a8c"
   },
   "source": [
    "- mkdir()를 사용해 현재 작업 디렉터리에 새로운 디렉터리를 만듭니다.\n",
    "- exist_ok=True를 지정하면 이미 폴더가 있는 경우 해당 폴더를 사용합니다."
   ]
  },
  {
   "cell_type": "code",
   "execution_count": 14,
   "id": "8f493b86",
   "metadata": {
    "id": "8f493b86"
   },
   "outputs": [],
   "source": [
    "# 디렉터리 만들기\n",
    "Path('Files').mkdir(exist_ok=True)"
   ]
  },
  {
   "cell_type": "markdown",
   "id": "7393fedb",
   "metadata": {
    "id": "7393fedb"
   },
   "source": [
    "- Files/MyFile.txt 처럼 경로를 지정해 특정 디렉터리 안에 파일을 만듭니다.\n",
    "- Windows에서 경로 구분자로 '\\\\' 를 사용하는 것과 달리 '/' 를 사용함에 주의합니다."
   ]
  },
  {
   "cell_type": "code",
   "execution_count": 16,
   "id": "1f393aee",
   "metadata": {
    "id": "1f393aee"
   },
   "outputs": [],
   "source": [
    "# 파일 열기\n",
    "f = open('Files/MyFile.txt', 'w')\n",
    "\n",
    "# 파일 쓰기\n",
    "f.write('모두들 안녕하세요?\\n')\n",
    "\n",
    "# 파일 닫기\n",
    "f.close()"
   ]
  },
  {
   "cell_type": "markdown",
   "id": "3de7265b",
   "metadata": {
    "id": "3de7265b"
   },
   "source": [
    "**2) 파일 읽기**\n",
    "\n",
    "- r 모드로 파일을 열어 read() 메서드로 파일을 읽을 수 있습니다.\n",
    "- 지정한 파일이 없으면 오류가 발생합니다."
   ]
  },
  {
   "cell_type": "code",
   "execution_count": 18,
   "id": "d538a991",
   "metadata": {
    "id": "d538a991"
   },
   "outputs": [
    {
     "name": "stdout",
     "output_type": "stream",
     "text": [
      "안녕하세요?\n",
      "\n"
     ]
    }
   ],
   "source": [
    "# 파일 열기\n",
    "f = open('MyFile.txt', 'r')\n",
    "\n",
    "# 내용 읽기\n",
    "print(f.read())\n",
    "\n",
    "# 파일 닫기\n",
    "f.close()"
   ]
  },
  {
   "cell_type": "markdown",
   "id": "8ca289a7",
   "metadata": {
    "id": "8ca289a7"
   },
   "source": [
    "- 경로를 지정해 특정 디렉터리 안의 파일을 읽어옵니다."
   ]
  },
  {
   "cell_type": "code",
   "execution_count": 21,
   "id": "47a4a297",
   "metadata": {
    "id": "47a4a297"
   },
   "outputs": [
    {
     "name": "stdout",
     "output_type": "stream",
     "text": [
      "모두들 안녕하세요?\n",
      "\n"
     ]
    }
   ],
   "source": [
    "# 파일 열기\n",
    "f = open('Files/MyFile.txt', 'r')\n",
    "\n",
    "# 내용 읽기\n",
    "print(f.read())\n",
    "\n",
    "# 파일 닫기\n",
    "f.close()"
   ]
  },
  {
   "cell_type": "markdown",
   "id": "56341b9f",
   "metadata": {
    "id": "56341b9f"
   },
   "source": [
    "**3) 파일 내용 추가**\n",
    "\n",
    "- a 모드로 파일을 열어 write() 메서드로 내용을 추가할 수 있습니다.\n",
    "- 지정한 파일이 없으면 새 파일이 만들어집니다."
   ]
  },
  {
   "cell_type": "code",
   "execution_count": 24,
   "id": "b31ba938",
   "metadata": {
    "id": "b31ba938"
   },
   "outputs": [],
   "source": [
    "# 파일 열기\n",
    "f = open('MyFile.txt', 'a')\n",
    "\n",
    "# 내용 추가\n",
    "f.write('만나서 반갑습니다!')\n",
    "\n",
    "# 파일 닫기\n",
    "f.close()"
   ]
  },
  {
   "cell_type": "markdown",
   "id": "2cc49526",
   "metadata": {
    "id": "2cc49526"
   },
   "source": [
    "- 추가된 내용을 확인합니다."
   ]
  },
  {
   "cell_type": "code",
   "execution_count": 32,
   "id": "e09a9fdb",
   "metadata": {
    "id": "e09a9fdb"
   },
   "outputs": [
    {
     "name": "stdout",
     "output_type": "stream",
     "text": [
      "안녕하세요?\n",
      "만나서 반갑습니다!\n"
     ]
    }
   ],
   "source": [
    "# 파일 열기\n",
    "f = open('MyFile.txt', 'r')\n",
    "print(f.read())\n",
    "f.close()"
   ]
  },
  {
   "cell_type": "markdown",
   "id": "0eeab2d9",
   "metadata": {
    "id": "0eeab2d9"
   },
   "source": [
    "**4) 파일 있으면 오류 발생**\n",
    "\n",
    "- x 모드로 파일을 열면 같은 파일이 있는 경우 오류를 발생시킵니다.\n",
    "- 파일이 없으면 w 모드로 파일은 연 결과가 됩니다."
   ]
  },
  {
   "cell_type": "code",
   "execution_count": 30,
   "id": "fc8dfe80",
   "metadata": {
    "id": "fc8dfe80"
   },
   "outputs": [
    {
     "ename": "FileExistsError",
     "evalue": "[Errno 17] File exists: 'MyFile.txt'",
     "output_type": "error",
     "traceback": [
      "\u001b[1;31m---------------------------------------------------------------------------\u001b[0m",
      "\u001b[1;31mFileExistsError\u001b[0m                           Traceback (most recent call last)",
      "Cell \u001b[1;32mIn[30], line 2\u001b[0m\n\u001b[0;32m      1\u001b[0m \u001b[38;5;66;03m# 파일 열기\u001b[39;00m\n\u001b[1;32m----> 2\u001b[0m f \u001b[38;5;241m=\u001b[39m \u001b[38;5;28mopen\u001b[39m(\u001b[38;5;124m'\u001b[39m\u001b[38;5;124mMyFile.txt\u001b[39m\u001b[38;5;124m'\u001b[39m, \u001b[38;5;124m'\u001b[39m\u001b[38;5;124mx\u001b[39m\u001b[38;5;124m'\u001b[39m)\n\u001b[0;32m      4\u001b[0m \u001b[38;5;66;03m# 내용 쓰기\u001b[39;00m\n\u001b[0;32m      5\u001b[0m f\u001b[38;5;241m.\u001b[39mwrite(\u001b[38;5;124m'\u001b[39m\u001b[38;5;124m만나서 반갑습니다!\u001b[39m\u001b[38;5;124m'\u001b[39m)\n",
      "File \u001b[1;32m~\\anaconda3\\Lib\\site-packages\\IPython\\core\\interactiveshell.py:324\u001b[0m, in \u001b[0;36m_modified_open\u001b[1;34m(file, *args, **kwargs)\u001b[0m\n\u001b[0;32m    317\u001b[0m \u001b[38;5;28;01mif\u001b[39;00m file \u001b[38;5;129;01min\u001b[39;00m {\u001b[38;5;241m0\u001b[39m, \u001b[38;5;241m1\u001b[39m, \u001b[38;5;241m2\u001b[39m}:\n\u001b[0;32m    318\u001b[0m     \u001b[38;5;28;01mraise\u001b[39;00m \u001b[38;5;167;01mValueError\u001b[39;00m(\n\u001b[0;32m    319\u001b[0m         \u001b[38;5;124mf\u001b[39m\u001b[38;5;124m\"\u001b[39m\u001b[38;5;124mIPython won\u001b[39m\u001b[38;5;124m'\u001b[39m\u001b[38;5;124mt let you open fd=\u001b[39m\u001b[38;5;132;01m{\u001b[39;00mfile\u001b[38;5;132;01m}\u001b[39;00m\u001b[38;5;124m by default \u001b[39m\u001b[38;5;124m\"\u001b[39m\n\u001b[0;32m    320\u001b[0m         \u001b[38;5;124m\"\u001b[39m\u001b[38;5;124mas it is likely to crash IPython. If you know what you are doing, \u001b[39m\u001b[38;5;124m\"\u001b[39m\n\u001b[0;32m    321\u001b[0m         \u001b[38;5;124m\"\u001b[39m\u001b[38;5;124myou can use builtins\u001b[39m\u001b[38;5;124m'\u001b[39m\u001b[38;5;124m open.\u001b[39m\u001b[38;5;124m\"\u001b[39m\n\u001b[0;32m    322\u001b[0m     )\n\u001b[1;32m--> 324\u001b[0m \u001b[38;5;28;01mreturn\u001b[39;00m io_open(file, \u001b[38;5;241m*\u001b[39margs, \u001b[38;5;241m*\u001b[39m\u001b[38;5;241m*\u001b[39mkwargs)\n",
      "\u001b[1;31mFileExistsError\u001b[0m: [Errno 17] File exists: 'MyFile.txt'"
     ]
    }
   ],
   "source": [
    "# 파일 열기\n",
    "f = open('MyFile.txt', 'x')\n",
    "\n",
    "# 내용 쓰기\n",
    "f.write('만나서 반갑습니다!')\n",
    "\n",
    "# 파일 닫기\n",
    "f.close()"
   ]
  },
  {
   "cell_type": "markdown",
   "id": "f5a24561",
   "metadata": {
    "id": "f5a24561"
   },
   "source": [
    "- 같은 이름의 파일이 있어 오류가 나는 것에 대한 핸들링을 합니다."
   ]
  },
  {
   "cell_type": "code",
   "execution_count": 34,
   "id": "a5483cd0",
   "metadata": {
    "id": "a5483cd0"
   },
   "outputs": [
    {
     "name": "stdout",
     "output_type": "stream",
     "text": [
      "같은 이름의 파일이 있습니다.\n",
      "수고하셨습니다.\n"
     ]
    }
   ],
   "source": [
    "# 오류 핸들링\n",
    "try:\n",
    "    f = open('MyFile.txt', 'x')\n",
    "    f.write('만나서 반갑습니다!')\n",
    "    f.close()\n",
    "except FileExistsError:     #  이미 파일이 있으면\n",
    "    print('같은 이름의 파일이 있습니다.')\n",
    "else:                       # 그렇지 않으면\n",
    "    print('파일 쓰기 성공했습니다.')\n",
    "finally:                    # 마무리\n",
    "    print('수고하셨습니다.')"
   ]
  },
  {
   "cell_type": "markdown",
   "id": "f7065948",
   "metadata": {
    "id": "f7065948"
   },
   "source": [
    "<img src='https://raw.githubusercontent.com/jangrae/img/master/practice_01.png' width=120 align = \"left\"/>"
   ]
  },
  {
   "cell_type": "markdown",
   "id": "f7eb110b",
   "metadata": {
    "id": "f7eb110b"
   },
   "source": [
    "[문1] Python.txt 파일을 만드세요.  "
   ]
  },
  {
   "cell_type": "code",
   "execution_count": 91,
   "id": "169098d7",
   "metadata": {
    "id": "169098d7"
   },
   "outputs": [],
   "source": [
    "# 파일 열기\n",
    "# 파일 열기\n",
    "f = open('Files/Python.txt', 'w')\n",
    "\n",
    "# 파일 닫기\n",
    "f.close()"
   ]
  },
  {
   "cell_type": "markdown",
   "id": "abf486f0",
   "metadata": {
    "id": "abf486f0"
   },
   "source": [
    "[문2] 아래 내용을 파일에 입력해 보세요.\n",
    "\n",
    "- 홍길동 대신 자신의 이름을 입력합니다.\n",
    "- 입력 후에는 파일을 close 하고, 탐색기에서 열어 보세요.\n",
    "\n",
    "<파이썬과 나>  \n",
    "시인: 홍길동"
   ]
  },
  {
   "cell_type": "code",
   "execution_count": 101,
   "id": "3d92d7ab",
   "metadata": {
    "id": "3d92d7ab"
   },
   "outputs": [],
   "source": [
    "# 파일 생성\n",
    "f = open('Files/Python.txt', 'w')\n",
    "# 내용 쓰기 \n",
    "f.write('<파이썬과 나>\\n시인:양정우\\n')\n",
    "# 파일 닫기\n",
    "f.close()\n",
    "\n"
   ]
  },
  {
   "cell_type": "markdown",
   "id": "03640659",
   "metadata": {
    "id": "03640659"
   },
   "source": [
    "[문3] 아래 내용을 파일에 추가해 봅시다.\n",
    "\n",
    "- 추가한 후에는 파일을 close 하고, 탐색기에서 열어 보세요.\n",
    "\n",
    "~~~\n",
    "어느날\n",
    "파이썬이 나에게 왔다.\n",
    "많이 낯설었다.\n",
    "지금은 나와 하나가 되었다.\n",
    "파이썬이 나고,\n",
    "내가 파이썬이다.\n",
    "~~~"
   ]
  },
  {
   "cell_type": "code",
   "execution_count": 104,
   "id": "0cc6dac2",
   "metadata": {
    "id": "0cc6dac2"
   },
   "outputs": [],
   "source": [
    "# 파일 열기\n",
    "f = open('Files/Python.txt', 'a')\n",
    "\n",
    "# 내용 추가\n",
    "\n",
    "f.write('''어느날\n",
    "파이썬이 나에게 왔다.\n",
    "많이 낯설었다.\n",
    "지금은 나와 하나가 되었다.\n",
    "파이썬이 나고,\n",
    "내가 파이썬이다.''')\n",
    "\n",
    "# 파일 닫기\n",
    "f.close()\n"
   ]
  },
  {
   "cell_type": "code",
   "execution_count": 106,
   "id": "d33fc786-ca21-4917-9ef9-3718a31a0ce4",
   "metadata": {},
   "outputs": [
    {
     "name": "stdout",
     "output_type": "stream",
     "text": [
      "<파이썬과 나>\n",
      "시인:양정우\n",
      "어느날\n",
      "파이썬이 나에게 왔다.\n",
      "많이 낯설었다.\n",
      "지금은 나와 하나가 되었다.\n",
      "파이썬이 나고,\n",
      "내가 파이썬이다.\n"
     ]
    }
   ],
   "source": [
    "# 파일 열기\n",
    "f = open('Files/Python.txt', 'r')\n",
    "\n",
    "# 내용 추가\n",
    "\n",
    "print(f.read())\n",
    "\n",
    "# 파일 닫기\n",
    "f.close()"
   ]
  },
  {
   "cell_type": "markdown",
   "id": "a96f03ec",
   "metadata": {
    "id": "a96f03ec"
   },
   "source": [
    "## 10.3.파일을 다루는 편리한 메서드"
   ]
  },
  {
   "cell_type": "markdown",
   "id": "1af7463a",
   "metadata": {
    "id": "1af7463a"
   },
   "source": [
    "**1) writelines() 메서드**\n",
    "\n",
    "- writelines() 메서드를 사용해 행 리스트를 파일에 기록할 수 있습니다."
   ]
  },
  {
   "cell_type": "code",
   "execution_count": 110,
   "id": "2a477f2c",
   "metadata": {
    "id": "2a477f2c"
   },
   "outputs": [],
   "source": [
    "# 파일 여러 줄 쓰기\n",
    "hello = ['안녕하세요?\\n', '만나서 반갑습니다!\\n', '우리 사이좋게 잘 지내요.\\n']\n",
    "f = open('MyFile.txt', 'w')\n",
    "f.writelines(hello)\n",
    "f.close()"
   ]
  },
  {
   "cell_type": "markdown",
   "id": "9f54c66c",
   "metadata": {
    "id": "9f54c66c"
   },
   "source": [
    "- 추가된 내용을 확인합니다."
   ]
  },
  {
   "cell_type": "code",
   "execution_count": 113,
   "id": "88b27f8d",
   "metadata": {
    "id": "88b27f8d"
   },
   "outputs": [
    {
     "name": "stdout",
     "output_type": "stream",
     "text": [
      "안녕하세요?\n",
      "만나서 반갑습니다!\n",
      "우리 사이좋게 잘 지내요.\n",
      "\n"
     ]
    }
   ],
   "source": [
    "# 파일 읽기\n",
    "f =  open('MyFile.txt', 'r')\n",
    "print(f.read())\n",
    "f.close()"
   ]
  },
  {
   "cell_type": "markdown",
   "id": "036405a3",
   "metadata": {
    "id": "036405a3"
   },
   "source": [
    "**2) readlines() 메서드**\n",
    "\n",
    "- readlines() 메서드를 사용해 모든 행을 한 번에 읽을 수 있습니다.\n",
    "- 결과는 리스트가 되므로, 반복문으로 한 행 씩 읽을 수 있습니다."
   ]
  },
  {
   "cell_type": "code",
   "execution_count": 116,
   "id": "169524a0",
   "metadata": {
    "id": "169524a0"
   },
   "outputs": [
    {
     "name": "stdout",
     "output_type": "stream",
     "text": [
      "['안녕하세요?\\n', '만나서 반갑습니다!\\n', '우리 사이좋게 잘 지내요.\\n']\n"
     ]
    }
   ],
   "source": [
    "# 파일 한 번에 읽기\n",
    "f = open('MyFile.txt', 'r')\n",
    "result = f.readlines()\n",
    "f.close()\n",
    "\n",
    "# 내용 확인\n",
    "print(result)"
   ]
  },
  {
   "cell_type": "code",
   "execution_count": 118,
   "id": "bfc029c2",
   "metadata": {
    "id": "bfc029c2"
   },
   "outputs": [
    {
     "name": "stdout",
     "output_type": "stream",
     "text": [
      "안녕하세요?\n",
      "만나서 반갑습니다!\n",
      "우리 사이좋게 잘 지내요.\n"
     ]
    }
   ],
   "source": [
    "# 반복문으로 한 행씩 표시\n",
    "for txt in result:\n",
    "    print(txt, end='')"
   ]
  },
  {
   "cell_type": "markdown",
   "id": "f1e21374",
   "metadata": {
    "id": "f1e21374"
   },
   "source": [
    "**3) readline() 메서드**\n",
    "\n",
    "- readline() 메서드를 사용해 행 단위로 읽을 수 있습니다.\n",
    "- 결과는 문자열이 됩니다."
   ]
  },
  {
   "cell_type": "code",
   "execution_count": null,
   "id": "7ef89a90",
   "metadata": {
    "id": "7ef89a90"
   },
   "outputs": [],
   "source": [
    "# 파일 읽기\n",
    "f = open('MyFile.txt', 'r')\n",
    "\n",
    "# 내용 읽기\n",
    "print(f.readline())\n",
    "print(f.readline())\n",
    "print(f.readline())\n",
    "\n",
    "# 파일 닫기\n",
    "f.close()"
   ]
  },
  {
   "cell_type": "markdown",
   "id": "c6d8d94b",
   "metadata": {
    "id": "c6d8d94b"
   },
   "source": [
    "- 반복문을 이용해 모든 행을 읽어올 수 있습니다."
   ]
  },
  {
   "cell_type": "code",
   "execution_count": null,
   "id": "7efca9e1",
   "metadata": {
    "id": "7efca9e1"
   },
   "outputs": [],
   "source": [
    "# 파일 읽기\n",
    "f = open('MyFile.txt', 'r')\n",
    "result = f.readline()\n",
    "\n",
    "# 반복문으로 한 행씩 읽어 표시\n",
    "while result:\n",
    "    print(result, end='')\n",
    "    result = f.readline()\n",
    "\n",
    "# 파일 닫기\n",
    "f.close()"
   ]
  },
  {
   "cell_type": "markdown",
   "id": "717b474c",
   "metadata": {
    "id": "717b474c"
   },
   "source": [
    "## 10.4.워드 클라우드 만들기\n",
    "\n",
    "- 마틴루터킹 목사의 'I have a Dream' 연설문을 가지고 워드 클라우드를 만들어 봅니다."
   ]
  },
  {
   "cell_type": "markdown",
   "id": "959624be",
   "metadata": {
    "id": "959624be"
   },
   "source": [
    "<img src='https://i.ytimg.com/vi/mrP2lh7oTBU/maxresdefault.jpg' width=650 align = \"left\"/>"
   ]
  },
  {
   "cell_type": "markdown",
   "id": "e43c3201",
   "metadata": {
    "id": "e43c3201"
   },
   "source": [
    "- 워드 클라우드를 만드는 순서는 다음과 같습니다.\n",
    "\n",
    "(1) 텍스트파일로 저장하기\n",
    "\n",
    "- 읽을 파일을 만듭니다.\n",
    "- 여기서는 수동으로 어디선가 가져오겠지만,\n",
    "- 나중에는 크롤링을 통해서 웹에서 가져올 수도 있습니다.\n",
    "\n",
    "\n",
    "(2) 텍스트 전처리\n",
    "\n",
    "- 파일을 읽어서 split() 메서드를 사용해 단어 단위로 쪼갭니다.\n",
    "- 단어별 빈도수를 계산하여 딕셔너리 형태로 저장합니다.\n",
    "- 분석에 의미가 없는 조사들은 제거합니다.\n",
    "\n",
    "(3) 워드 클라우드 그리기\n",
    "\n",
    "-  wordcloud 라이브러리를 설치한 후 불러옵니다.\n",
    "- 워드 클라우드를 그립니다."
   ]
  },
  {
   "cell_type": "markdown",
   "id": "2a852b4b",
   "metadata": {
    "id": "2a852b4b"
   },
   "source": [
    "**1) 텍스트파일로 저장하기**\n",
    "\n",
    "- 수업을 위해 이미 저장해 놓았습니다."
   ]
  },
  {
   "cell_type": "markdown",
   "id": "ec6410a3",
   "metadata": {
    "id": "ec6410a3"
   },
   "source": [
    "**2) 텍스트 전처리**\n",
    "\n",
    "- 우선 파일을 읽어와 내용을 확인합니다.\n",
    "- 한글 파일을 읽어올 때 인코딩 오류가 발생하면 encoding='CP949'로 지정합니다."
   ]
  },
  {
   "cell_type": "code",
   "execution_count": 45,
   "id": "971f1f4b",
   "metadata": {
    "id": "971f1f4b"
   },
   "outputs": [
    {
     "data": {
      "text/plain": [
       "'I am happy to join with you today in what will go down in history as the greatest demonstration for '"
      ]
     },
     "execution_count": 45,
     "metadata": {},
     "output_type": "execute_result"
    }
   ],
   "source": [
    "# 파일 읽기\n",
    "file = open('Dream.txt', 'r', encoding='UTF-8')\n",
    "text = file.read()\n",
    "file.close()\n",
    "\n",
    "# 확인(100 글자만)\n",
    "text[:100]"
   ]
  },
  {
   "cell_type": "markdown",
   "id": "e891fde0",
   "metadata": {
    "id": "e891fde0"
   },
   "source": [
    "- split() 메서드를 사용해  단어 단위로 잘라 리스트 형태로 만듭니다."
   ]
  },
  {
   "cell_type": "code",
   "execution_count": 137,
   "id": "eca8c7b3",
   "metadata": {
    "id": "eca8c7b3"
   },
   "outputs": [
    {
     "data": {
      "text/plain": [
       "['I', 'am', 'happy', 'to', 'join', 'with', 'you', 'today', 'in', 'what']"
      ]
     },
     "execution_count": 137,
     "metadata": {},
     "output_type": "execute_result"
    }
   ],
   "source": [
    "# 공백을 구분자로 하여 단어 단위로 자르기\n",
    "wordList = text.split() # 공백\n",
    "\n",
    "# 확인(10 개만)\n",
    "wordList[:10]"
   ]
  },
  {
   "cell_type": "markdown",
   "id": "e75207ec",
   "metadata": {
    "id": "e75207ec"
   },
   "source": [
    "- 단어별 빈도수를 계산하여 딕셔너리로 저장합니다."
   ]
  },
  {
   "cell_type": "code",
   "execution_count": 146,
   "id": "2c967a89",
   "metadata": {
    "id": "2c967a89"
   },
   "outputs": [
    {
     "name": "stdout",
     "output_type": "stream",
     "text": [
      "100\n",
      "{'true': 1, 'daybreak': 1, 'bound': 1, 'remind': 1, 'can': 3, 'boys': 2, 'hill': 2, 'stand': 3, 'made': 3, 'plain,': 1, 'stone': 1, 'place': 1, 'some': 1, 'quicksands': 1, 'Jews': 1, 'ahead.': 1, 'Negro': 12, 'sisters': 1, 'pledge': 1, 'together,': 5, 'shake': 1, 'stream.': 1, 'score': 1, 'hamlet,': 1, 'decree': 1, 'hope': 2, 'up': 4, 'process': 1, 'millions': 1, 'come': 9, 'day.': 1, 'material': 1, 'where': 4, 'content': 2, 'only': 1, 'own': 1, 'devotees': 1, 'give': 1, 'desert': 1, 'created': 1, 'former': 2, 'bad': 1, 'like': 2, 'fresh': 1, 'red': 1, 'slaves': 2, 'today': 3, 'deeply': 1, 'great': 5, 'promise': 1, 'blow': 1, 'desolate': 1, 'pray': 1, 'injustice.': 1, 'by': 8, 'travel,': 1, 'discords': 1, 'words': 3, 'spot': 1, 'overlook': 1, 'vote': 1, 'leads': 1, 'was': 2, 'Lord': 1, 'forever': 1, 'country,': 1, 'has': 5, 'Martin': 2, 'nation’s': 1, 'soul': 1, 'destiny': 2, 'her': 1, 'inalienable': 1, 'revolt': 1, 'cup': 1, 'knowing': 2, 'end,': 1, 'return': 1, 'our': 16, 'ring.”': 1, 'slums': 1, 'into': 5, 'Land': 1, 'obvious': 1, 'friends,': 1, 'himself': 1, 'my': 4, 'tribulations.': 1, 'table': 1, 'still': 4, 'Tennessee!': 1, 'now.': 1, 'One': 3, 'appalling': 1, 'their': 5, 'dream': 9, 'warm': 1, 'Jr': 1, 'Mississippi,': 2, 'march': 1, 'lips': 1, 'civil': 1, 'society': 1, 'tranquilizing': 1, 'deeds.': 1, 'engulfed': 1, 'realize': 1, 'captivity.': 1, 'sixty-three': 1, 'Alabama,': 2, 'open': 1, 'inextricably': 1, 'last!”': 1, 'hundred': 4, 'heat': 1, 'must': 9, 'luxury': 1, 'Speech': 2, 'manacles': 1, 'corners': 1, 'freedom.': 1, 'persecution': 1, 'nothing': 1, 'check': 3, 'despair': 1, 'militancy': 1, 'suffering': 1, 'plane': 1, 'degenerate': 1, 'heightening': 1, 'riches': 1, 'conduct': 1, 'gain': 1, 'There': 2, 'No,': 1, 'segregation': 2, 'sunlit': 1, 'battered': 1, 'end': 1, 'heights': 1, 'exalted,': 1, 'had': 1, 'waters': 1, 'threshold': 1, 'bitterness': 1, 'upon': 1, 'pass': 1, 'republic': 1, 'children': 2, 'valley': 3, 'moment': 1, 'architects': 1, 'hew': 1, 'free': 3, 'California!': 1, 'discrimination.': 1, 'returns': 1, 'Some': 2, 'creed:': 1, 'righteousness': 1, 'vast': 1, 'men,': 1, 'America': 5, 'Colorado!': 1, 'tranquility': 1, 'Alleghenies': 1, 'beacon': 1, 'shadow': 1, 'died,': 1, 'symbolic': 1, 'skin': 1, 'rights': 1, 'transformed': 2, 'nullification,': 1, 'join': 3, 'alone.': 1, 'believes': 1, 'meaning': 1, 'Have': 3, 'mountainside,': 2, 'awakening': 1, 'hope.': 2, 'land': 2, 'citizenship': 1, 'hatred.': 1, 'for': 7, 'high': 1, 'insofar': 1, 'that;': 1, 'King': 2, 'came': 2, 'delivering': 1, 'When': 2, 'force.': 1, 'slave': 1, 'dream.': 2, 'today.': 2, 'beginning.': 1, 'face': 1, 'work': 2, 'equality.': 1, 'marvelous': 1, 'rise': 3, 'peaks': 1, 'American': 3, 'unearned': 1, 'rough': 1, 'children.': 1, 'spiritual,': 1, 'walk,': 1, 'despair.': 1, 'changed.': 1, 'left': 1, 'autumn': 1, 'state': 3, 'underestimate': 1, 'situation': 2, 'out': 3, 'go': 6, 'life,': 1, 'gradualism.': 1, 'freedom': 19, 'jail': 1, 'larger': 1, 'This': 7, 'prosperity.': 1, 'New': 3, 'languishing': 1, 'community': 1, 'village': 1, 'long': 4, 'equal.”': 1, 'wrongful': 1, 'brothers,': 1, 'God': 1, 'hold': 1, 'heavy': 1, 'path': 1, 'seared': 1, 'Dr.': 1, 'staggered': 1, 'when': 3, 'You': 1, '—': 1, '“My': 1, 'Luther': 2, 'hilltops': 1, 'mountains': 1, 'Catholics,': 1, 'We': 9, 'chains': 1, 'ring': 9, 'were': 1, 'business': 1, 'free.': 1, 'thirst': 1, 'island': 1, 'bank': 1, 'molehill': 1, 'Protestants': 1, 'granted': 1, 'revealed,': 1, 'us': 4, 'men': 3, '“We': 1, 'unmindful': 1, 'thee': 1, 'if': 2, 'nation': 8, 'Those': 1, 'thank': 1, 'in': 19, 'crippled': 1, 'land.': 1, 'governor’s': 1, 'snowcapped': 1, 'years': 5, 'shall': 5, 'finds': 1, 'rolls': 1, 'one': 8, 'I': 18, 'Louisiana,': 1, 'cities.': 1, 'together.': 1, 'Negro.': 1, 'meeting': 1, 'opportunity': 2, 'walk': 2, 'wallow': 1, 'Constitution': 1, 'light': 1, 'rock': 1, 'dramatize': 1, 'Georgia,': 1, 'oppression,': 1, 'South.': 1, 'trials': 1, 'usual.': 1, 'your': 1, 'needed': 1, 'redemptive.': 1, 'Almighty,': 1, 'poverty': 1, 'ghettos': 1, 'sacred': 1, 'Dream': 3, 'Mississippi.': 1, '“insufficient': 1, 'new': 2, 'Continue': 1, 'satisfied': 4, 'his': 2, 'vaults': 1, 'cooling': 1, 'legitimate': 1, 'speed': 1, 'fathers': 1, 'dark': 1, 'gaining': 1, 'frustrations': 1, 'Lookout': 1, 'Negro’s': 2, '[Applause]': 1, 'discipline.': 1, 'cells.': 1, 'night': 1, 'protest': 1, 'sweet': 1, 'prodigious': 1, 'fatal': 1, 'highways': 1, 'lives': 1, 'Emancipation': 1, 'mobility': 1, 'citizens': 1, 'sing.': 1, 'brotherhood.': 3, 'it': 2, 'truths': 1, 'places': 2, 'basic': 1, 'American,': 1, 'lodging': 1, 'engage': 1, 'never': 2, 'withering': 1, 'back.': 1, 'difficulties': 1, 'make': 1, 'Again': 1, 'character.': 1, 'guaranteed': 1, 'demonstration': 1, 'who': 4, 'judged': 1, 'wrote': 1, 'oasis': 1, 'police': 1, 'security': 1, 'satisfied?”': 1, 'emerges.': 1, 'people': 2, 'Stone': 1, 'he': 1, 'bodies,': 1, 'momentous': 1, 'even': 1, 'off': 2, 'you': 7, 'fact': 1, 'palace': 1, 'tragic': 1, 'physical': 2, 'sadly': 1, 'vote.': 1, 'old': 1, 'sons': 2, 'bright': 1, 'lift': 1, 'no,': 1, 'storms': 1, 'check.': 1, 'rooted': 1, 'marked': 1, 'tied': 1, 'until': 4, 'somehow': 1, 'whose': 2, 'state,': 1, 'funds': 1, 'but': 2, 'people,': 1, 'ghetto': 1, 'asking': 1, 'pride,': 1, 'Rockies': 1, 'Gentiles,': 1, 'continue': 1, 'today,': 2, 'time': 4, 'northern': 1, 'Hampshire.': 1, 'injustice': 2, 'declaration': 1, 'girls': 2, '“When': 1, 'live': 2, 'those': 1, 'straight,': 1, 'demand': 1, 'lonely': 1, 'flames': 1, 'sing': 2, 'suffering.': 1, 'hills': 1, 'whirlwinds': 1, 'solid': 1, 'discontent': 1, 'drinking': 1, 'these': 1, 'low,': 1, 'would': 2, 'glory': 1, 'drug': 1, 'moment,': 1, 'York': 1, 'spite': 1, 'The': 2, 'as': 14, 'allow': 1, 'four': 1, 'veterans': 1, 'motels': 1, 'concerned.': 1, 'distrust': 1, 'one.': 1, 'transform': 1, 'later,': 4, 'crooked': 1, 'see': 1, 'presently': 1, 'God’s': 3, 'signed': 1, 'refuse': 2, 'nor': 1, 'rightful': 1, 'dignity': 1, 'now': 1, 'faith': 5, 'children,': 1, 'every': 11, 'down': 3, 'sense': 1, 'justice': 3, 'hallowed': 1, 'history': 2, 'no': 1, 'let': 6, 'fatigue': 1, 'life': 1, 'there': 3, 'brutality.': 1, 'exile': 1, 'sweltering': 2, 'joyous': 1, 'rights,': 1, 'interposition': 1, 'believe': 2, 'here': 3, 'mountain': 2, 'take': 1, 'Pennsylvania!': 1, 'heir.': 1, 'given': 1, 'thee,': 1, 'ring.': 1, 'happiness.': 1, 'mighty': 2, 'Georgia!': 1, 'note': 3, 'beautiful': 1, 'determination': 1, 'we': 21, 'foundations': 1, 'bankrupt.': 1, 'flesh': 1, 'city,': 1, 'black': 3, 'Let': 8, 'signing': 1, '“Free': 1, 'meaning,': 1, 'lead': 1, 'struggle': 2, 'greatest': 1, 'white': 5, 'will': 27, 'curvaceous': 1, 'little': 2, 'presence': 1, 'an': 5, 'true.': 1, 'evidenced': 1, 'capital': 1, 'Georgia': 1, 'nation.': 2, 'also': 1, 'day': 9, 'many': 1, 'cities,': 1, 'what': 1, 'something': 1, 'honoring': 1, 'last!': 2, 'funds.”': 1, 'quest': 1, 'liberty,': 2, 'Proclamation.': 1, 'Instead': 1, 'Nineteen': 1, 'rude': 1, 'Go': 1, 'It': 4, 'rights.': 1, 'obligation,': 1, 'owners': 1, 'justice.': 4, 'seek': 1, 'smaller': 1, 'Mountain': 2, 'cannot': 5, 'self-evident:': 1, 'at': 4, 'become': 1, 'jangling': 1, 'condition.': 1, 'dripping': 1, 'violence.': 1, 'rest': 1, 'insufficient': 1, 'Independence,': 1, 'narrow': 1, 'winds': 1, 'force': 1, 'fierce': 1, 'areas': 1, '’tis': 1, 'In': 2, 'cash': 2, 'say': 2, 'guilty': 1, 'again': 1, 'majestic': 1, 'pilgrim’s': 1, 'midst': 1, 'magnificent': 1, 'satisfy': 1, 'happy': 1, 'am': 2, 'urgency': 2, 'or': 1, 'ocean': 1, 'And': 2, 'neither': 1, 'From': 1, 'Mississippi': 1, 'satisfied,': 1, 'invigorating': 1, 'With': 3, 'ring,': 1, 'York.': 1, 'defaulted': 1, 'have': 19, 'pursuit': 1, 'color': 2, 'ago,': 1, 'fall': 1, 'back': 6, 'they': 2, 'creative': 2, 'been': 2, 'summer': 1, 'racial': 2, 'with': 10, 'together': 2, 'Now': 3, 'sit': 1, 'steam': 1, 'turn': 1, 'symphony': 1, 'But': 4, 'doors': 1, 'promissory': 2, 'which': 6, 'hotels': 1, 'all': 7, 'Five': 1, 'its': 1, 'brothers.': 1, 'hands': 2, 'able': 8, 'So': 3}\n"
     ]
    }
   ],
   "source": [
    "# 중복 단어 제거\n",
    "worduniq = set(wordList)\n",
    "'''\n",
    "for w in wordList:\n",
    "    if w not in worduniq:\n",
    "        worduniq.append(w)\n",
    "'''\n",
    "\n",
    "# 딕셔너리 선언\n",
    "wordCount = {}\n",
    "\n",
    "# 단어별 개수 저장\n",
    "for w in worduniq:\n",
    "    wordCount[w] = wordList.count(w)\n",
    "\n",
    "print(wordCount['the'])\n",
    "# 제외 대상 조사\n",
    "del_word = ['the','a','is','are', 'not','of','on','that','this','and','be','to', 'from']\n",
    "\n",
    "# 제외하기\n",
    "for d in del_word:\n",
    "    if d in wordCount:\n",
    "        del wordCount[d]\n",
    "\n",
    "print(wordCount)\n",
    "\n"
   ]
  },
  {
   "cell_type": "markdown",
   "id": "d5098238",
   "metadata": {
    "id": "d5098238"
   },
   "source": [
    "**3) 워드 클라우드 그리기**\n",
    "\n",
    "- wordcloud 패키지를 설치합니다."
   ]
  },
  {
   "cell_type": "code",
   "execution_count": 142,
   "id": "369fe88f",
   "metadata": {
    "id": "369fe88f"
   },
   "outputs": [
    {
     "name": "stdout",
     "output_type": "stream",
     "text": [
      "Requirement already satisfied: wordcloud in c:\\users\\user\\anaconda3\\lib\\site-packages (1.9.3)\n",
      "Requirement already satisfied: numpy>=1.6.1 in c:\\users\\user\\anaconda3\\lib\\site-packages (from wordcloud) (1.26.4)\n",
      "Requirement already satisfied: pillow in c:\\users\\user\\anaconda3\\lib\\site-packages (from wordcloud) (10.3.0)\n",
      "Requirement already satisfied: matplotlib in c:\\users\\user\\anaconda3\\lib\\site-packages (from wordcloud) (3.8.4)\n",
      "Requirement already satisfied: contourpy>=1.0.1 in c:\\users\\user\\anaconda3\\lib\\site-packages (from matplotlib->wordcloud) (1.2.0)\n",
      "Requirement already satisfied: cycler>=0.10 in c:\\users\\user\\anaconda3\\lib\\site-packages (from matplotlib->wordcloud) (0.11.0)\n",
      "Requirement already satisfied: fonttools>=4.22.0 in c:\\users\\user\\anaconda3\\lib\\site-packages (from matplotlib->wordcloud) (4.51.0)\n",
      "Requirement already satisfied: kiwisolver>=1.3.1 in c:\\users\\user\\anaconda3\\lib\\site-packages (from matplotlib->wordcloud) (1.4.4)\n",
      "Requirement already satisfied: packaging>=20.0 in c:\\users\\user\\anaconda3\\lib\\site-packages (from matplotlib->wordcloud) (23.2)\n",
      "Requirement already satisfied: pyparsing>=2.3.1 in c:\\users\\user\\anaconda3\\lib\\site-packages (from matplotlib->wordcloud) (3.0.9)\n",
      "Requirement already satisfied: python-dateutil>=2.7 in c:\\users\\user\\anaconda3\\lib\\site-packages (from matplotlib->wordcloud) (2.9.0.post0)\n",
      "Requirement already satisfied: six>=1.5 in c:\\users\\user\\anaconda3\\lib\\site-packages (from python-dateutil>=2.7->matplotlib->wordcloud) (1.16.0)\n"
     ]
    }
   ],
   "source": [
    "# 패키지 설치합\n",
    "!pip install wordcloud"
   ]
  },
  {
   "cell_type": "markdown",
   "id": "251c6c13",
   "metadata": {
    "id": "251c6c13"
   },
   "source": [
    "- 드디어! 워드 클라우드를 그립니다."
   ]
  },
  {
   "cell_type": "code",
   "execution_count": 144,
   "id": "67fb5b3f",
   "metadata": {
    "id": "67fb5b3f"
   },
   "outputs": [
    {
     "ename": "TypeError",
     "evalue": "imshow() missing 1 required positional argument: 'X'",
     "output_type": "error",
     "traceback": [
      "\u001b[1;31m---------------------------------------------------------------------------\u001b[0m",
      "\u001b[1;31mTypeError\u001b[0m                                 Traceback (most recent call last)",
      "Cell \u001b[1;32mIn[144], line 14\u001b[0m\n\u001b[0;32m     12\u001b[0m \u001b[38;5;66;03m# 표시하기\u001b[39;00m\n\u001b[0;32m     13\u001b[0m plt\u001b[38;5;241m.\u001b[39mfigure(figsize\u001b[38;5;241m=\u001b[39m(\u001b[38;5;241m12\u001b[39m, \u001b[38;5;241m6\u001b[39m))\n\u001b[1;32m---> 14\u001b[0m plt\u001b[38;5;241m.\u001b[39mimshow(    )\n\u001b[0;32m     15\u001b[0m plt\u001b[38;5;241m.\u001b[39maxis(\u001b[38;5;124m\"\u001b[39m\u001b[38;5;124moff\u001b[39m\u001b[38;5;124m\"\u001b[39m)\n\u001b[0;32m     16\u001b[0m plt\u001b[38;5;241m.\u001b[39mtight_layout(pad\u001b[38;5;241m=\u001b[39m\u001b[38;5;241m0\u001b[39m)\n",
      "\u001b[1;31mTypeError\u001b[0m: imshow() missing 1 required positional argument: 'X'"
     ]
    },
    {
     "data": {
      "text/plain": [
       "<Figure size 1200x600 with 0 Axes>"
      ]
     },
     "metadata": {},
     "output_type": "display_data"
    }
   ],
   "source": [
    "# 라이브러리 불러오기\n",
    "import matplotlib.pyplot as plt\n",
    "from wordcloud import WordCloud\n",
    "%config InlineBackend.figure_format='retina'\n",
    "\n",
    "# 워드 클라우드 만들기\n",
    "wordcloud = WordCloud(font_path = 'C:/Windows/fonts/HMKMRHD.TTF',\n",
    "                      width=2000,\n",
    "                      height=1000,\n",
    "                      background_color='white').generate_from_frequencies(dict(wordCount))\n",
    "\n",
    "# 표시하기\n",
    "plt.figure(figsize=(12, 6))\n",
    "plt.imshow(    )\n",
    "plt.axis(\"off\")\n",
    "plt.tight_layout(pad=0)\n",
    "plt.show()"
   ]
  },
  {
   "cell_type": "markdown",
   "id": "8b1235ec",
   "metadata": {
    "id": "8b1235ec"
   },
   "source": [
    "<img src='https://raw.githubusercontent.com/jangrae/img/master/practice_01.png' width=120 align=\"left\"/>"
   ]
  },
  {
   "cell_type": "markdown",
   "id": "497040e3",
   "metadata": {
    "id": "497040e3"
   },
   "source": [
    "[문1] 불필요한 조사나 단어를 좀 더 제외한 후 다시 그려봅니다."
   ]
  },
  {
   "cell_type": "code",
   "execution_count": null,
   "id": "738f65d0",
   "metadata": {
    "id": "738f65d0"
   },
   "outputs": [],
   "source": [
    "# 제외 대상 조사\n",
    "\n",
    "\n",
    "# 제외하기\n",
    "\n",
    "\n"
   ]
  },
  {
   "cell_type": "code",
   "execution_count": null,
   "id": "bc4af204",
   "metadata": {
    "id": "bc4af204"
   },
   "outputs": [],
   "source": [
    "# 워드 클라우드 그리기\n",
    "\n",
    "\n"
   ]
  },
  {
   "cell_type": "markdown",
   "id": "d4e228e8",
   "metadata": {
    "id": "d4e228e8"
   },
   "source": [
    "## 참고: 이미지 파일 사용\n",
    "\n",
    "- 이미지 파일을 사용해 워드클라우드 전체 프레임 모양을 변경할 수 있습니다.  "
   ]
  },
  {
   "cell_type": "code",
   "execution_count": null,
   "id": "508b1c50",
   "metadata": {
    "id": "508b1c50"
   },
   "outputs": [],
   "source": [
    "# 라이브러리 불러오기\n",
    "import numpy as np\n",
    "from PIL import Image\n",
    "\n",
    "# 이미지 불러오기\n",
    "masking_image = np.array(Image.open('  ?  '))\n",
    "\n",
    "# 워드 클라우드 만들기\n",
    "wordcloud = WordCloud(font_path = 'C:/Windows/fonts/HMKMRHD.TTF',\n",
    "                      width=2000,\n",
    "                      height=1000,\n",
    "                      mask=masking_image,\n",
    "                      background_color='white').generate_from_frequencies(wordCount)\n",
    "\n",
    "# 표시하기\n",
    "plt.figure(figsize=(12, 6))\n",
    "plt.imshow(wordcloud)\n",
    "plt.axis(\"off\")\n",
    "plt.tight_layout(pad=0)\n",
    "plt.show()"
   ]
  }
 ],
 "metadata": {
  "colab": {
   "provenance": []
  },
  "kernelspec": {
   "display_name": "Python 3 (ipykernel)",
   "language": "python",
   "name": "python3"
  },
  "language_info": {
   "codemirror_mode": {
    "name": "ipython",
    "version": 3
   },
   "file_extension": ".py",
   "mimetype": "text/x-python",
   "name": "python",
   "nbconvert_exporter": "python",
   "pygments_lexer": "ipython3",
   "version": "3.12.4"
  }
 },
 "nbformat": 4,
 "nbformat_minor": 5
}
