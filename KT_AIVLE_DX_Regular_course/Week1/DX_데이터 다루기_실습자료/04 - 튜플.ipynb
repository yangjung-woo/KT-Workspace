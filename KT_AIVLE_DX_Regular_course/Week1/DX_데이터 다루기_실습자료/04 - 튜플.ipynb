{
 "cells": [
  {
   "cell_type": "markdown",
   "metadata": {
    "id": "b3TDAdnvnSbh"
   },
   "source": [
    "<center><img src='https://raw.githubusercontent.com/Jangrae/img/master/title.png' width=500/></center>"
   ]
  },
  {
   "cell_type": "markdown",
   "metadata": {
    "id": "pbxEQNZMr9De"
   },
   "source": [
    "# 4.튜플(Tuple) 자료형\n",
    "\n",
    "- 튜플은 **리스트와 정말 비슷한 자료형**입니다.\n",
    "- 튜플은 대괄호([ ])가 아닌 **소괄호(( ))**를 사용해서 표현합니다.\n",
    "- 튜플은 한 번 만들면 **요소의 값을 바꿀 수 없음**이 리스트와 다릅니다.\n",
    "- 그 외는 리스트와 같은 특성을 가지므로 이해하기 쉬울 것입니다.\n"
   ]
  },
  {
   "cell_type": "markdown",
   "metadata": {
    "id": "nNVd-AFTgAYW"
   },
   "source": [
    "## 4.1.튜플 만들기\n",
    "\n",
    "- 리스트는 대괄호[[ ]]이고, 튜플은 소괄호(( ))인 사실만 기억하면 됩니다.\n",
    "- 단, **괄호를 생략할 수 있다**는 점은 리스트와 다릅니다.\n",
    "- 리스트에서는 대괄호를 생략할 수 없습니다.\n",
    "- 소괄호와 대괄호 둘 다 생략할 수 있다면 무엇이 생략되었나 알 수 없을 것입니다."
   ]
  },
  {
   "cell_type": "markdown",
   "metadata": {
    "id": "nDXGytfxrFMA"
   },
   "source": [
    "### 4.1.1.다양한 튜플 만들기"
   ]
  },
  {
   "cell_type": "markdown",
   "metadata": {
    "id": "5yKu7ctt1xeB"
   },
   "source": [
    "**1) 빈 튜플 만들기**\n",
    "\n",
    "- 다음은 빈 튜플을 만드는 두 가지 방법입니다."
   ]
  },
  {
   "cell_type": "code",
   "execution_count": 5,
   "metadata": {
    "id": "fGY-rxc0f8Bn"
   },
   "outputs": [
    {
     "data": {
      "text/plain": [
       "()"
      ]
     },
     "execution_count": 5,
     "metadata": {},
     "output_type": "execute_result"
    }
   ],
   "source": [
    "# 빈 튜플 만들기 #1\n",
    "score =()\n",
    "\n",
    "# 확인\n",
    "score"
   ]
  },
  {
   "cell_type": "code",
   "execution_count": 26,
   "metadata": {
    "id": "-QA99rg8p3Ql"
   },
   "outputs": [
    {
     "data": {
      "text/plain": [
       "()"
      ]
     },
     "execution_count": 26,
     "metadata": {},
     "output_type": "execute_result"
    }
   ],
   "source": [
    "# 빈 튜플 만들기 #2\n",
    "score = tuple( )\n",
    "\n",
    "# 확인\n",
    "score"
   ]
  },
  {
   "cell_type": "markdown",
   "metadata": {
    "id": "sI-K8P2fptzE"
   },
   "source": [
    "**2) 요소가 하나인 튜플 만들기**\n",
    "\n",
    "- 요소가 하나인 튜플을 만들 때는 조심해야 합니다.\n",
    "- 다음은 요소가 하나인 튜플을 만드는 구문이 아닌 정수형 변수를 선언한 구문입니다."
   ]
  },
  {
   "cell_type": "code",
   "execution_count": 10,
   "metadata": {
    "id": "JWLcd8Lwg4Az"
   },
   "outputs": [
    {
     "name": "stdout",
     "output_type": "stream",
     "text": [
      "90\n",
      "<class 'int'>\n"
     ]
    }
   ],
   "source": [
    "# 튜플을 잘못 만든 예\n",
    "score = (90)\n",
    "\n",
    "# 확인\n",
    "print(score)\n",
    "print(type(score))"
   ]
  },
  {
   "cell_type": "markdown",
   "metadata": {
    "id": "tcPCXFw8qMy9"
   },
   "source": [
    "- 요소가 하나인 튜플은 다음과 같이 **콤마를 추가**해서 만들어야 합니다."
   ]
  },
  {
   "cell_type": "code",
   "execution_count": 13,
   "metadata": {
    "id": "nYBNu67ieZFj"
   },
   "outputs": [
    {
     "name": "stdout",
     "output_type": "stream",
     "text": [
      "(90,)\n",
      "<class 'tuple'>\n",
      "1\n"
     ]
    }
   ],
   "source": [
    "# 요소가 하나인 튜플 만들기\n",
    "score =(90,)\n",
    "\n",
    "# 확인\n",
    "print(score)\n",
    "print(type(score))\n",
    "print(len(score))"
   ]
  },
  {
   "cell_type": "markdown",
   "metadata": {
    "id": "6kzTxFGu1rQ7"
   },
   "source": [
    "**3) 다양한 형태의 튜플**"
   ]
  },
  {
   "cell_type": "code",
   "execution_count": 16,
   "metadata": {
    "id": "VXcKJfU_hRZ8"
   },
   "outputs": [
    {
     "name": "stdout",
     "output_type": "stream",
     "text": [
      "(90, 85, 70)\n",
      "(90, 85, 70)\n",
      "(90, 85, 70, ('A', 'B', 'D', 'F'))\n"
     ]
    }
   ],
   "source": [
    "# 여러 형태의 튜플 만들기\n",
    "score1 = (90, 85, 70)\n",
    "score2 = 90, 85, 70\n",
    "score3 = (90, 85, 70, ('A', 'B', 'D', 'F'))\n",
    "\n",
    "# 확인\n",
    "print(score1)\n",
    "print(score2)\n",
    "print(score3)"
   ]
  },
  {
   "cell_type": "code",
   "execution_count": 20,
   "metadata": {
    "id": "54KNCZIn8Lay",
    "scrolled": true
   },
   "outputs": [
    {
     "name": "stdout",
     "output_type": "stream",
     "text": [
      "range(0, 10)\n"
     ]
    }
   ],
   "source": [
    "# range() 함수를 사용해 만들기\n",
    "nums = (range(0,10))\n",
    "\n",
    "# 확인\n",
    "print(nums)"
   ]
  },
  {
   "cell_type": "code",
   "execution_count": 24,
   "metadata": {
    "id": "cK5nyELgZESH"
   },
   "outputs": [
    {
     "name": "stdout",
     "output_type": "stream",
     "text": [
      "('P', 'Y', 'T', 'H', 'O', 'N')\n"
     ]
    }
   ],
   "source": [
    "# 문자열로 튜플 만들기\n",
    "chars =('P','Y','T','H','O','N')\n",
    "\n",
    "# 확인\n",
    "print(chars)   # ('P', 'Y', 'T', 'H', 'O', 'N')"
   ]
  },
  {
   "cell_type": "markdown",
   "metadata": {
    "id": "xSwd1FR-lnt-"
   },
   "source": [
    "### 4.1.2.리스트 vs. 튜플\n",
    "\n",
    "- 리스트와 튜플의 차이는 사용하는 괄호가 다르며, 튜플은 요소를 변경할 수 없다고 했습니다.\n",
    "- 튜플이 요소를 변경할 수 없다는 것을 확인해 봅니다.\n",
    "- 우선 다음과 같이 리스트를 만들고 요소 하나를 변경합니다."
   ]
  },
  {
   "cell_type": "code",
   "execution_count": 28,
   "metadata": {
    "id": "beMAM7KNlnt_"
   },
   "outputs": [
    {
     "name": "stdout",
     "output_type": "stream",
     "text": [
      "[99, 2, 3, 4, 5]\n"
     ]
    }
   ],
   "source": [
    "# 리스트 만들기\n",
    "a = [1, 2, 3, 4, 5]\n",
    "\n",
    "# 요소 변경\n",
    "a[0] = 99\n",
    "\n",
    "# 확인\n",
    "print(a)"
   ]
  },
  {
   "cell_type": "markdown",
   "metadata": {
    "id": "3JGNvAg8lnt_"
   },
   "source": [
    "- 다음과 같이 튜플을 만들고 요소 하나를 변경합니다.\n",
    "- 리스트와는 달리 요소를 변경할 수 없다는 오류가 발생합니다."
   ]
  },
  {
   "cell_type": "code",
   "execution_count": 30,
   "metadata": {
    "id": "oWCTlETYlnt_"
   },
   "outputs": [
    {
     "ename": "TypeError",
     "evalue": "'tuple' object does not support item assignment",
     "output_type": "error",
     "traceback": [
      "\u001b[1;31m---------------------------------------------------------------------------\u001b[0m",
      "\u001b[1;31mTypeError\u001b[0m                                 Traceback (most recent call last)",
      "Cell \u001b[1;32mIn[30], line 5\u001b[0m\n\u001b[0;32m      2\u001b[0m b \u001b[38;5;241m=\u001b[39m (\u001b[38;5;241m1\u001b[39m, \u001b[38;5;241m2\u001b[39m, \u001b[38;5;241m3\u001b[39m, \u001b[38;5;241m4\u001b[39m, \u001b[38;5;241m5\u001b[39m)\n\u001b[0;32m      4\u001b[0m \u001b[38;5;66;03m# 요소 변경\u001b[39;00m\n\u001b[1;32m----> 5\u001b[0m b[\u001b[38;5;241m0\u001b[39m] \u001b[38;5;241m=\u001b[39m\u001b[38;5;241m99\u001b[39m\n\u001b[0;32m      7\u001b[0m \u001b[38;5;28mprint\u001b[39m(b)\n",
      "\u001b[1;31mTypeError\u001b[0m: 'tuple' object does not support item assignment"
     ]
    }
   ],
   "source": [
    "# 튜플 만들기\n",
    "b = (1, 2, 3, 4, 5)\n",
    "\n",
    "# 요소 변경\n",
    "b[0] =99 # 튜플은 요소를 바꿀 수 없다\n",
    "\n",
    "print(b)\n"
   ]
  },
  {
   "cell_type": "markdown",
   "metadata": {
    "id": "spAPMqyBlnt_"
   },
   "source": [
    "<img src='https://raw.githubusercontent.com/Jangrae/img/master/tuple.png' width=500 align=\"left\"/>"
   ]
  },
  {
   "cell_type": "markdown",
   "metadata": {
    "id": "EbNc2XYP7vT-"
   },
   "source": [
    "### 4.1.3.튜플 활용\n",
    "\n",
    "- **괄호를 생략**할 수 있는 튜플의 특징을 이용하면 편리한 부분이 있습니다."
   ]
  },
  {
   "cell_type": "code",
   "execution_count": 32,
   "metadata": {
    "id": "qmYBpbHj7zhz"
   },
   "outputs": [
    {
     "data": {
      "text/plain": [
       "(10, 20)"
      ]
     },
     "execution_count": 32,
     "metadata": {},
     "output_type": "execute_result"
    }
   ],
   "source": [
    "# 괄호 없이 튜플 만들기\n",
    "a = 10\n",
    "b = 20\n",
    "c = a, b\n",
    "\n",
    "# 확인\n",
    "c"
   ]
  },
  {
   "cell_type": "markdown",
   "metadata": {
    "id": "iEtdJyGbJb6L"
   },
   "source": [
    "- 우선 여러 변수에 동시에 값을 대입할 수 있습니다."
   ]
  },
  {
   "cell_type": "code",
   "execution_count": 35,
   "metadata": {
    "id": "p4zIUWYW78N6"
   },
   "outputs": [
    {
     "name": "stdout",
     "output_type": "stream",
     "text": [
      "a = 10\n",
      "b = 20\n",
      "c = 30\n"
     ]
    }
   ],
   "source": [
    "# 여러 변수에 동시에 값 대입\n",
    "a, b, c = 10, 20, 30\n",
    "print('a =', a)\n",
    "print('b =', b)\n",
    "print('c =', c)"
   ]
  },
  {
   "cell_type": "code",
   "execution_count": 37,
   "metadata": {
    "id": "SK92fcs68bqN"
   },
   "outputs": [
    {
     "name": "stdout",
     "output_type": "stream",
     "text": [
      "a = 10\n",
      "b = 20\n",
      "c = (1, 2, 3)\n"
     ]
    }
   ],
   "source": [
    "# 여러 변수에 동시에 값 대입(튜플 포함)\n",
    "a, b, c = 10, 20, (1, 2, 3)\n",
    "print('a =', a)\n",
    "print('b =', b)\n",
    "print('c =', c)"
   ]
  },
  {
   "cell_type": "markdown",
   "metadata": {
    "id": "ATbxIAUqJUR0"
   },
   "source": [
    "- 두 변수의 값을 교환할 수 있습니다."
   ]
  },
  {
   "cell_type": "code",
   "execution_count": 43,
   "metadata": {
    "id": "vm-DdWRQGuiK"
   },
   "outputs": [
    {
     "name": "stdout",
     "output_type": "stream",
     "text": [
      "a = 10 b = 20\n",
      "a = 20 b = 10\n"
     ]
    }
   ],
   "source": [
    "# 변수 값 서로 변경\n",
    "a, b = 10, 20\n",
    "print('a =', a, 'b =', b)\n",
    "a, b = b , a\n",
    "print('a =', a, 'b =', b)"
   ]
  },
  {
   "cell_type": "markdown",
   "metadata": {
    "id": "-ojaHPWMJPhx"
   },
   "source": [
    "- 함수 리턴값을 두 변수에 대입할 수 있습니다."
   ]
  },
  {
   "cell_type": "code",
   "execution_count": null,
   "metadata": {
    "id": "_mpTzUEMZ2Us"
   },
   "outputs": [],
   "source": [
    "# 튜플 사용\n",
    "a, b = 45, 20\n",
    "x, y = divmod(a, b)\n",
    "print(x, y)"
   ]
  },
  {
   "cell_type": "markdown",
   "metadata": {
    "id": "x-PYq0N7ibFy"
   },
   "source": [
    "## 4.2.튜플 인덱싱과 슬라이싱\n",
    "\n",
    "- 앞에서 다룬 리스트와 방법과 결과가 같으니 쭈~욱 보고 넘기면 됩니다."
   ]
  },
  {
   "cell_type": "markdown",
   "metadata": {
    "id": "igWPlCbS2HXX"
   },
   "source": [
    "**1) 튜플 인덱싱**"
   ]
  },
  {
   "cell_type": "code",
   "execution_count": 45,
   "metadata": {
    "id": "LL8H271sikHu"
   },
   "outputs": [
    {
     "name": "stdout",
     "output_type": "stream",
     "text": [
      "85\n"
     ]
    }
   ],
   "source": [
    "# 2번째 요소 확인\n",
    "score = (90, 85, 70, 95)\n",
    "\n",
    "# 확인\n",
    "print(score[1])"
   ]
  },
  {
   "cell_type": "code",
   "execution_count": 47,
   "metadata": {
    "id": "gFM4X-91itHg"
   },
   "outputs": [
    {
     "name": "stdout",
     "output_type": "stream",
     "text": [
      "('A', 'B', 'D', 'F')\n"
     ]
    }
   ],
   "source": [
    "# 4번째 요소인 튜플 확인\n",
    "score = (90, 85, 70, ('A', 'B', 'D', 'F'))\n",
    "\n",
    "# 확인\n",
    "print(score[3])"
   ]
  },
  {
   "cell_type": "code",
   "execution_count": 49,
   "metadata": {
    "id": "sz5Sv4hYizRw"
   },
   "outputs": [
    {
     "name": "stdout",
     "output_type": "stream",
     "text": [
      "B\n"
     ]
    }
   ],
   "source": [
    "# 4번째 요소 튜플의 요소 확인\n",
    "score = (90, 85, 70, ('A', 'B', 'D', 'F'))\n",
    "\n",
    "# 확인\n",
    "\n",
    "\n",
    "print(score[3][1])"
   ]
  },
  {
   "cell_type": "markdown",
   "metadata": {
    "id": "tQzXkWRxi5uE"
   },
   "source": [
    "**2) 튜플 슬라이싱**"
   ]
  },
  {
   "cell_type": "code",
   "execution_count": 51,
   "metadata": {
    "id": "sekd1UcZi8yg"
   },
   "outputs": [
    {
     "data": {
      "text/plain": [
       "(85, 70, 95)"
      ]
     },
     "execution_count": 51,
     "metadata": {},
     "output_type": "execute_result"
    }
   ],
   "source": [
    "# 2번째 요소부터 끝까지\n",
    "score = (90, 85, 70, 95)\n",
    "\n",
    "# 확인\n",
    "score[1:]"
   ]
  },
  {
   "cell_type": "markdown",
   "metadata": {
    "id": "hnkogCjjjNrA"
   },
   "source": [
    "## 4.3.튜플 연산\n",
    "\n",
    "- 연산 방법과 결과가 앞에서 다룬 리스트와 같으니 역시 쭈~욱 넘기면 됩니다."
   ]
  },
  {
   "cell_type": "code",
   "execution_count": 53,
   "metadata": {
    "id": "0OT8eI7CjM0x"
   },
   "outputs": [
    {
     "data": {
      "text/plain": [
       "(90, 85, 70, 95, 80, 85, 65, 90)"
      ]
     },
     "execution_count": 53,
     "metadata": {},
     "output_type": "execute_result"
    }
   ],
   "source": [
    "# 두 개의 튜플 더하기\n",
    "score1 = (90, 85, 70, 95)\n",
    "score2 = (80, 85, 65, 90)\n",
    "score3 = score1+ score2\n",
    "\n",
    "# 확인\n",
    "score3"
   ]
  },
  {
   "cell_type": "code",
   "execution_count": 57,
   "metadata": {
    "id": "GmeSA1MHjdB0"
   },
   "outputs": [
    {
     "data": {
      "text/plain": [
       "(80, 85, 65, 90, 90, 85, 70, 95, 90, 85, 70, 95)"
      ]
     },
     "execution_count": 57,
     "metadata": {},
     "output_type": "execute_result"
    }
   ],
   "source": [
    "# 튜플 요소 여러 번 반복\n",
    "score1 = (90, 85, 70, 95)\n",
    "score2 += score1\n",
    "\n",
    "# 확인\n",
    "score2"
   ]
  },
  {
   "cell_type": "code",
   "execution_count": null,
   "metadata": {},
   "outputs": [],
   "source": []
  }
 ],
 "metadata": {
  "colab": {
   "provenance": []
  },
  "kernelspec": {
   "display_name": "Python 3 (ipykernel)",
   "language": "python",
   "name": "python3"
  },
  "language_info": {
   "codemirror_mode": {
    "name": "ipython",
    "version": 3
   },
   "file_extension": ".py",
   "mimetype": "text/x-python",
   "name": "python",
   "nbconvert_exporter": "python",
   "pygments_lexer": "ipython3",
   "version": "3.12.4"
  }
 },
 "nbformat": 4,
 "nbformat_minor": 4
}
