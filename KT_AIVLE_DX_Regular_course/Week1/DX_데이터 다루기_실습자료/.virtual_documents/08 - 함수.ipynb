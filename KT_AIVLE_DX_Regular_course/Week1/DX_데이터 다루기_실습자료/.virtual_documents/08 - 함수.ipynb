














# 함수 만들기
def hello():
    print('안녕하세요? 반갑습니다!')

# 함수 사용하기
hello()





# 함수 만들기
def hello(name):
    print(f'{name}님 안녕하세요? 반갑습니다!')

# 함수 사용
hello('홍길동')








# 함수 만들기
def hello(name='여러분'):
    print(f'{name}님 안녕하세요? 반갑습니다!')

# 함수 사용
hello('홍길동')
hello()






















# 함수 만들기
def hello(name, loud=1):
    if loud == 1:
        print(f'우~~와~~ {name}님 안녕하세요? 반갑습니다!!!')
    else:
        print(f'{name}님 안녕하세요? 반가워요.')

# 함수 사용
hello(name='홍길동', loud=1)   # 매개변수 이름 = 값 으로 지정
hello(loud=0, name='홍길동')   # 매개변수 이름으로 지정하면 순서 변경 가능
hello('홍길동', 0)             # 매개변수 순서에 맞게 값을 넣으면 매개변수 이름 생략 가능
hello('홍길동')                # 함수 생성 시 loud = 1 로 선언했으므로, 안쓰면 기본값 1이 입력됨





# 함수 만들기
def hello(*args):
    for who in args:
        print(f'{who}님 안녕하세요? 반갑습니다!')

# 함수 사용
hello('홍길동', '일지매', '강우동')





# 함수 만들기
def hello(title, *args):
    for who in args:
        print(f'{who}{title} 안녕하세요? 반갑습니다!')

# 함수 사용
hello('선생님', '홍길동', '일지매', '강우동')





# 함수 만들기
def hello(title, *args):
    for who in args:
        print(f'{who}{title} 안녕하세요? 반갑습니다!')

# 함수 사용(오류)
hello(title='선생님', '홍길동', '일지매', '강우동')





# 함수 만들기
def hello(*args, title):
    for who in args:
        print(f'{who}{title} 안녕하세요? 반갑습니다!')

# 함수 사용(오류)
hello('홍길동', '일지매', '강우동', '선생님')





# 함수 만들기
def hello(*args, title):
    for who in args:
        print(f'{who}{title} 안녕하세요? 반갑습니다!')

# 함수 사용
hello('홍길동', '일지매', '강우동', title='선생님')








# 함수 만들기






# 함수 사용
summ(1, 4, 3, 5)





# 함수 만들기
def calculate1(a, b):
    summ = a + b
    return summ

# 함수 사용
r1 = calculate1(10, 5)
print(r1)





# 함수 만들기
def calculate1(a, b):
    summ = a + b
    print(summ)

# 함수 사용
r1 = calculate1(10, 5)
print(r1)





# 함수 만들기
def calculate2(a, b):
    summ = a + b
    mult = a * b
    return summ, mult

# 함수 사용
r1, r2 = calculate2(10, 5)
print(r1)
print(r2)








# 함수 만들기




# 함수 사용
r1, r2 = divide2(10, 5)
print(r1)
print(r2)





# 함수 만들기
def divide(a, b) :
    result = a / b
    return result

# 함수 사용
divide(10, 0)





# 함수 만들기
def divide(a, b) :
    if b == 0 :
        print('나누는 값이 0이 될 수 없습니다.')
        return
    else :
        result = a / b
        return result

# 함수 사용
divide(10, 0)





# 데이터 형식 확인
a = 123
print(type(a) == int)

b = 'abc'
print(type(b) is str)

c = [1, 2, 3]
print(type(c) is list)

d = {'v': 23}
print(type(d) == dict)





# 함수 만들기
def divide(a, b) :
    if b == 0 :
        print('나누는 값이 0이 될 수 없습니다.')
    elif (type(a) != int) or (type(b) != int):
        print('정수 연산만 가능합니다.')
    else:
        result = a / b
        return result

# 함수 사용
divide(10, 0)
divide(10, 'ab')
divide(10, 2)








a = -123.45
abs(a)





a = [1, 2, 3, 4, 5]
all(a)


a = [0, 1, 2, 3, 4]
all(a)





a = [0, 1, 2, 3, 4]
any(a)





chr(65)


chr(97)





a = [1, 2, 3]
dir(a)


a = [1, 2, 3]
b = [x for x in dir(a) if x[0] != '_']
print(b)





a = 32
b = 5
divmod(a, b)


a = 32
b = 5
c, d = divmod(a, b)
print('몫:', c, '나머지:', d)





a = [1, 2, 3]
for idx, name in enumerate(a):
    print(idx, name)





eval('10 + 20')


eval('print("ABC")')





def ucase(s):
    return s == s.upper() and s != ' '

a = 'I Have a Dream'
list(filter(ucase, a))


a = 'I Have a Dream'
list(filter(lambda x: x == x.upper() and x != ' ', a))





a = 100
id(a)


b = a
id(b)





a = input()
print('입력 값', a)





a = int(124.6)
a


a = 123 + int('456')
a





a = list('PYTHON')
print(isinstance(a, tuple))
print(isinstance(a, list))





a = 'I have a Dream'
len(a)


b = [1, 2, 3, 4, 5]
len(b)





a = '1234567890'
b = list(a)
b





a = [1, 2, 3, 4, 5]
b = list(map(lambda x: x * 2, a))
b





a = [1, 2, 3, 4, 5]
max(a)





a = [1, 2, 3, 4, 5]
min(a)





ord('A')





pow(5, 3)





print(list(range(10)))
print(list(range(1, 11)))
print(list(range(1, 11, 2)))





a = [3, 2, 4, 5, 1]
a = sorted(a)
a





a = 123
b = str(a) + '입니다.'
b





a = [1, 2, 3, 4, 5]
sum(a)





a = '1234567890'
b = tuple(a)
b





a = [1, 2, 3, 4, 5]
b = [10, 20, 30, 40]
list(zip(a, b))
