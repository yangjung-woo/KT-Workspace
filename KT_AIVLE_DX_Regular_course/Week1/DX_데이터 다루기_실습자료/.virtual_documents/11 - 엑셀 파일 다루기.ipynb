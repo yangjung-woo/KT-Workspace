











# 라이브러 불러오기
import openpyxl as xl





# 워크북 오브젝트를 선언(엑셀 파일 열기)
wb = xl.load_workbook('Fruit.xlsx')





# 시트 이름 확인
wb.sheetnames














# 시트 선택
sheet1 = wb['Sheet1']





# 셀 이름으로 셀 값 확인
sheet1['A1'].value





# 행과 열 번호로 셀 값 확인
sheet1.cell(row=1, column=1).value





# 데이터 영역 확인
print(sheet1.min_row, sheet1.max_row)        # 시작 행, 끝 행
print(sheet1.min_column, sheet1.max_column)  # 시작 열, 끝 열








# Banana 읽기
print(sheet1['A2'].value)
# 또는
print(sheet1.cell(2,1).value)





# green 읽기
print(sheet1['B3'].value)

# 또는
print(sheet1.cell(3,2).value)





# 과일 이름 출력
for f in range(1, 5):
    print(sheet1.cell(row=f, column=1).value)









# Apple --> Pineapple 변경
# sheet1.cell(row=1, column=1).value = 'Pineapple'
sheet1['A1'].value = 'Pineapple'


# 셀 값 확인
sheet1.cell(row=1, column=1).value





# 엑셀 파일 저장
wb.save('Fruit.xlsx')








# red --> yellow 변경

wb = xl.load_workbook('Fruit.xlsx')
wb['Sheet1'].cell(row=1,column=2).value ='yellow' 
# 엑셀 파일 저장

wb.save('Fruit.xlsx')
# 셀 값 확인

print(wb['Sheet1'].cell(row=1, column =2 ).value)











# 엑셀 파일 열기
wb = xl.load_workbook("Animal.xlsx")

# 시트 지정
sheet1 = wb['Sheet1']

# 셀 값 확인
print(sheet1.cell(1, 1).value, sheet1.cell(1, 2).value)
print(sheet1.cell(2, 1).value, sheet1.cell(2, 2).value)
print(sheet1.cell(3, 1).value, sheet1.cell(3, 2).value)


# 다른 표기 방식
# 엑셀 파일 열기
wb = xl.load_workbook("Animal.xlsx")

# 시트 지정
sheet1 = wb['Sheet1']

# 셀 값 확인
print(sheet1['A1'].value, sheet1['B1'].value)
print(sheet1['A2'].value, sheet1['B2'].value)
print(sheet1['A3'].value, sheet1['B3'].value)





# 행 추가
sheet1.insert_rows(2) # None None 삽입 

# 셀 값 확인
print(sheet1.cell(1, 1).value, sheet1.cell(1, 2).value)
print(sheet1.cell(2, 1).value, sheet1.cell(2, 2).value)
print(sheet1.cell(3, 1).value, sheet1.cell(3, 2).value)

# 저장
#wb.save('Animal.xlsx')





# 행 삭제
sheet1.delete_rows(2)

# 셀 값 확인
print(sheet1.cell(1, 1).value, sheet1.cell(1, 2).value)
print(sheet1.cell(2, 1).value, sheet1.cell(2, 2).value)
print(sheet1.cell(3, 1).value, sheet1.cell(3, 2).value)

# 저장
#wb.save('Animal.xlsx')



