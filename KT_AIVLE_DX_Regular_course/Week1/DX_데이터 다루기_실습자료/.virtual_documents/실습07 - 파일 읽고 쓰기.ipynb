


































































































# 패키지 설치합
!pip install wordcloud



# 파일 읽기
file = open('Files/trump.txt', 'r', encoding='UTF-8')
text = file.read()
file.close()

# 확인(100 글자만)
text[:100]

# 공백을 구분자로 하여 단어 단위로 자르기
wordList = text.split() # 공백 , 줄바꿈 , 탭 포함

# 확인(10 개만)
wordList[:10]

# 중복 단어 제거
worduniq = set(wordList)
'''
for w in wordList:
    if w not in worduniq:
        worduniq.append(w)
'''

# 딕셔너리 선언
wordCount = {}

# 단어별 개수 저장
for w in worduniq:
    wordCount[w] = wordList.count(w)

# 제외 대상 조사
del_word = ['은','는','이','가', '또한','그리고','같은','나는','저','어쩌면','하지만','오늘날', '그','있습니다.','함께'
           , '것입니다','하는','감사합니다.','것입니다.','우리는','가장','있는','수']

# 제외하기
for d in del_word:
    if d in wordCount:
        del wordCount[d]





# 라이브러리 불러오기
import matplotlib.pyplot as plt
from wordcloud import WordCloud
import numpy as np
from PIL import Image
%config InlineBackend.figure_format='retina'


# 이미지 불러오기
masking_image = np.array(Image.open('Files/bird.jpg'))

# 워드 클라우드 만들기
wordcloud = WordCloud(font_path = 'C:/Windows/fonts/HMKMRHD.TTF',
                      width=2000,
                      height=1000,
                      mask=masking_image,
                      background_color='white').generate_from_frequencies(wordCount)# wordCount 입력

# 표시하기
plt.figure(figsize=(12, 6))
plt.imshow(wordcloud)# wordcloud 입력
plt.axis("off")
plt.tight_layout(pad=0)
plt.savefig('트럼프대통령_내한연설_양정우.png')
plt.show()




