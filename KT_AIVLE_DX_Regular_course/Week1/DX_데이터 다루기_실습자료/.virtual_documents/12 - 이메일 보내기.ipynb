








# 라이브러리를 불러오기
import smtplib
from email.mime.text import MIMEText





# smtp 주소
s = smtplib.SMTP('smtp.gmail.com', 587)

# TLS 보안 시작
s.starttls()

# 로그인 인증
s.login('yjw7720@gmail.com', 'czdx hhxw jwyu bibe')





# 본문
msg = MIMEText('''
9월 11일 엑셀 실습한 거 전송한다. 오늘 고생했다. 
''')

# 제목
msg['Subject'] = '9월 11일 xlsx 실습 전송'






# 메일 보내기
s.sendmail('anunymous@anonymous.com', 'yjw7720@gmail.com', msg.as_string())
s.quit()






