








# 홈 디렉터리 확인
from pathlib import Path

print(Path.home())





# 작업 디렉터리 확인
from pathlib import Path

print(Path.cwd())





# 디렉터리 내용 확인
from pathlib import Path

files = Path.cwd().glob('*')

for f in files:
     print(f)








# 파일 열기
f = open('MyFile.txt', 'w')

# 파일 쓰기
f.write('안녕하세요?\n')

# 파일 닫기
f.close()





# 디렉터리 만들기
Path('Files').mkdir(exist_ok=True)





# 파일 열기
f = open('Files/MyFile.txt', 'w')

# 파일 쓰기
f.write('모두들 안녕하세요?\n')

# 파일 닫기
f.close()





# 파일 열기
f = open('MyFile.txt', 'r')

# 내용 읽기
print(f.read())

# 파일 닫기
f.close()





# 파일 열기
f = open('Files/MyFile.txt', 'r')

# 내용 읽기
print(f.read())

# 파일 닫기
f.close()





# 파일 열기
f = open('MyFile.txt', 'a')

# 내용 추가
f.write('만나서 반갑습니다!')

# 파일 닫기
f.close()





# 파일 열기
f = open('MyFile.txt', 'r')
print(f.read())
f.close()





# 파일 열기
f = open('MyFile.txt', 'x')

# 내용 쓰기
f.write('만나서 반갑습니다!')

# 파일 닫기
f.close()





# 오류 핸들링
try:
    f = open('MyFile.txt', 'x')
    f.write('만나서 반갑습니다!')
    f.close()
except FileExistsError:     #  이미 파일이 있으면
    print('같은 이름의 파일이 있습니다.')
else:                       # 그렇지 않으면
    print('파일 쓰기 성공했습니다.')
finally:                    # 마무리
    print('수고하셨습니다.')








# 파일 열기
# 파일 열기
f = open('Files/Python.txt', 'w')

# 파일 닫기
f.close()





# 파일 생성
f = open('Files/Python.txt', 'w')
# 내용 쓰기 
f.write('<파이썬과 나>\n시인:양정우\n')
# 파일 닫기
f.close()







# 파일 열기
f = open('Files/Python.txt', 'a')

# 내용 추가

f.write('''어느날
파이썬이 나에게 왔다.
많이 낯설었다.
지금은 나와 하나가 되었다.
파이썬이 나고,
내가 파이썬이다.''')

# 파일 닫기
f.close()



# 파일 열기
f = open('Files/Python.txt', 'r')

# 내용 추가

print(f.read())

# 파일 닫기
f.close()








# 파일 여러 줄 쓰기
hello = ['안녕하세요?\n', '만나서 반갑습니다!\n', '우리 사이좋게 잘 지내요.\n']
f = open('MyFile.txt', 'w')
f.writelines(hello)
f.close()





# 파일 읽기
f =  open('MyFile.txt', 'r')
print(f.read())
f.close()





# 파일 한 번에 읽기
f = open('MyFile.txt', 'r')
result = f.readlines()
f.close()

# 내용 확인
print(result)


# 반복문으로 한 행씩 표시
for txt in result:
    print(txt, end='')





# 파일 읽기
f = open('MyFile.txt', 'r')

# 내용 읽기
print(f.readline())
print(f.readline())
print(f.readline())

# 파일 닫기
f.close()





# 파일 읽기
f = open('MyFile.txt', 'r')
result = f.readline()

# 반복문으로 한 행씩 읽어 표시
while result:
    print(result, end='')
    result = f.readline()

# 파일 닫기
f.close()

















# 파일 읽기
file = open('Dream.txt', 'r', encoding='UTF-8')
text = file.read()
file.close()

# 확인(100 글자만)
text[:100]





# 공백을 구분자로 하여 단어 단위로 자르기
wordList = text.split() # 공백

# 확인(10 개만)
wordList[:10]





# 중복 단어 제거
worduniq = set(wordList)
'''
for w in wordList:
    if w not in worduniq:
        worduniq.append(w)
'''

# 딕셔너리 선언
wordCount = {}

# 단어별 개수 저장
for w in worduniq:
    wordCount[w] = wordList.count(w)

print(wordCount['the'])
# 제외 대상 조사
del_word = ['the','a','is','are', 'not','of','on','that','this','and','be','to', 'from']

# 제외하기
for d in del_word:
    if d in wordCount:
        del wordCount[d]

print(wordCount)







# 패키지 설치합
!pip install wordcloud





# 라이브러리 불러오기
import matplotlib.pyplot as plt
from wordcloud import WordCloud
%config InlineBackend.figure_format='retina'

# 워드 클라우드 만들기
wordcloud = WordCloud(font_path = 'C:/Windows/fonts/HMKMRHD.TTF',
                      width=2000,
                      height=1000,
                      background_color='white').generate_from_frequencies(dict(wordCount))

# 표시하기
plt.figure(figsize=(12, 6))
plt.imshow(    )
plt.axis("off")
plt.tight_layout(pad=0)
plt.show()








# 제외 대상 조사


# 제외하기





# 워드 클라우드 그리기








# 라이브러리 불러오기
import numpy as np
from PIL import Image

# 이미지 불러오기
masking_image = np.array(Image.open('  ?  '))

# 워드 클라우드 만들기
wordcloud = WordCloud(font_path = 'C:/Windows/fonts/HMKMRHD.TTF',
                      width=2000,
                      height=1000,
                      mask=masking_image,
                      background_color='white').generate_from_frequencies(wordCount)

# 표시하기
plt.figure(figsize=(12, 6))
plt.imshow(wordcloud)
plt.axis("off")
plt.tight_layout(pad=0)
plt.show()
