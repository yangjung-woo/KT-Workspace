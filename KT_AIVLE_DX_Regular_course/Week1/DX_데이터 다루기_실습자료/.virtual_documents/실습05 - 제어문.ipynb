











score = 100

if score >= 90:
    print('pass')








age = 32

if age < 10:
    print('10세 미만')
elif age < 20:
    print('10대')
elif age < 30:
    print('20대')
elif age < 40:
    print('30대')
elif age < 50:
    print('40대')

else:
    print('50대 이상')





score = 55

if (90 <= score):
    print('A')
elif (80 <= score < 90):
    print('B')
elif (70 <= score < 80):
    print('C')
elif (60 <= score < 70):
    print('D')
else:
    print('F')






num1 = 121

if num1 %11 ==0:
    print('11의 배수입니다.')
else:
    print('11의 배수가 아닙니다.')










for i in range(6):
    print(i)









for i in range(6):
    print('*'*i)







n = 6
for i in range(n):
    print(' '*(n-1-i)+'*'*i)









for i in range(6):
    if i%2 == 1:
        print('*'*i)
    else:
        print('%'*i)








s = 0
for i in range(1,101):
    s += i
print(s)








s = 0
for i in range(1,101):
    if i %2 ==1:
        s += i
print(s)









s = 0
for i in range(1,101):
    if i %2 ==1:
        s += i
    else:
        s -= i
print(s)








for i in range(2,10):
    print(f'구구단 {i} 단을 출력합니다.')
    for j in range(1,10):
        print(f'{i} x {j} = {i*j}')









i = 0
while i <=5:
    print(i)
    i += 1









i = 1
s= 0
while i <=100:
    if i %3 ==0:
        s += i

    i += 1
print(s)







num = 3

s = input()

while num >0:
    print(s)
    num -=1









kor = 96
math = 72
eng = 88

while True:
    sub = input()
    if sub == 'kor':
        print(f'{sub} : {kor}')
        break
    elif sub == 'math':
        print(f'{sub} : {math}')
        break
    elif sub == 'eng':
        print(f'{sub} : {eng}')
        break
    else:
        print('잘못 입력했습니다 다시 입력해주세요')






money = 5000
coffee = 1300

while True:
    print('아메리카노를 구입하시겠습니까?')
    answer = input()
    if answer == '네':
        money -= coffee
        if money >= 0:
            print(f'남은 금액:{money}')
        else:
            print('돈이 모자랍니다. 커피를 구입할 수 없습니다 Bye~')
            break
    else:
        print('다시 입력해 주세요.')
        
    









a = ['사자', '코끼리', '하마', '기린', '얼룩말']

for i in a:
    print(i)







b = ['인어공주', '알라딘', '겨울왕국', '라푼젤']
b.append('라이언킹')

for i in b:
    print(i)








multiple7 = []

for i in range(1,101):
    if i %7 ==0:
        multiple7.append(i)
print(multiple7)






my_list = []

#my_list = map(int,input().split())

for i in range(5):
    my_input = int(input())
    my_list.append(my_input)
    
print(sorted(my_list))






dict_a = {'v1': 32, 
          'l1': [1,2,3], 
          'd1': {'a':1, 'b':2}}

for (key , value) in dict_a.items():
    print(f'{key} {value}')






# 과제1

icecream = {'메로나':[400,380],
            '비비빅':[400,350],
            '탱크보이':[500,450],
            '월드콘':[1000,900]}

# 과제2
# 오늘의 요일 확인
from datetime import datetime
dt = datetime.now()
week_num = dt.weekday()

if week_num == 0:
    today = '월'
elif week_num == 1:
    today = '화'
elif week_num == 2:
    today = '수'
elif week_num == 3:
    today = '목'
elif week_num == 4:
    today = '금'
elif week_num == 5:
    today = '토'
elif week_num == 6:
    today = '일'
else:
    today ='Error'

weekend = ['토', '일']
weekday = ['월','화','수','목','금']

if today in weekend:
    for key , value in icecream.items():
        print(f'{today}요일(주말) {key} 의 가격: {value[1]}')
else:
    for key , value in icecream.items():
        print(f'{today}요일(평일) {key} 의 가격: {value[0]}')




