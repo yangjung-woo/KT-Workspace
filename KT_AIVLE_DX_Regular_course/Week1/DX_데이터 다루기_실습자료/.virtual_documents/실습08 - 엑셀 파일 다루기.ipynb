











# 라이브러 불러오기
import openpyxl as xl
# 워크북 오브젝트를 선언(엑셀 파일 열기)
wb = xl.load_workbook('Fruit.xlsx')
# 시트 이름 확인
wb.sheetnames







sheet2 = wb['Sheet2']
print(sheet2['A1'].value)
print(sheet2['A2'].value)
print(sheet2['A3'].value)






print(sheet2.cell(row =1 ,column = 1).value ,sheet2.cell(row =1 ,column = 2).value )
print(sheet2.cell(row =2 ,column = 1).value ,sheet2.cell(row =2 ,column = 2).value )









print(sheet2.min_row)
print(sheet2.max_row)

print(sheet2.min_column)
print(sheet2.max_column)






sheet2.cell(row =1 ,column = 1).value = 'Pineapple'
sheet2.cell(row =1 ,column = 2).value = 'yellow'

print(sheet2.cell(row =1 ,column = 1).value ,sheet2.cell(row =1 ,column = 2).value )

# 저장은 하지 않는다 
#wb.save('Animal.xlsx')







# 행 추가
max_stap = sheet2.max_row+1
sheet2.insert_rows(max_stap)

sheet2.cell(row =max_stap,column=1).value = 'Orange'
sheet2.cell(row =max_stap,column=2).value = 'orange'

# 하드코딩
sheet2.cell(row =4,column=1).value = 'Orange'
sheet2.cell(row =4,column=2).value = 'orange'


print(sheet2['A1'].value,sheet2['B1'].value)
print(sheet2['A2'].value,sheet2['B2'].value)
print(sheet2['A3'].value,sheet2['B3'].value)
print(sheet2['A4'].value,sheet2['B4'].value)







wb.save('Fruit2.xlsx')








l1 = [['Strawberry', 'red'],['Grape', 'purple'],['Kiwi', 'green']]

max_step = sheet2.max_row +1
for i in l1:
    # sheet2.insert_rows(max_step) 빈칸 삽입 
    sheet2.cell(row =max_step,column=1).value = i[0]
    sheet2.cell(row =max_step,column=2).value = i[1]
    max_step += 1 
    

wb.save('Fruit4.xlsx')






# 워크북 오브젝트를 선언(엑셀 파일 열기)

for i in range(0,7):
    sheet2.cell(i+1,3).value = i

wb.save('Fruit5.xlsx')







#wb2 = xl.load_workbook('Fruit5.xlsx')

for i in range(sheet2.max_row):
    sheet2.cell(row= i+1 , column = 1).value = sheet2.cell(row= i+1 , column = 1).value.lower()
    sheet2.cell(row= i+1 , column = 2).value = sheet2.cell(row= i+1 , column = 2).value[0:3]

wb.save('Fruit6.xlsx')




