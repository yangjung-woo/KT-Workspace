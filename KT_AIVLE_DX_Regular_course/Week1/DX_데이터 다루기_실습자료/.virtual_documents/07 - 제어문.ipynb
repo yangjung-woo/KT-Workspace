














# 변수 선언
my_score = 73

# 80보다 크거나 같으면 10 더하기
if my_score >= 80:
    my_score += 10


# 결과 출력
print(my_score)


# 리스트 만들기
score_list = [75, 80, 70, 95, 90]

# 리스트에 요소가 있으면 출력, 없으면 말고
if score_list:
    print(score_list)






# 변수 선언
my_score = 73

# 80보다 크거나 같으면 Pass, 아니면 Fail

if my_score >= 80:
    my_result = 'Pass'
else:
    my_result = 'Fail'

# 결과 출력
print(my_result)


# 리스트 만들기
score_list = [75, 80, 70, 95, 90]

# 리스트에 요소가 있으면 출력, 없으면 '요소 없음' 출력
if score_list:
    print(score_list)

else:
    print('요소 없음')








# 리스트 만들기
score_list = [75, 80, 70, 95, 90]

# 한 줄로 작성하기
if score_list: print(score_list)
else: print('요소 없음')





# 리스트 만들기
score_list = [75, 80, 70, 95, 90]

# 우선 pass
if score_list:
    pass
else:
    print('요소 없음')





# 변수 선언
my_score = 76

# 점수에 따른 학점 주기
if my_score >= 90:
    my_grade = 'A'
elif my_score >= 80:
    my_grade = 'B'
elif my_score >= 70:
    my_grade = 'C'
elif my_score >= 60:
    my_grade = 'D'
else:
    my_grade = 'F'

# 결과 출력
print(my_grade)








# 오늘의 요일 확인
from datetime import datetime

dt = datetime.now()
week_num = dt.weekday()

print(week_num)


# 숫자로된 요일이 '월' ~ '일' 문자로 표시되게 조건문 작성
if week_num == 0:
    week_str = '월'
elif week_num == 1:
    week_str = '화'
elif week_num == 2:
    week_str = '수'
elif week_num == 3:
    week_str = '목'
elif week_num == 4:
    week_str = '금'

elif week_num == 5:
    week_str = '토'

elif week_num == 6:
    week_str = '일'
else:
    week_str ='Error'
# 확인
print(week_str)





# 변수 선언
score1 = 72
score2 = 90
score3 = 76

my_score = score1

# 조건 처리

if my_score >= 90:
    my_grade = 'A+'
elif my_score >=85:
    my_grade = 'B+'
elif my_score >=80:
    my_grade = 'B'
elif my_score >=75:
    my_grade = 'C+'
elif my_score >=70:
    my_grade = 'C'
elif my_score >=60:
    my_grade = 'D'
else:
    my_grade = 'F'



# 확인
print(my_grade)





# 변수 선언
score1 = 60
score2 = 100
score3 = 76

mean_score = (score1 + score2 + score3 ) / 3

# 조건 처리
if score1 <=60 or score2<=60 or score3 <=60 or mean_score <=70:
    result = 'Fail'
else:
    result = 'Pass'

print(result)
    









score1 = 60
score2 = 100
score3 = 76

mean_score = (score1 + score2 + score3 ) / 3

# 조건 처리
if score1 <=60 or score2<=60 or score3 <=60 or mean_score <=70:
    result = 'Fail'
else:
    result = 'Pass'

print(result)
    







# 문자열의 문자 줄력
for i in 'PYTHON':
    print(i)


# 리스트 요소 출력
for i in [0, 1, 2, 3, 4]:
    print(i)


# range() 함수 사용해 범위 지정
print(range(5))
print(list(range(5)))


# 범위안의 값 출력
for i in range(5):
    print(i)


# if 문과 같이 사용(짝수만 출력)
MM = []
for i in range(5):
    if i %2 ==0:
        MM.append(i)

print(MM)




# 리스트 만들기
fruits = ['apple', 'banana', 'cherry']

# 리스트 요소 출력










# 1부터 10까지 짝수의 합
s = 0
for i in range(1, 11):
    if i %2 ==0:
        s = s + i

print('합 =', s)





# 1부터 100까지 합

s = 0
for i in range(1,101):
    s = s + i

print(s)







# 1부터 100까지 7의 배수

s = 0
for i in range(1,101):
    if i % 7 ==0:
        print(i)










# 리스트 만들기
member = ['홍길동', '한사랑', '일지매', '박여인', '강우동']

# 루프 돌면서 이름 출력
for i in member:
    print(i)






# '순번: 이름' 형태로 출력

for num , name in enumerate(member):
    print(num, name)



# 순번이 짝수인 경우만 '순번: 이름' 형태로 출력
for num , name in enumerate(member):
    if num %2 ==0:
        print(num,':', name)




# 문자열과 enumerate() 함수
for num , name in enumerate('member'):
    print(num, name)





# 리스트 만들기
nums = [0, 1, 2, 3, 4]

# 빈 리스트 만들기
squares = []

# 2를 제곱한 결과를 squares 리스트에 추가
for x in nums:
    squares.append(x ** 2)

# 확인
print(squares)


# 리스트 만들기
nums = [0, 1, 2, 3, 4]

# 반복문 확장 문법 #1
squares = [ i **2 for i in nums]

# 확인
print(squares)


# 리스트 만들기
nums = [0, 1, 2, 3, 4]

# 반복문 확장 문법 #2
# 반복문 + 조건문: 짝수인 값의 제곱을 구해서 even_squares 리스트에 넣기
even_squares =[i **2 for i in nums if i%2 ==0 ]

# 확인
print(even_squares)








# 리스트 만들기
my_nums = [10, 22, 30, 41, 56, 60, 71, 80, 90]

# 마지막에 100 추가
my_nums.append(100)

# 확인
print(my_nums)


# my_nums 리스트에서 10의 배수만을 뽑아 그 값을 10으로 나눈 정수값을 갖는 새로운 리스트 만들기
new_nums = [i //10 for i in my_nums if i%10 ==0]

# 확인
print(new_nums)





score = [75, 46, 93, -82, -77, 130, 100, 75, -10]

score01 = [i for i in score if i >=0]

print(score01)





score02 = [i for i in score01 if i<=100]

print(score02)





print(sum(score02))
print(sum(score02) / len(score02))





score03 = [i/10 for i in score02]
print(score03)





# 2번
score01 = [i for i in score if i >=0]
print(score01)

# 3번
score02 = [i for i in score01 if i<=100]
print(score02)

# 5번
score03 = [i/10 for i in score02]
print(score03)




a = list(range(11))
answer = [x for x in a if x %2 ==0 ]
print(answer)


a = list(range(11))
answer = [1 if x %2 ==0 else 0 for x in a]
print(answer)








# 딕셔너리 만들기
score = {'홍길동': 85, '한사랑': 95, '일지매': 90}

# key와 value 조회
for key in score:
    value = score[key]
    print('{}: {}'.format(key, value))





# items() 메서드 사용
for key, value in score.items():
    print('{}: {}'.format(key, value))









# 딕셔너리 만들기
score = {'홍길동': [85, 80, 90, 95],
         '한사랑': [95, 90, 80, 90],
         '일지매': [90, 70, 60, 80]}

for (key ,value) in score.items():
    print(f'{key}: {sum(value)}')

for key in score.keys():
    print(f'{key}: {sum(score[key])}')







# 딕셔너리 만들기
score = {'홍길동': 85, '한사랑': 95, '일지매': 90}

# 확인
print(score)


# 확장 문법 - 반복문 + 제어문
score_over_90 = {k : v for k, v in score.items() if v > 90}

# 확인
print(score_over_90)





# items() 메서드 사용 안하면
score_over_90 = {k: score[k] for k in score if score[k] > 90}

# 확인
print(score_over_90)








# 리스트와 같음
member_set = {'홍길동',  '한사랑', '일지매', '박여인'}

for mem in member_set:
    print(mem)





# enumerate() 함수 사용
member_set = {'홍길동',  '한사랑', '일지매', '박여인'}

for idx, mem in enumerate(member_set):
    print('{}: {}'.format(idx + 1, mem))








# 리스트 만들기
fruits = ['apple', 'banana', 'cherry']

# 요소 출력
print(fruits)








# 변수 선언
tot, i = 0, 0

# 100까지 짝수 합 구하기
while True:
    tot += i
    i +=1
    if i >100:
        break

print(tot)











# 변수 선언
tot, i = 0, 0

# 100까지 짝수 합 구하기
while True:
    i += 1
    if i > 100:
        break

    if i % 2 == 0:
        tot += i


# 확인
print(tot)





# 문자를 입력하면 continue, 0을 입력하면 break, 아니면 10으로 나눈 나머지 표시
while True:
    response = input('숫자를 입력하세요(0 = 종료):')
    if not response.isnumeric():
        continue
    if int(response) == 0:
        break
    result = int(response) % 10
    print("{} 나누기 10의 나머지는 {}입니다.".format(response, result))


text = 'Do your absolute best. Dream is come true'

# 알파벳 빈도수 측정 
dict_alphabet = {}
for t in text:
    if t in dict_alphabet.keys():
        dict_alphabet[t] += 1
    else:
        dict_alphabet[t] = 1

del dict_alphabet[' ']
del dict_alphabet['.']

print(dict_alphabet)


import matplotlib.pyplot as plt

plt.bar(dict_alphabet.keys(),dict_alphabet.values())
plt.title('Char counts')
plt.figure( figsize = (5,3))
plt.show()



