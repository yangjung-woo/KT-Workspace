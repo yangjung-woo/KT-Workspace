








# 라이브러리를 불러오기
import smtplib
from email.mime.text import MIMEText








s = smtplib.SMTP('smtp.gmail.com', 587)      # 세션 생성
s.starttls()                                 # TLS 보안 시작
s.login('yjw7720@gmail.com', 'czdx hhxw jwyu bibe')         # 로그인 인증





msg = MIMEText('대충 내용을 작성했음')
msg['Subject'] = '심화 실습'





s.sendmail('yjw7720@gmail.com', 'yjw7720@gmail.com', msg.as_string())
s.quit()





# 현재 시스템 날짜와 시간을 조회
from datetime import datetime, timedelta

print('현재 날짜 시간:', datetime.today())
print('현재 연도:', datetime.today().year)
print('현재 월:', datetime.today().month)
print('현재 일:', datetime.today().day)
print('현재 요일:', datetime.today().weekday())   # 0: 월요일 ~ 6: 일요일
print('내일:', datetime.today() + timedelta(1))





s = smtplib.SMTP('smtp.gmail.com', 587)      # 세션 생성
s.starttls()                                 # TLS 보안 시작
s.login('yjw7720@gmail.com', 'czdx hhxw jwyu bibe')         # 로그인 인증

msg = MIMEText(f'''
안녕하세요?
과제 제출 마감이 5일 남았습니다.
{datetime.today().year}년 {datetime.today().month}월 {datetime.today().day}일까지 반드시 제출바랍니다.
감사합니다!''')
msg['Subject'] = '제출 마감이 5일 남았습니다.'


# 메일 보내기
s.sendmail('anunymous@anonymous.com', 'yjw7720@gmail.com', msg.as_string())
s.quit()






# 오늘의 요일 과일 

# 라이브러 불러오기
import openpyxl as xl
# 워크북 오브젝트를 선언(엑셀 파일 열기)
wb = xl.load_workbook('Fruit6.xlsx')

sheet2 = wb['Sheet2']

fruit_today = ''

for i in range(1,sheet2.max_row+1):
    if sheet2.cell(row= i, column = 3).value == datetime.today().weekday():
        fruit_today = sheet2.cell(row= i, column = 1).value
        break




s = smtplib.SMTP('smtp.gmail.com', 587)      # 세션 생성
s.starttls()                                 # TLS 보안 시작
s.login('yjw7720@gmail.com', 'czdx hhxw jwyu bibe')         # 로그인 인증

msg = MIMEText(f'''
안녕하세요?
오늘의 과일은 {fruit_today}입니다.
건강을 위해 오전에 꼭 챙겨 드시기 바랍니다.
감사합니다!''')
msg['Subject'] = f'오늘의 과일은 {fruit_today}입니다.'


# 메일 보내기
s.sendmail('yjw7720@gmail.com', 'python2ran@gmail.com', msg.as_string())
s.quit()





