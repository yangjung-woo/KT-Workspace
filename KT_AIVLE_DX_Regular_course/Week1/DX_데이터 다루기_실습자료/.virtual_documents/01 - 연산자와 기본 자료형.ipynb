














# 버전 확인
import sys
print(sys.version)

















# 나이(age) 변수 선언
age = 30

# 변수 값 확인
age





# 변수 값 변경
age = age + 1

# 변수 값 확인
age





# 데이터 형식 확인
type(age)








# 키워드 확인
import keyword
print(keyword.kwlist)








# 변수 선언
a = 10








# 정수형 변수
a = 26
b = 5





# 더하기
a+b


# 빼기
a-b


# 곱하기
a*b


# 나누기
a/b





# 몫
a//b


# 나머지
a%b


# 제곱
a**2





# 변수 선언
a = 20

# 짝/홀수 판단
if a%2 ==0:
    result = True
else:
    result = False

# 확인
result





# 변수 선언
age = 26

# 10으로 나눈 몫을 구한 후 10 곱하기
age = (age //10) * 10

# 확인
age








# 255를 4로 나눈 몫
255 / 5


# 255를 4로 나눈 나머지
255 % 4





# 실수형 변수
c = 10.5
d = 2.5


# print() 함수를 사용하지 않은 경우 --> 값이 하나만 표시됨
c % d
c // d


# print() 함수를 사용한 경우 #1 --> 값이 여러번 표시됨

print(c % d)
print(c // d)





# print() 함수를 사용한 경우 #2
print('c =', c)
print('d =', d)







# 구분자 지정
print('Hello', 'world.', sep=',' ,end = 'C')




# 개행 여부 지정
print('Hello', 'world.', end =' ')
print('Hello', 'world.')










# 변수 선언
name ='양정우'
age = 26


# 나이 빼기
age = age - 10


# 값 확인 #1
print('이름:', name)
print('나이:', age)


# 값 확인 #2
print('이름:', name, '/', '나이:', age)





# 정수형 변수
score1 = 153
score2 = 204
score3 = 259
score4 = 221
score5 = 267

# 합계 구하기
tot_score = score1+score2+score3+score4+score5

# 평균 구하기
avg_score = tot_score / 5

# 출력
print(avg_score)









# 정수형 변수 선언
a = 10
b = 20

# '크다' 비교
a > b


# '같다' 비교
a == b


# '작다' 비교
a < b








# 변수 선언
s1 = 'A'
s2 = 'a'

# 크기 비교
s1 < s2
# ASCII 순서상 소문자의 정수값이 더 크다 






# ASCII 순서상 소문자의 정수값이 더 크다 
ord('A') - ord('a') # -32






# 변수 선언
score = 85

# 조건문 예

if score >= 80:
    print('Good')
else:
    print('Bad')







# 정수형 변수 선언
a = 10

# 복합 대입 연산자 사용
a += 10 # 20
a -= 2 # 18
a *= 2 # 36
a /= 5 # 7.2

# 확인
a





# 정수형 변수 선언
a = 10

# 복합 대입 연산자 사용 안함
a = a+10
a = a-2
a = a * 2
a = a / 5

# 확인
a











# 변수 선언
t = True
f = False

# 논리 연산자
print(t and f)
print(t or f)
print(not t)





# 변수 선언
a = 15

# and 연산
print(a >= 5 and a <= 20)





# 변수 선언
a = 15

# 크기 비교
print(5 <= a <= 20)





# 리스트 만들기
a = [10, 20, 30, 40, 50, 60]

# 멤버 여부 확인
print(10 in a)
print(90 in a)
print(90 not in a)








# 같은 요소를 갖는 리스트 선언
x = [1, 2, 3, 4, 5]
y = [1, 2, 3, 4, 5]
z = x

# 변수 값 확인
print('x =', x)
print('y =', y)
print('z =', z)


# 값이 같은가?
print(x == y)
print(x == z)


# 같은 객체인가?
print(x is y)
print(x is z)


a = 3.0
b = 3.0
a == b # True
a is b # False











# 정수형 변수
x = 5

# 확인
type(x)






# 실수형 변수
x = 2.5

# 자료형 확인
print(type(x))

# 연산 확인
print(x, x + 1, x * 2, x ** 2)


# 정수형 변수
x = 123

# 정수 사이의 연산
y = x / 4

# 확인
type(y)









# 부울형 변수
t = True
f = False

# 자료형 확인
print(type(t))
print(type(f))


# 조건의 참과 거짓
print(10 > 1)
print(10 == 10)
print(10 > 100)





# 부울형과 논리 연산자
t = True
f = False

print(t and f)
print(t or f)
print(not t)








# 문자열, 정수 --> 실수
a = float('10.5')
b = float(10)
print(type(a))
print(type(b))
print(a)
print(b)





# 문자열, 실수 --> 정수
a = int('10')
b = int(123.45)
print(type(a))
print(type(b))
print(a)
print(b)








# 실수 --> 정수
a = 123.79
b = int(a)
c = round(a)

# 
# b, c 값 확인
print(b) # 123
print(c) # 124





# 숫자 --> 문자열
c = str(1557)
print(type(c))
print(c)





# 숫자 --> 불리언형
d = bool(0)
print(type(d))
print(d)

e = bool(1)
print(type(e))
print(e)





# 문자 --> 불리언형
f =bool('')
print(type(f), f)

g =bool('ppad')
print(type(g), g)








# 문자열과 숫자 연결
print('I am ' + 20 + ' years old.')


# 문자열과 숫자 연결(수정)
print('I am {} years old.'.format(20))





# 모듈 불러오기
from datetime import datetime

# 현재 날짜와 시간 얻기
dt = datetime.now()


# 날짜 시간 정보 표시
print('날짜와 시간:', dt)
print('년:', dt.year)
print('월:', dt.month)
print('일:', dt.day)
print('시:', dt.time     )
print('분:', dt.minute     )
print('초:', dt.second)
