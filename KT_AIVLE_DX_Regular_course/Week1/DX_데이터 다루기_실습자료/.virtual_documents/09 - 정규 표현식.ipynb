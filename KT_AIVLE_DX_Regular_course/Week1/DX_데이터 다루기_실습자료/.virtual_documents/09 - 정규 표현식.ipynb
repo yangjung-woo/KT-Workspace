








# 이름과 전화번호가 섞여 있는 문자열
peoples = '홍길동: 010-1234-5678 한사랑: 010-4321-8765 일지매: 010-2143-6587'








# 전화번호 뒷자리 숨기기
phone_x = []
for word in peoples.split(' '):
    if len(word) == 13 and word[:3].isdigit() and word[4:8].isdigit() and word[9:13].isdigit():
        word = word[0:8] + '-XXXX'
        phone_x.append(word)
    else:
        phone_x.append(word)
peoples_new = ' '.join(phone_x)
print(peoples_new)





# 전화번호 뒷자리 숨기기
import re
re.sub('(\d{3}[-]\d{4})[-]\d{4}', '\g<1>-XXXX', peoples)





# 전화번호 뒷자리 숨기기
import re
pat = re.compile('(\d{3}[-]\d{4})[-]\d{4}')
pat.sub('\g<1>-XXXX', peoples)








# 이름과 주민번호가 섞여 있는 문자열
peoples = '홍길동: 800104-1049234 일지매: 760405-1052114'

# 주민번호 뒷자리 숨기기
rsdn_x = []
for word in peoples.split(' '):
    if len(word) == 14 and word[:6].isdigit() and word[7:].isdigit():
        word = word[:6] + '-*******'
        rsdn_x.append(word)
    else:
        rsdn_x.append(word)
peoples_new = ' '.join(rsdn_x)
print(peoples_new)





# 이름과 주민번호가 섞여 있는 문자열
peoples = '홍길동: 800104-1049234 일지매: 760405-1052114'

# 주민번호 뒷자리 숨기기







# 모듈 불러오기
import re








# 맨 앞에 'a' 문자가 있는지 확인
string = 'I have a Dream.'
re.match('a', string)





# 문자열에 'a' 문자가 있는지 확인
string = 'I have a Dream.'
re.search('a', string)





string = 'I have a Dream.'
result = re.search('a', string)
if result:
    print('찾음')
else:
    print('못찾음')





# 'a' 문자 찾기
string = 'I have a Dream.'
result = re.search('a', string)
print(result.group())
print(result.start())
print(result.end())
print(result.span())


# 'Dream' 문자열 찾기
string = 'I have a Dream.'
result = re.search('Dream', string)
print(result.group())
print(result.start())
print(result.end())
print(result.span())





# 'a' 문자 찾기
string = 'I have a Dream.'
re.findall('a', string)


# 'ave' 문자열 찾기
string = 'I have a Dream.'
re.findall('ave', string)





# 반복문으로 표시
string = 'I have a Dream.'
result = re.finditer('a', string)
for i in result:
    print(i)





# 'a', 'h', 'm' 문자 찾기
string = 'I have a Dream.'
re.findall('[ahm]', string)


# 'a', 'v', 'e' 문자 찾기
string = 'I have a Dream.'
re.findall('[ave]', string)


# 같은 문자 한 번만 표시
string = 'I have a Dream.'
result = list(set(re.findall('[ave]', string)))
result.sort()
print(result)





# 'a', 'v', 'e' 이외의 문자 찾기
string = 'I have a Dream.'
result = list(set(re.findall('[^ave]', string)))
result.sort()
print(result)





# 'a' ~ 'm' 문자 찾기
string = 'I have a Dream.'
re.findall('[a-m]', string)


# 'a' ~ 'm' 문자 찾기(대/소문자 무시)
string = 'I have a Dream.'
re.findall('[a-mA-M]', string)


# 'a' ~ 'm' 이외의 문자 찾기(대/소문자 무시)
string = 'I have a Dream.'
re.findall('[^a-mA-M]', string)


# 숫자 찾기 #1
string = 'I am 20 years old.'
re.findall('[0-9]', string)


# 숫자 찾기 #2
string = 'I am 20 years old.'
re.findall('[0-9]+', string)





# 'a'와 'e'문자 사이에 문자 하나를 포함하는 문자열 확인
string = 'I have a Dream.'
re.findall('a.e', string)


# 'r'과 'm'문자 사이에 문자 하나를 포함하는 문자열 확인
string = 'I have a Dream.'
re.findall('r.m', string)





# o가 0회 이상 반복된 경우
string = 'cl col Coor coool pool cooool'
re.findall('co*l', string)


# o가 1회 이상 반복된 경우
string = 'cl col Coor coool pool cooool'
re.findall('co+l', string)


# o가 1회 반복된 경우
string = 'cl col Coor coool pool cooool'
re.findall('co{1}l', string)


# o가 1 ~ 4회 반복된 경우
string = 'cl col Coor coool pool cooool'
re.findall('co{1,4}l', string)


# o가 0 ~ 1회 반복된 경우
string = 'cl col Coor coool pool cooool'
re.findall('co?l', string)
