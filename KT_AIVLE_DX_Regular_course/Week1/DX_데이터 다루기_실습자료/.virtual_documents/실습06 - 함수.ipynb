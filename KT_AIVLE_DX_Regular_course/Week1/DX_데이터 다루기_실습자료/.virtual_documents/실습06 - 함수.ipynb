












def hello_world(name):
    return 'Hello ' + name + ', welcome to Python World!'


print(hello_world('Ann'))








def say_hey(count):
    return 'Hey! '* count

print(say_hey(5))








def hello(name, loud=1):
    if loud == 1:
        return 'HELLO '+ name.upper()+"!!!"
    elif loud ==0:
        return 'Hello '+ name.lower()+"."
    else:
        return 0 

print(hello(name='Kim', loud=0))
print(hello(name='Kim'))








def add(a,b):
    hap = a + b
    return '덧샘 결과는 '+ str(hap)

print(add(7,2))








def numbers(*nums):
    return (nums) # 튜플 반환 , () 생략해도 됩니다 

print(numbers(2,4,6,8,10))








def average(*nums):
    return sum(nums)/len(nums) # 튜플 반환 , () 생략해도 됩니다 

print(average(2,4,6,8,10))











def calculate1(a,b,opperand):
    if opperand =='+':
        return a+b
    elif opperand =='-':
        return a-b
    elif opperand =='*':
        return a*b
    else:
        return a/b

print(calculate1(11,2,'*'))







def calculate1(a,b,opperand):
    if opperand =='+':
        c = a+b
        return c
    elif opperand =='-':
        c = a-b
        return c
    elif opperand =='*':
        c = a*b
        return c
    else:
        c = a/b
        return c

print(calculate1(11,2,'*'))









def calculate1(a,b,opperand):
    if opperand =='+':
        c = a+b
        return c
    elif opperand =='-':
        c = a-b
        return c
    elif opperand =='*':
        c = a*b
        return c
    else:
        c = a/b
        return c

print(calculate1(11,2,'*'))








def calculate2(a,b):
    return (a//b , a%b) # 결과는 튜플 ,  () 생략해도 됩니다 

r1, r2 = calculate2(11,2)

print(r1,r2)








def even(nums):
    result = []
    for n in nums:
        if n %2 ==0:
            result.append(n)
    return result

print(even([2,3,6,8,11]))










def divide(num1,num2):

    return num1/num2

print(divide(15,2))









def divide(num1,num2):
    if num2 != 0:
        return num1/num2
    else:
        return'0으로 나눌 수 없습니다.'

print(divide(15,0))







def divide(num1,num2):
    if num2 != 0 and type(num1) is int and type(num2) is int:
        return num1/num2
    else:
        if num2 ==0:
            return'0으로 나눌 수 없습니다.'
        if type(num1) is not int or type(num2) is not int:
            return '입력값이 모두 숫자여야 합니다.'
            

print(divide(15,0))







