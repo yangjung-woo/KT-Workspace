{
 "cells": [
  {
   "cell_type": "markdown",
   "metadata": {
    "id": "b3TDAdnvnSbh"
   },
   "source": [
    "<center><img src='https://raw.githubusercontent.com/Jangrae/img/master/title.png' width=500/></center>"
   ]
  },
  {
   "cell_type": "markdown",
   "metadata": {
    "id": "Cc2EWdvTTBzb"
   },
   "source": [
    "<center><img src='https://raw.githubusercontent.com/Jangrae/img/master/practice.png' width=300/></center>"
   ]
  },
  {
   "cell_type": "markdown",
   "metadata": {
    "id": "fdGqjaVxGFSi"
   },
   "source": [
    "# 실습 #1: 조건문(if문)"
   ]
  },
  {
   "cell_type": "markdown",
   "metadata": {
    "id": "S4fzoaJC6wR7"
   },
   "source": [
    "1) 변수 score에 임의의 점수를 저장하고, 점수가 90보다 크거나 같으면 'pass'를 출력하세요."
   ]
  },
  {
   "cell_type": "code",
   "execution_count": 5,
   "metadata": {
    "id": "E3AlyNhzGFSj"
   },
   "outputs": [
    {
     "name": "stdout",
     "output_type": "stream",
     "text": [
      "pass\n"
     ]
    }
   ],
   "source": [
    "score = 100\n",
    "\n",
    "if score >= 90:\n",
    "    print('pass')\n",
    "\n",
    "\n"
   ]
  },
  {
   "cell_type": "markdown",
   "metadata": {
    "id": "rhHQ5K2G64en"
   },
   "source": [
    "2) 변수 age에 임의의 나이를 저장하고, 다음 조건에 맞게 출력하도록 아래 구문을 완성하세요.\n",
    "\n",
    "- 10보다 작으면 '10세 미만'\n",
    "- 20보다 작으면 '10대'\n",
    "- 30보다 작으면 '20대'\n",
    "- 40보다 작으면 '30대'\n",
    "- 50보다 작으면 '40대'\n",
    "- 아니면 '50대 이상'"
   ]
  },
  {
   "cell_type": "code",
   "execution_count": 7,
   "metadata": {
    "id": "wF_ARJD5GFSk"
   },
   "outputs": [
    {
     "name": "stdout",
     "output_type": "stream",
     "text": [
      "30대\n"
     ]
    }
   ],
   "source": [
    "age = 32\n",
    "\n",
    "if age < 10:\n",
    "    print('10세 미만')\n",
    "elif age < 20:\n",
    "    print('10대')\n",
    "elif age < 30:\n",
    "    print('20대')\n",
    "elif age < 40:\n",
    "    print('30대')\n",
    "elif age < 50:\n",
    "    print('40대')\n",
    "\n",
    "else:\n",
    "    print('50대 이상')"
   ]
  },
  {
   "cell_type": "markdown",
   "metadata": {
    "id": "lZkCmKhh7OVG"
   },
   "source": [
    "3) 변수 score에 임의의 점수를 저장하고, 다음의 조건에 맞게 출력하도록 아래 구문을 완성하세요.\n",
    "\n",
    "- 90 <= score 이면  'A'\n",
    "- 80 <= score < 90 이면 'B'\n",
    "- 70 <= score < 80 이면 'C'\n",
    "- 60 <= score < 70 이면 'D'\n",
    "- score < 60 이면 'F'"
   ]
  },
  {
   "cell_type": "code",
   "execution_count": 9,
   "metadata": {
    "id": "K9QtHolwGFSk"
   },
   "outputs": [
    {
     "name": "stdout",
     "output_type": "stream",
     "text": [
      "F\n"
     ]
    }
   ],
   "source": [
    "score = 55\n",
    "\n",
    "if (90 <= score):\n",
    "    print('A')\n",
    "elif (80 <= score < 90):\n",
    "    print('B')\n",
    "elif (70 <= score < 80):\n",
    "    print('C')\n",
    "elif (60 <= score < 70):\n",
    "    print('D')\n",
    "else:\n",
    "    print('F')"
   ]
  },
  {
   "cell_type": "markdown",
   "metadata": {
    "id": "YqIW83977eOc"
   },
   "source": [
    "4) 변수 num1에 임의의 숫자를 저장하고, 다음 조건에 맞게 출력하세요.\n",
    "\n",
    "- 숫자가 11의 배수일 경우 '11의 배수입니다.'\n",
    "- 아니면, '11의 배수가 아닙니다.'"
   ]
  },
  {
   "cell_type": "code",
   "execution_count": 11,
   "metadata": {
    "id": "HWGWUeTxGFSl"
   },
   "outputs": [
    {
     "name": "stdout",
     "output_type": "stream",
     "text": [
      "11의 배수입니다.\n"
     ]
    }
   ],
   "source": [
    "\n",
    "num1 = 121\n",
    "\n",
    "if num1 %11 ==0:\n",
    "    print('11의 배수입니다.')\n",
    "else:\n",
    "    print('11의 배수가 아닙니다.')\n",
    "\n"
   ]
  },
  {
   "cell_type": "markdown",
   "metadata": {
    "id": "CHACKDEG8yoI"
   },
   "source": [
    "# 실습 #2: 반복문(for 문)"
   ]
  },
  {
   "cell_type": "markdown",
   "metadata": {
    "id": "UYWvaO0T9dCY"
   },
   "source": [
    "1) 0에서 5까지 1씩 증가시켜가면서 값을 한줄씩 출력하세요."
   ]
  },
  {
   "cell_type": "code",
   "execution_count": 13,
   "metadata": {
    "id": "EeQVB-OK8yoJ"
   },
   "outputs": [
    {
     "name": "stdout",
     "output_type": "stream",
     "text": [
      "0\n",
      "1\n",
      "2\n",
      "3\n",
      "4\n",
      "5\n"
     ]
    }
   ],
   "source": [
    "for i in range(6):\n",
    "    print(i)\n",
    "\n",
    "\n"
   ]
  },
  {
   "cell_type": "markdown",
   "metadata": {
    "id": "pd2jLfWB9t4E"
   },
   "source": [
    "2) 다음 모양을 출력하세요.\n",
    "\n",
    "- 힌트: 각 줄마다 출력해야 하는 '*'의 수가 하나씩 증가한다는 것을 이용해 봅니다.\n",
    "\n",
    "~~~\n",
    "*\n",
    "**\n",
    "***\n",
    "****\n",
    "*****\n",
    "~~~\n"
   ]
  },
  {
   "cell_type": "code",
   "execution_count": 15,
   "metadata": {
    "id": "f2-0DJeA8yoJ"
   },
   "outputs": [
    {
     "name": "stdout",
     "output_type": "stream",
     "text": [
      "\n",
      "*\n",
      "**\n",
      "***\n",
      "****\n",
      "*****\n"
     ]
    }
   ],
   "source": [
    "\n",
    "for i in range(6):\n",
    "    print('*'*i)\n",
    "\n"
   ]
  },
  {
   "cell_type": "markdown",
   "metadata": {
    "id": "m7qmcIeu-Jlb"
   },
   "source": [
    "3) 다음 모양을 출력하시오.\n",
    "\n",
    "- 힌트: 각 줄마다 출력해야 하는 ' '(공백)과 '*'의 수의 규칙을 생각해 봅니다.\n",
    "\n",
    "~~~\n",
    "    *\n",
    "   **\n",
    "  ***\n",
    " ****\n",
    "*****\n",
    "~~~"
   ]
  },
  {
   "cell_type": "code",
   "execution_count": 17,
   "metadata": {
    "id": "7x801nFi8yoK"
   },
   "outputs": [
    {
     "name": "stdout",
     "output_type": "stream",
     "text": [
      "     \n",
      "    *\n",
      "   **\n",
      "  ***\n",
      " ****\n",
      "*****\n"
     ]
    }
   ],
   "source": [
    "n = 6\n",
    "for i in range(n):\n",
    "    print(' '*(n-1-i)+'*'*i)\n",
    "\n",
    "\n"
   ]
  },
  {
   "cell_type": "markdown",
   "metadata": {
    "id": "BvZKHJyu-NB8"
   },
   "source": [
    "4) 다음 모양을 출력하세요.\n",
    "\n",
    "~~~\n",
    "*\n",
    "%%\n",
    "***\n",
    "%%%%\n",
    "*****\n",
    "~~~\n"
   ]
  },
  {
   "cell_type": "code",
   "execution_count": 19,
   "metadata": {
    "id": "mgek9Ley8yoK"
   },
   "outputs": [
    {
     "name": "stdout",
     "output_type": "stream",
     "text": [
      "\n",
      "*\n",
      "%%\n",
      "***\n",
      "%%%%\n",
      "*****\n"
     ]
    }
   ],
   "source": [
    "\n",
    "for i in range(6):\n",
    "    if i%2 == 1:\n",
    "        print('*'*i)\n",
    "    else:\n",
    "        print('%'*i)\n",
    "\n",
    "\n"
   ]
  },
  {
   "cell_type": "markdown",
   "metadata": {
    "id": "UdY9QbVz-QaG"
   },
   "source": [
    "5) 1부터 100까지 모두 더하세요."
   ]
  },
  {
   "cell_type": "code",
   "execution_count": 23,
   "metadata": {
    "id": "8MRXzV808yoL",
    "scrolled": true
   },
   "outputs": [
    {
     "name": "stdout",
     "output_type": "stream",
     "text": [
      "5050\n"
     ]
    }
   ],
   "source": [
    "s = 0\n",
    "for i in range(1,101):\n",
    "    s += i\n",
    "print(s)\n",
    "\n"
   ]
  },
  {
   "cell_type": "markdown",
   "metadata": {
    "id": "NZfB43A_-R8m"
   },
   "source": [
    "6) 1부터 100까지 홀수만 더하세요."
   ]
  },
  {
   "cell_type": "code",
   "execution_count": 25,
   "metadata": {
    "id": "ubAv5ClC8yoL"
   },
   "outputs": [
    {
     "name": "stdout",
     "output_type": "stream",
     "text": [
      "2500\n"
     ]
    }
   ],
   "source": [
    "\n",
    "s = 0\n",
    "for i in range(1,101):\n",
    "    if i %2 ==1:\n",
    "        s += i\n",
    "print(s)\n",
    "\n",
    "\n"
   ]
  },
  {
   "cell_type": "markdown",
   "metadata": {
    "id": "8lG0i2VY-eqe"
   },
   "source": [
    "7) 1부터 100까지 홀수는 모두 더하고, 짝수는 모두 빼세요.\n",
    "\n",
    "- 힌트: for loop 내에 if 사용하여 홀수와 짝수의 경우를 나누어 생각해 봅니다."
   ]
  },
  {
   "cell_type": "code",
   "execution_count": 27,
   "metadata": {
    "id": "N2-iv0X28yoM"
   },
   "outputs": [
    {
     "name": "stdout",
     "output_type": "stream",
     "text": [
      "-50\n"
     ]
    }
   ],
   "source": [
    "\n",
    "s = 0\n",
    "for i in range(1,101):\n",
    "    if i %2 ==1:\n",
    "        s += i\n",
    "    else:\n",
    "        s -= i\n",
    "print(s)\n",
    "\n",
    "\n"
   ]
  },
  {
   "cell_type": "markdown",
   "metadata": {
    "id": "cC7P_U-H-2J0"
   },
   "source": [
    "8) [심화] 2단부터 9단까지 구구단을 아래 예시와 같이 출력하세요.\n",
    "\n",
    "~~~\n",
    "구구단 2 단을 출력합니다.  \n",
    "2 x 1 = 2  \n",
    "2 x 2 = 4  \n",
    "2 x 3 = 6  \n",
    "2 x 4 = 8  \n",
    "2 x 5 = 10  \n",
    "2 x 6 = 12  \n",
    "2 x 7 = 14  \n",
    "2 x 8 = 16  \n",
    "2 x 9 = 18  \n",
    "구구단 3 단을 출력합니다.  \n",
    "3 x 1 = 3\n",
    "3 x 2 = 6\n",
    "3 x 3 = 9\n",
    "3 x 4 = 12\n",
    "(생략)\n",
    "~~~\n",
    "\n",
    "* 힌트: for loop를 중첩해서 수행해야 합니다."
   ]
  },
  {
   "cell_type": "code",
   "execution_count": 29,
   "metadata": {
    "id": "a5aY9YbG8yoM"
   },
   "outputs": [
    {
     "name": "stdout",
     "output_type": "stream",
     "text": [
      "구구단 2 단을 출력합니다.\n",
      "2 x 1 = 2\n",
      "2 x 2 = 4\n",
      "2 x 3 = 6\n",
      "2 x 4 = 8\n",
      "2 x 5 = 10\n",
      "2 x 6 = 12\n",
      "2 x 7 = 14\n",
      "2 x 8 = 16\n",
      "2 x 9 = 18\n",
      "구구단 3 단을 출력합니다.\n",
      "3 x 1 = 3\n",
      "3 x 2 = 6\n",
      "3 x 3 = 9\n",
      "3 x 4 = 12\n",
      "3 x 5 = 15\n",
      "3 x 6 = 18\n",
      "3 x 7 = 21\n",
      "3 x 8 = 24\n",
      "3 x 9 = 27\n",
      "구구단 4 단을 출력합니다.\n",
      "4 x 1 = 4\n",
      "4 x 2 = 8\n",
      "4 x 3 = 12\n",
      "4 x 4 = 16\n",
      "4 x 5 = 20\n",
      "4 x 6 = 24\n",
      "4 x 7 = 28\n",
      "4 x 8 = 32\n",
      "4 x 9 = 36\n",
      "구구단 5 단을 출력합니다.\n",
      "5 x 1 = 5\n",
      "5 x 2 = 10\n",
      "5 x 3 = 15\n",
      "5 x 4 = 20\n",
      "5 x 5 = 25\n",
      "5 x 6 = 30\n",
      "5 x 7 = 35\n",
      "5 x 8 = 40\n",
      "5 x 9 = 45\n",
      "구구단 6 단을 출력합니다.\n",
      "6 x 1 = 6\n",
      "6 x 2 = 12\n",
      "6 x 3 = 18\n",
      "6 x 4 = 24\n",
      "6 x 5 = 30\n",
      "6 x 6 = 36\n",
      "6 x 7 = 42\n",
      "6 x 8 = 48\n",
      "6 x 9 = 54\n",
      "구구단 7 단을 출력합니다.\n",
      "7 x 1 = 7\n",
      "7 x 2 = 14\n",
      "7 x 3 = 21\n",
      "7 x 4 = 28\n",
      "7 x 5 = 35\n",
      "7 x 6 = 42\n",
      "7 x 7 = 49\n",
      "7 x 8 = 56\n",
      "7 x 9 = 63\n",
      "구구단 8 단을 출력합니다.\n",
      "8 x 1 = 8\n",
      "8 x 2 = 16\n",
      "8 x 3 = 24\n",
      "8 x 4 = 32\n",
      "8 x 5 = 40\n",
      "8 x 6 = 48\n",
      "8 x 7 = 56\n",
      "8 x 8 = 64\n",
      "8 x 9 = 72\n",
      "구구단 9 단을 출력합니다.\n",
      "9 x 1 = 9\n",
      "9 x 2 = 18\n",
      "9 x 3 = 27\n",
      "9 x 4 = 36\n",
      "9 x 5 = 45\n",
      "9 x 6 = 54\n",
      "9 x 7 = 63\n",
      "9 x 8 = 72\n",
      "9 x 9 = 81\n"
     ]
    }
   ],
   "source": [
    "for i in range(2,10):\n",
    "    print(f'구구단 {i} 단을 출력합니다.')\n",
    "    for j in range(1,10):\n",
    "        print(f'{i} x {j} = {i*j}')\n"
   ]
  },
  {
   "cell_type": "markdown",
   "metadata": {
    "id": "XujVnqxu8yoN"
   },
   "source": [
    "# 실습 #3: 반복문(while 문)"
   ]
  },
  {
   "cell_type": "markdown",
   "metadata": {
    "id": "g0MjVN5__kFg"
   },
   "source": [
    "1) 0부터 5까지 1씩 증가시키면서 값을 출력하세요.\n",
    "\n",
    "- 힌트: while 변수 <= 범위의 마지막 값:"
   ]
  },
  {
   "cell_type": "code",
   "execution_count": 61,
   "metadata": {
    "id": "3rCDxnF18yoN"
   },
   "outputs": [
    {
     "name": "stdout",
     "output_type": "stream",
     "text": [
      "0\n",
      "1\n",
      "2\n",
      "3\n",
      "4\n",
      "5\n"
     ]
    }
   ],
   "source": [
    "i = 0\n",
    "while i <=5:\n",
    "    print(i)\n",
    "    i += 1\n",
    "\n",
    "\n",
    "\n"
   ]
  },
  {
   "cell_type": "markdown",
   "metadata": {
    "id": "_PMe1m4T_wtP"
   },
   "source": [
    "2) 1부터 100까지 3의 배수만 더하세요."
   ]
  },
  {
   "cell_type": "code",
   "execution_count": 69,
   "metadata": {
    "id": "8_xY1ikd8yoO"
   },
   "outputs": [
    {
     "name": "stdout",
     "output_type": "stream",
     "text": [
      "3\n",
      "6\n",
      "9\n",
      "12\n",
      "15\n",
      "18\n",
      "21\n",
      "24\n",
      "27\n",
      "30\n",
      "33\n",
      "36\n",
      "39\n",
      "42\n",
      "45\n",
      "48\n",
      "51\n",
      "54\n",
      "57\n",
      "60\n",
      "63\n",
      "66\n",
      "69\n",
      "72\n",
      "75\n",
      "78\n",
      "81\n",
      "84\n",
      "87\n",
      "90\n",
      "93\n",
      "96\n",
      "99\n",
      "1683\n"
     ]
    }
   ],
   "source": [
    "i = 1\n",
    "s= 0\n",
    "while i <=100:\n",
    "    if i %3 ==0:\n",
    "        s += i\n",
    "\n",
    "    i += 1\n",
    "print(s)\n",
    "\n"
   ]
  },
  {
   "cell_type": "markdown",
   "metadata": {
    "id": "alkXYpOP_9En"
   },
   "source": [
    "3) 변수 num에 숫자를 저장하고, 한 개의 문장을 입력받아 num개 만큼 출력하세요."
   ]
  },
  {
   "cell_type": "code",
   "execution_count": 77,
   "metadata": {
    "id": "VAv1YdON8yoO"
   },
   "outputs": [
    {
     "name": "stdin",
     "output_type": "stream",
     "text": [
      " 1566\n"
     ]
    },
    {
     "name": "stdout",
     "output_type": "stream",
     "text": [
      "1566\n",
      "1566\n",
      "1566\n"
     ]
    }
   ],
   "source": [
    "num = 3\n",
    "\n",
    "s = input()\n",
    "\n",
    "while num >0:\n",
    "    print(s)\n",
    "    num -=1\n",
    "\n",
    "\n",
    "\n"
   ]
  },
  {
   "cell_type": "markdown",
   "metadata": {
    "id": "mwb-bDPOAGn0"
   },
   "source": [
    "4) [심화] 홍길동의 과목별 점수는 아래와 같습니다.\n",
    "\n",
    "- 국어: 96점, 수학: 72점, 영어: 88점\n",
    "- 변수 kor, math, eng에 각 과목 점수를 저장한 뒤,\n",
    "- 과목명을 입력받아, 해당하는 과목의 점수를 출력하고 종료합니다.\n",
    "- 일치하는 과목명이 없으면 '잘못 입력하셨습니다.'를 출력하며 다시 입력 받게 합니다.\n"
   ]
  },
  {
   "cell_type": "code",
   "execution_count": 79,
   "metadata": {
    "id": "RCofGU1P8yoO"
   },
   "outputs": [
    {
     "name": "stdin",
     "output_type": "stream",
     "text": [
      " kor\n"
     ]
    },
    {
     "name": "stdout",
     "output_type": "stream",
     "text": [
      "kor : 96\n"
     ]
    }
   ],
   "source": [
    "kor = 96\n",
    "math = 72\n",
    "eng = 88\n",
    "\n",
    "while True:\n",
    "    sub = input()\n",
    "    if sub == 'kor':\n",
    "        print(f'{sub} : {kor}')\n",
    "        break\n",
    "    elif sub == 'math':\n",
    "        print(f'{sub} : {math}')\n",
    "        break\n",
    "    elif sub == 'eng':\n",
    "        print(f'{sub} : {eng}')\n",
    "        break\n",
    "    else:\n",
    "        print('잘못 입력했습니다 다시 입력해주세요')\n"
   ]
  },
  {
   "cell_type": "markdown",
   "metadata": {
    "id": "YMYLxk5HAUAp"
   },
   "source": [
    "5) [심화] 5,000원의 돈을 갖고 있습니다. 동료들과 AIVLE 로봇카페에서 아메리카노를 구매하려고 합니다. (아메리카노는 한잔에 1,300원)\n",
    "\n",
    "- 갖고 있는 돈을 변수 money, 커피 한 잔의 가격을 변수 coffee에 저장합니다.\n",
    "- '아메리카노를 구입하시겠습니까?'에 대한 대답을 입력받아, 대답이 '네'일 경우 커피가 판매됩니다.\n",
    "- 다른 대답을 할 경우 '다시 입력해 주세요.'라고 출력합니다.\n",
    "- 한 잔을 구매할 때마다 남은 돈을 변수 money에 저장하여 출력합니다.\n",
    "- 커피를 살 돈이 모자랄 경우 '돈이 모자랍니다. 커피를 구입할 수 없습니다.'라고 출력하고 종료합니다.\n",
    "- 힌트: while 문 내에서 if 조건문을 중첩해서 사용해야 합니다."
   ]
  },
  {
   "cell_type": "code",
   "execution_count": 81,
   "metadata": {
    "id": "sZtYyMyA8yoP"
   },
   "outputs": [
    {
     "name": "stdout",
     "output_type": "stream",
     "text": [
      "아메리카노를 구입하시겠습니까?\n"
     ]
    },
    {
     "name": "stdin",
     "output_type": "stream",
     "text": [
      " 네\n"
     ]
    },
    {
     "name": "stdout",
     "output_type": "stream",
     "text": [
      "남은 금액:3700\n",
      "아메리카노를 구입하시겠습니까?\n"
     ]
    },
    {
     "name": "stdin",
     "output_type": "stream",
     "text": [
      " 네\n"
     ]
    },
    {
     "name": "stdout",
     "output_type": "stream",
     "text": [
      "남은 금액:2400\n",
      "아메리카노를 구입하시겠습니까?\n"
     ]
    },
    {
     "name": "stdin",
     "output_type": "stream",
     "text": [
      " 네\n"
     ]
    },
    {
     "name": "stdout",
     "output_type": "stream",
     "text": [
      "남은 금액:1100\n",
      "아메리카노를 구입하시겠습니까?\n"
     ]
    },
    {
     "name": "stdin",
     "output_type": "stream",
     "text": [
      " 네\n"
     ]
    },
    {
     "name": "stdout",
     "output_type": "stream",
     "text": [
      "돈이 모자랍니다. 커피를 구입할 수 없습니다\n"
     ]
    }
   ],
   "source": [
    "money = 5000\n",
    "coffee = 1300\n",
    "\n",
    "while True:\n",
    "    print('아메리카노를 구입하시겠습니까?')\n",
    "    answer = input()\n",
    "    if answer == '네':\n",
    "        money -= coffee\n",
    "        if money >= 0:\n",
    "            print(f'남은 금액:{money}')\n",
    "        else:\n",
    "            print('돈이 모자랍니다. 커피를 구입할 수 없습니다 Bye~')\n",
    "            break\n",
    "    else:\n",
    "        print('다시 입력해 주세요.')\n",
    "        \n",
    "    \n"
   ]
  },
  {
   "cell_type": "markdown",
   "metadata": {
    "id": "758dd5f2"
   },
   "source": [
    "# 실습 #4: 리스트, 딕셔너리와 반복문"
   ]
  },
  {
   "cell_type": "markdown",
   "metadata": {
    "id": "ZGKD_NckGdUl"
   },
   "source": [
    "1) 리스트 a = ['사자', '코끼리', '하마', '기린', '얼룩말'] 일 때\n",
    "\n",
    "- 반복문으로 a의 값들을 하나씩 출력하세요."
   ]
  },
  {
   "cell_type": "code",
   "execution_count": 31,
   "metadata": {
    "id": "9fb0315f"
   },
   "outputs": [
    {
     "name": "stdout",
     "output_type": "stream",
     "text": [
      "사자\n",
      "코끼리\n",
      "하마\n",
      "기린\n",
      "얼룩말\n"
     ]
    }
   ],
   "source": [
    "a = ['사자', '코끼리', '하마', '기린', '얼룩말']\n",
    "\n",
    "for i in a:\n",
    "    print(i)\n",
    "\n"
   ]
  },
  {
   "cell_type": "markdown",
   "metadata": {
    "id": "x7HgHZKpGjUP"
   },
   "source": [
    "2) 리스트 b = ['인어공주', '알라딘', '겨울왕국', '라푼젤'] 일 때\n",
    "\n",
    "- b에 '라이언킹'를 추가하고, 값을 하나씩 출력하세요.\n",
    "- 힌트: append() 메서드로 값 하나를 추가합니다"
   ]
  },
  {
   "cell_type": "code",
   "execution_count": 33,
   "metadata": {
    "id": "991e23aa"
   },
   "outputs": [
    {
     "name": "stdout",
     "output_type": "stream",
     "text": [
      "인어공주\n",
      "알라딘\n",
      "겨울왕국\n",
      "라푼젤\n",
      "라이언킹\n"
     ]
    }
   ],
   "source": [
    "b = ['인어공주', '알라딘', '겨울왕국', '라푼젤']\n",
    "b.append('라이언킹')\n",
    "\n",
    "for i in b:\n",
    "    print(i)\n",
    "\n"
   ]
  },
  {
   "cell_type": "markdown",
   "metadata": {
    "id": "MGZWqI8YGrTL"
   },
   "source": [
    "3) 빈 리스트 multiple7을 생성하고, 1부터 100까지의 값들 중 7의 배수를 multiple7에 저장하고, 리스트를 출력하세요.\n",
    "\n",
    "- 힌트\n",
    "    - 빈 리스트는 대괄호([ ]) 안을 비워둔 채로 저장하면 됩니다.\n",
    "    - if문을 사용하여 7의 배수인지 판정한 후 값을 추가합니다."
   ]
  },
  {
   "cell_type": "code",
   "execution_count": 35,
   "metadata": {
    "id": "de7a68fb"
   },
   "outputs": [
    {
     "name": "stdout",
     "output_type": "stream",
     "text": [
      "[7, 14, 21, 28, 35, 42, 49, 56, 63, 70, 77, 84, 91, 98]\n"
     ]
    }
   ],
   "source": [
    "\n",
    "multiple7 = []\n",
    "\n",
    "for i in range(1,101):\n",
    "    if i %7 ==0:\n",
    "        multiple7.append(i)\n",
    "print(multiple7)\n"
   ]
  },
  {
   "cell_type": "markdown",
   "metadata": {
    "id": "OzyC-Tt9HMHP"
   },
   "source": [
    "4) 빈 리스트 my_list를 생성하고\n",
    "\n",
    "- 다섯 개의 숫자를 입력받아(int(input())) my_list에 저장하고\n",
    "- 리스트의 값들을 정렬해서 출력하세요."
   ]
  },
  {
   "cell_type": "code",
   "execution_count": 39,
   "metadata": {
    "id": "a53402c5"
   },
   "outputs": [
    {
     "name": "stdin",
     "output_type": "stream",
     "text": [
      " 5\n",
      " 7\n",
      " 3\n",
      " 5\n",
      " 8\n"
     ]
    },
    {
     "name": "stdout",
     "output_type": "stream",
     "text": [
      "[3, 5, 5, 7, 8]\n"
     ]
    }
   ],
   "source": [
    "my_list = []\n",
    "\n",
    "#my_list = map(int,input().split())\n",
    "\n",
    "for i in range(5):\n",
    "    my_input = int(input())\n",
    "    my_list.append(my_input)\n",
    "    \n",
    "print(sorted(my_list))\n"
   ]
  },
  {
   "cell_type": "markdown",
   "metadata": {
    "id": "UUEpWY8RLuXi"
   },
   "source": [
    "5) 딕셔너리 dict_a = {'v1': 32, 'l1': [1, 2, 3], 'd1': {'a': 1, 'b': 2}}일 때\n",
    "\n",
    "- dict_a의 키와 값을 차례대로 출력하세요.\n",
    "- 힌트: 딕셔너리.items()"
   ]
  },
  {
   "cell_type": "code",
   "execution_count": 45,
   "metadata": {
    "id": "16b0c499"
   },
   "outputs": [
    {
     "name": "stdout",
     "output_type": "stream",
     "text": [
      "v1 32\n",
      "l1 [1, 2, 3]\n",
      "d1 {'a': 1, 'b': 2}\n"
     ]
    }
   ],
   "source": [
    "dict_a = {'v1': 32, \n",
    "          'l1': [1,2,3], \n",
    "          'd1': {'a':1, 'b':2}}\n",
    "\n",
    "for (key , value) in dict_a.items():\n",
    "    print(f'{key} {value}')\n"
   ]
  },
  {
   "cell_type": "markdown",
   "metadata": {
    "id": "UFXlMNyVL3PX"
   },
   "source": [
    "6) [심화] 아이스크림 할인점에서 판매하는 아이스크림의 가격은 다음과 같습니다.\n",
    "\n",
    "- 가격\n",
    "    - 메로나: 400원(할인가: 380원)\n",
    "    - 비비빅: 400원(할인가: 350원)\n",
    "    - 탱크보이: 500원(할인가: 450원)\n",
    "    - 월드콘: 1,000원(할인가: 900원)\n",
    "\n",
    "- 과제1    \n",
    "    - 아이스크림 이름을 키, [정가, 할인가]를 값으로 갖는 딕셔너리 icecream을 생성하세요.\n",
    "- 과제2\n",
    "    - 변수 today에 요일을 대입해(예: today = '일')\n",
    "    - 주말(토, 일)이면, 아이스크림 이름과 할인가를 출력하세요.\n",
    "    - 평일이면, 아이스크림 이름과 정가를 출력하세요.\n",
    "\n"
   ]
  },
  {
   "cell_type": "code",
   "execution_count": 59,
   "metadata": {
    "id": "912c3874"
   },
   "outputs": [
    {
     "name": "stdout",
     "output_type": "stream",
     "text": [
      "월요일(평일) 메로나 의 가격: 400\n",
      "월요일(평일) 비비빅 의 가격: 400\n",
      "월요일(평일) 탱크보이 의 가격: 500\n",
      "월요일(평일) 월드콘 의 가격: 1000\n"
     ]
    }
   ],
   "source": [
    "# 과제1\n",
    "\n",
    "icecream = {'메로나':[400,380],\n",
    "            '비비빅':[400,350],\n",
    "            '탱크보이':[500,450],\n",
    "            '월드콘':[1000,900]}\n",
    "\n",
    "# 과제2\n",
    "# 오늘의 요일 확인\n",
    "from datetime import datetime\n",
    "dt = datetime.now()\n",
    "week_num = dt.weekday()\n",
    "\n",
    "if week_num == 0:\n",
    "    today = '월'\n",
    "elif week_num == 1:\n",
    "    today = '화'\n",
    "elif week_num == 2:\n",
    "    today = '수'\n",
    "elif week_num == 3:\n",
    "    today = '목'\n",
    "elif week_num == 4:\n",
    "    today = '금'\n",
    "elif week_num == 5:\n",
    "    today = '토'\n",
    "elif week_num == 6:\n",
    "    today = '일'\n",
    "else:\n",
    "    today ='Error'\n",
    "\n",
    "weekend = ['토', '일']\n",
    "weekday = ['월','화','수','목','금']\n",
    "\n",
    "if today in weekend:\n",
    "    for key , value in icecream.items():\n",
    "        print(f'{today}요일(주말) {key} 의 가격: {value[1]}')\n",
    "else:\n",
    "    for key , value in icecream.items():\n",
    "        print(f'{today}요일(평일) {key} 의 가격: {value[0]}')\n"
   ]
  },
  {
   "cell_type": "code",
   "execution_count": null,
   "metadata": {},
   "outputs": [],
   "source": []
  }
 ],
 "metadata": {
  "colab": {
   "provenance": []
  },
  "kernelspec": {
   "display_name": "Python 3 (ipykernel)",
   "language": "python",
   "name": "python3"
  },
  "language_info": {
   "codemirror_mode": {
    "name": "ipython",
    "version": 3
   },
   "file_extension": ".py",
   "mimetype": "text/x-python",
   "name": "python",
   "nbconvert_exporter": "python",
   "pygments_lexer": "ipython3",
   "version": "3.12.4"
  }
 },
 "nbformat": 4,
 "nbformat_minor": 4
}
