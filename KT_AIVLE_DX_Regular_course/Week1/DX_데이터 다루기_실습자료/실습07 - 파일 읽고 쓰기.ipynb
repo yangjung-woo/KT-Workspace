{
 "cells": [
  {
   "cell_type": "markdown",
   "id": "b59ce349",
   "metadata": {
    "id": "b59ce349"
   },
   "source": [
    "<center><img src='https://raw.githubusercontent.com/Jangrae/img/master/title.png' width=500/></center>"
   ]
  },
  {
   "cell_type": "markdown",
   "id": "8bb70efc",
   "metadata": {
    "id": "8bb70efc"
   },
   "source": [
    "<center><img src='https://raw.githubusercontent.com/Jangrae/img/master/practice.png' width=300/></center>"
   ]
  },
  {
   "cell_type": "markdown",
   "id": "3b352b76",
   "metadata": {
    "id": "3b352b76"
   },
   "source": [
    "# 실습 #1: 기본 파일 다루기"
   ]
  },
  {
   "cell_type": "markdown",
   "id": "c0596c14",
   "metadata": {
    "id": "c0596c14"
   },
   "source": [
    "1) 현재 작업 디렉토리에 다음 요구사항에 따라 파일을 만드세요.\n",
    "\n",
    "- 이름: MyFile2.txt\n",
    "- 내용: '파일 쓰기 연습입니다.'\n",
    "- 참고: w 모드로 열고 write() 메서드로 쓰기"
   ]
  },
  {
   "cell_type": "code",
   "execution_count": null,
   "id": "a62b8365",
   "metadata": {
    "id": "a62b8365"
   },
   "outputs": [],
   "source": [
    "\n",
    "\n",
    "\n"
   ]
  },
  {
   "cell_type": "markdown",
   "id": "5d9b57d1",
   "metadata": {
    "id": "5d9b57d1"
   },
   "source": [
    "2) 위에서 만든 파일에 다음 요구사항에 따라 내용을 추가하세요.\n",
    "\n",
    "- 추가할 내용: '다시 한 줄 추가해 봅니다.'\n",
    "- 참고: a 모드로 열고 write() 메서드로 쓰기"
   ]
  },
  {
   "cell_type": "code",
   "execution_count": null,
   "id": "fdd21c78",
   "metadata": {
    "id": "fdd21c78"
   },
   "outputs": [],
   "source": [
    "\n",
    "\n",
    "\n"
   ]
  },
  {
   "cell_type": "markdown",
   "id": "52d04db7",
   "metadata": {
    "id": "52d04db7"
   },
   "source": [
    "3) 위에서 만든 파일에 다음 요구사항에 따라 내용을 추가하세요.\n",
    "\n",
    "- 추가할 내용: '마지막 한 줄 추가해 봅니다.'\n",
    "- 참고1: 줄 바꿈 기호를 사용하여 한 줄 아래에 기록되게 함\n",
    "- 참고2: a 모드로 열고 write() 메서드로 쓰기"
   ]
  },
  {
   "cell_type": "code",
   "execution_count": null,
   "id": "540b0284",
   "metadata": {
    "id": "540b0284"
   },
   "outputs": [],
   "source": [
    "\n",
    "\n",
    "\n"
   ]
  },
  {
   "cell_type": "markdown",
   "id": "b7f4930a",
   "metadata": {
    "id": "b7f4930a"
   },
   "source": [
    "4) 위에서 만든 파일에 다음 요구사항에 따라 읽어 내용을 확인하세요.\n",
    "\n",
    "- 참고: r 모드로 열고 read() 메서드로 읽기"
   ]
  },
  {
   "cell_type": "code",
   "execution_count": null,
   "id": "4fe6e500",
   "metadata": {
    "id": "4fe6e500"
   },
   "outputs": [],
   "source": [
    "\n",
    "\n",
    "\n"
   ]
  },
  {
   "cell_type": "markdown",
   "id": "a36106f4",
   "metadata": {
    "id": "a36106f4"
   },
   "source": [
    "# 실습 #2: 파일 읽기, 쓰기"
   ]
  },
  {
   "cell_type": "markdown",
   "id": "ec6eb063",
   "metadata": {
    "id": "ec6eb063"
   },
   "source": [
    "1) 다음 요구사항에 따라 파일을 만들어 보세요.\n",
    "\n",
    "- 우선 LittleStar.txt 파일을 생성한 후\n",
    "- write() 메서드를 사용하여 첫 줄을 추가하고\n",
    "- close()로 파일을 닫은 후\n",
    "- 파일을 다시 열어 나머지 내용을 추가\n",
    "\n",
    "\n",
    "- 파일 : LittleStar.txt\n",
    "- 내용\n",
    "\n",
    "\n",
    "      Twinkle, twinkle little star\n",
    "      How I wonder what you are\n",
    "      Up above the world so high\n",
    "      Like a diamond in the sky\n",
    "      Twinkle, twinkle little star\n",
    "      How I wonder what you are\n"
   ]
  },
  {
   "cell_type": "code",
   "execution_count": null,
   "id": "fc3406c1",
   "metadata": {
    "id": "fc3406c1"
   },
   "outputs": [],
   "source": [
    "\n",
    "\n",
    "\n"
   ]
  },
  {
   "cell_type": "markdown",
   "id": "03ff53bb",
   "metadata": {
    "id": "03ff53bb"
   },
   "source": [
    "2) Poem.txt 파일을 readline() 메서드를 사용해 한 줄씩 네 줄만 읽어오세요."
   ]
  },
  {
   "cell_type": "code",
   "execution_count": null,
   "id": "1f44a218",
   "metadata": {
    "id": "1f44a218"
   },
   "outputs": [],
   "source": [
    "\n",
    "\n",
    "\n"
   ]
  },
  {
   "cell_type": "markdown",
   "id": "fb2bafd2",
   "metadata": {
    "id": "fb2bafd2"
   },
   "source": [
    "3) Poem.txt 파일을 readlines()를 메서드를 사용하여 전체를 리스트로 읽어와 출력하세요."
   ]
  },
  {
   "cell_type": "code",
   "execution_count": null,
   "id": "56b623ac",
   "metadata": {
    "id": "56b623ac"
   },
   "outputs": [],
   "source": [
    "\n",
    "\n",
    "\n"
   ]
  },
  {
   "cell_type": "markdown",
   "id": "aa0379bf",
   "metadata": {
    "id": "aa0379bf"
   },
   "source": [
    "4) Poem.txt 파일을 realines() 메서드와 반복문을 사용해 한 줄 씩 표시하세요."
   ]
  },
  {
   "cell_type": "code",
   "execution_count": null,
   "id": "32e979ad",
   "metadata": {
    "id": "32e979ad"
   },
   "outputs": [],
   "source": [
    "\n",
    "\n",
    "\n"
   ]
  },
  {
   "cell_type": "markdown",
   "id": "aeb85473",
   "metadata": {
    "id": "aeb85473"
   },
   "source": [
    "5) 앞서 생성한 LittleStar.txt 파일을 realines() 메서드와 반복문을 사용해 한 줄 씩 출력하세요.\n",
    "\n",
    "-  단, 인덱싱을 사용하여 각 문장의 맨 앞 세 글자만 출력하세요"
   ]
  },
  {
   "cell_type": "code",
   "execution_count": null,
   "id": "8a79bcb7",
   "metadata": {
    "id": "8a79bcb7"
   },
   "outputs": [],
   "source": [
    "\n",
    "\n",
    "\n"
   ]
  },
  {
   "cell_type": "markdown",
   "id": "ac047d6c",
   "metadata": {
    "id": "ac047d6c"
   },
   "source": [
    "# 실습 #3: 워드 클라우드"
   ]
  },
  {
   "cell_type": "markdown",
   "id": "ceca9616",
   "metadata": {
    "id": "ceca9616"
   },
   "source": [
    "1) 인터넷에서 좋은 글(영문으로 된 연설문, 혹은 기사, 책 내용 등)을 찾아, txt로 저장하고 읽어와 워드 클라우드를 만들어 보세요.\n",
    "\n",
    "- 코드는 예제파일을 참조하세요.\n",
    "- 불필요한 단어/조사는 제거하세요.\n",
    "- 글의 내용을 한눈에 파악할 수 있는 멋진 워드클라우드를 만들어 보세요."
   ]
  },
  {
   "cell_type": "code",
   "execution_count": null,
   "id": "0dad721f",
   "metadata": {
    "id": "0dad721f"
   },
   "outputs": [],
   "source": [
    "\n",
    "\n",
    "\n"
   ]
  }
 ],
 "metadata": {
  "colab": {
   "provenance": []
  },
  "kernelspec": {
   "display_name": "Python 3 (ipykernel)",
   "language": "python",
   "name": "python3"
  },
  "language_info": {
   "codemirror_mode": {
    "name": "ipython",
    "version": 3
   },
   "file_extension": ".py",
   "mimetype": "text/x-python",
   "name": "python",
   "nbconvert_exporter": "python",
   "pygments_lexer": "ipython3",
   "version": "3.12.4"
  }
 },
 "nbformat": 4,
 "nbformat_minor": 5
}
