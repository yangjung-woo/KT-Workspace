{
 "cells": [
  {
   "cell_type": "markdown",
   "id": "b59ce349",
   "metadata": {
    "id": "b59ce349"
   },
   "source": [
    "<center><img src='https://raw.githubusercontent.com/Jangrae/img/master/title.png' width=500/></center>"
   ]
  },
  {
   "cell_type": "markdown",
   "id": "6a52e981",
   "metadata": {
    "id": "6a52e981"
   },
   "source": [
    "# 10.파일 읽고 쓰기\n",
    "\n",
    "- 텍스트 파일을 읽고 쓰는 기본적인 방법을 학습합니다.\n",
    "- 좋은 글을 읽어와 멋진 워드 클라우드를 만들어봅니다\n",
    "- 파일을 다루는 상세한 기술이 필요한 경우 관련 자료를 찾아 학습하기를 권고합니다."
   ]
  },
  {
   "cell_type": "markdown",
   "id": "4a18aa3d",
   "metadata": {
    "id": "4a18aa3d"
   },
   "source": [
    "## 10.1.경로 확인\n",
    "\n",
    "- 사용자마다 파일을 저장하고 읽는 기본 경로를 ‘홈 디렉터리‘ 라고 합니다.\n",
    "- pathlib 패키지의 Path.home() 함수로 사용자 홈 디렉터리를 확인합니다."
   ]
  },
  {
   "cell_type": "code",
   "execution_count": 2,
   "id": "00345f8b",
   "metadata": {
    "id": "00345f8b"
   },
   "outputs": [
    {
     "name": "stdout",
     "output_type": "stream",
     "text": [
      "C:\\Users\\User\n"
     ]
    }
   ],
   "source": [
    "# 홈 디렉터리 확인\n",
    "from pathlib import Path\n",
    "\n",
    "print(Path.home())"
   ]
  },
  {
   "cell_type": "markdown",
   "id": "76487266",
   "metadata": {
    "id": "76487266"
   },
   "source": [
    "- pathlib 패키지의 Path.cwd() 함수로 현재 작업 디렉터리를 확인합니다."
   ]
  },
  {
   "cell_type": "code",
   "execution_count": 5,
   "id": "534d03fc",
   "metadata": {
    "id": "534d03fc"
   },
   "outputs": [
    {
     "name": "stdout",
     "output_type": "stream",
     "text": [
      "C:\\Users\\User\\Desktop\\KT Aivle\\KT_AIVLE_DX_Regular_course\\Week1\\DX_데이터 다루기_실습자료\n"
     ]
    }
   ],
   "source": [
    "# 작업 디렉터리 확인\n",
    "from pathlib import Path\n",
    "\n",
    "print(Path.cwd())"
   ]
  },
  {
   "cell_type": "markdown",
   "id": "b2b08399",
   "metadata": {
    "id": "b2b08399"
   },
   "source": [
    "- Path.cwd().glob()를 사용해 디렉터리 안의 내용을 확인합니다."
   ]
  },
  {
   "cell_type": "code",
   "execution_count": 8,
   "id": "b2625f09",
   "metadata": {
    "id": "b2625f09"
   },
   "outputs": [
    {
     "name": "stdout",
     "output_type": "stream",
     "text": [
      "C:\\Users\\User\\Desktop\\KT Aivle\\KT_AIVLE_DX_Regular_course\\Week1\\DX_데이터 다루기_실습자료\\.ipynb_checkpoints\n",
      "C:\\Users\\User\\Desktop\\KT Aivle\\KT_AIVLE_DX_Regular_course\\Week1\\DX_데이터 다루기_실습자료\\.virtual_documents\n",
      "C:\\Users\\User\\Desktop\\KT Aivle\\KT_AIVLE_DX_Regular_course\\Week1\\DX_데이터 다루기_실습자료\\01 - 연산자와 기본 자료형.ipynb\n",
      "C:\\Users\\User\\Desktop\\KT Aivle\\KT_AIVLE_DX_Regular_course\\Week1\\DX_데이터 다루기_실습자료\\02 - 문자열 자료형.ipynb\n",
      "C:\\Users\\User\\Desktop\\KT Aivle\\KT_AIVLE_DX_Regular_course\\Week1\\DX_데이터 다루기_실습자료\\03 - 리스트.ipynb\n",
      "C:\\Users\\User\\Desktop\\KT Aivle\\KT_AIVLE_DX_Regular_course\\Week1\\DX_데이터 다루기_실습자료\\04 - 튜플.ipynb\n",
      "C:\\Users\\User\\Desktop\\KT Aivle\\KT_AIVLE_DX_Regular_course\\Week1\\DX_데이터 다루기_실습자료\\05 - 집합.ipynb\n",
      "C:\\Users\\User\\Desktop\\KT Aivle\\KT_AIVLE_DX_Regular_course\\Week1\\DX_데이터 다루기_실습자료\\06 - 딕셔너리.ipynb\n",
      "C:\\Users\\User\\Desktop\\KT Aivle\\KT_AIVLE_DX_Regular_course\\Week1\\DX_데이터 다루기_실습자료\\07 - 제어문.ipynb\n",
      "C:\\Users\\User\\Desktop\\KT Aivle\\KT_AIVLE_DX_Regular_course\\Week1\\DX_데이터 다루기_실습자료\\08 - 함수.ipynb\n",
      "C:\\Users\\User\\Desktop\\KT Aivle\\KT_AIVLE_DX_Regular_course\\Week1\\DX_데이터 다루기_실습자료\\09 - 정규 표현식.ipynb\n",
      "C:\\Users\\User\\Desktop\\KT Aivle\\KT_AIVLE_DX_Regular_course\\Week1\\DX_데이터 다루기_실습자료\\10 - 파일 읽고 쓰기.ipynb\n",
      "C:\\Users\\User\\Desktop\\KT Aivle\\KT_AIVLE_DX_Regular_course\\Week1\\DX_데이터 다루기_실습자료\\11 - 엑셀 파일 다루기.ipynb\n",
      "C:\\Users\\User\\Desktop\\KT Aivle\\KT_AIVLE_DX_Regular_course\\Week1\\DX_데이터 다루기_실습자료\\12 - 이메일 보내기.ipynb\n",
      "C:\\Users\\User\\Desktop\\KT Aivle\\KT_AIVLE_DX_Regular_course\\Week1\\DX_데이터 다루기_실습자료\\Animal.xlsx\n",
      "C:\\Users\\User\\Desktop\\KT Aivle\\KT_AIVLE_DX_Regular_course\\Week1\\DX_데이터 다루기_실습자료\\Dream.txt\n",
      "C:\\Users\\User\\Desktop\\KT Aivle\\KT_AIVLE_DX_Regular_course\\Week1\\DX_데이터 다루기_실습자료\\Fruit.xlsx\n",
      "C:\\Users\\User\\Desktop\\KT Aivle\\KT_AIVLE_DX_Regular_course\\Week1\\DX_데이터 다루기_실습자료\\human.jpg\n",
      "C:\\Users\\User\\Desktop\\KT Aivle\\KT_AIVLE_DX_Regular_course\\Week1\\DX_데이터 다루기_실습자료\\LittleStar.txt\n",
      "C:\\Users\\User\\Desktop\\KT Aivle\\KT_AIVLE_DX_Regular_course\\Week1\\DX_데이터 다루기_실습자료\\Members.xlsx\n",
      "C:\\Users\\User\\Desktop\\KT Aivle\\KT_AIVLE_DX_Regular_course\\Week1\\DX_데이터 다루기_실습자료\\MyFile.txt\n",
      "C:\\Users\\User\\Desktop\\KT Aivle\\KT_AIVLE_DX_Regular_course\\Week1\\DX_데이터 다루기_실습자료\\Poem.txt\n",
      "C:\\Users\\User\\Desktop\\KT Aivle\\KT_AIVLE_DX_Regular_course\\Week1\\DX_데이터 다루기_실습자료\\실습01 - 연산자와 기본 자료형.ipynb\n",
      "C:\\Users\\User\\Desktop\\KT Aivle\\KT_AIVLE_DX_Regular_course\\Week1\\DX_데이터 다루기_실습자료\\실습02 - 문자열 자료형.ipynb\n",
      "C:\\Users\\User\\Desktop\\KT Aivle\\KT_AIVLE_DX_Regular_course\\Week1\\DX_데이터 다루기_실습자료\\실습03 - 리스트.ipynb\n",
      "C:\\Users\\User\\Desktop\\KT Aivle\\KT_AIVLE_DX_Regular_course\\Week1\\DX_데이터 다루기_실습자료\\실습04 - 딕셔너리.ipynb\n",
      "C:\\Users\\User\\Desktop\\KT Aivle\\KT_AIVLE_DX_Regular_course\\Week1\\DX_데이터 다루기_실습자료\\실습05 - 제어문.ipynb\n",
      "C:\\Users\\User\\Desktop\\KT Aivle\\KT_AIVLE_DX_Regular_course\\Week1\\DX_데이터 다루기_실습자료\\실습06 - 함수.ipynb\n",
      "C:\\Users\\User\\Desktop\\KT Aivle\\KT_AIVLE_DX_Regular_course\\Week1\\DX_데이터 다루기_실습자료\\실습07 - 파일 읽고 쓰기.ipynb\n",
      "C:\\Users\\User\\Desktop\\KT Aivle\\KT_AIVLE_DX_Regular_course\\Week1\\DX_데이터 다루기_실습자료\\실습08 - 엑셀 파일 다루기.ipynb\n",
      "C:\\Users\\User\\Desktop\\KT Aivle\\KT_AIVLE_DX_Regular_course\\Week1\\DX_데이터 다루기_실습자료\\실습09 - 이메일 보내기.ipynb\n",
      "C:\\Users\\User\\Desktop\\KT Aivle\\KT_AIVLE_DX_Regular_course\\Week1\\DX_데이터 다루기_실습자료\\연습.ipynb\n"
     ]
    }
   ],
   "source": [
    "# 디렉터리 내용 확인\n",
    "from pathlib import Path\n",
    "\n",
    "files = Path.cwd().glob('*')\n",
    "\n",
    "for f in files:\n",
    "     print(f)"
   ]
  },
  {
   "cell_type": "markdown",
   "id": "45dead4a",
   "metadata": {
    "id": "45dead4a"
   },
   "source": [
    "## 10.2.기본적인 파일 읽고 쓰기"
   ]
  },
  {
   "cell_type": "markdown",
   "id": "90f73d54",
   "metadata": {
    "id": "90f73d54"
   },
   "source": [
    "**1) 파일 쓰기**\n",
    "\n",
    "- **w** 모드로 파일을 열어 **write()** 메서드로 파일에 기록합니다.\n",
    "- 이미 같은 이름의 파일이 있다면 제거되고 새 파일이 만들어집니다.\n",
    "- 경로를 지정하지 않으면 현재 작업 디렉터리에 기록됩니다."
   ]
  },
  {
   "cell_type": "code",
   "execution_count": 12,
   "id": "a66603b1",
   "metadata": {
    "id": "a66603b1"
   },
   "outputs": [],
   "source": [
    "# 파일 열기\n",
    "f = open('MyFile.txt', 'w')\n",
    "\n",
    "# 파일 쓰기\n",
    "f.write('안녕하세요?\\n')\n",
    "\n",
    "# 파일 닫기\n",
    "f.close()"
   ]
  },
  {
   "cell_type": "markdown",
   "id": "1d703a8c",
   "metadata": {
    "id": "1d703a8c"
   },
   "source": [
    "- mkdir()를 사용해 현재 작업 디렉터리에 새로운 디렉터리를 만듭니다.\n",
    "- exist_ok=True를 지정하면 이미 폴더가 있는 경우 해당 폴더를 사용합니다."
   ]
  },
  {
   "cell_type": "code",
   "execution_count": 14,
   "id": "8f493b86",
   "metadata": {
    "id": "8f493b86"
   },
   "outputs": [],
   "source": [
    "# 디렉터리 만들기\n",
    "Path('Files').mkdir(exist_ok=True)"
   ]
  },
  {
   "cell_type": "markdown",
   "id": "7393fedb",
   "metadata": {
    "id": "7393fedb"
   },
   "source": [
    "- Files/MyFile.txt 처럼 경로를 지정해 특정 디렉터리 안에 파일을 만듭니다.\n",
    "- Windows에서 경로 구분자로 '\\\\' 를 사용하는 것과 달리 '/' 를 사용함에 주의합니다."
   ]
  },
  {
   "cell_type": "code",
   "execution_count": 16,
   "id": "1f393aee",
   "metadata": {
    "id": "1f393aee"
   },
   "outputs": [],
   "source": [
    "# 파일 열기\n",
    "f = open('Files/MyFile.txt', 'w')\n",
    "\n",
    "# 파일 쓰기\n",
    "f.write('모두들 안녕하세요?\\n')\n",
    "\n",
    "# 파일 닫기\n",
    "f.close()"
   ]
  },
  {
   "cell_type": "markdown",
   "id": "3de7265b",
   "metadata": {
    "id": "3de7265b"
   },
   "source": [
    "**2) 파일 읽기**\n",
    "\n",
    "- r 모드로 파일을 열어 read() 메서드로 파일을 읽을 수 있습니다.\n",
    "- 지정한 파일이 없으면 오류가 발생합니다."
   ]
  },
  {
   "cell_type": "code",
   "execution_count": 18,
   "id": "d538a991",
   "metadata": {
    "id": "d538a991"
   },
   "outputs": [
    {
     "name": "stdout",
     "output_type": "stream",
     "text": [
      "안녕하세요?\n",
      "\n"
     ]
    }
   ],
   "source": [
    "# 파일 열기\n",
    "f = open('MyFile.txt', 'r')\n",
    "\n",
    "# 내용 읽기\n",
    "print(f.read())\n",
    "\n",
    "# 파일 닫기\n",
    "f.close()"
   ]
  },
  {
   "cell_type": "markdown",
   "id": "8ca289a7",
   "metadata": {
    "id": "8ca289a7"
   },
   "source": [
    "- 경로를 지정해 특정 디렉터리 안의 파일을 읽어옵니다."
   ]
  },
  {
   "cell_type": "code",
   "execution_count": 21,
   "id": "47a4a297",
   "metadata": {
    "id": "47a4a297"
   },
   "outputs": [
    {
     "name": "stdout",
     "output_type": "stream",
     "text": [
      "모두들 안녕하세요?\n",
      "\n"
     ]
    }
   ],
   "source": [
    "# 파일 열기\n",
    "f = open('Files/MyFile.txt', 'r')\n",
    "\n",
    "# 내용 읽기\n",
    "print(f.read())\n",
    "\n",
    "# 파일 닫기\n",
    "f.close()"
   ]
  },
  {
   "cell_type": "markdown",
   "id": "56341b9f",
   "metadata": {
    "id": "56341b9f"
   },
   "source": [
    "**3) 파일 내용 추가**\n",
    "\n",
    "- a 모드로 파일을 열어 write() 메서드로 내용을 추가할 수 있습니다.\n",
    "- 지정한 파일이 없으면 새 파일이 만들어집니다."
   ]
  },
  {
   "cell_type": "code",
   "execution_count": 24,
   "id": "b31ba938",
   "metadata": {
    "id": "b31ba938"
   },
   "outputs": [],
   "source": [
    "# 파일 열기\n",
    "f = open('MyFile.txt', 'a')\n",
    "\n",
    "# 내용 추가\n",
    "f.write('만나서 반갑습니다!')\n",
    "\n",
    "# 파일 닫기\n",
    "f.close()"
   ]
  },
  {
   "cell_type": "markdown",
   "id": "2cc49526",
   "metadata": {
    "id": "2cc49526"
   },
   "source": [
    "- 추가된 내용을 확인합니다."
   ]
  },
  {
   "cell_type": "code",
   "execution_count": 32,
   "id": "e09a9fdb",
   "metadata": {
    "id": "e09a9fdb"
   },
   "outputs": [
    {
     "name": "stdout",
     "output_type": "stream",
     "text": [
      "안녕하세요?\n",
      "만나서 반갑습니다!\n"
     ]
    }
   ],
   "source": [
    "# 파일 열기\n",
    "f = open('MyFile.txt', 'r')\n",
    "print(f.read())\n",
    "f.close()"
   ]
  },
  {
   "cell_type": "markdown",
   "id": "0eeab2d9",
   "metadata": {
    "id": "0eeab2d9"
   },
   "source": [
    "**4) 파일 있으면 오류 발생**\n",
    "\n",
    "- x 모드로 파일을 열면 같은 파일이 있는 경우 오류를 발생시킵니다.\n",
    "- 파일이 없으면 w 모드로 파일은 연 결과가 됩니다."
   ]
  },
  {
   "cell_type": "code",
   "execution_count": 30,
   "id": "fc8dfe80",
   "metadata": {
    "id": "fc8dfe80"
   },
   "outputs": [
    {
     "ename": "FileExistsError",
     "evalue": "[Errno 17] File exists: 'MyFile.txt'",
     "output_type": "error",
     "traceback": [
      "\u001b[1;31m---------------------------------------------------------------------------\u001b[0m",
      "\u001b[1;31mFileExistsError\u001b[0m                           Traceback (most recent call last)",
      "Cell \u001b[1;32mIn[30], line 2\u001b[0m\n\u001b[0;32m      1\u001b[0m \u001b[38;5;66;03m# 파일 열기\u001b[39;00m\n\u001b[1;32m----> 2\u001b[0m f \u001b[38;5;241m=\u001b[39m \u001b[38;5;28mopen\u001b[39m(\u001b[38;5;124m'\u001b[39m\u001b[38;5;124mMyFile.txt\u001b[39m\u001b[38;5;124m'\u001b[39m, \u001b[38;5;124m'\u001b[39m\u001b[38;5;124mx\u001b[39m\u001b[38;5;124m'\u001b[39m)\n\u001b[0;32m      4\u001b[0m \u001b[38;5;66;03m# 내용 쓰기\u001b[39;00m\n\u001b[0;32m      5\u001b[0m f\u001b[38;5;241m.\u001b[39mwrite(\u001b[38;5;124m'\u001b[39m\u001b[38;5;124m만나서 반갑습니다!\u001b[39m\u001b[38;5;124m'\u001b[39m)\n",
      "File \u001b[1;32m~\\anaconda3\\Lib\\site-packages\\IPython\\core\\interactiveshell.py:324\u001b[0m, in \u001b[0;36m_modified_open\u001b[1;34m(file, *args, **kwargs)\u001b[0m\n\u001b[0;32m    317\u001b[0m \u001b[38;5;28;01mif\u001b[39;00m file \u001b[38;5;129;01min\u001b[39;00m {\u001b[38;5;241m0\u001b[39m, \u001b[38;5;241m1\u001b[39m, \u001b[38;5;241m2\u001b[39m}:\n\u001b[0;32m    318\u001b[0m     \u001b[38;5;28;01mraise\u001b[39;00m \u001b[38;5;167;01mValueError\u001b[39;00m(\n\u001b[0;32m    319\u001b[0m         \u001b[38;5;124mf\u001b[39m\u001b[38;5;124m\"\u001b[39m\u001b[38;5;124mIPython won\u001b[39m\u001b[38;5;124m'\u001b[39m\u001b[38;5;124mt let you open fd=\u001b[39m\u001b[38;5;132;01m{\u001b[39;00mfile\u001b[38;5;132;01m}\u001b[39;00m\u001b[38;5;124m by default \u001b[39m\u001b[38;5;124m\"\u001b[39m\n\u001b[0;32m    320\u001b[0m         \u001b[38;5;124m\"\u001b[39m\u001b[38;5;124mas it is likely to crash IPython. If you know what you are doing, \u001b[39m\u001b[38;5;124m\"\u001b[39m\n\u001b[0;32m    321\u001b[0m         \u001b[38;5;124m\"\u001b[39m\u001b[38;5;124myou can use builtins\u001b[39m\u001b[38;5;124m'\u001b[39m\u001b[38;5;124m open.\u001b[39m\u001b[38;5;124m\"\u001b[39m\n\u001b[0;32m    322\u001b[0m     )\n\u001b[1;32m--> 324\u001b[0m \u001b[38;5;28;01mreturn\u001b[39;00m io_open(file, \u001b[38;5;241m*\u001b[39margs, \u001b[38;5;241m*\u001b[39m\u001b[38;5;241m*\u001b[39mkwargs)\n",
      "\u001b[1;31mFileExistsError\u001b[0m: [Errno 17] File exists: 'MyFile.txt'"
     ]
    }
   ],
   "source": [
    "# 파일 열기\n",
    "f = open('MyFile.txt', 'x')\n",
    "\n",
    "# 내용 쓰기\n",
    "f.write('만나서 반갑습니다!')\n",
    "\n",
    "# 파일 닫기\n",
    "f.close()"
   ]
  },
  {
   "cell_type": "markdown",
   "id": "f5a24561",
   "metadata": {
    "id": "f5a24561"
   },
   "source": [
    "- 같은 이름의 파일이 있어 오류가 나는 것에 대한 핸들링을 합니다."
   ]
  },
  {
   "cell_type": "code",
   "execution_count": 34,
   "id": "a5483cd0",
   "metadata": {
    "id": "a5483cd0"
   },
   "outputs": [
    {
     "name": "stdout",
     "output_type": "stream",
     "text": [
      "같은 이름의 파일이 있습니다.\n",
      "수고하셨습니다.\n"
     ]
    }
   ],
   "source": [
    "# 오류 핸들링\n",
    "try:\n",
    "    f = open('MyFile.txt', 'x')\n",
    "    f.write('만나서 반갑습니다!')\n",
    "    f.close()\n",
    "except FileExistsError:     #  이미 파일이 있으면\n",
    "    print('같은 이름의 파일이 있습니다.')\n",
    "else:                       # 그렇지 않으면\n",
    "    print('파일 쓰기 성공했습니다.')\n",
    "finally:                    # 마무리\n",
    "    print('수고하셨습니다.')"
   ]
  },
  {
   "cell_type": "markdown",
   "id": "f7065948",
   "metadata": {
    "id": "f7065948"
   },
   "source": [
    "<img src='https://raw.githubusercontent.com/jangrae/img/master/practice_01.png' width=120 align = \"left\"/>"
   ]
  },
  {
   "cell_type": "markdown",
   "id": "f7eb110b",
   "metadata": {
    "id": "f7eb110b"
   },
   "source": [
    "[문1] Python.txt 파일을 만드세요.  "
   ]
  },
  {
   "cell_type": "code",
   "execution_count": null,
   "id": "169098d7",
   "metadata": {
    "id": "169098d7"
   },
   "outputs": [],
   "source": [
    "# 파일 열기\n",
    "# 파일 열기\n",
    "f = open('Files/Python.txt', 'w')\n",
    "\n",
    "# 파일 닫기\n",
    "f.close()"
   ]
  },
  {
   "cell_type": "markdown",
   "id": "abf486f0",
   "metadata": {
    "id": "abf486f0"
   },
   "source": [
    "[문2] 아래 내용을 파일에 입력해 보세요.\n",
    "\n",
    "- 홍길동 대신 자신의 이름을 입력합니다.\n",
    "- 입력 후에는 파일을 close 하고, 탐색기에서 열어 보세요.\n",
    "\n",
    "<파이썬과 나>  \n",
    "시인: 홍길동"
   ]
  },
  {
   "cell_type": "code",
   "execution_count": null,
   "id": "3d92d7ab",
   "metadata": {
    "id": "3d92d7ab"
   },
   "outputs": [],
   "source": [
    "# 내용 쓰기\n",
    "\n",
    "\n",
    "\n",
    "# 파일 닫기\n"
   ]
  },
  {
   "cell_type": "markdown",
   "id": "03640659",
   "metadata": {
    "id": "03640659"
   },
   "source": [
    "[문3] 아래 내용을 파일에 추가해 봅시다.\n",
    "\n",
    "- 추가한 후에는 파일을 close 하고, 탐색기에서 열어 보세요.\n",
    "\n",
    "~~~\n",
    "어느날\n",
    "파이썬이 나에게 왔다.\n",
    "많이 낯설었다.\n",
    "지금은 나와 하나가 되었다.\n",
    "파이썬이 나고,\n",
    "내가 파이썬이다.\n",
    "~~~"
   ]
  },
  {
   "cell_type": "code",
   "execution_count": null,
   "id": "0cc6dac2",
   "metadata": {
    "id": "0cc6dac2"
   },
   "outputs": [],
   "source": [
    "# 파일 열기\n",
    "\n",
    "\n",
    "# 내용 추가\n",
    "\n",
    "\n",
    "\n",
    "\n",
    "# 파일 닫기\n"
   ]
  },
  {
   "cell_type": "markdown",
   "id": "a96f03ec",
   "metadata": {
    "id": "a96f03ec"
   },
   "source": [
    "## 10.3.파일을 다루는 편리한 메서드"
   ]
  },
  {
   "cell_type": "markdown",
   "id": "1af7463a",
   "metadata": {
    "id": "1af7463a"
   },
   "source": [
    "**1) writelines() 메서드**\n",
    "\n",
    "- writelines() 메서드를 사용해 행 리스트를 파일에 기록할 수 있습니다."
   ]
  },
  {
   "cell_type": "code",
   "execution_count": null,
   "id": "2a477f2c",
   "metadata": {
    "id": "2a477f2c"
   },
   "outputs": [],
   "source": [
    "# 파일 여러 줄 쓰기\n",
    "hello = ['안녕하세요?\\n', '만나서 반갑습니다!\\n', '우리 사이좋게 잘 지내요.\\n']\n",
    "f = open('MyFile.txt', 'w')\n",
    "f.writelines(hello)\n",
    "f.close()"
   ]
  },
  {
   "cell_type": "markdown",
   "id": "9f54c66c",
   "metadata": {
    "id": "9f54c66c"
   },
   "source": [
    "- 추가된 내용을 확인합니다."
   ]
  },
  {
   "cell_type": "code",
   "execution_count": null,
   "id": "88b27f8d",
   "metadata": {
    "id": "88b27f8d"
   },
   "outputs": [],
   "source": [
    "# 파일 읽기\n",
    "f =  open('MyFile.txt', 'r')\n",
    "print(f.read())\n",
    "f.close()"
   ]
  },
  {
   "cell_type": "markdown",
   "id": "036405a3",
   "metadata": {
    "id": "036405a3"
   },
   "source": [
    "**2) readlines() 메서드**\n",
    "\n",
    "- readlines() 메서드를 사용해 모든 행을 한 번에 읽을 수 있습니다.\n",
    "- 결과는 리스트가 되므로, 반복문으로 한 행 씩 읽을 수 있습니다."
   ]
  },
  {
   "cell_type": "code",
   "execution_count": null,
   "id": "169524a0",
   "metadata": {
    "id": "169524a0"
   },
   "outputs": [],
   "source": [
    "# 파일 한 번에 읽기\n",
    "f = open('MyFile.txt', 'r')\n",
    "result = f.readlines()\n",
    "f.close()\n",
    "\n",
    "# 내용 확인\n",
    "print(result)"
   ]
  },
  {
   "cell_type": "code",
   "execution_count": null,
   "id": "bfc029c2",
   "metadata": {
    "id": "bfc029c2"
   },
   "outputs": [],
   "source": [
    "# 반복문으로 한 행씩 표시\n",
    "for txt in result:\n",
    "    print(txt, end='')"
   ]
  },
  {
   "cell_type": "markdown",
   "id": "f1e21374",
   "metadata": {
    "id": "f1e21374"
   },
   "source": [
    "**3) readline() 메서드**\n",
    "\n",
    "- readline() 메서드를 사용해 행 단위로 읽을 수 있습니다.\n",
    "- 결과는 문자열이 됩니다."
   ]
  },
  {
   "cell_type": "code",
   "execution_count": null,
   "id": "7ef89a90",
   "metadata": {
    "id": "7ef89a90"
   },
   "outputs": [],
   "source": [
    "# 파일 읽기\n",
    "f = open('MyFile.txt', 'r')\n",
    "\n",
    "# 내용 읽기\n",
    "print(f.readline())\n",
    "print(f.readline())\n",
    "print(f.readline())\n",
    "\n",
    "# 파일 닫기\n",
    "f.close()"
   ]
  },
  {
   "cell_type": "markdown",
   "id": "c6d8d94b",
   "metadata": {
    "id": "c6d8d94b"
   },
   "source": [
    "- 반복문을 이용해 모든 행을 읽어올 수 있습니다."
   ]
  },
  {
   "cell_type": "code",
   "execution_count": null,
   "id": "7efca9e1",
   "metadata": {
    "id": "7efca9e1"
   },
   "outputs": [],
   "source": [
    "# 파일 읽기\n",
    "f = open('MyFile.txt', 'r')\n",
    "result = f.readline()\n",
    "\n",
    "# 반복문으로 한 행씩 읽어 표시\n",
    "while result:\n",
    "    print(result, end='')\n",
    "    result = f.readline()\n",
    "\n",
    "# 파일 닫기\n",
    "f.close()"
   ]
  },
  {
   "cell_type": "markdown",
   "id": "717b474c",
   "metadata": {
    "id": "717b474c"
   },
   "source": [
    "## 10.4.워드 클라우드 만들기\n",
    "\n",
    "- 마틴루터킹 목사의 'I have a Dream' 연설문을 가지고 워드 클라우드를 만들어 봅니다."
   ]
  },
  {
   "cell_type": "markdown",
   "id": "959624be",
   "metadata": {
    "id": "959624be"
   },
   "source": [
    "<img src='https://i.ytimg.com/vi/mrP2lh7oTBU/maxresdefault.jpg' width=650 align = \"left\"/>"
   ]
  },
  {
   "cell_type": "markdown",
   "id": "e43c3201",
   "metadata": {
    "id": "e43c3201"
   },
   "source": [
    "- 워드 클라우드를 만드는 순서는 다음과 같습니다.\n",
    "\n",
    "(1) 텍스트파일로 저장하기\n",
    "\n",
    "- 읽을 파일을 만듭니다.\n",
    "- 여기서는 수동으로 어디선가 가져오겠지만,\n",
    "- 나중에는 크롤링을 통해서 웹에서 가져올 수도 있습니다.\n",
    "\n",
    "\n",
    "(2) 텍스트 전처리\n",
    "\n",
    "- 파일을 읽어서 split() 메서드를 사용해 단어 단위로 쪼갭니다.\n",
    "- 단어별 빈도수를 계산하여 딕셔너리 형태로 저장합니다.\n",
    "- 분석에 의미가 없는 조사들은 제거합니다.\n",
    "\n",
    "(3) 워드 클라우드 그리기\n",
    "\n",
    "-  wordcloud 라이브러리를 설치한 후 불러옵니다.\n",
    "- 워드 클라우드를 그립니다."
   ]
  },
  {
   "cell_type": "markdown",
   "id": "2a852b4b",
   "metadata": {
    "id": "2a852b4b"
   },
   "source": [
    "**1) 텍스트파일로 저장하기**\n",
    "\n",
    "- 수업을 위해 이미 저장해 놓았습니다."
   ]
  },
  {
   "cell_type": "markdown",
   "id": "ec6410a3",
   "metadata": {
    "id": "ec6410a3"
   },
   "source": [
    "**2) 텍스트 전처리**\n",
    "\n",
    "- 우선 파일을 읽어와 내용을 확인합니다.\n",
    "- 한글 파일을 읽어올 때 인코딩 오류가 발생하면 encoding='CP949'로 지정합니다."
   ]
  },
  {
   "cell_type": "code",
   "execution_count": null,
   "id": "971f1f4b",
   "metadata": {
    "id": "971f1f4b"
   },
   "outputs": [],
   "source": [
    "# 파일 읽기\n",
    "file = open('Dream.txt', 'r', encoding='UTF-8')\n",
    "text = file.read()\n",
    "file.close()\n",
    "\n",
    "# 확인(100 글자만)\n",
    "text[:100]"
   ]
  },
  {
   "cell_type": "markdown",
   "id": "e891fde0",
   "metadata": {
    "id": "e891fde0"
   },
   "source": [
    "- split() 메서드를 사용해  단어 단위로 잘라 리스트 형태로 만듭니다."
   ]
  },
  {
   "cell_type": "code",
   "execution_count": null,
   "id": "eca8c7b3",
   "metadata": {
    "id": "eca8c7b3"
   },
   "outputs": [],
   "source": [
    "# 공백을 구분자로 하여 단어 단위로 자르기\n",
    "wordList =\n",
    "\n",
    "# 확인(10 개만)\n",
    "wordList[:10]"
   ]
  },
  {
   "cell_type": "markdown",
   "id": "e75207ec",
   "metadata": {
    "id": "e75207ec"
   },
   "source": [
    "- 단어별 빈도수를 계산하여 딕셔너리로 저장합니다."
   ]
  },
  {
   "cell_type": "code",
   "execution_count": null,
   "id": "2c967a89",
   "metadata": {
    "id": "2c967a89"
   },
   "outputs": [],
   "source": [
    "# 중복 단어 제거\n",
    "worduniq =\n",
    "\n",
    "# 딕셔너리 선언\n",
    "wordCount = {}\n",
    "\n",
    "# 단어별 개수 저장\n",
    "for w in worduniq:\n",
    "    wordCount[w] = wordList.count(w)\n",
    "\n",
    "# 제외 대상 조사\n",
    "del_word = ['the','a','is','are', 'not','of','on','that','this','and','be','to', 'from']\n",
    "\n",
    "# 제외하기\n",
    "\n",
    "\n"
   ]
  },
  {
   "cell_type": "markdown",
   "id": "d5098238",
   "metadata": {
    "id": "d5098238"
   },
   "source": [
    "**3) 워드 클라우드 그리기**\n",
    "\n",
    "- wordcloud 패키지를 설치합니다."
   ]
  },
  {
   "cell_type": "code",
   "execution_count": null,
   "id": "369fe88f",
   "metadata": {
    "id": "369fe88f"
   },
   "outputs": [],
   "source": [
    "# 패키지 설치합\n",
    "!pip install wordcloud"
   ]
  },
  {
   "cell_type": "markdown",
   "id": "251c6c13",
   "metadata": {
    "id": "251c6c13"
   },
   "source": [
    "- 드디어! 워드 클라우드를 그립니다."
   ]
  },
  {
   "cell_type": "code",
   "execution_count": null,
   "id": "67fb5b3f",
   "metadata": {
    "id": "67fb5b3f"
   },
   "outputs": [],
   "source": [
    "# 라이브러리 불러오기\n",
    "import matplotlib.pyplot as plt\n",
    "from wordcloud import WordCloud\n",
    "%config InlineBackend.figure_format='retina'\n",
    "\n",
    "# 워드 클라우드 만들기\n",
    "wordcloud = WordCloud(font_path = 'C:/Windows/fonts/HMKMRHD.TTF',\n",
    "                      width=2000,\n",
    "                      height=1000,\n",
    "                      background_color='white').generate_from_frequencies(    )\n",
    "\n",
    "# 표시하기\n",
    "plt.figure(figsize=(12, 6))\n",
    "plt.imshow(    )\n",
    "plt.axis(\"off\")\n",
    "plt.tight_layout(pad=0)\n",
    "plt.show()"
   ]
  },
  {
   "cell_type": "markdown",
   "id": "8b1235ec",
   "metadata": {
    "id": "8b1235ec"
   },
   "source": [
    "<img src='https://raw.githubusercontent.com/jangrae/img/master/practice_01.png' width=120 align=\"left\"/>"
   ]
  },
  {
   "cell_type": "markdown",
   "id": "497040e3",
   "metadata": {
    "id": "497040e3"
   },
   "source": [
    "[문1] 불필요한 조사나 단어를 좀 더 제외한 후 다시 그려봅니다."
   ]
  },
  {
   "cell_type": "code",
   "execution_count": null,
   "id": "738f65d0",
   "metadata": {
    "id": "738f65d0"
   },
   "outputs": [],
   "source": [
    "# 제외 대상 조사\n",
    "\n",
    "\n",
    "# 제외하기\n",
    "\n",
    "\n"
   ]
  },
  {
   "cell_type": "code",
   "execution_count": null,
   "id": "bc4af204",
   "metadata": {
    "id": "bc4af204"
   },
   "outputs": [],
   "source": [
    "# 워드 클라우드 그리기\n",
    "\n",
    "\n"
   ]
  },
  {
   "cell_type": "markdown",
   "id": "d4e228e8",
   "metadata": {
    "id": "d4e228e8"
   },
   "source": [
    "## 참고: 이미지 파일 사용\n",
    "\n",
    "- 이미지 파일을 사용해 워드클라우드 전체 프레임 모양을 변경할 수 있습니다.  "
   ]
  },
  {
   "cell_type": "code",
   "execution_count": null,
   "id": "508b1c50",
   "metadata": {
    "id": "508b1c50"
   },
   "outputs": [],
   "source": [
    "# 라이브러리 불러오기\n",
    "import numpy as np\n",
    "from PIL import Image\n",
    "\n",
    "# 이미지 불러오기\n",
    "masking_image = np.array(Image.open('  ?  '))\n",
    "\n",
    "# 워드 클라우드 만들기\n",
    "wordcloud = WordCloud(font_path = 'C:/Windows/fonts/HMKMRHD.TTF',\n",
    "                      width=2000,\n",
    "                      height=1000,\n",
    "                      mask=masking_image,\n",
    "                      background_color='white').generate_from_frequencies(wordCount)\n",
    "\n",
    "# 표시하기\n",
    "plt.figure(figsize=(12, 6))\n",
    "plt.imshow(wordcloud)\n",
    "plt.axis(\"off\")\n",
    "plt.tight_layout(pad=0)\n",
    "plt.show()"
   ]
  }
 ],
 "metadata": {
  "colab": {
   "provenance": []
  },
  "kernelspec": {
   "display_name": "Python 3 (ipykernel)",
   "language": "python",
   "name": "python3"
  },
  "language_info": {
   "codemirror_mode": {
    "name": "ipython",
    "version": 3
   },
   "file_extension": ".py",
   "mimetype": "text/x-python",
   "name": "python",
   "nbconvert_exporter": "python",
   "pygments_lexer": "ipython3",
   "version": "3.12.4"
  }
 },
 "nbformat": 4,
 "nbformat_minor": 5
}
