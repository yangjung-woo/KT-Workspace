{
 "cells": [
  {
   "cell_type": "markdown",
   "metadata": {
    "id": "b3TDAdnvnSbh"
   },
   "source": [
    "<center><img src='https://raw.githubusercontent.com/Jangrae/img/master/title.png' width=500/></center>"
   ]
  },
  {
   "cell_type": "markdown",
   "metadata": {
    "id": "413yAfItnv9-"
   },
   "source": [
    "# 2.문자열 자료형\n",
    "\n",
    "- 기본 자료형이지만 이해해야 할 부분이 많아 별도로 분리해서 학습합니다."
   ]
  },
  {
   "cell_type": "markdown",
   "metadata": {
    "id": "kKXefopnnv9-"
   },
   "source": [
    "## 2.1.문자열 사용\n",
    "\n",
    "- Python의 문자열은 많은 편의성과 다양한 기능을 제공합니다."
   ]
  },
  {
   "cell_type": "markdown",
   "metadata": {
    "id": "lPlwfVkOnv99"
   },
   "source": [
    "**1) 문자열 표현**\n",
    "\n",
    "- **작은 따옴표**, 또는 **큰 따옴표**를 사용해 문자열을 표현합니다.\n",
    "- **len()** 함수로 문자열 길이(=포함된 문자 개수)를 확인할 수 있습니다."
   ]
  },
  {
   "cell_type": "code",
   "execution_count": 4,
   "metadata": {
    "id": "V0d6x1Jku-lI"
   },
   "outputs": [
    {
     "name": "stdout",
     "output_type": "stream",
     "text": [
      "Hello world\n",
      "HelloWorld\n"
     ]
    }
   ],
   "source": [
    "# 문자열 출력(Hello World)\n",
    "print(\"Hello world\")\n",
    "print( \"Hello\" + \"World\" )"
   ]
  },
  {
   "cell_type": "code",
   "execution_count": 6,
   "metadata": {
    "id": "sNZuPrSsMoBp"
   },
   "outputs": [
    {
     "name": "stdout",
     "output_type": "stream",
     "text": [
      "HelloWorld\n"
     ]
    }
   ],
   "source": [
    "# 문자열 변수 선언\n",
    "a = 'Hello'\n",
    "b = \"World\"\n",
    "\n",
    "# 확인\n",
    "print( a + b)"
   ]
  },
  {
   "cell_type": "code",
   "execution_count": 8,
   "metadata": {
    "id": "G1mi-aU-nv96"
   },
   "outputs": [
    {
     "data": {
      "text/plain": [
       "10"
      ]
     },
     "execution_count": 8,
     "metadata": {},
     "output_type": "execute_result"
    }
   ],
   "source": [
    "# 문자열 길이 확인\n",
    "len(a+b)"
   ]
  },
  {
   "cell_type": "markdown",
   "metadata": {
    "id": "QfuJdpmgnv95"
   },
   "source": [
    "**2) 문자열 나열**\n",
    "\n",
    "- 문자열을 콤마 없이 나란히 나열하면 합쳐진 결과를 얻습니다.\n",
    "\n"
   ]
  },
  {
   "cell_type": "code",
   "execution_count": 11,
   "metadata": {
    "id": "bLFMIXe1nv93"
   },
   "outputs": [
    {
     "data": {
      "text/plain": [
       "'helloworld'"
      ]
     },
     "execution_count": 11,
     "metadata": {},
     "output_type": "execute_result"
    }
   ],
   "source": [
    "# 콤마 없이 나열\n",
    "s = 'hello' 'world'\n",
    "\n",
    "# 확인\n",
    "s"
   ]
  },
  {
   "cell_type": "markdown",
   "metadata": {
    "id": "9k4_-j4eAQYm"
   },
   "source": [
    "- 문자열을 콤마로 구분하여 나열하면 튜플(Tuple)이 됩니다.\n",
    "- 참고로 튜플은 (1, 2, 3) 형태로 소괄호 안에 요소가 나열된 자료형입니다."
   ]
  },
  {
   "cell_type": "code",
   "execution_count": 13,
   "metadata": {
    "id": "YIgln406nv92"
   },
   "outputs": [
    {
     "data": {
      "text/plain": [
       "('hello', 'world')"
      ]
     },
     "execution_count": 13,
     "metadata": {},
     "output_type": "execute_result"
    }
   ],
   "source": [
    "# 콤마로 구분해 나열\n",
    "s = 'hello', 'world' # 퓨틀 자료형\n",
    "\n",
    "# 확인\n",
    "s"
   ]
  },
  {
   "cell_type": "markdown",
   "metadata": {
    "id": "L5ngDzVHnv91"
   },
   "source": [
    "**3) 여러 줄 문자열 표현**\n",
    "\n",
    "- 문자열 앞뒤에 따옴표 세 개를 나열하거나, \\\\n을 사용해 여러 줄 표현이 가능합니다.\n",
    "- print() 함수를 사용해야 의도한 내용이 제대로 표시됩니다."
   ]
  },
  {
   "cell_type": "code",
   "execution_count": 15,
   "metadata": {
    "id": "gBCvk1AKnv9z"
   },
   "outputs": [
    {
     "name": "stdout",
     "output_type": "stream",
     "text": [
      "여러 줄의 문자열을 표시할 때는 \n",
      "을 사용하세요\n"
     ]
    }
   ],
   "source": [
    "# 여러 줄 문자열 표시\n",
    "s1 = \"여러 줄의 문자열을 표시할 때는 \\n을 사용하세요\"\n",
    "print(s1)"
   ]
  },
  {
   "cell_type": "code",
   "execution_count": 17,
   "metadata": {
    "id": "zeh_t53mP4EK"
   },
   "outputs": [
    {
     "name": "stdout",
     "output_type": "stream",
     "text": [
      "또 다른 방법은\n",
      "큰 따옴표나 작은 따옴표를 세 개 사용하는 것입니다.\n"
     ]
    }
   ],
   "source": [
    "s2 = \"\"\"또 다른 방법은\n",
    "큰 따옴표나 작은 따옴표를 세 개 사용하는 것입니다.\"\"\"\n",
    "print(s2)"
   ]
  },
  {
   "cell_type": "markdown",
   "metadata": {
    "id": "WChkLqE7nv9z"
   },
   "source": [
    "**4) 문자열에 따옴표 넣기**\n",
    "\n",
    "- 큰 따옴표 안에 작은 따옴표, 또는 작은 따옴표 안에 큰 따옴표를 사용합니다.\n",
    "- \\\\' 또는 \\\\\\\"를 사용해도 됩니다.\n",
    "- print() 함수를 사용해야 의도한 내용이 제대로 표시됩니다."
   ]
  },
  {
   "cell_type": "code",
   "execution_count": 19,
   "metadata": {
    "id": "bIRaoRhVnv9x"
   },
   "outputs": [
    {
     "name": "stdout",
     "output_type": "stream",
     "text": [
      "문자열 안에 따옴표, 예를 들어 '를 넣고 싶을 때는 이렇게 하세요.\n"
     ]
    }
   ],
   "source": [
    "# 문자열에 따옴표 넣기\n",
    "s3 = \"문자열 안에 따옴표, 예를 들어 '를 넣고 싶을 때는 이렇게 하세요.\"\n",
    "print(s3)"
   ]
  },
  {
   "cell_type": "code",
   "execution_count": 21,
   "metadata": {
    "id": "hfWfYIwpQSyM"
   },
   "outputs": [
    {
     "name": "stdout",
     "output_type": "stream",
     "text": [
      "아니면 ' 또는 \"를 사용해도 됩니다.\n"
     ]
    }
   ],
   "source": [
    "s4 = \"아니면 \\' 또는 \\\"를 사용해도 됩니다.\"\n",
    "print(s4)"
   ]
  },
  {
   "cell_type": "markdown",
   "metadata": {
    "id": "p_NRNoh3A84t"
   },
   "source": [
    "**5) 문자열에 \\ 넣기**\n",
    "\n",
    "- 만일 문자열에 \\를 넣고자 한다면 다음 구문과 같이 합니다."
   ]
  },
  {
   "cell_type": "code",
   "execution_count": 23,
   "metadata": {
    "id": "ZfWWwXqPnv9v"
   },
   "outputs": [
    {
     "name": "stdout",
     "output_type": "stream",
     "text": [
      "아니면 \\' 또는 \\\"를 사용해도 됩니다.\n"
     ]
    }
   ],
   "source": [
    "# 문자열에 \\ 넣기\n",
    "s5 = \"아니면 \\\\' 또는 \\\\\\\"를 사용해도 됩니다.\"\n",
    "print(s5)"
   ]
  },
  {
   "cell_type": "markdown",
   "metadata": {
    "id": "O5mVEqB7nv9v"
   },
   "source": [
    "## 2.2.문자열 연산\n",
    "\n",
    "- 문자열 연산은 숫자 연산과 당연히 다릅니다.\n",
    "- 문자열 연산에 대해 알아두면 이후에 편리하게 사용할 수 있습니다."
   ]
  },
  {
   "cell_type": "markdown",
   "metadata": {
    "id": "ucdDlanHnv9u"
   },
   "source": [
    "**1) 문자열 + 문자열 = 문자열 결합**"
   ]
  },
  {
   "cell_type": "code",
   "execution_count": 1,
   "metadata": {
    "id": "Zw3mEBIZnv9s"
   },
   "outputs": [
    {
     "data": {
      "text/plain": [
       "'helloworld'"
      ]
     },
     "execution_count": 1,
     "metadata": {},
     "output_type": "execute_result"
    }
   ],
   "source": [
    "# 문자열 변수\n",
    "s1 = 'hello'\n",
    "s2 = 'world'\n",
    "\n",
    "# 문자열 더하기\n",
    "hw = s1 + s2\n",
    "\n",
    "# 확인\n",
    "hw"
   ]
  },
  {
   "cell_type": "markdown",
   "metadata": {
    "id": "Gefg0ZxYnv9s"
   },
   "source": [
    "**2) 문자열 * 정수 = 문자열 반복**"
   ]
  },
  {
   "cell_type": "markdown",
   "metadata": {
    "id": "a2jQwLqqy6Nl"
   },
   "source": [
    "       *****************\n",
    "       ** hello world **\n",
    "       *****************"
   ]
  },
  {
   "cell_type": "code",
   "execution_count": 7,
   "metadata": {
    "id": "qJIvIquUnv9q",
    "scrolled": true
   },
   "outputs": [
    {
     "name": "stdout",
     "output_type": "stream",
     "text": [
      "*****************\n",
      "** hello world **\n",
      "*****************\n"
     ]
    }
   ],
   "source": [
    "# * 사용해 문자열 반복\n",
    "\n",
    "print('*' * 17)\n",
    "print('*'*2 +' hello world ' + '*'*2)\n",
    "print('*' * 17)"
   ]
  },
  {
   "cell_type": "code",
   "execution_count": 9,
   "metadata": {
    "id": "LnZOe10Dnv9o"
   },
   "outputs": [
    {
     "name": "stdout",
     "output_type": "stream",
     "text": [
      "hello\n",
      "\n",
      "hellohello\n"
     ]
    }
   ],
   "source": [
    "# 문자열에 0을 곱하면 문자열이 제거됨\n",
    "s = 'hello'\n",
    "print(s * 1)\n",
    "print(s * 0)\n",
    "print(s * 2)"
   ]
  },
  {
   "cell_type": "markdown",
   "metadata": {
    "id": "h_N_KJKEnv9o"
   },
   "source": [
    "## 2.3.format 메서드 사용\n",
    "\n",
    "- 문자열 일부분만 바꾸면서 해당 문자열을 재사용할 경우가 있습니다.\n",
    "- 예를 들어 문자열에서 이름만 변경하며 사용하는 경우입니다.\n",
    "- 이를 **문자열 포맷팅**이라고 하며, **문자열.format()** 형태로 사용합니다."
   ]
  },
  {
   "cell_type": "markdown",
   "metadata": {
    "id": "2gMFPA7xY8D7"
   },
   "source": [
    "**1) 기본 사용법**\n",
    "\n",
    "- 단순 문자열에서 { }는 아무 의미가 없습니다."
   ]
  },
  {
   "cell_type": "code",
   "execution_count": 11,
   "metadata": {
    "id": "L8WL0saYNPpL"
   },
   "outputs": [
    {
     "data": {
      "text/plain": [
       "'이름:{}, 과목:{}, 점수:{}'"
      ]
     },
     "execution_count": 11,
     "metadata": {},
     "output_type": "execute_result"
    }
   ],
   "source": [
    "# 단순 문자열\n",
    "'이름:{}, 과목:{}, 점수:{}'"
   ]
  },
  {
   "cell_type": "markdown",
   "metadata": {
    "id": "I2WMB3BGTnzk"
   },
   "source": [
    "- 하지만 format() 메서드를 만나면 { }는 큰 의미를 가집니다."
   ]
  },
  {
   "cell_type": "code",
   "execution_count": 14,
   "metadata": {
    "id": "wDQpgWtoTGHF"
   },
   "outputs": [
    {
     "data": {
      "text/plain": [
       "'이름:양정우, 과목:국어, 점수:100'"
      ]
     },
     "execution_count": 14,
     "metadata": {},
     "output_type": "execute_result"
    }
   ],
   "source": [
    "# format 사용\n",
    "'이름:{}, 과목:{}, 점수:{}'.format('양정우','국어', '100')     # '이름:홍길동, 과목:국어, 점수:90'"
   ]
  },
  {
   "cell_type": "markdown",
   "metadata": {
    "id": "KxL6u78WjyGM"
   },
   "source": [
    "- format() 메서드는 대부분 print() 함수 안에서 사용합니다."
   ]
  },
  {
   "cell_type": "code",
   "execution_count": 17,
   "metadata": {
    "id": "1Jz5JMJ6jibc"
   },
   "outputs": [
    {
     "name": "stdout",
     "output_type": "stream",
     "text": [
      "이름:홍길동, 연도:2019, 실적:2345.6789\n"
     ]
    }
   ],
   "source": [
    "# 변수 선언\n",
    "name = '홍길동'\n",
    "year = 2019\n",
    "perf = 2345.6789\n",
    "\n",
    "# 출력\n",
    "print('이름:{}, 연도:{}, 실적:{}'.format(name, year, perf) )"
   ]
  },
  {
   "cell_type": "markdown",
   "metadata": {
    "id": "4pljOl6MNPpc"
   },
   "source": [
    "**2) 표시 위치 지정**\n",
    "\n",
    "- { } 안에 변수 위치 값을 지정해야 하지만, 순서대로 사용될 것이면 생략하는 경우가 많습니다.\n",
    "- { } 는 출력되는 값 순서 외에도 출력되는 형태, 즉 자리수 등을 제어할 수 있는 기능도 있습니다."
   ]
  },
  {
   "cell_type": "code",
   "execution_count": 20,
   "metadata": {
    "id": "MCOZpPATkN0T"
   },
   "outputs": [
    {
     "name": "stdout",
     "output_type": "stream",
     "text": [
      "이름:홍길동, 연도:2019, 실적:2345.6789\n",
      "이름:홍길동, 연도:2019, 실적:2345.68\n",
      "이름:홍길동, 연도:2019, 실적:2,345.68\n"
     ]
    }
   ],
   "source": [
    "# 변수 선언\n",
    "name = '홍길동'\n",
    "year = 2019\n",
    "perf = 2345.6789\n",
    "\n",
    "# 출력\n",
    "print('이름:{0}, 연도:{1}, 실적:{2}'.format(name, year, perf)           )\n",
    "print('이름:{0}, 연도:{1}, 실적:{2:.2f}'.format(name, year, perf)        )\n",
    "print('이름:{}, 연도:{}, 실적:{:,.2f}'.format(name, year, perf)          )"
   ]
  },
  {
   "cell_type": "markdown",
   "metadata": {
    "id": "U-Ir095wnv9d"
   },
   "source": [
    "**3) 자릿수와 정렬 방식 지정**\n",
    "\n",
    "- 좀 더 세밀한 출력 형태를 지정하고 싶은 경우 사용합니다."
   ]
  },
  {
   "cell_type": "code",
   "execution_count": 23,
   "metadata": {
    "id": "zbCdSWtUnv9b"
   },
   "outputs": [
    {
     "name": "stdout",
     "output_type": "stream",
     "text": [
      "12.12346\n"
     ]
    }
   ],
   "source": [
    "# 소수점 자리수 제한\n",
    "print('{:.5f}'.format(12.123456))"
   ]
  },
  {
   "cell_type": "code",
   "execution_count": 25,
   "metadata": {
    "id": "Ue0s3Xv4nv9Z"
   },
   "outputs": [
    {
     "name": "stdout",
     "output_type": "stream",
     "text": [
      "[홍길동] [1200]\n"
     ]
    }
   ],
   "source": [
    "# 위치만 지정\n",
    "print('[{0}] [{1}]'.format('홍길동', 1200))"
   ]
  },
  {
   "cell_type": "code",
   "execution_count": 27,
   "metadata": {
    "id": "UC6BeTJCnv9X"
   },
   "outputs": [
    {
     "name": "stdout",
     "output_type": "stream",
     "text": [
      "[홍길동       ] [  1200]\n"
     ]
    }
   ],
   "source": [
    "# 기본 정렬\n",
    "print('[{0:10}] [{1:6}]'.format('홍길동', 1200))"
   ]
  },
  {
   "cell_type": "code",
   "execution_count": 29,
   "metadata": {
    "id": "eUeEOlEnnv9W"
   },
   "outputs": [
    {
     "name": "stdout",
     "output_type": "stream",
     "text": [
      "[       홍길동] [1200  ]\n"
     ]
    }
   ],
   "source": [
    "# 오른쪽, 왼쪽 정렬\n",
    "print('[{0:>10}] [{1:<6}]'.format('홍길동', 1200))"
   ]
  },
  {
   "cell_type": "code",
   "execution_count": 31,
   "metadata": {
    "id": "7f8KeeIUnv9U"
   },
   "outputs": [
    {
     "name": "stdout",
     "output_type": "stream",
     "text": [
      "[   홍길동    ] [ 1200 ]\n"
     ]
    }
   ],
   "source": [
    "# 가운데 정렬\n",
    "print('[{0:^10}] [{1:^6}]'.format('홍길동', 1200))"
   ]
  },
  {
   "cell_type": "code",
   "execution_count": 33,
   "metadata": {
    "id": "7Ejhcu_Dnv9S"
   },
   "outputs": [
    {
     "name": "stdout",
     "output_type": "stream",
     "text": [
      "[---홍길동----] [_1200_]\n"
     ]
    }
   ],
   "source": [
    "# 공백을 다른 문자로 채우기\n",
    "print('[{0:-^10}] [{1:_^6}]'.format('홍길동', 1200))"
   ]
  },
  {
   "cell_type": "markdown",
   "metadata": {
    "id": "jZzZRxGx0sMY"
   },
   "source": [
    "<img src='https://raw.githubusercontent.com/jangrae/img/master/practice_01.png' width=120 align=\"left\"/>\n"
   ]
  },
  {
   "cell_type": "markdown",
   "metadata": {
    "id": "2gOO7D9W0sMb"
   },
   "source": [
    "[문1] 자신의 이름과 학창시절 국어, 수학, 영어 점수를 각 변수에 대입하세요."
   ]
  },
  {
   "cell_type": "code",
   "execution_count": 35,
   "metadata": {
    "id": "T8nQzIhJ0sMc"
   },
   "outputs": [],
   "source": [
    "# 변수 선언\n",
    "name ='양정우'\n",
    "kor = 95\n",
    "math = 100\n",
    "eng = 75"
   ]
  },
  {
   "cell_type": "markdown",
   "metadata": {
    "id": "uubEaU-P0sMi"
   },
   "source": [
    "[문2] 세 과목의 합을 구해 보세요."
   ]
  },
  {
   "cell_type": "code",
   "execution_count": 43,
   "metadata": {
    "id": "iFx_1k300sMj"
   },
   "outputs": [
    {
     "data": {
      "text/plain": [
       "270"
      ]
     },
     "execution_count": 43,
     "metadata": {},
     "output_type": "execute_result"
    }
   ],
   "source": [
    "# 합 구하기\n",
    "my_sum = kor + math + eng\n",
    "my_sum"
   ]
  },
  {
   "cell_type": "markdown",
   "metadata": {
    "id": "1Rqu6R780sMn"
   },
   "source": [
    "[문3] 세 과목의 평균을 구해 보세요."
   ]
  },
  {
   "cell_type": "code",
   "execution_count": 46,
   "metadata": {
    "id": "JKWvFQp_0sMo"
   },
   "outputs": [
    {
     "data": {
      "text/plain": [
       "90.0"
      ]
     },
     "execution_count": 46,
     "metadata": {},
     "output_type": "execute_result"
    }
   ],
   "source": [
    "# 평균 구하기\n",
    "my_mean = (kor + math + eng)/3\n",
    "my_mean"
   ]
  },
  {
   "cell_type": "markdown",
   "metadata": {
    "id": "NrAj4r8P0sMt"
   },
   "source": [
    "[문4] 다음 코드의 잘못 된 부분을 수정해서 결과가 제대로 표시되게 하세요."
   ]
  },
  {
   "cell_type": "code",
   "execution_count": null,
   "metadata": {
    "id": "7rSMMIWw0sMu"
   },
   "outputs": [],
   "source": [
    "# 수정 전\n",
    "print('{} 학생의 점수 합은 {} 이고 평균은 {:.2f} 입니다.'.format(Name, Mean, Sum))"
   ]
  },
  {
   "cell_type": "code",
   "execution_count": 48,
   "metadata": {
    "id": "6042Jn6i0sMy"
   },
   "outputs": [
    {
     "name": "stdout",
     "output_type": "stream",
     "text": [
      "양정우 학생의 점수 합은 270 이고 평균은 90.00 입니다.\n"
     ]
    }
   ],
   "source": [
    "# 수정 후\n",
    "print('{} 학생의 점수 합은 {} 이고 평균은 {:.2f} 입니다.'.format(name, my_sum, my_mean))"
   ]
  },
  {
   "cell_type": "markdown",
   "metadata": {
    "id": "17K4WHTa29MP"
   },
   "source": [
    "## 2.4.f-String\n",
    "\n",
    "- 최근에는 다음과 같은 방법(f-String)을 많이 사용합니다."
   ]
  },
  {
   "cell_type": "code",
   "execution_count": 4,
   "metadata": {
    "id": "h1TB54UcXeZY"
   },
   "outputs": [
    {
     "name": "stdout",
     "output_type": "stream",
     "text": [
      "이름: 홍길동\n",
      "나이: 25\n",
      "점수: 2345.6789\n",
      "25살의 홍길동의 점수는 2345.6789입니다.\n"
     ]
    }
   ],
   "source": [
    "# 변수 선언\n",
    "name = '홍길동'\n",
    "age = 25\n",
    "score = 2345.6789\n",
    "\n",
    "# 확인\n",
    "print(f'이름: {name}')\n",
    "print(f'나이: {age}')\n",
    "print(f'점수: {score}')\n",
    "\n",
    "print(f'{age}살의 {name}의 점수는 {score}입니다.')"
   ]
  },
  {
   "cell_type": "markdown",
   "metadata": {
    "id": "xFh4Sdn5YjLQ"
   },
   "source": [
    "- 출력되는 형태를 나름으로 조절할 수 있습니다. (참고: 문자열:s, 정수:d, 실수:f)"
   ]
  },
  {
   "cell_type": "code",
   "execution_count": 7,
   "metadata": {
    "id": "5LWLUawvYQIE"
   },
   "outputs": [
    {
     "name": "stdout",
     "output_type": "stream",
     "text": [
      "25살의 홍길동의 점수는 2345.68입니다.\n"
     ]
    }
   ],
   "source": [
    "# 확인\n",
    "print(f'{age:d}살의 {name:s}의 점수는 {score:.2f}입니다.')"
   ]
  },
  {
   "cell_type": "markdown",
   "metadata": {
    "id": "yG_fw-IwXSIH"
   },
   "source": [
    "<img src='https://raw.githubusercontent.com/jangrae/img/master/practice_01.png' width=120 align=\"left\"/>\n"
   ]
  },
  {
   "cell_type": "markdown",
   "metadata": {
    "id": "r_UhGHB3XSIN"
   },
   "source": [
    "[문1] 우선 다음 코드를 실행하여 점수 합계와 평균을 구하세요."
   ]
  },
  {
   "cell_type": "code",
   "execution_count": 11,
   "metadata": {
    "id": "ivi3dzCjWZjW"
   },
   "outputs": [],
   "source": [
    "# 변수 선언\n",
    "name = '홍길동'\n",
    "age = 25\n",
    "score1 = 153\n",
    "score2 = 204\n",
    "score3 = 259\n",
    "score4 = 221\n",
    "score5 = 267\n",
    "\n",
    "# 합계\n",
    "tot_score = score1+ score2+ score3+ score4+ score5 \n",
    "\n",
    "# 평균\n",
    "avg_score =(score1+ score2+ score3+ score4+ score5)/5 \n",
    "\n",
    "# 연령대\n",
    "age_group = age //10 * 10"
   ]
  },
  {
   "cell_type": "markdown",
   "metadata": {
    "id": "AzeqaED94FFb"
   },
   "source": [
    "[문2]  f-String을 사용해 위 변수들 값이 다음과 같은 형태로 출력되도록 코드를 작성하세요.\n",
    "\n",
    "~~~\n",
    "이름: 홍길동\n",
    "연령대: 20대\n",
    "점수: 153, 204, 259, 221, 267\n",
    "합계: 1,104 / 평균: 220.80\n",
    "~~~\n"
   ]
  },
  {
   "cell_type": "code",
   "execution_count": 22,
   "metadata": {
    "id": "rYyZO2Mf3kGd"
   },
   "outputs": [
    {
     "name": "stdout",
     "output_type": "stream",
     "text": [
      "이름: 홍길동\n",
      "연령대: 20대\n",
      "점수: 153,204,259,221,267\n",
      "합계: 1,104 / 평균:220.80\n"
     ]
    }
   ],
   "source": [
    "# 확인\n",
    "print(f'이름: {name}')\n",
    "print(f'연령대: {age_group}대')\n",
    "print(f'점수: {score1},{score2},{score3},{score4},{score5}')\n",
    "print(f'합계: {tot_score:,} / 평균:{avg_score:.2f}')\n"
   ]
  },
  {
   "cell_type": "markdown",
   "metadata": {
    "id": "viNURFDInv9S"
   },
   "source": [
    "## 2.5.문자열 인덱싱과 슬라이싱\n",
    "\n",
    "- 문자열은 문자 요소가 모여서 만들어진 자료형, 즉 **'ABC'는 'A', 'B', 'C' 세 요소가 모인 것**입니다.\n",
    "- 정수형 위치 인덱스를 사용해 원하는 요소를 조회하는 것을 **인덱싱(Indexing)** 이라고 합니다.\n",
    "- 범위를 지정해 일정 범위의 요소를 조회하는 것을 **슬라이싱(Slicing)** 이라고 합니다.\n",
    "- <font color=\"red\">인덱스 값은 0부터 시작</font>함을 잊어서는 안됩니다.\n",
    "- 문자열 인덱싱과 슬라이싱은 이후에 다룰 리스트(List)와 비슷한 특성을 가집니다."
   ]
  },
  {
   "cell_type": "markdown",
   "metadata": {
    "id": "E8mnN69ekkZw"
   },
   "source": [
    "<img src='https://raw.githubusercontent.com/jangrae/img/master/zero.png' width=560 align=\"left\"/>"
   ]
  },
  {
   "cell_type": "markdown",
   "metadata": {
    "id": "3AttAyqonv9R"
   },
   "source": [
    "**1) 문자열 인덱싱**\n",
    "\n",
    "<img src='https://raw.githubusercontent.com/jangrae/img/master/str_indexing.png' width=560 align=\"left\"/>"
   ]
  },
  {
   "cell_type": "code",
   "execution_count": 68,
   "metadata": {
    "id": "8S8YtY56nv9P",
    "scrolled": true
   },
   "outputs": [
    {
     "data": {
      "text/plain": [
       "'꽃'"
      ]
     },
     "execution_count": 68,
     "metadata": {},
     "output_type": "execute_result"
    }
   ],
   "source": [
    "# 문자열 변수\n",
    "s = '나의살던고향은꽃피는산골'\n",
    "\n",
    "# 문자열 인덱싱\n",
    "\n",
    "s[-5] # 꽃"
   ]
  },
  {
   "cell_type": "markdown",
   "metadata": {
    "id": "vvpZ3vKYnv9O"
   },
   "source": [
    "**2) 문자열 슬라이싱**\n",
    "\n",
    "<img src='https://raw.githubusercontent.com/jangrae/img/master/str_slicing.png' width=450 align=\"left\"/>"
   ]
  },
  {
   "cell_type": "code",
   "execution_count": 70,
   "metadata": {
    "id": "RfiM4g_jnv9M"
   },
   "outputs": [
    {
     "data": {
      "text/plain": [
       "'의살던고향은'"
      ]
     },
     "execution_count": 70,
     "metadata": {},
     "output_type": "execute_result"
    }
   ],
   "source": [
    "# 문자열 변수\n",
    "s = '나의살던고향은꽃피는산골'\n",
    "\n",
    "# 문자열 슬라이싱\n",
    "s[1:7]# 의살던고향은\n",
    "s[7:]"
   ]
  },
  {
   "cell_type": "markdown",
   "metadata": {
    "id": "ZyZjWiGAnv9M"
   },
   "source": [
    "<img src='https://raw.githubusercontent.com/jangrae/img/master/practice_01.png' width=120 align='left'/>"
   ]
  },
  {
   "cell_type": "markdown",
   "metadata": {
    "id": "Dkz-fs5ovqYs"
   },
   "source": [
    "[문1] 다음 셀의 결과를 확인한 후 이어지는 셀을 완성해 보세요."
   ]
  },
  {
   "cell_type": "code",
   "execution_count": 72,
   "metadata": {
    "id": "P8V0YZIynv9J",
    "outputId": "c78a5118-2e95-49a0-f6e3-7a21694a9d2f"
   },
   "outputs": [
    {
     "name": "stdout",
     "output_type": "stream",
     "text": [
      "Let's learn Python.\n"
     ]
    }
   ],
   "source": [
    "my_str = 'Let\\'s learn Python.'\n",
    "print(my_str)                      # Let's learn Python."
   ]
  },
  {
   "cell_type": "code",
   "execution_count": 74,
   "metadata": {
    "id": "jSANNHXKnv9I",
    "outputId": "e8c2adff-e26d-4a12-81ad-bf8065d8e75e"
   },
   "outputs": [
    {
     "name": "stdout",
     "output_type": "stream",
     "text": [
      "l\n",
      "n\n",
      "learn\n"
     ]
    }
   ],
   "source": [
    "# 다음 코드 실행 결과를 예측 해보기\n",
    "print(my_str[6])                   # ?  l\n",
    "print(my_str[10])                  # ? n\n",
    "print(my_str[6:11])                # ? learn"
   ]
  },
  {
   "cell_type": "code",
   "execution_count": 78,
   "metadata": {
    "id": "ugXrGhLjnv9G"
   },
   "outputs": [
    {
     "name": "stdout",
     "output_type": "stream",
     "text": [
      "Python\n"
     ]
    }
   ],
   "source": [
    "# Python 문자열이 표시되게 하려면?\n",
    "print(my_str[12:-1])                   # Python"
   ]
  },
  {
   "cell_type": "markdown",
   "metadata": {
    "id": "mwlhAnb3nv9F"
   },
   "source": [
    "**[참고] 인덱싱으로 문자열 변경 불가**\n",
    "\n",
    "- 인덱싱, 슬라이싱을 사용해 문자를 변경할 수는 없습니다."
   ]
  },
  {
   "cell_type": "code",
   "execution_count": 80,
   "metadata": {
    "id": "GKWIkgFJnv9D",
    "scrolled": true
   },
   "outputs": [
    {
     "ename": "TypeError",
     "evalue": "'str' object does not support item assignment",
     "output_type": "error",
     "traceback": [
      "\u001b[1;31m---------------------------------------------------------------------------\u001b[0m",
      "\u001b[1;31mTypeError\u001b[0m                                 Traceback (most recent call last)",
      "Cell \u001b[1;32mIn[80], line 3\u001b[0m\n\u001b[0;32m      1\u001b[0m \u001b[38;5;66;03m# 문자 변경(?)\u001b[39;00m\n\u001b[0;32m      2\u001b[0m s \u001b[38;5;241m=\u001b[39m \u001b[38;5;124m'\u001b[39m\u001b[38;5;124m나의살던고향은꽃피는산골\u001b[39m\u001b[38;5;124m'\u001b[39m\n\u001b[1;32m----> 3\u001b[0m s[\u001b[38;5;241m0\u001b[39m] \u001b[38;5;241m=\u001b[39m \u001b[38;5;124m'\u001b[39m\u001b[38;5;124m너\u001b[39m\u001b[38;5;124m'\u001b[39m\n",
      "\u001b[1;31mTypeError\u001b[0m: 'str' object does not support item assignment"
     ]
    }
   ],
   "source": [
    "# 문자 변경(?)\n",
    "s = '나의살던고향은꽃피는산골'\n",
    "s[0] = '너'                        # TypeError: 'str' object does not support item assignment"
   ]
  },
  {
   "cell_type": "code",
   "execution_count": null,
   "metadata": {},
   "outputs": [],
   "source": [
    "# 문자 "
   ]
  },
  {
   "cell_type": "markdown",
   "metadata": {
    "id": "hm1cDCy-2seM"
   },
   "source": [
    "## 2.6.문자열 관련 주요 메서드\n",
    "\n",
    "* 변수(또는 개체) 뒤에 '.함수' 형태로 사용하는 함수를 **메서드(Method)** 라고 부릅니다.\n",
    "- 아래 언급된 메서드 외에도 문자열 관련 메서드가 상당히 많으니 관련 자료를 참고하기 바랍니다.\n",
    "- 문자열을 변환하는 메서드를 사용해도 그 결과가 변수에 반영되지는 않습니다."
   ]
  },
  {
   "cell_type": "code",
   "execution_count": 82,
   "metadata": {
    "id": "LEJSq8fU1meL"
   },
   "outputs": [
    {
     "name": "stdout",
     "output_type": "stream",
     "text": [
      "I HAVE A DREAM.\n",
      "I have a Dream.\n"
     ]
    }
   ],
   "source": [
    "# 대문자로 변환\n",
    "s = 'I have a Dream.'\n",
    "print(s.upper())         # I HAVE A DREAM.\n",
    "print(s)                 # I have a Dream."
   ]
  },
  {
   "cell_type": "markdown",
   "metadata": {
    "id": "W50C5m-j2coJ"
   },
   "source": [
    "- 변환 결과를 변수에 반영하려면 메서드가 반환하는 값을 변수에 대입해야 합니다."
   ]
  },
  {
   "cell_type": "code",
   "execution_count": 85,
   "metadata": {
    "id": "tRNEhqKD2RlG"
   },
   "outputs": [
    {
     "name": "stdout",
     "output_type": "stream",
     "text": [
      "I HAVE A DREAM.\n",
      "I HAVE A DREAM.\n"
     ]
    }
   ],
   "source": [
    "# 대문자로 변환\n",
    "s = 'I have a Dream.'\n",
    "print(s.upper())         # I HAVE A DREAM.\n",
    "\n",
    "# 변수에 반영\n",
    "s = s.upper()\n",
    "print(s)                 # I HAVE A DREAM."
   ]
  },
  {
   "cell_type": "markdown",
   "metadata": {
    "id": "4m4mAgvInv9C"
   },
   "source": [
    "**1) 대/소문자 변환**\n",
    "\n",
    "- **capitalize()** 메서드: 문자열 첫 문자만 대문자, 나머지 모두 소문자로 변환합니다.\n",
    "- **title()** 메서드: 단어 첫 문자만 대문자, 나머지는 모두 소문자로 변환합니다.\n",
    "- **upper()** 메서드: 모든 문자를 대문자로 변환합니다.\n",
    "- **lower()** 메서드: 모든 문자를 소문자로 변환합니다."
   ]
  },
  {
   "cell_type": "code",
   "execution_count": 96,
   "metadata": {
    "id": "h-VPVu7bnv8_"
   },
   "outputs": [
    {
     "name": "stdout",
     "output_type": "stream",
     "text": [
      "I have a dream.\n",
      "I Have A Dream.\n"
     ]
    }
   ],
   "source": [
    "# 대/소문자 변환\n",
    "s = 'I have a Dream.'\n",
    "\n",
    "print(s.capitalize())\n",
    "\n",
    "print(s.title())\n",
    "\n"
   ]
  },
  {
   "cell_type": "markdown",
   "metadata": {
    "id": "pz6IK_Ownv8_"
   },
   "source": [
    "**2) 자릿수 지정과 정렬**\n",
    "\n",
    "- **rjust(x)** 메서드: 지정한 x 만큼의 자릿수를 확보한 후 오른쪽 정렬합니다.\n",
    "- **ljust(x)** 메서드: 지정한 x 만큼의 자릿수를 확보한 후 왼쪽 정렬합니다.\n",
    "- **center(x)** 메서드: 지정한 x 만큼의 자릿수를 확보한 후 가운데 정렬합니다."
   ]
  },
  {
   "cell_type": "code",
   "execution_count": 99,
   "metadata": {
    "id": "cVhMNWGqnv89"
   },
   "outputs": [
    {
     "name": "stdout",
     "output_type": "stream",
     "text": [
      "[  Dream]\n",
      "[Dream  ]\n",
      "[ Dream ]\n"
     ]
    }
   ],
   "source": [
    "# 지정한 길이의 문자열이 되도록 공백을 추가하고 정렬\n",
    "s = 'Dream'\n",
    "print('[' + s.rjust(7) + ']')\n",
    "print('[' + s.ljust(7) + ']')\n",
    "print('[' + s.center(7) + ']')"
   ]
  },
  {
   "cell_type": "markdown",
   "metadata": {
    "id": "md4Vri-Cnv88"
   },
   "source": [
    "**3) 일부 변경 및 제거**\n",
    "\n",
    "- **replace(x, y)** 메서드: 문자열에 포함된 일부 문자열 x를 문자열 y로 변경합니다.\n",
    "- **strip(x)** 메서드: 문자열에서 양쪽의 공백 또는 특수 문자를 제거합니다."
   ]
  },
  {
   "cell_type": "code",
   "execution_count": 101,
   "metadata": {
    "id": "i_DoGsi1nv86"
   },
   "outputs": [
    {
     "data": {
      "text/plain": [
       "'now here'"
      ]
     },
     "execution_count": 101,
     "metadata": {},
     "output_type": "execute_result"
    }
   ],
   "source": [
    "# 문자열 변경('now' --> 'now ')\n",
    "s = 'nowhere'\n",
    "s.replace('now', 'now ')"
   ]
  },
  {
   "cell_type": "code",
   "execution_count": 103,
   "metadata": {
    "id": "OdGH553bnv84"
   },
   "outputs": [
    {
     "name": "stdout",
     "output_type": "stream",
     "text": [
      "world\n",
      "#world#$$#\n",
      "world\n"
     ]
    }
   ],
   "source": [
    "# 앞 뒤 빈 문자열, 특수 문자 제거\n",
    "print('  world '.strip())\n",
    "print('#world#$$#'.strip())\n",
    "print('#world#$$#'.strip('$#'))"
   ]
  },
  {
   "cell_type": "markdown",
   "metadata": {
    "id": "RgMGHIqyZxrh"
   },
   "source": [
    "- replace() 메서드를 사용하는 경우가 많으니 꼭 기억합니다."
   ]
  },
  {
   "cell_type": "code",
   "execution_count": 110,
   "metadata": {
    "id": "gZzdk2PCZvTH"
   },
   "outputs": [
    {
     "name": "stdout",
     "output_type": "stream",
     "text": [
      "246912\n"
     ]
    }
   ],
   "source": [
    "# 문자열 변수\n",
    "num = '123,456'\n",
    "\n",
    "# 콤마 제거 후 정수로 변환\n",
    "num =int(num.replace(',', ''))\n",
    "\n",
    "\n",
    "# 연산\n",
    "print(num * 2)"
   ]
  },
  {
   "cell_type": "markdown",
   "metadata": {
    "id": "1D4Bdz2zzHcw"
   },
   "source": [
    "<img src='https://raw.githubusercontent.com/jangrae/img/master/practice_01.png' width=120 align=\"left\"/>\n"
   ]
  },
  {
   "cell_type": "markdown",
   "metadata": {
    "id": "CGcLErfHzHc8"
   },
   "source": [
    "[문1] 다음 코드의 실행 결과가 '파이썬을 열심히 공부할께요!'가 되게 수정해 보세요.\n",
    "\n"
   ]
  },
  {
   "cell_type": "code",
   "execution_count": 112,
   "metadata": {
    "id": "Gnf1I1TCzHc9"
   },
   "outputs": [
    {
     "data": {
      "text/plain": [
       "'파이썬을 열심히 공부할께요!'"
      ]
     },
     "execution_count": 112,
     "metadata": {},
     "output_type": "execute_result"
    }
   ],
   "source": [
    "# 문자열 변수 선언\n",
    "my_str = '파이썬을 대충 공부할께요!'\n",
    "\n",
    "# 문자열 변환\n",
    "my_str.replace('대충','열심히')"
   ]
  },
  {
   "cell_type": "markdown",
   "metadata": {
    "id": "1cMQvgEPttnG"
   },
   "source": [
    "**4) 분리와 연결**\n",
    "\n",
    "- **split((x)** 메서드: x 문자를 구분자로 하여 문자열을 분리하여 리스트로 변환합니다.(공백이 기본 구분자)\n",
    "- **x.join(s)** 메서드: x를 구분자로 하여 요소들을 연결한 문자열로 변환합니다."
   ]
  },
  {
   "cell_type": "code",
   "execution_count": 122,
   "metadata": {
    "id": "Kr1e73DWtSGg"
   },
   "outputs": [
    {
     "name": "stdout",
     "output_type": "stream",
     "text": [
      "['I', 'have', 'a', 'Dream!']\n"
     ]
    }
   ],
   "source": [
    "# 문자열 변수\n",
    "s = 'I have a Dream!'\n",
    "\n",
    "# 문자열 분리\n",
    "s = s.split()\n",
    "\n",
    "print (s)"
   ]
  },
  {
   "cell_type": "code",
   "execution_count": 128,
   "metadata": {
    "id": "RK_7L2bPuvjX"
   },
   "outputs": [
    {
     "name": "stdout",
     "output_type": "stream",
     "text": [
      "['2020', '09', '14']\n"
     ]
    }
   ],
   "source": [
    "# 문자열 변수\n",
    "s = '2020-09-14'\n",
    "\n",
    "# 문자열 분리\n",
    "s = s.split('-')\n",
    "\n",
    "print (s)"
   ]
  },
  {
   "cell_type": "code",
   "execution_count": 130,
   "metadata": {
    "id": "SaaQFB7PaXkj"
   },
   "outputs": [
    {
     "name": "stdout",
     "output_type": "stream",
     "text": [
      "['1', '2', '3', '4', '5', '6', '7', '8', '9']\n"
     ]
    }
   ],
   "source": [
    "# 문자열 변수\n",
    "s = '1/2/3/4/5/6/7/8/9'\n",
    "\n",
    "# 문자열 분리\n",
    "s_new = s.split('/')\n",
    "\n",
    "# 확인\n",
    "print(s_new)"
   ]
  },
  {
   "cell_type": "code",
   "execution_count": 132,
   "metadata": {
    "id": "2G2_3COou5s4"
   },
   "outputs": [
    {
     "name": "stdout",
     "output_type": "stream",
     "text": [
      "오늘은 2020 년 09 월 14 일 입니다.\n"
     ]
    }
   ],
   "source": [
    "# 문자열 변수\n",
    "s = '2020-09-14'\n",
    "s_new = s.split('-')\n",
    "# 문자열 분리\n",
    "year =s_new[0]\n",
    "month = s_new[1]\n",
    "day = s_new[2]\n",
    "\n",
    "# 확인\n",
    "print('오늘은', year, '년', month, '월', day, '일 입니다.')"
   ]
  },
  {
   "cell_type": "markdown",
   "metadata": {
    "id": "gu8dc3aUFQ8u"
   },
   "source": [
    "- 위 구문을 다른 방법으로 작성할 수 있습니다.\n",
    "- 위 구문과 아래 구문의 차이를 생각해 보세요."
   ]
  },
  {
   "cell_type": "code",
   "execution_count": null,
   "metadata": {
    "id": "d-fc0td7Ikyy"
   },
   "outputs": [],
   "source": [
    "# 문자열 변수\n",
    "s = '2020-09-14'\n",
    "\n",
    "# 문자열 분리\n",
    "dt = s.split('-')\n",
    "\n",
    "# 확인\n",
    "print('오늘은', dt[0], '년', dt[1], '월', dt[2], '일 입니다.')"
   ]
  },
  {
   "cell_type": "code",
   "execution_count": null,
   "metadata": {
    "id": "88u4-EE5IkWa"
   },
   "outputs": [],
   "source": [
    "# 문자열 변수\n",
    "s = '2020-09-14'\n",
    "\n",
    "# 확인\n",
    "print('오늘은', ? , '년', ? , '월', ? , '일 입니다.')"
   ]
  },
  {
   "cell_type": "markdown",
   "metadata": {
    "id": "5nqEy_lq_r7F"
   },
   "source": [
    "- join() 메서드로 구분자를 두어 연결된 문자열을 만듭니다."
   ]
  },
  {
   "cell_type": "code",
   "execution_count": 140,
   "metadata": {
    "id": "deIakct1ujP0"
   },
   "outputs": [
    {
     "data": {
      "text/plain": [
       "'PYTHON /'"
      ]
     },
     "execution_count": 140,
     "metadata": {},
     "output_type": "execute_result"
    }
   ],
   "source": [
    "# 중간에 특정 문자열 삽입\n",
    "s = 'PYTHON'\n",
    "s1 = '/'\n",
    "' '.join([s,s1])"
   ]
  },
  {
   "cell_type": "code",
   "execution_count": 142,
   "metadata": {
    "id": "z4c1dNlWwEF8"
   },
   "outputs": [
    {
     "data": {
      "text/plain": [
       "'홍길동 한사랑 강우동 박여인'"
      ]
     },
     "execution_count": 142,
     "metadata": {},
     "output_type": "execute_result"
    }
   ],
   "source": [
    "# 요소를 연결해서 문자열로\n",
    "a = ['홍길동', '한사랑', '강우동', '박여인']\n",
    "s = ' '.join(a)\n",
    "\n",
    "# 확인\n",
    "s"
   ]
  },
  {
   "cell_type": "code",
   "execution_count": 144,
   "metadata": {
    "id": "tl2rg8MTwR_5"
   },
   "outputs": [
    {
     "data": {
      "text/plain": [
       "['홍길동', '한사랑', '강우동', '박여인']"
      ]
     },
     "execution_count": 144,
     "metadata": {},
     "output_type": "execute_result"
    }
   ],
   "source": [
    "# 문자열 s를 구분자로 나누어 리스트로\n",
    "b = s.split(' ')\n",
    "\n",
    "# 확인\n",
    "b"
   ]
  },
  {
   "cell_type": "markdown",
   "metadata": {
    "id": "erK6_Ziqt8BX"
   },
   "source": [
    "<img src='https://raw.githubusercontent.com/jangrae/img/master/practice_01.png' width=120 align=\"left\"/>\n"
   ]
  },
  {
   "cell_type": "markdown",
   "metadata": {
    "id": "bOoP_UFBt8Bb"
   },
   "source": [
    "[문1] 다음 주어진 문자열을 적절한 구분자를 기준으로 분리하세요.\n",
    "\n"
   ]
  },
  {
   "cell_type": "code",
   "execution_count": 149,
   "metadata": {
    "id": "kx1krZ60t8Bb"
   },
   "outputs": [
    {
     "data": {
      "text/plain": [
       "['15', '23', '52', '41', '25', '60', '47', '28', '49', '60']"
      ]
     },
     "execution_count": 149,
     "metadata": {},
     "output_type": "execute_result"
    }
   ],
   "source": [
    "# 문자열 변수\n",
    "my_str = '15, 23, 52, 41, 25, 60, 47, 28, 49, 60'\n",
    "\n",
    "# 문자열 분리\n",
    "str = my_str.split(', ')\n",
    "str\n"
   ]
  },
  {
   "cell_type": "markdown",
   "metadata": {
    "id": "pbWswLrSvnqp"
   },
   "source": [
    "[문2] 다음 주어진 리스트의 요소를 yyyy-mm-dd 형태로 연결해 dt 변수에 담고 결과를  확인하세요.\n",
    "\n"
   ]
  },
  {
   "cell_type": "code",
   "execution_count": 151,
   "metadata": {
    "id": "LuOuu6x7vnqq"
   },
   "outputs": [
    {
     "data": {
      "text/plain": [
       "'2020-09-14'"
      ]
     },
     "execution_count": 151,
     "metadata": {},
     "output_type": "execute_result"
    }
   ],
   "source": [
    "# 리스트 만들기\n",
    "my_list = ['2020', '09', '14']\n",
    "\n",
    "# 문자열 연결\n",
    "dt = '-'.join(my_list)\n",
    "\n",
    "# 확인\n",
    "dt"
   ]
  },
  {
   "cell_type": "markdown",
   "metadata": {
    "id": "KXpjj3o-xuhi"
   },
   "source": [
    "[문3] 위에서 배운 문자열 관련 메서드를 사용해 다음 주어진 리스트의 요소를 모두 대문자로 바꾸세요.\n"
   ]
  },
  {
   "cell_type": "code",
   "execution_count": 165,
   "metadata": {
    "id": "XxoTFaMFxBGO"
   },
   "outputs": [
    {
     "data": {
      "text/plain": [
       "['H', 'A', 'P', 'P', 'Y']"
      ]
     },
     "execution_count": 165,
     "metadata": {},
     "output_type": "execute_result"
    }
   ],
   "source": [
    "# 리스트 만들기\n",
    "a = ['h', 'a', 'p',  'p', 'y']\n",
    "\n",
    "# 대문자로 변경\n",
    "a = ' '.join(a).upper().split(' ')\n",
    "\n",
    "# 확인\n",
    "a"
   ]
  },
  {
   "cell_type": "markdown",
   "metadata": {
    "id": "14WLLJLjnv84"
   },
   "source": [
    "**5) 표시 형식 지정**\n",
    "\n",
    "- **format()** 메서드는 데이터 표시 위치와 모양을 설정할 때 사용합니다."
   ]
  },
  {
   "cell_type": "code",
   "execution_count": 167,
   "metadata": {
    "id": "CT6rOJV5nv81"
   },
   "outputs": [
    {
     "name": "stdout",
     "output_type": "stream",
     "text": [
      "10 Hello 0.1\n"
     ]
    }
   ],
   "source": [
    "# 변수 선언\n",
    "a, b, c = 10, 'Hello', 0.1\n",
    "\n",
    "# 확인\n",
    "print('{} {} {}'.format(a, b, c))"
   ]
  }
 ],
 "metadata": {
  "colab": {
   "provenance": []
  },
  "kernelspec": {
   "display_name": "Python 3 (ipykernel)",
   "language": "python",
   "name": "python3"
  },
  "language_info": {
   "codemirror_mode": {
    "name": "ipython",
    "version": 3
   },
   "file_extension": ".py",
   "mimetype": "text/x-python",
   "name": "python",
   "nbconvert_exporter": "python",
   "pygments_lexer": "ipython3",
   "version": "3.12.4"
  }
 },
 "nbformat": 4,
 "nbformat_minor": 4
}
