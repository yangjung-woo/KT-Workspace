{
 "cells": [
  {
   "cell_type": "markdown",
   "metadata": {
    "id": "b3TDAdnvnSbh"
   },
   "source": [
    "<center><img src='https://raw.githubusercontent.com/Jangrae/img/master/title.png' width=500/></center>"
   ]
  },
  {
   "cell_type": "markdown",
   "metadata": {
    "id": "870ceL41wwAg"
   },
   "source": [
    "# 5.집합(Set) 자료형\n",
    "\n",
    "- **집합 연산**(교집합, 합집합, 차집합, 대칭 차집합)을 위한 자료형입니다.\n",
    "- 중복을 허용하지 않아 중복된 원소는 하나만 제외하고 모두 무시됩니다.\n",
    "- 원소의 **순서가 의미가 없으므로 인덱싱과 슬라이싱으로 값을 얻을 수 없습니다.**"
   ]
  },
  {
   "cell_type": "markdown",
   "metadata": {
    "id": "msXpShKOM2MS"
   },
   "source": [
    "## 5.1.집합 만들기"
   ]
  },
  {
   "cell_type": "markdown",
   "metadata": {
    "id": "nBM4Mwrg8Lbt"
   },
   "source": [
    "### 5.1.1.집합 직접 만들기"
   ]
  },
  {
   "cell_type": "markdown",
   "metadata": {
    "id": "oElGw1pJ9rb6"
   },
   "source": [
    "**1) 정수를 갖는 집합**"
   ]
  },
  {
   "cell_type": "code",
   "execution_count": null,
   "metadata": {
    "id": "N8OQc7h7NumI"
   },
   "outputs": [],
   "source": [
    "# 정수를 갖는 집합\n",
    "nums =\n",
    "\n",
    "# 확인\n",
    "nums"
   ]
  },
  {
   "cell_type": "markdown",
   "metadata": {
    "id": "SgJUXHIE9uYr"
   },
   "source": [
    "**2) 문자열을 갖는 집합**"
   ]
  },
  {
   "cell_type": "code",
   "execution_count": null,
   "metadata": {
    "id": "D700KV_y9oKC"
   },
   "outputs": [],
   "source": [
    "# 문자열을 갖는 집합\n",
    "members =\n",
    "\n",
    "# 확인\n",
    "members"
   ]
  },
  {
   "cell_type": "markdown",
   "metadata": {
    "id": "MOKmhWM79xvp"
   },
   "source": [
    "**3) 여러 자료형을 갖는 집합**"
   ]
  },
  {
   "cell_type": "code",
   "execution_count": null,
   "metadata": {
    "id": "YBPQ5sQ19o4J"
   },
   "outputs": [],
   "source": [
    "# 여러 자료형을 갖는 집합\n",
    "etc =\n",
    "\n",
    "# 확인\n",
    "etc"
   ]
  },
  {
   "cell_type": "markdown",
   "metadata": {
    "id": "SwxR75ou8Lbu"
   },
   "source": [
    "### 5.1.2.집합으로 자료형 변환\n",
    "\n",
    "- **set()** 함수를 사용해 다른 자료형을 집합으로 변환합니다.\n",
    "- 집합은 요소의 순서가 없으니 변환 후 요소 순서가 어떻게 될 지 알 수 없습니다."
   ]
  },
  {
   "cell_type": "markdown",
   "metadata": {
    "id": "roQTGV3Y-GDO"
   },
   "source": [
    "**1) 문자열 → 집합**\n",
    "\n",
    "- list(), tuple() 함수로 문자열을 리스트나 튜플로 변환할 수 있었습니다.\n",
    "- set() 함수로 개별 문자를 요소로 갖는 집합을 만들 수 있습니다.\n",
    "- 같은 요소를 갖지 않는 집합의 특징에 따라 **중복된 문자는 제거**됩니다."
   ]
  },
  {
   "cell_type": "code",
   "execution_count": null,
   "metadata": {
    "id": "wfJ7a64Qt_MJ",
    "scrolled": true
   },
   "outputs": [],
   "source": [
    "# 문자열로 집합 만들기\n",
    "hello = set('잘지내지요')\n",
    "\n",
    "# 확인\n",
    "hello"
   ]
  },
  {
   "cell_type": "markdown",
   "metadata": {
    "id": "3gKzYiio-NuQ"
   },
   "source": [
    "**2) range() → 집합**\n",
    "\n",
    "- range() 함수로 리스트, 튜플, 집합등 다양한 자료형을 만들 수 있습니다."
   ]
  },
  {
   "cell_type": "code",
   "execution_count": null,
   "metadata": {
    "id": "fZiiATtI97Np"
   },
   "outputs": [],
   "source": [
    "# range로 집합 만들기\n",
    "nums = set(range(0, 10))\n",
    "\n",
    "# 확인\n",
    "nums"
   ]
  },
  {
   "cell_type": "markdown",
   "metadata": {
    "id": "-oiU61IQ-S_n"
   },
   "source": [
    "**3) 리스트 → 집합**\n",
    "\n",
    "- 리스트가 집합으로 변환되면 중복된 요소는 제거됩니다."
   ]
  },
  {
   "cell_type": "code",
   "execution_count": null,
   "metadata": {
    "id": "SXcfUfR398At"
   },
   "outputs": [],
   "source": [
    "# 리스트 만들기\n",
    "member = ['홍길동', '한사랑', '홍길동', '일지매', '박여인']\n",
    "\n",
    "# 집합 만들기\n",
    "member1 = set(member)\n",
    "\n",
    "# 확인\n",
    "member1"
   ]
  },
  {
   "cell_type": "markdown",
   "metadata": {
    "id": "7h8XasmD-WQH"
   },
   "source": [
    "**4) 튜플 → 집합**\n",
    "\n",
    "- 역시 중복된 요소는 제거됩니다."
   ]
  },
  {
   "cell_type": "code",
   "execution_count": null,
   "metadata": {
    "id": "MeSvUDMn-Aoc"
   },
   "outputs": [],
   "source": [
    "# 튜플 만들기\n",
    "member = ('홍길동', '한사랑', '홍길동', '일지매', '박여인')\n",
    "\n",
    "# 집합 만들기\n",
    "member2 = set(member)\n",
    "\n",
    "# 확인\n",
    "member2"
   ]
  },
  {
   "cell_type": "markdown",
   "metadata": {
    "id": "ktgA-FQE-Z1X"
   },
   "source": [
    "### 5.1.3.집합 정보 확인\n",
    "\n",
    "- **len()** 함수로 집합에 포함된 원소 개수를 확인합니다.\n",
    "- **in** 연산자로 집합에 요소가 속해 있는지 확인합니다."
   ]
  },
  {
   "cell_type": "markdown",
   "metadata": {
    "id": "HjmvxolzgB-x"
   },
   "source": [
    "**1) 원소 개수 확인**"
   ]
  },
  {
   "cell_type": "code",
   "execution_count": null,
   "metadata": {
    "id": "ICBRZdZV-BN8"
   },
   "outputs": [],
   "source": [
    "# 집합 만들기\n",
    "member1 = {'홍길동', '한사랑', '일지매', '박여인'}\n",
    "member2 = {'김치국', '안경태', '이리와'}\n",
    "\n",
    "# 확인\n",
    "print(len(member1), len(member2))"
   ]
  },
  {
   "cell_type": "markdown",
   "metadata": {
    "id": "M9KorSg5gGJy"
   },
   "source": [
    "**2) 원소 포함 여부 확인**"
   ]
  },
  {
   "cell_type": "code",
   "execution_count": null,
   "metadata": {
    "id": "p88ckb5j-BxN"
   },
   "outputs": [],
   "source": [
    "# 집합 만들기\n",
    "member1 = {'홍길동', '한사랑', '일지매', '박여인'}\n",
    "member2 = {'김치국', '안경태', '이리와'}\n",
    "\n",
    "# 확인\n",
    "print('홍길동' ? member1)\n",
    "print('홍길동' ? member2)"
   ]
  },
  {
   "cell_type": "markdown",
   "metadata": {
    "id": "6dp6VcPG8Lbx"
   },
   "source": [
    "### 5.1.4.집합 활용 #1\n",
    "\n",
    "- **list()** 함수를 사용해 튜플이나 집합을 리스트로 변환할 수 있습니다.\n",
    "- **tuple()** 함수를 사용해 리스트나 집합을 튜플로 변환할 수 있습니다.\n",
    "- **set()** 함수를 사용해 리스트나 튜플을 집합으로 변환할 수 있습니다.\n",
    "- 위 함수들 기능에 의해 집합 기능을 멋지게 활용할 수 있습니다.\n",
    "\n"
   ]
  },
  {
   "cell_type": "markdown",
   "metadata": {
    "id": "kdFhYCenkmmX"
   },
   "source": [
    "**1) 리스트 중복 요소 제거**\n",
    "\n",
    "- 집합은 중복된 요소를 갖지 않습니다.\n",
    "- 이 특징에 활용해 리스트에서 중복된 요소를 제거할 수 있습니다."
   ]
  },
  {
   "cell_type": "code",
   "execution_count": null,
   "metadata": {
    "id": "Krn1nFDsu0Xz"
   },
   "outputs": [],
   "source": [
    "# 리스트 만들기\n",
    "nums = [12, 45, 23, 21, 36, 28, 12, 36, 35, 28, 45, 63, 12, 21]\n",
    "\n",
    "# 리스트 --> 집합 변환\n",
    "\n",
    "\n",
    "# 집합 --> 리스트 변환\n",
    "\n",
    "\n",
    "#확인\n",
    "nums"
   ]
  },
  {
   "cell_type": "markdown",
   "metadata": {
    "id": "Giz3womx6jlj"
   },
   "source": [
    "**2) 튜플 중복 요소 제거**\n",
    "\n",
    "- 위 기능은 당연히 튜플에 대해서도 사용할 수 있습니다.\n",
    "- 다음 구문에서는 set() 함수와 tuple() 함수를 중복해서 사용했습니다."
   ]
  },
  {
   "cell_type": "code",
   "execution_count": null,
   "metadata": {
    "id": "-UKjD2tu6jlm"
   },
   "outputs": [],
   "source": [
    "# 튜플 만들기\n",
    "nums = (12, 45, 23, 21, 36, 28, 12, 36, 35, 28, 45, 63, 12, 21)\n",
    "\n",
    "# 튜플 --> 집합 --> 튜플 변환\n",
    "\n",
    "\n",
    "#확인\n",
    "nums"
   ]
  },
  {
   "cell_type": "markdown",
   "metadata": {
    "id": "PQFMYJ2wvWb-"
   },
   "source": [
    "## 5.2.집합 연산\n",
    "\n",
    "- 일반적인 집합 연산 개념이 집합 자료형에 그대로 사용이 가능합니다.\n",
    "\n",
    "<img src='https://raw.githubusercontent.com/jangrae/img/master/set2.png' width=600 align=\"left\"/>"
   ]
  },
  {
   "cell_type": "markdown",
   "metadata": {
    "id": "G8umU5gsGJ0w"
   },
   "source": [
    "### 5.2.1.교집합, 합집합, 차집합\n",
    "\n",
    "- 집합 자료형을 사용하는 목적이 이것일 것입니다."
   ]
  },
  {
   "cell_type": "markdown",
   "metadata": {
    "id": "1w8zZqVsidwf"
   },
   "source": [
    "**1) 합집합**\n",
    "\n",
    "- 합집합은 **|** 또는 **union()** 메서드를 사용해 구합니다."
   ]
  },
  {
   "cell_type": "code",
   "execution_count": null,
   "metadata": {
    "id": "-2QTf6UIwMwW"
   },
   "outputs": [],
   "source": [
    "# 집합 만들기\n",
    "member_set1 = {'홍길동', '한사랑', '일지매', '박여인'}\n",
    "member_set2 = {'한사랑', '홍길민', '강우동'}\n",
    "\n",
    "# 합집합 구하기 #1\n",
    "member_set3 =\n",
    "\n",
    "# 확인\n",
    "member_set3"
   ]
  },
  {
   "cell_type": "code",
   "execution_count": null,
   "metadata": {
    "id": "6qC3gRAbwPN0"
   },
   "outputs": [],
   "source": [
    "# 합집합 구하기 #2\n",
    "member_set3 = member_set1.union(member_set2)\n",
    "\n",
    "# 확인\n",
    "member_set3"
   ]
  },
  {
   "cell_type": "markdown",
   "metadata": {
    "id": "D_T_IjBsibVS"
   },
   "source": [
    "**2) 교집합**\n",
    "\n",
    "- 교집합은 **&** 또는 **intersection()** 메서드를 사용해 구합니다."
   ]
  },
  {
   "cell_type": "code",
   "execution_count": null,
   "metadata": {
    "id": "-wzQ3GWkvZ-a"
   },
   "outputs": [],
   "source": [
    "# 집합 만들기\n",
    "member_set1 = {'홍길동', '한사랑', '일지매', '박여인'}\n",
    "member_set2 = {'한사랑', '홍길민', '강우동'}\n",
    "\n",
    "# 교집합 구하기 #1\n",
    "member_set3 =\n",
    "\n",
    "# 확인\n",
    "member_set3"
   ]
  },
  {
   "cell_type": "code",
   "execution_count": null,
   "metadata": {
    "id": "hzzfisUsvzgx"
   },
   "outputs": [],
   "source": [
    "# 교집합 구하기 #2\n",
    "member_set3 = member_set1.intersection(member_set2)\n",
    "\n",
    "# 확인\n",
    "member_set3"
   ]
  },
  {
   "cell_type": "markdown",
   "metadata": {
    "id": "rDXa8FaviZJK"
   },
   "source": [
    "**3) 차집합**\n",
    "\n",
    "- 차집합은 **-** 또는 **difference()** 메서드를 사용해 구합니다."
   ]
  },
  {
   "cell_type": "code",
   "execution_count": null,
   "metadata": {
    "id": "v8-ydZbnwmbf"
   },
   "outputs": [],
   "source": [
    "# 집합 만들기\n",
    "member_set1 = {'홍길동', '한사랑', '일지매', '박여인'}\n",
    "member_set2 = {'한사랑', '홍길민', '강우동'}\n",
    "\n",
    "# 차집합 구하기 #1\n",
    "member_set3 =\n",
    "\n",
    "# 확인\n",
    "member_set3"
   ]
  },
  {
   "cell_type": "code",
   "execution_count": null,
   "metadata": {
    "id": "yqqOjzlcwpF5"
   },
   "outputs": [],
   "source": [
    "# 차집합 구하기 #2\n",
    "member_set3 = member_set1.difference(member_set2)\n",
    "\n",
    "# 확인\n",
    "member_set3"
   ]
  },
  {
   "cell_type": "markdown",
   "metadata": {
    "id": "juahzTtJiU-1"
   },
   "source": [
    "**4) 대칭 차집합**\n",
    "\n",
    "- 대칭 차집합은 **^** 또는 **symmetric_difference()** 메서드를 사용해 구합니다."
   ]
  },
  {
   "cell_type": "code",
   "execution_count": null,
   "metadata": {
    "id": "Dpov7V4PETqj"
   },
   "outputs": [],
   "source": [
    "# 집합 만들기\n",
    "member_set1 = {'홍길동',  '한사랑', '일지매', '박여인'}\n",
    "member_set2 = {'한사랑', '홍길민', '강우동'}\n",
    "\n",
    "# 대칭 차집합 구하기 #1\n",
    "member_set3 =\n",
    "\n",
    "# 확인\n",
    "member_set3"
   ]
  },
  {
   "cell_type": "code",
   "execution_count": null,
   "metadata": {
    "id": "G9roahuPEacM"
   },
   "outputs": [],
   "source": [
    "# 대칭 차집합 구하기 #2\n",
    "member_set3 = member_set1.symmetric_difference(member_set2)\n",
    "\n",
    "# 확인\n",
    "member_set3"
   ]
  },
  {
   "cell_type": "markdown",
   "metadata": {
    "id": "cWzlkTYMGEZP"
   },
   "source": [
    "### 5.2.2.집합 활용 #2\n",
    "\n",
    "- 위 집합 연산 기능을 다양하게 활용할 수 있습니다.\n",
    "\n"
   ]
  },
  {
   "cell_type": "markdown",
   "metadata": {
    "id": "hKhLVTNiGEZa"
   },
   "source": [
    "**1) 리스트 중복 확인**\n",
    "\n",
    "- 우선 **교집합**을 활용해 두 리스트 사이의 중복된 요소를 확인할 수 있습니다."
   ]
  },
  {
   "cell_type": "code",
   "execution_count": null,
   "metadata": {
    "id": "Kp6yK74UGEZc"
   },
   "outputs": [],
   "source": [
    "# 리스트 만들기\n",
    "nums1 = [12, 23, 32, 36, 41, 48]\n",
    "nums2 = [12, 19, 24, 32, 36, 47]\n",
    "\n",
    "# 집합 변환 후 교집합 구하기\n",
    "\n",
    "\n",
    "# 집합 --> 리스트 변환\n",
    "\n",
    "\n",
    "#확인\n",
    "nums"
   ]
  },
  {
   "cell_type": "markdown",
   "metadata": {
    "id": "i--Cjvk4GEZl"
   },
   "source": [
    "**2) 리스트 중복 없이 합치기**\n",
    "\n",
    "- **합집합** 기능을 활용해 두 리스트의 중복된 요소를 제거하면서 합칠 수 있습니다."
   ]
  },
  {
   "cell_type": "code",
   "execution_count": null,
   "metadata": {
    "id": "lyxtZ3WDGEZm"
   },
   "outputs": [],
   "source": [
    "# 리스트 만들기\n",
    "nums1 = [12, 23, 32, 36, 41, 48]\n",
    "nums2 = [12, 19, 24, 32, 36, 47]\n",
    "\n",
    "# 집합 변환 후 합집합 구하기\n",
    "\n",
    "\n",
    "# 집합 --> 리스트 변환\n",
    "\n",
    "\n",
    "#확인\n",
    "nums"
   ]
  },
  {
   "cell_type": "markdown",
   "metadata": {
    "id": "zX6zDsWzE2QX"
   },
   "source": [
    "<img src='https://raw.githubusercontent.com/jangrae/img/master/practice_01.png' width=120 align=\"left\"/>"
   ]
  },
  {
   "cell_type": "markdown",
   "metadata": {
    "id": "KmakcAl5E2Qc"
   },
   "source": [
    "[문1] 아래 주어진 리스트에서 중복된 요소를 제거하세요.\n"
   ]
  },
  {
   "cell_type": "code",
   "execution_count": null,
   "metadata": {
    "id": "hggqmuJ_E2Qd"
   },
   "outputs": [],
   "source": [
    "# 중복 요소를 갖는 리스트\n",
    "nums = [1, 2, 2, 3, 4, 5, 5, 6, 7, 8, 8, 9]\n",
    "\n",
    "# 중복 요소 제거\n",
    "\n",
    "\n",
    "# 확인\n",
    "nums"
   ]
  },
  {
   "cell_type": "markdown",
   "metadata": {
    "id": "d3pkrp6aFcj7"
   },
   "source": [
    "[문2] 아래 주어진 두 리스트에서 중복된 요소를 뽑아 새로운 리스트를 만드세요."
   ]
  },
  {
   "cell_type": "code",
   "execution_count": null,
   "metadata": {
    "id": "41LQxGIRFcj8"
   },
   "outputs": [],
   "source": [
    "# 리스트 만들기\n",
    "num1 = [1, 2, 4, 6, 8, 9]\n",
    "num2 = [2, 3, 4, 5, 7, 9]\n",
    "\n",
    "# 중복 요소 찾기\n",
    "\n",
    "\n",
    "\n",
    "# 확인\n",
    "num3"
   ]
  },
  {
   "cell_type": "markdown",
   "metadata": {
    "id": "6KmXU1TUw1OB"
   },
   "source": [
    "## 5.3.집합 관련 메서드\n",
    "\n",
    "- 집합 관련 메서드 몇 가지를 정리합니다."
   ]
  },
  {
   "cell_type": "markdown",
   "metadata": {
    "id": "NRJ9eIvB1D9h"
   },
   "source": [
    "**1) 요소 하나 추가**\n",
    "\n",
    "- 요소 하나를 추가할 때는 **add()** 메서드를 사용합니다.\n",
    "- 리스트는 add()가 아닌 append() 메서드였음을 기억하기 바랍니다."
   ]
  },
  {
   "cell_type": "code",
   "execution_count": null,
   "metadata": {
    "id": "fzBRVDgQw84H"
   },
   "outputs": [],
   "source": [
    "# 집합 만들기\n",
    "member_set = {'홍길동', '한사랑', '일지매', '박여인'}\n",
    "\n",
    "# 원소 하나 추가\n",
    "member_set.add('강우동')\n",
    "\n",
    "# 확인\n",
    "member_set"
   ]
  },
  {
   "cell_type": "markdown",
   "metadata": {
    "id": "q_46C8KD1SlA"
   },
   "source": [
    "**2) 여러 요소 추가**\n",
    "\n",
    "- 여러 요소를 추가할 때는 **update()** 메서드를 사용합니다.\n",
    "- update() 메서드가 변경이 아닌 추가임을 기억하기 바랍니다.\n",
    "- 요소를 추가하는 것이 집합을 변경하는 것이라 여기면 될 듯 합니다."
   ]
  },
  {
   "cell_type": "code",
   "execution_count": null,
   "metadata": {
    "id": "p5dw3XYtxMnb"
   },
   "outputs": [],
   "source": [
    "# 집합 만들기\n",
    "member_set = {'홍길동', '한사랑', '일지매', '박여인'}\n",
    "\n",
    "# 여러 원소(리스트, 튜플, 딕셔너리) 추가\n",
    "member_set.update(['한국인', '나도야'])\n",
    "\n",
    "# 확인\n",
    "member_set"
   ]
  },
  {
   "cell_type": "markdown",
   "metadata": {
    "id": "CQvFrGLU1ct7"
   },
   "source": [
    "**3) 무작위 한 요소 삭제**\n",
    "\n",
    "- 무작위로 요소 하나를 삭제할 때는 **pop()** 메서드를 사용합니다.\n",
    "- pop() 메서드는 삭제되는 요소를 반환하면서 삭제합니다."
   ]
  },
  {
   "cell_type": "code",
   "execution_count": null,
   "metadata": {
    "id": "JPx2qyDOC5UB"
   },
   "outputs": [],
   "source": [
    "# 집합 만들기\n",
    "member_set = {'홍길동', '한사랑', '일지매', '박여인'}\n",
    "\n",
    "# 무작위로 원소 하나 삭제\n",
    "member_set.pop()\n",
    "\n",
    "# 확인\n",
    "member_set"
   ]
  },
  {
   "cell_type": "markdown",
   "metadata": {
    "id": "tbGr3g8Q1f8Y"
   },
   "source": [
    "**4) 요소 삭제(없으면 오류)**\n",
    "\n",
    "- 요소를 지정해서 삭제할 때는 **remove()** 메서드를 사용합니다.\n",
    "- 삭제하려는 요소가 없으면 오류가 납니다.\n",
    "- discard() 메서드와 비교하기 바랍니다."
   ]
  },
  {
   "cell_type": "code",
   "execution_count": null,
   "metadata": {
    "id": "44_-f66Oxaek"
   },
   "outputs": [],
   "source": [
    "# 집합 만들기\n",
    "member_set = {'홍길동',  '한사랑', '일지매', '박여인'}\n",
    "\n",
    "# 원소 하나 삭제\n",
    "member_set.remove('일지매')\n",
    "\n",
    "# 확인\n",
    "member_set"
   ]
  },
  {
   "cell_type": "code",
   "execution_count": null,
   "metadata": {
    "id": "ROJaBYgIaaDV"
   },
   "outputs": [],
   "source": [
    "# 없는 원소를 삭제하면 오류 발생\n",
    "member_set.remove('한국인')\n",
    "\n",
    "# 확인\n",
    "member_set"
   ]
  },
  {
   "cell_type": "markdown",
   "metadata": {
    "id": "_JH5mV6v1kJF"
   },
   "source": [
    "**5) 요소 삭제(없으면 무시)**\n",
    "\n",
    "- 요소를 지정해서 하나 삭제할 때는 **discard()** 메서드를 사용합니다.\n",
    "- remove() 메서드와는 달리 삭제하려는 요소가 없어도 오류가 나지 않습니다."
   ]
  },
  {
   "cell_type": "code",
   "execution_count": null,
   "metadata": {
    "id": "j91Ck49qCs9r"
   },
   "outputs": [],
   "source": [
    "# 집합 만들기\n",
    "member_set = {'홍길동',  '한사랑', '일지매', '박여인'}\n",
    "\n",
    "# 없는 원소를 삭제하면 무시\n",
    "member_set.discard('홍길동')\n",
    "member_set.discard('한국인')\n",
    "\n",
    "# 확인\n",
    "member_set"
   ]
  },
  {
   "cell_type": "markdown",
   "metadata": {
    "id": "-YPUA5x81YmI"
   },
   "source": [
    "**6) 모든 원소 삭제**\n",
    "\n",
    "- 모든 요소를 삭제할 때는 **clear()** 메서드를 사용합니다."
   ]
  },
  {
   "cell_type": "code",
   "execution_count": null,
   "metadata": {
    "id": "T5cPKLFZD2gq"
   },
   "outputs": [],
   "source": [
    "# 집합 만들기\n",
    "member_set = {'홍길동', '한사랑', '일지매', '박여인'}\n",
    "\n",
    "# 모든 원소 삭제\n",
    "member_set.clear()\n",
    "\n",
    "# 확인\n",
    "member_set"
   ]
  }
 ],
 "metadata": {
  "colab": {
   "provenance": []
  },
  "kernelspec": {
   "display_name": "Python 3",
   "language": "python",
   "name": "python3"
  },
  "language_info": {
   "codemirror_mode": {
    "name": "ipython",
    "version": 3
   },
   "file_extension": ".py",
   "mimetype": "text/x-python",
   "name": "python",
   "nbconvert_exporter": "python",
   "pygments_lexer": "ipython3",
   "version": "3.10.9"
  }
 },
 "nbformat": 4,
 "nbformat_minor": 4
}
