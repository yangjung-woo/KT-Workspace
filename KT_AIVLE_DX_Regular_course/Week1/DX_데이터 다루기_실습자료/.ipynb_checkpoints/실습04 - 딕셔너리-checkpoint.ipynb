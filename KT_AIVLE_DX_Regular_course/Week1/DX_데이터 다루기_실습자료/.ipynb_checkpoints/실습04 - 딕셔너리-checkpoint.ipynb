{
 "cells": [
  {
   "cell_type": "markdown",
   "metadata": {
    "id": "b3TDAdnvnSbh"
   },
   "source": [
    "<center><img src='https://raw.githubusercontent.com/Jangrae/img/master/title.png' width=500/></center>"
   ]
  },
  {
   "cell_type": "markdown",
   "metadata": {
    "id": "fE4bB1hWvzB9"
   },
   "source": [
    "<center><img src='https://raw.githubusercontent.com/Jangrae/img/master/practice.png' width=300/></center>"
   ]
  },
  {
   "cell_type": "markdown",
   "metadata": {
    "id": "0381ccdd"
   },
   "source": [
    "# 실습 #1: 딕셔너리 생성과 조회"
   ]
  },
  {
   "cell_type": "markdown",
   "metadata": {
    "id": "-j26syCfIiMO"
   },
   "source": [
    "1) 다음 값들로 구성된 딕셔너리 dict_a를 생성하세요.\n",
    "\n",
    "- 'v1' : 32\n",
    "- 'l1' : [1, 2, 3]\n",
    "- 'd1' : {'a' :  1, 'b' : 2}"
   ]
  },
  {
   "cell_type": "code",
   "execution_count": 2,
   "metadata": {
    "id": "834b0be6"
   },
   "outputs": [
    {
     "name": "stdout",
     "output_type": "stream",
     "text": [
      "{'v1': 32, 'l1': [1, 2, 3], 'd1': {'a': 1, 'b': 2}}\n"
     ]
    }
   ],
   "source": [
    "dict_a  ={'v1' : 32,\n",
    "'l1' : [1, 2, 3],\n",
    "'d1' : {'a' : 1, 'b' : 2} }\n",
    "\n",
    "print(dict_a)\n"
   ]
  },
  {
   "cell_type": "markdown",
   "metadata": {
    "id": "ODYt2fW4IyFf"
   },
   "source": [
    "2) 다음 값들로 구성된 딕셔너리 dict_b를 생성하세요.\n",
    "\n",
    "- '이름': '홍길동'\n",
    "- '나이': 25\n",
    "- '전공': '경영학'\n",
    "- '언어': ['C언어', '파이썬', '자바']"
   ]
  },
  {
   "cell_type": "code",
   "execution_count": 4,
   "metadata": {
    "id": "dd7076e3"
   },
   "outputs": [
    {
     "name": "stdout",
     "output_type": "stream",
     "text": [
      "{'이름': '홍길동', '나이': 25, '전공': '경영학', '언어': ['C언어', '파이썬', '자바']}\n"
     ]
    }
   ],
   "source": [
    "\n",
    "dict_b ={   '이름': '홍길동',\n",
    "            '나이': 25,\n",
    "            '전공': '경영학',\n",
    "            '언어': ['C언어', '파이썬', '자바']}\n",
    "\n",
    "print(dict_b)"
   ]
  },
  {
   "cell_type": "markdown",
   "metadata": {
    "id": "b6f-VO93JDeX"
   },
   "source": [
    "3) 딕셔너리 dict_a = {'v1': 32, 'l1': [1, 2, 3], 'd1': {'a': 1, 'b': 2}}일 때, 다음 결과가 나오도록 조회하세요.\n",
    "\n",
    "        32\n",
    "        ==============================\n",
    "        [1, 2, 3]\n",
    "        [1, 2]\n",
    "        ==============================\n",
    "        {'a' : 1, 'b' : 2}\n",
    "        1"
   ]
  },
  {
   "cell_type": "code",
   "execution_count": 10,
   "metadata": {
    "id": "c66bfc2e"
   },
   "outputs": [
    {
     "name": "stdout",
     "output_type": "stream",
     "text": [
      "32\n",
      "==============================\n",
      "[1, 2, 3]\n",
      "[1, 2]\n",
      "==============================\n",
      "{'a': 1, 'b': 2}\n",
      "1\n"
     ]
    }
   ],
   "source": [
    "\n",
    "print(dict_a['v1'])\n",
    "print('==============================')\n",
    "print(dict_a['l1'])\n",
    "print(dict_a['l1'][0:2])\n",
    "print('==============================')\n",
    "print(dict_a['d1'])\n",
    "print(dict_a['d1']['a'])\n"
   ]
  },
  {
   "cell_type": "markdown",
   "metadata": {
    "id": "tDoHPzOUJScI"
   },
   "source": [
    "4) 딕셔너리 dict_a = {'v1': 32, 'l1': [1, 2, 3], 'd1': {'a': 1, 'b': 2}}일 때\n",
    "\n",
    "- 딕셔너리의 키, 딕셔너리의 값, 딕셔너리의 키와 값의 쌍을 각각 조회하세요."
   ]
  },
  {
   "cell_type": "code",
   "execution_count": 12,
   "metadata": {
    "id": "e0cf8f00"
   },
   "outputs": [
    {
     "name": "stdout",
     "output_type": "stream",
     "text": [
      "dict_keys(['v1', 'l1', 'd1'])\n",
      "dict_values([32, [1, 2, 3], {'a': 1, 'b': 2}])\n",
      "dict_items([('v1', 32), ('l1', [1, 2, 3]), ('d1', {'a': 1, 'b': 2})])\n"
     ]
    }
   ],
   "source": [
    "print(dict_a.keys()) # 딕셔너리 키\n",
    "print(dict_a.values()) # 딕셔너리 값\n",
    "print(dict_a.items()) # 딕셔너리 키-값 쌍 "
   ]
  },
  {
   "cell_type": "markdown",
   "metadata": {
    "id": "1131f63c"
   },
   "source": [
    "# 실습 #2: 한 번에 여러 개 값 할당"
   ]
  },
  {
   "cell_type": "markdown",
   "metadata": {
    "id": "8-3yUbvJJfMB"
   },
   "source": [
    "1) 리스트 animals = ['사자', '코끼리', '하마']일 때\n",
    "\n",
    "- animals의 값을 변수 a1, a2, a3에 하나씩 할당하고 하나의 print()로 출력하세요."
   ]
  },
  {
   "cell_type": "code",
   "execution_count": 14,
   "metadata": {
    "id": "2202c10e"
   },
   "outputs": [
    {
     "name": "stdout",
     "output_type": "stream",
     "text": [
      "사자 코끼리 하마\n"
     ]
    }
   ],
   "source": [
    "animals = ['사자', '코끼리', '하마']\n",
    "a1,a2,a3 = animals\n",
    "\n",
    "print(a1 , a2, a3)\n"
   ]
  },
  {
   "cell_type": "markdown",
   "metadata": {
    "id": "purkaL41KLI1"
   },
   "source": [
    "2) 리스트 movies = ['인어공주', '알라딘', '겨울왕국', '라푼젤']일 때\n",
    "\n",
    "- movies의 값을 변수 m1, m2, m3, m4에 하나씩 할당하고 하나의 print()로 출력하세요."
   ]
  },
  {
   "cell_type": "code",
   "execution_count": 16,
   "metadata": {
    "id": "20f9bf7a"
   },
   "outputs": [
    {
     "name": "stdout",
     "output_type": "stream",
     "text": [
      "인어공주 알라딘 겨울왕국 라푼젤\n"
     ]
    }
   ],
   "source": [
    "\n",
    "movies = ['인어공주', '알라딘', '겨울왕국', '라푼젤']\n",
    "m1, m2, m3, m4 = movies\n",
    "\n",
    "print(m1, m2, m3, m4)\n",
    "\n"
   ]
  },
  {
   "cell_type": "markdown",
   "metadata": {
    "id": "MIGa7A5QKQro"
   },
   "source": [
    "3) 딕셔너리 dict_a = {'v1': 32, 'l1': [1, 2, 3], 'd1': {'a': 1, 'b': 2}}일 때\n",
    "\n",
    "- dict_a의 값을 변수 i1, i2, i3에 하나씩 할당하고\n",
    "- i2, i3의 값을 하나의 print()로 출력하세요.\n",
    "- i2의 마지막 값을 출력하세요.\n",
    "- i3의 'b' 값을 출력하세요."
   ]
  },
  {
   "cell_type": "code",
   "execution_count": 24,
   "metadata": {
    "id": "ccea38a0"
   },
   "outputs": [
    {
     "name": "stdout",
     "output_type": "stream",
     "text": [
      "[1, 2, 3] {'a': 1, 'b': 2}\n",
      "3\n",
      "2\n"
     ]
    }
   ],
   "source": [
    "dict_a = {'v1': 32,\n",
    "          'l1': [1, 2, 3],\n",
    "          'd1': {'a': 1,\n",
    "                 'b': 2}\n",
    "         }\n",
    "i1 , i2 , i3 = dict_a.values() # dict_a의 값을 변수 i1, i2, i3에 하나씩 할당하고\n",
    "\n",
    "print(i2,i3) # i2, i3의 값을 하나의 print()로 출력하세요. \n",
    "\n",
    "print(i2[-1]) # i2의 마지막 값을 출력하세요.\n",
    "\n",
    "print(i3['b']) # i3의 'b' 값을 출력하세요.\n"
   ]
  },
  {
   "cell_type": "markdown",
   "metadata": {
    "id": "65e62c97"
   },
   "source": [
    "# 실습 #3: 딕셔너리 수정"
   ]
  },
  {
   "cell_type": "markdown",
   "metadata": {
    "id": "zd9XswCHK9hJ"
   },
   "source": [
    "1) 딕셔너리 dict_a = {'v1': 32, 'l1': [1, 2, 3], 'd1': {'a': 1, 'b': 2}}일 때\n",
    "\n",
    "- dict_a에 'v2': 500 값을 새롭게 추가하세요.\n",
    "- 힌트: 딕셔너리[추가할 키] = 추가할 값"
   ]
  },
  {
   "cell_type": "code",
   "execution_count": null,
   "metadata": {
    "id": "1339fb8d"
   },
   "outputs": [],
   "source": [
    "\n",
    "dict_a = {'v1': 32,\n",
    "          'l1': [1, 2, 3],\n",
    "          'd1': {'a': 1,\n",
    "                 'b': 2}\n",
    "         }\n",
    "\n",
    "dict_a['v2'] = 500\n",
    "\n"
   ]
  },
  {
   "cell_type": "markdown",
   "metadata": {
    "id": "uAHA4gbXLPfU"
   },
   "source": [
    "2) 딕셔너리 dict_a = {'v1': 32, 'l1': [1, 2, 3], 'd1': {'a': 1, 'b': 2}}일 때\n",
    "\n",
    "- dict_a의 'v1'을 삭제하세요.\n",
    "- 힌트: del 딕셔너리[삭제할 키]"
   ]
  },
  {
   "cell_type": "code",
   "execution_count": 26,
   "metadata": {
    "id": "6UkYh4x-LPfV"
   },
   "outputs": [
    {
     "name": "stdout",
     "output_type": "stream",
     "text": [
      "{'l1': [1, 2, 3], 'd1': {'a': 1, 'b': 2}}\n"
     ]
    }
   ],
   "source": [
    "dict_a = {'v1': 32,\n",
    "          'l1': [1, 2, 3],\n",
    "          'd1': {'a': 1,\n",
    "                 'b': 2}\n",
    "         }\n",
    "del dict_a['v1']\n",
    "\n",
    "print(dict_a)\n",
    "\n"
   ]
  },
  {
   "cell_type": "markdown",
   "metadata": {
    "id": "db041efb"
   },
   "source": [
    "# 실습 #4: 딕셔너리 키와 값 존재 여부 확인"
   ]
  },
  {
   "cell_type": "markdown",
   "metadata": {
    "id": "ekcI1zeJLkUq"
   },
   "source": [
    "1) 딕셔너리 dict_a = {'v1': 32, 'l1': [1, 2, 3], 'd1': {'a': 1, 'b': 2}}일 때,\n",
    "\n",
    "- dict_a 키 중 'v1'가 있는지 확인하고, 'v1'의 값을 가져오세요.\n",
    "- dict_a 키 중 'v2'가 있으면 값을 불러오고, 없으면 0을 가져오세요.\n",
    "- 힌트\n",
    "    - 키 값 in 딕셔너리\n",
    "    - 딕셔너리.get(키 값, 없을 경우 가져올 값-생략 가능-)"
   ]
  },
  {
   "cell_type": "code",
   "execution_count": 38,
   "metadata": {
    "id": "308b941b"
   },
   "outputs": [
    {
     "name": "stdout",
     "output_type": "stream",
     "text": [
      "32\n",
      "0\n"
     ]
    }
   ],
   "source": [
    "dict_a = {'v1': 32,\n",
    "          'l1': [1, 2, 3],\n",
    "          'd1': {'a': 1,\n",
    "                 'b': 2}\n",
    "         }\n",
    "print(dict_a.get('v1', 0))\n",
    "\n",
    "print(dict_a.get('v2', 0))\n",
    "\n",
    "\n",
    "\n",
    "\n"
   ]
  },
  {
   "cell_type": "code",
   "execution_count": null,
   "metadata": {},
   "outputs": [],
   "source": []
  }
 ],
 "metadata": {
  "colab": {
   "provenance": []
  },
  "kernelspec": {
   "display_name": "Python 3 (ipykernel)",
   "language": "python",
   "name": "python3"
  },
  "language_info": {
   "codemirror_mode": {
    "name": "ipython",
    "version": 3
   },
   "file_extension": ".py",
   "mimetype": "text/x-python",
   "name": "python",
   "nbconvert_exporter": "python",
   "pygments_lexer": "ipython3",
   "version": "3.12.4"
  }
 },
 "nbformat": 4,
 "nbformat_minor": 4
}
