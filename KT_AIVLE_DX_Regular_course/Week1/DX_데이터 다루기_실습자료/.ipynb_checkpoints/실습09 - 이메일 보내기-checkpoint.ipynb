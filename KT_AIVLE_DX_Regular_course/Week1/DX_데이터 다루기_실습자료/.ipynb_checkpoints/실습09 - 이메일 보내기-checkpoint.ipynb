{
 "cells": [
  {
   "cell_type": "markdown",
   "id": "ef7c9c2b",
   "metadata": {
    "id": "ef7c9c2b"
   },
   "source": [
    "<center><img src='https://raw.githubusercontent.com/Jangrae/img/master/title.png' width=500/></center>"
   ]
  },
  {
   "cell_type": "markdown",
   "id": "65b306b2",
   "metadata": {
    "id": "65b306b2"
   },
   "source": [
    "<center><img src='https://raw.githubusercontent.com/Jangrae/img/master/practice.png' width=300/></center>"
   ]
  },
  {
   "cell_type": "markdown",
   "id": "f68d189c",
   "metadata": {
    "id": "f68d189c"
   },
   "source": [
    "# 실습 #1: 이메일 보내기\n",
    "\n",
    "1) 이메일을 보내기 위해 필요한 라이브러리를 불러오세요."
   ]
  },
  {
   "cell_type": "code",
   "execution_count": 10,
   "id": "57350b76",
   "metadata": {
    "id": "57350b76"
   },
   "outputs": [],
   "source": [
    "# 라이브러리를 불러오기\n",
    "import smtplib\n",
    "from email.mime.text import MIMEText\n",
    "\n",
    "\n"
   ]
  },
  {
   "cell_type": "markdown",
   "id": "5c3373b3",
   "metadata": {
    "id": "5c3373b3"
   },
   "source": [
    "2) 아래코드에 gmail주소, 앱 비밀번호를 입력하세요."
   ]
  },
  {
   "cell_type": "code",
   "execution_count": 13,
   "id": "11013a40",
   "metadata": {
    "id": "11013a40"
   },
   "outputs": [
    {
     "data": {
      "text/plain": [
       "(235, b'2.7.0 Accepted')"
      ]
     },
     "execution_count": 13,
     "metadata": {},
     "output_type": "execute_result"
    }
   ],
   "source": [
    "s = smtplib.SMTP('smtp.gmail.com', 587)      # 세션 생성\n",
    "s.starttls()                                 # TLS 보안 시작\n",
    "s.login('yjw7720@gmail.com', 'czdx hhxw jwyu bibe')         # 로그인 인증"
   ]
  },
  {
   "cell_type": "markdown",
   "id": "c2120533",
   "metadata": {
    "id": "c2120533"
   },
   "source": [
    "3) 이메일 본문(최소 2줄 이상), 이메일 제목을 자유롭게 구성해 보세요."
   ]
  },
  {
   "cell_type": "code",
   "execution_count": 15,
   "id": "d83596e7",
   "metadata": {
    "id": "d83596e7"
   },
   "outputs": [],
   "source": [
    "msg = MIMEText('대충 내용을 작성했음')\n",
    "msg['Subject'] = '심화 실습'"
   ]
  },
  {
   "cell_type": "markdown",
   "id": "7e98a6af",
   "metadata": {
    "id": "7e98a6af"
   },
   "source": [
    "4) 발신 주소와 수신 주소를 입력하고 메일을 보내세요."
   ]
  },
  {
   "cell_type": "code",
   "execution_count": 19,
   "id": "cab4a7d8",
   "metadata": {
    "id": "cab4a7d8"
   },
   "outputs": [
    {
     "data": {
      "text/plain": [
       "(221,\n",
       " b'2.0.0 closing connection d9443c01a7336-20710e349eesm57508965ad.67 - gsmtp')"
      ]
     },
     "execution_count": 19,
     "metadata": {},
     "output_type": "execute_result"
    }
   ],
   "source": [
    "s.sendmail('yjw7720@gmail.com', 'yjw7720@gmail.com', msg.as_string())\n",
    "s.quit()"
   ]
  },
  {
   "cell_type": "markdown",
   "id": "405bbec3",
   "metadata": {
    "id": "405bbec3"
   },
   "source": [
    "# 실습 #2: [심화] 마감일 통보 이메일 보내기\n",
    "\n",
    "- 다음은 현재 시스템 날짜와 시간을 조회하는 코드입니다."
   ]
  },
  {
   "cell_type": "code",
   "execution_count": 22,
   "id": "3634a23a",
   "metadata": {
    "id": "3634a23a"
   },
   "outputs": [
    {
     "name": "stdout",
     "output_type": "stream",
     "text": [
      "현재 날짜 시간: 2024-09-11 15:57:11.573337\n",
      "현재 연도: 2024\n",
      "현재 월: 9\n",
      "현재 일: 11\n",
      "현재 요일: 2\n",
      "내일: 2024-09-12 15:57:11.574336\n"
     ]
    }
   ],
   "source": [
    "# 현재 시스템 날짜와 시간을 조회\n",
    "from datetime import datetime, timedelta\n",
    "\n",
    "print('현재 날짜 시간:', datetime.today())\n",
    "print('현재 연도:', datetime.today().year)\n",
    "print('현재 월:', datetime.today().month)\n",
    "print('현재 일:', datetime.today().day)\n",
    "print('현재 요일:', datetime.today().weekday())   # 0: 월요일 ~ 6: 일요일\n",
    "print('내일:', datetime.today() + timedelta(1))"
   ]
  },
  {
   "cell_type": "markdown",
   "id": "b9ed3bb1",
   "metadata": {
    "id": "b9ed3bb1"
   },
   "source": [
    "1) 위 코드를 참조하여 이메일 내용을 아래와 같이 구성하여 메일을 보내세요.\n",
    "- 내용에 포함된 날짜는 시스템으로 오늘 날짜를 받아와서 5일을 더하여 내용에 포함되게 하세요.\n",
    "- 힌트: f'''문자열{변수}...''' 형태를 활용해 봅니다.\n",
    "~~~\n",
    "제목: 제출 마감이 5일 남았습니다.\n",
    "내용:\n",
    "안녕하세요?\n",
    "과제 제출 마감이 5일 남았습니다.\n",
    "0000년 00월 00일까지 반드시 제출바랍니다.\n",
    "감사합니다!\n",
    "~~~"
   ]
  },
  {
   "cell_type": "code",
   "execution_count": 27,
   "id": "e9a66c46",
   "metadata": {
    "id": "e9a66c46"
   },
   "outputs": [
    {
     "data": {
      "text/plain": [
       "(221,\n",
       " b'2.0.0 closing connection 98e67ed59e1d1-2db0413688bsm7643996a91.4 - gsmtp')"
      ]
     },
     "execution_count": 27,
     "metadata": {},
     "output_type": "execute_result"
    }
   ],
   "source": [
    "s = smtplib.SMTP('smtp.gmail.com', 587)      # 세션 생성\n",
    "s.starttls()                                 # TLS 보안 시작\n",
    "s.login('yjw7720@gmail.com', 'czdx hhxw jwyu bibe')         # 로그인 인증\n",
    "\n",
    "msg = MIMEText(f'''\n",
    "안녕하세요?\n",
    "과제 제출 마감이 5일 남았습니다.\n",
    "{datetime.today().year}년 {datetime.today().month}월 {datetime.today().day}일까지 반드시 제출바랍니다.\n",
    "감사합니다!''')\n",
    "msg['Subject'] = '제출 마감이 5일 남았습니다.'\n",
    "\n",
    "\n",
    "# 메일 보내기\n",
    "s.sendmail('anunymous@anonymous.com', 'yjw7720@gmail.com', msg.as_string())\n",
    "s.quit()\n"
   ]
  },
  {
   "cell_type": "markdown",
   "id": "c51effb7",
   "metadata": {
    "id": "c51effb7"
   },
   "source": [
    "# 실습 #3: [심화] 오늘의 과일 안내 이메일 보내기\n",
    "\n",
    "2) 엑셀 파일 마지막 실습 결과인 Fruit6.xlsx 파일을 읽어서 다음의 내용으로 이메일을 보내세요.\n",
    "\n",
    "- Fruit6.xlsx의 세번째 열의 0~6 사이의 숫자가 요일을 의미합니다.\n",
    "- 오늘의 요일에 해당되는 과일 이름을 읽어서 아래 메일 내용을 구성하세요.\n",
    "\n",
    "~~~\n",
    "제목: 오늘의 과일은 OOO 입니다.\n",
    "내용:\n",
    "안녕하세요?\n",
    "오늘의 과일은 OOO입니다.\n",
    "건강을 위해 오전에 꼭 챙겨 드시기 바랍니다.\n",
    "감사합니다!\n",
    "~~~\n",
    "\n",
    "- 힌트\n",
    "    - datetime.today().weekday()를 통해 오늘의 요일을 얻을 수 있습니다.\n",
    "    - if 조건문을 사용하여 오늘의 요일과 Fruit6.xlsx의 세 번째 열의 값을 비교해 보세요.\n",
    "    - 값이 일치할 경우 해당하는 행의 첫 번째 열의 값이 오늘의 요일에 해당하는 과일이 됩니다."
   ]
  },
  {
   "cell_type": "code",
   "execution_count": 34,
   "id": "487fe05b",
   "metadata": {
    "id": "487fe05b"
   },
   "outputs": [
    {
     "data": {
      "text/plain": [
       "(221,\n",
       " b'2.0.0 closing connection 41be03b00d2f7-7d8256d0750sm6757867a12.75 - gsmtp')"
      ]
     },
     "execution_count": 34,
     "metadata": {},
     "output_type": "execute_result"
    }
   ],
   "source": [
    "# 오늘의 요일 과일 \n",
    "\n",
    "# 라이브러 불러오기\n",
    "import openpyxl as xl\n",
    "# 워크북 오브젝트를 선언(엑셀 파일 열기)\n",
    "wb = xl.load_workbook('Fruit6.xlsx')\n",
    "\n",
    "sheet2 = wb['Sheet2']\n",
    "\n",
    "fruit_today = ''\n",
    "\n",
    "for i in range(1,sheet2.max_row+1):\n",
    "    if sheet2.cell(row= i, column = 3).value == datetime.today().weekday():\n",
    "        fruit_today = sheet2.cell(row= i, column = 1).value\n",
    "        break\n",
    "\n",
    "\n",
    "\n",
    "\n",
    "s = smtplib.SMTP('smtp.gmail.com', 587)      # 세션 생성\n",
    "s.starttls()                                 # TLS 보안 시작\n",
    "s.login('yjw7720@gmail.com', 'czdx hhxw jwyu bibe')         # 로그인 인증\n",
    "\n",
    "msg = MIMEText(f'''\n",
    "안녕하세요?\n",
    "오늘의 과일은 {fruit_today}입니다.\n",
    "건강을 위해 오전에 꼭 챙겨 드시기 바랍니다.\n",
    "감사합니다!''')\n",
    "msg['Subject'] = f'오늘의 과일은 {fruit_today}입니다.'\n",
    "\n",
    "\n",
    "# 메일 보내기\n",
    "s.sendmail('yjw7720@gmail.com', 'python2ran@gmail.com', msg.as_string())\n",
    "s.quit()\n",
    "\n"
   ]
  },
  {
   "cell_type": "code",
   "execution_count": null,
   "id": "6b7b5159-5bc1-46bd-be98-e6625c80d8d4",
   "metadata": {},
   "outputs": [],
   "source": []
  }
 ],
 "metadata": {
  "colab": {
   "provenance": []
  },
  "kernelspec": {
   "display_name": "Python 3 (ipykernel)",
   "language": "python",
   "name": "python3"
  },
  "language_info": {
   "codemirror_mode": {
    "name": "ipython",
    "version": 3
   },
   "file_extension": ".py",
   "mimetype": "text/x-python",
   "name": "python",
   "nbconvert_exporter": "python",
   "pygments_lexer": "ipython3",
   "version": "3.12.4"
  }
 },
 "nbformat": 4,
 "nbformat_minor": 5
}
