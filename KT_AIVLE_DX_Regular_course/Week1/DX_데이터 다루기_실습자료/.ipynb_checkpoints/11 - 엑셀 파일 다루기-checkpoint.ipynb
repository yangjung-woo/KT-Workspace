{
 "cells": [
  {
   "cell_type": "markdown",
   "id": "a6662e55",
   "metadata": {
    "id": "a6662e55"
   },
   "source": [
    "<center><img src='https://raw.githubusercontent.com/Jangrae/img/master/title.png' width=500/></center>"
   ]
  },
  {
   "cell_type": "markdown",
   "id": "710ee378",
   "metadata": {
    "id": "710ee378"
   },
   "source": [
    "# 11.엑셀 파일 다루기\n",
    "\n",
    "- openpyxl 라이브러리를 사용해 엑셀 파일을 다루는 기본적인 방법을 학습합니다.\n",
    "- 엑셀과 파이썬을 연동하면 업무 자동화를 구현할 수 있습니다.\n",
    "- 엑셀을 다루는 상세한 기술은 관련 자료를 찾아 학습하기를 권고합니다."
   ]
  },
  {
   "cell_type": "markdown",
   "id": "N2hjGoM9ZXdh",
   "metadata": {
    "id": "N2hjGoM9ZXdh"
   },
   "source": [
    "## 11.1.엑셀 파일 열기"
   ]
  },
  {
   "cell_type": "markdown",
   "id": "GrRcxDI6ZXdi",
   "metadata": {
    "id": "GrRcxDI6ZXdi"
   },
   "source": [
    "- 엑셀 파일을 다루기 위해 openpyxl 라이브러리를 xl 별칭을 주고 불러옵니다."
   ]
  },
  {
   "cell_type": "code",
   "execution_count": null,
   "id": "8LYtSNJqZXdi",
   "metadata": {
    "id": "8LYtSNJqZXdi"
   },
   "outputs": [],
   "source": [
    "# 라이브러 불러오기\n",
    "import openpyxl as xl"
   ]
  },
  {
   "cell_type": "markdown",
   "id": "MKBNARDWZXdk",
   "metadata": {
    "id": "MKBNARDWZXdk"
   },
   "source": [
    "-  load_workbook() 함수로 엑셀 파일을 가져와 워크북 오브젝트를 선언합니다.\n",
    "- 이후로는 이 과정을 **엑셀 파일 열기**로 부르겠습니다."
   ]
  },
  {
   "cell_type": "code",
   "execution_count": null,
   "id": "LWSmQbmKZXdk",
   "metadata": {
    "id": "LWSmQbmKZXdk"
   },
   "outputs": [],
   "source": [
    "# 워크북 오브젝트를 선언(엑셀 파일 열기)\n",
    "wb = xl.load_workbook('Fruit.xlsx')"
   ]
  },
  {
   "cell_type": "markdown",
   "id": "rfKNJx5BbSqk",
   "metadata": {
    "id": "rfKNJx5BbSqk"
   },
   "source": [
    "- sheetnames 속성을 통해 파일에 포함된 모든 시트 이름을 확인할 수 있습니다."
   ]
  },
  {
   "cell_type": "code",
   "execution_count": null,
   "id": "d7Fb1vE7ZXdl",
   "metadata": {
    "id": "d7Fb1vE7ZXdl"
   },
   "outputs": [],
   "source": [
    "# 시트 이름 확인\n",
    "wb.sheetnames"
   ]
  },
  {
   "cell_type": "markdown",
   "id": "88NIEQkbZXdm",
   "metadata": {
    "id": "88NIEQkbZXdm"
   },
   "source": [
    "## 11.2.엑셀 파일 읽기"
   ]
  },
  {
   "cell_type": "markdown",
   "id": "fr040Pd-ZXdn",
   "metadata": {
    "id": "fr040Pd-ZXdn"
   },
   "source": [
    "* 먼저 엑셀로 Fruit.xlsx 파일을 열어서 내용을 확인합니다."
   ]
  },
  {
   "cell_type": "markdown",
   "id": "KuTZYQ6gZXdo",
   "metadata": {
    "id": "KuTZYQ6gZXdo"
   },
   "source": [
    "<img src='https://raw.githubusercontent.com/jangrae/img/master/fruit.png' width=450 align = \"left\"/>"
   ]
  },
  {
   "cell_type": "markdown",
   "id": "63f8d845",
   "metadata": {
    "id": "63f8d845"
   },
   "source": [
    "- **엑셀 파일 열기 → 시트 선택 → 셀 조회** 순서로 특정 셀의 값을 확인합니다.\n",
    "- 엑셀 파일은 앞의 과정에서 열었으므로 작업 대상 시트를 선택합니다."
   ]
  },
  {
   "cell_type": "code",
   "execution_count": null,
   "id": "31954626",
   "metadata": {
    "id": "31954626"
   },
   "outputs": [],
   "source": [
    "# 시트 선택\n",
    "sheet1 = wb['Sheet1']"
   ]
  },
  {
   "cell_type": "markdown",
   "id": "DQ4mVQrBZXdp",
   "metadata": {
    "id": "DQ4mVQrBZXdp"
   },
   "source": [
    "* 우선 **셀 이름**으로 A1 셀 값을 확인합니다."
   ]
  },
  {
   "cell_type": "code",
   "execution_count": null,
   "id": "OqUmyZN9ZXdp",
   "metadata": {
    "id": "OqUmyZN9ZXdp"
   },
   "outputs": [],
   "source": [
    "# 셀 이름으로 셀 값 확인\n",
    "sheet1['A1'].value"
   ]
  },
  {
   "cell_type": "markdown",
   "id": "F2rAfclOZXdq",
   "metadata": {
    "id": "F2rAfclOZXdq"
   },
   "source": [
    "- 셀 이름 대신 **행과 열 번호**로 값을 확인합니다.\n",
    "- 번호로 조회하는 것은 반복문으로 셀 값을 읽어오거나 추가할 때 사용하면 좋습니다.\n",
    "- 단, 행과 열 번호는 1부터 시작합니다."
   ]
  },
  {
   "cell_type": "code",
   "execution_count": null,
   "id": "bX7au5VdZXdq",
   "metadata": {
    "id": "bX7au5VdZXdq"
   },
   "outputs": [],
   "source": [
    "# 행과 열 번호로 셀 값 확인\n",
    "sheet1.cell(row=1, column=1).value"
   ]
  },
  {
   "cell_type": "markdown",
   "id": "UlVI0YyJZXdr",
   "metadata": {
    "id": "UlVI0YyJZXdr"
   },
   "source": [
    "* 속성 값으로 데이터가 있는 영역, 즉 데이터 셀의 시작과 끝을 확인합니다.\n",
    "- 끝 행과 끝 열 번호는 이후 행과 열을 추가할 때 유익한 정보가 됩니다."
   ]
  },
  {
   "cell_type": "code",
   "execution_count": null,
   "id": "BOVRTFt5ZXdr",
   "metadata": {
    "id": "BOVRTFt5ZXdr"
   },
   "outputs": [],
   "source": [
    "# 데이터 영역 확인\n",
    "print(sheet1.min_row, sheet1.max_row)        # 시작 행, 끝 행\n",
    "print(sheet1.min_column, sheet1.max_column)  # 시작 열, 끝 열"
   ]
  },
  {
   "cell_type": "markdown",
   "id": "uzTZC8OYZXdr",
   "metadata": {
    "id": "uzTZC8OYZXdr"
   },
   "source": [
    "<img src='https://raw.githubusercontent.com/jangrae/img/master/practice_01.png' width=120 align = \"left\"/>"
   ]
  },
  {
   "cell_type": "markdown",
   "id": "7xx1Ay1jc-r8",
   "metadata": {
    "id": "7xx1Ay1jc-r8"
   },
   "source": [
    "[문1] Banana를 읽어 보세요."
   ]
  },
  {
   "cell_type": "code",
   "execution_count": null,
   "id": "kiUKKo7BcZP_",
   "metadata": {
    "id": "kiUKKo7BcZP_"
   },
   "outputs": [],
   "source": [
    "# Banana 읽기\n",
    "\n",
    "\n",
    "# 또는\n"
   ]
  },
  {
   "cell_type": "markdown",
   "id": "syLu1TNMdIvb",
   "metadata": {
    "id": "syLu1TNMdIvb"
   },
   "source": [
    "[문2] green을 읽어 보세요."
   ]
  },
  {
   "cell_type": "code",
   "execution_count": null,
   "id": "vsXp8ajHcZQF",
   "metadata": {
    "id": "vsXp8ajHcZQF"
   },
   "outputs": [],
   "source": [
    "# green 읽기\n",
    "\n",
    "\n",
    "# 또는\n"
   ]
  },
  {
   "cell_type": "markdown",
   "id": "ANLw_kb8dN1O",
   "metadata": {
    "id": "ANLw_kb8dN1O"
   },
   "source": [
    "[문3] 반복문을 사용해 과일 이름을 하나씩 출력해 보세요"
   ]
  },
  {
   "cell_type": "code",
   "execution_count": null,
   "id": "n3SY5TIycZQG",
   "metadata": {
    "id": "n3SY5TIycZQG"
   },
   "outputs": [],
   "source": [
    "# 과일 이름 출력\n",
    "\n"
   ]
  },
  {
   "cell_type": "markdown",
   "id": "eEPLkOYCZXdt",
   "metadata": {
    "id": "eEPLkOYCZXdt"
   },
   "source": [
    "## 11.3.엑셀 파일에 쓰기"
   ]
  },
  {
   "cell_type": "markdown",
   "id": "2JXw_SebZXdt",
   "metadata": {
    "id": "2JXw_SebZXdt"
   },
   "source": [
    "### 11.3.1.셀 값 수정하기\n",
    "\n",
    "- 셀에 새로운 값을 할당하는 방법으로 셀 값을 변경합니다."
   ]
  },
  {
   "cell_type": "code",
   "execution_count": null,
   "id": "nMfCrhKpZXdt",
   "metadata": {
    "id": "nMfCrhKpZXdt"
   },
   "outputs": [],
   "source": [
    "# Apple --> Pineapple 변경\n",
    "# sheet1.cell(row=1, column=1).value = 'Pineapple'\n",
    "sheet1['A1'].value = 'Pineapple'"
   ]
  },
  {
   "cell_type": "code",
   "execution_count": null,
   "id": "Jgb-iJAEZXdt",
   "metadata": {
    "id": "Jgb-iJAEZXdt"
   },
   "outputs": [],
   "source": [
    "# 셀 값 확인\n",
    "sheet1.cell(row=1, column=1).value"
   ]
  },
  {
   "cell_type": "markdown",
   "id": "b879a156",
   "metadata": {
    "id": "b879a156"
   },
   "source": [
    "- 하지만 셀 값 변경이 파일에 실제 반영 된 것은 아닙니다.\n",
    "- 아래와 같이 엑셀 파일 이름을 지정해 워크북 오브젝트를 저장해야 합니다.\n",
    "- 필요한 경우 다른 이름의 파일로 저장할 수 있습니다.\n",
    "- 이때 기존 원본 파일은 그대로 유지됩니다(파일 이름 변경이 아님)."
   ]
  },
  {
   "cell_type": "code",
   "execution_count": null,
   "id": "8m9ol4-iZXdu",
   "metadata": {
    "id": "8m9ol4-iZXdu"
   },
   "outputs": [],
   "source": [
    "# 엑셀 파일 저장\n",
    "wb.save('Fruit.xlsx')"
   ]
  },
  {
   "cell_type": "markdown",
   "id": "CgeUv3wXZXdu",
   "metadata": {
    "id": "CgeUv3wXZXdu"
   },
   "source": [
    "<img src='https://raw.githubusercontent.com/jangrae/img/master/practice_01.png' width=120 align = \"left\"/>"
   ]
  },
  {
   "cell_type": "markdown",
   "id": "0705ea56",
   "metadata": {
    "id": "0705ea56"
   },
   "source": [
    "[문1] 1행, 2열 셀의 값을 yellow로 변경하고 저장한 후 결과를 확인하세요."
   ]
  },
  {
   "cell_type": "code",
   "execution_count": null,
   "id": "FtnterlBZXdu",
   "metadata": {
    "id": "FtnterlBZXdu"
   },
   "outputs": [],
   "source": [
    "# red --> yellow 변경\n",
    "\n",
    "\n",
    "# 엑셀 파일 저장\n",
    "\n",
    "\n",
    "# 셀 값 확인\n"
   ]
  },
  {
   "cell_type": "markdown",
   "id": "ioFIkLcKZXdv",
   "metadata": {
    "id": "ioFIkLcKZXdv"
   },
   "source": [
    "### 11.3.2.행/열 추가와 삭제\n",
    "    \n",
    "- 다음 두 메서드를 사용해 행과 열을 삽입합니다.\n",
    "    - sheet.insert_rows(행번호): 행 삽입\n",
    "    - sheet.insert_cols(열번호): 열 삽입\n",
    "\n",
    "- 다음 두 메서드를 사용해 행과 열을 삭제합니다.\n",
    "    - sheet.delete_rows(행번호): 행 삭제\n",
    "    - sheet.delete_cols(열번호): 열 삭제\n",
    "\n",
    "- 우선 엑셀로 Animal.xlsx 파일을 열어 Sheet1 시트를 확인합니다."
   ]
  },
  {
   "cell_type": "markdown",
   "id": "6b73f25c",
   "metadata": {
    "id": "6b73f25c"
   },
   "source": [
    "<img src='https://raw.githubusercontent.com/jangrae/img/master/animal.png' width=450 align = \"left\"/>"
   ]
  },
  {
   "cell_type": "markdown",
   "id": "b9e33712",
   "metadata": {
    "id": "b9e33712"
   },
   "source": [
    "- Animal.xlsx 파일을 열어 Sheet1 시트의 셀 값 일부를 확인합니다."
   ]
  },
  {
   "cell_type": "code",
   "execution_count": null,
   "id": "VIHFVMucZXdv",
   "metadata": {
    "id": "VIHFVMucZXdv"
   },
   "outputs": [],
   "source": [
    "# 엑셀 파일 열기\n",
    "wb = xl.load_workbook(\"Animal.xlsx\")\n",
    "\n",
    "# 시트 지정\n",
    "sheet1 = wb['Sheet1']\n",
    "\n",
    "# 셀 값 확인\n",
    "print(sheet1.cell(1, 1).value, sheet1.cell(1, 2).value)\n",
    "print(sheet1.cell(2, 1).value, sheet1.cell(2, 2).value)\n",
    "print(sheet1.cell(3, 1).value, sheet1.cell(3, 2).value)"
   ]
  },
  {
   "cell_type": "markdown",
   "id": "prc-sg9BZXdv",
   "metadata": {
    "id": "prc-sg9BZXdv"
   },
   "source": [
    "- 두 번째 행에 빈 행을 추가합니다.\n",
    "- 엑셀 파일을 저장하지 않으면 실제 반영되지는 않습니다."
   ]
  },
  {
   "cell_type": "code",
   "execution_count": null,
   "id": "vKSsS40NZXdv",
   "metadata": {
    "id": "vKSsS40NZXdv"
   },
   "outputs": [],
   "source": [
    "# 행 추가\n",
    "sheet1.insert_rows(2)\n",
    "\n",
    "# 셀 값 확인\n",
    "print(sheet1.cell(1, 1).value, sheet1.cell(1, 2).value)\n",
    "print(sheet1.cell(2, 1).value, sheet1.cell(2, 2).value)\n",
    "print(sheet1.cell(3, 1).value, sheet1.cell(3, 2).value)\n",
    "\n",
    "# 저장\n",
    "# wb.save('Animal.xlsx')"
   ]
  },
  {
   "cell_type": "markdown",
   "id": "22KYDGuRZXdw",
   "metadata": {
    "id": "22KYDGuRZXdw"
   },
   "source": [
    "- 위에서 추가한 두 번째 행을 삭제합니다.\n",
    "- 엑셀 파일을 저장하지 않으면 실제 반영되지는 않습니다."
   ]
  },
  {
   "cell_type": "code",
   "execution_count": null,
   "id": "K6L1CrGQZXdw",
   "metadata": {
    "id": "K6L1CrGQZXdw"
   },
   "outputs": [],
   "source": [
    "# 행 삭제\n",
    "sheet1.delete_rows(2)\n",
    "\n",
    "# 셀 값 확인\n",
    "print(sheet1.cell(1, 1).value, sheet1.cell(1, 2).value)\n",
    "print(sheet1.cell(2, 1).value, sheet1.cell(2, 2).value)\n",
    "print(sheet1.cell(3, 1).value, sheet1.cell(3, 2).value)\n",
    "\n",
    "# 저장\n",
    "# wb.save('Animal.xlsx')"
   ]
  }
 ],
 "metadata": {
  "colab": {
   "provenance": []
  },
  "kernelspec": {
   "display_name": "Python 3",
   "language": "python",
   "name": "python3"
  },
  "language_info": {
   "codemirror_mode": {
    "name": "ipython",
    "version": 3
   },
   "file_extension": ".py",
   "mimetype": "text/x-python",
   "name": "python",
   "nbconvert_exporter": "python",
   "pygments_lexer": "ipython3",
   "version": "3.10.9"
  }
 },
 "nbformat": 4,
 "nbformat_minor": 5
}
