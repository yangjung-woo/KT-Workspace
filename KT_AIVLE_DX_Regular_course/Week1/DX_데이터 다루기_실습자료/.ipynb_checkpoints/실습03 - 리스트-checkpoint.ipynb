{
 "cells": [
  {
   "cell_type": "markdown",
   "metadata": {
    "id": "b3TDAdnvnSbh"
   },
   "source": [
    "<center><img src='https://raw.githubusercontent.com/Jangrae/img/master/title.png' width=500/></center>"
   ]
  },
  {
   "cell_type": "markdown",
   "metadata": {
    "id": "mDCfW4_-1Y_x"
   },
   "source": [
    "<center><img src='https://raw.githubusercontent.com/Jangrae/img/master/practice.png' width=300/></center>"
   ]
  },
  {
   "cell_type": "markdown",
   "metadata": {
    "id": "32779570"
   },
   "source": [
    "# 실습 #1: 리스트 생성하기"
   ]
  },
  {
   "cell_type": "markdown",
   "metadata": {
    "id": "YsczyFXrCcHJ"
   },
   "source": [
    "1) 리스트 a에 1, 2, 3, 4, 5를 저장하고 출력하세요."
   ]
  },
  {
   "cell_type": "code",
   "execution_count": 2,
   "metadata": {
    "id": "060a7ef0"
   },
   "outputs": [
    {
     "name": "stdout",
     "output_type": "stream",
     "text": [
      "[1, 2, 3, 4, 5]\n"
     ]
    }
   ],
   "source": [
    "\n",
    "a =[1,2,3,4,5]\n",
    "print(a)\n",
    "\n"
   ]
  },
  {
   "cell_type": "markdown",
   "metadata": {
    "id": "8hkGME6GCg-r"
   },
   "source": [
    "2) 리스트 b에 'ab', 'cd', 'ef'를 저장하고 출력하세요."
   ]
  },
  {
   "cell_type": "code",
   "execution_count": 4,
   "metadata": {
    "id": "b9a33756"
   },
   "outputs": [
    {
     "name": "stdout",
     "output_type": "stream",
     "text": [
      "['ab', 'cd', 'ef']\n"
     ]
    }
   ],
   "source": [
    "\n",
    "b = ['ab','cd','ef']\n",
    "\n",
    "print(b)\n"
   ]
  },
  {
   "cell_type": "markdown",
   "metadata": {
    "id": "KCBlca7RC9Oz"
   },
   "source": [
    "3) 리스트 c에 123, 'ab', 45, 'cde'를 저장하고 출력하세요."
   ]
  },
  {
   "cell_type": "code",
   "execution_count": 6,
   "metadata": {
    "id": "e3a434ab"
   },
   "outputs": [
    {
     "name": "stdout",
     "output_type": "stream",
     "text": [
      "[123, 'ab', 45, 'cde']\n"
     ]
    }
   ],
   "source": [
    "\n",
    "\n",
    "c = [123,'ab',45,'cde']\n",
    "print(c)\n"
   ]
  },
  {
   "cell_type": "markdown",
   "metadata": {
    "id": "fFMeIxCnC_fL"
   },
   "source": [
    "4) 리스트 list_a에 1, 3, 5, 7, 9를, 리스트 list_b에 1, 'a', 3, 'b'를 저장하고 각각의 리스트를 출력하세요."
   ]
  },
  {
   "cell_type": "code",
   "execution_count": 8,
   "metadata": {
    "id": "47158015"
   },
   "outputs": [
    {
     "name": "stdout",
     "output_type": "stream",
     "text": [
      "[1, 3, 5, 7, 9]\n",
      "[1, 'a', 3, 'b']\n"
     ]
    }
   ],
   "source": [
    "list_a = [1,3,5,7,9]\n",
    "list_b = [1,'a',3,'b']\n",
    "\n",
    "print(list_a)\n",
    "print(list_b)\n"
   ]
  },
  {
   "cell_type": "markdown",
   "metadata": {
    "id": "V2M5sylfDBsd"
   },
   "source": [
    "5) range() 함수를 사용하여 0부터 20까지의 값들을 리스트 d에 저장하고 출력하세요."
   ]
  },
  {
   "cell_type": "code",
   "execution_count": 10,
   "metadata": {
    "id": "58dbcc58"
   },
   "outputs": [
    {
     "name": "stdout",
     "output_type": "stream",
     "text": [
      "[0, 1, 2, 3, 4, 5, 6, 7, 8, 9, 10, 11, 12, 13, 14, 15, 16, 17, 18, 19, 20]\n"
     ]
    }
   ],
   "source": [
    "d= list(range(0,21))\n",
    "\n",
    "print(d)\n"
   ]
  },
  {
   "cell_type": "markdown",
   "metadata": {
    "id": "q-wOdj_0DEA2"
   },
   "source": [
    "6) range() 함수를 사용하여 1부터 19까지 3씩 증가시킨 값들을 리스트 list_c에 저장하고 출력하세요."
   ]
  },
  {
   "cell_type": "code",
   "execution_count": 12,
   "metadata": {
    "id": "64c8475f"
   },
   "outputs": [
    {
     "name": "stdout",
     "output_type": "stream",
     "text": [
      "[1, 4, 7, 10, 13, 16, 19]\n"
     ]
    }
   ],
   "source": [
    "list_c= list(range(1,20,3))\n",
    "\n",
    "print(list_c)\n",
    "\n",
    "\n",
    "\n"
   ]
  },
  {
   "cell_type": "markdown",
   "metadata": {
    "id": "V1wO-_JrDF2G"
   },
   "source": [
    "7) 리스트 list_d에 1, 2, 3을 저장한 뒤, 리스트 list_e에 리스트 list_d와 4, 5를 저장하고 출력하세요.\n"
   ]
  },
  {
   "cell_type": "code",
   "execution_count": 14,
   "metadata": {
    "id": "9b35e90a"
   },
   "outputs": [
    {
     "name": "stdout",
     "output_type": "stream",
     "text": [
      "[[1, 2, 3], 4, 5]\n"
     ]
    }
   ],
   "source": [
    "list_d = [1,2,3]\n",
    "list_e = [list_d,4,5]\n",
    "\n",
    "print(list_e)\n"
   ]
  },
  {
   "cell_type": "markdown",
   "metadata": {
    "id": "biFIvEzXDL31"
   },
   "source": [
    "8) 리스트 list1에 1, 3, 'hello'를 저장한 뒤, 리스트 list2에 리스트 list1과 'happy', 2, 4를 저장하고 출력하세요."
   ]
  },
  {
   "cell_type": "code",
   "execution_count": 16,
   "metadata": {
    "id": "e8dd7b92"
   },
   "outputs": [
    {
     "name": "stdout",
     "output_type": "stream",
     "text": [
      "[[1, 3, 'hello'], 'happy', 2, 4]\n"
     ]
    }
   ],
   "source": [
    "list1 = [1,3,'hello']\n",
    "list2 = [list1,'happy',2,4]\n",
    "\n",
    "print(list2)\n",
    "\n",
    "\n",
    "\n"
   ]
  },
  {
   "cell_type": "markdown",
   "metadata": {
    "id": "415e0083"
   },
   "source": [
    "# 실습 #2: 리스트 인덱싱과 슬라이싱"
   ]
  },
  {
   "cell_type": "markdown",
   "metadata": {
    "id": "Mc1z9yJFDReh"
   },
   "source": [
    "1) 리스트 list1에 1, 2, 3, 4, 5를 저장하고, 첫 번째 값과 마지막 값을 각각 출력하세요."
   ]
  },
  {
   "cell_type": "code",
   "execution_count": 20,
   "metadata": {
    "id": "66a0e92f"
   },
   "outputs": [
    {
     "name": "stdout",
     "output_type": "stream",
     "text": [
      "1 5\n"
     ]
    }
   ],
   "source": [
    "\n",
    "list1 = [1,2,3,4,5]\n",
    "\n",
    "print(list1[0], list1[-1])\n",
    "\n"
   ]
  },
  {
   "cell_type": "markdown",
   "metadata": {
    "id": "Edf2Hk6gDTPa"
   },
   "source": [
    "2) 리스트 a에 23, 3, 16, 45, 11을 저장하고 다음 값을 출력하세요.\n",
    "\n",
    "- 앞에서부터 첫 번째 값과 네 번째 값을 하나의 print 함수로 출력\n",
    "- 뒤에서부터 첫 번째 값과 세 번째 값을 하나의 print 함수로 출력"
   ]
  },
  {
   "cell_type": "code",
   "execution_count": 22,
   "metadata": {
    "id": "5314564e"
   },
   "outputs": [
    {
     "name": "stdout",
     "output_type": "stream",
     "text": [
      "23 45\n",
      "11 16\n"
     ]
    }
   ],
   "source": [
    "a= [23, 3, 16, 45, 11]\n",
    "\n",
    "print(a[0],a[3])\n",
    "print(a[-1],a[-3])\n",
    "\n",
    "\n"
   ]
  },
  {
   "cell_type": "markdown",
   "metadata": {
    "id": "V5OQVcVDDXIc"
   },
   "source": [
    "3) 리스트 a에 23, 3, 16, 45, 11을 저장하고, 첫 번째 값부터 세 번째 값까지 출력하세요.\n"
   ]
  },
  {
   "cell_type": "code",
   "execution_count": 24,
   "metadata": {
    "id": "90ab75d3"
   },
   "outputs": [
    {
     "name": "stdout",
     "output_type": "stream",
     "text": [
      "[23, 3, 16]\n"
     ]
    }
   ],
   "source": [
    "a= [23, 3, 16, 45, 11]\n",
    "\n",
    "print(a[0:3])\n",
    "\n",
    "\n"
   ]
  },
  {
   "cell_type": "markdown",
   "metadata": {
    "id": "Nb3jpaaADa32"
   },
   "source": [
    "4) 리스트 a에 23, 3, 16, 45, 11을 저장하고, 세 번째 값부터 마지막 값까지 출력하세요."
   ]
  },
  {
   "cell_type": "code",
   "execution_count": 28,
   "metadata": {
    "id": "a1dba84a"
   },
   "outputs": [
    {
     "name": "stdout",
     "output_type": "stream",
     "text": [
      "[16, 45, 11]\n"
     ]
    }
   ],
   "source": [
    "\n",
    "a= [23, 3, 16, 45, 11]\n",
    "\n",
    "print(a[2:])\n",
    "\n",
    "\n"
   ]
  },
  {
   "cell_type": "markdown",
   "metadata": {
    "id": "MvEBm_5fDeSv"
   },
   "source": [
    "5) 리스트 a에 23, 3, 16, 45, 11을 저장하고, 아래 예시와 같이 출력하세요.\n",
    "\n",
    "- 첫 번째 줄은 순방향 인덱싱과 슬라이싱을 사용하세요.\n",
    "- 두 번째 줄은 역방향 인덱싱과 슬라이싱을 사용하세요.\n",
    "~~~\n",
    "[3, 16, 45] [23, 3, 16] [16, 45] [16, 45, 11]\n",
    "[16, 45] [] [16, 45, 11] [23]\n",
    "~~~"
   ]
  },
  {
   "cell_type": "code",
   "execution_count": 38,
   "metadata": {
    "id": "a429fba0"
   },
   "outputs": [
    {
     "name": "stdout",
     "output_type": "stream",
     "text": [
      "[3, 16, 45] [23, 3, 16] [16, 45] [16, 45, 11]\n",
      "[16, 45] [] [16, 45, 11] [23]\n"
     ]
    }
   ],
   "source": [
    "\n",
    "a= [23, 3, 16, 45, 11]\n",
    "\n",
    "print(a[1:4], a[0:3], a[2:4], a[2:5]) # 정방향 인덱싱\n",
    "\n",
    "print(a[-3:-1], a[-1:-1], a[-3:],a[-5:-4]) # 역방향 인덱싱\n",
    "\n"
   ]
  },
  {
   "cell_type": "markdown",
   "metadata": {
    "id": "fc048fc3"
   },
   "source": [
    "# 실습 #3: 리스트 수정하기"
   ]
  },
  {
   "cell_type": "markdown",
   "metadata": {
    "id": "UxI2odLADj_D"
   },
   "source": [
    "1) 리스트 a에 23, 3, 16, 45, 11을 저장한 뒤 append()를 사용하여 99를 추가하세요.\n",
    "- 힌트: 리스트.append(추가할 값)"
   ]
  },
  {
   "cell_type": "code",
   "execution_count": 40,
   "metadata": {
    "id": "24ec8803"
   },
   "outputs": [
    {
     "name": "stdout",
     "output_type": "stream",
     "text": [
      "[23, 3, 16, 45, 11, 99]\n"
     ]
    }
   ],
   "source": [
    "a= [23, 3, 16, 45, 11]\n",
    "a.append(99)\n",
    "\n",
    "print(a)\n"
   ]
  },
  {
   "cell_type": "markdown",
   "metadata": {
    "id": "Z54kSDZCDnS1"
   },
   "source": [
    "2) 리스트 a에 23, 3, 16, 45, 11을 저장하고, append()로 99를 추가한 뒤, 리스트 + 리스트 형태를 사용하여 100을 추가하세요."
   ]
  },
  {
   "cell_type": "code",
   "execution_count": 50,
   "metadata": {
    "id": "ff826916"
   },
   "outputs": [
    {
     "name": "stdout",
     "output_type": "stream",
     "text": [
      "[23, 3, 16, 45, 11, 99, 100]\n"
     ]
    }
   ],
   "source": [
    "a= [23, 3, 16, 45, 11]\n",
    "a.append(99)\n",
    "a= a + [100]\n",
    "print(a)\n"
   ]
  },
  {
   "cell_type": "markdown",
   "metadata": {
    "id": "KpVyu8wZDxCc"
   },
   "source": [
    "3) 리스트 list1에 1, 3, 5, 7을, 리스트 list2에 2, 4, 8을 저장하고, list1의 두 번째 값을 list2에 추가하세요."
   ]
  },
  {
   "cell_type": "code",
   "execution_count": 54,
   "metadata": {
    "id": "6d06df73"
   },
   "outputs": [
    {
     "name": "stdout",
     "output_type": "stream",
     "text": [
      "[2, 4, 8, 3]\n"
     ]
    }
   ],
   "source": [
    "\n",
    "list1=[ 1, 3, 5, 7]\n",
    "\n",
    "list2 = [2,4,8]\n",
    "\n",
    "list2.append(list1[1])\n",
    "\n",
    "print(list2)\n",
    "\n"
   ]
  },
  {
   "cell_type": "markdown",
   "metadata": {
    "id": "iyxySbePD7l8"
   },
   "source": [
    "4) 리스트 list1에 1, 3, 5, 7을, 리스트 list2에 2, 4, 8을 저장하고 list2에 list1를 추가하세요.\n",
    "\n",
    "- 단, 리스트 + 리스트 형태를 사용하세요."
   ]
  },
  {
   "cell_type": "code",
   "execution_count": 56,
   "metadata": {
    "id": "6fbba8ef",
    "scrolled": true
   },
   "outputs": [
    {
     "name": "stdout",
     "output_type": "stream",
     "text": [
      "[2, 4, 8, 1, 3, 5, 7]\n"
     ]
    }
   ],
   "source": [
    "\n",
    "list1=[ 1, 3, 5, 7]\n",
    "\n",
    "list2 = [2,4,8]\n",
    "list2 = list2 + list1\n",
    "\n",
    "print(list2)\n"
   ]
  },
  {
   "cell_type": "markdown",
   "metadata": {
    "id": "0Vbs7N5mEIHt"
   },
   "source": [
    "5) 리스트 a에 23, 3, 16, 45, 11을 저장하고 두 번째 값을 출력한 뒤 300으로 수정하고 다시 출력하세요.\n",
    "- 힌트: 리스트[수정 대상 인덱스] = 수정할 값\n"
   ]
  },
  {
   "cell_type": "code",
   "execution_count": 58,
   "metadata": {
    "id": "2d72f156"
   },
   "outputs": [
    {
     "name": "stdout",
     "output_type": "stream",
     "text": [
      "3\n",
      "[23, 300, 16, 45, 11]\n"
     ]
    }
   ],
   "source": [
    "a= [23, 3, 16, 45, 11]\n",
    "print(a[1])\n",
    "a[1] = 300\n",
    "\n",
    "print(a)\n",
    "\n",
    "\n",
    "\n"
   ]
  },
  {
   "cell_type": "markdown",
   "metadata": {
    "id": "ZdTV8guzERIv"
   },
   "source": [
    "6) 리스트 a에 23, 3, 16, 45, 11을 저장하고 리스트의 마지막 값을 출력한 뒤 두 배의 값으로 수정하세요."
   ]
  },
  {
   "cell_type": "code",
   "execution_count": 60,
   "metadata": {
    "id": "81cbdd17"
   },
   "outputs": [
    {
     "name": "stdout",
     "output_type": "stream",
     "text": [
      "11\n",
      "[23, 3, 16, 45, 22]\n"
     ]
    }
   ],
   "source": [
    "a= [23, 3, 16, 45, 11]\n",
    "print(a[-1])\n",
    "a[-1] = a[-1] * 2\n",
    "\n",
    "print(a)\n",
    "\n"
   ]
  },
  {
   "cell_type": "markdown",
   "metadata": {
    "id": "iDjXzN-dEXyM"
   },
   "source": [
    "7) 리스트 a에 23, 3, 16, 45, 11을 저장하고 두 번째 값을 삭제하세요.\n",
    "- 힌트: del 리스트[삭제 대상 인덱스]"
   ]
  },
  {
   "cell_type": "code",
   "execution_count": 62,
   "metadata": {
    "id": "90ba61fa"
   },
   "outputs": [
    {
     "name": "stdout",
     "output_type": "stream",
     "text": [
      "[23, 16, 45, 11]\n"
     ]
    }
   ],
   "source": [
    "\n",
    "a= [23, 3, 16, 45, 11]\n",
    "del a[1]\n",
    "print(a)\n",
    "\n"
   ]
  },
  {
   "cell_type": "markdown",
   "metadata": {
    "id": "f17e9774"
   },
   "source": [
    "# 실습 #4: 리스트 관련 함수와 메서드"
   ]
  },
  {
   "cell_type": "markdown",
   "metadata": {
    "id": "CdLp0KdNEnjM"
   },
   "source": [
    "1) 리스트 list2에 1부터 20까지 3씩 증가하는 값들을 저장하고, 리스트 값들의 개수를 구하세요.\n",
    "\n",
    "- 힌트: len(리스트 이름)\n"
   ]
  },
  {
   "cell_type": "code",
   "execution_count": 68,
   "metadata": {
    "id": "4ed258ee"
   },
   "outputs": [
    {
     "name": "stdout",
     "output_type": "stream",
     "text": [
      "[1, 4, 7, 10, 13, 16, 19]\n",
      "7\n"
     ]
    }
   ],
   "source": [
    "\n",
    "list2 = list(range(1,21,3))\n",
    "\n",
    "print(list2)\n",
    "print(len(list2))\n",
    "\n"
   ]
  },
  {
   "cell_type": "markdown",
   "metadata": {
    "id": "D3gEiM3yErZe"
   },
   "source": [
    "2) 리스트 list3에 'python', 'is', 'funny'를 저장하고, 리스트 값들의 개수를 구하세요."
   ]
  },
  {
   "cell_type": "code",
   "execution_count": 70,
   "metadata": {
    "id": "1988b7bd"
   },
   "outputs": [
    {
     "name": "stdout",
     "output_type": "stream",
     "text": [
      "3\n"
     ]
    }
   ],
   "source": [
    "\n",
    "\n",
    "list3 = ['python','is','funny']\n",
    "\n",
    "print( len(list3))\n"
   ]
  },
  {
   "cell_type": "markdown",
   "metadata": {
    "id": "OrH9KDP7Ey4z"
   },
   "source": [
    "3) 리스트 list1에 1 ~ 100 중 7의 배수를 저장하고, 리스트 값들의 합을 구하세요.\n",
    "\n",
    "- 힌트: sum(리스트 이름)"
   ]
  },
  {
   "cell_type": "code",
   "execution_count": 72,
   "metadata": {
    "id": "0f4c7544"
   },
   "outputs": [
    {
     "name": "stdout",
     "output_type": "stream",
     "text": [
      "[0, 7, 14, 21, 28, 35, 42, 49, 56, 63, 70, 77, 84, 91, 98]\n",
      "735\n"
     ]
    }
   ],
   "source": [
    "\n",
    "list1 = list(range(0,101,7))\n",
    "\n",
    "print(list1)\n",
    "print(sum(list1))\n",
    "\n"
   ]
  },
  {
   "cell_type": "markdown",
   "metadata": {
    "id": "K5P8icaRFJqw"
   },
   "source": [
    "4) 리스트 list1에 10, 20, 30, 40, 50을 저장하고, list1의 자료형을 확인하세요.\n",
    "\n",
    "- 힌트: type(자료형)\n"
   ]
  },
  {
   "cell_type": "code",
   "execution_count": 74,
   "metadata": {
    "id": "233391f7"
   },
   "outputs": [
    {
     "name": "stdout",
     "output_type": "stream",
     "text": [
      "<class 'list'>\n"
     ]
    }
   ],
   "source": [
    " list1= [10, 20, 30, 40, 50]\n",
    "\n",
    "print(type(list1))\n"
   ]
  },
  {
   "cell_type": "markdown",
   "metadata": {
    "id": "mRSakjfgFT4l"
   },
   "source": [
    "5) 리스트에서는 평균을 구하는 함수가 제공되지 않습니다.\n",
    "\n",
    "- 리스트 num = [10, 21, 34, 47, 53]일 때, num의 평균을 계산하여 출력하세요."
   ]
  },
  {
   "cell_type": "code",
   "execution_count": 76,
   "metadata": {
    "id": "00947959"
   },
   "outputs": [
    {
     "name": "stdout",
     "output_type": "stream",
     "text": [
      "33.0\n"
     ]
    }
   ],
   "source": [
    "\n",
    "num = [10, 21, 34, 47, 53]\n",
    "\n",
    "print(sum(num) / len(num))\n",
    "\n"
   ]
  },
  {
   "cell_type": "markdown",
   "metadata": {
    "id": "23X8SittFn6I"
   },
   "source": [
    "6) 리스트 list1에 10, 20, 30, 40, 50을 저장하고, 맨 끝에 60을 추가하세요."
   ]
  },
  {
   "cell_type": "code",
   "execution_count": 78,
   "metadata": {
    "id": "45f38846"
   },
   "outputs": [
    {
     "name": "stdout",
     "output_type": "stream",
     "text": [
      "[10, 20, 30, 40, 50, 60]\n"
     ]
    }
   ],
   "source": [
    "list1= [10, 20, 30, 40, 50]\n",
    "\n",
    "list1.append(60)\n",
    "\n",
    "print(list1)\n"
   ]
  },
  {
   "cell_type": "markdown",
   "metadata": {
    "id": "SJCxCEP0Fv5c"
   },
   "source": [
    "7) 리스트 list3에 'python', 'is', 'funny'를 저장하고, 맨 끝에 '~', '!' 을 차례대로 추가하세요."
   ]
  },
  {
   "cell_type": "code",
   "execution_count": 80,
   "metadata": {
    "id": "7d34a796"
   },
   "outputs": [
    {
     "data": {
      "text/plain": [
       "['python', 'is', 'funny', '~', '!']"
      ]
     },
     "execution_count": 80,
     "metadata": {},
     "output_type": "execute_result"
    }
   ],
   "source": [
    "\n",
    "list3 = ['python','is','funny']\n",
    "\n",
    "list3.append('~')\n",
    "\n",
    "list3.append('!')\n",
    "\n",
    "list3\n",
    "\n"
   ]
  },
  {
   "cell_type": "markdown",
   "metadata": {
    "id": "D2z7mynEF8vz"
   },
   "source": [
    "8) 리스트 list1에 10, 20, 30, 40, 50을 저장하고 세 번째 위치에 60을 추가하세요.\n",
    "- 힌트: 리스트 이름.insert(추가할 위치의 인덱스 값, 추가할 값)"
   ]
  },
  {
   "cell_type": "code",
   "execution_count": 82,
   "metadata": {
    "id": "60d29e0b"
   },
   "outputs": [
    {
     "name": "stdout",
     "output_type": "stream",
     "text": [
      "[10, 20, 60, 30, 40, 50]\n"
     ]
    }
   ],
   "source": [
    "list1= [10, 20, 30, 40, 50]\n",
    "\n",
    "list1.insert(2,60)\n",
    "\n",
    "print(list1)\n"
   ]
  },
  {
   "cell_type": "markdown",
   "metadata": {
    "id": "2UytxYVmGFH4"
   },
   "source": [
    "9) 리스트 list1에 10, 20, 30, 40, 50을 저장하고, 30을 삭제하세요.\n",
    "\n",
    "- 힌트: 리스트 이름.remove(삭제할 값)"
   ]
  },
  {
   "cell_type": "code",
   "execution_count": 88,
   "metadata": {
    "id": "305935aa"
   },
   "outputs": [
    {
     "data": {
      "text/plain": [
       "[10, 20, 40, 50]"
      ]
     },
     "execution_count": 88,
     "metadata": {},
     "output_type": "execute_result"
    }
   ],
   "source": [
    "\n",
    "list1= [10, 20, 30, 40, 50]\n",
    "\n",
    "list1.remove(30)\n",
    "\n",
    "list1"
   ]
  },
  {
   "cell_type": "markdown",
   "metadata": {
    "id": "GN7mCHa-GK-x"
   },
   "source": [
    "10) 리스트 list2에 1부터 20까지 3씩 증가하는 값들을 저장하고, 뒤에서 세 번째 값을 삭제하세요."
   ]
  },
  {
   "cell_type": "code",
   "execution_count": 90,
   "metadata": {
    "id": "c0c2c69b"
   },
   "outputs": [
    {
     "name": "stdout",
     "output_type": "stream",
     "text": [
      "[1, 4, 7, 10, 13, 16, 19]\n",
      "[1, 4, 7, 10, 16, 19]\n"
     ]
    }
   ],
   "source": [
    "\n",
    "list2 = list(range(1,21,3))\n",
    "\n",
    "print(list2)\n",
    "\n",
    "list2.pop(-3) # 13 제거 \n",
    "\n",
    "print(list2) "
   ]
  },
  {
   "cell_type": "markdown",
   "metadata": {
    "id": "qjGi__UFGQp-"
   },
   "source": [
    "11) 리스트 a = [1, 4, 3, 2]일 때 리스트의 값들을 오름차순으로 정렬해서 출력하세요.\n",
    "\n",
    "- 힌트: 리스트 이름.sort()"
   ]
  },
  {
   "cell_type": "code",
   "execution_count": 92,
   "metadata": {
    "id": "39c77831"
   },
   "outputs": [
    {
     "name": "stdout",
     "output_type": "stream",
     "text": [
      "[1, 2, 3, 4]\n"
     ]
    }
   ],
   "source": [
    "\n",
    "a = [1, 4, 3, 2]\n",
    "\n",
    "a.sort() # ! 주의 .sort() 메서드의 반환값은 없다 (None) , 리스트 정렬한다.\n",
    "\n",
    "print(a)"
   ]
  },
  {
   "cell_type": "markdown",
   "metadata": {
    "id": "MC_e_FNgGVxZ"
   },
   "source": [
    "12) 리스트 b = ['c', 'a', 'b', 'd']일 때 리스트의 값들을 내림차순으로 정렬해서 출력하세요.\n",
    "\n",
    "- 힌트: 리스트 이름.sort(reverse=True)"
   ]
  },
  {
   "cell_type": "code",
   "execution_count": 94,
   "metadata": {
    "id": "888a76e3"
   },
   "outputs": [
    {
     "name": "stdout",
     "output_type": "stream",
     "text": [
      "['d', 'c', 'b', 'a']\n"
     ]
    }
   ],
   "source": [
    "b = ['c', 'a', 'b', 'd']\n",
    "\n",
    "b.sort(reverse = True) # ! 주의 .sort() 메서드의 반환값은 없다 (None)\n",
    "\n",
    "print(b)\n",
    "\n",
    "\n"
   ]
  }
 ],
 "metadata": {
  "colab": {
   "provenance": []
  },
  "kernelspec": {
   "display_name": "Python 3 (ipykernel)",
   "language": "python",
   "name": "python3"
  },
  "language_info": {
   "codemirror_mode": {
    "name": "ipython",
    "version": 3
   },
   "file_extension": ".py",
   "mimetype": "text/x-python",
   "name": "python",
   "nbconvert_exporter": "python",
   "pygments_lexer": "ipython3",
   "version": "3.12.4"
  }
 },
 "nbformat": 4,
 "nbformat_minor": 4
}
