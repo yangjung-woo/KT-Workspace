{
 "cells": [
  {
   "cell_type": "markdown",
   "metadata": {
    "id": "b3TDAdnvnSbh"
   },
   "source": [
    "<center><img src='https://raw.githubusercontent.com/Jangrae/img/master/title.png' width=500/></center>"
   ]
  },
  {
   "cell_type": "markdown",
   "metadata": {
    "id": "se5EyHOgOEqo"
   },
   "source": [
    "# 7.제어문(Control Statements)\n",
    "\n",
    "- **조건 처리**나 **반복 처리**를 통해 코드의 실행 흐름을 제어할 수 있습니다.\n",
    "- Python 제어문은 **들여쓰기로 블럭을 지정**하니 이에 주의해야 합니다.\n",
    "- 다양한 로직 작성을 위해 필히 익혀야 하는 내용입니다.\n",
    "- 확장 문법을 알아두면 편리합니다."
   ]
  },
  {
   "cell_type": "markdown",
   "metadata": {
    "id": "6ndD8bxCDh04"
   },
   "source": [
    "<img src='https://raw.githubusercontent.com/jangrae/img/master/control.png' width=450 align=\"left\"/>"
   ]
  },
  {
   "cell_type": "markdown",
   "metadata": {
    "id": "tjS-Gb1XOEqs"
   },
   "source": [
    "## 7.1.if 문\n",
    "\n",
    "- 가장 대표적인 제어문이 if 문입니다.\n",
    "- 특정 조건에 맞는 경우에만 코드를 실행하고 싶을 때 사용합니다."
   ]
  },
  {
   "cell_type": "markdown",
   "metadata": {
    "id": "CzIMBHAk8LXn"
   },
   "source": [
    "**1) 단순 if 문**\n",
    "\n",
    "- 조건이 참인 경우만 처리합니다.\n",
    "- 조건이 거짓인 경우는 아무 처리도 하지 않습니다.\n",
    "\n",
    "<img src='https://raw.githubusercontent.com/jangrae/img/master/if.png' width=200 align=\"left\"/>"
   ]
  },
  {
   "cell_type": "code",
   "execution_count": 1,
   "metadata": {
    "id": "APEHdmqO8LXo"
   },
   "outputs": [
    {
     "name": "stdout",
     "output_type": "stream",
     "text": [
      "73\n"
     ]
    }
   ],
   "source": [
    "# 변수 선언\n",
    "my_score = 73\n",
    "\n",
    "# 80보다 크거나 같으면 10 더하기\n",
    "if my_score >= 80:\n",
    "    my_score += 10\n",
    "\n",
    "\n",
    "# 결과 출력\n",
    "print(my_score)"
   ]
  },
  {
   "cell_type": "code",
   "execution_count": 3,
   "metadata": {
    "id": "m2NuEbGNWl_r"
   },
   "outputs": [
    {
     "name": "stdout",
     "output_type": "stream",
     "text": [
      "[75, 80, 70, 95, 90]\n"
     ]
    }
   ],
   "source": [
    "# 리스트 만들기\n",
    "score_list = [75, 80, 70, 95, 90]\n",
    "\n",
    "# 리스트에 요소가 있으면 출력, 없으면 말고\n",
    "if score_list:\n",
    "    print(score_list)\n"
   ]
  },
  {
   "cell_type": "markdown",
   "metadata": {
    "id": "X7mQYEaB8LXt"
   },
   "source": [
    "**2) if ~ else 문**\n",
    "\n",
    "- 조건이 참인 경우와 참이 아닌 경우 각각 처리합니다.\n",
    "\n",
    "<img src='https://raw.githubusercontent.com/jangrae/img/master/if_else.png' width=200 align=\"left\"/>"
   ]
  },
  {
   "cell_type": "code",
   "execution_count": null,
   "metadata": {
    "id": "JSjs-LF38LXv"
   },
   "outputs": [],
   "source": [
    "# 변수 선언\n",
    "my_score = 73\n",
    "\n",
    "# 80보다 크거나 같으면 Pass, 아니면 Fail\n",
    "\n",
    "if my_score >= 80:\n",
    "    my_result = 'Pass'\n",
    "else:\n",
    "    my_result = 'Fail'\n",
    "\n",
    "# 결과 출력\n",
    "print(my_result)"
   ]
  },
  {
   "cell_type": "code",
   "execution_count": 113,
   "metadata": {
    "id": "TbCGWwvXXYAj"
   },
   "outputs": [
    {
     "name": "stdout",
     "output_type": "stream",
     "text": [
      "[75, 80, 70, 95, 90]\n"
     ]
    }
   ],
   "source": [
    "# 리스트 만들기\n",
    "score_list = [75, 80, 70, 95, 90]\n",
    "\n",
    "# 리스트에 요소가 있으면 출력, 없으면 '요소 없음' 출력\n",
    "if score_list:\n",
    "    print(score_list)\n",
    "\n",
    "else:\n",
    "    print('요소 없음')\n",
    "\n",
    "\n"
   ]
  },
  {
   "cell_type": "markdown",
   "metadata": {
    "id": "pq0GORoCzQlW"
   },
   "source": [
    "- 처리할 구문이 한 줄이라면 다음과 같이 작성할 수 있습니다."
   ]
  },
  {
   "cell_type": "code",
   "execution_count": 116,
   "metadata": {
    "id": "q8bbeB5mzKaP"
   },
   "outputs": [
    {
     "name": "stdout",
     "output_type": "stream",
     "text": [
      "[75, 80, 70, 95, 90]\n"
     ]
    }
   ],
   "source": [
    "# 리스트 만들기\n",
    "score_list = [75, 80, 70, 95, 90]\n",
    "\n",
    "# 한 줄로 작성하기\n",
    "if score_list: print(score_list)\n",
    "else: print('요소 없음')"
   ]
  },
  {
   "cell_type": "markdown",
   "metadata": {
    "id": "q0UphLSizjJ6"
   },
   "source": [
    "- 처리할 구문이 없거나 이후에 작성할 목적으로 **pass**를 사용할 수 있습니다."
   ]
  },
  {
   "cell_type": "code",
   "execution_count": 118,
   "metadata": {
    "id": "-SvkRqNRze8g"
   },
   "outputs": [],
   "source": [
    "# 리스트 만들기\n",
    "score_list = [75, 80, 70, 95, 90]\n",
    "\n",
    "# 우선 pass\n",
    "if score_list:\n",
    "    pass\n",
    "else:\n",
    "    print('요소 없음')"
   ]
  },
  {
   "cell_type": "markdown",
   "metadata": {
    "id": "LE8mIJEM8LXx"
   },
   "source": [
    "**3) if ~ elif ~ else 문**\n",
    "\n",
    "- 여러 조건 중에서 참인 경우 각각 처리, 그렇지 않은 경우 처리합니다.\n",
    "\n",
    "<img src='https://raw.githubusercontent.com/jangrae/img/master/elif.png' width=200 align=\"left\"/>"
   ]
  },
  {
   "cell_type": "code",
   "execution_count": null,
   "metadata": {
    "id": "EnDVVV1fOEqt"
   },
   "outputs": [],
   "source": [
    "# 변수 선언\n",
    "my_score = 76\n",
    "\n",
    "# 점수에 따른 학점 주기\n",
    "if my_score >= 90:\n",
    "    my_grade = 'A'\n",
    "elif my_score >= 80:\n",
    "    my_grade = 'B'\n",
    "elif my_score >= 70:\n",
    "    my_grade = 'C'\n",
    "elif my_score >= 60:\n",
    "    my_grade = 'D'\n",
    "else:\n",
    "    my_grade = 'F'\n",
    "\n",
    "# 결과 출력\n",
    "print(my_grade)"
   ]
  },
  {
   "cell_type": "markdown",
   "metadata": {
    "id": "82k60k7GZVc6"
   },
   "source": [
    "<img src='https://raw.githubusercontent.com/jangrae/img/master/practice_01.png' width=120 align=\"left\"/>"
   ]
  },
  {
   "cell_type": "markdown",
   "metadata": {
    "id": "0Y3-soml0WBo"
   },
   "source": [
    "[문1] 다음 셀을 수행해 오늘 요일이 숫자로 표시됨을 확인하고, 다음 셀을 완성해 보세요."
   ]
  },
  {
   "cell_type": "code",
   "execution_count": 7,
   "metadata": {
    "id": "YWAJziB_Yufm"
   },
   "outputs": [
    {
     "name": "stdout",
     "output_type": "stream",
     "text": [
      "0\n"
     ]
    }
   ],
   "source": [
    "# 오늘의 요일 확인\n",
    "from datetime import datetime\n",
    "\n",
    "dt = datetime.now()\n",
    "week_num = dt.weekday()\n",
    "\n",
    "print(week_num)"
   ]
  },
  {
   "cell_type": "code",
   "execution_count": 9,
   "metadata": {
    "id": "DuD-fpJnZ2qw"
   },
   "outputs": [
    {
     "name": "stdout",
     "output_type": "stream",
     "text": [
      "월\n"
     ]
    }
   ],
   "source": [
    "# 숫자로된 요일이 '월' ~ '일' 문자로 표시되게 조건문 작성\n",
    "if week_num == 0:\n",
    "    week_str = '월'\n",
    "elif week_num == 1:\n",
    "    week_str = '화'\n",
    "elif week_num == 2:\n",
    "    week_str = '수'\n",
    "elif week_num == 3:\n",
    "    week_str = '목'\n",
    "elif week_num == 4:\n",
    "    week_str = '금'\n",
    "\n",
    "elif week_num == 5:\n",
    "    week_str = '토'\n",
    "\n",
    "elif week_num == 6:\n",
    "    week_str = '일'\n",
    "else:\n",
    "    week_str ='Error'\n",
    "# 확인\n",
    "print(week_str)"
   ]
  },
  {
   "cell_type": "markdown",
   "metadata": {
    "id": "g83iJJ71V2IG"
   },
   "source": [
    "[문2] score 값에 따라 등급을 주는 다음의 조건문을 완성하세요.\n",
    "- 95점 이상 A+. 90점 이상 A, 85점 이상 B+, 80점 이상 B, 75점 이상 C+. 70점 이상 C, 60점 이상 D, 60점 미만 F"
   ]
  },
  {
   "cell_type": "code",
   "execution_count": 11,
   "metadata": {
    "id": "SHyUY-xwV2IJ",
    "scrolled": true
   },
   "outputs": [
    {
     "name": "stdout",
     "output_type": "stream",
     "text": [
      "C\n"
     ]
    }
   ],
   "source": [
    "# 변수 선언\n",
    "score1 = 72\n",
    "score2 = 90\n",
    "score3 = 76\n",
    "\n",
    "my_score = score1\n",
    "\n",
    "# 조건 처리\n",
    "\n",
    "if my_score >= 90:\n",
    "    my_grade = 'A+'\n",
    "elif my_score >=85:\n",
    "    my_grade = 'B+'\n",
    "elif my_score >=80:\n",
    "    my_grade = 'B'\n",
    "elif my_score >=75:\n",
    "    my_grade = 'C+'\n",
    "elif my_score >=70:\n",
    "    my_grade = 'C'\n",
    "elif my_score >=60:\n",
    "    my_grade = 'D'\n",
    "else:\n",
    "    my_grade = 'F'\n",
    "\n",
    "\n",
    "\n",
    "# 확인\n",
    "print(my_grade)"
   ]
  },
  {
   "cell_type": "markdown",
   "metadata": {
    "id": "JLUfgErZV2IR"
   },
   "source": [
    "[문3] score1, score2, score3 점수에 대하여 다음 조건이 처리되도록 조건문을 완성하세요.\n",
    "- 하나라도 60점 이하거나 점수의 평균이 70점 이하이면 Fail\n",
    "- 그렇지 않은 경우에는 Pass"
   ]
  },
  {
   "cell_type": "code",
   "execution_count": 13,
   "metadata": {
    "id": "pFeXBJwvV2IS"
   },
   "outputs": [
    {
     "name": "stdout",
     "output_type": "stream",
     "text": [
      "Fail\n"
     ]
    }
   ],
   "source": [
    "# 변수 선언\n",
    "score1 = 60\n",
    "score2 = 100\n",
    "score3 = 76\n",
    "\n",
    "mean_score = (score1 + score2 + score3 ) / 3\n",
    "\n",
    "# 조건 처리\n",
    "if score1 <=60 or score2<=60 or score3 <=60 or mean_score <=70:\n",
    "    result = 'Fail'\n",
    "else:\n",
    "    result = 'Pass'\n",
    "\n",
    "print(result)\n",
    "    \n",
    "\n",
    "\n",
    "\n"
   ]
  },
  {
   "cell_type": "markdown",
   "metadata": {
    "id": "Nbl1p2FtV2IX"
   },
   "source": [
    "[문4] 위 코드를 if 한 번과 else 한 번으로 수정해보세요."
   ]
  },
  {
   "cell_type": "code",
   "execution_count": null,
   "metadata": {
    "id": "o2CemrgTV2IY"
   },
   "outputs": [],
   "source": [
    "score1 = 60\n",
    "score2 = 100\n",
    "score3 = 76\n",
    "\n",
    "mean_score = (score1 + score2 + score3 ) / 3\n",
    "\n",
    "# 조건 처리\n",
    "if score1 <=60 or score2<=60 or score3 <=60 or mean_score <=70:\n",
    "    result = 'Fail'\n",
    "else:\n",
    "    result = 'Pass'\n",
    "\n",
    "print(result)\n",
    "    \n",
    "\n"
   ]
  },
  {
   "cell_type": "markdown",
   "metadata": {
    "id": "e3hhmNnmOEqy"
   },
   "source": [
    "## 7.2.for 문\n",
    "\n",
    "- 첫 번째 값부터 마지막 값까지 하나씩 가져가면서 처리합니다."
   ]
  },
  {
   "cell_type": "code",
   "execution_count": null,
   "metadata": {
    "id": "BKzS3z9GLAwt"
   },
   "outputs": [],
   "source": [
    "# 문자열의 문자 줄력\n",
    "for i in 'PYTHON':\n",
    "    print(i)"
   ]
  },
  {
   "cell_type": "code",
   "execution_count": null,
   "metadata": {
    "id": "vchoKfYnLLWe"
   },
   "outputs": [],
   "source": [
    "# 리스트 요소 출력\n",
    "for i in [0, 1, 2, 3, 4]:\n",
    "    print(i)"
   ]
  },
  {
   "cell_type": "code",
   "execution_count": null,
   "metadata": {
    "id": "kXmdySBlOEqz"
   },
   "outputs": [],
   "source": [
    "# range() 함수 사용해 범위 지정\n",
    "print(range(5))\n",
    "print(list(range(5)))"
   ]
  },
  {
   "cell_type": "code",
   "execution_count": null,
   "metadata": {
    "id": "6n3TJ6G1OEq3",
    "scrolled": true
   },
   "outputs": [],
   "source": [
    "# 범위안의 값 출력\n",
    "for i in range(5):\n",
    "    print(i)"
   ]
  },
  {
   "cell_type": "code",
   "execution_count": 120,
   "metadata": {
    "id": "S0sUTEatOEq5"
   },
   "outputs": [
    {
     "name": "stdout",
     "output_type": "stream",
     "text": [
      "[0, 2, 4]\n"
     ]
    }
   ],
   "source": [
    "# if 문과 같이 사용(짝수만 출력)\n",
    "MM = []\n",
    "for i in range(5):\n",
    "    if i %2 ==0:\n",
    "        MM.append(i)\n",
    "\n",
    "print(MM)\n",
    "\n"
   ]
  },
  {
   "cell_type": "code",
   "execution_count": null,
   "metadata": {
    "id": "TiLh-1fiOEq6",
    "scrolled": true
   },
   "outputs": [],
   "source": [
    "# 리스트 만들기\n",
    "fruits = ['apple', 'banana', 'cherry']\n",
    "\n",
    "# 리스트 요소 출력\n",
    "\n"
   ]
  },
  {
   "cell_type": "markdown",
   "metadata": {
    "id": "a28E38-4dBZO"
   },
   "source": [
    "<img src='https://raw.githubusercontent.com/jangrae/img/master/practice_01.png' width=120 align=\"left\"/>"
   ]
  },
  {
   "cell_type": "markdown",
   "metadata": {
    "id": "acMLd1JF1RUs"
   },
   "source": [
    "[문1] 다음 셀을 코드를 수정해 1부터 10까지 짝수의 합을 구해 보세요."
   ]
  },
  {
   "cell_type": "code",
   "execution_count": 21,
   "metadata": {
    "id": "emUgSM5_cs4p"
   },
   "outputs": [
    {
     "name": "stdout",
     "output_type": "stream",
     "text": [
      "합 = 30\n"
     ]
    }
   ],
   "source": [
    "# 1부터 10까지 짝수의 합\n",
    "s = 0\n",
    "for i in range(1, 11):\n",
    "    if i %2 ==0:\n",
    "        s = s + i\n",
    "\n",
    "print('합 =', s)"
   ]
  },
  {
   "cell_type": "markdown",
   "metadata": {
    "id": "DFoAvQYF0TFS"
   },
   "source": [
    "[문2] for문과 range() 함수를 사용하여 1 ~ 100까지의 합을 구하세요."
   ]
  },
  {
   "cell_type": "code",
   "execution_count": 25,
   "metadata": {
    "id": "xZx-vdlOOErR"
   },
   "outputs": [
    {
     "name": "stdout",
     "output_type": "stream",
     "text": [
      "5050\n"
     ]
    }
   ],
   "source": [
    "# 1부터 100까지 합\n",
    "\n",
    "s = 0\n",
    "for i in range(1,101):\n",
    "    s = s + i\n",
    "\n",
    "print(s)\n",
    "\n"
   ]
  },
  {
   "cell_type": "markdown",
   "metadata": {
    "id": "BoYCOzV40TFW"
   },
   "source": [
    "[문3] for 문과 range() 함수를 사용하여 1 ~ 100까지 수 중 7의 배수를 출력하세요."
   ]
  },
  {
   "cell_type": "code",
   "execution_count": 29,
   "metadata": {
    "id": "9jfGFV2qOErV"
   },
   "outputs": [
    {
     "name": "stdout",
     "output_type": "stream",
     "text": [
      "7\n",
      "14\n",
      "21\n",
      "28\n",
      "35\n",
      "42\n",
      "49\n",
      "56\n",
      "63\n",
      "70\n",
      "77\n",
      "84\n",
      "91\n",
      "98\n"
     ]
    }
   ],
   "source": [
    "# 1부터 100까지 7의 배수\n",
    "\n",
    "s = 0\n",
    "for i in range(1,101):\n",
    "    if i % 7 ==0:\n",
    "        print(i)\n",
    "\n"
   ]
  },
  {
   "cell_type": "markdown",
   "metadata": {
    "id": "wffOnilaFQp3"
   },
   "source": [
    "## 7.3.리스트와 for 문\n",
    "\n",
    "- 반복문과 가장 많이 사용되는 자료형이 리스트형입니다."
   ]
  },
  {
   "cell_type": "markdown",
   "metadata": {
    "id": "WG1v0qRoqve7"
   },
   "source": [
    "**1) 기본 반복문**\n",
    "\n",
    "- 첫 번째 요소부터 마지막 요소까지를 대상으로 코드를 반복 처리합니다."
   ]
  },
  {
   "cell_type": "code",
   "execution_count": 31,
   "metadata": {
    "id": "YYjio8viwv_j"
   },
   "outputs": [
    {
     "name": "stdout",
     "output_type": "stream",
     "text": [
      "홍길동\n",
      "한사랑\n",
      "일지매\n",
      "박여인\n",
      "강우동\n"
     ]
    }
   ],
   "source": [
    "# 리스트 만들기\n",
    "member = ['홍길동', '한사랑', '일지매', '박여인', '강우동']\n",
    "\n",
    "# 루프 돌면서 이름 출력\n",
    "for i in member:\n",
    "    print(i)\n"
   ]
  },
  {
   "cell_type": "markdown",
   "metadata": {
    "id": "bexLbYpvq8DX"
   },
   "source": [
    "**2) enumerate() 함수 사용**\n",
    "\n",
    "- 영어 단어 enumerate의 뜻은 '**낱낱이 세다**' 입니다.\n",
    "- 문자열이나 컨테이너 자료형을 입력받아, 순번과 요소를 포함하는 오브젝트로 반환합니다.\n",
    "- 순번과 요소를 반환하여 몇 번째, 어느 요소를 처리하고 있는지 확인 가능하게 합니다."
   ]
  },
  {
   "cell_type": "code",
   "execution_count": 35,
   "metadata": {
    "id": "5JJY1DNFFQp5"
   },
   "outputs": [
    {
     "name": "stdout",
     "output_type": "stream",
     "text": [
      "<enumerate object at 0x0000020A41D3D8A0>\n",
      "0 홍길동\n",
      "1 한사랑\n",
      "2 일지매\n",
      "3 박여인\n",
      "4 강우동\n"
     ]
    }
   ],
   "source": [
    "# '순번: 이름' 형태로 출력\n",
    "\n",
    "for num , name in enumerate(member):\n",
    "    print(num, name)\n"
   ]
  },
  {
   "cell_type": "code",
   "execution_count": 37,
   "metadata": {
    "id": "Lq7hSCboYh2V"
   },
   "outputs": [
    {
     "name": "stdout",
     "output_type": "stream",
     "text": [
      "0 : 홍길동\n",
      "2 : 일지매\n",
      "4 : 강우동\n"
     ]
    }
   ],
   "source": [
    "# 순번이 짝수인 경우만 '순번: 이름' 형태로 출력\n",
    "for num , name in enumerate(member):\n",
    "    if num %2 ==0:\n",
    "        print(num,':', name)\n",
    "\n"
   ]
  },
  {
   "cell_type": "code",
   "execution_count": 41,
   "metadata": {
    "id": "4A7hdz7hZbWB"
   },
   "outputs": [
    {
     "name": "stdout",
     "output_type": "stream",
     "text": [
      "0 m\n",
      "1 e\n",
      "2 m\n",
      "3 b\n",
      "4 e\n",
      "5 r\n"
     ]
    }
   ],
   "source": [
    "# 문자열과 enumerate() 함수\n",
    "for num , name in enumerate('member'):\n",
    "    print(num, name)"
   ]
  },
  {
   "cell_type": "markdown",
   "metadata": {
    "id": "hyUVnMumrBp0"
   },
   "source": [
    "**3) 반복문 확장**\n",
    "\n",
    "- 이 방법을 사용하면 반복문 코드가 매우 간결해집니다.\n",
    "- 처음에는 다소 낯설 수 있으나, 이것이 **Python 스러운 문법**이라 할 수 있습니다."
   ]
  },
  {
   "cell_type": "code",
   "execution_count": 43,
   "metadata": {
    "id": "U6MvO1GJFQp8"
   },
   "outputs": [
    {
     "name": "stdout",
     "output_type": "stream",
     "text": [
      "[0, 1, 4, 9, 16]\n"
     ]
    }
   ],
   "source": [
    "# 리스트 만들기\n",
    "nums = [0, 1, 2, 3, 4]\n",
    "\n",
    "# 빈 리스트 만들기\n",
    "squares = []\n",
    "\n",
    "# 2를 제곱한 결과를 squares 리스트에 추가\n",
    "for x in nums:\n",
    "    squares.append(x ** 2)\n",
    "\n",
    "# 확인\n",
    "print(squares)"
   ]
  },
  {
   "cell_type": "code",
   "execution_count": 45,
   "metadata": {
    "id": "kx1zYlkSwv_r"
   },
   "outputs": [
    {
     "name": "stdout",
     "output_type": "stream",
     "text": [
      "[0, 1, 4, 9, 16]\n"
     ]
    }
   ],
   "source": [
    "# 리스트 만들기\n",
    "nums = [0, 1, 2, 3, 4]\n",
    "\n",
    "# 반복문 확장 문법 #1\n",
    "squares = [ i **2 for i in nums]\n",
    "\n",
    "# 확인\n",
    "print(squares)"
   ]
  },
  {
   "cell_type": "code",
   "execution_count": 59,
   "metadata": {
    "id": "d5Q1bc46FQqB",
    "scrolled": true
   },
   "outputs": [
    {
     "name": "stdout",
     "output_type": "stream",
     "text": [
      "[0, 4, 16]\n"
     ]
    }
   ],
   "source": [
    "# 리스트 만들기\n",
    "nums = [0, 1, 2, 3, 4]\n",
    "\n",
    "# 반복문 확장 문법 #2\n",
    "# 반복문 + 조건문: 짝수인 값의 제곱을 구해서 even_squares 리스트에 넣기\n",
    "even_squares =[i **2 for i in nums if i%2 ==0 ]\n",
    "\n",
    "# 확인\n",
    "print(even_squares)"
   ]
  },
  {
   "cell_type": "markdown",
   "metadata": {
    "id": "-oCRgmlhG7d4"
   },
   "source": [
    "<img src='https://raw.githubusercontent.com/jangrae/img/master/practice_01.png' width=120 align=\"left\"/>"
   ]
  },
  {
   "cell_type": "markdown",
   "metadata": {
    "id": "sZrD-gQS4JjH"
   },
   "source": [
    "[문1] 다음 두 셀의 코드를 완성해 보세요."
   ]
  },
  {
   "cell_type": "code",
   "execution_count": 9,
   "metadata": {
    "id": "ORK_jugjDZKz"
   },
   "outputs": [
    {
     "name": "stdout",
     "output_type": "stream",
     "text": [
      "[10, 22, 30, 41, 56, 60, 71, 80, 90, 100]\n"
     ]
    }
   ],
   "source": [
    "# 리스트 만들기\n",
    "my_nums = [10, 22, 30, 41, 56, 60, 71, 80, 90]\n",
    "\n",
    "# 마지막에 100 추가\n",
    "my_nums.append(100)\n",
    "\n",
    "# 확인\n",
    "print(my_nums)"
   ]
  },
  {
   "cell_type": "code",
   "execution_count": 11,
   "metadata": {
    "id": "FrAoE8NWD1Tv"
   },
   "outputs": [
    {
     "name": "stdout",
     "output_type": "stream",
     "text": [
      "[1, 3, 6, 8, 9, 10]\n"
     ]
    }
   ],
   "source": [
    "# my_nums 리스트에서 10의 배수만을 뽑아 그 값을 10으로 나눈 정수값을 갖는 새로운 리스트 만들기\n",
    "new_nums = [i //10 for i in my_nums if i%10 ==0]\n",
    "\n",
    "# 확인\n",
    "print(new_nums)"
   ]
  },
  {
   "cell_type": "markdown",
   "metadata": {
    "id": "Lcrjm7Mq0TG-"
   },
   "source": [
    "[문2] score에서 음수를 제거한 리스트를 score01 변수에 담으세요."
   ]
  },
  {
   "cell_type": "code",
   "execution_count": 67,
   "metadata": {
    "id": "M459a3S8FQqG"
   },
   "outputs": [
    {
     "name": "stdout",
     "output_type": "stream",
     "text": [
      "[75, 46, 93, 130, 100, 75]\n"
     ]
    }
   ],
   "source": [
    "score = [75, 46, 93, -82, -77, 130, 100, 75, -10]\n",
    "\n",
    "score01 = [i for i in score if i >=0]\n",
    "\n",
    "print(score01)"
   ]
  },
  {
   "cell_type": "markdown",
   "metadata": {
    "id": "UbGn2Zv40THA"
   },
   "source": [
    "[문3] score01에서 100보다 큰 수를 제외한 리스트를 score02 변수에 담으세요."
   ]
  },
  {
   "cell_type": "code",
   "execution_count": 71,
   "metadata": {
    "id": "ESh5ErCCFQqH"
   },
   "outputs": [
    {
     "name": "stdout",
     "output_type": "stream",
     "text": [
      "[75, 46, 93, 100, 75]\n"
     ]
    }
   ],
   "source": [
    "score02 = [i for i in score01 if i<=100]\n",
    "\n",
    "print(score02)"
   ]
  },
  {
   "cell_type": "markdown",
   "metadata": {
    "id": "zVmMndi-0THB"
   },
   "source": [
    "[문4] score02 리스트의 요소들 합과 평균을 구하세요."
   ]
  },
  {
   "cell_type": "code",
   "execution_count": 73,
   "metadata": {
    "id": "UY31KHjTFQqJ"
   },
   "outputs": [
    {
     "name": "stdout",
     "output_type": "stream",
     "text": [
      "389\n",
      "77.8\n"
     ]
    }
   ],
   "source": [
    "print(sum(score02))\n",
    "print(sum(score02) / len(score02))"
   ]
  },
  {
   "cell_type": "markdown",
   "metadata": {
    "id": "QGjzYUgJ0THC"
   },
   "source": [
    "[문5] score02 리스트의 각 요소의 값을 10으로 나눈 값을 갖는 리스트 score03을 만드세요."
   ]
  },
  {
   "cell_type": "code",
   "execution_count": 77,
   "metadata": {
    "id": "3yei91wNFQqK"
   },
   "outputs": [
    {
     "name": "stdout",
     "output_type": "stream",
     "text": [
      "[7.5, 4.6, 9.3, 10.0, 7.5]\n"
     ]
    }
   ],
   "source": [
    "score03 = [i/10 for i in score02]\n",
    "print(score03)"
   ]
  },
  {
   "cell_type": "markdown",
   "metadata": {
    "id": "6TTt_9TC0THD"
   },
   "source": [
    "[문6] 위 2), 3), 5)번 문제를 모두 반복문 확장 문법으로 변환하세요."
   ]
  },
  {
   "cell_type": "code",
   "execution_count": null,
   "metadata": {
    "id": "OkKf4r_sFQqL"
   },
   "outputs": [],
   "source": [
    "# 2번\n",
    "score01 = [i for i in score if i >=0]\n",
    "print(score01)\n",
    "\n",
    "# 3번\n",
    "score02 = [i for i in score01 if i<=100]\n",
    "print(score02)\n",
    "\n",
    "# 5번\n",
    "score03 = [i/10 for i in score02]\n",
    "print(score03)\n",
    "\n"
   ]
  },
  {
   "cell_type": "code",
   "execution_count": 26,
   "metadata": {},
   "outputs": [
    {
     "name": "stdout",
     "output_type": "stream",
     "text": [
      "[0, 2, 4, 6, 8, 10]\n"
     ]
    }
   ],
   "source": [
    "a = list(range(11))\n",
    "answer = [x for x in a if x %2 ==0 ]\n",
    "print(answer)"
   ]
  },
  {
   "cell_type": "code",
   "execution_count": 34,
   "metadata": {},
   "outputs": [
    {
     "name": "stdout",
     "output_type": "stream",
     "text": [
      "[1, 0, 1, 0, 1, 0, 1, 0, 1, 0, 1]\n"
     ]
    }
   ],
   "source": [
    "a = list(range(11))\n",
    "answer = [1 if x %2 ==0 else 0 for x in a]\n",
    "print(answer)"
   ]
  },
  {
   "cell_type": "markdown",
   "metadata": {
    "id": "dZ9Oq4sEFQqY"
   },
   "source": [
    "## 7.4.딕셔너리와 for 문"
   ]
  },
  {
   "cell_type": "markdown",
   "metadata": {
    "id": "Dl5dL6lK8omW"
   },
   "source": [
    "**1) 기본 반복문**"
   ]
  },
  {
   "cell_type": "code",
   "execution_count": 79,
   "metadata": {
    "id": "E3_JhN6bFQqY"
   },
   "outputs": [
    {
     "name": "stdout",
     "output_type": "stream",
     "text": [
      "홍길동: 85\n",
      "한사랑: 95\n",
      "일지매: 90\n"
     ]
    }
   ],
   "source": [
    "# 딕셔너리 만들기\n",
    "score = {'홍길동': 85, '한사랑': 95, '일지매': 90}\n",
    "\n",
    "# key와 value 조회\n",
    "for key in score:\n",
    "    value = score[key]\n",
    "    print('{}: {}'.format(key, value))"
   ]
  },
  {
   "cell_type": "markdown",
   "metadata": {
    "id": "2UBWavOK8iql"
   },
   "source": [
    "**2) items() 메서드 사용**\n",
    "\n",
    "- 딕셔너리를 반복문에 사용할 때 key와 value를 반환해주는 items() 메서드를 많이 사용합니다."
   ]
  },
  {
   "cell_type": "code",
   "execution_count": 81,
   "metadata": {
    "id": "bDe2k3yAFQqc"
   },
   "outputs": [
    {
     "name": "stdout",
     "output_type": "stream",
     "text": [
      "홍길동: 85\n",
      "한사랑: 95\n",
      "일지매: 90\n"
     ]
    }
   ],
   "source": [
    "# items() 메서드 사용\n",
    "for key, value in score.items():\n",
    "    print('{}: {}'.format(key, value))\n"
   ]
  },
  {
   "cell_type": "markdown",
   "metadata": {
    "id": "US7bVR2LZjJq"
   },
   "source": [
    "<img src='https://raw.githubusercontent.com/jangrae/img/master/practice_01.png' width=120 align=\"left\"/>"
   ]
  },
  {
   "cell_type": "markdown",
   "metadata": {
    "id": "s4gvib7j5cBf"
   },
   "source": [
    "[문1] 학생 이름과 점수를 갖는 아래 딕셔너리에 대해 반복문을 작성해 다음과 같이 학생들 이름과 점수 합이 출력되게 해보세요.\n",
    "\n",
    "~~~\n",
    "홍길동: 350\n",
    "한사랑: 355\n",
    "일지매: 300\n",
    "~~~"
   ]
  },
  {
   "cell_type": "code",
   "execution_count": 19,
   "metadata": {
    "id": "xTYKUEleZIwK"
   },
   "outputs": [
    {
     "name": "stdout",
     "output_type": "stream",
     "text": [
      "홍길동: 350\n",
      "한사랑: 355\n",
      "일지매: 300\n",
      "홍길동: 350\n",
      "한사랑: 355\n",
      "일지매: 300\n"
     ]
    }
   ],
   "source": [
    "# 딕셔너리 만들기\n",
    "score = {'홍길동': [85, 80, 90, 95],\n",
    "         '한사랑': [95, 90, 80, 90],\n",
    "         '일지매': [90, 70, 60, 80]}\n",
    "\n",
    "for (key ,value) in score.items():\n",
    "    print(f'{key}: {sum(value)}')\n",
    "\n",
    "for key in score.keys():\n",
    "    print(f'{key}: {sum(score[key])}')\n",
    "\n"
   ]
  },
  {
   "cell_type": "markdown",
   "metadata": {
    "id": "i2PaUFOl8gFj"
   },
   "source": [
    "**3) 반복문 확장**\n",
    "\n",
    "- 앞에서 '리스트와 for 문'에서 다룬 내용과 동일하게 딕셔너리에 대해 사용할 수 있습니다."
   ]
  },
  {
   "cell_type": "code",
   "execution_count": 86,
   "metadata": {
    "id": "FCGTqU5xwwAQ"
   },
   "outputs": [
    {
     "name": "stdout",
     "output_type": "stream",
     "text": [
      "{'홍길동': 85, '한사랑': 95, '일지매': 90}\n"
     ]
    }
   ],
   "source": [
    "# 딕셔너리 만들기\n",
    "score = {'홍길동': 85, '한사랑': 95, '일지매': 90}\n",
    "\n",
    "# 확인\n",
    "print(score)"
   ]
  },
  {
   "cell_type": "code",
   "execution_count": 88,
   "metadata": {
    "id": "WwqHf_Cp0Deh"
   },
   "outputs": [
    {
     "name": "stdout",
     "output_type": "stream",
     "text": [
      "{'한사랑': 95}\n"
     ]
    }
   ],
   "source": [
    "# 확장 문법 - 반복문 + 제어문\n",
    "score_over_90 = {k : v for k, v in score.items() if v > 90}\n",
    "\n",
    "# 확인\n",
    "print(score_over_90)"
   ]
  },
  {
   "cell_type": "markdown",
   "metadata": {
    "id": "lviIx71fdEfN"
   },
   "source": [
    "- 다음과 같은 코드로 같은 결과를 얻을 수 있습니다."
   ]
  },
  {
   "cell_type": "code",
   "execution_count": 91,
   "metadata": {
    "id": "gUvHL1nrclE8"
   },
   "outputs": [
    {
     "name": "stdout",
     "output_type": "stream",
     "text": [
      "{'한사랑': 95}\n"
     ]
    }
   ],
   "source": [
    "# items() 메서드 사용 안하면\n",
    "score_over_90 = {k: score[k] for k in score if score[k] > 90}\n",
    "\n",
    "# 확인\n",
    "print(score_over_90)"
   ]
  },
  {
   "cell_type": "markdown",
   "metadata": {
    "id": "xaLRbr9qFQqr"
   },
   "source": [
    "## 7.5.집합과 for 문\n",
    "\n",
    "- 리스트와 같은 방법으로 사용합니다."
   ]
  },
  {
   "cell_type": "markdown",
   "metadata": {
    "id": "5_JFZYHe3KAx"
   },
   "source": [
    "**1) 기본 반복문**\n",
    "\n",
    "- 리스트와 같은 방법으로 반복문에 사용합니다."
   ]
  },
  {
   "cell_type": "code",
   "execution_count": 95,
   "metadata": {
    "id": "nz8eOJ60257z"
   },
   "outputs": [
    {
     "name": "stdout",
     "output_type": "stream",
     "text": [
      "한사랑\n",
      "일지매\n",
      "홍길동\n",
      "박여인\n"
     ]
    }
   ],
   "source": [
    "# 리스트와 같음\n",
    "member_set = {'홍길동',  '한사랑', '일지매', '박여인'}\n",
    "\n",
    "for mem in member_set:\n",
    "    print(mem)"
   ]
  },
  {
   "cell_type": "markdown",
   "metadata": {
    "id": "1BnG0sxx3Opp"
   },
   "source": [
    "**2) enumerate() 함수 사용**"
   ]
  },
  {
   "cell_type": "code",
   "execution_count": 98,
   "metadata": {
    "id": "nOm3LULPFQqr"
   },
   "outputs": [
    {
     "name": "stdout",
     "output_type": "stream",
     "text": [
      "1: 한사랑\n",
      "2: 일지매\n",
      "3: 홍길동\n",
      "4: 박여인\n"
     ]
    }
   ],
   "source": [
    "# enumerate() 함수 사용\n",
    "member_set = {'홍길동',  '한사랑', '일지매', '박여인'}\n",
    "\n",
    "for idx, mem in enumerate(member_set):\n",
    "    print('{}: {}'.format(idx + 1, mem))"
   ]
  },
  {
   "cell_type": "markdown",
   "metadata": {
    "id": "F8SwSlC-OErJ"
   },
   "source": [
    "## 7.6.while 문\n",
    "\n",
    "- 조건문이 True인 동안 while문 안의 문장이 반복해서 실행됩니다.\n",
    "- 특정 상황에서 반복을 중지하게 while 문 안에서 조건을 제어합니다."
   ]
  },
  {
   "cell_type": "markdown",
   "metadata": {
    "id": "qp0A9SidnDFs"
   },
   "source": [
    "**1) 일반 while 문**\n",
    "\n",
    "- 문자열 길이를 반환하는 len() 함수가 리스트의 요소 개수를 반환합니다."
   ]
  },
  {
   "cell_type": "code",
   "execution_count": 101,
   "metadata": {
    "id": "TBCoJ1WEOErK"
   },
   "outputs": [
    {
     "name": "stdout",
     "output_type": "stream",
     "text": [
      "['apple', 'banana', 'cherry']\n"
     ]
    }
   ],
   "source": [
    "# 리스트 만들기\n",
    "fruits = ['apple', 'banana', 'cherry']\n",
    "\n",
    "# 요소 출력\n",
    "print(fruits)\n",
    "\n",
    "\n"
   ]
  },
  {
   "cell_type": "markdown",
   "metadata": {
    "id": "6iwLCvmynIWk"
   },
   "source": [
    "**2) 무한루프 다루기**\n",
    "\n",
    "- break 문: 반복문 안에서 특정 조건이 되어 반복문을 빠져 나올 때 사용합니다.\n",
    "- continue 문: 반복문을 중단시키지 않고 다음 반복으로 넘어갈 때 사용합니다."
   ]
  },
  {
   "cell_type": "code",
   "execution_count": 103,
   "metadata": {
    "id": "DY2nPFvC8LYM",
    "scrolled": true
   },
   "outputs": [
    {
     "name": "stdout",
     "output_type": "stream",
     "text": [
      "5050\n"
     ]
    }
   ],
   "source": [
    "# 변수 선언\n",
    "tot, i = 0, 0\n",
    "\n",
    "# 100까지 짝수 합 구하기\n",
    "while True:\n",
    "    tot += i\n",
    "    i +=1\n",
    "    if i >100:\n",
    "        break\n",
    "\n",
    "print(tot)\n",
    "\n",
    "\n"
   ]
  },
  {
   "cell_type": "markdown",
   "metadata": {
    "id": "exqMyjvi-uZq"
   },
   "source": [
    "<img src='https://raw.githubusercontent.com/jangrae/img/master/practice_01.png' width=120 align=\"left\"/>"
   ]
  },
  {
   "cell_type": "markdown",
   "metadata": {
    "id": "29jlKr_D1Usp"
   },
   "source": [
    "[문1] 다음 셀의 코드는 위 셀의 코드와 같습니다. 내용 중에서 굳이 필요 없는 두 줄이 있습니다. 찾아서 제거해 보세요."
   ]
  },
  {
   "cell_type": "code",
   "execution_count": 107,
   "metadata": {
    "id": "q7fcRT1u-eVu"
   },
   "outputs": [
    {
     "name": "stdout",
     "output_type": "stream",
     "text": [
      "2550\n"
     ]
    }
   ],
   "source": [
    "# 변수 선언\n",
    "tot, i = 0, 0\n",
    "\n",
    "# 100까지 짝수 합 구하기\n",
    "while True:\n",
    "    i += 1\n",
    "    if i > 100:\n",
    "        break\n",
    "\n",
    "    if i % 2 == 0:\n",
    "        tot += i\n",
    "\n",
    "\n",
    "# 확인\n",
    "print(tot)"
   ]
  },
  {
   "cell_type": "markdown",
   "metadata": {
    "id": "VksHmafRe7VO"
   },
   "source": [
    "- input() 함수를 사용해 사용자의 입력을 받을 수 있습니다.\n",
    "- isnumeric() 메서드: 숫자이면 True 아니면 False 반환합니다."
   ]
  },
  {
   "cell_type": "code",
   "execution_count": 111,
   "metadata": {
    "id": "u6gur5uE8LYN",
    "scrolled": true
   },
   "outputs": [
    {
     "name": "stdin",
     "output_type": "stream",
     "text": [
      "숫자를 입력하세요(0 = 종료): popsong\n",
      "숫자를 입력하세요(0 = 종료): 55\n"
     ]
    },
    {
     "name": "stdout",
     "output_type": "stream",
     "text": [
      "55 나누기 10의 나머지는 5입니다.\n"
     ]
    },
    {
     "name": "stdin",
     "output_type": "stream",
     "text": [
      "숫자를 입력하세요(0 = 종료): .\n",
      "숫자를 입력하세요(0 = 종료): 0\n"
     ]
    }
   ],
   "source": [
    "# 문자를 입력하면 continue, 0을 입력하면 break, 아니면 10으로 나눈 나머지 표시\n",
    "while True:\n",
    "    response = input('숫자를 입력하세요(0 = 종료):')\n",
    "    if not response.isnumeric():\n",
    "        continue\n",
    "    if int(response) == 0:\n",
    "        break\n",
    "    result = int(response) % 10\n",
    "    print(\"{} 나누기 10의 나머지는 {}입니다.\".format(response, result))"
   ]
  },
  {
   "cell_type": "code",
   "execution_count": 19,
   "metadata": {},
   "outputs": [
    {
     "name": "stdout",
     "output_type": "stream",
     "text": [
      "{'D': 2, 'o': 4, 'y': 1, 'u': 3, 'r': 3, 'a': 2, 'b': 2, 's': 3, 'l': 1, 't': 3, 'e': 5, 'm': 2, 'i': 1, 'c': 1}\n"
     ]
    }
   ],
   "source": [
    "text = 'Do your absolute best. Dream is come true'\n",
    "\n",
    "# 알파벳 빈도수 측정 \n",
    "dict_alphabet = {}\n",
    "for t in text:\n",
    "    if t in dict_alphabet.keys():\n",
    "        dict_alphabet[t] += 1\n",
    "    else:\n",
    "        dict_alphabet[t] = 1\n",
    "\n",
    "del dict_alphabet[' ']\n",
    "del dict_alphabet['.']\n",
    "\n",
    "print(dict_alphabet)"
   ]
  },
  {
   "cell_type": "code",
   "execution_count": 27,
   "metadata": {},
   "outputs": [
    {
     "data": {
      "image/png": "[encoded data removed]",
      "text/plain": [
       "<Figure size 640x480 with 1 Axes>"
      ]
     },
     "metadata": {},
     "output_type": "display_data"
    },
    {
     "data": {
      "text/plain": [
       "<Figure size 500x300 with 0 Axes>"
      ]
     },
     "metadata": {},
     "output_type": "display_data"
    }
   ],
   "source": [
    "import matplotlib.pyplot as plt\n",
    "\n",
    "plt.bar(dict_alphabet.keys(),dict_alphabet.values())\n",
    "plt.title('Char counts')\n",
    "plt.figure( figsize = (5,3))\n",
    "plt.show()"
   ]
  },
  {
   "cell_type": "code",
   "execution_count": null,
   "metadata": {},
   "outputs": [],
   "source": []
  }
 ],
 "metadata": {
  "colab": {
   "provenance": []
  },
  "kernelspec": {
   "display_name": "Python 3 (ipykernel)",
   "language": "python",
   "name": "python3"
  },
  "language_info": {
   "codemirror_mode": {
    "name": "ipython",
    "version": 3
   },
   "file_extension": ".py",
   "mimetype": "text/x-python",
   "name": "python",
   "nbconvert_exporter": "python",
   "pygments_lexer": "ipython3",
   "version": "3.12.4"
  }
 },
 "nbformat": 4,
 "nbformat_minor": 4
}
