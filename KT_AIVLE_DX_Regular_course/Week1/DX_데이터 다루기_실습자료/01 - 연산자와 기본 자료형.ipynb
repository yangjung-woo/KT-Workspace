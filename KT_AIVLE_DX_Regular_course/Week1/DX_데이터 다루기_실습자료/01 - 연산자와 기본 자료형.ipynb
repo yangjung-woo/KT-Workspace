{
 "cells": [
  {
   "cell_type": "markdown",
   "metadata": {
    "id": "b3TDAdnvnSbh"
   },
   "source": [
    "<center><img src='https://raw.githubusercontent.com/Jangrae/img/master/title.png' width=500/></center>"
   ]
  },
  {
   "cell_type": "markdown",
   "metadata": {
    "id": "gpcXh0NvrTtg"
   },
   "source": [
    "<center><img src = 'https://upload.wikimedia.org/wikipedia/commons/thumb/f/f8/Python_logo_and_wordmark.svg/729px-Python_logo_and_wordmark.svg.png' width=200></center>"
   ]
  },
  {
   "cell_type": "markdown",
   "metadata": {
    "id": "jG8XEKWarTth"
   },
   "source": [
    "Python은 어떤 언어일까요? 다음은 나무위키에서 가져온 내용입니다.\n",
    "\n",
    "- 창시자는 네덜란드의 프로그래머 귀도 반 로섬(Guido van Rossum)\n",
    "- 1989년 크리스마스 주에, 연구실이 닫혀있어서 심심한 김에 만든 프로그래밍 언어\n",
    "- 능력 있는 기술자들은 대부분 심심할 때, 혹은 실수로 걸작을 만듦\n",
    "- Python이라는 이름은 귀도가 즐겨 보던 영국의 6인조 코미디 그룹 몬티 Python에서 따왔다고 함\n",
    "- 문법이 매우 쉬워서 초보자들이 프로그래밍을 할 때 추천되는 언어\n",
    "- 학습용으로 좋은 언어인 동시에 실사용률과 생산성도 높은 대단히 강력한 언어"
   ]
  },
  {
   "cell_type": "markdown",
   "metadata": {
    "id": "ryCGKsBnrTth"
   },
   "source": [
    "<img src='https://raw.githubusercontent.com/Jangrae/img/master/language2.png' width=800 align=\"left\"/>"
   ]
  },
  {
   "cell_type": "markdown",
   "metadata": {
    "id": "QIZUzqyBrTth"
   },
   "source": [
    "- 우리 함께 열심히 배워봅시다!!!\n",
    "- 우선 시작하는 의미로 설치된 Python 버전을 확인해봅니다."
   ]
  },
  {
   "cell_type": "code",
   "execution_count": 6,
   "metadata": {
    "id": "ELOCTn5XrTti"
   },
   "outputs": [
    {
     "name": "stdout",
     "output_type": "stream",
     "text": [
      "3.12.4 | packaged by Anaconda, Inc. | (main, Jun 18 2024, 15:03:56) [MSC v.1929 64 bit (AMD64)]\n"
     ]
    }
   ],
   "source": [
    "# 버전 확인\n",
    "import sys\n",
    "print(sys.version)"
   ]
  },
  {
   "cell_type": "markdown",
   "metadata": {
    "id": "wVEoaIRSnSbX"
   },
   "source": [
    "# 1.연산자와 기본 자료형\n",
    "\n",
    "- 다양한 연산자와 기본 자료형을 시작으로하여 Python을 배워봅니다."
   ]
  },
  {
   "cell_type": "markdown",
   "metadata": {
    "id": "8VnMvdQ1JN0U"
   },
   "source": [
    "## 1.1.시작하기\n",
    "\n",
    "- 우선 변수, 키워드, 식별자, 주석에 대한 개념을 세워봅니다."
   ]
  },
  {
   "cell_type": "markdown",
   "metadata": {
    "id": "ym1lFmBLzvCS"
   },
   "source": [
    "\n",
    "### 1.1.1.변수(Variables)"
   ]
  },
  {
   "cell_type": "markdown",
   "metadata": {
    "id": "WVPy5ydyzuY1"
   },
   "source": [
    "<img src='https://raw.githubusercontent.com/jangrae/img/master/variable2.png' width=500 align=\"left\"/>"
   ]
  },
  {
   "cell_type": "markdown",
   "metadata": {
    "id": "uZ-OZ6w-Jncv"
   },
   "source": [
    "\n",
    "\n",
    "- **변수**는 값을 담는 그릇이라고 할 수 있습니다.\n",
    "- 이후 연산 등의 **재사용** 목적을 위해 값을 담아 두는 존재입니다.\n",
    "- 변수에 담은 데이터를 이렇게 저렇게 처리하는 것이 **프로그래밍**입니다.\n",
    "- 변수에 담아진 수 많은 데이터를 분석하는 것이 **데이터 분석**입니다.\n",
    "- **변수 = 값** 형태로 값을 대입하면서 변수를 선언합니다.\n",
    "- 변수 이름은 그 의미를 알 수 있게 적절한 단어를 사용합니다.\n",
    "- 변수에 대입된 값에 의해 변수의 자료형(=데이터 형식)이 결정됩니다.\n",
    "- 코드셀에 변수 이름만 입력하고 실행하면 변수의 값이 표시됩니다."
   ]
  },
  {
   "cell_type": "code",
   "execution_count": 13,
   "metadata": {
    "id": "cfFkbuwWi2YI"
   },
   "outputs": [
    {
     "data": {
      "text/plain": [
       "30"
      ]
     },
     "execution_count": 13,
     "metadata": {},
     "output_type": "execute_result"
    }
   ],
   "source": [
    "# 나이(age) 변수 선언\n",
    "age = 30\n",
    "\n",
    "# 변수 값 확인\n",
    "age"
   ]
  },
  {
   "cell_type": "markdown",
   "metadata": {
    "id": "O_EDB2Dzji33"
   },
   "source": [
    "- 변수를 일부러 제거하지 않는 한 코드 셀이 달라도 변수는 계속 유지됩니다."
   ]
  },
  {
   "cell_type": "code",
   "execution_count": 16,
   "metadata": {
    "id": "IPG7fpYTOh3K"
   },
   "outputs": [
    {
     "data": {
      "text/plain": [
       "31"
      ]
     },
     "execution_count": 16,
     "metadata": {},
     "output_type": "execute_result"
    }
   ],
   "source": [
    "# 변수 값 변경\n",
    "age = age + 1\n",
    "\n",
    "# 변수 값 확인\n",
    "age"
   ]
  },
  {
   "cell_type": "markdown",
   "metadata": {
    "id": "Ufp-YlkF6dvy"
   },
   "source": [
    "- 변수 이름만 봐서는 데이터 형식(정수, 실수, 문자열 등)을 알 수 없습니다.\n",
    "- 데이터 형식은 **type()**  함수로 확인합니다."
   ]
  },
  {
   "cell_type": "code",
   "execution_count": 19,
   "metadata": {
    "id": "qqe77SPF6oaR"
   },
   "outputs": [
    {
     "data": {
      "text/plain": [
       "int"
      ]
     },
     "execution_count": 19,
     "metadata": {},
     "output_type": "execute_result"
    }
   ],
   "source": [
    "# 데이터 형식 확인\n",
    "type(age)"
   ]
  },
  {
   "cell_type": "markdown",
   "metadata": {
    "id": "po5-04aGnSaS"
   },
   "source": [
    "### 1.1.2.Python 키워드(Keywords)\n",
    "\n",
    "- Python 키워드는 Python 자체 사용 목적으로 이미 예약된 문자열입니다\n",
    "- Python 키워드를 변수나 함수 이름, 즉 **식별자**로 사용할 수 없습니다.\n",
    "- 다음이 Python 키워드이며, Python 버전이 바뀌면서 달라질 가능성이 있습니다.\n",
    "\n",
    "<img src='https://raw.githubusercontent.com/jangrae/img/master/keywords.png' width=540 align=\"left\"/>\n"
   ]
  },
  {
   "cell_type": "markdown",
   "metadata": {
    "id": "K7Q8jA_ePeOp"
   },
   "source": [
    "- keyword 라이브러리를 사용해 Python 현재 버전의 키워드를 확인할 수 있습니다."
   ]
  },
  {
   "cell_type": "code",
   "execution_count": 23,
   "metadata": {
    "id": "iGPLu-ytPbe6"
   },
   "outputs": [
    {
     "name": "stdout",
     "output_type": "stream",
     "text": [
      "['False', 'None', 'True', 'and', 'as', 'assert', 'async', 'await', 'break', 'class', 'continue', 'def', 'del', 'elif', 'else', 'except', 'finally', 'for', 'from', 'global', 'if', 'import', 'in', 'is', 'lambda', 'nonlocal', 'not', 'or', 'pass', 'raise', 'return', 'try', 'while', 'with', 'yield']\n"
     ]
    }
   ],
   "source": [
    "# 키워드 확인\n",
    "import keyword\n",
    "print(keyword.kwlist)"
   ]
  },
  {
   "cell_type": "markdown",
   "metadata": {
    "id": "0OcSMKImPwtw"
   },
   "source": [
    "### 1.1.3.식별자(Identifier)\n",
    "\n",
    "- 변수 또는 함수 등에 이름을 붙이기 위해 사용하는 단어를 **식별자**라고 합니다.\n",
    "- 식별자는 다음과 같은 **규칙**을 갖습니다.\n",
    "     - 키워드를 사용할 수 없음\n",
    "     - 언더 바(_)를 제외하고는 특수 문자를 사용할 수 없음\n",
    "     - 공백을 포함해서는 안됨\n",
    "     - 숫자로 시작하면 안됨\n",
    "- 다음은 올바른 식별자의 예입니다.\n",
    "     - age, score, member, member_01, num01, num02\n",
    "- 다음은 올바르지 않은 식별자의 예입니다.\n",
    "     - if, while, 123, 3Member, My Score, a+b\n",
    "- 대/소문자를 구분하므로 대/소문자 여부에 신경쓰지 않게 **소문자 사용을 권고**합니다.\n",
    "- 또한 언더 바와 영어 단어를 적절히 섞어 가독성이 좋게 하기를 권고합니다.\n",
    "     - 안 좋은 예: myname, englishscore\n",
    "     - 좋은 예: my_name, english_score"
   ]
  },
  {
   "cell_type": "markdown",
   "metadata": {
    "id": "-qpAWCM2RZly"
   },
   "source": [
    "### 1.1.4.주석(Comments)\n",
    "\n",
    "- 코드 실행과는 상관없이 설명을 위해 작성된 문자열을 **주석**이라고 합니다.\n",
    "- 소스에 대한 충분한 설명, 즉 주석을 충분히 작성하기를 권고합니다.\n",
    "- Python에서 주석은 #으로 시작하며, 다음 구문에서 **# 변수 선언** 부분이 주석입니다."
   ]
  },
  {
   "cell_type": "code",
   "execution_count": 27,
   "metadata": {
    "id": "FAMXl1tNRsjl"
   },
   "outputs": [],
   "source": [
    "# 변수 선언\n",
    "a = 10"
   ]
  },
  {
   "cell_type": "markdown",
   "metadata": {
    "id": "oCIdeoiULBGb"
   },
   "source": [
    "## 1.2.연산자(Operators)\n",
    "\n",
    "- Python은 수식을 **계산(=산술)** 하거나 값을 **비교**하거나 **대입**하는 등의 다양한 **연산자**를 가지고 있습니다."
   ]
  },
  {
   "cell_type": "markdown",
   "metadata": {
    "id": "UhL38daDnSbW"
   },
   "source": [
    "### 1.2.1.산술 연산자(Arithmetic Operators)\n",
    "\n",
    "- **사칙연산(+, -, \\*, /)** 은 일반적으로 알고 있는 연산 방법(더하기 빼기 등)과 같습니다.\n",
    "- **나머지**(%), **몫**(//), **제곱**(**)에 대한 부분은 조금 낯설 것이니 관심을 두고 배워야 합니다.\n",
    "- 값을 더하거나 빼는 등의 처리를 하는 연산자를 **산술 연산자**라고 부릅니다.\n",
    "- **정수**는 소수점이 없는 숫자이며, 음의 정수, 0, 양의 정수를 갖습니다. *ex) -10, 0, 15*\n",
    "- **실수**는 소수점이 있는 숫자 입니다. *ex) 123.45*"
   ]
  },
  {
   "cell_type": "code",
   "execution_count": 31,
   "metadata": {
    "id": "hbUK6u6xVlrp"
   },
   "outputs": [],
   "source": [
    "# 정수형 변수\n",
    "a = 26\n",
    "b = 5"
   ]
  },
  {
   "cell_type": "markdown",
   "metadata": {
    "id": "2k3q0gKsgX1s"
   },
   "source": [
    "**1) 사칙 연산자**"
   ]
  },
  {
   "cell_type": "code",
   "execution_count": 34,
   "metadata": {
    "id": "CaNIcLwEVuec"
   },
   "outputs": [
    {
     "data": {
      "text/plain": [
       "31"
      ]
     },
     "execution_count": 34,
     "metadata": {},
     "output_type": "execute_result"
    }
   ],
   "source": [
    "# 더하기\n",
    "a+b"
   ]
  },
  {
   "cell_type": "code",
   "execution_count": 36,
   "metadata": {
    "id": "Y_m8Lef5VzSa"
   },
   "outputs": [
    {
     "data": {
      "text/plain": [
       "21"
      ]
     },
     "execution_count": 36,
     "metadata": {},
     "output_type": "execute_result"
    }
   ],
   "source": [
    "# 빼기\n",
    "a-b"
   ]
  },
  {
   "cell_type": "code",
   "execution_count": 38,
   "metadata": {
    "id": "uzwLqK3aV3TU"
   },
   "outputs": [
    {
     "data": {
      "text/plain": [
       "130"
      ]
     },
     "execution_count": 38,
     "metadata": {},
     "output_type": "execute_result"
    }
   ],
   "source": [
    "# 곱하기\n",
    "a*b"
   ]
  },
  {
   "cell_type": "code",
   "execution_count": 40,
   "metadata": {
    "id": "A1UhMZNXV5ew"
   },
   "outputs": [
    {
     "data": {
      "text/plain": [
       "5.2"
      ]
     },
     "execution_count": 40,
     "metadata": {},
     "output_type": "execute_result"
    }
   ],
   "source": [
    "# 나누기\n",
    "a/b"
   ]
  },
  {
   "cell_type": "markdown",
   "metadata": {
    "id": "ssVQaWY4gab4"
   },
   "source": [
    "**2) 몫, 나머지, 제곱 연산자**"
   ]
  },
  {
   "cell_type": "code",
   "execution_count": 43,
   "metadata": {
    "id": "qP5VtYX9HC1O"
   },
   "outputs": [
    {
     "data": {
      "text/plain": [
       "5"
      ]
     },
     "execution_count": 43,
     "metadata": {},
     "output_type": "execute_result"
    }
   ],
   "source": [
    "# 몫\n",
    "a//b"
   ]
  },
  {
   "cell_type": "code",
   "execution_count": 45,
   "metadata": {
    "id": "DFr0Im_RWDuP"
   },
   "outputs": [
    {
     "data": {
      "text/plain": [
       "1"
      ]
     },
     "execution_count": 45,
     "metadata": {},
     "output_type": "execute_result"
    }
   ],
   "source": [
    "# 나머지\n",
    "a%b"
   ]
  },
  {
   "cell_type": "code",
   "execution_count": 47,
   "metadata": {
    "id": "MA8u8Uqwdu1l"
   },
   "outputs": [
    {
     "data": {
      "text/plain": [
       "676"
      ]
     },
     "execution_count": 47,
     "metadata": {},
     "output_type": "execute_result"
    }
   ],
   "source": [
    "# 제곱\n",
    "a**2"
   ]
  },
  {
   "cell_type": "markdown",
   "metadata": {
    "id": "AvxHXnlzlve5"
   },
   "source": [
    "**3) 연산자 활용**\n",
    "\n",
    "- **% 연산자**는 짝수 또는 홀수 인지를 판단할 때 사용하는 경우가 많습니다.\n",
    "- 조건문(if 문)을 아직 배우지 않았지만 다음 코드의 의미는 파악이 될 것입니다."
   ]
  },
  {
   "cell_type": "code",
   "execution_count": 51,
   "metadata": {
    "id": "Zj2-CL7Rk-dG"
   },
   "outputs": [
    {
     "data": {
      "text/plain": [
       "True"
      ]
     },
     "execution_count": 51,
     "metadata": {},
     "output_type": "execute_result"
    }
   ],
   "source": [
    "# 변수 선언\n",
    "a = 20\n",
    "\n",
    "# 짝/홀수 판단\n",
    "if a%2 ==0:\n",
    "    result = True\n",
    "else:\n",
    "    result = False\n",
    "\n",
    "# 확인\n",
    "result"
   ]
  },
  {
   "cell_type": "markdown",
   "metadata": {
    "id": "OQl-BIXjl7PZ"
   },
   "source": [
    "- **// 연산자**는 10 단위 또는 100 단위 등의 수를 구할 때 사용하는 경우가 많습니다."
   ]
  },
  {
   "cell_type": "code",
   "execution_count": 55,
   "metadata": {
    "id": "1kz_hfAjlXm2"
   },
   "outputs": [
    {
     "data": {
      "text/plain": [
       "20"
      ]
     },
     "execution_count": 55,
     "metadata": {},
     "output_type": "execute_result"
    }
   ],
   "source": [
    "# 변수 선언\n",
    "age = 26\n",
    "\n",
    "# 10으로 나눈 몫을 구한 후 10 곱하기\n",
    "age = (age //10) * 10\n",
    "\n",
    "# 확인\n",
    "age"
   ]
  },
  {
   "cell_type": "markdown",
   "metadata": {
    "id": "3l2rqI2hQr1_"
   },
   "source": [
    "<img src='https://raw.githubusercontent.com/jangrae/img/master/practice_01.png' width=120/ align=\"left\">"
   ]
  },
  {
   "cell_type": "markdown",
   "metadata": {
    "id": "t7ahItcXQr2A"
   },
   "source": [
    "[문1] 다음 요구사항에 맞는 코드를 작성하고 실행해 보세요."
   ]
  },
  {
   "cell_type": "code",
   "execution_count": 57,
   "metadata": {
    "id": "bKrxFEhBQr2A"
   },
   "outputs": [
    {
     "data": {
      "text/plain": [
       "51.0"
      ]
     },
     "execution_count": 57,
     "metadata": {},
     "output_type": "execute_result"
    }
   ],
   "source": [
    "# 255를 4로 나눈 몫\n",
    "255 / 5"
   ]
  },
  {
   "cell_type": "code",
   "execution_count": 59,
   "metadata": {
    "id": "djYhSuBaQr2B"
   },
   "outputs": [
    {
     "data": {
      "text/plain": [
       "3"
      ]
     },
     "execution_count": 59,
     "metadata": {},
     "output_type": "execute_result"
    }
   ],
   "source": [
    "# 255를 4로 나눈 나머지\n",
    "255 % 4"
   ]
  },
  {
   "cell_type": "markdown",
   "metadata": {
    "id": "tFoxj6aPi_zv"
   },
   "source": [
    "### 1.2.2.print() 함수\n",
    "\n",
    "- 어떤 처리를 위해 미리 작성되어 모듈화된 코드를 **함수(Function)** 라고 부릅니다.\n",
    "- Python에서 가장 많이 사용하는 함수가 **print() 함수**일 것입니다.\n",
    "- 단순 값, 변수의 값, 연산 결과 등을 확인하기 위해 print() 함수를 사용합니다.\n",
    "- 아래 코드의 실행 결과를 비교해 보면 print() 함수의 필요성을 알 수 있습니다."
   ]
  },
  {
   "cell_type": "code",
   "execution_count": 61,
   "metadata": {
    "id": "apORw_qkWgWG"
   },
   "outputs": [],
   "source": [
    "# 실수형 변수\n",
    "c = 10.5\n",
    "d = 2.5"
   ]
  },
  {
   "cell_type": "code",
   "execution_count": 63,
   "metadata": {
    "id": "rho5x1f3HMXP"
   },
   "outputs": [
    {
     "data": {
      "text/plain": [
       "4.0"
      ]
     },
     "execution_count": 63,
     "metadata": {},
     "output_type": "execute_result"
    }
   ],
   "source": [
    "# print() 함수를 사용하지 않은 경우 --> 값이 하나만 표시됨\n",
    "c % d\n",
    "c // d"
   ]
  },
  {
   "cell_type": "code",
   "execution_count": 65,
   "metadata": {
    "id": "YcUEC61tHMXU"
   },
   "outputs": [
    {
     "name": "stdout",
     "output_type": "stream",
     "text": [
      "0.5\n",
      "4.0\n"
     ]
    }
   ],
   "source": [
    "# print() 함수를 사용한 경우 #1 --> 값이 여러번 표시됨\n",
    "\n",
    "print(c % d)\n",
    "print(c // d)"
   ]
  },
  {
   "cell_type": "markdown",
   "metadata": {
    "id": "l_4HnIY2qqmf"
   },
   "source": [
    "- print() 함수 안에 콤마로 구분해 값을 여러 개 전달할 수 있어 다음과 같이 사용할 수 있습니다."
   ]
  },
  {
   "cell_type": "code",
   "execution_count": 67,
   "metadata": {
    "id": "D6GBFXWyHMXa"
   },
   "outputs": [
    {
     "name": "stdout",
     "output_type": "stream",
     "text": [
      "c = 10.5\n",
      "d = 2.5\n"
     ]
    }
   ],
   "source": [
    "# print() 함수를 사용한 경우 #2\n",
    "print('c =', c)\n",
    "print('d =', d)\n",
    "\n"
   ]
  },
  {
   "cell_type": "markdown",
   "metadata": {
    "id": "0a37QBopgpYf"
   },
   "source": [
    "- print() 함수에 sep, end 옵션을 가끔 사용하니 참고해 주세요."
   ]
  },
  {
   "cell_type": "code",
   "execution_count": 75,
   "metadata": {
    "id": "hH8862hrgpYl"
   },
   "outputs": [
    {
     "name": "stdout",
     "output_type": "stream",
     "text": [
      "Hello,world.C"
     ]
    }
   ],
   "source": [
    "# 구분자 지정\n",
    "print('Hello', 'world.', sep=',' ,end = 'C')\n",
    "\n"
   ]
  },
  {
   "cell_type": "code",
   "execution_count": 83,
   "metadata": {
    "id": "uo5Eq2xNhDGN"
   },
   "outputs": [
    {
     "name": "stdout",
     "output_type": "stream",
     "text": [
      "Hello world. Hello world.\n"
     ]
    }
   ],
   "source": [
    "# 개행 여부 지정\n",
    "print('Hello', 'world.', end =' ')\n",
    "print('Hello', 'world.')\n",
    "\n"
   ]
  },
  {
   "cell_type": "markdown",
   "metadata": {
    "id": "9V13YOzdnSbE"
   },
   "source": [
    "<img src='https://raw.githubusercontent.com/jangrae/img/master/practice_01.png' width=120/ align=\"left\">"
   ]
  },
  {
   "cell_type": "markdown",
   "metadata": {
    "id": "51ljTpTPbsDR"
   },
   "source": [
    "[문1] name, age 변수에 본인의 이름과 나이를 대입하고 코드를 실행하세요"
   ]
  },
  {
   "cell_type": "code",
   "execution_count": 85,
   "metadata": {
    "id": "EaIKTWfJxpGm"
   },
   "outputs": [],
   "source": [
    "# 변수 선언\n",
    "name ='양정우'\n",
    "age = 26"
   ]
  },
  {
   "cell_type": "code",
   "execution_count": 87,
   "metadata": {
    "id": "V6ZZJ-mbuqqf"
   },
   "outputs": [],
   "source": [
    "# 나이 빼기\n",
    "age = age - 10"
   ]
  },
  {
   "cell_type": "code",
   "execution_count": 89,
   "metadata": {
    "id": "HHfw7B2EGZNe"
   },
   "outputs": [
    {
     "name": "stdout",
     "output_type": "stream",
     "text": [
      "이름: 양정우\n",
      "나이: 16\n"
     ]
    }
   ],
   "source": [
    "# 값 확인 #1\n",
    "print('이름:', name)\n",
    "print('나이:', age)"
   ]
  },
  {
   "cell_type": "code",
   "execution_count": 91,
   "metadata": {
    "id": "vIFPEBs_F3gQ"
   },
   "outputs": [
    {
     "name": "stdout",
     "output_type": "stream",
     "text": [
      "이름: 양정우 / 나이: 16\n"
     ]
    }
   ],
   "source": [
    "# 값 확인 #2\n",
    "print('이름:', name, '/', '나이:', age)"
   ]
  },
  {
   "cell_type": "markdown",
   "metadata": {
    "id": "KiWSExcHrpKz"
   },
   "source": [
    "[문2] 다음 변수들의 합계와 평균을 tot_score, avg_score 변수에 담아 출력하는 코드를 작성하세요."
   ]
  },
  {
   "cell_type": "code",
   "execution_count": 96,
   "metadata": {
    "id": "poI79WZ2rpK1"
   },
   "outputs": [
    {
     "name": "stdout",
     "output_type": "stream",
     "text": [
      "220.8\n"
     ]
    }
   ],
   "source": [
    "# 정수형 변수\n",
    "score1 = 153\n",
    "score2 = 204\n",
    "score3 = 259\n",
    "score4 = 221\n",
    "score5 = 267\n",
    "\n",
    "# 합계 구하기\n",
    "tot_score = score1+score2+score3+score4+score5\n",
    "\n",
    "# 평균 구하기\n",
    "avg_score = tot_score / 5\n",
    "\n",
    "# 출력\n",
    "print(avg_score)\n"
   ]
  },
  {
   "cell_type": "markdown",
   "metadata": {
    "id": "KuBFqcFVnSa9"
   },
   "source": [
    "### 1.2.3.비교 연산자(Comparison Operators)\n",
    "\n",
    "- 값이나 변수 또는 연산 결과 등의 크기를 비교하는 연산자를 비교 연산자라고 합니다.\n",
    "- = 는 값을 대입하는 연산자이며, '같다' 비교는 <font color='red'>**==**</font> 연산자를 사용합니다.\n",
    "- '같지않다' 비교는 <> 가 아닌 <font color='red'>**!=**</font> 을 사용해야 함을 기억하세요.\n",
    "- Python은 문자의 **대문자와 소문자를 구분**하여 비교하니 주의하세요.\n",
    "- 비교 연산의 결과는 **True** 아니면 **False** 가 됩니다(true, false가 아닌, True, False 임)."
   ]
  },
  {
   "cell_type": "markdown",
   "metadata": {
    "id": "i4fEVNDaIWYl"
   },
   "source": [
    "**1) 숫자 비교**"
   ]
  },
  {
   "cell_type": "code",
   "execution_count": 100,
   "metadata": {
    "id": "7HMeP6o7w9oY"
   },
   "outputs": [
    {
     "data": {
      "text/plain": [
       "False"
      ]
     },
     "execution_count": 100,
     "metadata": {},
     "output_type": "execute_result"
    }
   ],
   "source": [
    "# 정수형 변수 선언\n",
    "a = 10\n",
    "b = 20\n",
    "\n",
    "# '크다' 비교\n",
    "a > b"
   ]
  },
  {
   "cell_type": "code",
   "execution_count": 102,
   "metadata": {
    "id": "6oT_GQRNy9lH"
   },
   "outputs": [
    {
     "data": {
      "text/plain": [
       "False"
      ]
     },
     "execution_count": 102,
     "metadata": {},
     "output_type": "execute_result"
    }
   ],
   "source": [
    "# '같다' 비교\n",
    "a == b"
   ]
  },
  {
   "cell_type": "code",
   "execution_count": 104,
   "metadata": {
    "id": "NRcQtoA0zJPO"
   },
   "outputs": [
    {
     "data": {
      "text/plain": [
       "True"
      ]
     },
     "execution_count": 104,
     "metadata": {},
     "output_type": "execute_result"
    }
   ],
   "source": [
    "# '작다' 비교\n",
    "a < b"
   ]
  },
  {
   "cell_type": "markdown",
   "metadata": {
    "id": "nZjOmdne4nhX"
   },
   "source": [
    "<img src='https://raw.githubusercontent.com/jangrae/img/master/practice_01.png' width=120 align=\"left\"/>\n"
   ]
  },
  {
   "cell_type": "markdown",
   "metadata": {
    "id": "4GM5oYHi4nhZ"
   },
   "source": [
    "[문1] 다음 s1, s2 변수가 갖는 값 중에서 어느 값이 큰 지 확인해 보세요."
   ]
  },
  {
   "cell_type": "code",
   "execution_count": 5,
   "metadata": {
    "id": "WSV8Neyc3hMj"
   },
   "outputs": [
    {
     "data": {
      "text/plain": [
       "True"
      ]
     },
     "execution_count": 5,
     "metadata": {},
     "output_type": "execute_result"
    }
   ],
   "source": [
    "# 변수 선언\n",
    "s1 = 'A'\n",
    "s2 = 'a'\n",
    "\n",
    "# 크기 비교\n",
    "s1 < s2\n",
    "# ASCII 순서상 소문자의 정수값이 더 크다 \n"
   ]
  },
  {
   "cell_type": "markdown",
   "metadata": {
    "id": "_s7winFp4_VG"
   },
   "source": [
    "[문2] 위에서 확인한 결과에 대한 이유를 설명해 보세요."
   ]
  },
  {
   "cell_type": "code",
   "execution_count": 8,
   "metadata": {
    "id": "bP337-X43_bs"
   },
   "outputs": [
    {
     "data": {
      "text/plain": [
       "-32"
      ]
     },
     "execution_count": 8,
     "metadata": {},
     "output_type": "execute_result"
    }
   ],
   "source": [
    "# ASCII 순서상 소문자의 정수값이 더 크다 \n",
    "ord('A') - ord('a') # -32\n"
   ]
  },
  {
   "cell_type": "markdown",
   "metadata": {
    "id": "sbplhlgenSa3"
   },
   "source": [
    "**[참고] 조건문에 사용됨**\n",
    "\n",
    "- 비교 연산자는 조건에 따라 처리를 제어하는 **조건문**에 많이 사용합니다.\n",
    "- 다음 구문은 score 변수 값이 80 이상이면 'Good' 그렇지 않으면 'Bad'를 출력합니다."
   ]
  },
  {
   "cell_type": "code",
   "execution_count": 11,
   "metadata": {
    "id": "dwyvxSesnSa1",
    "scrolled": true
   },
   "outputs": [
    {
     "name": "stdout",
     "output_type": "stream",
     "text": [
      "Good\n"
     ]
    }
   ],
   "source": [
    "# 변수 선언\n",
    "score = 85\n",
    "\n",
    "# 조건문 예\n",
    "\n",
    "if score >= 80:\n",
    "    print('Good')\n",
    "else:\n",
    "    print('Bad')\n",
    "\n"
   ]
  },
  {
   "cell_type": "markdown",
   "metadata": {
    "id": "Tb6Z_02anSa0"
   },
   "source": [
    "### 1.2.4.복합 대입 연산자(Assignment Operators)\n",
    "\n",
    "- **연산과 대입을 동시**에 수행할 수 있는 연산자를 복합 대입 연산자라고 부릅니다.\n",
    "- 코드를 단순하게 해주지만, **너무 많이 사용하면 오히려 복잡해 질 수도** 있으니 적절히 사용하기 바랍니다."
   ]
  },
  {
   "cell_type": "code",
   "execution_count": 13,
   "metadata": {
    "id": "0siq1phV0qqV"
   },
   "outputs": [
    {
     "data": {
      "text/plain": [
       "7.2"
      ]
     },
     "execution_count": 13,
     "metadata": {},
     "output_type": "execute_result"
    }
   ],
   "source": [
    "# 정수형 변수 선언\n",
    "a = 10\n",
    "\n",
    "# 복합 대입 연산자 사용\n",
    "a += 10 # 20\n",
    "a -= 2 # 18\n",
    "a *= 2 # 36\n",
    "a /= 5 # 7.2\n",
    "\n",
    "# 확인\n",
    "a"
   ]
  },
  {
   "cell_type": "markdown",
   "metadata": {
    "id": "zCKoOWHZ1Rfa"
   },
   "source": [
    "- 위 구문은 다음 구문과 같습니다."
   ]
  },
  {
   "cell_type": "code",
   "execution_count": null,
   "metadata": {
    "id": "bAC_GEd51ATr"
   },
   "outputs": [],
   "source": [
    "# 정수형 변수 선언\n",
    "a = 10\n",
    "\n",
    "# 복합 대입 연산자 사용 안함\n",
    "a = a+10\n",
    "a = a-2\n",
    "a = a * 2\n",
    "a = a / 5\n",
    "\n",
    "# 확인\n",
    "a"
   ]
  },
  {
   "cell_type": "markdown",
   "metadata": {
    "id": "5g54QhJcnSag"
   },
   "source": [
    "### 1.2.5.[참고]기타 연산자\n",
    "\n",
    "- 위에서 언급한 연산자 외에도 몇몇 연산자가 더 있습니다."
   ]
  },
  {
   "cell_type": "markdown",
   "metadata": {
    "id": "VlVhUThenSaf"
   },
   "source": [
    "**1) 논리 연산자 (Logical Operators): and, or, not**\n",
    "\n",
    "- 두 개 이상의 조건을 연결하는 연산자입니다."
   ]
  },
  {
   "cell_type": "markdown",
   "metadata": {
    "id": "AqJ2yjqUnSaf"
   },
   "source": [
    "**[참고] 진리표**\n",
    "\n",
    "<img src='https://raw.githubusercontent.com/jangrae/img/master/truefalse.png' width=600 align=\"left\"/>"
   ]
  },
  {
   "cell_type": "code",
   "execution_count": 15,
   "metadata": {
    "id": "jFmohfcXnSad"
   },
   "outputs": [
    {
     "name": "stdout",
     "output_type": "stream",
     "text": [
      "False\n",
      "True\n",
      "False\n"
     ]
    }
   ],
   "source": [
    "# 변수 선언\n",
    "t = True\n",
    "f = False\n",
    "\n",
    "# 논리 연산자\n",
    "print(t and f)\n",
    "print(t or f)\n",
    "print(not t)"
   ]
  },
  {
   "cell_type": "markdown",
   "metadata": {
    "id": "z2kLbSS-qdc1"
   },
   "source": [
    "- 다음은 and 연산자로 두 조건을 동시에 비교하는 예입니다."
   ]
  },
  {
   "cell_type": "code",
   "execution_count": 17,
   "metadata": {
    "id": "rcG-_Ihbp2Gp"
   },
   "outputs": [
    {
     "name": "stdout",
     "output_type": "stream",
     "text": [
      "True\n"
     ]
    }
   ],
   "source": [
    "# 변수 선언\n",
    "a = 15\n",
    "\n",
    "# and 연산\n",
    "print(a >= 5 and a <= 20)"
   ]
  },
  {
   "cell_type": "markdown",
   "metadata": {
    "id": "z7CppNolqiEG"
   },
   "source": [
    "- 참고로, Python은 위 구문을 다음과 같은 단순 비교문으로 구현할 수 있습니다."
   ]
  },
  {
   "cell_type": "code",
   "execution_count": 20,
   "metadata": {
    "id": "_AmPkqXmqPh2"
   },
   "outputs": [
    {
     "name": "stdout",
     "output_type": "stream",
     "text": [
      "True\n"
     ]
    }
   ],
   "source": [
    "# 변수 선언\n",
    "a = 15\n",
    "\n",
    "# 크기 비교\n",
    "print(5 <= a <= 20)"
   ]
  },
  {
   "cell_type": "markdown",
   "metadata": {
    "id": "SEHB0haDnSac"
   },
   "source": [
    "**2) 멤버 연산자 (Membership Operators): in, not in**\n",
    "\n",
    "- 어떤 값이 특정 객체의 요소인지 확인하는 연산자입니다."
   ]
  },
  {
   "cell_type": "code",
   "execution_count": 23,
   "metadata": {
    "id": "CRuwrg5OnSaa"
   },
   "outputs": [
    {
     "name": "stdout",
     "output_type": "stream",
     "text": [
      "True\n",
      "False\n",
      "True\n"
     ]
    }
   ],
   "source": [
    "# 리스트 만들기\n",
    "a = [10, 20, 30, 40, 50, 60]\n",
    "\n",
    "# 멤버 여부 확인\n",
    "print(10 in a)\n",
    "print(90 in a)\n",
    "print(90 not in a)"
   ]
  },
  {
   "cell_type": "markdown",
   "metadata": {
    "id": "s8NMYk2mnSaa"
   },
   "source": [
    "**3) 식별 연산자 (Identity Operators): is, is not**\n",
    "\n",
    "- 두 객체가 동일한 객체인지 확인하는 연산자입니다.\n",
    "- 값의 같음을 비교하는 ==, != 연산자와는 조금 다른 의미를 가집니다."
   ]
  },
  {
   "cell_type": "markdown",
   "metadata": {
    "id": "yzCni1r6rTts"
   },
   "source": [
    "<img src='https://raw.githubusercontent.com/jangrae/img/master/is_isnot.png' width=600 align=\"left\"/>"
   ]
  },
  {
   "cell_type": "code",
   "execution_count": 27,
   "metadata": {
    "id": "gNtTNn1urYSX"
   },
   "outputs": [
    {
     "name": "stdout",
     "output_type": "stream",
     "text": [
      "x = [1, 2, 3, 4, 5]\n",
      "y = [1, 2, 3, 4, 5]\n",
      "z = [1, 2, 3, 4, 5]\n"
     ]
    }
   ],
   "source": [
    "# 같은 요소를 갖는 리스트 선언\n",
    "x = [1, 2, 3, 4, 5]\n",
    "y = [1, 2, 3, 4, 5]\n",
    "z = x\n",
    "\n",
    "# 변수 값 확인\n",
    "print('x =', x)\n",
    "print('y =', y)\n",
    "print('z =', z)"
   ]
  },
  {
   "cell_type": "code",
   "execution_count": 29,
   "metadata": {
    "id": "eduQ1bZJrI0H"
   },
   "outputs": [
    {
     "name": "stdout",
     "output_type": "stream",
     "text": [
      "True\n",
      "True\n"
     ]
    }
   ],
   "source": [
    "# 값이 같은가?\n",
    "print(x == y)\n",
    "print(x == z)"
   ]
  },
  {
   "cell_type": "code",
   "execution_count": 31,
   "metadata": {
    "id": "d9twiFVFrH9g"
   },
   "outputs": [
    {
     "name": "stdout",
     "output_type": "stream",
     "text": [
      "False\n",
      "True\n"
     ]
    }
   ],
   "source": [
    "# 같은 객체인가?\n",
    "print(x is y)\n",
    "print(x is z)"
   ]
  },
  {
   "cell_type": "code",
   "execution_count": 4,
   "metadata": {
    "id": "d9twiFVFrH9g"
   },
   "outputs": [
    {
     "data": {
      "text/plain": [
       "False"
      ]
     },
     "execution_count": 4,
     "metadata": {},
     "output_type": "execute_result"
    }
   ],
   "source": [
    "a = 3.0\n",
    "b = 3.0\n",
    "a == b # True\n",
    "a is b # False"
   ]
  },
  {
   "cell_type": "markdown",
   "metadata": {
    "id": "oHrOTvrRLXUh"
   },
   "source": [
    "## 1.3.기본 자료형\n",
    "\n",
    "- Python은 다양한 형태의 값을 저장하고 처리할 수 있도록 여러 가지 자료형을 제공합니다.\n",
    "- 우선 가장 기본이 되는 정수형, 실수형, 불리언형에 대해 살펴봅니다."
   ]
  },
  {
   "cell_type": "markdown",
   "metadata": {
    "id": "9G4foZNInSaX"
   },
   "source": [
    "### 1.3.1.정수형과 실수형\n"
   ]
  },
  {
   "cell_type": "markdown",
   "metadata": {
    "id": "Mwb8EqR9jQYF"
   },
   "source": [
    "**1) 정수형**\n",
    "\n",
    "- 음의 정수, 0, 양의 정수(자연수)를 합해 정수형이라 합니다.\n",
    "- 당연히 가장 잘 알고, 가장 많이 사용하는 자료형 중 하나입니다.\n",
    "- **정수 끼리의 연산**결과가 **실수가 될 수 있습니다.**(특히 나누기 연산, 5 / 2 = 2.5)\n",
    "- 변수 이름을 보고 자료형을 알 수는 없습니다.\n",
    "- **type()** 함수로 어떤 자료형인지 확인합니다."
   ]
  },
  {
   "cell_type": "code",
   "execution_count": 39,
   "metadata": {
    "id": "MQtePN7-nSaV"
   },
   "outputs": [
    {
     "data": {
      "text/plain": [
       "int"
      ]
     },
     "execution_count": 39,
     "metadata": {},
     "output_type": "execute_result"
    }
   ],
   "source": [
    "# 정수형 변수\n",
    "x = 5\n",
    "\n",
    "# 확인\n",
    "type(x)\n"
   ]
  },
  {
   "cell_type": "markdown",
   "metadata": {
    "id": "uAqILw7snSaO"
   },
   "source": [
    "**2) 실수형**\n",
    "\n",
    "- 소수점을 표시할 수 있는 숫자를 실수형이라고 합니다.\n",
    "- 역시 정수와 더불어 가장 많이 사용하는 자료형 중 하나입니다."
   ]
  },
  {
   "cell_type": "code",
   "execution_count": 43,
   "metadata": {
    "id": "jBZNr2G5nSaM",
    "scrolled": true
   },
   "outputs": [
    {
     "name": "stdout",
     "output_type": "stream",
     "text": [
      "<class 'float'>\n",
      "2.5 3.5 5.0 6.25\n"
     ]
    }
   ],
   "source": [
    "# 실수형 변수\n",
    "x = 2.5\n",
    "\n",
    "# 자료형 확인\n",
    "print(type(x))\n",
    "\n",
    "# 연산 확인\n",
    "print(x, x + 1, x * 2, x ** 2)"
   ]
  },
  {
   "cell_type": "code",
   "execution_count": 45,
   "metadata": {
    "id": "SUEGz1U2nSaK"
   },
   "outputs": [
    {
     "data": {
      "text/plain": [
       "float"
      ]
     },
     "execution_count": 45,
     "metadata": {},
     "output_type": "execute_result"
    }
   ],
   "source": [
    "# 정수형 변수\n",
    "x = 123\n",
    "\n",
    "# 정수 사이의 연산\n",
    "y = x / 4\n",
    "\n",
    "# 확인\n",
    "type(y)\n"
   ]
  },
  {
   "cell_type": "markdown",
   "metadata": {
    "id": "HzT2grRXnSaE"
   },
   "source": [
    "### 1.3.2.부울형(Boolean)\n",
    "\n",
    "- 불리언(또는 부울로 발음) 자료형은 논리 자료형이라고도 합니다.\n",
    "- 참과 거짓을 나타내는 데 쓰이며, 주로 참은 1, 거짓은 0에 대응하나 언어마다 다를 수 있습니다.\n",
    "- 숫자 대신에 참과 거짓을 나타내는 영어 단어 true와 false를 쓰기도 합니다.\n",
    "- Python에서는 **True**, **False** (첫 문자를 꼭 대소문자로 써야 함) 값을 가지는 자료형입니다.\n",
    "- True, False와 문자열 'True', 'False'는 전혀 다르니 주의해야 합니다.\n",
    "- True와 False는 일반적으로 **조건문**이나 **반복문**에 많이 사용합니다."
   ]
  },
  {
   "cell_type": "markdown",
   "metadata": {
    "id": "Bf1IAbZMnSaD"
   },
   "source": [
    "**1) True, False**"
   ]
  },
  {
   "cell_type": "code",
   "execution_count": null,
   "metadata": {
    "id": "UKdjndgBnSaC"
   },
   "outputs": [],
   "source": [
    "# 부울형 변수\n",
    "t = True\n",
    "f = False\n",
    "\n",
    "# 자료형 확인\n",
    "print(type(t))\n",
    "print(type(f))"
   ]
  },
  {
   "cell_type": "code",
   "execution_count": null,
   "metadata": {
    "id": "6zsbEtnunSaA"
   },
   "outputs": [],
   "source": [
    "# 조건의 참과 거짓\n",
    "print(10 > 1)\n",
    "print(10 == 10)\n",
    "print(10 > 100)"
   ]
  },
  {
   "cell_type": "markdown",
   "metadata": {
    "id": "a8c8V5MDnSZ_"
   },
   "source": [
    "**2) 부울형과 논리 연산자**\n",
    "\n",
    "- 논리연산자에 대해서 앞에서 다뤘지만 다시 한번 확인합니다.\n",
    "- 대문자 AND, OR, NOT이 아닌 소문자 and, or, not임에 각별히 주의합니다."
   ]
  },
  {
   "cell_type": "code",
   "execution_count": null,
   "metadata": {
    "id": "sLoH6YGrnSZ8"
   },
   "outputs": [],
   "source": [
    "# 부울형과 논리 연산자\n",
    "t = True\n",
    "f = False\n",
    "\n",
    "print(t and f)\n",
    "print(t or f)\n",
    "print(not t)"
   ]
  },
  {
   "cell_type": "markdown",
   "metadata": {
    "id": "8TjR-5qNnSZ8"
   },
   "source": [
    "### 1.3.3.자료형 사이의 변환\n",
    "\n",
    "- **float()**, **int()**, **str()**, **bool()** 함수를 사용해 자료형을 변환합니다.\n",
    "- 함수 이름이 자료형 이름과 같으므로 쉽게 기억할 수 있을 것입니다.\n",
    "- bool() 함수는 공백 문자('') 와 0에 대해 False를 반환합니다.\n",
    "- 있으면 True, 없으면 False로 기억하면 될 것입니다."
   ]
  },
  {
   "cell_type": "markdown",
   "metadata": {
    "id": "MU_mSj1Mm86i"
   },
   "source": [
    "**1) float() 함수: 문자열, 정수 → 실수**"
   ]
  },
  {
   "cell_type": "code",
   "execution_count": null,
   "metadata": {
    "id": "YTRyHJJ9m86i",
    "scrolled": true
   },
   "outputs": [],
   "source": [
    "# 문자열, 정수 --> 실수\n",
    "a = float('10.5')\n",
    "b = float(10)\n",
    "print(type(a))\n",
    "print(type(b))\n",
    "print(a)\n",
    "print(b)"
   ]
  },
  {
   "cell_type": "markdown",
   "metadata": {
    "id": "vntEKTeum86j"
   },
   "source": [
    "**2) int() 함수: 문자열, 실수 → 정수**"
   ]
  },
  {
   "cell_type": "code",
   "execution_count": null,
   "metadata": {
    "id": "LRD-DXgtm86j"
   },
   "outputs": [],
   "source": [
    "# 문자열, 실수 --> 정수\n",
    "a = int('10')\n",
    "b = int(123.45)\n",
    "print(type(a))\n",
    "print(type(b))\n",
    "print(a)\n",
    "print(b)"
   ]
  },
  {
   "cell_type": "markdown",
   "metadata": {
    "id": "WTVohueYnSZ0"
   },
   "source": [
    "<img src='https://raw.githubusercontent.com/jangrae/img/master/practice_01.png' width=120 align=\"left\"/>"
   ]
  },
  {
   "cell_type": "markdown",
   "metadata": {
    "id": "zxzkl9kIwLj9"
   },
   "source": [
    "[문1] 다음 셀에서 변수 b, c의 값을 예측한 후 print() 함수로 확인해 보세요."
   ]
  },
  {
   "cell_type": "code",
   "execution_count": 48,
   "metadata": {
    "id": "hL27Ei_KnSZy"
   },
   "outputs": [
    {
     "name": "stdout",
     "output_type": "stream",
     "text": [
      "123\n",
      "124\n"
     ]
    }
   ],
   "source": [
    "# 실수 --> 정수\n",
    "a = 123.79\n",
    "b = int(a)\n",
    "c = round(a)\n",
    "\n",
    "# \n",
    "# b, c 값 확인\n",
    "print(b) # 123\n",
    "print(c) # 124"
   ]
  },
  {
   "cell_type": "markdown",
   "metadata": {
    "id": "1OcjLvr-nSZx"
   },
   "source": [
    "\n",
    "**3) str() 함수: 숫자 → 문자열**"
   ]
  },
  {
   "cell_type": "code",
   "execution_count": 50,
   "metadata": {
    "id": "wh7j6zwFnSZv"
   },
   "outputs": [
    {
     "name": "stdout",
     "output_type": "stream",
     "text": [
      "<class 'str'>\n",
      "1557\n"
     ]
    }
   ],
   "source": [
    "# 숫자 --> 문자열\n",
    "c = str(1557)\n",
    "print(type(c))\n",
    "print(c)"
   ]
  },
  {
   "cell_type": "markdown",
   "metadata": {
    "id": "mx87FOtVn6wg"
   },
   "source": [
    "**4) bool() 함수: 숫자, 문자열 → 불리언형**\n",
    "\n",
    "- 0이면 False, 나머지는 True"
   ]
  },
  {
   "cell_type": "code",
   "execution_count": 58,
   "metadata": {
    "id": "8OoKDfzsn6wh"
   },
   "outputs": [
    {
     "name": "stdout",
     "output_type": "stream",
     "text": [
      "<class 'int'>\n",
      "0\n",
      "<class 'bool'>\n",
      "True\n"
     ]
    }
   ],
   "source": [
    "# 숫자 --> 불리언형\n",
    "d = bool(0)\n",
    "print(type(d))\n",
    "print(d)\n",
    "\n",
    "e = bool(1)\n",
    "print(type(e))\n",
    "print(e)"
   ]
  },
  {
   "cell_type": "markdown",
   "metadata": {
    "id": "VPXj_YA2oBqL"
   },
   "source": [
    "\n",
    "- 완전 공백('')이면 False, 나머지는 True"
   ]
  },
  {
   "cell_type": "code",
   "execution_count": 60,
   "metadata": {
    "id": "7tufh6C_n6wh"
   },
   "outputs": [
    {
     "name": "stdout",
     "output_type": "stream",
     "text": [
      "<class 'str'> \n",
      "<class 'str'> ppad\n"
     ]
    }
   ],
   "source": [
    "# 문자 --> 불리언형\n",
    "f =bool('')\n",
    "print(type(f), f)\n",
    "\n",
    "g =bool('ppad')\n",
    "print(type(g), g)"
   ]
  },
  {
   "cell_type": "markdown",
   "metadata": {
    "id": "q1FqbGUAnSZp"
   },
   "source": [
    "<img src='https://raw.githubusercontent.com/jangrae/img/master/practice_01.png' width=120 align=\"left\"/>"
   ]
  },
  {
   "cell_type": "markdown",
   "metadata": {
    "id": "Tp_2pk-awN-O"
   },
   "source": [
    "[문1] 다음 셀이 오류 없이 제대로 수행되게 수정해 보세요."
   ]
  },
  {
   "cell_type": "code",
   "execution_count": 62,
   "metadata": {
    "id": "mg49AFdUnSZn"
   },
   "outputs": [
    {
     "ename": "TypeError",
     "evalue": "can only concatenate str (not \"int\") to str",
     "output_type": "error",
     "traceback": [
      "\u001b[1;31m---------------------------------------------------------------------------\u001b[0m",
      "\u001b[1;31mTypeError\u001b[0m                                 Traceback (most recent call last)",
      "Cell \u001b[1;32mIn[62], line 2\u001b[0m\n\u001b[0;32m      1\u001b[0m \u001b[38;5;66;03m# 문자열과 숫자 연결\u001b[39;00m\n\u001b[1;32m----> 2\u001b[0m \u001b[38;5;28mprint\u001b[39m(\u001b[38;5;124m'\u001b[39m\u001b[38;5;124mI am \u001b[39m\u001b[38;5;124m'\u001b[39m \u001b[38;5;241m+\u001b[39m \u001b[38;5;241m20\u001b[39m \u001b[38;5;241m+\u001b[39m \u001b[38;5;124m'\u001b[39m\u001b[38;5;124m years old.\u001b[39m\u001b[38;5;124m'\u001b[39m)\n",
      "\u001b[1;31mTypeError\u001b[0m: can only concatenate str (not \"int\") to str"
     ]
    }
   ],
   "source": [
    "# 문자열과 숫자 연결\n",
    "print('I am ' + 20 + ' years old.')"
   ]
  },
  {
   "cell_type": "code",
   "execution_count": 72,
   "metadata": {
    "id": "lnXO8vQaCE5p"
   },
   "outputs": [
    {
     "name": "stdout",
     "output_type": "stream",
     "text": [
      "I am 20 years old.\n"
     ]
    }
   ],
   "source": [
    "# 문자열과 숫자 연결(수정)\n",
    "print('I am {} years old.'.format(20))"
   ]
  },
  {
   "cell_type": "markdown",
   "metadata": {
    "id": "DUtpbnC9nSZm"
   },
   "source": [
    "### 1.3.4.[참고] 날짜 시간 자료형\n",
    "\n",
    "- Python은 날짜와 시간 관련 자료형을 제공하지 않습니다.\n",
    "- 필요하다면 **datetime** 표준 모듈을 불러와 사용해야 합니다."
   ]
  },
  {
   "cell_type": "code",
   "execution_count": 89,
   "metadata": {
    "id": "F32cbAdInSZk"
   },
   "outputs": [],
   "source": [
    "# 모듈 불러오기\n",
    "from datetime import datetime\n",
    "\n",
    "# 현재 날짜와 시간 얻기\n",
    "dt = datetime.now()"
   ]
  },
  {
   "cell_type": "code",
   "execution_count": 91,
   "metadata": {
    "id": "ARDNSC5CSMvq"
   },
   "outputs": [
    {
     "name": "stdout",
     "output_type": "stream",
     "text": [
      "날짜와 시간: 2024-09-04 10:48:56.103100\n",
      "년: 2024\n",
      "월: 9\n",
      "일: 4\n",
      "시: <built-in method time of datetime.datetime object at 0x000002C67BD8D3E0>\n",
      "분: 48\n",
      "초: 56\n"
     ]
    }
   ],
   "source": [
    "# 날짜 시간 정보 표시\n",
    "print('날짜와 시간:', dt)\n",
    "print('년:', dt.year)\n",
    "print('월:', dt.month)\n",
    "print('일:', dt.day)\n",
    "print('시:', dt.time     )\n",
    "print('분:', dt.minute     )\n",
    "print('초:', dt.second)"
   ]
  }
 ],
 "metadata": {
  "colab": {
   "provenance": []
  },
  "kernelspec": {
   "display_name": "Python 3 (ipykernel)",
   "language": "python",
   "name": "python3"
  },
  "language_info": {
   "codemirror_mode": {
    "name": "ipython",
    "version": 3
   },
   "file_extension": ".py",
   "mimetype": "text/x-python",
   "name": "python",
   "nbconvert_exporter": "python",
   "pygments_lexer": "ipython3",
   "version": "3.12.4"
  }
 },
 "nbformat": 4,
 "nbformat_minor": 4
}
