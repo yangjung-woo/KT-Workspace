{
 "cells": [
  {
   "cell_type": "markdown",
   "metadata": {
    "id": "b3TDAdnvnSbh"
   },
   "source": [
    "<center><img src='https://raw.githubusercontent.com/Jangrae/img/master/title.png' width=500/></center>"
   ]
  },
  {
   "cell_type": "markdown",
   "metadata": {
    "id": "iq8wTBVhwv_6"
   },
   "source": [
    "# 6.딕셔너리(Dictionary) 자료형\n",
    "\n",
    "<img src='https://raw.githubusercontent.com/jangrae/img/master/dictionary2.png' width=600 align=\"left\"/>"
   ]
  },
  {
   "cell_type": "markdown",
   "metadata": {
    "id": "5Or4d6U6fGPd"
   },
   "source": [
    "- 딕셔너리는 집합과 마찬가지로 **중괄호({ })** 를 사용해 선언합니다.\n",
    "- 하지만 {Key1: Value1, Key2: Value2, Key3: Value3}의 형태를 가지므로 집합과 구분됩니다.\n",
    "- 딕셔너리는 순서의 의미가 없으며, **키(Key)를 사용해 값(Value)을 확인합니다.**\n",
    "- 리스트와 더불어 많이 사용되는 자료형이니 필히 익숙해져야 합니다.\n",
    "\n",
    "<img src='https://raw.githubusercontent.com/jangrae/img/master/dictionary.png' width=600 align=\"left\"/>"
   ]
  },
  {
   "cell_type": "markdown",
   "metadata": {
    "id": "1h-ZWR0sN-NM"
   },
   "source": [
    "**참고: 딕셔너리 요소 순서**\n",
    "\n",
    "~~~\n",
    "딕셔너리는 파이썬 3.6 이전 버전까지 정렬되지 않은 자료 구조로 간주되었습니다. 즉, 딕셔너리에 요소를 추가한 순서가\n",
    "유지되지 않아서, 조회할 때 요소들이 추가된 순서대로 나타나지 않을 수 있었습니다. 그러나 파이썬 3.6부터 딕셔너리가\n",
    "내부적으로 삽입 순서를 유지하기 시작했습니다. 이 부분이 공식적으로 문서화되지 않았지만, 대부분의 경우 순서가 유지\n",
    "되는 것을 경험할 수 있었습니다. 3.7 버전부터 요소 순서 유지 기능이 공식화되어, 딕셔너리가 삽입된 요소 순서를 유지\n",
    "한다고 보장합니다. 즉, 파이썬 3.7 이상에서는 딕셔너리에 요소를 추가하면, 그 순서대로 요소들이 내부적으로 정렬되어\n",
    "있으며, 딕셔너리를 조회할 때 그 순서대로 요소를 얻을 수 있습니다.\n",
    "~~~"
   ]
  },
  {
   "cell_type": "markdown",
   "metadata": {
    "id": "slSMi2mej0aI"
   },
   "source": [
    "## 6.1.딕셔너리 만들기"
   ]
  },
  {
   "cell_type": "markdown",
   "metadata": {
    "id": "ytbemGRa8La-"
   },
   "source": [
    "### 6.1.1.딕셔너리 직접  만들기"
   ]
  },
  {
   "cell_type": "markdown",
   "metadata": {
    "id": "B8qyYePF25RJ"
   },
   "source": [
    "**1) 일정한 정보를 갖는 딕셔너리**"
   ]
  },
  {
   "cell_type": "code",
   "execution_count": 1,
   "metadata": {
    "id": "qdtEJ0OmjuDu"
   },
   "outputs": [
    {
     "data": {
      "text/plain": [
       "{'love': '사랑', 'happy': '행복', 'dream': '꿈'}"
      ]
     },
     "execution_count": 1,
     "metadata": {},
     "output_type": "execute_result"
    }
   ],
   "source": [
    "# 영어:한글\n",
    "word = {'love': '사랑', 'happy': '행복', 'dream': '꿈'}\n",
    "\n",
    "# 확인\n",
    "word"
   ]
  },
  {
   "cell_type": "code",
   "execution_count": 3,
   "metadata": {
    "id": "GCz70kajJRwo"
   },
   "outputs": [
    {
     "data": {
      "text/plain": [
       "{'양정우': 100, '김민재': 150}"
      ]
     },
     "execution_count": 3,
     "metadata": {},
     "output_type": "execute_result"
    }
   ],
   "source": [
    "# 이름:점수\n",
    "score ={'양정우':100 , \"김민재\":150 }\n",
    "\n",
    "# 확인\n",
    "score"
   ]
  },
  {
   "cell_type": "markdown",
   "metadata": {
    "id": "8IlNvjtQbz9W"
   },
   "source": [
    "- 다음과 같이 요소를 아래로 나열하면 가독성이 좋아집니다."
   ]
  },
  {
   "cell_type": "code",
   "execution_count": null,
   "metadata": {
    "id": "VZRnwCn-bwUv"
   },
   "outputs": [],
   "source": [
    "# 이름:점수\n",
    "score = {'홍길동': 100,\n",
    "         '한여인': 90,\n",
    "         '일지매': 90}\n",
    "\n",
    "# 확인\n",
    "score"
   ]
  },
  {
   "cell_type": "markdown",
   "metadata": {
    "id": "4lQb9tkP29RO"
   },
   "source": [
    "**2) 다양한 정보를 갖는 딕셔너리**\n",
    "\n",
    "- 리스트나 튜플을 Value로 가질 수 있습니다."
   ]
  },
  {
   "cell_type": "code",
   "execution_count": null,
   "metadata": {
    "id": "msZbFz7-28lv"
   },
   "outputs": [],
   "source": [
    "# 다양한 정보를 갖는 딕셔너리\n",
    "member1 = {'이름':'홍길동',\n",
    "           '나이': 20,\n",
    "           '지역':'서울'}\n",
    "\n",
    "# 확인\n",
    "member1"
   ]
  },
  {
   "cell_type": "code",
   "execution_count": null,
   "metadata": {
    "id": "9SF4vIqbJYRf"
   },
   "outputs": [],
   "source": [
    "# Value가 리스트인 딕셔너리\n",
    "member2 = {'이름': '홍길동',\n",
    "           '취미': ['독서', '여행', '걷기']}\n",
    "\n",
    "# 확인\n",
    "member2"
   ]
  },
  {
   "cell_type": "markdown",
   "metadata": {
    "id": "GvUudb8B3Hv5"
   },
   "source": [
    "**3) 숫자가 Key인 경우**\n",
    "\n",
    "- 당연히 숫자도 Key가 될 수 있습니다."
   ]
  },
  {
   "cell_type": "code",
   "execution_count": null,
   "metadata": {
    "id": "gH7mPSvx3Hdl"
   },
   "outputs": [],
   "source": [
    "# 숫자가 Key인 리스트\n",
    "nums = {1:10, 2:20, 3:30}\n",
    "\n",
    "# 확인\n",
    "nums"
   ]
  },
  {
   "cell_type": "markdown",
   "metadata": {
    "id": "V-KvoMmufl9w"
   },
   "source": [
    "**4) 같은 Key 무시**\n",
    "\n",
    "- 만일 Key가 같은 요소가 있으면 하나만 남기고 나머지는 무시됩니다."
   ]
  },
  {
   "cell_type": "code",
   "execution_count": null,
   "metadata": {
    "id": "AfGG0hINgADg"
   },
   "outputs": [],
   "source": [
    "# 딕셔너리 만들기\n",
    "score = {'홍길동': 100,\n",
    "         '한여인': 90,\n",
    "         '홍길동': 95,\n",
    "         '한여인': 90,\n",
    "         '한국인': 75,\n",
    "         '일지매': 90}\n",
    "\n",
    "# 확인\n",
    "score"
   ]
  },
  {
   "cell_type": "markdown",
   "metadata": {
    "id": "qejObbTg8LbB"
   },
   "source": [
    "**[참고] Key가 될 수 없는 리스트**\n",
    "\n",
    "- 당연히 Key는 변경되면 안됩니다.\n",
    "- 튜플은 변경 불가능한 자료형이지만, **리스트는 변경 가능**한 자료형입니다.\n",
    "- 그러므로 리스트는 딕셔너리의 Key가 될 수 없습니다."
   ]
  },
  {
   "cell_type": "code",
   "execution_count": 7,
   "metadata": {
    "id": "EpIfHF9U-RYI"
   },
   "outputs": [
    {
     "data": {
      "text/plain": [
       "dict_keys([('이름', '나이')])"
      ]
     },
     "execution_count": 7,
     "metadata": {},
     "output_type": "execute_result"
    }
   ],
   "source": [
    "# Key가 튜플인 딕셔너리\n",
    "member = {('이름', '나이'): ['홍길동', 20]}\n",
    "\n",
    "# 확인\n",
    "member.keys()"
   ]
  },
  {
   "cell_type": "code",
   "execution_count": 9,
   "metadata": {
    "id": "gsuBE5Qbp6ro"
   },
   "outputs": [
    {
     "ename": "TypeError",
     "evalue": "unhashable type: 'list'",
     "output_type": "error",
     "traceback": [
      "\u001b[1;31m---------------------------------------------------------------------------\u001b[0m",
      "\u001b[1;31mTypeError\u001b[0m                                 Traceback (most recent call last)",
      "Cell \u001b[1;32mIn[9], line 2\u001b[0m\n\u001b[0;32m      1\u001b[0m \u001b[38;5;66;03m# Key가 리스트인 딕셔너리(?)\u001b[39;00m\n\u001b[1;32m----> 2\u001b[0m member \u001b[38;5;241m=\u001b[39m {[\u001b[38;5;124m'\u001b[39m\u001b[38;5;124m이름\u001b[39m\u001b[38;5;124m'\u001b[39m, \u001b[38;5;124m'\u001b[39m\u001b[38;5;124m나이\u001b[39m\u001b[38;5;124m'\u001b[39m]: [\u001b[38;5;124m'\u001b[39m\u001b[38;5;124m홍길동\u001b[39m\u001b[38;5;124m'\u001b[39m, \u001b[38;5;241m20\u001b[39m]}\n",
      "\u001b[1;31mTypeError\u001b[0m: unhashable type: 'list'"
     ]
    }
   ],
   "source": [
    "# Key가 리스트인 딕셔너리(?)\n",
    "member = {['이름', '나이']: ['홍길동', 20]}"
   ]
  },
  {
   "cell_type": "markdown",
   "metadata": {
    "id": "L3m-3GOc8LbD"
   },
   "source": [
    "### 6.1.2.딕셔너리로 자료형 변환\n",
    "\n",
    "- **dict() 함수**를 사용해 Key:Value 형태를 가질 수 있는 자료형을 딕셔너리로 변환합니다.\n",
    "- 대부분 리스트로 딕셔너리를 만듭니다."
   ]
  },
  {
   "cell_type": "markdown",
   "metadata": {
    "id": "Ommq-D_M3UeZ"
   },
   "source": [
    "**1) 리스트 → 딕셔너리 변환**\n",
    "\n",
    "- [Key, Value] 형태의 요소를 갖는 리스트를 딕셔너리로 변환해 봅니다."
   ]
  },
  {
   "cell_type": "code",
   "execution_count": 13,
   "metadata": {
    "id": "3dBbqTOiue8b",
    "scrolled": true
   },
   "outputs": [
    {
     "data": {
      "text/plain": [
       "{'홍길동': 100, '일지매': 90, '한여인': 90, '강우동': 95}"
      ]
     },
     "execution_count": 13,
     "metadata": {},
     "output_type": "execute_result"
    }
   ],
   "source": [
    "# 리스트 만들기\n",
    "members = [['홍길동', 100], ['일지매', 90], ['한여인', 90], ['강우동', 95]]\n",
    "\n",
    "# 딕셔너리로 변환\n",
    "member_dic = dict(members)\n",
    "\n",
    "# 확인\n",
    "member_dic"
   ]
  },
  {
   "cell_type": "markdown",
   "metadata": {
    "id": "IEfy-K_m3dQg"
   },
   "source": [
    "**2) 튜플 → 딕셔너리 변환**\n",
    "\n",
    "- 당연히 튜플을 딕셔너리로 변환할 수 있습니다."
   ]
  },
  {
   "cell_type": "code",
   "execution_count": 15,
   "metadata": {
    "id": "_wt8-KdN3o_F"
   },
   "outputs": [
    {
     "data": {
      "text/plain": [
       "{'홍길동': 100, '일지매': 90, '한여인': 90, '강우동': 95}"
      ]
     },
     "execution_count": 15,
     "metadata": {},
     "output_type": "execute_result"
    }
   ],
   "source": [
    "# 튜플 만들기\n",
    "members = (('홍길동', 100), ('일지매', 90), ('한여인', 90), ('강우동', 95))\n",
    "\n",
    "# 딕셔너리로 변환\n",
    "member_dic =  dict(members)\n",
    "\n",
    "# 확인\n",
    "member_dic"
   ]
  },
  {
   "cell_type": "markdown",
   "metadata": {
    "id": "2qbqa1G_oxPT"
   },
   "source": [
    "## 6.2.딕셔너리 조회\n",
    "\n",
    "- 딕셔너리는 요소 순서가 없으므로 인덱싱과 슬라이싱을 할 수 없습니다.\n",
    "- **Key를 사용해 Value를 찾는 방식으로 조회합니다.**"
   ]
  },
  {
   "cell_type": "code",
   "execution_count": 21,
   "metadata": {
    "id": "EPluiWMrFvP6"
   },
   "outputs": [],
   "source": [
    "# 딕셔너리 만들기\n",
    "member = {'이름': '홍길동',\n",
    "          '취미': ['독서', '여행', '걷기']}"
   ]
  },
  {
   "cell_type": "code",
   "execution_count": 23,
   "metadata": {
    "id": "XZX0WS-JN_1O"
   },
   "outputs": [
    {
     "data": {
      "text/plain": [
       "'홍길동'"
      ]
     },
     "execution_count": 23,
     "metadata": {},
     "output_type": "execute_result"
    }
   ],
   "source": [
    "# 이름 조회\n",
    "member['이름']"
   ]
  },
  {
   "cell_type": "code",
   "execution_count": 25,
   "metadata": {
    "id": "a4geh6DIFvQA"
   },
   "outputs": [
    {
     "data": {
      "text/plain": [
       "['독서', '여행', '걷기']"
      ]
     },
     "execution_count": 25,
     "metadata": {},
     "output_type": "execute_result"
    }
   ],
   "source": [
    "# 취미 조회\n",
    "member['취미']"
   ]
  },
  {
   "cell_type": "markdown",
   "metadata": {
    "id": "cQOHZEj8ZUti"
   },
   "source": [
    "- **in** 연산자를 사용해 해당 key가 있는지 확인할 수 있습니다."
   ]
  },
  {
   "cell_type": "code",
   "execution_count": 47,
   "metadata": {
    "id": "ckXN3hl7ZPCU"
   },
   "outputs": [
    {
     "name": "stdout",
     "output_type": "stream",
     "text": [
      "True\n",
      "False\n",
      "True\n"
     ]
    }
   ],
   "source": [
    "# 데이터 존재 여부 확인\n",
    "print('이름' in member)             # True\n",
    "print('홍길동' in member)           # False\n",
    "print('여행' in member['취미'])     # True"
   ]
  },
  {
   "cell_type": "markdown",
   "metadata": {
    "id": "0yMXUxUXTgYJ"
   },
   "source": [
    "<img src='https://raw.githubusercontent.com/jangrae/img/master/practice_01.png' width=120 align=\"left\"/>"
   ]
  },
  {
   "cell_type": "markdown",
   "metadata": {
    "id": "LvIQqziV5YUL"
   },
   "source": [
    "[문1] 다음 정보를 갖는 members 라는 딕셔너리를 만들고 조회해 보세요.\n",
    "\n",
    "- 이름: 홍길동, 한사랑, 일지매, 박여인\n",
    "- 나이: 23, 21, 26, 25\n",
    "- 지역: 서울, 부산, 인천, 대전\n",
    "- 언어: 자바, 파이썬, 파이썬, 닷넷\n"
   ]
  },
  {
   "cell_type": "code",
   "execution_count": 51,
   "metadata": {
    "id": "_3WUmsf6ThJ8"
   },
   "outputs": [
    {
     "data": {
      "text/plain": [
       "{'이름': ['홍길동', '한사람', '일지매', '박여인'],\n",
       " '나이': [23, 21, 26, 25],\n",
       " '지역': ['서울', '부산', '인천', '대전'],\n",
       " '언어': ['자바', '파이썬', '파이썬', '닷넷']}"
      ]
     },
     "execution_count": 51,
     "metadata": {},
     "output_type": "execute_result"
    }
   ],
   "source": [
    "# 딕셔너리 만들기\n",
    "members ={ '이름': ['홍길동', '한사람','일지매','박여인'],\n",
    "          '나이': [23,21,26,25],\n",
    "         '지역': ['서울','부산','인천','대전'],\n",
    "         '언어': ['자바','파이썬','파이썬','닷넷']}\n",
    "\n",
    "\n",
    "\n",
    "\n",
    "# 확인\n",
    "members"
   ]
  },
  {
   "cell_type": "code",
   "execution_count": 59,
   "metadata": {
    "id": "k5qS7bvTWAyk"
   },
   "outputs": [
    {
     "data": {
      "text/plain": [
       "['홍길동', '한사람', '일지매', '박여인']"
      ]
     },
     "execution_count": 59,
     "metadata": {},
     "output_type": "execute_result"
    }
   ],
   "source": [
    "# 이름 조회\n",
    "members['이름']"
   ]
  },
  {
   "cell_type": "code",
   "execution_count": 61,
   "metadata": {
    "id": "EEFPwrdSNu_4"
   },
   "outputs": [
    {
     "data": {
      "text/plain": [
       "[23, 21, 26, 25]"
      ]
     },
     "execution_count": 61,
     "metadata": {},
     "output_type": "execute_result"
    }
   ],
   "source": [
    "# 나이 조회\n",
    "members['나이']"
   ]
  },
  {
   "cell_type": "code",
   "execution_count": 65,
   "metadata": {
    "id": "lYgWuhh2Nw35"
   },
   "outputs": [
    {
     "data": {
      "text/plain": [
       "['서울', '부산', '인천', '대전']"
      ]
     },
     "execution_count": 65,
     "metadata": {},
     "output_type": "execute_result"
    }
   ],
   "source": [
    "# 지역 조회\n",
    "members['지역']"
   ]
  },
  {
   "cell_type": "code",
   "execution_count": 67,
   "metadata": {
    "id": "1SOM1DfCNyoh"
   },
   "outputs": [
    {
     "data": {
      "text/plain": [
       "['자바', '파이썬', '파이썬', '닷넷']"
      ]
     },
     "execution_count": 67,
     "metadata": {},
     "output_type": "execute_result"
    }
   ],
   "source": [
    "# 언어 조회\n",
    "members['언어']"
   ]
  },
  {
   "cell_type": "markdown",
   "metadata": {
    "id": "_-2mJo9Vnluk"
   },
   "source": [
    "## 6.3.딕셔너리 변경, 추가와 삭제\n",
    "\n",
    "- 인덱스 대신 Key로 찾아 변경한다는 것 외에는 리스트와 같습니다."
   ]
  },
  {
   "cell_type": "markdown",
   "metadata": {
    "id": "5BJZE4AY8LbL"
   },
   "source": [
    "**1) 변경, 추가**"
   ]
  },
  {
   "cell_type": "code",
   "execution_count": 69,
   "metadata": {
    "id": "_6zJd-ELnr16"
   },
   "outputs": [
    {
     "data": {
      "text/plain": [
       "{'이름': '홍길동', '나이': 20}"
      ]
     },
     "execution_count": 69,
     "metadata": {},
     "output_type": "execute_result"
    }
   ],
   "source": [
    "# 딕셔너리 만들기\n",
    "member = {'이름': '홍길동',\n",
    "          '나이': 20}\n",
    "\n",
    "# 확인\n",
    "member"
   ]
  },
  {
   "cell_type": "code",
   "execution_count": 71,
   "metadata": {
    "id": "1xzIuJp2wu80"
   },
   "outputs": [
    {
     "data": {
      "text/plain": [
       "{'이름': '홍길동', '나이': 30}"
      ]
     },
     "execution_count": 71,
     "metadata": {},
     "output_type": "execute_result"
    }
   ],
   "source": [
    "# 딕셔너리 요소 값 변경(나이 = 30)\n",
    "member['나이'] = 30\n",
    "\n",
    "# 확인\n",
    "member"
   ]
  },
  {
   "cell_type": "markdown",
   "metadata": {
    "id": "46NS0seiw0Mj"
   },
   "source": [
    "\n",
    "- 없는 Key로 변경하면 Key:Value 형태로 추가됩니다."
   ]
  },
  {
   "cell_type": "code",
   "execution_count": 73,
   "metadata": {
    "id": "klhoX9lAwv03"
   },
   "outputs": [
    {
     "data": {
      "text/plain": [
       "{'이름': '홍길동', '나이': 30, '취미': ['독서', '여행']}"
      ]
     },
     "execution_count": 73,
     "metadata": {},
     "output_type": "execute_result"
    }
   ],
   "source": [
    "# 딕셔너리에 요소 추가(취미 = 독서, 여행)\n",
    "member['취미'] = ['독서','여행']\n",
    "\n",
    "# 확인\n",
    "member"
   ]
  },
  {
   "cell_type": "markdown",
   "metadata": {
    "id": "sitF7cq38LbM"
   },
   "source": [
    "**2) 삭제**"
   ]
  },
  {
   "cell_type": "code",
   "execution_count": 75,
   "metadata": {
    "id": "pbPO40S4oheT"
   },
   "outputs": [
    {
     "data": {
      "text/plain": [
       "{'이름': '홍길동', '나이': 20, '지역': '서울', '성별': 'M', '등급': 'Gold'}"
      ]
     },
     "execution_count": 75,
     "metadata": {},
     "output_type": "execute_result"
    }
   ],
   "source": [
    "# 딕셔너리 만들기\n",
    "member = {'이름': '홍길동',\n",
    "          '나이': 20,\n",
    "          '지역':'서울',\n",
    "          '성별': 'M',\n",
    "          '등급': 'Gold'}\n",
    "\n",
    "# 확인\n",
    "member"
   ]
  },
  {
   "cell_type": "markdown",
   "metadata": {
    "id": "kAy6J9P3iyBW"
   },
   "source": [
    "- **del** 문으로 Key를 지정해 해당 요소를 삭제합니다."
   ]
  },
  {
   "cell_type": "code",
   "execution_count": 78,
   "metadata": {
    "id": "DNJ2VQUJxdrU"
   },
   "outputs": [
    {
     "data": {
      "text/plain": [
       "{'이름': '홍길동', '지역': '서울', '성별': 'M', '등급': 'Gold'}"
      ]
     },
     "execution_count": 78,
     "metadata": {},
     "output_type": "execute_result"
    }
   ],
   "source": [
    "# 지정한 요소 삭제\n",
    "del member['나이']\n",
    "\n",
    "# 확인\n",
    "member"
   ]
  },
  {
   "cell_type": "markdown",
   "metadata": {
    "id": "cGsN5AEhhoD1"
   },
   "source": [
    "- **pop()** 메서드를 사용하면 Key를 지정해 요소를 삭제할 수 있습니다.\n",
    "- 그리고 삭제된 요소의 Value를 반환받습니다."
   ]
  },
  {
   "cell_type": "code",
   "execution_count": 81,
   "metadata": {
    "id": "9OjtaebSnpKz"
   },
   "outputs": [
    {
     "name": "stdout",
     "output_type": "stream",
     "text": [
      "서울\n",
      "{'이름': '홍길동', '성별': 'M', '등급': 'Gold'}\n"
     ]
    }
   ],
   "source": [
    "# 지정한 요소 삭제\n",
    "del_member = member.pop('지역')\n",
    "\n",
    "# 확인\n",
    "print(del_member)\n",
    "print(member)"
   ]
  },
  {
   "cell_type": "markdown",
   "metadata": {
    "id": "ZGLtcj0ZiOfD"
   },
   "source": [
    "- **popitem()** 메서드로 Key 지정 없이 마지막 요소부터 삭제할 수 있습니다.\n",
    "- 그리고 삭제된 요소의 key와 Value를 튜플 형태로 반환받습니다."
   ]
  },
  {
   "cell_type": "code",
   "execution_count": 84,
   "metadata": {
    "id": "04SGmbKMoUJF"
   },
   "outputs": [
    {
     "name": "stdout",
     "output_type": "stream",
     "text": [
      "('등급', 'Gold')\n",
      "{'이름': '홍길동', '성별': 'M'}\n"
     ]
    }
   ],
   "source": [
    "# 임의 요소 삭제\n",
    "del_member = member.popitem()\n",
    "\n",
    "# 확인\n",
    "print(del_member)\n",
    "print(member)"
   ]
  },
  {
   "cell_type": "markdown",
   "metadata": {
    "id": "4s1bqYESi0vX"
   },
   "source": [
    "- 모든 요소 삭제는 **딕셔너리 = { }** 형태로 수행합니다."
   ]
  },
  {
   "cell_type": "code",
   "execution_count": 87,
   "metadata": {
    "id": "WnP0lzCYJj2Q"
   },
   "outputs": [
    {
     "data": {
      "text/plain": [
       "{}"
      ]
     },
     "execution_count": 87,
     "metadata": {},
     "output_type": "execute_result"
    }
   ],
   "source": [
    "# 딕셔너리에서 모든 요소 삭제\n",
    "member= {}\n",
    "\n",
    "# 확인\n",
    "member"
   ]
  },
  {
   "cell_type": "markdown",
   "metadata": {
    "id": "Hy2LyjoPqNpp"
   },
   "source": [
    "## 6.4.딕셔너리 관련 메서드\n",
    "\n",
    "- 딕셔너리 관련 메서드를 살펴봅니다."
   ]
  },
  {
   "cell_type": "markdown",
   "metadata": {
    "id": "OJ_pM8PSqbY0"
   },
   "source": [
    "**1) Key 확인**\n",
    "\n",
    "- **keys()** 메서드를 사용해 Key 정보를 확인합니다.\n",
    "- 모든 Key를 요소로 갖는 dict_keys 개체를 반환합니다."
   ]
  },
  {
   "cell_type": "code",
   "execution_count": 104,
   "metadata": {
    "id": "Gr2yT3iBqRdB"
   },
   "outputs": [
    {
     "data": {
      "text/plain": [
       "{'이름': '홍길동', '취미': ['독서', '여행', '걷기']}"
      ]
     },
     "execution_count": 104,
     "metadata": {},
     "output_type": "execute_result"
    }
   ],
   "source": [
    "# 딕셔너리 만들기\n",
    "member = {'이름': '홍길동',\n",
    "          '취미': ['독서', '여행', '걷기']}\n",
    "\n",
    "# 확인\n",
    "member"
   ]
  },
  {
   "cell_type": "code",
   "execution_count": 92,
   "metadata": {
    "id": "TgskSq0zyq_3"
   },
   "outputs": [
    {
     "data": {
      "text/plain": [
       "dict_keys(['이름', '취미'])"
      ]
     },
     "execution_count": 92,
     "metadata": {},
     "output_type": "execute_result"
    }
   ],
   "source": [
    "# Key 확인\n",
    "member.keys()"
   ]
  },
  {
   "cell_type": "code",
   "execution_count": 100,
   "metadata": {
    "id": "lRL7mDJWdBeM"
   },
   "outputs": [
    {
     "data": {
      "text/plain": [
       "['이름', '취미']"
      ]
     },
     "execution_count": 100,
     "metadata": {},
     "output_type": "execute_result"
    }
   ],
   "source": [
    "# Key만 뽑아 리스트 만들기\n",
    "member_keys = list(member.keys())\n",
    "\n",
    "# 확인\n",
    "member_keys"
   ]
  },
  {
   "cell_type": "markdown",
   "metadata": {
    "id": "MJeKOA0bq8p5"
   },
   "source": [
    "**2) Value 확인**\n",
    "\n",
    "- **values()** 메서드를 사용해 Value 정보를 확인합니다.\n",
    "- 모든 Value를 요소로 갖는 dict_values 개체를 반환합니다."
   ]
  },
  {
   "cell_type": "code",
   "execution_count": 106,
   "metadata": {
    "id": "OVrXgc7NrMWj"
   },
   "outputs": [
    {
     "data": {
      "text/plain": [
       "dict_values(['홍길동', ['독서', '여행', '걷기']])"
      ]
     },
     "execution_count": 106,
     "metadata": {},
     "output_type": "execute_result"
    }
   ],
   "source": [
    "# Value 확인\n",
    "member.values()"
   ]
  },
  {
   "cell_type": "code",
   "execution_count": 110,
   "metadata": {
    "id": "1s1RaRYJd62r"
   },
   "outputs": [
    {
     "data": {
      "text/plain": [
       "['홍길동', ['독서', '여행', '걷기']]"
      ]
     },
     "execution_count": 110,
     "metadata": {},
     "output_type": "execute_result"
    }
   ],
   "source": [
    "# Value만 뽑아 리스트 만들기\n",
    "member_values = list(member.values())\n",
    "\n",
    "# 확인\n",
    "member_values"
   ]
  },
  {
   "cell_type": "markdown",
   "metadata": {
    "id": "EHwjcqokrZ_v"
   },
   "source": [
    "**3) Key, Value 확인**\n",
    "- **items()** 메서드를 사용해 Key와 Value 정보를 확인합니다.\n",
    "- 모든 key와 value를 (key, value) 형태로 갖는 dict_items 개체를 반환합니다."
   ]
  },
  {
   "cell_type": "code",
   "execution_count": 112,
   "metadata": {
    "id": "INOJU7iproaq"
   },
   "outputs": [
    {
     "data": {
      "text/plain": [
       "dict_items([('이름', '홍길동'), ('취미', ['독서', '여행', '걷기'])])"
      ]
     },
     "execution_count": 112,
     "metadata": {},
     "output_type": "execute_result"
    }
   ],
   "source": [
    "# Key, Value 확인\n",
    "member.items()"
   ]
  },
  {
   "cell_type": "markdown",
   "metadata": {
    "id": "AmPbOimCrtwE"
   },
   "source": [
    "**4) 모든 요소 삭제**\n",
    "- **clear()** 메서드를 사용해 모든 요소를 삭제합니다."
   ]
  },
  {
   "cell_type": "code",
   "execution_count": 114,
   "metadata": {
    "id": "0XPMiJeIr24o"
   },
   "outputs": [
    {
     "data": {
      "text/plain": [
       "{}"
      ]
     },
     "execution_count": 114,
     "metadata": {},
     "output_type": "execute_result"
    }
   ],
   "source": [
    "# 모든 요소 삭제\n",
    "member.clear()\n",
    "\n",
    "# 확인\n",
    "member"
   ]
  },
  {
   "cell_type": "markdown",
   "metadata": {
    "id": "oic7yU__sBLE"
   },
   "source": [
    "**5) 찾기(없을 때 대신할 값 지정)**\n",
    "\n",
    "- **get()** 메서드를 사용해 Key를 지정해 Value를 찾을 수 있습니다.\n",
    "- Key로 Value를 찾을 수 없을 때 대신 반환할 값을 지정할 수 있습니다."
   ]
  },
  {
   "cell_type": "code",
   "execution_count": 124,
   "metadata": {
    "id": "aEhENYtjsORr"
   },
   "outputs": [
    {
     "data": {
      "text/plain": [
       "{'이름': '홍길동', '취미': ['독서', '여행', '걷기']}"
      ]
     },
     "execution_count": 124,
     "metadata": {},
     "output_type": "execute_result"
    }
   ],
   "source": [
    "# 딕셔너리 만들기\n",
    "member = {'이름': '홍길동', '취미': ['독서', '여행', '걷기']}\n",
    "\n",
    "# 확인\n",
    "member"
   ]
  },
  {
   "cell_type": "code",
   "execution_count": 126,
   "metadata": {
    "id": "RMmMxmvjy_Vo"
   },
   "outputs": [
    {
     "name": "stdout",
     "output_type": "stream",
     "text": [
      "홍길동\n",
      "홍길동\n"
     ]
    }
   ],
   "source": [
    "# 이름 확인\n",
    "print(member.get('이름'))  # member['이름']과 같은 결과 \n",
    "print(member['이름'])"
   ]
  },
  {
   "cell_type": "code",
   "execution_count": 132,
   "metadata": {
    "id": "nhOMqcgBsR66"
   },
   "outputs": [
    {
     "name": "stdout",
     "output_type": "stream",
     "text": [
      "None\n"
     ]
    },
    {
     "ename": "KeyError",
     "evalue": "'이메일'",
     "output_type": "error",
     "traceback": [
      "\u001b[1;31m---------------------------------------------------------------------------\u001b[0m",
      "\u001b[1;31mKeyError\u001b[0m                                  Traceback (most recent call last)",
      "Cell \u001b[1;32mIn[132], line 3\u001b[0m\n\u001b[0;32m      1\u001b[0m \u001b[38;5;66;03m# 이메일 확인\u001b[39;00m\n\u001b[0;32m      2\u001b[0m \u001b[38;5;28mprint\u001b[39m(member\u001b[38;5;241m.\u001b[39mget(\u001b[38;5;124m'\u001b[39m\u001b[38;5;124m이메일\u001b[39m\u001b[38;5;124m'\u001b[39m))  \u001b[38;5;66;03m# member['이메일']과 같은 결과 \u001b[39;00m\n\u001b[1;32m----> 3\u001b[0m \u001b[38;5;28mprint\u001b[39m(member[\u001b[38;5;124m'\u001b[39m\u001b[38;5;124m이메일\u001b[39m\u001b[38;5;124m'\u001b[39m])\n",
      "\u001b[1;31mKeyError\u001b[0m: '이메일'"
     ]
    }
   ],
   "source": [
    "# 이메일 확인\n",
    "print(member.get('이메일'))  # member['이메일']과 같은 결과 \n",
    "print(member['이메일'])"
   ]
  },
  {
   "cell_type": "markdown",
   "metadata": {
    "id": "_WWT4qWlsipF"
   },
   "source": [
    "- 대응되는 Value를 찾지 못할 경우 반환되는 값을 '없음'으로 지정해봅니다."
   ]
  },
  {
   "cell_type": "code",
   "execution_count": 134,
   "metadata": {
    "id": "Srn8X4aVsfEC"
   },
   "outputs": [
    {
     "data": {
      "text/plain": [
       "'없음'"
      ]
     },
     "execution_count": 134,
     "metadata": {},
     "output_type": "execute_result"
    }
   ],
   "source": [
    "# 이메일 확인, 없으면 '없음' 표시\n",
    "member.get('이메일', '없음')\n",
    "# member['이메일'] = '없음'"
   ]
  },
  {
   "cell_type": "markdown",
   "metadata": {
    "id": "sLM79gotJSPB"
   },
   "source": [
    "<img src='https://raw.githubusercontent.com/jangrae/img/master/practice_01.png' width=120 align=\"left\"/>"
   ]
  },
  {
   "cell_type": "markdown",
   "metadata": {
    "id": "fJVOJxdpJSPG"
   },
   "source": [
    "[문1] 다음 구문을 파악하고 실행해서 3개의 딕셔너리를 만드세요."
   ]
  },
  {
   "cell_type": "code",
   "execution_count": 136,
   "metadata": {
    "id": "rFeDJhXowwAa"
   },
   "outputs": [
    {
     "name": "stdout",
     "output_type": "stream",
     "text": [
      "{'no': 1, 'name': '홍길동', 'score': [92, 96, 98]}\n",
      "{'no': 2, 'name': '한사랑', 'score': [98, 64, 100]}\n",
      "{'no': 3, 'name': '일지매', 'score': [88, 84, 92]}\n"
     ]
    }
   ],
   "source": [
    "# 딕셔너리 만들기\n",
    "stu01 = {\n",
    "    'no': 1,\n",
    "    'name': '홍길동',\n",
    "    'score': [92, 96, 98]\n",
    "}\n",
    "stu02 = {\n",
    "    'no': 2,\n",
    "    'name': '한사랑',\n",
    "    'score': [98, 64, 100]\n",
    "}\n",
    "stu03 = {\n",
    "    'no': 3,\n",
    "    'name': '일지매',\n",
    "    'score': [88, 84, 92]\n",
    "}\n",
    "\n",
    "# 확인\n",
    "print(stu01)\n",
    "print(stu02)\n",
    "print(stu03)"
   ]
  },
  {
   "cell_type": "markdown",
   "metadata": {
    "id": "KMsplMPA0TH9"
   },
   "source": [
    "[문2] 각 학생들의 번호에 10씩 더하세요."
   ]
  },
  {
   "cell_type": "code",
   "execution_count": 139,
   "metadata": {
    "id": "UMGenZci0TH9"
   },
   "outputs": [
    {
     "name": "stdout",
     "output_type": "stream",
     "text": [
      "{'no': 11, 'name': '홍길동', 'score': [92, 96, 98]}\n",
      "{'no': 12, 'name': '한사랑', 'score': [98, 64, 100]}\n",
      "{'no': 13, 'name': '일지매', 'score': [88, 84, 92]}\n"
     ]
    }
   ],
   "source": [
    "# 번호 + 10\n",
    "\n",
    "stu01['no'] += 10\n",
    "stu02['no'] += 10\n",
    "stu03['no'] += 10\n",
    "\n",
    "\n",
    "# 확인\n",
    "print(stu01)\n",
    "print(stu02)\n",
    "print(stu03)"
   ]
  },
  {
   "cell_type": "markdown",
   "metadata": {
    "id": "3tbbGARd0TH-"
   },
   "source": [
    "[문3] 각 학생별로 점수 평균을 구하세요."
   ]
  },
  {
   "cell_type": "code",
   "execution_count": 149,
   "metadata": {
    "id": "XqH0Orkw0TH-"
   },
   "outputs": [
    {
     "name": "stdout",
     "output_type": "stream",
     "text": [
      "95.33333333333333\n",
      "87.33333333333333\n",
      "88.0\n"
     ]
    }
   ],
   "source": [
    "# 평균 구하기\n",
    "stu01_mean = sum(stu01['score']) / len(stu01['score'])\n",
    "stu02_mean = sum(stu02['score']) / len(stu02['score'])\n",
    "stu03_mean = sum(stu03['score']) / len(stu03['score'])\n",
    "\n",
    "# 확인\n",
    "print(stu01_mean)\n",
    "print(stu02_mean)\n",
    "print(stu03_mean)"
   ]
  },
  {
   "cell_type": "markdown",
   "metadata": {
    "id": "9ZSJAl1t0TH_"
   },
   "source": [
    "[문4] 아래 out을 이용하여 stu01, stu02, stu03의 번호, 이름, 평균점수를 출력하세요."
   ]
  },
  {
   "cell_type": "code",
   "execution_count": 152,
   "metadata": {
    "id": "iaArw4E5FQqf"
   },
   "outputs": [
    {
     "name": "stdout",
     "output_type": "stream",
     "text": [
      "번호: 11, 이름: 홍길동, 평균점수: 95.33333333333333\n",
      "번호: 12, 이름: 한사랑, 평균점수: 87.33333333333333\n",
      "번호: 13, 이름: 일지매, 평균점수: 88.0\n"
     ]
    }
   ],
   "source": [
    "# 출력 형태\n",
    "out = '번호: {}, 이름: {}, 평균점수: {}'\n",
    "\n",
    "# 출력\n",
    "print(out.format(stu01['no'],stu01['name'],stu01_mean))\n",
    "print(out.format(stu02['no'],stu02['name'],stu02_mean))\n",
    "print(out.format(stu03['no'],stu03['name'],stu03_mean))\n"
   ]
  },
  {
   "cell_type": "markdown",
   "metadata": {
    "id": "Ql3eG_QGQN5e"
   },
   "source": [
    "[문5] 평균점수는 소수점 이하 2자리만 보이게 수정해서 출력하세요."
   ]
  },
  {
   "cell_type": "code",
   "execution_count": 155,
   "metadata": {
    "id": "gJxnzsLvQGzO"
   },
   "outputs": [
    {
     "name": "stdout",
     "output_type": "stream",
     "text": [
      "번호: 11, 이름: 홍길동, 평균점수: 95.33\n",
      "번호: 12, 이름: 한사랑, 평균점수: 87.33\n",
      "번호: 13, 이름: 일지매, 평균점수: 88.00\n"
     ]
    }
   ],
   "source": [
    "# 출력 형태\n",
    "out = '번호: {}, 이름: {}, 평균점수: {:.2f}'\n",
    "\n",
    "# 출력\n",
    "print(out.format(stu01['no'],stu01['name'],stu01_mean))\n",
    "print(out.format(stu02['no'],stu02['name'],stu02_mean))\n",
    "print(out.format(stu03['no'],stu03['name'],stu03_mean))\n",
    "\n",
    "\n"
   ]
  },
  {
   "cell_type": "markdown",
   "metadata": {
    "id": "weT-RX0ffGPp"
   },
   "source": [
    "<center><img src='https://raw.githubusercontent.com/Jangrae/img/master/fighting.png' width=350/></center>"
   ]
  }
 ],
 "metadata": {
  "colab": {
   "provenance": []
  },
  "kernelspec": {
   "display_name": "Python 3 (ipykernel)",
   "language": "python",
   "name": "python3"
  },
  "language_info": {
   "codemirror_mode": {
    "name": "ipython",
    "version": 3
   },
   "file_extension": ".py",
   "mimetype": "text/x-python",
   "name": "python",
   "nbconvert_exporter": "python",
   "pygments_lexer": "ipython3",
   "version": "3.12.4"
  }
 },
 "nbformat": 4,
 "nbformat_minor": 4
}
