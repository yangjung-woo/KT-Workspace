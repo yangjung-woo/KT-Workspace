{
 "cells": [
  {
   "cell_type": "markdown",
   "id": "a6662e55",
   "metadata": {
    "id": "a6662e55"
   },
   "source": [
    "<center><img src='https://raw.githubusercontent.com/Jangrae/img/master/title.png' width=500/></center>"
   ]
  },
  {
   "cell_type": "markdown",
   "id": "29887f51",
   "metadata": {
    "id": "29887f51"
   },
   "source": [
    "<center><img src='https://raw.githubusercontent.com/Jangrae/img/master/practice.png' width=300/></center>"
   ]
  },
  {
   "cell_type": "markdown",
   "id": "a16b2654",
   "metadata": {
    "id": "a16b2654"
   },
   "source": [
    "# 실습 #1: 엑셀 파일 다루기 (1)"
   ]
  },
  {
   "cell_type": "markdown",
   "id": "80085550",
   "metadata": {
    "id": "80085550"
   },
   "source": [
    "1) Fruit.xlsx 파일을 열어 시트 이름을 확인하세요."
   ]
  },
  {
   "cell_type": "code",
   "execution_count": null,
   "id": "f250c4bc",
   "metadata": {
    "id": "f250c4bc"
   },
   "outputs": [],
   "source": [
    "\n",
    "\n",
    "\n"
   ]
  },
  {
   "cell_type": "markdown",
   "id": "a5c162ea",
   "metadata": {
    "id": "a5c162ea"
   },
   "source": [
    "2) 셀 이름으로 Sheet2 시트의 A1, A2, A3 셀 값을 확인하세요."
   ]
  },
  {
   "cell_type": "code",
   "execution_count": null,
   "id": "7415a66b",
   "metadata": {
    "id": "7415a66b"
   },
   "outputs": [],
   "source": [
    "\n",
    "\n",
    "\n"
   ]
  },
  {
   "cell_type": "markdown",
   "id": "e4b3ee68",
   "metadata": {
    "id": "e4b3ee68"
   },
   "source": [
    "3) cell(행, 열).value 구문을 사용해 (1,1), (1,2), (2,1), (2,2) 셀을 다음과 같이 표시되게 확인하세요.\n",
    "\n",
    "        Apple red\n",
    "        Banana yellow"
   ]
  },
  {
   "cell_type": "code",
   "execution_count": null,
   "id": "1cb680c4",
   "metadata": {
    "id": "1cb680c4"
   },
   "outputs": [],
   "source": [
    "\n",
    "\n",
    "\n"
   ]
  },
  {
   "cell_type": "markdown",
   "id": "78dacce5",
   "metadata": {
    "id": "78dacce5"
   },
   "source": [
    "4) Sheet2 시트의 데이터 시작과 끝의 행, 열 번호를 확인해 보세요."
   ]
  },
  {
   "cell_type": "code",
   "execution_count": null,
   "id": "5c4b27b6",
   "metadata": {
    "id": "5c4b27b6"
   },
   "outputs": [],
   "source": [
    "\n",
    "\n",
    "\n"
   ]
  },
  {
   "cell_type": "markdown",
   "id": "fa936313",
   "metadata": {
    "id": "fa936313"
   },
   "source": [
    "5) Sheet2 시트 첫 행의 Apple을 Pineapple로, red를 yellow로 수정해 보세요(단, 저장하지 마세요)."
   ]
  },
  {
   "cell_type": "code",
   "execution_count": null,
   "id": "8be0b61c",
   "metadata": {
    "id": "8be0b61c"
   },
   "outputs": [],
   "source": [
    "\n",
    "\n",
    "\n"
   ]
  },
  {
   "cell_type": "markdown",
   "id": "13532b14",
   "metadata": {
    "id": "13532b14"
   },
   "source": [
    "6) 마지막 행에 'Orange', 'orange' 를 추가해 보세요(단, 저장하지 마세요)."
   ]
  },
  {
   "cell_type": "code",
   "execution_count": null,
   "id": "0cd059ef",
   "metadata": {
    "id": "0cd059ef"
   },
   "outputs": [],
   "source": [
    "\n",
    "\n",
    "\n"
   ]
  },
  {
   "cell_type": "markdown",
   "id": "01ca501e",
   "metadata": {
    "id": "01ca501e"
   },
   "source": [
    "7) Fruit2.xlsx 이름으로 저장하고 엑셀로 파일을 열어 내용을 확인하세요."
   ]
  },
  {
   "cell_type": "code",
   "execution_count": null,
   "id": "250bd2bc",
   "metadata": {
    "id": "250bd2bc"
   },
   "outputs": [],
   "source": [
    "\n",
    "\n",
    "\n"
   ]
  },
  {
   "cell_type": "markdown",
   "id": "XT0cWVimafCb",
   "metadata": {
    "id": "XT0cWVimafCb"
   },
   "source": [
    "# 실습 #2: 엑셀 파일 다루기 (2)"
   ]
  },
  {
   "cell_type": "markdown",
   "id": "76432a73",
   "metadata": {
    "id": "76432a73"
   },
   "source": [
    "1) 다음 과일과 색깔을 반복문을 사용해 추가하고 Fruit4.xlsx 파일로 저장하세요.\n",
    "- Strawberry, red\n",
    "- Grape, purple\n",
    "- Kiwi, green"
   ]
  },
  {
   "cell_type": "code",
   "execution_count": null,
   "id": "4a7366a0",
   "metadata": {
    "id": "4a7366a0"
   },
   "outputs": [],
   "source": [
    "\n",
    "\n",
    "\n"
   ]
  },
  {
   "cell_type": "markdown",
   "id": "27e6ddf3",
   "metadata": {
    "id": "27e6ddf3"
   },
   "source": [
    "2) Fruit4.xlsx 파일을 열고 Sheet2 세 번째 열에 0부터 6까지 숫자를 저장하고 Fruit5.xlsx 파일로 저장하세요."
   ]
  },
  {
   "cell_type": "code",
   "execution_count": null,
   "id": "9650d31f",
   "metadata": {
    "id": "9650d31f"
   },
   "outputs": [],
   "source": [
    "\n",
    "\n",
    "\n"
   ]
  },
  {
   "cell_type": "markdown",
   "id": "a419ea85",
   "metadata": {
    "id": "a419ea85"
   },
   "source": [
    "3) Fruit5.xlsx 파일을 열고 Sheet2 시트에 대해 다음을 처리한 후 결과를 Fruit6.xlsx 파일로 저장하세요.\n",
    "\n",
    "- 과일 이름을 모두 소문자로 변경합니다.\n",
    "- 색깔은 앞 3자리까지만 표시하도록 변경합니다. (예: yellow → yel)\n",
    "- 힌트: 문자열의 모든 문자를 소문자로 바꾸는 lower() 메서드와 문자열 인덱싱, 슬라이싱을 활용합니다."
   ]
  },
  {
   "cell_type": "code",
   "execution_count": null,
   "id": "23c83d01",
   "metadata": {
    "id": "23c83d01"
   },
   "outputs": [],
   "source": [
    "\n",
    "\n",
    "\n"
   ]
  }
 ],
 "metadata": {
  "colab": {
   "provenance": []
  },
  "kernelspec": {
   "display_name": "Python 3",
   "language": "python",
   "name": "python3"
  },
  "language_info": {
   "codemirror_mode": {
    "name": "ipython",
    "version": 3
   },
   "file_extension": ".py",
   "mimetype": "text/x-python",
   "name": "python",
   "nbconvert_exporter": "python",
   "pygments_lexer": "ipython3",
   "version": "3.9.13"
  }
 },
 "nbformat": 4,
 "nbformat_minor": 5
}
