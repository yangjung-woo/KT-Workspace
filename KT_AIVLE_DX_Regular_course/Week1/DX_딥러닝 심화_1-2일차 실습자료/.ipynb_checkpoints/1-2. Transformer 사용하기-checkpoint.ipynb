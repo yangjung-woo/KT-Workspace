{
 "cells": [
  {
   "cell_type": "markdown",
   "metadata": {
    "id": "cVB9pY-v8uv5"
   },
   "source": [
    "# Transformer 사용하기"
   ]
  },
  {
   "cell_type": "markdown",
   "metadata": {
    "id": "qTa9LlwZD_aa"
   },
   "source": [
    "# 1.환경준비"
   ]
  },
  {
   "cell_type": "markdown",
   "metadata": {
    "id": "Mrd0HsN4cdx9"
   },
   "source": [
    "## (1) 라이브러리 설치"
   ]
  },
  {
   "cell_type": "code",
   "execution_count": 14,
   "metadata": {
    "id": "ZOq8gW-HcgS-"
   },
   "outputs": [
    {
     "name": "stdout",
     "output_type": "stream",
     "text": [
      "Requirement already satisfied: transformers==4.37.1 in c:\\users\\user\\anaconda3\\lib\\site-packages (4.37.1)\n",
      "Requirement already satisfied: filelock in c:\\users\\user\\anaconda3\\lib\\site-packages (from transformers==4.37.1) (3.13.1)\n",
      "Requirement already satisfied: huggingface-hub<1.0,>=0.19.3 in c:\\users\\user\\anaconda3\\lib\\site-packages (from transformers==4.37.1) (0.26.2)\n",
      "Requirement already satisfied: numpy>=1.17 in c:\\users\\user\\anaconda3\\lib\\site-packages (from transformers==4.37.1) (1.26.4)\n",
      "Requirement already satisfied: packaging>=20.0 in c:\\users\\user\\anaconda3\\lib\\site-packages (from transformers==4.37.1) (23.2)\n",
      "Requirement already satisfied: pyyaml>=5.1 in c:\\users\\user\\anaconda3\\lib\\site-packages (from transformers==4.37.1) (6.0.1)\n",
      "Requirement already satisfied: regex!=2019.12.17 in c:\\users\\user\\anaconda3\\lib\\site-packages (from transformers==4.37.1) (2023.10.3)\n",
      "Requirement already satisfied: requests in c:\\users\\user\\anaconda3\\lib\\site-packages (from transformers==4.37.1) (2.32.2)\n",
      "Requirement already satisfied: tokenizers<0.19,>=0.14 in c:\\users\\user\\anaconda3\\lib\\site-packages (from transformers==4.37.1) (0.15.2)\n",
      "Requirement already satisfied: safetensors>=0.3.1 in c:\\users\\user\\anaconda3\\lib\\site-packages (from transformers==4.37.1) (0.4.5)\n",
      "Requirement already satisfied: tqdm>=4.27 in c:\\users\\user\\anaconda3\\lib\\site-packages (from transformers==4.37.1) (4.66.4)\n",
      "Requirement already satisfied: fsspec>=2023.5.0 in c:\\users\\user\\anaconda3\\lib\\site-packages (from huggingface-hub<1.0,>=0.19.3->transformers==4.37.1) (2024.3.1)\n",
      "Requirement already satisfied: typing-extensions>=3.7.4.3 in c:\\users\\user\\anaconda3\\lib\\site-packages (from huggingface-hub<1.0,>=0.19.3->transformers==4.37.1) (4.11.0)\n",
      "Requirement already satisfied: colorama in c:\\users\\user\\anaconda3\\lib\\site-packages (from tqdm>=4.27->transformers==4.37.1) (0.4.6)\n",
      "Requirement already satisfied: charset-normalizer<4,>=2 in c:\\users\\user\\anaconda3\\lib\\site-packages (from requests->transformers==4.37.1) (2.0.4)\n",
      "Requirement already satisfied: idna<4,>=2.5 in c:\\users\\user\\anaconda3\\lib\\site-packages (from requests->transformers==4.37.1) (3.7)\n",
      "Requirement already satisfied: urllib3<3,>=1.21.1 in c:\\users\\user\\anaconda3\\lib\\site-packages (from requests->transformers==4.37.1) (2.2.2)\n",
      "Requirement already satisfied: certifi>=2017.4.17 in c:\\users\\user\\anaconda3\\lib\\site-packages (from requests->transformers==4.37.1) (2024.7.4)\n"
     ]
    }
   ],
   "source": [
    "# colab에서는 이미 설치되어 있지만, 버전을 맞추기 위해서 수정\n",
    "!pip install transformers==4.37.1\n",
    "\n",
    "# 설치 후 세션 다시시작"
   ]
  },
  {
   "cell_type": "markdown",
   "metadata": {
    "id": "gIN5d51gtker"
   },
   "source": [
    "## (2) 라이브러리 Import"
   ]
  },
  {
   "cell_type": "code",
   "execution_count": 16,
   "metadata": {
    "colab": {
     "background_save": true
    },
    "id": "GVvCef6A8uv6"
   },
   "outputs": [],
   "source": [
    "from transformers import pipeline"
   ]
  },
  {
   "cell_type": "markdown",
   "metadata": {
    "id": "wkLeP43LWFxf"
   },
   "source": [
    "# 2.다양한 활용\n",
    "\n",
    "* 영어로 테스트 할 수 있는 예제를 사용해 봅니다."
   ]
  },
  {
   "cell_type": "markdown",
   "metadata": {
    "id": "mnk1VvHm2Ka0"
   },
   "source": [
    "## (1) 감성 분석\n",
    "\n",
    "* transformer로 생성된 감성분석 모델을 다운받아 사용해 봅시다."
   ]
  },
  {
   "cell_type": "code",
   "execution_count": 12,
   "metadata": {
    "id": "Mo3_vyMuSITQ"
   },
   "outputs": [
    {
     "ename": "RuntimeError",
     "evalue": "At least one of TensorFlow 2.0 or PyTorch should be installed. To install TensorFlow 2.0, read the instructions at https://www.tensorflow.org/install/ To install PyTorch, read the instructions at https://pytorch.org/.",
     "output_type": "error",
     "traceback": [
      "\u001b[1;31m---------------------------------------------------------------------------\u001b[0m",
      "\u001b[1;31mRuntimeError\u001b[0m                              Traceback (most recent call last)",
      "Cell \u001b[1;32mIn[12], line 1\u001b[0m\n\u001b[1;32m----> 1\u001b[0m classifier \u001b[38;5;241m=\u001b[39m pipeline(task \u001b[38;5;241m=\u001b[39m \u001b[38;5;124m\"\u001b[39m\u001b[38;5;124msentiment-analysis\u001b[39m\u001b[38;5;124m\"\u001b[39m, model \u001b[38;5;241m=\u001b[39m \u001b[38;5;124m'\u001b[39m\u001b[38;5;124mbert-base-multilingual-cased\u001b[39m\u001b[38;5;124m'\u001b[39m)\n",
      "File \u001b[1;32m~\\anaconda3\\Lib\\site-packages\\transformers\\pipelines\\__init__.py:870\u001b[0m, in \u001b[0;36mpipeline\u001b[1;34m(task, model, config, tokenizer, feature_extractor, image_processor, framework, revision, use_fast, token, device, device_map, torch_dtype, trust_remote_code, model_kwargs, pipeline_class, **kwargs)\u001b[0m\n\u001b[0;32m    868\u001b[0m \u001b[38;5;28;01mif\u001b[39;00m \u001b[38;5;28misinstance\u001b[39m(model, \u001b[38;5;28mstr\u001b[39m) \u001b[38;5;129;01mor\u001b[39;00m framework \u001b[38;5;129;01mis\u001b[39;00m \u001b[38;5;28;01mNone\u001b[39;00m:\n\u001b[0;32m    869\u001b[0m     model_classes \u001b[38;5;241m=\u001b[39m {\u001b[38;5;124m\"\u001b[39m\u001b[38;5;124mtf\u001b[39m\u001b[38;5;124m\"\u001b[39m: targeted_task[\u001b[38;5;124m\"\u001b[39m\u001b[38;5;124mtf\u001b[39m\u001b[38;5;124m\"\u001b[39m], \u001b[38;5;124m\"\u001b[39m\u001b[38;5;124mpt\u001b[39m\u001b[38;5;124m\"\u001b[39m: targeted_task[\u001b[38;5;124m\"\u001b[39m\u001b[38;5;124mpt\u001b[39m\u001b[38;5;124m\"\u001b[39m]}\n\u001b[1;32m--> 870\u001b[0m     framework, model \u001b[38;5;241m=\u001b[39m infer_framework_load_model(\n\u001b[0;32m    871\u001b[0m         model,\n\u001b[0;32m    872\u001b[0m         model_classes\u001b[38;5;241m=\u001b[39mmodel_classes,\n\u001b[0;32m    873\u001b[0m         config\u001b[38;5;241m=\u001b[39mconfig,\n\u001b[0;32m    874\u001b[0m         framework\u001b[38;5;241m=\u001b[39mframework,\n\u001b[0;32m    875\u001b[0m         task\u001b[38;5;241m=\u001b[39mtask,\n\u001b[0;32m    876\u001b[0m         \u001b[38;5;241m*\u001b[39m\u001b[38;5;241m*\u001b[39mhub_kwargs,\n\u001b[0;32m    877\u001b[0m         \u001b[38;5;241m*\u001b[39m\u001b[38;5;241m*\u001b[39mmodel_kwargs,\n\u001b[0;32m    878\u001b[0m     )\n\u001b[0;32m    880\u001b[0m model_config \u001b[38;5;241m=\u001b[39m model\u001b[38;5;241m.\u001b[39mconfig\n\u001b[0;32m    881\u001b[0m hub_kwargs[\u001b[38;5;124m\"\u001b[39m\u001b[38;5;124m_commit_hash\u001b[39m\u001b[38;5;124m\"\u001b[39m] \u001b[38;5;241m=\u001b[39m model\u001b[38;5;241m.\u001b[39mconfig\u001b[38;5;241m.\u001b[39m_commit_hash\n",
      "File \u001b[1;32m~\\anaconda3\\Lib\\site-packages\\transformers\\pipelines\\base.py:229\u001b[0m, in \u001b[0;36minfer_framework_load_model\u001b[1;34m(model, config, model_classes, task, framework, **model_kwargs)\u001b[0m\n\u001b[0;32m    203\u001b[0m \u001b[38;5;250m\u001b[39m\u001b[38;5;124;03m\"\"\"\u001b[39;00m\n\u001b[0;32m    204\u001b[0m \u001b[38;5;124;03mSelect framework (TensorFlow or PyTorch) to use from the `model` passed. Returns a tuple (framework, model).\u001b[39;00m\n\u001b[0;32m    205\u001b[0m \n\u001b[1;32m   (...)\u001b[0m\n\u001b[0;32m    226\u001b[0m \u001b[38;5;124;03m    `Tuple`: A tuple framework, model.\u001b[39;00m\n\u001b[0;32m    227\u001b[0m \u001b[38;5;124;03m\"\"\"\u001b[39;00m\n\u001b[0;32m    228\u001b[0m \u001b[38;5;28;01mif\u001b[39;00m \u001b[38;5;129;01mnot\u001b[39;00m is_tf_available() \u001b[38;5;129;01mand\u001b[39;00m \u001b[38;5;129;01mnot\u001b[39;00m is_torch_available():\n\u001b[1;32m--> 229\u001b[0m     \u001b[38;5;28;01mraise\u001b[39;00m \u001b[38;5;167;01mRuntimeError\u001b[39;00m(\n\u001b[0;32m    230\u001b[0m         \u001b[38;5;124m\"\u001b[39m\u001b[38;5;124mAt least one of TensorFlow 2.0 or PyTorch should be installed. \u001b[39m\u001b[38;5;124m\"\u001b[39m\n\u001b[0;32m    231\u001b[0m         \u001b[38;5;124m\"\u001b[39m\u001b[38;5;124mTo install TensorFlow 2.0, read the instructions at https://www.tensorflow.org/install/ \u001b[39m\u001b[38;5;124m\"\u001b[39m\n\u001b[0;32m    232\u001b[0m         \u001b[38;5;124m\"\u001b[39m\u001b[38;5;124mTo install PyTorch, read the instructions at https://pytorch.org/.\u001b[39m\u001b[38;5;124m\"\u001b[39m\n\u001b[0;32m    233\u001b[0m     )\n\u001b[0;32m    234\u001b[0m \u001b[38;5;28;01mif\u001b[39;00m \u001b[38;5;28misinstance\u001b[39m(model, \u001b[38;5;28mstr\u001b[39m):\n\u001b[0;32m    235\u001b[0m     model_kwargs[\u001b[38;5;124m\"\u001b[39m\u001b[38;5;124m_from_pipeline\u001b[39m\u001b[38;5;124m\"\u001b[39m] \u001b[38;5;241m=\u001b[39m task\n",
      "\u001b[1;31mRuntimeError\u001b[0m: At least one of TensorFlow 2.0 or PyTorch should be installed. To install TensorFlow 2.0, read the instructions at https://www.tensorflow.org/install/ To install PyTorch, read the instructions at https://pytorch.org/."
     ]
    }
   ],
   "source": [
    "classifier = pipeline(task = \"sentiment-analysis\", model = 'bert-base-multilingual-cased')"
   ]
  },
  {
   "cell_type": "code",
   "execution_count": null,
   "metadata": {
    "id": "JHC8YWPa6nyp"
   },
   "outputs": [],
   "source": [
    "# sentiment-analysis 모델 파이프라인 생성\n",
    "# 기본값 : distilbert-base-uncased-finetuned-sst-2-english\n",
    "\n",
    "classifier = pipeline(\"sentiment-analysis\")"
   ]
  },
  {
   "cell_type": "code",
   "execution_count": null,
   "metadata": {
    "id": "c1L1XH1eSY7u"
   },
   "outputs": [],
   "source": [
    "# 모델 사용\n",
    "text = [\"I've been waiting for a HuggingFace course my whole life.\",\n",
    "        \"I hate this so much!\",\n",
    "        \"I have a dream.\",\n",
    "        \"She was so happy.\"]\n",
    "\n",
    "classifier(text)"
   ]
  },
  {
   "cell_type": "markdown",
   "metadata": {
    "id": "OOPCVsi6VsDf"
   },
   "source": [
    "* 영어 문장을 2~3개 추가해서 긍/부정 확률을 확인해 봅시다."
   ]
  },
  {
   "cell_type": "code",
   "execution_count": null,
   "metadata": {
    "id": "3AHNXqLEV11N"
   },
   "outputs": [],
   "source": []
  },
  {
   "cell_type": "code",
   "execution_count": null,
   "metadata": {
    "id": "FvIJeSHmV1jc"
   },
   "outputs": [],
   "source": []
  },
  {
   "cell_type": "markdown",
   "metadata": {
    "id": "dFCCo7K42Ka1"
   },
   "source": [
    "## (2) Zero-shot classification\n",
    "\n",
    "* Target 범주를 정해주고, 분류하도록 해 봅시다."
   ]
  },
  {
   "cell_type": "code",
   "execution_count": null,
   "metadata": {
    "id": "vqxY-_EsU2Ws"
   },
   "outputs": [],
   "source": [
    "# Zero-shot 분류 파이프라인 생성\n",
    "classifier = pipeline(task = \"zero-shot-classification\", model=\"facebook/bart-large-mnli\")"
   ]
  },
  {
   "cell_type": "code",
   "execution_count": null,
   "metadata": {
    "id": "O4ETIziRU2Y5"
   },
   "outputs": [],
   "source": [
    "# 후보 레이블 지정\n",
    "candidate_labels = [\"tech\", \"politics\", \"business\", \"finance\"]"
   ]
  },
  {
   "cell_type": "code",
   "execution_count": null,
   "metadata": {
    "id": "g-RLILJuU2UJ"
   },
   "outputs": [],
   "source": [
    "# 분류하고자 하는 텍스트\n",
    "text = \"This is a tutorial about using transformers in natural language processing.\"\n",
    "\n",
    "# 분류 수행\n",
    "result = classifier(text, candidate_labels)\n",
    "\n",
    "# 결과 출력\n",
    "print(f\"Labels: {result['labels']}\")\n",
    "print(f\"Scores: {result['scores']}\")"
   ]
  },
  {
   "cell_type": "markdown",
   "metadata": {
    "id": "lQY3ZgT0XQut"
   },
   "source": [
    "* 새로운 후보 레이블을 지정하고, 문장을 입력하여 분류를 시도해 봅시다."
   ]
  },
  {
   "cell_type": "code",
   "execution_count": null,
   "metadata": {
    "id": "5R9kv0hcXQaN"
   },
   "outputs": [],
   "source": []
  },
  {
   "cell_type": "code",
   "execution_count": null,
   "metadata": {
    "id": "tqH6GLz6XWnV"
   },
   "outputs": [],
   "source": []
  },
  {
   "cell_type": "markdown",
   "metadata": {
    "id": "bBfJTyilWMLl"
   },
   "source": [
    "## (3) 번역\n",
    "* 한국어를 영어로 번역해 봅시다."
   ]
  },
  {
   "cell_type": "code",
   "execution_count": null,
   "metadata": {
    "id": "SPoCbhZjXAom"
   },
   "outputs": [],
   "source": [
    "# 한국어에서 영어로 번역하는 파이프라인 생성\n",
    "translator_ko_to_en = pipeline(task = \"translation\", model=\"halee9/translation_en_ko\")"
   ]
  },
  {
   "cell_type": "code",
   "execution_count": null,
   "metadata": {
    "id": "aIgP6LHmU2Q1"
   },
   "outputs": [],
   "source": [
    "# 번역하고자 하는 한국어 텍스트\n",
    "text_ko = \"안녕하세요, 오늘 미세먼지가 무척 심하네요.\"\n",
    "\n",
    "# 번역 수행\n",
    "translated_text_en = translator_ko_to_en(text_ko, max_length=60)\n",
    "\n",
    "# 번역된 영어 텍스트 출력\n",
    "print(f\"Translated Text (KO to EN): {translated_text_en[0]['translation_text']}\")"
   ]
  },
  {
   "cell_type": "markdown",
   "metadata": {
    "id": "vMO1OI30Xkqz"
   },
   "source": [
    "* 다양한 한글 문장을 입력해서 영어로 번역해 봅시다.\n",
    "\n",
    "\n",
    "\n"
   ]
  },
  {
   "cell_type": "code",
   "execution_count": null,
   "metadata": {
    "id": "AK375JP7gv43"
   },
   "outputs": [],
   "source": []
  },
  {
   "cell_type": "code",
   "execution_count": null,
   "metadata": {
    "id": "025pM2Imgv19"
   },
   "outputs": [],
   "source": []
  },
  {
   "cell_type": "markdown",
   "metadata": {
    "id": "-PyXq9AZXFn4"
   },
   "source": [
    "## (4) 요약"
   ]
  },
  {
   "cell_type": "markdown",
   "metadata": {
    "id": "kL1LUwM_VKUa"
   },
   "source": [
    "### 1) 영문 텍스트 요약"
   ]
  },
  {
   "cell_type": "code",
   "execution_count": null,
   "metadata": {
    "id": "VWzYBXf5XFn-"
   },
   "outputs": [],
   "source": [
    "# 텍스트 요약 파이프라인 생성, 여기서는 BART 모델을 사용\n",
    "summarizer = pipeline(task = \"summarization\", model=\"facebook/bart-large-cnn\")"
   ]
  },
  {
   "cell_type": "code",
   "execution_count": null,
   "metadata": {
    "id": "ZBSOpR87XFn-"
   },
   "outputs": [],
   "source": [
    "# 요약하고자 하는 여러 문장이나 긴 텍스트\n",
    "text = \"\"\"\n",
    "The global economy is facing unprecedented challenges due to the impact of the COVID-19 pandemic. Many countries are experiencing significant downturns,\n",
    "with industries such as travel, hospitality, and retail particularly affected. Governments around the world are implementing various fiscal and monetary policies\n",
    "in an attempt to mitigate the economic fallout. This includes measures such as lowering interest rates, providing financial assistance to businesses and individuals,\n",
    "and introducing stimulus packages aimed at boosting economic activity. Despite these efforts, the path to recovery is expected to be long and uncertain,\n",
    "with many experts predicting a slow return to pre-pandemic levels of economic growth.\n",
    "\"\"\"\n",
    "\n",
    "# 텍스트 요약 수행\n",
    "summary = summarizer(text, max_length=80, min_length=30, do_sample=False)\n",
    "\n",
    "# 요약된 텍스트 출력\n",
    "print(f\"Summary: {summary[0]['summary_text']}\")"
   ]
  },
  {
   "cell_type": "markdown",
   "metadata": {
    "id": "c4ddWdMNjHTe"
   },
   "source": [
    "* 영문으로 된 기사나 소설 등에서 한 단락을 붙여 놓고 요약을 시도해 봅시다.\n",
    "* 시도해 볼 만한 사이트\n",
    "    * CNN(https://edition.cnn.com/)\n",
    "    * Nature(https://www.nature.com/)\n",
    "    * Gartner(https://www.gartner.com/en)\n",
    "    * 영문소설(https://www.gutenberg.org/)"
   ]
  },
  {
   "cell_type": "code",
   "execution_count": null,
   "metadata": {
    "id": "qJzWNguIlrFM"
   },
   "outputs": [],
   "source": []
  },
  {
   "cell_type": "code",
   "execution_count": null,
   "metadata": {
    "id": "pEYVbGRQlrla"
   },
   "outputs": [],
   "source": []
  },
  {
   "cell_type": "markdown",
   "metadata": {
    "id": "FnPyqGIyVMRL"
   },
   "source": [
    "### 2) 한글 텍스트 요약"
   ]
  },
  {
   "cell_type": "code",
   "execution_count": null,
   "metadata": {
    "id": "krWv0lEM3lfF"
   },
   "outputs": [],
   "source": [
    "# 텍스트 요약 파이프라인 생성, 여기서는 BART 모델을 사용\n",
    "summarizer = pipeline(\"summarization\", model=\"ainize/kobart-news\")"
   ]
  },
  {
   "cell_type": "code",
   "execution_count": null,
   "metadata": {
    "id": "brDnvnTZyb2G"
   },
   "outputs": [],
   "source": [
    "# 소설 상록수 중에서...\n",
    "input_text = '''\n",
    "가을 학기가 되자, ○○일보사에서 주최하는 학생계몽운동에 참가하였던 대원들이 돌아왔다. 오늘 저녁은 각처에서 모여든 대원들을 위로하는 다과회가 그 신문사 누상에서 열린 것이다.\n",
    "오륙백 명이나 수용할 수 있는 대강당에는 전 조선의 방방곡곡으로 흩어져서 한여름 동안 땀을 흘려 가며 활동한 남녀 대원들로 빈틈없이 들어찼다.\n",
    "폭양에 그을은 그들의 시커먼 얼굴! 큰 박덩이만큼씩 한 전등이 드문드문하게 달린 천장에서 내리비치는 불빛이 휘황할수록, 흰 벽을 등지고 앉은 그네들의 얼굴은 더한층 검어 보인다.\n",
    "만호 장안의 별처럼 깔린 등불이 한눈에 내려다보이도록 사방의 유리창을 활짝 열어제쳤건만, 건장한 청년들의 코와 몸에서 풍기는 훈김이 우거진 콩밭 속에를 들어간 것만치나 후끈후끈 끼친다.\n",
    "정각이 되자 P학당의 취주악대는 코넷, 트럼본 같은 번쩍거리는 악기를 들고 연단 앞줄에 가 벌려 선다. 지휘자가 손을 내젓는 대로 힘차게 연주하는 것은 유명한 독일 사람의 작곡인 쌍두취 행진곡(雙頭鷲行進曲)이다. 그 활발하고 장쾌한 멜로디는 여러 사람의 심장까지 울리면서 장내의 공기를 진동시킨다.\n",
    "'''\n",
    "\n",
    "# 텍스트 요약 수행\n",
    "summary = summarizer(input_text)\n",
    "\n",
    "# 요약된 텍스트 출력\n",
    "print(f\"Summary: {summary[0]['summary_text']}\")"
   ]
  },
  {
   "cell_type": "markdown",
   "metadata": {
    "id": "I20B_DMHhHix"
   },
   "source": [
    "* 한글 문장 요약\n",
    "    * 다양한 글을 입력하고 요약을 시도해 봅시다."
   ]
  },
  {
   "cell_type": "code",
   "execution_count": null,
   "metadata": {
    "id": "OdAA6Yt3hAwg"
   },
   "outputs": [],
   "source": []
  },
  {
   "cell_type": "markdown",
   "metadata": {
    "id": "yeaXTXY-e-p8"
   },
   "source": [
    "## (5) 문장 생성"
   ]
  },
  {
   "cell_type": "code",
   "execution_count": null,
   "metadata": {
    "id": "tlEJIBo3e-f3"
   },
   "outputs": [],
   "source": [
    "# 영문 생성 모델 다운로드\n",
    "generator = pipeline(\"text-generation\", model=\"distilgpt2\")"
   ]
  },
  {
   "cell_type": "code",
   "execution_count": null,
   "metadata": {
    "id": "6N95s2hne-Z5"
   },
   "outputs": [],
   "source": [
    "# 문장 생성 실행\n",
    "generator(\"In this course, we will teach you how to\",\n",
    "          max_length=30,                    # 생성할 최대 토큰 수\n",
    "          num_return_sequences=3)           # 생성할 문장"
   ]
  },
  {
   "cell_type": "markdown",
   "metadata": {
    "id": "-ePla98mhN7x"
   },
   "source": [
    "* 영어 문장을 조금 적은 후, 추가 문장을 생성해 봅시다."
   ]
  },
  {
   "cell_type": "code",
   "execution_count": null,
   "metadata": {
    "id": "0HL3oM6bhN72"
   },
   "outputs": [],
   "source": []
  },
  {
   "cell_type": "code",
   "execution_count": null,
   "metadata": {
    "id": "nqTkpA3jhN72"
   },
   "outputs": [],
   "source": []
  },
  {
   "cell_type": "code",
   "execution_count": null,
   "metadata": {
    "id": "JkNafrJHhN72"
   },
   "outputs": [],
   "source": []
  },
  {
   "cell_type": "markdown",
   "metadata": {
    "id": "RJ-AlNmN3RK9"
   },
   "source": [
    "# 3.Hugging Face 에서 직접 사용하기\n",
    "\n",
    "![](https://huggingface.co/front/assets/huggingface_logo-noborder.svg)\n",
    "https://huggingface.co/"
   ]
  },
  {
   "cell_type": "markdown",
   "metadata": {
    "id": "KypHXEIttC41"
   },
   "source": [
    "* 허깅페이스에서\n",
    "* 한국어 요약 모델 **ainize/kobart-news** 를 찾아서\n",
    "* 사용해 봅시다."
   ]
  },
  {
   "cell_type": "code",
   "execution_count": null,
   "metadata": {
    "id": "6T6x2vcm3TZe"
   },
   "outputs": [],
   "source": [
    "from transformers import PreTrainedTokenizerFast, BartForConditionalGeneration\n",
    "\n",
    "#  Load Model and Tokenize\n",
    "tokenizer = PreTrainedTokenizerFast.from_pretrained(\"ainize/kobart-news\")\n",
    "model = BartForConditionalGeneration.from_pretrained(\"ainize/kobart-news\")\n",
    "\n",
    "# Encode Input Text\n",
    "input_text = '''\n",
    "국내 전반적인 경기침체로 상가 건물주의 수익도 전국적인 감소세를 보이고 있는 것으로 나타났다.\n",
    "수익형 부동산 연구개발기업 상가정보연구소는 한국감정원 통계를 분석한 결과 전국 중대형 상가\n",
    "순영업소득(부동산에서 발생하는 임대수입, 기타수입에서 제반 경비를 공제한 순소득)이 1분기 ㎡당\n",
    "3만4200원에서 3분기 2만5800원으로 감소했다고 17일 밝혔다.\n",
    "수도권, 세종시, 지방광역시에서 순영업소득이 가장 많이 감소한 지역은 3분기 1만3100원을 기록한 울산으로, 1분기 1만9100원 대비 31.4% 감소했다.\n",
    "이어 대구(-27.7%), 서울(-26.9%), 광주(-24.9%), 부산(-23.5%), 세종(-23.4%), 대전(-21%), 경기(-19.2%), 인천(-18.5%) 순으로 감소했다.\n",
    "지방 도시의 경우도 비슷했다.\n",
    "경남의 3분기 순영업소득은 1만2800원으로 1분기 1만7400원 대비 26.4% 감소했으며\n",
    "제주(-25.1%), 경북(-24.1%), 충남(-20.9%), 강원(-20.9%), 전남(-20.1%), 전북(-17%), 충북(-15.3%) 등도 감소세를 보였다.\n",
    "조현택 상가정보연구소 연구원은 \"올해 내수 경기의 침체된 분위기가 유지되며\n",
    "상가, 오피스 등을 비롯한 수익형 부동산 시장의 분위기도 경직된 모습을 보였고\n",
    "오피스텔, 지식산업센터 등의 수익형 부동산 공급도 증가해 공실의 위험도 늘었다\"며\n",
    "\"실제 올 3분기 전국 중대형 상가 공실률은 11.5%를 기록하며 1분기 11.3% 대비 0.2% 포인트 증가했다\"고 말했다.\n",
    "그는 \"최근 소셜커머스(SNS를 통한 전자상거래), 음식 배달 중개 애플리케이션, 중고 물품 거래 애플리케이션 등의\n",
    "사용 증가로 오프라인 매장에 영향을 미쳤다\"며 \"향후 지역, 콘텐츠에 따른 상권 양극화 현상은 심화될 것으로 보인다\"고 덧붙였다.\n",
    "'''\n",
    "\n",
    "input_ids = tokenizer.encode(input_text, return_tensors=\"pt\")\n",
    "\n",
    "# Generate Summary Text Ids\n",
    "summary_text_ids = model.generate(\n",
    "    input_ids=input_ids,\n",
    "    bos_token_id=model.config.bos_token_id,\n",
    "    eos_token_id=model.config.eos_token_id,\n",
    "    length_penalty=2.0,\n",
    "    max_length=142,\n",
    "    min_length=56,\n",
    "    num_beams=4,\n",
    ")\n",
    "\n",
    "# Decoding Text\n",
    "print(tokenizer.decode(summary_text_ids[0], skip_special_tokens=True))"
   ]
  },
  {
   "cell_type": "code",
   "execution_count": null,
   "metadata": {
    "id": "A2rjSibvkdme"
   },
   "outputs": [],
   "source": []
  }
 ],
 "metadata": {
  "colab": {
   "provenance": [],
   "toc_visible": true
  },
  "kernelspec": {
   "display_name": "Python 3 (ipykernel)",
   "language": "python",
   "name": "python3"
  },
  "language_info": {
   "codemirror_mode": {
    "name": "ipython",
    "version": 3
   },
   "file_extension": ".py",
   "mimetype": "text/x-python",
   "name": "python",
   "nbconvert_exporter": "python",
   "pygments_lexer": "ipython3",
   "version": "3.12.4"
  }
 },
 "nbformat": 4,
 "nbformat_minor": 4
}
