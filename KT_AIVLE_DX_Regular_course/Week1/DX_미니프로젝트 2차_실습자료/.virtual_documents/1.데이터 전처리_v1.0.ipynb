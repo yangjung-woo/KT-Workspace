

















import pandas as pd
import numpy as np
import matplotlib.pyplot as plt
import seaborn as sns
import scipy.stats as spst
from statsmodels.graphics.mosaicplot import mosaic      #mosaic plot!
import joblib



def categorical_numerical(df, feature, target) : # 범주형 , 숫자형 변수간 검정  (t-test, Anova) / 막대그래프 시각화 / 
    
    '''
    df = 데이터프레임
    feature = 구분 데이터프레임의 컬럼명
    target  = 목표 데이터프레임의 컬럼명
    '''
    
    sns.barplot(x = feature, y = target, data = df)
    plt.rcParams['font.family'] = 'Malgun Gothic'
    plt.grid()
    plt.show()

    an_list = []
    for i in range(df[feature].nunique()) :
        an_list.append(df.loc[df[feature] == i, target])

    if len(an_list) == 2:
    # t-test
        t_stat, p_value = spst.ttest_ind(an_list[0], an_list[1])
        print(f"T-test 결과: t-statistic = {t_stat}, p-value = {p_value}")

    elif len(an_list) > 2:
    # ANOVA
        f_stat, p_value = spst.f_oneway(*an_list)
        print(f"ANOVA 결과: F-statistic = {f_stat}, p-value = {p_value}")

    else:
        print("비교할 그룹이 부족합니다.")
        
def categorical_categorical(df , feature , target): # 범주형 --> 범주형 간 검정 (카이제곱검정) / 모자이크플롯
    '''
    df = 데이터프레임
    feature = 구분 데이터프레임의 컬럼명
    target  = 목표 데이터프레임의 컬럼명
    '''
    mosaic(df, [ feature,target])
    #plt.axhline(1- df[target].mean(), color = 'r')
    plt.rcParams['font.family'] = 'Malgun Gothic'
    plt.grid()
    plt.show()
    
    # 먼저 집계
    table = pd.crosstab(df[target], df[feature])
    print('교차표\n', table)
    print('=' * 100)

    # 카이제곱검정
    result = spst.chi2_contingency(table)
    print('카이제곱통계량', result[0])
    print('p-value', result[1])
    print('자유도', result[2])
    # print('기대빈도\n',result[3])
    
    
    
def numerical_numerical(df, feature , target): # 숫자형 , 숫자형 
    # 산점도 + 회귀분석 선 표기
    
    '''
    df = 데이터프레임
    feature = 구분 데이터프레임의 컬럼명
    target  = 목표 데이터프레임의 컬럼명
    '''
    sns.regplot(x=feature, y = target, data = df)
    plt.rcParams['font.family'] = 'Malgun Gothic'
    plt.grid()
    plt.show()
    print('='*100)
    result = spst.pearsonr(df[feature], df[target])
    print(f'상관계수 : {result[0]}, p-value : {result[1]}')


def numerical_numerical_hitmap(df):
    '''
    df = 데이터프레임
    feature = 구분 데이터프레임의 컬럼명
    target  = 목표 데이터프레임의 컬럼명
    '''
    # 숫자형으로 구성된 데이터들 한해서만 상관분석 수행 
    temp = df.select_dtypes(include=['number'])
    plt.figure(figsize = (8, 8))
    # 한글 폰트 설정: 맑은 고딕
    plt.rcParams['font.family'] = 'Malgun Gothic'
    # 유니코드 마이너스 사용 설정
    plt.rcParams['axes.unicode_minus'] = False
    sns.heatmap(temp.corr(),
            annot = True,            # 숫자(상관계수) 표기 여부
            fmt = '.2f',             # 숫자 포멧 : 소수점 3자리까지 표기
            cmap = 'RdYlBu_r',       # 칼라맵
            vmin = -1, vmax = 1)     # 값의 최소, 최대값
    plt.show()





import matplotlib.font_manager as fm

# 설치된 폰트
font_list = [font.name for font in fm.fontManager.ttflist]

# 맑은고딕이 있는지 확인
'Malgun Gothic' in font_list


plt.rcParams['font.family'] = 'Malgun Gothic'








path = ''








file = 'data.xlsx'


data = pd.read_excel(path + file)











#전체 데이터의 행,열 개수 확인
data.shape


#전체 데이터의 상위 5개 행 확인
data.head()


#전체 데이터의 모든 변수 확인
data.info()

# 단지코드 , 단지명 , 지역 , 건물형태 , 난방바식 , 승강기 설치 여부 ,  # 범주형 변수 
# 총 세대수 , 전용면적별세대수 , 준공일자, 단지내주차면수 , 전용면적 , 공급면적(공용), 임대보증금, 임대료,실차량수 # 수치형 변수 


# NaN 조사
data.isna().sum()





#전체 데이터의 수치형 변수 분포 확인
data.describe().T # 기초통계량을 토해 값들의 대략 분포 살피기


# 단지 수
data['단지명'].unique().shape #331개 


# 범주별 종류 파악하기
print(data['건물형태'].unique())
print(data['난방방식'].unique())
print(data['승강기설치여부'].unique())
print(data['지역'].unique())

# 단지코드 , 단지명 , 지역 , 건물형태 , 난방방식 , 승강기 설치 여부 ,  # 범주형 변수 
# 총 세대수 , 전용면적별세대수 , 준공일자, 단지내주차면수 , 전용면적 , 공급면적(공용), 임대보증금, 임대료,실차량수 # 수치형 변수 









# 분석단위는 어떻게 결정하는게 적절할까요?
# 단지별!








# 전처리 전에 데이터셋 복사
data0 = data.copy()





data0.isna().sum()


# 준공일자에서 준공 연도 추출하기

## 준공일자를 문자열로 변환(.astype('str')하고, 앞에서 4자리를 잘라서(.str.slice()) 저장
data0['준공연도'] = data0['준공일자'].astype('str').str.slice(0,4)
## NaN에 대한 조치 : 삭제? 채우기?  nan , 1900 , 1111 전부 1992년으로 통일
data0.loc[ data0['준공연도'].isin(['nan','1900','1111']), '준공연도' ] ='1992'


## 준공 연도를 다시 int로 변환(.astype('int'))
data0['준공연도'] = data0['준공연도'].astype('int')

data0['준공연도'].unique()











# 제거해야할 값 
# 1. 단지명 , 2. 단지내 주차면수 3. 준공일자 
drop_cols = ['단지명','단지내주차면수','준공일자']
data0.drop(columns= drop_cols , axis= 1 , inplace= True)



data0.head()














# 데이터프레임에서 중복행을 제거하기 : df.drop_duplicates()
duplicate_cols =['단지코드', '총세대수', '지역', '준공연도', '건물형태', '난방방식', '승강기설치여부', '실차량수'] # 단지별 데이터들 
# 데이터 복사 
data01 = data0[duplicate_cols].copy()
data01=data01.drop_duplicates()
data01.head()


# 확인 : 단지 코드가 유니크해야 함.  / 단지코드 - 총세대수가 서로 유일함 
temp = data01.groupby(by= '단지코드', as_index= False)['총세대수'].count()
temp.columns = ['단지코드',	'count']
temp.loc[temp['count']>1] # 위 칼럼으로 중복 행 없음.





detail_cols =['단지코드', '총세대수', '지역', '준공연도', '건물형태', '난방방식', '승강기설치여부', '실차량수']
data02 = data0[detail_cols].copy()
data02=data02.drop_duplicates()
data02.head()














temp = data0.loc[: , ['단지코드','전용면적','전용면적별세대수']] # index = 단지코드 , 전용 면적 별 전용면적별 세대수 를 구하는 문제 
print(temp.head())
# 데이터 분포 확인 
print(temp['전용면적'].min(), temp['전용면적'].max())  #
sns.histplot(x = temp['전용면적'], bins = 12)
plt.show()


# 전용 면적 구간 나누기 
temp['전용면적_cut'] = pd.cut(temp['전용면적'], bins= [10,30,40,50,60,70,80,200]
                          , labels=['전용면적_10_30','전용면적_30_40','전용면적_40_50','전용면적_50_60','전용면적_60_70','전용면적_70_80', '전용면적_80_200'] )





temp.groupby(by =['단지코드', '전용면적_cut'],as_index=False)['전용면적별세대수'].sum() # 집계 


temp2 = temp.groupby(by =['단지코드', '전용면적_cut'],as_index=False)['전용면적별세대수'].sum() # 집계 
temp2





temp3 = temp2.pivot(index='단지코드', columns='전용면적_cut', values='전용면적별세대수') # 전용 면적을 기준으로  전용 면적별 세대수들을 value 칸에 들어가도록 
temp3.reset_index(inplace = True) # 전용면적 Cut index를 해제
temp3.head()





print(data0.head())
temp4 = data0.groupby(by = '단지코드', as_index=False)[['임대보증금','임대료']].mean()
temp4





# 총 면적 = 전용면적 x '전용면적별세대수'
data0['총면적'] = data0['전용면적'] * data0['전용면적별세대수']


temp5 = data0.groupby(by = '단지코드', as_index=False)['총면적'].sum()
temp5














# 
base_data = pd.merge(data01,temp5, how = 'left', on = '단지코드') # temp5 : 단지코드별 총 면적수  
# data01 :['단지코드', '총세대수', '지역', '준공연도', '건물형태', '난방방식', '승강기설치여부', '실차량수'] # 단지별 데이터들 

# temp3: 10~30 / 30~40 / 40~50 / 50~60 .... 80~200 단지 코드 별 전용 면적 구분 
base_data = pd.merge(base_data,temp3, how = 'left', on = '단지코드')








# temp4 = data0.groupby(by = '단지코드', as_index=False)[['임대보증금','임대료']].mean()
# temp4
base_data = pd.merge(base_data,temp4, how = 'left', on = '단지코드')
base_data.head()























import joblib
joblib.dump(base_data, path + 'base_data.pkl')



