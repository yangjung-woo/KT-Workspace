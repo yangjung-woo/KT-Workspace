{
 "cells": [
  {
   "cell_type": "markdown",
   "id": "f0307e2d-9d29-45c1-8d30-03428365725a",
   "metadata": {},
   "source": [
    "## Crawling Naver Stock Repots"
   ]
  },
  {
   "cell_type": "code",
   "execution_count": 1,
   "id": "7d9c0eae-25b2-4cc5-b1b7-3ed3237cc65d",
   "metadata": {},
   "outputs": [],
   "source": [
    "import requests\n",
    "import pandas as pd\n",
    "from bs4 import BeautifulSoup"
   ]
  },
  {
   "cell_type": "markdown",
   "id": "aee96e6d-359f-4edf-b0f2-88f1034287b7",
   "metadata": {},
   "source": [
    "## 1. URL"
   ]
  },
  {
   "cell_type": "code",
   "execution_count": null,
   "id": "996f13b6-3388-498e-aa1f-ff20535683d6",
   "metadata": {},
   "outputs": [],
   "source": []
  },
  {
   "cell_type": "markdown",
   "id": "4152cb9a-400e-4f22-889a-cbc33e3dcf72",
   "metadata": {},
   "source": [
    "## 2. request(URL) > response(HTML)"
   ]
  },
  {
   "cell_type": "code",
   "execution_count": null,
   "id": "d495ccc8-2d97-4086-8f71-ecd732824f7a",
   "metadata": {},
   "outputs": [],
   "source": []
  },
  {
   "cell_type": "markdown",
   "id": "03d9f5b6-3229-4a73-bf8c-037317bc4ab6",
   "metadata": {},
   "source": [
    "## 3. HTML > BeautifulSoup > css-selector > DataFrame"
   ]
  },
  {
   "cell_type": "code",
   "execution_count": null,
   "id": "99e3caf0-2a90-438e-a4a4-be9596ccceaa",
   "metadata": {},
   "outputs": [],
   "source": []
  },
  {
   "cell_type": "markdown",
   "id": "d69d1187-45c9-4441-aa7e-3c959fc00f08",
   "metadata": {},
   "source": [
    "## 4. file download"
   ]
  },
  {
   "cell_type": "code",
   "execution_count": null,
   "id": "231a7f20-da97-4e10-a816-8a80eabb3164",
   "metadata": {},
   "outputs": [],
   "source": []
  }
 ],
 "metadata": {
  "kernelspec": {
   "display_name": "Python 3 (ipykernel)",
   "language": "python",
   "name": "python3"
  },
  "language_info": {
   "codemirror_mode": {
    "name": "ipython",
    "version": 3
   },
   "file_extension": ".py",
   "mimetype": "text/x-python",
   "name": "python",
   "nbconvert_exporter": "python",
   "pygments_lexer": "ipython3",
   "version": "3.11.3"
  }
 },
 "nbformat": 4,
 "nbformat_minor": 5
}
