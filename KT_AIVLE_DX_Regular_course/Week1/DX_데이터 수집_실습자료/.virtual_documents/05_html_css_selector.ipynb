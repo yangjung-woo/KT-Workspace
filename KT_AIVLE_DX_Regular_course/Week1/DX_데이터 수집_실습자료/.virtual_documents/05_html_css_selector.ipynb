






































# contents h1 : inner_1 , inner_2
.contents > h1 , .contents > .txt > h1 # 둘다 결과는 다름 , inner1 , inner2 


# 중간점검

# HTML Tag
# div : 레이아웃, 텍스트 출력
# p,span : 텍스트 출력
# ul , li : 목록 텍스트 출력
# a : 링크(herf) , 텍스트 출력 
# img : 이미지 (src) 출력

# CSS selector
# Select Element
# - Tag: div
# - id : #ds1
# - class : .ds1
# - attr : [cal = 'data']
# Not Selector : div:not(.ds1) : div 태크 엘리먼트 모두 선택 후 클래스 ds1 앨리먼트 제외
# nth - child(n) : div:nth-child(3) : 3번째 트그중 div 태그를 가지면 선택
# selector1 > selector2 : selector1 , selector2에 해당하는 모든 엘리먼트 선택 
# selector1 , selector2 : selector1 선택하고 모든 하위 앨리먼트중 selector2에 해당하는 엘리먼트 선택 
