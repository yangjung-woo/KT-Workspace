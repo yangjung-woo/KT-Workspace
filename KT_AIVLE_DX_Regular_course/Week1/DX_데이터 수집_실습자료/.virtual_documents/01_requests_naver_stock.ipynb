








import pandas as pd 
import requests
import seaborn as sns
import matplotlib.pyplot as plt





url = 'https://m.stock.naver.com/api/index/KOSPI/price?pageSize=10&page=2' 
# F12 > Fetch/XHR 설정 , header, response 정보를 보면 어떤방식으로 데이터를 전송했는지 볼 수 있음 





response = requests.get(url) # Url 이 GET 방식일 경우 
#response  # 200이면 성공 
#response.text 받아온 데이터 확인 
#response = requests.post(url) # Url 이 post 방식일 경우 


dir(response)





data = response.json() # json 형식으로 파싱 , 문자열 >> list 
df = pd.DataFrame(data) # 데이터프레임으로 변경 
df = df[['localTradedAt','closePrice']] # 종가만 수집할거야 
df.tail()





def stock(url ,pagesize = 10, page = 1): # 사이트 주소를 받아 종가만 가져오는 함수 
    # 1. URL
    # 2. Request(URL) > response(JSON(str))
    # 3. Json(str) >  list, dict > DataFrame 
    # url = f'https://m.stock.naver.com/api/index/KOSPI/price?pageSize={pagesize}&page={page}' 
    # 
    response = requests.get(url)
    data = response.json() # json 형식으로 파싱 , 문자열 >> list 
    df = pd.DataFrame(data) # 데이터프레임으로 변경 
    df = df[['localTradedAt','closePrice']] # 종가만 수집할거야 
    return df
    


url = 'https://api.stock.naver.com/stock/GOOGL.O/price?page=1&pageSize=20' # Google 종가 확인 
df = stock(url)
df.head()





def stock(url ,pagesize = 10, page = 1): # 사이트 주소를 받아 종가만 가져오는 함수 
    # 1. URL
    # 2. Request(URL) > response(JSON(str))
    # 3. Json(str) >  list, dict > DataFrame 
    # url = f'https://m.stock.naver.com/api/index/KOSPI/price?pageSize={pagesize}&page={page}' 
    # 
    response = requests.get(url)
    data = response.json() # json 형식으로 파싱 , 문자열 >> list 
    df = pd.DataFrame(data['result']) # 데이터프레임으로 변경 
    df = df[['localTradedAt','closePrice']] # 종가만 수집할거야 
    return df

url = 'https://m.stock.naver.com/front-api/marketIndex/prices?category=exchange&reutersCode=FX_USDKRW&page=2'

won_dol = stock(url)
won_dol





# 시각화 
plt.figure(figsize=(10, 6))
sns.lineplot(x='localTradedAt', y='closePrice', data=won_dol, marker='o', color='b')

# x축 y축 이름 설정 
plt.title('Close Price Over Time', fontsize=16)
plt.xlabel('Date', fontsize=12)
plt.ylabel('Close Price', fontsize=12)

# x축 label 45도 회전 이쁘게 
plt.xticks(rotation=45)

# 그리기 
plt.tight_layout()
plt.show()













