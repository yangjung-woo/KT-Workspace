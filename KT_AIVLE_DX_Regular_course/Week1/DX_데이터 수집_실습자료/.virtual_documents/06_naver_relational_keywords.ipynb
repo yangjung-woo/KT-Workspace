


import pandas as pd
import requests 
from bs4 import BeautifulSoup





url = 'https://search.naver.com/search.naver?where=nexearch&sm=top_hty&fbm=0&ie=utf8&query=%EC%82%BC%EC%84%B1%EC%A0%84%EC%9E%90'





# request로 가져오는 데이터 형식    정적(HTML)/ 동적(Json)
# json 파싱 -> list, dict 형식으로 
# html은  BS(response) , BS(object) , select() 절차를 거쳐야 함 

response = requests.get(url)
print(response)

response.text[:200]





dom = BeautifulSoup(response.text , 'html.parser')
type(dom)





# BS.select(): 여러개의 엘리먼트를 선택해서 리스트로 출력
# BS.select_one() : 한개의 엘리먼트를 선택해서 Tag 객체로 출력
# F12 개발자도구 원하는 span 우클릭 후 copy > copy Selector
#selector = '#fdr-83933419eee944e09a5e325874422408 > div > div > div.YTjuouGD1qgY8irGyYXA.fds-grid-layout-keyword.fds-refine-query-grid > div:nth-child(1) > div:nth-child(1) > a > span'
selector = '.fds-refine-query-grid > div:nth-child(1) > div:nth-child(1) > a > span'# 앞부분을 지운 이유? 앞부분은 동적인 태그이므로 호출마다 달라짐 

dom.select(selector)


selector = '.fds-refine-query-grid a'
elements = dom.select(selector)
len(elements)


element = elements[0]
keyword = element.text
keyword


keywords = [element.text for element in elements]
keywords



