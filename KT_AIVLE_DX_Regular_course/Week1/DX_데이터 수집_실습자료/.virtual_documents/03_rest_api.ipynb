





# request시 API가 필요한 사이트 들이 있음 
# 그래서 요청 request 시 (key = '') 를 헤더에 넣어서 요청해야함 
import pandas as pd
import requests 





# 1. application key 값을 가져옴 
CI = 'yvcSLx3abyub0RHOpsX_'
CS = '8OS8TqGbez'





#2. Url : 네이버는 Document에서 알려줌  , Naver는 Post방식
url = 'https://openapi.naver.com/v1/datalab/search'
#3. requests(url ,param(data), headers(app_)) > response(json)

# 3-1 파라미터 
params = {
        'startDate' :'2018-01-01',
        'endDate'   :'2023-12-31',
        'timeUnit'  :'month',
        'keywordGroups' :[
            {'groupName':'트위터','keywords' :['트위터','트윗']},
            {'groupName':'페이스북','keywords' :['페이스북','페북']},
            {'groupName':'인스타그램','keywords' :['인스타그램','인스타']},
        ],
        
}
# 3-2 헤더 
header = {"X-Naver-Client-Id":CI,
         "X-Naver-Client-Secret": CS,
         "Content-Type": "application/json"}

#--header "X-Naver-Client-Id: YOUR_CLIENT_ID" \
#--header "X-Naver-Client-Secret: YOUR_CLIENT_SECRET" \
#--header "Content-Type: application/json" \

#response = requests.post(url ,data= params , headers = header ) # param에 한글이 있어서 오류
response = requests.post(url ,data= json.dumps(params) , headers = header ) # params에 json.dump 함
response


response.text






