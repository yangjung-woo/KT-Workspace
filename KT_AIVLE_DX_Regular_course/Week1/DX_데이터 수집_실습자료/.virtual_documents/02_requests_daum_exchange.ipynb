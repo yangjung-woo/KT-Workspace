


import pandas as pd
import requests
# 1 URL
url = 'https://finance.daum.net/api/exchanges/summaries'
# 2. get - response
response = requests.get(url)

response


response.text


# 데이터 헤더가 추가되지 않아 권한이 부여되지 않은 상태 
# user agent , referer 를 체크하는 웹서버라면 헤더도 추가해줘야함 
headers ={
    'user-agent': 'Mozilla/5.0 (Windows NT 10.0; Win64; x64) AppleWebKit/537.36 (KHTML, like Gecko) Chrome/129.0.0.0 Safari/537.36',
    'referer':'https://finance.daum.net/exchanges'
}

response = requests.get(url, headers = headers)

response



# 3. json > dataframe
columns = ['symbolCode', 'currencyCode','currencyName','basePrice']
df = pd.DataFrame(response.json()['data'])[columns]
df.head(2)



