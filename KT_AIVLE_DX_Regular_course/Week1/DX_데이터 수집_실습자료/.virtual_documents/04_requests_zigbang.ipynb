


import requests 
import pandas as pd 









addr = '망원동'
url = f'https://apis.zigbang.com/v2/search?leaseYn=N&q={addr}&serviceType=원룸'
response = requests.get(url)
data = response.json()['items'][0]
lat, lng = data['lat'], data['lng']
lat, lng





!pip install geohash2



import geohash2
geohash = geohash2.encode(lat,lng,precision = 5)
geohash





# url이 인코딩되있는 경우 디코딩 과정 필요 
url = 'https://apis.zigbang.com/v2/items/oneroom?geohash=wydm&depositMin=0&rentMin=0&salesTypes[0]=전세&salesTypes[1]=월세&lngEast=126.92783575805556&lngWest=126.78338880611302&latSouth=37.47632007204551&latNorth=37.56054215395402&domain=zigbang&checkAnyItemWithoutFilter=true'

response = requests.get(url)
response


ids = [item['itemId'] for item in response.json()['items']]
len(ids) , ids[:5]
ids=ids[:300]





url = 'https://apis.zigbang.com/v2/items/list'
#params = {'domain':'zigbang', 'item_ids':ids}
params = {'domain':'zigbang', 'item_ids':ids[:5]} # 최그 가져올 수 있는 dic len 이 15개로 한정되었기 때문에 5개만 가져오기 
response = requests.post(url,params)
response 


response.text #


columns = ['item_id', 'deposit', 'rent', 'size_m2', 'address1']
data = response.json()['items']
df = pd.DataFrame(data)[columns]
df.head()


len(ids)


page_block = 15
print(list(range(0,len(ids), 15)))


datalist = []
for start in range(0,len(ids), 15):
    end = start + page_block
    # print(start,end)
    url = 'https://apis.zigbang.com/v2/items/list'
    params = {'domain':'zigbang', 'item_ids':ids[start:end]} # 데이터프레임1개 당 15개씩 
    response = requests.post(url,params)
    columns = ['item_id', 'deposit', 'rent', 'size_m2', 'address1']
    data = response.json()['items']
    df = pd.DataFrame(data)[columns]#
    datalist.append(df)


result = pd.concat(datalist, ignore_index = True)
result






