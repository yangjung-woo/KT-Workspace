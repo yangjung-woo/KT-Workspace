{
 "cells": [
  {
   "cell_type": "markdown",
   "metadata": {
    "tags": []
   },
   "source": [
    "# REST API\n",
    "- Representational State Transfer\n",
    "- Client와 Server가 통신하기 위한 URL 구조에 대한 정의 및 디자인"
   ]
  },
  {
   "cell_type": "markdown",
   "metadata": {
    "id": "apodUP-CYr3_"
   },
   "source": [
    "## 1\\. Naver API\n",
    "- 통합검색어 트렌드 API\n",
    "    - https://datalab.naver.com/\n",
    "    - https://datalab.naver.com/keyword/trendSearch.naver"
   ]
  },
  {
   "cell_type": "code",
   "execution_count": 7,
   "metadata": {},
   "outputs": [],
   "source": [
    "# request시 API가 필요한 사이트 들이 있음 \n",
    "# 그래서 요청 request 시 (key = '') 를 헤더에 넣어서 요청해야함 \n",
    "import pandas as pd\n",
    "import requests "
   ]
  },
  {
   "cell_type": "markdown",
   "metadata": {
    "id": "ZEU1PeYTYr4C"
   },
   "source": [
    "### 1-1. Request Token 얻기\n",
    "- `https://developers.naver.com`\n",
    "- 1. Request Token 얻기 : 애플리케이션등록 -> app_key 획득\n",
    "- 2. app_key를 이용해서 데이터 가져오기"
   ]
  },
  {
   "cell_type": "code",
   "execution_count": 10,
   "metadata": {},
   "outputs": [],
   "source": [
    "# 1. application key 값을 가져옴 \n",
    "CI = 'yvcSLx3abyub0RHOpsX_'\n",
    "CS = '8OS8TqGbez'"
   ]
  },
  {
   "cell_type": "markdown",
   "metadata": {
    "id": "gEKpR7ibYr4G"
   },
   "source": [
    "### 1-2. 통합검색어 트렌드 API\n",
    "- 서비스 : `https://datalab.naver.com/keyword/trendSearch.naver`\n",
    "- 내 애플리케이션 > dss 애플리케이션 > API 설정 > 데이터랩(검색어 트렌드) 추가\n",
    "- 사용법 : `https://developers.naver.com/docs/serviceapi/datalab/search/search.md#통합-검색어-트렌드`"
   ]
  },
  {
   "cell_type": "code",
   "execution_count": 22,
   "metadata": {},
   "outputs": [
    {
     "data": {
      "text/plain": [
       "<Response [200]>"
      ]
     },
     "execution_count": 22,
     "metadata": {},
     "output_type": "execute_result"
    }
   ],
   "source": [
    "#2. Url : 네이버는 Document에서 알려줌  , Naver는 Post방식\n",
    "url = 'https://openapi.naver.com/v1/datalab/search'\n",
    "#3. requests(url ,param(data), headers(app_)) > response(json)\n",
    "\n",
    "# 3-1 파라미터 \n",
    "params = {\n",
    "        'startDate' :'2018-01-01',\n",
    "        'endDate'   :'2023-12-31',\n",
    "        'timeUnit'  :'month',\n",
    "        'keywordGroups' :[\n",
    "            {'groupName':'트위터','keywords' :['트위터','트윗']},\n",
    "            {'groupName':'페이스북','keywords' :['페이스북','페북']},\n",
    "            {'groupName':'인스타그램','keywords' :['인스타그램','인스타']},\n",
    "        ],\n",
    "        \n",
    "}\n",
    "# 3-2 헤더 \n",
    "header = {\"X-Naver-Client-Id\":CI,\n",
    "         \"X-Naver-Client-Secret\": CS,\n",
    "         \"Content-Type\": \"application/json\"}\n",
    "\n",
    "#--header \"X-Naver-Client-Id: YOUR_CLIENT_ID\" \\\n",
    "#--header \"X-Naver-Client-Secret: YOUR_CLIENT_SECRET\" \\\n",
    "#--header \"Content-Type: application/json\" \\\n",
    "\n",
    "#response = requests.post(url ,data= params , headers = header ) # param에 한글이 있어서 오류\n",
    "response = requests.post(url ,data= json.dumps(params) , headers = header ) # params에 json.dump 함\n",
    "response"
   ]
  },
  {
   "cell_type": "code",
   "execution_count": null,
   "metadata": {},
   "outputs": [],
   "source": []
  },
  {
   "cell_type": "code",
   "execution_count": null,
   "metadata": {},
   "outputs": [],
   "source": []
  },
  {
   "cell_type": "code",
   "execution_count": null,
   "metadata": {},
   "outputs": [],
   "source": []
  }
 ],
 "metadata": {
  "colab": {
   "provenance": []
  },
  "kernelspec": {
   "display_name": "Python 3 (ipykernel)",
   "language": "python",
   "name": "python3"
  },
  "language_info": {
   "codemirror_mode": {
    "name": "ipython",
    "version": 3
   },
   "file_extension": ".py",
   "mimetype": "text/x-python",
   "name": "python",
   "nbconvert_exporter": "python",
   "pygments_lexer": "ipython3",
   "version": "3.12.4"
  },
  "toc": {
   "base_numbering": 1,
   "nav_menu": {},
   "number_sections": false,
   "sideBar": true,
   "skip_h1_title": false,
   "title_cell": "Table of Contents",
   "title_sidebar": "Contents",
   "toc_cell": false,
   "toc_position": {},
   "toc_section_display": true,
   "toc_window_display": false
  }
 },
 "nbformat": 4,
 "nbformat_minor": 4
}
