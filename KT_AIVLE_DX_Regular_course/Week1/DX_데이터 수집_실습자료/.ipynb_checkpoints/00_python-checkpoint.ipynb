{
 "cells": [
  {
   "cell_type": "markdown",
   "id": "207dd2bf-6831-4bc9-8ba3-e996ee5c498b",
   "metadata": {},
   "source": [
    "# Python 언어 중요 기초 \n",
    "- 파이썬을 배우는 이유: CPU, RAM , SSD 활용하기 위한 문법\n",
    "1. 변수선언: RAM 사용 문법: 식별자(PEP8)\n",
    "2. 데이터타입: RAM 효율적 사용 문법: int float Boolean , list, tuple, dict , set\n",
    "3. 연산자 : CPU 사용 문법 : 산술 , 비교 , 논리\n",
    "4. 조건문 : 조건에 따라 코드를 실행하는 문법\n",
    "5. 반복문 : 특정 코드를 반복 실행 : while, for , break , continue , range()\n",
    "6. 함수 : 반복 코드 묶어서 작성 실행 : 사용법(함수선언(코드작성) > 함수호출(코드실행)) : def , return , args-params\n",
    "7. 클래스 : 변수, 함수 묶어서 코드 작성 실행 : 객체지향 : class, self , (__init__())\n",
    "8. 모듈 : 변수, 함수, 클래스를 파일(py)로 묶어서 코드를 작성 실행\n",
    "9. 패키지 : 여러개 모듈을 디렉토리로 구분하여 코드 작성 실행 : import , from , as\n",
    "10. 입출력 : RAM(변수) > SSD(파일) :  RAM(변수) < SSD(파일)  : pickle 패키지 사용 "
   ]
  },
  {
   "cell_type": "code",
   "execution_count": 2,
   "id": "6a2aa1fc-6c93-48ad-9928-787f5eff93c6",
   "metadata": {},
   "outputs": [
    {
     "name": "stdout",
     "output_type": "stream",
     "text": [
      "The Zen of Python, by Tim Peters\n",
      "\n",
      "Beautiful is better than ugly.\n",
      "Explicit is better than implicit.\n",
      "Simple is better than complex.\n",
      "Complex is better than complicated.\n",
      "Flat is better than nested.\n",
      "Sparse is better than dense.\n",
      "Readability counts.\n",
      "Special cases aren't special enough to break the rules.\n",
      "Although practicality beats purity.\n",
      "Errors should never pass silently.\n",
      "Unless explicitly silenced.\n",
      "In the face of ambiguity, refuse the temptation to guess.\n",
      "There should be one-- and preferably only one --obvious way to do it.\n",
      "Although that way may not be obvious at first unless you're Dutch.\n",
      "Now is better than never.\n",
      "Although never is often better than *right* now.\n",
      "If the implementation is hard to explain, it's a bad idea.\n",
      "If the implementation is easy to explain, it may be a good idea.\n",
      "Namespaces are one honking great idea -- let's do more of those!\n"
     ]
    }
   ],
   "source": [
    "import this # PEP20 문서에 명시된 '파이썬 철학'"
   ]
  },
  {
   "cell_type": "markdown",
   "id": "b541e09e-b277-466a-adf8-09dd7f4c1138",
   "metadata": {},
   "source": [
    "컴파일러 vs 인터프리터 언어\n",
    "- 컴파일러: 속도 빠름 , 코드실핼 전 빌드 , 컴파일링 과정 필요\n",
    "- 인터프리터: 속도 느림 ,빌드, 컴파일 필요 x -> 코드 바로 실행 가능\n",
    "- 예외?\n",
    "    1. Numpy는 C언어로 작성된 라이브러리라 컴파일 과정을 거치긴 하나 코드를 바로 실행 가능함\n",
    "    2. Pandas: 데이터프레임 전처리\n",
    "    3. Sklearn: 머신러닝 모델링\n",
    "    +) GPU 연산을 위한 라이브러리 (머신러닝, 딥러닝)\n",
    "    4. Tenserflow: \n",
    "    5. Pythrch:"
   ]
  },
  {
   "cell_type": "code",
   "execution_count": null,
   "id": "45f359f8-d764-4bd4-a016-986698c0596e",
   "metadata": {},
   "outputs": [],
   "source": [
    "# Class \n",
    "# - 변수와 함수를 모아서 코드 작성 실행 문법\n",
    "# - 객체지향: 실제세계를 모델링하여 코드 개발 방법론\n",
    "# 함수 사용법: 함수를 선언, 호출     / fit()  ,predict() 함수들을 묶음 , class (fit() , predict() )   > class.fit() \n",
    "# 클래스 사용법 : 클래스선언(코드작성)    > 객체생성(메모리 사용) > 메서드 호출(코드실행) \n",
    "#                 클래스선언(설계도 작성) > 객체생성(제품생산)    > 메서드호출(기능사용)\n",
    "\n"
   ]
  },
  {
   "cell_type": "code",
   "execution_count": 7,
   "id": "8709f319-4709-41f7-b359-452f09c81d9b",
   "metadata": {},
   "outputs": [],
   "source": [
    "#1 클레스 선언(코드 작성)\n",
    "# 은행 계좌 : Acccount : balance , withdraw(), deposit()\n",
    "class Account:\n",
    "    balance = 0\n",
    "    def deposit(self , amount):\n",
    "        self.balance +=amount\n",
    "    def withdraw(self, amount):\n",
    "        self.balance -= amount  "
   ]
  },
  {
   "cell_type": "code",
   "execution_count": 9,
   "id": "061a2028-6063-4cd3-a39f-c35458bb0252",
   "metadata": {},
   "outputs": [
    {
     "data": {
      "text/plain": [
       "['__class__',\n",
       " '__delattr__',\n",
       " '__dict__',\n",
       " '__dir__',\n",
       " '__doc__',\n",
       " '__eq__',\n",
       " '__format__',\n",
       " '__ge__',\n",
       " '__getattribute__',\n",
       " '__getstate__',\n",
       " '__gt__',\n",
       " '__hash__',\n",
       " '__init__',\n",
       " '__init_subclass__',\n",
       " '__le__',\n",
       " '__lt__',\n",
       " '__module__',\n",
       " '__ne__',\n",
       " '__new__',\n",
       " '__reduce__',\n",
       " '__reduce_ex__',\n",
       " '__repr__',\n",
       " '__setattr__',\n",
       " '__sizeof__',\n",
       " '__str__',\n",
       " '__subclasshook__',\n",
       " '__weakref__',\n",
       " 'balance',\n",
       " 'deposit',\n",
       " 'withdraw']"
      ]
     },
     "execution_count": 9,
     "metadata": {},
     "output_type": "execute_result"
    }
   ],
   "source": [
    "# 2. 객체 생성(메모리 사용)   규칙: 함수는 소문자로 시작, 클래스는 대문자로 시작\n",
    "acc1 = Account()  # pd.Dataframe(): <패키지,모듈>.<클래스>()\n",
    "acc2 = Account()\n",
    "\n",
    "# + dir() : 객체에 들어있는 변수 , 메서드 목록 출력 \n",
    "dir(acc1)"
   ]
  },
  {
   "cell_type": "code",
   "execution_count": 11,
   "id": "789b2d47-8d37-4ea8-833b-0a2c84ee220a",
   "metadata": {},
   "outputs": [
    {
     "data": {
      "text/plain": [
       "(-2000, 2000)"
      ]
     },
     "execution_count": 11,
     "metadata": {},
     "output_type": "execute_result"
    }
   ],
   "source": [
    "# 3. 메서드 호출(코드실행)\n",
    "acc1.withdraw(2000)\n",
    "acc2.deposit(2000)\n",
    "acc1.balance , acc2.balance"
   ]
  },
  {
   "cell_type": "code",
   "execution_count": 13,
   "id": "352ed3f1-aa40-4740-a2ed-2c23ae23c928",
   "metadata": {},
   "outputs": [],
   "source": [
    "# 1. 클래스선언 \n",
    "# Marine : health , ap , attack() # 체력 공격력 공격기능\n",
    "class Marine: \n",
    "    health = 40\n",
    "    ap = 5\n",
    "    def attack(self, unit):\n",
    "        unit.health -= self.ap"
   ]
  },
  {
   "cell_type": "code",
   "execution_count": 15,
   "id": "71f53f53-e640-4445-bace-dfa47b02b379",
   "metadata": {},
   "outputs": [
    {
     "data": {
      "text/plain": [
       "(40, 5, 40, 5)"
      ]
     },
     "execution_count": 15,
     "metadata": {},
     "output_type": "execute_result"
    }
   ],
   "source": [
    "# 2. 객체생성\n",
    "m1 = Marine()\n",
    "m2 = Marine()\n",
    "\n",
    "m1.health , m1.ap , m2.health , m2.ap"
   ]
  },
  {
   "cell_type": "code",
   "execution_count": 19,
   "id": "ca7622e2-b8a8-40c0-bcfc-b09e43c564c7",
   "metadata": {},
   "outputs": [
    {
     "data": {
      "text/plain": [
       "35"
      ]
     },
     "execution_count": 19,
     "metadata": {},
     "output_type": "execute_result"
    }
   ],
   "source": [
    "# 3. 메서드호출\n",
    "m1.attack(m2)\n",
    "m2.health"
   ]
  },
  {
   "cell_type": "code",
   "execution_count": null,
   "id": "789ce314-f3ec-4291-8c31-df273b21afaa",
   "metadata": {},
   "outputs": [],
   "source": [
    "# special methods: 특별한 기능을 하는 메서드 \n",
    "# 생성자 메서드: __init__()\n",
    "# - 스페셜 메서드 중에 하나\n",
    "# - 객체를 생성할 때 사용되는(호출) 메서드 \n",
    "# - 메서드르에서 사용되는 변수의 초기값을 검사하고 , 설정하는 용도 \n",
    "\n"
   ]
  },
  {
   "cell_type": "code",
   "execution_count": 23,
   "id": "8baee24a-f0f9-42ad-8d32-679a2605d6d3",
   "metadata": {},
   "outputs": [
    {
     "name": "stdout",
     "output_type": "stream",
     "text": [
      "77\n",
      "2077\n"
     ]
    }
   ],
   "source": [
    "class Account:\n",
    "    #balance = 0\n",
    "    def __init__(self,balance):\n",
    "        self.balance = balance\n",
    "    def deposit(self , amount):\n",
    "        self.balance +=amount\n",
    "\n",
    "acc = Account(77)\n",
    "print(acc.balance)\n",
    "\n",
    "acc.deposit(2000)\n",
    "print(acc.balance) "
   ]
  },
  {
   "cell_type": "code",
   "execution_count": 26,
   "id": "87f01c43-1abd-4e4a-8bc2-08fbb459b0e6",
   "metadata": {},
   "outputs": [
    {
     "data": {
      "text/plain": [
       "__main__.Marine"
      ]
     },
     "execution_count": 26,
     "metadata": {},
     "output_type": "execute_result"
    }
   ],
   "source": [
    "# Q. 리스트 , 딕셔너리도 클래스인가요?\n",
    "# A. 클래스가 맞습니다 \n",
    "# 클래스는 사용자정의 데이터타입입니다. \n",
    "\n",
    "# m 객체는 Marine 클래스로 만들어짐  : 사용자정의 데이터 타입임 \n",
    "m = Marine()\n",
    "type(m)"
   ]
  },
  {
   "cell_type": "code",
   "execution_count": null,
   "id": "07081358-4733-4c81-aaa7-5844b9034a14",
   "metadata": {},
   "outputs": [],
   "source": [
    "# d1 객체의 str 데이터타입입니다.\n",
    "# d1 객체는 str 클래스로 만들어짐 , 데이터 타입마다 사용가능한 메소드가 다르니 dir() 또는 구글링해서 잘 사용하자 \n",
    "d1 ='Python'\n",
    "type(p1)\n"
   ]
  }
 ],
 "metadata": {
  "kernelspec": {
   "display_name": "Python 3 (ipykernel)",
   "language": "python",
   "name": "python3"
  },
  "language_info": {
   "codemirror_mode": {
    "name": "ipython",
    "version": 3
   },
   "file_extension": ".py",
   "mimetype": "text/x-python",
   "name": "python",
   "nbconvert_exporter": "python",
   "pygments_lexer": "ipython3",
   "version": "3.12.4"
  }
 },
 "nbformat": 4,
 "nbformat_minor": 5
}
