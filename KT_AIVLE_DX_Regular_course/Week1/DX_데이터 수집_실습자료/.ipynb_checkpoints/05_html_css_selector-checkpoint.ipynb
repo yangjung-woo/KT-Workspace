{
 "cells": [
  {
   "cell_type": "markdown",
   "id": "c0f409ed-59a2-4ce2-b4ce-82ab1dc36ebe",
   "metadata": {},
   "source": [
    "# HTML\n",
    "- HTML은 Hyper Text Markup Language의 약자로 웹 문서를 작성하는 마크업 언어"
   ]
  },
  {
   "cell_type": "markdown",
   "id": "4272d8de-1433-412c-9264-574d55e560fd",
   "metadata": {},
   "source": [
    "- HTML 구성 요소\n",
    "    - Document : 한페이지를 나타내는 단위\n",
    "    - Element : 하나의 레이아웃을 나타내는 단위 : 시작태그, 끝태그, 텍스트로 구성\n",
    "    - Tag : 엘리먼트의 종류를 정의 : 시작태그(속성값), 끝태그\n",
    "    - Attribute : 시작태그에서 태그의 특정 기능을 하는 값\n",
    "        - id : 웹 페이지에서 유일한 값\n",
    "        - class : 동일한 여러개의 값 사용 가능 : element를 그룹핑 할때 사용\n",
    "        - attr : id와 class를 제외한 나머지 속성들 : src, href ...\n",
    "    - Text : 시작태그와 끝태그 사이에 있는 문자열 \n",
    "    - 엘리먼트는 서로 계층적 구조를 가짐"
   ]
  },
  {
   "cell_type": "markdown",
   "id": "4ab83199-28b0-453f-8399-4b998195f0ad",
   "metadata": {
    "tags": []
   },
   "source": [
    "- HTML Tag 종류\n",
    "    - div : 레이아웃\n",
    "    - h1 ~ 6 : 제목 문자열 출력\n",
    "    - p : 한줄 문자열 출력\n",
    "    - span : 한 블럭 문자열 출력\n",
    "    - ul li : 메뉴 목록 출력\n",
    "    - a : 페이지 이동 : href(url)\n",
    "    - img : 이미지 출력 : src(url)"
   ]
  },
  {
   "cell_type": "markdown",
   "id": "3c48fea4-d4fd-4324-b0ae-4891c4f9b733",
   "metadata": {},
   "source": [
    "# CSS Selector\n",
    "- CSS 셀렉터는 CSS 스타일을 적용시킬 HTML 엘리먼트를 선택하기 위한 방법"
   ]
  },
  {
   "cell_type": "markdown",
   "id": "b4ab4b56-e3f6-4a65-981d-d3741f7ed767",
   "metadata": {},
   "source": [
    "## 1. Tag Selector\n",
    "\n",
    "- 태그이름을 이용하여 Element 선택할때 사용\n",
    "- 태그이름으로 선택할때는 `(태그 이름)` 으로 선택\n",
    "- css selector로 `div`를 사용하면 가장 위에 있는 dss1이 선택\n",
    "```\n",
    "<div>dss1</div>\n",
    "<p>dss2</p>\n",
    "```"
   ]
  },
  {
   "cell_type": "markdown",
   "id": "a30db82a-c09f-407d-9c5a-5a8e334d8c89",
   "metadata": {},
   "source": [
    "## 2. ID Selector\n",
    "\n",
    "- 아이디를 이용하여 Element 선택할때 사용\n",
    "- 아이디로 Element를 선택할때는 `#(아이디 이름)` 으로 선택\n",
    "- css selector로 `#ds2`를 사용하면 dss2가 선택\n",
    "```\n",
    "<p id=\"ds1\">dss1</p>\n",
    "<p id=\"ds2\">dss2</p>\n",
    "```"
   ]
  },
  {
   "cell_type": "markdown",
   "id": "031463ef-21ea-41eb-9aca-a6e7681250f2",
   "metadata": {},
   "source": [
    "## 3. Class Selector\n",
    "\n",
    "- 클래스를 이용하여 Element 선택할때 사용\n",
    "- 클래스를 Element를 선택할때는 `.(클래스 이름)`으로 선택\n",
    "- css selector로 `.ds2`를 사용하면 dss2, dss3가 선택\n",
    "```\n",
    "<p class=\"ds1\">dss1</p>\n",
    "<p class=\"ds2\">dss2</p>\n",
    "<p class=\"ds2\">dss3</p>\n",
    "```"
   ]
  },
  {
   "cell_type": "markdown",
   "id": "7b1f9b7d-d7c7-4cc0-88cf-d59f93665f33",
   "metadata": {},
   "source": [
    "## 4. Attribute Selector\n",
    "\n",
    "- 속성값을 이용하여 Element 선택할때 사용\n",
    "- 속성값으로 Element를 선택할때는 `[속성키=\"속성값\"]`으로 선택\n",
    "- css selector로 `[val=\"ds2\"]`를 사용하면 dss2가 선택\n",
    "```\n",
    "<p val=\"ds1\">dss1</p>\n",
    "<p val=\"ds2\">dss2</p>\n",
    "```"
   ]
  },
  {
   "cell_type": "markdown",
   "id": "b6977762-67be-4166-aa2b-dc4074e67e3d",
   "metadata": {},
   "source": [
    "## 5. not Selector\n",
    "\n",
    "- 셀렉터로 엘리먼트를 하나만 제거하고 싶을때 사용\n",
    "- not을 사용하여 셀렉트 할때에는 `:not(선택에서 제거하고 싶은 셀렉터)`으로 선택\n",
    "- 아래의 HTML에서 `.ds:not(.ds2)`으로 셀렉트 하면 class가 ds2인 클래스를 제외 하고 나머지 ds1, ds3, ds4, ds5가 선택\n",
    "```\n",
    "<p class=\"ds ds1\">ds1</p>\n",
    "<p class=\"ds ds2\">ds2</p>\n",
    "<p class=\"ds ds3\">ds3</p>\n",
    "<p class=\"ds ds4\">ds4</p>\n",
    "<p class=\"ds ds5\">ds5</p>\n",
    "```"
   ]
  },
  {
   "cell_type": "markdown",
   "id": "48e744a3-8436-4217-9110-a3750fcdfe7e",
   "metadata": {},
   "source": [
    "## 6. nth-child Selector\n",
    "\n",
    "- 엘리먼트로 감싸져있는 n번째 엘리먼트가 설정한 셀렉터와 일치하면 선택\n",
    "- `.ds:nth-child(3)`로 설정하면 ds4가 선택   ,  (3) 세번째 선택하고 , class 가 ds 인 것 선택\n",
    "- `nth-child`의 ()안의 숫자는 가장 첫번째가 0이 아니라 1로 시작\n",
    "- \n",
    "```\n",
    "<div class=\"wrap\">\n",
    "    <span class=\"ds\">ds2</span>\n",
    "    <p class=\"ds ds1\">ds3</p>\n",
    "    <p class=\"ds ds2\">ds4</p>   ** 선택 **\n",
    "    <p class=\"ds ds3\">ds5</p>\n",
    "    <p class=\"ds ds4\">ds6</p>\n",
    "</div>\n",
    "```"
   ]
  },
  {
   "cell_type": "markdown",
   "id": "3faea513-60b6-4181-ab02-78f9330ccbcb",
   "metadata": {
    "tags": []
   },
   "source": [
    "## 7. 다양한 방법으로 엘리먼트 선택\n",
    "- 여러개 CSS Selector 사용하여 Element 선택\n",
    "    - CSS Selector로 `#ds2, #ds3`를 사용하면 dss2와 dss3가 선택\n",
    "```\n",
    "<p id=\"ds1\">dss1</p>\n",
    "<p id=\"ds2\">dss2</p>\n",
    "<p id=\"ds3\">dss3</p>\n",
    "```"
   ]
  },
  {
   "cell_type": "markdown",
   "id": "1e6ca6e0-3311-4621-aa4a-59ad90ddc6f3",
   "metadata": {},
   "source": [
    "- 모든 하위 depth(공백) Selector\n",
    "    - 공백문자로 하위 엘리먼트를 셀렉트 했을때, 모든 하위 엘리먼트를 선택\n",
    "    - `.contants h1`를 선택하면 inner_1, inner_2가 선택\n",
    "```\n",
    "<div class=\"contants\">\n",
    "    <h1>inner_1</h1>\n",
    "    <div class=\"txt\">\n",
    "        <h1>inner_2</h1>\n",
    "    </div>\n",
    "</div>\n",
    "```"
   ]
  },
  {
   "cell_type": "markdown",
   "id": "3a48c63c-bdb1-4a0f-b179-c7d9c6d88f23",
   "metadata": {},
   "source": [
    "- 바로 아래 depth(>) Selector\n",
    "\n",
    "    - `>`문자로 하위 엘리먼트를 셀렉트 했을때, 바로 아래 엘리먼트를 선택\n",
    "    - `.contants > h1`를 선택하면 inner_1이 선택\n",
    "```\n",
    "<div class=\"contants\">\n",
    "    <h1>inner_1</h1>\n",
    "    <div class=\"txt\">\n",
    "        <h1>inner_2</h1>\n",
    "    </div>\n",
    "</div>\n",
    "```"
   ]
  },
  {
   "cell_type": "code",
   "execution_count": null,
   "id": "ebc8a967-023b-4402-b600-d2a56875ae9d",
   "metadata": {},
   "outputs": [],
   "source": [
    "# contents h1 : inner_1 , inner_2\n",
    ".contents > h1 , .contents > .txt > h1 # 둘다 결과는 다름 , inner1 , inner2 "
   ]
  },
  {
   "cell_type": "code",
   "execution_count": null,
   "id": "415121fa-7967-4ebe-aa62-25aa662afd83",
   "metadata": {},
   "outputs": [],
   "source": [
    "# 중간점검\n",
    "\n",
    "# HTML Tag\n",
    "# div : 레이아웃, 텍스트 출력\n",
    "# p,span : 텍스트 출력\n",
    "# ul , li : 목록 텍스트 출력\n",
    "# a : 링크(herf) , 텍스트 출력 \n",
    "# img : 이미지 (src) 출력\n",
    "\n",
    "# CSS selector\n",
    "# Select Element\n",
    "# - Tag: div\n",
    "# - id : #ds1\n",
    "# - class : .ds1\n",
    "# - attr : [cal = 'data']\n",
    "# Not Selector : div:not(.ds1) : div 태크 엘리먼트 모두 선택 후 클래스 ds1 앨리먼트 제외\n",
    "# nth - child(n) : div:nth-child(3) : 3번째 트그중 div 태그를 가지면 선택\n",
    "# selector1 > selector2 : selector1 , selector2에 해당하는 모든 엘리먼트 선택 \n",
    "# selector1 , selector2 : selector1 선택하고 모든 하위 앨리먼트중 selector2에 해당하는 엘리먼트 선택 "
   ]
  }
 ],
 "metadata": {
  "kernelspec": {
   "display_name": "Python 3 (ipykernel)",
   "language": "python",
   "name": "python3"
  },
  "language_info": {
   "codemirror_mode": {
    "name": "ipython",
    "version": 3
   },
   "file_extension": ".py",
   "mimetype": "text/x-python",
   "name": "python",
   "nbconvert_exporter": "python",
   "pygments_lexer": "ipython3",
   "version": "3.12.4"
  }
 },
 "nbformat": 4,
 "nbformat_minor": 5
}
