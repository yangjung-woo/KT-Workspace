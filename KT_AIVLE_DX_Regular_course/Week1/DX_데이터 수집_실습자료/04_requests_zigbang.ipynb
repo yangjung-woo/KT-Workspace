{
 "cells": [
  {
   "cell_type": "markdown",
   "id": "democratic-utility",
   "metadata": {},
   "source": [
    "### Zigbang 원룸 매물 데이터 수집"
   ]
  },
  {
   "cell_type": "code",
   "execution_count": 2,
   "id": "9affefe3",
   "metadata": {},
   "outputs": [],
   "source": [
    "import requests \n",
    "import pandas as pd "
   ]
  },
  {
   "cell_type": "markdown",
   "id": "whole-answer",
   "metadata": {},
   "source": [
    "#### Process\n",
    "    - 동이름으로 위도 경도 구하기\n",
    "    - 위도 경도로 geohash 알아내기\n",
    "    - geohash로 매물 아이디 가져오기\n",
    "    - 매물 아이디로 매물 정보 가져오기"
   ]
  },
  {
   "cell_type": "markdown",
   "id": "b98f0c6c",
   "metadata": {},
   "source": [
    "#### 1. 동이름으로 위도 경도 구하기"
   ]
  },
  {
   "cell_type": "code",
   "execution_count": 5,
   "id": "4e8d14a3",
   "metadata": {},
   "outputs": [
    {
     "data": {
      "text/plain": [
       "(37.556785583496094, 126.9013442993164)"
      ]
     },
     "execution_count": 5,
     "metadata": {},
     "output_type": "execute_result"
    }
   ],
   "source": [
    "\n",
    "addr = '망원동'\n",
    "url = f'https://apis.zigbang.com/v2/search?leaseYn=N&q={addr}&serviceType=원룸'\n",
    "response = requests.get(url)\n",
    "data = response.json()['items'][0]\n",
    "lat, lng = data['lat'], data['lng']\n",
    "lat, lng"
   ]
  },
  {
   "cell_type": "markdown",
   "id": "8dfada31",
   "metadata": {},
   "source": [
    "#### 2. 위도 경도로 geohash 알아내기"
   ]
  },
  {
   "cell_type": "code",
   "execution_count": 7,
   "id": "e8db9eb6-4fc6-44bd-be63-7d341db65116",
   "metadata": {},
   "outputs": [
    {
     "name": "stdout",
     "output_type": "stream",
     "text": [
      "Requirement already satisfied: geohash2 in c:\\users\\user\\anaconda3\\lib\\site-packages (1.1)\n",
      "Requirement already satisfied: docutils>=0.3 in c:\\users\\user\\anaconda3\\lib\\site-packages (from geohash2) (0.18.1)\n"
     ]
    }
   ],
   "source": [
    "!pip install geohash2"
   ]
  },
  {
   "cell_type": "code",
   "execution_count": 8,
   "id": "1d270ab4",
   "metadata": {},
   "outputs": [
    {
     "data": {
      "text/plain": [
       "'wydjx'"
      ]
     },
     "execution_count": 8,
     "metadata": {},
     "output_type": "execute_result"
    }
   ],
   "source": [
    "\n",
    "import geohash2\n",
    "geohash = geohash2.encode(lat,lng,precision = 5)\n",
    "geohash"
   ]
  },
  {
   "cell_type": "markdown",
   "id": "13e8b3f9",
   "metadata": {},
   "source": [
    "#### 3. geohash로 매물 아이디 가져오기"
   ]
  },
  {
   "cell_type": "code",
   "execution_count": 10,
   "id": "2ceb8ea4",
   "metadata": {},
   "outputs": [
    {
     "data": {
      "text/plain": [
       "<Response [200]>"
      ]
     },
     "execution_count": 10,
     "metadata": {},
     "output_type": "execute_result"
    }
   ],
   "source": [
    "# url이 인코딩되있는 경우 디코딩 과정 필요 \n",
    "url = 'https://apis.zigbang.com/v2/items/oneroom?geohash=wydm&depositMin=0&rentMin=0&salesTypes[0]=전세&salesTypes[1]=월세&lngEast=126.92783575805556&lngWest=126.78338880611302&latSouth=37.47632007204551&latNorth=37.56054215395402&domain=zigbang&checkAnyItemWithoutFilter=true'\n",
    "\n",
    "response = requests.get(url)\n",
    "response"
   ]
  },
  {
   "cell_type": "code",
   "execution_count": 12,
   "id": "9ae71756-904a-4eb7-a32b-5afe17a4dc67",
   "metadata": {},
   "outputs": [],
   "source": [
    "ids = [item['itemId'] for item in response.json()['items']]\n",
    "len(ids) , ids[:5]\n",
    "ids=ids[:300]"
   ]
  },
  {
   "cell_type": "markdown",
   "id": "85225aae",
   "metadata": {},
   "source": [
    "#### 4. 매물 아이디로 매물 정보 가져오기"
   ]
  },
  {
   "cell_type": "code",
   "execution_count": 15,
   "id": "0212d892",
   "metadata": {},
   "outputs": [
    {
     "data": {
      "text/plain": [
       "<Response [200]>"
      ]
     },
     "execution_count": 15,
     "metadata": {},
     "output_type": "execute_result"
    }
   ],
   "source": [
    "url = 'https://apis.zigbang.com/v2/items/list'\n",
    "#params = {'domain':'zigbang', 'item_ids':ids}\n",
    "params = {'domain':'zigbang', 'item_ids':ids[:5]} # 최그 가져올 수 있는 dic len 이 15개로 한정되었기 때문에 5개만 가져오기 \n",
    "response = requests.post(url,params)\n",
    "response "
   ]
  },
  {
   "cell_type": "code",
   "execution_count": 17,
   "id": "686ca6de-18f0-4dd4-9f9a-39356bcadda2",
   "metadata": {},
   "outputs": [
    {
     "data": {
      "text/plain": [
       "'{\"items\":[{\"item_id\":42123052,\"section_type\":null,\"images_thumbnail\":\"https://ic.zigbang.com/ic/items/42123052/1.jpg\",\"sales_type\":\"월세\",\"sales_title\":\"월세\",\"deposit\":500,\"rent\":45,\"size_m2\":23.14,\"공급면적\":{\"m2\":23.14,\"p\":\"7\"},\"전용면적\":{\"m2\":23.14,\"p\":\"7\"},\"계약면적\":null,\"room_type_title\":null,\"floor\":\"2\",\"floor_string\":\"2\",\"building_floor\":\"4\",\"title\":\"신흥역 2분 , 넓은 옵션 원룸,즉시입주\",\"is_first_movein\":null,\"room_type\":\"01\",\"status\":true,\"tags\":[],\"service_type\":\"원룸\",\"random_location\":{\"lat\":37.4414801397193,\"lng\":127.14587132583516},\"location\":{\"lat\":37.4414801397193,\"lng\":127.14587132583516},\"manage_cost\":\"0\",\"reg_date\":\"2024-09-06T11:03:00+09:00\",\"is_new\":false,\"addressOrigin\":{\"local1\":\"경기도\",\"local2\":\"성남시 수정구\",\"local3\":\"신흥동\",\"local4\":\"\",\"fullText\":\"경기도 성남시 수정구 신흥동\",\"localText\":\"성남시 수정구 신흥동\"},\"action\":{\"isRead\":false,\"readAt\":null,\"isInquired\":false,\"inquiredAt\":null,\"isRewarded\":false,\"rewardedAt\":null,\"isReported\":false,\"reportedAt\":null,\"isChecked\":false,\"checkedAt\":null,\"isZzim\":false},\"contract\":\"\",\"address\":\"성남시 수정구 신흥동\",\"is_zzim\":false,\"address1\":\"경기도 성남시 수정구 신흥동\",\"address2\":null,\"address3\":null,\"item_bm_type\":\"ZIGBANG\",\"isCleanLessor\":false},{\"item_id\":42022206,\"section_type\":null,\"images_thumbnail\":\"https://ic.zigbang.com/ic/items/42022206/1.jpg\",\"sales_type\":\"전세\",\"sales_title\":\"전세\",\"deposit\":39000,\"rent\":0,\"size_m2\":140,\"공급면적\":{\"m2\":140,\"p\":\"42.4\"},\"전용면적\":{\"m2\":71.99,\"p\":\"21.8\"},\"계약면적\":null,\"room_type_title\":null,\"floor\":\"8\",\"floor_string\":\"8\",\"building_floor\":\"16\",\"title\":\"신흥동 더젠시티 오피스텔 3룸 전세\",\"is_first_movein\":null,\"room_type\":\"05\",\"status\":true,\"tags\":[\"추천\"],\"service_type\":\"오피스텔\",\"random_location\":{\"lat\":37.4415443814859,\"lng\":127.147469178637},\"location\":{\"lat\":37.4415443814859,\"lng\":127.147469178637},\"manage_cost\":\"10\",\"reg_date\":\"2024-10-03T10:32:26+09:00\",\"is_new\":true,\"addressOrigin\":{\"local1\":\"경기도\",\"local2\":\"성남시 수정구\",\"local3\":\"신흥동\",\"local4\":\"\",\"fullText\":\"경기도 성남시 수정구 신흥동\",\"localText\":\"성남시 수정구 신흥동\"},\"action\":{\"isRead\":false,\"readAt\":null,\"isInquired\":false,\"inquiredAt\":null,\"isRewarded\":false,\"rewardedAt\":null,\"isReported\":false,\"reportedAt\":null,\"isChecked\":false,\"checkedAt\":null,\"isZzim\":false},\"contract\":\"\",\"address\":\"성남시 수정구 신흥동\",\"is_zzim\":false,\"address1\":\"경기도 성남시 수정구 신흥동\",\"address2\":null,\"address3\":null,\"item_bm_type\":\"ZIGBANG\",\"isCleanLessor\":false},{\"item_id\":42200778,\"section_type\":null,\"images_thumbnail\":\"https://ic.zigbang.com/ic/items/42200778/1.jpg\",\"sales_type\":\"전세\",\"sales_title\":\"전세\",\"deposit\":39000,\"rent\":0,\"size_m2\":105,\"공급면적\":{\"m2\":105,\"p\":\"31.8\"},\"전용면적\":{\"m2\":72,\"p\":\"21.8\"},\"계약면적\":null,\"room_type_title\":null,\"floor\":\"7\",\"floor_string\":\"7\",\"building_floor\":\"16\",\"title\":\"물량소진,버팀목가능,전입,보증보\",\"is_first_movein\":null,\"room_type\":\"05\",\"status\":true,\"tags\":[\"추천\"],\"service_type\":\"오피스텔\",\"random_location\":{\"lat\":37.4415443814859,\"lng\":127.147469178637},\"location\":{\"lat\":37.4415443814859,\"lng\":127.147469178637},\"manage_cost\":\"10\",\"reg_date\":\"2024-09-23T11:50:30+09:00\",\"is_new\":false,\"addressOrigin\":{\"local1\":\"경기도\",\"local2\":\"성남시 수정구\",\"local3\":\"신흥동\",\"local4\":\"\",\"fullText\":\"경기도 성남시 수정구 신흥동\",\"localText\":\"성남시 수정구 신흥동\"},\"action\":{\"isRead\":false,\"readAt\":null,\"isInquired\":false,\"inquiredAt\":null,\"isRewarded\":false,\"rewardedAt\":null,\"isReported\":false,\"reportedAt\":null,\"isChecked\":false,\"checkedAt\":null,\"isZzim\":false},\"contract\":\"\",\"address\":\"성남시 수정구 신흥동\",\"is_zzim\":false,\"address1\":\"경기도 성남시 수정구 신흥동\",\"address2\":null,\"address3\":null,\"item_bm_type\":\"ZIGBANG\",\"isCleanLessor\":false},{\"item_id\":42237485,\"section_type\":null,\"images_thumbnail\":\"https://ic.zigbang.com/ic/items/42237485/1.jpg\",\"sales_type\":\"전세\",\"sales_title\":\"전세\",\"deposit\":39000,\"rent\":0,\"size_m2\":157.28,\"공급면적\":{\"m2\":157.28,\"p\":\"47.6\"},\"전용면적\":{\"m2\":72,\"p\":\"21.8\"},\"계약면적\":null,\"room_type_title\":null,\"floor\":\"7\",\"floor_string\":\"7\",\"building_floor\":\"16\",\"title\":\"HUG보증보험가능,버팀목전세대출가능,첫입주\",\"is_first_movein\":null,\"room_type\":\"05\",\"status\":true,\"tags\":[],\"service_type\":\"오피스텔\",\"random_location\":{\"lat\":37.4415443814859,\"lng\":127.147469178637},\"location\":{\"lat\":37.4415443814859,\"lng\":127.147469178637},\"manage_cost\":\"12\",\"reg_date\":\"2024-10-04T12:08:32+09:00\",\"is_new\":true,\"addressOrigin\":{\"local1\":\"경기도\",\"local2\":\"성남시 수정구\",\"local3\":\"신흥동\",\"local4\":\"\",\"fullText\":\"경기도 성남시 수정구 신흥동\",\"localText\":\"성남시 수정구 신흥동\"},\"action\":{\"isRead\":false,\"readAt\":null,\"isInquired\":false,\"inquiredAt\":null,\"isRewarded\":false,\"rewardedAt\":null,\"isReported\":false,\"reportedAt\":null,\"isChecked\":false,\"checkedAt\":null,\"isZzim\":false},\"contract\":\"\",\"address\":\"성남시 수정구 신흥동\",\"is_zzim\":false,\"address1\":\"경기도 성남시 수정구 신흥동\",\"address2\":null,\"address3\":null,\"item_bm_type\":\"ZIGBANG\",\"isCleanLessor\":false},{\"item_id\":41955717,\"section_type\":null,\"images_thumbnail\":\"https://ic.zigbang.com/ic/items/41955717/1.jpg\",\"sales_type\":\"월세\",\"sales_title\":\"월세\",\"deposit\":5000,\"rent\":55,\"size_m2\":29.75,\"공급면적\":{\"m2\":29.75,\"p\":\"9\"},\"전용면적\":{\"m2\":29.75,\"p\":\"9\"},\"계약면적\":null,\"room_type_title\":null,\"floor\":\"4\",\"floor_string\":\"4\",\"building_floor\":\"10\",\"title\":\"신축원룸신흥역 도보 1분거리 분리형원룸\",\"is_first_movein\":null,\"room_type\":\"02\",\"status\":true,\"tags\":[],\"service_type\":\"원룸\",\"random_location\":{\"lat\":37.4416478136853,\"lng\":127.14776115187},\"location\":{\"lat\":37.4416478136853,\"lng\":127.14776115187},\"manage_cost\":\"9\",\"reg_date\":\"2024-09-30T07:47:14+09:00\",\"is_new\":false,\"addressOrigin\":{\"local1\":\"경기도\",\"local2\":\"성남시 수정구\",\"local3\":\"신흥동\",\"local4\":\"\",\"fullText\":\"경기도 성남시 수정구 신흥동\",\"localText\":\"성남시 수정구 신흥동\"},\"action\":{\"isRead\":false,\"readAt\":null,\"isInquired\":false,\"inquiredAt\":null,\"isRewarded\":false,\"rewardedAt\":null,\"isReported\":false,\"reportedAt\":null,\"isChecked\":false,\"checkedAt\":null,\"isZzim\":false},\"contract\":\"\",\"address\":\"성남시 수정구 신흥동\",\"is_zzim\":false,\"address1\":\"경기도 성남시 수정구 신흥동\",\"address2\":null,\"address3\":null,\"item_bm_type\":\"ZIGBANG\",\"isCleanLessor\":false}]}'"
      ]
     },
     "execution_count": 17,
     "metadata": {},
     "output_type": "execute_result"
    }
   ],
   "source": [
    "response.text #"
   ]
  },
  {
   "cell_type": "code",
   "execution_count": 19,
   "id": "390fbc94-421b-4ae2-877e-a81f18d934af",
   "metadata": {},
   "outputs": [
    {
     "data": {
      "text/html": [
       "<div>\n",
       "<style scoped>\n",
       "    .dataframe tbody tr th:only-of-type {\n",
       "        vertical-align: middle;\n",
       "    }\n",
       "\n",
       "    .dataframe tbody tr th {\n",
       "        vertical-align: top;\n",
       "    }\n",
       "\n",
       "    .dataframe thead th {\n",
       "        text-align: right;\n",
       "    }\n",
       "</style>\n",
       "<table border=\"1\" class=\"dataframe\">\n",
       "  <thead>\n",
       "    <tr style=\"text-align: right;\">\n",
       "      <th></th>\n",
       "      <th>item_id</th>\n",
       "      <th>deposit</th>\n",
       "      <th>rent</th>\n",
       "      <th>size_m2</th>\n",
       "      <th>address1</th>\n",
       "    </tr>\n",
       "  </thead>\n",
       "  <tbody>\n",
       "    <tr>\n",
       "      <th>0</th>\n",
       "      <td>42123052</td>\n",
       "      <td>500</td>\n",
       "      <td>45</td>\n",
       "      <td>23.14</td>\n",
       "      <td>경기도 성남시 수정구 신흥동</td>\n",
       "    </tr>\n",
       "    <tr>\n",
       "      <th>1</th>\n",
       "      <td>42022206</td>\n",
       "      <td>39000</td>\n",
       "      <td>0</td>\n",
       "      <td>140.00</td>\n",
       "      <td>경기도 성남시 수정구 신흥동</td>\n",
       "    </tr>\n",
       "    <tr>\n",
       "      <th>2</th>\n",
       "      <td>42200778</td>\n",
       "      <td>39000</td>\n",
       "      <td>0</td>\n",
       "      <td>105.00</td>\n",
       "      <td>경기도 성남시 수정구 신흥동</td>\n",
       "    </tr>\n",
       "    <tr>\n",
       "      <th>3</th>\n",
       "      <td>42237485</td>\n",
       "      <td>39000</td>\n",
       "      <td>0</td>\n",
       "      <td>157.28</td>\n",
       "      <td>경기도 성남시 수정구 신흥동</td>\n",
       "    </tr>\n",
       "    <tr>\n",
       "      <th>4</th>\n",
       "      <td>41955717</td>\n",
       "      <td>5000</td>\n",
       "      <td>55</td>\n",
       "      <td>29.75</td>\n",
       "      <td>경기도 성남시 수정구 신흥동</td>\n",
       "    </tr>\n",
       "  </tbody>\n",
       "</table>\n",
       "</div>"
      ],
      "text/plain": [
       "    item_id  deposit  rent  size_m2         address1\n",
       "0  42123052      500    45    23.14  경기도 성남시 수정구 신흥동\n",
       "1  42022206    39000     0   140.00  경기도 성남시 수정구 신흥동\n",
       "2  42200778    39000     0   105.00  경기도 성남시 수정구 신흥동\n",
       "3  42237485    39000     0   157.28  경기도 성남시 수정구 신흥동\n",
       "4  41955717     5000    55    29.75  경기도 성남시 수정구 신흥동"
      ]
     },
     "execution_count": 19,
     "metadata": {},
     "output_type": "execute_result"
    }
   ],
   "source": [
    "columns = ['item_id', 'deposit', 'rent', 'size_m2', 'address1']\n",
    "data = response.json()['items']\n",
    "df = pd.DataFrame(data)[columns]\n",
    "df.head()"
   ]
  },
  {
   "cell_type": "code",
   "execution_count": 21,
   "id": "c8f2751a-ca20-4568-b709-827e3036b6aa",
   "metadata": {},
   "outputs": [
    {
     "data": {
      "text/plain": [
       "300"
      ]
     },
     "execution_count": 21,
     "metadata": {},
     "output_type": "execute_result"
    }
   ],
   "source": [
    "len(ids)"
   ]
  },
  {
   "cell_type": "code",
   "execution_count": 23,
   "id": "04d84ca4-b033-4f1e-a2a3-2cc9a4471476",
   "metadata": {},
   "outputs": [
    {
     "name": "stdout",
     "output_type": "stream",
     "text": [
      "[0, 15, 30, 45, 60, 75, 90, 105, 120, 135, 150, 165, 180, 195, 210, 225, 240, 255, 270, 285]\n"
     ]
    }
   ],
   "source": [
    "page_block = 15\n",
    "print(list(range(0,len(ids), 15)))"
   ]
  },
  {
   "cell_type": "code",
   "execution_count": 25,
   "id": "e834295f-35a2-48a3-8322-8db07c316ca2",
   "metadata": {},
   "outputs": [],
   "source": [
    "datalist = []\n",
    "for start in range(0,len(ids), 15):\n",
    "    end = start + page_block\n",
    "    # print(start,end)\n",
    "    url = 'https://apis.zigbang.com/v2/items/list'\n",
    "    params = {'domain':'zigbang', 'item_ids':ids[start:end]} # 데이터프레임1개 당 15개씩 \n",
    "    response = requests.post(url,params)\n",
    "    columns = ['item_id', 'deposit', 'rent', 'size_m2', 'address1']\n",
    "    data = response.json()['items']\n",
    "    df = pd.DataFrame(data)[columns]#\n",
    "    datalist.append(df)"
   ]
  },
  {
   "cell_type": "code",
   "execution_count": 30,
   "id": "9b8ee84e-066a-4d08-a873-3476c52ae4af",
   "metadata": {},
   "outputs": [
    {
     "data": {
      "text/html": [
       "<div>\n",
       "<style scoped>\n",
       "    .dataframe tbody tr th:only-of-type {\n",
       "        vertical-align: middle;\n",
       "    }\n",
       "\n",
       "    .dataframe tbody tr th {\n",
       "        vertical-align: top;\n",
       "    }\n",
       "\n",
       "    .dataframe thead th {\n",
       "        text-align: right;\n",
       "    }\n",
       "</style>\n",
       "<table border=\"1\" class=\"dataframe\">\n",
       "  <thead>\n",
       "    <tr style=\"text-align: right;\">\n",
       "      <th></th>\n",
       "      <th>item_id</th>\n",
       "      <th>deposit</th>\n",
       "      <th>rent</th>\n",
       "      <th>size_m2</th>\n",
       "      <th>address1</th>\n",
       "    </tr>\n",
       "  </thead>\n",
       "  <tbody>\n",
       "    <tr>\n",
       "      <th>0</th>\n",
       "      <td>42123052</td>\n",
       "      <td>500</td>\n",
       "      <td>45</td>\n",
       "      <td>23.14</td>\n",
       "      <td>경기도 성남시 수정구 신흥동</td>\n",
       "    </tr>\n",
       "    <tr>\n",
       "      <th>1</th>\n",
       "      <td>42022206</td>\n",
       "      <td>39000</td>\n",
       "      <td>0</td>\n",
       "      <td>140.00</td>\n",
       "      <td>경기도 성남시 수정구 신흥동</td>\n",
       "    </tr>\n",
       "    <tr>\n",
       "      <th>2</th>\n",
       "      <td>42200778</td>\n",
       "      <td>39000</td>\n",
       "      <td>0</td>\n",
       "      <td>105.00</td>\n",
       "      <td>경기도 성남시 수정구 신흥동</td>\n",
       "    </tr>\n",
       "    <tr>\n",
       "      <th>3</th>\n",
       "      <td>42237485</td>\n",
       "      <td>39000</td>\n",
       "      <td>0</td>\n",
       "      <td>157.28</td>\n",
       "      <td>경기도 성남시 수정구 신흥동</td>\n",
       "    </tr>\n",
       "    <tr>\n",
       "      <th>4</th>\n",
       "      <td>41955717</td>\n",
       "      <td>5000</td>\n",
       "      <td>55</td>\n",
       "      <td>29.75</td>\n",
       "      <td>경기도 성남시 수정구 신흥동</td>\n",
       "    </tr>\n",
       "    <tr>\n",
       "      <th>...</th>\n",
       "      <td>...</td>\n",
       "      <td>...</td>\n",
       "      <td>...</td>\n",
       "      <td>...</td>\n",
       "      <td>...</td>\n",
       "    </tr>\n",
       "    <tr>\n",
       "      <th>295</th>\n",
       "      <td>42375512</td>\n",
       "      <td>200</td>\n",
       "      <td>30</td>\n",
       "      <td>16.50</td>\n",
       "      <td>서울시 관악구 신림동</td>\n",
       "    </tr>\n",
       "    <tr>\n",
       "      <th>296</th>\n",
       "      <td>41813997</td>\n",
       "      <td>4000</td>\n",
       "      <td>10</td>\n",
       "      <td>19.00</td>\n",
       "      <td>서울시 관악구 신림동</td>\n",
       "    </tr>\n",
       "    <tr>\n",
       "      <th>297</th>\n",
       "      <td>42037397</td>\n",
       "      <td>3000</td>\n",
       "      <td>10</td>\n",
       "      <td>19.00</td>\n",
       "      <td>서울시 관악구 신림동</td>\n",
       "    </tr>\n",
       "    <tr>\n",
       "      <th>298</th>\n",
       "      <td>42254912</td>\n",
       "      <td>100</td>\n",
       "      <td>40</td>\n",
       "      <td>17.00</td>\n",
       "      <td>서울시 관악구 신림동</td>\n",
       "    </tr>\n",
       "    <tr>\n",
       "      <th>299</th>\n",
       "      <td>42254935</td>\n",
       "      <td>100</td>\n",
       "      <td>35</td>\n",
       "      <td>16.20</td>\n",
       "      <td>서울시 관악구 신림동</td>\n",
       "    </tr>\n",
       "  </tbody>\n",
       "</table>\n",
       "<p>300 rows × 5 columns</p>\n",
       "</div>"
      ],
      "text/plain": [
       "      item_id  deposit  rent  size_m2         address1\n",
       "0    42123052      500    45    23.14  경기도 성남시 수정구 신흥동\n",
       "1    42022206    39000     0   140.00  경기도 성남시 수정구 신흥동\n",
       "2    42200778    39000     0   105.00  경기도 성남시 수정구 신흥동\n",
       "3    42237485    39000     0   157.28  경기도 성남시 수정구 신흥동\n",
       "4    41955717     5000    55    29.75  경기도 성남시 수정구 신흥동\n",
       "..        ...      ...   ...      ...              ...\n",
       "295  42375512      200    30    16.50      서울시 관악구 신림동\n",
       "296  41813997     4000    10    19.00      서울시 관악구 신림동\n",
       "297  42037397     3000    10    19.00      서울시 관악구 신림동\n",
       "298  42254912      100    40    17.00      서울시 관악구 신림동\n",
       "299  42254935      100    35    16.20      서울시 관악구 신림동\n",
       "\n",
       "[300 rows x 5 columns]"
      ]
     },
     "execution_count": 30,
     "metadata": {},
     "output_type": "execute_result"
    }
   ],
   "source": [
    "result = pd.concat(datalist, ignore_index = True)\n",
    "result"
   ]
  },
  {
   "cell_type": "code",
   "execution_count": null,
   "id": "673292d0-0bb6-4244-af0f-742d8ea414bd",
   "metadata": {},
   "outputs": [],
   "source": []
  },
  {
   "cell_type": "code",
   "execution_count": null,
   "id": "d5457cd7-f9e6-42e3-8247-ba70a0f58740",
   "metadata": {},
   "outputs": [],
   "source": []
  }
 ],
 "metadata": {
  "kernelspec": {
   "display_name": "Python 3 (ipykernel)",
   "language": "python",
   "name": "python3"
  },
  "language_info": {
   "codemirror_mode": {
    "name": "ipython",
    "version": 3
   },
   "file_extension": ".py",
   "mimetype": "text/x-python",
   "name": "python",
   "nbconvert_exporter": "python",
   "pygments_lexer": "ipython3",
   "version": "3.12.4"
  },
  "toc": {
   "base_numbering": 1,
   "nav_menu": {},
   "number_sections": false,
   "sideBar": true,
   "skip_h1_title": false,
   "title_cell": "Table of Contents",
   "title_sidebar": "Contents",
   "toc_cell": false,
   "toc_position": {},
   "toc_section_display": true,
   "toc_window_display": false
  }
 },
 "nbformat": 4,
 "nbformat_minor": 5
}
