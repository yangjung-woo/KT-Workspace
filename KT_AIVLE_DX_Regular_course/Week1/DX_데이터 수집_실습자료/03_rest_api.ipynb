{
 "cells": [
  {
   "cell_type": "markdown",
   "metadata": {
    "tags": []
   },
   "source": [
    "# REST API\n",
    "- Representational State Transfer\n",
    "- Client와 Server가 통신하기 위한 URL 구조에 대한 정의 및 디자인"
   ]
  },
  {
   "cell_type": "markdown",
   "metadata": {
    "id": "apodUP-CYr3_"
   },
   "source": [
    "## 1\\. Naver API\n",
    "- 통합검색어 트렌드 API\n",
    "    - https://datalab.naver.com/\n",
    "    - https://datalab.naver.com/keyword/trendSearch.naver"
   ]
  },
  {
   "cell_type": "code",
   "execution_count": 7,
   "metadata": {},
   "outputs": [],
   "source": [
    "# request시 API가 필요한 사이트 들이 있음 \n",
    "# 그래서 요청 request 시 (key = '') 를 헤더에 넣어서 요청해야함 \n",
    "import pandas as pd\n",
    "import requests "
   ]
  },
  {
   "cell_type": "markdown",
   "metadata": {
    "id": "ZEU1PeYTYr4C"
   },
   "source": [
    "### 1-1. Request Token 얻기\n",
    "- `https://developers.naver.com`\n",
    "- 1. Request Token 얻기 : 애플리케이션등록 -> app_key 획득\n",
    "- 2. app_key를 이용해서 데이터 가져오기"
   ]
  },
  {
   "cell_type": "code",
   "execution_count": 10,
   "metadata": {},
   "outputs": [],
   "source": [
    "# 1. application key 값을 가져옴 \n",
    "CI = 'yvcSLx3abyub0RHOpsX_'\n",
    "CS = '8OS8TqGbez'"
   ]
  },
  {
   "cell_type": "markdown",
   "metadata": {
    "id": "gEKpR7ibYr4G"
   },
   "source": [
    "### 1-2. 통합검색어 트렌드 API\n",
    "- 서비스 : `https://datalab.naver.com/keyword/trendSearch.naver`\n",
    "- 내 애플리케이션 > dss 애플리케이션 > API 설정 > 데이터랩(검색어 트렌드) 추가\n",
    "- 사용법 : `https://developers.naver.com/docs/serviceapi/datalab/search/search.md#통합-검색어-트렌드`"
   ]
  },
  {
   "cell_type": "code",
   "execution_count": 22,
   "metadata": {},
   "outputs": [
    {
     "data": {
      "text/plain": [
       "<Response [200]>"
      ]
     },
     "execution_count": 22,
     "metadata": {},
     "output_type": "execute_result"
    }
   ],
   "source": [
    "#2. Url : 네이버는 Document에서 알려줌  , Naver는 Post방식\n",
    "url = 'https://openapi.naver.com/v1/datalab/search'\n",
    "#3. requests(url ,param(data), headers(app_)) > response(json)\n",
    "\n",
    "# 3-1 파라미터 \n",
    "params = {\n",
    "        'startDate' :'2018-01-01',\n",
    "        'endDate'   :'2023-12-31',\n",
    "        'timeUnit'  :'month',\n",
    "        'keywordGroups' :[\n",
    "            {'groupName':'트위터','keywords' :['트위터','트윗']},\n",
    "            {'groupName':'페이스북','keywords' :['페이스북','페북']},\n",
    "            {'groupName':'인스타그램','keywords' :['인스타그램','인스타']},\n",
    "        ],\n",
    "        \n",
    "}\n",
    "# 3-2 헤더 \n",
    "header = {\"X-Naver-Client-Id\":CI,\n",
    "         \"X-Naver-Client-Secret\": CS,\n",
    "         \"Content-Type\": \"application/json\"}\n",
    "\n",
    "#--header \"X-Naver-Client-Id: YOUR_CLIENT_ID\" \\\n",
    "#--header \"X-Naver-Client-Secret: YOUR_CLIENT_SECRET\" \\\n",
    "#--header \"Content-Type: application/json\" \\\n",
    "\n",
    "#response = requests.post(url ,data= params , headers = header ) # param에 한글이 있어서 오류\n",
    "response = requests.post(url ,data= json.dumps(params) , headers = header ) # params에 json.dump 함\n",
    "response"
   ]
  },
  {
   "cell_type": "code",
   "execution_count": 24,
   "metadata": {},
   "outputs": [
    {
     "data": {
      "text/plain": [
       "'{\"startDate\":\"2018-01-01\",\"endDate\":\"2023-12-31\",\"timeUnit\":\"month\",\"results\":[{\"title\":\"트위터\",\"keywords\":[\"트위터\",\"트윗\"],\"data\":[{\"period\":\"2018-01-01\",\"ratio\":14.59502},{\"period\":\"2018-02-01\",\"ratio\":13.0238},{\"period\":\"2018-03-01\",\"ratio\":12.97953},{\"period\":\"2018-04-01\",\"ratio\":12.82991},{\"period\":\"2018-05-01\",\"ratio\":13.05391},{\"period\":\"2018-06-01\",\"ratio\":13.34512},{\"period\":\"2018-07-01\",\"ratio\":13.02773},{\"period\":\"2018-08-01\",\"ratio\":13.45399},{\"period\":\"2018-09-01\",\"ratio\":12.83755},{\"period\":\"2018-10-01\",\"ratio\":13.05677},{\"period\":\"2018-11-01\",\"ratio\":12.77338},{\"period\":\"2018-12-01\",\"ratio\":12.86931},{\"period\":\"2019-01-01\",\"ratio\":13.31172},{\"period\":\"2019-02-01\",\"ratio\":11.74776},{\"period\":\"2019-03-01\",\"ratio\":11.82313},{\"period\":\"2019-04-01\",\"ratio\":12.32991},{\"period\":\"2019-05-01\",\"ratio\":12.43771},{\"period\":\"2019-06-01\",\"ratio\":13.29913},{\"period\":\"2019-07-01\",\"ratio\":14.00593},{\"period\":\"2019-08-01\",\"ratio\":14.208},{\"period\":\"2019-09-01\",\"ratio\":14.00856},{\"period\":\"2019-10-01\",\"ratio\":14.88466},{\"period\":\"2019-11-01\",\"ratio\":14.352},{\"period\":\"2019-12-01\",\"ratio\":14.36689},{\"period\":\"2020-01-01\",\"ratio\":16.05722},{\"period\":\"2020-02-01\",\"ratio\":15.71465},{\"period\":\"2020-03-01\",\"ratio\":18.5669},{\"period\":\"2020-04-01\",\"ratio\":18.29928},{\"period\":\"2020-05-01\",\"ratio\":21.0523},{\"period\":\"2020-06-01\",\"ratio\":19.27569},{\"period\":\"2020-07-01\",\"ratio\":20.59297},{\"period\":\"2020-08-01\",\"ratio\":19.3598},{\"period\":\"2020-09-01\",\"ratio\":19.96801},{\"period\":\"2020-10-01\",\"ratio\":20.88909},{\"period\":\"2020-11-01\",\"ratio\":19.58926},{\"period\":\"2020-12-01\",\"ratio\":21.54861},{\"period\":\"2021-01-01\",\"ratio\":21.93972},{\"period\":\"2021-02-01\",\"ratio\":20.09926},{\"period\":\"2021-03-01\",\"ratio\":21.47994},{\"period\":\"2021-04-01\",\"ratio\":22.94525},{\"period\":\"2021-05-01\",\"ratio\":23.00813},{\"period\":\"2021-06-01\",\"ratio\":22.19201},{\"period\":\"2021-07-01\",\"ratio\":22.44472},{\"period\":\"2021-08-01\",\"ratio\":23.87169},{\"period\":\"2021-09-01\",\"ratio\":21.40248},{\"period\":\"2021-10-01\",\"ratio\":22.49636},{\"period\":\"2021-11-01\",\"ratio\":21.3438},{\"period\":\"2021-12-01\",\"ratio\":21.55931},{\"period\":\"2022-01-01\",\"ratio\":21.94339},{\"period\":\"2022-02-01\",\"ratio\":22.43099},{\"period\":\"2022-03-01\",\"ratio\":23.78266},{\"period\":\"2022-04-01\",\"ratio\":23.83847},{\"period\":\"2022-05-01\",\"ratio\":22.99363},{\"period\":\"2022-06-01\",\"ratio\":23.2411},{\"period\":\"2022-07-01\",\"ratio\":24.06197},{\"period\":\"2022-08-01\",\"ratio\":25.72802},{\"period\":\"2022-09-01\",\"ratio\":24.25256},{\"period\":\"2022-10-01\",\"ratio\":27.11456},{\"period\":\"2022-11-01\",\"ratio\":25.4193},{\"period\":\"2022-12-01\",\"ratio\":25.55513},{\"period\":\"2023-01-01\",\"ratio\":26.64944},{\"period\":\"2023-02-01\",\"ratio\":25.43963},{\"period\":\"2023-03-01\",\"ratio\":25.15474},{\"period\":\"2023-04-01\",\"ratio\":28.07174},{\"period\":\"2023-05-01\",\"ratio\":23.00607},{\"period\":\"2023-06-01\",\"ratio\":23.97467},{\"period\":\"2023-07-01\",\"ratio\":27.22823},{\"period\":\"2023-08-01\",\"ratio\":26.76331},{\"period\":\"2023-09-01\",\"ratio\":23.00812},{\"period\":\"2023-10-01\",\"ratio\":24.13886},{\"period\":\"2023-11-01\",\"ratio\":22.86116},{\"period\":\"2023-12-01\",\"ratio\":23.01963}]},{\"title\":\"페이스북\",\"keywords\":[\"페이스북\",\"페북\"],\"data\":[{\"period\":\"2018-01-01\",\"ratio\":97.80481},{\"period\":\"2018-02-01\",\"ratio\":89.05814},{\"period\":\"2018-03-01\",\"ratio\":98.84292},{\"period\":\"2018-04-01\",\"ratio\":100},{\"period\":\"2018-05-01\",\"ratio\":92.23588},{\"period\":\"2018-06-01\",\"ratio\":91.70143},{\"period\":\"2018-07-01\",\"ratio\":87.916},{\"period\":\"2018-08-01\",\"ratio\":83.56488},{\"period\":\"2018-09-01\",\"ratio\":82.66018},{\"period\":\"2018-10-01\",\"ratio\":81.30381},{\"period\":\"2018-11-01\",\"ratio\":76.80167},{\"period\":\"2018-12-01\",\"ratio\":75.43269},{\"period\":\"2019-01-01\",\"ratio\":70.21709},{\"period\":\"2019-02-01\",\"ratio\":62.57096},{\"period\":\"2019-03-01\",\"ratio\":70.02431},{\"period\":\"2019-04-01\",\"ratio\":71.67271},{\"period\":\"2019-05-01\",\"ratio\":67.79872},{\"period\":\"2019-06-01\",\"ratio\":69.23259},{\"period\":\"2019-07-01\",\"ratio\":64.22088},{\"period\":\"2019-08-01\",\"ratio\":61.74662},{\"period\":\"2019-09-01\",\"ratio\":62.30318},{\"period\":\"2019-10-01\",\"ratio\":62.46025},{\"period\":\"2019-11-01\",\"ratio\":59.88514},{\"period\":\"2019-12-01\",\"ratio\":57.80639},{\"period\":\"2020-01-01\",\"ratio\":55.94828},{\"period\":\"2020-02-01\",\"ratio\":56.90092},{\"period\":\"2020-03-01\",\"ratio\":63.03497},{\"period\":\"2020-04-01\",\"ratio\":57.31923},{\"period\":\"2020-05-01\",\"ratio\":56.65968},{\"period\":\"2020-06-01\",\"ratio\":54.42362},{\"period\":\"2020-07-01\",\"ratio\":56.80884},{\"period\":\"2020-08-01\",\"ratio\":54.60338},{\"period\":\"2020-09-01\",\"ratio\":51.64203},{\"period\":\"2020-10-01\",\"ratio\":48.64782},{\"period\":\"2020-11-01\",\"ratio\":46.34281},{\"period\":\"2020-12-01\",\"ratio\":47.16999},{\"period\":\"2021-01-01\",\"ratio\":43.23795},{\"period\":\"2021-02-01\",\"ratio\":37.94335},{\"period\":\"2021-03-01\",\"ratio\":42.96809},{\"period\":\"2021-04-01\",\"ratio\":42.4486},{\"period\":\"2021-05-01\",\"ratio\":39.64216},{\"period\":\"2021-06-01\",\"ratio\":38.09701},{\"period\":\"2021-07-01\",\"ratio\":36.44556},{\"period\":\"2021-08-01\",\"ratio\":34.16464},{\"period\":\"2021-09-01\",\"ratio\":31.2108},{\"period\":\"2021-10-01\",\"ratio\":32.85607},{\"period\":\"2021-11-01\",\"ratio\":28.60438},{\"period\":\"2021-12-01\",\"ratio\":27.23295},{\"period\":\"2022-01-01\",\"ratio\":25.93933},{\"period\":\"2022-02-01\",\"ratio\":23.6213},{\"period\":\"2022-03-01\",\"ratio\":24.75851},{\"period\":\"2022-04-01\",\"ratio\":22.22382},{\"period\":\"2022-05-01\",\"ratio\":21.65302},{\"period\":\"2022-06-01\",\"ratio\":20.04381},{\"period\":\"2022-07-01\",\"ratio\":19.53712},{\"period\":\"2022-08-01\",\"ratio\":18.46511},{\"period\":\"2022-09-01\",\"ratio\":17.02193},{\"period\":\"2022-10-01\",\"ratio\":16.73444},{\"period\":\"2022-11-01\",\"ratio\":15.12064},{\"period\":\"2022-12-01\",\"ratio\":14.72503},{\"period\":\"2023-01-01\",\"ratio\":14.87866},{\"period\":\"2023-02-01\",\"ratio\":12.93779},{\"period\":\"2023-03-01\",\"ratio\":13.35465},{\"period\":\"2023-04-01\",\"ratio\":12.56348},{\"period\":\"2023-05-01\",\"ratio\":12.66914},{\"period\":\"2023-06-01\",\"ratio\":11.82617},{\"period\":\"2023-07-01\",\"ratio\":11.86085},{\"period\":\"2023-08-01\",\"ratio\":11.52409},{\"period\":\"2023-09-01\",\"ratio\":10.46711},{\"period\":\"2023-10-01\",\"ratio\":10.44804},{\"period\":\"2023-11-01\",\"ratio\":9.97093},{\"period\":\"2023-12-01\",\"ratio\":10.12856}]},{\"title\":\"인스타그램\",\"keywords\":[\"인스타그램\",\"인스타\"],\"data\":[{\"period\":\"2018-01-01\",\"ratio\":23.41982},{\"period\":\"2018-02-01\",\"ratio\":22.53544},{\"period\":\"2018-03-01\",\"ratio\":25.3988},{\"period\":\"2018-04-01\",\"ratio\":26.55983},{\"period\":\"2018-05-01\",\"ratio\":28.60035},{\"period\":\"2018-06-01\",\"ratio\":28.40753},{\"period\":\"2018-07-01\",\"ratio\":27.84405},{\"period\":\"2018-08-01\",\"ratio\":29.84383},{\"period\":\"2018-09-01\",\"ratio\":25.05096},{\"period\":\"2018-10-01\",\"ratio\":27.2048},{\"period\":\"2018-11-01\",\"ratio\":21.97864},{\"period\":\"2018-12-01\",\"ratio\":20.8739},{\"period\":\"2019-01-01\",\"ratio\":22.51379},{\"period\":\"2019-02-01\",\"ratio\":19.33788},{\"period\":\"2019-03-01\",\"ratio\":21.67678},{\"period\":\"2019-04-01\",\"ratio\":21.16257},{\"period\":\"2019-05-01\",\"ratio\":20.9485},{\"period\":\"2019-06-01\",\"ratio\":21.76954},{\"period\":\"2019-07-01\",\"ratio\":22.586},{\"period\":\"2019-08-01\",\"ratio\":21.43535},{\"period\":\"2019-09-01\",\"ratio\":19.83802},{\"period\":\"2019-10-01\",\"ratio\":22.24957},{\"period\":\"2019-11-01\",\"ratio\":21.55812},{\"period\":\"2019-12-01\",\"ratio\":21.52333},{\"period\":\"2020-01-01\",\"ratio\":22.0381},{\"period\":\"2020-02-01\",\"ratio\":21.53446},{\"period\":\"2020-03-01\",\"ratio\":25.01454},{\"period\":\"2020-04-01\",\"ratio\":24.12708},{\"period\":\"2020-05-01\",\"ratio\":25.68412},{\"period\":\"2020-06-01\",\"ratio\":25.47291},{\"period\":\"2020-07-01\",\"ratio\":27.08637},{\"period\":\"2020-08-01\",\"ratio\":26.73002},{\"period\":\"2020-09-01\",\"ratio\":26.0109},{\"period\":\"2020-10-01\",\"ratio\":26.21388},{\"period\":\"2020-11-01\",\"ratio\":25.81836},{\"period\":\"2020-12-01\",\"ratio\":25.74078},{\"period\":\"2021-01-01\",\"ratio\":25.5243},{\"period\":\"2021-02-01\",\"ratio\":22.79679},{\"period\":\"2021-03-01\",\"ratio\":28.04835},{\"period\":\"2021-04-01\",\"ratio\":27.90414},{\"period\":\"2021-05-01\",\"ratio\":26.56014},{\"period\":\"2021-06-01\",\"ratio\":26.31208},{\"period\":\"2021-07-01\",\"ratio\":25.15776},{\"period\":\"2021-08-01\",\"ratio\":25.07517},{\"period\":\"2021-09-01\",\"ratio\":24.95299},{\"period\":\"2021-10-01\",\"ratio\":28.76584},{\"period\":\"2021-11-01\",\"ratio\":23.30904},{\"period\":\"2021-12-01\",\"ratio\":22.87539},{\"period\":\"2022-01-01\",\"ratio\":22.0805},{\"period\":\"2022-02-01\",\"ratio\":20.23895},{\"period\":\"2022-03-01\",\"ratio\":22.4226},{\"period\":\"2022-04-01\",\"ratio\":22.07676},{\"period\":\"2022-05-01\",\"ratio\":22.23291},{\"period\":\"2022-06-01\",\"ratio\":21.63141},{\"period\":\"2022-07-01\",\"ratio\":21.40551},{\"period\":\"2022-08-01\",\"ratio\":21.78211},{\"period\":\"2022-09-01\",\"ratio\":21.07918},{\"period\":\"2022-10-01\",\"ratio\":23.38901},{\"period\":\"2022-11-01\",\"ratio\":21.51581},{\"period\":\"2022-12-01\",\"ratio\":20.33907},{\"period\":\"2023-01-01\",\"ratio\":20.30135},{\"period\":\"2023-02-01\",\"ratio\":19.498},{\"period\":\"2023-03-01\",\"ratio\":22.17574},{\"period\":\"2023-04-01\",\"ratio\":22.74806},{\"period\":\"2023-05-01\",\"ratio\":24.513},{\"period\":\"2023-06-01\",\"ratio\":23.92009},{\"period\":\"2023-07-01\",\"ratio\":22.59081},{\"period\":\"2023-08-01\",\"ratio\":21.96847},{\"period\":\"2023-09-01\",\"ratio\":21.10131},{\"period\":\"2023-10-01\",\"ratio\":22.15029},{\"period\":\"2023-11-01\",\"ratio\":23.18797},{\"period\":\"2023-12-01\",\"ratio\":21.84237}]}]}'"
      ]
     },
     "execution_count": 24,
     "metadata": {},
     "output_type": "execute_result"
    }
   ],
   "source": [
    "response.text"
   ]
  },
  {
   "cell_type": "code",
   "execution_count": null,
   "metadata": {},
   "outputs": [],
   "source": []
  },
  {
   "cell_type": "code",
   "execution_count": null,
   "metadata": {},
   "outputs": [],
   "source": []
  }
 ],
 "metadata": {
  "colab": {
   "provenance": []
  },
  "kernelspec": {
   "display_name": "Python 3 (ipykernel)",
   "language": "python",
   "name": "python3"
  },
  "language_info": {
   "codemirror_mode": {
    "name": "ipython",
    "version": 3
   },
   "file_extension": ".py",
   "mimetype": "text/x-python",
   "name": "python",
   "nbconvert_exporter": "python",
   "pygments_lexer": "ipython3",
   "version": "3.12.4"
  },
  "toc": {
   "base_numbering": 1,
   "nav_menu": {},
   "number_sections": false,
   "sideBar": true,
   "skip_h1_title": false,
   "title_cell": "Table of Contents",
   "title_sidebar": "Contents",
   "toc_cell": false,
   "toc_position": {},
   "toc_section_display": true,
   "toc_window_display": false
  }
 },
 "nbformat": 4,
 "nbformat_minor": 4
}
