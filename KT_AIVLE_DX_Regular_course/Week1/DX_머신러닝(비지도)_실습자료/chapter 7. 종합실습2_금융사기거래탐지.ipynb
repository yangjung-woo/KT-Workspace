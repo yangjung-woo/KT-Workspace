{
 "cells": [
  {
   "cell_type": "markdown",
   "metadata": {
    "id": "H2PiE6pYmBv7"
   },
   "source": [
    "# 종합실습2 : 금융 사기거래 탐지\n",
    "\n"
   ]
  },
  {
   "cell_type": "markdown",
   "metadata": {
    "id": "eQ6zIu5HP-TR"
   },
   "source": [
    "## 1.환경준비"
   ]
  },
  {
   "cell_type": "markdown",
   "metadata": {
    "id": "dBemUrbOP-TS"
   },
   "source": [
    "### (1) 라이브러리 로딩"
   ]
  },
  {
   "cell_type": "code",
   "execution_count": null,
   "metadata": {
    "id": "yFfi2rWqP-TT"
   },
   "outputs": [],
   "source": [
    "import pandas as pd\n",
    "import numpy as np\n",
    "import matplotlib.pyplot as plt\n",
    "import seaborn as sns\n",
    "from tqdm import tqdm\n",
    "import warnings\n",
    "warnings.simplefilter(action='ignore', category=Warning)\n",
    "\n",
    "from sklearn.metrics import *\n",
    "from sklearn.model_selection import train_test_split\n",
    "from sklearn.ensemble import IsolationForest"
   ]
  },
  {
   "cell_type": "markdown",
   "metadata": {
    "id": "0idcAKU0P-TT"
   },
   "source": [
    "### (2) 데이터셋 불러오기"
   ]
  },
  {
   "cell_type": "code",
   "execution_count": null,
   "metadata": {
    "id": "2zyxe46-Bdms"
   },
   "outputs": [],
   "source": [
    "path = \"https://raw.githubusercontent.com/DA4BAM/dataset/master/creditcard_simple.csv\"\n",
    "data = pd.read_csv(path)\n",
    "data.head()"
   ]
  },
  {
   "cell_type": "code",
   "execution_count": null,
   "metadata": {
    "id": "7rm7Km-tgQQG"
   },
   "outputs": [],
   "source": [
    "print(data['fraud'].value_counts())\n",
    "print('='* 100)\n",
    "print(data['fraud'].value_counts()/data.shape[0])"
   ]
  },
  {
   "cell_type": "markdown",
   "metadata": {
    "id": "hDC9Z8vdP-TU"
   },
   "source": [
    "## 2.데이터 준비"
   ]
  },
  {
   "cell_type": "markdown",
   "metadata": {
    "id": "9VHT2bGTcPM7"
   },
   "source": [
    "* 데이터 분할\n",
    "    * x, y 나누기\n",
    "    * train, val 나누기 : validation set을 6000건으로"
   ]
  },
  {
   "cell_type": "code",
   "execution_count": null,
   "metadata": {
    "id": "i12ZLg6MKxEt"
   },
   "outputs": [],
   "source": []
  },
  {
   "cell_type": "code",
   "execution_count": null,
   "metadata": {
    "id": "QycPweFycQoo"
   },
   "outputs": [],
   "source": []
  },
  {
   "cell_type": "code",
   "execution_count": null,
   "metadata": {
    "id": "CvCO5Pru_vuo"
   },
   "outputs": [],
   "source": []
  },
  {
   "cell_type": "code",
   "execution_count": null,
   "metadata": {
    "id": "_T_NGk-OKzYN"
   },
   "outputs": [],
   "source": []
  },
  {
   "cell_type": "markdown",
   "metadata": {
    "id": "XiD3ZxjrghkX"
   },
   "source": [
    "## 3.모델링1\n",
    "* Isolation Forest 모델을 생성합니다.\n",
    "    * Contamination 값을 조절하면서 모델을 최적화 합시다.\n",
    "    * 성능은 사기거래에 대한 f1 스코어 입니다."
   ]
  },
  {
   "cell_type": "code",
   "execution_count": null,
   "metadata": {
    "id": "n2LbVYMoHJOn"
   },
   "outputs": [],
   "source": []
  },
  {
   "cell_type": "code",
   "execution_count": null,
   "metadata": {
    "id": "IuGLZIt8H9pi"
   },
   "outputs": [],
   "source": []
  },
  {
   "cell_type": "code",
   "execution_count": null,
   "metadata": {
    "id": "jn8U4POsIevh"
   },
   "outputs": [],
   "source": []
  },
  {
   "cell_type": "code",
   "execution_count": null,
   "metadata": {
    "id": "At9H5e0PIooE"
   },
   "outputs": [],
   "source": []
  },
  {
   "cell_type": "markdown",
   "metadata": {
    "id": "uUOdxXmOLQdn"
   },
   "source": [
    "## 4.모델링2\n",
    "* Isolation Forest 모델을 생성합니다.\n",
    "    * 모델링1에서 찾은 contamination 값을 고정시켜놓고\n",
    "    * n_estimators 값을 조절해 봅시다.\n",
    "        * 범위는 여러분이 알아서 지정하세요."
   ]
  },
  {
   "cell_type": "code",
   "execution_count": null,
   "metadata": {
    "id": "T4FhPLLULQdn"
   },
   "outputs": [],
   "source": []
  },
  {
   "cell_type": "code",
   "execution_count": null,
   "metadata": {
    "id": "hvX3i4r-LQdo"
   },
   "outputs": [],
   "source": []
  },
  {
   "cell_type": "code",
   "execution_count": null,
   "metadata": {
    "id": "tD1jfZFQLQdo"
   },
   "outputs": [],
   "source": []
  },
  {
   "cell_type": "code",
   "execution_count": null,
   "metadata": {
    "id": "B1DkebhqLQdp"
   },
   "outputs": [],
   "source": []
  },
  {
   "cell_type": "code",
   "execution_count": null,
   "metadata": {
    "id": "_inoAu6BJ0a2"
   },
   "outputs": [],
   "source": []
  },
  {
   "cell_type": "markdown",
   "metadata": {
    "id": "1XxP_HFHh9JI"
   },
   "source": [
    "## 5.[추가]모델링3\n",
    "* One Class SVM 모델을 생성합니다.\n",
    "    * nu, gamma를 조절하면서 최고의 성능(f1)을 얻는 모델을 생성해 봅시다.\n",
    "    * isolation forest 모델과 비교해 봅시다."
   ]
  },
  {
   "cell_type": "code",
   "execution_count": null,
   "metadata": {
    "id": "87co7ug9h9Jb"
   },
   "outputs": [],
   "source": [
    "from sklearn.preprocessing import MinMaxScaler\n",
    "from sklearn.svm import OneClassSVM"
   ]
  },
  {
   "cell_type": "code",
   "execution_count": null,
   "metadata": {
    "id": "dnEa1b9Oh9Jb"
   },
   "outputs": [],
   "source": []
  },
  {
   "cell_type": "code",
   "execution_count": null,
   "metadata": {
    "id": "mYLwBppIh9Jb"
   },
   "outputs": [],
   "source": []
  },
  {
   "cell_type": "code",
   "execution_count": null,
   "metadata": {
    "id": "KFZISOvHh9Jc"
   },
   "outputs": [],
   "source": []
  },
  {
   "cell_type": "code",
   "execution_count": null,
   "metadata": {
    "id": "PtW9dMhfh9Jc"
   },
   "outputs": [],
   "source": []
  }
 ],
 "metadata": {
  "colab": {
   "provenance": [],
   "toc_visible": true
  },
  "kernelspec": {
   "display_name": "Python 3 (ipykernel)",
   "language": "python",
   "name": "python3"
  },
  "language_info": {
   "codemirror_mode": {
    "name": "ipython",
    "version": 3
   },
   "file_extension": ".py",
   "mimetype": "text/x-python",
   "name": "python",
   "nbconvert_exporter": "python",
   "pygments_lexer": "ipython3",
   "version": "3.10.9"
  }
 },
 "nbformat": 4,
 "nbformat_minor": 4
}
