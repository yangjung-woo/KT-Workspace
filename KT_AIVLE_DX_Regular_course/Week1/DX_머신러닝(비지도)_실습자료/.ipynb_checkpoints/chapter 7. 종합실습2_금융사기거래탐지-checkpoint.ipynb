{
 "cells": [
  {
   "cell_type": "markdown",
   "metadata": {
    "id": "H2PiE6pYmBv7"
   },
   "source": [
    "# 종합실습2 : 금융 사기거래 탐지\n",
    "\n"
   ]
  },
  {
   "cell_type": "markdown",
   "metadata": {
    "id": "eQ6zIu5HP-TR"
   },
   "source": [
    "## 1.환경준비"
   ]
  },
  {
   "cell_type": "markdown",
   "metadata": {
    "id": "dBemUrbOP-TS"
   },
   "source": [
    "### (1) 라이브러리 로딩"
   ]
  },
  {
   "cell_type": "code",
   "execution_count": 1,
   "metadata": {
    "id": "yFfi2rWqP-TT"
   },
   "outputs": [],
   "source": [
    "import pandas as pd\n",
    "import numpy as np\n",
    "import matplotlib.pyplot as plt\n",
    "import seaborn as sns\n",
    "from tqdm import tqdm\n",
    "import warnings\n",
    "warnings.simplefilter(action='ignore', category=Warning)\n",
    "\n",
    "from sklearn.metrics import *\n",
    "from sklearn.model_selection import train_test_split\n",
    "from sklearn.ensemble import IsolationForest"
   ]
  },
  {
   "cell_type": "markdown",
   "metadata": {
    "id": "0idcAKU0P-TT"
   },
   "source": [
    "### (2) 데이터셋 불러오기"
   ]
  },
  {
   "cell_type": "code",
   "execution_count": 3,
   "metadata": {
    "id": "2zyxe46-Bdms"
   },
   "outputs": [
    {
     "data": {
      "text/html": [
       "<div>\n",
       "<style scoped>\n",
       "    .dataframe tbody tr th:only-of-type {\n",
       "        vertical-align: middle;\n",
       "    }\n",
       "\n",
       "    .dataframe tbody tr th {\n",
       "        vertical-align: top;\n",
       "    }\n",
       "\n",
       "    .dataframe thead th {\n",
       "        text-align: right;\n",
       "    }\n",
       "</style>\n",
       "<table border=\"1\" class=\"dataframe\">\n",
       "  <thead>\n",
       "    <tr style=\"text-align: right;\">\n",
       "      <th></th>\n",
       "      <th>x1</th>\n",
       "      <th>x2</th>\n",
       "      <th>x3</th>\n",
       "      <th>x4</th>\n",
       "      <th>x5</th>\n",
       "      <th>x6</th>\n",
       "      <th>x7</th>\n",
       "      <th>x8</th>\n",
       "      <th>x9</th>\n",
       "      <th>x10</th>\n",
       "      <th>x11</th>\n",
       "      <th>x12</th>\n",
       "      <th>x13</th>\n",
       "      <th>x14</th>\n",
       "      <th>x15</th>\n",
       "      <th>x16</th>\n",
       "      <th>x17</th>\n",
       "      <th>x18</th>\n",
       "      <th>amount</th>\n",
       "      <th>fraud</th>\n",
       "    </tr>\n",
       "  </thead>\n",
       "  <tbody>\n",
       "    <tr>\n",
       "      <th>0</th>\n",
       "      <td>0.733</td>\n",
       "      <td>-0.544</td>\n",
       "      <td>-0.601</td>\n",
       "      <td>0.020</td>\n",
       "      <td>0.181</td>\n",
       "      <td>0.172</td>\n",
       "      <td>-1.768</td>\n",
       "      <td>-0.083</td>\n",
       "      <td>-0.323</td>\n",
       "      <td>0.110</td>\n",
       "      <td>-0.019</td>\n",
       "      <td>-0.457</td>\n",
       "      <td>-0.088</td>\n",
       "      <td>0.167</td>\n",
       "      <td>0.270</td>\n",
       "      <td>-0.513</td>\n",
       "      <td>-0.006</td>\n",
       "      <td>0.044</td>\n",
       "      <td>199.45</td>\n",
       "      <td>0</td>\n",
       "    </tr>\n",
       "    <tr>\n",
       "      <th>1</th>\n",
       "      <td>1.942</td>\n",
       "      <td>-0.056</td>\n",
       "      <td>1.319</td>\n",
       "      <td>1.197</td>\n",
       "      <td>0.367</td>\n",
       "      <td>0.265</td>\n",
       "      <td>0.006</td>\n",
       "      <td>0.310</td>\n",
       "      <td>-0.522</td>\n",
       "      <td>-0.223</td>\n",
       "      <td>-0.268</td>\n",
       "      <td>-0.595</td>\n",
       "      <td>0.345</td>\n",
       "      <td>-1.040</td>\n",
       "      <td>-0.432</td>\n",
       "      <td>0.280</td>\n",
       "      <td>-0.018</td>\n",
       "      <td>-0.057</td>\n",
       "      <td>1.98</td>\n",
       "      <td>0</td>\n",
       "    </tr>\n",
       "    <tr>\n",
       "      <th>2</th>\n",
       "      <td>-0.223</td>\n",
       "      <td>1.182</td>\n",
       "      <td>0.166</td>\n",
       "      <td>-1.328</td>\n",
       "      <td>0.151</td>\n",
       "      <td>-0.101</td>\n",
       "      <td>-0.489</td>\n",
       "      <td>0.476</td>\n",
       "      <td>0.034</td>\n",
       "      <td>-0.174</td>\n",
       "      <td>0.404</td>\n",
       "      <td>1.288</td>\n",
       "      <td>-0.076</td>\n",
       "      <td>0.071</td>\n",
       "      <td>-0.787</td>\n",
       "      <td>-0.218</td>\n",
       "      <td>0.382</td>\n",
       "      <td>0.259</td>\n",
       "      <td>0.89</td>\n",
       "      <td>0</td>\n",
       "    </tr>\n",
       "    <tr>\n",
       "      <th>3</th>\n",
       "      <td>0.672</td>\n",
       "      <td>-1.261</td>\n",
       "      <td>-0.602</td>\n",
       "      <td>-0.866</td>\n",
       "      <td>-0.335</td>\n",
       "      <td>0.875</td>\n",
       "      <td>0.786</td>\n",
       "      <td>0.012</td>\n",
       "      <td>1.338</td>\n",
       "      <td>0.655</td>\n",
       "      <td>0.201</td>\n",
       "      <td>0.078</td>\n",
       "      <td>-0.527</td>\n",
       "      <td>0.133</td>\n",
       "      <td>0.745</td>\n",
       "      <td>0.041</td>\n",
       "      <td>-0.074</td>\n",
       "      <td>0.049</td>\n",
       "      <td>340.31</td>\n",
       "      <td>0</td>\n",
       "    </tr>\n",
       "    <tr>\n",
       "      <th>4</th>\n",
       "      <td>-3.368</td>\n",
       "      <td>0.099</td>\n",
       "      <td>0.458</td>\n",
       "      <td>-1.572</td>\n",
       "      <td>0.672</td>\n",
       "      <td>-3.188</td>\n",
       "      <td>1.019</td>\n",
       "      <td>-0.590</td>\n",
       "      <td>1.930</td>\n",
       "      <td>0.265</td>\n",
       "      <td>0.861</td>\n",
       "      <td>1.249</td>\n",
       "      <td>1.851</td>\n",
       "      <td>-0.117</td>\n",
       "      <td>1.220</td>\n",
       "      <td>0.000</td>\n",
       "      <td>1.036</td>\n",
       "      <td>0.004</td>\n",
       "      <td>320.01</td>\n",
       "      <td>1</td>\n",
       "    </tr>\n",
       "  </tbody>\n",
       "</table>\n",
       "</div>"
      ],
      "text/plain": [
       "      x1     x2     x3     x4     x5     x6     x7     x8     x9    x10  \\\n",
       "0  0.733 -0.544 -0.601  0.020  0.181  0.172 -1.768 -0.083 -0.323  0.110   \n",
       "1  1.942 -0.056  1.319  1.197  0.367  0.265  0.006  0.310 -0.522 -0.223   \n",
       "2 -0.223  1.182  0.166 -1.328  0.151 -0.101 -0.489  0.476  0.034 -0.174   \n",
       "3  0.672 -1.261 -0.602 -0.866 -0.335  0.875  0.786  0.012  1.338  0.655   \n",
       "4 -3.368  0.099  0.458 -1.572  0.672 -3.188  1.019 -0.590  1.930  0.265   \n",
       "\n",
       "     x11    x12    x13    x14    x15    x16    x17    x18  amount  fraud  \n",
       "0 -0.019 -0.457 -0.088  0.167  0.270 -0.513 -0.006  0.044  199.45      0  \n",
       "1 -0.268 -0.595  0.345 -1.040 -0.432  0.280 -0.018 -0.057    1.98      0  \n",
       "2  0.404  1.288 -0.076  0.071 -0.787 -0.218  0.382  0.259    0.89      0  \n",
       "3  0.201  0.078 -0.527  0.133  0.745  0.041 -0.074  0.049  340.31      0  \n",
       "4  0.861  1.249  1.851 -0.117  1.220  0.000  1.036  0.004  320.01      1  "
      ]
     },
     "execution_count": 3,
     "metadata": {},
     "output_type": "execute_result"
    }
   ],
   "source": [
    "path = \"https://raw.githubusercontent.com/DA4BAM/dataset/master/creditcard_simple.csv\"\n",
    "data = pd.read_csv(path)\n",
    "data.head()"
   ]
  },
  {
   "cell_type": "code",
   "execution_count": 5,
   "metadata": {
    "id": "7rm7Km-tgQQG"
   },
   "outputs": [
    {
     "name": "stdout",
     "output_type": "stream",
     "text": [
      "fraud\n",
      "0    19508\n",
      "1      492\n",
      "Name: count, dtype: int64\n",
      "====================================================================================================\n",
      "fraud\n",
      "0    0.9754\n",
      "1    0.0246\n",
      "Name: count, dtype: float64\n"
     ]
    }
   ],
   "source": [
    "print(data['fraud'].value_counts())\n",
    "print('='* 100)\n",
    "print(data['fraud'].value_counts()/data.shape[0])"
   ]
  },
  {
   "cell_type": "markdown",
   "metadata": {
    "id": "hDC9Z8vdP-TU"
   },
   "source": [
    "## 2.데이터 준비"
   ]
  },
  {
   "cell_type": "markdown",
   "metadata": {
    "id": "9VHT2bGTcPM7"
   },
   "source": [
    "* 데이터 분할\n",
    "    * x, y 나누기\n",
    "    * train, val 나누기 : validation set을 6000건으로"
   ]
  },
  {
   "cell_type": "code",
   "execution_count": 7,
   "metadata": {
    "id": "i12ZLg6MKxEt"
   },
   "outputs": [],
   "source": [
    "#from sklearn.model_selection import train_test_split\n",
    "target = 'fraud'\n",
    "x = data.drop(columns=target)\n",
    "y = data.loc[:,target]"
   ]
  },
  {
   "cell_type": "code",
   "execution_count": 9,
   "metadata": {
    "id": "QycPweFycQoo"
   },
   "outputs": [],
   "source": [
    "x_train, x_val, y_train, y_val = train_test_split(x, y, test_size=6000, random_state=20)"
   ]
  },
  {
   "cell_type": "code",
   "execution_count": null,
   "metadata": {
    "id": "CvCO5Pru_vuo"
   },
   "outputs": [],
   "source": []
  },
  {
   "cell_type": "code",
   "execution_count": null,
   "metadata": {
    "id": "_T_NGk-OKzYN"
   },
   "outputs": [],
   "source": []
  },
  {
   "cell_type": "markdown",
   "metadata": {
    "id": "XiD3ZxjrghkX"
   },
   "source": [
    "## 3.모델링1\n",
    "* Isolation Forest 모델을 생성합니다.\n",
    "    * Contamination 값을 조절하면서 모델을 최적화 합시다.\n",
    "    * 성능은 사기거래에 대한 f1 스코어 입니다."
   ]
  },
  {
   "cell_type": "code",
   "execution_count": 11,
   "metadata": {
    "id": "n2LbVYMoHJOn"
   },
   "outputs": [],
   "source": [
    "# 최적의 contamination 찾기\n",
    "result = []\n",
    "conts = np.linspace(0.01, 0.5, 100)\n",
    "for c in conts:\n",
    "    model = IsolationForest(contamination = c, random_state = 20)\n",
    "    model.fit(x_train)\n",
    "    pred = model.predict(x_val)\n",
    "    pred = np.where(pred == 1, 0, 1)\n",
    "    result.append(f1_score(y_val, pred))"
   ]
  },
  {
   "cell_type": "code",
   "execution_count": 14,
   "metadata": {
    "id": "IuGLZIt8H9pi"
   },
   "outputs": [
    {
     "name": "stdout",
     "output_type": "stream",
     "text": [
      "0.287 0.03\n"
     ]
    },
    {
     "data": {
      "image/png": "[encoded data removed]",
      "text/plain": [
       "<Figure size 640x480 with 1 Axes>"
      ]
     },
     "metadata": {},
     "output_type": "display_data"
    }
   ],
   "source": [
    "# 시각화 \n",
    "print(round(max(result),3), round(conts[np.argmax(result)], 3) )\n",
    "plt.plot(conts, result, marker = '.')\n",
    "plt.grid()\n",
    "plt.show()"
   ]
  },
  {
   "cell_type": "code",
   "execution_count": null,
   "metadata": {
    "id": "jn8U4POsIevh"
   },
   "outputs": [],
   "source": [
    "# 최적의 contamination = 0.03    / score = 0.287"
   ]
  },
  {
   "cell_type": "code",
   "execution_count": null,
   "metadata": {
    "id": "At9H5e0PIooE"
   },
   "outputs": [],
   "source": []
  },
  {
   "cell_type": "markdown",
   "metadata": {
    "id": "uUOdxXmOLQdn"
   },
   "source": [
    "## 4.모델링2\n",
    "* Isolation Forest 모델을 생성합니다.\n",
    "    * 모델링1에서 찾은 contamination 값을 고정시켜놓고\n",
    "    * n_estimators 값을 조절해 봅시다.\n",
    "        * 범위는 여러분이 알아서 지정하세요."
   ]
  },
  {
   "cell_type": "code",
   "execution_count": 21,
   "metadata": {
    "id": "T4FhPLLULQdn"
   },
   "outputs": [],
   "source": [
    "# 최적의 n_estimators 찾기\n",
    "result = []\n",
    "conts = np.arange(100, 201, 1)\n",
    "for c in conts:\n",
    "    model = IsolationForest(contamination =  0.03, n_estimators =c , random_state = 20)\n",
    "    model.fit(x_train)\n",
    "    pred = model.predict(x_val)\n",
    "    pred = np.where(pred == 1, 0, 1)\n",
    "    result.append(f1_score(y_val, pred))"
   ]
  },
  {
   "cell_type": "code",
   "execution_count": 23,
   "metadata": {
    "id": "hvX3i4r-LQdo"
   },
   "outputs": [
    {
     "name": "stdout",
     "output_type": "stream",
     "text": [
      "0.29 115\n"
     ]
    },
    {
     "data": {
      "image/png": "[encoded data removed]",
      "text/plain": [
       "<Figure size 640x480 with 1 Axes>"
      ]
     },
     "metadata": {},
     "output_type": "display_data"
    }
   ],
   "source": [
    "# 시각화 \n",
    "print(round(max(result),3), round(conts[np.argmax(result)], 3) )\n",
    "plt.plot(conts, result, marker = '.')\n",
    "plt.grid()\n",
    "plt.show()"
   ]
  },
  {
   "cell_type": "code",
   "execution_count": null,
   "metadata": {
    "id": "tD1jfZFQLQdo"
   },
   "outputs": [],
   "source": [
    "# 최적의 n_estimators 는 115 d이다"
   ]
  },
  {
   "cell_type": "code",
   "execution_count": null,
   "metadata": {
    "id": "B1DkebhqLQdp"
   },
   "outputs": [],
   "source": []
  },
  {
   "cell_type": "code",
   "execution_count": null,
   "metadata": {
    "id": "_inoAu6BJ0a2"
   },
   "outputs": [],
   "source": []
  },
  {
   "cell_type": "markdown",
   "metadata": {
    "id": "1XxP_HFHh9JI"
   },
   "source": [
    "## 5.[추가]모델링3\n",
    "* One Class SVM 모델을 생성합니다.\n",
    "    * nu, gamma를 조절하면서 최고의 성능(f1)을 얻는 모델을 생성해 봅시다.\n",
    "    * isolation forest 모델과 비교해 봅시다."
   ]
  },
  {
   "cell_type": "code",
   "execution_count": null,
   "metadata": {
    "id": "87co7ug9h9Jb"
   },
   "outputs": [],
   "source": [
    "from sklearn.preprocessing import MinMaxScaler\n",
    "from sklearn.svm import OneClassSVM"
   ]
  },
  {
   "cell_type": "code",
   "execution_count": null,
   "metadata": {
    "id": "dnEa1b9Oh9Jb"
   },
   "outputs": [],
   "source": []
  },
  {
   "cell_type": "code",
   "execution_count": null,
   "metadata": {
    "id": "mYLwBppIh9Jb"
   },
   "outputs": [],
   "source": []
  },
  {
   "cell_type": "code",
   "execution_count": null,
   "metadata": {
    "id": "KFZISOvHh9Jc"
   },
   "outputs": [],
   "source": []
  },
  {
   "cell_type": "code",
   "execution_count": null,
   "metadata": {
    "id": "PtW9dMhfh9Jc"
   },
   "outputs": [],
   "source": []
  }
 ],
 "metadata": {
  "colab": {
   "provenance": [],
   "toc_visible": true
  },
  "kernelspec": {
   "display_name": "Python 3 (ipykernel)",
   "language": "python",
   "name": "python3"
  },
  "language_info": {
   "codemirror_mode": {
    "name": "ipython",
    "version": 3
   },
   "file_extension": ".py",
   "mimetype": "text/x-python",
   "name": "python",
   "nbconvert_exporter": "python",
   "pygments_lexer": "ipython3",
   "version": "3.12.4"
  }
 },
 "nbformat": 4,
 "nbformat_minor": 4
}
