








import numpy as np
import pandas as pd
import matplotlib.pyplot as plt
import seaborn as sns

from sklearn.cluster import KMeans
from sklearn.preprocessing import MinMaxScaler

import warnings
warnings.filterwarnings("ignore", category=UserWarning)





path = 'https://raw.githubusercontent.com/DA4BAM/dataset/master/customer_segmentation.csv'
data = pd.read_csv(path)
data.head()








# 군집화는 아래 변수들만 사용합니다.
x = data.loc[:, ['Age', 'Income', 'Score']]


x





scaler = MinMaxScaler()
x_s = scaler.fit_transform(x)


x_s








from sklearn.cluster import KMeans
from sklearn.metrics import silhouette_score # x , y예측 을 값으로 받음 



k_values = range(2,21)

inertias = []
sil_score = []
for k in k_values:
    model = KMeans(n_clusters = k , n_init = 'auto')
    model.fit(x_s)
    inertias.append(model.inertia_) # 군집간 거리 측정
    pred = model.predict(x_s)
    sil_score.append(silhouette_score(x_s,pred)) # 군집간 실루엣 점수



# Plot k vs inertias
plt.figure(figsize = (8, 6))
plt.plot(k_values, inertias, marker='o')
plt.xlabel('number of clusters, k')
plt.ylabel('inertia')
plt.grid()
plt.show()



# Plot k vs siluet
plt.figure(figsize = (8, 6))
plt.plot(k_values, sil_score, marker='o')
plt.xlabel('n_clusters')
plt.ylabel('Silhouette Score')
plt.grid()
plt.show()


# 최적의 군집은 k = 7 임을 알 수 있음 





# 예측
# 모델 생성
model = KMeans(n_clusters= 7, n_init = 'auto')
model.fit(x_s)
pred = model.predict(x_s)

# 예측 결과를 데이터프레임으로 만들고
pred = pd.DataFrame(pred, columns = ['predicted'])

# 원본 데이터와 합치기
x = pd.concat([x,pred], axis = 1)

# 예측 결과는 카테고리 타입으로 변경
x['predicted'] = x['predicted'].astype('category')




x.info()
































from statsmodels.graphics.mosaicplot import mosaic








# 'Age', 'Income', 'Score', 'pred'만 추출
















