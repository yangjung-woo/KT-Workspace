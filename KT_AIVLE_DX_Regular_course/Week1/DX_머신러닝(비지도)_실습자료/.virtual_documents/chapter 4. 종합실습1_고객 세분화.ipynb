








import numpy as np
import pandas as pd
import matplotlib.pyplot as plt
import seaborn as sns

from sklearn.cluster import KMeans
from sklearn.preprocessing import MinMaxScaler

import warnings
warnings.filterwarnings("ignore", category=UserWarning)





path = 'https://raw.githubusercontent.com/DA4BAM/dataset/master/customer_segmentation.csv'
data = pd.read_csv(path)
data.head()








# 군집화는 아래 변수들만 사용합니다.
x = data.loc[:, ['Age', 'Income', 'Score']]


x





scaler = MinMaxScaler()
x_s = scaler.fit_transform(x)


x_s








from sklearn.cluster import KMeans
from sklearn.metrics import silhouette_score # x , y예측 을 값으로 받음 



k_values = range(2,21)

inertias = []
sil_score = []
for k in k_values:
    model = KMeans(n_clusters = k , n_init = 'auto')

    pred = model.fit_predict(x_s) 
    # model.fit(x_s) # 정규화 
    # pred = model.predict(x_s)# 정규화
    
    inertias.append(model.inertia_) # 군집간 거리 측정
    sil_score.append(silhouette_score(x_s,pred)) # 군집간 실루엣 점수



# Plot k vs inertias
plt.figure(figsize = (8, 6))
plt.plot(k_values, inertias, marker='o')
plt.xlabel('number of clusters, k')
plt.ylabel('inertia')
plt.grid()
plt.show()



# Plot k vs siluet
plt.figure(figsize = (8, 6))
plt.plot(k_values, sil_score, marker='o')
plt.xlabel('n_clusters')
plt.ylabel('Silhouette Score')
plt.grid()
plt.show()


# 최적의 군집은 k = 5 임을 알 수 있음 
# 적절힌 k 설정해서 다시 모델링 
model = KMeans(n_clusters= 5, n_init = 'auto')
model.fit(x_s)
pred = model.predict(x_s)





# 예측
pred = model.predict(x_s)

# 예측 결과를 데이터프레임으로 만들고
pred = pd.DataFrame(pred, columns = ['Cluster'])

# 원본 데이터와 합치기
result = pd.concat([data,pred], axis = 1)

# 예측 결과는 카테고리 타입으로 변경
result['Cluster'] = result['Cluster'].astype('category')




result.info()


result














# 범주 -> 수치 
feature = 'Age'

plt.figure(figsize =(10,4))
plt.subplot(1,2,1)
sns.kdeplot(x=feature, data = result , hue ='Cluster')
plt.grid()

plt.figure(figsize =(10,4))
plt.subplot(1,2,2)
sns.boxplot(x=feature, data = result , hue ='Cluster')
plt.grid()

plt.tight_layout()
plt.show()





feature = 'Income'
plt.figure(figsize =(10,4))
plt.subplot(1,2,1)
sns.kdeplot(x=feature, data = result , hue ='Cluster')
plt.grid()

plt.figure(figsize =(10,4))
plt.subplot(1,2,2)
sns.boxplot(x=feature, data = result , hue ='Cluster')
plt.grid()

plt.tight_layout()
plt.show()





feature = 'Score'
plt.figure(figsize =(10,4))
plt.subplot(1,2,1)
sns.kdeplot(x=feature, data = result , hue ='Cluster')
plt.grid()

plt.figure(figsize =(10,4))
plt.subplot(1,2,2)
sns.boxplot(x=feature, data = result , hue ='Cluster')
plt.grid()

plt.tight_layout()
plt.show()





from statsmodels.graphics.mosaicplot import mosaic


feature = 'Gender'
plt.figure(figsize =(10,4))
mosaic(result.sort_values('Cluster') , ['Cluster',feature])
plt.axhline





# 'Age', 'Income', 'Score', 'pred'만 추출
sns.pairplot(result[['Age', 'Income', 'Score', 'Cluster']],hue='Cluster')
plt.show()















