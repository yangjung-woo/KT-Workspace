{
 "cells": [
  {
   "cell_type": "markdown",
   "metadata": {
    "id": "H2PiE6pYmBv7"
   },
   "source": [
    "# 이상탐지 알고리즘 : Isolation Forest\n",
    "\n"
   ]
  },
  {
   "cell_type": "markdown",
   "metadata": {
    "id": "Wyg1gRj8ZxMK"
   },
   "source": [
    "## 0.환경준비"
   ]
  },
  {
   "cell_type": "code",
   "execution_count": null,
   "metadata": {
    "id": "jAShrdIaVklw"
   },
   "outputs": [],
   "source": [
    "import pandas as pd\n",
    "import numpy as np\n",
    "import matplotlib.pyplot as plt\n",
    "import seaborn as sns\n",
    "\n",
    "from sklearn.model_selection import train_test_split\n",
    "from sklearn.ensemble import IsolationForest # Isolation Forest!\n",
    "from sklearn.metrics import *\n",
    "\n",
    "from tqdm import tqdm\n",
    "import warnings\n",
    "warnings.simplefilter(action='ignore')"
   ]
  },
  {
   "cell_type": "markdown",
   "metadata": {
    "id": "CzcR-lzwGJ1S"
   },
   "source": [
    "## 1.Isolation Forest 개념이해\n",
    "\n",
    "> sklearn help : https://scikit-learn.org/stable/modules/generated/sklearn.ensemble.IsolationForest.html  \n",
    "Isolation Forest Original Paper : https://cs.nju.edu.cn/zhouzh/zhouzh.files/publication/icdm08b.pdf?q=isolation-forest"
   ]
  },
  {
   "cell_type": "markdown",
   "metadata": {
    "id": "bLLIpDXTGhl-"
   },
   "source": [
    "### (1) 샘플데이터 가져오기"
   ]
  },
  {
   "cell_type": "code",
   "execution_count": null,
   "metadata": {
    "id": "9bSg9omwPT9K"
   },
   "outputs": [],
   "source": [
    "# Single Blob\n",
    "X1 = pd.read_csv('https://raw.githubusercontent.com/DA4BAM/dataset/master/Anomaly_X.csv')\n",
    "\n",
    "# Double Blob\n",
    "X2 = pd.read_csv('https://raw.githubusercontent.com/DA4BAM/dataset/master/Anomaly_X2.csv')"
   ]
  },
  {
   "cell_type": "markdown",
   "metadata": {
    "id": "mO7F5uHN6yn3"
   },
   "source": [
    "### (2) 모델 시각화 함수"
   ]
  },
  {
   "cell_type": "markdown",
   "metadata": {
    "id": "J8iIAYmTRDBK"
   },
   "source": [
    "* 모델 시각화 함수 만들기\n",
    "    * 실전에서는 사용하기 어렵습니다.\n",
    "    * 교육적인 이해를 돕고자 사용합니다.(소스코드 문법 몰라도 됩니다!!)"
   ]
  },
  {
   "cell_type": "code",
   "execution_count": null,
   "metadata": {
    "id": "m1OAC8aCRGr-"
   },
   "outputs": [],
   "source": [
    "def model_visualize(model, v1, v2, title = \"\") :\n",
    "    # 메쉬그리드값 저장하기\n",
    "    xx, yy = np.meshgrid(np.linspace(-5, 5, 50), np.linspace(-5, 5, 50)) # mesh grid\n",
    "\n",
    "    # 메쉬 그리드값에 대해 모델 부터 Anomaly Score 만들기.\n",
    "    Z = model.decision_function(np.c_[xx.ravel(), yy.ravel()]) # Anomaly Score\n",
    "    Z = Z.reshape(xx.shape)\n",
    "    # 시각화\n",
    "    plt.figure(figsize = (8,8))\n",
    "    plt.title(title)\n",
    "\n",
    "    # 메쉬그리드 값의 Anomaly Score에 대한 등고선\n",
    "    plt.contourf(xx, yy, Z, cmap=plt.cm.Blues_r)\n",
    "\n",
    "    # 데이터 산점도 그리기.(예측 결과 Abnormal은 오렌지색, Normal은 흰색)\n",
    "    sns.scatterplot(x=v1, y=v2, sizes = 30, edgecolor='k', hue = pred, palette=['white', 'orange'])\n",
    "\n",
    "    plt.axis(\"tight\")\n",
    "    plt.xlim(-5, 5)\n",
    "    plt.ylim(-5, 5)\n",
    "    plt.show()"
   ]
  },
  {
   "cell_type": "markdown",
   "metadata": {
    "id": "2OnqI85BaN5a"
   },
   "source": [
    "### (3) Single Blob"
   ]
  },
  {
   "cell_type": "code",
   "execution_count": null,
   "metadata": {
    "id": "lb-4aVcyVbrU"
   },
   "outputs": [],
   "source": [
    "# sample data\n",
    "plt.figure(figsize = (8,8))\n",
    "\n",
    "plt.scatter(X1['v1'], X1['v2'], c=\"white\", s=30, edgecolor=\"k\")\n",
    "\n",
    "plt.xlim(-5, 5)\n",
    "plt.ylim(-5, 5)\n",
    "plt.grid()\n",
    "plt.show()"
   ]
  },
  {
   "cell_type": "markdown",
   "metadata": {
    "id": "kFnMlZObYWDe"
   },
   "source": [
    "* Isolation Forest 모델을 일단 만들어 봅시다."
   ]
  },
  {
   "cell_type": "code",
   "execution_count": null,
   "metadata": {
    "id": "ddpwDukAYX7z"
   },
   "outputs": [],
   "source": [
    "# 모델링\n",
    "model = IsolationForest(contamination = 0.1, n_estimators = 50 )\n",
    "model.fit(X1)\n",
    "pred = model.predict(X1)\n",
    "pred"
   ]
  },
  {
   "cell_type": "code",
   "execution_count": null,
   "metadata": {
    "id": "qNNXeHSivtjv"
   },
   "outputs": [],
   "source": [
    "pred = np.where(pred == 1, 0, 1)"
   ]
  },
  {
   "cell_type": "markdown",
   "metadata": {
    "id": "2ods8CkTaxCK"
   },
   "source": [
    "* 모델을 시각화 해 봅시다."
   ]
  },
  {
   "cell_type": "code",
   "execution_count": null,
   "metadata": {
    "id": "qUIchPwqmCw-"
   },
   "outputs": [],
   "source": [
    "model_visualize(model, X1['v1'], X1['v2'], 'Isolation Forest')"
   ]
  },
  {
   "cell_type": "markdown",
   "metadata": {
    "id": "f0_anbtNdLn5"
   },
   "source": [
    "* 몇가지를 조절해 봅시다.\n",
    "    * contamination\n",
    "        * Score 계산 후, 이상치로 간주할 비율\n",
    "    * n_estimators\n",
    "        * 하나의 데이터를 고립시키기 위해 생성하는 tree의 개수\n",
    "        * Default : 100"
   ]
  },
  {
   "cell_type": "code",
   "execution_count": null,
   "metadata": {
    "id": "2OOn0bsTfo-X"
   },
   "outputs": [],
   "source": [
    "# 여기를 조정해 봅시다.\n",
    "cont = 0.4\n",
    "n_est = 100\n",
    "\n",
    "# 모델링\n",
    "model = IsolationForest(contamination = cont, n_estimators = n_est\n",
    "                        , random_state = 20)\n",
    "model.fit(X1)\n",
    "pred = model.predict(X1)\n",
    "pred = np.where(pred == 1, 0, 1)\n",
    "\n",
    "model_visualize(model, X1['v1'], X1['v2'], 'Isolation Forest')"
   ]
  },
  {
   "cell_type": "markdown",
   "metadata": {
    "id": "lV-y2QPnjgzk"
   },
   "source": [
    "### (4) Double Blob"
   ]
  },
  {
   "cell_type": "code",
   "execution_count": null,
   "metadata": {
    "id": "UDDn3ovbjgzk"
   },
   "outputs": [],
   "source": [
    "plt.figure(figsize = (8,8))\n",
    "\n",
    "plt.scatter(X2['v1'], X2['v2'], c=\"white\", s=30, edgecolor=\"k\")\n",
    "\n",
    "plt.xlim(-5, 5)\n",
    "plt.ylim(-5, 5)\n",
    "plt.grid()\n",
    "plt.show()"
   ]
  },
  {
   "cell_type": "markdown",
   "metadata": {
    "id": "kVKug9l3jgzl"
   },
   "source": [
    "* Isolation Forest 모델을 일단 만들어 봅시다."
   ]
  },
  {
   "cell_type": "code",
   "execution_count": null,
   "metadata": {
    "id": "jmtkttEHjgzl"
   },
   "outputs": [],
   "source": [
    "# 모델링\n",
    "model = IsolationForest(contamination = 0.1, n_estimators = 50 )\n",
    "model.fit(X2)\n",
    "pred = model.predict(X2)\n",
    "pred = np.where(pred == 1, 0, 1)"
   ]
  },
  {
   "cell_type": "markdown",
   "metadata": {
    "id": "XIr2LDgUjgzl"
   },
   "source": [
    "* 모델을 시각화 해 봅시다."
   ]
  },
  {
   "cell_type": "code",
   "execution_count": null,
   "metadata": {
    "id": "HhgInDn3jgzl"
   },
   "outputs": [],
   "source": [
    "model_visualize(model, X2['v1'], X2['v2'], 'Isolation Forest')"
   ]
  },
  {
   "cell_type": "markdown",
   "metadata": {
    "id": "_ONZWOVtjgzm"
   },
   "source": [
    "* 몇가지를 조절해 봅시다.\n",
    "    * contamination\n",
    "        * 데이터에서 존재하는 Abnormal 데이터의 비율.\n",
    "        * Score 계산 후, 이상치로 간주할 비율\n",
    "    * n_estimators\n",
    "        * 하나의 데이터를 고립시키기 위해 생성하는 tree의 개수\n",
    "        * Default : 100"
   ]
  },
  {
   "cell_type": "code",
   "execution_count": null,
   "metadata": {
    "id": "TnjwSJeYjgzm"
   },
   "outputs": [],
   "source": [
    "# 여기를 조정해 봅시다.\n",
    "cont = 0.03\n",
    "n_est = 300\n",
    "\n",
    "# 모델링\n",
    "model = IsolationForest(contamination = cont, n_estimators = n_est, random_state = 20)\n",
    "model.fit(X2)\n",
    "pred = model.predict(X2)\n",
    "pred = np.where(pred == 1, 0, 1)\n",
    "\n",
    "# 모델 시각화\n",
    "model_visualize(model, X2['v1'], X2['v2'], 'Isolation Forest')"
   ]
  },
  {
   "cell_type": "markdown",
   "metadata": {
    "id": "f4m9CpAlDYUx"
   },
   "source": [
    "## 2.반도체 제조공정간 불량 탐지\n"
   ]
  },
  {
   "cell_type": "markdown",
   "metadata": {
    "id": "KKJNXBfDPOoT"
   },
   "source": [
    "![](https://assets.pandaily.com/uploads/2021/10/semiconductor.png)"
   ]
  },
  {
   "cell_type": "markdown",
   "metadata": {
    "id": "47h5Hv4JQOgE"
   },
   "source": [
    "* 반도체 제조 공정은 시점별로 수많은 센서로부터 정보를 수집하여 공정을 감시합니다.\n",
    "* 센서정보와 함께 공정간 발생된 불량품에 대한 정보를 저장하였습니다.\n",
    "* 불량을 예측해 봅시다."
   ]
  },
  {
   "cell_type": "markdown",
   "metadata": {
    "id": "QdJ4vZmRDYUx"
   },
   "source": [
    "### (1) 데이터 준비"
   ]
  },
  {
   "cell_type": "markdown",
   "metadata": {
    "id": "P96JFMWpDYUy"
   },
   "source": [
    "* 데이터 로딩"
   ]
  },
  {
   "cell_type": "code",
   "execution_count": null,
   "metadata": {
    "id": "kqFX10WKDYUy"
   },
   "outputs": [],
   "source": [
    "path = \"https://raw.githubusercontent.com/DA4BAM/dataset/master/secom_9.csv\"\n",
    "data = pd.read_csv(path)\n",
    "\n",
    "data['label'] = 0\n",
    "data.loc[data['defeat']== 'defeat', 'label']= 1\n",
    "data.drop(['datetime','defeat'], axis = 1, inplace=True)\n",
    "data.head()"
   ]
  },
  {
   "cell_type": "markdown",
   "metadata": {
    "id": "Tv7I7P8nQioh"
   },
   "source": [
    "변수 정보\n",
    "* label : 1 - 불량, 0 - 정상\n",
    "* v### : 센서값들\n"
   ]
  },
  {
   "cell_type": "code",
   "execution_count": null,
   "metadata": {
    "id": "6K9iIhabQzXS"
   },
   "outputs": [],
   "source": [
    "target = 'label'"
   ]
  },
  {
   "cell_type": "code",
   "execution_count": null,
   "metadata": {
    "id": "r6pjfmqLQ1UK"
   },
   "outputs": [],
   "source": [
    "data[target].value_counts() / data.shape[0]"
   ]
  },
  {
   "cell_type": "markdown",
   "metadata": {
    "id": "Qs56G2oKQskZ"
   },
   "source": [
    "* x, y로 나누기"
   ]
  },
  {
   "cell_type": "code",
   "execution_count": null,
   "metadata": {
    "id": "M6xgH4RtDYUy"
   },
   "outputs": [],
   "source": [
    "x = data.drop(target, axis = 1)\n",
    "y = data.loc[:, target]"
   ]
  },
  {
   "cell_type": "markdown",
   "metadata": {
    "id": "qwDykgEY8rHx"
   },
   "source": [
    "* 데이터 분할\n",
    "    * 이미 test set은 분할되어 있다고 가정합니다.\n",
    "    * 주어진 데이터를 train set : validation set 으로 분할"
   ]
  },
  {
   "cell_type": "code",
   "execution_count": null,
   "metadata": {
    "id": "Boebo_Fc8rHy"
   },
   "outputs": [],
   "source": [
    "from sklearn.model_selection import train_test_split"
   ]
  },
  {
   "cell_type": "code",
   "execution_count": null,
   "metadata": {
    "id": "tjglVI_a8rHy"
   },
   "outputs": [],
   "source": [
    "# train_val에서 train : val = 8 : 2\n",
    "x_train, x_val, y_train, y_val = train_test_split(x, y, test_size=0.2, random_state = 20)"
   ]
  },
  {
   "cell_type": "code",
   "execution_count": null,
   "metadata": {
    "id": "AGYSbizf8rHy"
   },
   "outputs": [],
   "source": [
    "print(x_train.shape, x_val.shape)"
   ]
  },
  {
   "cell_type": "markdown",
   "metadata": {
    "id": "xKqqwwgOcr6l"
   },
   "source": [
    "### (2) Step1 : Contamination 조정\n",
    "* contamination 초기값 : train셋 y의 비율로 지정\n",
    "* validation 셋으로 예측을 하고, 평가해 봅시다."
   ]
  },
  {
   "cell_type": "markdown",
   "metadata": {
    "id": "jXfJVLvL7BQp"
   },
   "source": [
    "#### 1)모델링"
   ]
  },
  {
   "cell_type": "code",
   "execution_count": null,
   "metadata": {
    "id": "HVr24JGmHbEs"
   },
   "outputs": [],
   "source": [
    "y_train.value_counts(normalize = True)"
   ]
  },
  {
   "cell_type": "code",
   "execution_count": null,
   "metadata": {
    "id": "TA_KPD9-fD5_"
   },
   "outputs": [],
   "source": [
    "# contamination=0.068로 지정하고 모델을 생성해 봅시다.\n",
    "model = IsolationForest(contamination=0.07, random_state = 20)\n",
    "\n",
    "# 비지도 학습입니다. x_train만 사용!\n",
    "model.fit(x_train)"
   ]
  },
  {
   "cell_type": "markdown",
   "metadata": {
    "id": "7MOttr6x7Db5"
   },
   "source": [
    "#### 2)예측 및 평가"
   ]
  },
  {
   "cell_type": "code",
   "execution_count": null,
   "metadata": {
    "id": "aoyoYs5y7JTI"
   },
   "outputs": [],
   "source": [
    "# 예측\n",
    "pred = model.predict(x_val)\n",
    "\n",
    "# 결과를 1,0으로 변환(np.where)\n",
    "pred = np.where(pred == 1, 0, 1)\n",
    "\n",
    "# 분류 결과를 평가해 봅시다.\n",
    "print(confusion_matrix(y_val, pred))\n",
    "print(classification_report(y_val, pred))"
   ]
  },
  {
   "cell_type": "markdown",
   "metadata": {
    "id": "mnir3zeGGyth"
   },
   "source": [
    "### (3) 실습\n",
    "* contamination 값을 조절하면서 최적의 성능(f1)을 갖는 모델을 생성해 봅시다."
   ]
  },
  {
   "cell_type": "code",
   "execution_count": null,
   "metadata": {
    "id": "n2LbVYMoHJOn"
   },
   "outputs": [],
   "source": []
  },
  {
   "cell_type": "code",
   "execution_count": null,
   "metadata": {
    "id": "IuGLZIt8H9pi"
   },
   "outputs": [],
   "source": []
  },
  {
   "cell_type": "code",
   "execution_count": null,
   "metadata": {
    "id": "jn8U4POsIevh"
   },
   "outputs": [],
   "source": []
  },
  {
   "cell_type": "code",
   "execution_count": null,
   "metadata": {
    "id": "At9H5e0PIooE"
   },
   "outputs": [],
   "source": []
  },
  {
   "cell_type": "markdown",
   "metadata": {
    "id": "eq4Zk4haE94Z"
   },
   "source": [
    "## 3.[추가] Scoring 및 최적의 cut-off"
   ]
  },
  {
   "cell_type": "markdown",
   "metadata": {
    "id": "WYUGSNzd7PS9"
   },
   "source": [
    "### (1) Scoring\n",
    "\n",
    "* score 점수를 이용하여, 수동으로 cut-off 조절해가며 지표 계산 및 그래프를 그려 봅시다."
   ]
  },
  {
   "cell_type": "code",
   "execution_count": null,
   "metadata": {
    "id": "y5eaa0vufD07"
   },
   "outputs": [],
   "source": [
    "# 학습 데이터에 대한 abnormal 점수 계산\n",
    "tr_score = model.score_samples(x_train)\n",
    "\n",
    "# 0~1 의 값으로 score 바꾸기\n",
    "tr_score = -1 * tr_score\n",
    "\n",
    "# score의 분포 살펴보기\n",
    "sns.histplot(tr_score, kde= True)\n",
    "plt.show()"
   ]
  },
  {
   "cell_type": "markdown",
   "metadata": {
    "id": "XEzqtV3gGbSs"
   },
   "source": [
    "### (2) 최적의 cuf-off value 찾기"
   ]
  },
  {
   "cell_type": "markdown",
   "metadata": {
    "id": "wQTbZ7Z3iFxy"
   },
   "source": [
    "* score 점수를 이용하여, 수동으로 cut-off 조절해가며 지표 계산 및 그래프를 그려 봅시다.\n",
    "    * prec_rec_f1_curve 함수 이용\n",
    "    * validation set 이용"
   ]
  },
  {
   "cell_type": "code",
   "execution_count": null,
   "metadata": {
    "id": "F1D6Zq87GaDu"
   },
   "outputs": [],
   "source": [
    "from sklearn.metrics import precision_recall_curve\n",
    "\n",
    "def prec_rec_f1_curve(y, score, pos = 1) :\n",
    "\n",
    "    # precision, recall, f1 계산\n",
    "    precision, recall, thresholds  = precision_recall_curve(y, score, pos_label=1)\n",
    "    f1 = 2 / (1/precision + 1/recall)\n",
    "\n",
    "    # 그래프 그리기\n",
    "    plt.figure(figsize = (12,8))\n",
    "    plt.plot(thresholds, np.delete(precision, -1), label = 'precision')\n",
    "    plt.plot(thresholds, np.delete(recall, -1), label = 'recall')\n",
    "    plt.plot(thresholds, np.delete(f1, -1), label = 'f1')\n",
    "\n",
    "    #-------------------------------------------------------------------------\n",
    "    # 아래 코드는 차트 꾸미기 입니다.\n",
    "    # f1를 최대화 해주는 threshold\n",
    "    thre = round(thresholds[np.argmax(f1)],4)\n",
    "    f1s = round(max(f1),4)\n",
    "    plt.axvline(thre , color = 'darkred', linewidth = .7)\n",
    "    plt.axhline( f1s, color = 'darkred', linewidth = .7)\n",
    "    plt.text(thre, .5, thre, color = 'darkred')\n",
    "    plt.text(min(thresholds), f1s, f1s, color = 'darkred')\n",
    "\n",
    "    plt.xlabel('Anomaly Score')\n",
    "    plt.ylabel('Performance')\n",
    "    plt.legend()\n",
    "    plt.grid()\n",
    "    plt.show()\n",
    "\n",
    "    return precision, recall, f1, thresholds"
   ]
  },
  {
   "cell_type": "code",
   "execution_count": null,
   "metadata": {
    "id": "DHwZgKBfeV7I"
   },
   "outputs": [],
   "source": [
    "# validation score 계산\n",
    "va_score = model.score_samples(x_val)\n",
    "\n",
    "# 0~1 의 값으로 score 바꾸기\n",
    "va_score = -1 * va_score\n",
    "\n",
    "# prec_rec_f1_curve 이용하여 최적의 cutoff 찾기\n",
    "\n",
    "_, _, f1, thresholds = prec_rec_f1_curve(y_val, va_score)"
   ]
  },
  {
   "cell_type": "markdown",
   "metadata": {
    "id": "6lAupyYi8sCw"
   },
   "source": [
    "* f1값을 최대화 하는 cut-off 값을 구해봅시다."
   ]
  },
  {
   "cell_type": "code",
   "execution_count": null,
   "metadata": {},
   "outputs": [],
   "source": [
    "cutoff_f1max = thresholds[np.argmax(f1)]"
   ]
  },
  {
   "cell_type": "code",
   "execution_count": null,
   "metadata": {
    "id": "xCtdiPfW8fL-"
   },
   "outputs": [],
   "source": [
    "pred = np.where(va_score >= cutoff_f1max,1,0)"
   ]
  },
  {
   "cell_type": "code",
   "execution_count": null,
   "metadata": {
    "id": "uFkVznHQeZcZ"
   },
   "outputs": [],
   "source": [
    "print(confusion_matrix(y_val, pred))\n",
    "print(classification_report(y_val, pred))"
   ]
  },
  {
   "cell_type": "markdown",
   "metadata": {
    "id": "kp0fafqDk8Yz"
   },
   "source": [
    "### (3) 하이퍼파라미터 튜닝\n",
    "* 다음의 하이퍼파라미터를 각각 조절하며, f1 스코어를 구하고, 경향과, 적절한 지점을 파악해 봅시다.\n",
    "    * n_estimators\n",
    "    * max_samples"
   ]
  },
  {
   "cell_type": "markdown",
   "metadata": {
    "id": "vj2diCaLH_-0"
   },
   "source": [
    "#### 1) contamination 값 찾기"
   ]
  },
  {
   "cell_type": "code",
   "execution_count": null,
   "metadata": {
    "id": "m8cwXS_WIDh_"
   },
   "outputs": [],
   "source": [
    "new_cont = sum(va_score >= cutoff_f1max) / len(va_score)\n",
    "new_cont"
   ]
  },
  {
   "cell_type": "markdown",
   "metadata": {
    "id": "M4IC87y9i4NS"
   },
   "source": [
    "#### 2) n_estimators"
   ]
  },
  {
   "cell_type": "code",
   "execution_count": null,
   "metadata": {
    "id": "n_NtMI8BpylF"
   },
   "outputs": [],
   "source": [
    "n_est = range(50,501,50)\n",
    "f1_list = []\n",
    "for t in tqdm(n_est) :\n",
    "    f1_temp = []\n",
    "    for i in range(5) :\n",
    "        model = IsolationForest(contamination = new_cont, n_estimators = t)\n",
    "        model.fit(x_train)\n",
    "        pred = model.predict(x_val)\n",
    "        pred = np.where(pred == 1, 0, 1)\n",
    "        f1_temp.append(f1_score(y_val, pred, pos_label=1))\n",
    "\n",
    "    f1_list.append(np.mean(f1_temp))"
   ]
  },
  {
   "cell_type": "code",
   "execution_count": null,
   "metadata": {
    "id": "SzJvUiQJsW1d"
   },
   "outputs": [],
   "source": [
    "plt.figure(figsize=(12, 8))\n",
    "plt.plot(n_est, f1_list, marker = '.')\n",
    "plt.ylabel('F1 Score')\n",
    "plt.xlabel('n_estimators')\n",
    "plt.grid()\n",
    "plt.show()"
   ]
  },
  {
   "cell_type": "markdown",
   "metadata": {
    "id": "SFriP8mPi8gq"
   },
   "source": [
    "#### 3) max_samples"
   ]
  },
  {
   "cell_type": "code",
   "execution_count": null,
   "metadata": {
    "id": "yLXbE1w84dsJ"
   },
   "outputs": [],
   "source": [
    "m_sam = range(500,5001,500)\n",
    "f1_list = []\n",
    "for s in tqdm(m_sam) :\n",
    "    f1_temp = []\n",
    "    for i in range(5) :\n",
    "        model = IsolationForest(contamination = new_cont, n_estimators = 300 , max_samples = s)\n",
    "        model.fit(x_train)\n",
    "        pred = model.predict(x_val)\n",
    "        pred = np.where(pred == 1, 0, 1)\n",
    "        f1_temp.append(f1_score(y_val, pred, pos_label=1))\n",
    "\n",
    "    f1_list.append(np.mean(f1_temp))\n"
   ]
  },
  {
   "cell_type": "code",
   "execution_count": null,
   "metadata": {
    "id": "zdERCFzj4dsK"
   },
   "outputs": [],
   "source": [
    "plt.figure(figsize=(12, 8))\n",
    "plt.plot(m_sam, f1_list, marker = '.')\n",
    "plt.ylabel('F1 Score')\n",
    "plt.xlabel('max_samples')\n",
    "plt.grid()\n",
    "plt.show()"
   ]
  }
 ],
 "metadata": {
  "colab": {
   "provenance": [],
   "toc_visible": true
  },
  "kernelspec": {
   "display_name": "Python 3 (ipykernel)",
   "language": "python",
   "name": "python3"
  },
  "language_info": {
   "codemirror_mode": {
    "name": "ipython",
    "version": 3
   },
   "file_extension": ".py",
   "mimetype": "text/x-python",
   "name": "python",
   "nbconvert_exporter": "python",
   "pygments_lexer": "ipython3",
   "version": "3.10.9"
  }
 },
 "nbformat": 4,
 "nbformat_minor": 4
}
