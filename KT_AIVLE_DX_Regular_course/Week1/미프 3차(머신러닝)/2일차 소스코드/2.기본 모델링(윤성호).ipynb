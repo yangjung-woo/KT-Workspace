{
 "cells": [
  {
   "cell_type": "markdown",
   "metadata": {
    "id": "NbI_RoQ9AP5r"
   },
   "source": [
    "#**스마트폰 센서 데이터 기반 모션 분류**\n",
    "# 단계2 : 기본 모델링\n"
   ]
  },
  {
   "cell_type": "markdown",
   "metadata": {
    "id": "D67PlTu4JGAY"
   },
   "source": [
    "## 0.미션"
   ]
  },
  {
   "cell_type": "markdown",
   "metadata": {
    "id": "KxwkCwUz4sv0"
   },
   "source": [
    "* 데이터 전처리\n",
    "    * 가변수화, 데이터 분할, NaN 확인 및 조치, 스케일링 등 필요한 전처리 수행\n",
    "* 다양한 알고리즘으로 분류 모델 생성\n",
    "    * 최소 4개 이상의 알고리즘을 적용하여 모델링 수행\n",
    "    * 성능 비교\n",
    "        * 각 모델의 성능을 관리하는 별도의 엑셀파일을 만들어 봅시다.\n",
    "        * 성능 가이드 : Accuracy 0.900 ~"
   ]
  },
  {
   "cell_type": "markdown",
   "metadata": {
    "id": "NCptKiLOAn7l"
   },
   "source": [
    "## 1.환경설정"
   ]
  },
  {
   "cell_type": "markdown",
   "metadata": {
    "id": "V1FK1b5HxOc3"
   },
   "source": [
    "* 세부 요구사항\n",
    "    - 경로 설정 : 로컬 수행(Ananconda)\n",
    "        * 제공된 압축파일을 다운받아 압축을 풀고\n",
    "        * anaconda의 root directory(보통 C:/Users/< ID > 에 project3_1 폴더를 만들고, 복사해 넣습니다.\n",
    "    - 기본적으로 필요한 라이브러리를 import 하도록 코드가 작성되어 있습니다.\n",
    "        * 필요하다고 판단되는 라이브러리를 추가하세요.\n"
   ]
  },
  {
   "cell_type": "code",
   "execution_count": 1,
   "metadata": {},
   "outputs": [
    {
     "name": "stdout",
     "output_type": "stream",
     "text": [
      "1.4.2\n"
     ]
    }
   ],
   "source": [
    "import sklearn\n",
    "print(sklearn.__version__)"
   ]
  },
  {
   "cell_type": "markdown",
   "metadata": {
    "id": "3dm30YEUpZ8Q"
   },
   "source": [
    "### (1) 라이브러리 로딩"
   ]
  },
  {
   "cell_type": "code",
   "execution_count": 6,
   "metadata": {
    "id": "3rsQerEaELwI"
   },
   "outputs": [],
   "source": [
    "import pandas as pd\n",
    "import numpy as np\n",
    "import matplotlib.pyplot as plt\n",
    "import seaborn as sns\n",
    "from tqdm.auto import tqdm\n",
    "import warnings\n",
    "warnings.filterwarnings('ignore')\n",
    "\n",
    "import joblib\n",
    "\n",
    "# 필요한 라이브러리, 함수 로딩 ------------------\n",
    "from sklearn.neighbors import KNeighborsClassifier\n",
    "from sklearn.linear_model import LogisticRegression\n",
    "from sklearn.svm import SVC\n",
    "from sklearn.ensemble import RandomForestClassifier\n",
    "from sklearn.tree import DecisionTreeClassifier\n",
    "from sklearn.tree import DecisionTreeRegressor\n",
    "from lightgbm import LGBMClassifier\n",
    "from lightgbm import LGBMRegressor\n",
    "from sklearn.model_selection import GridSearchCV, RandomizedSearchCV\n",
    "from sklearn.pipeline import make_pipeline\n",
    "from sklearn.metrics import confusion_matrix, classification_report\n",
    "from sklearn.metrics import *"
   ]
  },
  {
   "cell_type": "markdown",
   "metadata": {
    "id": "XZ6nyqZkpZ8S"
   },
   "source": [
    "* 제공 함수 생성\n",
    "    * 변수 중요도를 시각화할 수 있는 함수를 제공합니다.\n",
    "    * 입력 :\n",
    "        * importance : 트리모델의 변수 중요도(예: model.feature_importances_)\n",
    "        * names : 변수 이름 목록(예 : x_train.columns\n",
    "        * result_only  : 변수 중요도 순으로 데이터프레임만 return할지, 그래프도 포함할지 결정. False이면 결과 데이터프레임 + 그래프\n",
    "        * topn : 중요도 상위 n개만 표시. all 이면 전체.\n",
    "    * 출력 :\n",
    "        * 중요도 그래프 : 중요도 내림차순으로 정렬\n",
    "        * 중요도 데이터프레임 : 중요도 내림차순으로 정렬"
   ]
  },
  {
   "cell_type": "code",
   "execution_count": null,
   "metadata": {
    "id": "EyMZDIT-aDHZ"
   },
   "outputs": [],
   "source": [
    "# 변수의 특성 중요도 계산하기\n",
    "def plot_feature_importance(importance, names, result_only = False, topn = 'all'):\n",
    "    feature_importance = np.array(importance)\n",
    "    feature_name = np.array(names)\n",
    "\n",
    "    data={'feature_name':feature_name,'feature_importance':feature_importance}\n",
    "    fi_temp = pd.DataFrame(data)\n",
    "\n",
    "    #변수의 특성 중요도 순으로 정렬하기\n",
    "    fi_temp.sort_values(by=['feature_importance'], ascending=False,inplace=True)\n",
    "    fi_temp.reset_index(drop=True, inplace = True)\n",
    "\n",
    "    if topn == 'all' :\n",
    "        fi_df = fi_temp.copy()\n",
    "    else :\n",
    "        fi_df = fi_temp.iloc[:topn]\n",
    "\n",
    "    #변수의 특성 중요도 그래프로 그리기\n",
    "    if result_only == False :\n",
    "        plt.figure(figsize=(10,20))\n",
    "        sns.barplot(x='feature_importance', y='feature_name', data = fi_df)\n",
    "\n",
    "        plt.xlabel('importance')\n",
    "        plt.ylabel('feature name')\n",
    "        plt.grid()\n",
    "\n",
    "    return fi_df"
   ]
  },
  {
   "cell_type": "markdown",
   "metadata": {
    "id": "bA-eHXdwBDCz"
   },
   "source": [
    "### (2) 데이터 불러오기"
   ]
  },
  {
   "cell_type": "markdown",
   "metadata": {
    "id": "HwIACQyupklv"
   },
   "source": [
    "* 주어진 데이터셋\n",
    "    * data01_train.csv : 학습 및 검증용\n",
    "    * data01_test.csv : 테스트용\n",
    "\n",
    "* 세부 요구사항\n",
    "    * 칼럼 삭제 : data01_train.csv와 data01_test.csv 에서 'subject' 칼럼은 불필요하므로 삭제합니다."
   ]
  },
  {
   "cell_type": "markdown",
   "metadata": {
    "id": "fmgUEGOipvG5"
   },
   "source": [
    "#### 1) 데이터로딩"
   ]
  },
  {
   "cell_type": "code",
   "execution_count": 8,
   "metadata": {
    "id": "FT_JFnclfcQ4"
   },
   "outputs": [],
   "source": [
    "data01 = pd.read_csv('data01_train.csv')"
   ]
  },
  {
   "cell_type": "code",
   "execution_count": 10,
   "metadata": {
    "id": "ZpMoNMpcQoQ5"
   },
   "outputs": [],
   "source": [
    "data02 = pd.read_csv('data01_test.csv')"
   ]
  },
  {
   "cell_type": "code",
   "execution_count": 12,
   "metadata": {
    "id": "uTi4ZuDWDlem"
   },
   "outputs": [],
   "source": [
    "drop_cols = ['subject']\n",
    "data01.drop(columns = drop_cols,  axis=1,inplace = True)\n",
    "data02.drop(columns = drop_cols,  axis=1,inplace = True)"
   ]
  },
  {
   "cell_type": "markdown",
   "metadata": {
    "id": "aI7qJqz3pr3m"
   },
   "source": [
    "#### 2) 기본 정보 조회"
   ]
  },
  {
   "cell_type": "code",
   "execution_count": 14,
   "metadata": {
    "id": "yFVSAGNhpr3m"
   },
   "outputs": [
    {
     "name": "stdout",
     "output_type": "stream",
     "text": [
      "<class 'pandas.core.frame.DataFrame'>\n",
      "RangeIndex: 5881 entries, 0 to 5880\n",
      "Columns: 562 entries, tBodyAcc-mean()-X to Activity\n",
      "dtypes: float64(561), object(1)\n",
      "memory usage: 25.2+ MB\n",
      "<class 'pandas.core.frame.DataFrame'>\n",
      "RangeIndex: 1471 entries, 0 to 1470\n",
      "Columns: 562 entries, tBodyAcc-mean()-X to Activity\n",
      "dtypes: float64(561), object(1)\n",
      "memory usage: 6.3+ MB\n"
     ]
    }
   ],
   "source": [
    "data01.info()\n",
    "data02.info()"
   ]
  },
  {
   "cell_type": "code",
   "execution_count": 16,
   "metadata": {
    "id": "xJnnr8K-pr3m"
   },
   "outputs": [
    {
     "data": {
      "text/html": [
       "<div>\n",
       "<style scoped>\n",
       "    .dataframe tbody tr th:only-of-type {\n",
       "        vertical-align: middle;\n",
       "    }\n",
       "\n",
       "    .dataframe tbody tr th {\n",
       "        vertical-align: top;\n",
       "    }\n",
       "\n",
       "    .dataframe thead th {\n",
       "        text-align: right;\n",
       "    }\n",
       "</style>\n",
       "<table border=\"1\" class=\"dataframe\">\n",
       "  <thead>\n",
       "    <tr style=\"text-align: right;\">\n",
       "      <th></th>\n",
       "      <th>count</th>\n",
       "      <th>mean</th>\n",
       "      <th>std</th>\n",
       "      <th>min</th>\n",
       "      <th>25%</th>\n",
       "      <th>50%</th>\n",
       "      <th>75%</th>\n",
       "      <th>max</th>\n",
       "    </tr>\n",
       "  </thead>\n",
       "  <tbody>\n",
       "    <tr>\n",
       "      <th>tBodyAcc-mean()-X</th>\n",
       "      <td>5881.0</td>\n",
       "      <td>0.274811</td>\n",
       "      <td>0.067614</td>\n",
       "      <td>-0.503823</td>\n",
       "      <td>0.262919</td>\n",
       "      <td>0.277154</td>\n",
       "      <td>0.288526</td>\n",
       "      <td>1.000000</td>\n",
       "    </tr>\n",
       "    <tr>\n",
       "      <th>tBodyAcc-mean()-Y</th>\n",
       "      <td>5881.0</td>\n",
       "      <td>-0.017799</td>\n",
       "      <td>0.039422</td>\n",
       "      <td>-0.684893</td>\n",
       "      <td>-0.024877</td>\n",
       "      <td>-0.017221</td>\n",
       "      <td>-0.010920</td>\n",
       "      <td>1.000000</td>\n",
       "    </tr>\n",
       "    <tr>\n",
       "      <th>tBodyAcc-mean()-Z</th>\n",
       "      <td>5881.0</td>\n",
       "      <td>-0.109396</td>\n",
       "      <td>0.058373</td>\n",
       "      <td>-1.000000</td>\n",
       "      <td>-0.121051</td>\n",
       "      <td>-0.108781</td>\n",
       "      <td>-0.098163</td>\n",
       "      <td>1.000000</td>\n",
       "    </tr>\n",
       "    <tr>\n",
       "      <th>tBodyAcc-std()-X</th>\n",
       "      <td>5881.0</td>\n",
       "      <td>-0.603138</td>\n",
       "      <td>0.448807</td>\n",
       "      <td>-1.000000</td>\n",
       "      <td>-0.992774</td>\n",
       "      <td>-0.943933</td>\n",
       "      <td>-0.242130</td>\n",
       "      <td>1.000000</td>\n",
       "    </tr>\n",
       "    <tr>\n",
       "      <th>tBodyAcc-std()-Y</th>\n",
       "      <td>5881.0</td>\n",
       "      <td>-0.509815</td>\n",
       "      <td>0.501815</td>\n",
       "      <td>-0.999844</td>\n",
       "      <td>-0.977680</td>\n",
       "      <td>-0.844575</td>\n",
       "      <td>-0.034499</td>\n",
       "      <td>0.916238</td>\n",
       "    </tr>\n",
       "    <tr>\n",
       "      <th>...</th>\n",
       "      <td>...</td>\n",
       "      <td>...</td>\n",
       "      <td>...</td>\n",
       "      <td>...</td>\n",
       "      <td>...</td>\n",
       "      <td>...</td>\n",
       "      <td>...</td>\n",
       "      <td>...</td>\n",
       "    </tr>\n",
       "    <tr>\n",
       "      <th>angle(tBodyGyroMean,gravityMean)</th>\n",
       "      <td>5881.0</td>\n",
       "      <td>0.009340</td>\n",
       "      <td>0.608190</td>\n",
       "      <td>-1.000000</td>\n",
       "      <td>-0.481718</td>\n",
       "      <td>0.011448</td>\n",
       "      <td>0.499857</td>\n",
       "      <td>0.998702</td>\n",
       "    </tr>\n",
       "    <tr>\n",
       "      <th>angle(tBodyGyroJerkMean,gravityMean)</th>\n",
       "      <td>5881.0</td>\n",
       "      <td>-0.007099</td>\n",
       "      <td>0.476738</td>\n",
       "      <td>-1.000000</td>\n",
       "      <td>-0.373345</td>\n",
       "      <td>-0.000847</td>\n",
       "      <td>0.356236</td>\n",
       "      <td>0.996078</td>\n",
       "    </tr>\n",
       "    <tr>\n",
       "      <th>angle(X,gravityMean)</th>\n",
       "      <td>5881.0</td>\n",
       "      <td>-0.491501</td>\n",
       "      <td>0.509069</td>\n",
       "      <td>-1.000000</td>\n",
       "      <td>-0.811397</td>\n",
       "      <td>-0.709441</td>\n",
       "      <td>-0.511330</td>\n",
       "      <td>0.977344</td>\n",
       "    </tr>\n",
       "    <tr>\n",
       "      <th>angle(Y,gravityMean)</th>\n",
       "      <td>5881.0</td>\n",
       "      <td>0.059299</td>\n",
       "      <td>0.297340</td>\n",
       "      <td>-1.000000</td>\n",
       "      <td>-0.018203</td>\n",
       "      <td>0.182893</td>\n",
       "      <td>0.248435</td>\n",
       "      <td>0.478157</td>\n",
       "    </tr>\n",
       "    <tr>\n",
       "      <th>angle(Z,gravityMean)</th>\n",
       "      <td>5881.0</td>\n",
       "      <td>-0.054594</td>\n",
       "      <td>0.278479</td>\n",
       "      <td>-0.980143</td>\n",
       "      <td>-0.141555</td>\n",
       "      <td>0.003951</td>\n",
       "      <td>0.111932</td>\n",
       "      <td>1.000000</td>\n",
       "    </tr>\n",
       "  </tbody>\n",
       "</table>\n",
       "<p>561 rows × 8 columns</p>\n",
       "</div>"
      ],
      "text/plain": [
       "                                       count      mean       std       min  \\\n",
       "tBodyAcc-mean()-X                     5881.0  0.274811  0.067614 -0.503823   \n",
       "tBodyAcc-mean()-Y                     5881.0 -0.017799  0.039422 -0.684893   \n",
       "tBodyAcc-mean()-Z                     5881.0 -0.109396  0.058373 -1.000000   \n",
       "tBodyAcc-std()-X                      5881.0 -0.603138  0.448807 -1.000000   \n",
       "tBodyAcc-std()-Y                      5881.0 -0.509815  0.501815 -0.999844   \n",
       "...                                      ...       ...       ...       ...   \n",
       "angle(tBodyGyroMean,gravityMean)      5881.0  0.009340  0.608190 -1.000000   \n",
       "angle(tBodyGyroJerkMean,gravityMean)  5881.0 -0.007099  0.476738 -1.000000   \n",
       "angle(X,gravityMean)                  5881.0 -0.491501  0.509069 -1.000000   \n",
       "angle(Y,gravityMean)                  5881.0  0.059299  0.297340 -1.000000   \n",
       "angle(Z,gravityMean)                  5881.0 -0.054594  0.278479 -0.980143   \n",
       "\n",
       "                                           25%       50%       75%       max  \n",
       "tBodyAcc-mean()-X                     0.262919  0.277154  0.288526  1.000000  \n",
       "tBodyAcc-mean()-Y                    -0.024877 -0.017221 -0.010920  1.000000  \n",
       "tBodyAcc-mean()-Z                    -0.121051 -0.108781 -0.098163  1.000000  \n",
       "tBodyAcc-std()-X                     -0.992774 -0.943933 -0.242130  1.000000  \n",
       "tBodyAcc-std()-Y                     -0.977680 -0.844575 -0.034499  0.916238  \n",
       "...                                        ...       ...       ...       ...  \n",
       "angle(tBodyGyroMean,gravityMean)     -0.481718  0.011448  0.499857  0.998702  \n",
       "angle(tBodyGyroJerkMean,gravityMean) -0.373345 -0.000847  0.356236  0.996078  \n",
       "angle(X,gravityMean)                 -0.811397 -0.709441 -0.511330  0.977344  \n",
       "angle(Y,gravityMean)                 -0.018203  0.182893  0.248435  0.478157  \n",
       "angle(Z,gravityMean)                 -0.141555  0.003951  0.111932  1.000000  \n",
       "\n",
       "[561 rows x 8 columns]"
      ]
     },
     "execution_count": 16,
     "metadata": {},
     "output_type": "execute_result"
    }
   ],
   "source": [
    "data01.describe().T"
   ]
  },
  {
   "cell_type": "code",
   "execution_count": 14,
   "metadata": {
    "id": "ajJ1qJkhpr3n",
    "scrolled": true
   },
   "outputs": [
    {
     "data": {
      "text/html": [
       "<div>\n",
       "<style scoped>\n",
       "    .dataframe tbody tr th:only-of-type {\n",
       "        vertical-align: middle;\n",
       "    }\n",
       "\n",
       "    .dataframe tbody tr th {\n",
       "        vertical-align: top;\n",
       "    }\n",
       "\n",
       "    .dataframe thead th {\n",
       "        text-align: right;\n",
       "    }\n",
       "</style>\n",
       "<table border=\"1\" class=\"dataframe\">\n",
       "  <thead>\n",
       "    <tr style=\"text-align: right;\">\n",
       "      <th></th>\n",
       "      <th>count</th>\n",
       "      <th>mean</th>\n",
       "      <th>std</th>\n",
       "      <th>min</th>\n",
       "      <th>25%</th>\n",
       "      <th>50%</th>\n",
       "      <th>75%</th>\n",
       "      <th>max</th>\n",
       "    </tr>\n",
       "  </thead>\n",
       "  <tbody>\n",
       "    <tr>\n",
       "      <th>tBodyAcc-mean()-X</th>\n",
       "      <td>1471.0</td>\n",
       "      <td>0.273198</td>\n",
       "      <td>0.079989</td>\n",
       "      <td>-1.000000</td>\n",
       "      <td>0.263787</td>\n",
       "      <td>0.277322</td>\n",
       "      <td>0.288058</td>\n",
       "      <td>0.631510</td>\n",
       "    </tr>\n",
       "    <tr>\n",
       "      <th>tBodyAcc-mean()-Y</th>\n",
       "      <td>1471.0</td>\n",
       "      <td>-0.017281</td>\n",
       "      <td>0.045957</td>\n",
       "      <td>-1.000000</td>\n",
       "      <td>-0.024792</td>\n",
       "      <td>-0.017187</td>\n",
       "      <td>-0.010238</td>\n",
       "      <td>0.359587</td>\n",
       "    </tr>\n",
       "    <tr>\n",
       "      <th>tBodyAcc-mean()-Z</th>\n",
       "      <td>1471.0</td>\n",
       "      <td>-0.108123</td>\n",
       "      <td>0.049082</td>\n",
       "      <td>-0.418354</td>\n",
       "      <td>-0.120733</td>\n",
       "      <td>-0.108124</td>\n",
       "      <td>-0.096606</td>\n",
       "      <td>0.543939</td>\n",
       "    </tr>\n",
       "    <tr>\n",
       "      <th>tBodyAcc-std()-X</th>\n",
       "      <td>1471.0</td>\n",
       "      <td>-0.614634</td>\n",
       "      <td>0.448480</td>\n",
       "      <td>-0.999717</td>\n",
       "      <td>-0.992669</td>\n",
       "      <td>-0.952426</td>\n",
       "      <td>-0.245405</td>\n",
       "      <td>0.899922</td>\n",
       "    </tr>\n",
       "    <tr>\n",
       "      <th>tBodyAcc-std()-Y</th>\n",
       "      <td>1471.0</td>\n",
       "      <td>-0.515427</td>\n",
       "      <td>0.506094</td>\n",
       "      <td>-0.999873</td>\n",
       "      <td>-0.979082</td>\n",
       "      <td>-0.867309</td>\n",
       "      <td>-0.030639</td>\n",
       "      <td>0.782590</td>\n",
       "    </tr>\n",
       "    <tr>\n",
       "      <th>...</th>\n",
       "      <td>...</td>\n",
       "      <td>...</td>\n",
       "      <td>...</td>\n",
       "      <td>...</td>\n",
       "      <td>...</td>\n",
       "      <td>...</td>\n",
       "      <td>...</td>\n",
       "      <td>...</td>\n",
       "    </tr>\n",
       "    <tr>\n",
       "      <th>angle(tBodyGyroMean,gravityMean)</th>\n",
       "      <td>1471.0</td>\n",
       "      <td>0.006272</td>\n",
       "      <td>0.608954</td>\n",
       "      <td>-0.995222</td>\n",
       "      <td>-0.485998</td>\n",
       "      <td>-0.005036</td>\n",
       "      <td>0.518184</td>\n",
       "      <td>0.994366</td>\n",
       "    </tr>\n",
       "    <tr>\n",
       "      <th>angle(tBodyGyroJerkMean,gravityMean)</th>\n",
       "      <td>1471.0</td>\n",
       "      <td>-0.001510</td>\n",
       "      <td>0.483028</td>\n",
       "      <td>-0.969066</td>\n",
       "      <td>-0.380300</td>\n",
       "      <td>0.002408</td>\n",
       "      <td>0.374583</td>\n",
       "      <td>0.979522</td>\n",
       "    </tr>\n",
       "    <tr>\n",
       "      <th>angle(X,gravityMean)</th>\n",
       "      <td>1471.0</td>\n",
       "      <td>-0.481737</td>\n",
       "      <td>0.522714</td>\n",
       "      <td>-0.999380</td>\n",
       "      <td>-0.814060</td>\n",
       "      <td>-0.708911</td>\n",
       "      <td>-0.486534</td>\n",
       "      <td>1.000000</td>\n",
       "    </tr>\n",
       "    <tr>\n",
       "      <th>angle(Y,gravityMean)</th>\n",
       "      <td>1471.0</td>\n",
       "      <td>0.055771</td>\n",
       "      <td>0.298124</td>\n",
       "      <td>-0.995073</td>\n",
       "      <td>-0.017413</td>\n",
       "      <td>0.178814</td>\n",
       "      <td>0.248126</td>\n",
       "      <td>0.432496</td>\n",
       "    </tr>\n",
       "    <tr>\n",
       "      <th>angle(Z,gravityMean)</th>\n",
       "      <td>1471.0</td>\n",
       "      <td>-0.064194</td>\n",
       "      <td>0.281645</td>\n",
       "      <td>-1.000000</td>\n",
       "      <td>-0.148445</td>\n",
       "      <td>-0.002243</td>\n",
       "      <td>0.096674</td>\n",
       "      <td>0.992766</td>\n",
       "    </tr>\n",
       "  </tbody>\n",
       "</table>\n",
       "<p>561 rows × 8 columns</p>\n",
       "</div>"
      ],
      "text/plain": [
       "                                       count      mean       std       min  \\\n",
       "tBodyAcc-mean()-X                     1471.0  0.273198  0.079989 -1.000000   \n",
       "tBodyAcc-mean()-Y                     1471.0 -0.017281  0.045957 -1.000000   \n",
       "tBodyAcc-mean()-Z                     1471.0 -0.108123  0.049082 -0.418354   \n",
       "tBodyAcc-std()-X                      1471.0 -0.614634  0.448480 -0.999717   \n",
       "tBodyAcc-std()-Y                      1471.0 -0.515427  0.506094 -0.999873   \n",
       "...                                      ...       ...       ...       ...   \n",
       "angle(tBodyGyroMean,gravityMean)      1471.0  0.006272  0.608954 -0.995222   \n",
       "angle(tBodyGyroJerkMean,gravityMean)  1471.0 -0.001510  0.483028 -0.969066   \n",
       "angle(X,gravityMean)                  1471.0 -0.481737  0.522714 -0.999380   \n",
       "angle(Y,gravityMean)                  1471.0  0.055771  0.298124 -0.995073   \n",
       "angle(Z,gravityMean)                  1471.0 -0.064194  0.281645 -1.000000   \n",
       "\n",
       "                                           25%       50%       75%       max  \n",
       "tBodyAcc-mean()-X                     0.263787  0.277322  0.288058  0.631510  \n",
       "tBodyAcc-mean()-Y                    -0.024792 -0.017187 -0.010238  0.359587  \n",
       "tBodyAcc-mean()-Z                    -0.120733 -0.108124 -0.096606  0.543939  \n",
       "tBodyAcc-std()-X                     -0.992669 -0.952426 -0.245405  0.899922  \n",
       "tBodyAcc-std()-Y                     -0.979082 -0.867309 -0.030639  0.782590  \n",
       "...                                        ...       ...       ...       ...  \n",
       "angle(tBodyGyroMean,gravityMean)     -0.485998 -0.005036  0.518184  0.994366  \n",
       "angle(tBodyGyroJerkMean,gravityMean) -0.380300  0.002408  0.374583  0.979522  \n",
       "angle(X,gravityMean)                 -0.814060 -0.708911 -0.486534  1.000000  \n",
       "angle(Y,gravityMean)                 -0.017413  0.178814  0.248126  0.432496  \n",
       "angle(Z,gravityMean)                 -0.148445 -0.002243  0.096674  0.992766  \n",
       "\n",
       "[561 rows x 8 columns]"
      ]
     },
     "execution_count": 14,
     "metadata": {},
     "output_type": "execute_result"
    }
   ],
   "source": [
    "data02.describe().T"
   ]
  },
  {
   "cell_type": "code",
   "execution_count": 15,
   "metadata": {},
   "outputs": [
    {
     "data": {
      "text/plain": [
       "(5881, 562)"
      ]
     },
     "execution_count": 15,
     "metadata": {},
     "output_type": "execute_result"
    }
   ],
   "source": [
    "data01.shape"
   ]
  },
  {
   "cell_type": "code",
   "execution_count": 17,
   "metadata": {},
   "outputs": [
    {
     "data": {
      "text/plain": [
       "(1471, 562)"
      ]
     },
     "execution_count": 17,
     "metadata": {},
     "output_type": "execute_result"
    }
   ],
   "source": [
    "data02.shape"
   ]
  },
  {
   "cell_type": "markdown",
   "metadata": {
    "id": "6U3UzQGZAS1o"
   },
   "source": [
    "## **2. 데이터 전처리**\n",
    "\n",
    "* 가변수화, 데이터 분할, NaN 확인 및 조치, 스케일링 등 필요한 전처리를 수행한다.\n"
   ]
  },
  {
   "cell_type": "code",
   "execution_count": 22,
   "metadata": {
    "scrolled": true
   },
   "outputs": [
    {
     "data": {
      "text/plain": [
       "tBodyAcc-mean()-X                       0\n",
       "tBodyAcc-mean()-Y                       0\n",
       "tBodyAcc-mean()-Z                       0\n",
       "tBodyAcc-std()-X                        0\n",
       "tBodyAcc-std()-Y                        0\n",
       "                                       ..\n",
       "angle(tBodyGyroJerkMean,gravityMean)    0\n",
       "angle(X,gravityMean)                    0\n",
       "angle(Y,gravityMean)                    0\n",
       "angle(Z,gravityMean)                    0\n",
       "Activity                                0\n",
       "Length: 562, dtype: int64"
      ]
     },
     "execution_count": 22,
     "metadata": {},
     "output_type": "execute_result"
    }
   ],
   "source": [
    "data01.isna().sum()"
   ]
  },
  {
   "cell_type": "code",
   "execution_count": 24,
   "metadata": {
    "scrolled": true
   },
   "outputs": [
    {
     "data": {
      "text/plain": [
       "tBodyAcc-mean()-X                       0\n",
       "tBodyAcc-mean()-Y                       0\n",
       "tBodyAcc-mean()-Z                       0\n",
       "tBodyAcc-std()-X                        0\n",
       "tBodyAcc-std()-Y                        0\n",
       "                                       ..\n",
       "angle(tBodyGyroJerkMean,gravityMean)    0\n",
       "angle(X,gravityMean)                    0\n",
       "angle(Y,gravityMean)                    0\n",
       "angle(Z,gravityMean)                    0\n",
       "Activity                                0\n",
       "Length: 562, dtype: int64"
      ]
     },
     "execution_count": 24,
     "metadata": {},
     "output_type": "execute_result"
    }
   ],
   "source": [
    "data02.isna().sum()"
   ]
  },
  {
   "cell_type": "code",
   "execution_count": 26,
   "metadata": {},
   "outputs": [
    {
     "data": {
      "text/html": [
       "<div>\n",
       "<style scoped>\n",
       "    .dataframe tbody tr th:only-of-type {\n",
       "        vertical-align: middle;\n",
       "    }\n",
       "\n",
       "    .dataframe tbody tr th {\n",
       "        vertical-align: top;\n",
       "    }\n",
       "\n",
       "    .dataframe thead th {\n",
       "        text-align: right;\n",
       "    }\n",
       "</style>\n",
       "<table border=\"1\" class=\"dataframe\">\n",
       "  <thead>\n",
       "    <tr style=\"text-align: right;\">\n",
       "      <th></th>\n",
       "      <th>0</th>\n",
       "      <th>1</th>\n",
       "      <th>2</th>\n",
       "      <th>3</th>\n",
       "      <th>4</th>\n",
       "    </tr>\n",
       "  </thead>\n",
       "  <tbody>\n",
       "    <tr>\n",
       "      <th>tBodyAcc-mean()-X</th>\n",
       "      <td>0.288508</td>\n",
       "      <td>0.265757</td>\n",
       "      <td>0.278709</td>\n",
       "      <td>0.289795</td>\n",
       "      <td>0.394807</td>\n",
       "    </tr>\n",
       "    <tr>\n",
       "      <th>tBodyAcc-mean()-Y</th>\n",
       "      <td>-0.009196</td>\n",
       "      <td>-0.016576</td>\n",
       "      <td>-0.014511</td>\n",
       "      <td>-0.035536</td>\n",
       "      <td>0.034098</td>\n",
       "    </tr>\n",
       "    <tr>\n",
       "      <th>tBodyAcc-mean()-Z</th>\n",
       "      <td>-0.103362</td>\n",
       "      <td>-0.098163</td>\n",
       "      <td>-0.108717</td>\n",
       "      <td>-0.150354</td>\n",
       "      <td>0.091229</td>\n",
       "    </tr>\n",
       "    <tr>\n",
       "      <th>tBodyAcc-std()-X</th>\n",
       "      <td>-0.988986</td>\n",
       "      <td>-0.989551</td>\n",
       "      <td>-0.99772</td>\n",
       "      <td>-0.231727</td>\n",
       "      <td>0.088489</td>\n",
       "    </tr>\n",
       "    <tr>\n",
       "      <th>tBodyAcc-std()-Y</th>\n",
       "      <td>-0.962797</td>\n",
       "      <td>-0.994636</td>\n",
       "      <td>-0.981088</td>\n",
       "      <td>-0.006412</td>\n",
       "      <td>-0.106636</td>\n",
       "    </tr>\n",
       "    <tr>\n",
       "      <th>...</th>\n",
       "      <td>...</td>\n",
       "      <td>...</td>\n",
       "      <td>...</td>\n",
       "      <td>...</td>\n",
       "      <td>...</td>\n",
       "    </tr>\n",
       "    <tr>\n",
       "      <th>angle(tBodyGyroJerkMean,gravityMean)</th>\n",
       "      <td>0.07279</td>\n",
       "      <td>0.771524</td>\n",
       "      <td>0.021528</td>\n",
       "      <td>-0.072944</td>\n",
       "      <td>-0.887846</td>\n",
       "    </tr>\n",
       "    <tr>\n",
       "      <th>angle(X,gravityMean)</th>\n",
       "      <td>-0.60112</td>\n",
       "      <td>0.345205</td>\n",
       "      <td>-0.833564</td>\n",
       "      <td>-0.695819</td>\n",
       "      <td>-0.705029</td>\n",
       "    </tr>\n",
       "    <tr>\n",
       "      <th>angle(Y,gravityMean)</th>\n",
       "      <td>0.331298</td>\n",
       "      <td>-0.769186</td>\n",
       "      <td>0.202434</td>\n",
       "      <td>0.287154</td>\n",
       "      <td>0.264952</td>\n",
       "    </tr>\n",
       "    <tr>\n",
       "      <th>angle(Z,gravityMean)</th>\n",
       "      <td>0.165163</td>\n",
       "      <td>-0.147944</td>\n",
       "      <td>-0.032755</td>\n",
       "      <td>0.111388</td>\n",
       "      <td>0.137758</td>\n",
       "    </tr>\n",
       "    <tr>\n",
       "      <th>Activity</th>\n",
       "      <td>STANDING</td>\n",
       "      <td>LAYING</td>\n",
       "      <td>STANDING</td>\n",
       "      <td>WALKING</td>\n",
       "      <td>WALKING_DOWNSTAIRS</td>\n",
       "    </tr>\n",
       "  </tbody>\n",
       "</table>\n",
       "<p>562 rows × 5 columns</p>\n",
       "</div>"
      ],
      "text/plain": [
       "                                             0         1         2         3  \\\n",
       "tBodyAcc-mean()-X                     0.288508  0.265757  0.278709  0.289795   \n",
       "tBodyAcc-mean()-Y                    -0.009196 -0.016576 -0.014511 -0.035536   \n",
       "tBodyAcc-mean()-Z                    -0.103362 -0.098163 -0.108717 -0.150354   \n",
       "tBodyAcc-std()-X                     -0.988986 -0.989551  -0.99772 -0.231727   \n",
       "tBodyAcc-std()-Y                     -0.962797 -0.994636 -0.981088 -0.006412   \n",
       "...                                        ...       ...       ...       ...   \n",
       "angle(tBodyGyroJerkMean,gravityMean)   0.07279  0.771524  0.021528 -0.072944   \n",
       "angle(X,gravityMean)                  -0.60112  0.345205 -0.833564 -0.695819   \n",
       "angle(Y,gravityMean)                  0.331298 -0.769186  0.202434  0.287154   \n",
       "angle(Z,gravityMean)                  0.165163 -0.147944 -0.032755  0.111388   \n",
       "Activity                              STANDING    LAYING  STANDING   WALKING   \n",
       "\n",
       "                                                       4  \n",
       "tBodyAcc-mean()-X                               0.394807  \n",
       "tBodyAcc-mean()-Y                               0.034098  \n",
       "tBodyAcc-mean()-Z                               0.091229  \n",
       "tBodyAcc-std()-X                                0.088489  \n",
       "tBodyAcc-std()-Y                               -0.106636  \n",
       "...                                                  ...  \n",
       "angle(tBodyGyroJerkMean,gravityMean)           -0.887846  \n",
       "angle(X,gravityMean)                           -0.705029  \n",
       "angle(Y,gravityMean)                            0.264952  \n",
       "angle(Z,gravityMean)                            0.137758  \n",
       "Activity                              WALKING_DOWNSTAIRS  \n",
       "\n",
       "[562 rows x 5 columns]"
      ]
     },
     "execution_count": 26,
     "metadata": {},
     "output_type": "execute_result"
    }
   ],
   "source": [
    "data01.head().T"
   ]
  },
  {
   "cell_type": "markdown",
   "metadata": {
    "id": "ZecsiT_DAS1p"
   },
   "source": [
    "### (1) 데이터 분할1 : x, y"
   ]
  },
  {
   "cell_type": "markdown",
   "metadata": {
    "id": "H-DxzcJiJS4W"
   },
   "source": [
    "* 세부 요구사항\n",
    "    - x, y로 분할합니다."
   ]
  },
  {
   "cell_type": "code",
   "execution_count": 20,
   "metadata": {
    "id": "qVqd1JJ6Ajaj"
   },
   "outputs": [],
   "source": [
    "target = 'Activity'\n",
    "x = data01.drop(target, axis = 1)\n",
    "y = data01.loc[:, target]\n",
    "\n",
    "x1 = data02.drop(target, axis = 1)\n",
    "y1 = data02.loc[:, target]"
   ]
  },
  {
   "cell_type": "markdown",
   "metadata": {
    "id": "MpZfnAa4BefE"
   },
   "source": [
    "### (2) 데이터분할2 : train, validation"
   ]
  },
  {
   "cell_type": "markdown",
   "metadata": {
    "id": "YOYncknxWg0E"
   },
   "source": [
    "* 세부 요구사항\n",
    "    - train : val = 8 : 2 혹은 7 : 3\n",
    "    - random_state 옵션을 사용하여 다른 모델과 비교를 위해 성능이 재현되도록 합니다."
   ]
  },
  {
   "cell_type": "code",
   "execution_count": 22,
   "metadata": {
    "id": "1AoCDDpdBeCT"
   },
   "outputs": [],
   "source": [
    "from sklearn.model_selection import train_test_split\n",
    "x_train, x_val, y_train, y_val = train_test_split(x, y, test_size = 0.2,random_state = 1)\n",
    "x_test, x_val2, y_test, y_val2 = train_test_split(x1, y1, test_size = 0.2,random_state = 1)"
   ]
  },
  {
   "cell_type": "markdown",
   "metadata": {
    "id": "A8hxVzM3Agvw"
   },
   "source": [
    "### (3) 스케일링\n"
   ]
  },
  {
   "cell_type": "markdown",
   "metadata": {
    "id": "8OHAQJ9HJZP8"
   },
   "source": [
    "* 세부 요구사항\n",
    "    - 스케일링을 필요로 하는 알고리즘 사용을 위해서 코드 수행\n",
    "    - min-max 방식 혹은 standard 방식 중 한가지 사용."
   ]
  },
  {
   "cell_type": "code",
   "execution_count": 24,
   "metadata": {},
   "outputs": [],
   "source": [
    "# 모듈 불러오기\n",
    "from sklearn.preprocessing import MinMaxScaler,StandardScaler\n",
    "# 정규화\n",
    "scaler = MinMaxScaler()\n",
    "col_names = list(x_train)\n",
    "x_train = scaler.fit_transform(x_train)\n",
    "x_val = scaler.transform(x_val)\n",
    "\n",
    "x_train = pd.DataFrame(x_train, columns = col_names)\n",
    "x_val = pd.DataFrame(x_val, columns = col_names)"
   ]
  },
  {
   "cell_type": "markdown",
   "metadata": {
    "id": "RfSZ5O4sBQf3"
   },
   "source": [
    "## **3. 기본 모델링**\n",
    "\n"
   ]
  },
  {
   "cell_type": "markdown",
   "metadata": {
    "id": "WAOal2RuWzNk"
   },
   "source": [
    "* 세부 요구사항\n",
    "    - 최소 5개 이상의 알고리즘을 적용하여 모델링을 수행한다.\n",
    "    - 각 알고리즘 별로 다음 중 몇가지를 시도하며 성능을 비교한다."
   ]
  },
  {
   "cell_type": "markdown",
   "metadata": {
    "id": "6JKfabsMB-CK"
   },
   "source": [
    "### (1) 모델1"
   ]
  },
  {
   "cell_type": "code",
   "execution_count": 34,
   "metadata": {
    "id": "vWo348sDOjOc"
   },
   "outputs": [
    {
     "name": "stdout",
     "output_type": "stream",
     "text": [
      "0.9549702633814783\n",
      "[[220   1   0   0   1   0]\n",
      " [  1 166  31   0   0   0]\n",
      " [  0  14 221   0   0   0]\n",
      " [  0   0   0 192   0   0]\n",
      " [  0   0   0   2 152   2]\n",
      " [  0   0   0   1   0 173]]\n",
      "                    precision    recall  f1-score   support\n",
      "\n",
      "            LAYING       1.00      0.99      0.99       222\n",
      "           SITTING       0.92      0.84      0.88       198\n",
      "          STANDING       0.88      0.94      0.91       235\n",
      "           WALKING       0.98      1.00      0.99       192\n",
      "WALKING_DOWNSTAIRS       0.99      0.97      0.98       156\n",
      "  WALKING_UPSTAIRS       0.99      0.99      0.99       174\n",
      "\n",
      "          accuracy                           0.95      1177\n",
      "         macro avg       0.96      0.96      0.96      1177\n",
      "      weighted avg       0.96      0.95      0.95      1177\n",
      "\n"
     ]
    }
   ],
   "source": [
    "#knn\n",
    "model1 = KNeighborsClassifier()\n",
    "model1.fit(x_train, y_train)\n",
    "ypred = model1.predict(x_val)\n",
    "print(accuracy_score(y_val, ypred))\n",
    "print(confusion_matrix(y_val, ypred))\n",
    "print(classification_report(y_val, ypred))"
   ]
  },
  {
   "cell_type": "markdown",
   "metadata": {
    "id": "lD_JXCalOmx1"
   },
   "source": [
    "### (2) 모델2"
   ]
  },
  {
   "cell_type": "code",
   "execution_count": 36,
   "metadata": {
    "id": "JNwgHB79Omx1"
   },
   "outputs": [
    {
     "name": "stdout",
     "output_type": "stream",
     "text": [
      "0.9830076465590484\n",
      "[[222   0   0   0   0   0]\n",
      " [  0 191   7   0   0   0]\n",
      " [  0  11 224   0   0   0]\n",
      " [  0   0   0 192   0   0]\n",
      " [  0   0   0   2 154   0]\n",
      " [  0   0   0   0   0 174]]\n",
      "                    precision    recall  f1-score   support\n",
      "\n",
      "            LAYING       1.00      1.00      1.00       222\n",
      "           SITTING       0.95      0.96      0.95       198\n",
      "          STANDING       0.97      0.95      0.96       235\n",
      "           WALKING       0.99      1.00      0.99       192\n",
      "WALKING_DOWNSTAIRS       1.00      0.99      0.99       156\n",
      "  WALKING_UPSTAIRS       1.00      1.00      1.00       174\n",
      "\n",
      "          accuracy                           0.98      1177\n",
      "         macro avg       0.98      0.98      0.98      1177\n",
      "      weighted avg       0.98      0.98      0.98      1177\n",
      "\n"
     ]
    }
   ],
   "source": [
    "#로지스틱회귀\n",
    "model2 = LogisticRegression()\n",
    "model2.fit(x_train,y_train)\n",
    "ypred2 = model2.predict(x_val)\n",
    "print(accuracy_score(y_val, ypred2))\n",
    "print(confusion_matrix(y_val, ypred2))\n",
    "print(classification_report(y_val, ypred2))"
   ]
  },
  {
   "cell_type": "markdown",
   "metadata": {
    "id": "iuUUwpFXOoo_"
   },
   "source": [
    "### (3) 모델3"
   ]
  },
  {
   "cell_type": "code",
   "execution_count": 39,
   "metadata": {
    "id": "YUXUQC9NOopA"
   },
   "outputs": [
    {
     "name": "stdout",
     "output_type": "stream",
     "text": [
      "[[220   0   0   0   0   2]\n",
      " [  0 186  12   0   0   0]\n",
      " [  0  19 216   0   0   0]\n",
      " [  0   0   0 182   5   5]\n",
      " [  0   0   0  10 136  10]\n",
      " [  0   0   0   4   3 167]]\n",
      "                    precision    recall  f1-score   support\n",
      "\n",
      "            LAYING       1.00      0.99      1.00       222\n",
      "           SITTING       0.91      0.94      0.92       198\n",
      "          STANDING       0.95      0.92      0.93       235\n",
      "           WALKING       0.93      0.95      0.94       192\n",
      "WALKING_DOWNSTAIRS       0.94      0.87      0.91       156\n",
      "  WALKING_UPSTAIRS       0.91      0.96      0.93       174\n",
      "\n",
      "          accuracy                           0.94      1177\n",
      "         macro avg       0.94      0.94      0.94      1177\n",
      "      weighted avg       0.94      0.94      0.94      1177\n",
      "\n"
     ]
    }
   ],
   "source": [
    "#rdf\n",
    "model3 = RandomForestClassifier(max_depth=5, n_estimators=100, random_state=1)\n",
    "model3.fit(x_train, y_train)\n",
    "ypred3 = model3.predict(x_val)\n",
    "print(confusion_matrix(y_val, ypred3))\n",
    "print(classification_report(y_val, ypred3))"
   ]
  },
  {
   "cell_type": "markdown",
   "metadata": {
    "id": "qwGPQ7NJOrEv"
   },
   "source": [
    "### (4) 모델4"
   ]
  },
  {
   "cell_type": "code",
   "execution_count": 40,
   "metadata": {
    "id": "CGxxgmGfOrEw"
   },
   "outputs": [
    {
     "name": "stdout",
     "output_type": "stream",
     "text": [
      "[[222   0   0   0   0   0]\n",
      " [  0 182  16   0   0   0]\n",
      " [  0  25 210   0   0   0]\n",
      " [  0   0   0 179   2  11]\n",
      " [  0   0   0  15 127  14]\n",
      " [  0   0   0  15   6 153]]\n",
      "                    precision    recall  f1-score   support\n",
      "\n",
      "            LAYING       1.00      1.00      1.00       222\n",
      "           SITTING       0.88      0.92      0.90       198\n",
      "          STANDING       0.93      0.89      0.91       235\n",
      "           WALKING       0.86      0.93      0.89       192\n",
      "WALKING_DOWNSTAIRS       0.94      0.81      0.87       156\n",
      "  WALKING_UPSTAIRS       0.86      0.88      0.87       174\n",
      "\n",
      "          accuracy                           0.91      1177\n",
      "         macro avg       0.91      0.91      0.91      1177\n",
      "      weighted avg       0.91      0.91      0.91      1177\n",
      "\n"
     ]
    }
   ],
   "source": [
    "#decison tree\n",
    "model4 = DecisionTreeClassifier(max_depth=5)\n",
    "model4.fit(x_train, y_train)\n",
    "ypred4 = model4.predict(x_val)\n",
    "print(confusion_matrix(y_val, ypred4))\n",
    "print(classification_report(y_val, ypred4))"
   ]
  },
  {
   "cell_type": "markdown",
   "metadata": {
    "id": "6wLbrHXvOs3G"
   },
   "source": [
    "### (5) 모델5"
   ]
  },
  {
   "cell_type": "code",
   "execution_count": 41,
   "metadata": {
    "id": "LlTAkxTaOs3H"
   },
   "outputs": [
    {
     "name": "stdout",
     "output_type": "stream",
     "text": [
      "0.9830076465590484\n",
      "[[222   0   0   0   0   0]\n",
      " [  0 193   5   0   0   0]\n",
      " [  0  15 220   0   0   0]\n",
      " [  0   0   0 192   0   0]\n",
      " [  0   0   0   0 156   0]\n",
      " [  0   0   0   0   0 174]]\n",
      "                    precision    recall  f1-score   support\n",
      "\n",
      "            LAYING       1.00      1.00      1.00       222\n",
      "           SITTING       0.93      0.97      0.95       198\n",
      "          STANDING       0.98      0.94      0.96       235\n",
      "           WALKING       1.00      1.00      1.00       192\n",
      "WALKING_DOWNSTAIRS       1.00      1.00      1.00       156\n",
      "  WALKING_UPSTAIRS       1.00      1.00      1.00       174\n",
      "\n",
      "          accuracy                           0.98      1177\n",
      "         macro avg       0.98      0.99      0.98      1177\n",
      "      weighted avg       0.98      0.98      0.98      1177\n",
      "\n"
     ]
    }
   ],
   "source": [
    "#SVM(Support Vector Machine)\n",
    "model5 = SVC(kernel='linear', C=3)\n",
    "model5.fit(x_train, y_train)\n",
    "ypred5 = model5.predict(x_val)\n",
    "print(accuracy_score(y_val, ypred5))\n",
    "print(confusion_matrix(y_val, ypred5))\n",
    "print(classification_report(y_val, ypred5))"
   ]
  },
  {
   "cell_type": "markdown",
   "metadata": {
    "id": "ylF4bRNod74K"
   },
   "source": [
    "## 4.성능비교"
   ]
  },
  {
   "cell_type": "markdown",
   "metadata": {
    "id": "WYntDXEBZD1Y"
   },
   "source": [
    "* 세부 요구사항\n",
    "    - 각 모델에 대해서 test 데이터로 성능 측정후 비교\n",
    "    "
   ]
  },
  {
   "cell_type": "code",
   "execution_count": 53,
   "metadata": {
    "id": "Or-oKcN6ayH8"
   },
   "outputs": [
    {
     "name": "stdout",
     "output_type": "stream",
     "text": [
      "0.9457627118644067\n",
      "[[53  0  0  0  0  0]\n",
      " [ 0 40  9  0  0  0]\n",
      " [ 0  3 51  0  0  0]\n",
      " [ 0  0  0 52  0  0]\n",
      " [ 0  0  0  2 38  0]\n",
      " [ 0  0  0  1  1 45]]\n",
      "                    precision    recall  f1-score   support\n",
      "\n",
      "            LAYING       1.00      1.00      1.00        53\n",
      "           SITTING       0.93      0.82      0.87        49\n",
      "          STANDING       0.85      0.94      0.89        54\n",
      "           WALKING       0.95      1.00      0.97        52\n",
      "WALKING_DOWNSTAIRS       0.97      0.95      0.96        40\n",
      "  WALKING_UPSTAIRS       1.00      0.96      0.98        47\n",
      "\n",
      "          accuracy                           0.95       295\n",
      "         macro avg       0.95      0.94      0.95       295\n",
      "      weighted avg       0.95      0.95      0.95       295\n",
      "\n"
     ]
    }
   ],
   "source": [
    "#knn\n",
    "model6 = KNeighborsClassifier()\n",
    "model6.fit(x_test, y_test)\n",
    "ypred6 = model6.predict(x_val2)\n",
    "print(accuracy_score(y_val2, ypred6))\n",
    "print(confusion_matrix(y_val2, ypred6))\n",
    "print(classification_report(y_val2, ypred6))\n"
   ]
  },
  {
   "cell_type": "code",
   "execution_count": 57,
   "metadata": {
    "id": "G_K0EnpidgYe"
   },
   "outputs": [
    {
     "name": "stdout",
     "output_type": "stream",
     "text": [
      "0.9661016949152542\n",
      "[[53  0  0  0  0  0]\n",
      " [ 0 43  6  0  0  0]\n",
      " [ 0  2 51  1  0  0]\n",
      " [ 0  0  0 52  0  0]\n",
      " [ 0  0  0  0 40  0]\n",
      " [ 0  0  0  1  0 46]]\n",
      "                    precision    recall  f1-score   support\n",
      "\n",
      "            LAYING       1.00      1.00      1.00        53\n",
      "           SITTING       0.96      0.88      0.91        49\n",
      "          STANDING       0.89      0.94      0.92        54\n",
      "           WALKING       0.96      1.00      0.98        52\n",
      "WALKING_DOWNSTAIRS       1.00      1.00      1.00        40\n",
      "  WALKING_UPSTAIRS       1.00      0.98      0.99        47\n",
      "\n",
      "          accuracy                           0.97       295\n",
      "         macro avg       0.97      0.97      0.97       295\n",
      "      weighted avg       0.97      0.97      0.97       295\n",
      "\n"
     ]
    }
   ],
   "source": [
    "#Logistic Regression\n",
    "model7 = LogisticRegression()\n",
    "model7.fit(x_test,y_test)\n",
    "ypred7 = model7.predict(x_val2)\n",
    "print(accuracy_score(y_val2, ypred7))\n",
    "print(confusion_matrix(y_val2, ypred7))\n",
    "print(classification_report(y_val2, ypred7))"
   ]
  },
  {
   "cell_type": "code",
   "execution_count": 59,
   "metadata": {
    "id": "XoVmpJDbOzwG"
   },
   "outputs": [
    {
     "name": "stdout",
     "output_type": "stream",
     "text": [
      "0.9389830508474576\n",
      "[[53  0  0  0  0  0]\n",
      " [ 0 40  9  0  0  0]\n",
      " [ 0  1 53  0  0  0]\n",
      " [ 0  0  0 51  0  1]\n",
      " [ 0  0  0  3 36  1]\n",
      " [ 0  0  0  1  2 44]]\n",
      "                    precision    recall  f1-score   support\n",
      "\n",
      "            LAYING       1.00      1.00      1.00        53\n",
      "           SITTING       0.98      0.82      0.89        49\n",
      "          STANDING       0.85      0.98      0.91        54\n",
      "           WALKING       0.93      0.98      0.95        52\n",
      "WALKING_DOWNSTAIRS       0.95      0.90      0.92        40\n",
      "  WALKING_UPSTAIRS       0.96      0.94      0.95        47\n",
      "\n",
      "          accuracy                           0.94       295\n",
      "         macro avg       0.94      0.94      0.94       295\n",
      "      weighted avg       0.94      0.94      0.94       295\n",
      "\n"
     ]
    }
   ],
   "source": [
    "#rdf\n",
    "model8 = RandomForestClassifier(max_depth=5, n_estimators=100, random_state=1)\n",
    "model8.fit(x_test, y_test)\n",
    "ypred8 = model8.predict(x_val2)\n",
    "print(accuracy_score(y_val2, ypred8))\n",
    "print(confusion_matrix(y_val2, ypred8))\n",
    "print(classification_report(y_val2, ypred8))"
   ]
  },
  {
   "cell_type": "code",
   "execution_count": 61,
   "metadata": {},
   "outputs": [
    {
     "name": "stdout",
     "output_type": "stream",
     "text": [
      "0.911864406779661\n",
      "[[53  0  0  0  0  0]\n",
      " [ 0 44  5  0  0  0]\n",
      " [ 0  3 51  0  0  0]\n",
      " [ 0  0  0 47  1  4]\n",
      " [ 0  0  0  2 32  6]\n",
      " [ 0  0  0  2  3 42]]\n",
      "                    precision    recall  f1-score   support\n",
      "\n",
      "            LAYING       1.00      1.00      1.00        53\n",
      "           SITTING       0.94      0.90      0.92        49\n",
      "          STANDING       0.91      0.94      0.93        54\n",
      "           WALKING       0.92      0.90      0.91        52\n",
      "WALKING_DOWNSTAIRS       0.89      0.80      0.84        40\n",
      "  WALKING_UPSTAIRS       0.81      0.89      0.85        47\n",
      "\n",
      "          accuracy                           0.91       295\n",
      "         macro avg       0.91      0.91      0.91       295\n",
      "      weighted avg       0.91      0.91      0.91       295\n",
      "\n"
     ]
    }
   ],
   "source": [
    "#decison tree\n",
    "model9 = DecisionTreeClassifier(max_depth=5)\n",
    "model9.fit(x_test, y_test)\n",
    "ypred9 = model9.predict(x_val2)\n",
    "print(accuracy_score(y_val2, ypred9))\n",
    "print(confusion_matrix(y_val2, ypred9))\n",
    "print(classification_report(y_val2, ypred9))"
   ]
  },
  {
   "cell_type": "code",
   "execution_count": 63,
   "metadata": {
    "scrolled": true
   },
   "outputs": [
    {
     "name": "stdout",
     "output_type": "stream",
     "text": [
      "0.976271186440678\n",
      "[[53  0  0  0  0  0]\n",
      " [ 0 45  4  0  0  0]\n",
      " [ 0  2 52  0  0  0]\n",
      " [ 0  0  0 52  0  0]\n",
      " [ 0  0  0  0 40  0]\n",
      " [ 0  0  0  0  1 46]]\n",
      "                    precision    recall  f1-score   support\n",
      "\n",
      "            LAYING       1.00      1.00      1.00        53\n",
      "           SITTING       0.96      0.92      0.94        49\n",
      "          STANDING       0.93      0.96      0.95        54\n",
      "           WALKING       1.00      1.00      1.00        52\n",
      "WALKING_DOWNSTAIRS       0.98      1.00      0.99        40\n",
      "  WALKING_UPSTAIRS       1.00      0.98      0.99        47\n",
      "\n",
      "          accuracy                           0.98       295\n",
      "         macro avg       0.98      0.98      0.98       295\n",
      "      weighted avg       0.98      0.98      0.98       295\n",
      "\n"
     ]
    }
   ],
   "source": [
    "#SVM(Support Vector Machine)\n",
    "model10 = SVC(kernel='linear', C=3)\n",
    "model10.fit(x_test, y_test)\n",
    "ypred10 = model10.predict(x_val2)\n",
    "print(accuracy_score(y_val2, ypred10))\n",
    "print(confusion_matrix(y_val2, ypred10))\n",
    "print(classification_report(y_val2, ypred10))"
   ]
  },
  {
   "cell_type": "code",
   "execution_count": 49,
   "metadata": {},
   "outputs": [
    {
     "data": {
      "text/html": [
       "<div>\n",
       "<style scoped>\n",
       "    .dataframe tbody tr th:only-of-type {\n",
       "        vertical-align: middle;\n",
       "    }\n",
       "\n",
       "    .dataframe tbody tr th {\n",
       "        vertical-align: top;\n",
       "    }\n",
       "\n",
       "    .dataframe thead th {\n",
       "        text-align: right;\n",
       "    }\n",
       "</style>\n",
       "<table border=\"1\" class=\"dataframe\">\n",
       "  <thead>\n",
       "    <tr style=\"text-align: right;\">\n",
       "      <th></th>\n",
       "      <th>knn</th>\n",
       "      <th>Logistic</th>\n",
       "      <th>rdf</th>\n",
       "      <th>decison tree</th>\n",
       "      <th>SVM</th>\n",
       "    </tr>\n",
       "  </thead>\n",
       "  <tbody>\n",
       "    <tr>\n",
       "      <th>0</th>\n",
       "      <td>0.95497</td>\n",
       "      <td>0.983008</td>\n",
       "      <td>0.940527</td>\n",
       "      <td>0.91164</td>\n",
       "      <td>0.983008</td>\n",
       "    </tr>\n",
       "  </tbody>\n",
       "</table>\n",
       "</div>"
      ],
      "text/plain": [
       "       knn  Logistic       rdf  decison tree       SVM\n",
       "0  0.95497  0.983008  0.940527       0.91164  0.983008"
      ]
     },
     "execution_count": 49,
     "metadata": {},
     "output_type": "execute_result"
    }
   ],
   "source": [
    "train01  = {'knn':accuracy_score(y_val, ypred),\n",
    "             'Logistic':accuracy_score(y_val, ypred2),\n",
    "             'rdf':accuracy_score(y_val, ypred3),\n",
    "             'decison tree':accuracy_score(y_val, ypred4),\n",
    "             'SVM':accuracy_score(y_val, ypred5)}\n",
    "train = pd.DataFrame(train01,index=[0])\n",
    "train"
   ]
  },
  {
   "cell_type": "code",
   "execution_count": 65,
   "metadata": {
    "scrolled": true
   },
   "outputs": [
    {
     "data": {
      "text/html": [
       "<div>\n",
       "<style scoped>\n",
       "    .dataframe tbody tr th:only-of-type {\n",
       "        vertical-align: middle;\n",
       "    }\n",
       "\n",
       "    .dataframe tbody tr th {\n",
       "        vertical-align: top;\n",
       "    }\n",
       "\n",
       "    .dataframe thead th {\n",
       "        text-align: right;\n",
       "    }\n",
       "</style>\n",
       "<table border=\"1\" class=\"dataframe\">\n",
       "  <thead>\n",
       "    <tr style=\"text-align: right;\">\n",
       "      <th></th>\n",
       "      <th>knn</th>\n",
       "      <th>Logistic</th>\n",
       "      <th>rdf</th>\n",
       "      <th>decison tree</th>\n",
       "      <th>SVM</th>\n",
       "    </tr>\n",
       "  </thead>\n",
       "  <tbody>\n",
       "    <tr>\n",
       "      <th>0</th>\n",
       "      <td>0.945763</td>\n",
       "      <td>0.966102</td>\n",
       "      <td>0.938983</td>\n",
       "      <td>0.911864</td>\n",
       "      <td>0.976271</td>\n",
       "    </tr>\n",
       "  </tbody>\n",
       "</table>\n",
       "</div>"
      ],
      "text/plain": [
       "        knn  Logistic       rdf  decison tree       SVM\n",
       "0  0.945763  0.966102  0.938983      0.911864  0.976271"
      ]
     },
     "execution_count": 65,
     "metadata": {},
     "output_type": "execute_result"
    }
   ],
   "source": [
    "test  = {'knn':accuracy_score(y_val2, ypred6),\n",
    "             'Logistic':accuracy_score(y_val2, ypred7),\n",
    "             'rdf':accuracy_score(y_val2, ypred8),\n",
    "             'decison tree':accuracy_score(y_val2, ypred9),\n",
    "             'SVM':accuracy_score(y_val2, ypred10)}\n",
    "\n",
    "test01 = pd.DataFrame(test,index=[0])\n",
    "test01"
   ]
  },
  {
   "cell_type": "markdown",
   "metadata": {},
   "source": [
    "## 5.그리드서치"
   ]
  },
  {
   "cell_type": "code",
   "execution_count": 67,
   "metadata": {},
   "outputs": [],
   "source": [
    "# KNN \n",
    "params = {'n_neighbors':range(2, 30), 'metric':['euclidean', 'manhattan']}\n",
    "m5_2 = GridSearchCV(KNeighborsClassifier(), params, cv = 5)\n",
    "m5_2.fit(x_train, y_train)\n",
    "p5_2 = m5_2.predict(x_val)"
   ]
  },
  {
   "cell_type": "code",
   "execution_count": 68,
   "metadata": {},
   "outputs": [
    {
     "data": {
      "text/plain": [
       "{'metric': 'manhattan', 'n_neighbors': 4}"
      ]
     },
     "execution_count": 68,
     "metadata": {},
     "output_type": "execute_result"
    }
   ],
   "source": [
    "m5_2.best_params_"
   ]
  },
  {
   "cell_type": "code",
   "execution_count": 71,
   "metadata": {
    "scrolled": true
   },
   "outputs": [
    {
     "name": "stdout",
     "output_type": "stream",
     "text": [
      "accuracy : 0.9770603228547153\n",
      "============================================================\n",
      "[[222   0   0   0   0   0]\n",
      " [  0 187  11   0   0   0]\n",
      " [  0  14 221   0   0   0]\n",
      " [  0   0   0 192   0   0]\n",
      " [  0   0   0   1 155   0]\n",
      " [  0   0   0   1   0 173]]\n",
      "============================================================\n",
      "                    precision    recall  f1-score   support\n",
      "\n",
      "            LAYING       1.00      1.00      1.00       222\n",
      "           SITTING       0.93      0.94      0.94       198\n",
      "          STANDING       0.95      0.94      0.95       235\n",
      "           WALKING       0.99      1.00      0.99       192\n",
      "WALKING_DOWNSTAIRS       1.00      0.99      1.00       156\n",
      "  WALKING_UPSTAIRS       1.00      0.99      1.00       174\n",
      "\n",
      "          accuracy                           0.98      1177\n",
      "         macro avg       0.98      0.98      0.98      1177\n",
      "      weighted avg       0.98      0.98      0.98      1177\n",
      "\n"
     ]
    }
   ],
   "source": [
    "print('accuracy :',accuracy_score(y_val, p5_2))\n",
    "print('='*60)\n",
    "print(confusion_matrix(y_val, p5_2))\n",
    "print('='*60)\n",
    "print(classification_report(y_val, p5_2))"
   ]
  },
  {
   "cell_type": "code",
   "execution_count": 73,
   "metadata": {
    "scrolled": true
   },
   "outputs": [
    {
     "data": {
      "text/plain": [
       "{'max_depth': 9}"
      ]
     },
     "execution_count": 73,
     "metadata": {},
     "output_type": "execute_result"
    }
   ],
   "source": [
    "#decision tree\n",
    "params = {'max_depth':range(2, 15)}\n",
    "m4_3 = GridSearchCV(DecisionTreeClassifier(), params, cv = 5)\n",
    "m4_3.fit(x_train, y_train)\n",
    "p4_3 = m4_3.predict(x_val)\n",
    "m4_3.best_params_"
   ]
  },
  {
   "cell_type": "code",
   "execution_count": 75,
   "metadata": {
    "scrolled": true
   },
   "outputs": [
    {
     "name": "stdout",
     "output_type": "stream",
     "text": [
      "accuracy : 0.9422259983007647\n",
      "============================================================\n",
      "[[222   0   0   0   0   0]\n",
      " [  0 179  19   0   0   0]\n",
      " [  0  16 219   0   0   0]\n",
      " [  0   0   1 177   6   8]\n",
      " [  0   0   0   3 153   0]\n",
      " [  0   0   0   8   7 159]]\n",
      "============================================================\n",
      "                    precision    recall  f1-score   support\n",
      "\n",
      "            LAYING       1.00      1.00      1.00       222\n",
      "           SITTING       0.92      0.90      0.91       198\n",
      "          STANDING       0.92      0.93      0.92       235\n",
      "           WALKING       0.94      0.92      0.93       192\n",
      "WALKING_DOWNSTAIRS       0.92      0.98      0.95       156\n",
      "  WALKING_UPSTAIRS       0.95      0.91      0.93       174\n",
      "\n",
      "          accuracy                           0.94      1177\n",
      "         macro avg       0.94      0.94      0.94      1177\n",
      "      weighted avg       0.94      0.94      0.94      1177\n",
      "\n"
     ]
    }
   ],
   "source": [
    "print('accuracy :',accuracy_score(y_val, p4_3))\n",
    "print('='*60)\n",
    "print(confusion_matrix(y_val, p4_3))\n",
    "print('='*60)\n",
    "print(classification_report(y_val, p4_3))"
   ]
  },
  {
   "cell_type": "code",
   "execution_count": 86,
   "metadata": {},
   "outputs": [
    {
     "ename": "NameError",
     "evalue": "name 'model_rdf' is not defined",
     "output_type": "error",
     "traceback": [
      "\u001b[1;31m---------------------------------------------------------------------------\u001b[0m",
      "\u001b[1;31mNameError\u001b[0m                                 Traceback (most recent call last)",
      "Cell \u001b[1;32mIn[86], line 7\u001b[0m\n\u001b[0;32m      5\u001b[0m p4_4 \u001b[38;5;241m=\u001b[39m m4_4\u001b[38;5;241m.\u001b[39mpredict(x_val)\n\u001b[0;32m      6\u001b[0m m4_4\u001b[38;5;241m.\u001b[39mbest_params_\n\u001b[1;32m----> 7\u001b[0m \u001b[38;5;28mprint\u001b[39m(\u001b[38;5;124m'\u001b[39m\u001b[38;5;124m* 파라미터:\u001b[39m\u001b[38;5;124m'\u001b[39m, model_rdf\u001b[38;5;241m.\u001b[39mbest_params_)\n\u001b[0;32m      8\u001b[0m \u001b[38;5;28mprint\u001b[39m(\u001b[38;5;124m'\u001b[39m\u001b[38;5;124m* 예측성능:\u001b[39m\u001b[38;5;124m'\u001b[39m, model_rdf\u001b[38;5;241m.\u001b[39mbest_score_)\n",
      "\u001b[1;31mNameError\u001b[0m: name 'model_rdf' is not defined"
     ]
    }
   ],
   "source": [
    "#rdf\n",
    "param = {'max_depth': range(1, 21)}\n",
    "m4_4 = GridSearchCV(RandomForestClassifier(), param, cv=5)\n",
    "m4_4.fit(x_train, y_train)\n",
    "p4_4 = m4_4.predict(x_val)\n",
    "m4_4.best_params_\n",
    "print('* 파라미터:', model_rdf.best_params_)\n",
    "print('* 예측성능:', model_rdf.best_score_)"
   ]
  },
  {
   "cell_type": "markdown",
   "metadata": {
    "id": "utBIUTcHItOM"
   },
   "source": [
    "## 5.모델 저장\n",
    "* 각 알고리즘 별 최적의 성능 모델 저장\n",
    "    * 단, 전체 변수를 이용해 생성한 모델만 저장합니다.(joblib.dump)\n",
    "    * 튜닝 모델은, model.best_estimator_ 로 저장합니다."
   ]
  },
  {
   "cell_type": "code",
   "execution_count": 80,
   "metadata": {
    "id": "fOz-YSqoIyxO"
   },
   "outputs": [
    {
     "data": {
      "text/plain": [
       "['model5 SVM_v1.pkl']"
      ]
     },
     "execution_count": 80,
     "metadata": {},
     "output_type": "execute_result"
    }
   ],
   "source": [
    "joblib.dump(model5,'model5 SVM_v1.pkl')"
   ]
  },
  {
   "cell_type": "code",
   "execution_count": 82,
   "metadata": {
    "id": "x30dIxfGSFM1"
   },
   "outputs": [
    {
     "data": {
      "text/plain": [
       "['model10 SVM test_v1.pkl']"
      ]
     },
     "execution_count": 82,
     "metadata": {},
     "output_type": "execute_result"
    }
   ],
   "source": [
    "joblib.dump(model10,'model10 SVM test_v1.pkl')"
   ]
  },
  {
   "cell_type": "code",
   "execution_count": null,
   "metadata": {},
   "outputs": [],
   "source": []
  }
 ],
 "metadata": {
  "colab": {
   "provenance": [],
   "toc_visible": true
  },
  "kernelspec": {
   "display_name": "Python 3 (ipykernel)",
   "language": "python",
   "name": "python3"
  },
  "language_info": {
   "codemirror_mode": {
    "name": "ipython",
    "version": 3
   },
   "file_extension": ".py",
   "mimetype": "text/x-python",
   "name": "python",
   "nbconvert_exporter": "python",
   "pygments_lexer": "ipython3",
   "version": "3.12.4"
  }
 },
 "nbformat": 4,
 "nbformat_minor": 4
}
