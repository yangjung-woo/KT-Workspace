{
 "cells": [
  {
   "cell_type": "markdown",
   "metadata": {
    "id": "NbI_RoQ9AP5r"
   },
   "source": [
    "#**스마트폰 센서 데이터 기반 모션 분류**\n",
    "# 단계2 : 기본 모델링\n"
   ]
  },
  {
   "cell_type": "markdown",
   "metadata": {
    "id": "D67PlTu4JGAY"
   },
   "source": [
    "## 0.미션"
   ]
  },
  {
   "cell_type": "markdown",
   "metadata": {
    "id": "KxwkCwUz4sv0"
   },
   "source": [
    "* 데이터 전처리\n",
    "    * 가변수화, 데이터 분할, NaN 확인 및 조치, 스케일링 등 필요한 전처리 수행\n",
    "* 다양한 알고리즘으로 분류 모델 생성\n",
    "    * 최소 4개 이상의 알고리즘을 적용하여 모델링 수행\n",
    "    * 성능 비교\n",
    "        * 각 모델의 성능을 관리하는 별도의 엑셀파일을 만들어 봅시다.\n",
    "        * 성능 가이드 : Accuracy 0.900 ~"
   ]
  },
  {
   "cell_type": "markdown",
   "metadata": {
    "id": "NCptKiLOAn7l"
   },
   "source": [
    "## 1.환경설정"
   ]
  },
  {
   "cell_type": "markdown",
   "metadata": {
    "id": "V1FK1b5HxOc3"
   },
   "source": [
    "* 세부 요구사항\n",
    "    - 경로 설정 : 로컬 수행(Ananconda)\n",
    "        * 제공된 압축파일을 다운받아 압축을 풀고\n",
    "        * anaconda의 root directory(보통 C:/Users/< ID > 에 project3_1 폴더를 만들고, 복사해 넣습니다.\n",
    "    - 기본적으로 필요한 라이브러리를 import 하도록 코드가 작성되어 있습니다.\n",
    "        * 필요하다고 판단되는 라이브러리를 추가하세요.\n"
   ]
  },
  {
   "cell_type": "code",
   "execution_count": 29,
   "metadata": {},
   "outputs": [
    {
     "name": "stdout",
     "output_type": "stream",
     "text": [
      "1.4.2\n"
     ]
    }
   ],
   "source": [
    "import sklearn\n",
    "print(sklearn.__version__)"
   ]
  },
  {
   "cell_type": "markdown",
   "metadata": {
    "id": "3dm30YEUpZ8Q"
   },
   "source": [
    "### (1) 라이브러리 로딩"
   ]
  },
  {
   "cell_type": "code",
   "execution_count": 31,
   "metadata": {
    "id": "3rsQerEaELwI"
   },
   "outputs": [],
   "source": [
    "import pandas as pd\n",
    "import numpy as np\n",
    "import matplotlib.pyplot as plt\n",
    "import seaborn as sns\n",
    "from tqdm.auto import tqdm\n",
    "import warnings\n",
    "warnings.filterwarnings('ignore')\n",
    "\n",
    "import joblib\n",
    "\n",
    "# 필요한 라이브러리, 함수 로딩 ------------------\n",
    "\n",
    "from sklearn.model_selection import train_test_split\n",
    "from sklearn.preprocessing import MinMaxScaler\n",
    "from sklearn.metrics import *"
   ]
  },
  {
   "cell_type": "markdown",
   "metadata": {
    "id": "XZ6nyqZkpZ8S"
   },
   "source": [
    "* 제공 함수 생성\n",
    "    * 변수 중요도를 시각화할 수 있는 함수를 제공합니다.\n",
    "    * 입력 :\n",
    "        * importance : 트리모델의 변수 중요도(예: model.feature_importances_)\n",
    "        * names : 변수 이름 목록(예 : x_train.columns\n",
    "        * result_only  : 변수 중요도 순으로 데이터프레임만 return할지, 그래프도 포함할지 결정. False이면 결과 데이터프레임 + 그래프\n",
    "        * topn : 중요도 상위 n개만 표시. all 이면 전체.\n",
    "    * 출력 :\n",
    "        * 중요도 그래프 : 중요도 내림차순으로 정렬\n",
    "        * 중요도 데이터프레임 : 중요도 내림차순으로 정렬"
   ]
  },
  {
   "cell_type": "code",
   "execution_count": 33,
   "metadata": {
    "id": "EyMZDIT-aDHZ"
   },
   "outputs": [],
   "source": [
    "# 변수의 특성 중요도 계산하기\n",
    "def plot_feature_importance(importance, names, result_only = False, topn = 'all'):\n",
    "    feature_importance = np.array(importance)\n",
    "    feature_name = np.array(names)\n",
    "\n",
    "    data={'feature_name':feature_name,'feature_importance':feature_importance}\n",
    "    fi_temp = pd.DataFrame(data)\n",
    "\n",
    "    #변수의 특성 중요도 순으로 정렬하기\n",
    "    fi_temp.sort_values(by=['feature_importance'], ascending=False,inplace=True)\n",
    "    fi_temp.reset_index(drop=True, inplace = True)\n",
    "\n",
    "    if topn == 'all' :\n",
    "        fi_df = fi_temp.copy()\n",
    "    else :\n",
    "        fi_df = fi_temp.iloc[:topn]\n",
    "\n",
    "    #변수의 특성 중요도 그래프로 그리기\n",
    "    if result_only == False :\n",
    "        plt.figure(figsize=(10,20))\n",
    "        sns.barplot(x='feature_importance', y='feature_name', data = fi_df)\n",
    "\n",
    "        plt.xlabel('importance')\n",
    "        plt.ylabel('feature name')\n",
    "        plt.grid()\n",
    "\n",
    "    return fi_df"
   ]
  },
  {
   "cell_type": "markdown",
   "metadata": {
    "id": "bA-eHXdwBDCz"
   },
   "source": [
    "### (2) 데이터 불러오기"
   ]
  },
  {
   "cell_type": "markdown",
   "metadata": {
    "id": "HwIACQyupklv"
   },
   "source": [
    "* 주어진 데이터셋\n",
    "    * data01_train.csv : 학습 및 검증용\n",
    "    * data01_test.csv : 테스트용\n",
    "\n",
    "* 세부 요구사항\n",
    "    * 칼럼 삭제 : data01_train.csv와 data01_test.csv 에서 'subject' 칼럼은 불필요하므로 삭제합니다."
   ]
  },
  {
   "cell_type": "markdown",
   "metadata": {
    "id": "fmgUEGOipvG5"
   },
   "source": [
    "#### 1) 데이터로딩"
   ]
  },
  {
   "cell_type": "code",
   "execution_count": 37,
   "metadata": {
    "id": "FT_JFnclfcQ4"
   },
   "outputs": [],
   "source": [
    "file1 = 'data01_train.csv'\n",
    "file2 = 'data01_test.csv'"
   ]
  },
  {
   "cell_type": "code",
   "execution_count": 38,
   "metadata": {
    "id": "ZpMoNMpcQoQ5"
   },
   "outputs": [],
   "source": [
    "data = pd.read_csv(file1)\n",
    "test = pd.read_csv(file2)"
   ]
  },
  {
   "cell_type": "code",
   "execution_count": 39,
   "metadata": {
    "id": "uTi4ZuDWDlem"
   },
   "outputs": [],
   "source": [
    "# 불필요한 칼럼 삭제\n",
    "data = data.drop(columns='subject')\n",
    "test = test.drop(columns='subject')"
   ]
  },
  {
   "cell_type": "code",
   "execution_count": 40,
   "metadata": {},
   "outputs": [],
   "source": [
    "# 열이름에 LGBMClassifier시 JSON에러 뜨는 특수문자 지우기\n",
    "import re\n",
    "data = data.rename(columns = lambda x:re.sub('[^A-Za-z0-9_]+', '', x))\n",
    "test = test.rename(columns = lambda x:re.sub('[^A-Za-z0-9_]+', '', x))"
   ]
  },
  {
   "cell_type": "markdown",
   "metadata": {
    "id": "aI7qJqz3pr3m"
   },
   "source": [
    "#### 2) 기본 정보 조회"
   ]
  },
  {
   "cell_type": "code",
   "execution_count": 42,
   "metadata": {
    "id": "yFVSAGNhpr3m"
   },
   "outputs": [
    {
     "data": {
      "text/plain": [
       "(5881, 562)"
      ]
     },
     "execution_count": 42,
     "metadata": {},
     "output_type": "execute_result"
    }
   ],
   "source": [
    "data.shape"
   ]
  },
  {
   "cell_type": "code",
   "execution_count": 43,
   "metadata": {
    "id": "xJnnr8K-pr3m"
   },
   "outputs": [
    {
     "name": "stdout",
     "output_type": "stream",
     "text": [
      "<class 'pandas.core.frame.DataFrame'>\n",
      "RangeIndex: 5881 entries, 0 to 5880\n",
      "Columns: 562 entries, tBodyAccmeanX to Activity\n",
      "dtypes: float64(561), object(1)\n",
      "memory usage: 25.2+ MB\n"
     ]
    }
   ],
   "source": [
    "data.info()"
   ]
  },
  {
   "cell_type": "code",
   "execution_count": 44,
   "metadata": {
    "id": "ajJ1qJkhpr3n"
   },
   "outputs": [
    {
     "data": {
      "text/html": [
       "<div>\n",
       "<style scoped>\n",
       "    .dataframe tbody tr th:only-of-type {\n",
       "        vertical-align: middle;\n",
       "    }\n",
       "\n",
       "    .dataframe tbody tr th {\n",
       "        vertical-align: top;\n",
       "    }\n",
       "\n",
       "    .dataframe thead th {\n",
       "        text-align: right;\n",
       "    }\n",
       "</style>\n",
       "<table border=\"1\" class=\"dataframe\">\n",
       "  <thead>\n",
       "    <tr style=\"text-align: right;\">\n",
       "      <th></th>\n",
       "      <th>tBodyAccmeanX</th>\n",
       "      <th>tBodyAccmeanY</th>\n",
       "      <th>tBodyAccmeanZ</th>\n",
       "      <th>tBodyAccstdX</th>\n",
       "      <th>tBodyAccstdY</th>\n",
       "      <th>tBodyAccstdZ</th>\n",
       "      <th>tBodyAccmadX</th>\n",
       "      <th>tBodyAccmadY</th>\n",
       "      <th>tBodyAccmadZ</th>\n",
       "      <th>tBodyAccmaxX</th>\n",
       "      <th>...</th>\n",
       "      <th>fBodyBodyGyroJerkMagmeanFreq</th>\n",
       "      <th>fBodyBodyGyroJerkMagskewness</th>\n",
       "      <th>fBodyBodyGyroJerkMagkurtosis</th>\n",
       "      <th>angletBodyAccMeangravity</th>\n",
       "      <th>angletBodyAccJerkMeangravityMean</th>\n",
       "      <th>angletBodyGyroMeangravityMean</th>\n",
       "      <th>angletBodyGyroJerkMeangravityMean</th>\n",
       "      <th>angleXgravityMean</th>\n",
       "      <th>angleYgravityMean</th>\n",
       "      <th>angleZgravityMean</th>\n",
       "    </tr>\n",
       "  </thead>\n",
       "  <tbody>\n",
       "    <tr>\n",
       "      <th>count</th>\n",
       "      <td>5881.000000</td>\n",
       "      <td>5881.000000</td>\n",
       "      <td>5881.000000</td>\n",
       "      <td>5881.000000</td>\n",
       "      <td>5881.000000</td>\n",
       "      <td>5881.000000</td>\n",
       "      <td>5881.000000</td>\n",
       "      <td>5881.000000</td>\n",
       "      <td>5881.000000</td>\n",
       "      <td>5881.000000</td>\n",
       "      <td>...</td>\n",
       "      <td>5881.000000</td>\n",
       "      <td>5881.000000</td>\n",
       "      <td>5881.000000</td>\n",
       "      <td>5881.000000</td>\n",
       "      <td>5881.000000</td>\n",
       "      <td>5881.000000</td>\n",
       "      <td>5881.000000</td>\n",
       "      <td>5881.000000</td>\n",
       "      <td>5881.000000</td>\n",
       "      <td>5881.000000</td>\n",
       "    </tr>\n",
       "    <tr>\n",
       "      <th>mean</th>\n",
       "      <td>0.274811</td>\n",
       "      <td>-0.017799</td>\n",
       "      <td>-0.109396</td>\n",
       "      <td>-0.603138</td>\n",
       "      <td>-0.509815</td>\n",
       "      <td>-0.604058</td>\n",
       "      <td>-0.628151</td>\n",
       "      <td>-0.525944</td>\n",
       "      <td>-0.605374</td>\n",
       "      <td>-0.465490</td>\n",
       "      <td>...</td>\n",
       "      <td>0.126955</td>\n",
       "      <td>-0.305883</td>\n",
       "      <td>-0.623548</td>\n",
       "      <td>0.008524</td>\n",
       "      <td>-0.001185</td>\n",
       "      <td>0.009340</td>\n",
       "      <td>-0.007099</td>\n",
       "      <td>-0.491501</td>\n",
       "      <td>0.059299</td>\n",
       "      <td>-0.054594</td>\n",
       "    </tr>\n",
       "    <tr>\n",
       "      <th>std</th>\n",
       "      <td>0.067614</td>\n",
       "      <td>0.039422</td>\n",
       "      <td>0.058373</td>\n",
       "      <td>0.448807</td>\n",
       "      <td>0.501815</td>\n",
       "      <td>0.417319</td>\n",
       "      <td>0.424345</td>\n",
       "      <td>0.485115</td>\n",
       "      <td>0.413043</td>\n",
       "      <td>0.544995</td>\n",
       "      <td>...</td>\n",
       "      <td>0.249176</td>\n",
       "      <td>0.322808</td>\n",
       "      <td>0.310371</td>\n",
       "      <td>0.339730</td>\n",
       "      <td>0.447197</td>\n",
       "      <td>0.608190</td>\n",
       "      <td>0.476738</td>\n",
       "      <td>0.509069</td>\n",
       "      <td>0.297340</td>\n",
       "      <td>0.278479</td>\n",
       "    </tr>\n",
       "    <tr>\n",
       "      <th>min</th>\n",
       "      <td>-0.503823</td>\n",
       "      <td>-0.684893</td>\n",
       "      <td>-1.000000</td>\n",
       "      <td>-1.000000</td>\n",
       "      <td>-0.999844</td>\n",
       "      <td>-0.999667</td>\n",
       "      <td>-1.000000</td>\n",
       "      <td>-0.999419</td>\n",
       "      <td>-1.000000</td>\n",
       "      <td>-1.000000</td>\n",
       "      <td>...</td>\n",
       "      <td>-0.965725</td>\n",
       "      <td>-0.979261</td>\n",
       "      <td>-0.999765</td>\n",
       "      <td>-0.976580</td>\n",
       "      <td>-1.000000</td>\n",
       "      <td>-1.000000</td>\n",
       "      <td>-1.000000</td>\n",
       "      <td>-1.000000</td>\n",
       "      <td>-1.000000</td>\n",
       "      <td>-0.980143</td>\n",
       "    </tr>\n",
       "    <tr>\n",
       "      <th>25%</th>\n",
       "      <td>0.262919</td>\n",
       "      <td>-0.024877</td>\n",
       "      <td>-0.121051</td>\n",
       "      <td>-0.992774</td>\n",
       "      <td>-0.977680</td>\n",
       "      <td>-0.980127</td>\n",
       "      <td>-0.993602</td>\n",
       "      <td>-0.977865</td>\n",
       "      <td>-0.980112</td>\n",
       "      <td>-0.936067</td>\n",
       "      <td>...</td>\n",
       "      <td>-0.021610</td>\n",
       "      <td>-0.541969</td>\n",
       "      <td>-0.845985</td>\n",
       "      <td>-0.122361</td>\n",
       "      <td>-0.294369</td>\n",
       "      <td>-0.481718</td>\n",
       "      <td>-0.373345</td>\n",
       "      <td>-0.811397</td>\n",
       "      <td>-0.018203</td>\n",
       "      <td>-0.141555</td>\n",
       "    </tr>\n",
       "    <tr>\n",
       "      <th>50%</th>\n",
       "      <td>0.277154</td>\n",
       "      <td>-0.017221</td>\n",
       "      <td>-0.108781</td>\n",
       "      <td>-0.943933</td>\n",
       "      <td>-0.844575</td>\n",
       "      <td>-0.856352</td>\n",
       "      <td>-0.948501</td>\n",
       "      <td>-0.849266</td>\n",
       "      <td>-0.849896</td>\n",
       "      <td>-0.878729</td>\n",
       "      <td>...</td>\n",
       "      <td>0.133887</td>\n",
       "      <td>-0.342923</td>\n",
       "      <td>-0.712677</td>\n",
       "      <td>0.010278</td>\n",
       "      <td>0.005146</td>\n",
       "      <td>0.011448</td>\n",
       "      <td>-0.000847</td>\n",
       "      <td>-0.709441</td>\n",
       "      <td>0.182893</td>\n",
       "      <td>0.003951</td>\n",
       "    </tr>\n",
       "    <tr>\n",
       "      <th>75%</th>\n",
       "      <td>0.288526</td>\n",
       "      <td>-0.010920</td>\n",
       "      <td>-0.098163</td>\n",
       "      <td>-0.242130</td>\n",
       "      <td>-0.034499</td>\n",
       "      <td>-0.262690</td>\n",
       "      <td>-0.291138</td>\n",
       "      <td>-0.068857</td>\n",
       "      <td>-0.268539</td>\n",
       "      <td>-0.013690</td>\n",
       "      <td>...</td>\n",
       "      <td>0.288944</td>\n",
       "      <td>-0.127371</td>\n",
       "      <td>-0.501158</td>\n",
       "      <td>0.154985</td>\n",
       "      <td>0.285030</td>\n",
       "      <td>0.499857</td>\n",
       "      <td>0.356236</td>\n",
       "      <td>-0.511330</td>\n",
       "      <td>0.248435</td>\n",
       "      <td>0.111932</td>\n",
       "    </tr>\n",
       "    <tr>\n",
       "      <th>max</th>\n",
       "      <td>1.000000</td>\n",
       "      <td>1.000000</td>\n",
       "      <td>1.000000</td>\n",
       "      <td>1.000000</td>\n",
       "      <td>0.916238</td>\n",
       "      <td>1.000000</td>\n",
       "      <td>1.000000</td>\n",
       "      <td>0.967664</td>\n",
       "      <td>1.000000</td>\n",
       "      <td>1.000000</td>\n",
       "      <td>...</td>\n",
       "      <td>0.946700</td>\n",
       "      <td>0.989538</td>\n",
       "      <td>0.956845</td>\n",
       "      <td>1.000000</td>\n",
       "      <td>1.000000</td>\n",
       "      <td>0.998702</td>\n",
       "      <td>0.996078</td>\n",
       "      <td>0.977344</td>\n",
       "      <td>0.478157</td>\n",
       "      <td>1.000000</td>\n",
       "    </tr>\n",
       "  </tbody>\n",
       "</table>\n",
       "<p>8 rows × 561 columns</p>\n",
       "</div>"
      ],
      "text/plain": [
       "       tBodyAccmeanX  tBodyAccmeanY  tBodyAccmeanZ  tBodyAccstdX  \\\n",
       "count    5881.000000    5881.000000    5881.000000   5881.000000   \n",
       "mean        0.274811      -0.017799      -0.109396     -0.603138   \n",
       "std         0.067614       0.039422       0.058373      0.448807   \n",
       "min        -0.503823      -0.684893      -1.000000     -1.000000   \n",
       "25%         0.262919      -0.024877      -0.121051     -0.992774   \n",
       "50%         0.277154      -0.017221      -0.108781     -0.943933   \n",
       "75%         0.288526      -0.010920      -0.098163     -0.242130   \n",
       "max         1.000000       1.000000       1.000000      1.000000   \n",
       "\n",
       "       tBodyAccstdY  tBodyAccstdZ  tBodyAccmadX  tBodyAccmadY  tBodyAccmadZ  \\\n",
       "count   5881.000000   5881.000000   5881.000000   5881.000000   5881.000000   \n",
       "mean      -0.509815     -0.604058     -0.628151     -0.525944     -0.605374   \n",
       "std        0.501815      0.417319      0.424345      0.485115      0.413043   \n",
       "min       -0.999844     -0.999667     -1.000000     -0.999419     -1.000000   \n",
       "25%       -0.977680     -0.980127     -0.993602     -0.977865     -0.980112   \n",
       "50%       -0.844575     -0.856352     -0.948501     -0.849266     -0.849896   \n",
       "75%       -0.034499     -0.262690     -0.291138     -0.068857     -0.268539   \n",
       "max        0.916238      1.000000      1.000000      0.967664      1.000000   \n",
       "\n",
       "       tBodyAccmaxX  ...  fBodyBodyGyroJerkMagmeanFreq  \\\n",
       "count   5881.000000  ...                   5881.000000   \n",
       "mean      -0.465490  ...                      0.126955   \n",
       "std        0.544995  ...                      0.249176   \n",
       "min       -1.000000  ...                     -0.965725   \n",
       "25%       -0.936067  ...                     -0.021610   \n",
       "50%       -0.878729  ...                      0.133887   \n",
       "75%       -0.013690  ...                      0.288944   \n",
       "max        1.000000  ...                      0.946700   \n",
       "\n",
       "       fBodyBodyGyroJerkMagskewness  fBodyBodyGyroJerkMagkurtosis  \\\n",
       "count                   5881.000000                   5881.000000   \n",
       "mean                      -0.305883                     -0.623548   \n",
       "std                        0.322808                      0.310371   \n",
       "min                       -0.979261                     -0.999765   \n",
       "25%                       -0.541969                     -0.845985   \n",
       "50%                       -0.342923                     -0.712677   \n",
       "75%                       -0.127371                     -0.501158   \n",
       "max                        0.989538                      0.956845   \n",
       "\n",
       "       angletBodyAccMeangravity  angletBodyAccJerkMeangravityMean  \\\n",
       "count               5881.000000                       5881.000000   \n",
       "mean                   0.008524                         -0.001185   \n",
       "std                    0.339730                          0.447197   \n",
       "min                   -0.976580                         -1.000000   \n",
       "25%                   -0.122361                         -0.294369   \n",
       "50%                    0.010278                          0.005146   \n",
       "75%                    0.154985                          0.285030   \n",
       "max                    1.000000                          1.000000   \n",
       "\n",
       "       angletBodyGyroMeangravityMean  angletBodyGyroJerkMeangravityMean  \\\n",
       "count                    5881.000000                        5881.000000   \n",
       "mean                        0.009340                          -0.007099   \n",
       "std                         0.608190                           0.476738   \n",
       "min                        -1.000000                          -1.000000   \n",
       "25%                        -0.481718                          -0.373345   \n",
       "50%                         0.011448                          -0.000847   \n",
       "75%                         0.499857                           0.356236   \n",
       "max                         0.998702                           0.996078   \n",
       "\n",
       "       angleXgravityMean  angleYgravityMean  angleZgravityMean  \n",
       "count        5881.000000        5881.000000        5881.000000  \n",
       "mean           -0.491501           0.059299          -0.054594  \n",
       "std             0.509069           0.297340           0.278479  \n",
       "min            -1.000000          -1.000000          -0.980143  \n",
       "25%            -0.811397          -0.018203          -0.141555  \n",
       "50%            -0.709441           0.182893           0.003951  \n",
       "75%            -0.511330           0.248435           0.111932  \n",
       "max             0.977344           0.478157           1.000000  \n",
       "\n",
       "[8 rows x 561 columns]"
      ]
     },
     "execution_count": 44,
     "metadata": {},
     "output_type": "execute_result"
    }
   ],
   "source": [
    "data.describe()"
   ]
  },
  {
   "cell_type": "code",
   "execution_count": 45,
   "metadata": {
    "id": "Jn78I6JFpr3n"
   },
   "outputs": [
    {
     "name": "stdout",
     "output_type": "stream",
     "text": [
      "<class 'pandas.core.frame.DataFrame'>\n",
      "RangeIndex: 1471 entries, 0 to 1470\n",
      "Columns: 562 entries, tBodyAccmeanX to Activity\n",
      "dtypes: float64(561), object(1)\n",
      "memory usage: 6.3+ MB\n"
     ]
    }
   ],
   "source": [
    "test.info()"
   ]
  },
  {
   "cell_type": "markdown",
   "metadata": {
    "id": "6U3UzQGZAS1o"
   },
   "source": [
    "## **2. 데이터 전처리**\n",
    "\n",
    "* 가변수화, 데이터 분할, NaN 확인 및 조치, 스케일링 등 필요한 전처리를 수행한다.\n"
   ]
  },
  {
   "cell_type": "code",
   "execution_count": 47,
   "metadata": {},
   "outputs": [],
   "source": [
    "# # 가변수화\n",
    "# dumm_cols = ['Activity']\n",
    "# data = pd.get_dummies(data, columns=dumm_cols, dtype = 'int')\n",
    "# data"
   ]
  },
  {
   "cell_type": "markdown",
   "metadata": {
    "id": "ZecsiT_DAS1p"
   },
   "source": [
    "### (1) 데이터 분할1 : x, y"
   ]
  },
  {
   "cell_type": "markdown",
   "metadata": {
    "id": "H-DxzcJiJS4W"
   },
   "source": [
    "* 세부 요구사항\n",
    "    - x, y로 분할합니다."
   ]
  },
  {
   "cell_type": "code",
   "execution_count": 50,
   "metadata": {
    "id": "qVqd1JJ6Ajaj"
   },
   "outputs": [],
   "source": [
    "target = 'Activity'\n",
    "x = data.drop(columns=target)\n",
    "y = data[target]\n",
    "\n",
    "x_train, x_test, y_train, y_test = train_test_split(x, y, test_size=0.3, random_state=1)"
   ]
  },
  {
   "cell_type": "markdown",
   "metadata": {
    "id": "MpZfnAa4BefE"
   },
   "source": [
    "### (2) 데이터분할2 : train, validation"
   ]
  },
  {
   "cell_type": "markdown",
   "metadata": {
    "id": "YOYncknxWg0E"
   },
   "source": [
    "* 세부 요구사항\n",
    "    - train : val = 8 : 2 혹은 7 : 3\n",
    "    - random_state 옵션을 사용하여 다른 모델과 비교를 위해 성능이 재현되도록 합니다."
   ]
  },
  {
   "cell_type": "code",
   "execution_count": 53,
   "metadata": {
    "id": "1AoCDDpdBeCT"
   },
   "outputs": [],
   "source": [
    "x_train, x_val, y_train, y_val = train_test_split(x, y, test_size=.3, random_state = 10)"
   ]
  },
  {
   "cell_type": "markdown",
   "metadata": {
    "id": "A8hxVzM3Agvw"
   },
   "source": [
    "### (3) 스케일링\n"
   ]
  },
  {
   "cell_type": "markdown",
   "metadata": {
    "id": "8OHAQJ9HJZP8"
   },
   "source": [
    "* 세부 요구사항\n",
    "    - 스케일링을 필요로 하는 알고리즘 사용을 위해서 코드 수행\n",
    "    - min-max 방식 혹은 standard 방식 중 한가지 사용."
   ]
  },
  {
   "cell_type": "code",
   "execution_count": 56,
   "metadata": {
    "id": "egLANGC5BMmk"
   },
   "outputs": [],
   "source": [
    "minmax = MinMaxScaler()\n",
    "\n",
    "# 스케일링\n",
    "x_train_s1 = minmax.fit_transform(x_train)\n",
    "x_val_s1 = minmax.transform(x_val)\n",
    "\n",
    "# df로 변환\n",
    "x_train_s1 = pd.DataFrame(x_train_s1, columns=x_train.columns)\n",
    "x_val_s1 = pd.DataFrame(x_val_s1, columns=x_val.columns)"
   ]
  },
  {
   "cell_type": "code",
   "execution_count": 57,
   "metadata": {},
   "outputs": [
    {
     "data": {
      "text/html": [
       "<div>\n",
       "<style scoped>\n",
       "    .dataframe tbody tr th:only-of-type {\n",
       "        vertical-align: middle;\n",
       "    }\n",
       "\n",
       "    .dataframe tbody tr th {\n",
       "        vertical-align: top;\n",
       "    }\n",
       "\n",
       "    .dataframe thead th {\n",
       "        text-align: right;\n",
       "    }\n",
       "</style>\n",
       "<table border=\"1\" class=\"dataframe\">\n",
       "  <thead>\n",
       "    <tr style=\"text-align: right;\">\n",
       "      <th></th>\n",
       "      <th>count</th>\n",
       "      <th>mean</th>\n",
       "      <th>std</th>\n",
       "      <th>min</th>\n",
       "      <th>25%</th>\n",
       "      <th>50%</th>\n",
       "      <th>75%</th>\n",
       "      <th>max</th>\n",
       "    </tr>\n",
       "  </thead>\n",
       "  <tbody>\n",
       "    <tr>\n",
       "      <th>tBodyAccmeanX</th>\n",
       "      <td>4116.0</td>\n",
       "      <td>0.657475</td>\n",
       "      <td>0.057222</td>\n",
       "      <td>0.0</td>\n",
       "      <td>0.648218</td>\n",
       "      <td>0.659581</td>\n",
       "      <td>0.668865</td>\n",
       "      <td>1.0</td>\n",
       "    </tr>\n",
       "    <tr>\n",
       "      <th>tBodyAccmeanY</th>\n",
       "      <td>4116.0</td>\n",
       "      <td>0.395710</td>\n",
       "      <td>0.024958</td>\n",
       "      <td>0.0</td>\n",
       "      <td>0.391678</td>\n",
       "      <td>0.396298</td>\n",
       "      <td>0.399962</td>\n",
       "      <td>1.0</td>\n",
       "    </tr>\n",
       "    <tr>\n",
       "      <th>tBodyAccmeanZ</th>\n",
       "      <td>4116.0</td>\n",
       "      <td>0.445612</td>\n",
       "      <td>0.030918</td>\n",
       "      <td>0.0</td>\n",
       "      <td>0.439622</td>\n",
       "      <td>0.445618</td>\n",
       "      <td>0.450961</td>\n",
       "      <td>1.0</td>\n",
       "    </tr>\n",
       "    <tr>\n",
       "      <th>tBodyAccstdX</th>\n",
       "      <td>4116.0</td>\n",
       "      <td>0.208200</td>\n",
       "      <td>0.238487</td>\n",
       "      <td>0.0</td>\n",
       "      <td>0.003736</td>\n",
       "      <td>0.027098</td>\n",
       "      <td>0.403845</td>\n",
       "      <td>1.0</td>\n",
       "    </tr>\n",
       "    <tr>\n",
       "      <th>tBodyAccstdY</th>\n",
       "      <td>4116.0</td>\n",
       "      <td>0.252492</td>\n",
       "      <td>0.261911</td>\n",
       "      <td>0.0</td>\n",
       "      <td>0.011282</td>\n",
       "      <td>0.071486</td>\n",
       "      <td>0.503845</td>\n",
       "      <td>1.0</td>\n",
       "    </tr>\n",
       "    <tr>\n",
       "      <th>...</th>\n",
       "      <td>...</td>\n",
       "      <td>...</td>\n",
       "      <td>...</td>\n",
       "      <td>...</td>\n",
       "      <td>...</td>\n",
       "      <td>...</td>\n",
       "      <td>...</td>\n",
       "      <td>...</td>\n",
       "    </tr>\n",
       "    <tr>\n",
       "      <th>angletBodyGyroMeangravityMean</th>\n",
       "      <td>4116.0</td>\n",
       "      <td>0.505255</td>\n",
       "      <td>0.302881</td>\n",
       "      <td>0.0</td>\n",
       "      <td>0.260914</td>\n",
       "      <td>0.506262</td>\n",
       "      <td>0.743516</td>\n",
       "      <td>1.0</td>\n",
       "    </tr>\n",
       "    <tr>\n",
       "      <th>angletBodyGyroJerkMeangravityMean</th>\n",
       "      <td>4116.0</td>\n",
       "      <td>0.498992</td>\n",
       "      <td>0.237314</td>\n",
       "      <td>0.0</td>\n",
       "      <td>0.321172</td>\n",
       "      <td>0.500061</td>\n",
       "      <td>0.679486</td>\n",
       "      <td>1.0</td>\n",
       "    </tr>\n",
       "    <tr>\n",
       "      <th>angleXgravityMean</th>\n",
       "      <td>4116.0</td>\n",
       "      <td>0.257410</td>\n",
       "      <td>0.257581</td>\n",
       "      <td>0.0</td>\n",
       "      <td>0.095169</td>\n",
       "      <td>0.146700</td>\n",
       "      <td>0.247597</td>\n",
       "      <td>1.0</td>\n",
       "    </tr>\n",
       "    <tr>\n",
       "      <th>angleYgravityMean</th>\n",
       "      <td>4116.0</td>\n",
       "      <td>0.714069</td>\n",
       "      <td>0.202619</td>\n",
       "      <td>0.0</td>\n",
       "      <td>0.657738</td>\n",
       "      <td>0.797332</td>\n",
       "      <td>0.843697</td>\n",
       "      <td>1.0</td>\n",
       "    </tr>\n",
       "    <tr>\n",
       "      <th>angleZgravityMean</th>\n",
       "      <td>4116.0</td>\n",
       "      <td>0.466980</td>\n",
       "      <td>0.140813</td>\n",
       "      <td>0.0</td>\n",
       "      <td>0.421924</td>\n",
       "      <td>0.496191</td>\n",
       "      <td>0.550375</td>\n",
       "      <td>1.0</td>\n",
       "    </tr>\n",
       "  </tbody>\n",
       "</table>\n",
       "<p>561 rows × 8 columns</p>\n",
       "</div>"
      ],
      "text/plain": [
       "                                    count      mean       std  min       25%  \\\n",
       "tBodyAccmeanX                      4116.0  0.657475  0.057222  0.0  0.648218   \n",
       "tBodyAccmeanY                      4116.0  0.395710  0.024958  0.0  0.391678   \n",
       "tBodyAccmeanZ                      4116.0  0.445612  0.030918  0.0  0.439622   \n",
       "tBodyAccstdX                       4116.0  0.208200  0.238487  0.0  0.003736   \n",
       "tBodyAccstdY                       4116.0  0.252492  0.261911  0.0  0.011282   \n",
       "...                                   ...       ...       ...  ...       ...   \n",
       "angletBodyGyroMeangravityMean      4116.0  0.505255  0.302881  0.0  0.260914   \n",
       "angletBodyGyroJerkMeangravityMean  4116.0  0.498992  0.237314  0.0  0.321172   \n",
       "angleXgravityMean                  4116.0  0.257410  0.257581  0.0  0.095169   \n",
       "angleYgravityMean                  4116.0  0.714069  0.202619  0.0  0.657738   \n",
       "angleZgravityMean                  4116.0  0.466980  0.140813  0.0  0.421924   \n",
       "\n",
       "                                        50%       75%  max  \n",
       "tBodyAccmeanX                      0.659581  0.668865  1.0  \n",
       "tBodyAccmeanY                      0.396298  0.399962  1.0  \n",
       "tBodyAccmeanZ                      0.445618  0.450961  1.0  \n",
       "tBodyAccstdX                       0.027098  0.403845  1.0  \n",
       "tBodyAccstdY                       0.071486  0.503845  1.0  \n",
       "...                                     ...       ...  ...  \n",
       "angletBodyGyroMeangravityMean      0.506262  0.743516  1.0  \n",
       "angletBodyGyroJerkMeangravityMean  0.500061  0.679486  1.0  \n",
       "angleXgravityMean                  0.146700  0.247597  1.0  \n",
       "angleYgravityMean                  0.797332  0.843697  1.0  \n",
       "angleZgravityMean                  0.496191  0.550375  1.0  \n",
       "\n",
       "[561 rows x 8 columns]"
      ]
     },
     "execution_count": 57,
     "metadata": {},
     "output_type": "execute_result"
    }
   ],
   "source": [
    "x_train_s1.describe().T"
   ]
  },
  {
   "cell_type": "markdown",
   "metadata": {
    "id": "RfSZ5O4sBQf3"
   },
   "source": [
    "## **3. 기본 모델링**\n",
    "\n"
   ]
  },
  {
   "cell_type": "markdown",
   "metadata": {
    "id": "WAOal2RuWzNk"
   },
   "source": [
    "* 세부 요구사항\n",
    "    - 최소 5개 이상의 알고리즘을 적용하여 모델링을 수행한다.\n",
    "    - 각 알고리즘 별로 다음 중 몇가지를 시도하며 성능을 비교한다."
   ]
  },
  {
   "cell_type": "code",
   "execution_count": 60,
   "metadata": {},
   "outputs": [],
   "source": [
    "from sklearn.neighbors import KNeighborsClassifier\n",
    "from lightgbm import LGBMClassifier\n",
    "from sklearn.tree import DecisionTreeClassifier\n",
    "from xgboost import XGBClassifier\n",
    "from sklearn.ensemble import RandomForestClassifier\n",
    "\n",
    "from sklearn.model_selection import GridSearchCV, RandomizedSearchCV, cross_val_score"
   ]
  },
  {
   "cell_type": "markdown",
   "metadata": {
    "id": "6JKfabsMB-CK"
   },
   "source": [
    "### (1) KNN"
   ]
  },
  {
   "cell_type": "code",
   "execution_count": 62,
   "metadata": {},
   "outputs": [],
   "source": [
    "# param = {'n_neighbors': range(2, 34)}"
   ]
  },
  {
   "cell_type": "code",
   "execution_count": 63,
   "metadata": {},
   "outputs": [],
   "source": [
    "# # 선언하기\n",
    "# model_knn = GridSearchCV(KNeighborsClassifier(), param, cv=5)\n",
    "\n",
    "# # 학습하기\n",
    "# model_knn.fit(x_train_s1, y_train)\n",
    "\n",
    "# # 결과확인\n",
    "# print('* 파라미터:', model_knn.best_params_)\n",
    "# print('* 예측성능:', model_knn.best_score_)"
   ]
  },
  {
   "cell_type": "code",
   "execution_count": 64,
   "metadata": {},
   "outputs": [
    {
     "name": "stdout",
     "output_type": "stream",
     "text": [
      "0.96657223796034\n",
      "[[330   1   0   0   0   0]\n",
      " [  1 260  21   0   0   0]\n",
      " [  0  33 290   0   0   0]\n",
      " [  0   0   0 323   0   1]\n",
      " [  0   0   0   1 246   1]\n",
      " [  0   0   0   0   0 257]]\n",
      "                    precision    recall  f1-score   support\n",
      "\n",
      "            LAYING       1.00      1.00      1.00       331\n",
      "           SITTING       0.88      0.92      0.90       282\n",
      "          STANDING       0.93      0.90      0.91       323\n",
      "           WALKING       1.00      1.00      1.00       324\n",
      "WALKING_DOWNSTAIRS       1.00      0.99      1.00       248\n",
      "  WALKING_UPSTAIRS       0.99      1.00      1.00       257\n",
      "\n",
      "          accuracy                           0.97      1765\n",
      "         macro avg       0.97      0.97      0.97      1765\n",
      "      weighted avg       0.97      0.97      0.97      1765\n",
      "\n"
     ]
    }
   ],
   "source": [
    "model_KNN = KNeighborsClassifier(n_neighbors=4)\n",
    "model_KNN.fit(x_train_s1, y_train)\n",
    "pred_KNN = model_KNN.predict(x_val_s1)\n",
    "\n",
    "print(accuracy_score(y_val, pred_KNN))\n",
    "print(confusion_matrix(y_val, pred_KNN))\n",
    "print(classification_report(y_val, pred_KNN))"
   ]
  },
  {
   "cell_type": "code",
   "execution_count": null,
   "metadata": {
    "id": "88X3NHnaOjLf"
   },
   "outputs": [],
   "source": []
  },
  {
   "cell_type": "code",
   "execution_count": null,
   "metadata": {},
   "outputs": [],
   "source": []
  },
  {
   "cell_type": "code",
   "execution_count": null,
   "metadata": {
    "id": "rjDpm-EOOjFw"
   },
   "outputs": [],
   "source": []
  },
  {
   "cell_type": "markdown",
   "metadata": {
    "id": "lD_JXCalOmx1"
   },
   "source": [
    "### (2) DecisionTree"
   ]
  },
  {
   "cell_type": "code",
   "execution_count": 66,
   "metadata": {
    "id": "JNwgHB79Omx1"
   },
   "outputs": [],
   "source": [
    "# # 파라미터 선언\n",
    "# param = {'max_depth': range(1,51)}\n",
    "\n",
    "# # 선언하기\n",
    "# model_dst = GridSearchCV(DecisionTreeClassifier(), param, cv=5)\n",
    "\n",
    "# # 학습하기\n",
    "# model_dst.fit(x_train, y_train)\n",
    "\n",
    "# # 결과확인\n",
    "# print('* 파라미터:', model_dst.best_params_)\n",
    "# print('* 예측성능:', model_dst.best_score_)"
   ]
  },
  {
   "cell_type": "code",
   "execution_count": 67,
   "metadata": {
    "id": "ULrnJKXZOmx1"
   },
   "outputs": [
    {
     "name": "stdout",
     "output_type": "stream",
     "text": [
      "0.9388101983002833\n",
      "[[331   0   0   0   0   0]\n",
      " [  0 249  33   0   0   0]\n",
      " [  0  18 305   0   0   0]\n",
      " [  0   0   0 300  10  14]\n",
      " [  0   0   0   7 232   9]\n",
      " [  0   0   1   8   8 240]]\n",
      "                    precision    recall  f1-score   support\n",
      "\n",
      "            LAYING       1.00      1.00      1.00       331\n",
      "           SITTING       0.93      0.88      0.91       282\n",
      "          STANDING       0.90      0.94      0.92       323\n",
      "           WALKING       0.95      0.93      0.94       324\n",
      "WALKING_DOWNSTAIRS       0.93      0.94      0.93       248\n",
      "  WALKING_UPSTAIRS       0.91      0.93      0.92       257\n",
      "\n",
      "          accuracy                           0.94      1765\n",
      "         macro avg       0.94      0.94      0.94      1765\n",
      "      weighted avg       0.94      0.94      0.94      1765\n",
      "\n"
     ]
    }
   ],
   "source": [
    "model_DST = DecisionTreeClassifier(max_depth=8)\n",
    "model_DST.fit(x_train, y_train)\n",
    "pred_DST = model_DST.predict(x_val)\n",
    "\n",
    "print(accuracy_score(y_val, pred_DST))\n",
    "print(confusion_matrix(y_val, pred_DST))\n",
    "print(classification_report(y_val, pred_DST))"
   ]
  },
  {
   "cell_type": "code",
   "execution_count": null,
   "metadata": {},
   "outputs": [],
   "source": []
  },
  {
   "cell_type": "markdown",
   "metadata": {
    "id": "iuUUwpFXOoo_"
   },
   "source": [
    "### (3) LGBM"
   ]
  },
  {
   "cell_type": "code",
   "execution_count": 69,
   "metadata": {
    "id": "b9Z2lRsWOopA"
   },
   "outputs": [],
   "source": [
    "# # 파라미터\n",
    "# param = {'n_estimators':range(100,301,100), 'learning_rate': np.linspace(0.001, 0.5, 100), 'max_deth' : -1}\n",
    "\n",
    "# # 모델선언\n",
    "# model_lgb = RandomizedSearchCV(LGBMClassifier(verbose=-1), param, cv=5, n_iter = 10)\n",
    "\n",
    "# model_lgb.fit(x_train2, y_train2)\n",
    "\n",
    "# # 최적 파라미터, 예측 최고 성능\n",
    "# print('* 파라미터:', model_lgb.best_params_)\n",
    "# print('* 예측성능:', model_lgb.best_score_)"
   ]
  },
  {
   "cell_type": "code",
   "execution_count": 70,
   "metadata": {},
   "outputs": [],
   "source": [
    "# # 파라미터\n",
    "# param = {'n_estimators':range(10,301,10), 'learning_rate': np.linspace(0.001, 0.5, 100)}\n",
    "\n",
    "# # 모델선언\n",
    "# model_lgb2 = GridSearchCV(LGBMClassifier(verbose=-1), param, cv=5)\n",
    "\n",
    "# model_lgb2.fit(x_train2, y_train2)\n",
    "\n",
    "# # 최적 파라미터, 예측 최고 성능\n",
    "# print('* 파라미터:', model_lgb.best_params_)\n",
    "# print('* 예측성능:', model_lgb.best_score_)\n",
    "# 확인 못 해봄"
   ]
  },
  {
   "cell_type": "code",
   "execution_count": null,
   "metadata": {
    "id": "b9Z2lRsWOopA"
   },
   "outputs": [],
   "source": [
    "# 파라미터\n",
    "param = {'n_estimators' : [260] ,'learning_rate':[0.422]}\n",
    "\n",
    "# 모델선언\n",
    "model_lgb = GridSearchCV(LGBMClassifier(verbose=-1), param, cv=5)\n",
    "\n",
    "model_lgb.fit(x_train, y_train)\n",
    "\n",
    "# 최적 파라미터, 예측 최고 성능\n",
    "print('* 파라미터:', model_lgb.best_params_)\n",
    "print('* 예측성능:', model_lgb.best_score_)"
   ]
  },
  {
   "cell_type": "markdown",
   "metadata": {
    "id": "qwGPQ7NJOrEv"
   },
   "source": [
    "### (4) 모델4"
   ]
  },
  {
   "cell_type": "code",
   "execution_count": null,
   "metadata": {
    "id": "OdSoScEFOrEw"
   },
   "outputs": [],
   "source": []
  },
  {
   "cell_type": "code",
   "execution_count": null,
   "metadata": {},
   "outputs": [],
   "source": []
  },
  {
   "cell_type": "code",
   "execution_count": null,
   "metadata": {
    "id": "5qesQaCcOrEw"
   },
   "outputs": [],
   "source": []
  },
  {
   "cell_type": "markdown",
   "metadata": {
    "id": "6wLbrHXvOs3G"
   },
   "source": [
    "### (5) 모델5"
   ]
  },
  {
   "cell_type": "code",
   "execution_count": null,
   "metadata": {
    "id": "LlTAkxTaOs3H"
   },
   "outputs": [],
   "source": []
  },
  {
   "cell_type": "code",
   "execution_count": null,
   "metadata": {
    "id": "wpjywfdIOs3H"
   },
   "outputs": [],
   "source": []
  },
  {
   "cell_type": "code",
   "execution_count": null,
   "metadata": {},
   "outputs": [],
   "source": []
  },
  {
   "cell_type": "markdown",
   "metadata": {
    "id": "ylF4bRNod74K"
   },
   "source": [
    "## 4.성능비교"
   ]
  },
  {
   "cell_type": "markdown",
   "metadata": {
    "id": "WYntDXEBZD1Y"
   },
   "source": [
    "* 세부 요구사항\n",
    "    - 각 모델에 대해서 test 데이터로 성능 측정후 비교\n",
    "    "
   ]
  },
  {
   "cell_type": "code",
   "execution_count": null,
   "metadata": {
    "id": "Or-oKcN6ayH8"
   },
   "outputs": [],
   "source": [
    "# x, y 분할\n",
    "x_test = test.drop(['Activity'], axis = 1)\n",
    "y_test = test['Activity']\n"
   ]
  },
  {
   "cell_type": "code",
   "execution_count": null,
   "metadata": {},
   "outputs": [],
   "source": [
    "model_no = [model_KNN, model_DST, model_lgb]\n",
    "\n",
    "for model in model_no :\n",
    "    pred = model.predict(x_test)\n",
    "    print(accuracy_score(y_test, pred))"
   ]
  },
  {
   "cell_type": "code",
   "execution_count": null,
   "metadata": {
    "id": "XoVmpJDbOzwG"
   },
   "outputs": [],
   "source": []
  },
  {
   "cell_type": "markdown",
   "metadata": {
    "id": "utBIUTcHItOM"
   },
   "source": [
    "## 5.모델 저장\n",
    "* 각 알고리즘 별 최적의 성능 모델 저장\n",
    "    * 단, 전체 변수를 이용해 생성한 모델만 저장합니다.(joblib.dump)\n",
    "    * 튜닝 모델은, model.best_estimator_ 로 저장합니다."
   ]
  },
  {
   "cell_type": "code",
   "execution_count": 78,
   "metadata": {
    "id": "fOz-YSqoIyxO"
   },
   "outputs": [],
   "source": [
    "import joblib"
   ]
  },
  {
   "cell_type": "code",
   "execution_count": 80,
   "metadata": {
    "id": "x30dIxfGSFM1"
   },
   "outputs": [
    {
     "data": {
      "text/plain": [
       "['minip_LGBM_chan.pkl']"
      ]
     },
     "execution_count": 80,
     "metadata": {},
     "output_type": "execute_result"
    }
   ],
   "source": [
    "#joblib.dump(model_lgb, 'minip_LGBM_chan.pkl')"
   ]
  }
 ],
 "metadata": {
  "colab": {
   "provenance": [],
   "toc_visible": true
  },
  "kernelspec": {
   "display_name": "Python 3 (ipykernel)",
   "language": "python",
   "name": "python3"
  },
  "language_info": {
   "codemirror_mode": {
    "name": "ipython",
    "version": 3
   },
   "file_extension": ".py",
   "mimetype": "text/x-python",
   "name": "python",
   "nbconvert_exporter": "python",
   "pygments_lexer": "ipython3",
   "version": "3.12.4"
  }
 },
 "nbformat": 4,
 "nbformat_minor": 4
}
