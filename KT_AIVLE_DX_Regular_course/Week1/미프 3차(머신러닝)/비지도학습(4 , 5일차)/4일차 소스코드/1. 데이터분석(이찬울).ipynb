{
 "cells": [
  {
   "cell_type": "markdown",
   "id": "90f3101f-8248-4e8c-bdbf-e113fe6ebbd0",
   "metadata": {
    "id": "90f3101f-8248-4e8c-bdbf-e113fe6ebbd0"
   },
   "source": [
    "# <span style=\"background-color:#fff5b1\"><span style=\"color:black\"><B>보험사 마케팅 활용을 위한 고객 군집화 모델링(참조)"
   ]
  },
  {
   "cell_type": "markdown",
   "id": "4c1174fc-1885-4f4e-bbb4-e9bf68f8fc6a",
   "metadata": {
    "id": "4c1174fc-1885-4f4e-bbb4-e9bf68f8fc6a"
   },
   "source": [
    "## **Mission 1. 탐색적 데이터 분석**"
   ]
  },
  {
   "cell_type": "markdown",
   "id": "33589b19-a27e-4ed0-b1e5-8539ce9fe8c0",
   "metadata": {
    "id": "33589b19-a27e-4ed0-b1e5-8539ce9fe8c0",
    "tags": []
   },
   "source": [
    "### **[미션 이해하기]**\n",
    "* 여러분들은 파인애플 보험사의 직원입니다. 파인애플 보험사는 효과적인 마케팅 전략을 완성시키기 위해 데이터 기반 마케팅을 시작했습니다.\n",
    "  <br>고객의 행동,성향, 니즈 등의 고객 데이터를 마케팅 전략에 반영하여 고객별로 적절한 마케팅 Action을 주는 미션을 받았습니다.\n",
    "* 고객별로 특징을 적절하게 반영할 수 있는 마케팅 방안은 고객을 segment 하는 것 인데, 어떤 방법으로 고객을 묶을 수 있을까요?\n",
    "  <br>바로, <font color=\"1E90FF\"><b>군집분석을 기반으로 한 고객 segment를 개발 하는 것입니다.</font>\n"
   ]
  },
  {
   "cell_type": "markdown",
   "id": "e6ca9599-a9a1-45f7-bab0-35073378cad4",
   "metadata": {
    "id": "e6ca9599-a9a1-45f7-bab0-35073378cad4"
   },
   "source": [
    "<b>[1일차] mission 1 목표 <b>: 고객의 기본 정보, 행동 정보 등을 확인해서 주요 변수를 선정하고 데이터 탐색해보기"
   ]
  },
  {
   "cell_type": "markdown",
   "id": "460857c4-6776-4b4d-ade1-2e5cab89f57a",
   "metadata": {
    "id": "460857c4-6776-4b4d-ade1-2e5cab89f57a"
   },
   "source": [
    "#### <b>[실습프로세스]<b>\n",
    "\n",
    "1. 데이터 불러오기\n",
    "2. 데이터 기초 정보 확인\n",
    "3. 주요 변수 선정 및 탐색\n",
    "    * 분석가 선정 칼럼 탐색\n",
    "    * 도메인 주요 항목 칼럼 탐색"
   ]
  },
  {
   "cell_type": "markdown",
   "id": "3310b100-8526-4122-b00f-98195133395b",
   "metadata": {
    "id": "3310b100-8526-4122-b00f-98195133395b",
    "tags": []
   },
   "source": [
    "---------------------------------------------------------------------------------------------\n",
    "# **1. 데이터 불러오기**\n",
    "\n",
    "* numpy, pandas, matplotlib, seaborn 등 데이터 분석에 필요한 라이브러리를 로딩해 봅시다.\n",
    "* 만약 라이브러리가 없을 때 !pip를 통해 라이브러리를 설치해 주세요. (ex. !pip install pandas)\n",
    "* 현위치에서 'customers_seg.csv' 파일을 읽어와 주세요.\n",
    "* 활용하지 않는 변수를 index 화 해주세요."
   ]
  },
  {
   "cell_type": "code",
   "execution_count": 7,
   "id": "bbaf7c28-3a99-4d31-877c-76b8422179b3",
   "metadata": {
    "id": "bbaf7c28-3a99-4d31-877c-76b8422179b3",
    "tags": []
   },
   "outputs": [],
   "source": [
    "# [같이 하기] 필요 라이브러리 로딩\n",
    "# numpy, pandas, matplotlib, seaborn, os 를 임포트 하기\n",
    "\n",
    "import numpy as np\n",
    "import pandas as pd\n",
    "import matplotlib.pyplot as plt\n",
    "import seaborn as sns\n",
    "import os"
   ]
  },
  {
   "cell_type": "code",
   "execution_count": 8,
   "id": "dcf395af-a9fc-4cdf-b524-c7ffc3db5a62",
   "metadata": {
    "id": "dcf395af-a9fc-4cdf-b524-c7ffc3db5a62"
   },
   "outputs": [],
   "source": [
    "# 한글 세팅\n",
    "\n",
    "plt.rc(\"font\", family = \"Malgun Gothic\")\n",
    "sns.set(font=\"Malgun Gothic\",\n",
    "rc={\"axes.unicode_minus\":False}, style='white')"
   ]
  },
  {
   "cell_type": "code",
   "execution_count": 9,
   "id": "7964dd43-8e25-4f87-8e88-6b3152783780",
   "metadata": {
    "id": "7964dd43-8e25-4f87-8e88-6b3152783780"
   },
   "outputs": [
    {
     "data": {
      "text/html": [
       "<div>\n",
       "<style scoped>\n",
       "    .dataframe tbody tr th:only-of-type {\n",
       "        vertical-align: middle;\n",
       "    }\n",
       "\n",
       "    .dataframe tbody tr th {\n",
       "        vertical-align: top;\n",
       "    }\n",
       "\n",
       "    .dataframe thead th {\n",
       "        text-align: right;\n",
       "    }\n",
       "</style>\n",
       "<table border=\"1\" class=\"dataframe\">\n",
       "  <thead>\n",
       "    <tr style=\"text-align: right;\">\n",
       "      <th></th>\n",
       "      <th>CID</th>\n",
       "      <th>AGE</th>\n",
       "      <th>등록(계/피)</th>\n",
       "      <th>고용상태</th>\n",
       "      <th>성별</th>\n",
       "      <th>Willingness to pay/Stay</th>\n",
       "      <th>갱신</th>\n",
       "      <th>상품타입</th>\n",
       "      <th>교육수준</th>\n",
       "      <th>소득</th>\n",
       "      <th>...</th>\n",
       "      <th>결혼여부</th>\n",
       "      <th>월 납입액</th>\n",
       "      <th>VOC</th>\n",
       "      <th>타 상품 보유 현황</th>\n",
       "      <th>온라인방문빈도</th>\n",
       "      <th>갱신인센티브</th>\n",
       "      <th>판매채널</th>\n",
       "      <th>총지불금액</th>\n",
       "      <th>자동차</th>\n",
       "      <th>거주지사이즈</th>\n",
       "    </tr>\n",
       "  </thead>\n",
       "  <tbody>\n",
       "    <tr>\n",
       "      <th>0</th>\n",
       "      <td>1</td>\n",
       "      <td>3</td>\n",
       "      <td>피보험자</td>\n",
       "      <td>무직</td>\n",
       "      <td>1</td>\n",
       "      <td>2.616381</td>\n",
       "      <td>0</td>\n",
       "      <td>기본</td>\n",
       "      <td>대학졸업</td>\n",
       "      <td>0</td>\n",
       "      <td>...</td>\n",
       "      <td>미혼</td>\n",
       "      <td>80</td>\n",
       "      <td>0</td>\n",
       "      <td>1</td>\n",
       "      <td>자주방문</td>\n",
       "      <td>없음</td>\n",
       "      <td>자사영업</td>\n",
       "      <td>631000</td>\n",
       "      <td>일반세단</td>\n",
       "      <td>소</td>\n",
       "    </tr>\n",
       "    <tr>\n",
       "      <th>1</th>\n",
       "      <td>2</td>\n",
       "      <td>1</td>\n",
       "      <td>계약자</td>\n",
       "      <td>고용</td>\n",
       "      <td>0</td>\n",
       "      <td>6.352530</td>\n",
       "      <td>0</td>\n",
       "      <td>기본</td>\n",
       "      <td>고졸이하</td>\n",
       "      <td>102887400</td>\n",
       "      <td>...</td>\n",
       "      <td>미혼</td>\n",
       "      <td>80</td>\n",
       "      <td>1</td>\n",
       "      <td>4이상</td>\n",
       "      <td>비방문</td>\n",
       "      <td>포인트</td>\n",
       "      <td>인터넷</td>\n",
       "      <td>54000</td>\n",
       "      <td>일반세단</td>\n",
       "      <td>중</td>\n",
       "    </tr>\n",
       "    <tr>\n",
       "      <th>2</th>\n",
       "      <td>3</td>\n",
       "      <td>2</td>\n",
       "      <td>계약자</td>\n",
       "      <td>휴직</td>\n",
       "      <td>0</td>\n",
       "      <td>4.974354</td>\n",
       "      <td>0</td>\n",
       "      <td>기본</td>\n",
       "      <td>대학졸업</td>\n",
       "      <td>22159500</td>\n",
       "      <td>...</td>\n",
       "      <td>기혼</td>\n",
       "      <td>60</td>\n",
       "      <td>0</td>\n",
       "      <td>4이상</td>\n",
       "      <td>비방문</td>\n",
       "      <td>할인</td>\n",
       "      <td>자사영업</td>\n",
       "      <td>362000</td>\n",
       "      <td>일반세단</td>\n",
       "      <td>중</td>\n",
       "    </tr>\n",
       "    <tr>\n",
       "      <th>3</th>\n",
       "      <td>4</td>\n",
       "      <td>5</td>\n",
       "      <td>계약자</td>\n",
       "      <td>고용</td>\n",
       "      <td>1</td>\n",
       "      <td>13.480284</td>\n",
       "      <td>0</td>\n",
       "      <td>고급</td>\n",
       "      <td>고졸이하</td>\n",
       "      <td>51562500</td>\n",
       "      <td>...</td>\n",
       "      <td>기혼</td>\n",
       "      <td>110</td>\n",
       "      <td>0</td>\n",
       "      <td>2</td>\n",
       "      <td>비방문</td>\n",
       "      <td>할인</td>\n",
       "      <td>자사영업</td>\n",
       "      <td>1264000</td>\n",
       "      <td>컴팩트카</td>\n",
       "      <td>대</td>\n",
       "    </tr>\n",
       "    <tr>\n",
       "      <th>4</th>\n",
       "      <td>5</td>\n",
       "      <td>4</td>\n",
       "      <td>계약자</td>\n",
       "      <td>고용</td>\n",
       "      <td>0</td>\n",
       "      <td>9.776436</td>\n",
       "      <td>0</td>\n",
       "      <td>기본</td>\n",
       "      <td>석사</td>\n",
       "      <td>26820200</td>\n",
       "      <td>...</td>\n",
       "      <td>기혼</td>\n",
       "      <td>120</td>\n",
       "      <td>0</td>\n",
       "      <td>3</td>\n",
       "      <td>비방문</td>\n",
       "      <td>없음</td>\n",
       "      <td>대리점</td>\n",
       "      <td>947000</td>\n",
       "      <td>SUV</td>\n",
       "      <td>중</td>\n",
       "    </tr>\n",
       "  </tbody>\n",
       "</table>\n",
       "<p>5 rows × 21 columns</p>\n",
       "</div>"
      ],
      "text/plain": [
       "   CID  AGE 등록(계/피) 고용상태  성별  Willingness to pay/Stay  갱신 상품타입  교육수준  \\\n",
       "0    1    3    피보험자   무직   1                 2.616381   0   기본  대학졸업   \n",
       "1    2    1     계약자   고용   0                 6.352530   0   기본  고졸이하   \n",
       "2    3    2     계약자   휴직   0                 4.974354   0   기본  대학졸업   \n",
       "3    4    5     계약자   고용   1                13.480284   0   고급  고졸이하   \n",
       "4    5    4     계약자   고용   0                 9.776436   0   기본    석사   \n",
       "\n",
       "          소득  ... 결혼여부 월 납입액  VOC  타 상품 보유 현황 온라인방문빈도 갱신인센티브  판매채널    총지불금액  \\\n",
       "0          0  ...   미혼    80    0           1    자주방문     없음  자사영업   631000   \n",
       "1  102887400  ...   미혼    80    1         4이상     비방문    포인트   인터넷    54000   \n",
       "2   22159500  ...   기혼    60    0         4이상     비방문     할인  자사영업   362000   \n",
       "3   51562500  ...   기혼   110    0           2     비방문     할인  자사영업  1264000   \n",
       "4   26820200  ...   기혼   120    0           3     비방문     없음   대리점   947000   \n",
       "\n",
       "    자동차 거주지사이즈  \n",
       "0  일반세단      소  \n",
       "1  일반세단      중  \n",
       "2  일반세단      중  \n",
       "3  컴팩트카      대  \n",
       "4   SUV      중  \n",
       "\n",
       "[5 rows x 21 columns]"
      ]
     },
     "execution_count": 9,
     "metadata": {},
     "output_type": "execute_result"
    }
   ],
   "source": [
    "# [같이 하기] 데이터 불러오기\n",
    "# 1. data 변수에 'customers_seg.csv' 파일을 불러오기\n",
    "# 2. data 변수 호출해서 상위 5개 확인해보기\n",
    "\n",
    "data = pd.read_csv('customers_seg.csv')\n",
    "data.head()"
   ]
  },
  {
   "cell_type": "markdown",
   "id": "1139e7df-db00-4faf-8fa7-40928e90cdc0",
   "metadata": {
    "id": "1139e7df-db00-4faf-8fa7-40928e90cdc0"
   },
   "source": [
    "---------------------------------------------------------------------------------------------\n",
    "# **2. 데이터 기초 정보 확인하기**\n",
    "* 불러온 데이터셋(data)의 기초 정보들을 확인해봅시다."
   ]
  },
  {
   "cell_type": "code",
   "execution_count": 11,
   "id": "788acadc-7edb-40ae-ada4-4c516917af71",
   "metadata": {
    "id": "788acadc-7edb-40ae-ada4-4c516917af71"
   },
   "outputs": [
    {
     "data": {
      "text/html": [
       "<div>\n",
       "<style scoped>\n",
       "    .dataframe tbody tr th:only-of-type {\n",
       "        vertical-align: middle;\n",
       "    }\n",
       "\n",
       "    .dataframe tbody tr th {\n",
       "        vertical-align: top;\n",
       "    }\n",
       "\n",
       "    .dataframe thead th {\n",
       "        text-align: right;\n",
       "    }\n",
       "</style>\n",
       "<table border=\"1\" class=\"dataframe\">\n",
       "  <thead>\n",
       "    <tr style=\"text-align: right;\">\n",
       "      <th></th>\n",
       "      <th>CID</th>\n",
       "      <th>AGE</th>\n",
       "      <th>등록(계/피)</th>\n",
       "      <th>고용상태</th>\n",
       "      <th>성별</th>\n",
       "      <th>Willingness to pay/Stay</th>\n",
       "      <th>갱신</th>\n",
       "      <th>상품타입</th>\n",
       "      <th>교육수준</th>\n",
       "      <th>소득</th>\n",
       "      <th>...</th>\n",
       "      <th>결혼여부</th>\n",
       "      <th>월 납입액</th>\n",
       "      <th>VOC</th>\n",
       "      <th>타 상품 보유 현황</th>\n",
       "      <th>온라인방문빈도</th>\n",
       "      <th>갱신인센티브</th>\n",
       "      <th>판매채널</th>\n",
       "      <th>총지불금액</th>\n",
       "      <th>자동차</th>\n",
       "      <th>거주지사이즈</th>\n",
       "    </tr>\n",
       "  </thead>\n",
       "  <tbody>\n",
       "    <tr>\n",
       "      <th>0</th>\n",
       "      <td>1</td>\n",
       "      <td>3</td>\n",
       "      <td>피보험자</td>\n",
       "      <td>무직</td>\n",
       "      <td>1</td>\n",
       "      <td>2.616381</td>\n",
       "      <td>0</td>\n",
       "      <td>기본</td>\n",
       "      <td>대학졸업</td>\n",
       "      <td>0</td>\n",
       "      <td>...</td>\n",
       "      <td>미혼</td>\n",
       "      <td>80</td>\n",
       "      <td>0</td>\n",
       "      <td>1</td>\n",
       "      <td>자주방문</td>\n",
       "      <td>없음</td>\n",
       "      <td>자사영업</td>\n",
       "      <td>631000</td>\n",
       "      <td>일반세단</td>\n",
       "      <td>소</td>\n",
       "    </tr>\n",
       "    <tr>\n",
       "      <th>1</th>\n",
       "      <td>2</td>\n",
       "      <td>1</td>\n",
       "      <td>계약자</td>\n",
       "      <td>고용</td>\n",
       "      <td>0</td>\n",
       "      <td>6.352530</td>\n",
       "      <td>0</td>\n",
       "      <td>기본</td>\n",
       "      <td>고졸이하</td>\n",
       "      <td>102887400</td>\n",
       "      <td>...</td>\n",
       "      <td>미혼</td>\n",
       "      <td>80</td>\n",
       "      <td>1</td>\n",
       "      <td>4이상</td>\n",
       "      <td>비방문</td>\n",
       "      <td>포인트</td>\n",
       "      <td>인터넷</td>\n",
       "      <td>54000</td>\n",
       "      <td>일반세단</td>\n",
       "      <td>중</td>\n",
       "    </tr>\n",
       "    <tr>\n",
       "      <th>2</th>\n",
       "      <td>3</td>\n",
       "      <td>2</td>\n",
       "      <td>계약자</td>\n",
       "      <td>휴직</td>\n",
       "      <td>0</td>\n",
       "      <td>4.974354</td>\n",
       "      <td>0</td>\n",
       "      <td>기본</td>\n",
       "      <td>대학졸업</td>\n",
       "      <td>22159500</td>\n",
       "      <td>...</td>\n",
       "      <td>기혼</td>\n",
       "      <td>60</td>\n",
       "      <td>0</td>\n",
       "      <td>4이상</td>\n",
       "      <td>비방문</td>\n",
       "      <td>할인</td>\n",
       "      <td>자사영업</td>\n",
       "      <td>362000</td>\n",
       "      <td>일반세단</td>\n",
       "      <td>중</td>\n",
       "    </tr>\n",
       "    <tr>\n",
       "      <th>3</th>\n",
       "      <td>4</td>\n",
       "      <td>5</td>\n",
       "      <td>계약자</td>\n",
       "      <td>고용</td>\n",
       "      <td>1</td>\n",
       "      <td>13.480284</td>\n",
       "      <td>0</td>\n",
       "      <td>고급</td>\n",
       "      <td>고졸이하</td>\n",
       "      <td>51562500</td>\n",
       "      <td>...</td>\n",
       "      <td>기혼</td>\n",
       "      <td>110</td>\n",
       "      <td>0</td>\n",
       "      <td>2</td>\n",
       "      <td>비방문</td>\n",
       "      <td>할인</td>\n",
       "      <td>자사영업</td>\n",
       "      <td>1264000</td>\n",
       "      <td>컴팩트카</td>\n",
       "      <td>대</td>\n",
       "    </tr>\n",
       "    <tr>\n",
       "      <th>4</th>\n",
       "      <td>5</td>\n",
       "      <td>4</td>\n",
       "      <td>계약자</td>\n",
       "      <td>고용</td>\n",
       "      <td>0</td>\n",
       "      <td>9.776436</td>\n",
       "      <td>0</td>\n",
       "      <td>기본</td>\n",
       "      <td>석사</td>\n",
       "      <td>26820200</td>\n",
       "      <td>...</td>\n",
       "      <td>기혼</td>\n",
       "      <td>120</td>\n",
       "      <td>0</td>\n",
       "      <td>3</td>\n",
       "      <td>비방문</td>\n",
       "      <td>없음</td>\n",
       "      <td>대리점</td>\n",
       "      <td>947000</td>\n",
       "      <td>SUV</td>\n",
       "      <td>중</td>\n",
       "    </tr>\n",
       "  </tbody>\n",
       "</table>\n",
       "<p>5 rows × 21 columns</p>\n",
       "</div>"
      ],
      "text/plain": [
       "   CID  AGE 등록(계/피) 고용상태  성별  Willingness to pay/Stay  갱신 상품타입  교육수준  \\\n",
       "0    1    3    피보험자   무직   1                 2.616381   0   기본  대학졸업   \n",
       "1    2    1     계약자   고용   0                 6.352530   0   기본  고졸이하   \n",
       "2    3    2     계약자   휴직   0                 4.974354   0   기본  대학졸업   \n",
       "3    4    5     계약자   고용   1                13.480284   0   고급  고졸이하   \n",
       "4    5    4     계약자   고용   0                 9.776436   0   기본    석사   \n",
       "\n",
       "          소득  ... 결혼여부 월 납입액  VOC  타 상품 보유 현황 온라인방문빈도 갱신인센티브  판매채널    총지불금액  \\\n",
       "0          0  ...   미혼    80    0           1    자주방문     없음  자사영업   631000   \n",
       "1  102887400  ...   미혼    80    1         4이상     비방문    포인트   인터넷    54000   \n",
       "2   22159500  ...   기혼    60    0         4이상     비방문     할인  자사영업   362000   \n",
       "3   51562500  ...   기혼   110    0           2     비방문     할인  자사영업  1264000   \n",
       "4   26820200  ...   기혼   120    0           3     비방문     없음   대리점   947000   \n",
       "\n",
       "    자동차 거주지사이즈  \n",
       "0  일반세단      소  \n",
       "1  일반세단      중  \n",
       "2  일반세단      중  \n",
       "3  컴팩트카      대  \n",
       "4   SUV      중  \n",
       "\n",
       "[5 rows x 21 columns]"
      ]
     },
     "execution_count": 11,
     "metadata": {},
     "output_type": "execute_result"
    }
   ],
   "source": [
    "# [문제1] 데이터 셋의 상위 5개 행을 확인해보자.\n",
    "\n",
    "data.head(5)"
   ]
  },
  {
   "cell_type": "code",
   "execution_count": 12,
   "id": "d691fc81-3a4f-46d7-9472-42bc44239c5a",
   "metadata": {
    "id": "d691fc81-3a4f-46d7-9472-42bc44239c5a"
   },
   "outputs": [
    {
     "data": {
      "text/html": [
       "<div>\n",
       "<style scoped>\n",
       "    .dataframe tbody tr th:only-of-type {\n",
       "        vertical-align: middle;\n",
       "    }\n",
       "\n",
       "    .dataframe tbody tr th {\n",
       "        vertical-align: top;\n",
       "    }\n",
       "\n",
       "    .dataframe thead th {\n",
       "        text-align: right;\n",
       "    }\n",
       "</style>\n",
       "<table border=\"1\" class=\"dataframe\">\n",
       "  <thead>\n",
       "    <tr style=\"text-align: right;\">\n",
       "      <th></th>\n",
       "      <th>CID</th>\n",
       "      <th>AGE</th>\n",
       "      <th>등록(계/피)</th>\n",
       "      <th>고용상태</th>\n",
       "      <th>성별</th>\n",
       "      <th>Willingness to pay/Stay</th>\n",
       "      <th>갱신</th>\n",
       "      <th>상품타입</th>\n",
       "      <th>교육수준</th>\n",
       "      <th>소득</th>\n",
       "      <th>...</th>\n",
       "      <th>결혼여부</th>\n",
       "      <th>월 납입액</th>\n",
       "      <th>VOC</th>\n",
       "      <th>타 상품 보유 현황</th>\n",
       "      <th>온라인방문빈도</th>\n",
       "      <th>갱신인센티브</th>\n",
       "      <th>판매채널</th>\n",
       "      <th>총지불금액</th>\n",
       "      <th>자동차</th>\n",
       "      <th>거주지사이즈</th>\n",
       "    </tr>\n",
       "  </thead>\n",
       "  <tbody>\n",
       "    <tr>\n",
       "      <th>11995</th>\n",
       "      <td>11996</td>\n",
       "      <td>1</td>\n",
       "      <td>계약자</td>\n",
       "      <td>고용</td>\n",
       "      <td>1</td>\n",
       "      <td>25.9851</td>\n",
       "      <td>0</td>\n",
       "      <td>기본</td>\n",
       "      <td>대학졸업</td>\n",
       "      <td>86451000</td>\n",
       "      <td>...</td>\n",
       "      <td>기혼</td>\n",
       "      <td>70</td>\n",
       "      <td>0</td>\n",
       "      <td>2</td>\n",
       "      <td>비방문</td>\n",
       "      <td>설계사독려</td>\n",
       "      <td>인터넷</td>\n",
       "      <td>245000</td>\n",
       "      <td>일반세단</td>\n",
       "      <td>중</td>\n",
       "    </tr>\n",
       "    <tr>\n",
       "      <th>11996</th>\n",
       "      <td>11997</td>\n",
       "      <td>3</td>\n",
       "      <td>피보험자</td>\n",
       "      <td>고용</td>\n",
       "      <td>0</td>\n",
       "      <td>3.4410</td>\n",
       "      <td>1</td>\n",
       "      <td>중급</td>\n",
       "      <td>대학졸업</td>\n",
       "      <td>25962000</td>\n",
       "      <td>...</td>\n",
       "      <td>미혼</td>\n",
       "      <td>80</td>\n",
       "      <td>0</td>\n",
       "      <td>1</td>\n",
       "      <td>자주방문</td>\n",
       "      <td>할인</td>\n",
       "      <td>자사영업</td>\n",
       "      <td>468000</td>\n",
       "      <td>일반세단</td>\n",
       "      <td>중</td>\n",
       "    </tr>\n",
       "    <tr>\n",
       "      <th>11997</th>\n",
       "      <td>11998</td>\n",
       "      <td>3</td>\n",
       "      <td>피보험자</td>\n",
       "      <td>무직</td>\n",
       "      <td>1</td>\n",
       "      <td>9.0576</td>\n",
       "      <td>0</td>\n",
       "      <td>중급</td>\n",
       "      <td>대학졸업</td>\n",
       "      <td>0</td>\n",
       "      <td>...</td>\n",
       "      <td>미혼</td>\n",
       "      <td>90</td>\n",
       "      <td>3</td>\n",
       "      <td>2</td>\n",
       "      <td>자주방문</td>\n",
       "      <td>할인</td>\n",
       "      <td>자사영업</td>\n",
       "      <td>977000</td>\n",
       "      <td>일반세단</td>\n",
       "      <td>중</td>\n",
       "    </tr>\n",
       "    <tr>\n",
       "      <th>11998</th>\n",
       "      <td>11999</td>\n",
       "      <td>4</td>\n",
       "      <td>계약자</td>\n",
       "      <td>고용</td>\n",
       "      <td>1</td>\n",
       "      <td>8.3472</td>\n",
       "      <td>0</td>\n",
       "      <td>중급</td>\n",
       "      <td>대학졸업</td>\n",
       "      <td>26366000</td>\n",
       "      <td>...</td>\n",
       "      <td>기혼</td>\n",
       "      <td>100</td>\n",
       "      <td>0</td>\n",
       "      <td>3</td>\n",
       "      <td>비방문</td>\n",
       "      <td>포인트</td>\n",
       "      <td>자사영업</td>\n",
       "      <td>854000</td>\n",
       "      <td>일반세단</td>\n",
       "      <td>대</td>\n",
       "    </tr>\n",
       "    <tr>\n",
       "      <th>11999</th>\n",
       "      <td>12000</td>\n",
       "      <td>3</td>\n",
       "      <td>피보험자</td>\n",
       "      <td>무직</td>\n",
       "      <td>1</td>\n",
       "      <td>2.8971</td>\n",
       "      <td>0</td>\n",
       "      <td>중급</td>\n",
       "      <td>대학졸업</td>\n",
       "      <td>0</td>\n",
       "      <td>...</td>\n",
       "      <td>미혼</td>\n",
       "      <td>80</td>\n",
       "      <td>0</td>\n",
       "      <td>1</td>\n",
       "      <td>자주방문</td>\n",
       "      <td>없음</td>\n",
       "      <td>콜센터</td>\n",
       "      <td>456000</td>\n",
       "      <td>컴팩트카</td>\n",
       "      <td>중</td>\n",
       "    </tr>\n",
       "  </tbody>\n",
       "</table>\n",
       "<p>5 rows × 21 columns</p>\n",
       "</div>"
      ],
      "text/plain": [
       "         CID  AGE 등록(계/피) 고용상태  성별  Willingness to pay/Stay  갱신 상품타입  교육수준  \\\n",
       "11995  11996    1     계약자   고용   1                  25.9851   0   기본  대학졸업   \n",
       "11996  11997    3    피보험자   고용   0                   3.4410   1   중급  대학졸업   \n",
       "11997  11998    3    피보험자   무직   1                   9.0576   0   중급  대학졸업   \n",
       "11998  11999    4     계약자   고용   1                   8.3472   0   중급  대학졸업   \n",
       "11999  12000    3    피보험자   무직   1                   2.8971   0   중급  대학졸업   \n",
       "\n",
       "             소득  ... 결혼여부 월 납입액  VOC  타 상품 보유 현황 온라인방문빈도 갱신인센티브  판매채널   총지불금액  \\\n",
       "11995  86451000  ...   기혼    70    0           2     비방문  설계사독려   인터넷  245000   \n",
       "11996  25962000  ...   미혼    80    0           1    자주방문     할인  자사영업  468000   \n",
       "11997         0  ...   미혼    90    3           2    자주방문     할인  자사영업  977000   \n",
       "11998  26366000  ...   기혼   100    0           3     비방문    포인트  자사영업  854000   \n",
       "11999         0  ...   미혼    80    0           1    자주방문     없음   콜센터  456000   \n",
       "\n",
       "        자동차 거주지사이즈  \n",
       "11995  일반세단      중  \n",
       "11996  일반세단      중  \n",
       "11997  일반세단      중  \n",
       "11998  일반세단      대  \n",
       "11999  컴팩트카      중  \n",
       "\n",
       "[5 rows x 21 columns]"
      ]
     },
     "execution_count": 12,
     "metadata": {},
     "output_type": "execute_result"
    }
   ],
   "source": [
    "# [문제2] 데이터 셋의 하위 5개 행을 확인해보자.\n",
    "\n",
    "data.tail()"
   ]
  },
  {
   "cell_type": "code",
   "execution_count": 13,
   "id": "fa92843d-afc7-4809-838c-8a2eefca20e0",
   "metadata": {
    "id": "fa92843d-afc7-4809-838c-8a2eefca20e0"
   },
   "outputs": [
    {
     "data": {
      "text/plain": [
       "(12000, 21)"
      ]
     },
     "execution_count": 13,
     "metadata": {},
     "output_type": "execute_result"
    }
   ],
   "source": [
    "# [문제3] data 데이터프레임의 행, 열의 개수 확인해보자.(shape)\n",
    "data.shape"
   ]
  },
  {
   "cell_type": "code",
   "execution_count": 14,
   "id": "d2a22906-53c5-4858-bc01-654a862b0f88",
   "metadata": {
    "id": "d2a22906-53c5-4858-bc01-654a862b0f88"
   },
   "outputs": [
    {
     "name": "stdout",
     "output_type": "stream",
     "text": [
      "<class 'pandas.core.frame.DataFrame'>\n",
      "RangeIndex: 12000 entries, 0 to 11999\n",
      "Data columns (total 21 columns):\n",
      " #   Column                   Non-Null Count  Dtype  \n",
      "---  ------                   --------------  -----  \n",
      " 0   CID                      12000 non-null  int64  \n",
      " 1   AGE                      12000 non-null  int64  \n",
      " 2   등록(계/피)                  12000 non-null  object \n",
      " 3   고용상태                     12000 non-null  object \n",
      " 4   성별                       12000 non-null  int64  \n",
      " 5   Willingness to pay/Stay  12000 non-null  float64\n",
      " 6   갱신                       12000 non-null  int64  \n",
      " 7   상품타입                     12000 non-null  object \n",
      " 8   교육수준                     12000 non-null  object \n",
      " 9   소득                       12000 non-null  int64  \n",
      " 10  지역                       12000 non-null  object \n",
      " 11  결혼여부                     12000 non-null  object \n",
      " 12  월 납입액                    12000 non-null  int64  \n",
      " 13  VOC                      12000 non-null  int64  \n",
      " 14  타 상품 보유 현황               12000 non-null  object \n",
      " 15  온라인방문빈도                  12000 non-null  object \n",
      " 16  갱신인센티브                   12000 non-null  object \n",
      " 17  판매채널                     12000 non-null  object \n",
      " 18  총지불금액                    12000 non-null  int64  \n",
      " 19  자동차                      12000 non-null  object \n",
      " 20  거주지사이즈                   12000 non-null  object \n",
      "dtypes: float64(1), int64(8), object(12)\n",
      "memory usage: 1.9+ MB\n"
     ]
    }
   ],
   "source": [
    "#[문제4] data 데이터프레임의 컬럼명, 데이터 개수, 데이터 타입 정보를 확인 해보자.\n",
    "\n",
    "data.info()"
   ]
  },
  {
   "cell_type": "code",
   "execution_count": 15,
   "id": "78ffec50-cdf1-4942-9235-2b5985192440",
   "metadata": {
    "id": "78ffec50-cdf1-4942-9235-2b5985192440"
   },
   "outputs": [
    {
     "data": {
      "text/html": [
       "<div>\n",
       "<style scoped>\n",
       "    .dataframe tbody tr th:only-of-type {\n",
       "        vertical-align: middle;\n",
       "    }\n",
       "\n",
       "    .dataframe tbody tr th {\n",
       "        vertical-align: top;\n",
       "    }\n",
       "\n",
       "    .dataframe thead th {\n",
       "        text-align: right;\n",
       "    }\n",
       "</style>\n",
       "<table border=\"1\" class=\"dataframe\">\n",
       "  <thead>\n",
       "    <tr style=\"text-align: right;\">\n",
       "      <th></th>\n",
       "      <th>CID</th>\n",
       "      <th>AGE</th>\n",
       "      <th>성별</th>\n",
       "      <th>Willingness to pay/Stay</th>\n",
       "      <th>갱신</th>\n",
       "      <th>소득</th>\n",
       "      <th>월 납입액</th>\n",
       "      <th>VOC</th>\n",
       "      <th>총지불금액</th>\n",
       "    </tr>\n",
       "  </thead>\n",
       "  <tbody>\n",
       "    <tr>\n",
       "      <th>count</th>\n",
       "      <td>12000.00000</td>\n",
       "      <td>12000.000000</td>\n",
       "      <td>12000.000000</td>\n",
       "      <td>12000.000000</td>\n",
       "      <td>12000.000000</td>\n",
       "      <td>1.200000e+04</td>\n",
       "      <td>12000.000000</td>\n",
       "      <td>12000.000000</td>\n",
       "      <td>1.200000e+04</td>\n",
       "    </tr>\n",
       "    <tr>\n",
       "      <th>mean</th>\n",
       "      <td>6000.50000</td>\n",
       "      <td>3.079000</td>\n",
       "      <td>0.487583</td>\n",
       "      <td>8.859478</td>\n",
       "      <td>0.143000</td>\n",
       "      <td>4.641737e+07</td>\n",
       "      <td>100.065833</td>\n",
       "      <td>0.390167</td>\n",
       "      <td>5.355854e+05</td>\n",
       "    </tr>\n",
       "    <tr>\n",
       "      <th>std</th>\n",
       "      <td>3464.24595</td>\n",
       "      <td>1.121768</td>\n",
       "      <td>0.499867</td>\n",
       "      <td>7.698885</td>\n",
       "      <td>0.350087</td>\n",
       "      <td>3.736221e+07</td>\n",
       "      <td>42.453750</td>\n",
       "      <td>0.919605</td>\n",
       "      <td>3.587993e+05</td>\n",
       "    </tr>\n",
       "    <tr>\n",
       "      <th>min</th>\n",
       "      <td>1.00000</td>\n",
       "      <td>1.000000</td>\n",
       "      <td>0.000000</td>\n",
       "      <td>2.045730</td>\n",
       "      <td>0.000000</td>\n",
       "      <td>0.000000e+00</td>\n",
       "      <td>60.000000</td>\n",
       "      <td>0.000000</td>\n",
       "      <td>0.000000e+00</td>\n",
       "    </tr>\n",
       "    <tr>\n",
       "      <th>25%</th>\n",
       "      <td>3000.75000</td>\n",
       "      <td>3.000000</td>\n",
       "      <td>0.000000</td>\n",
       "      <td>4.373400</td>\n",
       "      <td>0.000000</td>\n",
       "      <td>0.000000e+00</td>\n",
       "      <td>70.000000</td>\n",
       "      <td>0.000000</td>\n",
       "      <td>3.360000e+05</td>\n",
       "    </tr>\n",
       "    <tr>\n",
       "      <th>50%</th>\n",
       "      <td>6000.50000</td>\n",
       "      <td>3.000000</td>\n",
       "      <td>0.000000</td>\n",
       "      <td>6.384831</td>\n",
       "      <td>0.000000</td>\n",
       "      <td>4.186240e+07</td>\n",
       "      <td>90.000000</td>\n",
       "      <td>0.000000</td>\n",
       "      <td>4.740000e+05</td>\n",
       "    </tr>\n",
       "    <tr>\n",
       "      <th>75%</th>\n",
       "      <td>9000.25000</td>\n",
       "      <td>4.000000</td>\n",
       "      <td>1.000000</td>\n",
       "      <td>9.867900</td>\n",
       "      <td>0.000000</td>\n",
       "      <td>7.664150e+07</td>\n",
       "      <td>120.000000</td>\n",
       "      <td>0.000000</td>\n",
       "      <td>6.790000e+05</td>\n",
       "    </tr>\n",
       "    <tr>\n",
       "      <th>max</th>\n",
       "      <td>12000.00000</td>\n",
       "      <td>6.000000</td>\n",
       "      <td>1.000000</td>\n",
       "      <td>92.496300</td>\n",
       "      <td>1.000000</td>\n",
       "      <td>1.320209e+08</td>\n",
       "      <td>350.000000</td>\n",
       "      <td>5.000000</td>\n",
       "      <td>3.573000e+06</td>\n",
       "    </tr>\n",
       "  </tbody>\n",
       "</table>\n",
       "</div>"
      ],
      "text/plain": [
       "               CID           AGE            성별  Willingness to pay/Stay  \\\n",
       "count  12000.00000  12000.000000  12000.000000             12000.000000   \n",
       "mean    6000.50000      3.079000      0.487583                 8.859478   \n",
       "std     3464.24595      1.121768      0.499867                 7.698885   \n",
       "min        1.00000      1.000000      0.000000                 2.045730   \n",
       "25%     3000.75000      3.000000      0.000000                 4.373400   \n",
       "50%     6000.50000      3.000000      0.000000                 6.384831   \n",
       "75%     9000.25000      4.000000      1.000000                 9.867900   \n",
       "max    12000.00000      6.000000      1.000000                92.496300   \n",
       "\n",
       "                 갱신            소득         월 납입액           VOC         총지불금액  \n",
       "count  12000.000000  1.200000e+04  12000.000000  12000.000000  1.200000e+04  \n",
       "mean       0.143000  4.641737e+07    100.065833      0.390167  5.355854e+05  \n",
       "std        0.350087  3.736221e+07     42.453750      0.919605  3.587993e+05  \n",
       "min        0.000000  0.000000e+00     60.000000      0.000000  0.000000e+00  \n",
       "25%        0.000000  0.000000e+00     70.000000      0.000000  3.360000e+05  \n",
       "50%        0.000000  4.186240e+07     90.000000      0.000000  4.740000e+05  \n",
       "75%        0.000000  7.664150e+07    120.000000      0.000000  6.790000e+05  \n",
       "max        1.000000  1.320209e+08    350.000000      5.000000  3.573000e+06  "
      ]
     },
     "execution_count": 15,
     "metadata": {},
     "output_type": "execute_result"
    }
   ],
   "source": [
    "# [문제5] 데이터 셋 수치형 데이터 기초통계 정보를 확인해보자\n",
    "\n",
    "data.describe()"
   ]
  },
  {
   "cell_type": "code",
   "execution_count": 16,
   "id": "6fffe90d-8984-49f3-8125-49a011c5a3cf",
   "metadata": {
    "id": "6fffe90d-8984-49f3-8125-49a011c5a3cf"
   },
   "outputs": [
    {
     "data": {
      "text/plain": [
       "Index(['CID', 'AGE', '등록(계/피)', '고용상태', '성별', 'Willingness to pay/Stay', '갱신',\n",
       "       '상품타입', '교육수준', '소득', '지역', '결혼여부', '월 납입액', 'VOC', '타 상품 보유 현황',\n",
       "       '온라인방문빈도', '갱신인센티브', '판매채널', '총지불금액', '자동차', '거주지사이즈'],\n",
       "      dtype='object')"
      ]
     },
     "execution_count": 16,
     "metadata": {},
     "output_type": "execute_result"
    }
   ],
   "source": [
    "# [문제6] 데이터 셋의 모든 컬럼명(변수명)을 확인해보자.\n",
    "\n",
    "data.columns"
   ]
  },
  {
   "cell_type": "markdown",
   "id": "dfe3bf07-4b93-4735-b4a6-f72517edf64c",
   "metadata": {
    "id": "dfe3bf07-4b93-4735-b4a6-f72517edf64c"
   },
   "source": [
    "---------------------------------------------------------------------------------------------\n",
    "# **3. 주요 변수 선정 및 탐색**"
   ]
  },
  {
   "cell_type": "markdown",
   "id": "e50a9f25-b42d-40fc-ba35-b2342b5f3901",
   "metadata": {
    "id": "e50a9f25-b42d-40fc-ba35-b2342b5f3901",
    "tags": []
   },
   "source": [
    "<b> 21개의 features 값은 어떤 의미일지 알아보고 주요 변수를 선정해 봅시다!"
   ]
  },
  {
   "cell_type": "markdown",
   "id": "fc87868f-8e19-41c3-93c6-b89d781bc842",
   "metadata": {
    "id": "fc87868f-8e19-41c3-93c6-b89d781bc842"
   },
   "source": [
    "---------------------------------------------------------------------------------------------\n",
    "<b>이 중 주요 변수를 선정 해 보았을 때 <font color=\"1E90FF\"><b>11개의 features를 선정하였다.</font>\n",
    "<font color=\"1E90FF\"><b>* 우리의 목표: 군집화가 된 고객 segment 개발</font>\n",
    "   \n",
    "<span><b>1. 도메인 내 주요 정보 항목</span>\n",
    "    <br><br>\n",
    "        - (1) Willingness to pay/Stay: 계속 보험을 유지할 지 판단하는 지표 (신용점수, 납부/연체기록, 소득 등 활용)\n",
    "    <br>- (2) 소득\n",
    "    <br>- (3) 월 납입액\n",
    "    <br>- (4) 타상품 보유 현황: 고객이 이용하는 파인애플사의 타 서비스 수(어느정도 고객의 충성도를 알 수 있음)\n",
    "    <br>- (5) 총지불금액\n",
    "    \n",
    "<span><b>2. 분석가 선정 컬럼</span>\n",
    "    <br><br>- (6)AGE, (7)고용상태, (8)교육수준: 고객 기본 정보\n",
    "    <br>- (9)상품타입, (10)거주지사이즈, (11)자동차: 소득 등과 연관해서 추정이 가능한 정보"
   ]
  },
  {
   "cell_type": "markdown",
   "id": "67bc6c07-f962-48bb-a7d0-df94c5e6c380",
   "metadata": {
    "id": "67bc6c07-f962-48bb-a7d0-df94c5e6c380"
   },
   "source": [
    "## <b> (1) 분석가 선정 컬럼 탐색하기\n",
    "* 분석가 선정 컬럼 : AGE, 고용상태, 교육수준, 상품 타입, 거주지사이즈, 자동차(총 6개 피쳐)\n",
    "* 위 분석가 선정 컬럼을 crosstab을 통해서 탐색해 보자!"
   ]
  },
  {
   "cell_type": "code",
   "execution_count": 21,
   "id": "eb508019",
   "metadata": {
    "id": "eb508019"
   },
   "outputs": [
    {
     "name": "stdout",
     "output_type": "stream",
     "text": [
      "<class 'pandas.core.frame.DataFrame'>\n",
      "RangeIndex: 12000 entries, 0 to 11999\n",
      "Data columns (total 6 columns):\n",
      " #   Column  Non-Null Count  Dtype \n",
      "---  ------  --------------  ----- \n",
      " 0   AGE     12000 non-null  int64 \n",
      " 1   고용상태    12000 non-null  object\n",
      " 2   교육수준    12000 non-null  object\n",
      " 3   상품타입    12000 non-null  object\n",
      " 4   거주지사이즈  12000 non-null  object\n",
      " 5   자동차     12000 non-null  object\n",
      "dtypes: int64(1), object(5)\n",
      "memory usage: 562.6+ KB\n"
     ]
    }
   ],
   "source": [
    "#[문제 7] 분석가 선정 컬럼들이 수치형인지 문자/범주형인지 알아보자! (info 활용)\n",
    "\n",
    "data[['AGE','고용상태','교육수준','상품타입','거주지사이즈','자동차']].info()"
   ]
  },
  {
   "cell_type": "markdown",
   "id": "00a4850f",
   "metadata": {
    "id": "00a4850f"
   },
   "source": [
    "**【각각의 변수들이 어떤 의미를 가지고 있을지 데이터 탐색을 해보자!】**"
   ]
  },
  {
   "cell_type": "markdown",
   "id": "fd250fc8-fb13-4c20-89aa-ad3bebcaa5a5",
   "metadata": {
    "id": "fd250fc8-fb13-4c20-89aa-ad3bebcaa5a5"
   },
   "source": [
    "### 1) AGE"
   ]
  },
  {
   "cell_type": "code",
   "execution_count": 24,
   "id": "297c7471-ad20-4fe3-a239-e7ae01e29a5e",
   "metadata": {
    "id": "297c7471-ad20-4fe3-a239-e7ae01e29a5e"
   },
   "outputs": [
    {
     "data": {
      "text/plain": [
       "AGE\n",
       "1    0.121167\n",
       "2    0.128167\n",
       "3    0.397917\n",
       "4    0.260333\n",
       "5    0.088083\n",
       "6    0.004333\n",
       "Name: proportion, dtype: float64"
      ]
     },
     "execution_count": 24,
     "metadata": {},
     "output_type": "execute_result"
    }
   ],
   "source": [
    "#[같이 하기] AGE 변수는 범주형이다. 이에 대해 범주별 비율을 탐색해보자.(.value_counts())\n",
    "#  (1: 20대, 2: 30대, 3: 40대, 4: 50대, 5: 60대, 6: 70대)\n",
    "# 결과를 인덱스 기준으로 정렬해서 조회 (.sort_index())\n",
    "\n",
    "data['AGE'].value_counts(normalize = True).sort_index()"
   ]
  },
  {
   "cell_type": "markdown",
   "id": "186d0d86",
   "metadata": {
    "id": "186d0d86"
   },
   "source": [
    "<b>**age 변수에 대해 간단하게 탐색한 내용을 아래 주석으로 적어보자!**"
   ]
  },
  {
   "cell_type": "code",
   "execution_count": 26,
   "id": "ba95b842",
   "metadata": {
    "id": "ba95b842"
   },
   "outputs": [],
   "source": [
    "# 연령대를 보았을 때 약 40% 정도가 40대 임을 알 수 있다. 약 4~50대가 65% 정도이다."
   ]
  },
  {
   "cell_type": "code",
   "execution_count": 27,
   "id": "7e3bff37",
   "metadata": {
    "id": "7e3bff37"
   },
   "outputs": [
    {
     "name": "stderr",
     "output_type": "stream",
     "text": [
      "C:\\Users\\User\\AppData\\Local\\Temp\\ipykernel_15304\\4033605551.py:5: FutureWarning: \n",
      "\n",
      "Passing `palette` without assigning `hue` is deprecated and will be removed in v0.14.0. Assign the `x` variable to `hue` and set `legend=False` for the same effect.\n",
      "\n",
      "  sns.countplot(x='AGE', data = data, palette='Set2')\n"
     ]
    },
    {
     "data": {
      "image/png": "[encoded data removed]",
      "text/plain": [
       "<Figure size 640x480 with 1 Axes>"
      ]
     },
     "metadata": {},
     "output_type": "display_data"
    }
   ],
   "source": [
    "#[같이 하기] age에 대해 countplot 으로 시각화를 해보자!\n",
    "# 1. sns.countplot(x=' ', data= )으로 시각화. 색상은 원하는 색상으로!\n",
    "# 2. title=('age'), grid 도 넣어서 이쁘게 만들어보자.\n",
    "\n",
    "sns.countplot(x='AGE', data = data, palette='Set2')\n",
    "plt.title('age')\n",
    "plt.grid()\n",
    "plt.show()"
   ]
  },
  {
   "cell_type": "markdown",
   "id": "0d446084-d4a2-43b9-99da-4fc0ed71d37a",
   "metadata": {
    "id": "0d446084-d4a2-43b9-99da-4fc0ed71d37a"
   },
   "source": [
    "### 2) 고용상태"
   ]
  },
  {
   "cell_type": "code",
   "execution_count": 29,
   "id": "f1b53277-4472-4e0d-a89d-c81cccdc163f",
   "metadata": {
    "id": "f1b53277-4472-4e0d-a89d-c81cccdc163f",
    "tags": []
   },
   "outputs": [
    {
     "data": {
      "text/plain": [
       "고용상태\n",
       "FALSE     360\n",
       "고용       7518\n",
       "무직       3028\n",
       "휴직       1094\n",
       "Name: count, dtype: int64"
      ]
     },
     "execution_count": 29,
     "metadata": {},
     "output_type": "execute_result"
    }
   ],
   "source": [
    "#[문제 8] '고용상태' 변수에 대해 범주별 빈도수를 탐색해보자.\n",
    "data['고용상태'].value_counts().sort_index()"
   ]
  },
  {
   "cell_type": "code",
   "execution_count": 30,
   "id": "f12b4e33-9894-4bad-9f92-9631b4c9a98a",
   "metadata": {
    "id": "f12b4e33-9894-4bad-9f92-9631b4c9a98a"
   },
   "outputs": [
    {
     "data": {
      "text/plain": [
       "고용상태\n",
       "FALSE    0.030000\n",
       "고용       0.626500\n",
       "무직       0.252333\n",
       "휴직       0.091167\n",
       "Name: proportion, dtype: float64"
      ]
     },
     "execution_count": 30,
     "metadata": {},
     "output_type": "execute_result"
    }
   ],
   "source": [
    "#[문제 9] 위 결과에 대해 비율로 계산해보자.\n",
    "\n",
    "data['고용상태'].value_counts(normalize = True).sort_index()"
   ]
  },
  {
   "cell_type": "code",
   "execution_count": 31,
   "id": "5902b062-96b9-4b4d-870f-d8d40e04a587",
   "metadata": {
    "id": "5902b062-96b9-4b4d-870f-d8d40e04a587",
    "tags": []
   },
   "outputs": [],
   "source": [
    "#[문제 10] FALSE 값이 있잖어? 이게 뭐지?\n",
    "# False를 무엇으로 해석해야 할까?\n",
    "\n",
    "# 수집 거부, 오류등 수집 실패\n",
    "\n",
    "# 보관기관이 오래되어 신뢰성, 법적 문제로 삭제?????????\n",
    "# "
   ]
  },
  {
   "cell_type": "markdown",
   "id": "d809db36",
   "metadata": {
    "id": "d809db36"
   },
   "source": [
    "<b>**'고용상태' 변수에 대해 간단하게 탐색한 내용을 아래 주석으로 적어보자!**\n"
   ]
  },
  {
   "cell_type": "code",
   "execution_count": 33,
   "id": "62d64507",
   "metadata": {
    "id": "62d64507"
   },
   "outputs": [],
   "source": [
    "# 1. 재직자 비율이 압도적으로 많다.\n",
    "# 2. 무직자 비율이 2번째로 많은데 이중 대부분은 5~70대로 예상됨 (아니네...\n",
    "# 3. "
   ]
  },
  {
   "cell_type": "code",
   "execution_count": 255,
   "id": "5c19c4dd-eca5-4584-862a-993cdf757303",
   "metadata": {},
   "outputs": [
    {
     "data": {
      "text/html": [
       "<div>\n",
       "<style scoped>\n",
       "    .dataframe tbody tr th:only-of-type {\n",
       "        vertical-align: middle;\n",
       "    }\n",
       "\n",
       "    .dataframe tbody tr th {\n",
       "        vertical-align: top;\n",
       "    }\n",
       "\n",
       "    .dataframe thead th {\n",
       "        text-align: right;\n",
       "    }\n",
       "</style>\n",
       "<table border=\"1\" class=\"dataframe\">\n",
       "  <thead>\n",
       "    <tr style=\"text-align: right;\">\n",
       "      <th>고용상태</th>\n",
       "      <th>FALSE</th>\n",
       "      <th>고용</th>\n",
       "      <th>무직</th>\n",
       "      <th>휴직</th>\n",
       "    </tr>\n",
       "    <tr>\n",
       "      <th>AGE</th>\n",
       "      <th></th>\n",
       "      <th></th>\n",
       "      <th></th>\n",
       "      <th></th>\n",
       "    </tr>\n",
       "  </thead>\n",
       "  <tbody>\n",
       "    <tr>\n",
       "      <th>1</th>\n",
       "      <td>0.000000</td>\n",
       "      <td>0.121167</td>\n",
       "      <td>0.000000</td>\n",
       "      <td>0.000000</td>\n",
       "    </tr>\n",
       "    <tr>\n",
       "      <th>2</th>\n",
       "      <td>0.001250</td>\n",
       "      <td>0.075000</td>\n",
       "      <td>0.042333</td>\n",
       "      <td>0.009583</td>\n",
       "    </tr>\n",
       "    <tr>\n",
       "      <th>3</th>\n",
       "      <td>0.015667</td>\n",
       "      <td>0.120333</td>\n",
       "      <td>0.210000</td>\n",
       "      <td>0.051917</td>\n",
       "    </tr>\n",
       "    <tr>\n",
       "      <th>4</th>\n",
       "      <td>0.013083</td>\n",
       "      <td>0.217583</td>\n",
       "      <td>0.000000</td>\n",
       "      <td>0.029667</td>\n",
       "    </tr>\n",
       "    <tr>\n",
       "      <th>5</th>\n",
       "      <td>0.000000</td>\n",
       "      <td>0.088083</td>\n",
       "      <td>0.000000</td>\n",
       "      <td>0.000000</td>\n",
       "    </tr>\n",
       "    <tr>\n",
       "      <th>6</th>\n",
       "      <td>0.000000</td>\n",
       "      <td>0.004333</td>\n",
       "      <td>0.000000</td>\n",
       "      <td>0.000000</td>\n",
       "    </tr>\n",
       "  </tbody>\n",
       "</table>\n",
       "</div>"
      ],
      "text/plain": [
       "고용상태     FALSE        고용        무직        휴직\n",
       "AGE                                         \n",
       "1     0.000000  0.121167  0.000000  0.000000\n",
       "2     0.001250  0.075000  0.042333  0.009583\n",
       "3     0.015667  0.120333  0.210000  0.051917\n",
       "4     0.013083  0.217583  0.000000  0.029667\n",
       "5     0.000000  0.088083  0.000000  0.000000\n",
       "6     0.000000  0.004333  0.000000  0.000000"
      ]
     },
     "execution_count": 255,
     "metadata": {},
     "output_type": "execute_result"
    }
   ],
   "source": [
    "pd.crosstab(index=data['AGE'], columns=data['고용상태'] ,normalize=True)"
   ]
  },
  {
   "cell_type": "code",
   "execution_count": null,
   "id": "a0f23b9a-afec-49df-a8ac-af7be675c13d",
   "metadata": {},
   "outputs": [],
   "source": []
  },
  {
   "cell_type": "code",
   "execution_count": 34,
   "id": "07cd9ced",
   "metadata": {
    "id": "07cd9ced"
   },
   "outputs": [
    {
     "name": "stderr",
     "output_type": "stream",
     "text": [
      "C:\\Users\\User\\AppData\\Local\\Temp\\ipykernel_15304\\487995835.py:3: FutureWarning: \n",
      "\n",
      "Passing `palette` without assigning `hue` is deprecated and will be removed in v0.14.0. Assign the `x` variable to `hue` and set `legend=False` for the same effect.\n",
      "\n",
      "  sns.countplot(x='고용상태', data = data, palette='Set1')\n"
     ]
    },
    {
     "data": {
      "image/png": "[encoded data removed]",
      "text/plain": [
       "<Figure size 640x480 with 1 Axes>"
      ]
     },
     "metadata": {},
     "output_type": "display_data"
    }
   ],
   "source": [
    "#[문제 11] '고용상태'에 대해 countplot 으로 시각화를 해보자!\n",
    "\n",
    "sns.countplot(x='고용상태', data = data, palette='Set1')\n",
    "plt.title('age')\n",
    "plt.grid()\n",
    "plt.show()"
   ]
  },
  {
   "cell_type": "markdown",
   "id": "4b90ac7b-1bd4-446c-a741-eaafab3a3da1",
   "metadata": {
    "id": "4b90ac7b-1bd4-446c-a741-eaafab3a3da1"
   },
   "source": [
    "### 3) 교육수준"
   ]
  },
  {
   "cell_type": "code",
   "execution_count": 36,
   "id": "6690ed2e-cf2a-4011-86ae-9fc66aa72c6a",
   "metadata": {
    "id": "6690ed2e-cf2a-4011-86ae-9fc66aa72c6a"
   },
   "outputs": [
    {
     "data": {
      "text/plain": [
       "교육수준\n",
       "고졸이하    3477\n",
       "대학졸업    7105\n",
       "박사       439\n",
       "석사       979\n",
       "Name: count, dtype: int64"
      ]
     },
     "execution_count": 36,
     "metadata": {},
     "output_type": "execute_result"
    }
   ],
   "source": [
    "#[문제 12] '교육수준' 변수에 대해 범주별 빈도수를 탐색해보자.\n",
    "\n",
    "data['교육수준'].value_counts().sort_index()"
   ]
  },
  {
   "cell_type": "code",
   "execution_count": 37,
   "id": "83123ae9-e4b9-4412-8e3f-f3706624a615",
   "metadata": {
    "id": "83123ae9-e4b9-4412-8e3f-f3706624a615"
   },
   "outputs": [
    {
     "data": {
      "text/plain": [
       "교육수준\n",
       "고졸이하    0.289750\n",
       "대학졸업    0.592083\n",
       "박사      0.036583\n",
       "석사      0.081583\n",
       "Name: proportion, dtype: float64"
      ]
     },
     "execution_count": 37,
     "metadata": {},
     "output_type": "execute_result"
    }
   ],
   "source": [
    "#[문제 13] 위 결과에 대해 비율로 계산해보자.\n",
    "\n",
    "data['교육수준'].value_counts(normalize = True).sort_index()"
   ]
  },
  {
   "cell_type": "markdown",
   "id": "31c48e8e",
   "metadata": {
    "id": "31c48e8e"
   },
   "source": [
    "<b>**'교육수준' 변수에 대해 간단하게 탐색한 내용을 아래 주석으로 적어보자!**"
   ]
  },
  {
   "cell_type": "code",
   "execution_count": null,
   "id": "2eecf953",
   "metadata": {
    "id": "2eecf953"
   },
   "outputs": [],
   "source": [
    "# 1. 대졸자가 가장 높다 # 자료가 없다...\n",
    "# 2. "
   ]
  },
  {
   "cell_type": "code",
   "execution_count": 39,
   "id": "8918f452",
   "metadata": {
    "id": "8918f452"
   },
   "outputs": [
    {
     "name": "stderr",
     "output_type": "stream",
     "text": [
      "C:\\Users\\User\\AppData\\Local\\Temp\\ipykernel_15304\\89406935.py:3: FutureWarning: \n",
      "\n",
      "Passing `palette` without assigning `hue` is deprecated and will be removed in v0.14.0. Assign the `x` variable to `hue` and set `legend=False` for the same effect.\n",
      "\n",
      "  sns.countplot(x='교육수준', data = data, palette='Set1')\n"
     ]
    },
    {
     "data": {
      "image/png": "[encoded data removed]",
      "text/plain": [
       "<Figure size 640x480 with 1 Axes>"
      ]
     },
     "metadata": {},
     "output_type": "display_data"
    }
   ],
   "source": [
    "#[문제 14] '교육수준'에 대해 countplot 으로 시각화를 해보자!\n",
    "\n",
    "sns.countplot(x='교육수준', data = data, palette='Set1')\n",
    "plt.title('age')\n",
    "plt.grid()\n",
    "plt.show()"
   ]
  },
  {
   "cell_type": "markdown",
   "id": "efbe3ae4-1bad-477e-9585-299bb34bc386",
   "metadata": {
    "id": "efbe3ae4-1bad-477e-9585-299bb34bc386"
   },
   "source": [
    "### 4) 상품타입"
   ]
  },
  {
   "cell_type": "code",
   "execution_count": 41,
   "id": "f0ae84e4-24d2-4c0a-8430-aa39111acb25",
   "metadata": {
    "id": "f0ae84e4-24d2-4c0a-8430-aa39111acb25"
   },
   "outputs": [
    {
     "data": {
      "text/plain": [
       "상품타입\n",
       "고급    0.089583\n",
       "기본    0.606500\n",
       "중급    0.303917\n",
       "Name: proportion, dtype: float64"
      ]
     },
     "execution_count": 41,
     "metadata": {},
     "output_type": "execute_result"
    }
   ],
   "source": [
    "#[문제 15] '상품타입'변수에 대해 범주별 비율을 탐색해보자.\n",
    "\n",
    "data['상품타입'].value_counts(normalize = True).sort_index()"
   ]
  },
  {
   "cell_type": "markdown",
   "id": "b4dba274",
   "metadata": {
    "id": "b4dba274"
   },
   "source": [
    "<b>**'상품타입' 변수에 대해 간단하게 탐색한 내용을 아래 주석으로 적어보자!**"
   ]
  },
  {
   "cell_type": "code",
   "execution_count": null,
   "id": "f386523f",
   "metadata": {
    "id": "f386523f"
   },
   "outputs": [],
   "source": [
    "# 1. 기본 타입의 상품이 제일 많다 > 혜택이 충분하다, 보험은 불확실성?"
   ]
  },
  {
   "cell_type": "code",
   "execution_count": 43,
   "id": "b7530f6a",
   "metadata": {
    "id": "b7530f6a"
   },
   "outputs": [
    {
     "name": "stderr",
     "output_type": "stream",
     "text": [
      "C:\\Users\\User\\AppData\\Local\\Temp\\ipykernel_15304\\1746830653.py:3: FutureWarning: \n",
      "\n",
      "Passing `palette` without assigning `hue` is deprecated and will be removed in v0.14.0. Assign the `x` variable to `hue` and set `legend=False` for the same effect.\n",
      "\n",
      "  sns.countplot(x='상품타입', data = data, palette='Set1')\n"
     ]
    },
    {
     "data": {
      "image/png": "[encoded data removed]",
      "text/plain": [
       "<Figure size 640x480 with 1 Axes>"
      ]
     },
     "metadata": {},
     "output_type": "display_data"
    }
   ],
   "source": [
    "#[문제 16] '상품타입'에 대해 countplot 으로 시각화를 해보자!\n",
    "\n",
    "sns.countplot(x='상품타입', data = data, palette='Set1')\n",
    "plt.title('age')\n",
    "plt.grid()\n",
    "plt.show()"
   ]
  },
  {
   "cell_type": "markdown",
   "id": "70719016-ee76-4dd9-94a0-d70e8a0d4a2f",
   "metadata": {
    "id": "70719016-ee76-4dd9-94a0-d70e8a0d4a2f"
   },
   "source": [
    "### 5) 거주지사이즈"
   ]
  },
  {
   "cell_type": "code",
   "execution_count": 45,
   "id": "bbd09e8b-860d-4746-9cd0-3a9760f4611d",
   "metadata": {
    "id": "bbd09e8b-860d-4746-9cd0-3a9760f4611d"
   },
   "outputs": [
    {
     "data": {
      "text/plain": [
       "거주지사이즈\n",
       "대    0.103750\n",
       "소    0.194333\n",
       "중    0.701917\n",
       "Name: proportion, dtype: float64"
      ]
     },
     "execution_count": 45,
     "metadata": {},
     "output_type": "execute_result"
    }
   ],
   "source": [
    "#[문제 17]'거주지사이즈'변수에 대해 범주별 비율을 탐색해보자.\n",
    "\n",
    "data['거주지사이즈'].value_counts(normalize = True).sort_index()"
   ]
  },
  {
   "cell_type": "markdown",
   "id": "de3362c6",
   "metadata": {
    "id": "de3362c6"
   },
   "source": [
    "<b>**'거주지사이즈' 변수에 대해 간단하게 탐색한 내용을 아래 주석으로 적어보자!**"
   ]
  },
  {
   "cell_type": "code",
   "execution_count": null,
   "id": "9b1e64ab",
   "metadata": {
    "id": "9b1e64ab"
   },
   "outputs": [],
   "source": [
    "# 보험은 대부분의 사람들이 가입하기 떄문에, 중산층이 가장 높은 비율을 차지할 것으로 예상되어 거주지 사이즈 또한 중간크기가 많다"
   ]
  },
  {
   "cell_type": "code",
   "execution_count": 47,
   "id": "e19b97c6",
   "metadata": {
    "id": "e19b97c6"
   },
   "outputs": [
    {
     "name": "stderr",
     "output_type": "stream",
     "text": [
      "C:\\Users\\User\\AppData\\Local\\Temp\\ipykernel_15304\\463097623.py:3: FutureWarning: \n",
      "\n",
      "Passing `palette` without assigning `hue` is deprecated and will be removed in v0.14.0. Assign the `x` variable to `hue` and set `legend=False` for the same effect.\n",
      "\n",
      "  sns.countplot(x='거주지사이즈', data = data, palette='Set1')\n"
     ]
    },
    {
     "data": {
      "image/png": "[encoded data removed]",
      "text/plain": [
       "<Figure size 640x480 with 1 Axes>"
      ]
     },
     "metadata": {},
     "output_type": "display_data"
    }
   ],
   "source": [
    "#[문제 18] '거주지사이즈'에 대해 countplot 으로 시각화를 해보자!\n",
    "\n",
    "sns.countplot(x='거주지사이즈', data = data, palette='Set1')\n",
    "plt.title('age')\n",
    "plt.grid()\n",
    "plt.show()"
   ]
  },
  {
   "cell_type": "markdown",
   "id": "44892e39-c067-4f29-b54b-ece384e7823f",
   "metadata": {
    "id": "44892e39-c067-4f29-b54b-ece384e7823f"
   },
   "source": [
    "### 6) 자동차"
   ]
  },
  {
   "cell_type": "code",
   "execution_count": 49,
   "id": "efca4168-5c00-4c80-bea2-8641e1167351",
   "metadata": {
    "id": "efca4168-5c00-4c80-bea2-8641e1167351"
   },
   "outputs": [
    {
     "data": {
      "text/plain": [
       "자동차\n",
       "SUV     0.194667\n",
       "고급차     0.037833\n",
       "스포츠카    0.054333\n",
       "일반세단    0.506167\n",
       "컴팩트카    0.207000\n",
       "Name: proportion, dtype: float64"
      ]
     },
     "execution_count": 49,
     "metadata": {},
     "output_type": "execute_result"
    }
   ],
   "source": [
    "#[문제 19]'자동차'변수에 대해 범주별 비율을 탐색해보자.\n",
    "\n",
    "data['자동차'].value_counts(normalize = True).sort_index()"
   ]
  },
  {
   "cell_type": "markdown",
   "id": "0c196ed8",
   "metadata": {
    "id": "0c196ed8"
   },
   "source": [
    "<b>**'자동차' 변수에 대해 간단하게 탐색한 내용을 아래 주석으로 적어보자!**"
   ]
  },
  {
   "cell_type": "code",
   "execution_count": null,
   "id": "c414d1a6",
   "metadata": {
    "id": "c414d1a6"
   },
   "outputs": [],
   "source": [
    "# 보험은 대부분의 사람들이 가입하기 떄문에, 중산층이 가장 높은 비율을 차지할 것으로 예상됨\n",
    "# 스포츠카 전용 보험준비? > 50대가 많이 탄다.."
   ]
  },
  {
   "cell_type": "code",
   "execution_count": 51,
   "id": "22946eec",
   "metadata": {
    "id": "22946eec"
   },
   "outputs": [
    {
     "name": "stderr",
     "output_type": "stream",
     "text": [
      "C:\\Users\\User\\AppData\\Local\\Temp\\ipykernel_15304\\3933266074.py:3: FutureWarning: \n",
      "\n",
      "Passing `palette` without assigning `hue` is deprecated and will be removed in v0.14.0. Assign the `x` variable to `hue` and set `legend=False` for the same effect.\n",
      "\n",
      "  sns.countplot(x='자동차', data = data, palette='Set1')\n"
     ]
    },
    {
     "data": {
      "image/png": "[encoded data removed]",
      "text/plain": [
       "<Figure size 640x480 with 1 Axes>"
      ]
     },
     "metadata": {},
     "output_type": "display_data"
    }
   ],
   "source": [
    "#[문제 20]'자동차'에 대해 countplot 으로 시각화를 해보자!\n",
    "\n",
    "sns.countplot(x='자동차', data = data, palette='Set1')\n",
    "plt.title('age')\n",
    "plt.grid()\n",
    "plt.show()"
   ]
  },
  {
   "cell_type": "markdown",
   "id": "84b47481-7956-47a9-ad48-2d94f5802d48",
   "metadata": {
    "id": "84b47481-7956-47a9-ad48-2d94f5802d48"
   },
   "source": [
    "## **(2) 도메인 주요 항목 컬럼 탐색하기**\n",
    "* 도메인 주요 항목 : Willingness to pay/Stay,소득,월 납입액,타상품 보유 현황,총지불금액(총 5개 항목)\n",
    "* 위 도메인 주요 항목 컬럼을 crosstab, histplot 을 통해서 탐색해 보자"
   ]
  },
  {
   "cell_type": "code",
   "execution_count": 53,
   "id": "a35470ac",
   "metadata": {
    "id": "a35470ac"
   },
   "outputs": [
    {
     "name": "stdout",
     "output_type": "stream",
     "text": [
      "<class 'pandas.core.frame.DataFrame'>\n",
      "RangeIndex: 12000 entries, 0 to 11999\n",
      "Data columns (total 5 columns):\n",
      " #   Column                   Non-Null Count  Dtype  \n",
      "---  ------                   --------------  -----  \n",
      " 0   Willingness to pay/Stay  12000 non-null  float64\n",
      " 1   소득                       12000 non-null  int64  \n",
      " 2   월 납입액                    12000 non-null  int64  \n",
      " 3   타 상품 보유 현황               12000 non-null  object \n",
      " 4   총지불금액                    12000 non-null  int64  \n",
      "dtypes: float64(1), int64(3), object(1)\n",
      "memory usage: 468.9+ KB\n"
     ]
    }
   ],
   "source": [
    "#[문제 21] 도메인 내 주요 항목 컬럼들이 수치형인지 문자형인지 알아보자! (info 활용)\n",
    "\n",
    "data[['Willingness to pay/Stay', '소득', '월 납입액', '타 상품 보유 현황', '총지불금액']].info()"
   ]
  },
  {
   "cell_type": "markdown",
   "id": "021a301f-831c-4f17-8cbc-610062457a15",
   "metadata": {
    "id": "021a301f-831c-4f17-8cbc-610062457a15"
   },
   "source": [
    "### 1) WTP(Willingness to pay/Stay)\n",
    "* 연속형/수치형 컬럼이기 때문에 histplot으로 데이터 확인해보기\n"
   ]
  },
  {
   "cell_type": "code",
   "execution_count": 55,
   "id": "ded3f2a9-6261-434e-af18-cc19d6681da2",
   "metadata": {
    "id": "ded3f2a9-6261-434e-af18-cc19d6681da2"
   },
   "outputs": [
    {
     "data": {
      "image/png": "[encoded data removed]",
      "text/plain": [
       "<Figure size 1200x800 with 1 Axes>"
      ]
     },
     "metadata": {},
     "output_type": "display_data"
    }
   ],
   "source": [
    "#[같이 하기] 히스토그램으로 'Willingness to pay/Stay(WTP)'에 대한 그래프를 그려보자.\n",
    "\n",
    "# 1. figsize(12,8) 셋팅하기\n",
    "\n",
    "plt.figure(figsize=(12,8))\n",
    "\n",
    "# 2. histplot 그리기\n",
    "# bins = 30, kde = True로 설정해서 그래프를 그려보자.\n",
    "\n",
    "sns.histplot(data['Willingness to pay/Stay'],bins=30,kde=True)\n",
    "plt.grid()\n",
    "plt.show()"
   ]
  },
  {
   "cell_type": "markdown",
   "id": "64717be9",
   "metadata": {
    "id": "64717be9"
   },
   "source": [
    "- bins는 막대개수 조정/ kde 는 커널밀도 추정(분포 곡선)"
   ]
  },
  {
   "cell_type": "code",
   "execution_count": 57,
   "id": "f2136513",
   "metadata": {
    "id": "f2136513"
   },
   "outputs": [
    {
     "data": {
      "text/html": [
       "<div>\n",
       "<style scoped>\n",
       "    .dataframe tbody tr th:only-of-type {\n",
       "        vertical-align: middle;\n",
       "    }\n",
       "\n",
       "    .dataframe tbody tr th {\n",
       "        vertical-align: top;\n",
       "    }\n",
       "\n",
       "    .dataframe thead th {\n",
       "        text-align: right;\n",
       "    }\n",
       "</style>\n",
       "<table border=\"1\" class=\"dataframe\">\n",
       "  <thead>\n",
       "    <tr style=\"text-align: right;\">\n",
       "      <th></th>\n",
       "      <th>count</th>\n",
       "      <th>mean</th>\n",
       "      <th>std</th>\n",
       "      <th>min</th>\n",
       "      <th>25%</th>\n",
       "      <th>50%</th>\n",
       "      <th>75%</th>\n",
       "      <th>max</th>\n",
       "    </tr>\n",
       "  </thead>\n",
       "  <tbody>\n",
       "    <tr>\n",
       "      <th>Willingness to pay/Stay</th>\n",
       "      <td>12000.0</td>\n",
       "      <td>8.859478</td>\n",
       "      <td>7.698885</td>\n",
       "      <td>2.04573</td>\n",
       "      <td>4.3734</td>\n",
       "      <td>6.384831</td>\n",
       "      <td>9.8679</td>\n",
       "      <td>92.4963</td>\n",
       "    </tr>\n",
       "  </tbody>\n",
       "</table>\n",
       "</div>"
      ],
      "text/plain": [
       "                           count      mean       std      min     25%  \\\n",
       "Willingness to pay/Stay  12000.0  8.859478  7.698885  2.04573  4.3734   \n",
       "\n",
       "                              50%     75%      max  \n",
       "Willingness to pay/Stay  6.384831  9.8679  92.4963  "
      ]
     },
     "execution_count": 57,
     "metadata": {},
     "output_type": "execute_result"
    }
   ],
   "source": [
    "#[같이 하기] WTP의 평균값을 확인해보자(describe 사용)\n",
    "feature = 'Willingness to pay/Stay'\n",
    "data[[feature]].describe().T"
   ]
  },
  {
   "cell_type": "markdown",
   "id": "4fc314b8",
   "metadata": {
    "id": "4fc314b8"
   },
   "source": [
    "<b>**'Willingness to pay/Stay(WTP)' 변수에 대해 간단하게 탐색한 내용을 아래 주석으로 적어보자!**"
   ]
  },
  {
   "cell_type": "code",
   "execution_count": 59,
   "id": "a9208c54",
   "metadata": {
    "id": "a9208c54"
   },
   "outputs": [],
   "source": [
    "# 대부분의 고객의 경우 보험유지기대지표(WTP)의 값이 낮게 나옴(0~10정도 사이가 대부분)\n",
    "# 평균값을 확인해보니 8 정도로 낮은 것으로 알 수 있음.\n",
    "# 왜 낮을까?"
   ]
  },
  {
   "cell_type": "markdown",
   "id": "af36aff6-87a9-476c-b604-d96063afc8c0",
   "metadata": {
    "id": "af36aff6-87a9-476c-b604-d96063afc8c0"
   },
   "source": [
    "### 2) 소득\n",
    "* 연속형/수치형 컬럼이기 때문에 histplot으로 데이터 확인해보기"
   ]
  },
  {
   "cell_type": "code",
   "execution_count": 61,
   "id": "4cd24cdb-cf0b-42d3-9017-e8215c595335",
   "metadata": {
    "id": "4cd24cdb-cf0b-42d3-9017-e8215c595335"
   },
   "outputs": [
    {
     "data": {
      "image/png": "[encoded data removed]",
      "text/plain": [
       "<Figure size 1200x800 with 1 Axes>"
      ]
     },
     "metadata": {},
     "output_type": "display_data"
    }
   ],
   "source": [
    "#[문제 22] 히스토그램으로 '소득'에 대한 그래프를 그려보자.\n",
    "# bins = 30, kde = True로 설정해서 한번 보자\n",
    "plt.figure(figsize=(12,8))\n",
    "sns.histplot(data['소득'],bins=30,kde=True)\n",
    "plt.grid()\n",
    "plt.show()"
   ]
  },
  {
   "cell_type": "markdown",
   "id": "6ddbcc65",
   "metadata": {
    "id": "6ddbcc65"
   },
   "source": [
    "<b>**'소득' 변수에 대해 간단하게 탐색한 내용을 아래 주석으로 적어보자!**"
   ]
  },
  {
   "cell_type": "code",
   "execution_count": 222,
   "id": "ef9768ad-c83e-4218-81fe-63fcc77d7bb3",
   "metadata": {},
   "outputs": [
    {
     "data": {
      "text/plain": [
       "고용상태\n",
       "고용    0.645876\n",
       "무직    0.260137\n",
       "휴직    0.093986\n",
       "Name: proportion, dtype: float64"
      ]
     },
     "execution_count": 222,
     "metadata": {},
     "output_type": "execute_result"
    }
   ],
   "source": [
    "data.loc[data['고용상태']!='FALSE']['고용상태'].value_counts(normalize = True).sort_index()"
   ]
  },
  {
   "cell_type": "code",
   "execution_count": 226,
   "id": "68d65656-6782-4779-9cfd-2e08e572b395",
   "metadata": {},
   "outputs": [
    {
     "name": "stdout",
     "output_type": "stream",
     "text": [
      "소득 없음: 3028\n",
      "소득 있음: 8972\n",
      "0.25233333333333335\n",
      "0.7476666666666667\n"
     ]
    },
    {
     "data": {
      "text/plain": [
       "0.739862"
      ]
     },
     "execution_count": 226,
     "metadata": {},
     "output_type": "execute_result"
    }
   ],
   "source": [
    "# 소득이 0인 사람의 비율이 압도적으로 많지만, 소득 유무로 나눈다면 있다 비율이 높음\n",
    "소득없 = data.loc[data['소득'] == 0]['소득'].value_counts().sum()\n",
    "소득있 = data.loc[data['소득'] > 0]['소득'].value_counts().sum()\n",
    "\n",
    "\n",
    "\n",
    "print('소득 없음:',소득없)\n",
    "print('소득 있음:',소득있)\n",
    "print(소득없/(소득없+소득있))\n",
    "print(소득있/(소득없+소득있))\n",
    "\n",
    "0.645876+0.093986"
   ]
  },
  {
   "cell_type": "code",
   "execution_count": 218,
   "id": "68aeccbb-686f-4234-b37e-7b44cdce2839",
   "metadata": {},
   "outputs": [
    {
     "name": "stdout",
     "output_type": "stream",
     "text": [
      "7518\n"
     ]
    }
   ],
   "source": [
    "print(data.loc[data['고용상태'] == '고용']['소득'].value_counts().sum())\n",
    "#print(data.loc[data['소득'] >0]['소득'].value_counts().sum())"
   ]
  },
  {
   "cell_type": "code",
   "execution_count": 130,
   "id": "467e99a7",
   "metadata": {
    "id": "467e99a7"
   },
   "outputs": [
    {
     "data": {
      "text/html": [
       "<div>\n",
       "<style scoped>\n",
       "    .dataframe tbody tr th:only-of-type {\n",
       "        vertical-align: middle;\n",
       "    }\n",
       "\n",
       "    .dataframe tbody tr th {\n",
       "        vertical-align: top;\n",
       "    }\n",
       "\n",
       "    .dataframe thead th {\n",
       "        text-align: right;\n",
       "    }\n",
       "</style>\n",
       "<table border=\"1\" class=\"dataframe\">\n",
       "  <thead>\n",
       "    <tr style=\"text-align: right;\">\n",
       "      <th></th>\n",
       "      <th>count</th>\n",
       "      <th>mean</th>\n",
       "      <th>std</th>\n",
       "      <th>min</th>\n",
       "      <th>25%</th>\n",
       "      <th>50%</th>\n",
       "      <th>75%</th>\n",
       "      <th>max</th>\n",
       "    </tr>\n",
       "  </thead>\n",
       "  <tbody>\n",
       "    <tr>\n",
       "      <th>소득</th>\n",
       "      <td>12000.0</td>\n",
       "      <td>46417371.85</td>\n",
       "      <td>3.736221e+07</td>\n",
       "      <td>0.0</td>\n",
       "      <td>0.0</td>\n",
       "      <td>41862400.0</td>\n",
       "      <td>76641500.0</td>\n",
       "      <td>132020900.0</td>\n",
       "    </tr>\n",
       "  </tbody>\n",
       "</table>\n",
       "</div>"
      ],
      "text/plain": [
       "      count         mean           std  min  25%         50%         75%  \\\n",
       "소득  12000.0  46417371.85  3.736221e+07  0.0  0.0  41862400.0  76641500.0   \n",
       "\n",
       "            max  \n",
       "소득  132020900.0  "
      ]
     },
     "execution_count": 130,
     "metadata": {},
     "output_type": "execute_result"
    }
   ],
   "source": [
    "data[['소득']].describe().T"
   ]
  },
  {
   "cell_type": "markdown",
   "id": "50c3edeb-5074-4324-81a7-4ced83c58ee4",
   "metadata": {
    "id": "50c3edeb-5074-4324-81a7-4ced83c58ee4"
   },
   "source": [
    "### 3) 월 납입액\n",
    "* 연속형/수치형 컬럼이기 때문에 histplot으로 데이터 확인해보기"
   ]
  },
  {
   "cell_type": "code",
   "execution_count": 64,
   "id": "09a7a450-cc88-4460-b737-de931f9434a4",
   "metadata": {
    "id": "09a7a450-cc88-4460-b737-de931f9434a4"
   },
   "outputs": [
    {
     "data": {
      "image/png": "[encoded data removed]",
      "text/plain": [
       "<Figure size 1200x800 with 1 Axes>"
      ]
     },
     "metadata": {},
     "output_type": "display_data"
    }
   ],
   "source": [
    "#[문제 23] 히스토그램으로 '월 납입액'에 대한 그래프를 그려보자.\n",
    "# bins = 30, kde = True로 설정해서 한번 보자\n",
    "plt.figure(figsize=(12,8))\n",
    "sns.histplot(data['월 납입액'],bins=30,kde=True)\n",
    "plt.grid()\n",
    "plt.show()"
   ]
  },
  {
   "cell_type": "code",
   "execution_count": 65,
   "id": "b852ce89",
   "metadata": {
    "id": "b852ce89"
   },
   "outputs": [
    {
     "data": {
      "text/html": [
       "<div>\n",
       "<style scoped>\n",
       "    .dataframe tbody tr th:only-of-type {\n",
       "        vertical-align: middle;\n",
       "    }\n",
       "\n",
       "    .dataframe tbody tr th {\n",
       "        vertical-align: top;\n",
       "    }\n",
       "\n",
       "    .dataframe thead th {\n",
       "        text-align: right;\n",
       "    }\n",
       "</style>\n",
       "<table border=\"1\" class=\"dataframe\">\n",
       "  <thead>\n",
       "    <tr style=\"text-align: right;\">\n",
       "      <th></th>\n",
       "      <th>count</th>\n",
       "      <th>mean</th>\n",
       "      <th>std</th>\n",
       "      <th>min</th>\n",
       "      <th>25%</th>\n",
       "      <th>50%</th>\n",
       "      <th>75%</th>\n",
       "      <th>max</th>\n",
       "    </tr>\n",
       "  </thead>\n",
       "  <tbody>\n",
       "    <tr>\n",
       "      <th>월 납입액</th>\n",
       "      <td>12000.0</td>\n",
       "      <td>100.065833</td>\n",
       "      <td>42.45375</td>\n",
       "      <td>60.0</td>\n",
       "      <td>70.0</td>\n",
       "      <td>90.0</td>\n",
       "      <td>120.0</td>\n",
       "      <td>350.0</td>\n",
       "    </tr>\n",
       "  </tbody>\n",
       "</table>\n",
       "</div>"
      ],
      "text/plain": [
       "         count        mean       std   min   25%   50%    75%    max\n",
       "월 납입액  12000.0  100.065833  42.45375  60.0  70.0  90.0  120.0  350.0"
      ]
     },
     "execution_count": 65,
     "metadata": {},
     "output_type": "execute_result"
    }
   ],
   "source": [
    "#[문제 24] '월 납입액'의 평균값을 확인해보자(describe 사용)\n",
    "feature = '월 납입액'\n",
    "data[[feature]].describe().T"
   ]
  },
  {
   "cell_type": "markdown",
   "id": "875e5bc6",
   "metadata": {
    "id": "875e5bc6"
   },
   "source": [
    "<b>**'월 납입액' 변수에 대해 간단하게 탐색한 내용을 아래 주석으로 적어보자!**"
   ]
  },
  {
   "cell_type": "code",
   "execution_count": 242,
   "id": "dd256915-2a88-4102-868d-cb7fb9f46c73",
   "metadata": {},
   "outputs": [
    {
     "data": {
      "text/html": [
       "<div>\n",
       "<style scoped>\n",
       "    .dataframe tbody tr th:only-of-type {\n",
       "        vertical-align: middle;\n",
       "    }\n",
       "\n",
       "    .dataframe tbody tr th {\n",
       "        vertical-align: top;\n",
       "    }\n",
       "\n",
       "    .dataframe thead th {\n",
       "        text-align: right;\n",
       "    }\n",
       "</style>\n",
       "<table border=\"1\" class=\"dataframe\">\n",
       "  <thead>\n",
       "    <tr style=\"text-align: right;\">\n",
       "      <th></th>\n",
       "      <th>상품타입</th>\n",
       "      <th>월 납입액</th>\n",
       "    </tr>\n",
       "  </thead>\n",
       "  <tbody>\n",
       "    <tr>\n",
       "      <th>0</th>\n",
       "      <td>고급</td>\n",
       "      <td>149.934884</td>\n",
       "    </tr>\n",
       "    <tr>\n",
       "      <th>1</th>\n",
       "      <td>기본</td>\n",
       "      <td>86.705139</td>\n",
       "    </tr>\n",
       "    <tr>\n",
       "      <th>2</th>\n",
       "      <td>중급</td>\n",
       "      <td>112.029065</td>\n",
       "    </tr>\n",
       "  </tbody>\n",
       "</table>\n",
       "</div>"
      ],
      "text/plain": [
       "  상품타입       월 납입액\n",
       "0   고급  149.934884\n",
       "1   기본   86.705139\n",
       "2   중급  112.029065"
      ]
     },
     "execution_count": 242,
     "metadata": {},
     "output_type": "execute_result"
    }
   ],
   "source": [
    "tmp = data[['월 납입액','상품타입']]\n",
    "tmp.groupby( by= '상품타입', as_index = False)['월 납입액'].mean()\n",
    "\n",
    "# 기본"
   ]
  },
  {
   "cell_type": "markdown",
   "id": "47a0876b-7557-468c-ad15-5f96a1b31243",
   "metadata": {
    "id": "47a0876b-7557-468c-ad15-5f96a1b31243"
   },
   "source": [
    "### 4) 타상품 보유\n",
    "* 문자형/범주형 컬럼이기 때문에 crosstab으로 데이터 확인해보기"
   ]
  },
  {
   "cell_type": "code",
   "execution_count": 68,
   "id": "5aa85657-3c6b-47be-96e9-38302644ce29",
   "metadata": {
    "id": "5aa85657-3c6b-47be-96e9-38302644ce29"
   },
   "outputs": [
    {
     "data": {
      "text/plain": [
       "타 상품 보유 현황\n",
       "1      0.356917\n",
       "2      0.251417\n",
       "3      0.128750\n",
       "4이상    0.262917\n",
       "Name: proportion, dtype: float64"
      ]
     },
     "execution_count": 68,
     "metadata": {},
     "output_type": "execute_result"
    }
   ],
   "source": [
    "#[문제 25] '타상품 보유' 변수에 대해 범주별 비율을 확인하자.\n",
    "\n",
    "data['타 상품 보유 현황'].value_counts(normalize = True).sort_index()"
   ]
  },
  {
   "cell_type": "code",
   "execution_count": 208,
   "id": "e7b9959f-f0ff-4fe0-ae86-5cbf60ed19ab",
   "metadata": {},
   "outputs": [
    {
     "data": {
      "text/html": [
       "<div>\n",
       "<style scoped>\n",
       "    .dataframe tbody tr th:only-of-type {\n",
       "        vertical-align: middle;\n",
       "    }\n",
       "\n",
       "    .dataframe tbody tr th {\n",
       "        vertical-align: top;\n",
       "    }\n",
       "\n",
       "    .dataframe thead th {\n",
       "        text-align: right;\n",
       "    }\n",
       "</style>\n",
       "<table border=\"1\" class=\"dataframe\">\n",
       "  <thead>\n",
       "    <tr style=\"text-align: right;\">\n",
       "      <th>타 상품 보유 현황</th>\n",
       "      <th>1</th>\n",
       "      <th>2</th>\n",
       "      <th>3</th>\n",
       "      <th>4이상</th>\n",
       "    </tr>\n",
       "    <tr>\n",
       "      <th>타 상품 보유 현황</th>\n",
       "      <th></th>\n",
       "      <th></th>\n",
       "      <th></th>\n",
       "      <th></th>\n",
       "    </tr>\n",
       "  </thead>\n",
       "  <tbody>\n",
       "    <tr>\n",
       "      <th>1</th>\n",
       "      <td>4283</td>\n",
       "      <td>0</td>\n",
       "      <td>0</td>\n",
       "      <td>0</td>\n",
       "    </tr>\n",
       "    <tr>\n",
       "      <th>2</th>\n",
       "      <td>0</td>\n",
       "      <td>3017</td>\n",
       "      <td>0</td>\n",
       "      <td>0</td>\n",
       "    </tr>\n",
       "    <tr>\n",
       "      <th>3</th>\n",
       "      <td>0</td>\n",
       "      <td>0</td>\n",
       "      <td>1545</td>\n",
       "      <td>0</td>\n",
       "    </tr>\n",
       "    <tr>\n",
       "      <th>4이상</th>\n",
       "      <td>0</td>\n",
       "      <td>0</td>\n",
       "      <td>0</td>\n",
       "      <td>3155</td>\n",
       "    </tr>\n",
       "  </tbody>\n",
       "</table>\n",
       "</div>"
      ],
      "text/plain": [
       "타 상품 보유 현황     1     2     3   4이상\n",
       "타 상품 보유 현황                        \n",
       "1           4283     0     0     0\n",
       "2              0  3017     0     0\n",
       "3              0     0  1545     0\n",
       "4이상            0     0     0  3155"
      ]
     },
     "execution_count": 208,
     "metadata": {},
     "output_type": "execute_result"
    }
   ],
   "source": [
    "pd.crosstab(index=data['타 상품 보유 현황'], columns=data['타 상품 보유 현황'])"
   ]
  },
  {
   "cell_type": "code",
   "execution_count": 80,
   "id": "85d2e701-08da-414e-816d-8173d81d6bb9",
   "metadata": {},
   "outputs": [],
   "source": [
    "# pd.crosstab(index, columns, values=None, rownames=None, colnames=None, aggfunc=None, margins=False, margins_name='All', dropna=True, normalize=False)"
   ]
  },
  {
   "cell_type": "markdown",
   "id": "833b1a08",
   "metadata": {
    "id": "833b1a08"
   },
   "source": [
    "<b>**'타상품 보유' 변수에 대해 간단하게 탐색한 내용을 아래 주석으로 적어보자!**"
   ]
  },
  {
   "cell_type": "code",
   "execution_count": null,
   "id": "1a2282fa",
   "metadata": {
    "id": "1a2282fa"
   },
   "outputs": [],
   "source": [
    "# 1개만 가입한 사람보다 여러개를 가지고 있는 사람의 비율이 더 많다 > 패키지 상품을 준비한다\n",
    "# 1개만 가입한 사람의 비율이 가장 높다 > 올인원 상품을 준비해 다른 고객층도 흡수한다.\n",
    "\n",
    "#>> 올인원 상품은 이탈율 증가로 야기될 수 있음."
   ]
  },
  {
   "cell_type": "markdown",
   "id": "651cfc5d-70a0-4066-b73e-61be50b18a4e",
   "metadata": {
    "id": "651cfc5d-70a0-4066-b73e-61be50b18a4e"
   },
   "source": [
    "### 5) 총지불금액\n",
    "* 연속형/수치형 컬럼이기 때문에 histplot으로 데이터 확인해보기"
   ]
  },
  {
   "cell_type": "code",
   "execution_count": 70,
   "id": "a69c6372-034a-4bab-82a0-9fb80de7ef3a",
   "metadata": {
    "id": "a69c6372-034a-4bab-82a0-9fb80de7ef3a",
    "tags": []
   },
   "outputs": [
    {
     "data": {
      "image/png": "[encoded data removed]",
      "text/plain": [
       "<Figure size 1200x800 with 1 Axes>"
      ]
     },
     "metadata": {},
     "output_type": "display_data"
    }
   ],
   "source": [
    "#[문제 26] 히스토그램으로 '총지불금액'에 대한 그래프를 그려보자.\n",
    "# bins = 30, kde = True로 설정해서 한번 보자\n",
    "plt.figure(figsize=(12,8))\n",
    "sns.histplot(data['총지불금액'],bins=30,kde=True)\n",
    "plt.grid()\n",
    "plt.show()"
   ]
  },
  {
   "cell_type": "code",
   "execution_count": 71,
   "id": "81546e9a",
   "metadata": {
    "id": "81546e9a"
   },
   "outputs": [
    {
     "data": {
      "text/html": [
       "<div>\n",
       "<style scoped>\n",
       "    .dataframe tbody tr th:only-of-type {\n",
       "        vertical-align: middle;\n",
       "    }\n",
       "\n",
       "    .dataframe tbody tr th {\n",
       "        vertical-align: top;\n",
       "    }\n",
       "\n",
       "    .dataframe thead th {\n",
       "        text-align: right;\n",
       "    }\n",
       "</style>\n",
       "<table border=\"1\" class=\"dataframe\">\n",
       "  <thead>\n",
       "    <tr style=\"text-align: right;\">\n",
       "      <th></th>\n",
       "      <th>count</th>\n",
       "      <th>mean</th>\n",
       "      <th>std</th>\n",
       "      <th>min</th>\n",
       "      <th>25%</th>\n",
       "      <th>50%</th>\n",
       "      <th>75%</th>\n",
       "      <th>max</th>\n",
       "    </tr>\n",
       "  </thead>\n",
       "  <tbody>\n",
       "    <tr>\n",
       "      <th>총지불금액</th>\n",
       "      <td>12000.0</td>\n",
       "      <td>535585.416667</td>\n",
       "      <td>358799.286205</td>\n",
       "      <td>0.0</td>\n",
       "      <td>336000.0</td>\n",
       "      <td>474000.0</td>\n",
       "      <td>679000.0</td>\n",
       "      <td>3573000.0</td>\n",
       "    </tr>\n",
       "  </tbody>\n",
       "</table>\n",
       "</div>"
      ],
      "text/plain": [
       "         count           mean            std  min       25%       50%  \\\n",
       "총지불금액  12000.0  535585.416667  358799.286205  0.0  336000.0  474000.0   \n",
       "\n",
       "            75%        max  \n",
       "총지불금액  679000.0  3573000.0  "
      ]
     },
     "execution_count": 71,
     "metadata": {},
     "output_type": "execute_result"
    }
   ],
   "source": [
    "#[문제 27] '총지불금액'의 평균값을 확인해보자(describe 사용)\n",
    "\n",
    "feature = '총지불금액'\n",
    "data[[feature]].describe().T"
   ]
  },
  {
   "cell_type": "markdown",
   "id": "e0c6533c",
   "metadata": {
    "id": "e0c6533c"
   },
   "source": [
    "<b>**'총 지불 금액' 변수에 대해 간단하게 탐색한 내용을 아래 주석으로 적어보자!**"
   ]
  },
  {
   "cell_type": "code",
   "execution_count": null,
   "id": "3080fd58",
   "metadata": {
    "id": "3080fd58"
   },
   "outputs": [],
   "source": []
  },
  {
   "cell_type": "markdown",
   "id": "0ebd3904-3440-4803-9f26-a0fd1c26585b",
   "metadata": {
    "id": "0ebd3904-3440-4803-9f26-a0fd1c26585b"
   },
   "source": [
    "# **4. Mission 1-변수 탐색 결론**\n",
    "\n",
    "* 수치형 컬럼 이외에도, 주요 변수 중 object 형태의 컬럼이 존재\n",
    "* 수치형 컬럼은 단위가 각각 다르므로 스케일링 고려 필요\n",
    "* 범주형 컬럼은 인코딩을 통해서 모델링을 위한 변환이 필요"
   ]
  },
  {
   "cell_type": "markdown",
   "id": "20862d40-9449-4c1f-8393-21f21ac370bd",
   "metadata": {
    "id": "20862d40-9449-4c1f-8393-21f21ac370bd"
   },
   "source": [
    "<font color=\"1E90FF\"><b>→ 데이터를 확인하고 탐색하여 전처리의 방향성 및 feature 값에 대한 이해 증대<b><br>\n",
    "    "
   ]
  },
  {
   "cell_type": "markdown",
   "id": "9c905b4f",
   "metadata": {
    "id": "9c905b4f"
   },
   "source": [
    "# <b>Mission 1 완료!\n",
    "수고하셨습니다!"
   ]
  }
 ],
 "metadata": {
  "colab": {
   "provenance": [],
   "toc_visible": true
  },
  "kernelspec": {
   "display_name": "Python 3 (ipykernel)",
   "language": "python",
   "name": "python3"
  },
  "language_info": {
   "codemirror_mode": {
    "name": "ipython",
    "version": 3
   },
   "file_extension": ".py",
   "mimetype": "text/x-python",
   "name": "python",
   "nbconvert_exporter": "python",
   "pygments_lexer": "ipython3",
   "version": "3.12.4"
  }
 },
 "nbformat": 4,
 "nbformat_minor": 5
}
