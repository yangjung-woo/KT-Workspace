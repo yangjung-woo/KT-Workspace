{
 "cells": [
  {
   "cell_type": "markdown",
   "metadata": {
    "id": "NbI_RoQ9AP5r"
   },
   "source": [
    "#**스마트폰 센서 데이터 기반 모션 분류**\n",
    "# 단계3 : 단계별 모델링\n"
   ]
  },
  {
   "cell_type": "markdown",
   "metadata": {
    "id": "D67PlTu4JGAY"
   },
   "source": [
    "## 0.미션"
   ]
  },
  {
   "cell_type": "markdown",
   "metadata": {
    "id": "6bG_m4jk7-ur"
   },
   "source": [
    "* 나만의 앙상블 모델 만들기.\n",
    "    * 1. 다양한 종류의 모델을 생성(미션3에서 생성한 모델 활용)\n",
    "    * 2. 각 모델을 통합하여 예측하는 앙상블 모델링\n",
    "        * Voting, Stacking\n",
    "        * 앙상블을 위한 다양한 시도를 해 봅시다.\n",
    "            - 예① : 미션3에서 생성한 모델을 이용한 앙상블\n",
    "            - 예② : Random Jungle!(Random Forest 여러 개로 예측하는 모델)\n",
    "\n",
    "* 파이프라인 구축\n",
    "    * 테스트 데이터를 입력하면, 전처리 + 예측 예측결과가 나오도록 파이프라인을 구성합니다.\n",
    "\n",
    "* 성능 가이드\n",
    "    * Accuracy : 0.97 ~\n"
   ]
  },
  {
   "cell_type": "markdown",
   "metadata": {
    "id": "NCptKiLOAn7l"
   },
   "source": [
    "## 1.환경설정"
   ]
  },
  {
   "cell_type": "markdown",
   "metadata": {
    "id": "FtQrjk1u8Bdw"
   },
   "source": [
    "* 세부 요구사항\n",
    "    - 경로 설정 : 로컬 수행(Ananconda)\n",
    "        * 제공된 압축파일을 다운받아 압축을 풀고\n",
    "        * anaconda의 root directory(보통 C:/Users/< ID > 에 project3_1 폴더를 만들고, 복사해 넣습니다.\n",
    "    - 기본적으로 필요한 라이브러리를 import 하도록 코드가 작성되어 있습니다.\n",
    "        * 필요하다고 판단되는 라이브러리를 추가하세요.\n"
   ]
  },
  {
   "cell_type": "markdown",
   "metadata": {
    "id": "KnzVh2LmkLDU"
   },
   "source": [
    "### (1) 라이브러리 로딩"
   ]
  },
  {
   "cell_type": "code",
   "execution_count": 42,
   "metadata": {
    "id": "3rsQerEaELwI"
   },
   "outputs": [],
   "source": [
    "import pandas as pd\n",
    "import numpy as np\n",
    "import matplotlib.pyplot as plt\n",
    "import seaborn as sns\n",
    "from tqdm.auto import tqdm\n",
    "import warnings\n",
    "warnings.filterwarnings('ignore')\n",
    "\n",
    "import joblib\n",
    "from sklearn.ensemble import StackingClassifier, VotingClassifier, RandomForestClassifier\n",
    "\n",
    "# 필요한 라이브러리, 함수 로딩 ------------------\n",
    "from sklearn.model_selection import train_test_split\n",
    "from sklearn.metrics import *\n",
    "from sklearn.preprocessing import MinMaxScaler\n",
    "from sklearn.linear_model import LogisticRegression"
   ]
  },
  {
   "cell_type": "markdown",
   "metadata": {
    "id": "mlBhkYHQ491o"
   },
   "source": [
    "* 제공 함수 생성\n",
    "    * 변수 중요도를 시각화할 수 있는 함수를 제공합니다.\n",
    "    * 입력 :\n",
    "        * importance : 트리모델의 변수 중요도(예: model.feature_importances_)\n",
    "        * names : 변수 이름 목록(예 : x_train.columns\n",
    "        * result_only  : 변수 중요도 순으로 데이터프레임만 return할지, 그래프도 포함할지 결정. False이면 결과 데이터프레임 + 그래프\n",
    "        * topn : 중요도 상위 n개만 표시. all 이면 전체.\n",
    "    * 출력 :\n",
    "        * 중요도 그래프 : 중요도 내림차순으로 정렬\n",
    "        * 중요도 데이터프레임 : 중요도 내림차순으로 정렬"
   ]
  },
  {
   "cell_type": "code",
   "execution_count": 2,
   "metadata": {
    "id": "EyMZDIT-aDHZ"
   },
   "outputs": [],
   "source": [
    "# 변수의 특성 중요도 계산하기\n",
    "def plot_feature_importance(importance, names, result_only = False, topn = 'all'):\n",
    "    feature_importance = np.array(importance)\n",
    "    feature_name = np.array(names)\n",
    "\n",
    "    data={'feature_name':feature_name,'feature_importance':feature_importance}\n",
    "    fi_temp = pd.DataFrame(data)\n",
    "\n",
    "    #변수의 특성 중요도 순으로 정렬하기\n",
    "    fi_temp.sort_values(by=['feature_importance'], ascending=False,inplace=True)\n",
    "    fi_temp.reset_index(drop=True, inplace = True)\n",
    "\n",
    "    if topn == 'all' :\n",
    "        fi_df = fi_temp.copy()\n",
    "    else :\n",
    "        fi_df = fi_temp.iloc[:topn]\n",
    "\n",
    "    #변수의 특성 중요도 그래프로 그리기\n",
    "    if result_only == False :\n",
    "        plt.figure(figsize=(10,20))\n",
    "        sns.barplot(x='feature_importance', y='feature_name', data = fi_df)\n",
    "\n",
    "        plt.xlabel('importance')\n",
    "        plt.ylabel('feature name')\n",
    "        plt.grid()\n",
    "\n",
    "    return fi_df"
   ]
  },
  {
   "cell_type": "markdown",
   "metadata": {
    "id": "t3pKgA7_qfRB"
   },
   "source": [
    "### (2) 데이터 불러오기"
   ]
  },
  {
   "cell_type": "markdown",
   "metadata": {
    "id": "HwIACQyupklv"
   },
   "source": [
    "* 주어진 데이터셋\n",
    "    * data01_train.csv : 학습 및 검증용\n",
    "    * data01_test.csv : 테스트용\n",
    "    \n",
    "* 세부 요구사항\n",
    "    * 칼럼 삭제 : data01_train.csv와 data01_test.csv 에서 'subject' 칼럼은 불필요하므로 삭제합니다."
   ]
  },
  {
   "cell_type": "markdown",
   "metadata": {
    "id": "fmgUEGOipvG5"
   },
   "source": [
    "#### 1) 데이터로딩"
   ]
  },
  {
   "cell_type": "code",
   "execution_count": 21,
   "metadata": {
    "id": "HdZCcSs6qfRC"
   },
   "outputs": [],
   "source": [
    "file1 = 'data01_train.csv'\n",
    "file2 = 'data01_test.csv'"
   ]
  },
  {
   "cell_type": "code",
   "execution_count": 22,
   "metadata": {
    "id": "V8tUE_fyqfRC"
   },
   "outputs": [],
   "source": [
    "data = pd.read_csv(file1)\n",
    "test = pd.read_csv(file2)"
   ]
  },
  {
   "cell_type": "code",
   "execution_count": 23,
   "metadata": {
    "id": "FcUbOi_-qfRC"
   },
   "outputs": [],
   "source": [
    "# 불필요한 칼럼 삭제\n",
    "data.drop('subject', axis=1, inplace=True)\n",
    "test.drop('subject', axis=1, inplace=True)"
   ]
  },
  {
   "cell_type": "markdown",
   "metadata": {
    "id": "aI7qJqz3pr3m"
   },
   "source": [
    "#### 2) 기본 정보 조회"
   ]
  },
  {
   "cell_type": "code",
   "execution_count": 24,
   "metadata": {
    "id": "yFVSAGNhpr3m"
   },
   "outputs": [
    {
     "data": {
      "text/plain": [
       "(5881, 562)"
      ]
     },
     "execution_count": 24,
     "metadata": {},
     "output_type": "execute_result"
    }
   ],
   "source": [
    "#전체 데이터의 행,열 개수 확인\n",
    "data.shape"
   ]
  },
  {
   "cell_type": "code",
   "execution_count": 25,
   "metadata": {
    "id": "xJnnr8K-pr3m"
   },
   "outputs": [
    {
     "data": {
      "text/html": [
       "<div>\n",
       "<style scoped>\n",
       "    .dataframe tbody tr th:only-of-type {\n",
       "        vertical-align: middle;\n",
       "    }\n",
       "\n",
       "    .dataframe tbody tr th {\n",
       "        vertical-align: top;\n",
       "    }\n",
       "\n",
       "    .dataframe thead th {\n",
       "        text-align: right;\n",
       "    }\n",
       "</style>\n",
       "<table border=\"1\" class=\"dataframe\">\n",
       "  <thead>\n",
       "    <tr style=\"text-align: right;\">\n",
       "      <th></th>\n",
       "      <th>tBodyAcc-mean()-X</th>\n",
       "      <th>tBodyAcc-mean()-Y</th>\n",
       "      <th>tBodyAcc-mean()-Z</th>\n",
       "      <th>tBodyAcc-std()-X</th>\n",
       "      <th>tBodyAcc-std()-Y</th>\n",
       "      <th>tBodyAcc-std()-Z</th>\n",
       "      <th>tBodyAcc-mad()-X</th>\n",
       "      <th>tBodyAcc-mad()-Y</th>\n",
       "      <th>tBodyAcc-mad()-Z</th>\n",
       "      <th>tBodyAcc-max()-X</th>\n",
       "      <th>...</th>\n",
       "      <th>fBodyBodyGyroJerkMag-skewness()</th>\n",
       "      <th>fBodyBodyGyroJerkMag-kurtosis()</th>\n",
       "      <th>angle(tBodyAccMean,gravity)</th>\n",
       "      <th>angle(tBodyAccJerkMean),gravityMean)</th>\n",
       "      <th>angle(tBodyGyroMean,gravityMean)</th>\n",
       "      <th>angle(tBodyGyroJerkMean,gravityMean)</th>\n",
       "      <th>angle(X,gravityMean)</th>\n",
       "      <th>angle(Y,gravityMean)</th>\n",
       "      <th>angle(Z,gravityMean)</th>\n",
       "      <th>Activity</th>\n",
       "    </tr>\n",
       "  </thead>\n",
       "  <tbody>\n",
       "    <tr>\n",
       "      <th>0</th>\n",
       "      <td>0.288508</td>\n",
       "      <td>-0.009196</td>\n",
       "      <td>-0.103362</td>\n",
       "      <td>-0.988986</td>\n",
       "      <td>-0.962797</td>\n",
       "      <td>-0.967422</td>\n",
       "      <td>-0.989000</td>\n",
       "      <td>-0.962596</td>\n",
       "      <td>-0.965650</td>\n",
       "      <td>-0.929747</td>\n",
       "      <td>...</td>\n",
       "      <td>-0.487737</td>\n",
       "      <td>-0.816696</td>\n",
       "      <td>-0.042494</td>\n",
       "      <td>-0.044218</td>\n",
       "      <td>0.307873</td>\n",
       "      <td>0.072790</td>\n",
       "      <td>-0.601120</td>\n",
       "      <td>0.331298</td>\n",
       "      <td>0.165163</td>\n",
       "      <td>STANDING</td>\n",
       "    </tr>\n",
       "    <tr>\n",
       "      <th>1</th>\n",
       "      <td>0.265757</td>\n",
       "      <td>-0.016576</td>\n",
       "      <td>-0.098163</td>\n",
       "      <td>-0.989551</td>\n",
       "      <td>-0.994636</td>\n",
       "      <td>-0.987435</td>\n",
       "      <td>-0.990189</td>\n",
       "      <td>-0.993870</td>\n",
       "      <td>-0.987558</td>\n",
       "      <td>-0.937337</td>\n",
       "      <td>...</td>\n",
       "      <td>-0.237820</td>\n",
       "      <td>-0.693515</td>\n",
       "      <td>-0.062899</td>\n",
       "      <td>0.388459</td>\n",
       "      <td>-0.765014</td>\n",
       "      <td>0.771524</td>\n",
       "      <td>0.345205</td>\n",
       "      <td>-0.769186</td>\n",
       "      <td>-0.147944</td>\n",
       "      <td>LAYING</td>\n",
       "    </tr>\n",
       "    <tr>\n",
       "      <th>2</th>\n",
       "      <td>0.278709</td>\n",
       "      <td>-0.014511</td>\n",
       "      <td>-0.108717</td>\n",
       "      <td>-0.997720</td>\n",
       "      <td>-0.981088</td>\n",
       "      <td>-0.994008</td>\n",
       "      <td>-0.997934</td>\n",
       "      <td>-0.982187</td>\n",
       "      <td>-0.995017</td>\n",
       "      <td>-0.942584</td>\n",
       "      <td>...</td>\n",
       "      <td>-0.535287</td>\n",
       "      <td>-0.829311</td>\n",
       "      <td>0.000265</td>\n",
       "      <td>-0.525022</td>\n",
       "      <td>-0.891875</td>\n",
       "      <td>0.021528</td>\n",
       "      <td>-0.833564</td>\n",
       "      <td>0.202434</td>\n",
       "      <td>-0.032755</td>\n",
       "      <td>STANDING</td>\n",
       "    </tr>\n",
       "    <tr>\n",
       "      <th>3</th>\n",
       "      <td>0.289795</td>\n",
       "      <td>-0.035536</td>\n",
       "      <td>-0.150354</td>\n",
       "      <td>-0.231727</td>\n",
       "      <td>-0.006412</td>\n",
       "      <td>-0.338117</td>\n",
       "      <td>-0.273557</td>\n",
       "      <td>0.014245</td>\n",
       "      <td>-0.347916</td>\n",
       "      <td>0.008288</td>\n",
       "      <td>...</td>\n",
       "      <td>-0.004012</td>\n",
       "      <td>-0.408956</td>\n",
       "      <td>-0.255125</td>\n",
       "      <td>0.612804</td>\n",
       "      <td>0.747381</td>\n",
       "      <td>-0.072944</td>\n",
       "      <td>-0.695819</td>\n",
       "      <td>0.287154</td>\n",
       "      <td>0.111388</td>\n",
       "      <td>WALKING</td>\n",
       "    </tr>\n",
       "    <tr>\n",
       "      <th>4</th>\n",
       "      <td>0.394807</td>\n",
       "      <td>0.034098</td>\n",
       "      <td>0.091229</td>\n",
       "      <td>0.088489</td>\n",
       "      <td>-0.106636</td>\n",
       "      <td>-0.388502</td>\n",
       "      <td>-0.010469</td>\n",
       "      <td>-0.109680</td>\n",
       "      <td>-0.346372</td>\n",
       "      <td>0.584131</td>\n",
       "      <td>...</td>\n",
       "      <td>-0.157832</td>\n",
       "      <td>-0.563437</td>\n",
       "      <td>-0.044344</td>\n",
       "      <td>-0.845268</td>\n",
       "      <td>-0.974650</td>\n",
       "      <td>-0.887846</td>\n",
       "      <td>-0.705029</td>\n",
       "      <td>0.264952</td>\n",
       "      <td>0.137758</td>\n",
       "      <td>WALKING_DOWNSTAIRS</td>\n",
       "    </tr>\n",
       "  </tbody>\n",
       "</table>\n",
       "<p>5 rows × 562 columns</p>\n",
       "</div>"
      ],
      "text/plain": [
       "   tBodyAcc-mean()-X  tBodyAcc-mean()-Y  tBodyAcc-mean()-Z  tBodyAcc-std()-X  \\\n",
       "0           0.288508          -0.009196          -0.103362         -0.988986   \n",
       "1           0.265757          -0.016576          -0.098163         -0.989551   \n",
       "2           0.278709          -0.014511          -0.108717         -0.997720   \n",
       "3           0.289795          -0.035536          -0.150354         -0.231727   \n",
       "4           0.394807           0.034098           0.091229          0.088489   \n",
       "\n",
       "   tBodyAcc-std()-Y  tBodyAcc-std()-Z  tBodyAcc-mad()-X  tBodyAcc-mad()-Y  \\\n",
       "0         -0.962797         -0.967422         -0.989000         -0.962596   \n",
       "1         -0.994636         -0.987435         -0.990189         -0.993870   \n",
       "2         -0.981088         -0.994008         -0.997934         -0.982187   \n",
       "3         -0.006412         -0.338117         -0.273557          0.014245   \n",
       "4         -0.106636         -0.388502         -0.010469         -0.109680   \n",
       "\n",
       "   tBodyAcc-mad()-Z  tBodyAcc-max()-X  ...  fBodyBodyGyroJerkMag-skewness()  \\\n",
       "0         -0.965650         -0.929747  ...                        -0.487737   \n",
       "1         -0.987558         -0.937337  ...                        -0.237820   \n",
       "2         -0.995017         -0.942584  ...                        -0.535287   \n",
       "3         -0.347916          0.008288  ...                        -0.004012   \n",
       "4         -0.346372          0.584131  ...                        -0.157832   \n",
       "\n",
       "   fBodyBodyGyroJerkMag-kurtosis()  angle(tBodyAccMean,gravity)  \\\n",
       "0                        -0.816696                    -0.042494   \n",
       "1                        -0.693515                    -0.062899   \n",
       "2                        -0.829311                     0.000265   \n",
       "3                        -0.408956                    -0.255125   \n",
       "4                        -0.563437                    -0.044344   \n",
       "\n",
       "   angle(tBodyAccJerkMean),gravityMean)  angle(tBodyGyroMean,gravityMean)  \\\n",
       "0                             -0.044218                          0.307873   \n",
       "1                              0.388459                         -0.765014   \n",
       "2                             -0.525022                         -0.891875   \n",
       "3                              0.612804                          0.747381   \n",
       "4                             -0.845268                         -0.974650   \n",
       "\n",
       "   angle(tBodyGyroJerkMean,gravityMean)  angle(X,gravityMean)  \\\n",
       "0                              0.072790             -0.601120   \n",
       "1                              0.771524              0.345205   \n",
       "2                              0.021528             -0.833564   \n",
       "3                             -0.072944             -0.695819   \n",
       "4                             -0.887846             -0.705029   \n",
       "\n",
       "   angle(Y,gravityMean)  angle(Z,gravityMean)            Activity  \n",
       "0              0.331298              0.165163            STANDING  \n",
       "1             -0.769186             -0.147944              LAYING  \n",
       "2              0.202434             -0.032755            STANDING  \n",
       "3              0.287154              0.111388             WALKING  \n",
       "4              0.264952              0.137758  WALKING_DOWNSTAIRS  \n",
       "\n",
       "[5 rows x 562 columns]"
      ]
     },
     "execution_count": 25,
     "metadata": {},
     "output_type": "execute_result"
    }
   ],
   "source": [
    "#전체 데이터의 상위 5개 행 확인\n",
    "data.head()"
   ]
  },
  {
   "cell_type": "code",
   "execution_count": 26,
   "metadata": {
    "id": "ajJ1qJkhpr3n"
   },
   "outputs": [
    {
     "data": {
      "text/html": [
       "<div>\n",
       "<style scoped>\n",
       "    .dataframe tbody tr th:only-of-type {\n",
       "        vertical-align: middle;\n",
       "    }\n",
       "\n",
       "    .dataframe tbody tr th {\n",
       "        vertical-align: top;\n",
       "    }\n",
       "\n",
       "    .dataframe thead th {\n",
       "        text-align: right;\n",
       "    }\n",
       "</style>\n",
       "<table border=\"1\" class=\"dataframe\">\n",
       "  <thead>\n",
       "    <tr style=\"text-align: right;\">\n",
       "      <th></th>\n",
       "      <th>tBodyAcc-mean()-X</th>\n",
       "      <th>tBodyAcc-mean()-Y</th>\n",
       "      <th>tBodyAcc-mean()-Z</th>\n",
       "      <th>tBodyAcc-std()-X</th>\n",
       "      <th>tBodyAcc-std()-Y</th>\n",
       "      <th>tBodyAcc-std()-Z</th>\n",
       "      <th>tBodyAcc-mad()-X</th>\n",
       "      <th>tBodyAcc-mad()-Y</th>\n",
       "      <th>tBodyAcc-mad()-Z</th>\n",
       "      <th>tBodyAcc-max()-X</th>\n",
       "      <th>...</th>\n",
       "      <th>fBodyBodyGyroJerkMag-meanFreq()</th>\n",
       "      <th>fBodyBodyGyroJerkMag-skewness()</th>\n",
       "      <th>fBodyBodyGyroJerkMag-kurtosis()</th>\n",
       "      <th>angle(tBodyAccMean,gravity)</th>\n",
       "      <th>angle(tBodyAccJerkMean),gravityMean)</th>\n",
       "      <th>angle(tBodyGyroMean,gravityMean)</th>\n",
       "      <th>angle(tBodyGyroJerkMean,gravityMean)</th>\n",
       "      <th>angle(X,gravityMean)</th>\n",
       "      <th>angle(Y,gravityMean)</th>\n",
       "      <th>angle(Z,gravityMean)</th>\n",
       "    </tr>\n",
       "  </thead>\n",
       "  <tbody>\n",
       "    <tr>\n",
       "      <th>count</th>\n",
       "      <td>5881.000000</td>\n",
       "      <td>5881.000000</td>\n",
       "      <td>5881.000000</td>\n",
       "      <td>5881.000000</td>\n",
       "      <td>5881.000000</td>\n",
       "      <td>5881.000000</td>\n",
       "      <td>5881.000000</td>\n",
       "      <td>5881.000000</td>\n",
       "      <td>5881.000000</td>\n",
       "      <td>5881.000000</td>\n",
       "      <td>...</td>\n",
       "      <td>5881.000000</td>\n",
       "      <td>5881.000000</td>\n",
       "      <td>5881.000000</td>\n",
       "      <td>5881.000000</td>\n",
       "      <td>5881.000000</td>\n",
       "      <td>5881.000000</td>\n",
       "      <td>5881.000000</td>\n",
       "      <td>5881.000000</td>\n",
       "      <td>5881.000000</td>\n",
       "      <td>5881.000000</td>\n",
       "    </tr>\n",
       "    <tr>\n",
       "      <th>mean</th>\n",
       "      <td>0.274811</td>\n",
       "      <td>-0.017799</td>\n",
       "      <td>-0.109396</td>\n",
       "      <td>-0.603138</td>\n",
       "      <td>-0.509815</td>\n",
       "      <td>-0.604058</td>\n",
       "      <td>-0.628151</td>\n",
       "      <td>-0.525944</td>\n",
       "      <td>-0.605374</td>\n",
       "      <td>-0.465490</td>\n",
       "      <td>...</td>\n",
       "      <td>0.126955</td>\n",
       "      <td>-0.305883</td>\n",
       "      <td>-0.623548</td>\n",
       "      <td>0.008524</td>\n",
       "      <td>-0.001185</td>\n",
       "      <td>0.009340</td>\n",
       "      <td>-0.007099</td>\n",
       "      <td>-0.491501</td>\n",
       "      <td>0.059299</td>\n",
       "      <td>-0.054594</td>\n",
       "    </tr>\n",
       "    <tr>\n",
       "      <th>std</th>\n",
       "      <td>0.067614</td>\n",
       "      <td>0.039422</td>\n",
       "      <td>0.058373</td>\n",
       "      <td>0.448807</td>\n",
       "      <td>0.501815</td>\n",
       "      <td>0.417319</td>\n",
       "      <td>0.424345</td>\n",
       "      <td>0.485115</td>\n",
       "      <td>0.413043</td>\n",
       "      <td>0.544995</td>\n",
       "      <td>...</td>\n",
       "      <td>0.249176</td>\n",
       "      <td>0.322808</td>\n",
       "      <td>0.310371</td>\n",
       "      <td>0.339730</td>\n",
       "      <td>0.447197</td>\n",
       "      <td>0.608190</td>\n",
       "      <td>0.476738</td>\n",
       "      <td>0.509069</td>\n",
       "      <td>0.297340</td>\n",
       "      <td>0.278479</td>\n",
       "    </tr>\n",
       "    <tr>\n",
       "      <th>min</th>\n",
       "      <td>-0.503823</td>\n",
       "      <td>-0.684893</td>\n",
       "      <td>-1.000000</td>\n",
       "      <td>-1.000000</td>\n",
       "      <td>-0.999844</td>\n",
       "      <td>-0.999667</td>\n",
       "      <td>-1.000000</td>\n",
       "      <td>-0.999419</td>\n",
       "      <td>-1.000000</td>\n",
       "      <td>-1.000000</td>\n",
       "      <td>...</td>\n",
       "      <td>-0.965725</td>\n",
       "      <td>-0.979261</td>\n",
       "      <td>-0.999765</td>\n",
       "      <td>-0.976580</td>\n",
       "      <td>-1.000000</td>\n",
       "      <td>-1.000000</td>\n",
       "      <td>-1.000000</td>\n",
       "      <td>-1.000000</td>\n",
       "      <td>-1.000000</td>\n",
       "      <td>-0.980143</td>\n",
       "    </tr>\n",
       "    <tr>\n",
       "      <th>25%</th>\n",
       "      <td>0.262919</td>\n",
       "      <td>-0.024877</td>\n",
       "      <td>-0.121051</td>\n",
       "      <td>-0.992774</td>\n",
       "      <td>-0.977680</td>\n",
       "      <td>-0.980127</td>\n",
       "      <td>-0.993602</td>\n",
       "      <td>-0.977865</td>\n",
       "      <td>-0.980112</td>\n",
       "      <td>-0.936067</td>\n",
       "      <td>...</td>\n",
       "      <td>-0.021610</td>\n",
       "      <td>-0.541969</td>\n",
       "      <td>-0.845985</td>\n",
       "      <td>-0.122361</td>\n",
       "      <td>-0.294369</td>\n",
       "      <td>-0.481718</td>\n",
       "      <td>-0.373345</td>\n",
       "      <td>-0.811397</td>\n",
       "      <td>-0.018203</td>\n",
       "      <td>-0.141555</td>\n",
       "    </tr>\n",
       "    <tr>\n",
       "      <th>50%</th>\n",
       "      <td>0.277154</td>\n",
       "      <td>-0.017221</td>\n",
       "      <td>-0.108781</td>\n",
       "      <td>-0.943933</td>\n",
       "      <td>-0.844575</td>\n",
       "      <td>-0.856352</td>\n",
       "      <td>-0.948501</td>\n",
       "      <td>-0.849266</td>\n",
       "      <td>-0.849896</td>\n",
       "      <td>-0.878729</td>\n",
       "      <td>...</td>\n",
       "      <td>0.133887</td>\n",
       "      <td>-0.342923</td>\n",
       "      <td>-0.712677</td>\n",
       "      <td>0.010278</td>\n",
       "      <td>0.005146</td>\n",
       "      <td>0.011448</td>\n",
       "      <td>-0.000847</td>\n",
       "      <td>-0.709441</td>\n",
       "      <td>0.182893</td>\n",
       "      <td>0.003951</td>\n",
       "    </tr>\n",
       "    <tr>\n",
       "      <th>75%</th>\n",
       "      <td>0.288526</td>\n",
       "      <td>-0.010920</td>\n",
       "      <td>-0.098163</td>\n",
       "      <td>-0.242130</td>\n",
       "      <td>-0.034499</td>\n",
       "      <td>-0.262690</td>\n",
       "      <td>-0.291138</td>\n",
       "      <td>-0.068857</td>\n",
       "      <td>-0.268539</td>\n",
       "      <td>-0.013690</td>\n",
       "      <td>...</td>\n",
       "      <td>0.288944</td>\n",
       "      <td>-0.127371</td>\n",
       "      <td>-0.501158</td>\n",
       "      <td>0.154985</td>\n",
       "      <td>0.285030</td>\n",
       "      <td>0.499857</td>\n",
       "      <td>0.356236</td>\n",
       "      <td>-0.511330</td>\n",
       "      <td>0.248435</td>\n",
       "      <td>0.111932</td>\n",
       "    </tr>\n",
       "    <tr>\n",
       "      <th>max</th>\n",
       "      <td>1.000000</td>\n",
       "      <td>1.000000</td>\n",
       "      <td>1.000000</td>\n",
       "      <td>1.000000</td>\n",
       "      <td>0.916238</td>\n",
       "      <td>1.000000</td>\n",
       "      <td>1.000000</td>\n",
       "      <td>0.967664</td>\n",
       "      <td>1.000000</td>\n",
       "      <td>1.000000</td>\n",
       "      <td>...</td>\n",
       "      <td>0.946700</td>\n",
       "      <td>0.989538</td>\n",
       "      <td>0.956845</td>\n",
       "      <td>1.000000</td>\n",
       "      <td>1.000000</td>\n",
       "      <td>0.998702</td>\n",
       "      <td>0.996078</td>\n",
       "      <td>0.977344</td>\n",
       "      <td>0.478157</td>\n",
       "      <td>1.000000</td>\n",
       "    </tr>\n",
       "  </tbody>\n",
       "</table>\n",
       "<p>8 rows × 561 columns</p>\n",
       "</div>"
      ],
      "text/plain": [
       "       tBodyAcc-mean()-X  tBodyAcc-mean()-Y  tBodyAcc-mean()-Z  \\\n",
       "count        5881.000000        5881.000000        5881.000000   \n",
       "mean            0.274811          -0.017799          -0.109396   \n",
       "std             0.067614           0.039422           0.058373   \n",
       "min            -0.503823          -0.684893          -1.000000   \n",
       "25%             0.262919          -0.024877          -0.121051   \n",
       "50%             0.277154          -0.017221          -0.108781   \n",
       "75%             0.288526          -0.010920          -0.098163   \n",
       "max             1.000000           1.000000           1.000000   \n",
       "\n",
       "       tBodyAcc-std()-X  tBodyAcc-std()-Y  tBodyAcc-std()-Z  tBodyAcc-mad()-X  \\\n",
       "count       5881.000000       5881.000000       5881.000000       5881.000000   \n",
       "mean          -0.603138         -0.509815         -0.604058         -0.628151   \n",
       "std            0.448807          0.501815          0.417319          0.424345   \n",
       "min           -1.000000         -0.999844         -0.999667         -1.000000   \n",
       "25%           -0.992774         -0.977680         -0.980127         -0.993602   \n",
       "50%           -0.943933         -0.844575         -0.856352         -0.948501   \n",
       "75%           -0.242130         -0.034499         -0.262690         -0.291138   \n",
       "max            1.000000          0.916238          1.000000          1.000000   \n",
       "\n",
       "       tBodyAcc-mad()-Y  tBodyAcc-mad()-Z  tBodyAcc-max()-X  ...  \\\n",
       "count       5881.000000       5881.000000       5881.000000  ...   \n",
       "mean          -0.525944         -0.605374         -0.465490  ...   \n",
       "std            0.485115          0.413043          0.544995  ...   \n",
       "min           -0.999419         -1.000000         -1.000000  ...   \n",
       "25%           -0.977865         -0.980112         -0.936067  ...   \n",
       "50%           -0.849266         -0.849896         -0.878729  ...   \n",
       "75%           -0.068857         -0.268539         -0.013690  ...   \n",
       "max            0.967664          1.000000          1.000000  ...   \n",
       "\n",
       "       fBodyBodyGyroJerkMag-meanFreq()  fBodyBodyGyroJerkMag-skewness()  \\\n",
       "count                      5881.000000                      5881.000000   \n",
       "mean                          0.126955                        -0.305883   \n",
       "std                           0.249176                         0.322808   \n",
       "min                          -0.965725                        -0.979261   \n",
       "25%                          -0.021610                        -0.541969   \n",
       "50%                           0.133887                        -0.342923   \n",
       "75%                           0.288944                        -0.127371   \n",
       "max                           0.946700                         0.989538   \n",
       "\n",
       "       fBodyBodyGyroJerkMag-kurtosis()  angle(tBodyAccMean,gravity)  \\\n",
       "count                      5881.000000                  5881.000000   \n",
       "mean                         -0.623548                     0.008524   \n",
       "std                           0.310371                     0.339730   \n",
       "min                          -0.999765                    -0.976580   \n",
       "25%                          -0.845985                    -0.122361   \n",
       "50%                          -0.712677                     0.010278   \n",
       "75%                          -0.501158                     0.154985   \n",
       "max                           0.956845                     1.000000   \n",
       "\n",
       "       angle(tBodyAccJerkMean),gravityMean)  angle(tBodyGyroMean,gravityMean)  \\\n",
       "count                           5881.000000                       5881.000000   \n",
       "mean                              -0.001185                          0.009340   \n",
       "std                                0.447197                          0.608190   \n",
       "min                               -1.000000                         -1.000000   \n",
       "25%                               -0.294369                         -0.481718   \n",
       "50%                                0.005146                          0.011448   \n",
       "75%                                0.285030                          0.499857   \n",
       "max                                1.000000                          0.998702   \n",
       "\n",
       "       angle(tBodyGyroJerkMean,gravityMean)  angle(X,gravityMean)  \\\n",
       "count                           5881.000000           5881.000000   \n",
       "mean                              -0.007099             -0.491501   \n",
       "std                                0.476738              0.509069   \n",
       "min                               -1.000000             -1.000000   \n",
       "25%                               -0.373345             -0.811397   \n",
       "50%                               -0.000847             -0.709441   \n",
       "75%                                0.356236             -0.511330   \n",
       "max                                0.996078              0.977344   \n",
       "\n",
       "       angle(Y,gravityMean)  angle(Z,gravityMean)  \n",
       "count           5881.000000           5881.000000  \n",
       "mean               0.059299             -0.054594  \n",
       "std                0.297340              0.278479  \n",
       "min               -1.000000             -0.980143  \n",
       "25%               -0.018203             -0.141555  \n",
       "50%                0.182893              0.003951  \n",
       "75%                0.248435              0.111932  \n",
       "max                0.478157              1.000000  \n",
       "\n",
       "[8 rows x 561 columns]"
      ]
     },
     "execution_count": 26,
     "metadata": {},
     "output_type": "execute_result"
    }
   ],
   "source": [
    "#전체 데이터의 수치형 변수 분포 확인\n",
    "data.describe()"
   ]
  },
  {
   "cell_type": "code",
   "execution_count": 27,
   "metadata": {
    "id": "Jn78I6JFpr3n"
   },
   "outputs": [
    {
     "data": {
      "text/plain": [
       "Index(['tBodyAcc-mean()-X', 'tBodyAcc-mean()-Y', 'tBodyAcc-mean()-Z',\n",
       "       'tBodyAcc-std()-X', 'tBodyAcc-std()-Y', 'tBodyAcc-std()-Z',\n",
       "       'tBodyAcc-mad()-X', 'tBodyAcc-mad()-Y', 'tBodyAcc-mad()-Z',\n",
       "       'tBodyAcc-max()-X',\n",
       "       ...\n",
       "       'fBodyBodyGyroJerkMag-skewness()', 'fBodyBodyGyroJerkMag-kurtosis()',\n",
       "       'angle(tBodyAccMean,gravity)', 'angle(tBodyAccJerkMean),gravityMean)',\n",
       "       'angle(tBodyGyroMean,gravityMean)',\n",
       "       'angle(tBodyGyroJerkMean,gravityMean)', 'angle(X,gravityMean)',\n",
       "       'angle(Y,gravityMean)', 'angle(Z,gravityMean)', 'Activity'],\n",
       "      dtype='object', length=562)"
      ]
     },
     "execution_count": 27,
     "metadata": {},
     "output_type": "execute_result"
    }
   ],
   "source": [
    "#전체 데이터의 모든 변수 확인\n",
    "data.columns"
   ]
  },
  {
   "cell_type": "markdown",
   "metadata": {
    "id": "6U3UzQGZAS1o"
   },
   "source": [
    "## **2. 데이터 전처리**\n",
    "\n",
    "* 가변수화, 데이터 분할, NaN 확인 및 조치, 스케일링 등 필요한 전처리를 수행한다.\n"
   ]
  },
  {
   "cell_type": "markdown",
   "metadata": {
    "id": "ZecsiT_DAS1p"
   },
   "source": [
    "### (1) 데이터 분할1 : x, y"
   ]
  },
  {
   "cell_type": "markdown",
   "metadata": {
    "id": "H-DxzcJiJS4W"
   },
   "source": [
    "* 세부 요구사항\n",
    "    - x, y로 분할합니다."
   ]
  },
  {
   "cell_type": "code",
   "execution_count": 28,
   "metadata": {
    "id": "qVqd1JJ6Ajaj"
   },
   "outputs": [],
   "source": [
    "drop_cols ='Activity'\n",
    "x = data.drop(columns = drop_cols)\n",
    "y = data.loc[:,drop_cols]\n",
    "\n",
    "x_test = test.drop(columns = drop_cols)\n",
    "y_test= test.loc[:,drop_cols]"
   ]
  },
  {
   "cell_type": "markdown",
   "metadata": {
    "id": "JHOasAKxeLE4"
   },
   "source": [
    "### (2) 데이터분할2 : train, validation"
   ]
  },
  {
   "cell_type": "markdown",
   "metadata": {
    "id": "-RJ9v6I-eLE5"
   },
   "source": [
    "* 세부 요구사항\n",
    "    - train : val = 8 : 2 혹은 7 : 3\n",
    "    - random_state 옵션을 사용하여 다른 모델과 비교를 위해 성능이 재현되도록 합니다."
   ]
  },
  {
   "cell_type": "code",
   "execution_count": 29,
   "metadata": {
    "id": "5Igo4nDVeLE5"
   },
   "outputs": [],
   "source": [
    "x_train , x_val , y_train , y_val = train_test_split(x,y,test_size = 0.3)"
   ]
  },
  {
   "cell_type": "markdown",
   "metadata": {
    "id": "8p2b0l53eLE6"
   },
   "source": [
    "### (3) 스케일링\n"
   ]
  },
  {
   "cell_type": "markdown",
   "metadata": {
    "id": "ygmWouWkeLE6"
   },
   "source": [
    "* 세부 요구사항\n",
    "    - 스케일링을 필요로 하는 알고리즘 사용을 위해서 코드 수행\n",
    "    - min-max 방식 혹은 standard 방식 중 한가지 사용."
   ]
  },
  {
   "cell_type": "code",
   "execution_count": 30,
   "metadata": {
    "id": "g48sUlm8eLE6"
   },
   "outputs": [],
   "source": [
    "scaler = MinMaxScaler()\n",
    "scaler.fit(x_train)\n",
    "x_train = scaler.transform(x_train)\n",
    "x_val = scaler.transform(x_val)\n",
    "x_test = scaler.transform(x_test)"
   ]
  },
  {
   "cell_type": "markdown",
   "metadata": {
    "id": "VYW-bdkwO-9E"
   },
   "source": [
    "### (4) (옵션)KNN을 위한 전처리\n",
    "* KNN은 대량의 데이터에 대한 거리 계산을 할때, 데이터를 연속적인 메모리 블록에 저장하는 것이 중요합니다.\n",
    "* c_contiguous 속성을 요구"
   ]
  },
  {
   "cell_type": "code",
   "execution_count": 31,
   "metadata": {
    "id": "CPSyKEoOO-9E",
    "tags": []
   },
   "outputs": [],
   "source": [
    "x_train = np.ascontiguousarray(x_train)\n",
    "x_val = np.ascontiguousarray(x_val)"
   ]
  },
  {
   "cell_type": "markdown",
   "metadata": {},
   "source": [
    "### (5) (옵션) Activity 범주 0~5 변경"
   ]
  },
  {
   "cell_type": "code",
   "execution_count": 32,
   "metadata": {},
   "outputs": [],
   "source": [
    "activity_mapping = {\n",
    "    'LAYING': 0,\n",
    "    'STANDING': 1,\n",
    "    'SITTING': 2,\n",
    "    'WALKING': 3,\n",
    "    'WALKING_UPSTAIRS': 4,\n",
    "    'WALKING_DOWNSTAIRS': 5\n",
    "}\n",
    "y_train = y_train.map(activity_mapping)\n",
    "y_val = y_val.map(activity_mapping)\n",
    "y_test = y_test.map(activity_mapping)"
   ]
  },
  {
   "cell_type": "markdown",
   "metadata": {
    "id": "bue7ZTLABQzi"
   },
   "source": [
    "## **3.앙상블 모델링**\n",
    "* Voting 혹은 Stacking 방식의 앙상블 모델을 구성하고 성능을 평가해 봅시다.\n"
   ]
  },
  {
   "cell_type": "markdown",
   "metadata": {
    "id": "dpEHt7u4CXlb"
   },
   "source": [
    "### (1) 모델 로딩하기"
   ]
  },
  {
   "cell_type": "markdown",
   "metadata": {
    "id": "8onfbGBbh1jr"
   },
   "source": [
    "* 세부 요구사항\n",
    "    * 2.기본 모델링 파일에서 저장한 모델을 로딩합니다.(joblib.load)\n"
   ]
  },
  {
   "cell_type": "code",
   "execution_count": 34,
   "metadata": {
    "id": "ag_PyDchLquV",
    "tags": []
   },
   "outputs": [],
   "source": [
    "model_knn = joblib.load('best_knn_model.pkl')\n",
    "model_svm = joblib.load('best_svm_model.pkl')\n",
    "model_log = joblib.load('best_log_model.pkl')\n",
    "model_lgbm = joblib.load('best_lgbm_model.pkl')"
   ]
  },
  {
   "cell_type": "markdown",
   "metadata": {
    "id": "ShM5xWkwC3YE"
   },
   "source": [
    "### (2) 앙상블 모델 생성"
   ]
  },
  {
   "cell_type": "markdown",
   "metadata": {},
   "source": [
    "#### ① 하드보팅"
   ]
  },
  {
   "cell_type": "code",
   "execution_count": 35,
   "metadata": {
    "id": "urJ9qWMuWDbZ",
    "tags": []
   },
   "outputs": [],
   "source": [
    "# 하드보팅을 위한 앙상블 모델\n",
    "base_models = [\n",
    "    ('knn', model_knn),\n",
    "    ('svm', model_svm),\n",
    "    ('logistic', model_log),\n",
    "    ('lgbm', model_lgbm)\n",
    "]"
   ]
  },
  {
   "cell_type": "code",
   "execution_count": 36,
   "metadata": {
    "id": "VpMhvQcVy43H",
    "tags": []
   },
   "outputs": [
    {
     "name": "stdout",
     "output_type": "stream",
     "text": [
      "============평가 결과==================\n",
      "[[292   0   0   0   0   0]\n",
      " [  0 284   3   0   0   0]\n",
      " [  0  13 241   0   0   0]\n",
      " [  0   0   0 228   0   0]\n",
      " [  0   0   0   1 214   0]\n",
      " [  0   0   0   0   0 195]]\n",
      "============Classification Report============ \n",
      "               precision    recall  f1-score   support\n",
      "\n",
      "           0       1.00      1.00      1.00       292\n",
      "           1       0.96      0.99      0.97       287\n",
      "           2       0.99      0.95      0.97       254\n",
      "           3       1.00      1.00      1.00       228\n",
      "           4       1.00      1.00      1.00       215\n",
      "           5       1.00      1.00      1.00       195\n",
      "\n",
      "    accuracy                           0.99      1471\n",
      "   macro avg       0.99      0.99      0.99      1471\n",
      "weighted avg       0.99      0.99      0.99      1471\n",
      "\n"
     ]
    }
   ],
   "source": [
    "from sklearn.ensemble import VotingClassifier\n",
    "# 방법 1 : 하드보팅(다수) \n",
    "voting_model = VotingClassifier(estimators=base_models ,voting= 'hard')\n",
    "# 보팅 모델 학습 \n",
    "voting_model.fit(x_train , y_train)\n",
    "# 성능 확인 \n",
    "y_pred = voting_model.predict(x_test)\n",
    "\n",
    "# 성능 확인  \n",
    "print('============평가 결과==================')\n",
    "print(confusion_matrix(y_test, y_pred))\n",
    "print('============Classification Report============ \\n' , classification_report(y_test, y_pred ))"
   ]
  },
  {
   "cell_type": "markdown",
   "metadata": {},
   "source": [
    "- SVM 모델은 왜 soft voting이 안될까?\n",
    "- A.\n",
    "- SVM(Support Vector Machine) 모델은 기본적으로 클래스 확률을 제공하지 않기 때문에 soft voting이 지원되지 않는 경우가 많습니다. 그러나 SVM 모델을 확률 추정이 가능하도록 설정할 수는 있습니다.\n",
    "\n",
    "Soft Voting과 SVM\n",
    "Soft Voting: 각 모델의 클래스 확률을 평균내어 최종 예측을 결정합니다. 즉, 각 모델이 특정 클래스에 속할 확률을 기반으로 결정을 내립니다.\n",
    "SVM의 기본 설정: 기본적으로 SVM은 결정 경계를 기반으로 클래스를 예측하므로, 확률을 제공하지 않습니다.\n",
    "확률 예측을 위한 설정\n",
    "SVM에서 soft voting을 사용하고 싶다면, probability=True로 설정하여 확률 추정을 활성화할 수 있습니다. 이 경우 SVM의 fit 메서드를 호출할 때 약간의 추가 비용이 발생합니다."
   ]
  },
  {
   "cell_type": "markdown",
   "metadata": {},
   "source": [
    "#### ② 소프트보팅"
   ]
  },
  {
   "cell_type": "code",
   "execution_count": 37,
   "metadata": {
    "id": "u3uKdWnJ5iXr",
    "tags": []
   },
   "outputs": [],
   "source": [
    "# 소프트 보팅을 위한 앙상블 모델 - svm 제외\n",
    "base = [\n",
    "    ('knn', model_knn),\n",
    "    ('logistic', model_log),\n",
    "    ('lgbm', model_lgbm)\n",
    "]"
   ]
  },
  {
   "cell_type": "code",
   "execution_count": 38,
   "metadata": {
    "id": "LOksdiCd5wS6",
    "tags": []
   },
   "outputs": [
    {
     "name": "stdout",
     "output_type": "stream",
     "text": [
      "============평가 결과==================\n",
      "[[290   0   0   0   0   2]\n",
      " [  0 283   4   0   0   0]\n",
      " [  0   6 248   0   0   0]\n",
      " [  0   0   0 228   0   0]\n",
      " [  0   0   0   1 214   0]\n",
      " [  0   0   0   0   0 195]]\n",
      "============Classification Report============ \n",
      "               precision    recall  f1-score   support\n",
      "\n",
      "           0       1.00      0.99      1.00       292\n",
      "           1       0.98      0.99      0.98       287\n",
      "           2       0.98      0.98      0.98       254\n",
      "           3       1.00      1.00      1.00       228\n",
      "           4       1.00      1.00      1.00       215\n",
      "           5       0.99      1.00      0.99       195\n",
      "\n",
      "    accuracy                           0.99      1471\n",
      "   macro avg       0.99      0.99      0.99      1471\n",
      "weighted avg       0.99      0.99      0.99      1471\n",
      "\n"
     ]
    }
   ],
   "source": [
    "# 방법 2 : 소프트보팅(다수) \n",
    "voting_model = VotingClassifier(estimators=base ,voting= 'soft')\n",
    "# 보팅 모델 학습 \n",
    "voting_model.fit(x_train , y_train)\n",
    "# 성능 확인 \n",
    "y_pred = voting_model.predict(x_test)\n",
    "\n",
    "# 성능 확인  \n",
    "print('============평가 결과==================')\n",
    "print(confusion_matrix(y_test, y_pred))\n",
    "print('============Classification Report============ \\n' , classification_report(y_test, y_pred ))"
   ]
  },
  {
   "cell_type": "markdown",
   "metadata": {},
   "source": [
    "#### ③ 스태킹"
   ]
  },
  {
   "cell_type": "code",
   "execution_count": 39,
   "metadata": {},
   "outputs": [],
   "source": [
    "# 스태킹 모델 정의 - logistic regression\n",
    "stacking_model = StackingClassifier(\n",
    "    estimators=[\n",
    "        ('knn', model_knn),\n",
    "        ('svm', model_svm),\n",
    "        ('logistic', model_log),\n",
    "        ('lgbm', model_lgbm)\n",
    "    ],\n",
    "    final_estimator=LogisticRegression(),  # 메타 모델\n",
    "    cv=5  # 5-Fold Cross Validation\n",
    ")"
   ]
  },
  {
   "cell_type": "code",
   "execution_count": 40,
   "metadata": {},
   "outputs": [
    {
     "name": "stdout",
     "output_type": "stream",
     "text": [
      "============Stacking Model 평가 결과==================\n",
      "[[292   0   0   0   0   0]\n",
      " [  0 284   3   0   0   0]\n",
      " [  0   5 249   0   0   0]\n",
      " [  0   0   0 228   0   0]\n",
      " [  0   0   0   1 214   0]\n",
      " [  0   0   0   0   0 195]]\n",
      "============Classification Report============ \n",
      "               precision    recall  f1-score   support\n",
      "\n",
      "           0       1.00      1.00      1.00       292\n",
      "           1       0.98      0.99      0.99       287\n",
      "           2       0.99      0.98      0.98       254\n",
      "           3       1.00      1.00      1.00       228\n",
      "           4       1.00      1.00      1.00       215\n",
      "           5       1.00      1.00      1.00       195\n",
      "\n",
      "    accuracy                           0.99      1471\n",
      "   macro avg       0.99      0.99      0.99      1471\n",
      "weighted avg       0.99      0.99      0.99      1471\n",
      "\n"
     ]
    }
   ],
   "source": [
    "# 스태킹 모델 학습 및 예측\n",
    "stacking_model.fit(x_train, y_train)\n",
    "y_pred = stacking_model.predict(x_test)\n",
    "\n",
    "# 성능 평가\n",
    "print('============Stacking Model 평가 결과==================')\n",
    "print(confusion_matrix(y_test, y_pred))\n",
    "print('============Classification Report============ \\n', classification_report(y_test, y_pred))"
   ]
  },
  {
   "cell_type": "code",
   "execution_count": 53,
   "metadata": {},
   "outputs": [
    {
     "name": "stdout",
     "output_type": "stream",
     "text": [
      "============Stacking Model 평가 결과==================\n",
      "\n",
      "Confusion Matrix:\n",
      " [[292   0   0   0   0   0]\n",
      " [  0 282   5   0   0   0]\n",
      " [  0   5 249   0   0   0]\n",
      " [  0   0   0 228   0   0]\n",
      " [  0   0   0   1 214   0]\n",
      " [  0   0   0   0   0 195]]\n",
      "\n",
      "Classification Report:\n",
      "               precision    recall  f1-score   support\n",
      "\n",
      "           0       1.00      1.00      1.00       292\n",
      "           1       0.98      0.98      0.98       287\n",
      "           2       0.98      0.98      0.98       254\n",
      "           3       1.00      1.00      1.00       228\n",
      "           4       1.00      1.00      1.00       215\n",
      "           5       1.00      1.00      1.00       195\n",
      "\n",
      "    accuracy                           0.99      1471\n",
      "   macro avg       0.99      0.99      0.99      1471\n",
      "weighted avg       0.99      0.99      0.99      1471\n",
      "\n"
     ]
    }
   ],
   "source": [
    "# 스태킹 앙상블 모델 정의\n",
    "stacking_model = StackingClassifier(\n",
    "    estimators=[\n",
    "        ('knn', model_knn),\n",
    "        ('svm', model_svm),\n",
    "        ('logistic', model_log),\n",
    "        ('lgbm', model_lgbm)\n",
    "    ],\n",
    "    final_estimator=RandomForestClassifier( # 메타 모델로 RandomForest 사용\n",
    "        n_estimators=50, max_depth=10, random_state=1), cv=5)  # 5-Fold Cross Validation\n",
    "\n",
    "# 스태킹 모델 학습\n",
    "stacking_model.fit(x_train, y_train)\n",
    "\n",
    "# 테스트 데이터 예측\n",
    "y_pred = stacking_model.predict(x_test)\n",
    "\n",
    "# 성능 평가\n",
    "print('============Stacking Model 평가 결과==================')\n",
    "print(\"\\nConfusion Matrix:\\n\", confusion_matrix(y_test, y_pred))\n",
    "print(\"\\nClassification Report:\\n\", classification_report(y_test, y_pred))"
   ]
  },
  {
   "cell_type": "markdown",
   "metadata": {
    "id": "Twt4bd6pWzFX"
   },
   "source": [
    "## 4.파이프라인 구성"
   ]
  },
  {
   "cell_type": "markdown",
   "metadata": {
    "id": "Re6LpNYhi5d3"
   },
   "source": [
    "### (1) 함수 만들기"
   ]
  },
  {
   "cell_type": "code",
   "execution_count": null,
   "metadata": {
    "id": "U9fP9x76A-gh",
    "tags": []
   },
   "outputs": [],
   "source": [
    "def pipeline(input_data, model):\n",
    "    # 데이터 불러오기\n",
    "    try:\n",
    "        data = pd.read_csv(input_data)\n",
    "        print('데이터 불러오기 성공')\n",
    "    except FileNotFoundError:\n",
    "        print(f'파일을 찾을 수 없습니다: {input_data}')\n",
    "        return\n",
    "        \n",
    "    # 필요없는 칼럼 제거 - subject\n",
    "    drop_cols = ['subject']\n",
    "    data = data.drop(columns = drop_cols, errors = 'ignore')\n",
    "    \n",
    "    # 스케일링\n",
    "    scaler = MinMaxScaler()\n",
    "    data_scaled = scaler.transform(data)\n",
    "\n",
    "    # 예측\n",
    "    pred = model.predict(data_scaled)\n",
    "\n",
    "    # 평가\n",
    "    if 'Activity' in data.columns:\n",
    "        y_true = data['Activity'].map({\n",
    "            'LAYING': 0, 'STANDING': 1, 'SITTING': 2, \n",
    "            'WALKING': 3, 'WALKING_UPSTAIRS': 4, 'WALKING_DOWNSTAIRS': 5\n",
    "        }).values\n",
    "        print(\"\\n============ 모델 평가 ============\")\n",
    "        print(\"Accuracy:\", accuracy_score(y_true, pred))\n",
    "        print(\"\\nConfusion Matrix:\\n\", confusion_matrix(y_true, pred))\n",
    "        print(\"\\nClassification Report:\\n\", classification_report(y_true, pred))\n",
    "\n",
    "    # 예측 결과 반환\n",
    "    print(\"\\n============ 예측 결과 ============\")\n",
    "    print(pred)\n",
    "    return pred"
   ]
  },
  {
   "cell_type": "code",
   "execution_count": null,
   "metadata": {
    "id": "4vlRXNN7PbXh"
   },
   "outputs": [],
   "source": []
  },
  {
   "cell_type": "markdown",
   "metadata": {
    "id": "6N5htravVDFe"
   },
   "source": [
    "### (2) test 셋으로 예측하고 평가하기"
   ]
  },
  {
   "cell_type": "code",
   "execution_count": null,
   "metadata": {
    "id": "ApfVsX_Zzr7r",
    "tags": []
   },
   "outputs": [],
   "source": []
  },
  {
   "cell_type": "code",
   "execution_count": null,
   "metadata": {
    "id": "1B1fkOlDO-9F"
   },
   "outputs": [],
   "source": []
  }
 ],
 "metadata": {
  "colab": {
   "provenance": []
  },
  "kernelspec": {
   "display_name": "Python 3 (ipykernel)",
   "language": "python",
   "name": "python3"
  },
  "language_info": {
   "codemirror_mode": {
    "name": "ipython",
    "version": 3
   },
   "file_extension": ".py",
   "mimetype": "text/x-python",
   "name": "python",
   "nbconvert_exporter": "python",
   "pygments_lexer": "ipython3",
   "version": "3.12.4"
  }
 },
 "nbformat": 4,
 "nbformat_minor": 4
}
