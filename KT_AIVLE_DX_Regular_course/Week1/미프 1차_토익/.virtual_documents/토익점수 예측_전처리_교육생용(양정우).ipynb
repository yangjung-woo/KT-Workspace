

















#[문제] pandas, numpy 라이브러리를 임포트하세요.


import pandas as pd
import numpy as np








#[문제] '미프 1차_토익' 폴더에서 본 파일인 '1.전처리_교육생용'을 열어주세요.





#[문제] data04.xlsx 파일을 Pandas read_excel 함수를 이용하여 읽고 data변수에 저장하세요.


# 읽어들일 파일명 : data04.xlsx 
# Pandas read_excel 함수 활용
# 결과 : data 저장
file = 'data04.xlsx'

data = pd.read_excel(file)



#[문제] 읽어온 데이터프레임을 확인하고, 상위 10개 행만 보여주세요.


data.head()








#[문제] 전체 데이터의 행,열 개수를 확인하기


#data.info()
data.shape


#[문제] 전체 데이터의 하위 5개 행 확인하기


data.tail()


#[문제] 전체 데이터의 모든 변수 확인하기


data.columns


#[문제] 전체 데이터 정보 확인


data.info()


#[문제] 각 열별 Null 데이터 값의 개수를 확인해주세요.


data.isnull().sum()
# 기출문제 공부 횟수 에 결측치 존재 


#[문제] 데이터의 통계정보를 확인해주세요.


data.describe().T











#[문제] data의 컬럼별 데이터 타입을 출력하세요.


data.dtypes


#[문제] data에서 'Student ID' 컬럼을 삭제하세요.


# axis=1 옵션, 컬럼단위 삭제(drop함수)
# inplace=True 옵션, data 데이터프레임에 저장

data.drop(columns='Student ID',inplace=True)


#[문제] 15개컬럼에서 14개컬럼으로 줄어든 것을 확인해주세요.


data.columns


#[문제] data 데이터프레임에서 '기출문제 공부 횟수' 컬럼의 Null 값을 '' --> '0'으로 변경하세요.


# fillna 함수
# 대상컬럼 : '기출문제 공부 횟수'
data.fillna(0, inplace=True)


#[문제] '기출문제 공부 횟수' 컬럼의 값 0으로 변경 확인


data['기출문제 공부 횟수'] = data['기출문제 공부 횟수'].astype(int)
data['기출문제 공부 횟수']


#[문제] 개인정보 데이터와 토익시험 학습정보 데이터를 2개의 데이터 프레임인 df1, df2으로 각각 분리해주세요.


# 개인정보 데이터는 features1, 토익시험 학습정보 데이터는 features2로 분리해주세요.
# df1(개인정보 데이터)에 포함될 features : 'ID', 'Gender', 'Birth_Year'
# df2(토익시험 학습정보 데이터)에 포함될 features : 'ID','Seq', 'LC_Score', 'RC_Score', 'Total Score', '학습목표', '학습방법', '강의 학습 교재 유형', '학습빈도', '기출문제 공부 횟수', '취약분야 인지 여부', '토익 모의테스트 횟수'
df1 = data[['ID', 'Gender', 'Birth_Year']]
df2 = data[['ID','Seq', 'LC_Score', 'RC_Score', 'Total Score', '학습목표', '학습방법', '강의 학습 교재 유형', '학습빈도', '기출문제 공부 횟수', '취약분야 인지 여부', '토익 모의테스트 횟수']]

#df1.value_counts() # 같은 정보가 3개씩 있음 





#[문제] 개인정보 데이터 'df1'의 중복된 행을 제거해주세요.


# drop_duplicates 함수 활용
# 제거된 결과는 원본 데이터프레임 'df1'에 바로 적용
df1 = df1.drop_duplicates()
#df1.value_counts() 중복 제거 확인





#[문제] 토익시험 학습정보 데이터 'df2'에서 각 ID별 차시(Seq)가 3인 행을 선택하여 새로운 데이터프레임 'temp'에 할당해 주세요.


# 3차시 데이터 : ['Seq'] == 3
# loc 함수 활용 : 특정 행, 특정 행과 열, 그리고 조건에 따라 필터링된 행을 선택하는 함수
temp = df2.loc[df2['Seq']==3] 
# temp


#[문제] temp 데이터프레임의 열이름 중 'LC_Score', 'RC_Score', 'Total Score'를 각각 '3st_LC_Score', '3st_RC_Score', '3st_Total_Score'로 변경하고 확인해주세요.


# rename 함수 활용, temp에 저장
# rename 함수 : 데이터프레임의 행 인덱스 또는 열 이름을 변경하는 데 사용
temp = temp.rename(columns={'LC_Score':'3st_LC_Score',
                     'RC_Score':'3st_RC_Score',
                     'Total Score':'3st_Total_Score'} )
temp.head()


#[문제] 토익시험 학습정보 데이터 'df2'의  각 ID별 차시(Seq)가 1인 행을 선택하여 새로운 데이터프레임 'temp1'에 할당해 주세요.


# 1차시 데이터 : ['Seq'] == 1
# loc 함수 활용 : 특정 행, 특정 행과 열, 그리고 조건에 따라 필터링된 행을 선택하는 함수
temp1 = df2.loc[df2['Seq']==1]
temp1.head()


#[문제] 'temp1'에는 df2['ID','LC_Score','RC_Score','Total Score'] 컬럼만 불러와 주세요.


temp1 = temp1[['ID','LC_Score','RC_Score','Total Score']]
temp1.head()


#[문제] temp1 데이터프레임의 열이름 중 'LC_Score', 'RC_Score', 'Total Score'를 각각 '1st_LC_Score', '1st_RC_Score', '1st_Total_Score'로 변경해주세요.


# rename 함수 활용, temp1에 저장
temp1 = temp1.rename(columns={'LC_Score':'1st_LC_Score',
                              'RC_Score':'1st_RC_Score',
                              'Total Score':'1st_Total_Score'})
temp1.head()


#[문제] 토익시험 학습정보 데이터 'df2'에서 각 ID별 차시(Seq)가 2인 행을 선택하여 새로운 데이터프레임 'temp2'에 할당해 주세요.


# 2차시 데이터 : ['Seq'] == 2
# loc 함수 활용 : 특정 행, 특정 행과 열, 그리고 조건에 따라 필터링된 행을 선택
temp2 = df2.loc[df2['Seq']==2]
temp2.head()


#[문제] 'temp2'에는 df2['ID','LC_Score','RC_Score','Total Score'] 컬럼만 불러와 주세요.


temp2 =temp2[['ID','LC_Score','RC_Score','Total Score']]
temp2.head()


#[문제] temp2 데이터프레임의 열이름 중 'LC_Score', 'RC_Score', 'Total Score'를 각각 '2st_LC_Score', '2st_RC_Score', '2st_Total_Score'로 변경해주세요.


# rename 함수 활용, temp2에 저장 및 확인
temp2 = temp2.rename(columns={'LC_Score':'2st_LC_Score',
                              'RC_Score':'2st_RC_Score',
                              'Total Score':'2st_Total_Score'})
temp2.head()


#[문제] 3회차 토익시험 정보가 모두 포함된 'temp' 데이터 + 1차시 토익시험점수 'temp1' 데이터을 합쳐서 'score_merged_data1'에 할당하세요.


# 'temp'와 'temp1'을 'ID' 열 기준 조인하여 'score_merged_data1'에 저장
# merge 함수 할용, how='outer'
score_merged_data1 = pd.merge(temp,temp1,on='ID',how='outer')
#score_merged_data1.head()


#[문제] 'score_merged_data1'과 'temp2' 데이터를 합쳐서 'score_merged_data2'에 할당하세요.



# 'score_merged_data1'과 'temp2'을 'ID' 열을 기준으로 조인하여 'score_merged_data2'에 저장
# merge 함수 할용, how='outer'
score_merged_data2 = pd.merge(score_merged_data1 , temp2 , on ='ID',how = 'outer')



#[문제] score_merged_data2 데이터를 확인하세요.


score_merged_data2.head()





#[문제] 개인정보 데이터 'df1'과 토익시험 학습정보 'score_merged_data2'를 ID 기준으로 합치고 'baseline_data'에 할당하세요.



df1.head()


# merge 함수, 합쳐진 데이터는 'baseline_data'로 저장
baseline_data = pd.merge(df1,score_merged_data2,on='ID',how='outer')
# baseline_data.isna().sum()# 결측값은 없는 것을 보니 inner join을 해도 괜찮았다
baseline_data.head()








#[문제] baseline_data 데이터프레임에서 2차시와 3차시의 시험점수 차이를 'Score_diff_total'이라는 변수로 'baseline_data'에 추가해주세요.


# baseline_data의 'Score_diff_total' 변수 = '3st_Total_Score'에서 '2st_Total_Score'를 마이너스한 값
baseline_data['Score_diff_total'] = baseline_data['3st_Total_Score']- baseline_data['2st_Total_Score']



#[문제] baseline_data 확인해주세요.


baseline_data.head()








#[문제] 전처리된 데이터프레임 'baseline_data'를 CSV 파일로 저장합니다.


# 파일 : 'data04_baseline.csv'
# to_csv 함수 활용, index=False
baseline_data.to_csv('data04_baseline.csv',index=False)


#[문제] 제대로 저장이 잘 되었는지 'data04_baseline.csv' 파일을 불러와 확인해보세요.


test = pd.read_csv('data04_baseline.csv')
test


## 고생 정말 많으셨습니다!!

