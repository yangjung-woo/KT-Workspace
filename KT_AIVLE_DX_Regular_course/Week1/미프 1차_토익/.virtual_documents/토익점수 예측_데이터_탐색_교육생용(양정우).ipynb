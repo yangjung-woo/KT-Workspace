














# 아래 라이브러리를 수행해주세요.


!pip install matplotlib
!pip install --upgrade matplotlib

import matplotlib.pyplot as plt








#[문제] pandas 라이브러리를 임포트하세요.


import pandas as pd


#[문제] numpy 라이브러리를 임포트하세요.


import numpy as np


#[문제] matplotlib 라이브러리를 임포트하세요.


import matplotlib.pyplot as plt


#차트에 한글폰트 설정을 위해 아래 라이브러리를 실행해주세요.


plt.rc('font', family='Malgun Gothic')








# '미프 1차_토익' 폴더에 필요한 파일들을 넣고, 본 파일을 열고 데이터를 읽어옵니다.


#[문제] '미프 1차_토익' 폴더에서 본 파일 '2.데이터_탐색_교육생용' 실습파일을 열어주세요.








#[문제] data04_baseline.csv 파일을 pd.read_csv 함수를 이용하여 읽고 data변수에 할당하세요.


# 읽어들일 파일명 : data04_baseline.csv
# Pandas read_csv 함수 활용
# 결과 : data 저장


data = pd.read_csv('data04_baseline.csv')


#[문제] 읽어온 데이터프레임 data 확인해주세요.


data.head()


#[문제] data 데이터프레임의 열과 행을 확인해주세요.


data.shape


#[문제] data 데이터프레임의 자료구조(Row, Column, Not-null, type)을 파악하세요.



data.info()


#[문제] 인덱스를 확인해보세요.


data.index


#[문제] 컬럼명을 확인해보세요.


data.columns


#[문제] 상단 5행을 확인해보세요


data.head()














#[문제] 'data'의 각 열별 누락된 값(Nan, none) 개수를 확인해보세요.


#isna() 함수 활용
data.isna().sum()


#[문제] 'data'의 각 열 통계량을 요약하여 출력하세요.


# describe 함수 활용
data.describe()


#[문제] 위에서 출력한 통계량 데이터프레임의 행과 열을 서로 바꾸어 출력하세요.


#'T'는 데이터프레임의 전치(Transpose)를 의미함
# descibe 함수 활용
data.describe().T


#[문제] Gender 컬럼의 값 별 개수를 확인해주세요. (Gender M : 남자, F : 여자)


# value_counts 함수 활용
data['Gender'].value_counts()


#[문제] 'Gender' 컬럼의 ['M', 'F'] --> [1,2]로 변경해해보세요.


# replace 함수 활용
data['Gender'] = data['Gender'].replace({'M':1, 'F':2})


#[문제] Gender 컬럼의 값 별 개수를 다시 확인해주세요.


data['Gender'].value_counts()


#[문제] 'Gender' 컬럼 타입을 object에서 int로 변경해보세요.


#astype 함수 활용
data['Gender'] = data['Gender'].astype(int)


#[문제] data 데이터 프레임에서 Null 데이터가 있는지 확인해주세요.


data.isna().sum()











#[문제] 변수 Sdt에 문자열 'Score_diff_total'을 할당 하세요.


Sdt = 'Score_diff_total'


#[문제] 'data' 데이터프레임의 'Score_diff_total'열에 대한 기술 통계 정보를 데이터 프레임의 형태로 출력해주세요.


# describe() 함수 활용
data['Score_diff_total'].describe().to_frame()


#[문제] 위에서 추출한 데이터의 'Score_diff_total'에 대해 행과 열을 변환하여 기술 통계 정보를 출력해주세요.


# describe().T 함수 활용
data['Score_diff_total'].describe().to_frame().T





#[문제] 변수 BY에 문자열 'Birth_Year'을 할당하세요.


BY = 'Birth_Year'


#[문제] 'data' 데이터프레임의 'Birth_Year'열에 대한 기술 통계 정보를 출력해주세요.
#'Birth_Year'에 대해 행과 열을 변환하여 기술 통계 정보를 출력해주세요.


# describe().T 함수 활용
data['Birth_Year'].describe().to_frame().T


#[문제] 'data' 데이터프레임의 'Birth_Year' 컬럼의 연도별 개수를 Bar 차트로 그리세요.


# DataFrame value_counts()와 plot() 함수 활용
# 대상 컬럼 : 'Birth_Year'
# plot 함수의 인자 : kind='bar'
a= data['Birth_Year'].value_counts()
plt.bar(x= a.index , height= a)

#data['Birth_Year'].value_counts().plot(kind='bar')
#plt.show()





#[문제] data 데이터프레임에서 object 컬럼에 대해서만 추출해서 보여주세요.



# select_dtypes() 함수 활용
data.select_dtypes(include='object')


#[문제] 데이터 타입이 Object 형태인 컬럼의 컬럼명만 추출해서 출력해 보세요.


# columns.values 활용
data.select_dtypes(include='object').columns.values





#[문제] 변수 '학습목표'의 값들의 빈도수를 계산하여 출력하세요.


# value_counts 함수 활용
data['학습목표'].value_counts()


#[문제] data 데이터프레임의 전체 열과 행 개수를 각각 출력해 보세요.


#열의 개수
data.shape[1]


#행의 개수
data.shape[0]


#[문제] 변수 '학습목표'의 값들의 빈도수를 전체 데이터의 개수로 나누어서 해당 값들이 전체 데이터에서 차지하는 비율을 구하세요.


data['학습목표'].value_counts() / data.shape[0]


#[문제] '학습목표' 컬럼에 대한 Bar 차트를 확인해주세요.


# DataFrame value_counts()와 plot() 함수 활용
# 대상 컬럼 : '학습목표'
# plot 함수의 인자 : kind='bar'

data['학습목표'].value_counts().plot(kind = 'bar')



#[문제] 'data' 전체 데이터프레임의 숫자형 컬럼, number 컬럼에 대해 검색해주세요.


data.select_dtypes(include=['number'])





#[문제] 변수 '강의 학습 교재 유형'의 값들의 빈도수, 비율을 계산해서 출력해주세요.


# 빈도수 출력
data['강의 학습 교재 유형'].value_counts()


# 비율 출력
data['강의 학습 교재 유형'].value_counts() / data.shape[0]


#[문제] '취약분야 인지 여부' 문자열의 값을 '알고 있음' --> '1', '알고 있지 않음' -->'0'으로 변경하세요.



# 사전 데이터 확인
data['취약분야 인지 여부'].value_counts()


data.replace({'알고 있음':1,'알고 있지 않음':0} , inplace=True)

data['취약분야 인지 여부'].value_counts()


plot_data = data.groupby(by='취약분야 인지 여부',as_index=False)[['기출문제 공부 횟수','Score_diff_total','토익 모의테스트 횟수']].mean()

plot_data
# 서브플롯 생성 (1행 3열)
fig, axs = plt.subplots(1, 3, figsize=(12, 4))
# 첫 번째 bar 그래프: 기출문제 공부 횟수
axs[0].bar(plot_data['취약분야 인지 여부'].astype(str), plot_data['기출문제 공부 횟수'])
axs[0].set_title('기출문제 공부 횟수')

# 두 번째 bar 그래프: Score_diff_total
axs[1].bar(plot_data['취약분야 인지 여부'].astype(str), plot_data['Score_diff_total'])
axs[1].set_title('성적 증가량')

# 세 번째 bar 그래프: 토익 모의테스트 횟수
axs[2].bar(plot_data['취약분야 인지 여부'].astype(str), plot_data['토익 모의테스트 횟수'])
axs[2].set_title('토익 모의테스트 횟수')

# 레이아웃 조정
plt.tight_layout()
plt.show()











data


#[문제] 전처리된 데이터프레임 'data04_featured'를 CSV 파일로 저장합니다.


# 파일 : 'data04_featured.csv'
# to_csv 함수 활용
data04_featured = data.copy()

data04_featured.to_csv('data04_featured.csv',index=False)



#[문제] 파일이 잘 저장되었는지, 다시 한번 불러오고 확인해보세요.


test = pd.read_csv('data04_featured.csv')
test.head()


## 고생 정말 많으셨습니다!!

