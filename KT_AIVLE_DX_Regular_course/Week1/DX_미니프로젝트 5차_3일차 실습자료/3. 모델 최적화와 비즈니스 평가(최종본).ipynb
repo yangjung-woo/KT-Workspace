{
 "cells": [
  {
   "cell_type": "markdown",
   "metadata": {
    "id": "mJlY5pHkC2AM"
   },
   "source": [
    "### ■ 유통 판매량 예측 및 재고 최적화\n",
    "# 단계 3: 모델 최적화와 비즈니스 평가"
   ]
  },
  {
   "cell_type": "markdown",
   "metadata": {
    "id": "sRPj1kd5F4hV"
   },
   "source": [
    "<img src = \"https://github.com/Jangrae/img/blob/master/store.png?raw=true\" width=800, align=\"left\"/>"
   ]
  },
  {
   "cell_type": "markdown",
   "metadata": {
    "id": "-FPypzell2uc"
   },
   "source": [
    "# 수행 과제\n",
    "\n",
    "다음과 같은 과정으로 프로젝트를 진행합니다.\n",
    "\n",
    "#### 1. 환경 설정\n",
    "- 이후 진행에 필요한 환경 설정을 수행합니다.\n",
    "\n",
    "#### 2. 4차 모델링\n",
    "- Random Forest, LigntGBM 알고리즘으로 모델링합니다.\n",
    "- 이번에는 하이퍼파라미터 튜닝을 통해 모델의 성능을 높여봅니다.\n",
    "- 변화되는 모델의 성능을 기록합니다.\n",
    "\n",
    "#### 3. 파이프라인 구축\n",
    "- 새로 읽어온 데이터에 대해 모델이 예측핳 수 있는 형태의 데이터 셋을 만들어야 합니다.\n",
    "- 이러한 데이터 셋을 만드는 파이프라인을 함수를 만들어 보세요.\n",
    "\n",
    "#### 4. 최종 평가\n",
    "- 새로운 데이터에 대해 예측하고 성능을 평가합니다.\n",
    "- 재고량을 평가하는 다음 함수를 활용해 비즈니스 관점의 평가를 수행하세요.\n",
    "- 최종 평가 결과를 기록하고 비교합니다."
   ]
  },
  {
   "cell_type": "markdown",
   "metadata": {
    "id": "NCptKiLOAn7l"
   },
   "source": [
    "# 1. 환경 설정\n",
    "\n",
    "- 이후 진행에 필요한 환경 설정을 수행합니다."
   ]
  },
  {
   "cell_type": "markdown",
   "metadata": {
    "id": "6qsy44YpolGu"
   },
   "source": [
    "## (1) 경로 설정\n",
    "\n",
    "- 프로젝트 수행 환경에 맞게 파일 경로를 설정합니다."
   ]
  },
  {
   "cell_type": "markdown",
   "metadata": {
    "id": "gklxNfgNpkls"
   },
   "source": [
    "### 1) 로컬 수행(Anaconda)\n",
    "- project 폴더에 필요한 파일들을 넣고, 본 파일을 열었다면, 별도 경로 지정이 필요하지 않습니다."
   ]
  },
  {
   "cell_type": "code",
   "execution_count": 7,
   "metadata": {
    "id": "PNI6X2yxpkls",
    "tags": []
   },
   "outputs": [],
   "source": [
    "# 기본 경로\n",
    "path = ''"
   ]
  },
  {
   "cell_type": "markdown",
   "metadata": {
    "id": "ZOqqzLR_TMJh"
   },
   "source": [
    "### 2) 구글 콜랩 수행\n",
    "\n",
    "- 구글 콜랩을 사용중이면 구글 드라이브를 연결합니다."
   ]
  },
  {
   "cell_type": "code",
   "execution_count": 9,
   "metadata": {
    "id": "dvd7QMs2TMJz",
    "tags": []
   },
   "outputs": [],
   "source": [
    "# # 구글 드라이브 연결, 패스 지정\n",
    "# import sys\n",
    "# if 'google.colab' in sys.modules:\n",
    "#     from google.colab import drive\n",
    "#     drive.mount('/content/drive')\n",
    "#     path = '/content/drive/MyDrive/project/'"
   ]
  },
  {
   "cell_type": "markdown",
   "metadata": {
    "id": "szLW_muKtxqT"
   },
   "source": [
    "## (2) 라이브러리 불러오기\n",
    "\n",
    "- 이후 사용할 라이브러리를 모두 불러옵니다."
   ]
  },
  {
   "cell_type": "code",
   "execution_count": 11,
   "metadata": {
    "id": "Aj4I06BetxqU",
    "tags": []
   },
   "outputs": [],
   "source": [
    "# 라이브러리 불러오기\n",
    "import pandas as pd\n",
    "import numpy as np\n",
    "import matplotlib.pyplot as plt\n",
    "import seaborn as sns\n",
    "\n",
    "import joblib\n",
    "\n",
    "from sklearn.metrics import *\n",
    "from sklearn.model_selection import train_test_split, GridSearchCV\n",
    "from sklearn.ensemble import RandomForestRegressor\n",
    "from sklearn.preprocessing import StandardScaler\n",
    "from lightgbm import LGBMRegressor\n",
    "\n",
    "import warnings\n",
    "warnings.filterwarnings('ignore')\n",
    "%config InlineBackend.figure_format = 'retina'"
   ]
  },
  {
   "cell_type": "markdown",
   "metadata": {
    "id": "lOVsN8ZUJNj9"
   },
   "source": [
    "- 시각화에 사용할 폰트 크기를 설정합니다."
   ]
  },
  {
   "cell_type": "code",
   "execution_count": 13,
   "metadata": {
    "id": "vS3AWkn2JNj9"
   },
   "outputs": [],
   "source": [
    "# 시각화 폰트 사이즈 설정\n",
    "plt.rc('font', size=7)\n",
    "plt.rc('xtick', labelsize=7)\n",
    "plt.rc('ytick', labelsize=7)\n",
    "plt.rc('axes', titlesize=12)\n",
    "plt.rc('axes', labelsize=8)\n",
    "plt.rc('legend', fontsize=8)\n",
    "plt.rc('axes', linewidth=0.3)"
   ]
  },
  {
   "cell_type": "markdown",
   "metadata": {
    "id": "AueivMXNJbOq"
   },
   "source": [
    "- 모델이 예측한 결과를 시각화할 때 다음 함수를 활용합니다."
   ]
  },
  {
   "cell_type": "code",
   "execution_count": 15,
   "metadata": {
    "id": "pWfq-EC8JbOq"
   },
   "outputs": [],
   "source": [
    "# 함수 만들기\n",
    "def plot_model_result(y_train, y_val, y_pred, title=None):\n",
    "    y_train = pd.Series(y_train)\n",
    "    y_val = pd.Series(y_val)\n",
    "    y_val.index = range(len(y_train), len(y_train) + len(y_val))\n",
    "    y_pred = pd.Series(y_pred.reshape(-1,), index=y_val.index)\n",
    "\n",
    "    # 시각화\n",
    "    plt.figure(figsize=(12, 5))\n",
    "    plt.subplot(2, 1, 1)\n",
    "    plt.plot(y_train, label='y_train', color='tab:blue', linewidth=0.8)\n",
    "    plt.plot(y_val, label='y_val', color='tab:green', linewidth=0.8)\n",
    "    plt.plot(y_pred, label='y_pred', color='tab:orange', linewidth=0.8)\n",
    "    plt.title(f'{title}', size=15, pad=20)\n",
    "    plt.legend()\n",
    "\n",
    "    plt.subplot(2, 1, 2)\n",
    "    plt.plot(y_val, label = 'y_val', color='tab:green',  marker='o', markersize=2, linewidth=0.8)\n",
    "    plt.plot(y_pred, label = 'y_pred', color='tab:orange',  marker='o', markersize=2, linewidth=0.8)\n",
    "    plt.legend()\n",
    "    plt.tight_layout()\n",
    "    plt.show()"
   ]
  },
  {
   "cell_type": "markdown",
   "metadata": {
    "id": "dPfPWkG1txqV"
   },
   "source": [
    "## (3) 데이터 불러오기\n",
    "\n",
    "- 이전 과정에서 저장한 pkl 파일을 불러옵니다.\n",
    "- 데이터프레임 이름은 data03, data07, data12가 되게 합니다.\n",
    "- 다음과 같은 형태의 구문으로 불러옵니다.\n",
    "~~~\n",
    "mydata = joblib.load(path + 'mydata.pkl')\n",
    "~~~"
   ]
  },
  {
   "cell_type": "code",
   "execution_count": 17,
   "metadata": {
    "id": "ZpMoNMpcQoQ5",
    "tags": []
   },
   "outputs": [],
   "source": [
    "data03 = joblib.load('data03.pkl')\n",
    "data07 = joblib.load('data07.pkl')\n",
    "data12 = joblib.load('data12.pkl')"
   ]
  },
  {
   "cell_type": "code",
   "execution_count": 18,
   "metadata": {},
   "outputs": [
    {
     "data": {
      "text/html": [
       "<div>\n",
       "<style scoped>\n",
       "    .dataframe tbody tr th:only-of-type {\n",
       "        vertical-align: middle;\n",
       "    }\n",
       "\n",
       "    .dataframe tbody tr th {\n",
       "        vertical-align: top;\n",
       "    }\n",
       "\n",
       "    .dataframe thead th {\n",
       "        text-align: right;\n",
       "    }\n",
       "</style>\n",
       "<table border=\"1\" class=\"dataframe\">\n",
       "  <thead>\n",
       "    <tr style=\"text-align: right;\">\n",
       "      <th></th>\n",
       "      <th>date</th>\n",
       "      <th>qty</th>\n",
       "      <th>count</th>\n",
       "      <th>weekday</th>\n",
       "      <th>month</th>\n",
       "      <th>wti_price</th>\n",
       "      <th>day</th>\n",
       "      <th>is_weekend</th>\n",
       "      <th>quarter</th>\n",
       "      <th>is_quarter_start</th>\n",
       "      <th>...</th>\n",
       "      <th>category_min7</th>\n",
       "      <th>weekly_qty_sum</th>\n",
       "      <th>count_city</th>\n",
       "      <th>city_count_ma7</th>\n",
       "      <th>city_count_std7</th>\n",
       "      <th>FOMC</th>\n",
       "      <th>weekday_avg_qty</th>\n",
       "      <th>is_first_week</th>\n",
       "      <th>is_last_week</th>\n",
       "      <th>target</th>\n",
       "    </tr>\n",
       "  </thead>\n",
       "  <tbody>\n",
       "    <tr>\n",
       "      <th>0</th>\n",
       "      <td>2014-01-02</td>\n",
       "      <td>9853.0</td>\n",
       "      <td>4422.0</td>\n",
       "      <td>Thursday</td>\n",
       "      <td>1</td>\n",
       "      <td>95.140000</td>\n",
       "      <td>2</td>\n",
       "      <td>0</td>\n",
       "      <td>1</td>\n",
       "      <td>0</td>\n",
       "      <td>...</td>\n",
       "      <td>10142.0</td>\n",
       "      <td>9853.0</td>\n",
       "      <td>45969.0</td>\n",
       "      <td>45969.000000</td>\n",
       "      <td>2533.563597</td>\n",
       "      <td>2.985</td>\n",
       "      <td>6315.245399</td>\n",
       "      <td>1</td>\n",
       "      <td>0</td>\n",
       "      <td>15153.0</td>\n",
       "    </tr>\n",
       "    <tr>\n",
       "      <th>1</th>\n",
       "      <td>2014-01-03</td>\n",
       "      <td>8647.0</td>\n",
       "      <td>4167.0</td>\n",
       "      <td>Friday</td>\n",
       "      <td>1</td>\n",
       "      <td>94.400000</td>\n",
       "      <td>3</td>\n",
       "      <td>0</td>\n",
       "      <td>1</td>\n",
       "      <td>0</td>\n",
       "      <td>...</td>\n",
       "      <td>8980.0</td>\n",
       "      <td>18500.0</td>\n",
       "      <td>42386.0</td>\n",
       "      <td>44177.500000</td>\n",
       "      <td>2533.563597</td>\n",
       "      <td>2.995</td>\n",
       "      <td>7675.257669</td>\n",
       "      <td>1</td>\n",
       "      <td>0</td>\n",
       "      <td>15606.0</td>\n",
       "    </tr>\n",
       "    <tr>\n",
       "      <th>2</th>\n",
       "      <td>2014-01-04</td>\n",
       "      <td>15153.0</td>\n",
       "      <td>5341.0</td>\n",
       "      <td>Saturday</td>\n",
       "      <td>1</td>\n",
       "      <td>94.400000</td>\n",
       "      <td>4</td>\n",
       "      <td>1</td>\n",
       "      <td>1</td>\n",
       "      <td>0</td>\n",
       "      <td>...</td>\n",
       "      <td>8980.0</td>\n",
       "      <td>33653.0</td>\n",
       "      <td>52293.0</td>\n",
       "      <td>46882.666667</td>\n",
       "      <td>5016.298669</td>\n",
       "      <td>2.995</td>\n",
       "      <td>11864.363636</td>\n",
       "      <td>1</td>\n",
       "      <td>0</td>\n",
       "      <td>7900.0</td>\n",
       "    </tr>\n",
       "    <tr>\n",
       "      <th>3</th>\n",
       "      <td>2014-01-05</td>\n",
       "      <td>15606.0</td>\n",
       "      <td>5123.0</td>\n",
       "      <td>Sunday</td>\n",
       "      <td>1</td>\n",
       "      <td>94.400000</td>\n",
       "      <td>5</td>\n",
       "      <td>1</td>\n",
       "      <td>1</td>\n",
       "      <td>0</td>\n",
       "      <td>...</td>\n",
       "      <td>8980.0</td>\n",
       "      <td>49259.0</td>\n",
       "      <td>49199.0</td>\n",
       "      <td>47461.750000</td>\n",
       "      <td>4256.389501</td>\n",
       "      <td>2.995</td>\n",
       "      <td>12851.171779</td>\n",
       "      <td>1</td>\n",
       "      <td>0</td>\n",
       "      <td>7188.0</td>\n",
       "    </tr>\n",
       "    <tr>\n",
       "      <th>4</th>\n",
       "      <td>2014-01-06</td>\n",
       "      <td>7900.0</td>\n",
       "      <td>3917.0</td>\n",
       "      <td>Monday</td>\n",
       "      <td>1</td>\n",
       "      <td>93.973333</td>\n",
       "      <td>6</td>\n",
       "      <td>0</td>\n",
       "      <td>1</td>\n",
       "      <td>0</td>\n",
       "      <td>...</td>\n",
       "      <td>8083.0</td>\n",
       "      <td>57159.0</td>\n",
       "      <td>39105.0</td>\n",
       "      <td>45790.400000</td>\n",
       "      <td>5249.256404</td>\n",
       "      <td>2.961</td>\n",
       "      <td>7802.484848</td>\n",
       "      <td>1</td>\n",
       "      <td>0</td>\n",
       "      <td>8800.0</td>\n",
       "    </tr>\n",
       "    <tr>\n",
       "      <th>...</th>\n",
       "      <td>...</td>\n",
       "      <td>...</td>\n",
       "      <td>...</td>\n",
       "      <td>...</td>\n",
       "      <td>...</td>\n",
       "      <td>...</td>\n",
       "      <td>...</td>\n",
       "      <td>...</td>\n",
       "      <td>...</td>\n",
       "      <td>...</td>\n",
       "      <td>...</td>\n",
       "      <td>...</td>\n",
       "      <td>...</td>\n",
       "      <td>...</td>\n",
       "      <td>...</td>\n",
       "      <td>...</td>\n",
       "      <td>...</td>\n",
       "      <td>...</td>\n",
       "      <td>...</td>\n",
       "      <td>...</td>\n",
       "      <td>...</td>\n",
       "    </tr>\n",
       "    <tr>\n",
       "      <th>1143</th>\n",
       "      <td>2017-02-24</td>\n",
       "      <td>10208.0</td>\n",
       "      <td>4549.0</td>\n",
       "      <td>Friday</td>\n",
       "      <td>2</td>\n",
       "      <td>53.577778</td>\n",
       "      <td>24</td>\n",
       "      <td>0</td>\n",
       "      <td>1</td>\n",
       "      <td>0</td>\n",
       "      <td>...</td>\n",
       "      <td>6143.0</td>\n",
       "      <td>67617.0</td>\n",
       "      <td>43170.0</td>\n",
       "      <td>41286.571429</td>\n",
       "      <td>4518.085098</td>\n",
       "      <td>2.317</td>\n",
       "      <td>7675.257669</td>\n",
       "      <td>0</td>\n",
       "      <td>0</td>\n",
       "      <td>10108.0</td>\n",
       "    </tr>\n",
       "    <tr>\n",
       "      <th>1144</th>\n",
       "      <td>2017-02-25</td>\n",
       "      <td>12361.0</td>\n",
       "      <td>4619.0</td>\n",
       "      <td>Saturday</td>\n",
       "      <td>2</td>\n",
       "      <td>53.577778</td>\n",
       "      <td>25</td>\n",
       "      <td>1</td>\n",
       "      <td>1</td>\n",
       "      <td>0</td>\n",
       "      <td>...</td>\n",
       "      <td>6143.0</td>\n",
       "      <td>63647.0</td>\n",
       "      <td>46801.0</td>\n",
       "      <td>40719.571429</td>\n",
       "      <td>3180.713749</td>\n",
       "      <td>2.317</td>\n",
       "      <td>11864.363636</td>\n",
       "      <td>0</td>\n",
       "      <td>1</td>\n",
       "      <td>10006.0</td>\n",
       "    </tr>\n",
       "    <tr>\n",
       "      <th>1145</th>\n",
       "      <td>2017-02-26</td>\n",
       "      <td>10108.0</td>\n",
       "      <td>3877.0</td>\n",
       "      <td>Sunday</td>\n",
       "      <td>2</td>\n",
       "      <td>53.577778</td>\n",
       "      <td>26</td>\n",
       "      <td>1</td>\n",
       "      <td>1</td>\n",
       "      <td>0</td>\n",
       "      <td>...</td>\n",
       "      <td>6143.0</td>\n",
       "      <td>61732.0</td>\n",
       "      <td>38062.0</td>\n",
       "      <td>40437.142857</td>\n",
       "      <td>3335.235795</td>\n",
       "      <td>2.317</td>\n",
       "      <td>12851.171779</td>\n",
       "      <td>0</td>\n",
       "      <td>1</td>\n",
       "      <td>14374.0</td>\n",
       "    </tr>\n",
       "    <tr>\n",
       "      <th>1146</th>\n",
       "      <td>2017-02-27</td>\n",
       "      <td>10006.0</td>\n",
       "      <td>3961.0</td>\n",
       "      <td>Monday</td>\n",
       "      <td>2</td>\n",
       "      <td>53.697778</td>\n",
       "      <td>27</td>\n",
       "      <td>0</td>\n",
       "      <td>1</td>\n",
       "      <td>0</td>\n",
       "      <td>...</td>\n",
       "      <td>7415.0</td>\n",
       "      <td>65734.0</td>\n",
       "      <td>38858.0</td>\n",
       "      <td>40542.571429</td>\n",
       "      <td>3260.611438</td>\n",
       "      <td>2.369</td>\n",
       "      <td>7802.484848</td>\n",
       "      <td>0</td>\n",
       "      <td>1</td>\n",
       "      <td>14374.0</td>\n",
       "    </tr>\n",
       "    <tr>\n",
       "      <th>1147</th>\n",
       "      <td>2017-02-28</td>\n",
       "      <td>14374.0</td>\n",
       "      <td>4589.0</td>\n",
       "      <td>Tuesday</td>\n",
       "      <td>2</td>\n",
       "      <td>53.785556</td>\n",
       "      <td>28</td>\n",
       "      <td>0</td>\n",
       "      <td>1</td>\n",
       "      <td>0</td>\n",
       "      <td>...</td>\n",
       "      <td>8118.0</td>\n",
       "      <td>72931.0</td>\n",
       "      <td>45626.0</td>\n",
       "      <td>41581.571429</td>\n",
       "      <td>3588.869314</td>\n",
       "      <td>2.369</td>\n",
       "      <td>7070.333333</td>\n",
       "      <td>0</td>\n",
       "      <td>1</td>\n",
       "      <td>14374.0</td>\n",
       "    </tr>\n",
       "  </tbody>\n",
       "</table>\n",
       "<p>1148 rows × 44 columns</p>\n",
       "</div>"
      ],
      "text/plain": [
       "           date      qty   count   weekday  month  wti_price  day  is_weekend  \\\n",
       "0    2014-01-02   9853.0  4422.0  Thursday      1  95.140000    2           0   \n",
       "1    2014-01-03   8647.0  4167.0    Friday      1  94.400000    3           0   \n",
       "2    2014-01-04  15153.0  5341.0  Saturday      1  94.400000    4           1   \n",
       "3    2014-01-05  15606.0  5123.0    Sunday      1  94.400000    5           1   \n",
       "4    2014-01-06   7900.0  3917.0    Monday      1  93.973333    6           0   \n",
       "...         ...      ...     ...       ...    ...        ...  ...         ...   \n",
       "1143 2017-02-24  10208.0  4549.0    Friday      2  53.577778   24           0   \n",
       "1144 2017-02-25  12361.0  4619.0  Saturday      2  53.577778   25           1   \n",
       "1145 2017-02-26  10108.0  3877.0    Sunday      2  53.577778   26           1   \n",
       "1146 2017-02-27  10006.0  3961.0    Monday      2  53.697778   27           0   \n",
       "1147 2017-02-28  14374.0  4589.0   Tuesday      2  53.785556   28           0   \n",
       "\n",
       "      quarter  is_quarter_start  ...  category_min7  weekly_qty_sum  \\\n",
       "0           1                 0  ...        10142.0          9853.0   \n",
       "1           1                 0  ...         8980.0         18500.0   \n",
       "2           1                 0  ...         8980.0         33653.0   \n",
       "3           1                 0  ...         8980.0         49259.0   \n",
       "4           1                 0  ...         8083.0         57159.0   \n",
       "...       ...               ...  ...            ...             ...   \n",
       "1143        1                 0  ...         6143.0         67617.0   \n",
       "1144        1                 0  ...         6143.0         63647.0   \n",
       "1145        1                 0  ...         6143.0         61732.0   \n",
       "1146        1                 0  ...         7415.0         65734.0   \n",
       "1147        1                 0  ...         8118.0         72931.0   \n",
       "\n",
       "      count_city  city_count_ma7  city_count_std7   FOMC  weekday_avg_qty  \\\n",
       "0        45969.0    45969.000000      2533.563597  2.985      6315.245399   \n",
       "1        42386.0    44177.500000      2533.563597  2.995      7675.257669   \n",
       "2        52293.0    46882.666667      5016.298669  2.995     11864.363636   \n",
       "3        49199.0    47461.750000      4256.389501  2.995     12851.171779   \n",
       "4        39105.0    45790.400000      5249.256404  2.961      7802.484848   \n",
       "...          ...             ...              ...    ...              ...   \n",
       "1143     43170.0    41286.571429      4518.085098  2.317      7675.257669   \n",
       "1144     46801.0    40719.571429      3180.713749  2.317     11864.363636   \n",
       "1145     38062.0    40437.142857      3335.235795  2.317     12851.171779   \n",
       "1146     38858.0    40542.571429      3260.611438  2.369      7802.484848   \n",
       "1147     45626.0    41581.571429      3588.869314  2.369      7070.333333   \n",
       "\n",
       "      is_first_week  is_last_week   target  \n",
       "0                 1             0  15153.0  \n",
       "1                 1             0  15606.0  \n",
       "2                 1             0   7900.0  \n",
       "3                 1             0   7188.0  \n",
       "4                 1             0   8800.0  \n",
       "...             ...           ...      ...  \n",
       "1143              0             0  10108.0  \n",
       "1144              0             1  10006.0  \n",
       "1145              0             1  14374.0  \n",
       "1146              0             1  14374.0  \n",
       "1147              0             1  14374.0  \n",
       "\n",
       "[1148 rows x 44 columns]"
      ]
     },
     "execution_count": 18,
     "metadata": {},
     "output_type": "execute_result"
    }
   ],
   "source": [
    "data03"
   ]
  },
  {
   "cell_type": "markdown",
   "metadata": {
    "id": "ZN_faOzz_YNo"
   },
   "source": [
    "# 2. 4차 모델링\n",
    "\n",
    "- Random Forest, LigntGBM 알고리즘으로 모델링합니다.\n",
    "- 이번에는 하이퍼파라미터 튜닝을 통해 모델의 성능을 높여봅니다.\n",
    "- 이전 실습에서 만든 preproc 함수를 그대로 선언합니다.\n",
    "- 변화되는 모델의 성능을 기록합니다."
   ]
  },
  {
   "cell_type": "code",
   "execution_count": 20,
   "metadata": {
    "id": "ns6RAL70F4hd",
    "tags": []
   },
   "outputs": [],
   "source": [
    "def preproc(data):\n",
    "    # x, y 분리\n",
    "    y= data['target']\n",
    "    x= data.drop(columns= ['date','target'])\n",
    "    # 가변수화 : 가변수화 할 컬럼 =  weekday , month \n",
    "    dummy_cols = ['weekday','month']\n",
    "    months = [1,2,3,4,5,6,7,8,9,10,11,12]\n",
    "    x['month'] = pd.Categorical(x['month'],categories= months)\n",
    "    x = pd.get_dummies(data=x, columns = dummy_cols , drop_first=True)\n",
    "\n",
    "    # 학습용, 검증용 분리\n",
    "    x_train, x_val, y_train, y_val = train_test_split(x,y,test_size=120, shuffle =False)\n",
    "\n",
    "    # 결과 반환\n",
    "    return x_train, x_val, y_train, y_val\n"
   ]
  },
  {
   "cell_type": "code",
   "execution_count": 21,
   "metadata": {},
   "outputs": [],
   "source": [
    "# x_train, x_val , y_train, y_val = preproc(data03)\n",
    "# # 스케일링\n",
    "# scaler = StandardScaler()\n",
    "# x_train = scaler.fit_transform(x_train)\n",
    "# x_val = scaler.transform(x_val)\n"
   ]
  },
  {
   "cell_type": "markdown",
   "metadata": {
    "id": "-2unIvUwpH0K"
   },
   "source": [
    "## (1) Random Forest 모델"
   ]
  },
  {
   "cell_type": "markdown",
   "metadata": {
    "id": "V3rdaRw7OLvV"
   },
   "source": [
    "### 1) 상품 3 모델링\n",
    "\n",
    "- 모델 이름은 model03_rdf로 합니다."
   ]
  },
  {
   "cell_type": "code",
   "execution_count": 24,
   "metadata": {},
   "outputs": [],
   "source": [
    "# x_train, x_val , y_train, y_val = preproc(data03)\n",
    "# # 스케일링\n",
    "# scaler = StandardScaler()\n",
    "# x_train = scaler.fit_transform(x_train)\n",
    "# x_val = scaler.transform(x_val)"
   ]
  },
  {
   "cell_type": "code",
   "execution_count": 25,
   "metadata": {
    "id": "Rg0ZamSnx6lv",
    "tags": []
   },
   "outputs": [],
   "source": [
    "# # 파라미터 선언\n",
    "# param = {\n",
    "#     'n_estimators': [100, 200, 300, 400, 500],  # 트리 개수\n",
    "#     'max_depth': [3, 5, 7, 9, 11],              # 트리 깊이\n",
    "#     'min_samples_split': [2, 5, 10],            # 노드 분할에 필요한 최소 샘플 수\n",
    "#     'min_samples_leaf': [1, 2, 4],              # 리프 노드의 최소 샘플 수\n",
    "#     'max_features': ['auto', 'sqrt', 'log2']    # 최대 사용할 특성 수\n",
    "# }\n",
    "\n",
    "# # Grid Search 선언\n",
    "# model03_rdf = GridSearchCV(RandomForestRegressor(), param, cv=3)\n",
    "\n",
    "# # Grid Search 실행\n",
    "# model03_rdf.fit(x_train, y_train)\n",
    "\n",
    "# # 최적의 파라미터 확인\n",
    "# print(\"Best Parameters:\", model03_rdf.best_params_)\n",
    "\n",
    "# # 최적의 모델 성능 확인\n",
    "# print(\"Best Score:\", model03_rdf.best_score_)\n",
    "\n"
   ]
  },
  {
   "cell_type": "markdown",
   "metadata": {
    "id": "R3R0u4WVOLvc"
   },
   "source": [
    "### 2) 상품 7 모델링\n",
    "\n",
    "- 모델 이름은 model07_rdf로 합니다."
   ]
  },
  {
   "cell_type": "code",
   "execution_count": 27,
   "metadata": {},
   "outputs": [],
   "source": [
    "# x_train, x_val , y_train, y_val = preproc(data07)\n",
    "# # 스케일링\n",
    "# scaler = StandardScaler()\n",
    "# x_train = scaler.fit_transform(x_train)\n",
    "# x_val = scaler.transform(x_val)"
   ]
  },
  {
   "cell_type": "code",
   "execution_count": 28,
   "metadata": {
    "id": "bgzvmGkrF4hf",
    "tags": []
   },
   "outputs": [],
   "source": [
    "# # 파라미터 선언\n",
    "# param = {\n",
    "#     'n_estimators': [50, 100,200],  # 트리 개수\n",
    "#     'max_depth': range(1, 5)                       # 트리 깊이 1~10\n",
    "# }\n",
    "\n",
    "# # Grid Search 선언\n",
    "# model07_rdf = GridSearchCV(RandomForestRegressor(), param, cv=3)\n",
    "\n",
    "# # Grid Search 실행\n",
    "# model07_rdf.fit(x_train, y_train)\n",
    "\n",
    "\n",
    "# # 최적의 파라미터 확인\n",
    "# print(\"Best Parameters:\", model07_rdf.best_params_)\n",
    "\n",
    "# # 최적의 모델 성능 확인\n",
    "# print(\"Best Score:\", model07_rdf.best_score_)"
   ]
  },
  {
   "cell_type": "markdown",
   "metadata": {
    "id": "TEK-0JLVOLvc"
   },
   "source": [
    "### 3) 상품 12 모델링\n",
    "\n",
    "- 모델 이름은 model12_rdf로 합니다."
   ]
  },
  {
   "cell_type": "code",
   "execution_count": 30,
   "metadata": {},
   "outputs": [],
   "source": [
    "# x_train, x_val , y_train, y_val = preproc(data12)\n",
    "# # 스케일링\n",
    "# scaler = StandardScaler()\n",
    "# x_train = scaler.fit_transform(x_train)\n",
    "# x_val = scaler.transform(x_val)"
   ]
  },
  {
   "cell_type": "code",
   "execution_count": 31,
   "metadata": {
    "id": "y73qxwCnF4hf",
    "tags": []
   },
   "outputs": [],
   "source": [
    "# # 파라미터 선언\n",
    "# param = {\n",
    "#     'n_estimators': [50, 100, 200],  # 트리 개수\n",
    "#     'max_depth': range(1, 5)                       # 트리 깊이 1~10\n",
    "# }\n",
    "\n",
    "# # Grid Search 선언\n",
    "# model12_rdf = GridSearchCV(RandomForestRegressor(), param, cv=3)\n",
    "\n",
    "# # Grid Search 실행\n",
    "# model12_rdf.fit(x_train, y_train)\n",
    "\n",
    "# # 최적의 파라미터 확인\n",
    "# print(\"Best Parameters:\", model12_rdf.best_params_)\n",
    "\n",
    "# # 최적의 모델 성능 확인\n",
    "# print(\"Best Score:\", model12_rdf.best_score_)"
   ]
  },
  {
   "cell_type": "markdown",
   "metadata": {
    "id": "kafjdr8uF4hg"
   },
   "source": [
    "## (2) LightGBM 모델"
   ]
  },
  {
   "cell_type": "markdown",
   "metadata": {
    "id": "hX6sHPIRF4hl"
   },
   "source": [
    "### 1) 상품 3 모델링\n",
    "\n",
    "- 모델 이름은 model03_lgb로 합니다."
   ]
  },
  {
   "cell_type": "code",
   "execution_count": 34,
   "metadata": {},
   "outputs": [],
   "source": [
    "# x_train, x_val , y_train, y_val = preproc(data03)\n",
    "# # 스케일링\n",
    "# scaler = StandardScaler()\n",
    "# x_train = scaler.fit_transform(x_train)\n",
    "# x_val = scaler.transform(x_val)"
   ]
  },
  {
   "cell_type": "code",
   "execution_count": 35,
   "metadata": {
    "id": "FcwzPnBfF4hl",
    "tags": []
   },
   "outputs": [],
   "source": [
    "# # 파라미터 범위 설정\n",
    "# param = {\n",
    "#     'n_estimators': [50, 100, 200],  # 트리 개수\n",
    "#     'learning_rate': [0.01, 0.05, 0.1]    # 학습률\n",
    "# }\n",
    "\n",
    "# # Grid Search 선언\n",
    "# model03_lgb = GridSearchCV(LGBMRegressor(verbose = False), param, cv=3)\n",
    "\n",
    "# # Grid Search 실행\n",
    "# model03_lgb.fit(x_train, y_train)\n",
    "\n",
    "# # 최적의 파라미터 확인\n",
    "# print(\"Best Parameters:\", model03_lgb.best_params_)\n",
    "\n",
    "# # 최적의 모델 성능 확인\n",
    "# print(\"Best Score:\", model03_lgb.best_score_)"
   ]
  },
  {
   "cell_type": "markdown",
   "metadata": {
    "id": "_0CroZ8aF4hm"
   },
   "source": [
    "### 2) 상품 7 모델링\n",
    "\n",
    "- 모델 이름은 model07_lgb로 합니다."
   ]
  },
  {
   "cell_type": "code",
   "execution_count": 37,
   "metadata": {},
   "outputs": [],
   "source": [
    "# x_train, x_val , y_train, y_val = preproc(data07)\n",
    "# # 스케일링\n",
    "# scaler = StandardScaler()\n",
    "# x_train = scaler.fit_transform(x_train)\n",
    "# x_val = scaler.transform(x_val)"
   ]
  },
  {
   "cell_type": "code",
   "execution_count": 38,
   "metadata": {
    "id": "UVoO3bptF4hm",
    "tags": []
   },
   "outputs": [],
   "source": [
    "# # 파라미터 범위 설정\n",
    "# param = {\n",
    "#     'n_estimators': [50, 100, 150, 200],  # 트리 개수\n",
    "#     'learning_rate': [0.01, 0.05, 0.1]    # 학습률\n",
    "# }\n",
    "\n",
    "# # Grid Search 선언\n",
    "# model07_lgb = GridSearchCV(LGBMRegressor( verbose = False), param, cv=3)\n",
    "\n",
    "# # Grid Search 실행\n",
    "# model07_lgb.fit(x_train, y_train)\n",
    "\n",
    "# # 최적의 파라미터 확인\n",
    "# print(\"Best Parameters:\", model07_lgb.best_params_)\n",
    "\n",
    "# # 최적의 모델 성능 확인\n",
    "# print(\"Best Score:\", model07_lgb.best_score_)"
   ]
  },
  {
   "cell_type": "markdown",
   "metadata": {
    "id": "7-x4mNLWF4hn"
   },
   "source": [
    "### 3) 상품 12 모델링\n",
    "\n",
    "- 모델 이름은 model12_lgb로 합니다."
   ]
  },
  {
   "cell_type": "code",
   "execution_count": 40,
   "metadata": {},
   "outputs": [],
   "source": [
    "# x_train, x_val , y_train, y_val = preproc(data12)\n",
    "# # 스케일링\n",
    "# scaler = StandardScaler()\n",
    "# x_train = scaler.fit_transform(x_train)\n",
    "# x_val = scaler.transform(x_val)"
   ]
  },
  {
   "cell_type": "code",
   "execution_count": 41,
   "metadata": {
    "id": "UTwGR_jcF4hn",
    "tags": []
   },
   "outputs": [],
   "source": [
    "# # 파라미터 범위 설정\n",
    "# param = {\n",
    "#     'n_estimators': [50, 100, 200],  # 트리 개수\n",
    "#     'learning_rate': [0.01, 0.05, 0.1]    # 학습률\n",
    "# }\n",
    "\n",
    "# # Grid Search 선언\n",
    "# model12_lgb = GridSearchCV(LGBMRegressor(verbose = False), param, cv=3)\n",
    "\n",
    "# # Grid Search 실행\n",
    "# model12_lgb.fit(x_train, y_train)\n",
    "\n",
    "# # 최적의 파라미터 확인\n",
    "# print(\"Best Parameters:\", model12_lgb.best_params_)\n",
    "\n",
    "# # 최적의 모델 성능 확인\n",
    "# print(\"Best Score:\", model12_lgb.best_score_)"
   ]
  },
  {
   "cell_type": "markdown",
   "metadata": {
    "id": "L9DOFUlDkV7X"
   },
   "source": [
    "# 3. 파이프라인 구축\n",
    "\n",
    "- 새로 읽어온 데이터에 대해 모델이 예측할 수 있는 형태의 데이터 셋을 만들어야 합니다.\n",
    "- 이러한 데이터 셋을 만드는 파이프라인을 함수를 만들어 보세요."
   ]
  },
  {
   "cell_type": "markdown",
   "metadata": {
    "id": "5WOfAg25Mfe7"
   },
   "source": [
    "## (1) 새로운 데이터 불러오기\n",
    "\n",
    "- 평가에 사용할 새로운 데이터를 불러옵니다.\n",
    "- 데이터프레임 이름은 다음과 같이 통일합니다.\n",
    "    - sales: 판매 정보\n",
    "    - orders: 고객 방문수\n",
    "    - oil_price: 휘발유 가격\n",
    "    - stores: 매장 정보\n",
    "    - products: 상품 정보"
   ]
  },
  {
   "cell_type": "code",
   "execution_count": 44,
   "metadata": {
    "id": "OIzQ0HCQdJ6c",
    "tags": []
   },
   "outputs": [],
   "source": [
    "# 데이터 불러오기\n",
    "sales = pd.read_csv(path + 'sales_test.csv')\n",
    "orders = pd.read_csv(path + 'orders_test.csv')\n",
    "oil_price = pd.read_csv(path + 'oil_price_test.csv')\n",
    "stores = pd.read_csv(path + 'stores.csv')\n",
    "products = pd.read_csv(path + 'products.csv')"
   ]
  },
  {
   "cell_type": "code",
   "execution_count": 45,
   "metadata": {
    "id": "7Dt1HCrZJbOw"
   },
   "outputs": [],
   "source": [
    "# datetime 형으로 변환\n",
    "sales['date'] = pd.to_datetime(sales['date'] )\n",
    "oil_price['date'] = pd.to_datetime(oil_price['date'] )\n",
    "orders['date'] = pd.to_datetime(orders['date'] )"
   ]
  },
  {
   "cell_type": "markdown",
   "metadata": {
    "id": "5Q1C74xjh6zW"
   },
   "source": [
    "## (2) 데이터 셋 구성 함수\n",
    "\n",
    "- 이전 실습에서 '데이터 셋 구성하기 #2' 에서 작성한 코드를 가져와 함수를 다시 선언합니다.\n",
    "    - 함수 이름: make_dataset\n",
    "- 참고: 모델링 과정부터 함수를 만들어 사용했기에, 함수를 다시 만들 필요가 없습니다."
   ]
  },
  {
   "cell_type": "code",
   "execution_count": 47,
   "metadata": {},
   "outputs": [
    {
     "name": "stdout",
     "output_type": "stream",
     "text": [
      "Requirement already satisfied: yfinance in c:\\users\\user\\anaconda3\\lib\\site-packages (0.2.49)\n",
      "Requirement already satisfied: pandas>=1.3.0 in c:\\users\\user\\anaconda3\\lib\\site-packages (from yfinance) (2.2.3)\n",
      "Requirement already satisfied: numpy>=1.16.5 in c:\\users\\user\\anaconda3\\lib\\site-packages (from yfinance) (1.26.4)\n",
      "Requirement already satisfied: requests>=2.31 in c:\\users\\user\\anaconda3\\lib\\site-packages (from yfinance) (2.32.2)\n",
      "Requirement already satisfied: multitasking>=0.0.7 in c:\\users\\user\\anaconda3\\lib\\site-packages (from yfinance) (0.0.11)\n",
      "Requirement already satisfied: lxml>=4.9.1 in c:\\users\\user\\anaconda3\\lib\\site-packages (from yfinance) (5.2.1)\n",
      "Requirement already satisfied: platformdirs>=2.0.0 in c:\\users\\user\\anaconda3\\lib\\site-packages (from yfinance) (3.10.0)\n",
      "Requirement already satisfied: pytz>=2022.5 in c:\\users\\user\\anaconda3\\lib\\site-packages (from yfinance) (2024.1)\n",
      "Requirement already satisfied: frozendict>=2.3.4 in c:\\users\\user\\anaconda3\\lib\\site-packages (from yfinance) (2.4.2)\n",
      "Requirement already satisfied: peewee>=3.16.2 in c:\\users\\user\\anaconda3\\lib\\site-packages (from yfinance) (3.17.8)\n",
      "Requirement already satisfied: beautifulsoup4>=4.11.1 in c:\\users\\user\\anaconda3\\lib\\site-packages (from yfinance) (4.12.3)\n",
      "Requirement already satisfied: html5lib>=1.1 in c:\\users\\user\\anaconda3\\lib\\site-packages (from yfinance) (1.1)\n",
      "Requirement already satisfied: soupsieve>1.2 in c:\\users\\user\\anaconda3\\lib\\site-packages (from beautifulsoup4>=4.11.1->yfinance) (2.5)\n",
      "Requirement already satisfied: six>=1.9 in c:\\users\\user\\anaconda3\\lib\\site-packages (from html5lib>=1.1->yfinance) (1.16.0)\n",
      "Requirement already satisfied: webencodings in c:\\users\\user\\anaconda3\\lib\\site-packages (from html5lib>=1.1->yfinance) (0.5.1)\n",
      "Requirement already satisfied: python-dateutil>=2.8.2 in c:\\users\\user\\anaconda3\\lib\\site-packages (from pandas>=1.3.0->yfinance) (2.9.0.post0)\n",
      "Requirement already satisfied: tzdata>=2022.7 in c:\\users\\user\\anaconda3\\lib\\site-packages (from pandas>=1.3.0->yfinance) (2023.3)\n",
      "Requirement already satisfied: charset-normalizer<4,>=2 in c:\\users\\user\\anaconda3\\lib\\site-packages (from requests>=2.31->yfinance) (2.0.4)\n",
      "Requirement already satisfied: idna<4,>=2.5 in c:\\users\\user\\anaconda3\\lib\\site-packages (from requests>=2.31->yfinance) (3.7)\n",
      "Requirement already satisfied: urllib3<3,>=1.21.1 in c:\\users\\user\\anaconda3\\lib\\site-packages (from requests>=2.31->yfinance) (2.2.2)\n",
      "Requirement already satisfied: certifi>=2017.4.17 in c:\\users\\user\\anaconda3\\lib\\site-packages (from requests>=2.31->yfinance) (2024.7.4)\n"
     ]
    }
   ],
   "source": [
    "!pip install yfinance"
   ]
  },
  {
   "cell_type": "code",
   "execution_count": 48,
   "metadata": {},
   "outputs": [
    {
     "name": "stderr",
     "output_type": "stream",
     "text": [
      "[*********************100%***********************]  1 of 1 completed\n"
     ]
    },
    {
     "data": {
      "text/html": [
       "<div>\n",
       "<style scoped>\n",
       "    .dataframe tbody tr th:only-of-type {\n",
       "        vertical-align: middle;\n",
       "    }\n",
       "\n",
       "    .dataframe tbody tr th {\n",
       "        vertical-align: top;\n",
       "    }\n",
       "\n",
       "    .dataframe thead th {\n",
       "        text-align: right;\n",
       "    }\n",
       "</style>\n",
       "<table border=\"1\" class=\"dataframe\">\n",
       "  <thead>\n",
       "    <tr style=\"text-align: right;\">\n",
       "      <th></th>\n",
       "      <th>date</th>\n",
       "      <th>FOMC</th>\n",
       "    </tr>\n",
       "  </thead>\n",
       "  <tbody>\n",
       "    <tr>\n",
       "      <th>0</th>\n",
       "      <td>2014-01-02</td>\n",
       "      <td>2.985</td>\n",
       "    </tr>\n",
       "    <tr>\n",
       "      <th>1</th>\n",
       "      <td>2014-01-03</td>\n",
       "      <td>2.995</td>\n",
       "    </tr>\n",
       "    <tr>\n",
       "      <th>2</th>\n",
       "      <td>2014-01-04</td>\n",
       "      <td>2.995</td>\n",
       "    </tr>\n",
       "    <tr>\n",
       "      <th>3</th>\n",
       "      <td>2014-01-05</td>\n",
       "      <td>2.995</td>\n",
       "    </tr>\n",
       "    <tr>\n",
       "      <th>4</th>\n",
       "      <td>2014-01-06</td>\n",
       "      <td>2.961</td>\n",
       "    </tr>\n",
       "    <tr>\n",
       "      <th>...</th>\n",
       "      <td>...</td>\n",
       "      <td>...</td>\n",
       "    </tr>\n",
       "    <tr>\n",
       "      <th>1149</th>\n",
       "      <td>2017-02-24</td>\n",
       "      <td>2.317</td>\n",
       "    </tr>\n",
       "    <tr>\n",
       "      <th>1150</th>\n",
       "      <td>2017-02-25</td>\n",
       "      <td>2.317</td>\n",
       "    </tr>\n",
       "    <tr>\n",
       "      <th>1151</th>\n",
       "      <td>2017-02-26</td>\n",
       "      <td>2.317</td>\n",
       "    </tr>\n",
       "    <tr>\n",
       "      <th>1152</th>\n",
       "      <td>2017-02-27</td>\n",
       "      <td>2.369</td>\n",
       "    </tr>\n",
       "    <tr>\n",
       "      <th>1153</th>\n",
       "      <td>2017-02-28</td>\n",
       "      <td>2.369</td>\n",
       "    </tr>\n",
       "  </tbody>\n",
       "</table>\n",
       "<p>1154 rows × 2 columns</p>\n",
       "</div>"
      ],
      "text/plain": [
       "           date   FOMC\n",
       "0    2014-01-02  2.985\n",
       "1    2014-01-03  2.995\n",
       "2    2014-01-04  2.995\n",
       "3    2014-01-05  2.995\n",
       "4    2014-01-06  2.961\n",
       "...         ...    ...\n",
       "1149 2017-02-24  2.317\n",
       "1150 2017-02-25  2.317\n",
       "1151 2017-02-26  2.317\n",
       "1152 2017-02-27  2.369\n",
       "1153 2017-02-28  2.369\n",
       "\n",
       "[1154 rows x 2 columns]"
      ]
     },
     "execution_count": 48,
     "metadata": {},
     "output_type": "execute_result"
    }
   ],
   "source": [
    "import yfinance as yf\n",
    "# 미국 10년 국채 금리 데이터를 가져오는 예시 (US10Y)\n",
    "finance = yf.download('^TNX', start='2014-01-01', end='2017-02-28')  # 미국 10년 국채 금리\n",
    "\n",
    "finance = finance.reset_index()\n",
    "# 미국 10년 국채 금리는 시장에서 중요한 경제적 신뢰도를 반영합니다. \n",
    "# 높은 금리는 일반적으로 경제 성장과 인플레이션 우려와 관련이 있고,  >> 높으면  경제성장\n",
    "# 낮은 금리는 경기 침체나 경제 불확실성과 관련이 있습니다           >> 낮으면 경제 침체\n",
    "# 이중에서 당일 종가 데이터만 가져오기에 Close 만 가져오자  (Adj Close 수정된 종가는 Close와 같음 )\n",
    "# # 'Date' 컬럼에서 날짜만 추출하여 '년-월-일' 형식으로 변경\n",
    "finance['Date'] = pd.to_datetime(finance['Date']).dt.strftime('%Y-%m-%d')\n",
    "\n",
    "# # 'Close'와 'Date' 컬럼만 선택\n",
    "bond_data = finance[['Date', 'Close']]\n",
    "# ticket, price 인덱스 제거 \n",
    "bond_data = bond_data.reset_index()\n",
    "\n",
    "# 날짜를 인덱스로 설정하고 날짜 범위에 맞는 모든 날짜 생성\n",
    "bond_data['Date'] = pd.to_datetime(bond_data['Date'])\n",
    "date_range = pd.date_range(start='2014-01-02', end='2017-02-28')\n",
    "\n",
    "# 모든 날짜에 대해 종가를 채우기 전에, 데이터를 날짜별로 정렬\n",
    "data_sorted = bond_data.set_index('Date').reindex(date_range)\n",
    "\n",
    "# 전날 종가로 결측치를 채움\n",
    "data_sorted['Close'] = data_sorted['Close'].fillna(method='ffill')\n",
    "\n",
    "# 인덱스를 컬럼으로 다시 리셋\n",
    "data_final = data_sorted.reset_index()\n",
    "# 불필요한 컬럼 제거: 'Price', 'level_0', 'index', 'Ticker' 등을 제거\n",
    "data_final_cleaned = data_final.drop(columns=['index'])\n",
    "\n",
    "# 컬럼명 변경\n",
    "data_final_cleaned.rename(columns={'level_0': 'date'}, inplace=True)\n",
    "data_final_cleaned.columns = ['date', 'FOMC']\n",
    "# 결과 확인\n",
    "interest_rate = data_final_cleaned.copy()\n",
    "interest_rate"
   ]
  },
  {
   "cell_type": "code",
   "execution_count": 49,
   "metadata": {
    "id": "INUoRl-qi0BN",
    "tags": []
   },
   "outputs": [],
   "source": [
    "# 함수 만들기(수정 필요) (김명제님 )\n",
    "def make_dataset(store_id, product_id):\n",
    "    # 데이터 준비\n",
    "    leadtime = products.loc[products['product_id']==product_id, 'leadtime'].values[0]\n",
    "    temp1 = sales.loc[(sales['store_id']==store_id) & (sales['product_id']==product_id), ['date', 'qty']]\n",
    "    temp2 = orders.loc[orders['store_id']==store_id, ['date', 'count']]\n",
    "    temp3 = pd.merge(temp1, temp2, on='date', how='left')\n",
    " \n",
    "    # 날짜 요소 추출\n",
    "    temp3['weekday'] = temp3['date'].dt.day_name()\n",
    "    temp3['month'] = temp3['date'].dt.month\n",
    " \n",
    "    # Oil Price\n",
    "    temp3 = pd.merge(temp3, oil_price, on='date', how='left')\n",
    "    temp3['wti_price'] = temp3['wti_price'].rolling(14, min_periods=1).mean()\n",
    " \n",
    "    # 추가(날짜)\n",
    "    temp3['day'] = temp3['date'].dt.day\n",
    "    temp3['is_weekend'] = temp3['weekday'].isin(['Saturday', 'Sunday']).astype(int)\n",
    "    temp3['quarter'] = temp3['date'].dt.quarter\n",
    "    temp3['is_quarter_start'] = temp3['date'].dt.is_quarter_start.astype(int)\n",
    "    temp3['is_quarter_end'] = temp3['date'].dt.is_quarter_end.astype(int)\n",
    "    temp3['week'] = temp3['date'].dt.isocalendar().week\n",
    "    temp3['is_month_start'] = temp3['date'].dt.is_month_start.astype(int)\n",
    "    temp3['is_month_end'] = temp3['date'].dt.is_month_end.astype(int)\n",
    "    temp3['is_year_start'] = temp3['date'].dt.is_year_start.astype(int)\n",
    "    temp3['is_year_end'] = temp3['date'].dt.is_year_end.astype(int)\n",
    " \n",
    "    # 추가(qty lag)\n",
    "    temp3['qty_lag_1'] = temp3['qty'].shift(1)\n",
    "    temp3['qty_lag_2'] = temp3['qty'].shift(2)\n",
    "    temp3['qty_lag_3'] = temp3['qty'].shift(3)\n",
    "    temp3['qty_lag_4'] = temp3['qty'].shift(4)\n",
    "    temp3['qty_lag_5'] = temp3['qty'].shift(5)\n",
    "    temp3['qty_lag_6'] = temp3['qty'].shift(6)\n",
    "    temp3['qty_lag_7'] = temp3['qty'].shift(7)\n",
    "    temp3['qty_lag_14'] = temp3['qty'].shift(14)\n",
    " \n",
    "    # 추가(방문수)\n",
    "    temp3['count_mean3'] = temp3['count'].rolling(window=3, min_periods=1).mean()\n",
    "    temp3['count_mean7'] = temp3['count'].rolling(window=7, min_periods=1).mean()\n",
    "    temp3['count_mean14'] = temp3['count'].rolling(window=14, min_periods=1).mean()\n",
    "    temp3['qty_per_customer'] = temp3['qty'] / temp3['count']\n",
    "    temp3['count_std7'] = temp3['count'].rolling(window=7, min_periods=1).std()\n",
    " \n",
    "    # 판매량\n",
    "    temp3['qty_max7'] = temp3['qty'].rolling(window=7, min_periods=1).max()\n",
    "    temp3['qty_min7'] = temp3['qty'].rolling(window=7, min_periods=1).min()\n",
    "    temp3['qty_mean7'] = temp3['qty'].rolling(window=7, min_periods=1).mean()\n",
    "    # 카테고리\n",
    "    category = products.loc[products['product_id']==product_id, 'category'].values[0]\n",
    "    category_products = products.loc[products['category']==category, 'product_id'].values\n",
    "    category_sales = sales.loc[(sales['store_id']==store_id) &\n",
    "                             (sales['product_id'].isin(category_products)),\n",
    "                             ['date', 'qty']].groupby('date')['qty'].sum().reset_index()\n",
    "    category_sales.columns = ['date', 'qty_category']\n",
    "    temp3 = pd.merge(temp3, category_sales, on='date', how='left')\n",
    "    temp3['category_mean7'] = temp3['qty_category'].rolling(window=7, min_periods=1).mean()\n",
    "    temp3['category_min7'] = temp3['qty_category'].rolling(window=7, min_periods=1).min()\n",
    "\n",
    "    # 주간 누적 판매량 (추가)\n",
    "    temp3['weekly_qty_sum'] = temp3['qty'].rolling(7, min_periods=1).sum()\n",
    "    # 도시\n",
    "    city = stores.loc[stores['store_id']==store_id, 'city'].values[0]\n",
    "    city_stores = stores.loc[stores['city']==city, 'store_id'].values\n",
    "    city_customers = orders.loc[orders['store_id'].isin(city_stores),\n",
    "                              ['date', 'count']].groupby('date')['count'].sum().reset_index()\n",
    "    temp3 = pd.merge(temp3, city_customers, on='date', how='left', suffixes=('', '_city'))\n",
    "    temp3['city_count_ma7'] = temp3['count_city'].rolling(window=7, min_periods=1).mean()\n",
    "    temp3['city_count_std7'] = temp3['count_city'].rolling(window=7, min_periods=1).std()\n",
    "\n",
    "\n",
    "    # (추가) 미국 당일 금리를 추가 \n",
    "    temp3 = pd.merge(temp3, interest_rate, on='date', how='left') \n",
    "    # (추가) (요일별 평균)\n",
    "    temp3['weekday_avg_qty'] = temp3.groupby('weekday')['qty'].transform('mean')\n",
    "    #(추가) 월초 , 월밀 = 월급날 > 소비증가 > 매출증가 \n",
    "    temp3['is_first_week'] = (temp3['date'].dt.day <= 7).astype(int)\n",
    "    temp3['is_last_week'] = (temp3['date'].dt.day >= 25).astype(int)\n",
    "\n",
    "    \n",
    "    # Target 추가\n",
    "    temp3['target'] = temp3['qty'].shift(-leadtime)\n",
    " \n",
    "    # 결측치 처리\n",
    "    temp3.interpolate(method='linear', inplace=True)\n",
    "    temp3.fillna(method='bfill', inplace=True)\n",
    " \n",
    "    # 결과 반환\n",
    "    return temp3"
   ]
  },
  {
   "cell_type": "markdown",
   "metadata": {
    "id": "2FnCKrmwh6zX"
   },
   "source": [
    "## (3) 데이터 분리 함수\n",
    "\n",
    "- 새로운 데이터를 받아서 x, y로 분리해 반환하는 함수를 만듭니다.\n",
    "    - 함수 이름: preproc_newdata\n",
    "    - 입력: 새로운 데이터(data)\n",
    "    - 처리: x와 y 분리, x 가변수화\n",
    "- 참고: 이전에 만든 preproc 함수는 학습용, 검증용을 분리하므로 지금 단계에서는 사용할 수 없습니다.\n",
    "- 참고: 하지만 대부분의 코드는 preproc 함수와 같으니, preproc 함수 코드를 참고하시 바랍니다."
   ]
  },
  {
   "cell_type": "code",
   "execution_count": 51,
   "metadata": {
    "id": "HBuAGEnPJbOx",
    "tags": []
   },
   "outputs": [],
   "source": [
    "def preproc_newdata(data):  # x_train , y_train 을 반환\n",
    "    # x, y 분리\n",
    "    y= data['target']\n",
    "    x= data.drop(columns= ['date','target'])\n",
    "    # 가변수화 : 가변수화 할 컬럼 =  weekday , month \n",
    "    dummy_cols = ['weekday','month']\n",
    "    months = [1,2,3,4,5,6,7,8,9,10,11,12]\n",
    "    x['month'] = pd.Categorical(x['month'],categories= months)\n",
    "    x = pd.get_dummies(data=x, columns = dummy_cols , drop_first=True)\n",
    "    # # 학습용, 검증용 분리\n",
    "    # x_train, x_val, y_train, y_val = train_test_split(x,y,test_size=120, shuffle =False)\n",
    "    ...\n",
    "\n",
    "    return x, y"
   ]
  },
  {
   "cell_type": "markdown",
   "metadata": {
    "id": "ffhq2WcBh6za"
   },
   "source": [
    "## (4) 데이터 파이프라인\n",
    "\n",
    "- 위 두 함수를 사용해 지정한 매장, 지정한 상품의 데이터를 전처리해 x와 y를 반환하는 함수를 만듭니다.\n",
    "    - 함수 이름: data_pipeline\n",
    "    - 입력: 매장번호(store_id), 상품번호(product_id)"
   ]
  },
  {
   "cell_type": "code",
   "execution_count": 53,
   "metadata": {
    "id": "WJD9DX_IJbOx",
    "tags": []
   },
   "outputs": [],
   "source": [
    "def data_pipeline(store_id, product_id): # 테스트용 데이터 생성\n",
    "    temp=make_dataset(store_id, product_id)\n",
    "    x,y = preproc_newdata(temp)\n",
    "    \n",
    "    return x, y"
   ]
  },
  {
   "cell_type": "markdown",
   "metadata": {
    "id": "0d7DaT2J5JHa"
   },
   "source": [
    "- 위 함수는 이후에 다음과 같은 형태로 사용될 것입니다.\n",
    "\n",
    "~~~\n",
    "x_test, y_test = data_pipeline(매장번호, 상품번호)\n",
    "y_pred = model.predict(x_test)\n",
    "~~~"
   ]
  },
  {
   "cell_type": "markdown",
   "metadata": {
    "id": "kJpmOxg2rFuZ"
   },
   "source": [
    "# 4. 최종 평가\n",
    "\n",
    "- 새로운 데이터에 대해 예측하고 성능을 평가합니다.\n",
    "- 재고금액을 평가하는 다음 함수를 활용해 비즈니스 관점의 평가를 수행하세요.\n",
    "- 최종 평가 결과를 기록하고 비교합니다."
   ]
  },
  {
   "cell_type": "code",
   "execution_count": 56,
   "metadata": {
    "id": "DDnOaN64F4hp",
    "tags": []
   },
   "outputs": [],
   "source": [
    "# 재고량 평가 함수 만들기\n",
    "def inv_simulator(y, pred, safe_stock, price):\n",
    "\n",
    "    # 시뮬레이션 df 틀 만들기\n",
    "    temp = pd.DataFrame({'y': y.reshape(-1,), 'pred': pred.reshape(-1,).round()})\n",
    "    temp['y'] = temp['y'].astype(int)\n",
    "    temp['pred'] = temp['pred'].astype(int)\n",
    "    temp['safe_stock'] = safe_stock\n",
    "\n",
    "    temp['order'] = 0\n",
    "    temp['receive'] = 0\n",
    "    temp['base_stock'] = 0\n",
    "    temp['close_stock'] = 0\n",
    "\n",
    "    # 시뮬레이션\n",
    "    for i in range(len(temp)-2):  # 발주량은 2일 후 판매 예측량에 기초하므로 계산을 위해 마지막 2개 행 제외\n",
    "        if i == 0:  #첫 행, 2일 전 데이터가 없으므로\n",
    "            temp.loc[i, 'receive'] = temp.loc[i, 'y']  # 입고량은 실판매량으로 계산\n",
    "            temp.loc[i, 'base_stock'] = temp.loc[i, 'receive'] + safe_stock  # 기초재고는 실판매량 + 안전재고로 계산\n",
    "\n",
    "        elif i == 1: # 2일 전 행, 2일 전 데이터가 없음\n",
    "            temp.loc[i, 'receive'] = temp.loc[i, 'y'] # 입고량은 실판매량으로 계산\n",
    "            temp.loc[i, 'base_stock'] = temp.loc[i,'receive'] + temp.loc[i-1, 'close_stock']\n",
    "        else:        # 나머지 전체 행\n",
    "            temp.loc[i, 'receive'] = temp.loc[i-2,'order']    # 입고량 = 2일 전 발주량\n",
    "            temp.loc[i, 'base_stock'] = temp.loc[i, 'receive']+temp.loc[i-1, 'close_stock']  # 기초재고 = 입고량 + 전날 기말재고\n",
    "\n",
    "        # 기말재고 = 기초재고 - 판매량, 만약 0보다 작으면 0으로\n",
    "        stock = round(temp.loc[i, 'base_stock'] - temp.loc[i, 'y'])\n",
    "        temp.loc[i, 'close_stock'] = np.where(stock > 0, stock, 0)\n",
    "\n",
    "        # 발주량 = 2일후 판매예측량 + 안전재고 - 기말재고,  만약 주문량이 0보다 작으면 0\n",
    "        order = temp.loc[i+2, 'pred'] + safe_stock - temp.loc[i, 'close_stock']\n",
    "        temp.loc[i, 'order'] = np.where(order>0, order, 0)\n",
    "\n",
    "    # 기회손실 = 만약 (기초재고 - 실판매량)이 0보다 작으면, 그만큼이 기회손실\n",
    "    temp['lost'] = np.where((temp['base_stock']-temp['y']) < 0, (temp['base_stock']-temp['y']), 0).round()\n",
    "\n",
    "    inventory = temp[:len(temp) - 2]\n",
    "\n",
    "    # 측정지표 계산\n",
    "    DailyStock = ((inventory['base_stock'] + inventory['close_stock']) / 2)\n",
    "\n",
    "    AvgDailyStock = round(DailyStock.mean(), 3)\n",
    "    AvgDailyStockAmt = AvgDailyStock * price * 0.5\n",
    "    lost_sum = inventory['lost'].sum()\n",
    "\n",
    "    print(f'* 일평균 재고량: {AvgDailyStock:.2f}')\n",
    "    print(f'* 일평균 재고금액: {AvgDailyStockAmt:.2f}')\n",
    "    print(f'* 기회손실 수량: {lost_sum}')\n",
    "\n",
    "    return inventory"
   ]
  },
  {
   "cell_type": "markdown",
   "metadata": {
    "id": "UCwmQcehv8Xn"
   },
   "source": [
    "## (1) 상품 3\n",
    "\n",
    "- 3번 상품에 대해 모델 성능을 평가하고 기록합니다."
   ]
  },
  {
   "cell_type": "markdown",
   "metadata": {
    "id": "13zBHMxPF4hq"
   },
   "source": [
    "### 1) Random Forest 모델\n",
    "\n",
    "- Random Forest 모델로 예측하고 평가합니다."
   ]
  },
  {
   "cell_type": "code",
   "execution_count": 364,
   "metadata": {},
   "outputs": [],
   "source": [
    "x_train, x_val , y_train, y_val = preproc(data03)\n",
    "# 스케일링\n",
    "scaler = StandardScaler()\n",
    "x_train = scaler.fit_transform(x_train)\n",
    "x_val = scaler.transform(x_val)"
   ]
  },
  {
   "cell_type": "code",
   "execution_count": 366,
   "metadata": {
    "id": "i0quvnswF4hq",
    "tags": []
   },
   "outputs": [
    {
     "name": "stdout",
     "output_type": "stream",
     "text": [
      "RMSE: 3307.5076637162015\n",
      "MAE: 2067.5590039495246\n",
      "MAPE: 14.48%\n",
      "R2-Score: 0.3353067979457469\n"
     ]
    }
   ],
   "source": [
    "# 예측, 평가하기\n",
    "x_test, y_test = data_pipeline(44, 3)\n",
    "# x_train 스케일러 대로 x_test도 스케일링\n",
    "x_test = scaler.transform(x_test)\n",
    "\n",
    "model03_rdf = RandomForestRegressor(max_depth=9, \n",
    "                                    max_features='sqrt',\n",
    "                                    min_samples_leaf = 2,\n",
    "                                    min_samples_split= 10,\n",
    "                                    n_estimators= 200)\n",
    "\n",
    "model03_rdf.fit(x_train, y_train)\n",
    "\n",
    "y_pred = model03_rdf.predict(x_test)\n",
    "\n",
    "# 평가\n",
    "print(\"RMSE:\", np.sqrt(mean_squared_error(y_test, y_pred)))\n",
    "print(\"MAE:\", mean_absolute_error(y_test, y_pred))\n",
    "print(\"MAPE:\", f\"{mean_absolute_percentage_error(y_test, y_pred) * 100:.2f}%\")\n",
    "print(\"R2-Score:\", r2_score(y_test, y_pred))\n"
   ]
  },
  {
   "cell_type": "code",
   "execution_count": 382,
   "metadata": {
    "id": "c4otvfQgF4hq",
    "tags": []
   },
   "outputs": [
    {
     "name": "stdout",
     "output_type": "stream",
     "text": [
      "* 일평균 재고량: 31583.65\n",
      "* 일평균 재고금액: 126334.62\n",
      "* 기회손실 수량: 0\n"
     ]
    }
   ],
   "source": [
    "# 비즈니스 평가\n",
    "result = inv_simulator(y_test.values, y_pred,24526, 8)\n",
    "\n",
    "# 일평균 재고금액이 가장 적게 나오도록 \n",
    "# 기회손실 수량 == 0"
   ]
  },
  {
   "cell_type": "markdown",
   "metadata": {
    "id": "lYTKSEUkF4hr"
   },
   "source": [
    "### 2) LightGBM 모델\n",
    "\n",
    "- LightGBM 모델로 예측하고 평가합니다."
   ]
  },
  {
   "cell_type": "code",
   "execution_count": 66,
   "metadata": {},
   "outputs": [],
   "source": [
    "x_train, x_val , y_train, y_val = preproc(data03)\n",
    "# 스케일링\n",
    "scaler = StandardScaler()\n",
    "x_train = scaler.fit_transform(x_train)\n",
    "x_val = scaler.transform(x_val)"
   ]
  },
  {
   "cell_type": "code",
   "execution_count": 67,
   "metadata": {
    "id": "Wj6-BtzNF4hr",
    "tags": []
   },
   "outputs": [
    {
     "name": "stdout",
     "output_type": "stream",
     "text": [
      "RMSE: 4503.987197041826\n",
      "MAE: 2957.0896162772274\n",
      "MAPE: 21.05%\n",
      "R2-Score: -0.23257630194242274\n"
     ]
    }
   ],
   "source": [
    "# 예측, 평가하기\n",
    "x_test, y_test = data_pipeline(44, 3)\n",
    "# x_train 스케일러 대로 x_test도 스케일링\n",
    "x_test = scaler.transform(x_test)\n",
    "\n",
    "model03_lgb = LGBMRegressor(learning_rate=0.05, n_estimators= 200,verbose= -1)\n",
    "\n",
    "model03_lgb.fit(x_train, y_train)\n",
    "\n",
    "y_pred = model03_lgb.predict(x_test)\n",
    "\n",
    "# 평가\n",
    "print(\"RMSE:\", np.sqrt(mean_squared_error(y_test, y_pred)))\n",
    "print(\"MAE:\", mean_absolute_error(y_test, y_pred))\n",
    "print(\"MAPE:\", f\"{mean_absolute_percentage_error(y_test, y_pred) * 100:.2f}%\")\n",
    "print(\"R2-Score:\", r2_score(y_test, y_pred))"
   ]
  },
  {
   "cell_type": "code",
   "execution_count": 68,
   "metadata": {
    "id": "vF8It3TeF4hr",
    "tags": []
   },
   "outputs": [
    {
     "name": "stdout",
     "output_type": "stream",
     "text": [
      "* 일평균 재고량: 37530.03\n",
      "* 일평균 재고금액: 281475.26\n",
      "* 기회손실 수량: 0\n"
     ]
    }
   ],
   "source": [
    "# 비즈니스 평가\n",
    "result = inv_simulator(y_test.values, y_pred,30000, 15)\n"
   ]
  },
  {
   "cell_type": "markdown",
   "metadata": {
    "id": "Er_ofmYI4Uzt"
   },
   "source": [
    "## (2) 상품 7\n",
    "\n",
    "- 7번 상품에 대해 모델 성능을 평가하고 기록합니다."
   ]
  },
  {
   "cell_type": "markdown",
   "metadata": {
    "id": "rlICVubFF4hr"
   },
   "source": [
    "### 1) Random Forest 모델\n",
    "\n",
    "- Random Forest 모델로 예측하고 평가합니다."
   ]
  },
  {
   "cell_type": "code",
   "execution_count": 288,
   "metadata": {},
   "outputs": [],
   "source": [
    "x_train, x_val , y_train, y_val = preproc(data07)\n",
    "# 스케일링\n",
    "scaler = StandardScaler()\n",
    "x_train = scaler.fit_transform(x_train)\n",
    "x_val = scaler.transform(x_val)"
   ]
  },
  {
   "cell_type": "code",
   "execution_count": 290,
   "metadata": {
    "id": "hX2fnTWJF4hs",
    "scrolled": true,
    "tags": []
   },
   "outputs": [
    {
     "name": "stdout",
     "output_type": "stream",
     "text": [
      "RMSE: 495.7878484924969\n",
      "MAE: 390.2662909951066\n",
      "MAPE: 15.24%\n",
      "R2-Score: 0.49429585330948267\n"
     ]
    }
   ],
   "source": [
    "# 예측, 평가하기\n",
    "# 예측, 평가하기\n",
    "x_test, y_test = data_pipeline(44, 7)\n",
    "# x_train 스케일러 대로 x_test도 스케일링\n",
    "x_test = scaler.transform(x_test)\n",
    "\n",
    "model07_rdf = RandomForestRegressor(max_depth=9, \n",
    "                                    max_features='sqrt',\n",
    "                                    min_samples_leaf = 2,\n",
    "                                    min_samples_split= 10,\n",
    "                                    n_estimators= 200)\n",
    "\n",
    "model07_rdf.fit(x_train, y_train)\n",
    "\n",
    "y_pred = model07_rdf.predict(x_test)\n",
    "\n",
    "# 평가\n",
    "print(\"RMSE:\", np.sqrt(mean_squared_error(y_test, y_pred)))\n",
    "print(\"MAE:\", mean_absolute_error(y_test, y_pred))\n",
    "print(\"MAPE:\", f\"{mean_absolute_percentage_error(y_test, y_pred) * 100:.2f}%\")\n",
    "print(\"R2-Score:\", r2_score(y_test, y_pred))\n"
   ]
  },
  {
   "cell_type": "code",
   "execution_count": 360,
   "metadata": {
    "id": "QM447OIVF4hs",
    "tags": []
   },
   "outputs": [
    {
     "name": "stdout",
     "output_type": "stream",
     "text": [
      "* 일평균 재고량: 4669.52\n",
      "* 일평균 재고금액: 35021.38\n",
      "* 기회손실 수량: 0\n"
     ]
    }
   ],
   "source": [
    "# 비즈니스 평가\n",
    "result = inv_simulator(y_test.values, y_pred,3173, 15)\n"
   ]
  },
  {
   "cell_type": "markdown",
   "metadata": {
    "id": "8g1KV87cF4hs"
   },
   "source": [
    "### 2) LightGBM 모델\n",
    "\n",
    "- LightGBM 모델로 예측하고 평가합니다."
   ]
  },
  {
   "cell_type": "code",
   "execution_count": 75,
   "metadata": {
    "id": "NledEttKF4hs",
    "tags": []
   },
   "outputs": [],
   "source": [
    "# 예측, 평가하기\n",
    "x_train, x_val , y_train, y_val = preproc(data07)\n",
    "# 스케일링\n",
    "scaler = StandardScaler()\n",
    "x_train = scaler.fit_transform(x_train)\n",
    "x_val = scaler.transform(x_val)\n"
   ]
  },
  {
   "cell_type": "code",
   "execution_count": 76,
   "metadata": {
    "id": "bK_UO308F4ht",
    "tags": []
   },
   "outputs": [
    {
     "name": "stdout",
     "output_type": "stream",
     "text": [
      "RMSE: 6690.8626044832845\n",
      "MAE: 6389.4941263448545\n",
      "MAPE: 251.37%\n",
      "R2-Score: -91.10198323633477\n"
     ]
    }
   ],
   "source": [
    "# 비즈니스 평가\n",
    "# 예측, 평가하기\n",
    "x_test, y_test = data_pipeline(44, 7)\n",
    "# x_train 스케일러 대로 x_test도 스케일링\n",
    "x_test = scaler.transform(x_test)\n",
    "\n",
    "model07_lgb = LGBMRegressor(learning_rate=0.05, n_estimators= 200,verbose= -1)\n",
    "\n",
    "model07_lgb.fit(x_train, y_train)\n",
    "\n",
    "y_pred = model03_lgb.predict(x_test)\n",
    "\n",
    "# 평가\n",
    "print(\"RMSE:\", np.sqrt(mean_squared_error(y_test, y_pred)))\n",
    "print(\"MAE:\", mean_absolute_error(y_test, y_pred))\n",
    "print(\"MAPE:\", f\"{mean_absolute_percentage_error(y_test, y_pred) * 100:.2f}%\")\n",
    "print(\"R2-Score:\", r2_score(y_test, y_pred))\n",
    "\n"
   ]
  },
  {
   "cell_type": "code",
   "execution_count": 77,
   "metadata": {},
   "outputs": [
    {
     "name": "stdout",
     "output_type": "stream",
     "text": [
      "* 일평균 재고량: 37566.24\n",
      "* 일평균 재고금액: 281746.81\n",
      "* 기회손실 수량: 0\n"
     ]
    }
   ],
   "source": [
    "result = inv_simulator(y_test.values, y_pred,30000, 15)"
   ]
  },
  {
   "cell_type": "markdown",
   "metadata": {
    "id": "GKfAn6QO4VEo",
    "tags": []
   },
   "source": [
    "## (3) 상품 12\n",
    "\n",
    "- 12번 상품에 대해 모델 성능을 평가하고 기록합니다."
   ]
  },
  {
   "cell_type": "markdown",
   "metadata": {
    "id": "BTFgDcBiF4ht"
   },
   "source": [
    "### 1) Random Forest 모델\n",
    "\n",
    "- Random Forest 모델로 예측하고 평가합니다."
   ]
  },
  {
   "cell_type": "code",
   "execution_count": 272,
   "metadata": {},
   "outputs": [],
   "source": [
    "x_train, x_val , y_train, y_val = preproc(data12)\n",
    "# 스케일링\n",
    "scaler = StandardScaler()\n",
    "x_train = scaler.fit_transform(x_train)\n",
    "x_val = scaler.transform(x_val)"
   ]
  },
  {
   "cell_type": "code",
   "execution_count": 274,
   "metadata": {
    "id": "MpmCueLKF4ht",
    "tags": []
   },
   "outputs": [
    {
     "name": "stdout",
     "output_type": "stream",
     "text": [
      "RMSE: 2600.7577172963925\n",
      "MAE: 1996.6906925876754\n",
      "MAPE: 17.78%\n",
      "R2-Score: 0.414808055847086\n"
     ]
    }
   ],
   "source": [
    "# 예측, 평가하기\n",
    "x_test, y_test = data_pipeline(44, 12)\n",
    "# x_train 스케일러 대로 x_test도 스케일링\n",
    "x_test = scaler.transform(x_test)\n",
    "\n",
    "model12_rdf = RandomForestRegressor(max_depth=9, \n",
    "                                    max_features='sqrt',\n",
    "                                    min_samples_leaf = 2,\n",
    "                                    min_samples_split= 10,\n",
    "                                    n_estimators= 200)\n",
    "\n",
    "model12_rdf.fit(x_train, y_train)\n",
    "\n",
    "y_pred = model12_rdf.predict(x_test)\n",
    "\n",
    "# 평가\n",
    "print(\"RMSE:\", np.sqrt(mean_squared_error(y_test, y_pred)))\n",
    "print(\"MAE:\", mean_absolute_error(y_test, y_pred))\n",
    "print(\"MAPE:\", f\"{mean_absolute_percentage_error(y_test, y_pred) * 100:.2f}%\")\n",
    "print(\"R2-Score:\", r2_score(y_test, y_pred))\n"
   ]
  },
  {
   "cell_type": "code",
   "execution_count": 275,
   "metadata": {
    "id": "WokhUzOiF4ht",
    "tags": []
   },
   "outputs": [
    {
     "name": "stdout",
     "output_type": "stream",
     "text": [
      "* 일평균 재고량: 25112.26\n",
      "* 일평균 재고금액: 75336.78\n",
      "* 기회손실 수량: 0\n"
     ]
    },
    {
     "data": {
      "text/html": [
       "<div>\n",
       "<style scoped>\n",
       "    .dataframe tbody tr th:only-of-type {\n",
       "        vertical-align: middle;\n",
       "    }\n",
       "\n",
       "    .dataframe tbody tr th {\n",
       "        vertical-align: top;\n",
       "    }\n",
       "\n",
       "    .dataframe thead th {\n",
       "        text-align: right;\n",
       "    }\n",
       "</style>\n",
       "<table border=\"1\" class=\"dataframe\">\n",
       "  <thead>\n",
       "    <tr style=\"text-align: right;\">\n",
       "      <th></th>\n",
       "      <th>y</th>\n",
       "      <th>pred</th>\n",
       "      <th>safe_stock</th>\n",
       "      <th>order</th>\n",
       "      <th>receive</th>\n",
       "      <th>base_stock</th>\n",
       "      <th>close_stock</th>\n",
       "      <th>lost</th>\n",
       "    </tr>\n",
       "  </thead>\n",
       "  <tbody>\n",
       "    <tr>\n",
       "      <th>0</th>\n",
       "      <td>11207</td>\n",
       "      <td>12347</td>\n",
       "      <td>17721</td>\n",
       "      <td>11946</td>\n",
       "      <td>11207</td>\n",
       "      <td>28928</td>\n",
       "      <td>17721</td>\n",
       "      <td>0</td>\n",
       "    </tr>\n",
       "    <tr>\n",
       "      <th>1</th>\n",
       "      <td>16590</td>\n",
       "      <td>13169</td>\n",
       "      <td>17721</td>\n",
       "      <td>11133</td>\n",
       "      <td>16590</td>\n",
       "      <td>34311</td>\n",
       "      <td>17721</td>\n",
       "      <td>0</td>\n",
       "    </tr>\n",
       "    <tr>\n",
       "      <th>2</th>\n",
       "      <td>18768</td>\n",
       "      <td>11946</td>\n",
       "      <td>17721</td>\n",
       "      <td>19365</td>\n",
       "      <td>11946</td>\n",
       "      <td>29667</td>\n",
       "      <td>10899</td>\n",
       "      <td>0</td>\n",
       "    </tr>\n",
       "    <tr>\n",
       "      <th>3</th>\n",
       "      <td>8985</td>\n",
       "      <td>11133</td>\n",
       "      <td>17721</td>\n",
       "      <td>17056</td>\n",
       "      <td>11133</td>\n",
       "      <td>22032</td>\n",
       "      <td>13047</td>\n",
       "      <td>0</td>\n",
       "    </tr>\n",
       "    <tr>\n",
       "      <th>4</th>\n",
       "      <td>8678</td>\n",
       "      <td>12543</td>\n",
       "      <td>17721</td>\n",
       "      <td>3610</td>\n",
       "      <td>19365</td>\n",
       "      <td>32412</td>\n",
       "      <td>23734</td>\n",
       "      <td>0</td>\n",
       "    </tr>\n",
       "    <tr>\n",
       "      <th>5</th>\n",
       "      <td>8965</td>\n",
       "      <td>12382</td>\n",
       "      <td>17721</td>\n",
       "      <td>0</td>\n",
       "      <td>17056</td>\n",
       "      <td>40790</td>\n",
       "      <td>31825</td>\n",
       "      <td>0</td>\n",
       "    </tr>\n",
       "    <tr>\n",
       "      <th>6</th>\n",
       "      <td>8208</td>\n",
       "      <td>9623</td>\n",
       "      <td>17721</td>\n",
       "      <td>4174</td>\n",
       "      <td>3610</td>\n",
       "      <td>35435</td>\n",
       "      <td>27227</td>\n",
       "      <td>0</td>\n",
       "    </tr>\n",
       "    <tr>\n",
       "      <th>7</th>\n",
       "      <td>9083</td>\n",
       "      <td>10538</td>\n",
       "      <td>17721</td>\n",
       "      <td>11443</td>\n",
       "      <td>0</td>\n",
       "      <td>27227</td>\n",
       "      <td>18144</td>\n",
       "      <td>0</td>\n",
       "    </tr>\n",
       "    <tr>\n",
       "      <th>8</th>\n",
       "      <td>14392</td>\n",
       "      <td>13680</td>\n",
       "      <td>17721</td>\n",
       "      <td>19460</td>\n",
       "      <td>4174</td>\n",
       "      <td>22318</td>\n",
       "      <td>7926</td>\n",
       "      <td>0</td>\n",
       "    </tr>\n",
       "    <tr>\n",
       "      <th>9</th>\n",
       "      <td>16478</td>\n",
       "      <td>11866</td>\n",
       "      <td>17721</td>\n",
       "      <td>24035</td>\n",
       "      <td>11443</td>\n",
       "      <td>19369</td>\n",
       "      <td>2891</td>\n",
       "      <td>0</td>\n",
       "    </tr>\n",
       "    <tr>\n",
       "      <th>10</th>\n",
       "      <td>8715</td>\n",
       "      <td>9665</td>\n",
       "      <td>17721</td>\n",
       "      <td>14445</td>\n",
       "      <td>19460</td>\n",
       "      <td>22351</td>\n",
       "      <td>13636</td>\n",
       "      <td>0</td>\n",
       "    </tr>\n",
       "    <tr>\n",
       "      <th>11</th>\n",
       "      <td>7505</td>\n",
       "      <td>9205</td>\n",
       "      <td>17721</td>\n",
       "      <td>0</td>\n",
       "      <td>24035</td>\n",
       "      <td>37671</td>\n",
       "      <td>30166</td>\n",
       "      <td>0</td>\n",
       "    </tr>\n",
       "    <tr>\n",
       "      <th>12</th>\n",
       "      <td>10453</td>\n",
       "      <td>10360</td>\n",
       "      <td>17721</td>\n",
       "      <td>0</td>\n",
       "      <td>14445</td>\n",
       "      <td>44611</td>\n",
       "      <td>34158</td>\n",
       "      <td>0</td>\n",
       "    </tr>\n",
       "    <tr>\n",
       "      <th>13</th>\n",
       "      <td>8592</td>\n",
       "      <td>8577</td>\n",
       "      <td>17721</td>\n",
       "      <td>5467</td>\n",
       "      <td>0</td>\n",
       "      <td>34158</td>\n",
       "      <td>25566</td>\n",
       "      <td>0</td>\n",
       "    </tr>\n",
       "    <tr>\n",
       "      <th>14</th>\n",
       "      <td>11463</td>\n",
       "      <td>9433</td>\n",
       "      <td>17721</td>\n",
       "      <td>15222</td>\n",
       "      <td>0</td>\n",
       "      <td>25566</td>\n",
       "      <td>14103</td>\n",
       "      <td>0</td>\n",
       "    </tr>\n",
       "    <tr>\n",
       "      <th>15</th>\n",
       "      <td>16763</td>\n",
       "      <td>13312</td>\n",
       "      <td>17721</td>\n",
       "      <td>24423</td>\n",
       "      <td>5467</td>\n",
       "      <td>19570</td>\n",
       "      <td>2807</td>\n",
       "      <td>0</td>\n",
       "    </tr>\n",
       "    <tr>\n",
       "      <th>16</th>\n",
       "      <td>16948</td>\n",
       "      <td>11604</td>\n",
       "      <td>17721</td>\n",
       "      <td>26139</td>\n",
       "      <td>15222</td>\n",
       "      <td>18029</td>\n",
       "      <td>1081</td>\n",
       "      <td>0</td>\n",
       "    </tr>\n",
       "    <tr>\n",
       "      <th>17</th>\n",
       "      <td>9052</td>\n",
       "      <td>9509</td>\n",
       "      <td>17721</td>\n",
       "      <td>11745</td>\n",
       "      <td>24423</td>\n",
       "      <td>25504</td>\n",
       "      <td>16452</td>\n",
       "      <td>0</td>\n",
       "    </tr>\n",
       "    <tr>\n",
       "      <th>18</th>\n",
       "      <td>8945</td>\n",
       "      <td>9499</td>\n",
       "      <td>17721</td>\n",
       "      <td>0</td>\n",
       "      <td>26139</td>\n",
       "      <td>42591</td>\n",
       "      <td>33646</td>\n",
       "      <td>0</td>\n",
       "    </tr>\n",
       "    <tr>\n",
       "      <th>19</th>\n",
       "      <td>9165</td>\n",
       "      <td>10476</td>\n",
       "      <td>17721</td>\n",
       "      <td>0</td>\n",
       "      <td>11745</td>\n",
       "      <td>45391</td>\n",
       "      <td>36226</td>\n",
       "      <td>0</td>\n",
       "    </tr>\n",
       "    <tr>\n",
       "      <th>20</th>\n",
       "      <td>8075</td>\n",
       "      <td>9187</td>\n",
       "      <td>17721</td>\n",
       "      <td>3168</td>\n",
       "      <td>0</td>\n",
       "      <td>36226</td>\n",
       "      <td>28151</td>\n",
       "      <td>0</td>\n",
       "    </tr>\n",
       "    <tr>\n",
       "      <th>21</th>\n",
       "      <td>9876</td>\n",
       "      <td>10414</td>\n",
       "      <td>17721</td>\n",
       "      <td>11445</td>\n",
       "      <td>0</td>\n",
       "      <td>28151</td>\n",
       "      <td>18275</td>\n",
       "      <td>0</td>\n",
       "    </tr>\n",
       "    <tr>\n",
       "      <th>22</th>\n",
       "      <td>15023</td>\n",
       "      <td>13598</td>\n",
       "      <td>17721</td>\n",
       "      <td>21129</td>\n",
       "      <td>3168</td>\n",
       "      <td>21443</td>\n",
       "      <td>6420</td>\n",
       "      <td>0</td>\n",
       "    </tr>\n",
       "    <tr>\n",
       "      <th>23</th>\n",
       "      <td>15789</td>\n",
       "      <td>11999</td>\n",
       "      <td>17721</td>\n",
       "      <td>25020</td>\n",
       "      <td>11445</td>\n",
       "      <td>17865</td>\n",
       "      <td>2076</td>\n",
       "      <td>0</td>\n",
       "    </tr>\n",
       "    <tr>\n",
       "      <th>24</th>\n",
       "      <td>8926</td>\n",
       "      <td>9828</td>\n",
       "      <td>17721</td>\n",
       "      <td>13994</td>\n",
       "      <td>21129</td>\n",
       "      <td>23205</td>\n",
       "      <td>14279</td>\n",
       "      <td>0</td>\n",
       "    </tr>\n",
       "    <tr>\n",
       "      <th>25</th>\n",
       "      <td>5459</td>\n",
       "      <td>9375</td>\n",
       "      <td>17721</td>\n",
       "      <td>0</td>\n",
       "      <td>25020</td>\n",
       "      <td>39299</td>\n",
       "      <td>33840</td>\n",
       "      <td>0</td>\n",
       "    </tr>\n",
       "    <tr>\n",
       "      <th>26</th>\n",
       "      <td>10035</td>\n",
       "      <td>10552</td>\n",
       "      <td>17721</td>\n",
       "      <td>0</td>\n",
       "      <td>13994</td>\n",
       "      <td>47834</td>\n",
       "      <td>37799</td>\n",
       "      <td>0</td>\n",
       "    </tr>\n",
       "    <tr>\n",
       "      <th>27</th>\n",
       "      <td>8094</td>\n",
       "      <td>8642</td>\n",
       "      <td>17721</td>\n",
       "      <td>1285</td>\n",
       "      <td>0</td>\n",
       "      <td>37799</td>\n",
       "      <td>29705</td>\n",
       "      <td>0</td>\n",
       "    </tr>\n",
       "    <tr>\n",
       "      <th>28</th>\n",
       "      <td>12173</td>\n",
       "      <td>9704</td>\n",
       "      <td>17721</td>\n",
       "      <td>11689</td>\n",
       "      <td>0</td>\n",
       "      <td>29705</td>\n",
       "      <td>17532</td>\n",
       "      <td>0</td>\n",
       "    </tr>\n",
       "  </tbody>\n",
       "</table>\n",
       "</div>"
      ],
      "text/plain": [
       "        y   pred  safe_stock  order  receive  base_stock  close_stock  lost\n",
       "0   11207  12347       17721  11946    11207       28928        17721     0\n",
       "1   16590  13169       17721  11133    16590       34311        17721     0\n",
       "2   18768  11946       17721  19365    11946       29667        10899     0\n",
       "3    8985  11133       17721  17056    11133       22032        13047     0\n",
       "4    8678  12543       17721   3610    19365       32412        23734     0\n",
       "5    8965  12382       17721      0    17056       40790        31825     0\n",
       "6    8208   9623       17721   4174     3610       35435        27227     0\n",
       "7    9083  10538       17721  11443        0       27227        18144     0\n",
       "8   14392  13680       17721  19460     4174       22318         7926     0\n",
       "9   16478  11866       17721  24035    11443       19369         2891     0\n",
       "10   8715   9665       17721  14445    19460       22351        13636     0\n",
       "11   7505   9205       17721      0    24035       37671        30166     0\n",
       "12  10453  10360       17721      0    14445       44611        34158     0\n",
       "13   8592   8577       17721   5467        0       34158        25566     0\n",
       "14  11463   9433       17721  15222        0       25566        14103     0\n",
       "15  16763  13312       17721  24423     5467       19570         2807     0\n",
       "16  16948  11604       17721  26139    15222       18029         1081     0\n",
       "17   9052   9509       17721  11745    24423       25504        16452     0\n",
       "18   8945   9499       17721      0    26139       42591        33646     0\n",
       "19   9165  10476       17721      0    11745       45391        36226     0\n",
       "20   8075   9187       17721   3168        0       36226        28151     0\n",
       "21   9876  10414       17721  11445        0       28151        18275     0\n",
       "22  15023  13598       17721  21129     3168       21443         6420     0\n",
       "23  15789  11999       17721  25020    11445       17865         2076     0\n",
       "24   8926   9828       17721  13994    21129       23205        14279     0\n",
       "25   5459   9375       17721      0    25020       39299        33840     0\n",
       "26  10035  10552       17721      0    13994       47834        37799     0\n",
       "27   8094   8642       17721   1285        0       37799        29705     0\n",
       "28  12173   9704       17721  11689        0       29705        17532     0"
      ]
     },
     "execution_count": 275,
     "metadata": {},
     "output_type": "execute_result"
    }
   ],
   "source": [
    "# 비즈니스 평가\n",
    "\n",
    "result = inv_simulator(y_test.values, y_pred,17721, 6)\n",
    "result"
   ]
  },
  {
   "cell_type": "code",
   "execution_count": 384,
   "metadata": {},
   "outputs": [
    {
     "ename": "ValueError",
     "evalue": "Length of values (31) does not match length of index (120)",
     "output_type": "error",
     "traceback": [
      "\u001b[1;31m---------------------------------------------------------------------------\u001b[0m",
      "\u001b[1;31mValueError\u001b[0m                                Traceback (most recent call last)",
      "Cell \u001b[1;32mIn[384], line 1\u001b[0m\n\u001b[1;32m----> 1\u001b[0m plot_model_result(y_train ,y_val, y_pred)\n",
      "Cell \u001b[1;32mIn[15], line 6\u001b[0m, in \u001b[0;36mplot_model_result\u001b[1;34m(y_train, y_val, y_pred, title)\u001b[0m\n\u001b[0;32m      4\u001b[0m y_val \u001b[38;5;241m=\u001b[39m pd\u001b[38;5;241m.\u001b[39mSeries(y_val)\n\u001b[0;32m      5\u001b[0m y_val\u001b[38;5;241m.\u001b[39mindex \u001b[38;5;241m=\u001b[39m \u001b[38;5;28mrange\u001b[39m(\u001b[38;5;28mlen\u001b[39m(y_train), \u001b[38;5;28mlen\u001b[39m(y_train) \u001b[38;5;241m+\u001b[39m \u001b[38;5;28mlen\u001b[39m(y_val))\n\u001b[1;32m----> 6\u001b[0m y_pred \u001b[38;5;241m=\u001b[39m pd\u001b[38;5;241m.\u001b[39mSeries(y_pred\u001b[38;5;241m.\u001b[39mreshape(\u001b[38;5;241m-\u001b[39m\u001b[38;5;241m1\u001b[39m,), index\u001b[38;5;241m=\u001b[39my_val\u001b[38;5;241m.\u001b[39mindex)\n\u001b[0;32m      8\u001b[0m \u001b[38;5;66;03m# 시각화\u001b[39;00m\n\u001b[0;32m      9\u001b[0m plt\u001b[38;5;241m.\u001b[39mfigure(figsize\u001b[38;5;241m=\u001b[39m(\u001b[38;5;241m12\u001b[39m, \u001b[38;5;241m5\u001b[39m))\n",
      "File \u001b[1;32m~\\anaconda3\\Lib\\site-packages\\pandas\\core\\series.py:575\u001b[0m, in \u001b[0;36mSeries.__init__\u001b[1;34m(self, data, index, dtype, name, copy, fastpath)\u001b[0m\n\u001b[0;32m    573\u001b[0m     index \u001b[38;5;241m=\u001b[39m default_index(\u001b[38;5;28mlen\u001b[39m(data))\n\u001b[0;32m    574\u001b[0m \u001b[38;5;28;01melif\u001b[39;00m is_list_like(data):\n\u001b[1;32m--> 575\u001b[0m     com\u001b[38;5;241m.\u001b[39mrequire_length_match(data, index)\n\u001b[0;32m    577\u001b[0m \u001b[38;5;66;03m# create/copy the manager\u001b[39;00m\n\u001b[0;32m    578\u001b[0m \u001b[38;5;28;01mif\u001b[39;00m \u001b[38;5;28misinstance\u001b[39m(data, (SingleBlockManager, SingleArrayManager)):\n",
      "File \u001b[1;32m~\\anaconda3\\Lib\\site-packages\\pandas\\core\\common.py:573\u001b[0m, in \u001b[0;36mrequire_length_match\u001b[1;34m(data, index)\u001b[0m\n\u001b[0;32m    569\u001b[0m \u001b[38;5;250m\u001b[39m\u001b[38;5;124;03m\"\"\"\u001b[39;00m\n\u001b[0;32m    570\u001b[0m \u001b[38;5;124;03mCheck the length of data matches the length of the index.\u001b[39;00m\n\u001b[0;32m    571\u001b[0m \u001b[38;5;124;03m\"\"\"\u001b[39;00m\n\u001b[0;32m    572\u001b[0m \u001b[38;5;28;01mif\u001b[39;00m \u001b[38;5;28mlen\u001b[39m(data) \u001b[38;5;241m!=\u001b[39m \u001b[38;5;28mlen\u001b[39m(index):\n\u001b[1;32m--> 573\u001b[0m     \u001b[38;5;28;01mraise\u001b[39;00m \u001b[38;5;167;01mValueError\u001b[39;00m(\n\u001b[0;32m    574\u001b[0m         \u001b[38;5;124m\"\u001b[39m\u001b[38;5;124mLength of values \u001b[39m\u001b[38;5;124m\"\u001b[39m\n\u001b[0;32m    575\u001b[0m         \u001b[38;5;124mf\u001b[39m\u001b[38;5;124m\"\u001b[39m\u001b[38;5;124m(\u001b[39m\u001b[38;5;132;01m{\u001b[39;00m\u001b[38;5;28mlen\u001b[39m(data)\u001b[38;5;132;01m}\u001b[39;00m\u001b[38;5;124m) \u001b[39m\u001b[38;5;124m\"\u001b[39m\n\u001b[0;32m    576\u001b[0m         \u001b[38;5;124m\"\u001b[39m\u001b[38;5;124mdoes not match length of index \u001b[39m\u001b[38;5;124m\"\u001b[39m\n\u001b[0;32m    577\u001b[0m         \u001b[38;5;124mf\u001b[39m\u001b[38;5;124m\"\u001b[39m\u001b[38;5;124m(\u001b[39m\u001b[38;5;132;01m{\u001b[39;00m\u001b[38;5;28mlen\u001b[39m(index)\u001b[38;5;132;01m}\u001b[39;00m\u001b[38;5;124m)\u001b[39m\u001b[38;5;124m\"\u001b[39m\n\u001b[0;32m    578\u001b[0m     )\n",
      "\u001b[1;31mValueError\u001b[0m: Length of values (31) does not match length of index (120)"
     ]
    }
   ],
   "source": [
    "plot_model_result(y_train ,y_val, y_pred)"
   ]
  },
  {
   "cell_type": "markdown",
   "metadata": {
    "id": "ebLhHqnNF4hu"
   },
   "source": [
    "### 2) LightGBM 모델\n",
    "\n",
    "- LightGBM 모델로 예측하고 평가합니다."
   ]
  },
  {
   "cell_type": "code",
   "execution_count": 84,
   "metadata": {
    "id": "fa8qP2gPF4hu",
    "tags": []
   },
   "outputs": [],
   "source": [
    "\n",
    "x_train, x_val , y_train, y_val = preproc(data12)\n",
    "# 스케일링\n",
    "scaler = StandardScaler()\n",
    "x_train = scaler.fit_transform(x_train)\n",
    "x_val = scaler.transform(x_val)\n"
   ]
  },
  {
   "cell_type": "code",
   "execution_count": 85,
   "metadata": {
    "id": "x3PaMfNFF4hu",
    "tags": []
   },
   "outputs": [
    {
     "name": "stdout",
     "output_type": "stream",
     "text": [
      "RMSE: 3128.027890073941\n",
      "MAE: 2097.918914487855\n",
      "MAPE: 17.30%\n",
      "R2-Score: 0.15347501541959463\n"
     ]
    }
   ],
   "source": [
    "\n",
    "# 예측, 평가하기\n",
    "x_test, y_test = data_pipeline(44, 12)\n",
    "# x_train 스케일러 대로 x_test도 스케일링\n",
    "x_test = scaler.transform(x_test)\n",
    "\n",
    "model07_lgb = LGBMRegressor(learning_rate=0.05, n_estimators= 200,verbose= -1)\n",
    "\n",
    "model07_lgb.fit(x_train, y_train)\n",
    "\n",
    "y_pred = model03_lgb.predict(x_test)\n",
    "\n",
    "# 평가\n",
    "print(\"RMSE:\", np.sqrt(mean_squared_error(y_test, y_pred)))\n",
    "print(\"MAE:\", mean_absolute_error(y_test, y_pred))\n",
    "print(\"MAPE:\", f\"{mean_absolute_percentage_error(y_test, y_pred) * 100:.2f}%\")\n",
    "print(\"R2-Score:\", r2_score(y_test, y_pred))\n",
    "\n"
   ]
  },
  {
   "cell_type": "code",
   "execution_count": 86,
   "metadata": {},
   "outputs": [
    {
     "name": "stdout",
     "output_type": "stream",
     "text": [
      "* 일평균 재고량: 35358.85\n",
      "* 일평균 재고금액: 265191.34\n",
      "* 기회손실 수량: 0\n"
     ]
    }
   ],
   "source": [
    "result = inv_simulator(y_test.values, y_pred,30000, 15)"
   ]
  }
 ],
 "metadata": {
  "accelerator": "GPU",
  "colab": {
   "provenance": []
  },
  "gpuClass": "standard",
  "kernelspec": {
   "display_name": "Python 3 (ipykernel)",
   "language": "python",
   "name": "python3"
  },
  "language_info": {
   "codemirror_mode": {
    "name": "ipython",
    "version": 3
   },
   "file_extension": ".py",
   "mimetype": "text/x-python",
   "name": "python",
   "nbconvert_exporter": "python",
   "pygments_lexer": "ipython3",
   "version": "3.12.4"
  }
 },
 "nbformat": 4,
 "nbformat_minor": 4
}
