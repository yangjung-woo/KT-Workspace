




















!pip install matplotlib
!pip install --upgrade matplotlib

import matplotlib.pyplot as plt








#[문제1] pandas, numpy, matplotlib 라이브러리를 임포트하세요.


import pandas as pd
import numpy as np
import matplotlib.pyplot as plt








#[문제2] '미프 1차_구매' 폴더에서 본 파일들을 열어주세요.


# 전체 데이터 불러오기

# 데이터 3개를 pd.read_csv로 불러오기
customers = pd.read_csv('customers.csv')
sales = pd.read_csv('sales.csv')
products = pd.read_csv('products.csv')


#[문제3] 'customers', 'sales' 데이터의 상단 일부 행을 출력해보세요.


#customers
customers.head()





#sales
sales.head()





#[문제4] 'customers'와 'sales' 데이터프레임의 구조와 기본 통계정보를 출력해보세요.


#customers
print(customers.shape)
customers.info()


#sales
sales.info()


#[문제5] 날짜 데이터를 날짜형식으로 변환해주세요. 날짜데이터 : customers['RegisterDate'], sales['OrderDate']


# pd.to_datetime 활용
customers['RegisterDate']  = pd.to_datetime(customers['RegisterDate'])
sales['OrderDate'] = pd.to_datetime(sales['OrderDate'])


#[문제6] 'customers'의 데이터타입이 날짜형식으로 잘 변환되었는지 확인해주세요.


customers['RegisterDate']


#[문제7] 'sales'의 데이터타입이 날짜형식으로 변환되었는지 확인해주세요.


sales['OrderDate']


#[문제8] 'sales' 데이터의 'OrderDate'의 최소값과 최대값을 표시해주세요.


# min, max 함수 활용
print(min(sales['OrderDate']) ,max(sales['OrderDate']) )

# 강사님의 해답 
# sales['OrderDate'].min(), sales['OrderDate'].max()
# Series 에도 min() , max() 라는 메서드가 있습니다.












#[문제9] 'sales' 데이터프레임에서 일별 매출액의 합계를 'daily_sales' 데이터 프레임에 할당하세요.

# 3. 일별 매출 합계 계산
daily_sales = sales.copy()
daily_sales


# 'sales'에서 주문일자별 주문 금액 합산 : groupby
daily_sales = sales.groupby('OrderDate', as_index = False)['Amt'].sum()
daily_sales


#[문제10] 'sales' 데이터프레임에서 부분인 2016년 1월~3월까지 3개월의 범위로 데이터를 선택하고 'daily_sales'에 재할당하세요.


# loc 함수 활용 
daily_sales = sales.loc[(sales['OrderDate'] >= '2016-01-01') & (sales['OrderDate'] <= '2016-03-31')]

daily_sales


#[문제11] 일자별 매출액을 'daily_sales' 데이터 프레임에 저장해주세요.


#'OrderDate' 기준 'Amt'의 합계 계산
daily_sales = daily_sales.groupby(by = 'OrderDate' , as_index=False )['Amt'].sum().reset_index()



#[문제12] 'daily_sales' 데이터를 확인해보세요.


daily_sales





#[문제13] 기간별 조회를 위해 'sales' 데이터프레임에 주문일자의 연도와 월의 변수를 추가해주세요.


# 연도는 'Year', 월은 'Month'로 변수를 추가
# 'OrderDate' 컬럼에서 dt.year, dt.month 함수 활용
sales['Year'] = sales['OrderDate'].dt.year
sales['Month'] = sales['OrderDate'].dt.month

sales


#[문제14] 월별 매출액의 합계를 구하고 'monthly_sales'에 저장해주세요.


# groupby 함수 활용, as_index = False
monthly_sales = sales.groupby(by= ['Year','Month'], as_index =False)['Amt'].sum()


#[문제15] 'monthly_sales'를 출력하고 확인해주세요.


monthly_sales


# (추가 활동) 시각화 실습 
plt.bar(x = monthly_sales['Month'].astype(str), height = monthly_sales['Amt'] )
plt.xlabel('Month')
plt.ylabel('sum of Amt month')
plt.tight_layout() 
plt.show() 

# 1 2 3 월에 매출액이 높네?
# 1,2,3 에 팔리는 아이템들을 분석해서 , 매장 배치를 바꿀까?  << 잘못된 판단 

# why ?  저희가 조사한 데이터는 2016 1월 ~ 2017년 3월까지 매출합을 총합 
#   1 2 3월은 2016 과 2017년의 매출액이 합산되어있는 상태   << 





#[문제16] 'sales' 데이터프레임에서 주문일자 기준 일별 매출액의 합계를 구해 'day_sales'에 저장하세요.


# groupby 함수 활용, 'OrderDate' 기준 'Amt'의 합산
# sum 함수 활용
day_sales = sales.groupby(by = 'OrderDate', as_index= False)['Amt'].sum()
day_sales


#[문제17] 'day_sales'에서 'OrderDate' 열의 날짜 정보를 활용하여 'Weekday' 열을 추가하세요.


# dt.day_name() 함수 
day_sales['Weekday'] = day_sales['OrderDate'].dt.day_name()
day_sales


#[문제18] day_sales 데이터프레임의 'Weekday' 열을 출력하세요.


day_sales['Weekday']


# (추가 활동)  2016년도 1월 한달 동안  요일별 매출액 확인  

day_sales = day_sales.loc[(day_sales['OrderDate'] >= '2016-01-01') & (day_sales['OrderDate'] <= '2016-01-31')]

day_sales = day_sales.groupby(by= 'Weekday',as_index = False)['Amt'].sum()


weekday_order = ['Monday', 'Tuesday', 'Wednesday', 'Thursday', 'Friday', 'Saturday', 'Sunday']
# 'Weekday' 열을 카테고리로 설정
day_sales['Weekday'] = pd.Categorical(day_sales['Weekday'], categories=weekday_order, ordered=True)

# 'Weekday' 기준으로 정렬
day_sales = day_sales.sort_values(by='Weekday')

plt.bar(x = day_sales['Weekday'], height=day_sales['Amt'])
plt.tight_layout() 
plt.show()








#[문제19] 'sales' 데이터프레임에서 주문일자,고객ID별 주문금액을 합산하여 'order_amt'에 저장하세요.


# 'OrderDate'와 'CustomerID' 기준 groupby 함수 활용
# sum 함수 활용
order_amt = sales.groupby(by = ['OrderDate','CustomerID'], as_index =False)['Amt'].sum()



#[문제20] 'order_amt'의 상단 10행을 출력하세요.


# head 함수
order_amt.head(10)


#[문제21] 'order_amt'에서 주문일자별 고객 구매액의 총 평균을 구하고 'order_amt2'에 저장하세요.


# 'OrderDate'기준 groupby 함수 활용
# mean 함수 활용
order_amt2 = order_amt.groupby(by='OrderDate',as_index=False)['Amt'].mean()

order_amt2





#[문제22] 'order_amt'에서 일별 방문 고객수를 구하고 'daily_visit'으로 저장해주세요.


# CustomerID 컬럼의 데이터 개수 계산
daily_visit = order_amt.groupby(by = 'OrderDate',as_index =False)['CustomerID'].count()

# 개인 공부용 , 방문자 수를 표현하는 컬럼 명이 CustomerID로 잘못 명시되어 있어서 방문자 수로 표현 
daily_visit.rename(columns = {'CustomerID' : 'VisitCount'},inplace = True)

daily_visit


#[문제23] 'order_amt2'에 'daily_visit' 데이터를 주문일자 컬럼 기준 추가해주세요.


# order_amt2 = pd.merge(order_amt2, daily_visit, left_on='OrderDate', right_on='OrderDate', how='left')
order_amt2 = pd.merge(order_amt2, daily_visit, on='OrderDate', how='left')
# 새로운 컬럼 추가 
# order_amt2['VisitCount'] = daily_visit['VisitCount'] , 이미 날짜 기준으로 정렬되어 있음





#[문제24] 'order_amt2' 데이터를 확인해보세요.


order_amt2





#[문제25] 'sales' 데이터와 'products' 데이터를 합쳐서 'top_amt'에 할당하세요.


# 하기 전 데이터 확인 
sales.head()


# 하기 전 데이터 확인 
products.head()


# merge 함수 활용
# top_amt = pd.merge(sales,products , left_on='ProductID',right_on='ProductID', how ='left')
top_amt = pd.merge(sales,products , on='ProductID', how ='inner') # how = inner 해도 괜찮습니다
top_amt





top_amt = pd.merge(sales,products , on='ProductID', how ='inner')
top_amt


#[문제26] 상품명을 기준으로 매출 합계를 구하여 'top_amt2'에 저장하세요


# groupby 함수 활용, sum함수 활용
top_amt2 = top_amt.groupby(by = 'ProductName',as_index=False)['Amt'].sum()
top_amt2.head()


#[문제27] 'top_amt2' 데이터프레임을 'Amt'열 기준 상위 10개의 데이터를 선택하여 내림차순으로 정렬하고 'top10_amt'에 저장하세요.


# sort_values 함수 활용
top10_amt = top_amt2.sort_values(by='Amt',ascending = False).head(10)

top10_amt.reset_index(drop=True,inplace = True) # index 의미 없어졌기에 초기화 


#[문제28] 'top10_amt' 데이터프레임을 확인하세요.


top10_amt





#[문제29] 'sales'와 'products' 데이터프레임을 합치고 'cate_amt'에 저장하세요.


# 하기 전 데이터 확인 
print(sales.head())
print(products.head())





# merge 함수
#cate_amt = pd.merge(sales, products, left_on="ProductID",right_on='ProductID',how='left')

cate_amt = pd.merge(sales, products)
cate_amt





#[문제30] 카테고리를 기준으로 매출 합계를 구하여 'cate_amt2'에 저장하세요.


# groupby, sum 함수 활용
cate_amt2 = cate_amt.groupby(by= 'Category', as_index=False)['Amt'].sum()
cate_amt2.sort_values(by='Amt',ascending =False, inplace = True)
cate_amt2.reset_index(drop=True, inplace = True)
cate_amt2



#[문제31] 카테고리별 매출 비중을 구하여 'Rate' 변수를 'cate_amt2'에 추가해주세요. 


# 매출 비중 : 'Amt' / Amt.sum()
cate_amt2['Rate']=  cate_amt2['Amt'] / cate_amt2['Amt'].sum()


# 'cate_amt2'를 출력하세요.


cate_amt2





#[문제32] 'sales'와 'products' 데이터프레임을 합치고 'day_amt'에 저장하세요.


# 하기 전 데이터 확인 
print(sales.head())
print(products.head())


#day_amt = pd.merge(sales,products, left_on ='ProductID',right_on='ProductID', how = 'left')
day_amt = pd.merge(sales, products)
day_amt.info()


#[문제33] 'day_amt' 데이터에서 'OrderDate' 열을 날짜 형식의 데이터타입으로 변환해주세요


# pd.to_datetime 함수 활용
day_amt['OrderDate'] = pd.to_datetime(day_amt['OrderDate'])
day_amt['OrderDate']


#[문제34] 'day_amt' 데이터에서 'OrderDate' 열의 날짜 정보를 활용하여 요일을 나타내는 'Weekday' 열을 추가하고 확인해주세요.


# dt.day_name() 함수 활용 
day_amt['Weekday'] = day_amt['OrderDate'].dt.day_name()
day_amt['Weekday']


#[문제35] day_amt를 요일 기준 매출액의 합을 계산하고 day_amt2에 저장하세요.


# groupby, sum 함수 활용
day_amt2 = day_amt.groupby(by='Weekday',as_index =False)['Amt'].sum()


#[문제36] day_amt2를 출력하세요.
day_amt2


#[문제37] 요일별 매출 비중을 구하여 'Rate' 변수를 'day_amt2'에 추가해주세요.


day_amt2['Rate'] = day_amt2['Amt'] / day_amt2['Amt'].sum()


#[문제38] day_amt2를 다시 출력하여 변수가 추가되었는지 확인해주세요.
day_amt2


### (추가 활동) 월 화 수 목 금 토 일 순으로 정렬하기 
weekday_order = ['Monday', 'Tuesday', 'Wednesday', 'Thursday', 'Friday', 'Saturday', 'Sunday']

# 'Weekday' 열을 카테고리로 설정
day_amt2['Weekday'] = pd.Categorical(day_amt2['Weekday'], categories=weekday_order, ordered=True)

# 'Weekday' 기준으로 정렬
day_amt2 = day_amt2.sort_values(by='Weekday')

print(day_amt2)

# 시각화 
plt.bar(x=day_amt2['Weekday'], height = day_amt2['Rate'])
plt.xlabel('Weekday')
plt.ylabel('Amt Rate')
plt.ylim(0,0.25)
plt.tight_layout() 
plt.show()





#[문제39] 고객의 태어난 연도를 활용하여 'Age'(고객 나이) 컬럼을 추가 합니다. (현재 : 2016년)


# 사전 데이터 확인 
customers.head()


# 2016년 - 고객의 태어난 연도
customers['Age'] = 2016 - customers['BirthYear']
customers


#[문제40] 고객이 몇십대 인지 'Age' 컬럼을 활용하여 'AgeGroup'(연령대) 컬럼을 추가 합니다.


# 연령대 = 나이 / 10 * 10
customers['AgeGroup'] = (customers['Age']//10 * 10) # .astype(int) 은 생략해도 됩니다.


#[문제41] 'customers' 데이터의 상단 5행을 출력하세요.


customers.head()


#[추가문제42] 고객의 성별과 가입연도에 대한 가변수를 만들고 'encoded_data'에 저장하세요.


# 데이터 확인 
print(customers.head())
print(sales.head())


# customers, Sales 데이터프레임을 CustomerID 컬럼 기준 병합, 'merged_data'에 할당
# merged_data = pd.merge(customers, sales , left_on = 'CustomerID',right_on='CustomerID',how='left')
merged_data = pd.merge(customers, sales, how='left', on='CustomerID')

# Gender 컬럼 기반 가변수화된 데이터프레임 'encoded_data' 생성(각 범주에 해당하면 1, 아니면 0)
encoded_data = pd.get_dummies(merged_data, columns =['Gender'],dtype=int) 
# 추가 옵션 drop_first = True : 데이터 양 줄일 필요가 있을 시 

# Year 컬럼 기반 다시 한번 'encoded_data'를 가변수화
encoded_data = pd.get_dummies(encoded_data, columns=['Year'],dtype=int)

encoded_data















# 사전 데이터 확인
print(customers.head())

print(min(customers['RegisterDate']),max(customers['RegisterDate']))


#[문제43] 'customers' 데이터에서 2014 ~ 2016년 신규 가입 고객을 'cust01'에 할당하세요.


# loc함수, between('2014-01-01', '2016-12-31') 활용
cust01 = customers.loc[customers['RegisterDate'].between('2014-01-01','2016-12-31')]

# loc 잘 적용되었는지 확인 
print(min(cust01['RegisterDate']),max(cust01['RegisterDate']))

# index 더이상 의미 없어짐
cust01.reset_index(drop=True, inplace =True)


#[문제44] 'cust01'을 출력하세요.


cust01


sales.head()


#[문제45] 'sales' 데이터에서 2016년 하반기에 방문한 고객을 'cust02'에 할당하세요.


# loc 함수, between('2016-07-01', '2016-12-31')
cust02 = sales.loc[sales['OrderDate'].between('2016-07-01','2016-12-31')]

# index 더이상 의미 없음 
cust02.reset_index(inplace = True, drop =True)

cust02


# 추가 확인 중복 개수 출력 
cust02['CustomerID'].value_counts()


#[문제46] 2016년 하반기에 한번 이상 방문한 고객을 'cust02'에 할당하세요.


# drop_duplicates 함수, 중복된 고객 제거   , CustomerID 열 중복 제거
# cust02 = cust02.drop_duplicates(subset = 'CustomerID' )
cust02 = cust02.drop_duplicates(subset = 'CustomerID' ,  keep='first')

# (추가) 더이상 index 는 의미상실
cust02.reset_index(drop=True, inplace = True)

# (추가) 중복확인
cust02['CustomerID'].value_counts()


#[문제47] 'cust02'을 출력하세요.


cust02


#[문제48] 대상고객 목록인 'cust01', 'cust02' 데이터를 합쳐서 'cust_churn0'으로 할당하세요.


# 데이터 확인 
print(cust01.head()) # 2014 ~ 2016년 신규 가입 고객 with age 
print(cust02.head()) # 2016년 하반기에한번 이상 방문한 고객  + 구매 물품 


# merge 함수   
# 2014~2016 신규 가입 고객 중 2016년 하반기 방문한 고객 이 대상임 
cust_churn0 = pd.merge(cust01,cust02,on='CustomerID',how='inner') 



#[문제49] 'cust_churn0'을 상단 5행 출력하세요.


cust_churn0.head() # 대상 고객: 2014~2016년 신규 가입 고객 중 2016년 하반기에 구매한 고객  = 기존 고객 





#[문제50] sales 데이터프레임에서 2017년 1~3월 구매 고객을 'cust03'에 할당하세요 
# 
# ## customerID 만 할당하란 이야기 


print(min(sales.OrderDate),max(sales.OrderDate))


# loc 함수 : 인덱싱을 사용하여 데이터프레임 내에서 조건을 만족하는 행 선택
# between('2017-01-01', '2017-03-31') 함수 활용, 중복된 CustomerID 삭제하기
# 'keep=first'로 중복된 값 중 첫번째 값 유지

cust03 =  sales.loc [sales['OrderDate'].between('2017-01-01', '2017-03-31'),['CustomerID']].drop_duplicates(keep='first') 
#cust03 =  sales.loc [sales['OrderDate'].between('2017-01-01', '2017-03-31')]
#cust03 = cust03.drop_duplicates( keep='first')
# 더이상 index의 의미가 없음 
cust03 = cust03.reset_index(drop = True)
cust03


# 추가 , 데이터 확인 
# 1. CustomerID에서 정말 중복 ID가 삭제되었는가?
cust03['CustomerID'].value_counts()


# 추가 , 데이터 확인 
# 2. 2017년 1~ 3 내 데이터들이 맞는가?
#print(min(cust03['OrderDate']),max(cust03['OrderDate']))


#[문제51] cust03에 'churn' 열을 추가하고, 해당 열의 모든 값에 0을 할당하세요.


cust03['churn'] = 0
cust03


#[문제52] 대상고객 목록인 'cust_churn0'과 2017년 1~3월 구매고객인 'cust03'을 합쳐서 'cust_churn0'으로 저장하세요.


# 병합 전 데이터 확인 
cust_churn0.head()


# 병합 전 데이터 확인 
cust03.head()


# merge 함수, how = 'left'로 왼쪽 데이터프레임의 행은 유지


cust_churn0 = pd.merge(cust_churn0, cust03, how = 'left') # 강사님의 해답코드 


# cust_churn0 = pd.merge(cust_churn0,cust03,on ='CustomerID' ,how='left')
# cust_churn0 = pd.merge(cust_churn0,cust03 ,left_on='CustomerID',right_on = 'CustomerID',,how='left')

# 사용해서는 안되는 이유 
# cust_churn0,cust03 에는 중복되는 행이 2개 만 있는게 아니다 !! Amt, Qty , OrderID ,Seq 등등 공통으로 merge 할행이 여러개일때 
# lefton, righton 옵션을 주면 해당 행 외에는 다른 정보로 판별하기에 Amt_x , Amt_y 가 나타나는 것이다 





#[문제53] 'cust_churn0'을 상단 5행 출력하세요.


cust_churn0


# (추가) 결측치가 있는 행 확인
cust_churn0[cust_churn0.churn.isna()]


#[문제54] cust_churn0 데이터의 churn 열의 NAN은 이탈 고객이다. 이탈고객은 1로 채워주세요.


# fillna 함수 활용 : 데이터프레임에서 결측값(NaN)을 원하는 값으로 채우는 함수, inplace=True
cust_churn0['churn']= cust_churn0['churn'].fillna(1)
cust_churn0


#[문제55] 데이터프레임 cust_churn0의 'churn' 열의 데이터 타입을 정수형(int64)으로 변환하세요.


# astype('int64')
cust_churn0['churn'] = cust_churn0['churn'].astype('int64')
cust_churn0


#[문제56] 데이터프레임 cust_churn0의 각 값들의 개수를 반환하여 고객 이탈 여부의 빈도수를 확인해주세요.


# value_counts() 함수 활용
cust_churn0['churn'].value_counts()



# 이탈률
rate =cust_churn0['churn'].sum() / cust_churn0['churn'].count()
rate 
#약 33% 정도 기존 고객이 이탈함 











#<① 가입연수> 
#[문제57] 'RegisterDate' 열의 데이터는 datetime 형식으로 변환합니다.


# 데이터 확인
customers.head()


#pd.to_datetime 함수
customers['RegisterDate'] = pd.to_datetime(customers['RegisterDate'])


#[문제58] 2016-12-31 기준으로 가입 연수 'RegDuration' 열을 'cust_churn0'에 추가하여 출력해주세요.


#가입연수 : 2016년 - 등록연도 (RegisterDate.dt.year)
cust_churn0['RegDuration'] = 2016 - cust_churn0.RegisterDate.dt.year
cust_churn0.head()


#<② 3개월간 방문 횟수> 
#[문제59] sales에서 주문일자('OrderDate')가 '2016-10-01'부터 '2016-12-31' 사이인 데이터를 선택하여 'temp'에 저장하세요.


# loc 함수, between
temp = sales.loc[sales['OrderDate'].between('2016-10-01','2016-12-31')]

# index는 더이상 의미 없음
temp.reset_index(drop=True , inplace = True)

temp


#<② 3개월간 방문 횟수> 
#[문제60] 'OrderID', 'OrderDate', 'CustomerID' 열만을 필터링해서 중복된 행을 제거하고 'temp'에 저장하여 출력하세요.


# 열 만을 필터링 해서                                  # 중복 행 제거 
temp = temp[['OrderID', 'OrderDate','CustomerID']].drop_duplicates()
temp


# drop_duplicates() 함수 활용
#temp = temp.drop_duplicates(subset =['OrderID', 'OrderDate', 'CustomerID'] ,keep='first')

# index는 더이상 의미 없음
#temp.reset_index(drop =True, inplace =True)

#temp





#<② 3개월간 방문 횟수>  
#[문제61] 'temp' 데이터에서 각 고객별 'OrderDate'열의 개수를 세어서 'temp2'에 저장하세요.


# groupy() 함수
temp2 = temp.groupby(by='CustomerID',as_index = False)['OrderDate'].count()

temp2


#<② 3개월간 방문 횟수>  
#[문제62] 'temp2' 데이터의 'OrderDate' 열의 이름을 'Visit_3M_Cnt'로 변경하고 확인해주세요.


# rename() 함수
temp2.rename(columns ={'OrderDate':'Visit_3M_Cnt'}, inplace = True)
temp2


#<② 3개월간 방문 횟수> 
#[문제63] cust_churn0과 temp2을 합쳐서 'cust_churn1'으로 저장하세요. how= 'left'로 기존 데이터는 유지해주세요.  


# 사전 데이터 확인 
print(cust_churn0.head())
print(temp2)


# pd.merge 함수
# cust_churn1 = pd.merge(cust_churn0,temp2,left_on='CustomerID', right_on ='CustomerID',how = 'left') 너무 장황한 표기방법

# 가능한 간결하게 
cust_churn1 = pd.merge(cust_churn0, temp2, how = 'left')



#[문제64] cust_churn1 출력하고 확인해주세요.


cust_churn1



cust_churn1.columns


#<③ 3개월간 구매금액>
#[문제65] 최근 3개월(2016-10-01~2016-12-31)간 고객별 구매금액을 계산하여 'temp'에 저장해주세요.


# loc 함수, between
# sales 

# 해답  
temp = sales.loc[sales['OrderDate'].between('2016-10-01', '2016-12-31'), ['CustomerID', 'Amt']]
#오답 
# 이유: '계산' 하라는 의미가 Sum을 구하라는 뜻으로 생각함 ,  정답은 CustomerID에 해당하는 구매량을 출력하라는 의미 
#temp = sales.loc[sales['OrderDate'].between('2016-10-01','2016-12-31')]  
# sum은 이후에 할 것

temp 


temp = temp.groupby(by='CustomerID',as_index = False)['Amt'].sum()

temp


#<③ 3개월간 구매금액>
#[문제66] 데이터프레임 temp를 'CustomerID'를 기준으로 그룹화하고 각 고객별로 'Amt' 열의 합을 계산하여 'temp2'를 생성하세요.


# groupby 함수
temp2 = temp.groupby(by='CustomerID', as_index=False )['Amt'].sum()

temp2


#<③ 3개월간 구매금액>
#[문제67] 'temp2'에서 'Amt'열의 이름을 'Amt_3M_sum'으로 변경해주세요. 


# renam 함수
temp2.rename(columns ={'Amt':'Amt_3M_sum'}, inplace = True)
temp2


#<③ 3개월간 구매금액>
#[문제68] cust_churn1, temp2을 합쳐서 'cust_churn2'으로 저장하세요.


print(cust_churn1.head())
print(temp2.head())


# pd.merge 함수
# 해답
cust_churn2 = pd.merge(cust_churn1, temp2 , how = 'left')
# 오답
#cust_churn2 = pd.merge(cust_churn1, temp2 , how = 'inner')


#[문제69] 'cust_churn2'를 출력하고 확인하세요.


cust_churn2


#[문제70] cust_churn2를 cust_churn으로 저장하세요.


cust_churn=cust_churn2.copy()

cust_churn











# 대상고객 만들기
# 2014-2016 에 가입한 신규고객 이면서
cust01 = customers.loc[customers['RegisterDate'].between('2014-01-01','2016-12-31')]
# 2016년 하반기에 한번 이상 방문한 고객
cust02 = sales.loc[sales['OrderDate'].between('2016-07-01','2016-12-31')]
# cust01과 cust02 merge
cust03 = pd.merge(cust01, cust02, how='left', on='CustomerID')

# 세대명 매핑
cust03['Generation'] = cust03['BirthYear'].apply(lambda x: '베이비부머' if 1954 <= x < 1965 else
                                     'X세대' if 1965 <= x < 1980 else
                                     'M세대' if 1985 <= x < 1990 else
                                     'Z세대' if 1990 <= x else
                                     '시니어')

# 세대 라벨링
from sklearn.preprocessing import LabelEncoder
encoder = LabelEncoder()

cust03['GeneLE'] = encoder.fit_transform(cust03['Generation'])

# 확인
display(cust03.head())

# cust_churn과 cust03 merge
cust03 = cust03[['CustomerID', 'Generation', 'GeneLE']]
cust_churn = pd.merge(cust_churn, cust03, how='left', on='CustomerID')

# 확인
display(cust_churn.head())





#베이비붐 세대
babyboom = cust_churn3.loc[(1950<=cust_churn3['BirthYear']) & (cust_churn3['BirthYear']<= 1964)][['CustomerID']]
babyboom['Generation'] = 'b'
# x세대

x = cust_churn3.loc[(1965<=cust_churn3['BirthYear']) & (cust_churn3['BirthYear']<= 1979)][['CustomerID']]
x['Generation'] = 'x'

#밀레니얼 세대
m = cust_churn3.loc[(1980<=cust_churn3['BirthYear']) & (cust_churn3['BirthYear']<= 1994)][['CustomerID']]
m['Generation'] = 'm'

#z세대
z = cust_churn3.loc[(1995<=cust_churn3['BirthYear'])][['CustomerID']]
z['Generation'] = 'z'

#cus_gen에 베이비붐, x세대 merge
cus_gen = pd.merge(babyboom, x, how = 'outer')
#cus_gen와 밀레니얼 세대 merge
cus_gen = pd.merge(cus_gen, m, how = 'outer')
#cus_gen에 z세대 merge
cus_gen = pd.merge(cus_gen, z, how = 'outer')
# cust_churn3와 cus_gen병합하여 cust_churn4에 저장
cust_churn4 = pd.merge(cust_churn3, cus_gen, how = 'left')


# na값은 시니어 세대로 채우기
cust_churn4['Generation'] = cust_churn4['Generation'].fillna('s')

display(cust_churn4['Generation'].value_counts())
cust_churn4





# 고객의 나이대를 통계청에서 제공한 분류 기준으로 구분 

def categorize_generation(year): # 함수 생성   
    if year <= 1950:
        return 'Serior'
    elif 1950 < year <= 1964:
        return 'Baby_boomer'
    elif 1965 <= year <= 1979:
        return 'X'
    elif 1980 <= year <= 1994:
        return 'M'
    else:  # 1995 < year
        return 'Z'
 

# 'Generarion' 열 추가
customers['Generation'] = customers['BirthYear'].apply(categorize_generation)
customers['Generation'].value_counts()

# sales 와 products 합병
temp1 = pd.merge(sales,products , on ='ProductID',how='left')
# sales 와 합병 
temp2 = pd.merge(temp1,customers , on ='CustomerID',how='left')
# sales , product , Customer_gen 을 모두 합친 temp2 데이터 프레임 확인 
display(temp2)

#1. 시각화 파이차트 
plt.rcParams['font.family'] = 'Malgun Gothic'  # 또는 'AppleGothic' (Mac 사용 시) ,한글 폰트 설정 (윈도우에서는 'Malgun Gothic', MacOS에서는 'AppleGothic')
plt.rcParams['axes.unicode_minus'] = False# 유니코드에서 마이너스 기호(-)가 깨지는 경우 방지

# Generation별 구매 횟수 계산
generation_counts = temp2['Generation'].value_counts()
# 파이차트 그리기
plt.figure(figsize=(8, 8))
plt.pie(generation_counts, labels=generation_counts.index, autopct='%1.1f%%', startangle=90, colors=['#ff9999','#66b3ff','#99ff99','#ffcc99','000000'])
plt.title('Generation별 구매 비율')
plt.axis('equal')  # 파이를 동그랗게 표시
plt.legend(title='Generation', loc='upper right')
plt.show()

# 2. 판매량 Amt  을 'Generation' 세대별  구매량을 시각화 
Sales_gen = temp2.groupby(by='Generation',as_index= False)['Amt'].sum()
plt.bar(x=Sales_gen['Generation'], height = Sales_gen['Amt'])
# 구매 품목 별로 더 세분화
grouped = temp2.groupby(by= ['Generation', 'Category'], as_index =False ).size().reset_index(drop = True)


# 3. 세대별 구매 품목 세분화 막대그래프 
df = pd.DataFrame(grouped)
# 피벗 테이블로 변환: 세대별 각 카테고리의 size 값을 피벗
pivot_df = df.pivot(index='Generation', columns='Category', values='size')
# 막대 그래프 그리기
pivot_df.plot(kind='bar', figsize=(12, 8))
plt.title('Generation-wise Purchases by Category')
plt.xlabel('Generation')
plt.ylabel('Purchase Size')
plt.xticks(rotation=45)  # 세대 레이블 45도 회전
plt.legend(title='Category')







# 대상고객 만들기
# 2014-2016 에 가입한 신규고객 이면서
cust01 = customers.loc[customers['RegisterDate'].between('2014-01-01','2016-12-31')]
# 2016년 하반기에 한번 이상 방문한 고객
cust02 = sales.loc[sales['OrderDate'].between('2016-07-01','2016-12-31')]

# 확인
display(cust01.head())
print('='*70)
display(cust02.head())

# cust01과 cust02 merge
cust03 = pd.merge(cust01, cust02, how='left', on='CustomerID')

# cust03을 CustomerID별 구매금액 합계 집계
cust_amt = cust03.groupby(by='CustomerID', as_index=False)['Amt'].sum()

# 기술통계정보확인
display(cust_amt.describe())

# 구매금액기준 오름차순 정렬
cust_amt = cust_amt.sort_values(by='Amt').reset_index(drop=True)

# 히스토그램으로 분포 확인
cust_amt.plot(kind='hist')






# CustomerID, Addr1을 저장한 데이터 프레임 만들기
temp = customers[['CustomerID', 'Addr1']]
# sklearn의 LabelEncoder로 인코딩
from sklearn.preprocessing import LabelEncoder
encoder = LabelEncoder()

temp['Addr1_LE'] = encoder.fit_transform(temp['Addr1'])

temp['Addr1_LE']

# 기존 열과 비교 및 확인
temp[['Addr1', 'Addr1_LE']].drop_duplicates().sort_values(by='Addr1_LE')

# cust_churn 데이터프레임 불러오기
cust_churn = pd.read_csv('cust_churn.csv')

# cust_churn에 'Addr1_LE' merge
cust_churn = pd.merge(cust_churn, temp, how='left', on='CustomerID')

# cust_churn 확인
cust_churn





# 지역별 고객 수 feature 추가
# 기존 시도별 고객 수 확인
cust_churn0['Addr1'].value_counts()
# 지역 구분
city = []
for i in cust_churn0['Addr1']:
    if (i == '경기도') or (i == '서울특별시') or (i == '인천광역시'):
        city.append('수도권')
    elif (i == '강원도'):
        city.append('강원')
    elif (i == '충청북도') or (i == '충청남도'):
        city.append('충남/충북')
    elif (i == '대구광역시') or (i == '경상북도'):
        city.append('대구/경북')
    elif (i == '전라남도') or (i == '전라북도'):
        city.append('전남/전북')
    elif (i == '광주광역시'):
        city.append('광주')
    else:
        city.append('경남')

cust_churn0['city'] = city
cust_churn0






cust_churn3 = cust_churn2.copy()
#지역 데이터프레임 만들기
reg_cat = {'Addr1': ['경기도', '서울특별시', '인천광역시', '강원도', '광주광역시', '전라남도', '전라북도', '대구광역시', '경상북도', '부산광역시', '경상남도', '충청남도', '충청북도'],
        'region': ['수도권', '수도권', '수도권', '수도권', '전남/전북', '전남/전북', '전남/전북', '대구/경북', '대구/경북', '부산/경남', '부산/경남', '충남/충북', '충남/충북']}
temp = pd.DataFrame(reg_cat)
temp
# 고객데이터와 지역데이터프레임 합치기
cust_churn3 = pd.merge(cust_churn3, temp, how = 'left')

cust_churn3









#[문제71] 전처리된 데이터프레임 'cust_churn'을 CSV 파일로 저장합니다.


# 파일 : 'cust_churn.csv'
# to_csv 함수 활용
cust_churn.to_csv('cust_churn.csv', encoding ='utf-8',index =False)


#[문제72] 데이터가 잘 저장되었는지 다시 한번 불러오고 확인해보세요.


path = 'C:/Users/User/Desktop/KT Aivle/KT_AIVLE_DX_Regular_course/Week1/DX_미니프로젝트 1차_ 1일차 실습자료/cust_churn.csv' # 변동

check = pd.read_csv(path)





## 정말 고생 많으셨습니다.
check.head()


check.shape









