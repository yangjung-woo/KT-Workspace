{
 "cells": [
  {
   "cell_type": "markdown",
   "metadata": {
    "id": "y1J78TFSRrSA"
   },
   "source": [
    "<center><img src='https://raw.githubusercontent.com/Jangrae/img/master/ml_python.png' width=600/></center>"
   ]
  },
  {
   "cell_type": "markdown",
   "metadata": {
    "id": "TSPbV_6rfe4O"
   },
   "source": [
    "# 실습 내용\n",
    "\n",
    "- Boston 데이터를 대상으로 모델링를 진행합니다.\n",
    "- 개별 모델과 스태킹(Stacking) 모델의 관계를 확인합니다."
   ]
  },
  {
   "cell_type": "markdown",
   "metadata": {
    "id": "FDf7jozdnCP6"
   },
   "source": [
    "# 1.환경 준비\n",
    "\n",
    "- 기본 라이브러리와 대상 데이터를 가져와 이후 과정을 준비합니다."
   ]
  },
  {
   "cell_type": "code",
   "execution_count": null,
   "metadata": {
    "id": "CrhJhlvrnCQN",
    "scrolled": true
   },
   "outputs": [],
   "source": [
    "# 라이브러리 불러오기\n",
    "import numpy as np\n",
    "import pandas as pd\n",
    "import matplotlib.pyplot as plt\n",
    "import seaborn as sns\n",
    "import warnings\n",
    "\n",
    "warnings.filterwarnings(action='ignore')\n",
    "%config InlineBackend.figure_format = 'retina'"
   ]
  },
  {
   "cell_type": "code",
   "execution_count": null,
   "metadata": {
    "id": "G7wr7hI7nCQR"
   },
   "outputs": [],
   "source": [
    "# 데이터 읽어오기\n",
    "path = 'https://raw.githubusercontent.com/Jangrae/csv/master/diabetes.csv'\n",
    "data = pd.read_csv(path)"
   ]
  },
  {
   "cell_type": "markdown",
   "metadata": {
    "id": "MwQuL-7-nCQT"
   },
   "source": [
    "# 2.데이터 이해\n",
    "\n",
    "- 분석할 데이터를 충분히 이해할 수 있도록 다양한 탐색 과정을 수행합니다."
   ]
  },
  {
   "cell_type": "code",
   "execution_count": null,
   "metadata": {
    "colab": {
     "base_uri": "https://localhost:8080/",
     "height": 250
    },
    "executionInfo": {
     "elapsed": 18,
     "status": "ok",
     "timestamp": 1650721087083,
     "user": {
      "displayName": "Jangrae Lee",
      "userId": "08475661575434032088"
     },
     "user_tz": -540
    },
    "id": "K2pz6Ee7nCQV",
    "outputId": "e20b2fc3-c041-4220-e12d-b4059852882f"
   },
   "outputs": [],
   "source": [
    "# 상위 몇 개 행 확인\n",
    "data.head()"
   ]
  },
  {
   "cell_type": "code",
   "execution_count": null,
   "metadata": {
    "colab": {
     "base_uri": "https://localhost:8080/",
     "height": 250
    },
    "executionInfo": {
     "elapsed": 16,
     "status": "ok",
     "timestamp": 1650721087083,
     "user": {
      "displayName": "Jangrae Lee",
      "userId": "08475661575434032088"
     },
     "user_tz": -540
    },
    "id": "whCAH-EAnCQV",
    "outputId": "2cd34c97-5356-466b-dd4a-d768933782e9"
   },
   "outputs": [],
   "source": [
    "# 하위 몇 개 행 확인\n",
    "data.tail()"
   ]
  },
  {
   "cell_type": "code",
   "execution_count": null,
   "metadata": {
    "colab": {
     "base_uri": "https://localhost:8080/"
    },
    "executionInfo": {
     "elapsed": 16,
     "status": "ok",
     "timestamp": 1650721087084,
     "user": {
      "displayName": "Jangrae Lee",
      "userId": "08475661575434032088"
     },
     "user_tz": -540
    },
    "id": "1ZsXdcfp8uwI",
    "outputId": "71615823-17e6-43f7-93a9-ae7d8cfea7b7"
   },
   "outputs": [],
   "source": [
    "# 변수 확인\n",
    "data.info()"
   ]
  },
  {
   "cell_type": "markdown",
   "metadata": {
    "id": "pbCps4sLnCQa"
   },
   "source": [
    "# 3.데이터 준비\n",
    "\n",
    "- 전처리 과정을 통해 머신러닝 알고리즘에 사용할 수 있는 형태의 데이터를 준비합니다."
   ]
  },
  {
   "cell_type": "markdown",
   "metadata": {
    "id": "ku-wLJGX5TGS"
   },
   "source": [
    "**1) x, y 분리**"
   ]
  },
  {
   "cell_type": "code",
   "execution_count": null,
   "metadata": {
    "id": "wwiBjMMknCQc"
   },
   "outputs": [],
   "source": [
    "# target 확인\n",
    "target = 'Outcome'\n",
    "\n",
    "# 데이터 분리\n",
    "x = data.drop(columns=target)\n",
    "y = data.loc[:, target]"
   ]
  },
  {
   "cell_type": "markdown",
   "metadata": {
    "id": "Q2pyQOxS5dFb"
   },
   "source": [
    "**2) 학습용, 평가용 데이터 분리**"
   ]
  },
  {
   "cell_type": "code",
   "execution_count": null,
   "metadata": {
    "id": "FsW0b-pXnCQf"
   },
   "outputs": [],
   "source": [
    "# 모듈 불러오기\n",
    "from sklearn.model_selection import train_test_split\n",
    "\n",
    "# 7:3으로 분리\n",
    "x_train, x_test, y_train, y_test = train_test_split(x, y, test_size=0.3, random_state=1) "
   ]
  },
  {
   "cell_type": "markdown",
   "metadata": {
    "id": "6SJRfUgvnCQf"
   },
   "source": [
    "# 4.모델링\n",
    "\n",
    "- 본격적으로 모델을 선언하고 학습하고 평가하는 과정을 진행합니다.\n",
    "- 우선 회귀 문제인지 분류 문제인지 명확히 구분합니다."
   ]
  },
  {
   "cell_type": "markdown",
   "metadata": {},
   "source": [
    "**1) 불러오기**\n",
    "\n",
    "- 사용할 라이브러리를 모두 불러옵니다."
   ]
  },
  {
   "cell_type": "code",
   "execution_count": null,
   "metadata": {},
   "outputs": [],
   "source": [
    "# 불러오기\n",
    "from sklearn.tree import DecisionTreeClassifier\n",
    "from sklearn.neighbors import KNeighborsClassifier\n",
    "from sklearn.linear_model import LogisticRegression\n",
    "from sklearn.ensemble import RandomForestClassifier\n",
    "from sklearn.ensemble import StackingClassifier\n",
    "from sklearn.model_selection import cross_val_predict, GridSearchCV\n",
    "from lightgbm import LGBMClassifier\n",
    "\n",
    "from sklearn.preprocessing import MinMaxScaler\n",
    "from sklearn.pipeline import make_pipeline\n",
    "from sklearn.metrics import *"
   ]
  },
  {
   "cell_type": "markdown",
   "metadata": {},
   "source": [
    "**2) 개별 모델 선언과 학습**\n",
    "\n",
    "- 개별 모델을 선언하고 학습합니다."
   ]
  },
  {
   "cell_type": "code",
   "execution_count": null,
   "metadata": {},
   "outputs": [],
   "source": [
    "# KNN\n",
    "model_knn = make_pipeline(MinMaxScaler(), KNeighborsClassifier())\n",
    "model_knn.fit(x_train, y_train)\n",
    "\n",
    "# Decision Tree\n",
    "model_dt = DecisionTreeClassifier(random_state=1)\n",
    "model_dt.fit(x_train, y_train)\n",
    "\n",
    "# Logistic Regression\n",
    "model_lr = LogisticRegression()\n",
    "model_lr.fit(x_train, y_train)\n",
    "\n",
    "# Light GBM\n",
    "model_lgb = LGBMClassifier(random_state=1, verbose=-1)\n",
    "model_lgb.fit(x_train, y_train)"
   ]
  },
  {
   "cell_type": "markdown",
   "metadata": {},
   "source": [
    "**3) 최종 모델 만들기**\n",
    "\n",
    "- 개별 모델의 예측값으로 학습한 최종 모델을 만듭니다."
   ]
  },
  {
   "cell_type": "code",
   "execution_count": null,
   "metadata": {},
   "outputs": [],
   "source": [
    "# 예측 결과 수집\n",
    "pred_dict = {'p1': cross_val_predict(model_lr, x_train, y_train, cv=5),\n",
    "             'p2': cross_val_predict(model_knn, x_train, y_train, cv=5),\n",
    "             'p3': cross_val_predict(model_dt, x_train, y_train, cv=5),\n",
    "             'p4': cross_val_predict(model_lgb, x_train, y_train, cv=5)}\n",
    "\n",
    "# 데이터프레임 선언\n",
    "result = pd.DataFrame(pred_dict)\n",
    "\n",
    "# 최종 모델 학습\n",
    "final_model = RandomForestClassifier(random_state=1)\n",
    "final_model.fit(result, y_train)"
   ]
  },
  {
   "cell_type": "markdown",
   "metadata": {},
   "source": [
    "**4) 예측하고 평가**\n",
    "\n",
    "- 개별 모델이 예측한 값으로 최종 모델이 학습해 다시 예측합니다."
   ]
  },
  {
   "cell_type": "code",
   "execution_count": null,
   "metadata": {},
   "outputs": [],
   "source": [
    "# 예측 결과 수집\n",
    "pred_dict = {'p1': model_lr.fit(x_train, y_train).predict(x_test),\n",
    "             'p2': model_knn.fit(x_train, y_train).predict(x_test),\n",
    "             'p3': model_dt.fit(x_train, y_train).predict(x_test),\n",
    "             'p4': model_lgb.fit(x_train, y_train).predict(x_test)}\n",
    "\n",
    "# 데이터프레임 선언\n",
    "result = pd.DataFrame(pred_dict)\n",
    "\n",
    "# 최종 모델 예측\n",
    "y_pred = final_model.predict(result)\n",
    "\n",
    "# 평가하기\n",
    "print(confusion_matrix(y_test, y_pred))\n",
    "print(classification_report(y_test, y_pred))"
   ]
  },
  {
   "cell_type": "markdown",
   "metadata": {},
   "source": [
    "**5) 스태킹 보델 사용**\n",
    "\n",
    "- 스캐팅 모델을 만들고 학습한 후 예측해 봅니다. "
   ]
  },
  {
   "cell_type": "code",
   "execution_count": null,
   "metadata": {
    "colab": {
     "base_uri": "https://localhost:8080/"
    },
    "executionInfo": {
     "elapsed": 783,
     "status": "ok",
     "timestamp": 1650721088264,
     "user": {
      "displayName": "Jangrae Lee",
      "userId": "08475661575434032088"
     },
     "user_tz": -540
    },
    "id": "lrCUTzIr1Ajt",
    "outputId": "c2bbb5a3-b718-4767-f5da-6280e84b1724"
   },
   "outputs": [],
   "source": [
    "# 스태킹 모델 선언\n",
    "estimators = [('lr', model_lr), \n",
    "              ('dt', model_dt), \n",
    "              ('knn', model_knn), \n",
    "              ('lgb', model_lgb)]\n",
    "\n",
    "model = StackingClassifier(estimators=estimators, final_estimator=RandomForestClassifier(random_state=1))\n",
    "\n",
    "# 학습하기\n",
    "model.fit(x_train, y_train)\n",
    "\n",
    "# 예측하기\n",
    "y_pred = model.predict(x_test)\n",
    "\n",
    "# 평가하기\n",
    "print(confusion_matrix(y_test, y_pred))\n",
    "print(classification_report(y_test, y_pred))"
   ]
  },
  {
   "cell_type": "markdown",
   "metadata": {},
   "source": [
    "- 개별 모델 성능을 확인합니다."
   ]
  },
  {
   "cell_type": "code",
   "execution_count": null,
   "metadata": {},
   "outputs": [],
   "source": [
    "# 개별 모델 성능 확인\n",
    "for m in [model_knn, model_dt, model_lr, model_lgb]:\n",
    "    m.fit(x_train, y_train)\n",
    "    y_pred = m.predict(x_test)\n",
    "    print(f'* {m.__class__.__name__} Accuracy Score: {accuracy_score(y_test, y_pred):.4f}')"
   ]
  },
  {
   "cell_type": "markdown",
   "metadata": {
    "id": "whTmuSDx3a_d"
   },
   "source": [
    "# 5.성능 튜닝\n",
    "\n",
    "- GridSearchCV로 개별 모델의 성능을 최적화합니다.\n",
    "- 성능이 최적화된 개별 모델을 사용하는 보팅 모델을 만들고 성능을 확인합니다."
   ]
  },
  {
   "cell_type": "markdown",
   "metadata": {},
   "source": [
    "**1) 개별 모델 성능 최적화**\n",
    "\n",
    "- GridSearchCV로 개별 모델의 성능을 최적화합니다."
   ]
  },
  {
   "cell_type": "code",
   "execution_count": null,
   "metadata": {
    "colab": {
     "base_uri": "https://localhost:8080/",
     "height": 465
    },
    "executionInfo": {
     "elapsed": 613,
     "status": "ok",
     "timestamp": 1728365175399,
     "user": {
      "displayName": "Jangrae Lee",
      "userId": "08475661575434032088"
     },
     "user_tz": -540
    },
    "id": "i7gy_QiQ4vjx",
    "outputId": "ed35f03b-d41f-4beb-b910-3ec64daacf4c"
   },
   "outputs": [],
   "source": [
    "# KNN\n",
    "param = {'kneighborsclassifier__n_neighbors': range(2, 11, 1)}\n",
    "model_grid = GridSearchCV(make_pipeline(MinMaxScaler(), KNeighborsClassifier()), param)\n",
    "model_grid.fit(x_train, y_train)\n",
    "model_knn = model_grid.best_estimator_\n",
    "\n",
    "# Decision Tree\n",
    "param = {'max_depth': range(1, 11, 1)}\n",
    "model_grid = GridSearchCV(DecisionTreeClassifier(), param)\n",
    "model_grid.fit(x_train, y_train)\n",
    "model_dt = model_grid.best_estimator_\n",
    "\n",
    "# Logistic Regression\n",
    "model_lr = LogisticRegression()\n",
    "model_lr = model_lr.fit(x_train, y_train)\n",
    "\n",
    "# LightGBM\n",
    "param = {'max_depth': range(1, 11, 1)}\n",
    "model_grid = GridSearchCV(LGBMClassifier(verbose=-1), param)\n",
    "model_grid.fit(x_train, y_train)\n",
    "model_lgb = model_grid.best_estimator_"
   ]
  },
  {
   "cell_type": "markdown",
   "metadata": {},
   "source": [
    "**2) 스태킹 모델 선언**\n",
    "\n",
    "- 성능이 최적화된 개별 모델을 사용하는 스태킹 모델을 만들고 성능을 확인합니다."
   ]
  },
  {
   "cell_type": "code",
   "execution_count": null,
   "metadata": {
    "colab": {
     "base_uri": "https://localhost:8080/",
     "height": 465
    },
    "executionInfo": {
     "elapsed": 613,
     "status": "ok",
     "timestamp": 1728365175399,
     "user": {
      "displayName": "Jangrae Lee",
      "userId": "08475661575434032088"
     },
     "user_tz": -540
    },
    "id": "i7gy_QiQ4vjx",
    "outputId": "ed35f03b-d41f-4beb-b910-3ec64daacf4c"
   },
   "outputs": [],
   "source": [
    "# 스태킹 모델 선언\n",
    "estimators = [('lr', model_lr), \n",
    "              ('dt', model_dt), \n",
    "              ('knn', model_knn), \n",
    "              ('lgb', model_lgb)]\n",
    "\n",
    "model = StackingClassifier(estimators=estimators, final_estimator=RandomForestClassifier(random_state=1))\n",
    "\n",
    "# 학습하기\n",
    "model.fit(x_train, y_train)\n",
    "\n",
    "# 예측하기\n",
    "y_pred = model.predict(x_test)\n",
    "\n",
    "# 평가하기\n",
    "print(confusion_matrix(y_test, y_pred))\n",
    "print(classification_report(y_test, y_pred))"
   ]
  },
  {
   "cell_type": "markdown",
   "metadata": {},
   "source": [
    "- 개별 모델 성능도 확인합니다."
   ]
  },
  {
   "cell_type": "code",
   "execution_count": null,
   "metadata": {},
   "outputs": [],
   "source": [
    "# 개별 모델 성능 확인\n",
    "for m in [model_knn, model_dt, model_lr, model_lgb]:\n",
    "    y_pred = m.predict(x_test)\n",
    "    print(f'* {m.__class__.__name__} Accuracy Score: {accuracy_score(y_test, y_pred):.4f}')"
   ]
  }
 ],
 "metadata": {
  "colab": {
   "collapsed_sections": [],
   "name": "MLX_04_스태킹(Stacking, Diabetes).ipynb",
   "provenance": [],
   "toc_visible": true
  },
  "kernelspec": {
   "display_name": "Python 3 (ipykernel)",
   "language": "python",
   "name": "python3"
  },
  "language_info": {
   "codemirror_mode": {
    "name": "ipython",
    "version": 3
   },
   "file_extension": ".py",
   "mimetype": "text/x-python",
   "name": "python",
   "nbconvert_exporter": "python",
   "pygments_lexer": "ipython3",
   "version": "3.11.9"
  }
 },
 "nbformat": 4,
 "nbformat_minor": 4
}
