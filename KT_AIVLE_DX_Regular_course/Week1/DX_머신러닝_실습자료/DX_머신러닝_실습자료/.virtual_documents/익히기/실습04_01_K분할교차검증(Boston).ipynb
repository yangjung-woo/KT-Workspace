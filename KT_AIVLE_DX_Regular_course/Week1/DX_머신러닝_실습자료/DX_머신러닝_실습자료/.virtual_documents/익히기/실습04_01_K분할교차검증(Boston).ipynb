











# 라이브러리 불러오기
import numpy as np
import pandas as pd
import matplotlib.pyplot as plt
import seaborn as sns
import warnings

warnings.filterwarnings(action='ignore')
%config InlineBackend.figure_format='retina'


# 데이터 읽어오기
path = 'https://raw.githubusercontent.com/Jangrae/csv/master/boston.csv'
data = pd.read_csv(path)





# 데이터 살펴보기
data.head()


# 기술통계 확인
data.describe()








# Target 확인


# x, y 분리







# 라이브러리 불러오기


# 학습용, 평가용 데이터 7:3으로 분리






# 모듈 불러오기


# 정규화












# 불러오기



# 선언하기


# 검증하기


# 확인







# 불러오기



# 선언하기


# 검증하기


# 확인







# 불러오기



# 선언하기


# 검증하기


# 확인


