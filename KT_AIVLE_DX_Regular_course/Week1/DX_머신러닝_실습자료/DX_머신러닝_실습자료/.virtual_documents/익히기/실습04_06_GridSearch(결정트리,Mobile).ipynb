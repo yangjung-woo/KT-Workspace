











# 라이브러리 불러오기
import numpy as np
import pandas as pd
import matplotlib.pyplot as plt
import seaborn as sns
import warnings

warnings.filterwarnings(action='ignore')
%config InlineBackend.figure_format='retina'


# 데이터 읽어오기
path = 'https://raw.githubusercontent.com/jangrae/csv/master/mobile.csv'
data = pd.read_csv(path)





# 상위 몇 개 행 확인
data.head()


# 기술통계 확인
data.describe()








# 제거 대상


# 변수 제거


# 확인






# Target 설정


# 데이터 분리







# 가변수화 대상


# 가변수화


# 확인






# 모듈 불러오기


# 7:3으로 분리






# 불러오기





# 선언하기



# 성능예측



# 결과확인










# 파라미터 선언
  # max_depth: range(1, 51)


# Grid Search 선언
  # cv=5
  # scoring='accuracy'





# 학습하기






# mean_test_score 확인



# 최적 파라미터



# 최고 성능






# 변수 중요도








# 예측하기



# 평가하기


