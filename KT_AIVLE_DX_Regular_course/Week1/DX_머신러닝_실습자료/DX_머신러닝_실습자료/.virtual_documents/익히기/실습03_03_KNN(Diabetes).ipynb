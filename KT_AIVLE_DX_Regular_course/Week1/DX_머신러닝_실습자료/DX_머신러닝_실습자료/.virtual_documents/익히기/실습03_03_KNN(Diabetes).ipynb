











# 라이브러리 불러오기
import numpy as np
import pandas as pd
import matplotlib.pyplot as plt
import seaborn as sns
import warnings

warnings.filterwarnings(action='ignore')
%config InlineBackend.figure_format='retina'


# 데이터 읽어오기
path = 'https://raw.githubusercontent.com/jangrae/csv/master/diabetes.csv'
data = pd.read_csv(path)





# 상위 몇 개 행 확인
data.head()





# 기술통계 확인
data.describe()


# 범주값 개수 확인
data['Outcome'].value_counts()


# 상관관계 확인
data.corr(numeric_only=True)








# target 확인


# 데이터 분리







# 모듈 불러오기


# 7:3으로 분리






# 모듈 불러오기


# 정규화









# 1단계: 불러오기




# 2단계: 선언하기



# 3단계: 학습하기



# 4단계 예측하기



# 5단계: 평가하기


