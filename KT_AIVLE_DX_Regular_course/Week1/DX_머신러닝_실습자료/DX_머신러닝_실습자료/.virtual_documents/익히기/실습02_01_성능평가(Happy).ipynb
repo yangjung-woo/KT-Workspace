














# 라이브러리 불러오기
import numpy as np
import pandas as pd
import matplotlib.pyplot as plt
import seaborn as sns
import warnings

warnings.filterwarnings(action='ignore')
%config InlineBackend.figure_format = 'retina'


# 데이터 읽어오기
path = 'https://raw.githubusercontent.com/Jangrae/csv/master/income_happy.csv'
data = pd.read_csv(path)








# 상위 몇 개 행 확인
data.head()





# 하위 몇 개 행 확인
data.tail()


# 변수 확인
data.columns


# 데이터 크기 확인
data.shape


# 기술통계 확인
data.describe().T


# 상관관계 확인
data.corr(numeric_only = True).style.background_gradient()











# target 확인
target = 'happiness'
# 데이터 분리
x= data.drop(columns=target)
y = data.loc[:,target]





# 모듈 불러오기
from sklearn.model_selection import train_test_split
# 7:3으로 분리
x_train , x_test , y_train , y_test = train_test_split(x,y,random_state=1, test_size=0.3 )











# 1단계: 불러오기
from sklearn.linear_model import LinearRegression


# 2단계: 선언하기
model = LinearRegression()


# 3단계: 학습하기
model.fit(x_train,y_train)


# 4단계: 예측하기
y_pred = model.predict(x_test)








# 모듈 불러오기
from sklearn.metrics import mean_absolute_error

# 성능 평가
print('MAE: ',mean_absolute_error(y_test,y_pred)) 





# 모듈 불러오기
from sklearn.metrics import mean_squared_error
# 성능 평가
print('MSE: ',mean_squared_error(y_test,y_pred)) 





# 모듈 불러오기
from sklearn.metrics import root_mean_squared_error

# 성능 평가
print('RMSE: ',root_mean_squared_error(y_test,y_pred)) 





# 모듈 불러오기
from sklearn.metrics import mean_absolute_percentage_error

# 성능 평가
print('MAPE: ',mean_absolute_percentage_error(y_test,y_pred)) 





# 모듈 불러오기
from sklearn.metrics import r2_score
# 성능 평가
print('R2-score: ',r2_score(y_test,y_pred)) 


# 상관계수 사각화 
import scipy.stats as stats

sns.regplot(x='income',y='happiness',data=data)
plt.show()
print(stats.pearsonr(data['income'],data['happiness']))



