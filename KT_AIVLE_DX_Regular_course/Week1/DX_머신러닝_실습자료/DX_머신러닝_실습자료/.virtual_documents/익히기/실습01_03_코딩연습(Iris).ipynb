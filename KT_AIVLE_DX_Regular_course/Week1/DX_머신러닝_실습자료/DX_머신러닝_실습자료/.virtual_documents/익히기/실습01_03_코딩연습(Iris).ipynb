

















# 라이브러리 불러오기
import numpy as np
import pandas as pd
import matplotlib.pyplot as plt
import seaborn as sns
import warnings

warnings.filterwarnings(action='ignore')
%config InlineBackend.figure_format = 'retina'


# 데이터 읽어오기
path = 'https://raw.githubusercontent.com/Jangrae/csv/master/iris.csv'
data = pd.read_csv(path)








# 상위 몇 개 행 확인
data.head()





# 하위 몇 개 행 확인



# 변수 확인



# 기술통계 확인



# 상관관계 확인
data.corr(numeric_only = True)


# 상관관계 시각화
data.corr(numeric_only = True).style.background_gradient()











# target 확인
target = 'Species'

# 데이터 분리
x = data.drop(columns = target)
y = data.loc[:,target]






# 모듈 불러오기
from sklearn.model_selection import train_test_split
# 7:3으로 분리
x_train, x_test , y_train,y_test = train_test_split(x,y,test_size = 0.3 , random_state = 1)











# 1단계: 불러오기
from sklearn.tree import DecisionTreeClassifier# 의사결정나무 분류모델
from sklearn.metrics import accuracy_score
from sklearn.metrics import confusion_matrix, classification_report


# 2단계: 선언하기
model = DecisionTreeClassifier()


# 3단계: 학습하기
model.fit(x_train , y_train)


# 4단계: 예측하기
y_pred = model.predict(x_test)


# 5단계 평가하기
print(accuracy_score(y_test, y_pred))

print(confusion_matrix(y_test, y_pred))
print(classification_report(y_test, y_pred))


# 시각화 모듈 불러오기
from sklearn.tree import plot_tree
fig = plt.figure(figsize=(12, 10))
plot_tree(model,
filled=True,
feature_names=list(x),
class_names=['setosa', 'versicolor', 'virginica'],
fontsize=10)
plt.show()



