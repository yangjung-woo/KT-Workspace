














# 라이브러리 불러오기
import numpy as np
import pandas as pd
import matplotlib.pyplot as plt
import seaborn as sns
import warnings

warnings.filterwarnings(action='ignore')
%config InlineBackend.figure_format = 'retina'


# 데이터 읽어오기
path = 'https://raw.githubusercontent.com/Jangrae/csv/master/iris.csv'
data = pd.read_csv(path)








# 상위 몇 개 행 확인
data.head()


# 하위 몇 개 행 확인
data.tail()


# 변수 확인
data.info()


# 기술통계 확인
data.describe()


# 상관관계 확인
data.corr(numeric_only=True)


data['Species'].value_counts()











# target 확인
target = 'Species'
# 데이터 분리
x = data.drop(columns = target)
y= data.loc[:,target]






# 모듈 불러오기
from sklearn.model_selection import train_test_split
# 7:3으로 분리
x_train , x_test , y_train , y_test = train_test_split(x,y,random_state = 1 , stratify = y)












# 1단계: 불러오기
from sklearn.tree import DecisionTreeClassifier


# 2단계: 선언하기
model= DecisionTreeClassifier()


# 3단계: 학습하기
model.fit(x_train,y_train)


# 4단계: 예측하기
y_pred = model.predict(x_test)








# 모듈 불러오기
from sklearn.metrics  import confusion_matrix

# 성능 평가
print(confusion_matrix(y_test, y_pred))


# 혼동행렬 시각화
# 시각화 
sns.heatmap(confusion_matrix(y_test, y_pred), 
            annot = True,
            cmap ='Blues',
            cbar= False ,)






# 모듈 불러오기
from sklearn.metrics  import accuracy_score

# 성능 평가
print(accuracy_score(y_test, y_pred ))





# 모듈 불러오기

from sklearn.metrics  import precision_score
# 성능 평가
print(precision_score(y_test, y_pred ,average = None)) # setosa, versicolor, virginica





# 모듈 불러오기

from sklearn.metrics  import recall_score
# 성능 평가
print(recall_score(y_test, y_pred ,average = None)) # setosa, versicolor, virginica





# 모듈 불러오기

from sklearn.metrics  import f1_score
# 성능 평가
print(f1_score(y_test, y_pred ,average = None)) # setosa, versicolor, virginica





# 모듈 불러오기

from sklearn.metrics  import classification_report
# 성능 평가
print(classification_report(y_test, y_pred)) # setosa, versicolor, virginica



