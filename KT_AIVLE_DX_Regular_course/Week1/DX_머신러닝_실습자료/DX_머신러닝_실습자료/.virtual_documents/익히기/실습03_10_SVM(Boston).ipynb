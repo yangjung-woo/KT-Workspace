











# 라이브러리 불러오기
import numpy as np
import pandas as pd
import matplotlib.pyplot as plt
import seaborn as sns
import warnings

warnings.filterwarnings(action='ignore')
%config InlineBackend.figure_format='retina'


# 데이터 읽어오기
path = 'https://raw.githubusercontent.com/jangrae/csv/master/boston.csv'
data = pd.read_csv(path)





# 상위 몇 개 행 확인
data.head()





# 변수 확인
data.info()


# 기술통계 확인
data.describe()


# 상관관계 확인
data.corr(numeric_only=True)








# Target 설정


# 데이터 분리







# 모듈 불러오기


# 7:3으로 분리






# 모듈 불러오기


# 정규화









# 1단계: 불러오기




# 2단계: 선언하기



# 3단계: 학습하기



# 4단계: 예측하기



# 5단계: 평가하기


