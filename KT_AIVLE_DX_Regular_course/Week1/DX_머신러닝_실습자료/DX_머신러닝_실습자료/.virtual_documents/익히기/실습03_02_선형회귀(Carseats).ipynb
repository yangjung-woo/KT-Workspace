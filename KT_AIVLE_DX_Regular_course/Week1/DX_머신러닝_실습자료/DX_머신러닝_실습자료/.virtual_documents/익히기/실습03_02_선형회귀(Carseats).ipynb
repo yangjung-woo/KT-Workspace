











# 라이브러리 불러오기
import numpy as np
import pandas as pd
import matplotlib.pyplot as plt
import seaborn as sns
import warnings

warnings.filterwarnings(action='ignore')
%config InlineBackend.figure_format='retina'


# 데이터 읽어오기
path = 'https://raw.githubusercontent.com/Jangrae/csv/master/Carseats.csv'
data = pd.read_csv(path)





# 상위 몇 개 행 확인
data.head()





# 기술통계 확인
data.describe()


# 변수 정보
data.info() # ShelveLoc , Urban , US  세가지 범주형 변수는 가변수화가 필요함 


#
data['ShelveLoc'].value_counts()


# NaN 값 확인
data.isnull().sum()


data.isna().sum()


# 상관관계 확인
data.corr(numeric_only=True)








# target 확인
target = "Sales"

# 데이터 분리
x = data.drop(columns = target)
y = data.loc[:,target]



x.isna().sum()





# Q 번외 
dummy_cols = ['ShelveLoc' , 'Urban' , 'US','Education']

# 가변수화 
temp_x = pd.get_dummies(x[dummy_cols], drop_first = True , dtype =int)# data는 결측치가 없기에 dummy_na 옵션을 넣지 않아도 됩니다 

# 확인
temp_x # 이렇게 하면 범주형 변수 'ShelveLoc' , 'Urban' , 'US' 는 범주로 인식해서 가변수화 하지만 Education 은 연속형으로 판단하기에 가변수화하지 않음 


# 가변수화 대상    + education 역시 가변수화 해봐야할 범주형 변수임
dummy_cols = ['ShelveLoc' , 'Urban' , 'US','Education']

# 가변수화 
x = pd.get_dummies(x, columns = dummy_cols , drop_first = True , dtype =int )# data는 결측치가 없기에 dummy_na 옵션을 넣지 않아도 됩니다 

# 확인
x# 연속형이지만 범주의 의미를 가진 열도 가변수화 하려면 columns = dummy_cols 명시해줘야 한다 





# 모듈 불러오기
from sklearn.model_selection import train_test_split

# 데이터 분리
x_train , x_test , y_train , y_test = train_test_split(x,y,random_state = 1)





# 1단계: 불러오기 가격 예측 > 선형회귀 
from sklearn.linear_model import LinearRegression



# 2단계: 선언하기
model = LinearRegression()


# 3단계: 학습하기
model.fit(x_train,y_train)


# 4단계: 예측하기
y_pred = model.predict(x_test)


# 5단계: 평가하기
from sklearn.metrics import r2_score , mean_squared_error

print('MSE :', mean_squared_error(y_test,y_pred))
print('R2-Score: ',r2_score(y_test,y_pred))


# 회귀계수 확인
print(x_test.columns)
print('회귀 계수: ',model.coef_.round(2))
print('상수: ',model.intercept_.round(2))



# 가중치 시각화 
tmp = pd.DataFrame()
tmp['feature'] = list(x)
tmp['weight'] = model.coef_

# 정렬 
tmp.sort_values(by='weight',ascending = True , inplace = True)

# 확인 
print(tmp)

#시각화 
plt.barh(tmp['feature'] , tmp['weight'])
plt.show()








# 시각화
plt.figure(figsize = (8,3))
plt.plot(y_test.values, marker = 'o',label='Actual')
plt.plot(y_pred, marker = 's',label='Predicted')
plt.legend()
plt.ylabel('Dist(ft)')
plt.show()



