











# 라이브러리 불러오기
import numpy as np
import pandas as pd
import matplotlib.pyplot as plt
import seaborn as sns
import warnings

warnings.filterwarnings(action='ignore')
%config InlineBackend.figure_format='retina'


# 데이터 읽어오기
path = 'https://raw.githubusercontent.com/Jangrae/csv/master/mobile_cust_churn.csv'
data = pd.read_csv(path)





# 데이터 살펴보기
data.head()





# 변수 확인
data.info() 
# REPORTED_SATISFACTION , REPORTED_USAGE_LEVEL ,CONSIDERING_CHANGE_OF_PLAN 는 가변수화 필요 


# 기술통계 확인
data.describe()








# 제거 대상
drop_cols = ['id']

# 변수 제거
data.drop(columns = drop_cols , inplace = True)

# 확인
data





# Target 설정
target = 'CHURN'

# 데이터 분리
x = data.drop(columns = target)
y = data.loc[:,target]






# 가변수화 대상
dummy_cols =['REPORTED_SATISFACTION' , 'REPORTED_USAGE_LEVEL' ,'CONSIDERING_CHANGE_OF_PLAN']

# 가변수화
x = pd.get_dummies(data = x , columns= dummy_cols , drop_first=True)

# 확인
x





# 라이브러리 불러오기
from sklearn.model_selection import train_test_split

# 학습용, 평가용 데이터 7:3으로 분리
x_train, x_test, y_train, y_test = train_test_split(x, y, test_size=0.3, random_state=1,stratify =y)





# 모듈 불러오기
from sklearn.preprocessing import MinMaxScaler

# 정규화
scaler = MinMaxScaler()
scaler.fit(x_train)

x_train = scaler.transform(x_train)
x_test = scaler.transform(x_test)






# 성능 정보 수집용
result = {}





# 불러오기
from sklearn.neighbors import KNeighborsClassifier
from sklearn.model_selection import cross_val_score

# 선언하기
model = KNeighborsClassifier() # default = Accuracy

# 검증하기
cv_score = cross_val_score(model, x_train, y_train, cv=10)

# 확인
print(cv_score)
print('평균:', cv_score.mean()) # 정확도 
print('표준편차:', cv_score.std())

# 성능정보 수집 

result['KNN'] = cv_score.mean()






# 불러오기
from sklearn.tree import DecisionTreeClassifier
from sklearn.model_selection import cross_val_score

# 선언하기
model = DecisionTreeClassifier(max_depth=5,  random_state=1) # default = Accuracy

# 검증하기
cv_score = cross_val_score(model, x_train, y_train, cv=10)

# 확인
print(cv_score)
print('평균:', cv_score.mean()) # 정확도 
print('표준편차:', cv_score.std())

# 성능정보 수집 
result['Decision Tree'] = cv_score.mean()






# 불러오기
from sklearn.linear_model import LogisticRegression
from sklearn.model_selection import cross_val_score

# 선언하기
model = LogisticRegression() # default = Accuracy

# 검증하기
cv_score = cross_val_score(model, x_train, y_train, cv=10)

# 확인
print(cv_score)
print('평균:', cv_score.mean()) # 정확도 
print('표준편차:', cv_score.std())

# 성능정보 수집 
result['Logistic Regression'] = cv_score.mean()



# result 성능 비교 
plt.barh(y= result.keys() ,width=result.values())


G
