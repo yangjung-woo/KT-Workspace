











# 라이브러리 불러오기
import numpy as np
import pandas as pd
import matplotlib.pyplot as plt

%config InlineBackend.figure_format='retina'


# 데이터 읽어오기
path = 'https://raw.githubusercontent.com/jangrae/csv/master/iris.csv'
data = pd.read_csv(path)





# 상위 몇 개 행 확인
data.head()


# 기초통계량 확인
data.describe()


# 범주값 개수 확인
data['Species'].value_counts()


# 상관관계 확인
data.corr(numeric_only=True)








# target 확인
target = 'Species'
# 데이터 분리
x = data.drop(columns = target)
y= data.loc[:,target]






# 모듈 불러오기
from sklearn.model_selection import train_test_split
# 7:3으로 분리
x_train , x_test , y_train , y_test = train_test_split(x,y,random_state = 1 , stratify = y)






# 1단계: 불러오기
from sklearn.linear_model import LogisticRegression
from sklearn.metrics import confusion_matrix, classification_report



# 2단계: 선언하기
# Softmax 기반 다중 클래스 로지스틱 회귀 모델 학습
model = LogisticRegression(multi_class='multinomial', solver='lbfgs', max_iter=200)


# 3단계: 학습하기
model.fit(x_train, y_train)


# 4단계: 예측하기
y_pred = model.predict(x_test)


# 5단계: 평가하기
print(confusion_matrix(y_test,y_pred))
print(classification_report(y_test,y_pred))



# 회귀계수
print(list(x))
print(model.coef_.round(3))
print(model.intercept_.round(3))


#z 값 확인 > 나중에 시그모이드를 통과하면 확률로 변함 0 1 
z =model.decision_function(x_test)
print(z[:10].round(3))


# 로지스틱 함수 사용 (0 , 1 target이 2개의 범주만 가질때 )
#from scipy.special import expit 
#print(expit(z)[:10].round(3))

# 소프트맥스 함수 사용 target이 3개 이상의 범주를 가질때 
from scipy.special import softmax
print(softmax(z,axis=1)[:5].round(3))


# y_pred값 확인 
print(y_pred[:5]) # 0.5 보다 크면 1 아니면 0 






