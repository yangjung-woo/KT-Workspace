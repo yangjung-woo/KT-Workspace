





# 라이브러리 불러오기
import numpy as np
import pandas as pd
import matplotlib.pyplot as plt
import seaborn as sns
import warnings

warnings.filterwarnings(action='ignore')
%config InlineBackend.figure_format='retina'


# 데이터 읽어오기
path = 'https://raw.githubusercontent.com/jangrae/csv/master/airline_satisfaction.csv'
data = pd.read_csv(path)

# 10,000개만 추출
data = data.head(10000)

# 확인
data.head()


# 불필요한 변수 제거
del_cols = ['id', 'departure/arrival_time_convenient', 'gate_location', 'departure_delay_in_minutes']
data.drop(columns=del_cols, inplace=True)

# 결측치 제거
data.dropna(inplace=True)

# 가변수화
dumm_cols = ['gender', 'customer_type', 'type_of_travel', 'class']
data = pd.get_dummies(data, columns=dumm_cols, drop_first=True, dtype=int)

# 확인
data.head()


# x, y 분리
target = 'satisfaction'

x = data.drop(target, axis=1)
y = data.loc[:, target]

# 데이터 크기 확인
x.shape





# 모듈 둘러오기
from sklearn.tree import DecisionTreeClassifier
from sklearn.model_selection import learning_curve

# 모셀선언
model = DecisionTreeClassifier(max_depth=3)

# Learning Curve 수행
tr_size, tr_scores, val_scores = learning_curve(model,
                                                x,
                                                y,
                                                train_sizes=range(10, 7900, 20),
                                                shuffle=True,
                                                cv=5)


# CV 결과 --> 평균
val_scores_3_mean = val_scores.mean(axis=1)

# 시각화
plt.figure(figsize=(8, 5))
plt.plot(tr_size, val_scores_3_mean)
plt.title('Learning Curve', size=20, pad=15)
plt.ylabel('Score')
plt.xlabel('Training Size')
plt.show()





# 모듈 둘러오기

# 모셀선언
model = DecisionTreeClassifier(max_depth=5)

# Learning Curve 수행
tr_size, tr_scores, val_scores = learning_curve(model,
                                                x,
                                                y,
                                                train_sizes=range(10, 7900, 20),
                                                shuffle=True,
                                                cv=5)


# CV 결과 --> 평균
val_scores_5_mean = val_scores.mean(axis=1)

# 시각화
plt.figure(figsize=(8, 5))
plt.plot(tr_size, val_scores_3_mean)
plt.plot(tr_size, val_scores_5_mean)
plt.title('Learning Curve', size=20, pad=15)
plt.ylabel('Score')
plt.xlabel('Training Size')
plt.legend(['max_depth=3', 'max_depth=5'])
plt.show()





# 모듈 둘러오기

# 모셀선언
model = DecisionTreeClassifier(max_depth=10)

# Learning Curve 수행
tr_size, tr_scores, val_scores = learning_curve(model,
                                                x,
                                                y,
                                                train_sizes=range(10, 7900, 20),
                                                shuffle=True,
                                                cv=5)


# CV 결과 --> 평균
val_scores_10_mean = val_scores.mean(axis=1)

# 시각화
plt.figure(figsize=(8, 5))
plt.plot(tr_size, val_scores_3_mean)
plt.plot(tr_size, val_scores_5_mean)
plt.plot(tr_size, val_scores_10_mean)
plt.title('Learning Curve', size=20, pad=15)
plt.ylabel('Score')
plt.xlabel('Training Size')
plt.legend(['max_depth=3', 'max_depth=5','max_depth = 10'])
plt.show()



