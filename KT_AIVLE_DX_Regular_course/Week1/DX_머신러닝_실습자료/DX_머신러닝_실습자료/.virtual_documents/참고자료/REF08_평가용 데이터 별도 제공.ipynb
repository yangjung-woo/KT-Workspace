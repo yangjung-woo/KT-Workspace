











# 라이브러리 불러오기
import numpy as np
import pandas as pd
import matplotlib.pyplot as plt
import seaborn as sns
import warnings

warnings.filterwarnings(action='ignore')
%config InlineBackend.figure_format = 'retina'


# 데이터 불러오기
path = 'https://raw.githubusercontent.com/Jangrae/csv/master/insurance_train.csv'
data = pd.read_csv(path)





# 데이터 확인
data








# age_grp 변수 추가
data['age_grp'] = data['age'] // 10 * 10

# 확인
data.head()





# age 변수 제거
data.drop(columns='age', inplace=True)

# 확인
data.head()





# 가변수화
dumm_cols = ['sex', 'smoker', 'region']
data = pd.get_dummies(data, columns=dumm_cols, drop_first=True, dtype=int)

# 확인
data.head()





# x, y 분리
target = 'charges'
x = data.drop(columns=target)
y = data.loc[:, target]





# 학습용, 검증용 분리
from sklearn.model_selection import train_test_split
x_train, x_val, y_train, y_val = train_test_split(x, y, test_size=0.2, random_state=1) # 평가용 데이터는 다시 받을거임 그래서 명칭을 val로 함





# 불러오기
from sklearn.tree import DecisionTreeRegressor
from sklearn.metrics import mean_absolute_error, r2_score


# 선언하기
model = DecisionTreeRegressor(max_depth=5)


# 학습하기
model.fit(x_train, y_train)


# 예측하기
y_val_pred = model.predict(x_val)


# 평가하기
print('MAE:', mean_absolute_error(y_val, y_val_pred))
print('R2:', r2_score(y_val, y_val_pred))





# 불러오기
from sklearn.model_selection import cross_val_score # k-fold 분할 교차 검증 

# 성능예측
cv_score = cross_val_score(model, x_train, y_train, cv=5) # 데이터 5분할 

# 결과
print(cv_score)
print('평균:', cv_score.mean())





# 불러오기
from sklearn.model_selection import GridSearchCV

# 파라미터 선언
params = {'max_depth': range(1, 51)}

# 모델 선언
model = GridSearchCV(DecisionTreeRegressor(),
                     params,
                     cv=5,
                     scoring='r2')


# 학습하기
model.fit(x_train, y_train)


# 예측 결과 확인
print(model.best_params_)
print(model.best_score_) # max depth 는 3이 좋음


# 성능 검증
y_val_pred = model.predict(x_val)
print('R2:', r2_score(y_val, y_val_pred))








# 함수 만들기
def data_pipeline(data):
    tmp = data.copy()

    # age_grp 변수 추가
    tmp['age_grp'] = tmp['age'] // 10 * 10

    # age 변수 제거
    tmp.drop(columns='age', inplace=True)

    # 가변수화
    dumm_cols = ['sex', 'smoker', 'region']
    tmp = pd.get_dummies(tmp, columns=dumm_cols, drop_first=True, dtype=int)

    # 반환
    return tmp





# 새로운 데이터 불러오기
path = 'https://raw.githubusercontent.com/Jangrae/csv/master/insurance_test.csv'
new_data = pd.read_csv(path)

# 확인
new_data.head()


# 데이터 처리
x_test = data_pipeline(new_data)

# 확인
x_test.head()





# 예측하기
y_pred = model.predict(x_test)


# 확인
y_pred[:10]





# 예측결과 추가
final = new_data.copy()
final['charges'] = y_pred.round(4)

# 확인
final.head()


# 엑셀로 저장
final.to_excel('InsurancePred.xlsx', index=False)


# 모델 저장 
import joblib

joblib.dump(model, 'model_v1.pkl')


# 모델 불러오기 
model = joblib.load('model_v1.pkl')






