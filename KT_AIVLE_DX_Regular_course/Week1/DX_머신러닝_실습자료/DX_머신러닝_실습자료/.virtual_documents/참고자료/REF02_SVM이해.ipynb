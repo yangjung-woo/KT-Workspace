








# 라이브러리 불러오기
import numpy as np
import pandas as pd
import matplotlib.pyplot as plt
import seaborn as sns
from sklearn.datasets import make_classification, make_moons, make_regression
from sklearn.model_selection import train_test_split
from sklearn.svm import SVC
import warnings

warnings.filterwarnings(action='ignore')
%config InlineBackend.figure_format='retina'





# 시각화 함수 만들기
def svc_visualize(x, y, model, title=''):
    xx, yy = np.meshgrid(np.linspace(x[:, 0].min(), x[:, 0].max(), 50),
                         np.linspace(x[:, 1].min(), x[:, 1].max(), 50))
    Z = model.decision_function(np.c_[xx.ravel(), yy.ravel()])
    Z = Z.reshape(xx.shape)

    plt.figure(figsize=(5, 5))
    sns.scatterplot(x=x[:, 0], y=x[:, 1], hue=y)
    plt.contour(xx, yy, Z, levels=[-1, 0, 1],
                colors=['gray', 'red', 'gray'],
                linestyles=['--', '-', '--'])
    plt.title(title)
    plt.axis('tight')
    plt.show()








# 데이터 만들기
seed = 903
x, y = make_classification(n_samples=100,
                           n_features=2,
                           n_redundant=0,
                           weights=[0.5, 0.5],
                           n_clusters_per_class=1,
                           random_state=seed)

# 시각화
plt.figure(figsize=(5, 5))
sns.scatterplot(x=x[:, 0], y=x[:, 1], hue=y)
plt.show()





# 모델링
model = SVC(kernel='linear', C=1)
model.fit(x, y)

# 시각화
svc_visualize(x, y, model)








# 데이터 만들기
seed = 874
x, y = make_classification(n_samples=100,
                           n_features=2,
                           n_redundant=0,
                           weights=[0.5, 0.5],
                           n_clusters_per_class=1,
                           random_state=seed)

# 시각화
plt.figure(figsize=(5, 5))
sns.scatterplot(x=x[:, 0], y=x[:, 1], hue=y)
plt.show()





# cost 값
cost = 1.0

# 모델링
model = SVC(kernel='linear', C=cost)
model.fit(x, y)

# 시각화
svc_visualize(x, y, model, f'C={cost}')








# 데이터 반들기
x, y = make_moons(n_samples=800, noise=.1, random_state=10)

# 시각화
plt.figure(figsize=(5, 5))
sns.scatterplot(x=x[:, 0], y=x[:, 1], hue=y)
plt.show()





# 모델링
model = SVC(kernel='linear')
model.fit(x, y)

# 시각화
svc_visualize(x, y, model)





# 모델링
model = SVC(kernel='poly', C=1)
model.fit(x, y)

# 시각화
svc_visualize(x, y, model)





# 모델링
model = SVC(kernel='rbf', C=1)
model.fit(x, y)

# 시각화
svc_visualize(x, y, model)











# cost에 따른 결정 경계
for cost in [0.1, .5, 2, 20]:
    model = SVC(kernel='rbf', C=cost)
    model.fit(x, y)
    svc_visualize(x, y, model, f'C={cost}')





# gamma에 따흔 결정 경계
for g in [.5, 1, 5, 20]:
    model = SVC(kernel='rbf', C=2, gamma=g)
    model.fit(x, y)
    svc_visualize(x, y, model, f'C=2, gamma={g}')








# 시각화 함수 만들기
def svr_visualize(x, y, model, title=''):
    xx = np.linspace(x.min(), x.max(), 50)
    xx = xx.reshape((len(xx), 1))
    yy = model.predict(xx)

    plt.figure(figsize=(5, 5))
    plt.scatter(x, y, edgecolors='w', linewidths=0.5)

    plt.plot(xx, yy, color = 'r')
    plt.plot(xx, yy + model.epsilon, color = 'gray', linestyle='--')
    plt.plot(xx, yy - model.epsilon, color = 'gray', linestyle='--')
    plt.xlabel('x')
    plt.ylabel('y')
    plt.title(title)
    plt.axis('tight')
    plt.show()





# 데이터 만들기
numSamples = 500
x = np.sort(6 * np.random.rand(numSamples, 1), axis=0)
y = np.sin(x).ravel()
y = y + 0.5 * (np.random.randn(numSamples))

# 시각화
plt.figure(figsize=(5, 5))
plt.scatter(x, y, edgecolors='w', linewidths=0.5)
plt.show()





# 불러오기
from sklearn.svm import SVR

# 모델링
cost = 10
model = SVR(kernel='rbf', C=cost, epsilon=0.5, gamma=1)
model.fit(x, y)

# 시각화
svr_visualize(x, y, model, f'C={cost}')





# cost에 따른 결정 경계
for cost in [0.001, 0.01, 1, 10]:
    model = SVR(kernel='rbf', C=cost, epsilon=0.5, gamma=1)
    model.fit(x, y)
    svr_visualize(x, y, model, f'C={cost}')
