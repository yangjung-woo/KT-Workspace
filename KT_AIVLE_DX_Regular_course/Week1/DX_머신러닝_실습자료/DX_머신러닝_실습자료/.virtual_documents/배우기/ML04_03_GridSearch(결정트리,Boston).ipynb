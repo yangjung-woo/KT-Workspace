











# 라이브러리 불러오기
import numpy as np
import pandas as pd
import matplotlib.pyplot as plt
import seaborn as sns
import warnings

warnings.filterwarnings(action='ignore')
%config InlineBackend.figure_format = 'retina'


# 데이터 읽어오기
path = 'https://raw.githubusercontent.com/jangrae/csv/master/boston.csv'
data = pd.read_csv(path)





# 상위 몇 개 행 확인
data.head()





# 기술통계 확인
data.describe()








# target 확인
target = 'medv'

# 데이터 분리
x = data.drop(columns=target)
y = data.loc[:, target]





# 모듈 불러오기
from sklearn.model_selection import train_test_split

# 데이터 분리
x_train, x_test, y_train, y_test = train_test_split(x, y, test_size=0.3, random_state=1)





# 불러오기
from sklearn.tree import DecisionTreeRegressor 
from sklearn.model_selection import cross_val_score


# 선언하기
model = DecisionTreeRegressor()


# 성능예측
cv_score = cross_val_score(model,x_train,y_train, cv=10 ,scoring ='r2')
# 회귀모형 성능은 r2 score가 default 


# 결과확인
print(cv_score)
print(cv_score.mean())









# 파라미터 선언
  # max_depth: 1~50
param = {'max_depth': range(1, 51, 1)}





# 불러오기
from sklearn.model_selection import GridSearchCV # CV = cross value

# 선언하기

# Grid Search 선언
  # cv=5
  # scoring='r2'
model = GridSearchCV(DecisionTreeRegressor(random_state=1), # 기본 모델
                     param,                 # 파라미터 범위
                     cv = 5)                # k 폴드 개수
                     # scoring ='r2' 평가지표
                    # 주의! GridSearchCV는 scoring대상 점수가 높은거를 최적의 모델로 인식
                    # Scoring = 'MAE', 'MSE' 를 할 경우 문제 발생 
                    # scoring = 'neg_mean..' 음수로 변환 지표를 평가로씀



# 학습하기
model.fit(x_train, y_train) # 최적의 파라미터로 튜님된 모델을 학습시킴





# 중요 정보 확인
print('=' * 80)
print(model.cv_results_['mean_test_score'])# 테스트로 얻은 성능
print('-' * 80)
print('최적파라미터:', model.best_params_)# 
print('-' * 80)
print('최고성능:', model.best_score_)
print('=' * 80)





# 변수 중요도
plt.figure(figsize=(5, 5))
plt.barh(y=list(x), width=model.best_estimator_.feature_importances_)
plt.show()





# 예측하기
y_pred = model.predict(x_test)


# 불러오기
from sklearn.metrics import mean_absolute_error , r2_score

# 평가하기
print('MAE:', mean_absolute_error(y_test, y_pred))
print('R2-Score:', r2_score(y_test, y_pred))
