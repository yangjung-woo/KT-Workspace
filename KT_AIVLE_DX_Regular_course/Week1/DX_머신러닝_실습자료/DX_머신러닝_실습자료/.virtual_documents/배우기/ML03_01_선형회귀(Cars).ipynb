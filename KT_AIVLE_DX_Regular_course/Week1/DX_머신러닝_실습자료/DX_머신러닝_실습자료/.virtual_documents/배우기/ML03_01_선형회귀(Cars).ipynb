











# 라이브러리 불러오기
import numpy as np
import pandas as pd
import matplotlib.pyplot as plt
import seaborn as sns
import warnings

warnings.filterwarnings(action='ignore')
%config InlineBackend.figure_format='retina'


# 데이터 읽어오기
path = 'https://raw.githubusercontent.com/Jangrae/csv/master/cars.csv'
data = pd.read_csv(path)





# 상위 몇 개 행 확인
data.head()


# 하위 몇 개 행 확인
data.tail()


# 기술통계 확인
data.describe()


# NaN 값 확인
data.isnull().sum()


# speed, dist 관계
plt.scatter(x='speed', y='dist', data=data)
plt.xlabel('Speed(mph)')
plt.ylabel('Dist(ft)')
plt.show()








# target 확인
target = 'dist'

# 데이터 분리
x = data.drop(columns=target)
y = data.loc[:, target]





# 모듈 불러오기
from sklearn.model_selection import train_test_split

# 7:3으로 분리
x_train, x_test, y_train, y_test = train_test_split(x, y, test_size=0.3, random_state=1)





# 1단계: 불러오기
from sklearn.linear_model import LinearRegression



# 2단계: 선언하기
model = LinearRegression()


# 3단계: 학습하기
model.fit(x_train,y_train)





from sklearn.metrics import mean_absolute_error , r2_score
#5단계: 평가하기
print('MAE',mean_absolute_error(y_test, y_pred))
print("R2",r2_score(y_test, y_pred))






# 회귀계수 확인
print(model.coef_) # 회귀계수들
print(model.intercept_)# 상수 indercept








# 회귀식 시각
# distance = a * speed + b 

a = model.coef_
b = model .intercept_
speed = [x_train.min(), x_train.max()]
speed = [i for i in range(0,25)]
dist = a * speed +b
print(speed)


# 회귀선 시각화 
plt.scatter(x_train,y_train)# 학습했던 값
plt.scatter(x_test,y_test)# 예측했어야할 값
plt.scatter(x_test,y_pred)# 예측한 값  >> 이를 기준으로 회귀선을 만듦
plt.plot(speed, dist, color ='r') # x_test를 받아 y_pred 선을 만듦

plt.show


# 시각화
plt.figure(figsize = (8,3))
plt.plot(y_test.values, marker = 'o',label='Actual')
plt.plot(y_pred, marker = 's',label='Predicted')
plt.legend()
plt.ylabel('Dist(ft)')
plt.show()



