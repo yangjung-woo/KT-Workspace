














# 라이브러리 불러오기
import numpy as np
import pandas as pd
import matplotlib.pyplot as plt
import seaborn as sns
import warnings

warnings.filterwarnings(action='ignore')
%config InlineBackend.figure_format = 'retina'


# 데이터 읽어오기
path = 'https://raw.githubusercontent.com/Jangrae/csv/master/airquality_simple.csv'
data = pd.read_csv(path)








# 상위 몇 개 행 확인
data.head()


# 하위 몇 개 행 확인
data.tail()


# 변수 확인
data.columns


# 기술통계 확인
data.describe().T


# 상관관계 확인
correlation_matrix = data.corr(numeric_only = True)

plt.figure(figsize=(5, 3))  # 히트맵 크기 설정
sns.heatmap(correlation_matrix, annot=True, cmap='coolwarm', linewidths=0.5)

plt.title('Correlation Heatmap')
plt.show()


data.corr(numeric_only = True).style.background_gradient()


# scatter plot 시각화 

plt.scatter(data['Temp'] , data['Ozone'])
plt.show()

# sns regplot
sns.regplot(x='Temp',y='Ozone',data=data)
plt.show()











# 결측치 확인
data.isna().sum()


# 전날 값으로 결측치 채우기 method = ffill
#data_fillna=data.fillna(method = 'ffill')
data.ffill(inplace=True)
# 확인
data.isna().sum()





# 변수 제거: month ,day 열은 상관관계 분석에 의미가 없음  
drop_cols = ['Month','Day']
data.drop(columns = drop_cols, inplace = True)

# 확인
data.head()





# target 확인
target ='Ozone'
# 데이터 분리 선형 회귀모형 예측모델 생성 , target을 제외한 독립변수들  x
x = data.drop(target , axis =1)
# 종속변수 y =target
y = data.loc[:,target]






# 모듈 불러오기
from sklearn.model_selection import train_test_split
# 7:3으로 분리
# x_train , x_test , y_train , y_test = train_test_split(x,y,test_size = 0.3) # 데이터분리 는 완전 랜덤으로 분할한다
x_train , x_test , y_train , y_test = train_test_split(x,y,test_size = 0.3, random_state=1)# random seed 고정 











# 1단계: 불러오기
from sklearn.linear_model import LinearRegression
from sklearn.metrics import mean_absolute_error


# 2단계: 선언하기
model = LinearRegression()


# 3단계: 학습하기
model.fit(x_train,y_train)


# 4단계: 예측하기
y_predict = model.predict(x_test)


# 5단계: 평가하기
mean_absolute_error(y_test, y_predict) # 오차가 매우 큼


# 예측값 확인 
y_predict[:10]


# 실제값
y_test[:10].values


# 시각화
plt.figure(figsize=(7,3))
plt.plot(y_test.values ,label= 'Actual')
plt.plot(y_predict, label='Predicted')
plt.axhline(y_train.mean(), color = 'r')
plt.legend()
plt.show()
# 회귀모형 성능 평가  baseline = 평균
# 분류모형   ''       baseline = 최빈값



