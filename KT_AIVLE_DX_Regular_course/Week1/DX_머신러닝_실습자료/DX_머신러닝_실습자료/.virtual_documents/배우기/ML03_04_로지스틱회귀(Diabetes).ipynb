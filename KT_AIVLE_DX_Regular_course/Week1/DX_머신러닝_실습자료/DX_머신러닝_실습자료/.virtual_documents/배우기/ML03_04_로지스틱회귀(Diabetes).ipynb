











# 라이브러리 불러오기
import numpy as np
import pandas as pd
import matplotlib.pyplot as plt
import seaborn as sns
import warnings

warnings.filterwarnings(action='ignore')
%config InlineBackend.figure_format='retina'


# 데이터 읽어오기
path = 'https://raw.githubusercontent.com/jangrae/csv/master/diabetes.csv'
data = pd.read_csv(path)





# 상위 몇 개 행 확인
data.head()


# 기술통계 확인
data.describe()


# 범주값 개수 확인
data['Outcome'].value_counts()


# 상관관계 확인
data.corr(numeric_only=True)








# target 확인
target = 'Outcome'

# 데이터 분리
x = data.drop(columns=target)
y = data.loc[:, target]





# 모듈 불러오기
from sklearn.model_selection import train_test_split

# 7:3으로 분리
x_train, x_test, y_train, y_test = train_test_split(x, y, test_size=0.3, random_state=1)





# 1단계: 불러오기
from sklearn.linear_model import LogisticRegression
from sklearn.metrics import confusion_matrix, classification_report


# 2단계: 선언하기
model = LogisticRegression()# max_iter = 100 default , 100번 분석함 


# 3단계: 학습하기
model.fit(x_train, y_train)


# 4단계: 예측하기
y_pred = model.predict(x_test)


# 5단계 평가하기
print(confusion_matrix(y_test,y_pred))
print(classification_report(y_test,y_pred))








# 회귀계수
print(list(x))
print(model.coef_.round(3))
print(model.intercept_.round(3))


#z 값 확인 > 시그모이드를 통과하면 확률로 변함 0 1 
z =model.decision_function(x_test)
print(z[:10])


# 로지스틱 함수 사용 
from scipy.special import expit 
print(expit(z)[:10])


# y_pred값 확인 
print(y_pred[:10]) # 0.5 보다 크면 1 아니면 0 






