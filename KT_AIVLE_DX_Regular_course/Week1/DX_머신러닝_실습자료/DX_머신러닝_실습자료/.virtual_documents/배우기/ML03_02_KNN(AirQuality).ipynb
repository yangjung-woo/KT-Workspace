











# 라이브러리 불러오기
import numpy as np
import pandas as pd
import matplotlib.pyplot as plt
import seaborn as sns
import warnings

warnings.filterwarnings(action='ignore')
%config InlineBackend.figure_format='retina'


# 데이터 읽어오기
path = 'https://raw.githubusercontent.com/Jangrae/csv/master/airquality_simple.csv'
data = pd.read_csv(path)





# 상위 몇 개 행 확인
data.head()


# 기술통계 확인
data.describe()


# NaN 값 확인
data.isnull().sum()


# 상관관계 확인
data.corr(numeric_only=True).style.background_gradient()








# 결측치 확인
data.isnull().sum()


# 결측치 채우기
data.interpolate(method='linear', inplace=True)# 선형보간법으로 결측치 채우기

# 확인
data.isnull().sum()





#  변수 제거
drop_cols = ['Month', 'Day']
data.drop(columns=drop_cols, inplace=True)

# 확인
data.head()





# target 확인
target = 'Ozone'

# 데이터 분리
x = data.drop(columns=target)
y = data.loc[:, target]





# 모듈 불러오기
from sklearn.model_selection import train_test_split

# 데이터 분리
x_train, x_test, y_train, y_test = train_test_split(x, y, test_size=0.3, random_state=1)





# 데이터 분포 확인 
plt.boxplot(x_train,vert = False, labels = list(x))
plt.show()






# 최댓값, 최솟값 구하기
x_max = x_train.max()
x_min = x_train.min()
#print(x_max , x_min) 변수들의 최대 최소 구함
# 정규화
x_train = (x_train-x_min)/(x_max - x_min)
x_test = (x_test-x_min)/(x_max - x_min)

plt.boxplot(x_train,vert = False, labels = list(x))
plt.show()








# 데이터 분리
x_train, x_test, y_train, y_test = train_test_split(x, y, test_size=0.3, random_state=1)


# 모듈 불러오기
from sklearn.preprocessing import MinMaxScaler

# 정규화
scaler = MinMaxScaler()
# 모델 적용 
scaler.fit(x_train)

# 테스트 데이터 정규화 적용 
x_train = scaler.transform(x_train)
x_test = scaler.transform(x_test)

# 스캐일링 이후 x_train 은 column 값이 없는 배열이 됨 (데이터프레임 x )


plt.boxplot(x_train,vert = False, labels = list(x))
plt.show()





# 1단계: 불러오기
from sklearn.neighbors import KNeighborsRegressor
from sklearn.metrics import mean_absolute_error,r2_score


# 2단계: 선언하기
model = KNeighborsRegressor(n_neighbors = 5)


# 3단계: 학습하기
model.fit(x_train , y_train)


# 4단계 예측하기
y_pred = model.predict(x_test)


# 5단계: 평가하기
print('MAE: ',mean_absolute_error(y_test, y_pred))
print('R2-score: ',r2_score(y_test, y_pred))
# 정규화를 했을때 : R2-score: 0.61 , 정규화를 안했을 때: 0.36





# 예측값, 실젯값 시각화
plt.plot(y_test.values, label='Actual')
plt.plot(y_pred, label='Predicted')
plt.legend()
plt.ylabel('Ozone')
plt.show()
