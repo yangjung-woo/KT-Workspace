











# 라이브러리 불러오기
import numpy as np
import pandas as pd
import matplotlib.pyplot as plt
import seaborn as sns
import warnings

warnings.filterwarnings(action='ignore')
%config InlineBackend.figure_format='retina'


# 데이터 읽어오기
path = 'https://raw.githubusercontent.com/jangrae/csv/master/admission_simple.csv'
data = pd.read_csv(path)





# 상위 몇 개 행 확인
data.head()


# 기술통계 확인
data.describe()


# 범주값 개수 확인
data['ADMIT'].value_counts()


# 변수 정보 확인
data.info()


# 상관관계 확인
data.corr(numeric_only=True)








# target 확인
target = 'ADMIT'

# 데이터 분리
# x = data.drop(columns=target)
# 'GRE', 'GPA' 열만 x 변수로 설정
x = data[['GRE', 'GPA']]
y = data[target]





# 모듈 불러오기
from sklearn.model_selection import train_test_split

# 7:3으로 분리
x_train, x_test, y_train, y_test = train_test_split(x, y, test_size=0.3, random_state=1)  





# 모듈 불러오기
from sklearn.preprocessing import MinMaxScaler

# 정규화
scaler = MinMaxScaler()
x_train = scaler.fit_transform(x_train)
x_test = scaler.transform(x_test)





# 1단계: 불러오기
from sklearn.svm import SVC
from sklearn.metrics import confusion_matrix ,classification_report



# 2단계: 선언하기
model = SVC(kernel ='linear',C=1)


# 3단계: 학습하기
model.fit(x_train, y_train)


# 4단계: 예측하기
y_pred = model.predict(x_test)


# 5단계 평가하기
print(confusion_matrix(y_test,y_pred))
print(classification_report(y_test,y_pred))





#  시각화
xx = np.linspace(0, 1, 30)
yy = np.linspace(0, 1, 30)
yy, xx = np.meshgrid(yy, xx)
xy = np.vstack([xx.ravel(), yy.ravel()]).T
z = model.decision_function(xy).reshape(xx.shape)

plt.figure(figsize=(8, 5))
sns.scatterplot(x=x_train[:, 0], y=x_train[:, 1], hue=y_train, s=20)
plt.contour(xx, yy, z, 
            levels=[-1, 0, 1], 
            alpha=0.5,
            colors=['gray', 'red', 'gray'],
            linestyles=['--', '-', '--'])

plt.xlabel('GRE')
plt.ylabel('GPA')
plt.show()
