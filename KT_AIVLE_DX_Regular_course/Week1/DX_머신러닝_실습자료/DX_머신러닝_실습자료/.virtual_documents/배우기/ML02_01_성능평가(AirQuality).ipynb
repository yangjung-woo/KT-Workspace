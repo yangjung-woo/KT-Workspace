














# 라이브러리 불러오기
import numpy as np
import pandas as pd
import matplotlib.pyplot as plt
import seaborn as sns
import warnings

warnings.filterwarnings(action='ignore')
%config InlineBackend.figure_format = 'retina'


# 데이터 읽어오기
path = 'https://raw.githubusercontent.com/Jangrae/csv/master/airquality_simple.csv'
data = pd.read_csv(path)








# 상위 몇 개 행 확인
data.head()


# 하위 몇 개 행 확인
data.tail()


# 변수 확인
data.info()


# 기술통계 확인
data.describe()


# 상관관계 확인
data.corr(numeric_only=True)











# 결측치 확인
data.isnull().sum()


# 전날 값으로 결측치 채우기
data.ffill(inplace=True)

# 확인
data.isnull().sum()





# 변수 제거
drop_cols = ['Month', 'Day']
data.drop(columns=drop_cols, inplace=True)

# 확인
data.head()





# target 확인
target = 'Ozone'

# 데이터 분리
x = data.drop(columns=target)
y = data.loc[:, target]





# 모듈 불러오기
from sklearn.model_selection import train_test_split

# 7:3으로 분리
x_train, x_test, y_train, y_test = train_test_split(x, y, test_size=0.3, random_state=1)











# 1단계: 불러오기
from sklearn.linear_model import LinearRegression


# 2단계: 선언하기
model = LinearRegression()


# 3단계: 학습하기
model.fit(x_train, y_train)


# 4단계: 예측하기
y_pred = model.predict(x_test)








# 모듈 불러오기


# 성능 평가






# 모듈 불러오기


# 성능 평가






# 모듈 불러오기


# 성능 평가






# 모듈 불러오기


# 성능 평가






# 모듈 불러오기


# 성능 평가






# 모듈 불러오기


# 성능 평가

