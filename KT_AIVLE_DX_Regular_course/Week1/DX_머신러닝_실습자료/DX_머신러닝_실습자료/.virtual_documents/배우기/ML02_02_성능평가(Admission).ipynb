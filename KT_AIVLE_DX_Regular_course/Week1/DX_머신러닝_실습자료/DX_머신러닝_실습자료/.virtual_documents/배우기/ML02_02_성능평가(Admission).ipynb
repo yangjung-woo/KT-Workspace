














# 라이브러리 불러오기
import numpy as np
import pandas as pd
import matplotlib.pyplot as plt
import seaborn as sns
import warnings

warnings.filterwarnings(action='ignore')
%config InlineBackend.figure_format = 'retina'


# 데이터 읽어오기
path = 'https://raw.githubusercontent.com/Jangrae/csv/master/admission_simple.csv'
data = pd.read_csv(path)








# 상/하위 몇 개 행 확인
data.head()


# 하위 몇 개 행 확인
data.tail()


# 변수 확인
data.info()


# 기술통계 확인
data.describe()


# 상관관계 확인
data.corr(numeric_only=True)











# target 확인
target = 'ADMIT'

# 데이터 분리
x = data.drop(columns=target)
y = data.loc[:, target]





# 모듈 불러오기
from sklearn.model_selection import train_test_split

# 7:3으로 분리
x_train, x_test, y_train, y_test = train_test_split(x, y, test_size=0.3, random_state=1, stratify=y)











# 1단계: 불러오기
from sklearn.neighbors import KNeighborsClassifier


# 2단계: 선언하기
model = KNeighborsClassifier()# t사실 n_neighbor 초기 이웃 개수 정할 수 있음 


# 3단계: 학습하기
model.fit(x_train, y_train)


# 4단계: 예측하기
y_pred = model.predict(x_test)








# 모듈 불러오기
from sklearn.metrics import confusion_matrix
# 성능 평가
print(confusion_matrix(y_test, y_pred))


# 시각화 
sns.heatmap(confusion_matrix(y_test, y_pred), 
            annot = True,
            cmap ='Blues',
            cbar= False ,)





# 모듈 불러오기
from sklearn.metrics import accuracy_score

# 성능 평가
print('Accuracy : ',round(accuracy_score(y_test, y_pred),3))  # 127 / 150 





# 모듈 불러오기
from sklearn.metrics import precision_score
# 성능 평가
print('Precision :' , precision_score(y_test, y_pred)) # Q. 0, 1 어떤것에 대한 민감도인가?
print('Precision :' , precision_score(y_test, y_pred , average = None))  # 평균을 내지 않음 [0에 대한 민감도 , 1에 대한 민감도 ] 권고
print('Precision :' , precision_score(y_test, y_pred , average = 'macro'))  # 매크로 평균 
print('Precision :' , precision_score(y_test, y_pred , average = 'binary'))  # 기본값(이진분류 1에 대한)
print('Precision :' , precision_score(y_test, y_pred , average = 'weighted'))  # 가중치 평균





# 모듈 불러오기
from sklearn.metrics import recall_score

# 성능 평가

print('Recall :' , recall_score(y_test, y_pred, average = None )) 





# 모듈 불러오기
from sklearn.metrics import f1_score

# 성능 평가

print('F1-score :' , f1_score(y_test, y_pred, average = None )) 





# 모듈 불러오기

from sklearn.metrics import classification_report
# 성능 평가
print('Classification Report  :' , classification_report(y_test, y_pred )) 


# 참고 
model.score(x_test, y_test) # 분류모형에선 정확도 Accuracy Score  / 회귀 모형에선 R2 score 와 같음 



