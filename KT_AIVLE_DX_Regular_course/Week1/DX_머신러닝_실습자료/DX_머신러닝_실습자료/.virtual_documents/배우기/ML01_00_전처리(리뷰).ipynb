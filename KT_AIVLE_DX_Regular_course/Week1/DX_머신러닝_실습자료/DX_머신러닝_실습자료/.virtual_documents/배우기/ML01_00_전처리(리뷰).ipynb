











# 라이브러리 불러오기
import numpy as np
import pandas as pd
import matplotlib.pyplot as plt
import seaborn as sns





# 데이터 읽어오기
path = "https://raw.githubusercontent.com/jangrae/csv/master/titanic.csv"
titanic = pd.read_csv(path)


# 상위 데이터 확인
titanic.head()





# 여러 열 동시 제거
drop_cols = ['Cabin', 'PassengerId', 'Name', 'Ticket']
titanic.drop(columns=drop_cols, inplace=True)


# 확인
titanic.head()


# 이후 반복 실습을 위해 원본 보관
titanic_bk = titanic.copy()











# 변수들의 NaN 포함 상태 확인
titanic.isna().sum()














# 처리전 확인
titanic.isna().sum()


# NaN이 포함된 모든 행(axis=0) 제거
titanic.dropna(axis=0, inplace=True)

# 확인
titanic.isna().sum()


# 데이터 크기 확인
titanic.shape


# 이후 실습을 위해 원복
titanic = titanic_bk.copy()








# 처리전 확인
titanic.isna().sum()


# Age 변수에 NaN이 포함된 행 제거
titanic.dropna(subset=['Age'], axis=0, inplace=True)

# 확인
titanic.isna().sum()


# 이후 실습을 위해 원복
titanic = titanic_bk.copy()








# 처리전 확인
titanic.isna().sum()


# NaN 열이 포함된 모든 변수(axis=1) 제거
titanic.dropna(axis=1, inplace=True)

# 확인
titanic.isna().sum()


# 이후 실습을 위해 원복
titanic = titanic_bk.copy()








# 처리전 확인
titanic.isna().sum()





# Age 평균 구하기
mean_age = titanic['Age'].mean()

# NaN을 평균값으로 채우기
titanic['Age'].fillna(mean_age, inplace=True)

# 확인
titanic.isna().sum()





# Embarked 변수 값 확인
titanic['Embarked'].value_counts(dropna=True)


# NaN 값을 가장 빈도가 높은 값으로 채우기
titanic['Embarked'].fillna('S', inplace=True)

# 확인
titanic.isna().sum()








# 데이터 불러오기
path = 'https://raw.githubusercontent.com/jangrae/csv/master/airquality.csv'
air = pd.read_csv(path)

# 확인
air.head(10)


# 이후 반복 실습을 위해 원본 보관
air_bk = air.copy()


# 처리전 확인
air.isna().sum()


# Ozone 변수 NaN 값을 바로 앞의 값으로 채우기
air['Ozone'] = air['Ozone'].ffill()

# Solar.R 변수 NaN 값을 바로 뒤의 값으로 채우기
air['Solar.R'] = air['Solar.R'].bfill()

# 확인
air.isna().sum()


# 이후 실습을 위해 원복
air = air_bk.copy()








# 처리전 확인
air.isna().sum()


# 선형 보간법으로 채우기
air['Ozone'] = air['Ozone'].interpolate(method='linear')
air['Solar.R'] = air['Solar.R'].interpolate(method='linear')

# 확인
air.isna().sum()

















# 처리전 확인
titanic.head()


# 가변수 대상 변수 식별
dumm_cols = ['Pclass', 'Sex', 'Embarked']

# 가변수화
titanic = pd.get_dummies(titanic, columns=dumm_cols, drop_first=True, dtype=int)

# 확인
titanic.head()
