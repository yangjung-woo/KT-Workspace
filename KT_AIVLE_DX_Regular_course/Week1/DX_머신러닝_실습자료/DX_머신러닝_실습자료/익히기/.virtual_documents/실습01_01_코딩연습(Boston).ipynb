














# 라이브러리 불러오기
import numpy as np
import pandas as pd
import matplotlib.pyplot as plt
import seaborn as sns
import warnings

warnings.filterwarnings(action='ignore')
%config InlineBackend.figure_format = 'retina'


# 데이터 읽어오기
path = 'https://raw.githubusercontent.com/Jangrae/csv/master/boston.csv'
data = pd.read_csv(path)








# 상위 몇 개 행 확인
data.head()





# 하위 몇 개 행 확인



# 변수 확인



# 기술통계 확인



# 상관관계 확인












# target 확인


# 데이터 분리







# 모듈 불러오기


# 7:3으로 분리












# 1단계: 불러오기




# 2단계: 선언하기



# 3단계: 학습하기



# 4단계: 예측하기



# 5단계: 평가하기






# 예측값과 실젯값 시각화 비교




