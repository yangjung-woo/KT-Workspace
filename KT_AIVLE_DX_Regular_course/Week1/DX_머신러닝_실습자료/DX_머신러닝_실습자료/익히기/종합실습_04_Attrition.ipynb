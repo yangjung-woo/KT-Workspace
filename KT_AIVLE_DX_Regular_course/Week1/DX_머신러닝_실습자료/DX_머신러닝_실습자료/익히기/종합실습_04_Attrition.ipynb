{
 "cells": [
  {
   "cell_type": "markdown",
   "metadata": {
    "id": "y1J78TFSRrSA"
   },
   "source": [
    "<center><img src='https://raw.githubusercontent.com/Jangrae/img/master/ml_python.png' width=600/></center>"
   ]
  },
  {
   "cell_type": "markdown",
   "metadata": {
    "id": "NY9FtARpPcY3"
   },
   "source": [
    "<img src = \"https://github.com/Jangrae/img/blob/master/attrition.png?raw=true\" width=800 align=\"left\"/>"
   ]
  },
  {
   "cell_type": "markdown",
   "metadata": {
    "id": "elUlK1gCJHGh"
   },
   "source": [
    "# 실습 내용\n",
    "\n",
    "- 다양한 알고리즘으로 성능이 최적화된 모델을 만듭니다.\n",
    "- 성능이 좋을 것으로 예상되는 모델을 선정해 평가를 진행합니다."
   ]
  },
  {
   "cell_type": "markdown",
   "metadata": {
    "id": "IciCQGJy5PO-"
   },
   "source": [
    "# 1.환경 준비\n",
    "\n",
    "- 기본 라이브러리와 대상 데이터를 가져와 이후 과정을 준비합니다."
   ]
  },
  {
   "cell_type": "code",
   "execution_count": 5,
   "metadata": {
    "id": "jB0l6oqDsG8B"
   },
   "outputs": [],
   "source": [
    "# 라이브러리 불러오기\n",
    "import numpy as np\n",
    "import pandas as pd\n",
    "import matplotlib.pyplot as plt\n",
    "import warnings\n",
    "\n",
    "warnings.filterwarnings(action='ignore')\n",
    "%config InlineBackend.figure_format = 'retina'"
   ]
  },
  {
   "cell_type": "code",
   "execution_count": 6,
   "metadata": {
    "id": "PXqyu_0LsG8C"
   },
   "outputs": [],
   "source": [
    "# https://raw.githubusercontent.com/jangrae/csv/master/Attrition_simple2.csv\n",
    "\n",
    "path = 'https://raw.githubusercontent.com/jangrae/csv/master/Attrition_simple2.csv'\n",
    "data = pd.read_csv(path)\n"
   ]
  },
  {
   "cell_type": "markdown",
   "metadata": {
    "id": "hDHOQrUbNGSK"
   },
   "source": [
    "# 2.데이터 이해\n",
    "\n",
    "- 분석할 데이터를 충분히 이해할 수 있도록 다양한 탐색 과정을 수행합니다."
   ]
  },
  {
   "cell_type": "markdown",
   "metadata": {
    "id": "xpVE5kFzPVSz"
   },
   "source": [
    "**데이터 설명**\n",
    "\n",
    "- **Attrition: 이직 여부 (1: 이직, 0: 잔류) - Target**\n",
    "- Age: 나이\n",
    "- DistanceFromHome: 집-직장 거리 (단위: 마일)\n",
    "- EmployeeNumber: 사번\n",
    "- Gender: 성별 (Male, Female)\n",
    "- JobSatisfaction: 직무 만족도(1: Low, 2: Medium, 3: High, 4: Very High)\n",
    "- MaritalStatus: 결혼 상태 (Single, Married, Divorced)\n",
    "- MonthlyIncome: 월급 (단위: 달러)\n",
    "- OverTime: 야근 여부 (Yes, No)\n",
    "- PercentSalaryHike: 전년 대비 급여 인상율(단위: %)\n",
    "- TotalWorkingYears: 총 경력 연수"
   ]
  },
  {
   "cell_type": "code",
   "execution_count": 9,
   "metadata": {
    "id": "Z1ahypi3irLz"
   },
   "outputs": [
    {
     "data": {
      "text/html": [
       "<div>\n",
       "<style scoped>\n",
       "    .dataframe tbody tr th:only-of-type {\n",
       "        vertical-align: middle;\n",
       "    }\n",
       "\n",
       "    .dataframe tbody tr th {\n",
       "        vertical-align: top;\n",
       "    }\n",
       "\n",
       "    .dataframe thead th {\n",
       "        text-align: right;\n",
       "    }\n",
       "</style>\n",
       "<table border=\"1\" class=\"dataframe\">\n",
       "  <thead>\n",
       "    <tr style=\"text-align: right;\">\n",
       "      <th></th>\n",
       "      <th>Attrition</th>\n",
       "      <th>Age</th>\n",
       "      <th>DistanceFromHome</th>\n",
       "      <th>EmployeeNumber</th>\n",
       "      <th>Gender</th>\n",
       "      <th>JobSatisfaction</th>\n",
       "      <th>MaritalStatus</th>\n",
       "      <th>MonthlyIncome</th>\n",
       "      <th>OverTime</th>\n",
       "      <th>PercentSalaryHike</th>\n",
       "      <th>TotalWorkingYears</th>\n",
       "    </tr>\n",
       "  </thead>\n",
       "  <tbody>\n",
       "    <tr>\n",
       "      <th>0</th>\n",
       "      <td>0</td>\n",
       "      <td>33</td>\n",
       "      <td>7</td>\n",
       "      <td>817</td>\n",
       "      <td>Male</td>\n",
       "      <td>3</td>\n",
       "      <td>Married</td>\n",
       "      <td>11691</td>\n",
       "      <td>No</td>\n",
       "      <td>11</td>\n",
       "      <td>14</td>\n",
       "    </tr>\n",
       "    <tr>\n",
       "      <th>1</th>\n",
       "      <td>0</td>\n",
       "      <td>35</td>\n",
       "      <td>18</td>\n",
       "      <td>1412</td>\n",
       "      <td>Male</td>\n",
       "      <td>4</td>\n",
       "      <td>Single</td>\n",
       "      <td>9362</td>\n",
       "      <td>No</td>\n",
       "      <td>11</td>\n",
       "      <td>10</td>\n",
       "    </tr>\n",
       "    <tr>\n",
       "      <th>2</th>\n",
       "      <td>0</td>\n",
       "      <td>42</td>\n",
       "      <td>6</td>\n",
       "      <td>1911</td>\n",
       "      <td>Male</td>\n",
       "      <td>1</td>\n",
       "      <td>Married</td>\n",
       "      <td>13348</td>\n",
       "      <td>No</td>\n",
       "      <td>13</td>\n",
       "      <td>18</td>\n",
       "    </tr>\n",
       "    <tr>\n",
       "      <th>3</th>\n",
       "      <td>0</td>\n",
       "      <td>46</td>\n",
       "      <td>2</td>\n",
       "      <td>1204</td>\n",
       "      <td>Female</td>\n",
       "      <td>1</td>\n",
       "      <td>Married</td>\n",
       "      <td>17048</td>\n",
       "      <td>No</td>\n",
       "      <td>23</td>\n",
       "      <td>28</td>\n",
       "    </tr>\n",
       "    <tr>\n",
       "      <th>4</th>\n",
       "      <td>1</td>\n",
       "      <td>22</td>\n",
       "      <td>4</td>\n",
       "      <td>593</td>\n",
       "      <td>Male</td>\n",
       "      <td>3</td>\n",
       "      <td>Single</td>\n",
       "      <td>3894</td>\n",
       "      <td>No</td>\n",
       "      <td>16</td>\n",
       "      <td>4</td>\n",
       "    </tr>\n",
       "  </tbody>\n",
       "</table>\n",
       "</div>"
      ],
      "text/plain": [
       "   Attrition  Age  DistanceFromHome  EmployeeNumber  Gender  JobSatisfaction  \\\n",
       "0          0   33                 7             817    Male                3   \n",
       "1          0   35                18            1412    Male                4   \n",
       "2          0   42                 6            1911    Male                1   \n",
       "3          0   46                 2            1204  Female                1   \n",
       "4          1   22                 4             593    Male                3   \n",
       "\n",
       "  MaritalStatus  MonthlyIncome OverTime  PercentSalaryHike  TotalWorkingYears  \n",
       "0       Married          11691       No                 11                 14  \n",
       "1        Single           9362       No                 11                 10  \n",
       "2       Married          13348       No                 13                 18  \n",
       "3       Married          17048       No                 23                 28  \n",
       "4        Single           3894       No                 16                  4  "
      ]
     },
     "execution_count": 9,
     "metadata": {},
     "output_type": "execute_result"
    }
   ],
   "source": [
    "\n",
    "#데이터 확인 \n",
    "data.head()"
   ]
  },
  {
   "cell_type": "code",
   "execution_count": 10,
   "metadata": {
    "id": "HGHlgWSwtSYh"
   },
   "outputs": [
    {
     "data": {
      "text/html": [
       "<div>\n",
       "<style scoped>\n",
       "    .dataframe tbody tr th:only-of-type {\n",
       "        vertical-align: middle;\n",
       "    }\n",
       "\n",
       "    .dataframe tbody tr th {\n",
       "        vertical-align: top;\n",
       "    }\n",
       "\n",
       "    .dataframe thead th {\n",
       "        text-align: right;\n",
       "    }\n",
       "</style>\n",
       "<table border=\"1\" class=\"dataframe\">\n",
       "  <thead>\n",
       "    <tr style=\"text-align: right;\">\n",
       "      <th></th>\n",
       "      <th>count</th>\n",
       "      <th>mean</th>\n",
       "      <th>std</th>\n",
       "      <th>min</th>\n",
       "      <th>25%</th>\n",
       "      <th>50%</th>\n",
       "      <th>75%</th>\n",
       "      <th>max</th>\n",
       "    </tr>\n",
       "  </thead>\n",
       "  <tbody>\n",
       "    <tr>\n",
       "      <th>Attrition</th>\n",
       "      <td>1196.0</td>\n",
       "      <td>0.163043</td>\n",
       "      <td>0.369560</td>\n",
       "      <td>0.0</td>\n",
       "      <td>0.00</td>\n",
       "      <td>0.0</td>\n",
       "      <td>0.00</td>\n",
       "      <td>1.0</td>\n",
       "    </tr>\n",
       "    <tr>\n",
       "      <th>Age</th>\n",
       "      <td>1196.0</td>\n",
       "      <td>36.943980</td>\n",
       "      <td>9.092700</td>\n",
       "      <td>18.0</td>\n",
       "      <td>30.00</td>\n",
       "      <td>36.0</td>\n",
       "      <td>43.00</td>\n",
       "      <td>60.0</td>\n",
       "    </tr>\n",
       "    <tr>\n",
       "      <th>DistanceFromHome</th>\n",
       "      <td>1196.0</td>\n",
       "      <td>9.258361</td>\n",
       "      <td>8.166016</td>\n",
       "      <td>1.0</td>\n",
       "      <td>2.00</td>\n",
       "      <td>7.0</td>\n",
       "      <td>14.00</td>\n",
       "      <td>29.0</td>\n",
       "    </tr>\n",
       "    <tr>\n",
       "      <th>EmployeeNumber</th>\n",
       "      <td>1196.0</td>\n",
       "      <td>1035.629599</td>\n",
       "      <td>604.340130</td>\n",
       "      <td>1.0</td>\n",
       "      <td>507.75</td>\n",
       "      <td>1028.0</td>\n",
       "      <td>1581.25</td>\n",
       "      <td>2068.0</td>\n",
       "    </tr>\n",
       "    <tr>\n",
       "      <th>JobSatisfaction</th>\n",
       "      <td>1196.0</td>\n",
       "      <td>2.716555</td>\n",
       "      <td>1.110962</td>\n",
       "      <td>1.0</td>\n",
       "      <td>2.00</td>\n",
       "      <td>3.0</td>\n",
       "      <td>4.00</td>\n",
       "      <td>4.0</td>\n",
       "    </tr>\n",
       "    <tr>\n",
       "      <th>MonthlyIncome</th>\n",
       "      <td>1196.0</td>\n",
       "      <td>6520.104515</td>\n",
       "      <td>4665.902253</td>\n",
       "      <td>1009.0</td>\n",
       "      <td>2928.25</td>\n",
       "      <td>4973.5</td>\n",
       "      <td>8420.50</td>\n",
       "      <td>19999.0</td>\n",
       "    </tr>\n",
       "    <tr>\n",
       "      <th>PercentSalaryHike</th>\n",
       "      <td>1196.0</td>\n",
       "      <td>15.251672</td>\n",
       "      <td>3.625946</td>\n",
       "      <td>11.0</td>\n",
       "      <td>12.00</td>\n",
       "      <td>14.0</td>\n",
       "      <td>18.00</td>\n",
       "      <td>25.0</td>\n",
       "    </tr>\n",
       "    <tr>\n",
       "      <th>TotalWorkingYears</th>\n",
       "      <td>1196.0</td>\n",
       "      <td>11.330268</td>\n",
       "      <td>7.823821</td>\n",
       "      <td>0.0</td>\n",
       "      <td>6.00</td>\n",
       "      <td>10.0</td>\n",
       "      <td>15.00</td>\n",
       "      <td>40.0</td>\n",
       "    </tr>\n",
       "  </tbody>\n",
       "</table>\n",
       "</div>"
      ],
      "text/plain": [
       "                    count         mean          std     min      25%     50%  \\\n",
       "Attrition          1196.0     0.163043     0.369560     0.0     0.00     0.0   \n",
       "Age                1196.0    36.943980     9.092700    18.0    30.00    36.0   \n",
       "DistanceFromHome   1196.0     9.258361     8.166016     1.0     2.00     7.0   \n",
       "EmployeeNumber     1196.0  1035.629599   604.340130     1.0   507.75  1028.0   \n",
       "JobSatisfaction    1196.0     2.716555     1.110962     1.0     2.00     3.0   \n",
       "MonthlyIncome      1196.0  6520.104515  4665.902253  1009.0  2928.25  4973.5   \n",
       "PercentSalaryHike  1196.0    15.251672     3.625946    11.0    12.00    14.0   \n",
       "TotalWorkingYears  1196.0    11.330268     7.823821     0.0     6.00    10.0   \n",
       "\n",
       "                       75%      max  \n",
       "Attrition             0.00      1.0  \n",
       "Age                  43.00     60.0  \n",
       "DistanceFromHome     14.00     29.0  \n",
       "EmployeeNumber     1581.25   2068.0  \n",
       "JobSatisfaction       4.00      4.0  \n",
       "MonthlyIncome      8420.50  19999.0  \n",
       "PercentSalaryHike    18.00     25.0  \n",
       "TotalWorkingYears    15.00     40.0  "
      ]
     },
     "execution_count": 10,
     "metadata": {},
     "output_type": "execute_result"
    }
   ],
   "source": [
    "#기술통계 확인\n",
    "data.describe().T\n"
   ]
  },
  {
   "cell_type": "code",
   "execution_count": 11,
   "metadata": {
    "id": "6jtp6IKP2ldJ"
   },
   "outputs": [
    {
     "data": {
      "text/plain": [
       "Attrition            0\n",
       "Age                  0\n",
       "DistanceFromHome     0\n",
       "EmployeeNumber       0\n",
       "Gender               0\n",
       "JobSatisfaction      0\n",
       "MaritalStatus        0\n",
       "MonthlyIncome        0\n",
       "OverTime             0\n",
       "PercentSalaryHike    0\n",
       "TotalWorkingYears    0\n",
       "dtype: int64"
      ]
     },
     "execution_count": 11,
     "metadata": {},
     "output_type": "execute_result"
    }
   ],
   "source": [
    "#결측치 확인 \n",
    "data.isna().sum()\n"
   ]
  },
  {
   "cell_type": "code",
   "execution_count": 12,
   "metadata": {
    "id": "aXz7jDPIunQT"
   },
   "outputs": [
    {
     "name": "stdout",
     "output_type": "stream",
     "text": [
      "<class 'pandas.core.frame.DataFrame'>\n",
      "RangeIndex: 1196 entries, 0 to 1195\n",
      "Data columns (total 11 columns):\n",
      " #   Column             Non-Null Count  Dtype \n",
      "---  ------             --------------  ----- \n",
      " 0   Attrition          1196 non-null   int64 \n",
      " 1   Age                1196 non-null   int64 \n",
      " 2   DistanceFromHome   1196 non-null   int64 \n",
      " 3   EmployeeNumber     1196 non-null   int64 \n",
      " 4   Gender             1196 non-null   object\n",
      " 5   JobSatisfaction    1196 non-null   int64 \n",
      " 6   MaritalStatus      1196 non-null   object\n",
      " 7   MonthlyIncome      1196 non-null   int64 \n",
      " 8   OverTime           1196 non-null   object\n",
      " 9   PercentSalaryHike  1196 non-null   int64 \n",
      " 10  TotalWorkingYears  1196 non-null   int64 \n",
      "dtypes: int64(8), object(3)\n",
      "memory usage: 102.9+ KB\n"
     ]
    }
   ],
   "source": [
    "#\n",
    "data.info()\n"
   ]
  },
  {
   "cell_type": "code",
   "execution_count": 13,
   "metadata": {
    "id": "IpMpZZPbvPYR"
   },
   "outputs": [],
   "source": [
    "#\n",
    "\n"
   ]
  },
  {
   "cell_type": "markdown",
   "metadata": {
    "id": "xyfvv8VLTvgu",
    "tags": []
   },
   "source": [
    "# 3.데이터 준비\n",
    "\n",
    "- 전처리 과정을 통해 머신러닝 알고리즘에 사용할 수 있는 형태의 데이터를 준비합니다."
   ]
  },
  {
   "cell_type": "markdown",
   "metadata": {
    "id": "zeC2p9m8PcY5"
   },
   "source": [
    "**1) 변수 제거**"
   ]
  },
  {
   "cell_type": "code",
   "execution_count": 16,
   "metadata": {
    "id": "vxBUmntePcY5"
   },
   "outputs": [
    {
     "data": {
      "text/html": [
       "<div>\n",
       "<style scoped>\n",
       "    .dataframe tbody tr th:only-of-type {\n",
       "        vertical-align: middle;\n",
       "    }\n",
       "\n",
       "    .dataframe tbody tr th {\n",
       "        vertical-align: top;\n",
       "    }\n",
       "\n",
       "    .dataframe thead th {\n",
       "        text-align: right;\n",
       "    }\n",
       "</style>\n",
       "<table border=\"1\" class=\"dataframe\">\n",
       "  <thead>\n",
       "    <tr style=\"text-align: right;\">\n",
       "      <th></th>\n",
       "      <th>Attrition</th>\n",
       "      <th>Age</th>\n",
       "      <th>DistanceFromHome</th>\n",
       "      <th>Gender</th>\n",
       "      <th>JobSatisfaction</th>\n",
       "      <th>MaritalStatus</th>\n",
       "      <th>MonthlyIncome</th>\n",
       "      <th>OverTime</th>\n",
       "      <th>PercentSalaryHike</th>\n",
       "      <th>TotalWorkingYears</th>\n",
       "    </tr>\n",
       "  </thead>\n",
       "  <tbody>\n",
       "    <tr>\n",
       "      <th>0</th>\n",
       "      <td>0</td>\n",
       "      <td>33</td>\n",
       "      <td>7</td>\n",
       "      <td>Male</td>\n",
       "      <td>3</td>\n",
       "      <td>Married</td>\n",
       "      <td>11691</td>\n",
       "      <td>No</td>\n",
       "      <td>11</td>\n",
       "      <td>14</td>\n",
       "    </tr>\n",
       "    <tr>\n",
       "      <th>1</th>\n",
       "      <td>0</td>\n",
       "      <td>35</td>\n",
       "      <td>18</td>\n",
       "      <td>Male</td>\n",
       "      <td>4</td>\n",
       "      <td>Single</td>\n",
       "      <td>9362</td>\n",
       "      <td>No</td>\n",
       "      <td>11</td>\n",
       "      <td>10</td>\n",
       "    </tr>\n",
       "    <tr>\n",
       "      <th>2</th>\n",
       "      <td>0</td>\n",
       "      <td>42</td>\n",
       "      <td>6</td>\n",
       "      <td>Male</td>\n",
       "      <td>1</td>\n",
       "      <td>Married</td>\n",
       "      <td>13348</td>\n",
       "      <td>No</td>\n",
       "      <td>13</td>\n",
       "      <td>18</td>\n",
       "    </tr>\n",
       "    <tr>\n",
       "      <th>3</th>\n",
       "      <td>0</td>\n",
       "      <td>46</td>\n",
       "      <td>2</td>\n",
       "      <td>Female</td>\n",
       "      <td>1</td>\n",
       "      <td>Married</td>\n",
       "      <td>17048</td>\n",
       "      <td>No</td>\n",
       "      <td>23</td>\n",
       "      <td>28</td>\n",
       "    </tr>\n",
       "    <tr>\n",
       "      <th>4</th>\n",
       "      <td>1</td>\n",
       "      <td>22</td>\n",
       "      <td>4</td>\n",
       "      <td>Male</td>\n",
       "      <td>3</td>\n",
       "      <td>Single</td>\n",
       "      <td>3894</td>\n",
       "      <td>No</td>\n",
       "      <td>16</td>\n",
       "      <td>4</td>\n",
       "    </tr>\n",
       "  </tbody>\n",
       "</table>\n",
       "</div>"
      ],
      "text/plain": [
       "   Attrition  Age  DistanceFromHome  Gender  JobSatisfaction MaritalStatus  \\\n",
       "0          0   33                 7    Male                3       Married   \n",
       "1          0   35                18    Male                4        Single   \n",
       "2          0   42                 6    Male                1       Married   \n",
       "3          0   46                 2  Female                1       Married   \n",
       "4          1   22                 4    Male                3        Single   \n",
       "\n",
       "   MonthlyIncome OverTime  PercentSalaryHike  TotalWorkingYears  \n",
       "0          11691       No                 11                 14  \n",
       "1           9362       No                 11                 10  \n",
       "2          13348       No                 13                 18  \n",
       "3          17048       No                 23                 28  \n",
       "4           3894       No                 16                  4  "
      ]
     },
     "execution_count": 16,
     "metadata": {},
     "output_type": "execute_result"
    }
   ],
   "source": [
    "# EmployeeNumber \n",
    "data.drop(columns= 'EmployeeNumber',inplace = True)\n",
    "data.head()"
   ]
  },
  {
   "cell_type": "markdown",
   "metadata": {
    "id": "BE_0rwxPdErC"
   },
   "source": [
    "**2) x, y 분리**"
   ]
  },
  {
   "cell_type": "code",
   "execution_count": 18,
   "metadata": {
    "id": "Ops0CDL2dEDe"
   },
   "outputs": [],
   "source": [
    "target = 'Attrition'\n",
    "x = data.drop(columns = target)\n",
    "y = data.loc[:,target]\n"
   ]
  },
  {
   "cell_type": "markdown",
   "metadata": {
    "id": "FmptGbWLBHn5"
   },
   "source": [
    "**2) 가변수화**"
   ]
  },
  {
   "cell_type": "code",
   "execution_count": 20,
   "metadata": {
    "id": "CDnjJtWVfGyx"
   },
   "outputs": [
    {
     "data": {
      "text/html": [
       "<div>\n",
       "<style scoped>\n",
       "    .dataframe tbody tr th:only-of-type {\n",
       "        vertical-align: middle;\n",
       "    }\n",
       "\n",
       "    .dataframe tbody tr th {\n",
       "        vertical-align: top;\n",
       "    }\n",
       "\n",
       "    .dataframe thead th {\n",
       "        text-align: right;\n",
       "    }\n",
       "</style>\n",
       "<table border=\"1\" class=\"dataframe\">\n",
       "  <thead>\n",
       "    <tr style=\"text-align: right;\">\n",
       "      <th></th>\n",
       "      <th>Age</th>\n",
       "      <th>DistanceFromHome</th>\n",
       "      <th>MonthlyIncome</th>\n",
       "      <th>PercentSalaryHike</th>\n",
       "      <th>TotalWorkingYears</th>\n",
       "      <th>Gender_Male</th>\n",
       "      <th>JobSatisfaction_2</th>\n",
       "      <th>JobSatisfaction_3</th>\n",
       "      <th>JobSatisfaction_4</th>\n",
       "      <th>MaritalStatus_Married</th>\n",
       "      <th>MaritalStatus_Single</th>\n",
       "      <th>OverTime_Yes</th>\n",
       "    </tr>\n",
       "  </thead>\n",
       "  <tbody>\n",
       "    <tr>\n",
       "      <th>0</th>\n",
       "      <td>33</td>\n",
       "      <td>7</td>\n",
       "      <td>11691</td>\n",
       "      <td>11</td>\n",
       "      <td>14</td>\n",
       "      <td>1</td>\n",
       "      <td>0</td>\n",
       "      <td>1</td>\n",
       "      <td>0</td>\n",
       "      <td>1</td>\n",
       "      <td>0</td>\n",
       "      <td>0</td>\n",
       "    </tr>\n",
       "    <tr>\n",
       "      <th>1</th>\n",
       "      <td>35</td>\n",
       "      <td>18</td>\n",
       "      <td>9362</td>\n",
       "      <td>11</td>\n",
       "      <td>10</td>\n",
       "      <td>1</td>\n",
       "      <td>0</td>\n",
       "      <td>0</td>\n",
       "      <td>1</td>\n",
       "      <td>0</td>\n",
       "      <td>1</td>\n",
       "      <td>0</td>\n",
       "    </tr>\n",
       "    <tr>\n",
       "      <th>2</th>\n",
       "      <td>42</td>\n",
       "      <td>6</td>\n",
       "      <td>13348</td>\n",
       "      <td>13</td>\n",
       "      <td>18</td>\n",
       "      <td>1</td>\n",
       "      <td>0</td>\n",
       "      <td>0</td>\n",
       "      <td>0</td>\n",
       "      <td>1</td>\n",
       "      <td>0</td>\n",
       "      <td>0</td>\n",
       "    </tr>\n",
       "    <tr>\n",
       "      <th>3</th>\n",
       "      <td>46</td>\n",
       "      <td>2</td>\n",
       "      <td>17048</td>\n",
       "      <td>23</td>\n",
       "      <td>28</td>\n",
       "      <td>0</td>\n",
       "      <td>0</td>\n",
       "      <td>0</td>\n",
       "      <td>0</td>\n",
       "      <td>1</td>\n",
       "      <td>0</td>\n",
       "      <td>0</td>\n",
       "    </tr>\n",
       "    <tr>\n",
       "      <th>4</th>\n",
       "      <td>22</td>\n",
       "      <td>4</td>\n",
       "      <td>3894</td>\n",
       "      <td>16</td>\n",
       "      <td>4</td>\n",
       "      <td>1</td>\n",
       "      <td>0</td>\n",
       "      <td>1</td>\n",
       "      <td>0</td>\n",
       "      <td>0</td>\n",
       "      <td>1</td>\n",
       "      <td>0</td>\n",
       "    </tr>\n",
       "  </tbody>\n",
       "</table>\n",
       "</div>"
      ],
      "text/plain": [
       "   Age  DistanceFromHome  MonthlyIncome  PercentSalaryHike  TotalWorkingYears  \\\n",
       "0   33                 7          11691                 11                 14   \n",
       "1   35                18           9362                 11                 10   \n",
       "2   42                 6          13348                 13                 18   \n",
       "3   46                 2          17048                 23                 28   \n",
       "4   22                 4           3894                 16                  4   \n",
       "\n",
       "   Gender_Male  JobSatisfaction_2  JobSatisfaction_3  JobSatisfaction_4  \\\n",
       "0            1                  0                  1                  0   \n",
       "1            1                  0                  0                  1   \n",
       "2            1                  0                  0                  0   \n",
       "3            0                  0                  0                  0   \n",
       "4            1                  0                  1                  0   \n",
       "\n",
       "   MaritalStatus_Married  MaritalStatus_Single  OverTime_Yes  \n",
       "0                      1                     0             0  \n",
       "1                      0                     1             0  \n",
       "2                      1                     0             0  \n",
       "3                      1                     0             0  \n",
       "4                      0                     1             0  "
      ]
     },
     "execution_count": 20,
     "metadata": {},
     "output_type": "execute_result"
    }
   ],
   "source": [
    "dummy_cols = ['Gender','JobSatisfaction','MaritalStatus','OverTime']\n",
    "\n",
    "x = pd.get_dummies(data=x , columns = dummy_cols , drop_first = True , dtype = int )\n",
    "x.head()# light xbm을 위해서라도 문자열이 있어선 안된다 "
   ]
  },
  {
   "cell_type": "markdown",
   "metadata": {
    "id": "CIZn6GJhTPQy"
   },
   "source": [
    "**3) 학습용, 평가용 데이터 분리**"
   ]
  },
  {
   "cell_type": "code",
   "execution_count": 22,
   "metadata": {
    "id": "PktSAf43CpOB"
   },
   "outputs": [],
   "source": [
    "from sklearn.model_selection import train_test_split\n",
    "\n",
    "x_train , x_test , y_train , y_test = train_test_split(x,y,test_size = 0.3)\n"
   ]
  },
  {
   "cell_type": "markdown",
   "metadata": {
    "id": "3flw-FxfTMAs"
   },
   "source": [
    "**4) 정규화**"
   ]
  },
  {
   "cell_type": "code",
   "execution_count": 24,
   "metadata": {
    "id": "yr7ohkRzCpr4"
   },
   "outputs": [],
   "source": [
    "from sklearn.preprocessing import MinMaxScaler\n",
    "\n",
    "scaler = MinMaxScaler()\n",
    "scaler.fit(x_train)\n",
    "\n",
    "x_train_s = scaler.transform(x_train)\n",
    "x_test_s = scaler.transform(x_test)\n",
    "\n"
   ]
  },
  {
   "cell_type": "markdown",
   "metadata": {
    "id": "BYr1vtpd8uw4",
    "tags": []
   },
   "source": [
    "# 4.모델링\n",
    "\n",
    "- 하이퍼파라미터 최적화 과정을 통해 최선의 성능을 갖는 모델을 만들고 성능을 검증합니다.\n",
    "- 각 모델을 joblib.dump() 함수를 사용해 저장합니다."
   ]
  },
  {
   "cell_type": "code",
   "execution_count": 26,
   "metadata": {
    "id": "0FiGni9hPVS2"
   },
   "outputs": [],
   "source": [
    "# xgboost 설치\n",
    "# !pip install xgboost"
   ]
  },
  {
   "cell_type": "code",
   "execution_count": 27,
   "metadata": {
    "id": "q_pVLAbrPVS2"
   },
   "outputs": [],
   "source": [
    "# lightgbm 설치\n",
    "# !pip install lightgbm"
   ]
  },
  {
   "cell_type": "markdown",
   "metadata": {
    "id": "1ma3TDsHPVS2"
   },
   "source": [
    "- 이후 사용할 함수를 모두 불러옵니다."
   ]
  },
  {
   "cell_type": "code",
   "execution_count": 29,
   "metadata": {
    "id": "0VmIPSbCPVS3"
   },
   "outputs": [],
   "source": [
    "# 분류(이직 여부를 예측)\n",
    "from sklearn.neighbors import KNeighborsClassifier\n",
    "from sklearn.tree import DecisionTreeClassifier\n",
    "from sklearn.ensemble import RandomForestClassifier\n",
    "from lightgbm import LGBMClassifier\n",
    "\n",
    "# 모델마다 최적의 파라미터를 찾아 학습\n",
    "from sklearn.model_selection import GridSearchCV\n",
    "\n",
    "# 모델 성능 평가\n",
    "from sklearn.metrics import * \n",
    "\n"
   ]
  },
  {
   "cell_type": "markdown",
   "metadata": {
    "id": "9pqwajKFyK4F"
   },
   "source": [
    "**1) KNN**\n",
    "\n",
    "- 최적으로 파라미터로 학습된 KNN 모델을 만들고, 최고의 파라미터와 성능을 확인합니다.\n",
    "- 모델 이름은 model_knn으로 지정합니다."
   ]
  },
  {
   "cell_type": "code",
   "execution_count": 31,
   "metadata": {
    "id": "ziotuce6yK4G"
   },
   "outputs": [
    {
     "name": "stdout",
     "output_type": "stream",
     "text": [
      "best params :  {'n_neighbors': 19}\n",
      "best_score :  0.8387225548902195\n",
      "Test Accuracy: 0.8607242339832869\n"
     ]
    }
   ],
   "source": [
    "# GridSearch 를 적용한 최적 모델을 확인 \n",
    "param = {'n_neighbors': range(1, 21, 1)}\n",
    "model_knn = GridSearchCV(KNeighborsClassifier(),param,cv = 5)\n",
    "model_knn.fit(x_train_s, y_train) # (전체 학습)\n",
    "# 예측 결과 확인\n",
    "print('best params : ',model_knn.best_params_)\n",
    "print('best_score : ',model_knn.best_score_) \n",
    "\n",
    "# # 2. 최적의 파라미터를 적용한 모델로 학습\n",
    "# best_knn_model = model_knn.best_estimator_\n",
    "\n",
    "# 3. x_test 데이터로 예측\n",
    "y_pred = model_knn.predict(x_test_s)\n",
    "\n",
    "# 4. 예측 성능 평가 (예: 정확도)\n",
    "accuracy = accuracy_score(y_test, y_pred)\n",
    "print(f\"Test Accuracy: {accuracy}\")"
   ]
  },
  {
   "cell_type": "markdown",
   "metadata": {
    "id": "IRaFjf90PVS4"
   },
   "source": [
    "**2) Decision Tree**\n",
    "\n",
    "- 최적으로 파라미터로 학습된 Decision Tree 모델을 만들고, 최고의 파라미터와 성능을 확인합니다.\n",
    "- 모델 이름은 model_dst로 지정합니다."
   ]
  },
  {
   "cell_type": "code",
   "execution_count": 33,
   "metadata": {
    "id": "e8cf-5LA2ldL"
   },
   "outputs": [
    {
     "name": "stdout",
     "output_type": "stream",
     "text": [
      "best params :  {'max_depth': 3}\n",
      "best_score :  0.8483105218135158\n",
      "Test Accuracy: 0.8467966573816156\n"
     ]
    }
   ],
   "source": [
    "param = {'max_depth': range(1, 21, 1)}\n",
    "model_dst = GridSearchCV(DecisionTreeClassifier(), param, cv = 5)\n",
    "model_dst.fit(x_train, y_train) # (전체 학습)\n",
    "\n",
    "# 예측 결과 확인\n",
    "print('best params : ',model_dst.best_params_)\n",
    "print('best_score : ',model_dst.best_score_) \n",
    "\n",
    "# # 2. 최적의 파라미터를 적용한 모델로 학습 (최적파라미터만 적용한 모델만 학습)\n",
    "# best_dst_model = model_dst.best_estimator_\n",
    "\n",
    "# 3. x_test 데이터로 예측\n",
    "y_pred = model_dst.predict(x_test)\n",
    "\n",
    "# 4. 예측 성능 평가 (예: 정확도)\n",
    "accuracy = accuracy_score(y_test, y_pred)\n",
    "print(f\"Test Accuracy: {accuracy}\")\n"
   ]
  },
  {
   "cell_type": "markdown",
   "metadata": {
    "id": "b0crO5W_ygXk"
   },
   "source": [
    "**3) Random Forest**\n",
    "\n",
    "- 최적으로 파라미터로 학습된 Random Forest 모델을 만들고, 최고의 파라미터와 성능을 확인합니다.\n",
    "- 모델 이름은 model_rdf로 지정합니다."
   ]
  },
  {
   "cell_type": "code",
   "execution_count": 35,
   "metadata": {
    "id": "cUPJ1rMoPVS4"
   },
   "outputs": [
    {
     "name": "stdout",
     "output_type": "stream",
     "text": [
      "best params :  {'max_depth': 4}\n",
      "best_score :  0.84947248360422\n",
      "Test Accuracy: 0.841225626740947\n"
     ]
    }
   ],
   "source": [
    "param = {\n",
    "    'max_depth': range(1, 21, 1)\n",
    "}\n",
    "model_rf = GridSearchCV(DecisionTreeClassifier(), param, cv = 5)\n",
    "model_rf.fit(x_train, y_train)\n",
    "\n",
    "# 예측 결과 확인\n",
    "print('best params : ',model_rf.best_params_)\n",
    "print('best_score : ',model_rf.best_score_) \n",
    "\n",
    "# # 2. 최적의 파라미터를 적용한 모델로 학습\n",
    "# best_rf_model = model_rf.best_estimator_\n",
    "\n",
    "# 3. x_test 데이터로 예측\n",
    "y_pred = model_rf.predict(x_test)\n",
    "\n",
    "# 4. 예측 성능 평가 (예: 정확도)\n",
    "accuracy = accuracy_score(y_test, y_pred)\n",
    "print(f\"Test Accuracy: {accuracy}\")\n"
   ]
  },
  {
   "cell_type": "markdown",
   "metadata": {
    "id": "JFC-IE49PVS6"
   },
   "source": [
    "**4) LightGBM**\n",
    "\n",
    "- 최적으로 파라미터로 학습된 LightGBM 모델을 만들고, 최고의 파라미터와 성능을 확인합니다.\n",
    "- 모델 이름은 model_lgb로 지정합니다."
   ]
  },
  {
   "cell_type": "code",
   "execution_count": 37,
   "metadata": {
    "id": "hyqi1_VePVS4"
   },
   "outputs": [
    {
     "name": "stdout",
     "output_type": "stream",
     "text": [
      "best params :  {'max_depth': 2, 'n_estimators': 90}\n",
      "best_score :  0.8614128885086968\n",
      "Test Accuracy: 0.8495821727019499\n"
     ]
    }
   ],
   "source": [
    "param = {'max_depth': range(1, 21, 1), \n",
    "         'n_estimators': range(50, 100, 10)}\n",
    "model_lgbm = GridSearchCV(LGBMClassifier(verbose=-1), param , cv= 5)\n",
    "model_lgbm.fit(x_train, y_train)\n",
    "\n",
    "# 예측 결과 확인\n",
    "print('best params : ',model_lgbm.best_params_)\n",
    "print('best_score : ',model_lgbm.best_score_) \n",
    "\n",
    "# # 2. 최적의 파라미터를 적용한 모델로 학습\n",
    "# best_lgbm_model = model_lgbm.best_estimator_\n",
    "\n",
    "# 3. x_test 데이터로 예측\n",
    "y_pred = model_lgbm.predict(x_test)\n",
    "\n",
    "# 4. 예측 성능 평가 (예: 정확도)\n",
    "accuracy = accuracy_score(y_test, y_pred)\n",
    "print(f\"Test Accuracy: {accuracy}\")\n",
    "\n",
    "\n"
   ]
  },
  {
   "cell_type": "markdown",
   "metadata": {
    "id": "_81lUl7D2ldL"
   },
   "source": [
    "# 5.성능평가\n",
    "\n",
    "- 가장 좋은 성능을 보일 것으로 예상되는 모델로 평가를 진행합니다."
   ]
  },
  {
   "cell_type": "code",
   "execution_count": 40,
   "metadata": {
    "id": "kCnlSA_q2ldL"
   },
   "outputs": [
    {
     "name": "stdout",
     "output_type": "stream",
     "text": [
      "[[306   2]\n",
      " [ 48   3]]\n",
      "              precision    recall  f1-score   support\n",
      "\n",
      "           0       0.86      0.99      0.92       308\n",
      "           1       0.60      0.06      0.11        51\n",
      "\n",
      "    accuracy                           0.86       359\n",
      "   macro avg       0.73      0.53      0.52       359\n",
      "weighted avg       0.83      0.86      0.81       359\n",
      "\n"
     ]
    }
   ],
   "source": [
    "# KNN 성능평가\n",
    "y_pred = model_knn.predict(x_test_s)\n",
    "\n",
    "# 평가하기\n",
    "print(confusion_matrix(y_test,y_pred))\n",
    "print(classification_report(y_test,y_pred))\n"
   ]
  },
  {
   "cell_type": "code",
   "execution_count": 48,
   "metadata": {},
   "outputs": [
    {
     "name": "stdout",
     "output_type": "stream",
     "text": [
      "[[296  12]\n",
      " [ 43   8]]\n",
      "              precision    recall  f1-score   support\n",
      "\n",
      "           0       0.87      0.96      0.91       308\n",
      "           1       0.40      0.16      0.23        51\n",
      "\n",
      "    accuracy                           0.85       359\n",
      "   macro avg       0.64      0.56      0.57       359\n",
      "weighted avg       0.81      0.85      0.82       359\n",
      "\n"
     ]
    }
   ],
   "source": [
    "# Decision Tree 성능평가\n",
    "y_pred = model_dst.predict(x_test)\n",
    "\n",
    "# 평가하기\n",
    "print(confusion_matrix(y_test,y_pred))\n",
    "print(classification_report(y_test,y_pred))"
   ]
  },
  {
   "cell_type": "code",
   "execution_count": 46,
   "metadata": {},
   "outputs": [
    {
     "name": "stdout",
     "output_type": "stream",
     "text": [
      "[[294  14]\n",
      " [ 43   8]]\n",
      "              precision    recall  f1-score   support\n",
      "\n",
      "           0       0.87      0.95      0.91       308\n",
      "           1       0.36      0.16      0.22        51\n",
      "\n",
      "    accuracy                           0.84       359\n",
      "   macro avg       0.62      0.56      0.57       359\n",
      "weighted avg       0.80      0.84      0.81       359\n",
      "\n"
     ]
    }
   ],
   "source": [
    "# Random Forest 모델 평가 \n",
    "y_pred = model_rf.predict(x_test)\n",
    "\n",
    "# 평가하기\n",
    "print(confusion_matrix(y_test,y_pred))\n",
    "print(classification_report(y_test,y_pred))"
   ]
  },
  {
   "cell_type": "code",
   "execution_count": 44,
   "metadata": {},
   "outputs": [
    {
     "name": "stdout",
     "output_type": "stream",
     "text": [
      "[[299   9]\n",
      " [ 45   6]]\n",
      "              precision    recall  f1-score   support\n",
      "\n",
      "           0       0.87      0.97      0.92       308\n",
      "           1       0.40      0.12      0.18        51\n",
      "\n",
      "    accuracy                           0.85       359\n",
      "   macro avg       0.63      0.54      0.55       359\n",
      "weighted avg       0.80      0.85      0.81       359\n",
      "\n"
     ]
    }
   ],
   "source": [
    "# light GBM 모델 평가\n",
    "y_pred = model_lgbm.predict(x_test)\n",
    "\n",
    "# 평가하기\n",
    "print(confusion_matrix(y_test,y_pred))\n",
    "print(classification_report(y_test,y_pred))"
   ]
  },
  {
   "cell_type": "code",
   "execution_count": null,
   "metadata": {},
   "outputs": [],
   "source": []
  }
 ],
 "metadata": {
  "colab": {
   "provenance": []
  },
  "kernelspec": {
   "display_name": "Python 3 (ipykernel)",
   "language": "python",
   "name": "python3"
  },
  "language_info": {
   "codemirror_mode": {
    "name": "ipython",
    "version": 3
   },
   "file_extension": ".py",
   "mimetype": "text/x-python",
   "name": "python",
   "nbconvert_exporter": "python",
   "pygments_lexer": "ipython3",
   "version": "3.12.4"
  }
 },
 "nbformat": 4,
 "nbformat_minor": 4
}
