{
 "cells": [
  {
   "cell_type": "markdown",
   "metadata": {
    "id": "y1J78TFSRrSA"
   },
   "source": [
    "<center><img src='https://raw.githubusercontent.com/Jangrae/img/master/ml_python.png' width=600/></center>"
   ]
  },
  {
   "cell_type": "markdown",
   "metadata": {
    "id": "06Kz36EPo3pQ"
   },
   "source": [
    "<img src = \"https://github.com/Jangrae/img/blob/master/mobile2.png?raw=true\" width=800 align=\"left\"/>"
   ]
  },
  {
   "cell_type": "markdown",
   "metadata": {
    "id": "RaysfVhV3OjD"
   },
   "source": [
    "# 실습 내용\n",
    "\n",
    "- K-Fold Cross Validation을 사용해 모델의 성능을 예측합니다."
   ]
  },
  {
   "cell_type": "markdown",
   "metadata": {
    "id": "N8eruHyUkrBJ"
   },
   "source": [
    "# 1.환경 준비\n",
    "\n",
    "- 기본 라이브러리와 대상 데이터를 가져와 이후 과정을 준비합니다."
   ]
  },
  {
   "cell_type": "code",
   "execution_count": null,
   "metadata": {
    "id": "GVvCef6A8uv6"
   },
   "outputs": [],
   "source": [
    "# 라이브러리 불러오기\n",
    "import numpy as np\n",
    "import pandas as pd\n",
    "import matplotlib.pyplot as plt\n",
    "import seaborn as sns\n",
    "import warnings\n",
    "\n",
    "warnings.filterwarnings(action='ignore')\n",
    "%config InlineBackend.figure_format='retina'"
   ]
  },
  {
   "cell_type": "code",
   "execution_count": null,
   "metadata": {
    "id": "7LRAB0OAlR3d"
   },
   "outputs": [],
   "source": [
    "# 데이터 읽어오기\n",
    "path = 'https://raw.githubusercontent.com/Jangrae/csv/master/mobile_cust_churn.csv'\n",
    "data = pd.read_csv(path)"
   ]
  },
  {
   "cell_type": "markdown",
   "metadata": {
    "id": "Q7-dHCNjHQCK"
   },
   "source": [
    "# 2.데이터 이해\n",
    "\n",
    "- 분석할 데이터를 충분히 이해할 수 있도록 다양한 탐색 과정을 수행합니다."
   ]
  },
  {
   "cell_type": "code",
   "execution_count": null,
   "metadata": {
    "id": "Z1ahypi3irLz"
   },
   "outputs": [],
   "source": [
    "# 데이터 살펴보기\n",
    "data.head()"
   ]
  },
  {
   "cell_type": "markdown",
   "metadata": {
    "id": "pgZDFC5Uo3pR"
   },
   "source": [
    "**데이터 설명**\n",
    "\n",
    "- COLLEGE: 대학 졸업여부\n",
    "- INCOME: 연수입\n",
    "- OVERAGE: 월평균 초과사용 시간(분)\n",
    "- LEFTOVER: 월평균 잔여시간비율(%)\n",
    "- HOUSE: 집값\n",
    "- HANDSET_PRICE: 스마트폰 가격\n",
    "- OVER_15MINS_CALLS_PER_MONTH: 월평균 장기통화(15분이상) 횟수\n",
    "- AVERAGE_CALL_DURATION: 평균 통화 시간\n",
    "- REPORTED_SATISFACTION: 만족도 설문조사 결과\n",
    "- REPORTED_USAGE_LEVEL: 사용도 자가진단 결과\n",
    "- CONSIDERING_CHANGE_OF_PLAN: 향후 변경계획 설문조사 결과\n",
    "- **CHURN: 이탈(번호이동) 여부 - Target**"
   ]
  },
  {
   "cell_type": "code",
   "execution_count": null,
   "metadata": {
    "id": "LhAk04Uy4Occ"
   },
   "outputs": [],
   "source": [
    "# 변수 확인\n",
    "data.info()"
   ]
  },
  {
   "cell_type": "code",
   "execution_count": null,
   "metadata": {
    "id": "HGHlgWSwtSYh"
   },
   "outputs": [],
   "source": [
    "# 기술통계 확인\n",
    "data.describe()"
   ]
  },
  {
   "cell_type": "markdown",
   "metadata": {
    "id": "_62sLIweHZP8"
   },
   "source": [
    "# 3.데이터 준비\n",
    "\n",
    "- 전처리 과정을 통해 머신러닝 알고리즘에 사용할 수 있는 형태의 데이터를 준비합니다."
   ]
  },
  {
   "cell_type": "markdown",
   "metadata": {
    "id": "aSgaZRXIo3pS"
   },
   "source": [
    "**1) 변수 제거**"
   ]
  },
  {
   "cell_type": "code",
   "execution_count": null,
   "metadata": {
    "id": "bep8gcAao3pS"
   },
   "outputs": [],
   "source": [
    "# 제거 대상\n",
    "\n",
    "\n",
    "# 변수 제거\n",
    "\n",
    "\n",
    "# 확인\n"
   ]
  },
  {
   "cell_type": "markdown",
   "metadata": {
    "id": "qbyV3l1m1b03"
   },
   "source": [
    "**2) x, y 분리**"
   ]
  },
  {
   "cell_type": "code",
   "execution_count": null,
   "metadata": {
    "id": "B1oiY7x4uO8m"
   },
   "outputs": [],
   "source": [
    "# Target 설정\n",
    "\n",
    "\n",
    "# 데이터 분리\n",
    "\n"
   ]
  },
  {
   "cell_type": "markdown",
   "metadata": {
    "id": "-MRlCFfro3pS"
   },
   "source": [
    "**3) 가변수화**"
   ]
  },
  {
   "cell_type": "code",
   "execution_count": null,
   "metadata": {
    "id": "fZ4CA-Lgo3pS"
   },
   "outputs": [],
   "source": [
    "# 가변수화 대상\n",
    "\n",
    "\n",
    "# 가변수화\n",
    "\n",
    "\n",
    "# 확인\n"
   ]
  },
  {
   "cell_type": "markdown",
   "metadata": {
    "id": "JyUW2Hxm1hIW"
   },
   "source": [
    "**4) 학습용, 평가용 데이터 분리**"
   ]
  },
  {
   "cell_type": "code",
   "execution_count": null,
   "metadata": {
    "id": "vGgJGFX5ZAn8"
   },
   "outputs": [],
   "source": [
    "# 모듈 불러오기\n",
    "\n",
    "\n",
    "# 7:3으로 분리\n"
   ]
  },
  {
   "cell_type": "markdown",
   "metadata": {
    "id": "cgSaIGKso3pT"
   },
   "source": [
    "**5) 정규화**"
   ]
  },
  {
   "cell_type": "code",
   "execution_count": null,
   "metadata": {
    "id": "ErKzbKJIFL2B"
   },
   "outputs": [],
   "source": [
    "# 모듈 불러오기\n",
    "\n",
    "\n",
    "# 정규화\n",
    "\n",
    "\n",
    "\n"
   ]
  },
  {
   "cell_type": "markdown",
   "metadata": {
    "id": "j2F0zyWGHcH0"
   },
   "source": [
    "# 4.성능 예측\n",
    "\n",
    "- K분할 교차 검증 방법으로 모델 성능을 예측합니다.\n",
    "- cross_val_score(model, x_train, y_train, cv=n) 형태로 사용합니다.\n",
    "- cv 옵션에 k값(분할 개수, 기본값=5)을 지정합니다.\n",
    "- cross_val_score 함수는 넘파이 배열 형태의 값을 반환합니다.\n",
    "- cross_val_score 함수 반환 값의 평균을 해당 모델의 예측 성능으로 볼 수 있습니다."
   ]
  },
  {
   "cell_type": "markdown",
   "metadata": {
    "id": "YismzJpt7U_d"
   },
   "source": [
    "**1) KNN**"
   ]
  },
  {
   "cell_type": "code",
   "execution_count": null,
   "metadata": {
    "id": "XWYfAYmI7U_o"
   },
   "outputs": [],
   "source": [
    "# 불러오기\n",
    "\n",
    "\n",
    "\n",
    "# 선언하기\n",
    "\n",
    "\n",
    "# 검증하기\n",
    "\n",
    "\n",
    "# 확인\n",
    "\n"
   ]
  },
  {
   "cell_type": "markdown",
   "metadata": {
    "id": "8z8pzgX9gcmN"
   },
   "source": [
    "**2) Decision Tree**"
   ]
  },
  {
   "cell_type": "code",
   "execution_count": null,
   "metadata": {
    "id": "iOR8MFUr2WBg"
   },
   "outputs": [],
   "source": [
    "# 불러오기\n",
    "\n",
    "\n",
    "\n",
    "# 선언하기\n",
    "\n",
    "\n",
    "# 검증하기\n",
    "\n",
    "\n",
    "# 확인\n",
    "\n"
   ]
  },
  {
   "cell_type": "markdown",
   "metadata": {
    "id": "O4AFcGL6rzQt"
   },
   "source": [
    "**3) Logistic Regression**"
   ]
  },
  {
   "cell_type": "code",
   "execution_count": null,
   "metadata": {
    "id": "ayrREkKg6zUv"
   },
   "outputs": [],
   "source": [
    "# 불러오기\n",
    "\n",
    "\n",
    "\n",
    "# 선언하기\n",
    "\n",
    "\n",
    "# 검증하기\n",
    "\n",
    "\n",
    "# 확인\n",
    "\n"
   ]
  }
 ],
 "metadata": {
  "colab": {
   "provenance": []
  },
  "kernelspec": {
   "display_name": "Python 3",
   "language": "python",
   "name": "python3"
  },
  "language_info": {
   "codemirror_mode": {
    "name": "ipython",
    "version": 3
   },
   "file_extension": ".py",
   "mimetype": "text/x-python",
   "name": "python",
   "nbconvert_exporter": "python",
   "pygments_lexer": "ipython3",
   "version": "3.11.9"
  }
 },
 "nbformat": 4,
 "nbformat_minor": 4
}
