{
 "cells": [
  {
   "cell_type": "markdown",
   "metadata": {
    "id": "y1J78TFSRrSA"
   },
   "source": [
    "<center><img src='https://raw.githubusercontent.com/Jangrae/img/master/ml_python.png' width=600/></center>"
   ]
  },
  {
   "cell_type": "markdown",
   "metadata": {
    "id": "-Q4T3YUumhsV"
   },
   "source": [
    "# 실습 내용\n",
    "\n",
    "- 머신러닝 모델링을 할 때 자주 사용되는 전처리 방법을 리뷰합니다.\n",
    "- 익숙하지 않은 방법은 반복 실습을 통해 익숙해져야 합니다.\n",
    "- 다룰 내용\n",
    "    - 라이브러리 불러오기\n",
    "    - 데이터 불러오기\n",
    "    - 불필요한 변수 제거\n",
    "    - NaN 조치\n",
    "    - 가변수화"
   ]
  },
  {
   "cell_type": "markdown",
   "metadata": {
    "id": "X_DyslGxbvke"
   },
   "source": [
    "# 1.라이브러리, 데이터 불러오기\n",
    "\n",
    "- 우선 사용할 라이브러리와 분석 대상 데이터를 불러옵니다."
   ]
  },
  {
   "cell_type": "markdown",
   "metadata": {
    "id": "DFijIAllYnVQ"
   },
   "source": [
    "## 1.1. 라이브러리 불러오기\n",
    "\n",
    "- 사용할 라이브러리를 불러옵니다."
   ]
  },
  {
   "cell_type": "code",
   "execution_count": 1,
   "metadata": {
    "id": "0wzhP3IXYnVQ"
   },
   "outputs": [],
   "source": [
    "# 라이브러리 불러오기\n",
    "import numpy as np\n",
    "import pandas as pd\n",
    "import matplotlib.pyplot as plt\n",
    "import seaborn as sns"
   ]
  },
  {
   "cell_type": "markdown",
   "metadata": {
    "id": "4MZB3M2p59jG"
   },
   "source": [
    "## 1.2. 데이터 읽어오기\n",
    "\n",
    "- 분석 대상 데이터를 읽어옵니다."
   ]
  },
  {
   "cell_type": "code",
   "execution_count": 4,
   "metadata": {
    "id": "RuRS3d_swxiZ"
   },
   "outputs": [],
   "source": [
    "# 데이터 읽어오기\n",
    "path = \"https://raw.githubusercontent.com/jangrae/csv/master/titanic.csv\"\n",
    "titanic = pd.read_csv(path)"
   ]
  },
  {
   "cell_type": "code",
   "execution_count": 6,
   "metadata": {
    "id": "-YA7Zp5k95BS"
   },
   "outputs": [
    {
     "data": {
      "text/html": [
       "<div>\n",
       "<style scoped>\n",
       "    .dataframe tbody tr th:only-of-type {\n",
       "        vertical-align: middle;\n",
       "    }\n",
       "\n",
       "    .dataframe tbody tr th {\n",
       "        vertical-align: top;\n",
       "    }\n",
       "\n",
       "    .dataframe thead th {\n",
       "        text-align: right;\n",
       "    }\n",
       "</style>\n",
       "<table border=\"1\" class=\"dataframe\">\n",
       "  <thead>\n",
       "    <tr style=\"text-align: right;\">\n",
       "      <th></th>\n",
       "      <th>PassengerId</th>\n",
       "      <th>Survived</th>\n",
       "      <th>Pclass</th>\n",
       "      <th>Name</th>\n",
       "      <th>Sex</th>\n",
       "      <th>Age</th>\n",
       "      <th>SibSp</th>\n",
       "      <th>Parch</th>\n",
       "      <th>Ticket</th>\n",
       "      <th>Fare</th>\n",
       "      <th>Cabin</th>\n",
       "      <th>Embarked</th>\n",
       "    </tr>\n",
       "  </thead>\n",
       "  <tbody>\n",
       "    <tr>\n",
       "      <th>0</th>\n",
       "      <td>1</td>\n",
       "      <td>0</td>\n",
       "      <td>3</td>\n",
       "      <td>Braund, Mr. Owen Harris</td>\n",
       "      <td>male</td>\n",
       "      <td>22.0</td>\n",
       "      <td>1</td>\n",
       "      <td>0</td>\n",
       "      <td>A/5 21171</td>\n",
       "      <td>7.2500</td>\n",
       "      <td>NaN</td>\n",
       "      <td>S</td>\n",
       "    </tr>\n",
       "    <tr>\n",
       "      <th>1</th>\n",
       "      <td>2</td>\n",
       "      <td>1</td>\n",
       "      <td>1</td>\n",
       "      <td>Cumings, Mrs. John Bradley (Florence Briggs Th...</td>\n",
       "      <td>female</td>\n",
       "      <td>38.0</td>\n",
       "      <td>1</td>\n",
       "      <td>0</td>\n",
       "      <td>PC 17599</td>\n",
       "      <td>71.2833</td>\n",
       "      <td>C85</td>\n",
       "      <td>C</td>\n",
       "    </tr>\n",
       "    <tr>\n",
       "      <th>2</th>\n",
       "      <td>3</td>\n",
       "      <td>1</td>\n",
       "      <td>3</td>\n",
       "      <td>Heikkinen, Miss. Laina</td>\n",
       "      <td>female</td>\n",
       "      <td>26.0</td>\n",
       "      <td>0</td>\n",
       "      <td>0</td>\n",
       "      <td>STON/O2. 3101282</td>\n",
       "      <td>7.9250</td>\n",
       "      <td>NaN</td>\n",
       "      <td>S</td>\n",
       "    </tr>\n",
       "    <tr>\n",
       "      <th>3</th>\n",
       "      <td>4</td>\n",
       "      <td>1</td>\n",
       "      <td>1</td>\n",
       "      <td>Futrelle, Mrs. Jacques Heath (Lily May Peel)</td>\n",
       "      <td>female</td>\n",
       "      <td>35.0</td>\n",
       "      <td>1</td>\n",
       "      <td>0</td>\n",
       "      <td>113803</td>\n",
       "      <td>53.1000</td>\n",
       "      <td>C123</td>\n",
       "      <td>S</td>\n",
       "    </tr>\n",
       "    <tr>\n",
       "      <th>4</th>\n",
       "      <td>5</td>\n",
       "      <td>0</td>\n",
       "      <td>3</td>\n",
       "      <td>Allen, Mr. William Henry</td>\n",
       "      <td>male</td>\n",
       "      <td>35.0</td>\n",
       "      <td>0</td>\n",
       "      <td>0</td>\n",
       "      <td>373450</td>\n",
       "      <td>8.0500</td>\n",
       "      <td>NaN</td>\n",
       "      <td>S</td>\n",
       "    </tr>\n",
       "  </tbody>\n",
       "</table>\n",
       "</div>"
      ],
      "text/plain": [
       "   PassengerId  Survived  Pclass  \\\n",
       "0            1         0       3   \n",
       "1            2         1       1   \n",
       "2            3         1       3   \n",
       "3            4         1       1   \n",
       "4            5         0       3   \n",
       "\n",
       "                                                Name     Sex   Age  SibSp  \\\n",
       "0                            Braund, Mr. Owen Harris    male  22.0      1   \n",
       "1  Cumings, Mrs. John Bradley (Florence Briggs Th...  female  38.0      1   \n",
       "2                             Heikkinen, Miss. Laina  female  26.0      0   \n",
       "3       Futrelle, Mrs. Jacques Heath (Lily May Peel)  female  35.0      1   \n",
       "4                           Allen, Mr. William Henry    male  35.0      0   \n",
       "\n",
       "   Parch            Ticket     Fare Cabin Embarked  \n",
       "0      0         A/5 21171   7.2500   NaN        S  \n",
       "1      0          PC 17599  71.2833   C85        C  \n",
       "2      0  STON/O2. 3101282   7.9250   NaN        S  \n",
       "3      0            113803  53.1000  C123        S  \n",
       "4      0            373450   8.0500   NaN        S  "
      ]
     },
     "execution_count": 6,
     "metadata": {},
     "output_type": "execute_result"
    }
   ],
   "source": [
    "# 상위 데이터 확인\n",
    "titanic.head()"
   ]
  },
  {
   "cell_type": "markdown",
   "metadata": {
    "id": "RXPsjPEx8UzL"
   },
   "source": [
    "# 2.불필요한 변수 제거\n",
    "\n",
    "- Cabin은 77.1%가 NaN이기에 채울 방법이 마땅치 않으니 제거합니다.\n",
    "- PassengerId, Name, Ticket은 Unique 한 값이므로 제거합니다.\n",
    "- axis=0는 행, axis=1은 열을 의미함을 기억하세요."
   ]
  },
  {
   "cell_type": "code",
   "execution_count": 8,
   "metadata": {
    "id": "b0MnmQlJ9JEL"
   },
   "outputs": [],
   "source": [
    "# 여러 열 동시 제거\n",
    "drop_cols = ['Cabin', 'PassengerId', 'Name', 'Ticket']\n",
    "titanic.drop(columns=drop_cols, inplace=True)"
   ]
  },
  {
   "cell_type": "code",
   "execution_count": 10,
   "metadata": {
    "id": "8P_9SqDpfdew"
   },
   "outputs": [
    {
     "data": {
      "text/html": [
       "<div>\n",
       "<style scoped>\n",
       "    .dataframe tbody tr th:only-of-type {\n",
       "        vertical-align: middle;\n",
       "    }\n",
       "\n",
       "    .dataframe tbody tr th {\n",
       "        vertical-align: top;\n",
       "    }\n",
       "\n",
       "    .dataframe thead th {\n",
       "        text-align: right;\n",
       "    }\n",
       "</style>\n",
       "<table border=\"1\" class=\"dataframe\">\n",
       "  <thead>\n",
       "    <tr style=\"text-align: right;\">\n",
       "      <th></th>\n",
       "      <th>Survived</th>\n",
       "      <th>Pclass</th>\n",
       "      <th>Sex</th>\n",
       "      <th>Age</th>\n",
       "      <th>SibSp</th>\n",
       "      <th>Parch</th>\n",
       "      <th>Fare</th>\n",
       "      <th>Embarked</th>\n",
       "    </tr>\n",
       "  </thead>\n",
       "  <tbody>\n",
       "    <tr>\n",
       "      <th>0</th>\n",
       "      <td>0</td>\n",
       "      <td>3</td>\n",
       "      <td>male</td>\n",
       "      <td>22.0</td>\n",
       "      <td>1</td>\n",
       "      <td>0</td>\n",
       "      <td>7.2500</td>\n",
       "      <td>S</td>\n",
       "    </tr>\n",
       "    <tr>\n",
       "      <th>1</th>\n",
       "      <td>1</td>\n",
       "      <td>1</td>\n",
       "      <td>female</td>\n",
       "      <td>38.0</td>\n",
       "      <td>1</td>\n",
       "      <td>0</td>\n",
       "      <td>71.2833</td>\n",
       "      <td>C</td>\n",
       "    </tr>\n",
       "    <tr>\n",
       "      <th>2</th>\n",
       "      <td>1</td>\n",
       "      <td>3</td>\n",
       "      <td>female</td>\n",
       "      <td>26.0</td>\n",
       "      <td>0</td>\n",
       "      <td>0</td>\n",
       "      <td>7.9250</td>\n",
       "      <td>S</td>\n",
       "    </tr>\n",
       "    <tr>\n",
       "      <th>3</th>\n",
       "      <td>1</td>\n",
       "      <td>1</td>\n",
       "      <td>female</td>\n",
       "      <td>35.0</td>\n",
       "      <td>1</td>\n",
       "      <td>0</td>\n",
       "      <td>53.1000</td>\n",
       "      <td>S</td>\n",
       "    </tr>\n",
       "    <tr>\n",
       "      <th>4</th>\n",
       "      <td>0</td>\n",
       "      <td>3</td>\n",
       "      <td>male</td>\n",
       "      <td>35.0</td>\n",
       "      <td>0</td>\n",
       "      <td>0</td>\n",
       "      <td>8.0500</td>\n",
       "      <td>S</td>\n",
       "    </tr>\n",
       "  </tbody>\n",
       "</table>\n",
       "</div>"
      ],
      "text/plain": [
       "   Survived  Pclass     Sex   Age  SibSp  Parch     Fare Embarked\n",
       "0         0       3    male  22.0      1      0   7.2500        S\n",
       "1         1       1  female  38.0      1      0  71.2833        C\n",
       "2         1       3  female  26.0      0      0   7.9250        S\n",
       "3         1       1  female  35.0      1      0  53.1000        S\n",
       "4         0       3    male  35.0      0      0   8.0500        S"
      ]
     },
     "execution_count": 10,
     "metadata": {},
     "output_type": "execute_result"
    }
   ],
   "source": [
    "# 확인\n",
    "titanic.head()"
   ]
  },
  {
   "cell_type": "code",
   "execution_count": 12,
   "metadata": {
    "id": "-OKagb06nJpm"
   },
   "outputs": [],
   "source": [
    "# 이후 반복 실습을 위해 원본 보관\n",
    "titanic_bk = titanic.copy()"
   ]
  },
  {
   "cell_type": "markdown",
   "metadata": {
    "id": "KumOUlc39Q5i"
   },
   "source": [
    "# 3.NaN 조치\n",
    "\n",
    "- NaN 값이 포함되어 있으면 정확한 분석와 예측을 할 수 없으니 이에 대한 처리가 필요합니다."
   ]
  },
  {
   "cell_type": "markdown",
   "metadata": {
    "id": "Sit9nStQglNh"
   },
   "source": [
    "<img src='https://raw.githubusercontent.com/Jangrae/img/master/nan.png' width=700 align=\"left\"/>"
   ]
  },
  {
   "cell_type": "markdown",
   "metadata": {
    "id": "EjpgRXqP-Wc5"
   },
   "source": [
    "## 3.1. NaN 확인\n",
    "\n",
    "- NaN 값이 있는지 우선 확인합니다."
   ]
  },
  {
   "cell_type": "code",
   "execution_count": 14,
   "metadata": {
    "id": "bHulvNkX4bbV"
   },
   "outputs": [
    {
     "data": {
      "text/plain": [
       "Survived      0\n",
       "Pclass        0\n",
       "Sex           0\n",
       "Age         177\n",
       "SibSp         0\n",
       "Parch         0\n",
       "Fare          0\n",
       "Embarked      2\n",
       "dtype: int64"
      ]
     },
     "execution_count": 14,
     "metadata": {},
     "output_type": "execute_result"
    }
   ],
   "source": [
    "# 변수들의 NaN 포함 상태 확인\n",
    "titanic.isna().sum()"
   ]
  },
  {
   "cell_type": "markdown",
   "metadata": {
    "id": "H9LxXEpgudtI"
   },
   "source": [
    "## 3.2. NaN 삭제\n",
    "\n",
    "- NaN 값이 포함된 행이나 열이 중요하지 않다면 해당 행이나 열을 제거합니다.\n",
    "- NaN 값이 너무 많이 포함된 경우, 적절히 채울 수 없다면 해당 행과 열을 제거합니다."
   ]
  },
  {
   "cell_type": "markdown",
   "metadata": {
    "id": "NiVnSBHQ9l9c"
   },
   "source": [
    "### 3.2.1. 행 제거\n",
    "\n",
    "- NaN 값이 포함된 행이 그리 많지 않다면 해당 행을 제거합니다.\n",
    "- 모든 행을 제거하거나 일부 행을 제거할 수 있습니다."
   ]
  },
  {
   "cell_type": "markdown",
   "metadata": {
    "id": "WcXS88NiMEqr"
   },
   "source": [
    "**1) 모든 행 제거**"
   ]
  },
  {
   "cell_type": "markdown",
   "metadata": {
    "id": "qpyhAjh_nJpn"
   },
   "source": [
    "<img src='https://raw.githubusercontent.com/Jangrae/img/master/dropna_01.png' width=300 align=\"left\"/>"
   ]
  },
  {
   "cell_type": "code",
   "execution_count": null,
   "metadata": {
    "id": "ZDxVpKZ89lDp"
   },
   "outputs": [],
   "source": [
    "# 처리전 확인\n",
    "titanic.isna().sum()"
   ]
  },
  {
   "cell_type": "code",
   "execution_count": null,
   "metadata": {
    "id": "GSCSAEn8-PJ0"
   },
   "outputs": [],
   "source": [
    "# NaN이 포함된 모든 행(axis=0) 제거\n",
    "titanic.dropna(axis=0, inplace=True)\n",
    "\n",
    "# 확인\n",
    "titanic.isna().sum()"
   ]
  },
  {
   "cell_type": "code",
   "execution_count": null,
   "metadata": {
    "id": "dKyfMWne-xPl"
   },
   "outputs": [],
   "source": [
    "# 데이터 크기 확인\n",
    "titanic.shape"
   ]
  },
  {
   "cell_type": "code",
   "execution_count": null,
   "metadata": {
    "id": "MLJBgCZMnJpn"
   },
   "outputs": [],
   "source": [
    "# 이후 실습을 위해 원복\n",
    "titanic = titanic_bk.copy()"
   ]
  },
  {
   "cell_type": "markdown",
   "metadata": {
    "id": "LwMuMMQEBqMu"
   },
   "source": [
    "**2) 일부 행 제거**"
   ]
  },
  {
   "cell_type": "markdown",
   "metadata": {
    "id": "fwCoCsOQgzBb"
   },
   "source": [
    "<img src='https://raw.githubusercontent.com/Jangrae/img/master/dropna_02.png' width=300 align=\"left\"/>"
   ]
  },
  {
   "cell_type": "code",
   "execution_count": null,
   "metadata": {
    "id": "3Dn7jrRQBoaT"
   },
   "outputs": [],
   "source": [
    "# 처리전 확인\n",
    "titanic.isna().sum()"
   ]
  },
  {
   "cell_type": "code",
   "execution_count": null,
   "metadata": {
    "id": "vVZyd0uZBoaV"
   },
   "outputs": [],
   "source": [
    "# Age 변수에 NaN이 포함된 행 제거\n",
    "titanic.dropna(subset=['Age'], axis=0, inplace=True)\n",
    "\n",
    "# 확인\n",
    "titanic.isna().sum()"
   ]
  },
  {
   "cell_type": "code",
   "execution_count": null,
   "metadata": {
    "id": "Z-pIMVI0nJpn"
   },
   "outputs": [],
   "source": [
    "# 이후 실습을 위해 원복\n",
    "titanic = titanic_bk.copy()"
   ]
  },
  {
   "cell_type": "markdown",
   "metadata": {
    "id": "EPSN-6CM9rH9"
   },
   "source": [
    "### 3.2.2. 변수 제거\n",
    "\n",
    "- NaN 값이 포함된 변수가 그리 중요하지 않거나, NaN 값이 너무 많다면 해당 변수를 제거합니다."
   ]
  },
  {
   "cell_type": "markdown",
   "metadata": {
    "id": "Kr9SHPt4g1pe"
   },
   "source": [
    "<img src='https://raw.githubusercontent.com/Jangrae/img/master/dropna_03.png' width=300 align=\"left\"/>"
   ]
  },
  {
   "cell_type": "code",
   "execution_count": null,
   "metadata": {
    "id": "mS6cHE5g-Ldy"
   },
   "outputs": [],
   "source": [
    "# 처리전 확인\n",
    "titanic.isna().sum()"
   ]
  },
  {
   "cell_type": "code",
   "execution_count": null,
   "metadata": {
    "id": "BIPuMrDT_sn9"
   },
   "outputs": [],
   "source": [
    "# NaN 열이 포함된 모든 변수(axis=1) 제거\n",
    "titanic.dropna(axis=1, inplace=True)\n",
    "\n",
    "# 확인\n",
    "titanic.isna().sum()"
   ]
  },
  {
   "cell_type": "code",
   "execution_count": null,
   "metadata": {
    "id": "xxqlrlaYnJpo"
   },
   "outputs": [],
   "source": [
    "# 이후 실습을 위해 원복\n",
    "titanic = titanic_bk.copy()"
   ]
  },
  {
   "cell_type": "markdown",
   "metadata": {
    "id": "Yk5dVg1X9hMi"
   },
   "source": [
    "## 3.3. NaN 채우기\n",
    "\n",
    "- NaN 값이 포함된 행이나 열을 제거할 수 없다면 특정 값으로 채웁니다."
   ]
  },
  {
   "cell_type": "markdown",
   "metadata": {
    "id": "MvxuxUwuIHPO"
   },
   "source": [
    "### 3.3.1. 특정 값으로 채우기\n",
    "\n",
    "- 임의의 값을 지정해 NaN 값을 채웁니다.\n",
    "- 평균값이나 최빈값으로 채우는 경우가 많습니다."
   ]
  },
  {
   "cell_type": "code",
   "execution_count": null,
   "metadata": {
    "id": "B8r-aaNFciXA"
   },
   "outputs": [],
   "source": [
    "# 처리전 확인\n",
    "titanic.isna().sum()"
   ]
  },
  {
   "cell_type": "markdown",
   "metadata": {
    "id": "DanX5zk-viHI"
   },
   "source": [
    "**1) 평균값으로 채우기**"
   ]
  },
  {
   "cell_type": "code",
   "execution_count": null,
   "metadata": {
    "id": "3LqSXjUrxXmU"
   },
   "outputs": [],
   "source": [
    "# Age 평균 구하기\n",
    "mean_age = titanic['Age'].mean()\n",
    "\n",
    "# NaN을 평균값으로 채우기\n",
    "titanic['Age'].fillna(mean_age, inplace=True)\n",
    "\n",
    "# 확인\n",
    "titanic.isna().sum()"
   ]
  },
  {
   "cell_type": "markdown",
   "metadata": {
    "id": "LVEYd6Thvp4r"
   },
   "source": [
    "**2) 최빈값으로 채우기**"
   ]
  },
  {
   "cell_type": "code",
   "execution_count": null,
   "metadata": {
    "id": "qATwW8d1zMJx"
   },
   "outputs": [],
   "source": [
    "# Embarked 변수 값 확인\n",
    "titanic['Embarked'].value_counts(dropna=True)"
   ]
  },
  {
   "cell_type": "code",
   "execution_count": null,
   "metadata": {
    "id": "ctEdMX5EJbpx"
   },
   "outputs": [],
   "source": [
    "# NaN 값을 가장 빈도가 높은 값으로 채우기\n",
    "titanic['Embarked'].fillna('S', inplace=True)\n",
    "\n",
    "# 확인\n",
    "titanic.isna().sum()"
   ]
  },
  {
   "cell_type": "markdown",
   "metadata": {
    "id": "ll4fBPfWsSyc"
   },
   "source": [
    "### 3.3.2. 앞/뒤 값으로 채우기\n",
    "\n",
    "- 시계열 데이터인 경우 많이 사용하는 방법입니다.\n",
    "- ffill() 메서드: 바로 앞의 값으로 채우기\n",
    "- bfill() 메서드: 바로 뒤의 값으로 채우기"
   ]
  },
  {
   "cell_type": "markdown",
   "metadata": {
    "id": "1CJTA4odnJpo"
   },
   "source": [
    "<img src='https://raw.githubusercontent.com/Jangrae/img/master/ffill_bfill.png' width=600 align=\"left\"/>"
   ]
  },
  {
   "cell_type": "code",
   "execution_count": null,
   "metadata": {
    "id": "T3QLppoXGI-b"
   },
   "outputs": [],
   "source": [
    "# 데이터 불러오기\n",
    "path = 'https://raw.githubusercontent.com/jangrae/csv/master/airquality.csv'\n",
    "air = pd.read_csv(path)\n",
    "\n",
    "# 확인\n",
    "air.head(10)"
   ]
  },
  {
   "cell_type": "code",
   "execution_count": null,
   "metadata": {
    "id": "LMAjnLvhnJpp"
   },
   "outputs": [],
   "source": [
    "# 이후 반복 실습을 위해 원본 보관\n",
    "air_bk = air.copy()"
   ]
  },
  {
   "cell_type": "code",
   "execution_count": null,
   "metadata": {
    "id": "6wsRyPUuGsaz"
   },
   "outputs": [],
   "source": [
    "# 처리전 확인\n",
    "air.isna().sum()"
   ]
  },
  {
   "cell_type": "code",
   "execution_count": null,
   "metadata": {
    "id": "AF9q0GZ4smrR"
   },
   "outputs": [],
   "source": [
    "# Ozone 변수 NaN 값을 바로 앞의 값으로 채우기\n",
    "air['Ozone'] = air['Ozone'].ffill()\n",
    "\n",
    "# Solar.R 변수 NaN 값을 바로 뒤의 값으로 채우기\n",
    "air['Solar.R'] = air['Solar.R'].bfill()\n",
    "\n",
    "# 확인\n",
    "air.isna().sum()"
   ]
  },
  {
   "cell_type": "code",
   "execution_count": null,
   "metadata": {
    "id": "VWqNATLznJpp"
   },
   "outputs": [],
   "source": [
    "# 이후 실습을 위해 원복\n",
    "air = air_bk.copy()"
   ]
  },
  {
   "cell_type": "markdown",
   "metadata": {
    "id": "jQGFI-I6-gLK"
   },
   "source": [
    "### 3.3.3. 선형 보간법으로 채우기\n",
    "\n",
    "- interpolate 메서드에 method='linear' 옵션을 지정해 선형 보간법으로 채웁니다."
   ]
  },
  {
   "cell_type": "markdown",
   "metadata": {
    "id": "MpX6G9UxnJpp"
   },
   "source": [
    "<img src='https://raw.githubusercontent.com/Jangrae/img/master/interpolate.png' width=300 align=\"left\"/>"
   ]
  },
  {
   "cell_type": "code",
   "execution_count": null,
   "metadata": {
    "id": "3qNWZWfznJpp"
   },
   "outputs": [],
   "source": [
    "# 처리전 확인\n",
    "air.isna().sum()"
   ]
  },
  {
   "cell_type": "code",
   "execution_count": null,
   "metadata": {
    "id": "J8Y2oPDd-M7z"
   },
   "outputs": [],
   "source": [
    "# 선형 보간법으로 채우기\n",
    "air['Ozone'] = air['Ozone'].interpolate(method='linear')\n",
    "air['Solar.R'] = air['Solar.R'].interpolate(method='linear')\n",
    "\n",
    "# 확인\n",
    "air.isna().sum()"
   ]
  },
  {
   "cell_type": "markdown",
   "metadata": {
    "id": "kwBr6rcWInO4"
   },
   "source": [
    "# 4.가변수화\n",
    "\n",
    "- 범주형 값을 갖는 변수에 대한 One-Hot Encoding을 진행합니다."
   ]
  },
  {
   "cell_type": "markdown",
   "metadata": {
    "id": "AqOT_5P3nJpq"
   },
   "source": [
    "<img src='https://raw.githubusercontent.com/Jangrae/img/master/get_dummies1.png' width=700 align=\"left\"/>"
   ]
  },
  {
   "cell_type": "markdown",
   "metadata": {
    "id": "BrG-uz82xfX7"
   },
   "source": [
    "- 다중공선성 문제를 없애기 위해 drop_first=True 옵션을 지정합니다."
   ]
  },
  {
   "cell_type": "markdown",
   "metadata": {
    "id": "YXzNRIhAnJpq"
   },
   "source": [
    "<img src='https://raw.githubusercontent.com/Jangrae/img/master/get_dummies2.png' width=600 align=\"left\"/>"
   ]
  },
  {
   "cell_type": "markdown",
   "metadata": {
    "id": "3XDzP1JTnJpq"
   },
   "source": [
    "<img src='https://raw.githubusercontent.com/Jangrae/img/master/multicollinearity.png' width=500 align=\"left\"/>"
   ]
  },
  {
   "cell_type": "code",
   "execution_count": null,
   "metadata": {
    "id": "ecV2oK9AnJpq"
   },
   "outputs": [],
   "source": [
    "# 처리전 확인\n",
    "titanic.head()"
   ]
  },
  {
   "cell_type": "code",
   "execution_count": null,
   "metadata": {
    "id": "L_JC-hsgxZI-"
   },
   "outputs": [],
   "source": [
    "# 가변수 대상 변수 식별\n",
    "dumm_cols = ['Pclass', 'Sex', 'Embarked']\n",
    "\n",
    "# 가변수화\n",
    "titanic = pd.get_dummies(titanic, columns=dumm_cols, drop_first=True, dtype=int)\n",
    "\n",
    "# 확인\n",
    "titanic.head()"
   ]
  }
 ],
 "metadata": {
  "colab": {
   "provenance": []
  },
  "kernelspec": {
   "display_name": "Python 3 (ipykernel)",
   "language": "python",
   "name": "python3"
  },
  "language_info": {
   "codemirror_mode": {
    "name": "ipython",
    "version": 3
   },
   "file_extension": ".py",
   "mimetype": "text/x-python",
   "name": "python",
   "nbconvert_exporter": "python",
   "pygments_lexer": "ipython3",
   "version": "3.12.4"
  }
 },
 "nbformat": 4,
 "nbformat_minor": 4
}
