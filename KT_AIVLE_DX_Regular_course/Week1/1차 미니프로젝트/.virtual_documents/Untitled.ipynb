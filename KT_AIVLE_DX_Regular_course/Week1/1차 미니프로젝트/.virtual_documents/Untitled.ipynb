








#라이브러리 불러오기 
import pandas as pd
import numpy as np
import seaborn as sns
import matplotlib.pyplot as plt 


# 데아터 불러오기
path = ''

data = pd.read_csv(path)
