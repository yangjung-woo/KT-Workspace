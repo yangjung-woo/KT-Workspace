

















!pip install matplotlib
!pip install --upgrade matplotlib

import matplotlib.pyplot as plt








#[문제1] pandas, numpy, matplotlib 라이브러리를 임포트하세요.


import pandas as pd
import numpy as np
import matplotlib.pyplot as plt








#[문제2] '미프 1차_구매' 폴더에서 본 파일들을 열어주세요.


# 전체 데이터 불러오기

# 데이터 3개를 pd.read_csv로 불러오기
customers = pd.read_csv('customers.csv')
sales = pd.read_csv('sales.csv')
products = pd.read_csv('products.csv')


#[문제3] 'customers', 'sales' 데이터의 상단 일부 행을 출력해보세요.


#customers



#sales



#[문제4] 'customers'와 'sales' 데이터프레임의 구조와 기본 통계정보를 출력해보세요.


#customers



#sales



#[문제5] 날짜 데이터를 날짜형식으로 변환해주세요. 날짜데이터 : customers['RegisterDate'], sales['OrderDate']


# pd.to_datetime 활용



#[문제6] 'customers'의 데이터타입이 날짜형식으로 잘 변환되었는지 확인해주세요.






#[문제7] 'sales'의 데이터타입이 날짜형식으로 변환되었는지 확인해주세요.





#[문제8] 'sales' 데이터의 'OrderDate'의 최소값과 최대값을 표시해주세요.


# min, max 함수 활용












#[문제9] 'sales' 데이터프레임에서 일별 매출액의 합계를 'daily_sales' 데이터 프레임에 할당하세요.


# 'sales'에서 주문일자별 주문 금액 합산 : groupby


#[문제10] 'sales' 데이터프레임에서 부분인 2016년 1월~3월까지 3개월의 범위로 데이터를 선택하고 'daily_sales'에 재할당하세요.


# loc 함수 활용 



#[문제11] 일자별 매출액을 'daily_sales' 데이터 프레임에 저장해주세요.


#'OrderDate' 기준 'Amt'의 합계 계산



#[문제12] 'daily_sales' 데이터를 확인해보세요.








#[문제13] 기간별 조회를 위해 'sales' 데이터프레임에 주문일자의 연도와 월의 변수를 추가해주세요.


# 연도는 'Year', 월은 'Month'로 변수를 추가
# 'OrderDate' 컬럼에서 dt.year, dt.month 함수 활용



#[문제14] 월별 매출액의 합계를 구하고 'monthly_sales'에 저장해주세요.


# groupby 함수 활용, as_index = False



#[문제15] 'monthly_sales'를 출력하고 확인해주세요.








#[문제16] 'sales' 데이터프레임에서 주문일자 기준 일별 매출액의 합계를 구해 'day_sales'에 저장하세요.



# groupby 함수 활용, 'OrderDate' 기준 'Amt'의 합산
# sum 함수 활용



#[문제17] 'day_sales'에서 'OrderDate' 열의 날짜 정보를 활용하여 'Weekday' 열을 추가하세요.


# dt.day_name() 함수 



#[문제18] day_sales 데이터프레임의 'Weekday' 열을 출력하세요.








#[문제19] 'sales' 데이터프레임에서 주문일자,고객ID별 주문금액을 합산하여 'order_amt'에 저장하세요.



# 'OrderDate'와 'CustomerID' 기준 groupby 함수 활용
# sum 함수 활용



#[문제20] 'order_amt'의 상단 10행을 출력하세요.



# head 함수



#[문제21] 'order_amt'에서 주문일자별 고객 구매액의 총 평균을 구하고 'order_amt2'에 저장하세요.



# 'OrderDate'기준 groupby 함수 활용
# mean 함수 활용






#[문제22] 'order_amt'에서 일별 방문 고객수를 구하고 'daily_visit'으로 저장해주세요.



# CustomerID 컬럼의 데이터 개수 계산



#[문제23] 'order_amt2'에 'daily_visit' 데이터를 주문일자 컬럼 기준 추가해주세요.





#[문제24] 'order_amt2' 데이터를 확인해보세요.








#[문제25] 'sales' 데이터와 'products' 데이터를 합쳐서 'top_amt'에 할당하세요.


# merge 함수 활용



#[문제26] 상품명을 기준으로 매출 합계를 구하여 'top_amt2'에 저장하세요


# groupby 함수 활용, sum함수 활용



#[문제27] 'top_amt2' 데이터프레임을 'Amt'열 기준 상위 10개의 데이터를 선택하여 내림차순으로 정렬하고 'top10_amt'에 저장하세요.


# sort_values 함수 활용



#[문제28] 'top10_amt' 데이터프레임을 확인하세요.








#[문제29] 'sales'와 'products' 데이터프레임을 합치고 'cate_amt'에 저장하세요.


# merge 함수



#[문제30] 카테고리를 기준으로 매출 합계를 구하여 'cate_amt2'에 저장하세요.


# groupby, sum 함수 활용



#[문제31] 카테고리별 매출 비중을 구하여 'Rate' 변수를 'cate_amt2'에 추가해주세요. 


# 매출 비중 : 'Amt' / Amt.sum()



# 'cate_amt2'를 출력하세요.








#[문제32] 'sales'와 'products' 데이터프레임을 합치고 'day_amt'에 저장하세요.





#[문제33] 'day_amt' 데이터에서 'OrderDate' 열을 날짜 형식의 데이터타입으로 변환해주세요


# pd.to_datetime 함수 활용



#[문제34] 'day_amt' 데이터에서 'OrderDate' 열의 날짜 정보를 활용하여 요일을 나타내는 'Weekday' 열을 추가하고 확인해주세요.


# dt.day_name() 함수 활용 



#[문제35] day_amt를 요일 기준 매출액의 합을 계산하고 day_amt2에 저장하세요.


# groupby, sum 함수 활용



#[문제36] day_amt2를 출력하세요.



#[문제37] 요일별 매출 비중을 구하여 'Rate' 변수를 'day_amt2'에 추가해주세요.





#[문제38] day_amt2를 다시 출력하여 변수가 추가되었는지 확인해주세요.






#[문제39] 고객의 태어난 연도를 활용하여 'Age'(고객 나이) 컬럼을 추가 합니다. (현재 : 2016년)


# 2016년 - 고객의 태어난 연도



#[문제40] 고객이 몇십대 인지 'Age' 컬럼을 활용하여 'AgeGroup'(연령대) 컬럼을 추가 합니다.


# 연령대 = 나이 / 10 * 10



#[문제41] 'customers' 데이터의 상단 5행을 출력하세요.





#[추가문제42] 고객의 성별과 가입연도에 대한 가변수를 만들고 'encoded_data'에 저장하세요.


# customers, Sales 데이터프레임을 CustomerID 컬럼 기준 병합, 'merged_data'에 할당

# Gender 컬럼 기반 가변수화된 데이터프레임 'encoded_data' 생성(각 범주에 해당하면 1, 아니면 0)

# Year 컬럼 기반 다시 한번 'encoded_data'를 가변수화















#[문제43] 'customers' 데이터에서 2014 ~ 2016년 신규 가입 고객을 'cust01'에 할당하세요.


# loc함수, between('2014-01-01', '2016-12-31') 활용



#[문제44] 'cust01'을 출력하세요.





#[문제45] 'sales' 데이터에서 2016년 하반기에 방문한 고객을 'cust02'에 할당하세요.


# loc 함수, between('2016-07-01', '2016-12-31')



#[문제46] 2016년 하반기에 한번 이상 방문한 고객을 'cust02'에 할당하세요.


# drop_duplicates 함수, 중복된 고객 제거



#[문제47] 'cust02'을 출력하세요.





#[문제48] 대상고객 목록인 'cust01', 'cust02' 데이터를 합쳐서 'cust_churn0'으로 할당하세요.


# merge 함수



#[문제49] 'cust_churn0'을 상단 5행 출력하세요.








#[문제50] sales 데이터프레임에서 2017년 1~3월 구매 고객을 'cust03'에 할당하세요


# loc 함수 : 인덱싱을 사용하여 데이터프레임 내에서 조건을 만족하는 행 선택
# between('2017-01-01', '2017-03-31') 함수 활용, 중복된 CustomerID 삭제하기
# 'keep=first'로 중복된 값 중 첫번째 값 유지



#[문제51] cust03에 'churn' 열을 추가하고, 해당 열의 모든 값에 0을 할당하세요.





#[문제52] 대상고객 목록인 'cust_churn0'과 2017년 1~3월 구매고객인 'cust03'을 합쳐서 'cust_churn0'으로 저장하세요.


# merge 함수, how = 'left'로 왼쪽 데이터프레임의 행은 유지



#[문제53] 'cust_churn0'을 상단 5행 출력하세요.





#[문제54] cust_churn0 데이터의 churn 열의 NAN은 이탈 고객이다. 이탈고객은 1로 채워주세요.


# fillna 함수 활용 : 데이터프레임에서 결측값(NaN)을 원하는 값으로 채우는 함수, inplace=True



#[문제55] 데이터프레임 cust_churn0의 'churn' 열의 데이터 타입을 정수형(int64)으로 변환하세요.


# astype('int64')



#[문제56] 데이터프레임 cust_churn0의 각 값들의 개수를 반환하여 고객 이탈 여부의 빈도수를 확인해주세요.


# value_counts() 함수 활용












#<① 가입연수> 
#[문제57] 'RegisterDate' 열의 데이터는 datetime 형식으로 변환합니다.


#pd.to_datetime 함수



#[문제58] 2016-12-31 기준으로 가입 연수 'RegDuration' 열을 'cust_churn0'에 추가하여 출력해주세요.


#가입연수 : 2016년 - 등록연도 (RegisterDate.dt.year)



#<② 3개월간 방문 횟수> 
#[문제59] sales에서 주문일자('OrderDate')가 '2016-10-01'부터 '2016-12-31' 사이인 데이터를 선택하여 'temp'에 저장하세요.


# loc 함수, between



#<② 3개월간 방문 횟수> 
#[문제60] 'OrderID', 'OrderDate', 'CustomerID' 열만을 필터링해서 중복된 행을 제거하고 'temp'에 저장하여 출력하세요.


# drop_duplicates() 함수 활용



#<② 3개월간 방문 횟수>  
#[문제61] 'temp' 데이터에서 각 고객별 'OrderDate'열의 개수를 세어서 'temp2'에 저장하세요.


# groupy() 함수



#<② 3개월간 방문 횟수>  
#[문제62] 'temp2' 데이터의 'OrderDate' 열의 이름을 'Visit_3M_Cnt'로 변경하고 확인해주세요.


# rename() 함수



#<② 3개월간 방문 횟수> 
#[문제63] cust_churn0과 temp2을 합쳐서 'cust_churn1'으로 저장하세요. how= 'left'로 기존 데이터는 유지해주세요.  


# pd.merge 함수



#[문제64] cust_churn1 출력하고 확인해주세요.





#<③ 3개월간 구매금액>
#[문제65] 최근 3개월(2016-10-01~2016-12-31)간 고객별 구매금액을 계산하여 'temp'에 저장해주세요.


# loc 함수, between



#<③ 3개월간 구매금액>
#[문제66] 데이터프레임 temp를 'CustomerID'를 기준으로 그룹화하고 각 고객별로 'Amt' 열의 합을 계산하여 'temp2'를 생성하세요.


# groupby 함수



#<③ 3개월간 구매금액>
#[문제67] 'temp2'에서 'Amt'열의 이름을 'Amt_3M_sum'으로 변경해주세요. 


# renam 함수



#<③ 3개월간 구매금액>
#[문제68] cust_churn1, temp2을 합쳐서 'cust_churn2'으로 저장하세요.


# pd.merge 함수



#[문제69] 'cust_churn2'를 출력하고 확인하세요.





#[문제70] cust_churn2를 cust_churn으로 저장하세요.











#[문제71] 전처리된 데이터프레임 'cust_churn'을 CSV 파일로 저장합니다.


# 파일 : 'cust_churn.csv'
# to_csv 함수 활용



#[문제72] 데이터가 잘 저장되었는지 다시 한번 불러오고 확인해보세요.





## 정말 고생 많으셨습니다.

