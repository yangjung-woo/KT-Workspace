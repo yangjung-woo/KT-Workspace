

















# 여기에 답안코드를 작성하세요.
import sklearn as sk








# 여기에 답안코드를 작성하세요.
import pandas as pd








# 여기에 답안코드를 작성하세요.
df = pd.read_json('A0007IT.json')
df








# 여기에 답안코드를 작성하세요.
import warnings
warnings.filterwarnings("ignore")
import seaborn as sns
import matplotlib.pyplot as plt
plt.rc("font", family = "Malgun Gothic")
sns.set(font="Malgun Gothic", rc={"axes.unicode_minus":False}, style='white') # 한글설정


sns.countplot(x='Address1',data= df)



# 결측치가 있는 행 제거 
df = df[df['Address1'] !='-']


sns.countplot(x='Address1',data= df)








# 여기에 답안코드를 작성하세요.
sns.jointplot(x = 'Time_Driving', y ='Speed_Per_Hour',data=df)









# 여기에 답안코드를 작성하세요.
df_temp = df[df['Speed_Per_Hour']<300]


sns.jointplot(x = 'Time_Driving', y ='Speed_Per_Hour',data=df_temp)








# 여기에 답안코드를 작성하세요.
df_temp.isna().sum()

df_na = df_temp.dropna(axis=0)


df_na.isna().sum()








# 여기에 답안코드를 작성하세요.
drop_cols = ['Time_Departure','Time_Arrival']
df_del = df_na.drop(columns = drop_cols)


df_del 








# 여기에 답안코드를 작성하세요.
df_del.info() # 원핫 인코딩 해야 할 변수는 Address1 ,Address2 

dummy_cols = ['Address1','Address2']

df_preset = pd.get_dummies(df_del, columns =dummy_cols, drop_first=True )


df_preset.info()








# 여기에 답안코드를 작성하세요.
target = 'Time_Driving'
y = df_preset[target]
x = df_preset.drop(columns= target)




from sklearn.model_selection import train_test_split

X_train , X_valid , y_train ,y_valid = train_test_split(x,y,random_state = 42 , test_size= 0.2)








# 여기에 답안코드를 작성하세요.
from sklearn.tree import DecisionTreeRegressor

model = DecisionTreeRegressor(max_depth =5 , min_samples_split = 3 , random_state = 120)

model.fit(X_train,y_train)









# 여기에 답안코드를 작성하세요.
from sklearn.metrics import *
y_pred = model.predict(X_valid)

#r2_score = r2_score(y_pred,y_valid)
dt_mae = mean_absolute_error(y_pred,y_valid)



dt_mae








import tensorflow as tf
from tensorflow.keras.models import Sequential, load_model
from tensorflow.keras.layers import Dense, Activation, Dropout, BatchNormalization ,Input
from tensorflow.keras.callbacks import EarlyStopping, ModelCheckpoint
from tensorflow.keras.utils import to_categorical
from keras.optimizers import Adam

tf.random.set_seed(1)








# 여기에 답안코드를 작성하세요.
nfeatures = X_train.shape[1]
model = Sequential(
                    [Input(shape = (nfeatures,)),
                    Dense(128 , activation = 'relu'),
                    Dropout(0.2),
                    Dense(64 , activation = 'relu'),
                    Dropout(0.2),
                    Dense(32 , activation = 'relu'),
                    Dropout(0.2),
                    Dense(4 , activation = 'relu'),
                    Dropout(0.2),
                    Dense(1) # 회귀 문제이기 때문에 마지막 출력층에는 활성함수를 넣지 않는다 
                    ]
)

model.compile(optimizer =Adam(learning_rate = 0.05), loss= 'mean_squared_error')

history = model.fit(X_train, y_train , epochs = 30 , batch_size=16, validation_data=(X_valid,y_valid))








# 여기에 답안코드를 작성하세요.
import matplotlib.pyplot as plt

train_mse = history.history['loss']
valid_mse = history.history['val_loss']

plt.plot(train_mse , label = 'mae') # ?? 왜 이렇게 하지?
# plt.plot(train_mse , label = 'Train_mse')
plt.plot(valid_mse,  label = 'mse')
# plt.plot(train_mse , label = 'Valid_mse')

plt.title('Model MSE')
plt.xlabel('Epochs')
plt.ylabel('MSE')
plt.legend()
plt.show()



