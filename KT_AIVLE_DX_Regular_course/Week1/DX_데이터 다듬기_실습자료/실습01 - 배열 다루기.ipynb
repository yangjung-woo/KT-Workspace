{
 "cells": [
  {
   "cell_type": "markdown",
   "metadata": {
    "id": "BFhIXgdYoYGp"
   },
   "source": [
    "<center><img src='https://raw.githubusercontent.com/Jangrae/img/master/title.png' width=500/></center>"
   ]
  },
  {
   "cell_type": "markdown",
   "metadata": {
    "id": "d6jVPeiR2MK_"
   },
   "source": [
    "<center><img src='https://raw.githubusercontent.com/Jangrae/img/master/practice.png' width=300/></center>"
   ]
  },
  {
   "cell_type": "markdown",
   "metadata": {
    "id": "IAxTpJCOVqxX"
   },
   "source": [
    "# [실습] 배열 만들기"
   ]
  },
  {
   "cell_type": "markdown",
   "metadata": {
    "id": "sh0fGNc7VqxY"
   },
   "source": [
    "1) numpy 라이브러리를 np 별칭을 주어 불러오세요."
   ]
  },
  {
   "cell_type": "code",
   "execution_count": null,
   "metadata": {
    "id": "QBxfYJR8Vqv1"
   },
   "outputs": [],
   "source": [
    "import numpy as np"
   ]
  },
  {
   "cell_type": "markdown",
   "metadata": {
    "id": "n4iZv88GVqye"
   },
   "source": [
    "2) 다음 형태를 갖는 2차원 배열을 만들어 np_arr 변수로 선언하세요."
   ]
  },
  {
   "cell_type": "code",
   "execution_count": null,
   "metadata": {
    "id": "ieJ4z0qcEWK5"
   },
   "outputs": [],
   "source": [
    "# [[  1  2  3]\n",
    "#  [  4  5  6]\n",
    "#  [  7  8  9]\n",
    "#  [ 10 11 12]]\n",
    "\n",
    "np_arr =  np.array([[  1  2  3],[  4  5  6],[  7  8  9], [ 10 11 12]]) "
   ]
  },
  {
   "cell_type": "markdown",
   "metadata": {
    "id": "06rhCgTeVqxb"
   },
   "source": [
    "3) shape 속성을 사용해 np_arr 배열의 행과 열의 크기를 확인하세요."
   ]
  },
  {
   "cell_type": "code",
   "execution_count": null,
   "metadata": {
    "id": "zzhPeZH_Vqxd"
   },
   "outputs": [],
   "source": []
  },
  {
   "cell_type": "markdown",
   "metadata": {
    "id": "wMUQ2lITVqxg"
   },
   "source": [
    "4) np_arr 배열을 아래 주어진 4 X 3 형태의 배열로 바꿔서 np_02 배열로 선언하고 확인하세요."
   ]
  },
  {
   "cell_type": "code",
   "execution_count": null,
   "metadata": {
    "id": "pqHytlceVqxh"
   },
   "outputs": [],
   "source": [
    "# [[ 1  2  3]\n",
    "#  [ 4  5  6]\n",
    "#  [ 7  8  9]\n",
    "#  [10 11 12]]\n"
   ]
  },
  {
   "cell_type": "markdown",
   "metadata": {
    "id": "q9SfCez6Vqyg"
   },
   "source": [
    "5) np_arr 배열의 세 번째 행의 요소들을 조회하세요."
   ]
  },
  {
   "cell_type": "code",
   "execution_count": null,
   "metadata": {
    "id": "CaiDEar-Vqyh"
   },
   "outputs": [],
   "source": []
  },
  {
   "cell_type": "markdown",
   "metadata": {
    "id": "16jhLlJvY0rJ"
   },
   "source": [
    "6) np_arr 배열의 모든 요소에 10을 곱한 결과를 조회하세요."
   ]
  },
  {
   "cell_type": "code",
   "execution_count": null,
   "metadata": {
    "id": "5W4FHMArYR0S"
   },
   "outputs": [],
   "source": []
  },
  {
   "cell_type": "markdown",
   "metadata": {
    "id": "X45yk5LZVqym"
   },
   "source": [
    "7) 아래의 출력문이 어떤 값을 출력할 지 추측한 후에 결과를 확인하세요."
   ]
  },
  {
   "cell_type": "code",
   "execution_count": null,
   "metadata": {
    "id": "pVQWrcdmVqym"
   },
   "outputs": [],
   "source": [
    "# 조건 조회\n",
    "print(np_arr[np_arr > 7])"
   ]
  },
  {
   "cell_type": "markdown",
   "metadata": {
    "id": "qC3n0a_QVqyn"
   },
   "source": [
    "8) 위의 실습에서 선택된 요소들의 값을 모두 2배로 만드세요."
   ]
  },
  {
   "cell_type": "code",
   "execution_count": null,
   "metadata": {
    "id": "0vKV9devVqyn"
   },
   "outputs": [],
   "source": []
  },
  {
   "cell_type": "markdown",
   "metadata": {
    "id": "4NnPXEuPVqyo"
   },
   "source": [
    "9) np_arr 배열의 값을 조회해서 변경된 내용을 확인해 보세요."
   ]
  },
  {
   "cell_type": "code",
   "execution_count": null,
   "metadata": {
    "id": "PL3oFfdeVqyo"
   },
   "outputs": [],
   "source": []
  },
  {
   "cell_type": "markdown",
   "metadata": {
    "id": "mt7JHQA_oTfS"
   },
   "source": [
    "10) np_arr 배열의 요소들 중에서 홀수인 요소만 조회해서 a 라는 리스트로 선언하고 확인하세요."
   ]
  },
  {
   "cell_type": "code",
   "execution_count": null,
   "metadata": {
    "id": "-bGx2fYfn7yR"
   },
   "outputs": [],
   "source": []
  }
 ],
 "metadata": {
  "colab": {
   "provenance": []
  },
  "kernelspec": {
   "display_name": "Python 3 (ipykernel)",
   "language": "python",
   "name": "python3"
  },
  "language_info": {
   "codemirror_mode": {
    "name": "ipython",
    "version": 3
   },
   "file_extension": ".py",
   "mimetype": "text/x-python",
   "name": "python",
   "nbconvert_exporter": "python",
   "pygments_lexer": "ipython3",
   "version": "3.12.4"
  }
 },
 "nbformat": 4,
 "nbformat_minor": 4
}
