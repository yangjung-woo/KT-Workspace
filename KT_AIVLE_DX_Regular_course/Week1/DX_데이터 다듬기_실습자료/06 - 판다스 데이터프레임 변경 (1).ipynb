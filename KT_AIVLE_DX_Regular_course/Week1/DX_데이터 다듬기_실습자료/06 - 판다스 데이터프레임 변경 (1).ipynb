{
 "cells": [
  {
   "cell_type": "markdown",
   "metadata": {
    "id": "BFhIXgdYoYGp"
   },
   "source": [
    "<center><img src='https://raw.githubusercontent.com/Jangrae/img/master/title.png' width=500/></center>"
   ]
  },
  {
   "cell_type": "markdown",
   "metadata": {
    "id": "0kW6dzBFYnWW"
   },
   "source": [
    "# 5.데이터프레임 변경 (1)\n",
    "\n",
    "- 데이터 전처리를 위해 꼭 익혀두어야 할 내용입니다.\n",
    "- 반복 학습과 실습을 통해서 익숙해져야 합니다."
   ]
  },
  {
   "cell_type": "code",
   "execution_count": null,
   "metadata": {
    "id": "b9NraxWDnYr1"
   },
   "outputs": [],
   "source": [
    "# 라이브러리 불러오기\n"
   ]
  },
  {
   "cell_type": "code",
   "execution_count": null,
   "metadata": {
    "id": "SOiVUXk_nlEl"
   },
   "outputs": [],
   "source": [
    "# 데이터 읽어오기\n",
    "path = 'https://raw.githubusercontent.com/Jangrae/csv/master/tips(2).csv'\n",
    "tip =\n",
    "\n",
    "# 확인\n"
   ]
  },
  {
   "cell_type": "markdown",
   "metadata": {
    "id": "BCBZOe4UATv2"
   },
   "source": [
    "## 5.1.열 이름 변경\n",
    "\n",
    "- 기존 데이터프레임의 열 이름을 적절히 변경해야 할 경우가 있습니다.\n",
    "- 또는 집계 결과를 가진 열 이름을 이해하기 쉽게 변경해야 할 경우도 있습니다."
   ]
  },
  {
   "cell_type": "markdown",
   "metadata": {
    "id": "wE9-dcnOATwT"
   },
   "source": [
    "**1) 일부 열 이름 변경**\n",
    "\n",
    "- **rename()** 메서드를 사용해 변경 전후의 열 이름을 딕셔너리 형태로 나열하는 방법으로 변경합니다.\n",
    "- **inplace=True** 옵션을 설정해야 변경 사항이 실제 반영이 됩니다.\n",
    "- 다음과 같이 열 이름을 변경합니다.\n",
    "    - total_bill_amount → total_bill\n",
    "    - male_female → sex\n",
    "    - smoke_yes_no → smoker\n",
    "    - week_name → day\n",
    "    - dinner_lunch → time"
   ]
  },
  {
   "cell_type": "code",
   "execution_count": null,
   "metadata": {
    "id": "nIBQUaLbwxo7"
   },
   "outputs": [],
   "source": [
    "# rename() 함수로 열 이름 변경\n",
    "\n",
    "\n",
    "\n",
    "\n",
    "\n",
    "# 확인\n"
   ]
  },
  {
   "cell_type": "markdown",
   "metadata": {
    "id": "MTGNl_DxATwH"
   },
   "source": [
    "**2) 모든 열 이름 변경**\n",
    "\n",
    "- 모든 열 이름을 변경할 때는 **columns** 속성을 변경합니다.\n",
    "- 변경이 필요없는 열은 기존 이름을 부여해 변경합니다.\n"
   ]
  },
  {
   "cell_type": "code",
   "execution_count": null,
   "metadata": {
    "id": "EkoPSqHOwxo1"
   },
   "outputs": [],
   "source": [
    "# 모든 열 이름 변경:\n",
    "# ['total_bill', 'tip', 'sex', 'smoker', 'day', 'time', 'size']\n",
    "\n",
    "\n",
    "# 확인\n"
   ]
  },
  {
   "cell_type": "markdown",
   "metadata": {
    "id": "705oIgrVATwZ"
   },
   "source": [
    "## 5.2.열 추가\n",
    "\n",
    "- 새로운 열을 추가하여 기존 데이터에서 계산된 결괏값을 저장해야할 경우가 있습니다.\n",
    "- total_bill에 tip을 더한 값을 갖는 final_amt 열을 추가합니다."
   ]
  },
  {
   "cell_type": "code",
   "execution_count": null,
   "metadata": {
    "id": "EsXD6gb6ATw2",
    "scrolled": true
   },
   "outputs": [],
   "source": [
    "# final_amt 열 추가: final_amt = total_bill + tip\n",
    "\n",
    "\n",
    "# 확인\n"
   ]
  },
  {
   "cell_type": "markdown",
   "metadata": {
    "id": "HNLDyARyQTQx"
   },
   "source": [
    "- insert() 메서드를 사용하면 원하는 위치에 열을 추가할 수 있습니다.\n"
   ]
  },
  {
   "cell_type": "code",
   "execution_count": null,
   "metadata": {
    "id": "C4d3Rz2vQTQ4",
    "scrolled": true
   },
   "outputs": [],
   "source": [
    "# tip 열 앞에 div_tb 열 추가: div_tb = total_bill / size\n",
    "\n",
    "\n",
    "# 확인\n"
   ]
  },
  {
   "cell_type": "markdown",
   "metadata": {
    "id": "DEEGBlzTK5Za"
   },
   "source": [
    "<img src='https://raw.githubusercontent.com/jangrae/img/master/practice_01.png' width=120 align=\"left\"/>"
   ]
  },
  {
   "cell_type": "markdown",
   "metadata": {
    "id": "Cd_pdvkKTlXZ"
   },
   "source": [
    "[문1] 범주형 값을 갖는 day 열이 어떤 값을 몇 개 갖고 있는지 확인하세요."
   ]
  },
  {
   "cell_type": "code",
   "execution_count": null,
   "metadata": {
    "id": "NC_RbT8NTiJV"
   },
   "outputs": [],
   "source": [
    "# 범주값 확인\n"
   ]
  },
  {
   "cell_type": "markdown",
   "metadata": {
    "id": "3dV30kT0Snu-"
   },
   "source": [
    "[문2] day가 Sat, Sun 이면 1, 나머지는 0 값을 갖는 holiday 열을 추가하세요."
   ]
  },
  {
   "cell_type": "code",
   "execution_count": null,
   "metadata": {
    "id": "y15vYmWiSlUi"
   },
   "outputs": [],
   "source": [
    "# holiday 열 추가\n",
    "\n",
    "\n",
    "\n",
    "# 확인\n"
   ]
  },
  {
   "cell_type": "markdown",
   "metadata": {
    "id": "bl6mG6JgATw5"
   },
   "source": [
    "## 5.3.열 삭제\n",
    "\n",
    "- 뭔가를 삭제할 때는 **항상 조심x100** 해야 합니다."
   ]
  },
  {
   "cell_type": "markdown",
   "metadata": {
    "id": "YxCLRWcTATxC"
   },
   "source": [
    "**1) 열 하나 삭제**\n",
    "\n",
    "- **drop()** 메서드를 사용해 열을 삭제합니다.\n",
    "- axis=0: 행 삭제(기본 값)\n",
    "- axis=1: 열 삭제\n",
    "- **inplace=True** 옵션을 지정해야 실제로 반영이 됩니다.\n"
   ]
  },
  {
   "cell_type": "code",
   "execution_count": null,
   "metadata": {
    "id": "IllnJ5JfATxD"
   },
   "outputs": [],
   "source": [
    "# 열 하나 삭제: final_amt\n",
    "\n",
    "\n",
    "# 확인\n"
   ]
  },
  {
   "cell_type": "markdown",
   "metadata": {
    "id": "TFmpd24DATxI"
   },
   "source": [
    "**2) 여러 열 삭제**\n",
    "\n",
    "- 삭제할 열을 리스트 형태로 전달해 한 번에 여러 열을 제거할 수 있습니다."
   ]
  },
  {
   "cell_type": "code",
   "execution_count": null,
   "metadata": {
    "id": "4P_cuUeOATxK",
    "scrolled": true
   },
   "outputs": [],
   "source": [
    "# 열 두 개 삭제: div_tb, day\n",
    "\n",
    "\n",
    "# 확인\n"
   ]
  },
  {
   "cell_type": "markdown",
   "metadata": {
    "id": "-Kw5a72WRp1V"
   },
   "source": [
    "## 5.4.범주값 변경\n",
    "\n",
    "- **map()** 메서드를 사용하면 범주형 값을 다른 값으로 쉽게 변경 할 수 있습니다."
   ]
  },
  {
   "cell_type": "markdown",
   "metadata": {
    "id": "HRQIbMa91cdG"
   },
   "source": [
    "<img src='https://raw.githubusercontent.com/jangrae/img/master/map.png' width=500 align=\"left\"/>"
   ]
  },
  {
   "cell_type": "markdown",
   "metadata": {
    "id": "Nh8d9vNz1cdG"
   },
   "source": [
    "- 다음 구문은 Male, Female을 각각 숫자 1, 0으로 변경합니다."
   ]
  },
  {
   "cell_type": "code",
   "execution_count": null,
   "metadata": {
    "id": "EoOj-SecRp1X"
   },
   "outputs": [],
   "source": [
    "# Male -> 1, Female -> 0\n",
    "\n",
    "\n",
    "# 확인\n"
   ]
  },
  {
   "cell_type": "markdown",
   "metadata": {
    "id": "eN6OQQsJ1cdG"
   },
   "source": [
    "- **replace()** 메서드도 map() 메서드와 비슷한 방법으로 사용할 수 있습니다."
   ]
  },
  {
   "cell_type": "markdown",
   "metadata": {
    "id": "GnDdIvVu1cdG"
   },
   "source": [
    "<img src='https://raw.githubusercontent.com/jangrae/img/master/replace.png' width=500 align=\"left\"/>"
   ]
  },
  {
   "cell_type": "markdown",
   "metadata": {
    "id": "P6lyXx-J1cdG"
   },
   "source": [
    "- 다음 구문은 1, 0을 각각 Male, Female로 변경합니다."
   ]
  },
  {
   "cell_type": "code",
   "execution_count": null,
   "metadata": {
    "id": "Li9li_WP1cdG"
   },
   "outputs": [],
   "source": [
    "# 1 --> Male, 0 --> Female\n",
    "\n",
    "\n",
    "# 확인\n"
   ]
  },
  {
   "cell_type": "markdown",
   "metadata": {
    "id": "qknuLfOCRp1Z"
   },
   "source": [
    "<img src='https://raw.githubusercontent.com/jangrae/img/master/practice_01.png' width=120 align=\"left\"/>"
   ]
  },
  {
   "cell_type": "markdown",
   "metadata": {
    "id": "PQa-Au42Rp1a"
   },
   "source": [
    "[문1] map() 메서드를 사용해 smoker 열의 값 Yes와 No를 각각 숫자 1과 0으로 변경하세요."
   ]
  },
  {
   "cell_type": "code",
   "execution_count": null,
   "metadata": {
    "id": "yeqUoHhARp1b"
   },
   "outputs": [],
   "source": [
    "# Yes -> 1, No -> 0\n",
    "\n",
    "\n",
    "# 확인\n"
   ]
  },
  {
   "cell_type": "markdown",
   "metadata": {
    "id": "Q9lGxSy-1cdG"
   },
   "source": [
    "[문2] replace() 메서드를 사용해 time 열의 값 Lunch와 Dinner를 각각 숫자 1과 0으로 변경하세요."
   ]
  },
  {
   "cell_type": "code",
   "execution_count": null,
   "metadata": {
    "id": "mIO0Vx_k1cdH"
   },
   "outputs": [],
   "source": [
    "# Lunch -> 1, Dinner -> 0\n",
    "\n",
    "\n",
    "# 확인\n"
   ]
  },
  {
   "cell_type": "markdown",
   "metadata": {
    "id": "jDGivtXoM2KQ"
   },
   "source": [
    "## 5.5.범주값 만들기\n",
    "\n",
    "- 연속값을 구간을 나누어 범주값으로 표현하는 과정을 **이산화(Discretization)** 라고 합니다.\n",
    "- **cut(), qcut()** 함수를 사용하여 쉽게 이산화 과정을 수행할 수 있습니다.\n",
    "- 연속값을 이산화 함으로써 더 심도있는 데이터 분석이 가능해집니다.\n",
    "- 예를 들어 점수를 일정 구간으로 구분하면 점수 구간별 분석이 가능해집니다.\n",
    "- 또한 데이터가 단순해져 머신러닝 학습 과정과, 모델 성능이 향상될 수 있습니다.\n",
    "- 사용 방법이 다소 어렵지만 알아두면 상당히 편리한 기능입니다."
   ]
  },
  {
   "cell_type": "markdown",
   "metadata": {
    "id": "fPl6UH9oL9jN"
   },
   "source": [
    "<img src='https://raw.githubusercontent.com/jangrae/img/master/cutqcut.png' width=800 align=\"left\"/>"
   ]
  },
  {
   "cell_type": "markdown",
   "metadata": {
    "id": "0YU1l00CRp1d"
   },
   "source": [
    "**1) cut() 함수**\n",
    "\n",
    "- **크기**를 기준으로 구간을 나누고 싶을 때 **cut() 함수**를 사용합니다.\n",
    "- 범위 개수를 지정하면 자동으로 크기를 기준으로 나눕니다."
   ]
  },
  {
   "cell_type": "code",
   "execution_count": null,
   "metadata": {
    "id": "1KbUlRUmR5EN"
   },
   "outputs": [],
   "source": [
    "# tip 크기를 기준으로 4구간(a ~ d)으로 나누기\n",
    "tip['tip_grp'] = pd.cut(    ,   ,    )\n",
    "\n",
    "# 확인\n",
    "tip.head()"
   ]
  },
  {
   "cell_type": "code",
   "execution_count": null,
   "metadata": {
    "id": "W_XYYpTFR5EO"
   },
   "outputs": [],
   "source": [
    "# 범주값 확인\n",
    "tip['tip_grp'].value_counts()"
   ]
  },
  {
   "cell_type": "markdown",
   "metadata": {
    "id": "mZhZ_UXgRp1e"
   },
   "source": [
    "- 각 구간의 경계 값을 직접 지정할 수 있습니다.\n",
    "- 우선 tip 열의 기술통계 정보를 살펴봅니다."
   ]
  },
  {
   "cell_type": "code",
   "execution_count": null,
   "metadata": {
    "id": "u0D-PxPrRp1f"
   },
   "outputs": [],
   "source": [
    "# 기술통계\n"
   ]
  },
  {
   "cell_type": "markdown",
   "metadata": {
    "id": "gqsVo0cVRp1f"
   },
   "source": [
    "\n",
    "- 다음 구문은 아래 범위에 따른 값을 갖는 tip_grp 열을 추가합니다.\n",
    "  - 2.0 이하 → 'a'\n",
    "  - 2.0 초과 2.9 이하 → 'b'\n",
    "  - 2.9 초과 3.5625 이하 → 'c'\n",
    "  - 3.5625 초과 10.0 이하 → 'd'\n",
    "- 음의 무한대는 -np.inf, 양의 무한대는 np.inf로 지정합니다."
   ]
  },
  {
   "cell_type": "code",
   "execution_count": null,
   "metadata": {
    "id": "5Jjj_bHyRp1g"
   },
   "outputs": [],
   "source": [
    "# 라이브러리 불러오기\n",
    "import numpy as np\n",
    "\n",
    "# 등급 구하기\n",
    "bin = [-np.inf, 2.0, 2.9, 3.5625, 10.0]\n",
    "label = ['a', 'b', 'c', 'd']\n",
    "tip['tip_grp'] = pd.cut(   ,   ,  )\n",
    "\n",
    "# 확인\n",
    "tip['tip_grp'].value_counts()"
   ]
  },
  {
   "cell_type": "code",
   "execution_count": null,
   "metadata": {
    "id": "rLpErm9SRp1h"
   },
   "outputs": [],
   "source": [
    "# 확인\n"
   ]
  },
  {
   "cell_type": "markdown",
   "metadata": {
    "id": "7Kt9wOKXRp1h"
   },
   "source": [
    "<img src='https://raw.githubusercontent.com/jangrae/img/master/practice_01.png' width=120 align=\"left\"/>"
   ]
  },
  {
   "cell_type": "markdown",
   "metadata": {
    "id": "p7m4FSEuRp1i"
   },
   "source": [
    "[문1] 기술통계 정보에서 total_bill 열의 25%, 50%, 75% 값을 조회해 q1, q2, q3 변수를 선언하세요."
   ]
  },
  {
   "cell_type": "code",
   "execution_count": null,
   "metadata": {
    "id": "RRwlG-E-Rp1i"
   },
   "outputs": [],
   "source": [
    "# 기술통계\n"
   ]
  },
  {
   "cell_type": "code",
   "execution_count": null,
   "metadata": {
    "id": "ILdEqjEXyThT"
   },
   "outputs": [],
   "source": [
    "# 사분위수\n",
    "q1 =\n",
    "q2 =\n",
    "q3 ="
   ]
  },
  {
   "cell_type": "markdown",
   "metadata": {
    "id": "vJkPSyPPRp1j"
   },
   "source": [
    "[믄2] 아래 범위와 값을 참조해 'a' ~ 'd' 값을 갖는 bill_grp 열을 추가하세요.\n",
    "\n",
    "   - q1 이하 → 'a'\n",
    "   - q1 초과 q2 이하 → 'b'\n",
    "   - q2 초과 q3 이하 → 'c'\n",
    "   - q3 초과 → 'd'"
   ]
  },
  {
   "cell_type": "code",
   "execution_count": null,
   "metadata": {
    "id": "akeRBBqaRp1j"
   },
   "outputs": [],
   "source": [
    "# 등급 구하기\n",
    "\n",
    "\n",
    "\n",
    "\n",
    "# 확인\n"
   ]
  },
  {
   "cell_type": "markdown",
   "metadata": {
    "id": "jfJYwIQlRp1k"
   },
   "source": [
    "[문3] bill_grp 별 total_bill, tip의 평균을 집계하세요."
   ]
  },
  {
   "cell_type": "code",
   "execution_count": null,
   "metadata": {
    "id": "ETm6KFW3Rp1k"
   },
   "outputs": [],
   "source": [
    "# 구간별 평균\n",
    "\n",
    "\n",
    "# 확인\n"
   ]
  },
  {
   "cell_type": "markdown",
   "metadata": {
    "id": "ausIrC6tN0ND"
   },
   "source": [
    "**2) qcut() 함수**\n",
    "\n",
    "- **개수**를 기준으로 구간을 나누고 싶을 때 **qcut() 함수**를 사용합니다.\n",
    "- 구간 개수를 지정하면 자동으로 동일한 개수를 갖는 구간이 만들어집니다.\n",
    "- 위 연습문제는 total_bill 열의 사분위 값을 기준으로 cut() 함수를 사용해 범위를 나누었습니다.\n",
    "- 사분위는 값 개수를 기준으로 4분의 1씩 데이터를 갖는 4개 구간을 만든 것입니다.\n",
    "- 그러므로 qcut() 함수를 사용해 4개 구간으로 나누면 같은 결과를 얻게 됩니다."
   ]
  },
  {
   "cell_type": "code",
   "execution_count": null,
   "metadata": {
    "id": "iKoY7ADrN0NE"
   },
   "outputs": [],
   "source": [
    "# 같은 개수의 total_bill을 갖는 4개 구간으로 나누기\n",
    "tip['bill_grp2'] = pd.qcut(   ,   ,   )\n",
    "\n",
    "# 확인\n",
    "tip.head()"
   ]
  },
  {
   "cell_type": "markdown",
   "metadata": {
    "id": "_J0kBVacRJua"
   },
   "source": [
    "- 다음과 같이 집계해서 이전의 결과와 같음을 확인할 수 있습니다."
   ]
  },
  {
   "cell_type": "code",
   "execution_count": null,
   "metadata": {
    "id": "3j7HCs3tNyVi"
   },
   "outputs": [],
   "source": [
    "# 구간별 평균\n",
    "tip_mean = tip.groupby('bill_grp2', as_index=False)[['total_bill', 'tip']].mean()\n",
    "\n",
    "# 확인\n",
    "tip_mean"
   ]
  }
 ],
 "metadata": {
  "colab": {
   "provenance": []
  },
  "kernelspec": {
   "display_name": "Python 3 (ipykernel)",
   "language": "python",
   "name": "python3"
  },
  "language_info": {
   "codemirror_mode": {
    "name": "ipython",
    "version": 3
   },
   "file_extension": ".py",
   "mimetype": "text/x-python",
   "name": "python",
   "nbconvert_exporter": "python",
   "pygments_lexer": "ipython3",
   "version": "3.10.9"
  }
 },
 "nbformat": 4,
 "nbformat_minor": 4
}
