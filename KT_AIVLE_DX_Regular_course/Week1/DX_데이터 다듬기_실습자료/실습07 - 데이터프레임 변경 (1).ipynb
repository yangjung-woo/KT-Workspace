{
 "cells": [
  {
   "cell_type": "markdown",
   "metadata": {
    "id": "BFhIXgdYoYGp"
   },
   "source": [
    "<center><img src='https://raw.githubusercontent.com/Jangrae/img/master/title.png' width=500/></center>"
   ]
  },
  {
   "cell_type": "markdown",
   "metadata": {
    "id": "d6jVPeiR2MK_"
   },
   "source": [
    "<center><img src='https://raw.githubusercontent.com/Jangrae/img/master/practice.png' width=300/></center>"
   ]
  },
  {
   "cell_type": "markdown",
   "metadata": {
    "id": "PcLUjkq0wxpF"
   },
   "source": [
    "# 데이터프레임 변경 (1)"
   ]
  },
  {
   "cell_type": "markdown",
   "metadata": {
    "id": "hKxotLXL1EFl"
   },
   "source": [
    "1) pandas 라이브러리를 불러오세요."
   ]
  },
  {
   "cell_type": "code",
   "execution_count": null,
   "metadata": {
    "id": "8hZaRpngVhlS"
   },
   "outputs": [],
   "source": []
  },
  {
   "cell_type": "markdown",
   "metadata": {
    "id": "swByQenKUAXS"
   },
   "source": [
    "2) 다음 경로의 파일을 읽어 titanic 데이터프레임을 만드세요.\n",
    "\n",
    "- 파일 경로: 'https://raw.githubusercontent.com/Jangrae/csv/master/titanic.csv'"
   ]
  },
  {
   "cell_type": "markdown",
   "metadata": {
    "id": "osNX5-GjVYW7"
   },
   "source": [
    "**[titanic 데이터 셋 정보]**\n",
    "\n",
    "- Survived: 생존여부(1=Yes, 0=No)\n",
    "- Pclass: 객실등급(1=1st, 2=2nd, 3=3rd)\n",
    "- Sex: 성별(male, female)\n",
    "- Age: 나이\n",
    "- Sibsp: 탑승한 형제자매, 배우자 수\n",
    "- Parch: 탑승한 자녀, 부모 수\n",
    "- Ticket: 티켓 번호\n",
    "- Fare: 요금\n",
    "- Cabin: 캐빈 번호\n",
    "- Embarked: 출발한 항구((C=Cherbourg, Q=Queenstown, S=Southampton)"
   ]
  },
  {
   "cell_type": "code",
   "execution_count": null,
   "metadata": {
    "id": "zFm_DPTaUdqQ"
   },
   "outputs": [],
   "source": []
  },
  {
   "cell_type": "markdown",
   "metadata": {
    "id": "WAGgvzDv2klV"
   },
   "source": [
    "3) 상위 5개 행을 확인하세요."
   ]
  },
  {
   "cell_type": "code",
   "execution_count": null,
   "metadata": {
    "id": "vJwQEeOt2fSD"
   },
   "outputs": [],
   "source": []
  },
  {
   "cell_type": "markdown",
   "metadata": {
    "id": "nIFVI4dD2LaD"
   },
   "source": [
    "4) 다음 요구사항에 맞게 순서대로 구문을 작성하고 확인하세요.\n",
    "\n",
    "- 4-1) PassengerId, Name, Ticket, Cabin 열을 한 번에 삭제하세요.\n",
    "- 4-2) Sex 열 이름을 Male로 변경하세요.\n",
    "- 4-3) Male 열 값을 'male'은 1, 'female'은 0으로 변경하세요.\n",
    "- 4-4) SibSp 열과 Parch 열의 값을 더한 결과를 갖는 Family 열을 추가하세요.\n",
    "- 4-5) SibSp, Parch 두 열을 삭제하세요.\n",
    "- 4-6) 결과를 확인하세요."
   ]
  },
  {
   "cell_type": "code",
   "execution_count": null,
   "metadata": {
    "id": "rMLb6r445GSW",
    "scrolled": true
   },
   "outputs": [],
   "source": []
  },
  {
   "cell_type": "markdown",
   "metadata": {
    "id": "BP5lgjvRpgwm"
   },
   "source": [
    "5) 다음 요구사항에 맞게 순서대로 구문을 작성하고 확인하세요.\n",
    "\n",
    "- 5-1) 기술통계 정보에서 Age 열의 25%, 50%, 75% 값을 조회해 q1, q2, q3 변수를 선언하세요.\n",
    "- 5-2) 아래 범위와 값을 참조해 'a' ~ 'd' 값을 갖는 AgeGrp 열을 추가하세요.\n",
    "    - q1 이하 → 'a'\n",
    "    - q1 초과 q2 이하 → 'b'\n",
    "    - q2 초과 q3 이하 → 'c'\n",
    "    - q3 초과 → 'd'\n",
    "- 5-3) AgeGrp 별 생존율을 집계하여 tmp 데이터프레임을 선언하세요.\n",
    "- 5-4) tmp 데이터프레임을 막대그래프로 시각화해 확인하세요."
   ]
  },
  {
   "cell_type": "code",
   "execution_count": null,
   "metadata": {
    "id": "ILdEqjEXyThT"
   },
   "outputs": [],
   "source": []
  }
 ],
 "metadata": {
  "colab": {
   "provenance": []
  },
  "kernelspec": {
   "display_name": "Python 3 (ipykernel)",
   "language": "python",
   "name": "python3"
  },
  "language_info": {
   "codemirror_mode": {
    "name": "ipython",
    "version": 3
   },
   "file_extension": ".py",
   "mimetype": "text/x-python",
   "name": "python",
   "nbconvert_exporter": "python",
   "pygments_lexer": "ipython3",
   "version": "3.10.9"
  }
 },
 "nbformat": 4,
 "nbformat_minor": 4
}
