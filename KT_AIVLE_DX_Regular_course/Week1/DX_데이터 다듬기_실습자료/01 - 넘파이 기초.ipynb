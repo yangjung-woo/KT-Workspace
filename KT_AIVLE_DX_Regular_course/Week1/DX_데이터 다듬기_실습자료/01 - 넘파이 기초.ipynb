{
 "cells": [
  {
   "cell_type": "markdown",
   "metadata": {
    "id": "BFhIXgdYoYGp"
   },
   "source": [
    "<center><img src='https://raw.githubusercontent.com/Jangrae/img/master/title.png' width=500/></center>"
   ]
  },
  {
   "cell_type": "markdown",
   "metadata": {
    "id": "knW4AvmePAtI"
   },
   "source": [
    "# 학습 목표\n",
    "\n",
    "- Numpy 배열의 기본 개념을 이해합니다.\n",
    "- 1차원, 2차원, 3차원 배열을 만들 수 있습니다.\n",
    "- Reshape 기능을 사용해 배열 형태를 바꿀 수 있습니다.\n",
    "- 인덱싱과 슬라이싱으로 원하는 데이터를 조회할 수 있습니다.\n",
    "- 배열 사이의 기본적인 연산을 수행할 수 있습니다."
   ]
  },
  {
   "cell_type": "markdown",
   "metadata": {
    "id": "1QmK9QLhVqv1"
   },
   "source": [
    "# 1.라이브러리 불러오기\n",
    "\n",
    "- Numpy 배열을 사용하려면 우선 **numpy** 라이브러리를 불러와야 합니다.\n",
    "- numpy 라이브러리는 일반적으로 **np** 별칭을 붙여 불러옵니다."
   ]
  },
  {
   "cell_type": "code",
   "execution_count": 6,
   "metadata": {
    "id": "QBxfYJR8Vqv1"
   },
   "outputs": [],
   "source": [
    "# 라이브러리 불러오기\n",
    "import numpy as np"
   ]
  },
  {
   "cell_type": "markdown",
   "metadata": {
    "id": "HS5jdd-JPAtQ"
   },
   "source": [
    "### [참고] 왜 배열?"
   ]
  },
  {
   "cell_type": "markdown",
   "metadata": {
    "id": "xd4IOz_yPAtR"
   },
   "source": [
    "**문제1**: 다음 리스트 각 요소에 2를 곱하세요."
   ]
  },
  {
   "cell_type": "code",
   "execution_count": 10,
   "metadata": {
    "id": "Ug8fQ6bZPAtR"
   },
   "outputs": [
    {
     "name": "stdout",
     "output_type": "stream",
     "text": [
      "[1, 2, 3, 4, 5, 6, 7, 8, 9, 1, 2, 3, 4, 5, 6, 7, 8, 9]\n"
     ]
    }
   ],
   "source": [
    "# 리스트\n",
    "a = [1, 2, 3, 4, 5, 6, 7, 8, 9]\n",
    "\n",
    "# 2 곱하기?\n",
    "a = a * 2\n",
    "\n",
    "# 확인\n",
    "print(a)"
   ]
  },
  {
   "cell_type": "markdown",
   "metadata": {
    "id": "6dIdBQ2QPAtY"
   },
   "source": [
    "**문제2**: 다음 리스트 요소 중에서 짝수만 표시하세요."
   ]
  },
  {
   "cell_type": "code",
   "execution_count": 13,
   "metadata": {
    "id": "HA89-TdsPAtZ"
   },
   "outputs": [
    {
     "name": "stdout",
     "output_type": "stream",
     "text": [
      "2 4 6 8 "
     ]
    }
   ],
   "source": [
    "# 리스트\n",
    "a = [1, 2, 3, 4, 5, 6, 7, 8, 9]\n",
    "\n",
    "# 짝수만 표시...몰라요ㅜ.ㅜ\n",
    "for i in a:\n",
    "    if i %2 ==0:\n",
    "        print(i,end=' ' )"
   ]
  },
  {
   "cell_type": "markdown",
   "metadata": {
    "id": "d6BM-w4sPAtd"
   },
   "source": [
    "**문제3**: 다음 배열 각 요소에 2를 곱하세요."
   ]
  },
  {
   "cell_type": "code",
   "execution_count": 15,
   "metadata": {
    "id": "B4DGWLgkPAte"
   },
   "outputs": [
    {
     "name": "stdout",
     "output_type": "stream",
     "text": [
      "[1 2 3 4 5 6 7 8 9]\n",
      "[ 2  4  6  8 10 12 14 16 18]\n"
     ]
    }
   ],
   "source": [
    "# 배열\n",
    "a = np.array([1, 2, 3, 4, 5, 6, 7, 8, 9])\n",
    "\n",
    "# 확인\n",
    "print(a)\n",
    "\n",
    "# 2 곱하기\n",
    "a *=2\n",
    "\n",
    "# 확인\n",
    "print(a)"
   ]
  },
  {
   "cell_type": "markdown",
   "metadata": {
    "id": "WV4U5CInPAtj"
   },
   "source": [
    "**문제4**: 다음 배열 요소 중에서 짝수만 표시하세요."
   ]
  },
  {
   "cell_type": "code",
   "execution_count": null,
   "metadata": {
    "id": "Hpndy576PAtk"
   },
   "outputs": [],
   "source": [
    "# 배열\n",
    "a = np.array([1, 2, 3, 4, 5, 6, 7, 8, 9])\n",
    "\n",
    "# 확인\n",
    "print(a)\n",
    "\n",
    "# 짝수만 표시\n"
   ]
  },
  {
   "cell_type": "markdown",
   "metadata": {
    "id": "XPklNj6HVqwF"
   },
   "source": [
    "# 2.배열 만들기\n",
    "\n",
    "- 편의를 위해 **Numpy 배열**을 그냥 **배열**이라고 부르기로 합니다.\n",
    "- 이후 데이터 처리시 배열로 변환해 연산을 하거나, 결과가 배열로 표시되는 경우가 있습니다.\n",
    "- 배열에 대한 개념은 정확히 파악해 두기를 권고합니다."
   ]
  },
  {
   "cell_type": "markdown",
   "metadata": {
    "id": "aPhtjq5SVqwG"
   },
   "source": [
    "## 2.1.용어 정의"
   ]
  },
  {
   "cell_type": "markdown",
   "metadata": {
    "id": "SCZ06y9XVqwG"
   },
   "source": [
    "<img src='https://raw.githubusercontent.com/Jangrae/img/master/array.png' width=300 align=\"left\"/>"
   ]
  },
  {
   "cell_type": "markdown",
   "metadata": {
    "id": "v6_mxJENNgqI"
   },
   "source": [
    "**[용어]**\n",
    "- axis: 배열의 각 축\n",
    "- rank: 축의 개수\n",
    "- shape: 축의 길이, 배열의 크기\n",
    "\n",
    "  \n",
    "**[3 x 4 배열의 경우]**\n",
    "- axis 0 과 axis 1 을 갖는 2차원 배열\n",
    "- rank 2 array\n",
    "- shape는 (3, 4)"
   ]
  },
  {
   "cell_type": "markdown",
   "metadata": {
    "id": "d1nVJucfVqwI"
   },
   "source": [
    "## 2.2.배열 만들기\n",
    "\n",
    "- **np.array() 함수**를 사용해서 배열을 만듭니다.\n",
    "- 대부분 **리스트**로부터 배열을 만들거나, 머신러닝 관련 함수 결괏값이 배열이 됩니다."
   ]
  },
  {
   "cell_type": "markdown",
   "metadata": {
    "id": "KkJuoomF0w7X"
   },
   "source": [
    "### 2.2.1.배열 만들기"
   ]
  },
  {
   "cell_type": "markdown",
   "metadata": {
    "id": "4a-yLEsQyz1m"
   },
   "source": [
    "**1) 1차원 배열 만들기**"
   ]
  },
  {
   "cell_type": "code",
   "execution_count": 25,
   "metadata": {
    "id": "zviakX46zEzg"
   },
   "outputs": [
    {
     "name": "stdout",
     "output_type": "stream",
     "text": [
      "[1 2 3 4 5]\n"
     ]
    }
   ],
   "source": [
    "# 1차원 리스트\n",
    "a1 = [1, 2, 3, 4, 5]\n",
    "\n",
    "# 배열로 변환\n",
    "b1 = np.array(a1)\n",
    "\n",
    "# 확인\n",
    "print(b1)"
   ]
  },
  {
   "cell_type": "markdown",
   "metadata": {
    "id": "1LZ0lOs_y3qY"
   },
   "source": [
    "**2) 2차원 배열 만들기**"
   ]
  },
  {
   "cell_type": "code",
   "execution_count": 28,
   "metadata": {
    "id": "3t8-tbQaznfw"
   },
   "outputs": [
    {
     "name": "stdout",
     "output_type": "stream",
     "text": [
      "[[1.5 2.5 3.2]\n",
      " [4.2 5.7 6.4]]\n"
     ]
    }
   ],
   "source": [
    "# 2차원 리스트\n",
    "# a2 = [[1.5, 2.5, 3.2], [4.2, 5.7, 6.4]]\n",
    "a2 = [[1.5, 2.5, 3.2],\n",
    "      [4.2, 5.7, 6.4]]\n",
    "\n",
    "# 배열로 변환\n",
    "b2 = np.array(a2)\n",
    "\n",
    "# 확인\n",
    "print(b2)"
   ]
  },
  {
   "cell_type": "markdown",
   "metadata": {
    "id": "e7E9ev7by3zY"
   },
   "source": [
    "**3) 3차원 배열 만들기**"
   ]
  },
  {
   "cell_type": "code",
   "execution_count": 31,
   "metadata": {
    "id": "y4QCIoCvz3ov"
   },
   "outputs": [
    {
     "name": "stdout",
     "output_type": "stream",
     "text": [
      "[[[1 3 1]\n",
      "  [4 7 6]\n",
      "  [8 3 4]]\n",
      "\n",
      " [[6 2 4]\n",
      "  [8 1 5]\n",
      "  [3 5 9]]]\n",
      "(2, 3, 3)\n"
     ]
    }
   ],
   "source": [
    "# 3차원 리스트\n",
    "# a3 = [[[1, 3, 1], [4, 7, 6], [8, 3, 4]], [[6, 2, 4], [8, 1, 5], [3, 5, 9]]]\n",
    "a3 = [[[1, 3, 1],\n",
    "       [4, 7, 6],\n",
    "       [8, 3, 4]],\n",
    "      [[6, 2, 4],\n",
    "       [8, 1, 5],\n",
    "       [3, 5, 9]]]\n",
    "\n",
    "# 배열로 변환\n",
    "b3 = np.array(a3)\n",
    "\n",
    "# 확인\n",
    "print(b3)\n",
    "print(np.shape(b3))"
   ]
  },
  {
   "cell_type": "markdown",
   "metadata": {
    "id": "vxMxUvQIVqwI"
   },
   "source": [
    "### 2.2.2.배열 정보 확인\n",
    "\n",
    "- 배열 정보를 확인하는 다음 속성들을 기억하시기 바랍니다.\n",
    "- 특히 shape 속성은 이후에도 많이 사용될 것입니다."
   ]
  },
  {
   "cell_type": "markdown",
   "metadata": {
    "id": "U5qjQi8E1pw0"
   },
   "source": [
    "**1) 차원 확인**\n",
    "\n",
    "- ndim 속성으로 배열 차원을 확인합니다."
   ]
  },
  {
   "cell_type": "code",
   "execution_count": 35,
   "metadata": {
    "id": "FxXWyFPyx3P-",
    "scrolled": true
   },
   "outputs": [
    {
     "name": "stdout",
     "output_type": "stream",
     "text": [
      "1\n",
      "2\n",
      "3\n"
     ]
    }
   ],
   "source": [
    "# 차원 확인\n",
    "print(b1.ndim)\n",
    "print(b2.ndim)\n",
    "print(b3.ndim)\n"
   ]
  },
  {
   "cell_type": "markdown",
   "metadata": {
    "id": "hDchV5CI1vX4"
   },
   "source": [
    "**2) 형태(크기) 확인**\n",
    "\n",
    "- shape 속성으로 배열 형태를 확인합니다.\n",
    "- 결과는 다음과 같은 형태의 튜플로 표시됩니다.\n",
    "    - 1차원: (x, )\n",
    "    - 2차원: (x, y)\n",
    "    - 3차원: (x, y, z)\n",
    "- 앞에서 부터 axis 0, axis 1, axis 2의 크기를 의미합니다."
   ]
  },
  {
   "cell_type": "code",
   "execution_count": 38,
   "metadata": {
    "id": "_hQjcnXx1oZl",
    "scrolled": true
   },
   "outputs": [
    {
     "name": "stdout",
     "output_type": "stream",
     "text": [
      "(5,)\n",
      "(2, 3)\n",
      "(2, 3, 3)\n"
     ]
    }
   ],
   "source": [
    "# 형태(크기) 확인\n",
    "print(b1.shape)\n",
    "print(b2.shape)\n",
    "print(b3.shape)"
   ]
  },
  {
   "cell_type": "markdown",
   "metadata": {
    "id": "8jV7CzBY1yr_"
   },
   "source": [
    "**3) 요소 자료형 확인**\n",
    "\n",
    "- dtype 속성으로 배열에 포함된 요소들의 자료형을 확인합니다.\n",
    "- 배열은 한 가지 자료형만 가질 수 있다는 특징이 있습니다."
   ]
  },
  {
   "cell_type": "code",
   "execution_count": 40,
   "metadata": {
    "id": "Y96maPXA1olN",
    "scrolled": true
   },
   "outputs": [
    {
     "name": "stdout",
     "output_type": "stream",
     "text": [
      "int32\n",
      "float64\n",
      "int32\n"
     ]
    }
   ],
   "source": [
    "# 요소 자료형 형식 확인\n",
    "print(b1.dtype)\n",
    "print(b2.dtype)\n",
    "print(b3.dtype)\n",
    "\n"
   ]
  },
  {
   "cell_type": "markdown",
   "metadata": {
    "id": "O7V_CL-H6zRc"
   },
   "source": [
    "<img src='https://raw.githubusercontent.com/jangrae/img/master/practice_01.png' width=120 align=\"left\"/>"
   ]
  },
  {
   "cell_type": "markdown",
   "metadata": {
    "id": "lP-D4JwORo9w"
   },
   "source": [
    "[문1] numpy 라이브러리를 np 별칭을 주어 불러오세요."
   ]
  },
  {
   "cell_type": "code",
   "execution_count": null,
   "metadata": {
    "id": "4kL9ztRaSJJj"
   },
   "outputs": [],
   "source": [
    "# 라이브러리 불러오기\n",
    "import numpy as np"
   ]
  },
  {
   "cell_type": "markdown",
   "metadata": {
    "id": "kUQxv1BpNlar"
   },
   "source": [
    "[문2] 다음에 주어진 데이터를 갖는 1차원 배열을 만든 후 ndim, shape, dtype을 확인해 보세요."
   ]
  },
  {
   "cell_type": "code",
   "execution_count": 48,
   "metadata": {
    "id": "9pACMW_t7CBN"
   },
   "outputs": [
    {
     "name": "stdout",
     "output_type": "stream",
     "text": [
      "[10 11 12 13 14 15]\n",
      "1\n",
      "(6,)\n",
      "int32\n"
     ]
    }
   ],
   "source": [
    "# 10, 11, 12, 13, 14, 15\n",
    "\n",
    "# 배열 만들기\n",
    "arr = np.array([10,11,12,13,14,15])\n",
    "\n",
    "# 확인\n",
    "print(arr)\n",
    "\n",
    "# 정보 확인\n",
    "print(arr.ndim)\n",
    "print(arr.shape)\n",
    "print(arr.dtype)\n",
    "\n"
   ]
  },
  {
   "cell_type": "markdown",
   "metadata": {
    "id": "YrBtd57cNpK4"
   },
   "source": [
    "[문3] 다음에 주어진 리스트를 요소로 갖는 2차원 배열을 만든 후 ndim, shape, dtype을 확인해 보세요"
   ]
  },
  {
   "cell_type": "code",
   "execution_count": 50,
   "metadata": {
    "id": "C9GwieJP8_Oe",
    "scrolled": true
   },
   "outputs": [
    {
     "name": "stdout",
     "output_type": "stream",
     "text": [
      "[[11 12 13 14]\n",
      " [15 16 17 18]\n",
      " [19 20 21 22]]\n",
      "2\n",
      "(3, 4)\n",
      "int32\n"
     ]
    }
   ],
   "source": [
    "a = [[11, 12, 13, 14], [15, 16, 17, 18], [19, 20, 21, 22]]\n",
    "\n",
    "# 배열 만들기\n",
    "arr = np.array(a)\n",
    "\n",
    "# 확인\n",
    "print(arr)\n",
    "\n",
    "# 정보 확인\n",
    "print(arr.ndim)\n",
    "print(arr.shape)\n",
    "print(arr.dtype)\n",
    "\n"
   ]
  },
  {
   "cell_type": "markdown",
   "metadata": {
    "id": "T90fbLEsVqwV"
   },
   "source": [
    "### 2.2.3.Reshape\n",
    "\n",
    "- 배열을 사용할 때 다양한 형태(Shape)로 변환할 필요가 있습니다.\n",
    "- 배열에 포함된 **요소가 사라지지 않는 형태**라면 자유롭게 변환할 수 있습니다.\n",
    "- (3, 2) → (2, 3) → (1, 6) → (6, 1) 등등 요소 개수만 변하지 않으면 됩니다."
   ]
  },
  {
   "cell_type": "markdown",
   "metadata": {
    "id": "FsNVZV1AQUpA"
   },
   "source": [
    "<img src='https://raw.githubusercontent.com/jangrae/img/master/array4.png' width=550 align=\"left\"/>"
   ]
  },
  {
   "cell_type": "code",
   "execution_count": 54,
   "metadata": {
    "id": "75VTZ0vqVqwf"
   },
   "outputs": [
    {
     "name": "stdout",
     "output_type": "stream",
     "text": [
      "[[1 2 3]\n",
      " [4 5 6]]\n"
     ]
    }
   ],
   "source": [
    "# (2, 3) 형태의 2차원 배열 만들기\n",
    "a = np.array([[1, 2, 3],\n",
    "              [4, 5, 6]])\n",
    "\n",
    "# 확인\n",
    "print(a)"
   ]
  },
  {
   "cell_type": "markdown",
   "metadata": {
    "id": "foYfLnZaVqwf"
   },
   "source": [
    "**1) (2, 3) → (3, 2)**"
   ]
  },
  {
   "cell_type": "code",
   "execution_count": 65,
   "metadata": {
    "id": "4ZGXjZEKVqwj"
   },
   "outputs": [
    {
     "name": "stdout",
     "output_type": "stream",
     "text": [
      "[[1 2]\n",
      " [3 4]\n",
      " [5 6]]\n"
     ]
    }
   ],
   "source": [
    "# (3, 2) 형태의 2차원 배열로 Reshape numpy 라이브러리 사용\n",
    "\n",
    "#  np.reshape 는 다른 자료형도 변환시킬 수 있다\n",
    "b = np.reshape(a,(3,2))\n",
    "\n",
    "# 확인\n",
    "print(b)"
   ]
  },
  {
   "cell_type": "code",
   "execution_count": null,
   "metadata": {},
   "outputs": [],
   "source": [
    "# (3, 2) 형태의 2차원 배열로 Reshape\n",
    "# a 에만 적용 가능함 \n",
    "b = a.reshape(3,2)\n",
    "\n",
    "# 확인\n",
    "print(b)"
   ]
  },
  {
   "cell_type": "markdown",
   "metadata": {
    "id": "lDGU9KuXVqwk"
   },
   "source": [
    "**2) (2, 3) → (6,)**"
   ]
  },
  {
   "cell_type": "code",
   "execution_count": 61,
   "metadata": {
    "id": "2JY0g6WAVqwk"
   },
   "outputs": [
    {
     "name": "stdout",
     "output_type": "stream",
     "text": [
      "[1 2 3 4 5 6]\n"
     ]
    }
   ],
   "source": [
    "# 1차원 배열로 Reshape\n",
    "c = b.reshape(6,)\n",
    "\n",
    "# 확인\n",
    "print(c)"
   ]
  },
  {
   "cell_type": "markdown",
   "metadata": {
    "id": "pzyFKxilVqwm"
   },
   "source": [
    "**3) -1의 편리성**\n",
    "\n",
    "- **(*m*, -1)** 또는 **(-1, *n*)** 처럼 사용해 행 또는 열 크기 한 쪽만 지정할 수 있습니다."
   ]
  },
  {
   "cell_type": "code",
   "execution_count": null,
   "metadata": {
    "id": "rFyQiMDJVqwn"
   },
   "outputs": [],
   "source": [
    "# (2, 3) 형태의 2차원 배열 만들기\n",
    "a = np.array([[1, 2, 3],\n",
    "              [4, 5, 6]])\n",
    "\n",
    "# 확인\n",
    "print(a)"
   ]
  },
  {
   "cell_type": "code",
   "execution_count": 63,
   "metadata": {
    "id": "sCjMu_Dv3P7s"
   },
   "outputs": [
    {
     "name": "stdout",
     "output_type": "stream",
     "text": [
      "[[1 2 3 4 5 6]]\n",
      "[[1 2 3]\n",
      " [4 5 6]]\n",
      "[[1 2 3]\n",
      " [4 5 6]]\n",
      "[[1 2 3]\n",
      " [4 5 6]]\n",
      "[[1 2]\n",
      " [3 4]\n",
      " [5 6]]\n",
      "[[1 2 3]\n",
      " [4 5 6]]\n",
      "[[1]\n",
      " [2]\n",
      " [3]\n",
      " [4]\n",
      " [5]\n",
      " [6]]\n"
     ]
    }
   ],
   "source": [
    "# reshape(m, -1) 형태로 지정하여 Reshape 가능\n",
    "\n",
    "# ex 2522263365개 로구성된 리스트를 N x ? 로 만들고 싶음 , >> reshape(n , -1) 하면 단순계산끝 \n",
    "print(a.reshape(1, -1))\n",
    "print(a)\n",
    "\n",
    "print(a.reshape(2, -1))\n",
    "print(a)\n",
    "\n",
    "print(a.reshape(3, -1))\n",
    "print(a)\n",
    "\n",
    "#print(a.reshape(4, ?))\n",
    "#print(a.reshape(5, ?))\n",
    "\n",
    "print(a.reshape(6,-1))"
   ]
  },
  {
   "cell_type": "markdown",
   "metadata": {
    "id": "-hv9haY7DLyU"
   },
   "source": [
    "<img src='https://raw.githubusercontent.com/jangrae/img/master/practice_01.png' width=120 align=\"left\"/>"
   ]
  },
  {
   "cell_type": "markdown",
   "metadata": {
    "id": "rNl0nrGhN8Fn"
   },
   "source": [
    "[문1] 다음에 주어진 배열의 형태(shape)를 확인한 후 요구되는 형태로 바꿔 보세요."
   ]
  },
  {
   "cell_type": "code",
   "execution_count": 67,
   "metadata": {
    "id": "-fsZhQe8DLyf"
   },
   "outputs": [
    {
     "name": "stdout",
     "output_type": "stream",
     "text": [
      "(3, 4)\n",
      "[[11 12 13]\n",
      " [14 15 16]\n",
      " [17 18 19]\n",
      " [20 21 22]]\n",
      "[[11 12 13 14 15 16]\n",
      " [17 18 19 20 21 22]]\n"
     ]
    }
   ],
   "source": [
    "# 배열 만들기\n",
    "a = np.array([[11, 12, 13, 14],\n",
    "              [15, 16, 17, 18],\n",
    "              [19, 20, 21, 22]])\n",
    "\n",
    "# 배열 형태 확인\n",
    "print(a.shape)\n",
    "\n",
    "# (4, ?))형태의 2차원 배열 a1\n",
    "a1 = np.reshape(a,(4,-1))\n",
    "\n",
    "# 확인\n",
    "print(a1)\n",
    "\n",
    "# (2, ?) 형태의 2차원 배열 a2\n",
    "a1 = np.reshape(a,(2,-1))\n",
    "\n",
    "# 확인\n",
    "print(a1)"
   ]
  },
  {
   "cell_type": "markdown",
   "metadata": {
    "id": "TeXXnBpvVqxn"
   },
   "source": [
    "# 3.배열 인덱싱과 슬라이싱\n",
    "\n",
    "- 지금까지 다룬 자료형들 보다 배열 인덱싱과 슬라이싱이 조금 어렵습니다."
   ]
  },
  {
   "cell_type": "markdown",
   "metadata": {
    "id": "a0bmoimPogx6"
   },
   "source": [
    "### 3.1.인덱싱\n",
    "\n",
    "- 1차원 배열은 리스트와 방법이 같으므로 설명을 생략합니다.\n",
    "- **배열[행, 열]** 형태로 특정 위치의 요소를 조회합니다.\n",
    "- **배열[[행1,행2,..], :]** 또는 **배열[[행1,행2,..]]** 형태로 특정 행을 조회합니다.\n",
    "- **배열[:, [열1,열2,...]]** 형태로 특정 열을 조회합니다.\n",
    "- **배열[[행1,행2,...], [열1,열2,...]]** 형태로 특정 행의 특정 열을 조회합니다."
   ]
  },
  {
   "cell_type": "code",
   "execution_count": null,
   "metadata": {
    "id": "3pEA6dweogyY",
    "scrolled": true
   },
   "outputs": [],
   "source": [
    "# (3, 3) 형태의 2차원 배열 만들기\n",
    "a = np.array([[1, 2, 3],\n",
    "              [4, 5, 6],\n",
    "              [7, 8, 9]])\n",
    "\n",
    "# 확인\n",
    "print(a)"
   ]
  },
  {
   "cell_type": "markdown",
   "metadata": {
    "id": "NkzltkO3D1Ce"
   },
   "source": [
    "**1) 요소 조회**"
   ]
  },
  {
   "cell_type": "code",
   "execution_count": null,
   "metadata": {
    "id": "4o-IlSc_Vqx3",
    "scrolled": true
   },
   "outputs": [],
   "source": [
    "# 첫 번째 행, 두 번째 열 요소 조회\n",
    "print(a[0, 1])"
   ]
  },
  {
   "cell_type": "markdown",
   "metadata": {
    "id": "8T6dhlVWD3kF"
   },
   "source": [
    "**2) 행 조회**"
   ]
  },
  {
   "cell_type": "code",
   "execution_count": null,
   "metadata": {
    "id": "SVIgu5HIDwv-",
    "scrolled": true
   },
   "outputs": [],
   "source": [
    "# 첫 번째, 두 번째 행 조회\n",
    "# print(a[[0, 1], :])\n",
    "print(a[[0, 1]])"
   ]
  },
  {
   "cell_type": "code",
   "execution_count": null,
   "metadata": {
    "id": "5zK4ZWKFChlL",
    "scrolled": true
   },
   "outputs": [],
   "source": [
    "# 첫 번째, 두 번째, 세 번째 행 조회\n",
    "# print(a[[0, 1, 2], :])\n",
    "print(a[[0, 1, 2]])"
   ]
  },
  {
   "cell_type": "markdown",
   "metadata": {
    "id": "r4yxgfBaD9z0"
   },
   "source": [
    "**3) 열 조회**"
   ]
  },
  {
   "cell_type": "code",
   "execution_count": null,
   "metadata": {
    "id": "nHwy3_ZbCeBf"
   },
   "outputs": [],
   "source": [
    "# 첫 번째, 두 번째 열 조회\n",
    "print(a[:, [0, 1]])"
   ]
  },
  {
   "cell_type": "markdown",
   "metadata": {
    "id": "Qi3_faenVqx-"
   },
   "source": [
    "**4) 행, 열 조회**"
   ]
  },
  {
   "cell_type": "code",
   "execution_count": null,
   "metadata": {
    "id": "48FLikidVqx-",
    "scrolled": true
   },
   "outputs": [],
   "source": [
    "# 배열 확인\n",
    "print(a)"
   ]
  },
  {
   "cell_type": "code",
   "execution_count": null,
   "metadata": {
    "id": "WtxlnFlzogzm"
   },
   "outputs": [],
   "source": [
    "# 두 번째 행 두 번째 열의 요소 조회\n",
    "print(a[[1], [1]])"
   ]
  },
  {
   "cell_type": "code",
   "execution_count": null,
   "metadata": {
    "id": "NjWQiPULogzq"
   },
   "outputs": [],
   "source": [
    "# 세 번째 행 두 번째 열의 요소 조회\n",
    "print(a[[2], [1]])"
   ]
  },
  {
   "cell_type": "code",
   "execution_count": null,
   "metadata": {
    "id": "XMftV_T7Vqx_"
   },
   "outputs": [],
   "source": [
    "# 첫 번째 행 첫 번째 열, 두 번째 행 두 번째 열의 요소 조회\n",
    "print(a[[0, 1], [0, 1]])"
   ]
  },
  {
   "cell_type": "code",
   "execution_count": null,
   "metadata": {
    "id": "yDtvGSsAogz1"
   },
   "outputs": [],
   "source": [
    "# 첫 번째 행 첫 번째 열, 두 번째 행 두 번째 열, 세 번째 행 첫 번째 열의 요소 조회\n",
    "print(a[[0, 1, 2], [0, 1, 0]])"
   ]
  },
  {
   "cell_type": "markdown",
   "metadata": {
    "id": "VfJQXOS2ogz_"
   },
   "source": [
    "### 3.2.슬라이싱\n",
    "\n",
    "- **배열[행1:행N,열1:열N]** 형태로 지정해 그 위치의 요소를 조회합니다.\n",
    "- 조회 결과는 **2차원 배열**이 됩니다.\n",
    "- 마지막 **범위 값은 대상에 포함되지 않습니다.**\n",
    "- 즉, **배열[1:M, 2:N]** 이라면 1 ~ M-1행, 2 ~ N-1열이 조회 대상이 됩니다."
   ]
  },
  {
   "cell_type": "code",
   "execution_count": null,
   "metadata": {
    "id": "tQU7jXkMog0A",
    "scrolled": true
   },
   "outputs": [],
   "source": [
    "# (3, 3) 형태의 2차원 배열 만들기\n",
    "a = np.array([[1, 2, 3],\n",
    "              [4, 5, 6],\n",
    "              [7, 8, 9]])\n",
    "\n",
    "# 확인\n",
    "print(a)"
   ]
  },
  {
   "cell_type": "code",
   "execution_count": null,
   "metadata": {
    "id": "GQpT2IsVog0F"
   },
   "outputs": [],
   "source": [
    "# 첫 번째 ~ 두 번째 행 조회\n",
    "# print(a[0:2, :])\n",
    "print(a[0:2])"
   ]
  },
  {
   "cell_type": "code",
   "execution_count": null,
   "metadata": {
    "id": "IoYezZTJog0L"
   },
   "outputs": [],
   "source": [
    "# 첫 번째 행, 첫 번째 ~ 두 번째 열 조회\n",
    "print(a[0, 0:2])"
   ]
  },
  {
   "cell_type": "code",
   "execution_count": null,
   "metadata": {
    "id": "R7qsvTfdog0R"
   },
   "outputs": [],
   "source": [
    "# 첫 번째 ~ 세 번째 행, 두 번째 ~ 세 번째 열 조회\n",
    "print(a[0:3, 1:3])"
   ]
  },
  {
   "cell_type": "code",
   "execution_count": null,
   "metadata": {
    "id": "yyMWRXs6og0V"
   },
   "outputs": [],
   "source": [
    "# 두 번째 ~ 끝 행, 두 번째 ~ 끝 열 조회\n",
    "print(a[1:, 1:])"
   ]
  },
  {
   "cell_type": "markdown",
   "metadata": {
    "id": "gEHvSa8HQUpD"
   },
   "source": [
    "**[참고] 배열 인덱싱 & 슬라이싱**"
   ]
  },
  {
   "cell_type": "markdown",
   "metadata": {
    "id": "iQstVK_9QUpD"
   },
   "source": [
    "<img src='https://raw.githubusercontent.com/jangrae/img/master/array2.png' width=700 align = \"left\"/>"
   ]
  },
  {
   "cell_type": "markdown",
   "metadata": {
    "id": "XTXtDcxxVqxo"
   },
   "source": [
    "### 3.3.조건 조회\n",
    "\n",
    "- **조건에 맞는 요소를 선택**하는 방식이며, **불리안 방식**이라고 부릅니다.\n",
    "- 조회 결과는 **1차원 배열**이 됩니다."
   ]
  },
  {
   "cell_type": "code",
   "execution_count": 69,
   "metadata": {
    "id": "3gZ8CZCSVqxs",
    "scrolled": true
   },
   "outputs": [
    {
     "name": "stdout",
     "output_type": "stream",
     "text": [
      "[[78 91 84 89 93 65]\n",
      " [82 87 96 79 91 73]]\n"
     ]
    }
   ],
   "source": [
    "# 2차원 배열 만들기\n",
    "score= np.array([[78, 91, 84, 89, 93, 65],\n",
    "                 [82, 87, 96, 79, 91, 73]])\n",
    "\n",
    "# 확인\n",
    "print(score)"
   ]
  },
  {
   "cell_type": "markdown",
   "metadata": {
    "id": "MCGU0pTdG5Dk"
   },
   "source": [
    "- **배열[조건]** 형태로 해당 조건에 맞는 요소만 조회합니다."
   ]
  },
  {
   "cell_type": "code",
   "execution_count": 72,
   "metadata": {
    "id": "FvhaimHaog1b",
    "scrolled": true
   },
   "outputs": [
    {
     "name": "stdout",
     "output_type": "stream",
     "text": [
      "[91 93 96 91]\n"
     ]
    }
   ],
   "source": [
    "# 요소 중에서 90 이상인 것만 조회\n",
    "print(score[score>=90])"
   ]
  },
  {
   "cell_type": "markdown",
   "metadata": {
    "id": "6og_Q2FFH4bm"
   },
   "source": [
    "- 검색 조건을 변수로 선언해 사용할 수 있습니다."
   ]
  },
  {
   "cell_type": "code",
   "execution_count": 74,
   "metadata": {
    "id": "FAIsSW3qog1Q",
    "scrolled": true
   },
   "outputs": [
    {
     "name": "stdout",
     "output_type": "stream",
     "text": [
      "[91 93 96 91]\n"
     ]
    }
   ],
   "source": [
    "# 요소 중에서 90 이상인 것만 조회\n",
    "c = score>=90\n",
    "\n",
    "print(score[c])\n"
   ]
  },
  {
   "cell_type": "markdown",
   "metadata": {
    "id": "MNpMhuYd9Cgq"
   },
   "source": [
    "- 여러 조건을 **&** 와 **|** 로 연결하여 조회할 수 있습니다."
   ]
  },
  {
   "cell_type": "code",
   "execution_count": 82,
   "metadata": {
    "id": "VnpEJYUEog1j"
   },
   "outputs": [
    {
     "name": "stdout",
     "output_type": "stream",
     "text": [
      "[91 93 91]\n"
     ]
    }
   ],
   "source": [
    "# 모든 요소 중에서 90 이상 95 미만인 것만 조회\n",
    "c = (score>=90) & (score <95)\n",
    "\n",
    "print(score[c])\n"
   ]
  },
  {
   "cell_type": "markdown",
   "metadata": {
    "id": "V4SYoejWog1n"
   },
   "source": [
    "<img src='https://raw.githubusercontent.com/jangrae/img/master/practice_01.png' width=120 align = \"left\"/>"
   ]
  },
  {
   "cell_type": "markdown",
   "metadata": {
    "id": "gVnNqLBmog1o"
   },
   "source": [
    "[문1] 다음 배열에서 짝수만 추출해 보세요."
   ]
  },
  {
   "cell_type": "code",
   "execution_count": 76,
   "metadata": {
    "id": "QOp675xbUwMb"
   },
   "outputs": [
    {
     "name": "stdout",
     "output_type": "stream",
     "text": [
      "[[78 91 84 89 93 65]\n",
      " [82 87 96 79 91 73]]\n",
      "[78 84 82 96]\n"
     ]
    }
   ],
   "source": [
    "# 2차원 배열 만들기\n",
    "score= np.array([[78, 91, 84, 89, 93, 65],\n",
    "                 [82, 87, 96, 79, 91, 73]])\n",
    "\n",
    "# 확인\n",
    "print(score)\n",
    "\n",
    "# 짝수만 조회\n",
    "\n",
    "print( score [score %2 ==0])"
   ]
  },
  {
   "cell_type": "markdown",
   "metadata": {
    "id": "1E9DkwINVqy2"
   },
   "source": [
    "## 4.배열 연산\n",
    "\n",
    "- 배열 사이의 더하기, 빼기, 곱하기, 나누기 등은 이해하기 쉽습니다.\n",
    "- 하지만 행렬 곱, 행렬 합등의 연산은 약간의 수학적 지식이 필요합니다.\n",
    "- 행렬 연산은 선형 대수를 위한 것이므로 설명을 생략합니다."
   ]
  },
  {
   "cell_type": "markdown",
   "metadata": {
    "id": "EH_mGysdQUpD"
   },
   "source": [
    "**[참고] 배열 연산**"
   ]
  },
  {
   "cell_type": "markdown",
   "metadata": {
    "id": "pjxr55N2QUpD"
   },
   "source": [
    "<img src='https://raw.githubusercontent.com/jangrae/img/master/array3.png' width=600 align = \"left\"/>"
   ]
  },
  {
   "cell_type": "code",
   "execution_count": 86,
   "metadata": {
    "id": "c1XI1tZqVqy3"
   },
   "outputs": [
    {
     "name": "stdout",
     "output_type": "stream",
     "text": [
      "[[1 2]\n",
      " [3 4]]\n",
      "[[5 6]\n",
      " [7 8]]\n"
     ]
    }
   ],
   "source": [
    "# 두 개의 (2, 2) 형태의 2차원 배열 만들기\n",
    "x = np.array([[1, 2], [3, 4]])\n",
    "y = np.array([[5, 6], [7, 8]])\n",
    "\n",
    "# 확인\n",
    "print(x)\n",
    "print(y)"
   ]
  },
  {
   "cell_type": "markdown",
   "metadata": {
    "id": "E-ekP4S5uWQE"
   },
   "source": [
    "**1) 배열 더하기**\n",
    "\n",
    "- \\+ 또는 **dp.add()** 함수를 사용합니다."
   ]
  },
  {
   "cell_type": "code",
   "execution_count": 89,
   "metadata": {
    "id": "Wqiwa0LSVqy4"
   },
   "outputs": [
    {
     "name": "stdout",
     "output_type": "stream",
     "text": [
      "[[ 6  8]\n",
      " [10 12]]\n",
      "[[ 6  8]\n",
      " [10 12]]\n"
     ]
    }
   ],
   "source": [
    "# 배열 더하기\n",
    "print(x + y)\n",
    "\n",
    "# 또는\n",
    "print(np.add(x, y))"
   ]
  },
  {
   "cell_type": "markdown",
   "metadata": {
    "id": "00AMA90ouj59"
   },
   "source": [
    "**2) 배열 빼기**\n",
    "\n",
    "- \\- 또는 **np.subtract()** 함수를 사용합니다."
   ]
  },
  {
   "cell_type": "code",
   "execution_count": 92,
   "metadata": {
    "id": "1y0US63EVqy5"
   },
   "outputs": [
    {
     "name": "stdout",
     "output_type": "stream",
     "text": [
      "[[-4 -4]\n",
      " [-4 -4]]\n",
      "[[-4 -4]\n",
      " [-4 -4]]\n"
     ]
    }
   ],
   "source": [
    "# 배열 빼기\n",
    "print(x - y)\n",
    "\n",
    "# 또는\n",
    "print(np.subtract(x, y))"
   ]
  },
  {
   "cell_type": "markdown",
   "metadata": {
    "id": "xxXkVAzNuZ6n"
   },
   "source": [
    "**3) 배열 곱하기**\n",
    "\n",
    "- \\* 또는 **np.multiply()** 함수를 사용합니다."
   ]
  },
  {
   "cell_type": "code",
   "execution_count": 95,
   "metadata": {
    "id": "b6Vbf3qDVqy6"
   },
   "outputs": [
    {
     "name": "stdout",
     "output_type": "stream",
     "text": [
      "[[ 5 12]\n",
      " [21 32]]\n",
      "[[ 5 12]\n",
      " [21 32]]\n"
     ]
    }
   ],
   "source": [
    "# 배열 곱하기\n",
    "print(x * y)\n",
    "\n",
    "# 또는\n",
    "print(np.multiply(x, y))"
   ]
  },
  {
   "cell_type": "markdown",
   "metadata": {
    "id": "bB_Gr_AHucL4"
   },
   "source": [
    "**4) 배열 나누기**\n",
    "\n",
    "- \\/ 또는 **np.divide()** 함수를 사용합니다."
   ]
  },
  {
   "cell_type": "code",
   "execution_count": 98,
   "metadata": {
    "id": "bRTZEgBLVqy6"
   },
   "outputs": [
    {
     "name": "stdout",
     "output_type": "stream",
     "text": [
      "[[0.2        0.33333333]\n",
      " [0.42857143 0.5       ]]\n",
      "[[0.2        0.33333333]\n",
      " [0.42857143 0.5       ]]\n"
     ]
    }
   ],
   "source": [
    "# 배열 나누기\n",
    "print(x / y)\n",
    "\n",
    "# 또는\n",
    "print(np.divide(x, y))"
   ]
  },
  {
   "cell_type": "markdown",
   "metadata": {
    "id": "lx7YMmtBueZB"
   },
   "source": [
    "**5) 배열 제곱**\n",
    "\n",
    "- \\** 또는 **np.power()** 함수를 사용합니다."
   ]
  },
  {
   "cell_type": "code",
   "execution_count": 101,
   "metadata": {
    "id": "btaO6o1dVqy7"
   },
   "outputs": [
    {
     "name": "stdout",
     "output_type": "stream",
     "text": [
      "[[    1    64]\n",
      " [ 2187 65536]]\n",
      "[[    1    64]\n",
      " [ 2187 65536]]\n"
     ]
    }
   ],
   "source": [
    "# 배열 y 제곱\n",
    "print(x ** y)\n",
    "\n",
    "# 또는\n",
    "print(np.power(x, y))"
   ]
  },
  {
   "cell_type": "code",
   "execution_count": 103,
   "metadata": {
    "id": "PgmwzPNv-AQl"
   },
   "outputs": [
    {
     "name": "stdout",
     "output_type": "stream",
     "text": [
      "[[ 1  4]\n",
      " [ 9 16]]\n"
     ]
    }
   ],
   "source": [
    "# 배열 제곱\n",
    "print(x ** 2)"
   ]
  },
  {
   "cell_type": "code",
   "execution_count": null,
   "metadata": {},
   "outputs": [],
   "source": []
  },
  {
   "cell_type": "code",
   "execution_count": null,
   "metadata": {},
   "outputs": [],
   "source": []
  }
 ],
 "metadata": {
  "colab": {
   "provenance": []
  },
  "kernelspec": {
   "display_name": "Python 3 (ipykernel)",
   "language": "python",
   "name": "python3"
  },
  "language_info": {
   "codemirror_mode": {
    "name": "ipython",
    "version": 3
   },
   "file_extension": ".py",
   "mimetype": "text/x-python",
   "name": "python",
   "nbconvert_exporter": "python",
   "pygments_lexer": "ipython3",
   "version": "3.12.4"
  }
 },
 "nbformat": 4,
 "nbformat_minor": 4
}
