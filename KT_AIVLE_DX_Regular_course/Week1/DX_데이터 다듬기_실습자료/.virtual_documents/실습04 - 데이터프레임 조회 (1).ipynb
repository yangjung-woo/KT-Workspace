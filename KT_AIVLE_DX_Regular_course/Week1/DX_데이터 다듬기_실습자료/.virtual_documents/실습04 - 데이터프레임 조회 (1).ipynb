











import pandas as pd





path = 'https://raw.githubusercontent.com/Jangrae/csv/master/tips.csv'
tip = pd.read_csv(path)







# 열에서 어떤 값이 몇개 있는지 확인 : value_counts()
tip['day'].value_counts()






tip.loc[:,'total_bill']





tip.loc[:,['tip','total_bill']]





tip.loc[:,['tip','total_bill']].head(10)





total_mean = tip.loc[:,'total_bill'].mean()

total_mean





good =tip.loc[ (tip['total_bill'] >=45.0) & (tip['tip'] >=6.0)] 

good


good.reset_index(drop=True,inplace =True)

good





good2 =tip.loc[tip['total_bill'] >=total_mean ] 

good2



