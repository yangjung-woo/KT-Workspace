








# 라이브러리 불러오기
import numpy as np








# 리스트
a = [1, 2, 3, 4, 5, 6, 7, 8, 9]

# 2 곱하기?
a = a * 2

# 확인
print(a)





# 리스트
a = [1, 2, 3, 4, 5, 6, 7, 8, 9]

# 짝수만 표시...몰라요ㅜ.ㅜ
for i in a:
    if i %2 ==0:
        print(i,end=' ' )





# 배열
a = np.array([1, 2, 3, 4, 5, 6, 7, 8, 9])

# 확인
print(a)

# 2 곱하기
a *=2

# 확인
print(a)





# 배열
a = np.array([1, 2, 3, 4, 5, 6, 7, 8, 9])

# 확인
print(a)

# 짝수만 표시
























# 1차원 리스트
a1 = [1, 2, 3, 4, 5]

# 배열로 변환
b1 = np.array(a1)

# 확인
print(b1)





# 2차원 리스트
# a2 = [[1.5, 2.5, 3.2], [4.2, 5.7, 6.4]]
a2 = [[1.5, 2.5, 3.2],
      [4.2, 5.7, 6.4]]

# 배열로 변환
b2 = np.array(a2)

# 확인
print(b2)





# 3차원 리스트
# a3 = [[[1, 3, 1], [4, 7, 6], [8, 3, 4]], [[6, 2, 4], [8, 1, 5], [3, 5, 9]]]
a3 = [[[1, 3, 1],
       [4, 7, 6],
       [8, 3, 4]],
      [[6, 2, 4],
       [8, 1, 5],
       [3, 5, 9]]]

# 배열로 변환
b3 = np.array(a3)

# 확인
print(b3)
print(np.shape(b3))








# 차원 확인
print(b1.ndim)
print(b2.ndim)
print(b3.ndim)






# 형태(크기) 확인
print(b1.shape)
print(b2.shape)
print(b3.shape)





# 요소 자료형 형식 확인
print(b1.dtype)
print(b2.dtype)
print(b3.dtype)










# 라이브러리 불러오기
import numpy as np





# 10, 11, 12, 13, 14, 15

# 배열 만들기
arr = np.array([10,11,12,13,14,15])

# 확인
print(arr)

# 정보 확인
print(arr.ndim)
print(arr.shape)
print(arr.dtype)







a = [[11, 12, 13, 14], [15, 16, 17, 18], [19, 20, 21, 22]]

# 배열 만들기
arr = np.array(a)

# 확인
print(arr)

# 정보 확인
print(arr.ndim)
print(arr.shape)
print(arr.dtype)










# (2, 3) 형태의 2차원 배열 만들기
a = np.array([[1, 2, 3],
              [4, 5, 6]])

# 확인
print(a)





# (3, 2) 형태의 2차원 배열로 Reshape numpy 라이브러리 사용

#  np.reshape 는 다른 자료형도 변환시킬 수 있다
b = np.reshape(a,(3,2))

# 확인
print(b)


# (3, 2) 형태의 2차원 배열로 Reshape
# a 에만 적용 가능함 
b = a.reshape(3,2)

# 확인
print(b)





# 1차원 배열로 Reshape
c = b.reshape(6,)

# 확인
print(c)





# (2, 3) 형태의 2차원 배열 만들기
a = np.array([[1, 2, 3],
              [4, 5, 6]])

# 확인
print(a)


# reshape(m, -1) 형태로 지정하여 Reshape 가능

# ex 2522263365개 로구성된 리스트를 N x ? 로 만들고 싶음 , >> reshape(n , -1) 하면 단순계산끝 
print(a.reshape(1, -1))
print(a)

print(a.reshape(2, -1))
print(a)

print(a.reshape(3, -1))
print(a)

#print(a.reshape(4, ?))
#print(a.reshape(5, ?))

print(a.reshape(6,-1))








# 배열 만들기
a = np.array([[11, 12, 13, 14],
              [15, 16, 17, 18],
              [19, 20, 21, 22]])

# 배열 형태 확인
print(a.shape)

# (4, ?))형태의 2차원 배열 a1
a1 = np.reshape(a,(4,-1))

# 확인
print(a1)

# (2, ?) 형태의 2차원 배열 a2
a1 = np.reshape(a,(2,-1))

# 확인
print(a1)








# (3, 3) 형태의 2차원 배열 만들기
a = np.array([[1, 2, 3],
              [4, 5, 6],
              [7, 8, 9]])

# 확인
print(a)





# 첫 번째 행, 두 번째 열 요소 조회
print(a[0, 1])





# 첫 번째, 두 번째 행 조회
# print(a[[0, 1], :])
print(a[[0, 1]])


# 첫 번째, 두 번째, 세 번째 행 조회
# print(a[[0, 1, 2], :])
print(a[[0, 1, 2]])





# 첫 번째, 두 번째 열 조회
print(a[:, [0, 1]])





# 배열 확인
print(a)


# 두 번째 행 두 번째 열의 요소 조회
print(a[[1], [1]])


# 세 번째 행 두 번째 열의 요소 조회
print(a[[2], [1]])


# 첫 번째 행 첫 번째 열, 두 번째 행 두 번째 열의 요소 조회
print(a[[0, 1], [0, 1]])


# 첫 번째 행 첫 번째 열, 두 번째 행 두 번째 열, 세 번째 행 첫 번째 열의 요소 조회
print(a[[0, 1, 2], [0, 1, 0]])





# (3, 3) 형태의 2차원 배열 만들기
a = np.array([[1, 2, 3],
              [4, 5, 6],
              [7, 8, 9]])

# 확인
print(a)


# 첫 번째 ~ 두 번째 행 조회
# print(a[0:2, :])
print(a[0:2])


# 첫 번째 행, 첫 번째 ~ 두 번째 열 조회
print(a[0, 0:2])


# 첫 번째 ~ 세 번째 행, 두 번째 ~ 세 번째 열 조회
print(a[0:3, 1:3])


# 두 번째 ~ 끝 행, 두 번째 ~ 끝 열 조회
print(a[1:, 1:])











# 2차원 배열 만들기
score= np.array([[78, 91, 84, 89, 93, 65],
                 [82, 87, 96, 79, 91, 73]])

# 확인
print(score)





# 요소 중에서 90 이상인 것만 조회
print(score[score>=90])





# 요소 중에서 90 이상인 것만 조회
c = score>=90

print(score[c])






# 모든 요소 중에서 90 이상 95 미만인 것만 조회
c = (score>=90) & (score <95)

print(score[c])









# 2차원 배열 만들기
score= np.array([[78, 91, 84, 89, 93, 65],
                 [82, 87, 96, 79, 91, 73]])

# 확인
print(score)

# 짝수만 조회

print( score [score %2 ==0])











# 두 개의 (2, 2) 형태의 2차원 배열 만들기
x = np.array([[1, 2], [3, 4]])
y = np.array([[5, 6], [7, 8]])

# 확인
print(x)
print(y)





# 배열 더하기
print(x + y)

# 또는
print(np.add(x, y))





# 배열 빼기
print(x - y)

# 또는
print(np.subtract(x, y))





# 배열 곱하기
print(x * y)

# 또는
print(np.multiply(x, y))





# 배열 나누기
print(x / y)

# 또는
print(np.divide(x, y))





# 배열 y 제곱
print(x ** y)

# 또는
print(np.power(x, y))


# 배열 제곱
print(x ** 2)






