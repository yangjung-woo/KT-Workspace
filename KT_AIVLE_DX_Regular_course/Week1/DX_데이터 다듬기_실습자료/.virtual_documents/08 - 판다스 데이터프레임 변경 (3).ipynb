





# 라이브러리 불러오기
import pandas as pd
import numpy as np
import seaborn as sns
import matplotlib.pyplot as plt














# 결측치 자료형 확인 
type()


# 서울 인구정보 읽어오기 #1
path = 'https://raw.githubusercontent.com/Jangrae/csv/master/seoul_pop_h01.csv'
pop01 = pd.read_csv(path, index_col='year')
pop01.index.name = None

# 확인
pop01 # 1981년 ~ 2022년 한국인 수


# 서울 인구정보 읽어오기 #2
path = 'https://raw.githubusercontent.com/Jangrae/csv/master/seoul_pop_h02.csv'
pop02 = pd.read_csv(path, index_col='year')
pop02.index.name = None

# 확인
pop02# 1985년 ~ 2022년 외국인  수





# 모든 열 합치기
pop = pd.concat([pop01,pop02], join = 'outer' , axis = 1)

# 확인 1981~ 1984년 외국인 데이터가 없기 때문에 outer join 시 결측치로 표현됨 
pop.head(10)





# 모든 열 합치기
pop = pd.concat([pop01,pop02], join = 'inner' , axis = 1)

# 확인
pop.head(10)











# 서울 인구정보 읽어오기 #1
path = 'https://raw.githubusercontent.com/Jangrae/csv/master/seoul_pop_v01.csv'
pop01 = pd.read_csv(path)

# 확인
pop01.head()


# 서울 인구정보 읽어오기 #2
path = 'https://raw.githubusercontent.com/Jangrae/csv/master/seoul_pop_v02.csv'
pop02 = pd.read_csv(path)

# 확인
pop02.head(10)





# 모든 행 합치기
pop =  pd.concat([pop01,pop02], join = 'inner' , axis = 0)

# 확인
pop





# 인덱스 초기화
pop.reset_index(drop=True , inplace = True)

# 확인
pop





# 라이브러리 불러오기
import matplotlib.pyplot as plt

# 시각화
plt.plot(pop['year'], pop['k_male'])
plt.show()





# 시각화
plt.plot(pop['year'], pop[['k_male', 'k_female']])
plt.legend(['k_male', 'k_female'])
plt.show()


# 시각화 외국인 
plt.plot(pop['year'], pop[['f_male', 'f_female']])
plt.legend(['f_male', 'f_female'])
plt.show()











# 서울 인구정보 읽어오기 #1
path = 'https://raw.githubusercontent.com/Jangrae/csv/master/seoul_pop_h01.csv'
pop01 = pd.read_csv(path)

# 확인
pop01.head(10)


# 서울 인구정보 읽어오기 #2
path = 'https://raw.githubusercontent.com/Jangrae/csv/master/seoul_pop_h02.csv'
pop02 = pd.read_csv(path)

# 확인
pop02.head(10)





# 조인
pop =

# 확인
pop.head(10)





# 조인
pop =

# 확인
pop.head(10)
