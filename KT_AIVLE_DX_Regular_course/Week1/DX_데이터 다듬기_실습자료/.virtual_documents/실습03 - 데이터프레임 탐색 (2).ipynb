











import pandas as pd








graduate = pd.read_csv('https://raw.githubusercontent.com/Jangrae/csv/master/Graduate_apply.csv')







graduate.head(10)





graduate.shape # 400r행 , 4열





graduate.info()





graduate.describe()





graduate['rank'].unique()


graduate['rank'].value_counts()





print (graduate['gre'].mean(),graduate['gpa'].mean())





graduate.sort_values(by ='gre', ascending = True , inplace= True)

graduate





tmp = graduate.sort_values(by =['rank','gpa'], ascending = False )

tmp.head()


tmp =tmp.reset_index(drop = True)

tmp



