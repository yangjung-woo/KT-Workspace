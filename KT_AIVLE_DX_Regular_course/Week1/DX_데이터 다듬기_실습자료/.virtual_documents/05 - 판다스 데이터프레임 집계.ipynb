





# 라이브러리 불러오기



# 데이터 읽어오기
path = 'https://raw.githubusercontent.com/Jangrae/csv/master/tips.csv'
tip =

# 확인


















# total_bill 합계



# total_bill, tip 각각의 합계






# day별 tip 합계 --> 시리즈






# day별 tip 합계 --> 데이터프레임






# day별 tip 합계 --> 데이터프레임






# day별 tip 합계 조회
tip_sum =

# 확인
tip_sum





# 라이브러리 불러오기


# day 별 tip 비교 시각화







# day 별 tip 비교 시각화







# tip 변경 추이 시각화




# tip, total_bill 변경 추이 시각화








# tip 분포 시각화




# total_bill 분포 시각화







# day별 total_bill, tip 합계 조회


# 확인






# day별 나머지 열들 합계 조회
tip_sum =

# 확인
tip_sum





# day + smoker별 나머지 열들 합계 조회
tip_sum =

# 확인
tip_sum








# day별 tip 평균
tip_mean =

# 확인
tip_mean


# day + sex 별 나머지 모든 열 평균
tip_mean =

# 확인
tip_mean





# day별 tip 최댓값
tip_max =

# 확인
tip_max


# day별 tip 최솟값
tip_min =

# 확인
tip_min
