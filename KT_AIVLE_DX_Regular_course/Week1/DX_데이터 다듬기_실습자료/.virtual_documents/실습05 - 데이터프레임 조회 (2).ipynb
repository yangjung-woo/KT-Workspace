











import pandas as pd 





graduate = pd.read_csv('https://raw.githubusercontent.com/Jangrae/csv/master/Graduate_apply.csv')

graduate.head()





graduate['rank'].value_counts()





graduate.loc[:,'rank']





graduate.loc[:,['gre','gpa']]





graduate.loc[:,['gre','gpa']].head(10)





gre_mean = graduate.loc[:,'gre'].mean()

gre_mean






g1 = graduate.loc[graduate['gre'] >= 800]

g1


g2 = g1.loc[graduate['gpa'] >= 4.0]

g2


g2.reset_index(drop=True , inplace = True)
g2






g3 = graduate.loc[(graduate['gre'] >= gre_mean )& (graduate['rank']== 4)]

g3.head()


g3.reset_index(drop=True , inplace = True)
g3


g3['gpa'].plot(kind ='hist')



