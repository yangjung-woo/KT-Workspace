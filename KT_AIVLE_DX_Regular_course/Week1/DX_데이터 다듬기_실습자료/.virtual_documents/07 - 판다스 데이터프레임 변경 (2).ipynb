





# 라이브러리 불러오기
import pandas as pd

import numpy as np














# 데이터 읽어오기
path = 'https://raw.githubusercontent.com/Jangrae/csv/master/airquality.csv'
air = pd.read_csv(path)

# 확인
air.head()








# 값 개수로 결측치 존재 여부 확인
air.info()  # 총 153개중 결측치가 없는 개수 116 , 146 즉 Ozone .Solar.R 은 결측치를 포함하고 있다 





# 전체 데이터 중에서 결측치는 True로 표시
air.isnull()


# 전체 데이터 중에서 결측치는 False로 표시
air.notnull()





# 열의 결측치 개수 확인
air.isnull().sum()


# 열의 결측치 비율을 확인 
air.isnull().sum()/len(air) *100


# 시각화 
air.isnull().sum().plot(kind = 'bar')











# 데이터프레임 복사
air_test = air.copy()

# 열의 결측치 개수 확인
air_test.isnull().sum()


# 결측치가 하나라도 있는 행 제거
air_test.dropna(inplace = True ,axis = 0 )

# 확인
air_test.isna().sum()








# 데이터프레임 복사
air_test = air.copy()

# Ozone 열이 결측치인 행 제거
air_test.dropna(subset =['Ozone'], inplace = True ,axis = 0 )

# 확인
air_test.isna().sum()








# 데이터프레임 복사
air_test = air.copy()

# 결측치가 있는 열 제거
air_test.dropna(inplace = True ,axis = 1 )

# 확인
air_test.isna().sum()








# 데이터프레임 복사
air_test = air.copy()

# Ozone 평균 구하기
mean_Ozone = air_test['Ozone'].mean()

# 결측치를 평균값으로 채우기
air_test['Ozone'].fillna(mean_Ozone, inplace = True)

# 확인
air_test.isna().sum()





# 데이터프레임 복사
air_test = air.copy()
# Solar.R 열의 누락된 값을 0으로 채우기
air_test['Solar.R'].fillna(0, inplace = True)
#air_test['Solar.R']= air_test['Solar.R'].fillna(0) # No Warnning 
# 확인
air_test.isna().sum()








# 데이터프레임 복사
air_test = air.copy()

# 결측치 확인
air_test.isna().sum()


# Ozone 열의 누락된 값을 바로 앞의 값으로 채우기
air_test['Ozone'] = air_test['Ozone'].fillna(method='ffill')

# Solar.R 열의 누락된 값을 바로 뒤의 값으로 채우기
air_test['Solar.R'] = air_test['Solar.R'].fillna(method='bfill')

# 확인
air_test.isna().sum()








# 데이터프레임 복사
air_test = air.copy()

# 선형보간법으로 채우기
air_test.interpolate(methon = 'linear'inplace = True )


# 확인
air_test.isna().sum()








# 데이터 읽어오기
path = 'https://raw.githubusercontent.com/jangrae/csv/master/tips.csv'
tip = pd.read_csv(path)

# 확인
tip.head()





# 열 확인
tip.columns











# 가변수화: sex
dummy_cols = ['sex']
tip = pd.get_dummies(tip, columns = dummy_cols ,drop_first = False , dtype = int)

# 확인
tip.head()





# 여러 범주형 변수를 가변수화: smoker, day, time

dummy_cols = ['smoker','day','time']
tip = pd.get_dummies(tip, columns = dummy_cols ,drop_first = False , dtype = int)

# 확인
tip.head()



