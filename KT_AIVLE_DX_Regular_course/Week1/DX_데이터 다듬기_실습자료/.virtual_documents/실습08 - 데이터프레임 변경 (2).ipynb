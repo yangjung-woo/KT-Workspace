











#1-1 
import pandas as pd
#1 -2
path = 'https://raw.githubusercontent.com/Jangrae/csv/master/titanic.csv'
titanic = pd.read_csv(path)

# 1- 3 
drop_cols = ['PassengerId', 'Name','Ticket', 'Cabin']
titanic.drop(columns = drop_cols,inplace = True)





titanic.head(5)





titanic.isnull().sum()


#3-1
age_mean = titanic['Age'].mean()
titanic['Age'] = titanic['Age'].fillna(age_mean)

# 3-2
titanic['Embarked'] = titanic['Embarked'].fillna('S')

# 3 -3
titanic.isnull().sum()







#4-1
tmp = titanic.groupby(by = 'Pclass', as_index =False)[['Survived']].sum()
tmp

# 4-2
tmp.rename(columns= {'Survived':'Count'},inplace= True)
tmp

# 4 - 3
import matplotlib.pyplot as plt

plt.bar(x=tmp['Pclass'].astype(str), height= tmp['Count'])
plt.xlabel('Pclass Group')
plt.ylabel('Survived count')
plt.show()





# 가변수화
dumm_cols =['Pclass', 'Sex', 'Embarked']
titanic = pd.get_dummies(titanic, columns=dumm_cols, drop_first=True, dtype=int)

# 확인
titanic.head()
