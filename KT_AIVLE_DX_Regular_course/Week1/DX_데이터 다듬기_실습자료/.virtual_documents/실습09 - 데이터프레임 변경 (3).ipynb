











import pandas as pd

path = 'https://raw.githubusercontent.com/Jangrae/csv/master/airquality.csv'

air = pd.read_csv(path)





air.head(5)





air.isnull().sum()





#4-1
drop_cols = ['Month','Day']
air.drop(columns = drop_cols , inplace = True)
#4-2
air['Ozone']=air['Ozone'].fillna(method = 'ffill')
air['Solar.R']=air['Solar.R'].fillna(method = 'ffill')

#4-3
air.isnull().sum()









import numpy as np
# 5-1

air['Temp'].describe()
q1= air['Temp'].describe()['25%']
q2= air['Temp'].describe()['50%']
q3= air['Temp'].describe()['75%']

#5-2
bin = [-np.inf,q1,q2,q3,np.inf]
label = list('abcd')
air['TempGrp'] = pd.cut(air['Temp'], bins =bin , labels =label )

# 5-3 
tmp =air.groupby(by = 'TempGrp' , as_index = False, observed = False )['Temp'].mean()
# observed = False   그룹화 할 경우 그룹퍼에 의해 관찰된 값만 표시할지 여부
# observed = True: 관찰된 값 들만 표기 / observed = False 관찰되지 않은 값들도 표기   (ex NaN 도 표기 )

# 5-4 
import matplotlib.pyplot as plt

plt.bar(x=tmp['TempGrp'], height= tmp['Temp'])
plt.xlabel('Temp Group')
plt.ylabel('Temprture')
plt.show()


tmp



