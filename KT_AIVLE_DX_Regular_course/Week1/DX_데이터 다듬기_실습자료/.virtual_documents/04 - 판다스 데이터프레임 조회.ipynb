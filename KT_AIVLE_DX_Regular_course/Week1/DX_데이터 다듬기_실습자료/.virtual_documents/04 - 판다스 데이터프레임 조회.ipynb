





# 라이브러리 불러오기
import pandas as pd
import numpy as np
import seaborn as sns
import matplotlib.pyplot as plt





# 데이터 읽어오기
path = 'https://raw.githubusercontent.com/Jangrae/csv/master/tips.csv'
tip = pd.read_csv(path)

# 확인
tip.head()


# 튜플 형태로 행수, 열수 확인 
tip.shape


# 열 이름 , 데이터형식 , 데이터 갯수 , 등 한번에 확인

tip.info()


# 기술통계 
tip.describe().T





tip.head()


# total_bill 열 조회
# tip.loc[행 , 열]

tip.loc[:, 'total_bill'] # 반드시 행 ,열 표기  , 
# 데이터 타입은 시리즈 


# tip, total_bill 열 조회
tip.loc[:, ['tip','total_bill']] # 반드시 행 ,열 표기








# 상위 5개 행 조회
tip.head()


# tip 열만 조회
tip.loc[:,'tip']


# tip, day, time 열만 조회
tip.loc[:,['tip','day','time']]


# tip, day, time 열만 tip 열 기준으로 내림차순 정렬해서 조회
tip.loc[:,['tip','day','time']].sort_values(by= ['tip'] , ascending = False).head(10)





# sex ~ time 열 조회
tip.loc[:,'sex':'time']


# iloc 와 loc 차이 

# iloc는 파이썬 리스트 슬라이싱을 준수한 조건문이다 

#print(tip.loc[:,2:3]) # index 가 아닌 컬럼명으로만 조회 가능 

print(tip.iloc[:,2:3])



tip2 = tip[5:15]
tip2


tip2.loc[1,:] # loc 는 눈에 보이는 index 값을 기준으로 찾는다   5~ 14 index 만 있으므로 조회 불가 (Key Error)


# 첫번째 행 조회
tip2.iloc[[0],:]








# tip 열 값이 6.0 보다 큰 행 조회
tip.loc[tip['tip']> 6.0 ]






# tip 열 값이 6.0 보다 큰 행 조회
condition =  tip['tip']> 6.0 

tip.loc[condition ]






# and로 여러 조건 연결 (tip > 6.0 and day == Sat)
tip.loc[(tip['tip'] > 6.0) & (tip['day'] == 'Sat')]


# or로 여러 조건 연결 (tip > 6.0 or day == Sat)
tip.loc[(tip['tip'] > 6.0) | (tip['day'] == 'Sat')]





# 값 나열 (day가 Sat 또는 Sun)
# 조건문 여러개를 만들지 않아도 됌 

tip.loc[tip['day'].isin(['Sat','Sun'])]





# or 조건
tip.loc[(tip['day'] == 'Sat') | (tip['day'] == 'Sun')]





# 범위 지정 ( 1 <= size <= 3)
tip.loc[tip['size'].between(1,3)]





# and 조건
tip.loc[(tip['size'] >= 1) & (tip['size'] <= 3)]





# 조건에 맞는 하나의 열 조회
tip.loc[tip['size'] >= 5, ['tip']]


# 조건에 맞는 여러 열 조회
tip.loc[tip['size'] >= 5, ['total_bill', 'tip', 'size']]














# tip 열이 6 이상인 행 축출
good = tip.loc[tip['tip'] >= 6,:]

# 확인
good





# 인덱스 초기화

good.reset_index(drop=True , inplace = True )
# 확인

good



