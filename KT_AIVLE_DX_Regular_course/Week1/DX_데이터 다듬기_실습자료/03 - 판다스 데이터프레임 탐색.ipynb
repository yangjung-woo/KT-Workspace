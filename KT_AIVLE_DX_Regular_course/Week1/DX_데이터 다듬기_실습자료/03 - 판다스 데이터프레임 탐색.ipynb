{
 "cells": [
  {
   "cell_type": "markdown",
   "metadata": {
    "id": "BFhIXgdYoYGp"
   },
   "source": [
    "<center><img src='https://raw.githubusercontent.com/Jangrae/img/master/title.png' width=500/></center>"
   ]
  },
  {
   "cell_type": "markdown",
   "metadata": {
    "id": "-sdzPN0Uwxi2"
   },
   "source": [
    "# 2.데이터프레임 탐색\n",
    "\n",
    "- 데이터프레임 탐색은 **데이터프레임**의 **키**와 **몸무게**를 재는 것이라 할 수 있습니다.\n",
    "- 파일에서 불러온 데이터의 크기, 내용, 분포, 누락된 값 등을 확인할 수 있어야 합니다.\n",
    "- 확인된 내용을 통해 데이터 전처리 필요 여부를 결정합니다.\n",
    "- 데이터를 알아야 데이터를 분석할 수 있습니다."
   ]
  },
  {
   "cell_type": "code",
   "execution_count": 4,
   "metadata": {
    "id": "siCMN2lzSelq"
   },
   "outputs": [],
   "source": [
    "# 라이브러리 불러오기\n",
    "import pandas as pd\n",
    "import numpy as np\n",
    "import seaborn as sns"
   ]
  },
  {
   "cell_type": "code",
   "execution_count": 8,
   "metadata": {
    "id": "i-hbJbQnH_tC"
   },
   "outputs": [
    {
     "data": {
      "text/html": [
       "<div>\n",
       "<style scoped>\n",
       "    .dataframe tbody tr th:only-of-type {\n",
       "        vertical-align: middle;\n",
       "    }\n",
       "\n",
       "    .dataframe tbody tr th {\n",
       "        vertical-align: top;\n",
       "    }\n",
       "\n",
       "    .dataframe thead th {\n",
       "        text-align: right;\n",
       "    }\n",
       "</style>\n",
       "<table border=\"1\" class=\"dataframe\">\n",
       "  <thead>\n",
       "    <tr style=\"text-align: right;\">\n",
       "      <th></th>\n",
       "      <th>total_bill</th>\n",
       "      <th>tip</th>\n",
       "      <th>sex</th>\n",
       "      <th>smoker</th>\n",
       "      <th>day</th>\n",
       "      <th>time</th>\n",
       "      <th>size</th>\n",
       "    </tr>\n",
       "  </thead>\n",
       "  <tbody>\n",
       "    <tr>\n",
       "      <th>0</th>\n",
       "      <td>16.99</td>\n",
       "      <td>1.01</td>\n",
       "      <td>Female</td>\n",
       "      <td>No</td>\n",
       "      <td>Sun</td>\n",
       "      <td>Dinner</td>\n",
       "      <td>2</td>\n",
       "    </tr>\n",
       "    <tr>\n",
       "      <th>1</th>\n",
       "      <td>10.34</td>\n",
       "      <td>1.66</td>\n",
       "      <td>Male</td>\n",
       "      <td>No</td>\n",
       "      <td>Sun</td>\n",
       "      <td>Dinner</td>\n",
       "      <td>3</td>\n",
       "    </tr>\n",
       "    <tr>\n",
       "      <th>2</th>\n",
       "      <td>21.01</td>\n",
       "      <td>3.50</td>\n",
       "      <td>Male</td>\n",
       "      <td>No</td>\n",
       "      <td>Sun</td>\n",
       "      <td>Dinner</td>\n",
       "      <td>3</td>\n",
       "    </tr>\n",
       "    <tr>\n",
       "      <th>3</th>\n",
       "      <td>23.68</td>\n",
       "      <td>3.31</td>\n",
       "      <td>Male</td>\n",
       "      <td>No</td>\n",
       "      <td>Sun</td>\n",
       "      <td>Dinner</td>\n",
       "      <td>2</td>\n",
       "    </tr>\n",
       "    <tr>\n",
       "      <th>4</th>\n",
       "      <td>24.59</td>\n",
       "      <td>3.61</td>\n",
       "      <td>Female</td>\n",
       "      <td>No</td>\n",
       "      <td>Sun</td>\n",
       "      <td>Dinner</td>\n",
       "      <td>4</td>\n",
       "    </tr>\n",
       "  </tbody>\n",
       "</table>\n",
       "</div>"
      ],
      "text/plain": [
       "   total_bill   tip     sex smoker  day    time  size\n",
       "0       16.99  1.01  Female     No  Sun  Dinner     2\n",
       "1       10.34  1.66    Male     No  Sun  Dinner     3\n",
       "2       21.01  3.50    Male     No  Sun  Dinner     3\n",
       "3       23.68  3.31    Male     No  Sun  Dinner     2\n",
       "4       24.59  3.61  Female     No  Sun  Dinner     4"
      ]
     },
     "execution_count": 8,
     "metadata": {},
     "output_type": "execute_result"
    }
   ],
   "source": [
    "# 데이터 읽어오기\n",
    "path = 'https://raw.githubusercontent.com/Jangrae/csv/master/tips.csv'\n",
    "tip = pd.read_csv(path)\n",
    "\n",
    "tip.head()"
   ]
  },
  {
   "cell_type": "markdown",
   "metadata": {
    "id": "tBiPJrpmJ7Ys"
   },
   "source": [
    "**[tips 데이터 셋 정보]**\n",
    "\n",
    "- total_bill: 금액\n",
    "- tip: 팁\n",
    "- sex: 성별(Male, Female)\n",
    "- smoker: 흡연 여부(Yes. No)\n",
    "- day: 요일([Thur, Fri, Sat, Sun)\n",
    "- time: 시간(Dinner, Lunch)\n",
    "- size: 고객 수"
   ]
  },
  {
   "cell_type": "markdown",
   "metadata": {
    "id": "pYIMdO6BeBaH"
   },
   "source": [
    "**[참고] 우선 익숙해져야 할 것들**\n",
    "\n",
    "- head(): 상위 데이터 확인\n",
    "- tail(): 하위 데이터 확인\n",
    "- shape: 데이터프레임 크기\n",
    "- index: 인덱스 정보 확인\n",
    "- values: 값 정보 확인\n",
    "- columns: 열 정보 확인\n",
    "- dtypes: 열 자료형 확인\n",
    "- info(): 열에 대한 상세한 정보 확인\n",
    "- describe(): 기술통계정보 확인"
   ]
  },
  {
   "cell_type": "markdown",
   "metadata": {
    "id": "hbfAmuE90-ht"
   },
   "source": [
    "<img src='https://raw.githubusercontent.com/jangrae/img/master/eda.png' width=700 align=\"left\"/>"
   ]
  },
  {
   "cell_type": "markdown",
   "metadata": {
    "id": "ut-2PJEa3ES4"
   },
   "source": [
    "## 2.1.앞, 뒤 일부 데이터, 크기 확인\n",
    "\n",
    "- **head(*n*), tail(*n*)** 메서드를 사용해 앞 뒤 데이터를 확인합니다.\n",
    "- 개수를 지정하지 않으면 기본적으로 5개 행이 조회됩니다."
   ]
  },
  {
   "cell_type": "markdown",
   "metadata": {
    "id": "xifu7T7TsCYu"
   },
   "source": [
    "**1) 상위 데이터 확인**"
   ]
  },
  {
   "cell_type": "code",
   "execution_count": 10,
   "metadata": {
    "id": "TVoWootyIJPU",
    "scrolled": true
   },
   "outputs": [
    {
     "data": {
      "text/html": [
       "<div>\n",
       "<style scoped>\n",
       "    .dataframe tbody tr th:only-of-type {\n",
       "        vertical-align: middle;\n",
       "    }\n",
       "\n",
       "    .dataframe tbody tr th {\n",
       "        vertical-align: top;\n",
       "    }\n",
       "\n",
       "    .dataframe thead th {\n",
       "        text-align: right;\n",
       "    }\n",
       "</style>\n",
       "<table border=\"1\" class=\"dataframe\">\n",
       "  <thead>\n",
       "    <tr style=\"text-align: right;\">\n",
       "      <th></th>\n",
       "      <th>total_bill</th>\n",
       "      <th>tip</th>\n",
       "      <th>sex</th>\n",
       "      <th>smoker</th>\n",
       "      <th>day</th>\n",
       "      <th>time</th>\n",
       "      <th>size</th>\n",
       "    </tr>\n",
       "  </thead>\n",
       "  <tbody>\n",
       "    <tr>\n",
       "      <th>0</th>\n",
       "      <td>16.99</td>\n",
       "      <td>1.01</td>\n",
       "      <td>Female</td>\n",
       "      <td>No</td>\n",
       "      <td>Sun</td>\n",
       "      <td>Dinner</td>\n",
       "      <td>2</td>\n",
       "    </tr>\n",
       "    <tr>\n",
       "      <th>1</th>\n",
       "      <td>10.34</td>\n",
       "      <td>1.66</td>\n",
       "      <td>Male</td>\n",
       "      <td>No</td>\n",
       "      <td>Sun</td>\n",
       "      <td>Dinner</td>\n",
       "      <td>3</td>\n",
       "    </tr>\n",
       "    <tr>\n",
       "      <th>2</th>\n",
       "      <td>21.01</td>\n",
       "      <td>3.50</td>\n",
       "      <td>Male</td>\n",
       "      <td>No</td>\n",
       "      <td>Sun</td>\n",
       "      <td>Dinner</td>\n",
       "      <td>3</td>\n",
       "    </tr>\n",
       "    <tr>\n",
       "      <th>3</th>\n",
       "      <td>23.68</td>\n",
       "      <td>3.31</td>\n",
       "      <td>Male</td>\n",
       "      <td>No</td>\n",
       "      <td>Sun</td>\n",
       "      <td>Dinner</td>\n",
       "      <td>2</td>\n",
       "    </tr>\n",
       "    <tr>\n",
       "      <th>4</th>\n",
       "      <td>24.59</td>\n",
       "      <td>3.61</td>\n",
       "      <td>Female</td>\n",
       "      <td>No</td>\n",
       "      <td>Sun</td>\n",
       "      <td>Dinner</td>\n",
       "      <td>4</td>\n",
       "    </tr>\n",
       "    <tr>\n",
       "      <th>5</th>\n",
       "      <td>25.29</td>\n",
       "      <td>4.71</td>\n",
       "      <td>Male</td>\n",
       "      <td>No</td>\n",
       "      <td>Sun</td>\n",
       "      <td>Dinner</td>\n",
       "      <td>4</td>\n",
       "    </tr>\n",
       "    <tr>\n",
       "      <th>6</th>\n",
       "      <td>8.77</td>\n",
       "      <td>2.00</td>\n",
       "      <td>Male</td>\n",
       "      <td>No</td>\n",
       "      <td>Sun</td>\n",
       "      <td>Dinner</td>\n",
       "      <td>2</td>\n",
       "    </tr>\n",
       "    <tr>\n",
       "      <th>7</th>\n",
       "      <td>26.88</td>\n",
       "      <td>3.12</td>\n",
       "      <td>Male</td>\n",
       "      <td>No</td>\n",
       "      <td>Sun</td>\n",
       "      <td>Dinner</td>\n",
       "      <td>4</td>\n",
       "    </tr>\n",
       "    <tr>\n",
       "      <th>8</th>\n",
       "      <td>15.04</td>\n",
       "      <td>1.96</td>\n",
       "      <td>Male</td>\n",
       "      <td>No</td>\n",
       "      <td>Sun</td>\n",
       "      <td>Dinner</td>\n",
       "      <td>2</td>\n",
       "    </tr>\n",
       "    <tr>\n",
       "      <th>9</th>\n",
       "      <td>14.78</td>\n",
       "      <td>3.23</td>\n",
       "      <td>Male</td>\n",
       "      <td>No</td>\n",
       "      <td>Sun</td>\n",
       "      <td>Dinner</td>\n",
       "      <td>2</td>\n",
       "    </tr>\n",
       "  </tbody>\n",
       "</table>\n",
       "</div>"
      ],
      "text/plain": [
       "   total_bill   tip     sex smoker  day    time  size\n",
       "0       16.99  1.01  Female     No  Sun  Dinner     2\n",
       "1       10.34  1.66    Male     No  Sun  Dinner     3\n",
       "2       21.01  3.50    Male     No  Sun  Dinner     3\n",
       "3       23.68  3.31    Male     No  Sun  Dinner     2\n",
       "4       24.59  3.61  Female     No  Sun  Dinner     4\n",
       "5       25.29  4.71    Male     No  Sun  Dinner     4\n",
       "6        8.77  2.00    Male     No  Sun  Dinner     2\n",
       "7       26.88  3.12    Male     No  Sun  Dinner     4\n",
       "8       15.04  1.96    Male     No  Sun  Dinner     2\n",
       "9       14.78  3.23    Male     No  Sun  Dinner     2"
      ]
     },
     "execution_count": 10,
     "metadata": {},
     "output_type": "execute_result"
    }
   ],
   "source": [
    "# 상위 10개 행 데이터\n",
    "tip.head(10)"
   ]
  },
  {
   "cell_type": "markdown",
   "metadata": {
    "id": "-vHvSJQhsFht"
   },
   "source": [
    "**2) 하위 데이터 확인**"
   ]
  },
  {
   "cell_type": "code",
   "execution_count": 12,
   "metadata": {
    "id": "-Qr9hq-SsV70"
   },
   "outputs": [
    {
     "data": {
      "text/html": [
       "<div>\n",
       "<style scoped>\n",
       "    .dataframe tbody tr th:only-of-type {\n",
       "        vertical-align: middle;\n",
       "    }\n",
       "\n",
       "    .dataframe tbody tr th {\n",
       "        vertical-align: top;\n",
       "    }\n",
       "\n",
       "    .dataframe thead th {\n",
       "        text-align: right;\n",
       "    }\n",
       "</style>\n",
       "<table border=\"1\" class=\"dataframe\">\n",
       "  <thead>\n",
       "    <tr style=\"text-align: right;\">\n",
       "      <th></th>\n",
       "      <th>total_bill</th>\n",
       "      <th>tip</th>\n",
       "      <th>sex</th>\n",
       "      <th>smoker</th>\n",
       "      <th>day</th>\n",
       "      <th>time</th>\n",
       "      <th>size</th>\n",
       "    </tr>\n",
       "  </thead>\n",
       "  <tbody>\n",
       "    <tr>\n",
       "      <th>241</th>\n",
       "      <td>22.67</td>\n",
       "      <td>2.00</td>\n",
       "      <td>Male</td>\n",
       "      <td>Yes</td>\n",
       "      <td>Sat</td>\n",
       "      <td>Dinner</td>\n",
       "      <td>2</td>\n",
       "    </tr>\n",
       "    <tr>\n",
       "      <th>242</th>\n",
       "      <td>17.82</td>\n",
       "      <td>1.75</td>\n",
       "      <td>Male</td>\n",
       "      <td>No</td>\n",
       "      <td>Sat</td>\n",
       "      <td>Dinner</td>\n",
       "      <td>2</td>\n",
       "    </tr>\n",
       "    <tr>\n",
       "      <th>243</th>\n",
       "      <td>18.78</td>\n",
       "      <td>3.00</td>\n",
       "      <td>Female</td>\n",
       "      <td>No</td>\n",
       "      <td>Thur</td>\n",
       "      <td>Dinner</td>\n",
       "      <td>2</td>\n",
       "    </tr>\n",
       "  </tbody>\n",
       "</table>\n",
       "</div>"
      ],
      "text/plain": [
       "     total_bill   tip     sex smoker   day    time  size\n",
       "241       22.67  2.00    Male    Yes   Sat  Dinner     2\n",
       "242       17.82  1.75    Male     No   Sat  Dinner     2\n",
       "243       18.78  3.00  Female     No  Thur  Dinner     2"
      ]
     },
     "execution_count": 12,
     "metadata": {},
     "output_type": "execute_result"
    }
   ],
   "source": [
    "# 하위 3개 행 데이터\n",
    "tip.tail(3)"
   ]
  },
  {
   "cell_type": "markdown",
   "metadata": {
    "id": "6lBnFI3xsJRR"
   },
   "source": [
    "**3) 크기 확인**\n",
    "\n",
    "- **(rows, cols)** 값을 갖는 **튜플** 형태로 확인이 가능합니다.\n",
    "- 데이터를 분석할 때 처리할 **데이터 양을 확인**하는 목적으로 많이 사용 합니다."
   ]
  },
  {
   "cell_type": "code",
   "execution_count": 14,
   "metadata": {
    "id": "EYh2NhMSYnVh"
   },
   "outputs": [
    {
     "data": {
      "text/plain": [
       "(244, 7)"
      ]
     },
     "execution_count": 14,
     "metadata": {},
     "output_type": "execute_result"
    }
   ],
   "source": [
    "# 행 수와 열 수 확인\n",
    "tip.shape"
   ]
  },
  {
   "cell_type": "markdown",
   "metadata": {
    "id": "Lf1-5iz_wxkT"
   },
   "source": [
    "## 2.2.열, 행 정보 보기"
   ]
  },
  {
   "cell_type": "markdown",
   "metadata": {
    "id": "DKmBgIFtIJPa"
   },
   "source": [
    "**1) 인덱스 확인**"
   ]
  },
  {
   "cell_type": "code",
   "execution_count": 16,
   "metadata": {
    "id": "iGMPPsVZmO_J"
   },
   "outputs": [
    {
     "data": {
      "text/plain": [
       "RangeIndex(start=0, stop=244, step=1)"
      ]
     },
     "execution_count": 16,
     "metadata": {},
     "output_type": "execute_result"
    }
   ],
   "source": [
    "# 인덱스 확인\n",
    "tip.index"
   ]
  },
  {
   "cell_type": "markdown",
   "metadata": {
    "id": "2yAu6hjGmqX5"
   },
   "source": [
    "**2) 값 확인**\n",
    "\n",
    "- values 속성 조회 결과는 Array 입니다."
   ]
  },
  {
   "cell_type": "code",
   "execution_count": 20,
   "metadata": {
    "id": "DK_uz55rmRRM"
   },
   "outputs": [
    {
     "data": {
      "text/plain": [
       "array([[16.99, 1.01, 'Female', ..., 'Sun', 'Dinner', 2],\n",
       "       [10.34, 1.66, 'Male', ..., 'Sun', 'Dinner', 3],\n",
       "       [21.01, 3.5, 'Male', ..., 'Sun', 'Dinner', 3],\n",
       "       ...,\n",
       "       [22.67, 2.0, 'Male', ..., 'Sat', 'Dinner', 2],\n",
       "       [17.82, 1.75, 'Male', ..., 'Sat', 'Dinner', 2],\n",
       "       [18.78, 3.0, 'Female', ..., 'Thur', 'Dinner', 2]], dtype=object)"
      ]
     },
     "execution_count": 20,
     "metadata": {},
     "output_type": "execute_result"
    }
   ],
   "source": [
    "# 값 확인\n",
    "tip.values"
   ]
  },
  {
   "cell_type": "markdown",
   "metadata": {
    "id": "moM8H3EnmtsP"
   },
   "source": [
    "**3) 열 확인**"
   ]
  },
  {
   "cell_type": "code",
   "execution_count": 18,
   "metadata": {
    "id": "YZp-NPIQYnVl"
   },
   "outputs": [
    {
     "data": {
      "text/plain": [
       "Index(['total_bill', 'tip', 'sex', 'smoker', 'day', 'time', 'size'], dtype='object')"
      ]
     },
     "execution_count": 18,
     "metadata": {},
     "output_type": "execute_result"
    }
   ],
   "source": [
    "# 열 확인\n",
    "tip.columns"
   ]
  },
  {
   "cell_type": "markdown",
   "metadata": {
    "id": "03NTnomXIJPc"
   },
   "source": [
    "**4) 자료형 확인**\n",
    "- int64: 정수형 데이터(int)\n",
    "- float64: 실수형 데이터(float)\n",
    "- object: 문자열 데이터(string)"
   ]
  },
  {
   "cell_type": "code",
   "execution_count": 22,
   "metadata": {
    "id": "mJbpIbz2YnVn",
    "scrolled": true
   },
   "outputs": [
    {
     "data": {
      "text/plain": [
       "total_bill    float64\n",
       "tip           float64\n",
       "sex            object\n",
       "smoker         object\n",
       "day            object\n",
       "time           object\n",
       "size            int64\n",
       "dtype: object"
      ]
     },
     "execution_count": 22,
     "metadata": {},
     "output_type": "execute_result"
    }
   ],
   "source": [
    "# 열 자료형 확인\n",
    "tip.dtypes"
   ]
  },
  {
   "cell_type": "code",
   "execution_count": 26,
   "metadata": {
    "id": "zXmD-NqbURwP",
    "scrolled": true
   },
   "outputs": [
    {
     "data": {
      "text/plain": [
       "<bound method DataFrame.info of      total_bill   tip     sex smoker   day    time  size\n",
       "0         16.99  1.01  Female     No   Sun  Dinner     2\n",
       "1         10.34  1.66    Male     No   Sun  Dinner     3\n",
       "2         21.01  3.50    Male     No   Sun  Dinner     3\n",
       "3         23.68  3.31    Male     No   Sun  Dinner     2\n",
       "4         24.59  3.61  Female     No   Sun  Dinner     4\n",
       "..          ...   ...     ...    ...   ...     ...   ...\n",
       "239       29.03  5.92    Male     No   Sat  Dinner     3\n",
       "240       27.18  2.00  Female    Yes   Sat  Dinner     2\n",
       "241       22.67  2.00    Male    Yes   Sat  Dinner     2\n",
       "242       17.82  1.75    Male     No   Sat  Dinner     2\n",
       "243       18.78  3.00  Female     No  Thur  Dinner     2\n",
       "\n",
       "[244 rows x 7 columns]>"
      ]
     },
     "execution_count": 26,
     "metadata": {},
     "output_type": "execute_result"
    }
   ],
   "source": [
    "# 열 자료형, 값 개수 확인\n",
    "tip.info"
   ]
  },
  {
   "cell_type": "markdown",
   "metadata": {
    "id": "ZdTxUS47IJPe"
   },
   "source": [
    "**5) 기술 통계 확인**\n",
    "\n",
    "- 기술 통계(Descriptive Statistics)는 데이터의 정리, 요약, 해석, 표현 등을 통해 데이터가 갖는 특성을 나타내는 정보입니다.\n",
    "- describe() 메서드는 데이터에 대한 많은 정보를 제공하는 매우 중요한 메서드입니다.\n",
    "- 개수(count), 평균(mean), 표준편차(std), 최솟값(min), 사분위값(25%, 50%, 75%), 최댓값(max)을 표시합니다."
   ]
  },
  {
   "cell_type": "code",
   "execution_count": 36,
   "metadata": {
    "id": "8Z8rhBNBYnVw",
    "scrolled": true
   },
   "outputs": [
    {
     "data": {
      "text/html": [
       "<div>\n",
       "<style scoped>\n",
       "    .dataframe tbody tr th:only-of-type {\n",
       "        vertical-align: middle;\n",
       "    }\n",
       "\n",
       "    .dataframe tbody tr th {\n",
       "        vertical-align: top;\n",
       "    }\n",
       "\n",
       "    .dataframe thead th {\n",
       "        text-align: right;\n",
       "    }\n",
       "</style>\n",
       "<table border=\"1\" class=\"dataframe\">\n",
       "  <thead>\n",
       "    <tr style=\"text-align: right;\">\n",
       "      <th></th>\n",
       "      <th>count</th>\n",
       "      <th>mean</th>\n",
       "      <th>std</th>\n",
       "      <th>min</th>\n",
       "      <th>25%</th>\n",
       "      <th>50%</th>\n",
       "      <th>75%</th>\n",
       "      <th>max</th>\n",
       "    </tr>\n",
       "  </thead>\n",
       "  <tbody>\n",
       "    <tr>\n",
       "      <th>total_bill</th>\n",
       "      <td>244.0</td>\n",
       "      <td>19.785943</td>\n",
       "      <td>8.902412</td>\n",
       "      <td>3.07</td>\n",
       "      <td>13.3475</td>\n",
       "      <td>17.795</td>\n",
       "      <td>24.1275</td>\n",
       "      <td>50.81</td>\n",
       "    </tr>\n",
       "    <tr>\n",
       "      <th>tip</th>\n",
       "      <td>244.0</td>\n",
       "      <td>2.998279</td>\n",
       "      <td>1.383638</td>\n",
       "      <td>1.00</td>\n",
       "      <td>2.0000</td>\n",
       "      <td>2.900</td>\n",
       "      <td>3.5625</td>\n",
       "      <td>10.00</td>\n",
       "    </tr>\n",
       "    <tr>\n",
       "      <th>size</th>\n",
       "      <td>244.0</td>\n",
       "      <td>2.569672</td>\n",
       "      <td>0.951100</td>\n",
       "      <td>1.00</td>\n",
       "      <td>2.0000</td>\n",
       "      <td>2.000</td>\n",
       "      <td>3.0000</td>\n",
       "      <td>6.00</td>\n",
       "    </tr>\n",
       "  </tbody>\n",
       "</table>\n",
       "</div>"
      ],
      "text/plain": [
       "            count       mean       std   min      25%     50%      75%    max\n",
       "total_bill  244.0  19.785943  8.902412  3.07  13.3475  17.795  24.1275  50.81\n",
       "tip         244.0   2.998279  1.383638  1.00   2.0000   2.900   3.5625  10.00\n",
       "size        244.0   2.569672  0.951100  1.00   2.0000   2.000   3.0000   6.00"
      ]
     },
     "execution_count": 36,
     "metadata": {},
     "output_type": "execute_result"
    }
   ],
   "source": [
    "# 기술 통계\n",
    "tip.describe().T"
   ]
  },
  {
   "cell_type": "markdown",
   "metadata": {
    "id": "aKbf5zyz9Kuc"
   },
   "source": [
    "- 일부 열에 대해서만 기술 통계를 확인할 수 있습니다."
   ]
  },
  {
   "cell_type": "code",
   "execution_count": 32,
   "metadata": {
    "id": "KP6zEKvC9Jxu"
   },
   "outputs": [
    {
     "data": {
      "text/plain": [
       "count    244.000000\n",
       "mean       2.998279\n",
       "std        1.383638\n",
       "min        1.000000\n",
       "25%        2.000000\n",
       "50%        2.900000\n",
       "75%        3.562500\n",
       "max       10.000000\n",
       "Name: tip, dtype: float64"
      ]
     },
     "execution_count": 32,
     "metadata": {},
     "output_type": "execute_result"
    }
   ],
   "source": [
    "# 기술 통계\n",
    "tip['tip'].describe().T"
   ]
  },
  {
   "cell_type": "markdown",
   "metadata": {
    "id": "2r0tVvyDQgGd"
   },
   "source": [
    "**[참고] 사분위에 대한 이해**"
   ]
  },
  {
   "cell_type": "markdown",
   "metadata": {
    "id": "NPoEjIkUQgGd"
   },
   "source": [
    "<img src='https://raw.githubusercontent.com/jangrae/img/master/quartile2.png' width=700 align=\"left\"/>"
   ]
  },
  {
   "cell_type": "markdown",
   "metadata": {
    "id": "JhRnKC0L-wjG"
   },
   "source": [
    "<img src='https://raw.githubusercontent.com/jangrae/img/master/practice_01.png' width=120 align=\"left\"/>"
   ]
  },
  {
   "cell_type": "markdown",
   "metadata": {
    "id": "Tw6MDaipQgGd"
   },
   "source": [
    "[문1] 25%, 50%, 75% 값을 확인하세요."
   ]
  },
  {
   "cell_type": "markdown",
   "metadata": {
    "id": "fOCky6RrQgGd"
   },
   "source": [
    "<img src='https://raw.githubusercontent.com/jangrae/img/master/quartile_a.png' width=700 align=\"left\"/>"
   ]
  },
  {
   "cell_type": "markdown",
   "metadata": {
    "id": "IOb6vqTbdtPC"
   },
   "source": [
    "[문2] 다음 경로의 파일을 읽어와 temp 데이터프레임을 선언하세요.\n",
    "\n",
    "- 파일 경로: 'https://raw.githubusercontent.com/Jangrae/csv/master/weather_simple.csv'"
   ]
  },
  {
   "cell_type": "code",
   "execution_count": 39,
   "metadata": {
    "id": "UmooiWmRdQUj"
   },
   "outputs": [
    {
     "data": {
      "text/plain": [
       "<bound method NDFrame.head of        month  temp  max_temp  ext_max_temp  min_temp  ext_min_temp\n",
       "0    2005-01  -2.5       1.5           7.3      -6.2         -11.0\n",
       "1    2005-02  -1.9       2.2          10.5      -5.5         -13.1\n",
       "2    2005-03   4.1       8.8          17.6       0.2          -6.5\n",
       "3    2005-04  13.2      18.1          29.8       8.9           4.1\n",
       "4    2005-05  17.7      22.9          30.2      13.0           6.3\n",
       "..       ...   ...       ...           ...       ...           ...\n",
       "199  2021-08  25.9      29.7          33.7      22.8          18.1\n",
       "200  2021-09  22.6      26.9          30.3      18.8          16.0\n",
       "201  2021-10  15.6      20.5          28.8      11.6           1.3\n",
       "202  2021-11   8.2      13.1          21.3       4.0          -3.7\n",
       "203  2021-12   0.6       5.1          13.3      -3.5         -15.5\n",
       "\n",
       "[204 rows x 6 columns]>"
      ]
     },
     "execution_count": 39,
     "metadata": {},
     "output_type": "execute_result"
    }
   ],
   "source": [
    "# 데이터 읽어오기\n",
    "temp = pd.read_csv('https://raw.githubusercontent.com/Jangrae/csv/master/weather_simple.csv') \n",
    "\n",
    "temp.head"
   ]
  },
  {
   "cell_type": "markdown",
   "metadata": {
    "id": "fdi1AhcMEqAn"
   },
   "source": [
    "[문3] temp 데이터프레임 관련 정보를 확인하세요."
   ]
  },
  {
   "cell_type": "code",
   "execution_count": 43,
   "metadata": {
    "id": "2XqDG9RwtaXz"
   },
   "outputs": [
    {
     "data": {
      "text/html": [
       "<div>\n",
       "<style scoped>\n",
       "    .dataframe tbody tr th:only-of-type {\n",
       "        vertical-align: middle;\n",
       "    }\n",
       "\n",
       "    .dataframe tbody tr th {\n",
       "        vertical-align: top;\n",
       "    }\n",
       "\n",
       "    .dataframe thead th {\n",
       "        text-align: right;\n",
       "    }\n",
       "</style>\n",
       "<table border=\"1\" class=\"dataframe\">\n",
       "  <thead>\n",
       "    <tr style=\"text-align: right;\">\n",
       "      <th></th>\n",
       "      <th>month</th>\n",
       "      <th>temp</th>\n",
       "      <th>max_temp</th>\n",
       "      <th>ext_max_temp</th>\n",
       "      <th>min_temp</th>\n",
       "      <th>ext_min_temp</th>\n",
       "    </tr>\n",
       "  </thead>\n",
       "  <tbody>\n",
       "    <tr>\n",
       "      <th>0</th>\n",
       "      <td>2005-01</td>\n",
       "      <td>-2.5</td>\n",
       "      <td>1.5</td>\n",
       "      <td>7.3</td>\n",
       "      <td>-6.2</td>\n",
       "      <td>-11.0</td>\n",
       "    </tr>\n",
       "    <tr>\n",
       "      <th>1</th>\n",
       "      <td>2005-02</td>\n",
       "      <td>-1.9</td>\n",
       "      <td>2.2</td>\n",
       "      <td>10.5</td>\n",
       "      <td>-5.5</td>\n",
       "      <td>-13.1</td>\n",
       "    </tr>\n",
       "    <tr>\n",
       "      <th>2</th>\n",
       "      <td>2005-03</td>\n",
       "      <td>4.1</td>\n",
       "      <td>8.8</td>\n",
       "      <td>17.6</td>\n",
       "      <td>0.2</td>\n",
       "      <td>-6.5</td>\n",
       "    </tr>\n",
       "    <tr>\n",
       "      <th>3</th>\n",
       "      <td>2005-04</td>\n",
       "      <td>13.2</td>\n",
       "      <td>18.1</td>\n",
       "      <td>29.8</td>\n",
       "      <td>8.9</td>\n",
       "      <td>4.1</td>\n",
       "    </tr>\n",
       "    <tr>\n",
       "      <th>4</th>\n",
       "      <td>2005-05</td>\n",
       "      <td>17.7</td>\n",
       "      <td>22.9</td>\n",
       "      <td>30.2</td>\n",
       "      <td>13.0</td>\n",
       "      <td>6.3</td>\n",
       "    </tr>\n",
       "  </tbody>\n",
       "</table>\n",
       "</div>"
      ],
      "text/plain": [
       "     month  temp  max_temp  ext_max_temp  min_temp  ext_min_temp\n",
       "0  2005-01  -2.5       1.5           7.3      -6.2         -11.0\n",
       "1  2005-02  -1.9       2.2          10.5      -5.5         -13.1\n",
       "2  2005-03   4.1       8.8          17.6       0.2          -6.5\n",
       "3  2005-04  13.2      18.1          29.8       8.9           4.1\n",
       "4  2005-05  17.7      22.9          30.2      13.0           6.3"
      ]
     },
     "execution_count": 43,
     "metadata": {},
     "output_type": "execute_result"
    }
   ],
   "source": [
    "# 상위 데이터 확인\n",
    "temp.head(5)"
   ]
  },
  {
   "cell_type": "code",
   "execution_count": 59,
   "metadata": {
    "id": "juWI1txLdtPE"
   },
   "outputs": [
    {
     "data": {
      "text/plain": [
       "(204, 6)"
      ]
     },
     "execution_count": 59,
     "metadata": {},
     "output_type": "execute_result"
    }
   ],
   "source": [
    "# 크기 확인\n",
    "temp.shape"
   ]
  },
  {
   "cell_type": "code",
   "execution_count": 61,
   "metadata": {
    "id": "6X9fadORdtPJ"
   },
   "outputs": [
    {
     "data": {
      "text/plain": [
       "RangeIndex(start=0, stop=204, step=1)"
      ]
     },
     "execution_count": 61,
     "metadata": {},
     "output_type": "execute_result"
    }
   ],
   "source": [
    "# 인덱스 확인\n",
    "temp.index"
   ]
  },
  {
   "cell_type": "code",
   "execution_count": 63,
   "metadata": {
    "id": "orwZpYENdtPN"
   },
   "outputs": [
    {
     "data": {
      "text/plain": [
       "Index(['month', 'temp', 'max_temp', 'ext_max_temp', 'min_temp',\n",
       "       'ext_min_temp'],\n",
       "      dtype='object')"
      ]
     },
     "execution_count": 63,
     "metadata": {},
     "output_type": "execute_result"
    }
   ],
   "source": [
    "# 열 확인\n",
    "temp.columns"
   ]
  },
  {
   "cell_type": "code",
   "execution_count": 65,
   "metadata": {
    "id": "P1q5Hn6FdtPQ"
   },
   "outputs": [
    {
     "data": {
      "text/plain": [
       "<bound method DataFrame.info of        month  temp  max_temp  ext_max_temp  min_temp  ext_min_temp\n",
       "0    2005-01  -2.5       1.5           7.3      -6.2         -11.0\n",
       "1    2005-02  -1.9       2.2          10.5      -5.5         -13.1\n",
       "2    2005-03   4.1       8.8          17.6       0.2          -6.5\n",
       "3    2005-04  13.2      18.1          29.8       8.9           4.1\n",
       "4    2005-05  17.7      22.9          30.2      13.0           6.3\n",
       "..       ...   ...       ...           ...       ...           ...\n",
       "199  2021-08  25.9      29.7          33.7      22.8          18.1\n",
       "200  2021-09  22.6      26.9          30.3      18.8          16.0\n",
       "201  2021-10  15.6      20.5          28.8      11.6           1.3\n",
       "202  2021-11   8.2      13.1          21.3       4.0          -3.7\n",
       "203  2021-12   0.6       5.1          13.3      -3.5         -15.5\n",
       "\n",
       "[204 rows x 6 columns]>"
      ]
     },
     "execution_count": 65,
     "metadata": {},
     "output_type": "execute_result"
    }
   ],
   "source": [
    "# 열 자료형, 값 개수 확인\n",
    "temp.info"
   ]
  },
  {
   "cell_type": "code",
   "execution_count": 67,
   "metadata": {
    "id": "s7zaSvW4dtPT"
   },
   "outputs": [
    {
     "data": {
      "text/plain": [
       "<bound method NDFrame.describe of        month  temp  max_temp  ext_max_temp  min_temp  ext_min_temp\n",
       "0    2005-01  -2.5       1.5           7.3      -6.2         -11.0\n",
       "1    2005-02  -1.9       2.2          10.5      -5.5         -13.1\n",
       "2    2005-03   4.1       8.8          17.6       0.2          -6.5\n",
       "3    2005-04  13.2      18.1          29.8       8.9           4.1\n",
       "4    2005-05  17.7      22.9          30.2      13.0           6.3\n",
       "..       ...   ...       ...           ...       ...           ...\n",
       "199  2021-08  25.9      29.7          33.7      22.8          18.1\n",
       "200  2021-09  22.6      26.9          30.3      18.8          16.0\n",
       "201  2021-10  15.6      20.5          28.8      11.6           1.3\n",
       "202  2021-11   8.2      13.1          21.3       4.0          -3.7\n",
       "203  2021-12   0.6       5.1          13.3      -3.5         -15.5\n",
       "\n",
       "[204 rows x 6 columns]>"
      ]
     },
     "execution_count": 67,
     "metadata": {},
     "output_type": "execute_result"
    }
   ],
   "source": [
    "# 기술 통계 확인\n",
    "temp.describe"
   ]
  },
  {
   "cell_type": "markdown",
   "metadata": {
    "id": "7d32vCo6wxk0"
   },
   "source": [
    "## 2.3.정렬해서 보기\n",
    "\n",
    "- 인덱스를 기준으로 정렬하는 방법과 특정 열을 기준으로 정렬하는 방법이 있습니다.\n",
    "- **sort_values()** 메서드로 **특정 열**을 기준으로 정렬합니다.\n",
    "- **ascending** 옵션을 설정해 오름차순, 내림차순을 설정할 수 있습니다.\n",
    "    - ascending=True: 오름차순 정렬(기본값)\n",
    "    - ascending=False: 내림차순 정렬"
   ]
  },
  {
   "cell_type": "code",
   "execution_count": 72,
   "metadata": {
    "id": "b54Sod9nYnV2"
   },
   "outputs": [
    {
     "data": {
      "text/html": [
       "<div>\n",
       "<style scoped>\n",
       "    .dataframe tbody tr th:only-of-type {\n",
       "        vertical-align: middle;\n",
       "    }\n",
       "\n",
       "    .dataframe tbody tr th {\n",
       "        vertical-align: top;\n",
       "    }\n",
       "\n",
       "    .dataframe thead th {\n",
       "        text-align: right;\n",
       "    }\n",
       "</style>\n",
       "<table border=\"1\" class=\"dataframe\">\n",
       "  <thead>\n",
       "    <tr style=\"text-align: right;\">\n",
       "      <th></th>\n",
       "      <th>total_bill</th>\n",
       "      <th>tip</th>\n",
       "      <th>sex</th>\n",
       "      <th>smoker</th>\n",
       "      <th>day</th>\n",
       "      <th>time</th>\n",
       "      <th>size</th>\n",
       "    </tr>\n",
       "  </thead>\n",
       "  <tbody>\n",
       "    <tr>\n",
       "      <th>67</th>\n",
       "      <td>3.07</td>\n",
       "      <td>1.00</td>\n",
       "      <td>Female</td>\n",
       "      <td>Yes</td>\n",
       "      <td>Sat</td>\n",
       "      <td>Dinner</td>\n",
       "      <td>1</td>\n",
       "    </tr>\n",
       "    <tr>\n",
       "      <th>92</th>\n",
       "      <td>5.75</td>\n",
       "      <td>1.00</td>\n",
       "      <td>Female</td>\n",
       "      <td>Yes</td>\n",
       "      <td>Fri</td>\n",
       "      <td>Dinner</td>\n",
       "      <td>2</td>\n",
       "    </tr>\n",
       "    <tr>\n",
       "      <th>111</th>\n",
       "      <td>7.25</td>\n",
       "      <td>1.00</td>\n",
       "      <td>Female</td>\n",
       "      <td>No</td>\n",
       "      <td>Sat</td>\n",
       "      <td>Dinner</td>\n",
       "      <td>1</td>\n",
       "    </tr>\n",
       "    <tr>\n",
       "      <th>172</th>\n",
       "      <td>7.25</td>\n",
       "      <td>5.15</td>\n",
       "      <td>Male</td>\n",
       "      <td>Yes</td>\n",
       "      <td>Sun</td>\n",
       "      <td>Dinner</td>\n",
       "      <td>2</td>\n",
       "    </tr>\n",
       "    <tr>\n",
       "      <th>149</th>\n",
       "      <td>7.51</td>\n",
       "      <td>2.00</td>\n",
       "      <td>Male</td>\n",
       "      <td>No</td>\n",
       "      <td>Thur</td>\n",
       "      <td>Lunch</td>\n",
       "      <td>2</td>\n",
       "    </tr>\n",
       "    <tr>\n",
       "      <th>...</th>\n",
       "      <td>...</td>\n",
       "      <td>...</td>\n",
       "      <td>...</td>\n",
       "      <td>...</td>\n",
       "      <td>...</td>\n",
       "      <td>...</td>\n",
       "      <td>...</td>\n",
       "    </tr>\n",
       "    <tr>\n",
       "      <th>182</th>\n",
       "      <td>45.35</td>\n",
       "      <td>3.50</td>\n",
       "      <td>Male</td>\n",
       "      <td>Yes</td>\n",
       "      <td>Sun</td>\n",
       "      <td>Dinner</td>\n",
       "      <td>3</td>\n",
       "    </tr>\n",
       "    <tr>\n",
       "      <th>156</th>\n",
       "      <td>48.17</td>\n",
       "      <td>5.00</td>\n",
       "      <td>Male</td>\n",
       "      <td>No</td>\n",
       "      <td>Sun</td>\n",
       "      <td>Dinner</td>\n",
       "      <td>6</td>\n",
       "    </tr>\n",
       "    <tr>\n",
       "      <th>59</th>\n",
       "      <td>48.27</td>\n",
       "      <td>6.73</td>\n",
       "      <td>Male</td>\n",
       "      <td>No</td>\n",
       "      <td>Sat</td>\n",
       "      <td>Dinner</td>\n",
       "      <td>4</td>\n",
       "    </tr>\n",
       "    <tr>\n",
       "      <th>212</th>\n",
       "      <td>48.33</td>\n",
       "      <td>9.00</td>\n",
       "      <td>Male</td>\n",
       "      <td>No</td>\n",
       "      <td>Sat</td>\n",
       "      <td>Dinner</td>\n",
       "      <td>4</td>\n",
       "    </tr>\n",
       "    <tr>\n",
       "      <th>170</th>\n",
       "      <td>50.81</td>\n",
       "      <td>10.00</td>\n",
       "      <td>Male</td>\n",
       "      <td>Yes</td>\n",
       "      <td>Sat</td>\n",
       "      <td>Dinner</td>\n",
       "      <td>3</td>\n",
       "    </tr>\n",
       "  </tbody>\n",
       "</table>\n",
       "<p>244 rows × 7 columns</p>\n",
       "</div>"
      ],
      "text/plain": [
       "     total_bill    tip     sex smoker   day    time  size\n",
       "67         3.07   1.00  Female    Yes   Sat  Dinner     1\n",
       "92         5.75   1.00  Female    Yes   Fri  Dinner     2\n",
       "111        7.25   1.00  Female     No   Sat  Dinner     1\n",
       "172        7.25   5.15    Male    Yes   Sun  Dinner     2\n",
       "149        7.51   2.00    Male     No  Thur   Lunch     2\n",
       "..          ...    ...     ...    ...   ...     ...   ...\n",
       "182       45.35   3.50    Male    Yes   Sun  Dinner     3\n",
       "156       48.17   5.00    Male     No   Sun  Dinner     6\n",
       "59        48.27   6.73    Male     No   Sat  Dinner     4\n",
       "212       48.33   9.00    Male     No   Sat  Dinner     4\n",
       "170       50.81  10.00    Male    Yes   Sat  Dinner     3\n",
       "\n",
       "[244 rows x 7 columns]"
      ]
     },
     "execution_count": 72,
     "metadata": {},
     "output_type": "execute_result"
    }
   ],
   "source": [
    "# 단일 열 정렬\n",
    "tb_top5 = tip.sort_values('total_bill')\n",
    "tb_top5"
   ]
  },
  {
   "cell_type": "code",
   "execution_count": 80,
   "metadata": {
    "id": "YSsGC3B8IJPv"
   },
   "outputs": [
    {
     "data": {
      "text/html": [
       "<div>\n",
       "<style scoped>\n",
       "    .dataframe tbody tr th:only-of-type {\n",
       "        vertical-align: middle;\n",
       "    }\n",
       "\n",
       "    .dataframe tbody tr th {\n",
       "        vertical-align: top;\n",
       "    }\n",
       "\n",
       "    .dataframe thead th {\n",
       "        text-align: right;\n",
       "    }\n",
       "</style>\n",
       "<table border=\"1\" class=\"dataframe\">\n",
       "  <thead>\n",
       "    <tr style=\"text-align: right;\">\n",
       "      <th></th>\n",
       "      <th>total_bill</th>\n",
       "      <th>tip</th>\n",
       "      <th>sex</th>\n",
       "      <th>smoker</th>\n",
       "      <th>day</th>\n",
       "      <th>time</th>\n",
       "      <th>size</th>\n",
       "    </tr>\n",
       "  </thead>\n",
       "  <tbody>\n",
       "    <tr>\n",
       "      <th>170</th>\n",
       "      <td>50.81</td>\n",
       "      <td>10.00</td>\n",
       "      <td>Male</td>\n",
       "      <td>Yes</td>\n",
       "      <td>Sat</td>\n",
       "      <td>Dinner</td>\n",
       "      <td>3</td>\n",
       "    </tr>\n",
       "    <tr>\n",
       "      <th>212</th>\n",
       "      <td>48.33</td>\n",
       "      <td>9.00</td>\n",
       "      <td>Male</td>\n",
       "      <td>No</td>\n",
       "      <td>Sat</td>\n",
       "      <td>Dinner</td>\n",
       "      <td>4</td>\n",
       "    </tr>\n",
       "    <tr>\n",
       "      <th>59</th>\n",
       "      <td>48.27</td>\n",
       "      <td>6.73</td>\n",
       "      <td>Male</td>\n",
       "      <td>No</td>\n",
       "      <td>Sat</td>\n",
       "      <td>Dinner</td>\n",
       "      <td>4</td>\n",
       "    </tr>\n",
       "    <tr>\n",
       "      <th>156</th>\n",
       "      <td>48.17</td>\n",
       "      <td>5.00</td>\n",
       "      <td>Male</td>\n",
       "      <td>No</td>\n",
       "      <td>Sun</td>\n",
       "      <td>Dinner</td>\n",
       "      <td>6</td>\n",
       "    </tr>\n",
       "    <tr>\n",
       "      <th>182</th>\n",
       "      <td>45.35</td>\n",
       "      <td>3.50</td>\n",
       "      <td>Male</td>\n",
       "      <td>Yes</td>\n",
       "      <td>Sun</td>\n",
       "      <td>Dinner</td>\n",
       "      <td>3</td>\n",
       "    </tr>\n",
       "    <tr>\n",
       "      <th>...</th>\n",
       "      <td>...</td>\n",
       "      <td>...</td>\n",
       "      <td>...</td>\n",
       "      <td>...</td>\n",
       "      <td>...</td>\n",
       "      <td>...</td>\n",
       "      <td>...</td>\n",
       "    </tr>\n",
       "    <tr>\n",
       "      <th>149</th>\n",
       "      <td>7.51</td>\n",
       "      <td>2.00</td>\n",
       "      <td>Male</td>\n",
       "      <td>No</td>\n",
       "      <td>Thur</td>\n",
       "      <td>Lunch</td>\n",
       "      <td>2</td>\n",
       "    </tr>\n",
       "    <tr>\n",
       "      <th>111</th>\n",
       "      <td>7.25</td>\n",
       "      <td>1.00</td>\n",
       "      <td>Female</td>\n",
       "      <td>No</td>\n",
       "      <td>Sat</td>\n",
       "      <td>Dinner</td>\n",
       "      <td>1</td>\n",
       "    </tr>\n",
       "    <tr>\n",
       "      <th>172</th>\n",
       "      <td>7.25</td>\n",
       "      <td>5.15</td>\n",
       "      <td>Male</td>\n",
       "      <td>Yes</td>\n",
       "      <td>Sun</td>\n",
       "      <td>Dinner</td>\n",
       "      <td>2</td>\n",
       "    </tr>\n",
       "    <tr>\n",
       "      <th>92</th>\n",
       "      <td>5.75</td>\n",
       "      <td>1.00</td>\n",
       "      <td>Female</td>\n",
       "      <td>Yes</td>\n",
       "      <td>Fri</td>\n",
       "      <td>Dinner</td>\n",
       "      <td>2</td>\n",
       "    </tr>\n",
       "    <tr>\n",
       "      <th>67</th>\n",
       "      <td>3.07</td>\n",
       "      <td>1.00</td>\n",
       "      <td>Female</td>\n",
       "      <td>Yes</td>\n",
       "      <td>Sat</td>\n",
       "      <td>Dinner</td>\n",
       "      <td>1</td>\n",
       "    </tr>\n",
       "  </tbody>\n",
       "</table>\n",
       "<p>244 rows × 7 columns</p>\n",
       "</div>"
      ],
      "text/plain": [
       "     total_bill    tip     sex smoker   day    time  size\n",
       "170       50.81  10.00    Male    Yes   Sat  Dinner     3\n",
       "212       48.33   9.00    Male     No   Sat  Dinner     4\n",
       "59        48.27   6.73    Male     No   Sat  Dinner     4\n",
       "156       48.17   5.00    Male     No   Sun  Dinner     6\n",
       "182       45.35   3.50    Male    Yes   Sun  Dinner     3\n",
       "..          ...    ...     ...    ...   ...     ...   ...\n",
       "149        7.51   2.00    Male     No  Thur   Lunch     2\n",
       "111        7.25   1.00  Female     No   Sat  Dinner     1\n",
       "172        7.25   5.15    Male    Yes   Sun  Dinner     2\n",
       "92         5.75   1.00  Female    Yes   Fri  Dinner     2\n",
       "67         3.07   1.00  Female    Yes   Sat  Dinner     1\n",
       "\n",
       "[244 rows x 7 columns]"
      ]
     },
     "execution_count": 80,
     "metadata": {},
     "output_type": "execute_result"
    }
   ],
   "source": [
    "# 복합 열('total_bill', 'tip') 정렬\n",
    "tip.sort_values(['total_bill','tip'] ,ascending = [False, True])\n"
   ]
  },
  {
   "cell_type": "markdown",
   "metadata": {
    "id": "mHrKYYWip4Es"
   },
   "source": [
    "<img src='https://raw.githubusercontent.com/jangrae/img/master/practice_01.png' width=120 align=\"left\"/>"
   ]
  },
  {
   "cell_type": "markdown",
   "metadata": {
    "id": "MpHVdpI9FN0Z"
   },
   "source": [
    "[문1] 다음 경로의 파일을 읽어와 temp 데이터프레임을 선언하세요.\n",
    "\n",
    "- 파일 경로: 'https://raw.githubusercontent.com/Jangrae/csv/master/weather_simple.csv'"
   ]
  },
  {
   "cell_type": "code",
   "execution_count": 82,
   "metadata": {
    "id": "zLjhVF9uFN0f"
   },
   "outputs": [
    {
     "data": {
      "text/html": [
       "<div>\n",
       "<style scoped>\n",
       "    .dataframe tbody tr th:only-of-type {\n",
       "        vertical-align: middle;\n",
       "    }\n",
       "\n",
       "    .dataframe tbody tr th {\n",
       "        vertical-align: top;\n",
       "    }\n",
       "\n",
       "    .dataframe thead th {\n",
       "        text-align: right;\n",
       "    }\n",
       "</style>\n",
       "<table border=\"1\" class=\"dataframe\">\n",
       "  <thead>\n",
       "    <tr style=\"text-align: right;\">\n",
       "      <th></th>\n",
       "      <th>month</th>\n",
       "      <th>temp</th>\n",
       "      <th>max_temp</th>\n",
       "      <th>ext_max_temp</th>\n",
       "      <th>min_temp</th>\n",
       "      <th>ext_min_temp</th>\n",
       "    </tr>\n",
       "  </thead>\n",
       "  <tbody>\n",
       "    <tr>\n",
       "      <th>0</th>\n",
       "      <td>2005-01</td>\n",
       "      <td>-2.5</td>\n",
       "      <td>1.5</td>\n",
       "      <td>7.3</td>\n",
       "      <td>-6.2</td>\n",
       "      <td>-11.0</td>\n",
       "    </tr>\n",
       "    <tr>\n",
       "      <th>1</th>\n",
       "      <td>2005-02</td>\n",
       "      <td>-1.9</td>\n",
       "      <td>2.2</td>\n",
       "      <td>10.5</td>\n",
       "      <td>-5.5</td>\n",
       "      <td>-13.1</td>\n",
       "    </tr>\n",
       "    <tr>\n",
       "      <th>2</th>\n",
       "      <td>2005-03</td>\n",
       "      <td>4.1</td>\n",
       "      <td>8.8</td>\n",
       "      <td>17.6</td>\n",
       "      <td>0.2</td>\n",
       "      <td>-6.5</td>\n",
       "    </tr>\n",
       "    <tr>\n",
       "      <th>3</th>\n",
       "      <td>2005-04</td>\n",
       "      <td>13.2</td>\n",
       "      <td>18.1</td>\n",
       "      <td>29.8</td>\n",
       "      <td>8.9</td>\n",
       "      <td>4.1</td>\n",
       "    </tr>\n",
       "    <tr>\n",
       "      <th>4</th>\n",
       "      <td>2005-05</td>\n",
       "      <td>17.7</td>\n",
       "      <td>22.9</td>\n",
       "      <td>30.2</td>\n",
       "      <td>13.0</td>\n",
       "      <td>6.3</td>\n",
       "    </tr>\n",
       "  </tbody>\n",
       "</table>\n",
       "</div>"
      ],
      "text/plain": [
       "     month  temp  max_temp  ext_max_temp  min_temp  ext_min_temp\n",
       "0  2005-01  -2.5       1.5           7.3      -6.2         -11.0\n",
       "1  2005-02  -1.9       2.2          10.5      -5.5         -13.1\n",
       "2  2005-03   4.1       8.8          17.6       0.2          -6.5\n",
       "3  2005-04  13.2      18.1          29.8       8.9           4.1\n",
       "4  2005-05  17.7      22.9          30.2      13.0           6.3"
      ]
     },
     "execution_count": 82,
     "metadata": {},
     "output_type": "execute_result"
    }
   ],
   "source": [
    "# 데이터 읽어오기\n",
    "\n",
    "temp = pd.read_csv('https://raw.githubusercontent.com/Jangrae/csv/master/weather_simple.csv')\n",
    "\n",
    "# 확인\n",
    "temp.head()"
   ]
  },
  {
   "cell_type": "markdown",
   "metadata": {
    "id": "tCp5TKDdEj_J"
   },
   "source": [
    "[문2] temp 열을 기준으로 내림차순 정렬해서 조회하세요."
   ]
  },
  {
   "cell_type": "code",
   "execution_count": 86,
   "metadata": {
    "id": "HUQb2W5DEj_K"
   },
   "outputs": [
    {
     "data": {
      "text/html": [
       "<div>\n",
       "<style scoped>\n",
       "    .dataframe tbody tr th:only-of-type {\n",
       "        vertical-align: middle;\n",
       "    }\n",
       "\n",
       "    .dataframe tbody tr th {\n",
       "        vertical-align: top;\n",
       "    }\n",
       "\n",
       "    .dataframe thead th {\n",
       "        text-align: right;\n",
       "    }\n",
       "</style>\n",
       "<table border=\"1\" class=\"dataframe\">\n",
       "  <thead>\n",
       "    <tr style=\"text-align: right;\">\n",
       "      <th></th>\n",
       "      <th>month</th>\n",
       "      <th>temp</th>\n",
       "      <th>max_temp</th>\n",
       "      <th>ext_max_temp</th>\n",
       "      <th>min_temp</th>\n",
       "      <th>ext_min_temp</th>\n",
       "    </tr>\n",
       "  </thead>\n",
       "  <tbody>\n",
       "    <tr>\n",
       "      <th>72</th>\n",
       "      <td>2011-01</td>\n",
       "      <td>-7.2</td>\n",
       "      <td>-3.4</td>\n",
       "      <td>0.3</td>\n",
       "      <td>-10.5</td>\n",
       "      <td>-17.8</td>\n",
       "    </tr>\n",
       "    <tr>\n",
       "      <th>60</th>\n",
       "      <td>2010-01</td>\n",
       "      <td>-4.5</td>\n",
       "      <td>-0.7</td>\n",
       "      <td>8.4</td>\n",
       "      <td>-8.1</td>\n",
       "      <td>-15.3</td>\n",
       "    </tr>\n",
       "    <tr>\n",
       "      <th>95</th>\n",
       "      <td>2012-12</td>\n",
       "      <td>-4.1</td>\n",
       "      <td>-0.5</td>\n",
       "      <td>8.3</td>\n",
       "      <td>-7.4</td>\n",
       "      <td>-14.5</td>\n",
       "    </tr>\n",
       "    <tr>\n",
       "      <th>156</th>\n",
       "      <td>2018-01</td>\n",
       "      <td>-4.0</td>\n",
       "      <td>0.1</td>\n",
       "      <td>8.7</td>\n",
       "      <td>-7.3</td>\n",
       "      <td>-17.8</td>\n",
       "    </tr>\n",
       "    <tr>\n",
       "      <th>11</th>\n",
       "      <td>2005-12</td>\n",
       "      <td>-3.9</td>\n",
       "      <td>-0.1</td>\n",
       "      <td>11.1</td>\n",
       "      <td>-7.4</td>\n",
       "      <td>-14.0</td>\n",
       "    </tr>\n",
       "    <tr>\n",
       "      <th>...</th>\n",
       "      <td>...</td>\n",
       "      <td>...</td>\n",
       "      <td>...</td>\n",
       "      <td>...</td>\n",
       "      <td>...</td>\n",
       "      <td>...</td>\n",
       "    </tr>\n",
       "    <tr>\n",
       "      <th>103</th>\n",
       "      <td>2013-08</td>\n",
       "      <td>27.7</td>\n",
       "      <td>31.1</td>\n",
       "      <td>33.9</td>\n",
       "      <td>24.8</td>\n",
       "      <td>21.1</td>\n",
       "    </tr>\n",
       "    <tr>\n",
       "      <th>162</th>\n",
       "      <td>2018-07</td>\n",
       "      <td>27.8</td>\n",
       "      <td>32.1</td>\n",
       "      <td>38.3</td>\n",
       "      <td>24.2</td>\n",
       "      <td>17.7</td>\n",
       "    </tr>\n",
       "    <tr>\n",
       "      <th>139</th>\n",
       "      <td>2016-08</td>\n",
       "      <td>28.0</td>\n",
       "      <td>32.6</td>\n",
       "      <td>36.6</td>\n",
       "      <td>24.5</td>\n",
       "      <td>16.1</td>\n",
       "    </tr>\n",
       "    <tr>\n",
       "      <th>198</th>\n",
       "      <td>2021-07</td>\n",
       "      <td>28.1</td>\n",
       "      <td>32.2</td>\n",
       "      <td>36.5</td>\n",
       "      <td>24.6</td>\n",
       "      <td>19.6</td>\n",
       "    </tr>\n",
       "    <tr>\n",
       "      <th>163</th>\n",
       "      <td>2018-08</td>\n",
       "      <td>28.8</td>\n",
       "      <td>33.3</td>\n",
       "      <td>39.6</td>\n",
       "      <td>25.2</td>\n",
       "      <td>20.2</td>\n",
       "    </tr>\n",
       "  </tbody>\n",
       "</table>\n",
       "<p>204 rows × 6 columns</p>\n",
       "</div>"
      ],
      "text/plain": [
       "       month  temp  max_temp  ext_max_temp  min_temp  ext_min_temp\n",
       "72   2011-01  -7.2      -3.4           0.3     -10.5         -17.8\n",
       "60   2010-01  -4.5      -0.7           8.4      -8.1         -15.3\n",
       "95   2012-12  -4.1      -0.5           8.3      -7.4         -14.5\n",
       "156  2018-01  -4.0       0.1           8.7      -7.3         -17.8\n",
       "11   2005-12  -3.9      -0.1          11.1      -7.4         -14.0\n",
       "..       ...   ...       ...           ...       ...           ...\n",
       "103  2013-08  27.7      31.1          33.9      24.8          21.1\n",
       "162  2018-07  27.8      32.1          38.3      24.2          17.7\n",
       "139  2016-08  28.0      32.6          36.6      24.5          16.1\n",
       "198  2021-07  28.1      32.2          36.5      24.6          19.6\n",
       "163  2018-08  28.8      33.3          39.6      25.2          20.2\n",
       "\n",
       "[204 rows x 6 columns]"
      ]
     },
     "execution_count": 86,
     "metadata": {},
     "output_type": "execute_result"
    }
   ],
   "source": [
    "# 내림차순 정렬\n",
    "temp.sort_values('temp' ,ascending = True)"
   ]
  },
  {
   "cell_type": "markdown",
   "metadata": {
    "id": "KLWHHG-k9vvV"
   },
   "source": [
    "[문3] min_temp 열을 기준으로 오름차순 정렬해서 조회하세요."
   ]
  },
  {
   "cell_type": "code",
   "execution_count": 90,
   "metadata": {
    "id": "wAPdqAeLEj_Q"
   },
   "outputs": [
    {
     "data": {
      "text/html": [
       "<div>\n",
       "<style scoped>\n",
       "    .dataframe tbody tr th:only-of-type {\n",
       "        vertical-align: middle;\n",
       "    }\n",
       "\n",
       "    .dataframe tbody tr th {\n",
       "        vertical-align: top;\n",
       "    }\n",
       "\n",
       "    .dataframe thead th {\n",
       "        text-align: right;\n",
       "    }\n",
       "</style>\n",
       "<table border=\"1\" class=\"dataframe\">\n",
       "  <thead>\n",
       "    <tr style=\"text-align: right;\">\n",
       "      <th></th>\n",
       "      <th>month</th>\n",
       "      <th>temp</th>\n",
       "      <th>max_temp</th>\n",
       "      <th>ext_max_temp</th>\n",
       "      <th>min_temp</th>\n",
       "      <th>ext_min_temp</th>\n",
       "    </tr>\n",
       "  </thead>\n",
       "  <tbody>\n",
       "    <tr>\n",
       "      <th>163</th>\n",
       "      <td>2018-08</td>\n",
       "      <td>28.8</td>\n",
       "      <td>33.3</td>\n",
       "      <td>39.6</td>\n",
       "      <td>25.2</td>\n",
       "      <td>20.2</td>\n",
       "    </tr>\n",
       "    <tr>\n",
       "      <th>103</th>\n",
       "      <td>2013-08</td>\n",
       "      <td>27.7</td>\n",
       "      <td>31.1</td>\n",
       "      <td>33.9</td>\n",
       "      <td>24.8</td>\n",
       "      <td>21.1</td>\n",
       "    </tr>\n",
       "    <tr>\n",
       "      <th>198</th>\n",
       "      <td>2021-07</td>\n",
       "      <td>28.1</td>\n",
       "      <td>32.2</td>\n",
       "      <td>36.5</td>\n",
       "      <td>24.6</td>\n",
       "      <td>19.6</td>\n",
       "    </tr>\n",
       "    <tr>\n",
       "      <th>139</th>\n",
       "      <td>2016-08</td>\n",
       "      <td>28.0</td>\n",
       "      <td>32.6</td>\n",
       "      <td>36.6</td>\n",
       "      <td>24.5</td>\n",
       "      <td>16.1</td>\n",
       "    </tr>\n",
       "    <tr>\n",
       "      <th>187</th>\n",
       "      <td>2020-08</td>\n",
       "      <td>26.5</td>\n",
       "      <td>29.3</td>\n",
       "      <td>34.5</td>\n",
       "      <td>24.4</td>\n",
       "      <td>21.5</td>\n",
       "    </tr>\n",
       "    <tr>\n",
       "      <th>...</th>\n",
       "      <td>...</td>\n",
       "      <td>...</td>\n",
       "      <td>...</td>\n",
       "      <td>...</td>\n",
       "      <td>...</td>\n",
       "      <td>...</td>\n",
       "    </tr>\n",
       "    <tr>\n",
       "      <th>156</th>\n",
       "      <td>2018-01</td>\n",
       "      <td>-4.0</td>\n",
       "      <td>0.1</td>\n",
       "      <td>8.7</td>\n",
       "      <td>-7.3</td>\n",
       "      <td>-17.8</td>\n",
       "    </tr>\n",
       "    <tr>\n",
       "      <th>11</th>\n",
       "      <td>2005-12</td>\n",
       "      <td>-3.9</td>\n",
       "      <td>-0.1</td>\n",
       "      <td>11.1</td>\n",
       "      <td>-7.4</td>\n",
       "      <td>-14.0</td>\n",
       "    </tr>\n",
       "    <tr>\n",
       "      <th>95</th>\n",
       "      <td>2012-12</td>\n",
       "      <td>-4.1</td>\n",
       "      <td>-0.5</td>\n",
       "      <td>8.3</td>\n",
       "      <td>-7.4</td>\n",
       "      <td>-14.5</td>\n",
       "    </tr>\n",
       "    <tr>\n",
       "      <th>60</th>\n",
       "      <td>2010-01</td>\n",
       "      <td>-4.5</td>\n",
       "      <td>-0.7</td>\n",
       "      <td>8.4</td>\n",
       "      <td>-8.1</td>\n",
       "      <td>-15.3</td>\n",
       "    </tr>\n",
       "    <tr>\n",
       "      <th>72</th>\n",
       "      <td>2011-01</td>\n",
       "      <td>-7.2</td>\n",
       "      <td>-3.4</td>\n",
       "      <td>0.3</td>\n",
       "      <td>-10.5</td>\n",
       "      <td>-17.8</td>\n",
       "    </tr>\n",
       "  </tbody>\n",
       "</table>\n",
       "<p>204 rows × 6 columns</p>\n",
       "</div>"
      ],
      "text/plain": [
       "       month  temp  max_temp  ext_max_temp  min_temp  ext_min_temp\n",
       "163  2018-08  28.8      33.3          39.6      25.2          20.2\n",
       "103  2013-08  27.7      31.1          33.9      24.8          21.1\n",
       "198  2021-07  28.1      32.2          36.5      24.6          19.6\n",
       "139  2016-08  28.0      32.6          36.6      24.5          16.1\n",
       "187  2020-08  26.5      29.3          34.5      24.4          21.5\n",
       "..       ...   ...       ...           ...       ...           ...\n",
       "156  2018-01  -4.0       0.1           8.7      -7.3         -17.8\n",
       "11   2005-12  -3.9      -0.1          11.1      -7.4         -14.0\n",
       "95   2012-12  -4.1      -0.5           8.3      -7.4         -14.5\n",
       "60   2010-01  -4.5      -0.7           8.4      -8.1         -15.3\n",
       "72   2011-01  -7.2      -3.4           0.3     -10.5         -17.8\n",
       "\n",
       "[204 rows x 6 columns]"
      ]
     },
     "execution_count": 90,
     "metadata": {},
     "output_type": "execute_result"
    }
   ],
   "source": [
    "# 오름차순 정렬\n",
    "temp.sort_values('min_temp' ,ascending = False)"
   ]
  },
  {
   "cell_type": "markdown",
   "metadata": {
    "id": "f-eJyDjygRQD"
   },
   "source": [
    "[문4] min_temp 열을 기준으로 오름차순 정렬해서 상위 10개 행만 조회하세요."
   ]
  },
  {
   "cell_type": "code",
   "execution_count": 103,
   "metadata": {
    "id": "07bXPrSNgRQE"
   },
   "outputs": [
    {
     "data": {
      "text/html": [
       "<div>\n",
       "<style scoped>\n",
       "    .dataframe tbody tr th:only-of-type {\n",
       "        vertical-align: middle;\n",
       "    }\n",
       "\n",
       "    .dataframe tbody tr th {\n",
       "        vertical-align: top;\n",
       "    }\n",
       "\n",
       "    .dataframe thead th {\n",
       "        text-align: right;\n",
       "    }\n",
       "</style>\n",
       "<table border=\"1\" class=\"dataframe\">\n",
       "  <thead>\n",
       "    <tr style=\"text-align: right;\">\n",
       "      <th></th>\n",
       "      <th>month</th>\n",
       "      <th>temp</th>\n",
       "      <th>max_temp</th>\n",
       "      <th>ext_max_temp</th>\n",
       "      <th>min_temp</th>\n",
       "      <th>ext_min_temp</th>\n",
       "    </tr>\n",
       "  </thead>\n",
       "  <tbody>\n",
       "    <tr>\n",
       "      <th>0</th>\n",
       "      <td>2018-08</td>\n",
       "      <td>28.8</td>\n",
       "      <td>33.3</td>\n",
       "      <td>39.6</td>\n",
       "      <td>25.2</td>\n",
       "      <td>20.2</td>\n",
       "    </tr>\n",
       "    <tr>\n",
       "      <th>1</th>\n",
       "      <td>2013-08</td>\n",
       "      <td>27.7</td>\n",
       "      <td>31.1</td>\n",
       "      <td>33.9</td>\n",
       "      <td>24.8</td>\n",
       "      <td>21.1</td>\n",
       "    </tr>\n",
       "    <tr>\n",
       "      <th>2</th>\n",
       "      <td>2021-07</td>\n",
       "      <td>28.1</td>\n",
       "      <td>32.2</td>\n",
       "      <td>36.5</td>\n",
       "      <td>24.6</td>\n",
       "      <td>19.6</td>\n",
       "    </tr>\n",
       "    <tr>\n",
       "      <th>3</th>\n",
       "      <td>2016-08</td>\n",
       "      <td>28.0</td>\n",
       "      <td>32.6</td>\n",
       "      <td>36.6</td>\n",
       "      <td>24.5</td>\n",
       "      <td>16.1</td>\n",
       "    </tr>\n",
       "    <tr>\n",
       "      <th>4</th>\n",
       "      <td>2020-08</td>\n",
       "      <td>26.5</td>\n",
       "      <td>29.3</td>\n",
       "      <td>34.5</td>\n",
       "      <td>24.4</td>\n",
       "      <td>21.5</td>\n",
       "    </tr>\n",
       "    <tr>\n",
       "      <th>5</th>\n",
       "      <td>2017-07</td>\n",
       "      <td>26.9</td>\n",
       "      <td>30.4</td>\n",
       "      <td>35.4</td>\n",
       "      <td>24.3</td>\n",
       "      <td>21.9</td>\n",
       "    </tr>\n",
       "    <tr>\n",
       "      <th>6</th>\n",
       "      <td>2018-07</td>\n",
       "      <td>27.8</td>\n",
       "      <td>32.1</td>\n",
       "      <td>38.3</td>\n",
       "      <td>24.2</td>\n",
       "      <td>17.7</td>\n",
       "    </tr>\n",
       "    <tr>\n",
       "      <th>7</th>\n",
       "      <td>2006-08</td>\n",
       "      <td>27.0</td>\n",
       "      <td>31.1</td>\n",
       "      <td>34.7</td>\n",
       "      <td>23.9</td>\n",
       "      <td>20.8</td>\n",
       "    </tr>\n",
       "    <tr>\n",
       "      <th>8</th>\n",
       "      <td>2012-08</td>\n",
       "      <td>27.1</td>\n",
       "      <td>30.9</td>\n",
       "      <td>36.7</td>\n",
       "      <td>23.9</td>\n",
       "      <td>18.7</td>\n",
       "    </tr>\n",
       "    <tr>\n",
       "      <th>9</th>\n",
       "      <td>2010-08</td>\n",
       "      <td>26.5</td>\n",
       "      <td>30.0</td>\n",
       "      <td>33.8</td>\n",
       "      <td>23.8</td>\n",
       "      <td>19.9</td>\n",
       "    </tr>\n",
       "  </tbody>\n",
       "</table>\n",
       "</div>"
      ],
      "text/plain": [
       "     month  temp  max_temp  ext_max_temp  min_temp  ext_min_temp\n",
       "0  2018-08  28.8      33.3          39.6      25.2          20.2\n",
       "1  2013-08  27.7      31.1          33.9      24.8          21.1\n",
       "2  2021-07  28.1      32.2          36.5      24.6          19.6\n",
       "3  2016-08  28.0      32.6          36.6      24.5          16.1\n",
       "4  2020-08  26.5      29.3          34.5      24.4          21.5\n",
       "5  2017-07  26.9      30.4          35.4      24.3          21.9\n",
       "6  2018-07  27.8      32.1          38.3      24.2          17.7\n",
       "7  2006-08  27.0      31.1          34.7      23.9          20.8\n",
       "8  2012-08  27.1      30.9          36.7      23.9          18.7\n",
       "9  2010-08  26.5      30.0          33.8      23.8          19.9"
      ]
     },
     "execution_count": 103,
     "metadata": {},
     "output_type": "execute_result"
    }
   ],
   "source": [
    "# 오름차순 정렬\n",
    "temp=temp.sort_values('min_temp',ascending = False)\n",
    "\n",
    "temp.head(10)"
   ]
  },
  {
   "cell_type": "code",
   "execution_count": 105,
   "metadata": {},
   "outputs": [
    {
     "data": {
      "text/plain": [
       "<Axes: >"
      ]
     },
     "execution_count": 105,
     "metadata": {},
     "output_type": "execute_result"
    },
    {
     "data": {
      "image/png": "[encoded data removed]",
      "text/plain": [
       "<Figure size 640x480 with 1 Axes>"
      ]
     },
     "metadata": {},
     "output_type": "display_data"
    }
   ],
   "source": [
    "# 인덱스 초기화 \n",
    "temp.reset_index(drop=True, inplace = True)\n",
    "\n",
    "temp.head(10).plot()"
   ]
  },
  {
   "cell_type": "markdown",
   "metadata": {
    "id": "po7MS1EwXovc"
   },
   "source": [
    "## 2.4.기본 집계\n",
    "\n",
    "- 데이터를 좀더 이해하기 위해 고윳값, 합, 평균, 최댓값, 최솟값 등을 확인합니다."
   ]
  },
  {
   "cell_type": "markdown",
   "metadata": {
    "id": "DZwznq_YPFcP"
   },
   "source": [
    "### 2.4.1.고윳값 확인\n",
    "\n",
    "- 범주형 열(열이 가진 값이 일정한 값인 경우, 성별, 등급 등)인지 확인할 때 사용합니다."
   ]
  },
  {
   "cell_type": "markdown",
   "metadata": {
    "id": "ZyrGVDBw0iwp"
   },
   "source": [
    "**1) 고윳값 확인**\n",
    "\n",
    "- unique() 메서드로 고윳값을 확인하며, 결괏값은 배열 형태가 됩니다."
   ]
  },
  {
   "cell_type": "code",
   "execution_count": 125,
   "metadata": {
    "id": "A0c6CMhbEpSX"
   },
   "outputs": [
    {
     "data": {
      "text/plain": [
       "array(['Sun', 'Sat', 'Thur', 'Fri'], dtype=object)"
      ]
     },
     "execution_count": 125,
     "metadata": {},
     "output_type": "execute_result"
    }
   ],
   "source": [
    "# day 열 고윳값 확인\n",
    "tip['day'].unique()"
   ]
  },
  {
   "cell_type": "markdown",
   "metadata": {
    "id": "EYT80NSO0H0v"
   },
   "source": [
    "**2) 고윳값과 개수 확인**\n",
    "\n",
    "- value_counts() 메서드로 고윳값과 그 개수를 확인하며, 결괏값은 시리즈 형태가 됩니다.\n",
    "- dropna 옵션을 생략하거나 dropna=True로 지정하면 NaN 값은 대상에서 제외합니다."
   ]
  },
  {
   "cell_type": "code",
   "execution_count": 115,
   "metadata": {
    "id": "-Q-y5ii8OnRp"
   },
   "outputs": [
    {
     "data": {
      "text/plain": [
       "<Axes: xlabel='day'>"
      ]
     },
     "execution_count": 115,
     "metadata": {},
     "output_type": "execute_result"
    },
    {
     "data": {
      "image/png": "[encoded data removed]",
      "text/plain": [
       "<Figure size 640x480 with 1 Axes>"
      ]
     },
     "metadata": {},
     "output_type": "display_data"
    }
   ],
   "source": [
    "# day 열 고윳값 개수 확인\n",
    "tip['day'].value_counts().plot(kind='bar')"
   ]
  },
  {
   "cell_type": "code",
   "execution_count": 117,
   "metadata": {
    "id": "r14W1fvuPQHx"
   },
   "outputs": [
    {
     "data": {
      "text/plain": [
       "<Axes: xlabel='smoker'>"
      ]
     },
     "execution_count": 117,
     "metadata": {},
     "output_type": "execute_result"
    },
    {
     "data": {
      "image/png": "[encoded data removed]",
      "text/plain": [
       "<Figure size 640x480 with 1 Axes>"
      ]
     },
     "metadata": {},
     "output_type": "display_data"
    }
   ],
   "source": [
    "# smoker 열 고윳값 개수 확인\n",
    "tip['smoker'].value_counts().plot(kind='bar')"
   ]
  },
  {
   "cell_type": "code",
   "execution_count": 121,
   "metadata": {},
   "outputs": [
    {
     "data": {
      "text/plain": [
       "<Axes: xlabel='smoker'>"
      ]
     },
     "execution_count": 121,
     "metadata": {},
     "output_type": "execute_result"
    },
    {
     "data": {
      "image/png": "[encoded data removed]",
      "text/plain": [
       "<Figure size 640x480 with 1 Axes>"
      ]
     },
     "metadata": {},
     "output_type": "display_data"
    }
   ],
   "source": [
    "# 비율로 확인 nomalize = true \n",
    "tip['smoker'].value_counts(normalize =True).plot(kind='bar')"
   ]
  },
  {
   "cell_type": "markdown",
   "metadata": {
    "id": "7T0TyKesveFc"
   },
   "source": [
    "### 2.4.2.최빈값 확인\n",
    "\n",
    "- 최빈값은 가장 많이 관측되는 수, 즉 주어진 값 중에서 가장 자주 나오는 값입니다.\n",
    "- 예를 들어, {1, 3, 6, 6, 6, 7, 7, 12, 12, 17}의 최빈값은 6입니다.\n",
    "- 최빈값은 산술 평균과 달리 유일한 값이 아닐 수도 있습니다.\n",
    "- mode() 메서드로 최빈값을 확인할 수 있습니다.\n",
    "- 최빈값이 여렷인 경우 행으로 구분되어 표시됩니다."
   ]
  },
  {
   "cell_type": "code",
   "execution_count": 134,
   "metadata": {
    "id": "JDpCinG_vR8M"
   },
   "outputs": [
    {
     "data": {
      "text/plain": [
       "0    Sat\n",
       "Name: day, dtype: object"
      ]
     },
     "execution_count": 134,
     "metadata": {},
     "output_type": "execute_result"
    }
   ],
   "source": [
    "# day 열 최빈값 확인\n",
    "tip['day'].mode()"
   ]
  },
  {
   "cell_type": "code",
   "execution_count": 136,
   "metadata": {},
   "outputs": [
    {
     "data": {
      "text/plain": [
       "'Sat'"
      ]
     },
     "execution_count": 136,
     "metadata": {},
     "output_type": "execute_result"
    }
   ],
   "source": [
    "# day 열 최빈값 만 가져오기 \n",
    "tip['day'].mode()[0] "
   ]
  },
  {
   "cell_type": "code",
   "execution_count": 140,
   "metadata": {
    "id": "47uRqaqrvOSE"
   },
   "outputs": [
    {
     "data": {
      "text/plain": [
       "0    No\n",
       "Name: smoker, dtype: object"
      ]
     },
     "execution_count": 140,
     "metadata": {},
     "output_type": "execute_result"
    }
   ],
   "source": [
    "# smoker 열 최빈값 확인\n",
    "tip['smoker'].mode()\n",
    "\n"
   ]
  },
  {
   "cell_type": "code",
   "execution_count": 142,
   "metadata": {},
   "outputs": [
    {
     "data": {
      "text/plain": [
       "'No'"
      ]
     },
     "execution_count": 142,
     "metadata": {},
     "output_type": "execute_result"
    }
   ],
   "source": [
    "# smoker 열 최빈값 만 가져오기 \n",
    "tip['smoker'].mode()[0] "
   ]
  },
  {
   "cell_type": "markdown",
   "metadata": {
    "id": "E8SZpUovxdiq"
   },
   "source": [
    "### 2.4.3.기본 통계 메서드 사용\n",
    "\n",
    "- 데이터를 1차 집계 한 후 분석을 진행하는 경우가 많으므로 필히 알아두어야 할 내용입니다.\n",
    "- 이후에 배우는 Groupby 기능에서 같이 사용됩니다.\n",
    "- 우선 간단한 데이터프레임을 만들어 전체 집계를 해봅니디."
   ]
  },
  {
   "cell_type": "code",
   "execution_count": 144,
   "metadata": {
    "id": "69iLl3VUjg6a"
   },
   "outputs": [
    {
     "data": {
      "text/html": [
       "<div>\n",
       "<style scoped>\n",
       "    .dataframe tbody tr th:only-of-type {\n",
       "        vertical-align: middle;\n",
       "    }\n",
       "\n",
       "    .dataframe tbody tr th {\n",
       "        vertical-align: top;\n",
       "    }\n",
       "\n",
       "    .dataframe thead th {\n",
       "        text-align: right;\n",
       "    }\n",
       "</style>\n",
       "<table border=\"1\" class=\"dataframe\">\n",
       "  <thead>\n",
       "    <tr style=\"text-align: right;\">\n",
       "      <th></th>\n",
       "      <th>High</th>\n",
       "      <th>Low</th>\n",
       "      <th>Open</th>\n",
       "      <th>Close</th>\n",
       "    </tr>\n",
       "  </thead>\n",
       "  <tbody>\n",
       "    <tr>\n",
       "      <th>2019-02-15</th>\n",
       "      <td>94500</td>\n",
       "      <td>92100</td>\n",
       "      <td>92200</td>\n",
       "      <td>92300</td>\n",
       "    </tr>\n",
       "    <tr>\n",
       "      <th>2019-02-16</th>\n",
       "      <td>96500</td>\n",
       "      <td>93200</td>\n",
       "      <td>95900</td>\n",
       "      <td>94300</td>\n",
       "    </tr>\n",
       "    <tr>\n",
       "      <th>2019-02-17</th>\n",
       "      <td>93400</td>\n",
       "      <td>91900</td>\n",
       "      <td>93400</td>\n",
       "      <td>92100</td>\n",
       "    </tr>\n",
       "    <tr>\n",
       "      <th>2019-02-18</th>\n",
       "      <td>94200</td>\n",
       "      <td>92100</td>\n",
       "      <td>94100</td>\n",
       "      <td>92400</td>\n",
       "    </tr>\n",
       "    <tr>\n",
       "      <th>2019-02-19</th>\n",
       "      <td>94500</td>\n",
       "      <td>92500</td>\n",
       "      <td>94300</td>\n",
       "      <td>92600</td>\n",
       "    </tr>\n",
       "  </tbody>\n",
       "</table>\n",
       "</div>"
      ],
      "text/plain": [
       "             High    Low   Open  Close\n",
       "2019-02-15  94500  92100  92200  92300\n",
       "2019-02-16  96500  93200  95900  94300\n",
       "2019-02-17  93400  91900  93400  92100\n",
       "2019-02-18  94200  92100  94100  92400\n",
       "2019-02-19  94500  92500  94300  92600"
      ]
     },
     "execution_count": 144,
     "metadata": {},
     "output_type": "execute_result"
    }
   ],
   "source": [
    "# 리스트 만들기\n",
    "stock = [[94500, 92100, 92200, 92300],\n",
    "         [96500, 93200, 95900, 94300],\n",
    "         [93400, 91900, 93400, 92100],\n",
    "         [94200, 92100, 94100, 92400],\n",
    "         [94500, 92500, 94300, 92600]]\n",
    "dates = ['2019-02-15', '2019-02-16', '2019-02-17', '2019-02-18', '2019-02-19']\n",
    "names = ['High', 'Low', 'Open', 'Close']\n",
    "\n",
    "# 데이터프레임 만들기\n",
    "df = pd.DataFrame(stock, index=dates, columns=names)\n",
    "\n",
    "# 확인\n",
    "df.head()"
   ]
  },
  {
   "cell_type": "markdown",
   "metadata": {
    "id": "bBRm_5JG1CC5"
   },
   "source": [
    "<img src='https://raw.githubusercontent.com/jangrae/img/master/aggrigation.png' width=500 align=\"left\"/>"
   ]
  },
  {
   "cell_type": "markdown",
   "metadata": {
    "id": "p3F-HnhLkgUW"
   },
   "source": [
    "- df.sum()은 df.sum(axis=0) 과 같으며 전체 열 기준으로 합을 집계합니다\n",
    "- 전체 행 기준으로 집계를 하려면 df.sum(axis=1) 형태로 axis=1을 지정합니다."
   ]
  },
  {
   "cell_type": "code",
   "execution_count": 146,
   "metadata": {
    "id": "a9rl1nGFjywb"
   },
   "outputs": [
    {
     "data": {
      "text/plain": [
       "High     473100\n",
       "Low      461800\n",
       "Open     469900\n",
       "Close    463700\n",
       "dtype: int64"
      ]
     },
     "execution_count": 146,
     "metadata": {},
     "output_type": "execute_result"
    }
   ],
   "source": [
    "# 전체 열 기준 합\n",
    "df.sum(axis=0)"
   ]
  },
  {
   "cell_type": "code",
   "execution_count": 148,
   "metadata": {
    "id": "hW_3WL9kj1FY"
   },
   "outputs": [
    {
     "data": {
      "text/plain": [
       "2019-02-15    371100\n",
       "2019-02-16    379900\n",
       "2019-02-17    370800\n",
       "2019-02-18    372800\n",
       "2019-02-19    373900\n",
       "dtype: int64"
      ]
     },
     "execution_count": 148,
     "metadata": {},
     "output_type": "execute_result"
    }
   ],
   "source": [
    "# 전체 행 기준 합\n",
    "df.sum(axis=1)"
   ]
  },
  {
   "cell_type": "markdown",
   "metadata": {
    "id": "2yaciwGVleMi"
   },
   "source": [
    "- tip 데이터프레임에 대한 집계를 수행해 봅니다."
   ]
  },
  {
   "cell_type": "code",
   "execution_count": 175,
   "metadata": {
    "id": "VrhS8Ntzn5dl"
   },
   "outputs": [
    {
     "name": "stdout",
     "output_type": "stream",
     "text": [
      "<class 'pandas.core.frame.DataFrame'>\n",
      "RangeIndex: 244 entries, 0 to 243\n",
      "Data columns (total 7 columns):\n",
      " #   Column      Non-Null Count  Dtype  \n",
      "---  ------      --------------  -----  \n",
      " 0   total_bill  244 non-null    float64\n",
      " 1   tip         244 non-null    float64\n",
      " 2   sex         244 non-null    object \n",
      " 3   smoker      244 non-null    object \n",
      " 4   day         244 non-null    object \n",
      " 5   time        244 non-null    object \n",
      " 6   size        244 non-null    int64  \n",
      "dtypes: float64(2), int64(1), object(4)\n",
      "memory usage: 13.5+ KB\n"
     ]
    }
   ],
   "source": [
    "# tip 데이터프레임 확인\n",
    "tip.info()"
   ]
  },
  {
   "cell_type": "code",
   "execution_count": 177,
   "metadata": {
    "id": "yx6fF3MsnnqC"
   },
   "outputs": [
    {
     "data": {
      "text/plain": [
       "total_bill    4827.77\n",
       "tip            731.58\n",
       "size           627.00\n",
       "dtype: float64"
      ]
     },
     "execution_count": 177,
     "metadata": {},
     "output_type": "execute_result"
    }
   ],
   "source": [
    "# 전체 열 기준 합\n",
    "tip.sum(numeric_only = True)"
   ]
  },
  {
   "cell_type": "code",
   "execution_count": 179,
   "metadata": {
    "id": "gCTaAoghOtFd"
   },
   "outputs": [
    {
     "data": {
      "text/plain": [
       "4827.77"
      ]
     },
     "execution_count": 179,
     "metadata": {},
     "output_type": "execute_result"
    }
   ],
   "source": [
    "# total_bill 열 합계 조회\n",
    "tip['total_bill'].sum()"
   ]
  },
  {
   "cell_type": "code",
   "execution_count": 183,
   "metadata": {
    "id": "uSatNX0BBNpe"
   },
   "outputs": [
    {
     "data": {
      "text/plain": [
       "10.0"
      ]
     },
     "execution_count": 183,
     "metadata": {},
     "output_type": "execute_result"
    }
   ],
   "source": [
    "# tip 열 최댓값 조회\n",
    "tip['tip'].max()"
   ]
  },
  {
   "cell_type": "code",
   "execution_count": 185,
   "metadata": {
    "id": "EN1swYgLBDTI"
   },
   "outputs": [
    {
     "data": {
      "text/plain": [
       "19.78594262295082"
      ]
     },
     "execution_count": 185,
     "metadata": {},
     "output_type": "execute_result"
    }
   ],
   "source": [
    "# total_bill, tip 열 평균값 확인\n",
    "tip['total_bill'].mean()"
   ]
  },
  {
   "cell_type": "code",
   "execution_count": 187,
   "metadata": {},
   "outputs": [
    {
     "data": {
      "text/plain": [
       "2.99827868852459"
      ]
     },
     "execution_count": 187,
     "metadata": {},
     "output_type": "execute_result"
    }
   ],
   "source": [
    "# tip 열 평균값 조회 \n",
    "tip['tip'].mean()"
   ]
  },
  {
   "cell_type": "code",
   "execution_count": 189,
   "metadata": {
    "id": "7PQLVC7MIOSY"
   },
   "outputs": [
    {
     "data": {
      "text/plain": [
       "2.9"
      ]
     },
     "execution_count": 189,
     "metadata": {},
     "output_type": "execute_result"
    }
   ],
   "source": [
    "# total_bill, tip 열 중앙값 확인\n",
    "tip['total_bill'].median()\n",
    "tip['tip'].median()"
   ]
  },
  {
   "cell_type": "markdown",
   "metadata": {
    "id": "4-12_zGOGkYo"
   },
   "source": [
    "<img src='https://raw.githubusercontent.com/jangrae/img/master/practice_01.png' width=120 align=\"left\"/>"
   ]
  },
  {
   "cell_type": "markdown",
   "metadata": {
    "id": "bjj1TKoHFmiJ"
   },
   "source": [
    "[문1] 다음 경로의 파일을 읽어와 temp 데이터프레임을 선언하세요.\n",
    "\n",
    "- 파일 경로: 'https://raw.githubusercontent.com/Jangrae/csv/master/weather_simple.csv'"
   ]
  },
  {
   "cell_type": "code",
   "execution_count": 156,
   "metadata": {
    "id": "doRkZOJqFmiK"
   },
   "outputs": [
    {
     "data": {
      "text/html": [
       "<div>\n",
       "<style scoped>\n",
       "    .dataframe tbody tr th:only-of-type {\n",
       "        vertical-align: middle;\n",
       "    }\n",
       "\n",
       "    .dataframe tbody tr th {\n",
       "        vertical-align: top;\n",
       "    }\n",
       "\n",
       "    .dataframe thead th {\n",
       "        text-align: right;\n",
       "    }\n",
       "</style>\n",
       "<table border=\"1\" class=\"dataframe\">\n",
       "  <thead>\n",
       "    <tr style=\"text-align: right;\">\n",
       "      <th></th>\n",
       "      <th>month</th>\n",
       "      <th>temp</th>\n",
       "      <th>max_temp</th>\n",
       "      <th>ext_max_temp</th>\n",
       "      <th>min_temp</th>\n",
       "      <th>ext_min_temp</th>\n",
       "    </tr>\n",
       "  </thead>\n",
       "  <tbody>\n",
       "    <tr>\n",
       "      <th>0</th>\n",
       "      <td>2005-01</td>\n",
       "      <td>-2.5</td>\n",
       "      <td>1.5</td>\n",
       "      <td>7.3</td>\n",
       "      <td>-6.2</td>\n",
       "      <td>-11.0</td>\n",
       "    </tr>\n",
       "    <tr>\n",
       "      <th>1</th>\n",
       "      <td>2005-02</td>\n",
       "      <td>-1.9</td>\n",
       "      <td>2.2</td>\n",
       "      <td>10.5</td>\n",
       "      <td>-5.5</td>\n",
       "      <td>-13.1</td>\n",
       "    </tr>\n",
       "    <tr>\n",
       "      <th>2</th>\n",
       "      <td>2005-03</td>\n",
       "      <td>4.1</td>\n",
       "      <td>8.8</td>\n",
       "      <td>17.6</td>\n",
       "      <td>0.2</td>\n",
       "      <td>-6.5</td>\n",
       "    </tr>\n",
       "    <tr>\n",
       "      <th>3</th>\n",
       "      <td>2005-04</td>\n",
       "      <td>13.2</td>\n",
       "      <td>18.1</td>\n",
       "      <td>29.8</td>\n",
       "      <td>8.9</td>\n",
       "      <td>4.1</td>\n",
       "    </tr>\n",
       "    <tr>\n",
       "      <th>4</th>\n",
       "      <td>2005-05</td>\n",
       "      <td>17.7</td>\n",
       "      <td>22.9</td>\n",
       "      <td>30.2</td>\n",
       "      <td>13.0</td>\n",
       "      <td>6.3</td>\n",
       "    </tr>\n",
       "  </tbody>\n",
       "</table>\n",
       "</div>"
      ],
      "text/plain": [
       "     month  temp  max_temp  ext_max_temp  min_temp  ext_min_temp\n",
       "0  2005-01  -2.5       1.5           7.3      -6.2         -11.0\n",
       "1  2005-02  -1.9       2.2          10.5      -5.5         -13.1\n",
       "2  2005-03   4.1       8.8          17.6       0.2          -6.5\n",
       "3  2005-04  13.2      18.1          29.8       8.9           4.1\n",
       "4  2005-05  17.7      22.9          30.2      13.0           6.3"
      ]
     },
     "execution_count": 156,
     "metadata": {},
     "output_type": "execute_result"
    }
   ],
   "source": [
    "# 데이터 읽어오기\n",
    "\n",
    "temp = pd.read_csv( 'https://raw.githubusercontent.com/Jangrae/csv/master/weather_simple.csv')\n",
    "\n",
    "# 확인\n",
    "temp.head()"
   ]
  },
  {
   "cell_type": "markdown",
   "metadata": {
    "id": "2hWEwIAJGkYv"
   },
   "source": [
    "[문2] max_temp 최댓값을 확인하세요."
   ]
  },
  {
   "cell_type": "code",
   "execution_count": 164,
   "metadata": {
    "id": "sHmY3X1YGkYv"
   },
   "outputs": [
    {
     "data": {
      "text/plain": [
       "33.3"
      ]
     },
     "execution_count": 164,
     "metadata": {},
     "output_type": "execute_result"
    }
   ],
   "source": [
    "# max_temp 열 최댓값\n",
    "\n",
    "temp['max_temp'].max()"
   ]
  },
  {
   "cell_type": "markdown",
   "metadata": {
    "id": "4IA83NgPG4-o"
   },
   "source": [
    "[문3] min_temp, ext_min_temp 최솟값을 확인하세요."
   ]
  },
  {
   "cell_type": "code",
   "execution_count": 167,
   "metadata": {
    "id": "WZW4L_k3G4-p"
   },
   "outputs": [
    {
     "data": {
      "text/plain": [
       "-18.6"
      ]
     },
     "execution_count": 167,
     "metadata": {},
     "output_type": "execute_result"
    }
   ],
   "source": [
    "# min_temp, ext_min_temp 열 최솟값\n",
    "temp['min_temp'].min()\n",
    "\n",
    "temp['ext_min_temp'].min()"
   ]
  },
  {
   "cell_type": "code",
   "execution_count": null,
   "metadata": {},
   "outputs": [],
   "source": []
  },
  {
   "cell_type": "code",
   "execution_count": null,
   "metadata": {},
   "outputs": [],
   "source": []
  }
 ],
 "metadata": {
  "colab": {
   "provenance": []
  },
  "kernelspec": {
   "display_name": "Python 3 (ipykernel)",
   "language": "python",
   "name": "python3"
  },
  "language_info": {
   "codemirror_mode": {
    "name": "ipython",
    "version": 3
   },
   "file_extension": ".py",
   "mimetype": "text/x-python",
   "name": "python",
   "nbconvert_exporter": "python",
   "pygments_lexer": "ipython3",
   "version": "3.12.4"
  }
 },
 "nbformat": 4,
 "nbformat_minor": 4
}
