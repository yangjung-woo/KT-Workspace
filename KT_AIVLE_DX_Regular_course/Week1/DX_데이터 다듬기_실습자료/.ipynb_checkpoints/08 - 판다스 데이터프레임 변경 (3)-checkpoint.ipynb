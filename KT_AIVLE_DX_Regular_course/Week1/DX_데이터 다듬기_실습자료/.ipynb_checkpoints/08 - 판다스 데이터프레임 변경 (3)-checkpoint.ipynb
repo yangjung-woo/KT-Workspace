{
 "cells": [
  {
   "cell_type": "markdown",
   "metadata": {
    "id": "BFhIXgdYoYGp"
   },
   "source": [
    "<center><img src='https://raw.githubusercontent.com/Jangrae/img/master/title.png' width=500/></center>"
   ]
  },
  {
   "cell_type": "markdown",
   "metadata": {
    "id": "eRPNqQjA9RM8"
   },
   "source": [
    "# 7.데이터프레임 변경 (3)"
   ]
  },
  {
   "cell_type": "code",
   "execution_count": null,
   "metadata": {
    "id": "b9NraxWDnYr1"
   },
   "outputs": [],
   "source": [
    "# 라이브러리 불러오기\n"
   ]
  },
  {
   "cell_type": "markdown",
   "metadata": {
    "id": "TKXSGj6GW2sU"
   },
   "source": [
    "## 7.1. 데이터프레임 합치기(Concat)\n",
    "\n",
    "- **concat()** 함수를 사용해 **인덱스 값을 기준으로** 두 데이터프레임을 가로 또는 세로로 합칠 수 있습니다.\n"
   ]
  },
  {
   "cell_type": "markdown",
   "metadata": {
    "id": "Ai1-9_qwNth_"
   },
   "source": [
    "### 7.1.1.가로로 합치기\n",
    "\n",
    "- **axis=1** 옵션을 지정해 가로로 합칠 수 있습니다."
   ]
  },
  {
   "cell_type": "markdown",
   "metadata": {
    "id": "E0SAH5cR9MSg"
   },
   "source": [
    "<img src='https://raw.githubusercontent.com/Jangrae/img/master/concat_ax1.png' width=500, align=\"left\"/>"
   ]
  },
  {
   "cell_type": "markdown",
   "metadata": {
    "id": "u6QfphTxVsxF"
   },
   "source": [
    "**1) 데이터 읽어오기**"
   ]
  },
  {
   "cell_type": "code",
   "execution_count": null,
   "metadata": {
    "id": "SOiVUXk_nlEl"
   },
   "outputs": [],
   "source": [
    "# 서울 인구정보 읽어오기 #1\n",
    "path = 'https://raw.githubusercontent.com/Jangrae/csv/master/seoul_pop_h01.csv'\n",
    "pop01 = pd.read_csv(path, index_col='year')\n",
    "pop01.index.name = None\n",
    "\n",
    "# 확인\n",
    "pop01.head(10)"
   ]
  },
  {
   "cell_type": "code",
   "execution_count": null,
   "metadata": {
    "id": "9w2LWwOzVaAa"
   },
   "outputs": [],
   "source": [
    "# 서울 인구정보 읽어오기 #2\n",
    "path = 'https://raw.githubusercontent.com/Jangrae/csv/master/seoul_pop_h02.csv'\n",
    "pop02 = pd.read_csv(path, index_col='year')\n",
    "pop02.index.name = None\n",
    "\n",
    "# 확인\n",
    "pop02.head(10)"
   ]
  },
  {
   "cell_type": "markdown",
   "metadata": {
    "id": "e2QtLRzgJSfv"
   },
   "source": [
    "**2) 데이터프레임 합치기**\n",
    "\n",
    "- 이제 **concat()** 함수를 사용해 두 데이터프레임을 합쳐봅니다.\n",
    "- 가로로 합치므로 **axis=1** 옵션을 지정합니다.\n",
    "- join='outer'는 기본 옵션값이므로 생략이 가능합니다."
   ]
  },
  {
   "cell_type": "code",
   "execution_count": null,
   "metadata": {
    "id": "e2JTK2AzJPvI"
   },
   "outputs": [],
   "source": [
    "# 모든 열 합치기\n",
    "pop =\n",
    "\n",
    "# 확인\n",
    "pop.head(10)"
   ]
  },
  {
   "cell_type": "markdown",
   "metadata": {
    "id": "xgfGAfFfJkYq"
   },
   "source": [
    "- pop02 데이터프레임에는 1981~1984년 데이터가 없어 합쳐진 결과에 결측치가 생깁니다.\n",
    "- join='inner' 옵션을 지정하면 매핑되지 못한 행은 제외됩니다."
   ]
  },
  {
   "cell_type": "code",
   "execution_count": null,
   "metadata": {
    "id": "QG_IsO1nI7lt"
   },
   "outputs": [],
   "source": [
    "# 모든 열 합치기\n",
    "pop =\n",
    "\n",
    "# 확인\n",
    "pop.head(10)"
   ]
  },
  {
   "cell_type": "markdown",
   "metadata": {
    "id": "FALUn2QYJ6r_"
   },
   "source": [
    "### 7.1.2.세로로 합치기\n",
    "\n",
    "\n",
    "- **axis=0** 옵션을 지정해 세로로 합칠 수 있습니다.(기본값)"
   ]
  },
  {
   "cell_type": "markdown",
   "metadata": {
    "id": "PSmjf_uLMWGw"
   },
   "source": [
    "<img src='https://raw.githubusercontent.com/Jangrae/img/master/concat_ax0.png' width=450, align=\"left\"/>"
   ]
  },
  {
   "cell_type": "markdown",
   "metadata": {
    "id": "c6OmWbzqJ6sA"
   },
   "source": [
    "**1) 데이터 읽어오기**\n"
   ]
  },
  {
   "cell_type": "code",
   "execution_count": null,
   "metadata": {
    "id": "z7r8xxi8J6sC"
   },
   "outputs": [],
   "source": [
    "# 서울 인구정보 읽어오기 #1\n",
    "path = 'https://raw.githubusercontent.com/Jangrae/csv/master/seoul_pop_v01.csv'\n",
    "pop01 = pd.read_csv(path)\n",
    "\n",
    "# 확인\n",
    "pop01.head()"
   ]
  },
  {
   "cell_type": "code",
   "execution_count": null,
   "metadata": {
    "id": "zN7wOKMwJ6sS"
   },
   "outputs": [],
   "source": [
    "# 서울 인구정보 읽어오기 #2\n",
    "path = 'https://raw.githubusercontent.com/Jangrae/csv/master/seoul_pop_v02.csv'\n",
    "pop02 = pd.read_csv(path)\n",
    "\n",
    "# 확인\n",
    "pop02.head(10)"
   ]
  },
  {
   "cell_type": "markdown",
   "metadata": {
    "id": "5EinAPQPJ6sT"
   },
   "source": [
    "**2) 데이터프레임 합치기**\n",
    "\n",
    "- 이제 **concat()** 함수를 사용해 두 데이터프레임을 합쳐봅니다.\n",
    "- 세로로 합치므로 **axis=0** 옵션을 지정하거나 생략합니다."
   ]
  },
  {
   "cell_type": "code",
   "execution_count": null,
   "metadata": {
    "id": "M1pucV1cJ6sT"
   },
   "outputs": [],
   "source": [
    "# 모든 행 합치기\n",
    "pop =\n",
    "\n",
    "# 확인\n",
    "pop"
   ]
  },
  {
   "cell_type": "markdown",
   "metadata": {
    "id": "R-qgH4Npk2CB"
   },
   "source": [
    "- 세로로 합해지면 인덱스 값이 중복될 수 있으므로 인덱스를 초기화합니다."
   ]
  },
  {
   "cell_type": "code",
   "execution_count": null,
   "metadata": {
    "id": "WFLv7qCpktak"
   },
   "outputs": [],
   "source": [
    "# 인덱스 초기화\n",
    "\n",
    "\n",
    "# 확인\n",
    "pop"
   ]
  },
  {
   "cell_type": "markdown",
   "metadata": {
    "id": "naoHbouH4-uf"
   },
   "source": [
    "**3) 참고: 인구 변화량 시각화**\n",
    "\n",
    "- 인구 변화량을 간단히 시각화 해봅니다."
   ]
  },
  {
   "cell_type": "code",
   "execution_count": null,
   "metadata": {
    "id": "BPDPtal25ItW"
   },
   "outputs": [],
   "source": [
    "# 라이브러리 불러오기\n",
    "import matplotlib.pyplot as plt\n",
    "\n",
    "# 시각화\n",
    "plt.plot(pop['year'], pop['k_male'])\n",
    "plt.show()"
   ]
  },
  {
   "cell_type": "markdown",
   "metadata": {
    "id": "4I9g3Rk05pUk"
   },
   "source": [
    "- y축에 여러 값을 표시할 수 있습니다. 이때는 범례를 표시하는 것이 좋습니다."
   ]
  },
  {
   "cell_type": "code",
   "execution_count": null,
   "metadata": {
    "id": "JeL3agTo5Wd1"
   },
   "outputs": [],
   "source": [
    "# 시각화\n",
    "plt.plot(pop['year'], pop[['k_male', 'k_female']])\n",
    "plt.legend(['k_male', 'k_female'])\n",
    "plt.show()"
   ]
  },
  {
   "cell_type": "markdown",
   "metadata": {
    "id": "0Cq3lmVb5oj2"
   },
   "source": [
    "## 7.2.데이터프레임 조인(Merge)\n",
    "\n",
    "- **merge()** 함수를 사용 두 데이터프레임을 지정한 키 값을 기준으로 병합할 수 있습니다."
   ]
  },
  {
   "cell_type": "markdown",
   "metadata": {
    "id": "KqOHu2W4C_0R"
   },
   "source": [
    "<img src='https://raw.githubusercontent.com/Jangrae/img/master/join.png' width=600, align=\"left\"/>"
   ]
  },
  {
   "cell_type": "markdown",
   "metadata": {
    "id": "npocTmMLLuQj"
   },
   "source": [
    "### 7.2.1.데이터 읽어오기"
   ]
  },
  {
   "cell_type": "code",
   "execution_count": null,
   "metadata": {
    "id": "WGSai17VLuQ6"
   },
   "outputs": [],
   "source": [
    "# 서울 인구정보 읽어오기 #1\n",
    "path = 'https://raw.githubusercontent.com/Jangrae/csv/master/seoul_pop_h01.csv'\n",
    "pop01 = pd.read_csv(path)\n",
    "\n",
    "# 확인\n",
    "pop01.head(10)"
   ]
  },
  {
   "cell_type": "code",
   "execution_count": null,
   "metadata": {
    "id": "_nR7Xni4LuQ7"
   },
   "outputs": [],
   "source": [
    "# 서울 인구정보 읽어오기 #2\n",
    "path = 'https://raw.githubusercontent.com/Jangrae/csv/master/seoul_pop_h02.csv'\n",
    "pop02 = pd.read_csv(path)\n",
    "\n",
    "# 확인\n",
    "pop02.head(10)"
   ]
  },
  {
   "cell_type": "markdown",
   "metadata": {
    "id": "6DbFlvK6olV4"
   },
   "source": [
    "### 7.2.2.inner 조인\n",
    "\n",
    "- 같은 이름의 열이 있으면 on 옵션을 지정하지 않아도 그 열을 기준으로 조인됩니다.\n",
    "- 그래도 기준 열을 명시적으로 지정해 주기를 권고합니다.\n",
    "- how='inner' 옵션은 기본 옵션값이므로 생략할 수 있습니다."
   ]
  },
  {
   "cell_type": "code",
   "execution_count": null,
   "metadata": {
    "id": "j5DGezR_GTc6"
   },
   "outputs": [],
   "source": [
    "# 조인\n",
    "pop =\n",
    "\n",
    "# 확인\n",
    "pop.head(10)"
   ]
  },
  {
   "cell_type": "markdown",
   "metadata": {
    "id": "esr7F4UiMD6I"
   },
   "source": [
    "### 7.2.3.outer 조인\n",
    "\n",
    "- how='outer' 옵션을 지정합니다."
   ]
  },
  {
   "cell_type": "code",
   "execution_count": null,
   "metadata": {
    "id": "Zlbcjbb8MD6L"
   },
   "outputs": [],
   "source": [
    "# 조인\n",
    "pop =\n",
    "\n",
    "# 확인\n",
    "pop.head(10)"
   ]
  }
 ],
 "metadata": {
  "colab": {
   "provenance": []
  },
  "gpuClass": "standard",
  "kernelspec": {
   "display_name": "Python 3 (ipykernel)",
   "language": "python",
   "name": "python3"
  },
  "language_info": {
   "codemirror_mode": {
    "name": "ipython",
    "version": 3
   },
   "file_extension": ".py",
   "mimetype": "text/x-python",
   "name": "python",
   "nbconvert_exporter": "python",
   "pygments_lexer": "ipython3",
   "version": "3.10.9"
  }
 },
 "nbformat": 4,
 "nbformat_minor": 4
}
