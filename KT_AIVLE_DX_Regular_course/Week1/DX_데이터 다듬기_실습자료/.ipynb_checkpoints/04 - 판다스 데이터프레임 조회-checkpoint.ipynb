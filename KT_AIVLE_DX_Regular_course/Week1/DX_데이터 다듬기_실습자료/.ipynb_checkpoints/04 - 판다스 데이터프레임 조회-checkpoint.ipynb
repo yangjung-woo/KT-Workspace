{
 "cells": [
  {
   "cell_type": "markdown",
   "metadata": {
    "id": "BFhIXgdYoYGp"
   },
   "source": [
    "<center><img src='https://raw.githubusercontent.com/Jangrae/img/master/title.png' width=500/></center>"
   ]
  },
  {
   "cell_type": "markdown",
   "metadata": {
    "id": "-sdzPN0Uwxi2"
   },
   "source": [
    "# 3.데이터프레임 조회\n",
    "\n",
    "- 보고자 하는 데이터를 즉시 조회할 수 있도록 반복 학습과 실습을 통해 익숙해져야 합니다.\n",
    "- 데이터프레임을 대상으로 조회하는 방법은 다양합니다.\n",
    "- 그 중 한 가지 방법을 선택해 일관되게 사용하기를 권고합니다."
   ]
  },
  {
   "cell_type": "code",
   "execution_count": null,
   "metadata": {
    "id": "0wzhP3IXYnVQ"
   },
   "outputs": [],
   "source": [
    "# 라이브러리 불러오기\n"
   ]
  },
  {
   "cell_type": "markdown",
   "metadata": {
    "id": "WUSoqSxcYnV5"
   },
   "source": [
    "## 3.1.데이터 읽어오기"
   ]
  },
  {
   "cell_type": "code",
   "execution_count": null,
   "metadata": {
    "id": "5RNOXdO-ATkn",
    "scrolled": true
   },
   "outputs": [],
   "source": [
    "# 데이터 읽어오기\n",
    "path = 'https://raw.githubusercontent.com/Jangrae/csv/master/tips.csv'\n",
    "tip =\n",
    "\n",
    "# 확인\n"
   ]
  },
  {
   "cell_type": "markdown",
   "metadata": {
    "id": "Mt5BqItLATk8"
   },
   "source": [
    "## 3.2.특정 열 조회\n",
    "\n",
    "- **df.loc[ : , [열 이름1, 열 이름2,...]]** 형태로 조회할 열 이름을 리스트로 지정합니다.\n",
    "- 조회할 열이 하나면 리스트 형태가 아니어도 됩니다.\n",
    "- 열 부분은 생략할 수 있었지만, **행 부분을 생략할 수는 없습니다.**\n",
    "- 하지만 **df[[열 이름1, 열 이름2,...]]** 형태로 인덱서를 생략함이 일반적입니다."
   ]
  },
  {
   "cell_type": "code",
   "execution_count": null,
   "metadata": {
    "id": "lcmP48_qmiVd"
   },
   "outputs": [],
   "source": [
    "# total_bill 열 조회\n"
   ]
  },
  {
   "cell_type": "code",
   "execution_count": null,
   "metadata": {
    "id": "iFPT5P2jRFSa"
   },
   "outputs": [],
   "source": [
    "# tip, total_bill 열 조회\n"
   ]
  },
  {
   "cell_type": "markdown",
   "metadata": {
    "id": "mHrKYYWip4Es"
   },
   "source": [
    "<img src='https://raw.githubusercontent.com/jangrae/img/master/practice_01.png' width=120 align=\"left\"/>"
   ]
  },
  {
   "cell_type": "markdown",
   "metadata": {
    "id": "-hv9haY7DLyU"
   },
   "source": [
    "[문1] tip 데이터프레임에 대해 아래 요구사항에 맞는 구문을 작성하고 실행하세요."
   ]
  },
  {
   "cell_type": "code",
   "execution_count": null,
   "metadata": {
    "id": "-VJoVHxgJQSn"
   },
   "outputs": [],
   "source": [
    "# 상위 5개 행 조회\n"
   ]
  },
  {
   "cell_type": "code",
   "execution_count": null,
   "metadata": {
    "id": "QKSCi3-BCVlI"
   },
   "outputs": [],
   "source": [
    "# tip 열만 조회\n"
   ]
  },
  {
   "cell_type": "code",
   "execution_count": null,
   "metadata": {
    "id": "6SdhRJ2SW-eL"
   },
   "outputs": [],
   "source": [
    "# tip, day, time 열만 조회\n"
   ]
  },
  {
   "cell_type": "code",
   "execution_count": null,
   "metadata": {
    "id": "AqjqXOaUJlQP"
   },
   "outputs": [],
   "source": [
    "# tip, day, time 열만 tip 열 기준으로 내림차순 정렬해서 조회\n"
   ]
  },
  {
   "cell_type": "markdown",
   "metadata": {
    "id": "p1J4M4xzFbOW"
   },
   "source": [
    "## 3.3.열 범위 조회\n",
    "\n",
    "- 범위 조회는 **df.loc[:, 열 이름1:열 이름2]** 형태로 조회합니다.\n",
    "- 범위는 하나만 지정할 수 있어 리스트가 될 수 없으니 대괄호를 사용하지 않습니다.\n",
    "- 범위 마지막 열도 조회 대상에 포함됩니다.\n"
   ]
  },
  {
   "cell_type": "code",
   "execution_count": null,
   "metadata": {
    "id": "4VatHYH5FbOX"
   },
   "outputs": [],
   "source": [
    "# sex ~ time 열 조회\n"
   ]
  },
  {
   "cell_type": "markdown",
   "metadata": {
    "id": "OK5DYqPYwxnB"
   },
   "source": [
    "## 3.4.조건으로 조회\n",
    "\n",
    "- **df.loc[조건]** 형태로 조건을 지정해 조건에 만족하는 데이터만 조회할 수 있습니다.\n",
    "- 우선 조건이 제대로 판단이 되는지 확인한 후 그 **조건을 대괄호 안에** 넣으면 됩니다."
   ]
  },
  {
   "cell_type": "markdown",
   "metadata": {
    "id": "60zsY0EGATpv"
   },
   "source": [
    "**1) 단일 조건 조회**"
   ]
  },
  {
   "cell_type": "code",
   "execution_count": null,
   "metadata": {
    "id": "Kp2lBEDTYnWI",
    "scrolled": true
   },
   "outputs": [],
   "source": [
    "# tip 열 값이 6.0 보다 큰 행 조회\n"
   ]
  },
  {
   "cell_type": "markdown",
   "metadata": {
    "id": "dot997_e9qKZ"
   },
   "source": [
    "- 조건을 변수로 선언해 사용할 수 있습니다."
   ]
  },
  {
   "cell_type": "code",
   "execution_count": null,
   "metadata": {
    "id": "d9Sc8p159dCn",
    "scrolled": true
   },
   "outputs": [],
   "source": [
    "# tip 열 값이 6.0 보다 큰 행 조회\n",
    "\n"
   ]
  },
  {
   "cell_type": "markdown",
   "metadata": {
    "id": "JkiA7cEsATq9"
   },
   "source": [
    "**2) 여러 조건 조회**\n",
    "\n",
    "- [ ]안에 조건을 여러개 연결할 때 and와 or 대신에 &와 |를 사용해야 합니다.\n",
    "- 그리고 각 조건들은 **(조건1) & (조건2)** 형태로 괄호로 묶어야 합니다."
   ]
  },
  {
   "cell_type": "code",
   "execution_count": null,
   "metadata": {
    "id": "Vj3YKKw3YnWL",
    "scrolled": true
   },
   "outputs": [],
   "source": [
    "# and로 여러 조건 연결 (tip > 6.0 and day == Sat)\n"
   ]
  },
  {
   "cell_type": "code",
   "execution_count": null,
   "metadata": {
    "id": "KN6bdUHgLM1C"
   },
   "outputs": [],
   "source": [
    "# or로 여러 조건 연결 (tip > 6.0 or day == Sat)\n"
   ]
  },
  {
   "cell_type": "markdown",
   "metadata": {
    "id": "uiFKTXgA2OLW"
   },
   "source": [
    "**3) 편리한 isin(), between() 메서드**\n",
    "\n",
    "- **isin([값1, 값2,..., 값n])**: 값1 또는 값2 또는...값n인 데이터만 조회합니다."
   ]
  },
  {
   "cell_type": "code",
   "execution_count": null,
   "metadata": {
    "id": "QcvToTXBYnWJ"
   },
   "outputs": [],
   "source": [
    "# 값 나열 (day가 Sat 또는 Sun)\n"
   ]
  },
  {
   "cell_type": "markdown",
   "metadata": {
    "id": "mVeKzYrtMONl"
   },
   "source": [
    "- 위 구문은 다음과 같은 의미를 갖습니다."
   ]
  },
  {
   "cell_type": "code",
   "execution_count": null,
   "metadata": {
    "id": "LJV566VUwxnO"
   },
   "outputs": [],
   "source": [
    "# or 조건\n",
    "tip.loc[(tip['day'] == 'Sat') | (tip['day'] == 'Sun')]"
   ]
  },
  {
   "cell_type": "markdown",
   "metadata": {
    "id": "tEv4D7z_3kBn"
   },
   "source": [
    "- **between(값1, 값2)**: 값1 ~ 값2까지 범위안의 데이터만 조회합니다."
   ]
  },
  {
   "cell_type": "code",
   "execution_count": null,
   "metadata": {
    "id": "IvnE4lU12L2H"
   },
   "outputs": [],
   "source": [
    "# 범위 지정 ( 1 <= size <= 3)\n"
   ]
  },
  {
   "cell_type": "markdown",
   "metadata": {
    "id": "a0HUcr_TMHxa"
   },
   "source": [
    "- 위 구문은 다음과 같은 의미를 갖습니다."
   ]
  },
  {
   "cell_type": "code",
   "execution_count": null,
   "metadata": {
    "id": "9Qw8PEVn4dBd"
   },
   "outputs": [],
   "source": [
    "# and 조건\n",
    "tip.loc[(tip['size'] >= 1) & (tip['size'] <= 3)]"
   ]
  },
  {
   "cell_type": "markdown",
   "metadata": {
    "id": "NOAU79x5ATrR"
   },
   "source": [
    "**4) 조건을 만족하는 행의 일부 열 조회**\n",
    "\n",
    "- **df.loc[조건, ['열 이름1', '열 이름2',...]]** 형태로 조회할 열을 리스트로 지정합니다."
   ]
  },
  {
   "cell_type": "code",
   "execution_count": null,
   "metadata": {
    "id": "YP0xnwhwATrS"
   },
   "outputs": [],
   "source": [
    "# 조건에 맞는 하나의 열 조회\n",
    "tip.loc[tip['size'] >= 5, ['tip']]"
   ]
  },
  {
   "cell_type": "code",
   "execution_count": null,
   "metadata": {
    "id": "Ik6uFmsyi8FQ"
   },
   "outputs": [],
   "source": [
    "# 조건에 맞는 여러 열 조회\n",
    "tip.loc[tip['size'] >= 5, ['total_bill', 'tip', 'size']]"
   ]
  },
  {
   "cell_type": "markdown",
   "metadata": {
    "id": "nPBrVNzW1hZt"
   },
   "source": [
    "## 3.5.조회 정리\n",
    "\n",
    "\n",
    "- 지금까지 배운 데이터프레임 조회에 대해 정리합니다."
   ]
  },
  {
   "cell_type": "markdown",
   "metadata": {
    "id": "IZqUTGY45MmC"
   },
   "source": [
    "<img src='https://raw.githubusercontent.com/jangrae/img/master/loc.png' width=750 align=\"left\"/>"
   ]
  },
  {
   "cell_type": "markdown",
   "metadata": {
    "id": "cP1I701S2Tey"
   },
   "source": [
    "- 굵게 표시된 코드형태로 조회하되, 원래 코드가 무엇인지는 꼭 알고 있어야 합니다.\n",
    "- 조건 조회 시 열 정보가 생략되면 loc 를 생략할 수 있으나 생략하지 않기를 권고합니다.\n",
    "- df['score'] 를 df.score로 작성할 수 있으나 df['score'] 형태로 사용하기를 권고합니다."
   ]
  },
  {
   "cell_type": "markdown",
   "metadata": {
    "id": "SbiLDBlA2f6-"
   },
   "source": [
    "## 3.6.인덱스 초기화\n",
    "\n",
    "- 다음과 같은 경우 인덱스 초기화가 필요합니다.\n",
    "    - 기존 데이터프레임에서 일부 행을 가져와 새로 만든 데이터프레임\n",
    "    - 일부 행이 지워진 데이터프레임\n",
    "- 특히 0부터 시작하는 정수형 인덱스의 경우 초기화를 하는 것이 좋습니다.\n",
    "- 깔끔한 데이터가 사용하기 좋은 데이터입니다."
   ]
  },
  {
   "cell_type": "code",
   "execution_count": null,
   "metadata": {
    "id": "m7MRXInaWkBj"
   },
   "outputs": [],
   "source": [
    "# tip 열이 6 이상인 행 축출\n",
    "good = tip.loc[tip['tip'] >= 6]\n",
    "\n",
    "# 확인\n",
    "good"
   ]
  },
  {
   "cell_type": "markdown",
   "metadata": {
    "id": "WZr4nzcRXkIE"
   },
   "source": [
    "- **reset_index()** 메서드로 인덱스를 초기화합니다.\n",
    "- 기존 인덱스 값은 의미가 없으므로 drop=True 옵션을 지정해 제거합니다.\n",
    "- inplace=True 옵션을 지정하지 않으면 실제 반영되지 않습니다.\n"
   ]
  },
  {
   "cell_type": "code",
   "execution_count": null,
   "metadata": {
    "id": "uDRk8pbOW0Hj"
   },
   "outputs": [],
   "source": [
    "# 인덱스 초기화\n",
    "\n",
    "\n",
    "# 확인\n"
   ]
  }
 ],
 "metadata": {
  "colab": {
   "provenance": []
  },
  "kernelspec": {
   "display_name": "Python 3 (ipykernel)",
   "language": "python",
   "name": "python3"
  },
  "language_info": {
   "codemirror_mode": {
    "name": "ipython",
    "version": 3
   },
   "file_extension": ".py",
   "mimetype": "text/x-python",
   "name": "python",
   "nbconvert_exporter": "python",
   "pygments_lexer": "ipython3",
   "version": "3.10.9"
  }
 },
 "nbformat": 4,
 "nbformat_minor": 4
}
