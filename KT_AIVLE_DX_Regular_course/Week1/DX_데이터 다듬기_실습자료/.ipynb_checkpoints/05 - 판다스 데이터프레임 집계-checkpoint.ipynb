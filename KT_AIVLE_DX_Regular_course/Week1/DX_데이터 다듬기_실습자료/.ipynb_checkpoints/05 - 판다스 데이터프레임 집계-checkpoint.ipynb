{
 "cells": [
  {
   "cell_type": "markdown",
   "metadata": {
    "id": "BFhIXgdYoYGp"
   },
   "source": [
    "<center><img src='https://raw.githubusercontent.com/Jangrae/img/master/title.png' width=500/></center>"
   ]
  },
  {
   "cell_type": "markdown",
   "metadata": {
    "id": "hElggTFXYnWj"
   },
   "source": [
    "# 4.데이터프레임 집계\n",
    "\n",
    "- 상세 데이터가 아닌 집계된 데이터에 대한 분석을 자주 요구하니 익숙해져야 할 내용입니다.\n",
    "- sum(), mean(), max(), min(), count() 메서드를 사용해 지정한 열 또는 열들을 기준으로 집계합니다.\n",
    "- 평균을 구하는 메서드가 avg()가 아닌 mean() 임을 주의하기 바랍니다."
   ]
  },
  {
   "cell_type": "code",
   "execution_count": null,
   "metadata": {
    "id": "DnUuJEQCF50p"
   },
   "outputs": [],
   "source": [
    "# 라이브러리 불러오기\n"
   ]
  },
  {
   "cell_type": "code",
   "execution_count": null,
   "metadata": {
    "id": "SOiVUXk_nlEl"
   },
   "outputs": [],
   "source": [
    "# 데이터 읽어오기\n",
    "path = 'https://raw.githubusercontent.com/Jangrae/csv/master/tips.csv'\n",
    "tip =\n",
    "\n",
    "# 확인\n"
   ]
  },
  {
   "cell_type": "markdown",
   "metadata": {
    "id": "N5NM98GnbXIx"
   },
   "source": [
    "- 우선 집계에 대하여 다음과 같이 정리해 볼 수 있습니다."
   ]
  },
  {
   "cell_type": "markdown",
   "metadata": {
    "id": "5GTkgYLeaiBa"
   },
   "source": [
    "<img src='https://raw.githubusercontent.com/jangrae/img/master/groupby.png' width=500 align=\"left\"/>"
   ]
  },
  {
   "cell_type": "markdown",
   "metadata": {
    "id": "cy1S23TBbfXz"
   },
   "source": [
    "- **연속값**, **범주값**이라는 용어에 익숙해 지길 바랍니다.\n",
    "- 대부분은 범주값을 기준으로 연속값의 합, 평균 등을 집계합니다.\n",
    "- 가끔은 범주값의 개수나 최빈값을 집계하기도 합니다.\n",
    "- 집계 결과에 대한 시각화를 통해 더 나은 통찰력을 얻게 합니다."
   ]
  },
  {
   "cell_type": "markdown",
   "metadata": {
    "id": "GvU3HPURzDQB"
   },
   "source": [
    "## 4.1.합 구하기"
   ]
  },
  {
   "cell_type": "markdown",
   "metadata": {
    "id": "o-uh09tLEIov"
   },
   "source": [
    "### 4.1.1.열 하나 집계\n",
    "\n",
    "- 우선 특정 열의 값 합은 다음과 같이 구할 수 있습니다."
   ]
  },
  {
   "cell_type": "code",
   "execution_count": null,
   "metadata": {
    "id": "4fgzIe2IBfBx"
   },
   "outputs": [],
   "source": [
    "# total_bill 합계\n"
   ]
  },
  {
   "cell_type": "code",
   "execution_count": null,
   "metadata": {
    "id": "08bD5uxBiesp"
   },
   "outputs": [],
   "source": [
    "# total_bill, tip 각각의 합계\n"
   ]
  },
  {
   "cell_type": "markdown",
   "metadata": {
    "id": "KVxqg_X_B9sy"
   },
   "source": [
    "**1) 집계하기**\n",
    "\n",
    "- 만일 day 별로 합을 구하고자 한다면 다음과 같이 합니다.\n",
    "- 아래 결과 값 네 개를 더하면 전체 합이 됩니다.\n",
    "- **as_index=True**를 설정(기본값)하면 집계 기준이 되는 열이 인덱스 열이 됩니다.\n",
    "- 집계 결과가 tip 열만 가지니 시리즈가 됩니다."
   ]
  },
  {
   "cell_type": "code",
   "execution_count": null,
   "metadata": {
    "id": "BJzZz0mWBVxR"
   },
   "outputs": [],
   "source": [
    "# day별 tip 합계 --> 시리즈\n"
   ]
  },
  {
   "cell_type": "markdown",
   "metadata": {
    "id": "9yMNSptEDLJx"
   },
   "source": [
    "- **[['tip']].sum()** 과 같이 하면 열이 여럿이라는 의미여서 결과가 **데이터프레임**이 됩니다."
   ]
  },
  {
   "cell_type": "code",
   "execution_count": null,
   "metadata": {
    "id": "q6NqdqIvDLJ0",
    "scrolled": true
   },
   "outputs": [],
   "source": [
    "# day별 tip 합계 --> 데이터프레임\n"
   ]
  },
  {
   "cell_type": "markdown",
   "metadata": {
    "id": "b1fedxMnMWGN"
   },
   "source": [
    "- **as_index=False**를 설정하면 행 번호를 기반으로 한 정수 값이 인덱스로 설정됩니다."
   ]
  },
  {
   "cell_type": "code",
   "execution_count": null,
   "metadata": {
    "id": "oS0fzfrjMWGN"
   },
   "outputs": [],
   "source": [
    "# day별 tip 합계 --> 데이터프레임\n"
   ]
  },
  {
   "cell_type": "markdown",
   "metadata": {
    "id": "j4SHaUmUvHuw"
   },
   "source": [
    "**2) 데이터프레임으로 선언**\n",
    "\n",
    "- 집계 결과를 새로운 데이터프레임으로 선언하여 사용하는 경우가 많습니다.\n",
    "- 집계된 결과를 반복해서 사용하거나, 분석 대상이 되는 경우 데이터프레임으로 선언함이 유익합니다."
   ]
  },
  {
   "cell_type": "code",
   "execution_count": null,
   "metadata": {
    "id": "jpbF5fzEvq6y"
   },
   "outputs": [],
   "source": [
    "# day별 tip 합계 조회\n",
    "tip_sum =\n",
    "\n",
    "# 확인\n",
    "tip_sum"
   ]
  },
  {
   "cell_type": "markdown",
   "metadata": {
    "id": "q9wcTgyKE-CW"
   },
   "source": [
    "**3) 집계 결과 시각화**\n",
    "\n",
    "- 위 과정으로 집계한 결과를 막대그래프로 간단히 시각화 해봅니다.\n",
    "- matplotlib 패키지의 pyplot을 plt 별칭을 주어 불러와 시각화에 사용합니다."
   ]
  },
  {
   "cell_type": "code",
   "execution_count": null,
   "metadata": {
    "id": "g4-eXxOchXcp"
   },
   "outputs": [],
   "source": [
    "# 라이브러리 불러오기\n",
    "\n",
    "\n",
    "# day 별 tip 비교 시각화\n",
    "\n"
   ]
  },
  {
   "cell_type": "markdown",
   "metadata": {
    "id": "YTxk5ru3hXc4"
   },
   "source": [
    "- plt.bar() 대신 plt.barh() 함수를 사용해 가로 막대그래프를 표시할 수 있습니다."
   ]
  },
  {
   "cell_type": "code",
   "execution_count": null,
   "metadata": {
    "id": "sPXWicP8hXc4"
   },
   "outputs": [],
   "source": [
    "# day 별 tip 비교 시각화\n",
    "\n"
   ]
  },
  {
   "cell_type": "markdown",
   "metadata": {
    "id": "OTzjtKEXhXc4"
   },
   "source": [
    "**4) 참고: 선 그래프**\n",
    "\n",
    "- 연속형 값의 변화 추이를 볼 때 선 그래프가 유용합니다."
   ]
  },
  {
   "cell_type": "code",
   "execution_count": null,
   "metadata": {
    "id": "u658dNIThXc5"
   },
   "outputs": [],
   "source": [
    "# tip 변경 추이 시각화\n",
    "\n"
   ]
  },
  {
   "cell_type": "code",
   "execution_count": null,
   "metadata": {
    "id": "PHT1Dp8vhXc5"
   },
   "outputs": [],
   "source": [
    "# tip, total_bill 변경 추이 시각화\n",
    "\n",
    "\n"
   ]
  },
  {
   "cell_type": "markdown",
   "metadata": {
    "id": "gW-AM-2hcs0n"
   },
   "source": [
    "**5) 참고: 히스토그램**\n",
    "\n",
    "- 연속형 값의 분포를 볼 때는 히스토그램이 유용합니다."
   ]
  },
  {
   "cell_type": "code",
   "execution_count": null,
   "metadata": {
    "id": "eqRQbzyecs0n"
   },
   "outputs": [],
   "source": [
    "# tip 분포 시각화\n",
    "\n"
   ]
  },
  {
   "cell_type": "code",
   "execution_count": null,
   "metadata": {
    "id": "H-pGWFCPcs0o"
   },
   "outputs": [],
   "source": [
    "# total_bill 분포 시각화\n",
    "\n"
   ]
  },
  {
   "cell_type": "markdown",
   "metadata": {
    "id": "s1d2Tsg-MWGP"
   },
   "source": [
    "### 4.1.2.여러 열 집계\n",
    "\n",
    "- 여러 열에 대한 집계를 같이 할 수 있습니다.\n",
    "- **[ ['total_bill', 'tip'] ].sum()** 형태와 같이 집계 대상 열을 리스트로 지정합니다."
   ]
  },
  {
   "cell_type": "code",
   "execution_count": null,
   "metadata": {
    "id": "3C72p33Q6vlH",
    "scrolled": true
   },
   "outputs": [],
   "source": [
    "# day별 total_bill, tip 합계 조회\n",
    "\n",
    "\n",
    "# 확인\n"
   ]
  },
  {
   "cell_type": "markdown",
   "metadata": {
    "id": "bi0EMGbFMWGS"
   },
   "source": [
    "- sum() 메서드 앞에 아무 열도 지정하지 않으면 **기준열 이외의 모든 열에 대한 집계**가 수행됩니다."
   ]
  },
  {
   "cell_type": "code",
   "execution_count": null,
   "metadata": {
    "id": "92w6S2_N61zC",
    "scrolled": true
   },
   "outputs": [],
   "source": [
    "# day별 나머지 열들 합계 조회\n",
    "tip_sum =\n",
    "\n",
    "# 확인\n",
    "tip_sum"
   ]
  },
  {
   "cell_type": "markdown",
   "metadata": {
    "id": "fEMrK4DNMWGV"
   },
   "source": [
    "- **by=['day', 'smoker']** 과 같이 집계 기준 열을 여럿 설정할 수도 있습니다."
   ]
  },
  {
   "cell_type": "code",
   "execution_count": null,
   "metadata": {
    "id": "MIoL7ZmzMWGV",
    "scrolled": true
   },
   "outputs": [],
   "source": [
    "# day + smoker별 나머지 열들 합계 조회\n",
    "tip_sum =\n",
    "\n",
    "# 확인\n",
    "tip_sum"
   ]
  },
  {
   "cell_type": "markdown",
   "metadata": {
    "id": "rP3CmU_3zI3v"
   },
   "source": [
    "## 4.2.평균, 최댓값, 최솟값, 개수 구하기\n",
    "\n",
    "- 위와 동일한 방법으로 평균, 최댓값, 최솟값, 개수를 집계할 수 있습니다.\n",
    "- sum() 메서드 대신 관련된 메서드만 적절히 지정하면 됩니다."
   ]
  },
  {
   "cell_type": "markdown",
   "metadata": {
    "id": "e-KQ3y5NLiF5"
   },
   "source": [
    "**1) 평균 구하기**"
   ]
  },
  {
   "cell_type": "code",
   "execution_count": null,
   "metadata": {
    "id": "rzMjSolBAT1I",
    "scrolled": true
   },
   "outputs": [],
   "source": [
    "# day별 tip 평균\n",
    "tip_mean =\n",
    "\n",
    "# 확인\n",
    "tip_mean"
   ]
  },
  {
   "cell_type": "code",
   "execution_count": null,
   "metadata": {
    "id": "b3b1ncd684_k",
    "scrolled": true
   },
   "outputs": [],
   "source": [
    "# day + sex 별 나머지 모든 열 평균\n",
    "tip_mean =\n",
    "\n",
    "# 확인\n",
    "tip_mean"
   ]
  },
  {
   "cell_type": "markdown",
   "metadata": {
    "id": "QgerAdV9MWGe"
   },
   "source": [
    "**2) 최댓값, 최솟값, 개수 구하기**\n"
   ]
  },
  {
   "cell_type": "code",
   "execution_count": null,
   "metadata": {
    "id": "MRcezH4uuvA9",
    "scrolled": true
   },
   "outputs": [],
   "source": [
    "# day별 tip 최댓값\n",
    "tip_max =\n",
    "\n",
    "# 확인\n",
    "tip_max"
   ]
  },
  {
   "cell_type": "code",
   "execution_count": null,
   "metadata": {
    "id": "NJfXOoAzuzyq",
    "scrolled": true
   },
   "outputs": [],
   "source": [
    "# day별 tip 최솟값\n",
    "tip_min =\n",
    "\n",
    "# 확인\n",
    "tip_min"
   ]
  }
 ],
 "metadata": {
  "colab": {
   "provenance": []
  },
  "kernelspec": {
   "display_name": "Python 3 (ipykernel)",
   "language": "python",
   "name": "python3"
  },
  "language_info": {
   "codemirror_mode": {
    "name": "ipython",
    "version": 3
   },
   "file_extension": ".py",
   "mimetype": "text/x-python",
   "name": "python",
   "nbconvert_exporter": "python",
   "pygments_lexer": "ipython3",
   "version": "3.10.9"
  }
 },
 "nbformat": 4,
 "nbformat_minor": 4
}
