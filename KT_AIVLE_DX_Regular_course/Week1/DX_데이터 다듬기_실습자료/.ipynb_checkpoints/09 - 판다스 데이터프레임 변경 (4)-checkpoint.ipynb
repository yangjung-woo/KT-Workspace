{
 "cells": [
  {
   "cell_type": "markdown",
   "metadata": {
    "id": "BFhIXgdYoYGp"
   },
   "source": [
    "<center><img src='https://raw.githubusercontent.com/Jangrae/img/master/title.png' width=500/></center>"
   ]
  },
  {
   "cell_type": "markdown",
   "metadata": {
    "id": "ZoUvgjsPk2N_"
   },
   "source": [
    "# 8.데이터프레임 변경 (4)\n",
    "\n",
    "- 정확한 데이터 분석을 위해서는 정확한 데이터가 준비되어야 합니다."
   ]
  },
  {
   "cell_type": "code",
   "execution_count": null,
   "metadata": {},
   "outputs": [],
   "source": [
    "# 라이브러리 불러오기\n",
    "import pandas as pd"
   ]
  },
  {
   "cell_type": "markdown",
   "metadata": {
    "id": "aEBr4Fa_fyPK"
   },
   "source": [
    "## 8.1.Rolling\n",
    "\n",
    "- rolling() 메서드를 사용해 일정 기간에 대한 집계를 수행할 수 있습니다.\n",
    "- 예를 들어 최근 3일간 또는 일주일간의 평균이나 합을 집계할 수 있습니다."
   ]
  },
  {
   "cell_type": "code",
   "execution_count": null,
   "metadata": {
    "id": "JidNhJ9BAxZH"
   },
   "outputs": [],
   "source": [
    "# 데이터 읽어오기\n",
    "path = 'https://raw.githubusercontent.com/Jangrae/csv/master/airquality.csv'\n",
    "air = pd.read_csv(path)\n",
    "\n",
    "# 결측치 처리\n",
    "air.interpolate(method='linear', inplace=True)\n",
    "\n",
    "# 자릿수 지정\n",
    "air['Solar.R'] = round(air['Solar.R'], 1)\n",
    "\n",
    "# 확인\n",
    "air.head()"
   ]
  },
  {
   "cell_type": "markdown",
   "metadata": {
    "id": "ym9R9OVegJpd"
   },
   "source": [
    "### 8.1.1.일상적인 집계\n",
    "\n",
    "- 일상적으로는 다음과 같은 집계를 수행합니다."
   ]
  },
  {
   "cell_type": "code",
   "execution_count": null,
   "metadata": {
    "id": "QJtmOEpjgSEO"
   },
   "outputs": [],
   "source": [
    "# Ozone 열 평균\n",
    "air['Ozone'].mean()"
   ]
  },
  {
   "cell_type": "code",
   "execution_count": null,
   "metadata": {},
   "outputs": [],
   "source": [
    "# Temp 열 합\n",
    "air['Temp'].mean()"
   ]
  },
  {
   "cell_type": "markdown",
   "metadata": {},
   "source": [
    "- 이런 집계 결과를 새로운 열로 추가해 분석에 활용할 수 있습니다.\n",
    "- 예를 들어 당일 Ozone 열 값을 전체 평균과 비교할 수 있습니다."
   ]
  },
  {
   "cell_type": "code",
   "execution_count": null,
   "metadata": {
    "id": "EjMy9QB5dwtp"
   },
   "outputs": [],
   "source": [
    "# 새로운 열 추가\n",
    "air['OZ_mean'] = round(air['Ozone'].mean(), 1)\n",
    "\n",
    "# 확인\n",
    "air.head()"
   ]
  },
  {
   "cell_type": "markdown",
   "metadata": {
    "id": "ym9R9OVegJpd"
   },
   "source": [
    "### 8.1.2.Rolling 집계\n",
    "\n",
    "- 시계열의 경우 최근 일정 기간에 대한 집계가 필요합니다.\n",
    "- 이때 rolling() 메서드를 사용합니다.\n",
    "- rolling() 메서드는 특정 창(window)을 기준으로 이동 평균, 이동 합계 등과 같은 집계 작업을 수행합니다.\n",
    "- window 매개변수에 대상 행 수를 지정합니다.(매개변수 이름 생략 가능)\n",
    "- min_periods 매개변수에 몇 개의 행 만 있어도 집계를 수행할 지 지정합니다."
   ]
  },
  {
   "cell_type": "code",
   "execution_count": null,
   "metadata": {
    "id": "QJtmOEpjgSEO"
   },
   "outputs": [],
   "source": [
    "# 최근 3일간 Ozone 열 평균\n",
    "air['Ozone'].rolling(window=3, min_periods=1).mean()"
   ]
  },
  {
   "cell_type": "code",
   "execution_count": null,
   "metadata": {},
   "outputs": [],
   "source": [
    "# 최근 7일간 Ozone 열 평균\n",
    "air['Ozone'].rolling(window=7, min_periods=1).mean()"
   ]
  },
  {
   "cell_type": "markdown",
   "metadata": {},
   "source": [
    "- 이런 집계 결과를 새로운 열로 추가해 분석에 활용할 수 있습니다.\n",
    "- 예를 들어 당일 Ozone 열 값을 최근 3일 또는 7일간의 평균과 비교할 수 있습니다."
   ]
  },
  {
   "cell_type": "code",
   "execution_count": null,
   "metadata": {
    "id": "EjMy9QB5dwtp"
   },
   "outputs": [],
   "source": [
    "# 새로운 열 추가\n",
    "air['OZ_mean_3'] = round(air['Ozone'].rolling(window=3, min_periods=1).mean(), 1)\n",
    "air['OZ_mean_7'] = round(air['Ozone'].rolling(window=7, min_periods=1).mean(), 1)\n",
    "\n",
    "# 확인\n",
    "air.head()"
   ]
  },
  {
   "cell_type": "markdown",
   "metadata": {
    "id": "czlgqmyGwxoh"
   },
   "source": [
    "## 8.2.Shift\n",
    "\n",
    "- 데이터를 행 방향 또는 열 방향으로 이동시킬 때 shift() 메서드를 사용합니다.\n",
    "- shift() 메서드는 데이터를 특정 행이나 열 방향으로 이동시켜, 시계열 데이터에서 이전 값과 비교하는 데 사용합니다."
   ]
  },
  {
   "cell_type": "code",
   "execution_count": null,
   "metadata": {
    "id": "6N6AXLjD5jyM"
   },
   "outputs": [],
   "source": [
    "# 새로운 열 추가\n",
    "air['OZ_lag_1'] = air['Ozone'].shift(1)\n",
    "air['OZ_lag_2'] = air['Ozone'].shift(2)\n",
    "air['OZ_lag_3'] = air['Ozone'].shift(3)\n",
    "\n",
    "# 확인\n",
    "air.head()"
   ]
  },
  {
   "cell_type": "markdown",
   "metadata": {
    "id": "oaDbIM-ssveE"
   },
   "source": [
    "## 8.3.Rolling & Shift\n",
    "\n",
    "- rolling(), shift() 메서드를 같이 사용할 수 있습니다.\n",
    "- 일반적으로 당일을 제외한 기간에 대한 rolling을 수행할 때 사용합니다.\n",
    "- 다음 구문은 당일을 제외한 최근 3일간의 Ozone 값 평균을 갖는 열을 추가합니다."
   ]
  },
  {
   "cell_type": "code",
   "execution_count": null,
   "metadata": {
    "id": "LNp0Rmzww17x"
   },
   "outputs": [],
   "source": [
    "# 새로운 열 추가\n",
    "air['OZ_mean_3_lag_1'] = round(air['Ozone'].rolling(3, min_periods=1).mean().shift(1), 2)\n",
    "\n",
    "# 확인\n",
    "air.head()"
   ]
  },
  {
   "cell_type": "markdown",
   "metadata": {
    "id": "dmHlOPJa0dkd"
   },
   "source": [
    "## 8.4.참고\n",
    "\n",
    "- 내일의 Ozone 값을 예측하는 머신러닝 모델을 만들 때는 1일 후 값을 각 행에 추가해야 합니다.\n",
    "- 즉, 당일 Ozone, Temp, Solar.R, Wind 정보와 최근 Ozone 값과 Ozone 값 평균 등을 활용해 다음날 Ozone 값을 예측합니다."
   ]
  },
  {
   "cell_type": "code",
   "execution_count": null,
   "metadata": {
    "id": "6N6AXLjD5jyM"
   },
   "outputs": [],
   "source": [
    "# 새로운 열 추가: 다음날 Ozone 값 (예측 대상)\n",
    "air['OZ_lead_1'] = air['Ozone'].shift(-1)\n",
    "\n",
    "# 불필요한 열 제거\n",
    "air.drop(['Month', 'Day'], axis=1, inplace=True)\n",
    "\n",
    "# 확인\n",
    "air.head()"
   ]
  },
  {
   "cell_type": "markdown",
   "metadata": {
    "id": "dmHlOPJa0dkd"
   },
   "source": [
    "## 8.5.Pivot\n",
    "\n",
    "- pivot() 메서드를 사용해 피벗 형태로 변경할 수 있습니다.\n",
    "- 우선 데이터를 읽어와 필요한 형태로 준비합니다."
   ]
  },
  {
   "cell_type": "code",
   "execution_count": null,
   "metadata": {},
   "outputs": [],
   "source": [
    "# 데이터 읽어오기\n",
    "bike = pd.read_csv('https://bit.ly/BikeFile')\n",
    "bike['DateTime'] = pd.to_datetime(bike['DateTime'])\n",
    "\n",
    "# Year, Month, Day, Hour 분리\n",
    "bike['Year'] = bike['DateTime'].dt.year\n",
    "bike['Month'] = bike['DateTime'].dt.month\n",
    "bike['Day'] = bike['DateTime'].dt.day\n",
    "bike['Hour'] = bike['DateTime'].dt.hour\n",
    "\n",
    "# 데이터 선택\n",
    "bike = bike.loc[:, ['Year', 'Month','Day', 'Hour', 'Count']]\n",
    "\n",
    "# 확인\n",
    "bike.head()"
   ]
  },
  {
   "cell_type": "markdown",
   "metadata": {},
   "source": [
    "- 일반적으로 다음과 같은 방법으로 집계합니다."
   ]
  },
  {
   "cell_type": "code",
   "execution_count": null,
   "metadata": {},
   "outputs": [],
   "source": [
    "# 년월일별 수요량 집계\n",
    "day_count = bike.groupby(by=['Year', 'Month', 'Day'], as_index=False)[['Count']].sum()\n",
    "\n",
    "# 확인\n",
    "day_count.head()"
   ]
  },
  {
   "cell_type": "markdown",
   "metadata": {},
   "source": [
    "- 이제 pivot() 메서드를 사용해 위 결과 형태를 피벗 형태로 변환합니다.\n",
    "- 매개변수 의미는 다음과 같습니다.\n",
    "    - index: 움직이지 않을 열(=기준 열)\n",
    "    - columns: 새로운 열로 올라갈 현재 열\n",
    "    - values: 새로운 열의 값이 될 현재 열\n",
    "- 열 대표이름 제거, 인덱스 초기화는 필수는 아니지만, 아름다운(?) 형태를 위해 수행합니다."
   ]
  },
  {
   "cell_type": "code",
   "execution_count": null,
   "metadata": {},
   "outputs": [],
   "source": [
    "# 피벗 형태로 변환\n",
    "day_count_w = day_count.pivot(index=['Year', 'Month'], columns='Day', values='Count')\n",
    "\n",
    "# 열 대표이름 제거\n",
    "day_count_w.columns.name = None\n",
    "\n",
    "# 인덱스 초기화\n",
    "day_count_w.reset_index(drop=False, inplace=True)\n",
    "\n",
    "# 확인\n",
    "day_count_w"
   ]
  },
  {
   "cell_type": "markdown",
   "metadata": {
    "id": "dmHlOPJa0dkd"
   },
   "source": [
    "## 8.6.Melt\n",
    "\n",
    "- pd.melt() 함수를 사용해 다시 언피벗 형태로 변경할 수 있습니다.\n",
    "- 시각화 분석을 위해서는 이전의 형태로 돌려야 하는 경우가 많습니다.\n",
    "- 매개변수 의미는 다음과 같습니다.\n",
    "    - id_vars: 움직이지 않을 열(=기준 열)\n",
    "    - value_vars: 값이 되어 아래로 내려올 현재 열(생략하면 id_vars에 지정한 열 이외의 모든 열)\n",
    "    - var_name: value_vars에 지정한 열이 값이 될 때 부여할 열 이름(생략하면 variable)\n",
    "    - value_name: 새로운 열이 되는 기존 값에 부여할 열 이름(생략하면 value)\n",
    "- 정렬, 결측치 제거, 인덱스 초기화 등 필요한 처리를 통해 마무리합니다."
   ]
  },
  {
   "cell_type": "code",
   "execution_count": null,
   "metadata": {},
   "outputs": [],
   "source": [
    "# 언피벗\n",
    "day_count_n = pd.melt(day_count_w, \n",
    "                      id_vars=['Year', 'Month'],\n",
    "                      # value_vars=range(1, 32),\n",
    "                      var_name='Day',\n",
    "                      value_name='Count')\n",
    "\n",
    "# 정렬\n",
    "day_count_n.sort_values(by=['Year', 'Month', 'Day'], ascending=True, inplace=True)\n",
    "\n",
    "# 결측치 제거(31일이 꽉 차지 않는 월에 결측치 존재)\n",
    "day_count_n.dropna(inplace=True)\n",
    "\n",
    "# 인덱스 초기화\n",
    "day_count_n.reset_index(drop=True, inplace=True)\n",
    "\n",
    "# 데이터 형식 변경\n",
    "day_count_n['Count'] = day_count_n['Count'].astype(int)\n",
    "\n",
    "# 확인\n",
    "day_count_n"
   ]
  }
 ],
 "metadata": {
  "colab": {
   "provenance": []
  },
  "kernelspec": {
   "display_name": "Python 3 (ipykernel)",
   "language": "python",
   "name": "python3"
  },
  "language_info": {
   "codemirror_mode": {
    "name": "ipython",
    "version": 3
   },
   "file_extension": ".py",
   "mimetype": "text/x-python",
   "name": "python",
   "nbconvert_exporter": "python",
   "pygments_lexer": "ipython3",
   "version": "3.12.4"
  }
 },
 "nbformat": 4,
 "nbformat_minor": 4
}
