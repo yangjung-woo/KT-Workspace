{
 "cells": [
  {
   "cell_type": "markdown",
   "id": "60779a9b",
   "metadata": {
    "id": "60779a9b"
   },
   "source": [
    "# 시계열 데이터 분석"
   ]
  },
  {
   "cell_type": "markdown",
   "id": "Or5xdnmzfzQu",
   "metadata": {
    "id": "Or5xdnmzfzQu"
   },
   "source": [
    "## 1.환경준비"
   ]
  },
  {
   "cell_type": "markdown",
   "id": "Yaw4lRG15Sq6",
   "metadata": {
    "id": "Yaw4lRG15Sq6"
   },
   "source": [
    "### (1) 라이브러리"
   ]
  },
  {
   "cell_type": "code",
   "execution_count": 3,
   "id": "0ff8f366",
   "metadata": {
    "id": "0ff8f366"
   },
   "outputs": [],
   "source": [
    "import pandas as pd\n",
    "import numpy as np\n",
    "import matplotlib.pyplot as plt\n",
    "import seaborn as sns\n",
    "\n",
    "import scipy.stats as spst\n",
    "import statsmodels.api as sm\n",
    "from statsmodels.graphics.tsaplots import plot_acf, plot_pacf"
   ]
  },
  {
   "cell_type": "markdown",
   "id": "n0QeLzp35VPa",
   "metadata": {
    "id": "n0QeLzp35VPa"
   },
   "source": [
    "### (2) 데이터"
   ]
  },
  {
   "cell_type": "markdown",
   "id": "WDwix9V85a8m",
   "metadata": {
    "id": "WDwix9V85a8m"
   },
   "source": [
    "* KOSPI 지수 데이터"
   ]
  },
  {
   "cell_type": "code",
   "execution_count": 5,
   "id": "477d4f97",
   "metadata": {
    "id": "477d4f97"
   },
   "outputs": [
    {
     "data": {
      "text/html": [
       "<div>\n",
       "<style scoped>\n",
       "    .dataframe tbody tr th:only-of-type {\n",
       "        vertical-align: middle;\n",
       "    }\n",
       "\n",
       "    .dataframe tbody tr th {\n",
       "        vertical-align: top;\n",
       "    }\n",
       "\n",
       "    .dataframe thead th {\n",
       "        text-align: right;\n",
       "    }\n",
       "</style>\n",
       "<table border=\"1\" class=\"dataframe\">\n",
       "  <thead>\n",
       "    <tr style=\"text-align: right;\">\n",
       "      <th></th>\n",
       "      <th>Date</th>\n",
       "      <th>Close</th>\n",
       "      <th>Year</th>\n",
       "      <th>Month</th>\n",
       "      <th>Weekday</th>\n",
       "      <th>Close_Lag</th>\n",
       "      <th>Volume_Lag</th>\n",
       "    </tr>\n",
       "  </thead>\n",
       "  <tbody>\n",
       "    <tr>\n",
       "      <th>1</th>\n",
       "      <td>2014-10-01</td>\n",
       "      <td>1991.54</td>\n",
       "      <td>2014</td>\n",
       "      <td>10</td>\n",
       "      <td>2</td>\n",
       "      <td>2020.09</td>\n",
       "      <td>322812.0</td>\n",
       "    </tr>\n",
       "    <tr>\n",
       "      <th>2</th>\n",
       "      <td>2014-10-02</td>\n",
       "      <td>1976.16</td>\n",
       "      <td>2014</td>\n",
       "      <td>10</td>\n",
       "      <td>3</td>\n",
       "      <td>1991.54</td>\n",
       "      <td>351581.0</td>\n",
       "    </tr>\n",
       "    <tr>\n",
       "      <th>3</th>\n",
       "      <td>2014-10-06</td>\n",
       "      <td>1968.39</td>\n",
       "      <td>2014</td>\n",
       "      <td>10</td>\n",
       "      <td>0</td>\n",
       "      <td>1976.16</td>\n",
       "      <td>322656.0</td>\n",
       "    </tr>\n",
       "    <tr>\n",
       "      <th>4</th>\n",
       "      <td>2014-10-07</td>\n",
       "      <td>1972.91</td>\n",
       "      <td>2014</td>\n",
       "      <td>10</td>\n",
       "      <td>1</td>\n",
       "      <td>1968.39</td>\n",
       "      <td>325078.0</td>\n",
       "    </tr>\n",
       "    <tr>\n",
       "      <th>5</th>\n",
       "      <td>2014-10-08</td>\n",
       "      <td>1965.25</td>\n",
       "      <td>2014</td>\n",
       "      <td>10</td>\n",
       "      <td>2</td>\n",
       "      <td>1972.91</td>\n",
       "      <td>328234.0</td>\n",
       "    </tr>\n",
       "  </tbody>\n",
       "</table>\n",
       "</div>"
      ],
      "text/plain": [
       "        Date    Close  Year  Month  Weekday  Close_Lag  Volume_Lag\n",
       "1 2014-10-01  1991.54  2014     10        2    2020.09    322812.0\n",
       "2 2014-10-02  1976.16  2014     10        3    1991.54    351581.0\n",
       "3 2014-10-06  1968.39  2014     10        0    1976.16    322656.0\n",
       "4 2014-10-07  1972.91  2014     10        1    1968.39    325078.0\n",
       "5 2014-10-08  1965.25  2014     10        2    1972.91    328234.0"
      ]
     },
     "execution_count": 5,
     "metadata": {},
     "output_type": "execute_result"
    }
   ],
   "source": [
    "kospi = pd.read_csv(\"https://raw.githubusercontent.com/DA4BAM/dataset/master/KOSPI.csv\"\n",
    "                   , usecols= ['Date', 'Close', 'Volume'])\n",
    "\n",
    "kospi['Date'] = pd.to_datetime(kospi['Date'])\n",
    "kospi['Year'] = kospi['Date'].dt.year\n",
    "kospi['Month'] = kospi['Date'].dt.month\n",
    "kospi['Weekday'] = kospi['Date'].dt.weekday\n",
    "\n",
    "kospi['Close_Lag'] = kospi['Close'].shift()\n",
    "kospi['Volume_Lag'] = kospi['Volume'].shift()\n",
    "kospi.drop('Volume', axis = 1, inplace = True)\n",
    "kospi.dropna(axis=0, inplace=True)\n",
    "\n",
    "kospi.head()"
   ]
  },
  {
   "cell_type": "markdown",
   "id": "uSD1q6v-5gDy",
   "metadata": {
    "id": "uSD1q6v-5gDy"
   },
   "source": [
    "* 서울시 공유자전거"
   ]
  },
  {
   "cell_type": "code",
   "execution_count": 7,
   "id": "E1HPdod0-KHC",
   "metadata": {
    "id": "E1HPdod0-KHC"
   },
   "outputs": [],
   "source": [
    "path = 'https://raw.githubusercontent.com/DA4BAM/dataset/master/SeoulBike_Simple.csv'\n",
    "bike = pd.read_csv(path)\n",
    "bike['Datetime'] = pd.to_datetime(bike['Datetime'] )\n",
    "bike.rename(columns={'Rented Bike Count':'Count'}, inplace = True)\n",
    "bike = bike.loc[bike['Datetime'].between('2018-06-11','2018-08-13', inclusive = 'left'),\n",
    "                      ['Datetime', 'Temperature', 'Humidity','Count']]\n",
    "bike.reset_index(drop = True, inplace = True)"
   ]
  },
  {
   "cell_type": "markdown",
   "id": "lUmb1ALu-T-Q",
   "metadata": {
    "id": "lUmb1ALu-T-Q"
   },
   "source": [
    "* 유통점 판매데이터"
   ]
  },
  {
   "cell_type": "code",
   "execution_count": 9,
   "id": "icXqOawN-UT7",
   "metadata": {
    "id": "icXqOawN-UT7"
   },
   "outputs": [
    {
     "data": {
      "text/html": [
       "<div>\n",
       "<style scoped>\n",
       "    .dataframe tbody tr th:only-of-type {\n",
       "        vertical-align: middle;\n",
       "    }\n",
       "\n",
       "    .dataframe tbody tr th {\n",
       "        vertical-align: top;\n",
       "    }\n",
       "\n",
       "    .dataframe thead th {\n",
       "        text-align: right;\n",
       "    }\n",
       "</style>\n",
       "<table border=\"1\" class=\"dataframe\">\n",
       "  <thead>\n",
       "    <tr style=\"text-align: right;\">\n",
       "      <th></th>\n",
       "      <th>date</th>\n",
       "      <th>item</th>\n",
       "      <th>sales</th>\n",
       "      <th>tot_sales</th>\n",
       "      <th>comp_sales</th>\n",
       "    </tr>\n",
       "  </thead>\n",
       "  <tbody>\n",
       "    <tr>\n",
       "      <th>0</th>\n",
       "      <td>2013-01-01</td>\n",
       "      <td>28</td>\n",
       "      <td>45</td>\n",
       "      <td>456</td>\n",
       "      <td>43</td>\n",
       "    </tr>\n",
       "    <tr>\n",
       "      <th>1</th>\n",
       "      <td>2013-01-02</td>\n",
       "      <td>28</td>\n",
       "      <td>53</td>\n",
       "      <td>474</td>\n",
       "      <td>57</td>\n",
       "    </tr>\n",
       "    <tr>\n",
       "      <th>2</th>\n",
       "      <td>2013-01-03</td>\n",
       "      <td>28</td>\n",
       "      <td>65</td>\n",
       "      <td>519</td>\n",
       "      <td>45</td>\n",
       "    </tr>\n",
       "    <tr>\n",
       "      <th>3</th>\n",
       "      <td>2013-01-04</td>\n",
       "      <td>28</td>\n",
       "      <td>66</td>\n",
       "      <td>527</td>\n",
       "      <td>45</td>\n",
       "    </tr>\n",
       "    <tr>\n",
       "      <th>4</th>\n",
       "      <td>2013-01-05</td>\n",
       "      <td>28</td>\n",
       "      <td>97</td>\n",
       "      <td>575</td>\n",
       "      <td>55</td>\n",
       "    </tr>\n",
       "    <tr>\n",
       "      <th>...</th>\n",
       "      <td>...</td>\n",
       "      <td>...</td>\n",
       "      <td>...</td>\n",
       "      <td>...</td>\n",
       "      <td>...</td>\n",
       "    </tr>\n",
       "    <tr>\n",
       "      <th>1821</th>\n",
       "      <td>2017-12-27</td>\n",
       "      <td>28</td>\n",
       "      <td>82</td>\n",
       "      <td>680</td>\n",
       "      <td>79</td>\n",
       "    </tr>\n",
       "    <tr>\n",
       "      <th>1822</th>\n",
       "      <td>2017-12-28</td>\n",
       "      <td>28</td>\n",
       "      <td>114</td>\n",
       "      <td>743</td>\n",
       "      <td>68</td>\n",
       "    </tr>\n",
       "    <tr>\n",
       "      <th>1823</th>\n",
       "      <td>2017-12-29</td>\n",
       "      <td>28</td>\n",
       "      <td>101</td>\n",
       "      <td>776</td>\n",
       "      <td>67</td>\n",
       "    </tr>\n",
       "    <tr>\n",
       "      <th>1824</th>\n",
       "      <td>2017-12-30</td>\n",
       "      <td>28</td>\n",
       "      <td>120</td>\n",
       "      <td>901</td>\n",
       "      <td>79</td>\n",
       "    </tr>\n",
       "    <tr>\n",
       "      <th>1825</th>\n",
       "      <td>2017-12-31</td>\n",
       "      <td>28</td>\n",
       "      <td>104</td>\n",
       "      <td>870</td>\n",
       "      <td>73</td>\n",
       "    </tr>\n",
       "  </tbody>\n",
       "</table>\n",
       "<p>1826 rows × 5 columns</p>\n",
       "</div>"
      ],
      "text/plain": [
       "           date  item  sales  tot_sales  comp_sales\n",
       "0    2013-01-01    28     45        456          43\n",
       "1    2013-01-02    28     53        474          57\n",
       "2    2013-01-03    28     65        519          45\n",
       "3    2013-01-04    28     66        527          45\n",
       "4    2013-01-05    28     97        575          55\n",
       "...         ...   ...    ...        ...         ...\n",
       "1821 2017-12-27    28     82        680          79\n",
       "1822 2017-12-28    28    114        743          68\n",
       "1823 2017-12-29    28    101        776          67\n",
       "1824 2017-12-30    28    120        901          79\n",
       "1825 2017-12-31    28    104        870          73\n",
       "\n",
       "[1826 rows x 5 columns]"
      ]
     },
     "execution_count": 9,
     "metadata": {},
     "output_type": "execute_result"
    }
   ],
   "source": [
    "path = 'https://raw.githubusercontent.com/DA4BAM/dataset/master/retail_demand2.csv'\n",
    "retail = pd.read_csv(path)\n",
    "retail['date'] = pd.to_datetime(retail['date'])\n",
    "# retail = retail.loc[retail['date'].between('2013-06-01', '2015-10-31')].reset_index(drop = True)\n",
    "retail"
   ]
  },
  {
   "cell_type": "markdown",
   "id": "57hByVZOf4CQ",
   "metadata": {
    "id": "57hByVZOf4CQ"
   },
   "source": [
    "## 2.시계열 데이터란?\n",
    "\n",
    "* 데이터셋\n",
    "    * 일반 데이터셋 : 분석단위(행) 하나 하나가 개별 instance 입니다.\n",
    "    * 시계열 데이터 : 데이터 분석 단위(행) 간에 (시간) 순서(sequence)가 있는 데이터\n",
    "\n",
    "* 시계열 데이터 구분은, 비즈니스 이해단계에서 [문제정의]시 결정 됩니다.\n",
    "    * 해결해야 할 문제가 시간 순서 관점이 필요한지 아닌지.\n"
   ]
  },
  {
   "cell_type": "markdown",
   "id": "bq7gmu2mjLN5",
   "metadata": {
    "id": "bq7gmu2mjLN5"
   },
   "source": [
    "* KOSPI 2014.10 ~ 2019.09 데이터\n",
    "    * Close : 코스피 종가(target)\n",
    "    * Weekday : 요일 (0-월요일, 6-일요일)\n",
    "    * Close_Lag : 전날 종가\n",
    "    * Volume_Lag : 전날 거래량"
   ]
  },
  {
   "cell_type": "code",
   "execution_count": 11,
   "id": "ad6ee53d",
   "metadata": {
    "id": "ad6ee53d"
   },
   "outputs": [
    {
     "data": {
      "image/png": "[encoded data removed]",
      "text/plain": [
       "<Figure size 1000x600 with 1 Axes>"
      ]
     },
     "metadata": {},
     "output_type": "display_data"
    }
   ],
   "source": [
    "plt.figure(figsize = (10,6))\n",
    "plt.plot('Date', 'Close', data = kospi, linewidth = .7)\n",
    "plt.grid()\n",
    "plt.show()"
   ]
  },
  {
   "cell_type": "markdown",
   "id": "4b5OSagHjrb6",
   "metadata": {
    "id": "4b5OSagHjrb6"
   },
   "source": [
    "* 시계열 데이터는 시간(시기)을 고려해야 합니다.\n",
    "    * 어느 기간?\n",
    "    * 반복되는 주기?\n"
   ]
  },
  {
   "cell_type": "markdown",
   "id": "BwNXKTlPj6nK",
   "metadata": {
    "id": "BwNXKTlPj6nK"
   },
   "source": [
    "## 3.기존 분석 방식 적용시 문제점"
   ]
  },
  {
   "cell_type": "markdown",
   "id": "mQWCPMrEXOQG",
   "metadata": {
    "id": "mQWCPMrEXOQG"
   },
   "source": [
    "### (1) 단변량분석"
   ]
  },
  {
   "cell_type": "markdown",
   "id": "SNDMcUqkkSr7",
   "metadata": {
    "id": "SNDMcUqkkSr7"
   },
   "source": [
    "#### 1) 숫자"
   ]
  },
  {
   "cell_type": "markdown",
   "id": "vmf2kWcjj0iH",
   "metadata": {
    "id": "vmf2kWcjj0iH"
   },
   "source": [
    "* Close의 분포를 살펴보면…\n",
    "    * 하나의 박스플롯으로 설명이 되나요?\n",
    "    * 히스트그램을 보면 분포가 여러 개로 나뉘어 보입니다. 어떻게 해석해야 할까요?\n",
    "\n"
   ]
  },
  {
   "cell_type": "code",
   "execution_count": null,
   "id": "eb47b1c3",
   "metadata": {
    "id": "eb47b1c3"
   },
   "outputs": [],
   "source": [
    "sns.histplot(x = 'Close', data = kospi, bins = 50)\n",
    "plt.show()"
   ]
  },
  {
   "cell_type": "code",
   "execution_count": null,
   "id": "f4c4df5f",
   "metadata": {
    "id": "f4c4df5f"
   },
   "outputs": [],
   "source": [
    "sns.boxplot(x = 'Close', data = kospi)\n",
    "plt.show()"
   ]
  },
  {
   "cell_type": "markdown",
   "id": "0xvhtBlLkHhp",
   "metadata": {
    "id": "0xvhtBlLkHhp"
   },
   "source": [
    "#### 2) 범주"
   ]
  },
  {
   "cell_type": "code",
   "execution_count": null,
   "id": "6389834e",
   "metadata": {
    "id": "6389834e"
   },
   "outputs": [],
   "source": [
    "sns.countplot(x=\"Weekday\", data = kospi)\n",
    "plt.show()"
   ]
  },
  {
   "cell_type": "code",
   "execution_count": null,
   "id": "68f47092",
   "metadata": {
    "id": "68f47092"
   },
   "outputs": [],
   "source": [
    "temp = kospi['Weekday'].value_counts()\n",
    "\n",
    "plt.pie(temp.values, labels = temp.index, autopct='%.2f%%')\n",
    "plt.show()"
   ]
  },
  {
   "cell_type": "markdown",
   "id": "b0QVb1Mkkee3",
   "metadata": {
    "id": "b0QVb1Mkkee3"
   },
   "source": [
    "### (2) 이변량"
   ]
  },
  {
   "cell_type": "markdown",
   "id": "f7QYmRxOkgY5",
   "metadata": {
    "id": "f7QYmRxOkgY5"
   },
   "source": [
    "#### 1) 숫자 vs 숫자"
   ]
  },
  {
   "cell_type": "markdown",
   "id": "esNhqvDakkxL",
   "metadata": {
    "id": "esNhqvDakkxL"
   },
   "source": [
    "* 전날 종가와 오늘 종가를 비교해 보겠습니다.\n",
    "    * 산점도 : 완전 직선\n",
    "    * 상관분석 : 상관계수 거의 1, p-value 는 0!\n",
    "    * 그러면 전날 종가만 있으면 다음날 코스피 지수 예측은 확실한가요?"
   ]
  },
  {
   "cell_type": "code",
   "execution_count": null,
   "id": "7997469f",
   "metadata": {
    "id": "7997469f"
   },
   "outputs": [],
   "source": [
    "sns.regplot(x = 'Close_Lag', y = 'Close', data = kospi,  line_kws={'color': 'darkred'})\n",
    "plt.show()"
   ]
  },
  {
   "cell_type": "code",
   "execution_count": null,
   "id": "0f400d5b",
   "metadata": {
    "id": "0f400d5b"
   },
   "outputs": [],
   "source": [
    "# 상관계수와 p-value\n",
    "spst.pearsonr(kospi['Close_Lag'], kospi['Close'])"
   ]
  },
  {
   "cell_type": "markdown",
   "id": "L_sSCGiiksnw",
   "metadata": {
    "id": "L_sSCGiiksnw"
   },
   "source": [
    "#### 2) 범주 vs 숫자"
   ]
  },
  {
   "cell_type": "markdown",
   "id": "Tjgcr4LRkwgi",
   "metadata": {
    "id": "Tjgcr4LRkwgi"
   },
   "source": [
    "* 요일별로 주가가 달라질까요?\n",
    "    * 요일은 주가와 아무런 관련이 없어 보입니다.\n",
    "    * 진짜 그럴까요?"
   ]
  },
  {
   "cell_type": "code",
   "execution_count": null,
   "id": "3ef21a3c",
   "metadata": {
    "id": "3ef21a3c"
   },
   "outputs": [],
   "source": [
    "temp = kospi.loc[kospi.Date.between('2019-01-01','2019-01-31')]\n",
    "\n",
    "sns.barplot(x=\"Weekday\", y=\"Close\", data = temp)\n",
    "plt.grid()\n",
    "plt.show()"
   ]
  },
  {
   "cell_type": "markdown",
   "id": "bp5DzTpsk3YW",
   "metadata": {
    "id": "bp5DzTpsk3YW"
   },
   "source": [
    "## 4.시계열 데이터 분석 방법"
   ]
  },
  {
   "cell_type": "markdown",
   "id": "UCxio1R2TBbw",
   "metadata": {
    "id": "UCxio1R2TBbw"
   },
   "source": [
    "### (1) 시간의 흐름에 따른 패턴 찾기"
   ]
  },
  {
   "cell_type": "markdown",
   "id": "KyYu5THscy82",
   "metadata": {
    "id": "KyYu5THscy82"
   },
   "source": [
    "#### 1) 시간의 흐름에 따른 추세 분석 : 라인차트"
   ]
  },
  {
   "cell_type": "markdown",
   "id": "13h5dvbWffWI",
   "metadata": {
    "id": "13h5dvbWffWI"
   },
   "source": [
    "* KOSPI 지수 라인차트 그리기"
   ]
  },
  {
   "cell_type": "code",
   "execution_count": null,
   "id": "FU9ApYPIc3tZ",
   "metadata": {
    "id": "FU9ApYPIc3tZ"
   },
   "outputs": [],
   "source": [
    "plt.figure(figsize = (12,4))\n",
    "sns.lineplot(x = 'Date', y = 'Close', data = kospi, linewidth = .7)\n",
    "plt.show()"
   ]
  },
  {
   "cell_type": "markdown",
   "id": "l32pZ85Bfz6d",
   "metadata": {
    "id": "l32pZ85Bfz6d"
   },
   "source": [
    "* 지수와 거래량을 한꺼번에 라인차트로 그리기"
   ]
  },
  {
   "cell_type": "code",
   "execution_count": null,
   "id": "0iaO0sAedl3K",
   "metadata": {
    "id": "0iaO0sAedl3K"
   },
   "outputs": [],
   "source": [
    "# 거래량 추가\n",
    "plt.figure(figsize = (12,5))\n",
    "sns.lineplot(x = 'Date', y = 'Close', data = kospi, label = 'Close', color = 'blue', linewidth = .7)\n",
    "sns.lineplot(x = 'Date', y = 'Volume_Lag', data = kospi, label = 'Volume', color = 'green', linewidth = .5)\n",
    "plt.show()"
   ]
  },
  {
   "cell_type": "code",
   "execution_count": null,
   "id": "Bvaxb8Vydolr",
   "metadata": {
    "id": "Bvaxb8Vydolr"
   },
   "outputs": [],
   "source": [
    "# 축을 양쪽에 두고 그립시다.\n",
    "plt.figure(figsize = (12,5))\n",
    "# 왼쪽 축\n",
    "ax1 = sns.lineplot(x = 'Date', y = 'Close', data = kospi, label = 'Close', color = 'blue', linewidth = .5)\n",
    "plt.legend(loc='upper left')\n",
    "\n",
    " # 오른쪽 축 생성\n",
    "ax2 = ax1.twinx()\n",
    "sns.lineplot(x = 'Date', y = 'Volume_Lag', data = kospi, label = 'Volume', color = 'green', linewidth = .5)\n",
    "plt.legend(loc='upper right')\n",
    "\n",
    "# 그래프 출력\n",
    "plt.show()"
   ]
  },
  {
   "cell_type": "markdown",
   "id": "QJtTdnImLQ7k",
   "metadata": {
    "id": "QJtTdnImLQ7k"
   },
   "source": [
    "<img src='https://raw.githubusercontent.com/jangrae/img/master/practice_01.png' width=120 align=\"left\"/>"
   ]
  },
  {
   "cell_type": "markdown",
   "id": "f1v9F2i_A9Kb",
   "metadata": {
    "id": "f1v9F2i_A9Kb"
   },
   "source": [
    "[문1] bike의 수요량(Count) 그래프를 그려봅시다.  \n",
    "> * 처음부터 400개 데이터만 뽑아서 라인차트를 그립니다.\n",
    "> * 그래프를 관찰하고 패턴을 찾아 적어 봅시다.\n"
   ]
  },
  {
   "cell_type": "code",
   "execution_count": null,
   "id": "kZXU8ycB2ixu",
   "metadata": {
    "id": "kZXU8ycB2ixu"
   },
   "outputs": [],
   "source": []
  },
  {
   "cell_type": "code",
   "execution_count": null,
   "id": "NL8Wg4T0A8lR",
   "metadata": {
    "id": "NL8Wg4T0A8lR"
   },
   "outputs": [],
   "source": []
  },
  {
   "cell_type": "code",
   "execution_count": null,
   "id": "Xr8zF-w8A8ix",
   "metadata": {
    "id": "Xr8zF-w8A8ix"
   },
   "outputs": [],
   "source": []
  },
  {
   "cell_type": "markdown",
   "id": "BTJZHPZH9etF",
   "metadata": {
    "id": "BTJZHPZH9etF"
   },
   "source": [
    "[문2] bike의 대여량(Count)과 온도(Temperature) 그래프를 그려봅시다.  \n",
    "> * 처음부터 400개 데이터만 뽑아서 라인차트를 그립니다.\n",
    "> * 그래프를 관찰하고 패턴을 찾아 적어 봅시다.\n"
   ]
  },
  {
   "cell_type": "code",
   "execution_count": null,
   "id": "om4xWSBD8qUV",
   "metadata": {
    "id": "om4xWSBD8qUV"
   },
   "outputs": [],
   "source": []
  },
  {
   "cell_type": "markdown",
   "id": "DcSUPBejTKoG",
   "metadata": {
    "id": "DcSUPBejTKoG"
   },
   "source": [
    "#### 2) 시계열 데이터 분해(Decomposition)\n",
    "* 시계열 데이터 안에 있는 반복 추세와 반복 패턴을 찾아내는 과정입니다.\n",
    "* 찾아낸 패턴을 하나의 모델로 볼 수도 있습니다."
   ]
  },
  {
   "cell_type": "markdown",
   "id": "qdtB-v0I7zbX",
   "metadata": {
    "id": "qdtB-v0I7zbX"
   },
   "source": [
    "① 시계열 데이터 분해 결과 시각화 함수\n"
   ]
  },
  {
   "cell_type": "code",
   "execution_count": null,
   "id": "GU4UB6wV9vA7",
   "metadata": {
    "id": "GU4UB6wV9vA7"
   },
   "outputs": [],
   "source": [
    "def decomp_plot(decomp) :\n",
    "    # 시계열 분해 결과를 받아서 데이터프레임으로 저장\n",
    "    result = pd.DataFrame({'observed':decomp.observed, 'trend':decomp.trend, 'seasonal':decomp.seasonal, 'residual':decomp.resid})\n",
    "\n",
    "    # 4개의 그래프로 나눠서 그리기\n",
    "    plt.subplot(4,1,1)\n",
    "    plt.plot(result['observed'])\n",
    "    plt.ylabel('observed')\n",
    "\n",
    "    plt.subplot(4,1,2)\n",
    "    plt.plot(result['trend'])\n",
    "    plt.ylabel('trend')\n",
    "\n",
    "    plt.subplot(4,1,3)\n",
    "    plt.plot(result['seasonal'])\n",
    "    plt.ylabel('seasonal')\n",
    "\n",
    "    plt.subplot(4,1,4)\n",
    "    plt.plot(result['residual'])\n",
    "    plt.ylabel('residual')\n",
    "    plt.show()\n",
    "\n",
    "    return result"
   ]
  },
  {
   "cell_type": "markdown",
   "id": "n4QQGf0WNilq",
   "metadata": {
    "id": "n4QQGf0WNilq"
   },
   "source": [
    "① 시계열 데이터를 분해해 봅시다.\n",
    "* freq 를 조절하며 계절성(seasonal)을 도출해 봅시다.\n",
    "* 그래프는 위에서 만든 decomp_plot 을 사용합니다."
   ]
  },
  {
   "cell_type": "markdown",
   "id": "5xPmEnUioE92",
   "metadata": {
    "id": "5xPmEnUioE92"
   },
   "source": [
    "* 1일(24시간)의 계절성 고려"
   ]
  },
  {
   "cell_type": "code",
   "execution_count": null,
   "id": "DuAPA5RSWgOg",
   "metadata": {
    "id": "DuAPA5RSWgOg"
   },
   "outputs": [],
   "source": [
    "# 시계열 데이터 분해\n",
    "decomp = sm.tsa.seasonal_decompose(bike['Count'], model = 'additive', period = 24)\n",
    "\n",
    "# 그래프 그리기\n",
    "plt.figure(figsize=(12, 8))\n",
    "result = decomp_plot(decomp)"
   ]
  },
  {
   "cell_type": "markdown",
   "id": "dDHuUHwxoMhY",
   "metadata": {
    "id": "dDHuUHwxoMhY"
   },
   "source": [
    "* 1주일(7일 * 24시간)의 계절성 고려"
   ]
  },
  {
   "cell_type": "code",
   "execution_count": null,
   "id": "Rdg0Im5I2zNC",
   "metadata": {
    "id": "Rdg0Im5I2zNC"
   },
   "outputs": [],
   "source": [
    "# 시계열 데이터 분해\n",
    "decomp = sm.tsa.seasonal_decompose(bike['Count'], model = 'additive', period = 24 * 7)\n",
    "\n",
    "# 그래프 그리기\n",
    "plt.figure(figsize=(12, 8))\n",
    "result = decomp_plot(decomp)"
   ]
  },
  {
   "cell_type": "markdown",
   "id": "IiX3ekeB-SJb",
   "metadata": {
    "id": "IiX3ekeB-SJb"
   },
   "source": [
    "<img src='https://raw.githubusercontent.com/jangrae/img/master/practice_01.png' width=120 align=\"left\"/>"
   ]
  },
  {
   "cell_type": "markdown",
   "id": "qKJQCtQt-SJr",
   "metadata": {
    "id": "qKJQCtQt-SJr"
   },
   "source": [
    "[문1] retail의 판매량(sales)에 대한 시계열 데이터 분해를 수행해 봅시다.  \n",
    "* 먼저 라인차트를 그려서 주기, 패턴을 찾습니다.\n",
    "    * 전체 데이터에 대해 라인차트 그리기\n",
    "    * 데이터의 일부(약 1 ~ 2개월)에 대해 라인차트 그리기\n"
   ]
  },
  {
   "cell_type": "code",
   "execution_count": null,
   "id": "O77k0uKf_nV0",
   "metadata": {
    "id": "O77k0uKf_nV0"
   },
   "outputs": [],
   "source": []
  },
  {
   "cell_type": "code",
   "execution_count": null,
   "id": "qIiYLo7k_iOP",
   "metadata": {
    "id": "qIiYLo7k_iOP"
   },
   "outputs": [],
   "source": []
  },
  {
   "cell_type": "markdown",
   "id": "xBoPQbUwqHLF",
   "metadata": {
    "id": "xBoPQbUwqHLF"
   },
   "source": [
    "[문1] retail의 판매량(sales)에 대한 시계열 데이터 분해를 수행해 봅시다.  \n",
    "* 찾은 패턴을 기반으로 시계열 데이터를 분해 하고 그래프로 그려봅니다.\n",
    "    * 주기 7과 365, 두 가지를 기준으로 각각 분해해 봅시다.\n"
   ]
  },
  {
   "cell_type": "code",
   "execution_count": null,
   "id": "yb2HgEAK_iIH",
   "metadata": {
    "id": "yb2HgEAK_iIH"
   },
   "outputs": [],
   "source": []
  },
  {
   "cell_type": "code",
   "execution_count": null,
   "id": "8KWQf38xqaox",
   "metadata": {
    "id": "8KWQf38xqaox"
   },
   "outputs": [],
   "source": []
  },
  {
   "cell_type": "markdown",
   "id": "s6vdziHATPwT",
   "metadata": {
    "id": "s6vdziHATPwT"
   },
   "source": [
    "#### 3) [참조]자기상관함수(ACF)"
   ]
  },
  {
   "cell_type": "code",
   "execution_count": null,
   "id": "fl8nNNPH-P-2",
   "metadata": {
    "id": "fl8nNNPH-P-2"
   },
   "outputs": [],
   "source": [
    "plot_acf(bike['Count'], lags = 60)\n",
    "plt.grid()\n",
    "plt.show()"
   ]
  },
  {
   "cell_type": "code",
   "execution_count": null,
   "id": "BCpVqhmiEs6H",
   "metadata": {
    "id": "BCpVqhmiEs6H"
   },
   "outputs": [],
   "source": [
    "# 반복문으로 시차를 늘려가면서 데이터셋 만들기\n",
    "temp = bike[['Count']].copy()\n",
    "\n",
    "for i in range(1,21) :\n",
    "    var = 'lag' + str(i)\n",
    "    temp[var] = temp['Count'].shift(i)"
   ]
  },
  {
   "cell_type": "code",
   "execution_count": null,
   "id": "na68rX-FKuYI",
   "metadata": {
    "id": "na68rX-FKuYI"
   },
   "outputs": [],
   "source": [
    "temp.head(20)"
   ]
  },
  {
   "cell_type": "code",
   "execution_count": null,
   "id": "Th7ZmokmFqUb",
   "metadata": {
    "id": "Th7ZmokmFqUb"
   },
   "outputs": [],
   "source": [
    "# 각 시차간의 상관계수\n",
    "temp.corr()"
   ]
  },
  {
   "cell_type": "code",
   "execution_count": null,
   "id": "7Qe8HXDLTV4K",
   "metadata": {
    "id": "7Qe8HXDLTV4K"
   },
   "outputs": [],
   "source": [
    "plot_acf(bike['Count'], lags = 60)\n",
    "plt.grid()\n",
    "plt.show()"
   ]
  },
  {
   "cell_type": "markdown",
   "id": "aneCbjuoI0wK",
   "metadata": {
    "id": "aneCbjuoI0wK"
   },
   "source": [
    "### (2) 패턴을 데이터로 만들기"
   ]
  },
  {
   "cell_type": "markdown",
   "id": "JJroVULeTc0b",
   "metadata": {
    "id": "JJroVULeTc0b"
   },
   "source": [
    "#### 1) 날짜 요소 추출"
   ]
  },
  {
   "cell_type": "markdown",
   "id": "oF3Cg16VPqLC",
   "metadata": {
    "id": "oF3Cg16VPqLC"
   },
   "source": [
    "| 메서드 | 내용|\n",
    "|----|----|\n",
    "df['date'].dt.date         \t\t| YYYY-MM-DD(문자)\n",
    "df['date'].dt.year         \t\t| 연(4자리숫자)\n",
    "df['date'].dt.month        \t\t| 월(숫자)\n",
    "df['date'].dt.month_name()\t\t| 월(문자)\n",
    "df['date'].dt.day          \t\t| 일(숫자)\n",
    "df['date'].dt.time         \t\t| HH:MM:SS(문자)\n",
    "df['date'].dt.hour         \t\t| 시(숫자)\n",
    "df['date'].dt.minute       \t\t| 분(숫자)\n",
    "df['date'].dt.second       \t\t| 초(숫자)\n",
    "df['date'].dt.quarter       \t\t| 분기(숫자)\n",
    "df['date'].dt.day_name()  \t| 요일이름(문자)\n",
    "df['date'].dt.weekday       \t\t| 요일숫자(0-월, 1-화) (=dayofweek)\n",
    "df['date'].dt.weekofyear    \t\t| 연 기준 몇주째(숫자) (=week)\n",
    "df['date'].dt.dayofyear     \t\t| 연 기준 몇일째(숫자)\n",
    "df['date'].dt.days_in_month \t| 월 일수(숫자) (=daysinmonth)\n",
    "\n"
   ]
  },
  {
   "cell_type": "code",
   "execution_count": null,
   "id": "5VknzH75rLd2",
   "metadata": {
    "id": "5VknzH75rLd2"
   },
   "outputs": [],
   "source": [
    "temp = bike.copy()"
   ]
  },
  {
   "cell_type": "markdown",
   "id": "I6z5oXqK_i2Q",
   "metadata": {
    "id": "I6z5oXqK_i2Q"
   },
   "source": [
    "① 요일"
   ]
  },
  {
   "cell_type": "code",
   "execution_count": null,
   "id": "9uckqZPU0jvF",
   "metadata": {
    "id": "9uckqZPU0jvF"
   },
   "outputs": [],
   "source": [
    "temp['Datetime'].dt.weekday"
   ]
  },
  {
   "cell_type": "code",
   "execution_count": null,
   "id": "6Bku3AGck4Y5",
   "metadata": {
    "id": "6Bku3AGck4Y5"
   },
   "outputs": [],
   "source": [
    "temp['weekday'] = temp['Datetime'].dt.weekday\n",
    "temp.head()"
   ]
  },
  {
   "cell_type": "markdown",
   "id": "1u2cXRSPkd6M",
   "metadata": {
    "id": "1u2cXRSPkd6M"
   },
   "source": [
    "② 시간대"
   ]
  },
  {
   "cell_type": "code",
   "execution_count": null,
   "id": "el2NS43jlaNY",
   "metadata": {
    "id": "el2NS43jlaNY"
   },
   "outputs": [],
   "source": [
    "temp['hour'] = temp['Datetime'].dt.hour\n",
    "temp.head()"
   ]
  },
  {
   "cell_type": "markdown",
   "id": "epGuwU1UqqXX",
   "metadata": {
    "id": "epGuwU1UqqXX"
   },
   "source": [
    "<img src='https://raw.githubusercontent.com/jangrae/img/master/practice_01.png' width=120 align=\"left\"/>"
   ]
  },
  {
   "cell_type": "markdown",
   "id": "aUYuFtxdqqXX",
   "metadata": {
    "id": "aUYuFtxdqqXX"
   },
   "source": [
    "[문1] 위에서 생성한 temp에 다음의 변수를 추가해 봅시다.\n",
    "\n",
    "* 주말여부\n",
    "* 주요 시간대 범주화\n",
    "    * 범주 종류 : 0 - 활동 없음, 1 - 일상 활동시간, 2 - 출퇴근\n",
    "    * 시간대\n",
    "        * 0~6 : 0\n",
    "        * 7~8 : 2\n",
    "        * 9~16: 1\n",
    "        * 17~20 : 2\n",
    "        * 21~23 : 0"
   ]
  },
  {
   "cell_type": "code",
   "execution_count": null,
   "id": "aVkZB5DeqqXX",
   "metadata": {
    "id": "aVkZB5DeqqXX"
   },
   "outputs": [],
   "source": []
  },
  {
   "cell_type": "code",
   "execution_count": null,
   "id": "UcTDwNWYTcly",
   "metadata": {
    "id": "UcTDwNWYTcly"
   },
   "outputs": [],
   "source": []
  },
  {
   "cell_type": "markdown",
   "id": "D3PChoQV4o0K",
   "metadata": {
    "id": "D3PChoQV4o0K"
   },
   "source": [
    "#### 2) 시간의 흐름을 feature로 담기"
   ]
  },
  {
   "cell_type": "markdown",
   "id": "pvuaHM-V4o0L",
   "metadata": {
    "id": "pvuaHM-V4o0L"
   },
   "source": [
    "① shift"
   ]
  },
  {
   "cell_type": "code",
   "execution_count": null,
   "id": "RNP7lahW4o0L",
   "metadata": {
    "id": "RNP7lahW4o0L"
   },
   "outputs": [],
   "source": [
    "temp2 = bike[['Datetime', 'Count']].copy()\n",
    "temp2.head()"
   ]
  },
  {
   "cell_type": "code",
   "execution_count": null,
   "id": "4QBth1p-4o0M",
   "metadata": {
    "id": "4QBth1p-4o0M"
   },
   "outputs": [],
   "source": [
    "# shift(1)\n",
    "temp2['lag1'] = temp2['Count'].shift()\n",
    "\n",
    "# shift(2)\n",
    "temp2['lag2'] = temp2['Count'].shift(2)\n",
    "\n",
    "# shift(-1)\n",
    "temp2['lag_1'] = temp2['Count'].shift(-1)\n",
    "temp2.head()"
   ]
  },
  {
   "cell_type": "markdown",
   "id": "wzaKyuNY4o0N",
   "metadata": {
    "id": "wzaKyuNY4o0N"
   },
   "source": [
    "② rolling"
   ]
  },
  {
   "cell_type": "code",
   "execution_count": null,
   "id": "NeukDciA4o0O",
   "metadata": {
    "id": "NeukDciA4o0O"
   },
   "outputs": [],
   "source": [
    "temp2 = bike[['Datetime', 'Count']].copy()\n",
    "temp2.head()"
   ]
  },
  {
   "cell_type": "code",
   "execution_count": null,
   "id": "66fF8a5B4o0O",
   "metadata": {
    "id": "66fF8a5B4o0O"
   },
   "outputs": [],
   "source": [
    "# 3일 이동평균\n",
    "temp2['MA3'] = temp2['Count'].rolling(3).mean()\n",
    "\n",
    "# 3일 이동최대값\n",
    "temp2['MM3'] = temp2['Count'].rolling(3).max()\n",
    "\n",
    "# 3일 이동평균(min_period = 1)\n",
    "temp2['MA3_1'] = temp2['Count'].rolling(3, min_periods=1).mean()\n",
    "\n",
    "temp2.head()"
   ]
  },
  {
   "cell_type": "markdown",
   "id": "qS40QmWs4o0P",
   "metadata": {
    "id": "qS40QmWs4o0P"
   },
   "source": [
    "③ diff : 특정 시점 대비 증감"
   ]
  },
  {
   "cell_type": "code",
   "execution_count": null,
   "id": "4c681d-64o0P",
   "metadata": {
    "id": "4c681d-64o0P"
   },
   "outputs": [],
   "source": [
    "temp2 = bike[['Datetime', 'Count']].copy()\n",
    "temp2.head()"
   ]
  },
  {
   "cell_type": "code",
   "execution_count": null,
   "id": "-v9NZnzn4o0P",
   "metadata": {
    "id": "-v9NZnzn4o0P"
   },
   "outputs": [],
   "source": [
    "# 전시점대비 증감\n",
    "temp2['Diff1'] = temp2['Count'].diff()\n",
    "\n",
    "# 전전시점 대비 증가\n",
    "temp2['Diff2'] = temp2['Count'].diff(2)\n",
    "\n",
    "temp2.head()"
   ]
  },
  {
   "cell_type": "markdown",
   "id": "InJDjnNQsJF2",
   "metadata": {
    "id": "InJDjnNQsJF2"
   },
   "source": [
    "<img src='https://raw.githubusercontent.com/jangrae/img/master/practice_01.png' width=120 align=\"left\"/>"
   ]
  },
  {
   "cell_type": "markdown",
   "id": "sohuOFYmsJF9",
   "metadata": {
    "id": "sohuOFYmsJF9"
   },
   "source": [
    "[문1] temp에 24시간 전 대여량을 추가하시오."
   ]
  },
  {
   "cell_type": "code",
   "execution_count": null,
   "id": "v17H8LB10mHb",
   "metadata": {
    "id": "v17H8LB10mHb"
   },
   "outputs": [],
   "source": []
  },
  {
   "cell_type": "markdown",
   "id": "yJJxzpuYBeGn",
   "metadata": {
    "id": "yJJxzpuYBeGn"
   },
   "source": [
    "[문2] temp에 4시간 이동평균 대여량을 추가하시오."
   ]
  },
  {
   "cell_type": "code",
   "execution_count": null,
   "id": "brGzgv3w02tJ",
   "metadata": {
    "id": "brGzgv3w02tJ"
   },
   "outputs": [],
   "source": []
  },
  {
   "cell_type": "markdown",
   "id": "LkaycwiFDS7S",
   "metadata": {
    "id": "LkaycwiFDS7S"
   },
   "source": [
    "[문3] temp에 24시간 전 대비 대여량 증감을 추가하시오."
   ]
  },
  {
   "cell_type": "code",
   "execution_count": null,
   "id": "OtLdaxTsD1oX",
   "metadata": {
    "id": "OtLdaxTsD1oX"
   },
   "outputs": [],
   "source": []
  },
  {
   "cell_type": "markdown",
   "id": "atDe8JfNn_Eq",
   "metadata": {
    "id": "atDe8JfNn_Eq"
   },
   "source": [
    "### (3) 어떤 패턴도 보이지 않는 y\n",
    "* 이전 데이터 대비 증감으로 분석하기"
   ]
  },
  {
   "cell_type": "code",
   "execution_count": null,
   "id": "93571d89",
   "metadata": {
    "id": "93571d89"
   },
   "outputs": [],
   "source": [
    "# 데이터 차분(difference) 데이터를 만들고\n",
    "kospi['diff'] = kospi['Close'].diff()"
   ]
  },
  {
   "cell_type": "code",
   "execution_count": null,
   "id": "64af0ec4",
   "metadata": {
    "id": "64af0ec4"
   },
   "outputs": [],
   "source": [
    "# 그래프를 그리면, 이전과 다른 새로운 관점의 그래프를 얻을 수 있습니다.\n",
    "\n",
    "plt.figure(figsize = (12,5))\n",
    "plt.subplot(1,2,1)\n",
    "sns.histplot(x = 'Close', data = kospi, bins = 50)\n",
    "\n",
    "plt.subplot(1,2,2)\n",
    "sns.histplot(x = 'diff', data = kospi, bins = 50)\n",
    "plt.show()"
   ]
  },
  {
   "cell_type": "code",
   "execution_count": null,
   "id": "FcrWuIvHWZqH",
   "metadata": {
    "id": "FcrWuIvHWZqH"
   },
   "outputs": [],
   "source": []
  }
 ],
 "metadata": {
  "colab": {
   "provenance": [],
   "toc_visible": true
  },
  "kernelspec": {
   "display_name": "Python 3 (ipykernel)",
   "language": "python",
   "name": "python3"
  },
  "language_info": {
   "codemirror_mode": {
    "name": "ipython",
    "version": 3
   },
   "file_extension": ".py",
   "mimetype": "text/x-python",
   "name": "python",
   "nbconvert_exporter": "python",
   "pygments_lexer": "ipython3",
   "version": "3.12.4"
  }
 },
 "nbformat": 4,
 "nbformat_minor": 5
}
