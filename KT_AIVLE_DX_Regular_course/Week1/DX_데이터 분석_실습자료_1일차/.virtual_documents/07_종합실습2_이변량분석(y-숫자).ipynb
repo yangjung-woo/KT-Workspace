














import pandas as pd
import numpy as np

import matplotlib.pyplot as plt
import seaborn as sns

import scipy.stats as spst


def eda(df, feature, target) :
    temp = df.loc[df[feature].notnull()]
    sns.barplot(x = feature, y = target, data = temp)
    plt.grid()
    plt.show()

    an_list = []
    for i in range(temp[feature].nunique()) :
        an_list.append(df.loc[temp[feature] == i, target])

    if len(an_list) == 2:
    # t-test
        t_stat, p_value = spst.ttest_ind(an_list[0], an_list[1])
        print(f"T-test 결과: t-statistic = {t_stat}, p-value = {p_value}")

    elif len(an_list) > 2:
    # ANOVA
        f_stat, p_value = spst.f_oneway(*an_list)
        print(f"ANOVA 결과: F-statistic = {f_stat}, p-value = {p_value}")

    else:
        print("비교할 그룹이 부족합니다.")








path = 'https://raw.githubusercontent.com/DA4BAM/dataset/master/Carseats2.csv'
data = pd.read_csv(path)
data.head()


target = 'Sales'














var = 'Advertising'

sns.scatterplot(x=var, y = target, data = data)
plt.show()


sns.regplot(x=var, y = target, data = data)
plt.show()


sns.jointplot(x=var, y = target, data = data)
plt.show()





result = spst.pearsonr(data[var], data[target])
print(f'상관계수 : {result[0]}, p-value : {result[1]}')














sns.regplot(x='Population', y = 'Sales', data = data)
plt.show()


sns.jointplot(x='Population', y = 'Sales', data = data)
plt.show()





result = spst.pearsonr(data['Population'], data['Sales'])
print(f'상관계수 : {result[0]}, p-value : {result[1]}')





# P- Value 값을 보면 유의수준 0.05보다 한참 큰 0.3이다, 즉 
# 인구수와 판매량 두 변수간 유의미한 상관관계가 존재하지 않는다(귀무가설 채택 )








sns.regplot(x='Price', y = 'Sales', data = data)
plt.show()


sns.jointplot(x='Price', y = 'Sales', data = data)
plt.show()





result = spst.pearsonr(data['Price'], data['Sales'])
print(f'상관계수 : {result[0]}, p-value : {result[1]}')





# P-value 값을 보면 유의수준 0.05보다 작기에 귀무가설을 기각
#즉, 가격과 판매량간에는 음의 (약한?) 상관관계가 존재한다 









sns.regplot(x='Age', y = 'Sales', data = data)
plt.show()


sns.jointplot(x='Age', y = 'Sales', data = data)
plt.show()





result = spst.pearsonr(data['Age'], data['Sales'])
print(f'상관계수 : {result[0]}, p-value : {result[1]}')





# 연령대와 판매량 사이엔 음의 상관관계가 존재한다 (대립가설 채택)








sns.regplot(x='CompPrice', y = 'Sales', data = data)
plt.show()


sns.jointplot(x='CompPrice', y = 'Sales', data = data)
plt.show()





result = spst.pearsonr(data['CompPrice'], data['Sales'])
print(f'상관계수 : {result[0]}, p-value : {result[1]}')





# p-value 가 유의수준을 벗어남 >> 귀무가설채택
# 경쟁사의 가격과 매출액은 상관관계가 없다. 








sns.regplot(x='Income', y = 'Sales', data = data)
plt.show()


sns.jointplot(x='Income', y = 'Sales', data = data)
plt.show()





result = spst.pearsonr(data['Income'], data['Sales'])
print(f'상관계수 : {result[0]}, p-value : {result[1]}')





# 귀무가설을 기각, P-valye < 0.05
# 수익과 판매량간에는 양의 상관관계가 존재(약함)














sns.barplot(x='Urban',y='Sales',data=data)
plt.grid()
plt.show()








A = data.loc[data['Urban']=='Yes','Sales']
B = data.loc[data['Urban']=='No','Sales']
spst.ttest_ind(A,B)














sns.barplot(x='ShelveLoc',y='Sales',data=data)
plt.grid()
plt.show()








bad = data.loc[data['ShelveLoc']=='Bad','Sales']
medium = data.loc[data['ShelveLoc']=='Medium','Sales']
good = data.loc[data['ShelveLoc']=='Good','Sales']
spst.f_oneway(bad,medium,good)














sns.barplot(x='US',y='Sales',data=data)
plt.grid()
plt.show()








A = data.loc[data['US']=='Yes','Sales']
B = data.loc[data['US']=='No','Sales']
spst.ttest_ind(A,B)





# 미국에 매장을 둔것과 안둔것에 따른 판매량에는 차이가 있다








# 숫자 > 숫자 간 상관분석시
#-1, 1에 가까울 수록 강한 상관관계를 나타냄.

# 숫자 >범주 간 관계는 t-test , anova 집단간 평균,분산 차이를 분석할 수 있음 
# F-value는 0~ inf 사이 값을 가지며 inf 에 가까울수록 집단간 차이가 큼






# 숫자 > 숫자 간 상관분석시
#- 0에 가까울 수록 약한 상관관계를 나타냄.





# P -value > 0.05 이상 (집단간 차이가 없다:귀무가설 을 채택 )


def eda(df, feature, target) :
    temp = df.loc[df[feature].notnull()]
    sns.barplot(x = feature, y = target, data = temp)
    plt.grid()
    plt.show()

    an_list = []
    for i in range(temp[feature].nunique()) :
        an_list.append(df.loc[temp[feature] == i, target])

    if len(an_list) == 2:
    # t-test
        t_stat, p_value = spst.ttest_ind(an_list[0], an_list[1])
        print(f"T-test 결과: t-statistic = {t_stat}, p-value = {p_value}")

    elif len(an_list) > 2:
    # ANOVA
        f_stat, p_value = spst.f_oneway(*an_list)
        print(f"ANOVA 결과: F-statistic = {f_stat}, p-value = {p_value}")

else:
print("비교할 그룹이 부족합니다.")
