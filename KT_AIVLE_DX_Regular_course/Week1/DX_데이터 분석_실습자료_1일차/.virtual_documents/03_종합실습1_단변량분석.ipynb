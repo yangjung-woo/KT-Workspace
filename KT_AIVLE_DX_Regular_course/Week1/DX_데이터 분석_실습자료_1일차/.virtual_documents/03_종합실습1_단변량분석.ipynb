

















import numpy as np
import pandas as pd

import matplotlib.pyplot as plt
import seaborn as sns








path = 'https://raw.githubusercontent.com/DA4BAM/dataset/master/Carseats2.csv'
data = pd.read_csv(path)
data.head()





def eda_1_n(data, var, bins = 30) :
    print(data[[var]].describe().T)
    print()

    plt.figure(figsize = (6,8))
    plt.subplot(2,1,1)
    sns.histplot(x=data[var], bins = 20, kde = True)

    plt.subplot(2,1,2)
    sns.boxplot(x=data[var])

    plt.tight_layout()
    plt.show()














eda_1_n(data, 'Sales')


























eda_1_n(data, 'CompPrice')


























eda_1_n(data, 'Income')




















- 각 지역, 회사의 광고 예산(단위 : 1000달러)
- feature





eda_1_n(data, 'Advertising')





- 대다수의 지역에 광고예산에 1만달러 이하로 사용하고 있음 , 대부분 5천 달러 이하의 광고비용을 지출 




















eda_1_n(data, 'Population')





- 지역별로 








# 자사 가격 vs 타사 가격 비교 
sns.kdeplot(x ='Price',data = data)
sns.kdeplot(x ='CompPrice',data = data)

plt.grid()
plt.show()

















eda_1_n(data, 'Price')


























eda_1_n(data, 'Age')





- 초혼 평균나이가 28~30인 것을 감안하면 유아용 카시트 구매자는 35~45가 가장 많은 지역에서에 판매량이 높을 것(가설1)

- 카시트를 구매하는 지역 평균 연령은 40~60대에 많이 분포, 특히 60세 이상(실제 관측)

- 전세계적 고령인구 증가와 '실버 세대의 육아' 가 널리 확산되었기에  50~60세 카시트 구매 분포가 많은것(새로운 가설)











# 범주형 변수에 대한 단변량 분석 함수
def eda_1_c(data, var) :
    # 기초 통계량
    print(f' <<<  {var}   >>')
    cnt = data[var].value_counts()
    prop = data[var].value_counts()/data.shape[0]
    temp = pd.DataFrame({'Class':cnt.index, 'Count':cnt.values, 'Prop':prop.values})
    display(temp)
    # 시각화
    sns.countplot(x = var, data = data)
    plt.grid()
    plt.show()














var = 'Urban'
eda_1_c(data, var)


























var = 'ShelveLoc'
eda_1_c(data, var)





# 진열상태는 전반적으로 평균 , 나쁜 진열상태를 개선하면 손님의 이목을 끌 수 있을것




















var = 'US'
eda_1_c(data, var)












