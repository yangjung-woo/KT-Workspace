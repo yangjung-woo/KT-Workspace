








import pandas as pd
import numpy as np

import matplotlib.pyplot as plt
import seaborn as sns

import scipy.stats as spst








# 타이타닉 데이터
titanic = pd.read_csv('https://raw.githubusercontent.com/DA4BAM/dataset/master/titanic.0.csv')
titanic.head()











sns.barplot(x="Survived", y="Age", data=titanic)
plt.grid()
plt.show()
# 검은색 바는 95% 신뢰구간을 의미한다 , 아래 그래프는 생존자별 AGE는 신뢰구간 안에 있


titanic.loc[:10, ['Survived','Age']]





# 차이가 있긴 하나 매우 미비합 = 없다고 볼 수 있음 





sns.boxplot(x='Survived', y = 'Age', data = titanic)
plt.show()

















# 먼저 NaN이 있는지 확인해 봅시다.
titanic.isna().sum()


# NaN 행 제외
temp = titanic.loc[titanic['Age'].notnull()]


# 두 그룹으로 데이터 저장
died = temp.loc[temp['Survived']==0, 'Age']
survived = temp.loc[temp['Survived']==1, 'Age']





spst.ttest_ind(died, survived) # 0.05 이하이긴 한데  생존자와 사망자의 연령 평균에 차이가 없음(99% 신뢰구간이라면 )








# 데이터 확인 
titanic.head()


temp = titanic.loc[titanic['Sex'].notnull()]
male_fare  = temp.loc[temp['Sex']=='male', 'Fare']
female_fare = temp.loc[temp['Sex']=='female', 'Fare']

sns.barplot(x="Sex", y="Fare", data=titanic)


spst.ttest_ind(male_fare, female_fare) # 여성의 운임료가 더 비쌈?  








temp = titanic.loc[titanic['Survived'].notnull()]
dead  = temp.loc[temp['Survived']==0, 'Fare']
alive = temp.loc[temp['Survived']==1, 'Fare']

sns.barplot(x="Survived", y="Fare", data=titanic)


spst.ttest_ind(dead, alive) # 생존자들의 운임료가 더 비쌌음 = 더 좋은 객실을 사용








# Pclass(3 범주) --> Age
sns.barplot(x="Pclass", y="Age", data=titanic)
plt.grid()
plt.show()


# Pclass(3 범주) --> Age
sns.barplot(x="Pclass", y="Fare", data=titanic)
plt.grid()
plt.show()


# Pclass(3 범주) --> Age
sns.barplot(x="Embarked", y="Fare", data=titanic)
plt.grid()
plt.show()





# 1) 분산 분석을 위한 데이터 만들기
# NaN 행 제외
temp = titanic.loc[titanic['Age'].notnull()]
# 그룹별 저장
P_1 = temp.loc[temp.Pclass == 1, 'Age']
P_2 = temp.loc[temp.Pclass == 2, 'Age']
P_3 = temp.loc[temp.Pclass == 3, 'Age']


sns.barplot(x="Pclass", y="Age", data=titanic)
plt.grid()
plt.show()





spst.f_oneway(P_1, P_2, P_3)
# 전체 평균 vs 그룹 평균 분산량 차이는 약 57배 이다 








temp = titanic.loc[titanic['Embarked'].notnull()]
print(temp['Embarked'].value_counts())
# 그룹별 저장


F_1 = temp.loc[temp.Embarked == 'S', 'Fare']
F_2 = temp.loc[temp.Embarked == 'C', 'Fare']
F_3 = temp.loc[temp.Embarked == 'Q', 'Fare']


sns.barplot(x="Embarked", y="Fare", data=titanic)
plt.grid()
plt.show()


spst.f_oneway(F_1, F_2, F_3)
# 전체 평균 vs 그룹 평균 분산량 차이는 약 38배 이다 





temp = titanic.loc[titanic['Pclass'].notnull()]
print(temp['Pclass'].value_counts())
# 그룹별 저장


P_1 = temp.loc[temp.Pclass == 1, 'Fare']
P_2 = temp.loc[temp.Pclass == 2, 'Fare']
P_3 = temp.loc[temp.Pclass == 3, 'Fare']


sns.barplot(x="Pclass", y="Fare", data=titanic)
plt.grid()
plt.show()


spst.f_oneway(P_1, P_2, P_3)
# 전체 평균 vs 그룹 평균 분산량 차이는 약 242배 이다 











import pandas as pd
import numpy as np
import random as rd

import matplotlib.pyplot as plt
import seaborn as sns

import scipy.stats as spst





# 뉴욕시 공기 오염도 데이터
air = pd.read_csv('https://raw.githubusercontent.com/DA4BAM/dataset/master/air2.csv')
air['Date'] = pd.to_datetime(air['Date'])
air['Month'] = air.Date.dt.month
air['Weekday'] = air.Date.dt.weekday
air['Weekend'] = np.where(air['Weekday'] >=5, 1, 0)
air.head()





sns.barplot(x='Weekend',y='Ozone',data=air)
plt.grid()
plt.show()


# 두 그룹으로 데이터 저장
weekday = air.loc[air['Weekend']==0, 'Ozone']
weekend = air.loc[air['Weekend']==1, 'Ozone']

spst.ttest_ind(weekday, weekend) # t-test 가설검정 
#평일과 주말에 오존농도에는 차이가 없다(귀무가설 채택) 





sns.barplot(x='Weekday',y='Ozone',data=air)
plt.grid()
plt.show()


# 집단내 여러 표본 내 차이가 있다 없다 판별: Avova 분석
p0=air.loc[air['Weekday']==0,'Ozone']
p1=air.loc[air['Weekday']==1,'Ozone']
p2=air.loc[air['Weekday']==2,'Ozone']
p3=air.loc[air['Weekday']==3,'Ozone']
p4=air.loc[air['Weekday']==4,'Ozone']
p5=air.loc[air['Weekday']==5,'Ozone']
p6=air.loc[air['Weekday']==6,'Ozone']

spst.f_oneway(p0,p1,p2,p3,p4,p5,p6)





sns.barplot(x='Month',y='Ozone',data=air)
plt.grid()
plt.show()


# 집단내 여러 표본 내 차이가 있다 없다 판별: Avova 분석
m5=air.loc[air['Month']==5,'Ozone']
m6=air.loc[air['Month']==6,'Ozone']
m7=air.loc[air['Month']==7,'Ozone']
m8=air.loc[air['Month']==8,'Ozone']
m9=air.loc[air['Month']==9,'Ozone']


spst.f_oneway(m5,m6,m7,m8,m9)
# 월별 오존 농도에는 차이가 있다(귀무가설 기각, 대립가설 채택 )



