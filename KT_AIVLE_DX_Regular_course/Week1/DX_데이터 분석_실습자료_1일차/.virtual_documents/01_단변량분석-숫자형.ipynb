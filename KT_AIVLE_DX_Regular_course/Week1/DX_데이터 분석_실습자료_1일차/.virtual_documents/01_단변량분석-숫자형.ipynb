











import numpy as np
import pandas as pd

import matplotlib.pyplot as plt
import seaborn as sns











path = 'https://raw.githubusercontent.com/DA4BAM/dataset/master/titanic_simple.csv'
titanic = pd.read_csv(path)
titanic.head()








path = 'https://raw.githubusercontent.com/DA4BAM/dataset/master/air2.csv'
air = pd.read_csv(path)
air.head()











# 넘파이 함수 이용하기- 넘파이 어레이로 변화시켜서 계산. 시리즈, 리스트 가능
np.mean(titanic['Fare'])


# 판다스의 mean 메서드 이용하기- 시리즈에 딸려 있는 메소드
titanic['Fare'].mean()





# 넘파이 함수 이용하기
np.median(titanic['Fare'])


# 판다스의 median 메서드 이용하기
titanic['Fare'].median()





# 판다스 메서드 이용하기
titanic['Pclass'].mode()








titanic['Fare'].describe()








titanic['Fare'].describe()





titanic.head()


# 데이터프레임의 숫자타입 변수들 기초통계량 조회
titanic.describe()


# 데이터프레임의 전체 변수들 기초통계량 조회
titanic.describe(include='all') # unique , top , freq 가 추가됨  , Embarked의 최빈값은 Southampton이야 
# 자주 사용하지 않음 








air.describe() 


air.describe(include = 'all')











plt.hist(titanic.Fare, bins = 5, edgecolor = 'gray')
plt.xlabel('Fare')
plt.ylabel('Frequency')
plt.show()





plt.hist(titanic.Fare, bins = 30, edgecolor = 'gray')
plt.xlabel('Fare')
plt.ylabel('Frequency')
plt.show()


plt.figure(figsize=(6,8))
plt.subplot(2,1,1)
plt.hist(titanic.Fare, bins = 5, edgecolor = 'gray')
plt.xlabel('Fare')
plt.ylabel('Frequency')
plt.subplot(2,1,2)
plt.hist(titanic.Fare, bins = 30, edgecolor = 'gray')
plt.xlabel('Fare')
plt.ylabel('Frequency')

plt.show()





sns.histplot(x= 'Fare', data = titanic)
plt.show()


sns.histplot(x= 'Fare', data = titanic, bins = 20)
plt.show()








plt.figure(figsize =(6,6))

plt.subplot(2,2,1)
sns.histplot(x ='Age',data = titanic, bins = 8)

plt.subplot(2,2,2)
sns.histplot(x ='Age',data = titanic, bins = 16)

plt.subplot(2,2,3)
sns.histplot(x ='Age',data = titanic, bins = 32)

plt.subplot(2,2,4)
sns.histplot(x ='Age',data = titanic, bins = 64)
plt.tight_layout()
plt.show()











sns.kdeplot(titanic['Fare'])
# sns.kdeplot(x='Fare', data = titanic)
plt.show()














sns.kdeplot(x='Age',data= titanic)
plt.show()





sns.histplot(x='Age',data= titanic, kde =True) # kde = True 밀도함수 그래프도 같이 그려준다 
plt.show()


# 밀집구간: 20~40 , 0~5  ==>
# 희박: 50~ , 5~ 15      ==>









# titanic['Age']에는 NaN이 있습니다. 이를 제외한 데이터
temp = titanic.loc[titanic['Age'].notnull()]


plt.boxplot(temp['Age'])
plt.grid()
plt.show()





plt.boxplot(temp['Age'], vert = False)
plt.grid()
plt.show()





sns.boxplot(x = titanic['Age'])
plt.grid()
plt.show()


sns.boxplot(y = titanic['Age'])
plt.grid()
plt.show()








sns.boxplot(x = titanic['Age'])
plt.grid()
plt.show()


sns.boxplot(x = titanic['Fare'])
plt.grid()
plt.show()








import numpy as np
import pandas as pd

import matplotlib.pyplot as plt
import seaborn as sns








import pandas as pd
import numpy as np
import matplotlib.pyplot as plt
import seaborn as sns


# 보스톤 집값 데이터
boston = pd.read_csv('https://raw.githubusercontent.com/DA4BAM/dataset/master/boston.csv')
boston.head()
# 행 하나가 town에 대한 정보임 


boston['medv'].value_counts()


temp = boston.groupby(by= 'medv',as_index=False)['tax'].mean()
temp.head()








def eda_1_n(data, var, bins = 30) :
    # 기초 통계량
    display(data[[var]].describe().T)

    # 시각화
    plt.figure(figsize = (12,8))
    plt.subplot(2,1,1)
    sns.histplot(data[var], bins = bins, kde = True)
    plt.grid()

    plt.subplot(2,1,2)
    sns.boxplot(x = data[var])
    plt.grid()
    plt.show()





eda_1_n(boston , 'medv')


# 보스턴의 주택가격 중앙값은 정규분포를 따르고 있음 

#1. 축 

#2. 밀집 , 희박 구간 : 2사분위수~ 3사분위 수 사이에 분포가 밀집되어 있음 

#3. 의미 : 중간층 가격( 20 ~ 30 medv )에 많이 거주함(선호함)
#* 보스턴 근처에 하버드, MIT 등도 있고 해서 교육에 관심많은 부자들이 거주 (상류층 거주)
#  + 설문의 마지막 항문값이 5000달러 이상이라 있어서(5000달러 이상 더 있음)





eda_1_n(boston , 'crim' ,bins = 50)


# 보스턴시의 전체적인 범죄건수는 낮은편 , 하지만 어떤 town은 범죄가 매우 자주 발생하는 구역이 있음 





# 집값이 싼 구역은 범죄율이 높음 
# 범죄가 많이 발생해서 집값이 낮은지? 
# 집값이 낮은 인프라가 안좋은 구역이라 집값이 싸다?   둘 사이의 인과관계를 말할 순 없으나 
# 확실한 상관관계는 존재한다 





eda_1_n(boston , 'lstat')


# 보스턴 시의 전반적인 하위계층 비율은  5~15 사이 
#  > 빈부격차 가 심한 곳일수록 하위 계층 비율이 많다?





eda_1_n(boston , 'ptratio')


# 교사 1명당 학생 수는 약 18~ 20명  한 반에 21명 교사 1명당 학생 수는 약 18~ 20명  한 반에 21명





eda_1_n(boston , 'tax')


#약 700 정도 재산세를 내는 town이 제일 많음,



# 500 이하 세금 분포를 따로 확인해보자 
temp = boston.loc[boston['tax']< 500 ]
eda_1_n(temp, 'tax')




