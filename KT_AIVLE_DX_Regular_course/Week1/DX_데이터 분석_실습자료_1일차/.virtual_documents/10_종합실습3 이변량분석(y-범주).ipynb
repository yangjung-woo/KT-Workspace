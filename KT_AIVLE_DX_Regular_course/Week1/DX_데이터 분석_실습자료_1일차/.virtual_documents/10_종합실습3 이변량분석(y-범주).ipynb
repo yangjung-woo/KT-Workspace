














import pandas as pd
import numpy as np

import matplotlib.pyplot as plt
import seaborn as sns
from statsmodels.graphics.mosaicplot import mosaic      #mosaic plot!

import scipy.stats as spst





# 직원 이직 데이터
path = 'https://raw.githubusercontent.com/DA4BAM/dataset/master/Attrition_simple3.csv'
data = pd.read_csv(path)
data.head()








target = 'Attrition'





feature = 'Gender'





# 두 범주별 빈도수를 교차표로 만들어 봅시다.
pd.crosstab(data[target], data[feature])


pd.crosstab(data[target], data[feature], normalize = 'columns')





mosaic(data, [ feature,target])
plt.axhline(1- data[target].mean(), color = 'r')
plt.show()





# 먼저 집계
table = pd.crosstab(data[target], data[feature])
print('교차표\n', table)
print('-' * 100)

# 카이제곱검정
result = spst.chi2_contingency(table)
print('카이제곱통계량', result[0])
print('p-value', result[1])
print('자유도', result[2])
# print('기대빈도\n',result[3])





# 카이제곱검정으로는 관련이 없다고 나오나, 그래프로 볼때 약간 관련이 있다고 판단됨.





target = 'Attrition'
feature = 'JobSatisfaction'





# 두 범주별 빈도수를 교차표로 만들어 봅시다.
print(pd.crosstab(data[target], data[feature]))
print(pd.crosstab(data[target], data[feature], normalize = 'columns'))








mosaic(data, [ feature,target])
plt.axhline(1- data[target].mean(), color = 'r')
plt.show()


# 정렬해서 보고싶어
temp = data.sort_values('JobSatisfaction')
mosaic(temp, [ feature,target])
plt.axhline(1- temp[target].mean(), color = 'r')
plt.show()





# 먼저 집계
table = pd.crosstab(data[target], data[feature])
print('교차표\n', table)
print('-' * 100)

# 카이제곱검정
result = spst.chi2_contingency(table)
print('카이제곱통계량', result[0])
print('p-value', result[1])
print('자유도', result[2])
# print('기대빈도\n',result[3])





# 직업 만족도가 낮을수록 이직을 하는 경향이 있다 , 단 카이제곱 통계량이 자유도 대비 약 3배이기에 
# 직업만족도가 이직 여부에 약한 영향을 준다로 볼수 있다 





target = 'Attrition'
feature = 'MaritalStatus'





# 두 범주별 빈도수를 교차표로 만들어 봅시다.
print(pd.crosstab(data[target], data[feature]))
print(pd.crosstab(data[target], data[feature], normalize = 'columns'))











mosaic(data, [ feature,target])
plt.axhline(1- data[target].mean(), color = 'r')
plt.show()





# 먼저 집계
table = pd.crosstab(data[target], data[feature])
print('교차표\n', table)
print('-' * 100)

# 카이제곱검정
result = spst.chi2_contingency(table)
print('카이제곱통계량', result[0])
print('p-value', result[1])
print('자유도', result[2])
# print('기대빈도\n',result[3])





# 결혼 여부가 이직 여부에 큰 영향을 준다고 볼 수 있다 (독신, 이혼 , 결혼)
# 자유도 대빅 카이제곱 통계량이 3약 13배 이므로 강한 관계이다 





feature = 'OverTime'
target = 'Attrition'





# 두 범주별 빈도수를 교차표로 만들어 봅시다.
print(pd.crosstab(data[target], data[feature]))  # crosstab 주의점 , 원하는 feature --> target 그림을 그리고 싶다면 
                                                # pd.crosstab(data[target],data['feature']) 순으로 그리는게 보기좋음 
print(pd.crosstab(data[target], data[feature], normalize = 'columns'))








mosaic(data, [ feature,target])
plt.axhline(1- data[target].mean(), color = 'r')
plt.show()





# 먼저 집계
table = pd.crosstab(data[target], data[feature])
print('교차표\n', table)
print('-' * 100)

# 카이제곱검정
result = spst.chi2_contingency(table)
print('카이제곱통계량', result[0])
print('p-value', result[1])
print('자유도', result[2])
# print('기대빈도\n',result[3])





# 초과근무를 많이 할 수록 이직 비율이 많아짐 
# 카이제곱 통계량도 58배 강한 차이를 보임








feature = 'Age'


sns.kdeplot(x= feature, data = data, hue = target,
            common_norm = False)
plt.show()


sns.kdeplot(x= feature, data = data, hue = target, multiple = 'fill')
plt.axhline(data[target].mean(), color = 'r')
plt.show()





plt.figure(figsize = (12,3))
plt.subplot(1,3,1)
sns.kdeplot(x=feature, data = data, hue =target, common_norm = False)
plt.grid()

plt.subplot(1,3,2)
sns.kdeplot(x= feature, data = data, hue = target, multiple = 'fill')
plt.axhline(data[target].mean(), color = 'r')

plt.subplot(1,3,3)
sns.histplot(x=feature, data = data, bins = 30, hue =target, multiple = 'fill')
plt.axhline(data[target].mean(), color = 'r')

plt.tight_layout()
plt.show()





feature = 'DistanceFromHome'


sns.kdeplot(x= feature, data = data, hue = target,
            common_norm = False)
plt.show()


sns.kdeplot(x= feature, data = data, hue = target, multiple = 'fill')
plt.axhline(data[target].mean(), color = 'r')
plt.show()


plt.figure(figsize = (12,3))
plt.subplot(1,3,1)
sns.kdeplot(x=feature, data = data, hue =target, common_norm = False)
plt.grid()

plt.subplot(1,3,2)
sns.kdeplot(x= feature, data = data, hue = target, multiple = 'fill')
plt.axhline(data[target].mean(), color = 'r')

plt.subplot(1,3,3)
sns.histplot(x=feature, data = data, bins = 30, hue =target, multiple = 'fill')
plt.axhline(data[target].mean(), color = 'r')

plt.tight_layout()
plt.show()





# 거주지가 멀수록 이직하는 비율이 더 높음





feature = 'MonthlyIncome'


sns.kdeplot(x= feature, data = data, hue = target,
            common_norm = False)
plt.show()


sns.kdeplot(x= feature, data = data, hue = target, multiple = 'fill')
plt.axhline(data[target].mean(), color = 'r')
plt.show()


plt.figure(figsize = (12,3))
plt.subplot(1,3,1)
sns.kdeplot(x=feature, data = data, hue =target, common_norm = False)
plt.grid()

plt.subplot(1,3,2)
sns.kdeplot(x= feature, data = data, hue = target, multiple = 'fill')
plt.axhline(data[target].mean(), color = 'r')

plt.subplot(1,3,3)
sns.histplot(x=feature, data = data, bins = 30, hue =target, multiple = 'fill')
plt.axhline(data[target].mean(), color = 'r')

plt.tight_layout()
plt.show()





# 월 4000$ 이하면  이직확률이 높고 





feature = 'PercentSalaryHike'


sns.kdeplot(x= feature, data = data, hue = target,
            common_norm = False)
plt.show()


sns.kdeplot(x= feature, data = data, hue = target, multiple = 'fill')
plt.axhline(data[target].mean(), color = 'r')
plt.show()


plt.figure(figsize = (12,3))
plt.subplot(1,3,1)
sns.kdeplot(x=feature, data = data, hue =target, common_norm = False)
plt.grid()

plt.subplot(1,3,2)
sns.kdeplot(x= feature, data = data, hue = target, multiple = 'fill')
plt.axhline(data[target].mean(), color = 'r')

plt.subplot(1,3,3)
sns.histplot(x=feature, data = data, bins = 20, hue =target, multiple = 'fill')
plt.axhline(data[target].mean(), color = 'r')

plt.tight_layout()
plt.show()











feature = 'TotalWorkingYears'


sns.kdeplot(x= feature, data = data, hue = target,
            common_norm = False)
plt.show()


sns.kdeplot(x= feature, data = data, hue = target, multiple = 'fill')
plt.axhline(data[target].mean(), color = 'r')
plt.show()


plt.figure(figsize = (12,3))
plt.subplot(1,3,1)
sns.kdeplot(x=feature, data = data, hue =target, common_norm = False)
plt.grid()

plt.subplot(1,3,2)
sns.kdeplot(x= feature, data = data, hue = target, multiple = 'fill')
plt.axhline(data[target].mean(), color = 'r')

plt.subplot(1,3,3)
sns.histplot(x=feature, data = data, bins = 20, hue =target, multiple = 'fill')
plt.axhline(data[target].mean(), color = 'r')

plt.tight_layout()
plt.show()














1. 결혼 여부 Marital , Overtime , MonthlyIncome  
2. 초과근무 
3. 월 수입 





1. 직업만족도 # AGe , JonSatisfied , Distance, PercentSal , Total  
2. 나이 
3. 거주지- 회사 거리 
4. 근무년차 
5. 전년대비 임금 인상





범주>>> 범주
1. 성별
