








import pandas as pd
import numpy as np
# import random as rd

import matplotlib.pyplot as plt
import seaborn as sns
from statsmodels.graphics.mosaicplot import mosaic      #mosaic plot!

import scipy.stats as spst





# 타이타닉 데이터
titanic = pd.read_csv('https://raw.githubusercontent.com/DA4BAM/dataset/master/titanic.1.csv')
titanic.head()











# 두 범주별 빈도수를 교차표로 만들어 봅시다.
pd.crosstab(titanic['Survived'], titanic['Sex']) 





pd.crosstab(titanic['Survived'], titanic['Sex'], normalize = 'columns') # 열 기준 으로 비율 


pd.crosstab(titanic['Survived'], titanic['Sex'], normalize = 'index') # 행을 기준으로


pd.crosstab(titanic['Survived'], titanic['Sex'], normalize = 'all') # 행, 열 전체 기준 











# Pclass별 생존여부를 mosaic plot으로 그려 봅시다.
# mosaic(데이터프레임 ,[x축, y] )
mosaic(titanic, [ 'Pclass','Survived'])
plt.axhline(1- titanic['Survived'].mean(), color = 'r') # 수평선 긋기  y축 좌표 필요 

plt.show()








# 비율만 보이고 이 순서대로 코드를 작성해야 함 ********************
temp = pd.crosstab(titanic['Pclass'], titanic['Survived'], normalize = 'index')
print(temp)
temp.plot.bar(stacked=True)
plt.axhline(1-titanic['Survived'].mean(), color = 'r')
plt.show()














mosaic(titanic, [ 'Sex','Survived'])
plt.axhline(1-titanic['Survived'].mean(), color = 'r') # 전체 사망률 
plt.show()


# 비율만 보이고 이 순서대로 코드를 작성해야 함 ********************
temp = pd.crosstab(titanic['Pclass'], titanic['Survived'], normalize = 'index')
print(temp)
temp.plot.bar(stacked=True)
plt.axhline(1-titanic['Survived'].mean(), color = 'r')
plt.show()








mosaic(titanic, ['Embarked','Survived'])
plt.axhline(1-titanic['Survived'].mean(), color = 'r') # 전체 사망률 
plt.show()











mosaic(titanic, ['Title','Survived'])
plt.axhline(1-titanic['Survived'].mean(), color = 'r') # 전체 사망률 
plt.show()























pd.crosstab(titanic['Survived'], titanic['Pclass'])


# 1) 먼저 교차표 집계- normalize 하면 안 됨
table = pd.crosstab(titanic['Survived'], titanic['Pclass'])
print(table)
print('-' * 50)

# 2) 카이제곱검정
spst.chi2_contingency(table)











print(pd.crosstab(titanic['Sex'], titanic['Survived']))
# 1) 먼저 교차표 집계- normalize 하면 안 됨
table = pd.crosstab(titanic['Sex'], titanic['Survived'])
print(table)
print('-' * 50)

# 2) 카이제곱검정
spst.chi2_contingency(table) # static 이 260 즉  자유도 1 보다 약 8배 이상 크므로 차이가 큼 ,  성별에 따라 생존률 차이가 큼 





print(pd.crosstab(titanic['Embarked'], titanic['Survived']))
# 1) 먼저 교차표 집계- normalize 하면 안 됨
table = pd.crosstab(titanic['Embarked'], titanic['Survived'])
print(table)
print('-' * 50)

# 2) 카이제곱검정
spst.chi2_contingency(table) # static 이 25 즉  자유도 2 보다 약 12배 이상 크므로 차이가 큼 





print(pd.crosstab(titanic['Title'], titanic['Survived']))
# 1) 먼저 교차표 집계- normalize 하면 안 됨
table = pd.crosstab(titanic['Title'], titanic['Survived'])
print(table)
print('-' * 50)

# 2) 카이제곱검정
spst.chi2_contingency(table) # static 이 289 즉  자유도 4 보다 약 72배 이상 크므로 차이가 큼 








path = 'https://raw.githubusercontent.com/DA4BAM/dataset/master/Air_Satisfaction.csv'
cols = ['Gender', 'Age', 'Type of Travel', 'Class', 'Flight Distance', 'Food and drink',
        'Departure Delay in Minutes', 'satisfaction']
data = pd.read_csv(path, usecols = cols)
data['satisfaction'] = np.where(data['satisfaction'] =='satisfied', 1 ,0)
data.head()





target = 'satisfaction'











mosaic(data, [ 'Gender','satisfaction'])
plt.axhline(1- data['satisfaction'].mean(), color = 'r') # 수평선 긋기  y축 좌표 필요 

plt.show()





print(pd.crosstab(data['Gender'], data[target]))
# 1) 먼저 교차표 집계- normalize 하면 안 됨
table = pd.crosstab(data['Gender'], data[target])
print(table)
print('-' * 50)

# 2) 카이제곱검정
spst.chi2_contingency(table) # static 이 260 즉  자유도 1 보다 약 8배 이상 크므로 차이가 큼 ,  성별에 따라 생존률 차이가 큼 





# 











mosaic(data, [ 'Type of Travel','satisfaction'])
plt.axhline(1- data['satisfaction'].mean(), color = 'r') # 수평선 긋기  y축 좌표 필요 

plt.show()





print(pd.crosstab(data['Type of Travel'], data[target]))
# 1) 먼저 교차표 집계- normalize 하면 안 됨
table = pd.crosstab(data['Type of Travel'], data[target])
print(table)
print('-' * 50)

# 2) 카이제곱검정
spst.chi2_contingency(table) # static 이 260 즉  자유도 1 보다 약 8배 이상 크므로 차이가 큼 ,  성별에 따라 생존률 차이가 큼 

















mosaic(data, [ 'Class','satisfaction'])
plt.axhline(1- data['satisfaction'].mean(), color = 'r') # 수평선 긋기  y축 좌표 필요 

plt.show()





print(pd.crosstab(data['Class'], data[target]))
# 1) 먼저 교차표 집계- normalize 하면 안 됨
table = pd.crosstab(data['Class'], data[target])
print(table)
print('-' * 50)

# 2) 카이제곱검정
spst.chi2_contingency(table) # static 이 260 즉  자유도 1 보다 약 8배 이상 크므로 차이가 큼 ,  성별에 따라 생존률 차이가 큼 

















mosaic(data, [ 'Food and drink','satisfaction'])
plt.axhline(1- data['satisfaction'].mean(), color = 'r') # 수평선 긋기  y축 좌표 필요 

plt.show()





print(pd.crosstab(data['Food and drink'], data[target]))
# 1) 먼저 교차표 집계- normalize 하면 안 됨
table = pd.crosstab(data['Food and drink'], data[target])
print(table)
print('-' * 50)

# 2) 카이제곱검정
spst.chi2_contingency(table) # static 이 260 즉  자유도 1 보다 약 8배 이상 크므로 차이가 큼 ,  성별에 따라 생존률 차이가 큼 









