








import pandas as pd
import numpy as np
import matplotlib.pyplot as plt
import seaborn as sns

import scipy.stats as spst
import statsmodels.api as sm
from statsmodels.graphics.tsaplots import plot_acf, plot_pacf








kospi = pd.read_csv("https://raw.githubusercontent.com/DA4BAM/dataset/master/KOSPI.csv"
                   , usecols= ['Date', 'Close', 'Volume'])

kospi['Date'] = pd.to_datetime(kospi['Date'])
kospi['Year'] = kospi['Date'].dt.year
kospi['Month'] = kospi['Date'].dt.month
kospi['Weekday'] = kospi['Date'].dt.weekday

kospi['Close_Lag'] = kospi['Close'].shift()
kospi['Volume_Lag'] = kospi['Volume'].shift()
kospi.drop('Volume', axis = 1, inplace = True)
kospi.dropna(axis=0, inplace=True)

kospi.head()





path = 'https://raw.githubusercontent.com/DA4BAM/dataset/master/SeoulBike_Simple.csv'
bike = pd.read_csv(path)
bike['Datetime'] = pd.to_datetime(bike['Datetime'] )
bike.rename(columns={'Rented Bike Count':'Count'}, inplace = True)
bike = bike.loc[bike['Datetime'].between('2018-06-11','2018-08-13', inclusive = 'left'),
                      ['Datetime', 'Temperature', 'Humidity','Count']]
bike.reset_index(drop = True, inplace = True)





path = 'https://raw.githubusercontent.com/DA4BAM/dataset/master/retail_demand2.csv'
retail = pd.read_csv(path)
retail['date'] = pd.to_datetime(retail['date'])
# retail = retail.loc[retail['date'].between('2013-06-01', '2015-10-31')].reset_index(drop = True)
retail








plt.figure(figsize = (10,6))
plt.plot('Date', 'Close', data = kospi, linewidth = .7)
plt.grid()
plt.show()

















sns.histplot(x = 'Close', data = kospi, bins = 50)
plt.show()


sns.boxplot(x = 'Close', data = kospi)
plt.show()





sns.countplot(x="Weekday", data = kospi)
plt.show()


temp = kospi['Weekday'].value_counts()

plt.pie(temp.values, labels = temp.index, autopct='%.2f%%')
plt.show()











sns.regplot(x = 'Close_Lag', y = 'Close', data = kospi,  line_kws={'color': 'darkred'})
plt.show()


# 상관계수와 p-value
spst.pearsonr(kospi['Close_Lag'], kospi['Close'])








temp = kospi.loc[kospi.Date.between('2019-01-01','2019-01-31')]

sns.barplot(x="Weekday", y="Close", data = temp)
plt.grid()
plt.show()














plt.figure(figsize = (12,4))
sns.lineplot(x = 'Date', y = 'Close', data = kospi, linewidth = .7)
plt.show()





# 거래량 추가
plt.figure(figsize = (12,5))
sns.lineplot(x = 'Date', y = 'Close', data = kospi, label = 'Close', color = 'blue', linewidth = .7)
sns.lineplot(x = 'Date', y = 'Volume_Lag', data = kospi, label = 'Volume', color = 'green', linewidth = .5)
plt.show()


# 축을 양쪽에 두고 그립시다.
plt.figure(figsize = (12,5))
# 왼쪽 축
ax1 = sns.lineplot(x = 'Date', y = 'Close', data = kospi, label = 'Close', color = 'blue', linewidth = .5)
plt.legend(loc='upper left')

 # 오른쪽 축 생성
ax2 = ax1.twinx()
sns.lineplot(x = 'Date', y = 'Volume_Lag', data = kospi, label = 'Volume', color = 'green', linewidth = .5)
plt.legend(loc='upper right')

# 그래프 출력
plt.show()





























def decomp_plot(decomp) :
    # 시계열 분해 결과를 받아서 데이터프레임으로 저장
    result = pd.DataFrame({'observed':decomp.observed, 'trend':decomp.trend, 'seasonal':decomp.seasonal, 'residual':decomp.resid})

    # 4개의 그래프로 나눠서 그리기
    plt.subplot(4,1,1)
    plt.plot(result['observed'])
    plt.ylabel('observed')

    plt.subplot(4,1,2)
    plt.plot(result['trend'])
    plt.ylabel('trend')

    plt.subplot(4,1,3)
    plt.plot(result['seasonal'])
    plt.ylabel('seasonal')

    plt.subplot(4,1,4)
    plt.plot(result['residual'])
    plt.ylabel('residual')
    plt.show()

    return result








# 시계열 데이터 분해
decomp = sm.tsa.seasonal_decompose(bike['Count'], model = 'additive', period = 24)

# 그래프 그리기
plt.figure(figsize=(12, 8))
result = decomp_plot(decomp)





# 시계열 데이터 분해
decomp = sm.tsa.seasonal_decompose(bike['Count'], model = 'additive', period = 24 * 7)

# 그래프 그리기
plt.figure(figsize=(12, 8))
result = decomp_plot(decomp)


























plot_acf(bike['Count'], lags = 60)
plt.grid()
plt.show()


# 반복문으로 시차를 늘려가면서 데이터셋 만들기
temp = bike[['Count']].copy()

for i in range(1,21) :
    var = 'lag' + str(i)
    temp[var] = temp['Count'].shift(i)


temp.head(20)


# 각 시차간의 상관계수
temp.corr()


plot_acf(bike['Count'], lags = 60)
plt.grid()
plt.show()











temp = bike.copy()





temp['Datetime'].dt.weekday


temp['weekday'] = temp['Datetime'].dt.weekday
temp.head()





temp['hour'] = temp['Datetime'].dt.hour
temp.head()




















temp2 = bike[['Datetime', 'Count']].copy()
temp2.head()


# shift(1)
temp2['lag1'] = temp2['Count'].shift()

# shift(2)
temp2['lag2'] = temp2['Count'].shift(2)

# shift(-1)
temp2['lag_1'] = temp2['Count'].shift(-1)
temp2.head()





temp2 = bike[['Datetime', 'Count']].copy()
temp2.head()


# 3일 이동평균
temp2['MA3'] = temp2['Count'].rolling(3).mean()

# 3일 이동최대값
temp2['MM3'] = temp2['Count'].rolling(3).max()

# 3일 이동평균(min_period = 1)
temp2['MA3_1'] = temp2['Count'].rolling(3, min_periods=1).mean()

temp2.head()





temp2 = bike[['Datetime', 'Count']].copy()
temp2.head()


# 전시점대비 증감
temp2['Diff1'] = temp2['Count'].diff()

# 전전시점 대비 증가
temp2['Diff2'] = temp2['Count'].diff(2)

temp2.head()


























# 데이터 차분(difference) 데이터를 만들고
kospi['diff'] = kospi['Close'].diff()


# 그래프를 그리면, 이전과 다른 새로운 관점의 그래프를 얻을 수 있습니다.

plt.figure(figsize = (12,5))
plt.subplot(1,2,1)
sns.histplot(x = 'Close', data = kospi, bins = 50)

plt.subplot(1,2,2)
sns.histplot(x = 'diff', data = kospi, bins = 50)
plt.show()



