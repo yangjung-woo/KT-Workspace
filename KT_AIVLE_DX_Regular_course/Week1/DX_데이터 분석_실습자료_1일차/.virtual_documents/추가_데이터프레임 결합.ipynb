








import pandas as pd
import numpy as np
import matplotlib.pyplot as plt
import seaborn as sns





sales = pd.read_csv("https://raw.githubusercontent.com/DA4BAM/dataset/master/ts_sales_simple.csv")

sales1 = sales.loc[sales['Store_ID']==1]
sales2 = sales.loc[sales['Store_ID']==2]
sales5 = sales.loc[sales['Store_ID']==5]
sales11 = sales.loc[sales['Store_ID']==11]

products = pd.read_csv("https://raw.githubusercontent.com/DA4BAM/dataset/master/ts_product_master.csv")
stores = pd.read_csv("https://raw.githubusercontent.com/DA4BAM/dataset/master/ts_store_master.csv")


sales1.head()


products.head()


stores.head()








df1 = pd.DataFrame({'A':[10,25], 'B':[15,30]})
df2 = pd.DataFrame({'A':[20,30, 50], 'C':[35,30, 40]})
df2.drop([1], inplace = True)

display(df1)
display(df2)








pd.concat([df1, df2], axis = 0, join = 'inner')





pd.concat([df1, df2], axis = 0, join = 'outer')








pd.concat([df1, df2], axis = 1, join = 'inner')





pd.concat([df1, df2], axis = 1, join = 'outer')








sales = pd.concat([sales1, sales2, sales5, sales11], axis = 0)





s1 = sales1.groupby(['Date'], as_index = False)['Qty'].agg({'Store1_Qty':'sum'})
s2 = sales2.groupby(['Date'], as_index = False)['Qty'].agg({'Store2_Qty':'sum'})
s5 = sales5.groupby(['Date'], as_index = False)['Qty'].agg({'Store5_Qty':'sum'})
s11 = sales11.groupby(['Date'], as_index = False)['Qty'].agg({'Store11_Qty':'sum'})


pd.concat([s1, s2, s5, s11], axis = 1)








df1 = pd.DataFrame({'A':[1,2], 'B':[15,30], 'C':[20, 25]})
df2 = pd.DataFrame({'A':[2,3], 'D':[20, 35]})

display(df1)
display(df2)





pd.merge(df1, df2, how = 'inner', on = 'A')


pd.merge(df1, df2, how = 'inner')





pd.merge(df1, df2, how = 'left')





pd.merge(df1, df2, how = 'right')








s1 = sales1.groupby(['Date'], as_index = False)['Qty'].agg({'Store1_Qty':'sum'})
s2 = sales2.groupby(['Date'], as_index = False)['Qty'].agg({'Store2_Qty':'sum'})
s5 = sales5.groupby(['Date'], as_index = False)['Qty'].agg({'Store5_Qty':'sum'})
s11 = sales11.groupby(['Date'], as_index = False)['Qty'].agg({'Store11_Qty':'sum'})


s_agg = pd.merge(s1, s2)
s_agg = pd.merge(s_agg, s5)
s_agg = pd.merge(s_agg, s11)
s_agg





sales1.head()


products.head()


temp = pd.merge(sales1, products)
temp.groupby(['Date', 'Category'], as_index = False)['Qty'].sum()





stores.head()


temp = pd.merge(sales, stores)
temp.groupby('City', as_index = False)['Qty'].sum()





# 1) 매장1의 일별 카테고리별 판매량을 집계

temp = pd.merge(sales1, products)
temp2 = temp.groupby(['Date', 'Category'], as_index = False)['Qty'].sum()
temp2


# 2) pivot
temp3 = temp2.pivot( 'Category', 'Date' ,'Qty')
temp3


# sns.heatmap으로 시각화 할 수도 있습니다!

plt.figure(figsize = (20, 6))
sns.heatmap(temp3)
plt.show()





# 라이브러리 불러오기
import pandas as pd


sales = pd.read_csv("https://raw.githubusercontent.com/DA4BAM/dataset/master/ts_sales_simple.csv")
products = pd.read_csv("https://raw.githubusercontent.com/DA4BAM/dataset/master/ts_product_master.csv")
stores = pd.read_csv("https://raw.githubusercontent.com/DA4BAM/dataset/master/ts_store_master.csv")


sales.head(3)


products


stores.head(3)





temp = pd.merge(sales, products[['Product_ID', 'Price', 'Category']])

temp['Amt'] = temp['Qty'] * temp['Price']
temp.head()





temp2 = pd.merge(temp, stores)
temp2.groupby(['City'], as_index = False)['Amt'].sum()





temp2 = pd.merge(temp, stores)
temp2.groupby(['City','Category'], as_index = False)['Amt'].sum()





temp2 = pd.merge(temp, stores)
temp2.groupby('State', as_index = False)['Amt'].sum().sort_values('Amt', ascending = False).head(3)











sales['Date'] = pd.to_datetime(sales['Date'])
sales['week'] = sales['Date'].dt.week
sales2 = sales.loc[sales['week'] == 3]

temp = pd.merge(sales, stores)
temp2 = pd.merge(temp, products)
temp2['Amt'] = temp2['Qty'] * temp2['Price']
temp3 = temp2.groupby(['City', 'week'], as_index = False)['Amt'].sum()
temp4 = temp3.pivot('week','City','Amt')

plt.figure(figsize = (20,8))
sns.heatmap(temp4)
plt.show()


temp3



