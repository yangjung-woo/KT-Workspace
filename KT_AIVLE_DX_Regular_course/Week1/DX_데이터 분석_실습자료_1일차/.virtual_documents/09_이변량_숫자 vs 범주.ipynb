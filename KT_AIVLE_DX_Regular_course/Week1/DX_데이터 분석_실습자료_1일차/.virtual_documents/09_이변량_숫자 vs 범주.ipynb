








import pandas as pd
import numpy as np
# import random as rd

import matplotlib.pyplot as plt
import seaborn as sns
from statsmodels.graphics.mosaicplot import mosaic      #mosaic plot!

import scipy.stats as spst





# 타이타닉 데이터
titanic = pd.read_csv('https://raw.githubusercontent.com/DA4BAM/dataset/master/titanic.1.csv')
titanic.head()











sns.histplot(x='Age', data = titanic, hue = 'Survived')
plt.show()








sns.kdeplot(x='Age', data = titanic, hue ='Survived')
plt.show()





sns.kdeplot(x='Age', data = titanic, hue ='Survived',
            common_norm = False)
plt.grid()
plt.show()





sns.kdeplot(x='Age', data = titanic, hue ='Survived'
            , multiple = 'fill')
plt.axhline(titanic['Survived'].mean(), color = 'r')
plt.show()


sns.histplot(x='Age', data = titanic, bins = 16
             , hue ='Survived', multiple = 'fill')
plt.axhline(titanic['Survived'].mean(), color = 'r')   # 0~80을 16개구간으로 나눔 > 구간당 5 
plt.show()











# 밀도함수 
sns.kdeplot(x='Fare', data = titanic, hue ='Survived')
plt.show()


sns.kdeplot(x='Fare', data = titanic, hue ='Survived'
            , multiple = 'fill')
plt.axhline(titanic['Survived'].mean(), color = 'r')
plt.show()






# 한번에 3개 보자 
plt.figure(figsize = (12,3))
plt.subplot(1,3,1)
sns.kdeplot(x='Fare', data = titanic, hue ='Survived', common_norm = False)
plt.grid()

plt.subplot(1,3,2)
sns.kdeplot(x='Fare', data = titanic, hue ='Survived', multiple = 'fill')
plt.axhline(titanic['Survived'].mean(), color = 'r')

plt.subplot(1,3,3)
sns.histplot(x='Fare', data = titanic, bins = 30, hue ='Survived', multiple = 'fill')
plt.axhline(titanic['Survived'].mean(), color = 'r')

plt.tight_layout()
plt.show()


# 의문  400>=fare 이면 어떤 그림이 나올까  
titanic= titanic.loc[titanic['Fare']<= 400]


# 한번에 3개 보자 
plt.figure(figsize = (12,3))
plt.subplot(1,3,1)
sns.kdeplot(x='Fare', data = titanic, hue ='Survived', common_norm = False)
plt.grid()

plt.subplot(1,3,2)
sns.kdeplot(x='Fare', data = titanic, hue ='Survived', multiple = 'fill')
plt.axhline(titanic['Survived'].mean(), color = 'r')

plt.subplot(1,3,3)
sns.histplot(x='Fare', data = titanic, bins = 30, hue ='Survived', multiple = 'fill')
plt.axhline(titanic['Survived'].mean(), color = 'r')

plt.tight_layout()
plt.show()








path = 'https://raw.githubusercontent.com/DA4BAM/dataset/master/Air_Satisfaction.csv'
cols = ['Gender', 'Age', 'Type of Travel', 'Class', 'Flight Distance', 'Food and drink',
        'Departure Delay in Minutes', 'satisfaction']
data = pd.read_csv(path, usecols = cols)
data['satisfaction'] = np.where(data['satisfaction'] =='satisfied', 1 ,0)
data.head()


target = 'satisfaction'


def eda_2_nc(data, feature, target) :

    plt.figure(figsize = (6, 10))
    plt.subplot(3,1,1)
    sns.kdeplot(x = feature, data = data, hue = target, common_norm = False)
    plt.xlim(data[feature].min(), data[feature].max())
    plt.grid()

    plt.subplot(3,1,2)
    sns.kdeplot(x = feature, data = data, hue = target, multiple = 'fill')
    plt.axhline(data[target].mean(), color = 'r')
    plt.xlim(data[feature].min(), data[feature].max())
    plt.grid()

    plt.subplot(3,1,3)
    sns.histplot(x = feature, data = data, bins = 30, hue = target, multiple = 'fill')
    plt.axhline(data[target].mean(), color = 'r')
    plt.xlim(data[feature].min(), data[feature].max())
    plt.grid()

plt.show()
























