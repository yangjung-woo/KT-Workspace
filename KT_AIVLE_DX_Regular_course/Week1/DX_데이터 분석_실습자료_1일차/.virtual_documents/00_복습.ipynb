








import numpy as np
import pandas as pd
import matplotlib.pyplot as plt











path = 'https://raw.githubusercontent.com/DA4BAM/dataset/master/titanic_simple.csv'
titanic = pd.read_csv(path)
titanic.head()








path = 'https://raw.githubusercontent.com/DA4BAM/dataset/master/air2.csv'
air = pd.read_csv(path)
air.head()








titanic.head()





titanic.shape





titanic.columns





col_list = titanic.columns
col_list





titanic.info()





titanic.isna().sum() # Age에 177개 , Embarked 3개 존재 








titanic.loc[(titanic['Pclass']==1) &(titanic['Age']<=10)   ,:]





titanic['Pclass'].value_counts()





male = titanic.loc[titanic['Sex']=='male','Age']
male


female = titanic.loc[titanic['Sex']=='female']['Age']
female





titanic.loc[titanic['Age'].notna()]






air.loc[ (air['Ozone'] <=20)  & (10<=air['Ozone']) ]
#air.loc[ (air['Ozone'].between(10,20)]








air.loc[air['Date'].isin(['1973-05-01', '1973-06-01', '1973-07-01' , '1973-08-01'])]











titanic['Embarked']= titanic['Embarked'].map({'Southampton':'S',
                                             'Cherbourg' : 'C',
                                             'Queenstown': 'Q'})

titanic





titanic['Fare'] = pd.cut(titanic['Fare'], bins =[-np.inf,30,100,np.inf], labels = ['L','M','H'])
titanic








# np.where (조건문 , 조건이 참일때 결과 , 조건이 거짓일 때 결과 )

titanic['Sex'] = np.where( titanic['Sex'] =='female',0,1)
titanic









plt.bar(x = air['Date'], height =air['Ozone'])
plt.figure( figsize = (8,5) )
plt.show()






plt.bar(x = air['Date'], height = air['Ozone'] ,width =1)
plt.bar(x = air['Date'], height = air['Temp'], width =1 )
plt.legend('Ozone','Temp')
plt.figure( figsize = (8,5) )
plt.show()






plt.subplot(1,2,1)
plt.bar(x = air['Date'], height = air['Ozone'] ,width =1)
plt.subplot(1,2,2)
plt.bar(x = air['Date'], height = air['Temp'], width =1 )
plt.legend('Ozone','Temp')
plt.figure( figsize = (8,5) )
plt.show()



