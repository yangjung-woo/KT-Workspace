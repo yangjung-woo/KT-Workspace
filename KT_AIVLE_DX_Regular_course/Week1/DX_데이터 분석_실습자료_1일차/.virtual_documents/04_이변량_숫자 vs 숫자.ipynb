











import pandas as pd
import numpy as np
import matplotlib.pyplot as plt
import seaborn as sns





# 타이타닉 데이터
titanic = pd.read_csv('https://raw.githubusercontent.com/DA4BAM/dataset/master/titanic.0.csv')
titanic.head()


# 뉴욕시 공기 오염도 데이터
air = pd.read_csv('https://raw.githubusercontent.com/DA4BAM/dataset/master/air2.csv')
air['Date'] = pd.to_datetime(air['Date'])
# air['Month'] = air.Date.dt.month
# air['Weekday'] = air.Date.dt.weekday
air.head()




















sns.scatterplot(x='Temp', y='Ozone', data = air)
plt.show()





# 기온이 높을수록 오존 농도도 같이 증가하는 선형 관








plt.figure(figsize = (10,3))
plt.subplot(1,3,1)
sns.scatterplot(x='Temp', y='Ozone', data = air)
plt.subplot(1,3,2)
sns.scatterplot(x='Wind', y='Ozone', data = air)
plt.subplot(1,3,3)
sns.scatterplot(x='Solar.R', y='Ozone', data = air)
plt.tight_layout()
plt.show()





# Temp , WInd 둘다 강한 양/음의 상관관계가 있음 











sns.pairplot(air, kind='reg' )
plt.show()











sns.jointplot(x='Temp', y='Ozone', data = air)
plt.show()





sns.jointplot(x='Wind', y='Ozone', data = air)
plt.show()





sns.jointplot(x='Solar.R', y='Ozone', data = air)
plt.show()


sns.regplot(x='Solar.R', y='Ozone', data = air)
plt.show()











import scipy.stats as spst


# 상관계수와 p-value
spst.pearsonr(air['Temp'], air['Ozone'])








# 데이터프레임으로 부터 수치형 데이터에 대한 상관계수 구하기
air.corr()








plt.figure(figsize = (8, 8))
sns.heatmap(air.corr(),
            annot = True,            # 숫자(상관계수) 표기 여부
            fmt = '.3f',             # 숫자 포멧 : 소수점 3자리까지 표기
            cmap = 'RdYlBu_r',       # 칼라맵
            vmin = -1, vmax = 1)     # 값의 최소, 최대값
plt.show()














spst.pearsonr(air['Temp'], air['Ozone'])





spst.pearsonr(air['Wind'], air['Ozone'])





# 결측치 제거
temp = air.loc[air['Solar.R'].notnull()]

spst.pearsonr(temp['Solar.R'], temp['Ozone'])


# Temp , Wind , Solar.R 와 오존 농도간 상관관계는 존재하고 p-value를 보면 유의미한 상관계수로 본다 
# Temp와 Ozone 은 강한 양의 상관관계 , Wind와 Ozone은 강한 음의 상관관계를 가진다











import pandas as pd
import numpy as np
import matplotlib.pyplot as plt
import seaborn as sns

import scipy.stats as spst


# 보스톤 집값 데이터
boston = pd.read_csv('https://raw.githubusercontent.com/DA4BAM/dataset/master/boston.csv')
boston.head()


def eda_2_nn(data, feature, target) :
    # 산점도
    temp = data.loc[data[feature].notnull()]
    sns.scatterplot( x= feature, y = target, data = temp)
    plt.grid()
    plt.show()
    result = spst.pearsonr(temp[feature], temp[target])
    print(f'상관계수 : {result[0]}, P-value : {result[1]}')





eda_2_nn(boston,'crim','medv') # 음의 상관계수가 있음











eda_2_nn(boston,'tax','medv') # 음의 상관계수가 있음


temp = boston.loc[boston['tax']<500] # tax 500을 기준으로 두 그릅으로 나뉘어진다 우리는 tax<500 의 구간을 분석할 필요발

eda_2_nn(temp,'tax','medv')








eda_2_nn(boston,'lstat','medv') # 음의 상관계수가 있음











eda_2_nn(boston,'ptratio','medv') # 음의 상관계수가 있음


temp1 = boston.loc[boston['ptratio']<14] #구간 나눠서 분석    / 14 ~  20  

eda_2_nn(temp1,'ptratio','medv')

temp2 = boston.loc[( boston['ptratio']<20) & (boston['ptratio']>14) ] #구간 나눠서 분석    / 14 ~  20  

eda_2_nn(temp2,'ptratio','medv')

temp3 = boston.loc[boston['ptratio']>20] #구간 나눠서 분석    / 14 ~  20  

eda_2_nn(temp3,'ptratio','medv')








corr_matric  = boston.corr()
corr_matric


plt.figure(figsize = (8, 8))
sns.heatmap(corr_matric,
            annot = True,            # 숫자(상관계수) 표기 여부
            fmt = '.3f',             # 숫자 포멧 : 소수점 3자리까지 표기
            cmap = 'RdYlBu_r',       # 칼라맵
            vmin = -1, vmax = 1)     # 값의 최소, 최대값
plt.tight_layout()
plt.show()



