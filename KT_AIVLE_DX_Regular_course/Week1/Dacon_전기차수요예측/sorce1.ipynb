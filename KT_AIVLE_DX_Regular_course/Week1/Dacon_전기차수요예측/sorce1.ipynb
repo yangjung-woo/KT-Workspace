{
 "cells": [
  {
   "cell_type": "markdown",
   "metadata": {},
   "source": [
    "# 1. 데이터 불러오기"
   ]
  },
  {
   "cell_type": "code",
   "execution_count": 1,
   "metadata": {},
   "outputs": [],
   "source": [
    "import pandas as pd\n",
    "import numpy as np\n",
    "import matplotlib.pyplot as plt\n",
    "import seaborn as sns\n",
    "\n",
    "from sklearn.preprocessing import LabelEncoder\n",
    "\n",
    "plt.rcParams['font.family'] = 'AppleGothic' \n",
    "plt.rcParams['axes.unicode_minus'] = False  \n",
    "\n",
    "import warnings\n",
    "warnings.filterwarnings('ignore')"
   ]
  },
  {
   "cell_type": "code",
   "execution_count": null,
   "metadata": {},
   "outputs": [],
   "source": [
    "# train, test 데이터를 불러옵니다.\n",
    "train = pd.read_csv('./train.csv')\n",
    "test = pd.read_csv('./test.csv')"
   ]
  },
  {
   "cell_type": "code",
   "execution_count": null,
   "metadata": {},
   "outputs": [],
   "source": [
    "def plot_histogram(data, columns_to_plot, cols=2, figsize=(10, 5)):\n",
    "    # 해당 열이 데이터 내 존재하는 지 확인합니다.\n",
    "    valid_columns = [col for col in columns_to_plot if col in data.columns]\n",
    "    if not valid_columns:\n",
    "        raise ValueError(\"해당 열이 존재하지 않습니다.\")\n",
    "    \n",
    "    # 서브플롯을 생성하기 위해 행과 열의 수를 확인합니다.\n",
    "    num_vars = len(valid_columns)\n",
    "    rows = math.ceil(num_vars / cols)\n",
    "    \n",
    "    # 서브플롯을 생성합니다.\n",
    "    fig, axes = plt.subplots(rows, cols, figsize=figsize)\n",
    "    axes = axes.flatten()  \n",
    "    \n",
    "    for i, col in enumerate(valid_columns):\n",
    "        sns.histplot(x=data[col], ax=axes[i])\n",
    "        axes[i].set_title(col)\n",
    "    \n",
    "    # 빈 서브플롯을 삭제합니다.\n",
    "    for j in range(i + 1, len(axes)):\n",
    "        fig.delaxes(axes[j])\n",
    "    \n",
    "    plt.tight_layout()\n",
    "    plt.show()"
   ]
  },
  {
   "cell_type": "code",
   "execution_count": null,
   "metadata": {},
   "outputs": [],
   "source": [
    "# 그래프를 생성할 열을 담은 리스트 입니다.\n",
    "columns_to_plot = ['배터리용량']\n",
    "\n",
    "# 선언한 함수를 사용하여 그래프를 생성합니다.\n",
    "plot_histogram(data=train, columns_to_plot=columns_to_plot, cols=2, figsize=(10, 5))"
   ]
  },
  {
   "cell_type": "code",
   "execution_count": null,
   "metadata": {},
   "outputs": [],
   "source": [
    "def plot_categorical(data, columns_to_plot, cols=3, figsize=(10, 5)): \n",
    "    # 해당열이 데이터 내 존재하는지 확인합니다.\n",
    "    valid_columns = [col for col in columns_to_plot if col in data.columns]\n",
    "    if not valid_columns:\n",
    "        raise ValueError(\"해당 열이 존재하지 않습니다.\")\n",
    "    \n",
    "    # 서브플롯을 생성하기 위해 행과 열의 수를 확인합니다.\n",
    "    num_vars = len(valid_columns)\n",
    "    rows = math.ceil(num_vars / cols)\n",
    "    \n",
    "    fig, axes = plt.subplots(rows, cols, figsize=figsize)\n",
    "    axes = axes.flatten()  \n",
    "    \n",
    "    for i, col in enumerate(valid_columns):\n",
    "        sns.countplot(x=data[col], ax=axes[i], palette=\"viridis\", order=data[col].value_counts().index)\n",
    "        axes[i].set_title(f'Distribution of {col}')\n",
    "        axes[i].tick_params(axis='x', rotation=45)\n",
    "    \n",
    "    # 빈 서비플롯을 삭제합니다.\n",
    "    for j in range(i + 1, len(axes)):\n",
    "        fig.delaxes(axes[j])\n",
    "    \n",
    "    plt.tight_layout()\n",
    "    plt.show()"
   ]
  },
  {
   "cell_type": "code",
   "execution_count": null,
   "metadata": {},
   "outputs": [],
   "source": [
    "# 그래프를 생성할 열을 담은 리스트 입니다.\n",
    "columns_to_plot = ['차량상태']\n",
    "\n",
    "# 선언한 함수를 사용하여 그래프를 생성합니다.\n",
    "plot_categorical(data=train, columns_to_plot=columns_to_plot)"
   ]
  },
  {
   "cell_type": "code",
   "execution_count": null,
   "metadata": {},
   "outputs": [],
   "source": [
    "# 제조사의 모델별 가격의 평균으로 그룹화 합니다.\n",
    "grouped_data = train.groupby(['제조사', '모델'])['가격(백만원)'].mean().reset_index()\n",
    "\n",
    "# 더 나은 그래프를 그리기 위해 제조사별로 정렬합니다.\n",
    "grouped_data = grouped_data.sort_values(by=['제조사', '가격(백만원)'], ascending=[True, False])\n",
    "\n",
    "# 그래프 전체의 크기를 나타냅니다.\n",
    "plt.figure(figsize=(15, 8))\n",
    "\n",
    "# 유니크한 제조사 명을 정의합니다.\n",
    "brands = grouped_data['제조사'].unique()\n",
    "colors = plt.cm.tab20.colors[:len(brands)]\n",
    "\n",
    "# 제조사별로 모델의 가격을 바 그래프 형태로 나타냅니다.\n",
    "for i, brand in enumerate(brands):\n",
    "    brand_data = grouped_data[grouped_data['제조사'] == brand]\n",
    "    plt.bar(\n",
    "        brand_data['모델'],\n",
    "        brand_data['가격(백만원)'],\n",
    "        label=brand,\n",
    "        color=colors[i % len(colors)]\n",
    "    )\n",
    "\n",
    "# 그래프의 형태를 정의합니다.\n",
    "plt.title('제조사 별 모델 가격 분포', fontsize=16)\n",
    "plt.xlabel('모델', fontsize=12)\n",
    "plt.ylabel('가격(백만원)', fontsize=12)\n",
    "plt.xticks(rotation=90, fontsize=8)\n",
    "plt.legend(title='제조사', fontsize=10, loc='upper right')\n",
    "plt.tight_layout()\n",
    "plt.show()"
   ]
  },
  {
   "cell_type": "markdown",
   "metadata": {},
   "source": [
    "# 2. 데이터 전처리"
   ]
  },
  {
   "cell_type": "code",
   "execution_count": null,
   "metadata": {},
   "outputs": [],
   "source": [
    "# 데이터 내 결측치를 확인합니다.\n",
    "train.isna().sum()"
   ]
  },
  {
   "cell_type": "code",
   "execution_count": null,
   "metadata": {},
   "outputs": [],
   "source": [
    "# 데이터 내 결측치를 train데이터의 평균값을 사용하여 대체합니다.\n",
    "train['배터리용량'].fillna(train['배터리용량'].mean(),inplace=True)\n",
    "test['배터리용량'].fillna(train['배터리용량'].mean(),inplace=True)"
   ]
  },
  {
   "cell_type": "code",
   "execution_count": null,
   "metadata": {},
   "outputs": [],
   "source": [
    "# 학습과 예측을 위해 데이터를 분리합니다.\n",
    "x_train = train.drop(['ID', '가격(백만원)'], axis = 1)\n",
    "y_train = train['가격(백만원)']\n",
    "\n",
    "x_test = test.drop('ID', axis = 1)"
   ]
  },
  {
   "cell_type": "code",
   "execution_count": null,
   "metadata": {},
   "outputs": [],
   "source": [
    "# 범주형 변수에 대해 레이블 인코딩을 적용합니다.\n",
    "categorical_features = [col for col in x_train.columns if x_train[col].dtype == 'object']\n",
    "\n",
    "for i in categorical_features:\n",
    "    le = LabelEncoder()\n",
    "    le=le.fit(x_train[i]) \n",
    "    x_train[i]=le.transform(x_train[i])\n",
    "    \n",
    "    for case in np.unique(x_test[i]):\n",
    "        if case not in le.classes_: \n",
    "            le.classes_ = np.append(le.classes_, case) \n",
    "    x_test[i]=le.transform(x_test[i])\n",
    "    \n",
    "display(x_train.head(3))"
   ]
  },
  {
   "cell_type": "markdown",
   "metadata": {},
   "source": [
    "# 모델 학습 및 예측"
   ]
  },
  {
   "cell_type": "code",
   "execution_count": null,
   "metadata": {},
   "outputs": [],
   "source": [
    "# 모델을 선언하고, 학습을 진행합니다.\n",
    "model = DecisionTreeRegressor()\n",
    "model.fit(x_train, y_train)\n",
    "# 예측을 수행합니다.\n",
    "pred = model.predict(x_test)"
   ]
  },
  {
   "cell_type": "markdown",
   "metadata": {},
   "source": [
    "# 3. 제출하기 "
   ]
  },
  {
   "cell_type": "code",
   "execution_count": null,
   "metadata": {},
   "outputs": [],
   "source": [
    "# sample_submission 파일을 불러옵니다.\n",
    "submit = pd.read_csv('./sample_submission.csv')"
   ]
  },
  {
   "cell_type": "code",
   "execution_count": null,
   "metadata": {},
   "outputs": [],
   "source": [
    "# 예측한 결과를 submit에 저장합니다.\n",
    "submit['가격(백만원)'] = pred\n",
    "submit.head()"
   ]
  },
  {
   "cell_type": "code",
   "execution_count": null,
   "metadata": {},
   "outputs": [],
   "source": [
    "# 제출을 위해 baseline_submission.csv란 이름으로 CSV 파일을 저장합니다.\n",
    "submit.to_csv('./baseline_submission.csv',index=False)"
   ]
  }
 ],
 "metadata": {
  "kernelspec": {
   "display_name": "base",
   "language": "python",
   "name": "python3"
  },
  "language_info": {
   "codemirror_mode": {
    "name": "ipython",
    "version": 3
   },
   "file_extension": ".py",
   "mimetype": "text/x-python",
   "name": "python",
   "nbconvert_exporter": "python",
   "pygments_lexer": "ipython3",
   "version": "3.12.4"
  }
 },
 "nbformat": 4,
 "nbformat_minor": 2
}
