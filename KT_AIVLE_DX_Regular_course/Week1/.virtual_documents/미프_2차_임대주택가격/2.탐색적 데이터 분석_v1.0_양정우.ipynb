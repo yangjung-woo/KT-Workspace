

















pip install --upgrade pandas


import pandas as pd
import numpy as np
import matplotlib.pyplot as plt
import seaborn as sns
import scipy.stats as spst
from statsmodels.graphics.mosaicplot import mosaic      #mosaic plot!
import joblib


def categorical_numerical(df, feature, target) : # 범주형 , 숫자형 변수간 검정  (t-test, Anova) / 막대그래프 시각화 / 
    
    '''
    df = 데이터프레임
    feature = 구분 데이터프레임의 컬럼명
    target  = 목표 데이터프레임의 컬럼명
    '''
    
    sns.barplot(x = feature, y = target, data = df)
    plt.rcParams['font.family'] = 'Malgun Gothic'
    
    plt.grid()
    plt.tight_layout()
    plt.xticks(rotation=45)  # 45도 회전
    plt.show()

    '''
    an_list = []
    for i in range(df[feature].nunique()) :
        an_list.append(df.loc[df[feature] == i, target])# i가 0, 1, 2,...로 증가하는데, 이 인덱스가 feature의 실제 고유값과 일치하지 않을 수 있음
    '''
    #feature 컬럼의 실제 고유값을 사용하여 그룹을 생성
    unique_vals = df[feature].unique()
    an_list = [df.loc[df[feature] == val, target].dropna() for val in unique_vals]  # 결측치 처리 추가

    if len(an_list) == 2:
    # t-test
        t_stat, p_value = spst.ttest_ind(an_list[0], an_list[1])
        print(f"T-test 결과: t-statistic = {t_stat}, p-value = {p_value}")

    elif len(an_list) > 2:
    # ANOVA
        f_stat, p_value = spst.f_oneway(*an_list)
        print(f"ANOVA 결과: F-statistic = {f_stat}, p-value = {p_value}")

    else:
        print("비교할 그룹이 부족합니다.")
        
def categorical_categorical(df , feature , target): # 범주형 --> 범주형 간 검정 (카이제곱검정) / 모자이크플롯
    '''
    df = 데이터프레임
    feature = 구분 데이터프레임의 컬럼명
    target  = 목표 데이터프레임의 컬럼명
    '''
    mosaic(df, [ feature,target])
    #plt.axhline(1- df[target].mean(), color = 'r')
    plt.rcParams['font.family'] = 'Malgun Gothic'
    plt.grid()
    plt.tight_layout()
    plt.xticks(rotation=45)  # 45도 회전
    plt.show()
    
    # 먼저 집계
    table = pd.crosstab(df[target], df[feature])
    print('교차표\n', table)
    print('=' * 100)

    # 카이제곱검정
    result = spst.chi2_contingency(table)
    print('카이제곱통계량', result[0])
    print('p-value', result[1])
    print('자유도', result[2])
    # print('기대빈도\n',result[3])
    
    
    
def numerical_numerical(df, feature , target): # 숫자형 , 숫자형 
    # 산점도 + 회귀분석 선 표기
    
    '''
    df = 데이터프레임
    feature = 구분 데이터프레임의 컬럼명
    target  = 목표 데이터프레임의 컬럼명
    '''
    sns.regplot(x=feature, y = target, data = df)
    plt.rcParams['font.family'] = 'Malgun Gothic'
    plt.grid()
    plt.tight_layout()
    plt.xticks(rotation=45)  # 45도 회전
    plt.show()
    print('='*100)
    result = spst.pearsonr(df[feature], df[target])
    print(f'상관계수 : {result[0]}, p-value : {result[1]}')


def numerical_numerical_hitmap(df):
    '''
    df = 데이터프레임
    '''
    # 숫자형으로 구성된 데이터들 한해서만 상관분석 수행 
    temp = df.select_dtypes(include=['number'])
    plt.figure(figsize = (8, 8))
    # 한글 폰트 설정: 맑은 고딕
    plt.rcParams['font.family'] = 'Malgun Gothic'
    # 유니코드 마이너스 사용 설정
    plt.rcParams['axes.unicode_minus'] = False
    sns.heatmap(temp.corr(),
            annot = True,            # 숫자(상관계수) 표기 여부
            fmt = '.2f',             # 숫자 포멧 : 소수점 3자리까지 표기
            cmap = 'RdYlBu_r',       # 칼라맵
            vmin = -1, vmax = 1)     # 값의 최소, 최대값
    plt.show()





import matplotlib.font_manager as fm

# 설치된 폰트
font_list = [font.name for font in fm.fontManager.ttflist]

# 맑은고딕이 있는지 확인
'Malgun Gothic' in font_list


plt.rcParams['font.family'] = 'Malgun Gothic'








path = ''








base_data = joblib.load(path+'base_data.pkl')
complex_data_total = joblib.load(path+'complex_data_total.pkl')


base_data.head()


base_data.columns














base_data.describe().T


base_data.isna().sum()








# 대상 총세대수, 실차량수, 임대로, 임대보증금, 총면적
plt.figure(figsize= (9,4))
plt.subplot(1,2,1)
plt.hist(base_data.총세대수, bins = 10, edgecolor = 'gray') 
plt.xlabel('총세대수 분포')
plt.subplot(1,2,2)
plt.boxplot(base_data.총세대수) 
plt.tight_layout()
plt.show()


plt.figure(figsize= (9,4))
plt.subplot(1,2,1)
plt.hist(base_data.실차량수, bins = 10, edgecolor = 'gray') 
plt.xlabel('실차량수 분포')
plt.subplot(1,2,2)
plt.boxplot(base_data.실차량수) 
plt.tight_layout()
plt.show()


plt.figure(figsize= (9,4))
plt.subplot(1,2,1)
plt.hist(base_data.임대료, bins = 10, edgecolor = 'gray') 
plt.xlabel('임대료 분포')
plt.subplot(1,2,2)
plt.boxplot(base_data.임대료) 
plt.tight_layout()
plt.show()


plt.figure(figsize= (9,4))
plt.subplot(1,2,1)
plt.hist(base_data.임대보증금, bins = 10, edgecolor = 'gray') 
plt.xlabel('임대보증금 분포')
plt.subplot(1,2,2)
plt.boxplot(base_data.임대보증금) 
plt.tight_layout()
plt.show()


plt.figure(figsize= (9,4))
plt.subplot(1,2,1)
plt.hist(base_data.총면적, bins = 10, edgecolor = 'gray') 
plt.xlabel('총면적 분포')
plt.subplot(1,2,2)
plt.boxplot(base_data.총면적) 
plt.tight_layout()
plt.show()


# pd.melt  데이터프레임의 열 요소를 행으로 추갛 
# # 대상 총세대수, 실차량수, 임대로, 임대보증금, 총면적 목표 변수들 

data_melted = pd.melt(base_data, id_vars=['건물형태','난방방식','승강기설치여부'], value_vars=['총세대수'])

# 데이터 확인
print(data_melted)

# sns.barplot을 이용한 시각화
plt.figure(figsize=(10, 6))
sns.barplot(data=data_melted, x='건물형태', y='value')
plt.title('건물 형태별 총 세대수 구분 (건물 형태별)')
plt.xlabel('건물형태')
plt.ylabel('총 세대수 ')
plt.show()


data_melted = pd.melt(base_data, id_vars=['건물형태','난방방식','승강기설치여부'], value_vars=['임대료'])

# sns.barplot을 이용한 시각화
plt.figure(figsize=(10, 6))
sns.barplot(data=data_melted, x='건물형태', y='value')
plt.title('건물 형태별 임대료 구분 (건물 형태별)')
plt.xlabel('건물형태')
plt.ylabel('임대료')
plt.show()


data_melted = pd.melt(base_data, id_vars=['건물형태','난방방식','승강기설치여부'], value_vars=['임대료'])

# sns.barplot을 이용한 시각화
plt.figure(figsize=(10, 6))
sns.barplot(data=data_melted, x='난방방식', y='value')
plt.title('난방방식 별 임대료 구분 (건물 형태별)')
plt.xlabel('건물형태')
plt.ylabel('임대료')
plt.show()











numerical_numerical_hitmap(base_data)


base_data.info()


# 숫자형 변수
# -  총세대수, 준공연도, 실차량수, 총면적 , 전용면적~10~.., 임대보증금, 임대료

# 범주형 변수 
# 지역 , 건물형태, 난방방식, 승강기설치여부 











target = '실차량수'


numerical_numerical(base_data ,'총세대수',target)


numerical_numerical(base_data ,'준공연도',target)


numerical_numerical(base_data ,'총면적',target)


numerical_numerical(base_data ,'임대보증금',target)


numerical_numerical(base_data ,'임대료',target)








# 범주형 변수 
# 지역 , 건물형태, 난방방식, 승강기설치여부 
f_data = base_data.copy()
print(f_data.isna().sum())
#사전 전처리 필요 



# 지역 --> 실차량수 
categorical_numerical(f_data , '지역',target)


f_data01 = f_data.dropna()
categorical_numerical(f_data01 , '건물형태',target)


f_data02 = f_data.dropna()
categorical_numerical(f_data02 , '난방방식',target)


f_data03 = f_data.dropna()
categorical_numerical(f_data03 , '승강기설치여부',target)


f_data.columns


f_data04 = f_data.dropna()
categorical_numerical(f_data04 , '지역','실차량수')
categorical_numerical(f_data04 , '지역','임대료')
categorical_numerical(f_data04 , '지역','임대보증금')
categorical_numerical(f_data04 , '지역','총면적')































