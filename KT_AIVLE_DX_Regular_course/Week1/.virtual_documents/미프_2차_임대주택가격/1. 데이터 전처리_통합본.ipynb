

















import pandas as pd
import numpy as np
import matplotlib.pyplot as plt
import seaborn as sns

import scipy.stats as spst

import joblib





import matplotlib.font_manager as fm

# 설치된 폰트
font_list = [font.name for font in fm.fontManager.ttflist]

# 맑은고딕이 있는지 확인
'Malgun Gothic' in font_list


plt.rcParams['font.family'] = 'Malgun Gothic'


# 유용한 함수들 모음 
def eda_1_n(data, var, bins = 30) :
    # 기초 통계량
    display(data[[var]].describe().T)

    # 시각화
    plt.figure(figsize = (12,8))
    plt.subplot(2,1,1)
    sns.histplot(data[var], bins = bins, kde = True)
    plt.grid()

    plt.subplot(2,1,2)
    sns.boxplot(x = data[var])
    plt.grid()
    plt.show()

# 범주형 변수에 대한 단변량 분석 함수
def eda_1_c(data, var) :
    # 기초 통계량
    print(f' <<<  {var}   >>')
    cnt = data[var].value_counts()
    prop = data[var].value_counts()/data.shape[0]
    temp = pd.DataFrame({'Class':cnt.index, 'Count':cnt.values, 'Prop':prop.values})
    display(temp)
    # 시각화
    sns.countplot(x = var, data = data)
    plt.grid()
    plt.show()

def eda_2_nn(data, feature, target) :
    # 상관분석
    result = spst.pearsonr(temp[feature], temp[target])
    print(f'상관계수 : {result[0]}, P-value : {result[1]}')

    # 산점도
    temp = data.loc[data[feature].notnull()]
    sns.scatterplot( x= feature, y = target, data = temp)
    plt.grid()
    plt.show()

def eda_2_cn(data, feature, target) :

    # 가설검정
    # 범주의 수 확인
    cat = data[feature].unique()
    n = len(cat)

    # 범주가 2개
    if n == 2 :
        g0 = data.loc[data[feature] == cat[0], target]
        g1 = data.loc[data[feature] == cat[1], target]
        result = spst.ttest_ind(g0, g1)
    else :
        result = spst.f_oneway(*[data.loc[data[feature] == c, target] for c in cat])

    print(result)

    # 시각화 : 평균비교 막대그래프
    sns.barplot(x = feature, y = target, data = data)
    plt.grid()
    plt.show()

# 상호 상관계수 구하고 시각화 하기
def eda_2_corr(data, drop_vars, viz = 0):
    # 입력
    #     * 데이터프레임(data)
    #     * 불필요한 변수(drop_vars) : 리스트
    # 출력 :
    #     * viz = 0 : 히트맵만 출력
    #     * viz = 1 : 상관계수만 출력
    #     * 그외 : 상관계수 + 히트맵

    temp = data.drop(drop_vars,axis = 1).corr()
    mask = np.zeros_like(temp)
    mask[np.triu_indices_from(mask)] = True
    mask = np.where(mask == 1, 0, 1)
    result = mask * temp
    result = result[result != 0]

    if viz == 0 :
        plt.figure(figsize = (15,12))
        sns.heatmap(result, annot = True)
        plt.show()
    elif viz == 1 :
        display(result)
    else :
        display(result)
        plt.figure(figsize = (8,8))
        sns.heatmap(result, annot = True)
        plt.show()








path = ''








file = 'data.xlsx'


data = pd.read_excel(path + file)











#전체 데이터의 행,열 개수 확인
data.shape


#전체 데이터의 상위 5개 행 확인
data.head()


#전체 데이터의 모든 변수 확인
data.info()


# NaN 조사
data.isna().sum()





#전체 데이터의 수치형 변수 분포 확인
data.describe()


# 단지 수 
# 최종 결과물의 행 수
data['단지코드'].nunique()


# 범주별 종류 파악하기
print('지역:', data['지역'].unique())
print('-' * 80)
print('승강기설치여부:', data['승강기설치여부'].unique())
print('-' * 80)
print('난방방식:', data['난방방식'].unique())
print('-' * 80)
print('건물형태:', data['건물형태'].unique())





# 분석단위는 어떻게 결정하는게 적절할까요?
# 단지별! 








# 전처리 전에 데이터셋 복사
data_copy = data.copy()





data_copy[data_copy['준공일자'].isna()].head()


# 준공일자에서 준공 연도 추출하기


# 준공일자를 문자열로 변환(.astype('str')하고, 앞에서 4자리를 잘라서(.str.slice()) 저장
data_copy['준공연도'] = data_copy['준공일자'].astype('str').str.slice(0, 4)

# 'nan'(결측치)과 다른 이상치 처리
data_copy.loc[data_copy['준공연도'].isin(['nan', '1900','1111']), '준공연도'] = np.nan

# 준공 연도를 다시 int로 변환(.astype('int'))
data_copy['준공연도'] = data_copy['준공연도'].astype('float')  # NaN을 포함할 수 있으므로 float로 변환
data_copy['준공연도'] = data_copy['준공연도'].astype('Int64')  # Nullable integer 타입으로 변환

# 준공일자 컬럼의 NaN에 대한 조치 : 각 지역의 중앙값으로 채우기
# 경기, 서울, 대구경북 지역에 집중 => 각 지역에 해당하는 준공연도의 중앙값으로 채우기
# 각 지역의 중앙값을 저장할 딕셔너리 생성
median_year = {}

# 각 지역별로 중앙값 계산해서 딕셔너리에 저장
for region in data_copy['지역'].unique():
    median_year[region] = data_copy.loc[data_copy['지역'] ==  region, '준공연도'].median()
    
# NaN 값을 해당 지역의 중앙값으로 채우기
for region, median in median_year.items():
    data_copy.loc[(data_copy['지역'] == region) & (data_copy['준공연도'].isna()), '준공연도'] = median

# 결측치 여부 확인
data_copy['준공연도'].isna().sum()


data_copy['준공연도'].unique()


data_copy.head()











data_copy.head()


drop_cols = ['단지명', '단지내주차면수', '준공일자']
data_copy.drop(drop_cols, axis=1, inplace=True)
data_copy.head()














# 단지별 데이터
complex_data = data_copy[['단지코드', '총세대수', '지역', '준공연도', '건물형태', '난방방식', '승강기설치여부', '실차량수']].copy()

# 확인
complex_data.head()


# 데이터프레임에서 중복행을 제거하기 : df.drop_duplicates()
complex_data.drop_duplicates(ignore_index=True, inplace=True)


# 확인 : 단지 코드가 유니크해야 함.
len(complex_data['단지코드']) == len(complex_data['단지코드'].unique())





# 상세 데이터
detail_data = data_copy[['단지코드', '전용면적별세대수', '전용면적', '공급면적(공용)', '임대보증금', '임대료']].copy()

# 확인
detail_data.head()














# 전용면적 구간 확인하기
def eda_1_n(data, var, bins = 30, comment=False) :
    # 기초 통계량
    print('\n', '*'*48, '<기초통계량>', '*'*48)
    display(data[[var]].describe().T)

    # 시각화
    print('\n','*'*50, '<시각화>', '*'*50)
    plt.figure(figsize = (8,6))
    plt.subplot(2,1,1)
    sns.histplot(data[var], bins = bins, kde = True)
    plt.grid()

    plt.subplot(2,1,2)
    sns.boxplot(x = data[var])
    plt.grid()
    plt.show()

    # 분석 내용 코멘트 달기
    if comment: 
        print('\n', '*'*53, '<코멘트>', '*'*53)
        input()


eda_1_n(detail_data, '전용면적', bins=50)


# 전용면적 나누기
label = ['전용면적_0_30', '전용면적_31_40', '전용면적_41_50', '전용면적_51_60', '전용면적_61_80', '전용면적_81_100', '전용면적_101_120', '전용면적_120+']
bin = [-np.inf, 30, 40, 50, 60, 80, 100, 120, np.inf]

# 전용면적 칼럼 생성
detail_data['전용면적cut'] = pd.cut(detail_data['전용면적'], bins=bin, labels=label)
detail_data['전용면적cut'].value_counts()


detail_data.head()





complex_data_group = detail_data.groupby(by=['단지코드', '전용면적cut'], observed=False, as_index=False)[['전용면적별세대수']].sum()


complex_data_group.head()





detail_data_pv = complex_data_group.pivot(index='단지코드', columns='전용면적cut', values='전용면적별세대수')

# 인덱스를 열로 가져오기 
detail_data_pv.reset_index(drop=False, inplace=True)
detail_data_pv





detail_data[['임대보증금', '임대료']].describe().T


plt.figure(figsize=(6, 4))
plt.subplot(1, 2, 1)
sns.boxplot(detail_data['임대보증금'])
plt.subplot(1, 2, 2)
sns.boxplot(detail_data['임대료'])
plt.tight_layout()
plt.show()


# 임대보증금과 전용면적별 세대수를 곱한 새로운 열 추가 
detail_data['전용면적별_임대보증금'] = detail_data['임대보증금'] * detail_data['전용면적별세대수']

# 단지별 임대보증금 합계
deposit_sum = detail_data.groupby(['단지코드'], as_index=False)[['전용면적별_임대보증금', '전용면적별세대수']].sum()
deposit_sum['임대보증금 평균'] = deposit_sum['전용면적별_임대보증금'] / deposit_sum['전용면적별세대수']
deposit = deposit_sum[['단지코드', '임대보증금 평균']]
deposit.head()


# 임대료와 전용면적별 세대수를 곱한 새로운 열 추가 
detail_data['전용면적별_임대료'] = detail_data['임대료'] * detail_data['전용면적별세대수']

# 단지별 임대보증금 합계
rent_sum = detail_data.groupby(['단지코드'], as_index=False)[['전용면적별_임대료', '전용면적별세대수']].sum()
rent_sum['임대료 평균'] = rent_sum['전용면적별_임대료'] / rent_sum['전용면적별세대수']
rent = rent_sum[['단지코드', '임대료 평균']]
rent.head()





# 총 면적
detail_data['세대별총면적'] = detail_data['전용면적'] * detail_data['전용면적별세대수']

# 확인
detail_data.head()


# 단지별 총 면적
total_area = detail_data.groupby(['단지코드'], as_index=False)['세대별총면적'].sum()
total_area.head()











complex_data01 = pd.merge(complex_data, detail_data_pv, how='left', on='단지코드')
complex_data01.head()





complex_data02 = pd.merge(complex_data01, deposit, how='left', on='단지코드')
complex_data02.head()


complex_data03 = pd.merge(complex_data02, rent, how='left', on='단지코드')
complex_data03.head()


complex_data04 = pd.merge(complex_data03, total_area, how='left', on='단지코드')
complex_data04.head()








# 지역 확인
complex_data02['지역'].unique()


# 행 갯수 확인용 열 추가
complex_data02['count'] = 1


# 지역별 집계
complex_data03 = complex_data02.groupby(by='지역')[['count', '총세대수', '실차량수']].sum()


# 한국교통안전공단_전국 지역별 대중교통 이용 및 환승실태
k_pm = pd.read_csv('한국교통안전공단_전국 지역별 대중교통 이용 및 환승실태_20231231.csv', encoding='cp949', index_col='구분1')
k_pm.head()


# 1주간 대중교통 이용횟수를 이용량으로 가정하고 해당 행만 추출
k_pm_use = k_pm[:1].copy()
k_pm_use = k_pm_use.astype('float')


# '서울', '부산울산', '대구경북', '경기', '광주전남', '강원', '충북', '대전충남', '경남', '제주', '전북', '세종'
k_pm_use['부산울산'] = (k_pm_use['부산'] + k_pm_use['울산']) / 2 
k_pm_use['대구경북'] = (k_pm_use['대구'] + k_pm_use['경북']) / 2 
k_pm_use['광주전남'] = (k_pm_use['광주'] + k_pm_use['전남']) / 2 
k_pm_use['대전충남'] = (k_pm_use['대전'] + k_pm_use['충남']) / 2 

kpm_df = k_pm_use[['서울', '부산울산', '대구경북', '경기', '광주전남', '강원', '충북', '대전충남', '경남', '제주', '전북', '세종']].copy().transpose()
kpm_df = kpm_df.reset_index().rename(columns = {'index':'지역', '1주간대중교통이용횟수(회)': '지역주간대중교통이용횟수'})
kpm_df


complex_data04 = pd.merge(complex_data03, kpm_df, how='left', on='지역')[['지역', '지역주간대중교통이용횟수']]
complex_data04.head()


# 기존데이터셋과 합치기
complex_data05 = pd.merge(complex_data02, complex_data04, how='left', on='지역')

# 확인
complex_data05


complex_data05.columns


data.columns





# total_fee = 임대보증금 + 임대료
complex_data05['total_fee'] = data['임대보증금'] + data['임대료']

# 확인
complex_data05.head()


complex_data05['total_fee'].plot(kind='hist')





# price_per_area = 총면적 / total_fee
complex_data05['price_per_area'] = detail_data['세대별총면적'] / complex_data05['total_fee']

# 확인
complex_data05.head()


complex_data05['price_per_area'].describe()


# inf는 분모에 0이 들어가서,, 
data[['임대료', '임대보증금']].describe() #0따리가 포함되어있는 것을 알 수 있슴 그럼 삭제하고 하냐? ㄴㄴ 일단 keep going~ 0 아닌 값만 보면 댐








complex_data05[['총세대수']].describe().T


bin = [0, 500, 1000, np.inf] # 0이상~500미만, 500이상~1000미만
label = ['소형단지', '중형단지', '대단지']

complex_data05['단지구분'] = pd.cut(complex_data05['총세대수'], bins=bin, labels=label)

# 확인
display(complex_data05.head())
display(complex_data05['단지구분'].value_counts())








import joblib
joblib.dump(complex_data05, 'complex_data_total.pkl')






