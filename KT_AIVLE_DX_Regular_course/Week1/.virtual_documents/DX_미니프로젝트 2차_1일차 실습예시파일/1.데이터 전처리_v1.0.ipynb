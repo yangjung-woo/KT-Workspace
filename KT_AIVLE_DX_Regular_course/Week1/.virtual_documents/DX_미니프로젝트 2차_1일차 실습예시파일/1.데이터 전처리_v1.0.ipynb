

















import pandas as pd
import numpy as np
import matplotlib.pyplot as plt
import seaborn as sns

import joblib





import matplotlib.font_manager as fm

# 설치된 폰트
font_list = [font.name for font in fm.fontManager.ttflist]

# 맑은고딕이 있는지 확인
'Malgun Gothic' in font_list


plt.rcParams['font.family'] = 'Malgun Gothic'








path = ''








file = 'data.xlsx'


data = pd.read_excel(path + file)











#전체 데이터의 행,열 개수 확인
data.shape


#전체 데이터의 상위 5개 행 확인
data.head()


#전체 데이터의 모든 변수 확인
data.info()


# NaN 조사
data.isna().sum()





#전체 데이터의 수치형 변수 분포 확인
data.describe().T


# 단지 수
data['단지명'].unique().shape


# 범주별 종류 파악하기
print(data['건물형태'].unique())
print(data['난방방식'].unique())
print(data['승강기설치여부'].unique())
print(data['지역'].unique())








# 분석단위는 어떻게 결정하는게 적절할까요?
# 단지별!








# 전처리 전에 데이터셋 복사
data0 = data.copy()





data0.isna().sum()


# 준공일자에서 준공 연도 추출하기

## 준공일자를 문자열로 변환(.astype('str')하고, 앞에서 4자리를 잘라서(.str.slice()) 저장
data0['준공연도'] = data0['준공일자'].astype('str').str.slice(0, 4)

## NaN에 대한 조치 : 삭제? 채우기?
data0.loc[data0['준공연도'].isin(['nan', '1900','1111']), '준공연도'] = '1992'

## 준공 연도를 다시 int로 변환(.astype('int'))
data0['준공연도'] = data0['준공연도'].astype('int')











vars = ['단지내주차면수', '단지명', '준공일자']
data0.drop(vars, axis = 1, inplace = True)


data0.head()














# 데이터프레임에서 중복행을 제거하기 : df.drop_duplicates()
vars = ['단지코드', '총세대수', '지역', '준공연도', '건물형태', '난방방식', '승강기설치여부', '실차량수']
data01 = data0[vars].copy()
data01 = data01.drop_duplicates()
data01.head()


# 확인 : 단지 코드가 유니크해야 함.
temp = data01.groupby('단지코드', as_index = False)['총세대수'].count()
temp.columns = ['단지코드',	'count']
temp.loc[temp['count']>1] # 위 칼럼으로 중복 행 없음.





vars2 = ['단지코드', '전용면적별세대수','전용면적', '공급면적(공용)','임대보증금','임대료']
data02 = data0[vars2].copy()
data02.head()














temp = data02.loc[: , ['단지코드','전용면적','전용면적별세대수']]

print(temp['전용면적'].min(), temp['전용면적'].max())
sns.histplot(x = temp['전용면적'], bins = 12)
plt.show()


temp['전용면적_cut'] = pd.cut(temp['전용면적'], bins = [10,30,40,50,60,70, 80, 200]
                          , labels = ['전용면적_10_30','전용면적_30_40','전용면적_40_50','전용면적_50_60','전용면적_60_70','전용면적_70_80', '전용면적_80_200'])
temp.head()





temp.groupby(['단지코드', '전용면적_cut'], as_index = False)['전용면적별세대수'].sum()


temp2 = temp.groupby(['단지코드', '전용면적_cut'], as_index = False)['전용면적별세대수'].sum()





temp3 = temp2.pivot(index='단지코드', columns='전용면적_cut', values='전용면적별세대수')
temp3.reset_index(inplace = True)
temp3.head()





temp4 = data02.groupby('단지코드', as_index = False)[['임대보증금','임대료']].mean()
temp4





data02['총면적'] = data02['전용면적'] * data02['전용면적별세대수']


temp6 = data02.groupby(['단지코드'], as_index = False)['총면적'].sum()
temp6.head()











base_data = pd.merge(data01,temp6, how = 'left', on = '단지코드')
base_data = pd.merge(base_data,temp3, how = 'left', on = '단지코드')


base_data.head()





base_data = pd.merge(base_data,temp4, how = 'left', on = '단지코드')
base_data.head()























import joblib

joblib.dump(base_data, path + 'base_data.pkl')



