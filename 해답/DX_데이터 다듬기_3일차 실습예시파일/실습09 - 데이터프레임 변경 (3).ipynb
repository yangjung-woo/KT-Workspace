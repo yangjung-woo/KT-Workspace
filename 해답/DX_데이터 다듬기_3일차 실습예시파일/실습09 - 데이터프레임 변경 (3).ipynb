{
 "cells": [
  {
   "cell_type": "markdown",
   "metadata": {
    "id": "BFhIXgdYoYGp"
   },
   "source": [
    "<center><img src='https://raw.githubusercontent.com/Jangrae/img/master/title.png' width=500/></center>"
   ]
  },
  {
   "cell_type": "markdown",
   "metadata": {
    "id": "d6jVPeiR2MK_"
   },
   "source": [
    "<center><img src='https://raw.githubusercontent.com/Jangrae/img/master/practice.png' width=300/></center>"
   ]
  },
  {
   "cell_type": "markdown",
   "metadata": {
    "id": "PcLUjkq0wxpF"
   },
   "source": [
    "# 데이터프레임 변경 (3)"
   ]
  },
  {
   "cell_type": "markdown",
   "metadata": {
    "id": "_Wj4YWpI1nJN"
   },
   "source": [
    "1) 다음 요구사항에 맞게 하나의 코드셀에 순서대로 구문을 작성하고 확인하세요.\n",
    "\n",
    "- 1-1) pandas 라이브러리를 pd 별칭을 주어 불러오세요.\n",
    "- 1-2) 다음 경로의 파일을 읽어와 air 데이터프레임을 만드세요.\n",
    "\n",
    "    - 파일 경로: 'https://raw.githubusercontent.com/Jangrae/csv/master/airquality.csv'"
   ]
  },
  {
   "cell_type": "code",
   "execution_count": null,
   "metadata": {
    "id": "8hZaRpngVhlS"
   },
   "outputs": [],
   "source": [
    "# 1-1) 라이브러리 불러오기\n",
    "import pandas as pd\n",
    "\n",
    "# 1-2) 파일 읽어오기\n",
    "path = 'https://raw.githubusercontent.com/Jangrae/csv/master/airquality.csv'\n",
    "air = pd.read_csv(path)"
   ]
  },
  {
   "cell_type": "markdown",
   "metadata": {
    "id": "WAGgvzDv2klV"
   },
   "source": [
    "2) 상위 5개 행을 확인하세요."
   ]
  },
  {
   "cell_type": "code",
   "execution_count": null,
   "metadata": {
    "id": "vJwQEeOt2fSD"
   },
   "outputs": [],
   "source": [
    "# 상위 5개 확인\n",
    "air.head()"
   ]
  },
  {
   "cell_type": "markdown",
   "metadata": {
    "id": "UfnBDOrJPyYW"
   },
   "source": [
    "3) 각 열에 결측치가 얼마나 있는지 확인하세요."
   ]
  },
  {
   "cell_type": "code",
   "execution_count": null,
   "metadata": {
    "id": "sFKQKieUPyYW"
   },
   "outputs": [],
   "source": [
    "# 결측치 확인\n",
    "air.isnull().sum()"
   ]
  },
  {
   "cell_type": "markdown",
   "metadata": {
    "id": "3dl8Yof7sXFv"
   },
   "source": [
    "4) 다음 요구사항에 맞게 하나의 코드셀에 순서대로 구문을 작성하고 확인하세요.\n",
    "\n",
    "- 4-1) Month, Day 열을 한 번에 삭제하세요.\n",
    "- 4-2) Ozone, Solar.R 두 열 결측치를 바로 앞의 값으로 채우세요.\n",
    "- 4-3) 각 열에 결측치가 남아있는지 확인하세요."
   ]
  },
  {
   "cell_type": "code",
   "execution_count": null,
   "metadata": {
    "id": "rMLb6r445GSW",
    "scrolled": true
   },
   "outputs": [],
   "source": [
    "# 4-1) Month, Day 열 삭제\n",
    "air.drop(['Month', 'Day'], axis=1, inplace=True)\n",
    "\n",
    "# 4-2) 앞의 값으로 채우기\n",
    "air['Ozone'].fillna(method='ffill',  inplace=True)\n",
    "air['Solar.R'].fillna(method='ffill',  inplace=True)\n",
    "\n",
    "# 4-3) 결측치 존재 여부 확인\n",
    "air.isnull().sum()"
   ]
  },
  {
   "cell_type": "markdown",
   "metadata": {
    "id": "v-lLcRB0qz9H"
   },
   "source": [
    "5) 다음 요구사항에 맞게 순서대로 구문을 작성하고 확인하세요.\n",
    "\n",
    "- 5-1) 기술통계 정보에서 Temp 열의 25%, 50%, 75% 값을 조회해 q1, q2, q3 변수를 선언하세요.\n",
    "- 5-2) 아래 범위와 값을 참조해 'a' ~ 'd' 값을 갖는 TempGrp 열을 추가하세요.\n",
    "    - q1 이하 → 'a'\n",
    "    - q1 초과 q2 이하 → 'b'\n",
    "    - q2 초과 q3 이하 → 'c'\n",
    "    - q3 초과 → 'd'\n",
    "- 5-3) TempGrp 별 Ozone 평균을 집계하여 tmp 데이터프레임을 선언하세요.\n",
    "- 5-4) tmp 데이터프레임을 막대 그래프로 시각화해 확인하세요."
   ]
  },
  {
   "cell_type": "code",
   "execution_count": null,
   "metadata": {
    "id": "ILdEqjEXyThT"
   },
   "outputs": [],
   "source": [
    "# 5-1) 사분위수\n",
    "q1 = air['Temp'].describe()['25%']\n",
    "q2 = air['Temp'].describe()['50%']\n",
    "q3 = air['Temp'].describe()['75%']\n",
    "\n",
    "# 5-2)\n",
    "# 라이브러리 불러오기\n",
    "import numpy as np\n",
    "\n",
    "# 등급 구하기\n",
    "bin = [-np.inf, q1, q2, q3, np.inf]\n",
    "label = ['a', 'b', 'c', 'd']\n",
    "air['TempGrp'] = pd.cut(air['Temp'], bins=bin, labels=label)\n",
    "\n",
    "# 5-3) 평균\n",
    "tmp = air.groupby('TempGrp', as_index=False)['Ozone'].mean()\n",
    "\n",
    "# 5-4)\n",
    "# 라이브러리 불러오기\n",
    "import matplotlib.pyplot as plt\n",
    "\n",
    "# 시각화\n",
    "plt.bar(tmp['TempGrp'], tmp['Ozone'])\n",
    "plt.show()"
   ]
  }
 ],
 "metadata": {
  "colab": {
   "provenance": []
  },
  "kernelspec": {
   "display_name": "Python 3 (ipykernel)",
   "language": "python",
   "name": "python3"
  },
  "language_info": {
   "codemirror_mode": {
    "name": "ipython",
    "version": 3
   },
   "file_extension": ".py",
   "mimetype": "text/x-python",
   "name": "python",
   "nbconvert_exporter": "python",
   "pygments_lexer": "ipython3",
   "version": "3.10.9"
  }
 },
 "nbformat": 4,
 "nbformat_minor": 4
}
